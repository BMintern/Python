{
 "cells": [
  {
   "cell_type": "code",
   "execution_count": 1,
   "id": "152630b7",
   "metadata": {},
   "outputs": [
    {
     "name": "stdout",
     "output_type": "stream",
     "text": [
      "Requirement already satisfied: mercury in c:\\users\\pranay\\anaconda3\\lib\\site-packages (2.3.1)\n",
      "Requirement already satisfied: django==4.2 in c:\\users\\pranay\\anaconda3\\lib\\site-packages (from mercury) (4.2)\n",
      "Requirement already satisfied: djangorestframework==3.14.0 in c:\\users\\pranay\\anaconda3\\lib\\site-packages (from mercury) (3.14.0)\n",
      "Requirement already satisfied: django-filter==21.1 in c:\\users\\pranay\\anaconda3\\lib\\site-packages (from mercury) (21.1)\n",
      "Requirement already satisfied: markdown==3.3.6 in c:\\users\\pranay\\anaconda3\\lib\\site-packages (from mercury) (3.3.6)\n",
      "Requirement already satisfied: celery>=5.1.2 in c:\\users\\pranay\\anaconda3\\lib\\site-packages (from mercury) (5.3.0)\n",
      "Requirement already satisfied: sqlalchemy==1.4.27 in c:\\users\\pranay\\anaconda3\\lib\\site-packages (from mercury) (1.4.27)\n",
      "Requirement already satisfied: gevent in c:\\users\\pranay\\anaconda3\\lib\\site-packages (from mercury) (22.10.2)\n",
      "Requirement already satisfied: nbconvert>=6.5.0 in c:\\users\\pranay\\anaconda3\\lib\\site-packages (from mercury) (6.5.4)\n",
      "Requirement already satisfied: ipython-genutils in c:\\users\\pranay\\anaconda3\\lib\\site-packages (from mercury) (0.2.0)\n",
      "Requirement already satisfied: pyyaml==6.0 in c:\\users\\pranay\\anaconda3\\lib\\site-packages (from mercury) (6.0)\n",
      "Requirement already satisfied: django-cors-headers==3.10.1 in c:\\users\\pranay\\anaconda3\\lib\\site-packages (from mercury) (3.10.1)\n",
      "Requirement already satisfied: ipython>=7.30.1 in c:\\users\\pranay\\anaconda3\\lib\\site-packages (from mercury) (7.30.1)\n",
      "Requirement already satisfied: ipykernel>=6.6.0 in c:\\users\\pranay\\anaconda3\\lib\\site-packages (from mercury) (6.19.2)\n",
      "Requirement already satisfied: psutil>=5.8.0 in c:\\users\\pranay\\anaconda3\\lib\\site-packages (from mercury) (5.9.0)\n",
      "Requirement already satisfied: whitenoise>=5.3.0 in c:\\users\\pranay\\anaconda3\\lib\\site-packages (from mercury) (5.3.0)\n",
      "Requirement already satisfied: python-dotenv>=0.19.2 in c:\\users\\pranay\\anaconda3\\lib\\site-packages (from mercury) (0.19.2)\n",
      "Requirement already satisfied: django-drf-filepond==0.4.1 in c:\\users\\pranay\\anaconda3\\lib\\site-packages (from mercury) (0.4.1)\n",
      "Requirement already satisfied: croniter>=1.3.5 in c:\\users\\pranay\\anaconda3\\lib\\site-packages (from mercury) (1.3.15)\n",
      "Requirement already satisfied: pyppeteer==1.0.2 in c:\\users\\pranay\\anaconda3\\lib\\site-packages (from mercury) (1.0.2)\n",
      "Requirement already satisfied: channels[daphne]>=4.0.0 in c:\\users\\pranay\\anaconda3\\lib\\site-packages (from mercury) (4.0.0)\n",
      "Requirement already satisfied: websocket-client>=1.4.2 in c:\\users\\pranay\\anaconda3\\lib\\site-packages (from mercury) (1.5.3)\n",
      "Requirement already satisfied: execnb in c:\\users\\pranay\\anaconda3\\lib\\site-packages (from mercury) (0.1.5)\n",
      "Requirement already satisfied: ipywidgets==8.0.3 in c:\\users\\pranay\\anaconda3\\lib\\site-packages (from mercury) (8.0.3)\n",
      "Requirement already satisfied: dj-rest-auth[with_social]==3.0.0 in c:\\users\\pranay\\anaconda3\\lib\\site-packages (from mercury) (3.0.0)\n",
      "Requirement already satisfied: boto3==1.26.83 in c:\\users\\pranay\\anaconda3\\lib\\site-packages (from mercury) (1.26.83)\n",
      "Requirement already satisfied: cryptography in c:\\users\\pranay\\anaconda3\\lib\\site-packages (from mercury) (39.0.1)\n",
      "Requirement already satisfied: pyopenssl>=23.1.1 in c:\\users\\pranay\\anaconda3\\lib\\site-packages (from mercury) (23.2.0)\n",
      "Requirement already satisfied: botocore<1.30.0,>=1.29.83 in c:\\users\\pranay\\anaconda3\\lib\\site-packages (from boto3==1.26.83->mercury) (1.29.153)\n",
      "Requirement already satisfied: jmespath<2.0.0,>=0.7.1 in c:\\users\\pranay\\anaconda3\\lib\\site-packages (from boto3==1.26.83->mercury) (0.10.0)\n",
      "Requirement already satisfied: s3transfer<0.7.0,>=0.6.0 in c:\\users\\pranay\\anaconda3\\lib\\site-packages (from boto3==1.26.83->mercury) (0.6.1)\n",
      "Requirement already satisfied: django-allauth<0.53.0,>=0.40.0 in c:\\users\\pranay\\anaconda3\\lib\\site-packages (from dj-rest-auth[with_social]==3.0.0->mercury) (0.52.0)\n",
      "Requirement already satisfied: asgiref<4,>=3.6.0 in c:\\users\\pranay\\anaconda3\\lib\\site-packages (from django==4.2->mercury) (3.7.2)\n",
      "Requirement already satisfied: sqlparse>=0.3.1 in c:\\users\\pranay\\anaconda3\\lib\\site-packages (from django==4.2->mercury) (0.4.4)\n",
      "Requirement already satisfied: tzdata in c:\\users\\pranay\\anaconda3\\lib\\site-packages (from django==4.2->mercury) (2023.3)\n",
      "Requirement already satisfied: requests>=2.20.1 in c:\\users\\pranay\\anaconda3\\lib\\site-packages (from django-drf-filepond==0.4.1->mercury) (2.28.1)\n",
      "Requirement already satisfied: six>=1.14.0 in c:\\users\\pranay\\anaconda3\\lib\\site-packages (from django-drf-filepond==0.4.1->mercury) (1.16.0)\n",
      "Requirement already satisfied: shortuuid>=0.5.0 in c:\\users\\pranay\\anaconda3\\lib\\site-packages (from django-drf-filepond==0.4.1->mercury) (1.0.11)\n",
      "Requirement already satisfied: django-storages>=1.9.1 in c:\\users\\pranay\\anaconda3\\lib\\site-packages (from django-drf-filepond==0.4.1->mercury) (1.13.2)\n",
      "Requirement already satisfied: pytz in c:\\users\\pranay\\anaconda3\\lib\\site-packages (from djangorestframework==3.14.0->mercury) (2022.7)\n",
      "Requirement already satisfied: traitlets>=4.3.1 in c:\\users\\pranay\\anaconda3\\lib\\site-packages (from ipywidgets==8.0.3->mercury) (5.7.1)\n",
      "Requirement already satisfied: widgetsnbextension~=4.0 in c:\\users\\pranay\\anaconda3\\lib\\site-packages (from ipywidgets==8.0.3->mercury) (4.0.7)\n",
      "Requirement already satisfied: jupyterlab-widgets~=3.0 in c:\\users\\pranay\\anaconda3\\lib\\site-packages (from ipywidgets==8.0.3->mercury) (3.0.7)\n",
      "Requirement already satisfied: appdirs<2.0.0,>=1.4.3 in c:\\users\\pranay\\anaconda3\\lib\\site-packages (from pyppeteer==1.0.2->mercury) (1.4.4)\n",
      "Requirement already satisfied: certifi>=2021 in c:\\users\\pranay\\anaconda3\\lib\\site-packages (from pyppeteer==1.0.2->mercury) (2022.12.7)\n",
      "Requirement already satisfied: importlib-metadata>=1.4 in c:\\users\\pranay\\anaconda3\\lib\\site-packages (from pyppeteer==1.0.2->mercury) (4.11.3)\n",
      "Requirement already satisfied: pyee<9.0.0,>=8.1.0 in c:\\users\\pranay\\anaconda3\\lib\\site-packages (from pyppeteer==1.0.2->mercury) (8.2.2)\n",
      "Requirement already satisfied: tqdm<5.0.0,>=4.42.1 in c:\\users\\pranay\\anaconda3\\lib\\site-packages (from pyppeteer==1.0.2->mercury) (4.64.1)\n",
      "Requirement already satisfied: urllib3<2.0.0,>=1.25.8 in c:\\users\\pranay\\anaconda3\\lib\\site-packages (from pyppeteer==1.0.2->mercury) (1.26.14)\n",
      "Requirement already satisfied: websockets<11.0,>=10.0 in c:\\users\\pranay\\anaconda3\\lib\\site-packages (from pyppeteer==1.0.2->mercury) (10.4)\n",
      "Requirement already satisfied: greenlet!=0.4.17 in c:\\users\\pranay\\anaconda3\\lib\\site-packages (from sqlalchemy==1.4.27->mercury) (2.0.2)\n",
      "Requirement already satisfied: billiard<5.0,>=4.1.0 in c:\\users\\pranay\\anaconda3\\lib\\site-packages (from celery>=5.1.2->mercury) (4.1.0)\n",
      "Requirement already satisfied: click-didyoumean>=0.3.0 in c:\\users\\pranay\\anaconda3\\lib\\site-packages (from celery>=5.1.2->mercury) (0.3.0)\n",
      "Requirement already satisfied: click-plugins>=1.1.1 in c:\\users\\pranay\\anaconda3\\lib\\site-packages (from celery>=5.1.2->mercury) (1.1.1)\n",
      "Requirement already satisfied: click-repl>=0.2.0 in c:\\users\\pranay\\anaconda3\\lib\\site-packages (from celery>=5.1.2->mercury) (0.2.0)\n",
      "Requirement already satisfied: click<9.0,>=8.1.2 in c:\\users\\pranay\\anaconda3\\lib\\site-packages (from celery>=5.1.2->mercury) (8.1.3)\n",
      "Requirement already satisfied: kombu<6.0,>=5.3.0 in c:\\users\\pranay\\anaconda3\\lib\\site-packages (from celery>=5.1.2->mercury) (5.3.0)\n",
      "Requirement already satisfied: python-dateutil>=2.8.2 in c:\\users\\pranay\\anaconda3\\lib\\site-packages (from celery>=5.1.2->mercury) (2.8.2)\n",
      "Requirement already satisfied: vine<6.0,>=5.0.0 in c:\\users\\pranay\\anaconda3\\lib\\site-packages (from celery>=5.1.2->mercury) (5.0.0)\n",
      "Requirement already satisfied: daphne>=4.0.0 in c:\\users\\pranay\\anaconda3\\lib\\site-packages (from channels[daphne]>=4.0.0->mercury) (4.0.0)\n",
      "Requirement already satisfied: comm>=0.1.1 in c:\\users\\pranay\\anaconda3\\lib\\site-packages (from ipykernel>=6.6.0->mercury) (0.1.2)\n",
      "Requirement already satisfied: debugpy>=1.0 in c:\\users\\pranay\\anaconda3\\lib\\site-packages (from ipykernel>=6.6.0->mercury) (1.5.1)\n",
      "Requirement already satisfied: jupyter-client>=6.1.12 in c:\\users\\pranay\\anaconda3\\lib\\site-packages (from ipykernel>=6.6.0->mercury) (7.3.4)\n",
      "Requirement already satisfied: matplotlib-inline>=0.1 in c:\\users\\pranay\\anaconda3\\lib\\site-packages (from ipykernel>=6.6.0->mercury) (0.1.6)\n",
      "Requirement already satisfied: nest-asyncio in c:\\users\\pranay\\anaconda3\\lib\\site-packages (from ipykernel>=6.6.0->mercury) (1.5.6)\n",
      "Requirement already satisfied: packaging in c:\\users\\pranay\\anaconda3\\lib\\site-packages (from ipykernel>=6.6.0->mercury) (22.0)\n",
      "Requirement already satisfied: pyzmq>=17 in c:\\users\\pranay\\anaconda3\\lib\\site-packages (from ipykernel>=6.6.0->mercury) (23.2.0)\n",
      "Requirement already satisfied: tornado>=6.1 in c:\\users\\pranay\\anaconda3\\lib\\site-packages (from ipykernel>=6.6.0->mercury) (6.1)\n",
      "Requirement already satisfied: setuptools>=18.5 in c:\\users\\pranay\\anaconda3\\lib\\site-packages (from ipython>=7.30.1->mercury) (67.8.0)\n",
      "Requirement already satisfied: jedi>=0.16 in c:\\users\\pranay\\anaconda3\\lib\\site-packages (from ipython>=7.30.1->mercury) (0.18.1)\n",
      "Requirement already satisfied: decorator in c:\\users\\pranay\\anaconda3\\lib\\site-packages (from ipython>=7.30.1->mercury) (5.1.1)\n",
      "Requirement already satisfied: pickleshare in c:\\users\\pranay\\anaconda3\\lib\\site-packages (from ipython>=7.30.1->mercury) (0.7.5)\n",
      "Requirement already satisfied: prompt-toolkit!=3.0.0,!=3.0.1,<3.1.0,>=2.0.0 in c:\\users\\pranay\\anaconda3\\lib\\site-packages (from ipython>=7.30.1->mercury) (3.0.36)\n",
      "Requirement already satisfied: pygments in c:\\users\\pranay\\anaconda3\\lib\\site-packages (from ipython>=7.30.1->mercury) (2.11.2)\n",
      "Requirement already satisfied: backcall in c:\\users\\pranay\\anaconda3\\lib\\site-packages (from ipython>=7.30.1->mercury) (0.2.0)\n",
      "Requirement already satisfied: colorama in c:\\users\\pranay\\anaconda3\\lib\\site-packages (from ipython>=7.30.1->mercury) (0.4.6)\n",
      "Requirement already satisfied: lxml in c:\\users\\pranay\\anaconda3\\lib\\site-packages (from nbconvert>=6.5.0->mercury) (4.9.1)\n",
      "Requirement already satisfied: beautifulsoup4 in c:\\users\\pranay\\anaconda3\\lib\\site-packages (from nbconvert>=6.5.0->mercury) (4.11.1)\n",
      "Requirement already satisfied: bleach in c:\\users\\pranay\\anaconda3\\lib\\site-packages (from nbconvert>=6.5.0->mercury) (4.1.0)\n",
      "Requirement already satisfied: defusedxml in c:\\users\\pranay\\anaconda3\\lib\\site-packages (from nbconvert>=6.5.0->mercury) (0.7.1)\n",
      "Requirement already satisfied: entrypoints>=0.2.2 in c:\\users\\pranay\\anaconda3\\lib\\site-packages (from nbconvert>=6.5.0->mercury) (0.4)\n",
      "Requirement already satisfied: jinja2>=3.0 in c:\\users\\pranay\\anaconda3\\lib\\site-packages (from nbconvert>=6.5.0->mercury) (3.1.2)\n",
      "Requirement already satisfied: jupyter-core>=4.7 in c:\\users\\pranay\\anaconda3\\lib\\site-packages (from nbconvert>=6.5.0->mercury) (5.2.0)\n",
      "Requirement already satisfied: jupyterlab-pygments in c:\\users\\pranay\\anaconda3\\lib\\site-packages (from nbconvert>=6.5.0->mercury) (0.1.2)\n",
      "Requirement already satisfied: MarkupSafe>=2.0 in c:\\users\\pranay\\anaconda3\\lib\\site-packages (from nbconvert>=6.5.0->mercury) (2.1.1)\n",
      "Requirement already satisfied: mistune<2,>=0.8.1 in c:\\users\\pranay\\anaconda3\\lib\\site-packages (from nbconvert>=6.5.0->mercury) (0.8.4)\n",
      "Requirement already satisfied: nbclient>=0.5.0 in c:\\users\\pranay\\anaconda3\\lib\\site-packages (from nbconvert>=6.5.0->mercury) (0.5.13)\n",
      "Requirement already satisfied: nbformat>=5.1 in c:\\users\\pranay\\anaconda3\\lib\\site-packages (from nbconvert>=6.5.0->mercury) (5.7.0)\n",
      "Requirement already satisfied: pandocfilters>=1.4.1 in c:\\users\\pranay\\anaconda3\\lib\\site-packages (from nbconvert>=6.5.0->mercury) (1.5.0)\n",
      "Requirement already satisfied: tinycss2 in c:\\users\\pranay\\anaconda3\\lib\\site-packages (from nbconvert>=6.5.0->mercury) (1.2.1)\n",
      "Requirement already satisfied: cffi>=1.12 in c:\\users\\pranay\\anaconda3\\lib\\site-packages (from cryptography->mercury) (1.15.1)\n",
      "Requirement already satisfied: fastcore>=1.5.5 in c:\\users\\pranay\\anaconda3\\lib\\site-packages (from execnb->mercury) (1.5.29)\n",
      "Requirement already satisfied: zope.event in c:\\users\\pranay\\anaconda3\\lib\\site-packages (from gevent->mercury) (4.6)\n",
      "Requirement already satisfied: zope.interface in c:\\users\\pranay\\anaconda3\\lib\\site-packages (from gevent->mercury) (5.4.0)\n",
      "Requirement already satisfied: typing-extensions>=4 in c:\\users\\pranay\\anaconda3\\lib\\site-packages (from asgiref<4,>=3.6.0->django==4.2->mercury) (4.4.0)\n",
      "Requirement already satisfied: pycparser in c:\\users\\pranay\\anaconda3\\lib\\site-packages (from cffi>=1.12->cryptography->mercury) (2.21)\n",
      "Requirement already satisfied: twisted[tls]>=22.4 in c:\\users\\pranay\\anaconda3\\lib\\site-packages (from daphne>=4.0.0->channels[daphne]>=4.0.0->mercury) (22.10.0)\n",
      "Requirement already satisfied: autobahn>=22.4.2 in c:\\users\\pranay\\anaconda3\\lib\\site-packages (from daphne>=4.0.0->channels[daphne]>=4.0.0->mercury) (23.6.2)\n",
      "Requirement already satisfied: python3-openid>=3.0.8 in c:\\users\\pranay\\anaconda3\\lib\\site-packages (from django-allauth<0.53.0,>=0.40.0->dj-rest-auth[with_social]==3.0.0->mercury) (3.2.0)\n",
      "Requirement already satisfied: requests-oauthlib>=0.3.0 in c:\\users\\pranay\\anaconda3\\lib\\site-packages (from django-allauth<0.53.0,>=0.40.0->dj-rest-auth[with_social]==3.0.0->mercury) (1.3.1)\n",
      "Requirement already satisfied: pyjwt[crypto]>=1.7 in c:\\users\\pranay\\anaconda3\\lib\\site-packages (from django-allauth<0.53.0,>=0.40.0->dj-rest-auth[with_social]==3.0.0->mercury) (2.4.0)\n",
      "Requirement already satisfied: pip in c:\\users\\pranay\\anaconda3\\lib\\site-packages (from fastcore>=1.5.5->execnb->mercury) (23.1.2)\n",
      "Requirement already satisfied: zipp>=0.5 in c:\\users\\pranay\\anaconda3\\lib\\site-packages (from importlib-metadata>=1.4->pyppeteer==1.0.2->mercury) (3.11.0)\n",
      "Requirement already satisfied: parso<0.9.0,>=0.8.0 in c:\\users\\pranay\\anaconda3\\lib\\site-packages (from jedi>=0.16->ipython>=7.30.1->mercury) (0.8.3)\n",
      "Requirement already satisfied: platformdirs>=2.5 in c:\\users\\pranay\\anaconda3\\lib\\site-packages (from jupyter-core>=4.7->nbconvert>=6.5.0->mercury) (2.5.2)\n",
      "Requirement already satisfied: pywin32>=1.0 in c:\\users\\pranay\\anaconda3\\lib\\site-packages (from jupyter-core>=4.7->nbconvert>=6.5.0->mercury) (305.1)\n",
      "Requirement already satisfied: amqp<6.0.0,>=5.1.1 in c:\\users\\pranay\\anaconda3\\lib\\site-packages (from kombu<6.0,>=5.3.0->celery>=5.1.2->mercury) (5.1.1)\n",
      "Requirement already satisfied: fastjsonschema in c:\\users\\pranay\\anaconda3\\lib\\site-packages (from nbformat>=5.1->nbconvert>=6.5.0->mercury) (2.16.2)\n",
      "Requirement already satisfied: jsonschema>=2.6 in c:\\users\\pranay\\anaconda3\\lib\\site-packages (from nbformat>=5.1->nbconvert>=6.5.0->mercury) (4.17.3)\n",
      "Requirement already satisfied: wcwidth in c:\\users\\pranay\\anaconda3\\lib\\site-packages (from prompt-toolkit!=3.0.0,!=3.0.1,<3.1.0,>=2.0.0->ipython>=7.30.1->mercury) (0.2.5)\n",
      "Requirement already satisfied: charset-normalizer<3,>=2 in c:\\users\\pranay\\anaconda3\\lib\\site-packages (from requests>=2.20.1->django-drf-filepond==0.4.1->mercury) (2.0.4)\n",
      "Requirement already satisfied: idna<4,>=2.5 in c:\\users\\pranay\\anaconda3\\lib\\site-packages (from requests>=2.20.1->django-drf-filepond==0.4.1->mercury) (3.4)\n",
      "Requirement already satisfied: soupsieve>1.2 in c:\\users\\pranay\\anaconda3\\lib\\site-packages (from beautifulsoup4->nbconvert>=6.5.0->mercury) (2.3.2.post1)\n",
      "Requirement already satisfied: webencodings in c:\\users\\pranay\\anaconda3\\lib\\site-packages (from bleach->nbconvert>=6.5.0->mercury) (0.5.1)\n",
      "Requirement already satisfied: txaio>=21.2.1 in c:\\users\\pranay\\anaconda3\\lib\\site-packages (from autobahn>=22.4.2->daphne>=4.0.0->channels[daphne]>=4.0.0->mercury) (23.1.1)\n",
      "Requirement already satisfied: hyperlink>=21.0.0 in c:\\users\\pranay\\anaconda3\\lib\\site-packages (from autobahn>=22.4.2->daphne>=4.0.0->channels[daphne]>=4.0.0->mercury) (21.0.0)\n",
      "Requirement already satisfied: attrs>=17.4.0 in c:\\users\\pranay\\anaconda3\\lib\\site-packages (from jsonschema>=2.6->nbformat>=5.1->nbconvert>=6.5.0->mercury) (22.1.0)\n",
      "Requirement already satisfied: pyrsistent!=0.17.0,!=0.17.1,!=0.17.2,>=0.14.0 in c:\\users\\pranay\\anaconda3\\lib\\site-packages (from jsonschema>=2.6->nbformat>=5.1->nbconvert>=6.5.0->mercury) (0.18.0)\n",
      "Requirement already satisfied: oauthlib>=3.0.0 in c:\\users\\pranay\\anaconda3\\lib\\site-packages (from requests-oauthlib>=0.3.0->django-allauth<0.53.0,>=0.40.0->dj-rest-auth[with_social]==3.0.0->mercury) (3.2.2)\n",
      "Requirement already satisfied: constantly>=15.1 in c:\\users\\pranay\\anaconda3\\lib\\site-packages (from twisted[tls]>=22.4->daphne>=4.0.0->channels[daphne]>=4.0.0->mercury) (15.1.0)\n",
      "Requirement already satisfied: incremental>=21.3.0 in c:\\users\\pranay\\anaconda3\\lib\\site-packages (from twisted[tls]>=22.4->daphne>=4.0.0->channels[daphne]>=4.0.0->mercury) (21.3.0)\n",
      "Requirement already satisfied: Automat>=0.8.0 in c:\\users\\pranay\\anaconda3\\lib\\site-packages (from twisted[tls]>=22.4->daphne>=4.0.0->channels[daphne]>=4.0.0->mercury) (20.2.0)\n",
      "Requirement already satisfied: twisted-iocpsupport<2,>=1.0.2 in c:\\users\\pranay\\anaconda3\\lib\\site-packages (from twisted[tls]>=22.4->daphne>=4.0.0->channels[daphne]>=4.0.0->mercury) (1.0.2)\n",
      "Requirement already satisfied: service-identity>=18.1.0 in c:\\users\\pranay\\anaconda3\\lib\\site-packages (from twisted[tls]>=22.4->daphne>=4.0.0->channels[daphne]>=4.0.0->mercury) (18.1.0)\n",
      "Requirement already satisfied: pyasn1-modules in c:\\users\\pranay\\anaconda3\\lib\\site-packages (from service-identity>=18.1.0->twisted[tls]>=22.4->daphne>=4.0.0->channels[daphne]>=4.0.0->mercury) (0.2.8)\n",
      "Requirement already satisfied: pyasn1 in c:\\users\\pranay\\anaconda3\\lib\\site-packages (from service-identity>=18.1.0->twisted[tls]>=22.4->daphne>=4.0.0->channels[daphne]>=4.0.0->mercury) (0.4.8)\n",
      "Note: you may need to restart the kernel to use updated packages.\n"
     ]
    }
   ],
   "source": [
    "pip install mercury"
   ]
  },
  {
   "cell_type": "raw",
   "id": "d71bcaa4",
   "metadata": {},
   "source": [
    "---\n",
    "title: Exploring London Weather Data\n",
    "description: How to use mercury to create a web app\n",
    "show-code: False\n",
    "params:\n",
    "   year:\n",
    "      input: slider\n",
    "      label: Select year\n",
    "      value: 1952\n",
    "      min: 1952\n",
    "      max: 2018\n",
    "---"
   ]
  },
  {
   "cell_type": "code",
   "execution_count": 1,
   "id": "240382ca",
   "metadata": {},
   "outputs": [],
   "source": [
    "year = 1962"
   ]
  },
  {
   "cell_type": "markdown",
   "id": "d1d97923",
   "metadata": {},
   "source": [
    "## Exploring London Weather Data"
   ]
  },
  {
   "cell_type": "code",
   "execution_count": 2,
   "id": "5a702005",
   "metadata": {},
   "outputs": [],
   "source": [
    "import mercury as mr # for widgets\n",
    "import random # for random data generation\n",
    "from matplotlib import pyplot as plt # for chart"
   ]
  },
  {
   "cell_type": "code",
   "execution_count": 3,
   "id": "3f2614a0",
   "metadata": {},
   "outputs": [
    {
     "data": {
      "application/mercury+json": "{\n    \"widget\": \"Text\",\n    \"value\": \"Piotr\",\n    \"rows\": 1,\n    \"label\": \"What is your name?\",\n    \"model_id\": \"f5fb2e8500674d688aa649d5a34d7cac\",\n    \"code_uid\": \"Text.0.40.15.1-randde7cc9c6\",\n    \"url_key\": \"\",\n    \"disabled\": false,\n    \"hidden\": false\n}",
      "application/vnd.jupyter.widget-view+json": {
       "model_id": "f5fb2e8500674d688aa649d5a34d7cac",
       "version_major": 2,
       "version_minor": 0
      },
      "text/plain": [
       "mercury.Text"
      ]
     },
     "metadata": {},
     "output_type": "display_data"
    }
   ],
   "source": [
    "app = mr.App(title=\"Hello in Mercury!\", description=\"Samples app in Mercury\")"
   ]
  },
  {
   "cell_type": "code",
   "execution_count": 10,
   "id": "8aae277f",
   "metadata": {},
   "outputs": [],
   "source": [
    "import numpy as np\n",
    "import pandas as pd\n",
    "\n",
    "weather=pd.read_csv('heathrowDataFiltered.csv')"
   ]
  },
  {
   "cell_type": "code",
   "execution_count": 9,
   "id": "3a72ce71",
   "metadata": {},
   "outputs": [
    {
     "name": "stdout",
     "output_type": "stream",
     "text": [
      "Monthly maximum temperatures for 1962\n"
     ]
    },
    {
     "data": {
      "image/png": "[encoded data removed]",
      "text/plain": [
       "<Figure size 640x480 with 1 Axes>"
      ]
     },
     "metadata": {},
     "output_type": "display_data"
    }
   ],
   "source": [
    "weather[weather['Year']==year].plot(y='Tmax', x='Month',    \n",
    "   legend=False)\n",
    "print(f\"Monthly maximum temperatures for {year}\")"
   ]
  },
  {
   "cell_type": "code",
   "execution_count": null,
   "id": "32569d50",
   "metadata": {},
   "outputs": [],
   "source": []
  },
  {
   "cell_type": "code",
   "execution_count": null,
   "id": "50c3f200",
   "metadata": {},
   "outputs": [],
   "source": []
  }
 ],
 "metadata": {
  "kernelspec": {
   "display_name": "Python 3 (ipykernel)",
   "language": "python",
   "name": "python3"
  },
  "language_info": {
   "codemirror_mode": {
    "name": "ipython",
    "version": 3
   },
   "file_extension": ".py",
   "mimetype": "text/x-python",
   "name": "python",
   "nbconvert_exporter": "python",
   "pygments_lexer": "ipython3",
   "version": "3.10.9"
  }
 },
 "nbformat": 4,
 "nbformat_minor": 5
}
