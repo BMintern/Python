{
 "cells": [
  {
   "cell_type": "markdown",
   "id": "6faf2236",
   "metadata": {},
   "source": [
    "# Classes & Objects"
   ]
  },
  {
   "cell_type": "markdown",
   "id": "8b139455",
   "metadata": {},
   "source": [
    "## Classes:\n",
    "\n",
    "A class is a collection of instance variables and related methods that define a particular object type.\n",
    "\n",
    "Class is an object's blueprint or template.\n",
    "\n",
    "Attributes are the names given to the variables that make up a class."
   ]
  },
  {
   "cell_type": "markdown",
   "id": "3e8b8e3f",
   "metadata": {},
   "source": [
    "## Objects:\n",
    "A class instance with a defined set of properties is called an object"
   ]
  },
  {
   "cell_type": "markdown",
   "id": "24f9190b",
   "metadata": {},
   "source": [
    "Let’s define a class named Book for a bookseller’s sales software."
   ]
  },
  {
   "cell_type": "code",
   "execution_count": 2,
   "id": "3bf91cad",
   "metadata": {},
   "outputs": [],
   "source": [
    "class Book:\n",
    "    def __init__(self, title, quantity, author, price):\n",
    "        self.title = title\n",
    "        self.quantity = quantity\n",
    "        self.author = author\n",
    "        self.price = price"
   ]
  },
  {
   "cell_type": "code",
   "execution_count": 3,
   "id": "4bbf160b",
   "metadata": {},
   "outputs": [],
   "source": [
    "book1 = Book('Book 1', 12, 'Author 1', 120)\n",
    "book2 = Book('Book 2', 18, 'Author 2', 220)\n",
    "book3 = Book('Book 3', 28, 'Author 3', 320)"
   ]
  },
  {
   "cell_type": "markdown",
   "id": "58f64742",
   "metadata": {},
   "source": [
    "book1, book2 and book3 are distinct objects of the class Book.\n",
    "The term self in the attributes refers to the corresponding instances (objects)."
   ]
  },
  {
   "cell_type": "code",
   "execution_count": 7,
   "id": "e59bdd72",
   "metadata": {},
   "outputs": [
    {
     "name": "stdout",
     "output_type": "stream",
     "text": [
      "<__main__.Book object at 0x000001E43941BFD0>\n",
      "<__main__.Book object at 0x000001E439419DB0>\n",
      "<__main__.Book object at 0x000001E43941AE90>\n"
     ]
    }
   ],
   "source": [
    "print(book1)\n",
    "print(book2)\n",
    "print(book3)"
   ]
  },
  {
   "cell_type": "markdown",
   "id": "fb54080f",
   "metadata": {},
   "source": [
    "The class and memory location of the objects are printed when they are printed. We can't expect them to provide specific information on the qualities, such as the title, author name, and so on.\n",
    "\n",
    "But we can use a specific method called __repr__ to do this."
   ]
  },
  {
   "cell_type": "code",
   "execution_count": 8,
   "id": "8db1087a",
   "metadata": {},
   "outputs": [
    {
     "name": "stdout",
     "output_type": "stream",
     "text": [
      "Book: Book 1, Quantity: 12, Author: Author 1, Price: 120\n",
      "Book: Book 2, Quantity: 18, Author: Author 2, Price: 220\n",
      "Book: Book 3, Quantity: 28, Author: Author 3, Price: 320\n"
     ]
    }
   ],
   "source": [
    "class Book:\n",
    "    def __init__(self, title, quantity, author, price):\n",
    "        self.title = title\n",
    "        self.quantity = quantity\n",
    "        self.author = author\n",
    "        self.price = price\n",
    "\n",
    "    def __repr__(self):\n",
    "        return f\"Book: {self.title}, Quantity: {self.quantity}, Author: {self.author}, Price: {self.price}\"\n",
    "\n",
    "\n",
    "book1 = Book('Book 1', 12, 'Author 1', 120)\n",
    "book2 = Book('Book 2', 18, 'Author 2', 220)\n",
    "book3 = Book('Book 3', 28, 'Author 3', 320)\n",
    "\n",
    "print(book1)\n",
    "print(book2)\n",
    "print(book3)"
   ]
  },
  {
   "cell_type": "markdown",
   "id": "3c27fc85",
   "metadata": {},
   "source": [
    "# Encapsulation:\n",
    "Encapsulation is the process of preventing clients from accessing certain properties, which can only be accessed through specific methods.\n",
    "\n",
    "Private attributes are inaccessible attributes, and information hiding is the process of making particular attributes private.\n",
    "\n",
    "You use two underscores to declare private characteristics."
   ]
  },
  {
   "cell_type": "code",
   "execution_count": 25,
   "id": "9ff205ca",
   "metadata": {},
   "outputs": [],
   "source": [
    "#Let's introduce a private attribute called __discount in the Book class."
   ]
  },
  {
   "cell_type": "code",
   "execution_count": 28,
   "id": "89da5e66",
   "metadata": {},
   "outputs": [
    {
     "name": "stdout",
     "output_type": "stream",
     "text": [
      "Book 1\n",
      "12\n",
      "Author 1\n",
      "120\n"
     ]
    },
    {
     "ename": "AttributeError",
     "evalue": "'Book' object has no attribute '__discount'",
     "output_type": "error",
     "traceback": [
      "\u001b[1;31m---------------------------------------------------------------------------\u001b[0m",
      "\u001b[1;31mAttributeError\u001b[0m                            Traceback (most recent call last)",
      "\u001b[1;32m~\\AppData\\Local\\Temp\\ipykernel_5452\\4115513528.py\u001b[0m in \u001b[0;36m<module>\u001b[1;34m\u001b[0m\n\u001b[0;32m     17\u001b[0m \u001b[0mprint\u001b[0m\u001b[1;33m(\u001b[0m\u001b[0mbook1\u001b[0m\u001b[1;33m.\u001b[0m\u001b[0mauthor\u001b[0m\u001b[1;33m)\u001b[0m\u001b[1;33m\u001b[0m\u001b[1;33m\u001b[0m\u001b[0m\n\u001b[0;32m     18\u001b[0m \u001b[0mprint\u001b[0m\u001b[1;33m(\u001b[0m\u001b[0mbook1\u001b[0m\u001b[1;33m.\u001b[0m\u001b[0mprice\u001b[0m\u001b[1;33m)\u001b[0m\u001b[1;33m\u001b[0m\u001b[1;33m\u001b[0m\u001b[0m\n\u001b[1;32m---> 19\u001b[1;33m \u001b[0mprint\u001b[0m\u001b[1;33m(\u001b[0m\u001b[0mbook1\u001b[0m\u001b[1;33m.\u001b[0m\u001b[0m__discount\u001b[0m\u001b[1;33m)\u001b[0m\u001b[1;33m\u001b[0m\u001b[1;33m\u001b[0m\u001b[0m\n\u001b[0m",
      "\u001b[1;31mAttributeError\u001b[0m: 'Book' object has no attribute '__discount'"
     ]
    }
   ],
   "source": [
    "class Book:\n",
    "    def __init__(self, title, quantity, author, price):\n",
    "        self.title = title\n",
    "        self.quantity = quantity\n",
    "        self.author = author\n",
    "        self.price = price\n",
    "        self.__discount = 0.10\n",
    "\n",
    "    def __repr__(self):\n",
    "        return f\"Book: {self.title}, Quantity: {self.quantity}, Author: {self.author}, Price: {self.price}\"\n",
    "\n",
    "\n",
    "book1 = Book('Book 1', 12, 'Author 1', 120)\n",
    "\n",
    "print(book1.title)\n",
    "print(book1.quantity)\n",
    "print(book1.author)\n",
    "print(book1.price)\n",
    "print(book1.__discount)"
   ]
  },
  {
   "cell_type": "markdown",
   "id": "fb63bbc2",
   "metadata": {},
   "source": [
    "We can see that all the attributes are printed except the private attribute __discount.\n",
    "\n",
    "You use getter and setter methods to access private attributes."
   ]
  },
  {
   "cell_type": "markdown",
   "id": "0c0da4c0",
   "metadata": {},
   "source": [
    "We make the price property private in the following code example, and we use a setter method to assign the discount attribute and a getter function to get the price attribute."
   ]
  },
  {
   "cell_type": "code",
   "execution_count": 14,
   "id": "a1001da1",
   "metadata": {},
   "outputs": [],
   "source": [
    "class Book:\n",
    "    def __init__(self, title, quantity, author, price):\n",
    "        self.title = title\n",
    "        self.quantity = quantity\n",
    "        self.author = author\n",
    "        self.__price = price\n",
    "        self.__discount = None\n",
    "\n",
    "    def set_discount(self, discount):\n",
    "        self.__discount = discount\n",
    "\n",
    "    def get_price(self):\n",
    "        if self.__discount:\n",
    "            return self.__price * (1-self.__discount)\n",
    "        return self.__price\n",
    "\n",
    "    def __repr__(self):\n",
    "        return f\"Book: {self.title}, Quantity: {self.quantity}, Author: {self.author}, Price: {self.get_price()}\""
   ]
  },
  {
   "cell_type": "markdown",
   "id": "a6516b97",
   "metadata": {},
   "source": [
    "This time we'll create two objects, one for the purchase of single book and another for the purchase of books in bulk quantity. While purchasing books in bulk quantity, we get a discount of 20%, so we'll use the set_discount() method to set the discount to 20% in that case."
   ]
  },
  {
   "cell_type": "code",
   "execution_count": 15,
   "id": "ec5bd307",
   "metadata": {},
   "outputs": [
    {
     "name": "stdout",
     "output_type": "stream",
     "text": [
      "200\n",
      "160.0\n",
      "Book: Two States, Quantity: 1, Author: Chetan Bhagat, Price: 200\n",
      "Book: Two States, Quantity: 25, Author: Chetan Bhagat, Price: 160.0\n"
     ]
    }
   ],
   "source": [
    "single_book = Book('Two States', 1, 'Chetan Bhagat', 200)\n",
    "\n",
    "bulk_books = Book('Two States', 25, 'Chetan Bhagat', 200)\n",
    "bulk_books.set_discount(0.20)\n",
    "\n",
    "print(single_book.get_price())\n",
    "print(bulk_books.get_price())\n",
    "print(single_book)\n",
    "print(bulk_books)"
   ]
  },
  {
   "cell_type": "markdown",
   "id": "dea81f41",
   "metadata": {},
   "source": [
    "# Inheritance:\n",
    "A class's ability to inherit methods and/or characteristics from another class is known as inheritance.\n",
    "\n",
    "The subclass or child class is the class that inherits. The superclass or parent class is the class from which methods and/or attributes are inherited."
   ]
  },
  {
   "cell_type": "code",
   "execution_count": 16,
   "id": "bc9b0f14",
   "metadata": {},
   "outputs": [],
   "source": [
    "class Book:\n",
    "    def __init__(self, title, quantity, author, price):\n",
    "        self.title = title\n",
    "        self.quantity = quantity\n",
    "        self.author = author\n",
    "        self.__price = price\n",
    "        self.__discount = None\n",
    "\n",
    "    def set_discount(self, discount):\n",
    "        self.__discount = discount\n",
    "\n",
    "    def get_price(self):\n",
    "        if self.__discount:\n",
    "            return self.__price * (1-self.__discount)\n",
    "        return self.__price\n",
    "\n",
    "    def __repr__(self):\n",
    "        return f\"Book: {self.title}, Quantity: {self.quantity}, Author: {self.author}, Price: {self.get_price()}\"\n",
    "\n",
    "\n",
    "class Novel(Book):\n",
    "    def __init__(self, title, quantity, author, price, pages):\n",
    "        super().__init__(title, quantity, author, price)\n",
    "        self.pages = pages\n",
    "\n",
    "\n",
    "class Academic(Book):\n",
    "    def __init__(self, title, quantity, author, price, branch):\n",
    "        super().__init__(title, quantity, author, price)\n",
    "        self.branch = branch"
   ]
  },
  {
   "cell_type": "code",
   "execution_count": 17,
   "id": "765c47d6",
   "metadata": {},
   "outputs": [
    {
     "name": "stdout",
     "output_type": "stream",
     "text": [
      "Book: Two States, Quantity: 20, Author: Chetan Bhagat, Price: 160.0\n",
      "Book: Python Foundations, Quantity: 12, Author: PSF, Price: 655\n"
     ]
    }
   ],
   "source": [
    "novel1 = Novel('Two States', 20, 'Chetan Bhagat', 200, 187)\n",
    "novel1.set_discount(0.20)\n",
    "\n",
    "academic1 = Academic('Python Foundations', 12, 'PSF', 655, 'IT')\n",
    "\n",
    "print(novel1)\n",
    "print(academic1)"
   ]
  },
  {
   "cell_type": "markdown",
   "id": "766a378a",
   "metadata": {},
   "source": [
    "# Polymorphism:"
   ]
  },
  {
   "cell_type": "markdown",
   "id": "5716e2d7",
   "metadata": {},
   "source": [
    "Polymorphism refers to a subclass's ability to adapt a method that already exists in its superclass to meet its needs. \n",
    "To put it another way, a subclass can use a method from its superclass as is or modify it as needed."
   ]
  },
  {
   "cell_type": "code",
   "execution_count": 19,
   "id": "fe1060bf",
   "metadata": {},
   "outputs": [],
   "source": [
    "class Academic(Book):\n",
    "    def __init__(self, title, quantity, author, price, branch):\n",
    "        super().__init__(title, quantity, author, price)\n",
    "        self.branch = branch\n",
    "\n",
    "    def __repr__(self):\n",
    "        return f\"Book: {self.title}, Branch: {self.branch}, Quantity: {self.quantity}, Author: {self.author}, Price: {self.get_price()}\""
   ]
  },
  {
   "cell_type": "markdown",
   "id": "89127326",
   "metadata": {},
   "source": [
    "The Book superclass has a specific method called __repr__. This method can be used by subclass Novel so that it is called whenever an object is printed.\n",
    "\n",
    "The Academic subclass, on the other hand, is defined with its own __repr__ special function in the example code above. The Academic subclass will invoke its own method by suppressing the same method present in its superclass, thanks to polymorphism."
   ]
  },
  {
   "cell_type": "code",
   "execution_count": 23,
   "id": "e3e45a56",
   "metadata": {},
   "outputs": [
    {
     "name": "stdout",
     "output_type": "stream",
     "text": [
      "Book: Two States, Quantity: 20, Author: Chetan Bhagat, Price: 160.0\n",
      "Book: Python Foundations, Branch: IT, Quantity: 12, Author: PSF, Price: 655\n"
     ]
    }
   ],
   "source": [
    "novel1 = Novel('Two States', 20, 'Chetan Bhagat', 200, 187)\n",
    "novel1.set_discount(0.20)\n",
    "\n",
    "academic1 = Academic('Python Foundations', 12, 'PSF', 655, 'IT')\n",
    "\n",
    "print(novel1)\n",
    "print(academic1)"
   ]
  },
  {
   "cell_type": "markdown",
   "id": "6c055b12",
   "metadata": {},
   "source": [
    "# Abstraction:"
   ]
  },
  {
   "cell_type": "markdown",
   "id": "669035d3",
   "metadata": {},
   "source": [
    "If an abstract method is declared in a superclass, subclasses that inherit from the superclass must have their own implementation of the method.\n",
    "\n",
    "A superclass's abstract method will never be called by its subclasses. But the abstraction aids in the maintenance of a similar structure across all subclasses.\n",
    "\n",
    "In our parent class Book, we have defined the __repr__ method. Let's make that method abstract, forcing every subclass to compulsorily have its own __repr__ method."
   ]
  },
  {
   "cell_type": "code",
   "execution_count": 29,
   "id": "39639efa",
   "metadata": {},
   "outputs": [
    {
     "ename": "TypeError",
     "evalue": "Can't instantiate abstract class Novel with abstract method __repr__",
     "output_type": "error",
     "traceback": [
      "\u001b[1;31m---------------------------------------------------------------------------\u001b[0m",
      "\u001b[1;31mTypeError\u001b[0m                                 Traceback (most recent call last)",
      "\u001b[1;32m~\\AppData\\Local\\Temp\\ipykernel_5452\\2439265343.py\u001b[0m in \u001b[0;36m<module>\u001b[1;34m\u001b[0m\n\u001b[0;32m     38\u001b[0m \u001b[1;33m\u001b[0m\u001b[0m\n\u001b[0;32m     39\u001b[0m \u001b[1;33m\u001b[0m\u001b[0m\n\u001b[1;32m---> 40\u001b[1;33m \u001b[0mnovel1\u001b[0m \u001b[1;33m=\u001b[0m \u001b[0mNovel\u001b[0m\u001b[1;33m(\u001b[0m\u001b[1;34m'Two States'\u001b[0m\u001b[1;33m,\u001b[0m \u001b[1;36m20\u001b[0m\u001b[1;33m,\u001b[0m \u001b[1;34m'Chetan Bhagat'\u001b[0m\u001b[1;33m,\u001b[0m \u001b[1;36m200\u001b[0m\u001b[1;33m,\u001b[0m \u001b[1;36m187\u001b[0m\u001b[1;33m)\u001b[0m\u001b[1;33m\u001b[0m\u001b[1;33m\u001b[0m\u001b[0m\n\u001b[0m\u001b[0;32m     41\u001b[0m \u001b[0mnovel1\u001b[0m\u001b[1;33m.\u001b[0m\u001b[0mset_discount\u001b[0m\u001b[1;33m(\u001b[0m\u001b[1;36m0.20\u001b[0m\u001b[1;33m)\u001b[0m\u001b[1;33m\u001b[0m\u001b[1;33m\u001b[0m\u001b[0m\n\u001b[0;32m     42\u001b[0m \u001b[1;33m\u001b[0m\u001b[0m\n",
      "\u001b[1;31mTypeError\u001b[0m: Can't instantiate abstract class Novel with abstract method __repr__"
     ]
    }
   ],
   "source": [
    "from abc import ABC, abstractmethod\n",
    "\n",
    "\n",
    "class Book(ABC):\n",
    "    def __init__(self, title, quantity, author, price):\n",
    "        self.title = title\n",
    "        self.quantity = quantity\n",
    "        self.author = author\n",
    "        self.__price = price\n",
    "        self.__discount = None\n",
    "\n",
    "    def set_discount(self, discount):\n",
    "        self.__discount = discount\n",
    "\n",
    "    def get_price(self):\n",
    "        if self.__discount:\n",
    "            return self.__price * (1-self.__discount)\n",
    "        return self.__price\n",
    "\n",
    "    @abstractmethod\n",
    "    def __repr__(self):\n",
    "        return f\"Book: {self.title}, Quantity: {self.quantity}, Author: {self.author}, Price: {self.get_price()}\"\n",
    "\n",
    "\n",
    "class Novel(Book):\n",
    "    def __init__(self, title, quantity, author, price, pages):\n",
    "        super().__init__(title, quantity, author, price)\n",
    "        self.pages = pages\n",
    "\n",
    "\n",
    "class Academic(Book):\n",
    "    def __init__(self, title, quantity, author, price, branch):\n",
    "        super().__init__(title, quantity, author, price)\n",
    "        self.branch = branch\n",
    "\n",
    "    def __repr__(self):\n",
    "        return f\"Book: {self.title}, Branch: {self.branch}, Quantity: {self.quantity}, Author: {self.author}, Price: {self.get_price()}\"\n",
    "\n",
    "\n",
    "novel1 = Novel('Two States', 20, 'Chetan Bhagat', 200, 187)\n",
    "novel1.set_discount(0.20)\n",
    "\n",
    "academic1 = Academic('Python Foundations', 12, 'PSF', 655, 'IT')\n",
    "\n",
    "print(novel1)\n",
    "print(academic1)"
   ]
  },
  {
   "cell_type": "markdown",
   "id": "2609d40e",
   "metadata": {},
   "source": [
    "In the above code, we have inherited the ABC class to create the Book class. We've made the __repr__ method abstract by adding the @abstractmethod decorator.\n",
    "\n",
    "While creating the Novel class, we intentionally missed the implementation of the __repr__ method to see what happens."
   ]
  },
  {
   "cell_type": "markdown",
   "id": "1d375ddd",
   "metadata": {},
   "source": [
    "We get a TypeError saying we cannot instantiate object of the Novel class. Let's add the implementation of the __repr__ method and see what happens now."
   ]
  },
  {
   "cell_type": "code",
   "execution_count": 30,
   "id": "970dd60e",
   "metadata": {},
   "outputs": [],
   "source": [
    "class Novel(Book):\n",
    "    def __init__(self, title, quantity, author, price, pages):\n",
    "        super().__init__(title, quantity, author, price)\n",
    "        self.pages = pages\n",
    "\n",
    "    def __repr__(self):\n",
    "        return f\"Book: {self.title}, Quantity: {self.quantity}, Author: {self.author}, Price: {self.get_price()}\""
   ]
  },
  {
   "cell_type": "markdown",
   "id": "69018f79",
   "metadata": {},
   "source": [
    "# Method Overloading:\n",
    "It simply refers to the use of many methods with the same name that take various numbers of arguments within a single class."
   ]
  },
  {
   "cell_type": "code",
   "execution_count": 31,
   "id": "7beff8f3",
   "metadata": {},
   "outputs": [
    {
     "ename": "TypeError",
     "evalue": "OverloadingDemo.add() missing 1 required positional argument: 'z'",
     "output_type": "error",
     "traceback": [
      "\u001b[1;31m---------------------------------------------------------------------------\u001b[0m",
      "\u001b[1;31mTypeError\u001b[0m                                 Traceback (most recent call last)",
      "\u001b[1;32m~\\AppData\\Local\\Temp\\ipykernel_5452\\2346953816.py\u001b[0m in \u001b[0;36m<module>\u001b[1;34m\u001b[0m\n\u001b[0;32m      8\u001b[0m \u001b[1;33m\u001b[0m\u001b[0m\n\u001b[0;32m      9\u001b[0m \u001b[0mobj\u001b[0m \u001b[1;33m=\u001b[0m \u001b[0mOverloadingDemo\u001b[0m\u001b[1;33m(\u001b[0m\u001b[1;33m)\u001b[0m\u001b[1;33m\u001b[0m\u001b[1;33m\u001b[0m\u001b[0m\n\u001b[1;32m---> 10\u001b[1;33m \u001b[0mobj\u001b[0m\u001b[1;33m.\u001b[0m\u001b[0madd\u001b[0m\u001b[1;33m(\u001b[0m\u001b[1;36m2\u001b[0m\u001b[1;33m,\u001b[0m \u001b[1;36m3\u001b[0m\u001b[1;33m)\u001b[0m\u001b[1;33m\u001b[0m\u001b[1;33m\u001b[0m\u001b[0m\n\u001b[0m",
      "\u001b[1;31mTypeError\u001b[0m: OverloadingDemo.add() missing 1 required positional argument: 'z'"
     ]
    }
   ],
   "source": [
    "class OverloadingDemo:\n",
    "    def add(self, x, y):\n",
    "        print(x+y)\n",
    "\n",
    "    def add(self, x, y, z):\n",
    "        print(x+y+z)\n",
    "\n",
    "\n",
    "obj = OverloadingDemo()\n",
    "obj.add(2, 3)"
   ]
  },
  {
   "cell_type": "markdown",
   "id": "feda1ff7",
   "metadata": {},
   "source": [
    "You're probably wondering why this happened. As a result, the error is displayed because Python only remembers the most recent definition of add(self, x, y, z), which takes three parameters in addition to self. As a result, three arguments must be passed to the add() method when it is called. To put it another way, it disregards the prior definition of add().\n",
    "\n",
    "Thus, Python doesn't support Method Overloading by default."
   ]
  },
  {
   "cell_type": "markdown",
   "id": "b0613c13",
   "metadata": {},
   "source": [
    "# Method Overriding:\n",
    "When a method with the same name and arguments is used in both a derived class and a base or super class, we say that the derived class method \"overrides\" the method provided in the base class.\n",
    "\n",
    "When the overridden method gets called, the derived class's method is always invoked. The method that was used in the base class is now hidden"
   ]
  },
  {
   "cell_type": "code",
   "execution_count": 32,
   "id": "84f0bb4c",
   "metadata": {},
   "outputs": [
    {
     "name": "stdout",
     "output_type": "stream",
     "text": [
      "I am parent class\n",
      "I am child class\n"
     ]
    }
   ],
   "source": [
    "class ParentClass:\n",
    "    def call_me(self):\n",
    "        print(\"I am parent class\")\n",
    "\n",
    "\n",
    "class ChildClass(ParentClass):\n",
    "    def call_me(self):\n",
    "        print(\"I am child class\")\n",
    "\n",
    "pobj = ParentClass()\n",
    "pobj.call_me()\n",
    "\n",
    "cobj = ChildClass()\n",
    "cobj.call_me()"
   ]
  },
  {
   "cell_type": "markdown",
   "id": "41e921cf",
   "metadata": {},
   "source": [
    "In the above code, when the call_me() method was called on the child object, the call_me() from the child class was invoked.\n",
    "\n",
    "We can invoke the parent class's call_me() method from the child class using super(), like this:"
   ]
  },
  {
   "cell_type": "code",
   "execution_count": 33,
   "id": "79887cdc",
   "metadata": {},
   "outputs": [
    {
     "name": "stdout",
     "output_type": "stream",
     "text": [
      "I am parent class\n",
      "I am child class\n",
      "I am parent class\n"
     ]
    }
   ],
   "source": [
    "class ParentClass:\n",
    "    def call_me(self):\n",
    "        print(\"I am parent class\")\n",
    "\n",
    "\n",
    "class ChildClass(ParentClass):\n",
    "    def call_me(self):\n",
    "        print(\"I am child class\")\n",
    "        super().call_me()\n",
    "\n",
    "pobj = ParentClass()\n",
    "pobj.call_me()\n",
    "\n",
    "cobj = ChildClass()\n",
    "cobj.call_me()"
   ]
  },
  {
   "cell_type": "code",
   "execution_count": null,
   "id": "289ba409",
   "metadata": {},
   "outputs": [],
   "source": []
  }
 ],
 "metadata": {
  "kernelspec": {
   "display_name": "Python 3 (ipykernel)",
   "language": "python",
   "name": "python3"
  },
  "language_info": {
   "codemirror_mode": {
    "name": "ipython",
    "version": 3
   },
   "file_extension": ".py",
   "mimetype": "text/x-python",
   "name": "python",
   "nbconvert_exporter": "python",
   "pygments_lexer": "ipython3",
   "version": "3.10.9"
  }
 },
 "nbformat": 4,
 "nbformat_minor": 5
}
