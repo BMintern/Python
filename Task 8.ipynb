{
 "cells": [
  {
   "cell_type": "markdown",
   "id": "2e7216bc",
   "metadata": {},
   "source": [
    "## Create a Web App from Your Jupyter Notebook with Mercury"
   ]
  },
  {
   "cell_type": "code",
   "execution_count": 1,
   "id": "b5695293",
   "metadata": {
    "ExecuteTime": {
     "end_time": "2023-06-20T09:44:58.130232Z",
     "start_time": "2023-06-20T09:44:37.827719Z"
    }
   },
   "outputs": [
    {
     "name": "stdout",
     "output_type": "stream",
     "text": [
      "Collecting mljar-mercury\n",
      "  Using cached mljar-mercury-1.1.6.tar.gz (4.5 MB)\n",
      "  Installing build dependencies: started\n",
      "  Installing build dependencies: finished with status 'done'\n",
      "  Getting requirements to build wheel: started\n",
      "  Getting requirements to build wheel: finished with status 'done'\n",
      "  Preparing metadata (pyproject.toml): started\n",
      "  Preparing metadata (pyproject.toml): finished with status 'done'\n",
      "Collecting django==3.2.5 (from mljar-mercury)\n",
      "  Using cached Django-3.2.5-py3-none-any.whl (7.9 MB)\n",
      "Collecting djangorestframework==3.12.4 (from mljar-mercury)\n",
      "  Using cached djangorestframework-3.12.4-py3-none-any.whl (957 kB)\n",
      "Collecting django-filter==21.1 (from mljar-mercury)\n",
      "  Using cached django_filter-21.1-py3-none-any.whl (81 kB)\n",
      "Collecting markdown==3.3.6 (from mljar-mercury)\n",
      "  Using cached Markdown-3.3.6-py3-none-any.whl (97 kB)\n",
      "Collecting celery==5.1.2 (from mljar-mercury)\n",
      "  Using cached celery-5.1.2-py3-none-any.whl (401 kB)\n",
      "Collecting sqlalchemy==1.4.27 (from mljar-mercury)\n",
      "  Using cached SQLAlchemy-1.4.27.tar.gz (7.9 MB)\n",
      "  Preparing metadata (setup.py): started\n",
      "  Preparing metadata (setup.py): finished with status 'done'\n",
      "Collecting gevent==21.12.0 (from mljar-mercury)\n",
      "  Using cached gevent-21.12.0.tar.gz (6.2 MB)\n",
      "  Installing build dependencies: started\n",
      "  Installing build dependencies: finished with status 'error'\n"
     ]
    },
    {
     "name": "stderr",
     "output_type": "stream",
     "text": [
      "  error: subprocess-exited-with-error\n",
      "  \n",
      "  pip subprocess to install build dependencies did not run successfully.\n",
      "  exit code: 1\n",
      "  \n",
      "  [103 lines of output]\n",
      "  Collecting setuptools>=40.8.0\n",
      "    Using cached setuptools-68.0.0-py3-none-any.whl (804 kB)\n",
      "  Collecting wheel\n",
      "    Using cached wheel-0.40.0-py3-none-any.whl (64 kB)\n",
      "  Collecting Cython>=3.0a9\n",
      "    Using cached Cython-3.0.0b3-cp311-cp311-win_amd64.whl (2.8 MB)\n",
      "  Collecting cffi>=1.12.3\n",
      "    Using cached cffi-1.15.1-cp311-cp311-win_amd64.whl (179 kB)\n",
      "  Collecting greenlet<2.0,>=0.4.17\n",
      "    Using cached greenlet-1.1.3.post0.tar.gz (91 kB)\n",
      "    Preparing metadata (setup.py): started\n",
      "    Preparing metadata (setup.py): finished with status 'done'\n",
      "  Collecting pycparser (from cffi>=1.12.3)\n",
      "    Using cached pycparser-2.21-py2.py3-none-any.whl (118 kB)\n",
      "  Building wheels for collected packages: greenlet\n",
      "    Building wheel for greenlet (setup.py): started\n",
      "    Building wheel for greenlet (setup.py): finished with status 'error'\n",
      "    error: subprocess-exited-with-error\n",
      "  \n",
      "    python setup.py bdist_wheel did not run successfully.\n",
      "    exit code: 1\n",
      "  \n",
      "    [73 lines of output]\n",
      "    running bdist_wheel\n",
      "    running build\n",
      "    running build_py\n",
      "    creating build\n",
      "    creating build\\lib.win-amd64-cpython-311\n",
      "    creating build\\lib.win-amd64-cpython-311\\greenlet\n",
      "    copying src\\greenlet\\__init__.py -> build\\lib.win-amd64-cpython-311\\greenlet\n",
      "    creating build\\lib.win-amd64-cpython-311\\greenlet\\platform\n",
      "    copying src\\greenlet\\platform\\__init__.py -> build\\lib.win-amd64-cpython-311\\greenlet\\platform\n",
      "    creating build\\lib.win-amd64-cpython-311\\greenlet\\tests\n",
      "    copying src\\greenlet\\tests\\test_contextvars.py -> build\\lib.win-amd64-cpython-311\\greenlet\\tests\n",
      "    copying src\\greenlet\\tests\\test_cpp.py -> build\\lib.win-amd64-cpython-311\\greenlet\\tests\n",
      "    copying src\\greenlet\\tests\\test_extension_interface.py -> build\\lib.win-amd64-cpython-311\\greenlet\\tests\n",
      "    copying src\\greenlet\\tests\\test_gc.py -> build\\lib.win-amd64-cpython-311\\greenlet\\tests\n",
      "    copying src\\greenlet\\tests\\test_generator.py -> build\\lib.win-amd64-cpython-311\\greenlet\\tests\n",
      "    copying src\\greenlet\\tests\\test_generator_nested.py -> build\\lib.win-amd64-cpython-311\\greenlet\\tests\n",
      "    copying src\\greenlet\\tests\\test_greenlet.py -> build\\lib.win-amd64-cpython-311\\greenlet\\tests\n",
      "    copying src\\greenlet\\tests\\test_leaks.py -> build\\lib.win-amd64-cpython-311\\greenlet\\tests\n",
      "    copying src\\greenlet\\tests\\test_stack_saved.py -> build\\lib.win-amd64-cpython-311\\greenlet\\tests\n",
      "    copying src\\greenlet\\tests\\test_throw.py -> build\\lib.win-amd64-cpython-311\\greenlet\\tests\n",
      "    copying src\\greenlet\\tests\\test_tracing.py -> build\\lib.win-amd64-cpython-311\\greenlet\\tests\n",
      "    copying src\\greenlet\\tests\\test_version.py -> build\\lib.win-amd64-cpython-311\\greenlet\\tests\n",
      "    copying src\\greenlet\\tests\\test_weakref.py -> build\\lib.win-amd64-cpython-311\\greenlet\\tests\n",
      "    copying src\\greenlet\\tests\\__init__.py -> build\\lib.win-amd64-cpython-311\\greenlet\\tests\n",
      "    running egg_info\n",
      "    writing src\\greenlet.egg-info\\PKG-INFO\n",
      "    writing dependency_links to src\\greenlet.egg-info\\dependency_links.txt\n",
      "    writing requirements to src\\greenlet.egg-info\\requires.txt\n",
      "    writing top-level names to src\\greenlet.egg-info\\top_level.txt\n",
      "    reading manifest file 'src\\greenlet.egg-info\\SOURCES.txt'\n",
      "    reading manifest template 'MANIFEST.in'\n",
      "    no previously-included directories found matching 'docs\\_build'\n",
      "    warning: no files found matching '*.py' under directory 'appveyor'\n",
      "    warning: no previously-included files matching '*.pyc' found anywhere in distribution\n",
      "    warning: no previously-included files matching '*.pyd' found anywhere in distribution\n",
      "    warning: no previously-included files matching '*.so' found anywhere in distribution\n",
      "    warning: no previously-included files matching '.coverage' found anywhere in distribution\n",
      "    adding license file 'LICENSE'\n",
      "    adding license file 'LICENSE.PSF'\n",
      "    adding license file 'AUTHORS'\n",
      "    writing manifest file 'src\\greenlet.egg-info\\SOURCES.txt'\n",
      "    copying src\\greenlet\\greenlet.c -> build\\lib.win-amd64-cpython-311\\greenlet\n",
      "    copying src\\greenlet\\greenlet.h -> build\\lib.win-amd64-cpython-311\\greenlet\n",
      "    copying src\\greenlet\\slp_platformselect.h -> build\\lib.win-amd64-cpython-311\\greenlet\n",
      "    copying src\\greenlet\\platform\\setup_switch_x64_masm.cmd -> build\\lib.win-amd64-cpython-311\\greenlet\\platform\n",
      "    copying src\\greenlet\\platform\\switch_aarch64_gcc.h -> build\\lib.win-amd64-cpython-311\\greenlet\\platform\n",
      "    copying src\\greenlet\\platform\\switch_alpha_unix.h -> build\\lib.win-amd64-cpython-311\\greenlet\\platform\n",
      "    copying src\\greenlet\\platform\\switch_amd64_unix.h -> build\\lib.win-amd64-cpython-311\\greenlet\\platform\n",
      "    copying src\\greenlet\\platform\\switch_arm32_gcc.h -> build\\lib.win-amd64-cpython-311\\greenlet\\platform\n",
      "    copying src\\greenlet\\platform\\switch_arm32_ios.h -> build\\lib.win-amd64-cpython-311\\greenlet\\platform\n",
      "    copying src\\greenlet\\platform\\switch_csky_gcc.h -> build\\lib.win-amd64-cpython-311\\greenlet\\platform\n",
      "    copying src\\greenlet\\platform\\switch_m68k_gcc.h -> build\\lib.win-amd64-cpython-311\\greenlet\\platform\n",
      "    copying src\\greenlet\\platform\\switch_mips_unix.h -> build\\lib.win-amd64-cpython-311\\greenlet\\platform\n",
      "    copying src\\greenlet\\platform\\switch_ppc64_aix.h -> build\\lib.win-amd64-cpython-311\\greenlet\\platform\n",
      "    copying src\\greenlet\\platform\\switch_ppc64_linux.h -> build\\lib.win-amd64-cpython-311\\greenlet\\platform\n",
      "    copying src\\greenlet\\platform\\switch_ppc_aix.h -> build\\lib.win-amd64-cpython-311\\greenlet\\platform\n",
      "    copying src\\greenlet\\platform\\switch_ppc_linux.h -> build\\lib.win-amd64-cpython-311\\greenlet\\platform\n",
      "    copying src\\greenlet\\platform\\switch_ppc_macosx.h -> build\\lib.win-amd64-cpython-311\\greenlet\\platform\n",
      "    copying src\\greenlet\\platform\\switch_ppc_unix.h -> build\\lib.win-amd64-cpython-311\\greenlet\\platform\n",
      "    copying src\\greenlet\\platform\\switch_riscv_unix.h -> build\\lib.win-amd64-cpython-311\\greenlet\\platform\n",
      "    copying src\\greenlet\\platform\\switch_s390_unix.h -> build\\lib.win-amd64-cpython-311\\greenlet\\platform\n",
      "    copying src\\greenlet\\platform\\switch_sparc_sun_gcc.h -> build\\lib.win-amd64-cpython-311\\greenlet\\platform\n",
      "    copying src\\greenlet\\platform\\switch_x32_unix.h -> build\\lib.win-amd64-cpython-311\\greenlet\\platform\n",
      "    copying src\\greenlet\\platform\\switch_x64_masm.asm -> build\\lib.win-amd64-cpython-311\\greenlet\\platform\n",
      "    copying src\\greenlet\\platform\\switch_x64_masm.obj -> build\\lib.win-amd64-cpython-311\\greenlet\\platform\n",
      "    copying src\\greenlet\\platform\\switch_x64_msvc.h -> build\\lib.win-amd64-cpython-311\\greenlet\\platform\n",
      "    copying src\\greenlet\\platform\\switch_x86_msvc.h -> build\\lib.win-amd64-cpython-311\\greenlet\\platform\n",
      "    copying src\\greenlet\\platform\\switch_x86_unix.h -> build\\lib.win-amd64-cpython-311\\greenlet\\platform\n",
      "    copying src\\greenlet\\tests\\_test_extension.c -> build\\lib.win-amd64-cpython-311\\greenlet\\tests\n",
      "    copying src\\greenlet\\tests\\_test_extension_cpp.cpp -> build\\lib.win-amd64-cpython-311\\greenlet\\tests\n",
      "    running build_ext\n",
      "    building 'greenlet._greenlet' extension\n",
      "    error: Microsoft Visual C++ 14.0 or greater is required. Get it with \"Microsoft C++ Build Tools\": https://visualstudio.microsoft.com/visual-cpp-build-tools/\n",
      "    [end of output]\n",
      "  \n",
      "    note: This error originates from a subprocess, and is likely not a problem with pip.\n",
      "    ERROR: Failed building wheel for greenlet\n",
      "    Running setup.py clean for greenlet\n",
      "  Failed to build greenlet\n",
      "  ERROR: Could not build wheels for greenlet, which is required to install pyproject.toml-based projects\n",
      "  [end of output]\n",
      "  \n",
      "  note: This error originates from a subprocess, and is likely not a problem with pip.\n",
      "error: subprocess-exited-with-error\n",
      "\n",
      "pip subprocess to install build dependencies did not run successfully.\n",
      "exit code: 1\n",
      "\n",
      "See above for output.\n",
      "\n",
      "note: This error originates from a subprocess, and is likely not a problem with pip.\n"
     ]
    }
   ],
   "source": [
    "!pip install mljar-mercury"
   ]
  },
  {
   "cell_type": "code",
   "execution_count": 3,
   "id": "345a5ded",
   "metadata": {
    "ExecuteTime": {
     "end_time": "2023-06-20T09:49:34.268114Z",
     "start_time": "2023-06-20T09:49:33.900429Z"
    }
   },
   "outputs": [],
   "source": [
    "import numpy as np\n",
    "import pandas as pd"
   ]
  },
  {
   "cell_type": "code",
   "execution_count": 6,
   "id": "ea3dc6ed",
   "metadata": {
    "ExecuteTime": {
     "end_time": "2023-06-20T09:50:22.144347Z",
     "start_time": "2023-06-20T09:50:22.091788Z"
    }
   },
   "outputs": [
    {
     "data": {
      "text/plain": [
       "Index(['name', 'year', 'selling_price', 'km_driven', 'fuel', 'seller_type',\n",
       "       'transmission', 'owner'],\n",
       "      dtype='object')"
      ]
     },
     "execution_count": 6,
     "metadata": {},
     "output_type": "execute_result"
    }
   ],
   "source": [
    "weather=pd.read_csv('Car Dekho.csv')\n",
    "weather.columns"
   ]
  },
  {
   "cell_type": "code",
   "execution_count": 10,
   "id": "a60ae01a",
   "metadata": {
    "ExecuteTime": {
     "end_time": "2023-06-20T09:52:09.121361Z",
     "start_time": "2023-06-20T09:52:09.067538Z"
    }
   },
   "outputs": [
    {
     "ename": "NameError",
     "evalue": "name 'year' is not defined",
     "output_type": "error",
     "traceback": [
      "\u001b[1;31m---------------------------------------------------------------------------\u001b[0m",
      "\u001b[1;31mNameError\u001b[0m                                 Traceback (most recent call last)",
      "Cell \u001b[1;32mIn[10], line 1\u001b[0m\n\u001b[1;32m----> 1\u001b[0m [weather[\u001b[38;5;124m'\u001b[39m\u001b[38;5;124myear\u001b[39m\u001b[38;5;124m'\u001b[39m]\u001b[38;5;241m==\u001b[39m \u001b[43myear\u001b[49m]\u001b[38;5;241m.\u001b[39mplot(y\u001b[38;5;241m=\u001b[39m\u001b[38;5;124m'\u001b[39m\u001b[38;5;124mTmax\u001b[39m\u001b[38;5;124m'\u001b[39m, x\u001b[38;5;241m=\u001b[39m\u001b[38;5;124m'\u001b[39m\u001b[38;5;124mMonth\u001b[39m\u001b[38;5;124m'\u001b[39m,legend\u001b[38;5;241m=\u001b[39m\u001b[38;5;28;01mFalse\u001b[39;00m)\n\u001b[0;32m      2\u001b[0m \u001b[38;5;28mprint\u001b[39m(\u001b[38;5;124mf\u001b[39m\u001b[38;5;124m\"\u001b[39m\u001b[38;5;124mMonthly maximum temperatures for \u001b[39m\u001b[38;5;132;01m{\u001b[39;00myear\u001b[38;5;132;01m}\u001b[39;00m\u001b[38;5;124m\"\u001b[39m)\n",
      "\u001b[1;31mNameError\u001b[0m: name 'year' is not defined"
     ]
    }
   ],
   "source": [
    "[weather['year']== year].plot(y='Tmax', x='Month',legend=False)\n",
    "print(f\"Monthly maximum temperatures for {year}\")"
   ]
  },
  {
   "cell_type": "code",
   "execution_count": null,
   "id": "c6076168",
   "metadata": {},
   "outputs": [],
   "source": []
  }
 ],
 "metadata": {
  "kernelspec": {
   "display_name": "Python 3 (ipykernel)",
   "language": "python",
   "name": "python3"
  },
  "language_info": {
   "codemirror_mode": {
    "name": "ipython",
    "version": 3
   },
   "file_extension": ".py",
   "mimetype": "text/x-python",
   "name": "python",
   "nbconvert_exporter": "python",
   "pygments_lexer": "ipython3",
   "version": "3.11.3"
  }
 },
 "nbformat": 4,
 "nbformat_minor": 5
}
