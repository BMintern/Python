{
 "cells": [
  {
   "cell_type": "markdown",
   "id": "655f905d",
   "metadata": {},
   "source": [
    "# iterators"
   ]
  },
  {
   "cell_type": "code",
   "execution_count": 1,
   "id": "c4f10329",
   "metadata": {},
   "outputs": [
    {
     "name": "stdout",
     "output_type": "stream",
     "text": [
      "1\n",
      "2\n",
      "3\n",
      "4\n"
     ]
    }
   ],
   "source": [
    "# instantiate a list object\n",
    "list_instance = [1, 2, 3, 4]\n",
    "\n",
    "# convert the list to an iterator\n",
    "iterator = iter(list_instance)\n",
    "\n",
    "# return items one at a time\n",
    "print(next(iterator))\n",
    "print(next(iterator))\n",
    "print(next(iterator))\n",
    "print(next(iterator))\n"
   ]
  },
  {
   "cell_type": "markdown",
   "id": "17f5ab0d",
   "metadata": {},
   "source": [
    "# iterators using loop(for loop)"
   ]
  },
  {
   "cell_type": "code",
   "execution_count": 2,
   "id": "46aa25fe",
   "metadata": {},
   "outputs": [
    {
     "name": "stdout",
     "output_type": "stream",
     "text": [
      "1\n",
      "2\n",
      "3\n",
      "4\n"
     ]
    }
   ],
   "source": [
    "# instantiate a list object\n",
    "list_instance = [1, 2, 3, 4]\n",
    "\n",
    "# loop through the list\n",
    "for iterator in list_instance:\n",
    "  print(iterator)"
   ]
  },
  {
   "cell_type": "markdown",
   "id": "cc6760a6",
   "metadata": {},
   "source": [
    "# The lazy nature of iterators"
   ]
  },
  {
   "cell_type": "code",
   "execution_count": 3,
   "id": "553e9e6e",
   "metadata": {},
   "outputs": [
    {
     "name": "stdout",
     "output_type": "stream",
     "text": [
      "A: 1\n",
      "A: 2\n",
      "A: 3\n",
      "A: 4\n",
      "B: 1\n"
     ]
    }
   ],
   "source": [
    "list_instance = [1, 2, 3, 4]\n",
    "iterator_a = iter(list_instance)\n",
    "iterator_b = iter(list_instance)\n",
    "print(f\"A: {next(iterator_a)}\")\n",
    "print(f\"A: {next(iterator_a)}\")\n",
    "print(f\"A: {next(iterator_a)}\")\n",
    "print(f\"A: {next(iterator_a)}\")\n",
    "print(f\"B: {next(iterator_b)}\")"
   ]
  },
  {
   "cell_type": "code",
   "execution_count": 4,
   "id": "d63f35e1",
   "metadata": {},
   "outputs": [
    {
     "name": "stdout",
     "output_type": "stream",
     "text": [
      "[1, 2, 3, 4]\n"
     ]
    }
   ],
   "source": [
    "# instantiate iterable\n",
    "list_instance = [1, 2, 3, 4]\n",
    "\n",
    "# produce an iterator from an iterable\n",
    "iterator = iter(list_instance)\n",
    "print(list(iterator))"
   ]
  },
  {
   "cell_type": "markdown",
   "id": "b82b98b6",
   "metadata": {},
   "source": [
    "# Generators"
   ]
  },
  {
   "cell_type": "code",
   "execution_count": 6,
   "id": "81389a3c",
   "metadata": {},
   "outputs": [
    {
     "name": "stdout",
     "output_type": "stream",
     "text": [
      "[1, 2, 3, 5, 6, 10, 15, 30]\n"
     ]
    }
   ],
   "source": [
    "def factors(n):\n",
    "  factor_list = []\n",
    "  for val in range(1, n+1):\n",
    "      if n % val == 0:\n",
    "          factor_list.append(val)\n",
    "  return factor_list\n",
    "\n",
    "print(factors(30))"
   ]
  },
  {
   "cell_type": "code",
   "execution_count": 7,
   "id": "fd24b8fb",
   "metadata": {},
   "outputs": [
    {
     "name": "stdout",
     "output_type": "stream",
     "text": [
      "1\n"
     ]
    }
   ],
   "source": [
    "def factors(n):\n",
    "  for val in range(1, n+1):\n",
    "      if n % val == 0:\n",
    "          yield val\n",
    "         \n",
    "factors_of_20 = factors(20)\n",
    "print(next(factors_of_20))"
   ]
  },
  {
   "cell_type": "markdown",
   "id": "67656858",
   "metadata": {},
   "source": [
    "# generator comprehension"
   ]
  },
  {
   "cell_type": "code",
   "execution_count": 8,
   "id": "8a483ece",
   "metadata": {},
   "outputs": [
    {
     "name": "stdout",
     "output_type": "stream",
     "text": [
      "<generator object <genexpr> at 0x000002D9B3CD5D80>\n"
     ]
    }
   ],
   "source": [
    "print((val for val in range(1, 20+1) if n % val == 0))"
   ]
  },
  {
   "cell_type": "markdown",
   "id": "c97cf8f5",
   "metadata": {},
   "source": [
    "# Generator Expressions"
   ]
  },
  {
   "cell_type": "code",
   "execution_count": 9,
   "id": "d5add61e",
   "metadata": {},
   "outputs": [
    {
     "name": "stdout",
     "output_type": "stream",
     "text": [
      "First result is  1\n",
      "Second result is  2\n",
      "Third result is  3\n"
     ]
    },
    {
     "data": {
      "text/plain": [
       "3"
      ]
     },
     "execution_count": 9,
     "metadata": {},
     "output_type": "execute_result"
    }
   ],
   "source": [
    "# Python code to illustrate generator, yield() and next().\n",
    "def generator():\n",
    "    t = 1\n",
    "    print ('First result is ',t)\n",
    "    yield t\n",
    "\n",
    "    t += 1\n",
    "    print ('Second result is ',t)\n",
    "    yield t\n",
    "\n",
    "    t += 1\n",
    "    print('Third result is ',t)\n",
    "    yield t\n",
    "\n",
    "call = generator()\n",
    "next(call)\n",
    "next(call)\n",
    "next(call)\n"
   ]
  },
  {
   "cell_type": "markdown",
   "id": "ac1cf106",
   "metadata": {},
   "source": [
    "# Pipelining Generators"
   ]
  },
  {
   "cell_type": "code",
   "execution_count": 10,
   "id": "1a664cb0",
   "metadata": {},
   "outputs": [
    {
     "name": "stdout",
     "output_type": "stream",
     "text": [
      "4895\n"
     ]
    }
   ],
   "source": [
    "def fibonacci_numbers(nums):\n",
    "    x, y = 0, 1\n",
    "    for _ in range(nums):\n",
    "        x, y = y, x+y\n",
    "        yield x\n",
    "\n",
    "def square(nums):\n",
    "    for num in nums:\n",
    "        yield num**2\n",
    "\n",
    "print(sum(square(fibonacci_numbers(10))))\n"
   ]
  },
  {
   "cell_type": "code",
   "execution_count": null,
   "id": "bdf3a98c",
   "metadata": {},
   "outputs": [],
   "source": []
  }
 ],
 "metadata": {
  "kernelspec": {
   "display_name": "Python 3 (ipykernel)",
   "language": "python",
   "name": "python3"
  },
  "language_info": {
   "codemirror_mode": {
    "name": "ipython",
    "version": 3
   },
   "file_extension": ".py",
   "mimetype": "text/x-python",
   "name": "python",
   "nbconvert_exporter": "python",
   "pygments_lexer": "ipython3",
   "version": "3.11.3"
  }
 },
 "nbformat": 4,
 "nbformat_minor": 5
}
