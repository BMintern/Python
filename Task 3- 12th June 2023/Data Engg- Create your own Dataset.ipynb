{
 "cells": [
  {
   "cell_type": "markdown",
   "id": "eb5cab58",
   "metadata": {},
   "source": [
    "# Data Engineering: Create your own Dataset\n",
    "### Extract\n",
    "The Extract part is the first step of the pipeline. In this step, the data is extracted from all different sources and cached. In this project, I want to extract data from the following sources:\n",
    "\n",
    "1. Wikipedia -> Scraping the World Happiness Report table.\n",
    "\n",
    "2. Rapid API -> Getting the population data for each country in the Wikipedia dataset.\n",
    "\n",
    "3. Worlddata Website -> Get data about the median age per country."
   ]
  },
  {
   "cell_type": "code",
   "execution_count": 1,
   "id": "8da024ed",
   "metadata": {},
   "outputs": [
    {
     "name": "stdout",
     "output_type": "stream",
     "text": [
      "200\n"
     ]
    },
    {
     "data": {
      "text/html": [
       "<div>\n",
       "<style scoped>\n",
       "    .dataframe tbody tr th:only-of-type {\n",
       "        vertical-align: middle;\n",
       "    }\n",
       "\n",
       "    .dataframe tbody tr th {\n",
       "        vertical-align: top;\n",
       "    }\n",
       "\n",
       "    .dataframe thead th {\n",
       "        text-align: right;\n",
       "    }\n",
       "</style>\n",
       "<table border=\"1\" class=\"dataframe\">\n",
       "  <thead>\n",
       "    <tr style=\"text-align: right;\">\n",
       "      <th></th>\n",
       "      <th>Overall rank</th>\n",
       "      <th>Country or region</th>\n",
       "      <th>Score</th>\n",
       "      <th>GDP per capita</th>\n",
       "      <th>Social support</th>\n",
       "      <th>Healthy life expectancy</th>\n",
       "      <th>Freedom to make life choices</th>\n",
       "      <th>Generosity</th>\n",
       "      <th>Perceptions of corruption</th>\n",
       "    </tr>\n",
       "  </thead>\n",
       "  <tbody>\n",
       "    <tr>\n",
       "      <th>0</th>\n",
       "      <td>1</td>\n",
       "      <td>Finland</td>\n",
       "      <td>7.809</td>\n",
       "      <td>1.285</td>\n",
       "      <td>1.500</td>\n",
       "      <td>0.961</td>\n",
       "      <td>0.662</td>\n",
       "      <td>0.160</td>\n",
       "      <td>0.478</td>\n",
       "    </tr>\n",
       "    <tr>\n",
       "      <th>1</th>\n",
       "      <td>2</td>\n",
       "      <td>Denmark</td>\n",
       "      <td>7.646</td>\n",
       "      <td>1.327</td>\n",
       "      <td>1.503</td>\n",
       "      <td>0.979</td>\n",
       "      <td>0.665</td>\n",
       "      <td>0.243</td>\n",
       "      <td>0.495</td>\n",
       "    </tr>\n",
       "    <tr>\n",
       "      <th>2</th>\n",
       "      <td>3</td>\n",
       "      <td>Switzerland</td>\n",
       "      <td>7.560</td>\n",
       "      <td>1.391</td>\n",
       "      <td>1.472</td>\n",
       "      <td>1.041</td>\n",
       "      <td>0.629</td>\n",
       "      <td>0.269</td>\n",
       "      <td>0.408</td>\n",
       "    </tr>\n",
       "    <tr>\n",
       "      <th>3</th>\n",
       "      <td>4</td>\n",
       "      <td>Iceland</td>\n",
       "      <td>7.504</td>\n",
       "      <td>1.327</td>\n",
       "      <td>1.548</td>\n",
       "      <td>1.001</td>\n",
       "      <td>0.662</td>\n",
       "      <td>0.362</td>\n",
       "      <td>0.145</td>\n",
       "    </tr>\n",
       "    <tr>\n",
       "      <th>4</th>\n",
       "      <td>5</td>\n",
       "      <td>Norway</td>\n",
       "      <td>7.488</td>\n",
       "      <td>1.424</td>\n",
       "      <td>1.495</td>\n",
       "      <td>1.008</td>\n",
       "      <td>0.670</td>\n",
       "      <td>0.288</td>\n",
       "      <td>0.434</td>\n",
       "    </tr>\n",
       "    <tr>\n",
       "      <th>5</th>\n",
       "      <td>6</td>\n",
       "      <td>Netherlands</td>\n",
       "      <td>7.449</td>\n",
       "      <td>1.339</td>\n",
       "      <td>1.464</td>\n",
       "      <td>0.976</td>\n",
       "      <td>0.614</td>\n",
       "      <td>0.336</td>\n",
       "      <td>0.369</td>\n",
       "    </tr>\n",
       "    <tr>\n",
       "      <th>6</th>\n",
       "      <td>7</td>\n",
       "      <td>Sweden</td>\n",
       "      <td>7.353</td>\n",
       "      <td>1.322</td>\n",
       "      <td>1.433</td>\n",
       "      <td>0.986</td>\n",
       "      <td>0.650</td>\n",
       "      <td>0.273</td>\n",
       "      <td>0.442</td>\n",
       "    </tr>\n",
       "    <tr>\n",
       "      <th>7</th>\n",
       "      <td>8</td>\n",
       "      <td>New Zealand</td>\n",
       "      <td>7.300</td>\n",
       "      <td>1.242</td>\n",
       "      <td>1.487</td>\n",
       "      <td>1.008</td>\n",
       "      <td>0.647</td>\n",
       "      <td>0.326</td>\n",
       "      <td>0.461</td>\n",
       "    </tr>\n",
       "    <tr>\n",
       "      <th>8</th>\n",
       "      <td>9</td>\n",
       "      <td>Austria</td>\n",
       "      <td>7.294</td>\n",
       "      <td>1.317</td>\n",
       "      <td>1.437</td>\n",
       "      <td>1.001</td>\n",
       "      <td>0.603</td>\n",
       "      <td>0.256</td>\n",
       "      <td>0.281</td>\n",
       "    </tr>\n",
       "    <tr>\n",
       "      <th>9</th>\n",
       "      <td>10</td>\n",
       "      <td>Luxembourg</td>\n",
       "      <td>7.238</td>\n",
       "      <td>1.537</td>\n",
       "      <td>1.388</td>\n",
       "      <td>0.986</td>\n",
       "      <td>0.610</td>\n",
       "      <td>0.196</td>\n",
       "      <td>0.367</td>\n",
       "    </tr>\n",
       "  </tbody>\n",
       "</table>\n",
       "</div>"
      ],
      "text/plain": [
       "   Overall rank Country or region  Score  GDP per capita  Social support  \\\n",
       "0             1           Finland  7.809           1.285           1.500   \n",
       "1             2           Denmark  7.646           1.327           1.503   \n",
       "2             3       Switzerland  7.560           1.391           1.472   \n",
       "3             4           Iceland  7.504           1.327           1.548   \n",
       "4             5            Norway  7.488           1.424           1.495   \n",
       "5             6       Netherlands  7.449           1.339           1.464   \n",
       "6             7            Sweden  7.353           1.322           1.433   \n",
       "7             8       New Zealand  7.300           1.242           1.487   \n",
       "8             9           Austria  7.294           1.317           1.437   \n",
       "9            10        Luxembourg  7.238           1.537           1.388   \n",
       "\n",
       "   Healthy life expectancy  Freedom to make life choices  Generosity  \\\n",
       "0                    0.961                         0.662       0.160   \n",
       "1                    0.979                         0.665       0.243   \n",
       "2                    1.041                         0.629       0.269   \n",
       "3                    1.001                         0.662       0.362   \n",
       "4                    1.008                         0.670       0.288   \n",
       "5                    0.976                         0.614       0.336   \n",
       "6                    0.986                         0.650       0.273   \n",
       "7                    1.008                         0.647       0.326   \n",
       "8                    1.001                         0.603       0.256   \n",
       "9                    0.986                         0.610       0.196   \n",
       "\n",
       "   Perceptions of corruption  \n",
       "0                      0.478  \n",
       "1                      0.495  \n",
       "2                      0.408  \n",
       "3                      0.145  \n",
       "4                      0.434  \n",
       "5                      0.369  \n",
       "6                      0.442  \n",
       "7                      0.461  \n",
       "8                      0.281  \n",
       "9                      0.367  "
      ]
     },
     "execution_count": 1,
     "metadata": {},
     "output_type": "execute_result"
    }
   ],
   "source": [
    "from bs4 import BeautifulSoup\n",
    "import requests\n",
    "import pandas as pd\n",
    "import json\n",
    "import numpy as np\n",
    "\n",
    "# get html data first\n",
    "html_data = requests.get(\"https://en.wikipedia.org/wiki/World_Happiness_Report\")\n",
    "\n",
    "# check if status is 200 -> shows that its allowed to scrape the webpage\n",
    "print(html_data.status_code)\n",
    "\n",
    "# parse html data now using BeautifulSoup\n",
    "soup = BeautifulSoup(html_data.text, \"html.parser\")\n",
    "\n",
    "# get all tables from wikipedia page\n",
    "tables = soup.find_all('table',{'class':\"wikitable\"})\n",
    "\n",
    "# store target table\n",
    "table = tables[2]\n",
    "\n",
    "# convert table html code to pandas df\n",
    "data = pd.read_html(str(table))\n",
    "df_happiness = pd.DataFrame(data[0]) \n",
    "\n",
    "# show head\n",
    "df_happiness.head(10)\n"
   ]
  },
  {
   "cell_type": "code",
   "execution_count": 2,
   "id": "01f1f06c",
   "metadata": {},
   "outputs": [],
   "source": [
    "# rename some countries to later match the country names from RapidAPI\n",
    "df_happiness = df_happiness.apply(lambda x: x.replace(\"Congo (Kinshasa)\", \"DR Congo\"))\n",
    "df_happiness = df_happiness.apply(lambda x: x.replace(\"Congo (Brazzaville)\", \"Congo\"))\n",
    "df_happiness = df_happiness.apply(lambda x: x.replace(\"Ivory Coast\", \"Côte d'Ivoire\"))"
   ]
  },
  {
   "cell_type": "code",
   "execution_count": 3,
   "id": "60f1724f",
   "metadata": {},
   "outputs": [
    {
     "name": "stdout",
     "output_type": "stream",
     "text": [
      "Number of countries in Wikipedia dataset: 153\n"
     ]
    }
   ],
   "source": [
    "# print number of countries in the dataset\n",
    "list_countries = df_happiness[\"Country or region\"].to_list()\n",
    "print(f\"Number of countries in Wikipedia dataset: {len(list_countries)}\")"
   ]
  },
  {
   "cell_type": "code",
   "execution_count": 4,
   "id": "b8dab313",
   "metadata": {},
   "outputs": [
    {
     "name": "stdout",
     "output_type": "stream",
     "text": [
      "An error occurred: 400 Client Error: Bad Request for url: https://weatherapi-com.p.rapidapi.com/current.json\n"
     ]
    }
   ],
   "source": [
    "import requests\n",
    "\n",
    "url = \"https://weatherapi-com.p.rapidapi.com/current.json\"\n",
    "\n",
    "headers = {\n",
    "    \"X-RapidAPI-Key\": \"5d5b5ccb2emshfca9b665a1f607cp1faa53jsn819c8407a326\",\n",
    "    \"X-RapidAPI-Host\": \"weatherapi-com.p.rapidapi.com\"\n",
    "    }\n",
    "\n",
    "try:\n",
    "    response = requests.get(url, headers=headers)\n",
    "    response.raise_for_status()  # Raise an exception if the request was not successful\n",
    "\n",
    "    data = response.json()\n",
    "    print(data)\n",
    "\n",
    "except requests.exceptions.RequestException as error:\n",
    "    print(\"An error occurred:\", error)\n"
   ]
  },
  {
   "cell_type": "markdown",
   "id": "2d1b8289",
   "metadata": {},
   "source": [
    "## Fetch Population Data for each Country from RapidAPI"
   ]
  },
  {
   "cell_type": "code",
   "execution_count": 5,
   "id": "489002c5",
   "metadata": {},
   "outputs": [
    {
     "name": "stderr",
     "output_type": "stream",
     "text": [
      "  0%|                                                                                          | 0/153 [00:00<?, ?it/s]\n"
     ]
    },
    {
     "ename": "KeyError",
     "evalue": "'ok'",
     "output_type": "error",
     "traceback": [
      "\u001b[1;31m---------------------------------------------------------------------------\u001b[0m",
      "\u001b[1;31mKeyError\u001b[0m                                  Traceback (most recent call last)",
      "\u001b[1;32m~\\AppData\\Local\\Temp/ipykernel_26384/1930092627.py\u001b[0m in \u001b[0;36m<module>\u001b[1;34m\u001b[0m\n\u001b[0;32m     28\u001b[0m \u001b[1;33m\u001b[0m\u001b[0m\n\u001b[0;32m     29\u001b[0m         \u001b[1;31m# Check if response is okay and update population\u001b[0m\u001b[1;33m\u001b[0m\u001b[1;33m\u001b[0m\u001b[0m\n\u001b[1;32m---> 30\u001b[1;33m         \u001b[1;32mif\u001b[0m \u001b[0mresponse_dict\u001b[0m\u001b[1;33m[\u001b[0m\u001b[1;34m\"ok\"\u001b[0m\u001b[1;33m]\u001b[0m \u001b[1;33m==\u001b[0m \u001b[1;32mTrue\u001b[0m\u001b[1;33m:\u001b[0m\u001b[1;33m\u001b[0m\u001b[1;33m\u001b[0m\u001b[0m\n\u001b[0m\u001b[0;32m     31\u001b[0m             \u001b[0mpopulation\u001b[0m \u001b[1;33m=\u001b[0m \u001b[0mresponse_dict\u001b[0m\u001b[1;33m[\u001b[0m\u001b[1;34m\"body\"\u001b[0m\u001b[1;33m]\u001b[0m\u001b[1;33m[\u001b[0m\u001b[1;34m\"population\"\u001b[0m\u001b[1;33m]\u001b[0m\u001b[1;33m\u001b[0m\u001b[1;33m\u001b[0m\u001b[0m\n\u001b[0;32m     32\u001b[0m             \u001b[0mdf_happiness\u001b[0m\u001b[1;33m.\u001b[0m\u001b[0mloc\u001b[0m\u001b[1;33m[\u001b[0m\u001b[0mdf_happiness\u001b[0m\u001b[1;33m[\u001b[0m\u001b[1;34m\"Country or region\"\u001b[0m\u001b[1;33m]\u001b[0m \u001b[1;33m==\u001b[0m \u001b[0mcountry\u001b[0m\u001b[1;33m,\u001b[0m \u001b[1;34m\"Population\"\u001b[0m\u001b[1;33m]\u001b[0m \u001b[1;33m=\u001b[0m \u001b[0mpopulation\u001b[0m\u001b[1;33m\u001b[0m\u001b[1;33m\u001b[0m\u001b[0m\n",
      "\u001b[1;31mKeyError\u001b[0m: 'ok'"
     ]
    }
   ],
   "source": [
    "import json\n",
    "import requests\n",
    "import numpy as np\n",
    "from tqdm import tqdm\n",
    "\n",
    "# Create URL and headers for API call\n",
    "url = \"https://weatherapi-com.p.rapidapi.com/current.json\"\n",
    "\n",
    "querystring = {\"q\":\"53.1,-0.13\"}\n",
    "\n",
    "headers = {\n",
    "\t\"X-RapidAPI-Key\": \"5d5b5ccb2emshfca9b665a1f607cp1faa53jsn819c8407a326\",\n",
    "\t\"X-RapidAPI-Host\": \"weatherapi-com.p.rapidapi.com\"\n",
    "}\n",
    "\n",
    "# Add population column to DataFrame and set all values to NaN\n",
    "df_happiness[\"Population\"] = np.nan\n",
    "\n",
    "# Loop over countries and get population\n",
    "for country in tqdm(df_happiness[\"Country or region\"].to_list()):\n",
    "    # Create query string for API call\n",
    "    querystring = {\"name\" : country}\n",
    "    \n",
    "    try:\n",
    "        # Make request and fetch response\n",
    "        response = requests.request(\"GET\", url, headers=headers, params=querystring)\n",
    "        response_dict = json.loads(response.text)\n",
    "\n",
    "        # Check if response is okay and update population\n",
    "        if response_dict[\"ok\"] == True:\n",
    "            population = response_dict[\"body\"][\"population\"]\n",
    "            df_happiness.loc[df_happiness[\"Country or region\"] == country, \"Population\"] = population\n",
    "\n",
    "    except json.JSONDecodeError:\n",
    "        print(f\"Error: Failed to decode JSON response for {country}. Skipping...\")\n",
    "        print(f\"Response Text: {response.text}\")\n",
    "        continue\n"
   ]
  },
  {
   "cell_type": "code",
   "execution_count": null,
   "id": "8d45beeb",
   "metadata": {},
   "outputs": [],
   "source": []
  },
  {
   "cell_type": "code",
   "execution_count": 6,
   "id": "43dabb42",
   "metadata": {},
   "outputs": [
    {
     "name": "stdout",
     "output_type": "stream",
     "text": [
      "{'location': {'name': 'Boston', 'region': 'Lincolnshire', 'country': 'United Kingdom', 'lat': 53.1, 'lon': -0.13, 'tz_id': 'Europe/London', 'localtime_epoch': 1686722667, 'localtime': '2023-06-14 7:04'}, 'current': {'last_updated_epoch': 1686722400, 'last_updated': '2023-06-14 07:00', 'temp_c': 13.0, 'temp_f': 55.4, 'is_day': 1, 'condition': {'text': 'Sunny', 'icon': '//cdn.weatherapi.com/weather/64x64/day/113.png', 'code': 1000}, 'wind_mph': 8.1, 'wind_kph': 13.0, 'wind_degree': 10, 'wind_dir': 'N', 'pressure_mb': 1018.0, 'pressure_in': 30.06, 'precip_mm': 0.0, 'precip_in': 0.0, 'humidity': 82, 'cloud': 0, 'feelslike_c': 11.2, 'feelslike_f': 52.2, 'vis_km': 10.0, 'vis_miles': 6.0, 'uv': 5.0, 'gust_mph': 15.9, 'gust_kph': 25.6}}\n"
     ]
    }
   ],
   "source": [
    "import requests\n",
    "\n",
    "url = \"https://weatherapi-com.p.rapidapi.com/current.json\"\n",
    "\n",
    "querystring = {\"q\":\"53.1,-0.13\"}\n",
    "\n",
    "headers = {\n",
    "\t\"X-RapidAPI-Key\": \"5d5b5ccb2emshfca9b665a1f607cp1faa53jsn819c8407a326\",\n",
    "\t\"X-RapidAPI-Host\": \"weatherapi-com.p.rapidapi.com\"\n",
    "}\n",
    "\n",
    "response = requests.get(url, headers=headers, params=querystring)\n",
    "\n",
    "print(response.json())"
   ]
  },
  {
   "cell_type": "code",
   "execution_count": null,
   "id": "7aeaee19",
   "metadata": {},
   "outputs": [],
   "source": [
    "df_happiness.head()"
   ]
  },
  {
   "cell_type": "code",
   "execution_count": null,
   "id": "11109d16",
   "metadata": {},
   "outputs": [],
   "source": [
    "df_happiness.info()"
   ]
  },
  {
   "cell_type": "markdown",
   "id": "b5b49ad0",
   "metadata": {},
   "source": [
    "## Scrape Webpage for getting Average Age per Country"
   ]
  },
  {
   "cell_type": "code",
   "execution_count": null,
   "id": "ea6376cc",
   "metadata": {},
   "outputs": [],
   "source": [
    "html_data = requests.get(\"https://www.worlddata.info/average-age.php\")\n",
    "\n",
    "# check if status is 200 -> shows that its allowed to scrape the webpage\n",
    "print(html_data.status_code)"
   ]
  },
  {
   "cell_type": "code",
   "execution_count": null,
   "id": "37d2898e",
   "metadata": {},
   "outputs": [],
   "source": [
    "# parse html data now using BeautifulSoup\n",
    "soup = BeautifulSoup(html_data.text, \"html.parser\")\n",
    "\n",
    "# get all tables from wikipedia page\n",
    "tables = soup.find_all('table',{'class':\"std100 hover\"})\n",
    "\n",
    "# store target table\n",
    "table = tables[0]\n",
    "\n",
    "# convert table html code to pandas df\n",
    "data = pd.read_html(str(table))\n",
    "df_average_age = pd.DataFrame(data[0]) \n",
    "\n",
    "# show head\n",
    "df_average_age.head()"
   ]
  },
  {
   "cell_type": "code",
   "execution_count": null,
   "id": "64948919",
   "metadata": {},
   "outputs": [],
   "source": [
    "# print number of countries in the dataset\n",
    "list_countries = df_average_age[\"Country\"].to_list()\n",
    "print(f\"Number of countries in the average age dataset: {len(list_countries)}\")"
   ]
  },
  {
   "cell_type": "markdown",
   "id": "08e68f47",
   "metadata": {},
   "source": [
    "Okay. There are 127 different countries in this dataset, but our happiness dataset contains 153. So there is some data missing for some countries.\n",
    "Let's now add these columns to the dataset"
   ]
  },
  {
   "cell_type": "code",
   "execution_count": null,
   "id": "d816c5ee",
   "metadata": {},
   "outputs": [],
   "source": [
    "# let's use pandas join functionality for joining these tables together\n",
    "df_final = df_happiness.set_index(\"Country or region\").join(df_average_age.set_index(\"Country\")).reset_index()\n",
    "df_final.head()"
   ]
  },
  {
   "cell_type": "code",
   "execution_count": null,
   "id": "3860defd",
   "metadata": {},
   "outputs": [],
   "source": [
    "df_final.info()"
   ]
  },
  {
   "cell_type": "markdown",
   "id": "44a46bb4",
   "metadata": {},
   "source": [
    "## Transform\n",
    "Let's now start with the transform part. Here the data is transformed such that it is in the expected format. The datatypes are already in the expected format. Let's first add the total GDP per country. This is easy, as long as the population is given, because we already have the GDP per capita. So the total GDP can be computed this way:\n",
    "\n",
    "##### GDP= GDP(percapita) X Population\n",
    "\n",
    "\n",
    "Let's transform the Population under 20 years old column to be of type float, as the second transform step."
   ]
  },
  {
   "cell_type": "code",
   "execution_count": null,
   "id": "f0b5de0e",
   "metadata": {},
   "outputs": [],
   "source": [
    "df_final[\"GDP\"] = df_final[\"GDP per capita\"] * df_final[\"Population\"]\n",
    "df_final.head()"
   ]
  },
  {
   "cell_type": "code",
   "execution_count": null,
   "id": "cc3d7810",
   "metadata": {},
   "outputs": [],
   "source": [
    "# let's now remove the % sign of the Population under 20 years old column and convert it to type float\n",
    "def transform_col(col_val):\n",
    "    try: \n",
    "        return float(col_val.replace(\" %\", \"\"))\n",
    "    except: # value is NaN\n",
    "        return col_val\n",
    "\n",
    "df_final[\"Population under 20 years old in %\"] = df_final[\"Population under20 years old\"].apply(transform_col)\n",
    "df_final = df_final.drop(columns=[\"Population under20 years old\"])\n",
    "df_final.head()"
   ]
  },
  {
   "cell_type": "code",
   "execution_count": null,
   "id": "b0fd8ffe",
   "metadata": {},
   "outputs": [],
   "source": [
    "df_final.info()"
   ]
  },
  {
   "cell_type": "markdown",
   "id": "9483fd56",
   "metadata": {},
   "source": [
    "## Load"
   ]
  },
  {
   "cell_type": "code",
   "execution_count": null,
   "id": "ec74cba6",
   "metadata": {},
   "outputs": [],
   "source": [
    "def load(dataset):\n",
    "    dataset.to_csv(\"final_dataset.csv\", index=False)\n",
    "\n",
    "load(df_final)"
   ]
  },
  {
   "cell_type": "code",
   "execution_count": null,
   "id": "8bb7c2a2",
   "metadata": {},
   "outputs": [],
   "source": []
  }
 ],
 "metadata": {
  "kernelspec": {
   "display_name": "Python 3 (ipykernel)",
   "language": "python",
   "name": "python3"
  },
  "language_info": {
   "codemirror_mode": {
    "name": "ipython",
    "version": 3
   },
   "file_extension": ".py",
   "mimetype": "text/x-python",
   "name": "python",
   "nbconvert_exporter": "python",
   "pygments_lexer": "ipython3",
   "version": "3.9.7"
  }
 },
 "nbformat": 4,
 "nbformat_minor": 5
}
