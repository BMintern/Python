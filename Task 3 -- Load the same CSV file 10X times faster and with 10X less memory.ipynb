{
 "cells": [
  {
   "cell_type": "markdown",
   "id": "a3112f63",
   "metadata": {},
   "source": [
    "## Load the same CSV file 10X times faster and with 10X less memory"
   ]
  },
  {
   "cell_type": "code",
   "execution_count": null,
   "id": "739149f7",
   "metadata": {},
   "outputs": [],
   "source": []
  },
  {
   "cell_type": "markdown",
   "id": "2cfaadab",
   "metadata": {},
   "source": [
    "# 1. use cols:\n",
    "Rather than loading data and removing unnecessary columns that aren’t useful when processing your data. load only the useful columns."
   ]
  },
  {
   "cell_type": "code",
   "execution_count": 3,
   "id": "e575f41d",
   "metadata": {
    "ExecuteTime": {
     "end_time": "2023-06-16T15:47:19.700944Z",
     "start_time": "2023-06-16T15:47:19.692251Z"
    }
   },
   "outputs": [],
   "source": [
    "import pandas as pd\n",
    "import warnings\n",
    "warnings.filterwarnings(\"ignore\")"
   ]
  },
  {
   "cell_type": "code",
   "execution_count": 4,
   "id": "61f8d538",
   "metadata": {
    "ExecuteTime": {
     "end_time": "2023-06-16T15:47:21.013351Z",
     "start_time": "2023-06-16T15:47:19.969812Z"
    },
    "scrolled": true
   },
   "outputs": [
    {
     "data": {
      "text/html": [
       "<div>\n",
       "<style scoped>\n",
       "    .dataframe tbody tr th:only-of-type {\n",
       "        vertical-align: middle;\n",
       "    }\n",
       "\n",
       "    .dataframe tbody tr th {\n",
       "        vertical-align: top;\n",
       "    }\n",
       "\n",
       "    .dataframe thead th {\n",
       "        text-align: right;\n",
       "    }\n",
       "</style>\n",
       "<table border=\"1\" class=\"dataframe\">\n",
       "  <thead>\n",
       "    <tr style=\"text-align: right;\">\n",
       "      <th></th>\n",
       "      <th>id</th>\n",
       "      <th>name</th>\n",
       "      <th>city</th>\n",
       "      <th>rating</th>\n",
       "      <th>rating_count</th>\n",
       "      <th>cost</th>\n",
       "      <th>cuisine</th>\n",
       "      <th>lic_no</th>\n",
       "      <th>link</th>\n",
       "      <th>address</th>\n",
       "      <th>menu</th>\n",
       "    </tr>\n",
       "  </thead>\n",
       "  <tbody>\n",
       "    <tr>\n",
       "      <th>0</th>\n",
       "      <td>567335</td>\n",
       "      <td>AB FOODS POINT</td>\n",
       "      <td>Abohar</td>\n",
       "      <td>--</td>\n",
       "      <td>Too Few Ratings</td>\n",
       "      <td>₹ 200</td>\n",
       "      <td>Beverages,Pizzas</td>\n",
       "      <td>22122652000138</td>\n",
       "      <td>https://www.swiggy.com/restaurants/ab-foods-po...</td>\n",
       "      <td>AB FOODS POINT, NEAR RISHI NARANG DENTAL CLINI...</td>\n",
       "      <td>Menu/567335.json</td>\n",
       "    </tr>\n",
       "    <tr>\n",
       "      <th>1</th>\n",
       "      <td>531342</td>\n",
       "      <td>Janta Sweet House</td>\n",
       "      <td>Abohar</td>\n",
       "      <td>4.4</td>\n",
       "      <td>50+ ratings</td>\n",
       "      <td>₹ 200</td>\n",
       "      <td>Sweets,Bakery</td>\n",
       "      <td>12117201000112</td>\n",
       "      <td>https://www.swiggy.com/restaurants/janta-sweet...</td>\n",
       "      <td>Janta Sweet House, Bazar No.9, Circullar Road,...</td>\n",
       "      <td>Menu/531342.json</td>\n",
       "    </tr>\n",
       "    <tr>\n",
       "      <th>2</th>\n",
       "      <td>158203</td>\n",
       "      <td>theka coffee desi</td>\n",
       "      <td>Abohar</td>\n",
       "      <td>3.8</td>\n",
       "      <td>100+ ratings</td>\n",
       "      <td>₹ 100</td>\n",
       "      <td>Beverages</td>\n",
       "      <td>22121652000190</td>\n",
       "      <td>https://www.swiggy.com/restaurants/theka-coffe...</td>\n",
       "      <td>theka coffee desi, sahtiya sadan road city</td>\n",
       "      <td>Menu/158203.json</td>\n",
       "    </tr>\n",
       "    <tr>\n",
       "      <th>3</th>\n",
       "      <td>187912</td>\n",
       "      <td>Singh Hut</td>\n",
       "      <td>Abohar</td>\n",
       "      <td>3.7</td>\n",
       "      <td>20+ ratings</td>\n",
       "      <td>₹ 250</td>\n",
       "      <td>Fast Food,Indian</td>\n",
       "      <td>22119652000167</td>\n",
       "      <td>https://www.swiggy.com/restaurants/singh-hut-n...</td>\n",
       "      <td>Singh Hut, CIRCULAR ROAD NEAR NEHRU PARK ABOHAR</td>\n",
       "      <td>Menu/187912.json</td>\n",
       "    </tr>\n",
       "    <tr>\n",
       "      <th>4</th>\n",
       "      <td>543530</td>\n",
       "      <td>GRILL MASTERS</td>\n",
       "      <td>Abohar</td>\n",
       "      <td>--</td>\n",
       "      <td>Too Few Ratings</td>\n",
       "      <td>₹ 250</td>\n",
       "      <td>Italian-American,Fast Food</td>\n",
       "      <td>12122201000053</td>\n",
       "      <td>https://www.swiggy.com/restaurants/grill-maste...</td>\n",
       "      <td>GRILL MASTERS, ADA Heights, Abohar - Hanumanga...</td>\n",
       "      <td>Menu/543530.json</td>\n",
       "    </tr>\n",
       "    <tr>\n",
       "      <th>...</th>\n",
       "      <td>...</td>\n",
       "      <td>...</td>\n",
       "      <td>...</td>\n",
       "      <td>...</td>\n",
       "      <td>...</td>\n",
       "      <td>...</td>\n",
       "      <td>...</td>\n",
       "      <td>...</td>\n",
       "      <td>...</td>\n",
       "      <td>...</td>\n",
       "      <td>...</td>\n",
       "    </tr>\n",
       "    <tr>\n",
       "      <th>148536</th>\n",
       "      <td>553122</td>\n",
       "      <td>The Food Delight</td>\n",
       "      <td>Yavatmal</td>\n",
       "      <td>--</td>\n",
       "      <td>Too Few Ratings</td>\n",
       "      <td>₹ 200</td>\n",
       "      <td>Fast Food,Snacks</td>\n",
       "      <td>21522053000452</td>\n",
       "      <td>https://www.swiggy.com/restaurants/the-food-de...</td>\n",
       "      <td>The Food Delight, 94MC+X35, New Singhania Naga...</td>\n",
       "      <td>Menu/553122.json</td>\n",
       "    </tr>\n",
       "    <tr>\n",
       "      <th>148537</th>\n",
       "      <td>562647</td>\n",
       "      <td>MAITRI FOODS &amp; BEVERAGES</td>\n",
       "      <td>Yavatmal</td>\n",
       "      <td>--</td>\n",
       "      <td>Too Few Ratings</td>\n",
       "      <td>₹ 300</td>\n",
       "      <td>Pizzas</td>\n",
       "      <td>license</td>\n",
       "      <td>https://www.swiggy.com/restaurants/maitri-food...</td>\n",
       "      <td>MAITRI FOODS &amp; BEVERAGES, POLIC MITRYA SOCIETY...</td>\n",
       "      <td>Menu/562647.json</td>\n",
       "    </tr>\n",
       "    <tr>\n",
       "      <th>148538</th>\n",
       "      <td>559435</td>\n",
       "      <td>Cafe Bella Ciao</td>\n",
       "      <td>Yavatmal</td>\n",
       "      <td>--</td>\n",
       "      <td>Too Few Ratings</td>\n",
       "      <td>₹ 300</td>\n",
       "      <td>Fast Food,Snacks</td>\n",
       "      <td>21522251000378</td>\n",
       "      <td>https://www.swiggy.com/restaurants/cafe-bella-...</td>\n",
       "      <td>Cafe Bella Ciao, SHOP NO 2 NEMANI MARKET SBI S...</td>\n",
       "      <td>Menu/559435.json</td>\n",
       "    </tr>\n",
       "    <tr>\n",
       "      <th>148539</th>\n",
       "      <td>418989</td>\n",
       "      <td>GRILL ZILLA</td>\n",
       "      <td>Yavatmal</td>\n",
       "      <td>--</td>\n",
       "      <td>Too Few Ratings</td>\n",
       "      <td>₹ 250</td>\n",
       "      <td>Continental</td>\n",
       "      <td>21521251000241</td>\n",
       "      <td>https://www.swiggy.com/restaurants/grill-zilla...</td>\n",
       "      <td>GRILL ZILLA, SHO NO 2/6, POSTEL GROUND CHOWPAT...</td>\n",
       "      <td>Menu/418989.json</td>\n",
       "    </tr>\n",
       "    <tr>\n",
       "      <th>148540</th>\n",
       "      <td>447770</td>\n",
       "      <td>Lazeez kitchen</td>\n",
       "      <td>Yavatmal</td>\n",
       "      <td>--</td>\n",
       "      <td>Too Few Ratings</td>\n",
       "      <td>₹ 200</td>\n",
       "      <td>Pizzas</td>\n",
       "      <td>21521251000634</td>\n",
       "      <td>https://www.swiggy.com/restaurants/lazeez-kitc...</td>\n",
       "      <td>Lazeez kitchen, 94G3+2RR, Wadgaon, Yavatmal, M...</td>\n",
       "      <td>Menu/447770.json</td>\n",
       "    </tr>\n",
       "  </tbody>\n",
       "</table>\n",
       "<p>148541 rows × 11 columns</p>\n",
       "</div>"
      ],
      "text/plain": [
       "            id                      name      city rating     rating_count   \n",
       "0       567335            AB FOODS POINT    Abohar     --  Too Few Ratings  \\\n",
       "1       531342         Janta Sweet House    Abohar    4.4      50+ ratings   \n",
       "2       158203         theka coffee desi    Abohar    3.8     100+ ratings   \n",
       "3       187912                 Singh Hut    Abohar    3.7      20+ ratings   \n",
       "4       543530             GRILL MASTERS    Abohar     --  Too Few Ratings   \n",
       "...        ...                       ...       ...    ...              ...   \n",
       "148536  553122          The Food Delight  Yavatmal     --  Too Few Ratings   \n",
       "148537  562647  MAITRI FOODS & BEVERAGES  Yavatmal     --  Too Few Ratings   \n",
       "148538  559435           Cafe Bella Ciao  Yavatmal     --  Too Few Ratings   \n",
       "148539  418989               GRILL ZILLA  Yavatmal     --  Too Few Ratings   \n",
       "148540  447770            Lazeez kitchen  Yavatmal     --  Too Few Ratings   \n",
       "\n",
       "         cost                     cuisine          lic_no   \n",
       "0       ₹ 200            Beverages,Pizzas  22122652000138  \\\n",
       "1       ₹ 200               Sweets,Bakery  12117201000112   \n",
       "2       ₹ 100                   Beverages  22121652000190   \n",
       "3       ₹ 250            Fast Food,Indian  22119652000167   \n",
       "4       ₹ 250  Italian-American,Fast Food  12122201000053   \n",
       "...       ...                         ...             ...   \n",
       "148536  ₹ 200            Fast Food,Snacks  21522053000452   \n",
       "148537  ₹ 300                      Pizzas         license   \n",
       "148538  ₹ 300            Fast Food,Snacks  21522251000378   \n",
       "148539  ₹ 250                 Continental  21521251000241   \n",
       "148540  ₹ 200                      Pizzas  21521251000634   \n",
       "\n",
       "                                                     link   \n",
       "0       https://www.swiggy.com/restaurants/ab-foods-po...  \\\n",
       "1       https://www.swiggy.com/restaurants/janta-sweet...   \n",
       "2       https://www.swiggy.com/restaurants/theka-coffe...   \n",
       "3       https://www.swiggy.com/restaurants/singh-hut-n...   \n",
       "4       https://www.swiggy.com/restaurants/grill-maste...   \n",
       "...                                                   ...   \n",
       "148536  https://www.swiggy.com/restaurants/the-food-de...   \n",
       "148537  https://www.swiggy.com/restaurants/maitri-food...   \n",
       "148538  https://www.swiggy.com/restaurants/cafe-bella-...   \n",
       "148539  https://www.swiggy.com/restaurants/grill-zilla...   \n",
       "148540  https://www.swiggy.com/restaurants/lazeez-kitc...   \n",
       "\n",
       "                                                  address              menu  \n",
       "0       AB FOODS POINT, NEAR RISHI NARANG DENTAL CLINI...  Menu/567335.json  \n",
       "1       Janta Sweet House, Bazar No.9, Circullar Road,...  Menu/531342.json  \n",
       "2              theka coffee desi, sahtiya sadan road city  Menu/158203.json  \n",
       "3         Singh Hut, CIRCULAR ROAD NEAR NEHRU PARK ABOHAR  Menu/187912.json  \n",
       "4       GRILL MASTERS, ADA Heights, Abohar - Hanumanga...  Menu/543530.json  \n",
       "...                                                   ...               ...  \n",
       "148536  The Food Delight, 94MC+X35, New Singhania Naga...  Menu/553122.json  \n",
       "148537  MAITRI FOODS & BEVERAGES, POLIC MITRYA SOCIETY...  Menu/562647.json  \n",
       "148538  Cafe Bella Ciao, SHOP NO 2 NEMANI MARKET SBI S...  Menu/559435.json  \n",
       "148539  GRILL ZILLA, SHO NO 2/6, POSTEL GROUND CHOWPAT...  Menu/418989.json  \n",
       "148540  Lazeez kitchen, 94G3+2RR, Wadgaon, Yavatmal, M...  Menu/447770.json  \n",
       "\n",
       "[148541 rows x 11 columns]"
      ]
     },
     "execution_count": 4,
     "metadata": {},
     "output_type": "execute_result"
    }
   ],
   "source": [
    "df = pd.read_csv(\"swiggy.csv\")\n",
    "df"
   ]
  },
  {
   "cell_type": "code",
   "execution_count": 5,
   "id": "7e55209e",
   "metadata": {
    "ExecuteTime": {
     "end_time": "2023-06-16T15:47:21.213526Z",
     "start_time": "2023-06-16T15:47:21.018533Z"
    }
   },
   "outputs": [
    {
     "name": "stdout",
     "output_type": "stream",
     "text": [
      "<class 'pandas.core.frame.DataFrame'>\n",
      "RangeIndex: 148541 entries, 0 to 148540\n",
      "Columns: 11 entries, id to menu\n",
      "dtypes: int64(1), object(10)\n",
      "memory usage: 126.3 MB\n"
     ]
    }
   ],
   "source": [
    "df.info(verbose=False, memory_usage=\"deep\")"
   ]
  },
  {
   "cell_type": "code",
   "execution_count": 6,
   "id": "1f3223bf",
   "metadata": {
    "ExecuteTime": {
     "end_time": "2023-06-16T15:47:21.223285Z",
     "start_time": "2023-06-16T15:47:21.213526Z"
    }
   },
   "outputs": [
    {
     "data": {
      "text/plain": [
       "Index(['id', 'name', 'city', 'rating', 'rating_count', 'cost', 'cuisine',\n",
       "       'lic_no', 'link', 'address', 'menu'],\n",
       "      dtype='object')"
      ]
     },
     "execution_count": 6,
     "metadata": {},
     "output_type": "execute_result"
    }
   ],
   "source": [
    "df.columns"
   ]
  },
  {
   "cell_type": "code",
   "execution_count": 7,
   "id": "ada276d8",
   "metadata": {
    "ExecuteTime": {
     "end_time": "2023-06-16T15:47:21.234691Z",
     "start_time": "2023-06-16T15:47:21.223285Z"
    }
   },
   "outputs": [
    {
     "data": {
      "text/plain": [
       "6"
      ]
     },
     "execution_count": 7,
     "metadata": {},
     "output_type": "execute_result"
    }
   ],
   "source": [
    "req_cols = ['id', 'name', 'city','rating','cost', 'cuisine']\n",
    "len(req_cols)"
   ]
  },
  {
   "cell_type": "code",
   "execution_count": 8,
   "id": "4fd753a2",
   "metadata": {
    "ExecuteTime": {
     "end_time": "2023-06-16T15:47:21.721787Z",
     "start_time": "2023-06-16T15:47:21.234691Z"
    }
   },
   "outputs": [],
   "source": [
    "df = pd.read_csv(\"swiggy.csv\", usecols=req_cols)"
   ]
  },
  {
   "cell_type": "code",
   "execution_count": 9,
   "id": "85528876",
   "metadata": {
    "ExecuteTime": {
     "end_time": "2023-06-16T15:47:21.804181Z",
     "start_time": "2023-06-16T15:47:21.723827Z"
    }
   },
   "outputs": [
    {
     "name": "stdout",
     "output_type": "stream",
     "text": [
      "<class 'pandas.core.frame.DataFrame'>\n",
      "RangeIndex: 148541 entries, 0 to 148540\n",
      "Columns: 6 entries, id to cuisine\n",
      "dtypes: int64(1), object(5)\n",
      "memory usage: 53.4 MB\n"
     ]
    }
   ],
   "source": [
    "df.info(verbose=False, memory_usage=\"deep\")"
   ]
  },
  {
   "cell_type": "code",
   "execution_count": null,
   "id": "287da515",
   "metadata": {},
   "outputs": [],
   "source": []
  },
  {
   "cell_type": "markdown",
   "id": "421980db",
   "metadata": {},
   "source": [
    "## 2. Using correct dtypes for numerical data:\n",
    "Every column has it’s own dtype in a pandas DataFrame, for example, integers have int64, int32, int16 etc…"
   ]
  },
  {
   "cell_type": "code",
   "execution_count": 1,
   "id": "b2852d4a",
   "metadata": {
    "ExecuteTime": {
     "end_time": "2023-06-19T11:23:47.269146Z",
     "start_time": "2023-06-19T11:23:46.750297Z"
    }
   },
   "outputs": [],
   "source": [
    "import pandas as pd\n",
    "import warnings\n",
    "warnings.filterwarnings(\"ignore\")\n",
    "import re"
   ]
  },
  {
   "cell_type": "code",
   "execution_count": 2,
   "id": "f7c574d0",
   "metadata": {
    "ExecuteTime": {
     "end_time": "2023-06-19T11:23:48.103444Z",
     "start_time": "2023-06-19T11:23:47.340530Z"
    }
   },
   "outputs": [],
   "source": [
    "df = pd.read_csv(\"swiggy.csv\")"
   ]
  },
  {
   "cell_type": "code",
   "execution_count": 3,
   "id": "5a37463a",
   "metadata": {
    "ExecuteTime": {
     "end_time": "2023-06-19T11:23:48.248296Z",
     "start_time": "2023-06-19T11:23:48.103444Z"
    }
   },
   "outputs": [],
   "source": [
    "df['cost'].replace(to_replace ='₹ ', value = '', regex = True,inplace=True)"
   ]
  },
  {
   "cell_type": "code",
   "execution_count": 13,
   "id": "6a9da115",
   "metadata": {
    "ExecuteTime": {
     "end_time": "2023-06-16T15:47:22.946357Z",
     "start_time": "2023-06-16T15:47:22.920351Z"
    }
   },
   "outputs": [
    {
     "data": {
      "text/plain": [
       "8908842"
      ]
     },
     "execution_count": 13,
     "metadata": {},
     "output_type": "execute_result"
    }
   ],
   "source": [
    "df['cost'].memory_usage(index=False, deep=True)"
   ]
  },
  {
   "cell_type": "code",
   "execution_count": 14,
   "id": "35d9712f",
   "metadata": {
    "ExecuteTime": {
     "end_time": "2023-06-16T15:47:23.017439Z",
     "start_time": "2023-06-16T15:47:22.950193Z"
    }
   },
   "outputs": [],
   "source": [
    "df['cost'] = df['cost'].astype(float)"
   ]
  },
  {
   "cell_type": "code",
   "execution_count": 4,
   "id": "63e56a5d",
   "metadata": {
    "ExecuteTime": {
     "end_time": "2023-06-19T11:23:57.861507Z",
     "start_time": "2023-06-19T11:23:57.827394Z"
    }
   },
   "outputs": [
    {
     "data": {
      "text/html": [
       "<div>\n",
       "<style scoped>\n",
       "    .dataframe tbody tr th:only-of-type {\n",
       "        vertical-align: middle;\n",
       "    }\n",
       "\n",
       "    .dataframe tbody tr th {\n",
       "        vertical-align: top;\n",
       "    }\n",
       "\n",
       "    .dataframe thead th {\n",
       "        text-align: right;\n",
       "    }\n",
       "</style>\n",
       "<table border=\"1\" class=\"dataframe\">\n",
       "  <thead>\n",
       "    <tr style=\"text-align: right;\">\n",
       "      <th></th>\n",
       "      <th>id</th>\n",
       "      <th>name</th>\n",
       "      <th>city</th>\n",
       "      <th>rating</th>\n",
       "      <th>rating_count</th>\n",
       "      <th>cost</th>\n",
       "      <th>cuisine</th>\n",
       "      <th>lic_no</th>\n",
       "      <th>link</th>\n",
       "      <th>address</th>\n",
       "      <th>menu</th>\n",
       "    </tr>\n",
       "  </thead>\n",
       "  <tbody>\n",
       "    <tr>\n",
       "      <th>0</th>\n",
       "      <td>567335</td>\n",
       "      <td>AB FOODS POINT</td>\n",
       "      <td>Abohar</td>\n",
       "      <td>--</td>\n",
       "      <td>Too Few Ratings</td>\n",
       "      <td>200</td>\n",
       "      <td>Beverages,Pizzas</td>\n",
       "      <td>22122652000138</td>\n",
       "      <td>https://www.swiggy.com/restaurants/ab-foods-po...</td>\n",
       "      <td>AB FOODS POINT, NEAR RISHI NARANG DENTAL CLINI...</td>\n",
       "      <td>Menu/567335.json</td>\n",
       "    </tr>\n",
       "    <tr>\n",
       "      <th>1</th>\n",
       "      <td>531342</td>\n",
       "      <td>Janta Sweet House</td>\n",
       "      <td>Abohar</td>\n",
       "      <td>4.4</td>\n",
       "      <td>50+ ratings</td>\n",
       "      <td>200</td>\n",
       "      <td>Sweets,Bakery</td>\n",
       "      <td>12117201000112</td>\n",
       "      <td>https://www.swiggy.com/restaurants/janta-sweet...</td>\n",
       "      <td>Janta Sweet House, Bazar No.9, Circullar Road,...</td>\n",
       "      <td>Menu/531342.json</td>\n",
       "    </tr>\n",
       "    <tr>\n",
       "      <th>2</th>\n",
       "      <td>158203</td>\n",
       "      <td>theka coffee desi</td>\n",
       "      <td>Abohar</td>\n",
       "      <td>3.8</td>\n",
       "      <td>100+ ratings</td>\n",
       "      <td>100</td>\n",
       "      <td>Beverages</td>\n",
       "      <td>22121652000190</td>\n",
       "      <td>https://www.swiggy.com/restaurants/theka-coffe...</td>\n",
       "      <td>theka coffee desi, sahtiya sadan road city</td>\n",
       "      <td>Menu/158203.json</td>\n",
       "    </tr>\n",
       "    <tr>\n",
       "      <th>3</th>\n",
       "      <td>187912</td>\n",
       "      <td>Singh Hut</td>\n",
       "      <td>Abohar</td>\n",
       "      <td>3.7</td>\n",
       "      <td>20+ ratings</td>\n",
       "      <td>250</td>\n",
       "      <td>Fast Food,Indian</td>\n",
       "      <td>22119652000167</td>\n",
       "      <td>https://www.swiggy.com/restaurants/singh-hut-n...</td>\n",
       "      <td>Singh Hut, CIRCULAR ROAD NEAR NEHRU PARK ABOHAR</td>\n",
       "      <td>Menu/187912.json</td>\n",
       "    </tr>\n",
       "    <tr>\n",
       "      <th>4</th>\n",
       "      <td>543530</td>\n",
       "      <td>GRILL MASTERS</td>\n",
       "      <td>Abohar</td>\n",
       "      <td>--</td>\n",
       "      <td>Too Few Ratings</td>\n",
       "      <td>250</td>\n",
       "      <td>Italian-American,Fast Food</td>\n",
       "      <td>12122201000053</td>\n",
       "      <td>https://www.swiggy.com/restaurants/grill-maste...</td>\n",
       "      <td>GRILL MASTERS, ADA Heights, Abohar - Hanumanga...</td>\n",
       "      <td>Menu/543530.json</td>\n",
       "    </tr>\n",
       "    <tr>\n",
       "      <th>...</th>\n",
       "      <td>...</td>\n",
       "      <td>...</td>\n",
       "      <td>...</td>\n",
       "      <td>...</td>\n",
       "      <td>...</td>\n",
       "      <td>...</td>\n",
       "      <td>...</td>\n",
       "      <td>...</td>\n",
       "      <td>...</td>\n",
       "      <td>...</td>\n",
       "      <td>...</td>\n",
       "    </tr>\n",
       "    <tr>\n",
       "      <th>148536</th>\n",
       "      <td>553122</td>\n",
       "      <td>The Food Delight</td>\n",
       "      <td>Yavatmal</td>\n",
       "      <td>--</td>\n",
       "      <td>Too Few Ratings</td>\n",
       "      <td>200</td>\n",
       "      <td>Fast Food,Snacks</td>\n",
       "      <td>21522053000452</td>\n",
       "      <td>https://www.swiggy.com/restaurants/the-food-de...</td>\n",
       "      <td>The Food Delight, 94MC+X35, New Singhania Naga...</td>\n",
       "      <td>Menu/553122.json</td>\n",
       "    </tr>\n",
       "    <tr>\n",
       "      <th>148537</th>\n",
       "      <td>562647</td>\n",
       "      <td>MAITRI FOODS &amp; BEVERAGES</td>\n",
       "      <td>Yavatmal</td>\n",
       "      <td>--</td>\n",
       "      <td>Too Few Ratings</td>\n",
       "      <td>300</td>\n",
       "      <td>Pizzas</td>\n",
       "      <td>license</td>\n",
       "      <td>https://www.swiggy.com/restaurants/maitri-food...</td>\n",
       "      <td>MAITRI FOODS &amp; BEVERAGES, POLIC MITRYA SOCIETY...</td>\n",
       "      <td>Menu/562647.json</td>\n",
       "    </tr>\n",
       "    <tr>\n",
       "      <th>148538</th>\n",
       "      <td>559435</td>\n",
       "      <td>Cafe Bella Ciao</td>\n",
       "      <td>Yavatmal</td>\n",
       "      <td>--</td>\n",
       "      <td>Too Few Ratings</td>\n",
       "      <td>300</td>\n",
       "      <td>Fast Food,Snacks</td>\n",
       "      <td>21522251000378</td>\n",
       "      <td>https://www.swiggy.com/restaurants/cafe-bella-...</td>\n",
       "      <td>Cafe Bella Ciao, SHOP NO 2 NEMANI MARKET SBI S...</td>\n",
       "      <td>Menu/559435.json</td>\n",
       "    </tr>\n",
       "    <tr>\n",
       "      <th>148539</th>\n",
       "      <td>418989</td>\n",
       "      <td>GRILL ZILLA</td>\n",
       "      <td>Yavatmal</td>\n",
       "      <td>--</td>\n",
       "      <td>Too Few Ratings</td>\n",
       "      <td>250</td>\n",
       "      <td>Continental</td>\n",
       "      <td>21521251000241</td>\n",
       "      <td>https://www.swiggy.com/restaurants/grill-zilla...</td>\n",
       "      <td>GRILL ZILLA, SHO NO 2/6, POSTEL GROUND CHOWPAT...</td>\n",
       "      <td>Menu/418989.json</td>\n",
       "    </tr>\n",
       "    <tr>\n",
       "      <th>148540</th>\n",
       "      <td>447770</td>\n",
       "      <td>Lazeez kitchen</td>\n",
       "      <td>Yavatmal</td>\n",
       "      <td>--</td>\n",
       "      <td>Too Few Ratings</td>\n",
       "      <td>200</td>\n",
       "      <td>Pizzas</td>\n",
       "      <td>21521251000634</td>\n",
       "      <td>https://www.swiggy.com/restaurants/lazeez-kitc...</td>\n",
       "      <td>Lazeez kitchen, 94G3+2RR, Wadgaon, Yavatmal, M...</td>\n",
       "      <td>Menu/447770.json</td>\n",
       "    </tr>\n",
       "  </tbody>\n",
       "</table>\n",
       "<p>148541 rows × 11 columns</p>\n",
       "</div>"
      ],
      "text/plain": [
       "            id                      name      city rating     rating_count  \\\n",
       "0       567335            AB FOODS POINT    Abohar     --  Too Few Ratings   \n",
       "1       531342         Janta Sweet House    Abohar    4.4      50+ ratings   \n",
       "2       158203         theka coffee desi    Abohar    3.8     100+ ratings   \n",
       "3       187912                 Singh Hut    Abohar    3.7      20+ ratings   \n",
       "4       543530             GRILL MASTERS    Abohar     --  Too Few Ratings   \n",
       "...        ...                       ...       ...    ...              ...   \n",
       "148536  553122          The Food Delight  Yavatmal     --  Too Few Ratings   \n",
       "148537  562647  MAITRI FOODS & BEVERAGES  Yavatmal     --  Too Few Ratings   \n",
       "148538  559435           Cafe Bella Ciao  Yavatmal     --  Too Few Ratings   \n",
       "148539  418989               GRILL ZILLA  Yavatmal     --  Too Few Ratings   \n",
       "148540  447770            Lazeez kitchen  Yavatmal     --  Too Few Ratings   \n",
       "\n",
       "       cost                     cuisine          lic_no  \\\n",
       "0       200            Beverages,Pizzas  22122652000138   \n",
       "1       200               Sweets,Bakery  12117201000112   \n",
       "2       100                   Beverages  22121652000190   \n",
       "3       250            Fast Food,Indian  22119652000167   \n",
       "4       250  Italian-American,Fast Food  12122201000053   \n",
       "...     ...                         ...             ...   \n",
       "148536  200            Fast Food,Snacks  21522053000452   \n",
       "148537  300                      Pizzas         license   \n",
       "148538  300            Fast Food,Snacks  21522251000378   \n",
       "148539  250                 Continental  21521251000241   \n",
       "148540  200                      Pizzas  21521251000634   \n",
       "\n",
       "                                                     link  \\\n",
       "0       https://www.swiggy.com/restaurants/ab-foods-po...   \n",
       "1       https://www.swiggy.com/restaurants/janta-sweet...   \n",
       "2       https://www.swiggy.com/restaurants/theka-coffe...   \n",
       "3       https://www.swiggy.com/restaurants/singh-hut-n...   \n",
       "4       https://www.swiggy.com/restaurants/grill-maste...   \n",
       "...                                                   ...   \n",
       "148536  https://www.swiggy.com/restaurants/the-food-de...   \n",
       "148537  https://www.swiggy.com/restaurants/maitri-food...   \n",
       "148538  https://www.swiggy.com/restaurants/cafe-bella-...   \n",
       "148539  https://www.swiggy.com/restaurants/grill-zilla...   \n",
       "148540  https://www.swiggy.com/restaurants/lazeez-kitc...   \n",
       "\n",
       "                                                  address              menu  \n",
       "0       AB FOODS POINT, NEAR RISHI NARANG DENTAL CLINI...  Menu/567335.json  \n",
       "1       Janta Sweet House, Bazar No.9, Circullar Road,...  Menu/531342.json  \n",
       "2              theka coffee desi, sahtiya sadan road city  Menu/158203.json  \n",
       "3         Singh Hut, CIRCULAR ROAD NEAR NEHRU PARK ABOHAR  Menu/187912.json  \n",
       "4       GRILL MASTERS, ADA Heights, Abohar - Hanumanga...  Menu/543530.json  \n",
       "...                                                   ...               ...  \n",
       "148536  The Food Delight, 94MC+X35, New Singhania Naga...  Menu/553122.json  \n",
       "148537  MAITRI FOODS & BEVERAGES, POLIC MITRYA SOCIETY...  Menu/562647.json  \n",
       "148538  Cafe Bella Ciao, SHOP NO 2 NEMANI MARKET SBI S...  Menu/559435.json  \n",
       "148539  GRILL ZILLA, SHO NO 2/6, POSTEL GROUND CHOWPAT...  Menu/418989.json  \n",
       "148540  Lazeez kitchen, 94G3+2RR, Wadgaon, Yavatmal, M...  Menu/447770.json  \n",
       "\n",
       "[148541 rows x 11 columns]"
      ]
     },
     "execution_count": 4,
     "metadata": {},
     "output_type": "execute_result"
    }
   ],
   "source": [
    "df"
   ]
  },
  {
   "cell_type": "code",
   "execution_count": 16,
   "id": "f61ee4a3",
   "metadata": {
    "ExecuteTime": {
     "end_time": "2023-06-16T15:47:23.051604Z",
     "start_time": "2023-06-16T15:47:23.039572Z"
    }
   },
   "outputs": [
    {
     "data": {
      "text/plain": [
       "1.0"
      ]
     },
     "execution_count": 16,
     "metadata": {},
     "output_type": "execute_result"
    }
   ],
   "source": [
    "df['cost'].min()"
   ]
  },
  {
   "cell_type": "code",
   "execution_count": 17,
   "id": "14460576",
   "metadata": {
    "ExecuteTime": {
     "end_time": "2023-06-16T15:47:23.061764Z",
     "start_time": "2023-06-16T15:47:23.051604Z"
    }
   },
   "outputs": [
    {
     "data": {
      "text/plain": [
       "300350.0"
      ]
     },
     "execution_count": 17,
     "metadata": {},
     "output_type": "execute_result"
    }
   ],
   "source": [
    "df['cost'].max()"
   ]
  },
  {
   "cell_type": "code",
   "execution_count": 18,
   "id": "91937b60",
   "metadata": {
    "ExecuteTime": {
     "end_time": "2023-06-16T15:47:23.071784Z",
     "start_time": "2023-06-16T15:47:23.062266Z"
    }
   },
   "outputs": [
    {
     "data": {
      "text/plain": [
       "1188328"
      ]
     },
     "execution_count": 18,
     "metadata": {},
     "output_type": "execute_result"
    }
   ],
   "source": [
    "df['cost'].memory_usage(index=False, deep=True)"
   ]
  },
  {
   "cell_type": "code",
   "execution_count": 19,
   "id": "1d7d1381",
   "metadata": {
    "ExecuteTime": {
     "end_time": "2023-06-16T15:47:23.079948Z",
     "start_time": "2023-06-16T15:47:23.071784Z"
    }
   },
   "outputs": [
    {
     "data": {
      "text/plain": [
       "86.66125182150498"
      ]
     },
     "execution_count": 19,
     "metadata": {},
     "output_type": "execute_result"
    }
   ],
   "source": [
    "(8908842-1188328)/8908842*100"
   ]
  },
  {
   "cell_type": "raw",
   "id": "19401703",
   "metadata": {},
   "source": [
    "Memory Usage is reduced by 86%"
   ]
  },
  {
   "cell_type": "markdown",
   "id": "3b7c8d8a",
   "metadata": {},
   "source": [
    "## 3. Using correct dtypes for categorical columns:"
   ]
  },
  {
   "cell_type": "code",
   "execution_count": 20,
   "id": "ae7f12cb",
   "metadata": {
    "ExecuteTime": {
     "end_time": "2023-06-16T15:47:23.426010Z",
     "start_time": "2023-06-16T15:47:23.417509Z"
    }
   },
   "outputs": [],
   "source": [
    "import pandas as pd\n",
    "import warnings\n",
    "warnings.filterwarnings(\"ignore\")"
   ]
  },
  {
   "cell_type": "code",
   "execution_count": 21,
   "id": "181a8de4",
   "metadata": {
    "ExecuteTime": {
     "end_time": "2023-06-16T15:47:23.692814Z",
     "start_time": "2023-06-16T15:47:23.582181Z"
    }
   },
   "outputs": [
    {
     "data": {
      "text/html": [
       "<div>\n",
       "<style scoped>\n",
       "    .dataframe tbody tr th:only-of-type {\n",
       "        vertical-align: middle;\n",
       "    }\n",
       "\n",
       "    .dataframe tbody tr th {\n",
       "        vertical-align: top;\n",
       "    }\n",
       "\n",
       "    .dataframe thead th {\n",
       "        text-align: right;\n",
       "    }\n",
       "</style>\n",
       "<table border=\"1\" class=\"dataframe\">\n",
       "  <thead>\n",
       "    <tr style=\"text-align: right;\">\n",
       "      <th></th>\n",
       "      <th>name</th>\n",
       "      <th>year</th>\n",
       "      <th>selling_price</th>\n",
       "      <th>km_driven</th>\n",
       "      <th>fuel</th>\n",
       "      <th>seller_type</th>\n",
       "      <th>transmission</th>\n",
       "      <th>owner</th>\n",
       "    </tr>\n",
       "  </thead>\n",
       "  <tbody>\n",
       "    <tr>\n",
       "      <th>0</th>\n",
       "      <td>Maruti 800 AC</td>\n",
       "      <td>2007</td>\n",
       "      <td>60000</td>\n",
       "      <td>70000</td>\n",
       "      <td>Petrol</td>\n",
       "      <td>Individual</td>\n",
       "      <td>Manual</td>\n",
       "      <td>First Owner</td>\n",
       "    </tr>\n",
       "    <tr>\n",
       "      <th>1</th>\n",
       "      <td>Maruti Wagon R LXI Minor</td>\n",
       "      <td>2007</td>\n",
       "      <td>135000</td>\n",
       "      <td>50000</td>\n",
       "      <td>Petrol</td>\n",
       "      <td>Individual</td>\n",
       "      <td>Manual</td>\n",
       "      <td>First Owner</td>\n",
       "    </tr>\n",
       "    <tr>\n",
       "      <th>2</th>\n",
       "      <td>Hyundai Verna 1.6 SX</td>\n",
       "      <td>2012</td>\n",
       "      <td>600000</td>\n",
       "      <td>100000</td>\n",
       "      <td>Diesel</td>\n",
       "      <td>Individual</td>\n",
       "      <td>Manual</td>\n",
       "      <td>First Owner</td>\n",
       "    </tr>\n",
       "    <tr>\n",
       "      <th>3</th>\n",
       "      <td>Datsun RediGO T Option</td>\n",
       "      <td>2017</td>\n",
       "      <td>250000</td>\n",
       "      <td>46000</td>\n",
       "      <td>Petrol</td>\n",
       "      <td>Individual</td>\n",
       "      <td>Manual</td>\n",
       "      <td>First Owner</td>\n",
       "    </tr>\n",
       "    <tr>\n",
       "      <th>4</th>\n",
       "      <td>Honda Amaze VX i-DTEC</td>\n",
       "      <td>2014</td>\n",
       "      <td>450000</td>\n",
       "      <td>141000</td>\n",
       "      <td>Diesel</td>\n",
       "      <td>Individual</td>\n",
       "      <td>Manual</td>\n",
       "      <td>Second Owner</td>\n",
       "    </tr>\n",
       "    <tr>\n",
       "      <th>...</th>\n",
       "      <td>...</td>\n",
       "      <td>...</td>\n",
       "      <td>...</td>\n",
       "      <td>...</td>\n",
       "      <td>...</td>\n",
       "      <td>...</td>\n",
       "      <td>...</td>\n",
       "      <td>...</td>\n",
       "    </tr>\n",
       "    <tr>\n",
       "      <th>4335</th>\n",
       "      <td>Hyundai i20 Magna 1.4 CRDi (Diesel)</td>\n",
       "      <td>2014</td>\n",
       "      <td>409999</td>\n",
       "      <td>80000</td>\n",
       "      <td>Diesel</td>\n",
       "      <td>Individual</td>\n",
       "      <td>Manual</td>\n",
       "      <td>Second Owner</td>\n",
       "    </tr>\n",
       "    <tr>\n",
       "      <th>4336</th>\n",
       "      <td>Hyundai i20 Magna 1.4 CRDi</td>\n",
       "      <td>2014</td>\n",
       "      <td>409999</td>\n",
       "      <td>80000</td>\n",
       "      <td>Diesel</td>\n",
       "      <td>Individual</td>\n",
       "      <td>Manual</td>\n",
       "      <td>Second Owner</td>\n",
       "    </tr>\n",
       "    <tr>\n",
       "      <th>4337</th>\n",
       "      <td>Maruti 800 AC BSIII</td>\n",
       "      <td>2009</td>\n",
       "      <td>110000</td>\n",
       "      <td>83000</td>\n",
       "      <td>Petrol</td>\n",
       "      <td>Individual</td>\n",
       "      <td>Manual</td>\n",
       "      <td>Second Owner</td>\n",
       "    </tr>\n",
       "    <tr>\n",
       "      <th>4338</th>\n",
       "      <td>Hyundai Creta 1.6 CRDi SX Option</td>\n",
       "      <td>2016</td>\n",
       "      <td>865000</td>\n",
       "      <td>90000</td>\n",
       "      <td>Diesel</td>\n",
       "      <td>Individual</td>\n",
       "      <td>Manual</td>\n",
       "      <td>First Owner</td>\n",
       "    </tr>\n",
       "    <tr>\n",
       "      <th>4339</th>\n",
       "      <td>Renault KWID RXT</td>\n",
       "      <td>2016</td>\n",
       "      <td>225000</td>\n",
       "      <td>40000</td>\n",
       "      <td>Petrol</td>\n",
       "      <td>Individual</td>\n",
       "      <td>Manual</td>\n",
       "      <td>First Owner</td>\n",
       "    </tr>\n",
       "  </tbody>\n",
       "</table>\n",
       "<p>4340 rows × 8 columns</p>\n",
       "</div>"
      ],
      "text/plain": [
       "                                     name  year  selling_price  km_driven   \n",
       "0                           Maruti 800 AC  2007          60000      70000  \\\n",
       "1                Maruti Wagon R LXI Minor  2007         135000      50000   \n",
       "2                    Hyundai Verna 1.6 SX  2012         600000     100000   \n",
       "3                  Datsun RediGO T Option  2017         250000      46000   \n",
       "4                   Honda Amaze VX i-DTEC  2014         450000     141000   \n",
       "...                                   ...   ...            ...        ...   \n",
       "4335  Hyundai i20 Magna 1.4 CRDi (Diesel)  2014         409999      80000   \n",
       "4336           Hyundai i20 Magna 1.4 CRDi  2014         409999      80000   \n",
       "4337                  Maruti 800 AC BSIII  2009         110000      83000   \n",
       "4338     Hyundai Creta 1.6 CRDi SX Option  2016         865000      90000   \n",
       "4339                     Renault KWID RXT  2016         225000      40000   \n",
       "\n",
       "        fuel seller_type transmission         owner  \n",
       "0     Petrol  Individual       Manual   First Owner  \n",
       "1     Petrol  Individual       Manual   First Owner  \n",
       "2     Diesel  Individual       Manual   First Owner  \n",
       "3     Petrol  Individual       Manual   First Owner  \n",
       "4     Diesel  Individual       Manual  Second Owner  \n",
       "...      ...         ...          ...           ...  \n",
       "4335  Diesel  Individual       Manual  Second Owner  \n",
       "4336  Diesel  Individual       Manual  Second Owner  \n",
       "4337  Petrol  Individual       Manual  Second Owner  \n",
       "4338  Diesel  Individual       Manual   First Owner  \n",
       "4339  Petrol  Individual       Manual   First Owner  \n",
       "\n",
       "[4340 rows x 8 columns]"
      ]
     },
     "execution_count": 21,
     "metadata": {},
     "output_type": "execute_result"
    }
   ],
   "source": [
    "df1 = pd.read_csv(\"Car Dekho.csv\")\n",
    "df1"
   ]
  },
  {
   "cell_type": "code",
   "execution_count": 22,
   "id": "54544632",
   "metadata": {
    "ExecuteTime": {
     "end_time": "2023-06-16T15:47:23.826527Z",
     "start_time": "2023-06-16T15:47:23.810759Z"
    }
   },
   "outputs": [
    {
     "data": {
      "text/plain": [
       "273233"
      ]
     },
     "execution_count": 22,
     "metadata": {},
     "output_type": "execute_result"
    }
   ],
   "source": [
    "df1['fuel'].memory_usage(index=False, deep=True)"
   ]
  },
  {
   "cell_type": "code",
   "execution_count": 23,
   "id": "91daddc0",
   "metadata": {
    "ExecuteTime": {
     "end_time": "2023-06-16T15:47:23.996969Z",
     "start_time": "2023-06-16T15:47:23.959989Z"
    }
   },
   "outputs": [],
   "source": [
    "df1= pd.read_csv(\"Car Dekho.csv\", dtype={\"fuel\": \"category\"})"
   ]
  },
  {
   "cell_type": "code",
   "execution_count": 24,
   "id": "07899b7f",
   "metadata": {
    "ExecuteTime": {
     "end_time": "2023-06-16T15:47:24.154420Z",
     "start_time": "2023-06-16T15:47:24.142371Z"
    }
   },
   "outputs": [
    {
     "data": {
      "text/plain": [
       "4823"
      ]
     },
     "execution_count": 24,
     "metadata": {},
     "output_type": "execute_result"
    }
   ],
   "source": [
    "df1['fuel'].memory_usage(index=False, deep=True)"
   ]
  },
  {
   "cell_type": "code",
   "execution_count": 25,
   "id": "0954ec7b",
   "metadata": {
    "ExecuteTime": {
     "end_time": "2023-06-16T15:47:24.342968Z",
     "start_time": "2023-06-16T15:47:24.331512Z"
    }
   },
   "outputs": [
    {
     "data": {
      "text/plain": [
       "98.23483986194933"
      ]
     },
     "execution_count": 25,
     "metadata": {},
     "output_type": "execute_result"
    }
   ],
   "source": [
    "(273233-4823)/273233*100"
   ]
  },
  {
   "cell_type": "raw",
   "id": "e25c3654",
   "metadata": {},
   "source": [
    " Memory Usage was reduced by 98%."
   ]
  },
  {
   "cell_type": "code",
   "execution_count": null,
   "id": "c5d90fee",
   "metadata": {},
   "outputs": [],
   "source": []
  },
  {
   "cell_type": "raw",
   "id": "df7122bc",
   "metadata": {},
   "source": [
    "If your DataFrame contains lots of empty values or missing values or NANs you can reduce their memory footprint by converting them to Sparse Series."
   ]
  },
  {
   "cell_type": "code",
   "execution_count": 26,
   "id": "620f9563",
   "metadata": {
    "ExecuteTime": {
     "end_time": "2023-06-16T15:47:25.090990Z",
     "start_time": "2023-06-16T15:47:25.084097Z"
    }
   },
   "outputs": [],
   "source": [
    "import pandas as pd\n",
    "import warnings\n",
    "warnings.filterwarnings(\"ignore\")"
   ]
  },
  {
   "cell_type": "code",
   "execution_count": 27,
   "id": "73062148",
   "metadata": {
    "ExecuteTime": {
     "end_time": "2023-06-16T15:47:26.236458Z",
     "start_time": "2023-06-16T15:47:25.275034Z"
    }
   },
   "outputs": [
    {
     "data": {
      "text/plain": [
       "id                0\n",
       "name             86\n",
       "city              0\n",
       "rating           86\n",
       "rating_count     86\n",
       "cost            131\n",
       "cuisine          99\n",
       "lic_no          229\n",
       "link              0\n",
       "address          86\n",
       "menu              0\n",
       "dtype: int64"
      ]
     },
     "execution_count": 27,
     "metadata": {},
     "output_type": "execute_result"
    }
   ],
   "source": [
    "df3 = pd.read_csv(\"swiggy.csv\")\n",
    "df3.isnull().sum()"
   ]
  },
  {
   "cell_type": "code",
   "execution_count": 28,
   "id": "4f7c4fe9",
   "metadata": {
    "ExecuteTime": {
     "end_time": "2023-06-16T15:47:26.243967Z",
     "start_time": "2023-06-16T15:47:26.240094Z"
    }
   },
   "outputs": [],
   "source": [
    "series = df3['rating_count']"
   ]
  },
  {
   "cell_type": "code",
   "execution_count": 29,
   "id": "00b21d0b",
   "metadata": {
    "ExecuteTime": {
     "end_time": "2023-06-16T15:47:26.316109Z",
     "start_time": "2023-06-16T15:47:26.245968Z"
    }
   },
   "outputs": [
    {
     "data": {
      "text/plain": [
       "10470707"
      ]
     },
     "execution_count": 29,
     "metadata": {},
     "output_type": "execute_result"
    }
   ],
   "source": [
    "series.memory_usage(index=False, deep=True)"
   ]
  },
  {
   "cell_type": "code",
   "execution_count": 30,
   "id": "7e99ef48",
   "metadata": {
    "ExecuteTime": {
     "end_time": "2023-06-16T15:47:26.327172Z",
     "start_time": "2023-06-16T15:47:26.316109Z"
    }
   },
   "outputs": [
    {
     "data": {
      "text/plain": [
       "148541"
      ]
     },
     "execution_count": 30,
     "metadata": {},
     "output_type": "execute_result"
    }
   ],
   "source": [
    "len(series)"
   ]
  },
  {
   "cell_type": "code",
   "execution_count": 31,
   "id": "d3669a5b",
   "metadata": {
    "ExecuteTime": {
     "end_time": "2023-06-16T15:47:26.351842Z",
     "start_time": "2023-06-16T15:47:26.333164Z"
    }
   },
   "outputs": [
    {
     "data": {
      "text/plain": [
       "148455"
      ]
     },
     "execution_count": 31,
     "metadata": {},
     "output_type": "execute_result"
    }
   ],
   "source": [
    "len(series.dropna())"
   ]
  },
  {
   "cell_type": "code",
   "execution_count": 32,
   "id": "99a82bd9",
   "metadata": {
    "ExecuteTime": {
     "end_time": "2023-06-16T15:47:26.371079Z",
     "start_time": "2023-06-16T15:47:26.351842Z"
    }
   },
   "outputs": [],
   "source": [
    "sparse_series = series.astype(\"Sparse[str]\")"
   ]
  },
  {
   "cell_type": "code",
   "execution_count": 33,
   "id": "edc718ed",
   "metadata": {
    "ExecuteTime": {
     "end_time": "2023-06-16T15:47:26.442910Z",
     "start_time": "2023-06-16T15:47:26.433885Z"
    }
   },
   "outputs": [
    {
     "data": {
      "text/plain": [
       "148541"
      ]
     },
     "execution_count": 33,
     "metadata": {},
     "output_type": "execute_result"
    }
   ],
   "source": [
    "len(sparse_series)"
   ]
  },
  {
   "cell_type": "code",
   "execution_count": 34,
   "id": "cb5a2f93",
   "metadata": {
    "ExecuteTime": {
     "end_time": "2023-06-16T15:47:27.063619Z",
     "start_time": "2023-06-16T15:47:26.609964Z"
    }
   },
   "outputs": [
    {
     "data": {
      "text/plain": [
       "11063839"
      ]
     },
     "execution_count": 34,
     "metadata": {},
     "output_type": "execute_result"
    }
   ],
   "source": [
    "sparse_series.memory_usage(index=False, deep=True)"
   ]
  },
  {
   "cell_type": "code",
   "execution_count": 35,
   "id": "33b83fe0",
   "metadata": {
    "ExecuteTime": {
     "end_time": "2023-06-16T15:47:27.073699Z",
     "start_time": "2023-06-16T15:47:27.063619Z"
    }
   },
   "outputs": [
    {
     "data": {
      "text/plain": [
       "5.360996305170385"
      ]
     },
     "execution_count": 35,
     "metadata": {},
     "output_type": "execute_result"
    }
   ],
   "source": [
    "(11063839-10470707)/11063839*100"
   ]
  },
  {
   "cell_type": "code",
   "execution_count": null,
   "id": "6399782e",
   "metadata": {},
   "outputs": [],
   "source": []
  },
  {
   "cell_type": "markdown",
   "id": "e66e49e8",
   "metadata": {},
   "source": [
    "# 4. nrows, skip rows"
   ]
  },
  {
   "cell_type": "code",
   "execution_count": 36,
   "id": "74a1e01c",
   "metadata": {
    "ExecuteTime": {
     "end_time": "2023-06-16T15:47:28.719580Z",
     "start_time": "2023-06-16T15:47:28.682400Z"
    }
   },
   "outputs": [
    {
     "data": {
      "text/plain": [
       "1000"
      ]
     },
     "execution_count": 36,
     "metadata": {},
     "output_type": "execute_result"
    }
   ],
   "source": [
    "import pandas as pd\n",
    "df4 = pd.read_csv(\"swiggy.csv\", nrows=1000)\n",
    "len(df4)"
   ]
  },
  {
   "cell_type": "code",
   "execution_count": 37,
   "id": "e0a88f35",
   "metadata": {
    "ExecuteTime": {
     "end_time": "2023-06-16T15:47:29.001902Z",
     "start_time": "2023-06-16T15:47:28.985903Z"
    }
   },
   "outputs": [],
   "source": [
    "#skiprows Line numbers to skip (0-indexed) or the number of lines to skip (int) at the start of the file."
   ]
  },
  {
   "cell_type": "code",
   "execution_count": 38,
   "id": "5d2b70bd",
   "metadata": {
    "ExecuteTime": {
     "end_time": "2023-06-16T15:47:29.685560Z",
     "start_time": "2023-06-16T15:47:29.233894Z"
    }
   },
   "outputs": [],
   "source": [
    "# Can be either list or first N rows.\n",
    "df5 = pd.read_csv('train.csv') \n",
    "# It might remove headings"
   ]
  },
  {
   "cell_type": "code",
   "execution_count": 39,
   "id": "3a7166df",
   "metadata": {
    "ExecuteTime": {
     "end_time": "2023-06-16T15:47:29.820340Z",
     "start_time": "2023-06-16T15:47:29.747911Z"
    }
   },
   "outputs": [
    {
     "name": "stdout",
     "output_type": "stream",
     "text": [
      "<class 'pandas.core.frame.DataFrame'>\n",
      "RangeIndex: 100000 entries, 0 to 99999\n",
      "Data columns (total 28 columns):\n",
      " #   Column                    Non-Null Count   Dtype  \n",
      "---  ------                    --------------   -----  \n",
      " 0   ID                        100000 non-null  int64  \n",
      " 1   Customer_ID               100000 non-null  int64  \n",
      " 2   Month                     100000 non-null  int64  \n",
      " 3   Name                      100000 non-null  object \n",
      " 4   Age                       100000 non-null  float64\n",
      " 5   SSN                       100000 non-null  float64\n",
      " 6   Occupation                100000 non-null  object \n",
      " 7   Annual_Income             100000 non-null  float64\n",
      " 8   Monthly_Inhand_Salary     100000 non-null  float64\n",
      " 9   Num_Bank_Accounts         100000 non-null  float64\n",
      " 10  Num_Credit_Card           100000 non-null  float64\n",
      " 11  Interest_Rate             100000 non-null  float64\n",
      " 12  Num_of_Loan               100000 non-null  float64\n",
      " 13  Type_of_Loan              100000 non-null  object \n",
      " 14  Delay_from_due_date       100000 non-null  float64\n",
      " 15  Num_of_Delayed_Payment    100000 non-null  float64\n",
      " 16  Changed_Credit_Limit      100000 non-null  float64\n",
      " 17  Num_Credit_Inquiries      100000 non-null  float64\n",
      " 18  Credit_Mix                100000 non-null  object \n",
      " 19  Outstanding_Debt          100000 non-null  float64\n",
      " 20  Credit_Utilization_Ratio  100000 non-null  float64\n",
      " 21  Credit_History_Age        100000 non-null  float64\n",
      " 22  Payment_of_Min_Amount     100000 non-null  object \n",
      " 23  Total_EMI_per_month       100000 non-null  float64\n",
      " 24  Amount_invested_monthly   100000 non-null  float64\n",
      " 25  Payment_Behaviour         100000 non-null  object \n",
      " 26  Monthly_Balance           100000 non-null  float64\n",
      " 27  Credit_Score              100000 non-null  object \n",
      "dtypes: float64(18), int64(3), object(7)\n",
      "memory usage: 21.4+ MB\n"
     ]
    }
   ],
   "source": [
    "df5.info()"
   ]
  },
  {
   "cell_type": "code",
   "execution_count": 40,
   "id": "a0cef78c",
   "metadata": {
    "ExecuteTime": {
     "end_time": "2023-06-16T15:47:31.196832Z",
     "start_time": "2023-06-16T15:47:31.117877Z"
    }
   },
   "outputs": [
    {
     "ename": "TypeError",
     "evalue": "read_csv() got an unexpected keyword argument 'error_bad_lines'",
     "output_type": "error",
     "traceback": [
      "\u001b[1;31m---------------------------------------------------------------------------\u001b[0m",
      "\u001b[1;31mTypeError\u001b[0m                                 Traceback (most recent call last)",
      "Cell \u001b[1;32mIn[40], line 11\u001b[0m\n\u001b[0;32m      9\u001b[0m         dtype_dictionary[c] \u001b[38;5;241m=\u001b[39m \u001b[38;5;28mstr\u001b[39m(dtypes[c])\n\u001b[0;32m     10\u001b[0m \u001b[38;5;66;03m# Load Data with increased speed and reduced memory.\u001b[39;00m\n\u001b[1;32m---> 11\u001b[0m df \u001b[38;5;241m=\u001b[39m \u001b[43mpd\u001b[49m\u001b[38;5;241;43m.\u001b[39;49m\u001b[43mread_csv\u001b[49m\u001b[43m(\u001b[49m\u001b[38;5;124;43m\"\u001b[39;49m\u001b[38;5;124;43mtrain.csv\u001b[39;49m\u001b[38;5;124;43m\"\u001b[39;49m\u001b[43m,\u001b[49m\u001b[43m \u001b[49m\u001b[43mdtype\u001b[49m\u001b[38;5;241;43m=\u001b[39;49m\u001b[43mdtype_dictionary\u001b[49m\u001b[43m,\u001b[49m\u001b[43m \u001b[49m\n\u001b[0;32m     12\u001b[0m \u001b[43m                 \u001b[49m\u001b[43mkeep_default_na\u001b[49m\u001b[38;5;241;43m=\u001b[39;49m\u001b[38;5;28;43;01mFalse\u001b[39;49;00m\u001b[43m,\u001b[49m\u001b[43m \u001b[49m\n\u001b[0;32m     13\u001b[0m \u001b[43m                 \u001b[49m\u001b[43merror_bad_lines\u001b[49m\u001b[38;5;241;43m=\u001b[39;49m\u001b[38;5;28;43;01mFalse\u001b[39;49;00m\u001b[43m,\u001b[49m\n\u001b[0;32m     14\u001b[0m \u001b[43m                 \u001b[49m\u001b[43mna_values\u001b[49m\u001b[38;5;241;43m=\u001b[39;49m\u001b[43m[\u001b[49m\u001b[38;5;124;43m'\u001b[39;49m\u001b[38;5;124;43mna\u001b[39;49m\u001b[38;5;124;43m'\u001b[39;49m\u001b[43m,\u001b[49m\u001b[38;5;124;43m'\u001b[39;49m\u001b[38;5;124;43m'\u001b[39;49m\u001b[43m]\u001b[49m\u001b[43m)\u001b[49m\n",
      "\u001b[1;31mTypeError\u001b[0m: read_csv() got an unexpected keyword argument 'error_bad_lines'"
     ]
    }
   ],
   "source": [
    "sample = pd.read_csv(\"train.csv\", nrows=100) # Load Sample data\n",
    "dtypes = sample.dtypes # Get the dtypes\n",
    "cols = sample.columns # Get the columns\n",
    "dtype_dictionary = {} \n",
    "for c in cols:\n",
    "    if str(dtypes[c]) == 'int64':\n",
    "        dtype_dictionary[c] = 'float32' # Handle NANs in int columns\n",
    "    else:\n",
    "        dtype_dictionary[c] = str(dtypes[c])\n",
    "# Load Data with increased speed and reduced memory.\n",
    "df = pd.read_csv(\"train.csv\", dtype=dtype_dictionary, \n",
    "                 keep_default_na=False, \n",
    "                 error_bad_lines=False,\n",
    "                 na_values=['na',''])"
   ]
  },
  {
   "cell_type": "markdown",
   "id": "d8ab25e8",
   "metadata": {},
   "source": [
    "## 5. Loading Data in Chunks:"
   ]
  },
  {
   "cell_type": "code",
   "execution_count": null,
   "id": "b60e3767",
   "metadata": {
    "ExecuteTime": {
     "end_time": "2023-06-16T14:22:30.114479Z",
     "start_time": "2023-06-16T14:22:30.100851Z"
    }
   },
   "outputs": [],
   "source": [
    "import pandas as pd\n",
    "import warnings\n",
    "warnings.filterwarnings(\"ignore\")"
   ]
  },
  {
   "cell_type": "code",
   "execution_count": null,
   "id": "a09cf1bd",
   "metadata": {
    "ExecuteTime": {
     "end_time": "2023-06-16T14:22:31.382998Z",
     "start_time": "2023-06-16T14:22:30.316980Z"
    }
   },
   "outputs": [],
   "source": [
    "df5 = pd.read_csv(\"swiggy.csv\")"
   ]
  },
  {
   "cell_type": "code",
   "execution_count": null,
   "id": "0a921e1e",
   "metadata": {
    "ExecuteTime": {
     "end_time": "2023-06-16T14:22:31.392052Z",
     "start_time": "2023-06-16T14:22:31.384023Z"
    }
   },
   "outputs": [],
   "source": [
    "len(df5)"
   ]
  },
  {
   "cell_type": "markdown",
   "id": "7b17cb6e",
   "metadata": {
    "ExecuteTime": {
     "end_time": "2023-06-16T08:01:10.597794Z",
     "start_time": "2023-06-16T08:01:10.503434Z"
    }
   },
   "source": [
    "### Check the total length after loading chunk by chunk"
   ]
  },
  {
   "cell_type": "code",
   "execution_count": null,
   "id": "89c7280c",
   "metadata": {
    "ExecuteTime": {
     "end_time": "2023-06-16T14:22:31.445546Z",
     "start_time": "2023-06-16T14:22:31.395294Z"
    }
   },
   "outputs": [],
   "source": [
    "df6 = pd.read_csv(\"swiggy.csv\", chunksize=1000)"
   ]
  },
  {
   "cell_type": "code",
   "execution_count": null,
   "id": "d52eddc9",
   "metadata": {
    "ExecuteTime": {
     "end_time": "2023-06-16T14:22:33.298801Z",
     "start_time": "2023-06-16T14:22:31.445546Z"
    }
   },
   "outputs": [],
   "source": [
    "total_len = 0\n",
    "for chunk in df6:\n",
    "    # Do some preprocessing to reduce the memory size of each chunk\n",
    "    total_len += len(chunk)\n",
    "print(total_len)"
   ]
  },
  {
   "cell_type": "markdown",
   "id": "83ba04fd",
   "metadata": {},
   "source": [
    "### Concatnate each chunk one by one"
   ]
  },
  {
   "cell_type": "code",
   "execution_count": null,
   "id": "baf5871f",
   "metadata": {
    "ExecuteTime": {
     "end_time": "2023-06-16T14:22:35.110283Z",
     "start_time": "2023-06-16T14:22:33.298801Z"
    }
   },
   "outputs": [],
   "source": [
    "tp = pd.read_csv('swiggy.csv', iterator=True, chunksize=1000)  # gives TextFileReader\n",
    "df7 = pd.concat(tp, ignore_index=True)"
   ]
  },
  {
   "cell_type": "code",
   "execution_count": null,
   "id": "da4323ca",
   "metadata": {
    "ExecuteTime": {
     "end_time": "2023-06-16T14:22:35.119204Z",
     "start_time": "2023-06-16T14:22:35.111310Z"
    }
   },
   "outputs": [],
   "source": [
    "len(df7)"
   ]
  },
  {
   "cell_type": "markdown",
   "id": "fb61c18e",
   "metadata": {},
   "source": [
    "# 6. Multiprocessing using pandas:"
   ]
  },
  {
   "cell_type": "code",
   "execution_count": null,
   "id": "c53f9c5d",
   "metadata": {
    "ExecuteTime": {
     "end_time": "2023-06-16T14:22:35.165921Z",
     "start_time": "2023-06-16T14:22:35.123545Z"
    }
   },
   "outputs": [],
   "source": [
    "#we can utilize multiprocessinglibrary to handle chunk size operations asynchronously on multi-threads which can reduce the run time by half."
   ]
  },
  {
   "cell_type": "code",
   "execution_count": null,
   "id": "ab952e7c",
   "metadata": {
    "ExecuteTime": {
     "end_time": "2023-06-16T14:22:35.175198Z",
     "start_time": "2023-06-16T14:22:35.165921Z"
    }
   },
   "outputs": [],
   "source": [
    "import warnings\n",
    "warnings.filterwarnings(\"ignore\")"
   ]
  },
  {
   "cell_type": "code",
   "execution_count": null,
   "id": "56cf51f3",
   "metadata": {
    "ExecuteTime": {
     "end_time": "2023-06-16T14:22:35.190427Z",
     "start_time": "2023-06-16T14:22:35.175198Z"
    }
   },
   "outputs": [],
   "source": [
    "import pandas as pd\n",
    "import multiprocessing as mp"
   ]
  },
  {
   "cell_type": "code",
   "execution_count": null,
   "id": "d284a908",
   "metadata": {
    "ExecuteTime": {
     "end_time": "2023-06-16T14:22:36.125771Z",
     "start_time": "2023-06-16T14:22:35.190427Z"
    }
   },
   "outputs": [],
   "source": [
    "%%time\n",
    "df = pd.read_csv(\"train.csv\", chunksize=1000)\n",
    "total_length = 0\n",
    "for chunk in df:\n",
    "    total_length += len(chunk)\n",
    "print(total_length)"
   ]
  },
  {
   "cell_type": "code",
   "execution_count": null,
   "id": "6c4e68d3",
   "metadata": {
    "ExecuteTime": {
     "start_time": "2023-06-16T14:22:32.995Z"
    }
   },
   "outputs": [],
   "source": [
    "%%time\n",
    "LARGE_FILE = \"train.csv\"\n",
    "CHUNKSIZE = 1000 # processing 100,000 rows at a time\n",
    "\n",
    "def process_frame(df):\n",
    "        # process data frame\n",
    "        return len(df)\n",
    "\n",
    "if __name__ == '__main__':\n",
    "    reader = pd.read_table(LARGE_FILE, chunksize=CHUNKSIZE)\n",
    "    pool = mp.Pool(4)  # use 4 processes\n",
    "\n",
    "    funclist = []\n",
    "    for df in reader:\n",
    "        # process each data frame\n",
    "        f = pool.apply_async(process_frame, [df])\n",
    "        funclist.append(f)\n",
    "\n",
    "    result = 0\n",
    "    for f in funclist:\n",
    "        result += f.get()  # no timeout specified\n",
    "\n",
    "    print(f\"There are {result} rows of data\")\n"
   ]
  },
  {
   "cell_type": "code",
   "execution_count": null,
   "id": "b454ecbf",
   "metadata": {
    "ExecuteTime": {
     "start_time": "2023-06-16T14:22:33.163Z"
    }
   },
   "outputs": [],
   "source": [
    "if __name__ == '__main__':\n",
    "    reader = pd.read_table(LARGE_FILE, chunksize=CHUNKSIZE)\n",
    "    pool = mp.Pool(4)  # use 4 processes\n",
    "\n",
    "    funclist = []\n",
    "    for df in reader:\n",
    "        # process each data frame\n",
    "        f = pool.apply_async(process_frame, [df])\n",
    "        funclist.append(f)\n",
    "\n",
    "    result = 0\n",
    "    for f in funclist:\n",
    "        result += f.get()  # no timeout specified\n",
    "\n",
    "    print(f\"There are {result} rows of data\")\n"
   ]
  },
  {
   "cell_type": "markdown",
   "id": "a4de3d72",
   "metadata": {},
   "source": [
    "## 7. Dask Instead of Pandas"
   ]
  },
  {
   "cell_type": "code",
   "execution_count": 2,
   "id": "980c8b90",
   "metadata": {
    "ExecuteTime": {
     "end_time": "2023-06-16T15:46:25.830623Z",
     "start_time": "2023-06-16T15:46:25.298303Z"
    }
   },
   "outputs": [
    {
     "name": "stdout",
     "output_type": "stream",
     "text": [
      "CPU times: total: 453 ms\n",
      "Wall time: 452 ms\n"
     ]
    },
    {
     "data": {
      "text/html": [
       "<div>\n",
       "<style scoped>\n",
       "    .dataframe tbody tr th:only-of-type {\n",
       "        vertical-align: middle;\n",
       "    }\n",
       "\n",
       "    .dataframe tbody tr th {\n",
       "        vertical-align: top;\n",
       "    }\n",
       "\n",
       "    .dataframe thead th {\n",
       "        text-align: right;\n",
       "    }\n",
       "</style>\n",
       "<table border=\"1\" class=\"dataframe\">\n",
       "  <thead>\n",
       "    <tr style=\"text-align: right;\">\n",
       "      <th></th>\n",
       "      <th>ID</th>\n",
       "      <th>Customer_ID</th>\n",
       "      <th>Month</th>\n",
       "      <th>Name</th>\n",
       "      <th>Age</th>\n",
       "      <th>SSN</th>\n",
       "      <th>Occupation</th>\n",
       "      <th>Annual_Income</th>\n",
       "      <th>Monthly_Inhand_Salary</th>\n",
       "      <th>Num_Bank_Accounts</th>\n",
       "      <th>...</th>\n",
       "      <th>Credit_Mix</th>\n",
       "      <th>Outstanding_Debt</th>\n",
       "      <th>Credit_Utilization_Ratio</th>\n",
       "      <th>Credit_History_Age</th>\n",
       "      <th>Payment_of_Min_Amount</th>\n",
       "      <th>Total_EMI_per_month</th>\n",
       "      <th>Amount_invested_monthly</th>\n",
       "      <th>Payment_Behaviour</th>\n",
       "      <th>Monthly_Balance</th>\n",
       "      <th>Credit_Score</th>\n",
       "    </tr>\n",
       "  </thead>\n",
       "  <tbody>\n",
       "    <tr>\n",
       "      <th>0</th>\n",
       "      <td>5634.0</td>\n",
       "      <td>3392.0</td>\n",
       "      <td>1.0</td>\n",
       "      <td>Aaron Maashoh</td>\n",
       "      <td>23.0</td>\n",
       "      <td>821000265.0</td>\n",
       "      <td>Scientist</td>\n",
       "      <td>19114.12</td>\n",
       "      <td>1824.843333</td>\n",
       "      <td>3.0</td>\n",
       "      <td>...</td>\n",
       "      <td>Good</td>\n",
       "      <td>809.98</td>\n",
       "      <td>26.822620</td>\n",
       "      <td>265.0</td>\n",
       "      <td>No</td>\n",
       "      <td>49.574949</td>\n",
       "      <td>21.465380</td>\n",
       "      <td>High_spent_Small_value_payments</td>\n",
       "      <td>312.494089</td>\n",
       "      <td>Good</td>\n",
       "    </tr>\n",
       "    <tr>\n",
       "      <th>1</th>\n",
       "      <td>5635.0</td>\n",
       "      <td>3392.0</td>\n",
       "      <td>2.0</td>\n",
       "      <td>Aaron Maashoh</td>\n",
       "      <td>23.0</td>\n",
       "      <td>821000265.0</td>\n",
       "      <td>Scientist</td>\n",
       "      <td>19114.12</td>\n",
       "      <td>1824.843333</td>\n",
       "      <td>3.0</td>\n",
       "      <td>...</td>\n",
       "      <td>Good</td>\n",
       "      <td>809.98</td>\n",
       "      <td>31.944960</td>\n",
       "      <td>266.0</td>\n",
       "      <td>No</td>\n",
       "      <td>49.574949</td>\n",
       "      <td>21.465380</td>\n",
       "      <td>Low_spent_Large_value_payments</td>\n",
       "      <td>284.629162</td>\n",
       "      <td>Good</td>\n",
       "    </tr>\n",
       "    <tr>\n",
       "      <th>2</th>\n",
       "      <td>5636.0</td>\n",
       "      <td>3392.0</td>\n",
       "      <td>3.0</td>\n",
       "      <td>Aaron Maashoh</td>\n",
       "      <td>23.0</td>\n",
       "      <td>821000265.0</td>\n",
       "      <td>Scientist</td>\n",
       "      <td>19114.12</td>\n",
       "      <td>1824.843333</td>\n",
       "      <td>3.0</td>\n",
       "      <td>...</td>\n",
       "      <td>Good</td>\n",
       "      <td>809.98</td>\n",
       "      <td>28.609352</td>\n",
       "      <td>267.0</td>\n",
       "      <td>No</td>\n",
       "      <td>49.574949</td>\n",
       "      <td>21.465380</td>\n",
       "      <td>Low_spent_Medium_value_payments</td>\n",
       "      <td>331.209863</td>\n",
       "      <td>Good</td>\n",
       "    </tr>\n",
       "    <tr>\n",
       "      <th>3</th>\n",
       "      <td>5637.0</td>\n",
       "      <td>3392.0</td>\n",
       "      <td>4.0</td>\n",
       "      <td>Aaron Maashoh</td>\n",
       "      <td>23.0</td>\n",
       "      <td>821000265.0</td>\n",
       "      <td>Scientist</td>\n",
       "      <td>19114.12</td>\n",
       "      <td>1824.843333</td>\n",
       "      <td>3.0</td>\n",
       "      <td>...</td>\n",
       "      <td>Good</td>\n",
       "      <td>809.98</td>\n",
       "      <td>31.377862</td>\n",
       "      <td>268.0</td>\n",
       "      <td>No</td>\n",
       "      <td>49.574949</td>\n",
       "      <td>21.465380</td>\n",
       "      <td>Low_spent_Small_value_payments</td>\n",
       "      <td>223.451310</td>\n",
       "      <td>Good</td>\n",
       "    </tr>\n",
       "    <tr>\n",
       "      <th>4</th>\n",
       "      <td>5638.0</td>\n",
       "      <td>3392.0</td>\n",
       "      <td>5.0</td>\n",
       "      <td>Aaron Maashoh</td>\n",
       "      <td>23.0</td>\n",
       "      <td>821000265.0</td>\n",
       "      <td>Scientist</td>\n",
       "      <td>19114.12</td>\n",
       "      <td>1824.843333</td>\n",
       "      <td>3.0</td>\n",
       "      <td>...</td>\n",
       "      <td>Good</td>\n",
       "      <td>809.98</td>\n",
       "      <td>24.797347</td>\n",
       "      <td>269.0</td>\n",
       "      <td>No</td>\n",
       "      <td>49.574949</td>\n",
       "      <td>21.465380</td>\n",
       "      <td>High_spent_Medium_value_payments</td>\n",
       "      <td>341.489231</td>\n",
       "      <td>Good</td>\n",
       "    </tr>\n",
       "    <tr>\n",
       "      <th>...</th>\n",
       "      <td>...</td>\n",
       "      <td>...</td>\n",
       "      <td>...</td>\n",
       "      <td>...</td>\n",
       "      <td>...</td>\n",
       "      <td>...</td>\n",
       "      <td>...</td>\n",
       "      <td>...</td>\n",
       "      <td>...</td>\n",
       "      <td>...</td>\n",
       "      <td>...</td>\n",
       "      <td>...</td>\n",
       "      <td>...</td>\n",
       "      <td>...</td>\n",
       "      <td>...</td>\n",
       "      <td>...</td>\n",
       "      <td>...</td>\n",
       "      <td>...</td>\n",
       "      <td>...</td>\n",
       "      <td>...</td>\n",
       "      <td>...</td>\n",
       "    </tr>\n",
       "    <tr>\n",
       "      <th>99995</th>\n",
       "      <td>155625.0</td>\n",
       "      <td>37932.0</td>\n",
       "      <td>4.0</td>\n",
       "      <td>Nicks</td>\n",
       "      <td>25.0</td>\n",
       "      <td>78735990.0</td>\n",
       "      <td>Mechanic</td>\n",
       "      <td>39628.99</td>\n",
       "      <td>3359.415833</td>\n",
       "      <td>4.0</td>\n",
       "      <td>...</td>\n",
       "      <td>Good</td>\n",
       "      <td>502.38</td>\n",
       "      <td>34.663572</td>\n",
       "      <td>378.0</td>\n",
       "      <td>No</td>\n",
       "      <td>35.104023</td>\n",
       "      <td>24.028477</td>\n",
       "      <td>High_spent_Large_value_payments</td>\n",
       "      <td>479.866228</td>\n",
       "      <td>Poor</td>\n",
       "    </tr>\n",
       "    <tr>\n",
       "      <th>99996</th>\n",
       "      <td>155626.0</td>\n",
       "      <td>37932.0</td>\n",
       "      <td>5.0</td>\n",
       "      <td>Nicks</td>\n",
       "      <td>25.0</td>\n",
       "      <td>78735990.0</td>\n",
       "      <td>Mechanic</td>\n",
       "      <td>39628.99</td>\n",
       "      <td>3359.415833</td>\n",
       "      <td>4.0</td>\n",
       "      <td>...</td>\n",
       "      <td>Good</td>\n",
       "      <td>502.38</td>\n",
       "      <td>40.565631</td>\n",
       "      <td>379.0</td>\n",
       "      <td>No</td>\n",
       "      <td>35.104023</td>\n",
       "      <td>24.028477</td>\n",
       "      <td>High_spent_Medium_value_payments</td>\n",
       "      <td>496.651610</td>\n",
       "      <td>Poor</td>\n",
       "    </tr>\n",
       "    <tr>\n",
       "      <th>99997</th>\n",
       "      <td>155627.0</td>\n",
       "      <td>37932.0</td>\n",
       "      <td>6.0</td>\n",
       "      <td>Nicks</td>\n",
       "      <td>25.0</td>\n",
       "      <td>78735990.0</td>\n",
       "      <td>Mechanic</td>\n",
       "      <td>39628.99</td>\n",
       "      <td>3359.415833</td>\n",
       "      <td>4.0</td>\n",
       "      <td>...</td>\n",
       "      <td>Good</td>\n",
       "      <td>502.38</td>\n",
       "      <td>41.255522</td>\n",
       "      <td>380.0</td>\n",
       "      <td>No</td>\n",
       "      <td>35.104023</td>\n",
       "      <td>24.028477</td>\n",
       "      <td>High_spent_Large_value_payments</td>\n",
       "      <td>516.809083</td>\n",
       "      <td>Poor</td>\n",
       "    </tr>\n",
       "    <tr>\n",
       "      <th>99998</th>\n",
       "      <td>155628.0</td>\n",
       "      <td>37932.0</td>\n",
       "      <td>7.0</td>\n",
       "      <td>Nicks</td>\n",
       "      <td>25.0</td>\n",
       "      <td>78735990.0</td>\n",
       "      <td>Mechanic</td>\n",
       "      <td>39628.99</td>\n",
       "      <td>3359.415833</td>\n",
       "      <td>4.0</td>\n",
       "      <td>...</td>\n",
       "      <td>Good</td>\n",
       "      <td>502.38</td>\n",
       "      <td>33.638208</td>\n",
       "      <td>381.0</td>\n",
       "      <td>No</td>\n",
       "      <td>35.104023</td>\n",
       "      <td>24.028477</td>\n",
       "      <td>Low_spent_Large_value_payments</td>\n",
       "      <td>319.164979</td>\n",
       "      <td>Standard</td>\n",
       "    </tr>\n",
       "    <tr>\n",
       "      <th>99999</th>\n",
       "      <td>155629.0</td>\n",
       "      <td>37932.0</td>\n",
       "      <td>8.0</td>\n",
       "      <td>Nicks</td>\n",
       "      <td>25.0</td>\n",
       "      <td>78735990.0</td>\n",
       "      <td>Mechanic</td>\n",
       "      <td>39628.99</td>\n",
       "      <td>3359.415833</td>\n",
       "      <td>4.0</td>\n",
       "      <td>...</td>\n",
       "      <td>Good</td>\n",
       "      <td>502.38</td>\n",
       "      <td>34.192463</td>\n",
       "      <td>382.0</td>\n",
       "      <td>No</td>\n",
       "      <td>35.104023</td>\n",
       "      <td>24.028477</td>\n",
       "      <td>High_spent_Medium_value_payments</td>\n",
       "      <td>393.673696</td>\n",
       "      <td>Poor</td>\n",
       "    </tr>\n",
       "  </tbody>\n",
       "</table>\n",
       "<p>100000 rows × 28 columns</p>\n",
       "</div>"
      ],
      "text/plain": [
       "             ID  Customer_ID  Month           Name   Age          SSN   \n",
       "0        5634.0       3392.0    1.0  Aaron Maashoh  23.0  821000265.0  \\\n",
       "1        5635.0       3392.0    2.0  Aaron Maashoh  23.0  821000265.0   \n",
       "2        5636.0       3392.0    3.0  Aaron Maashoh  23.0  821000265.0   \n",
       "3        5637.0       3392.0    4.0  Aaron Maashoh  23.0  821000265.0   \n",
       "4        5638.0       3392.0    5.0  Aaron Maashoh  23.0  821000265.0   \n",
       "...         ...          ...    ...            ...   ...          ...   \n",
       "99995  155625.0      37932.0    4.0          Nicks  25.0   78735990.0   \n",
       "99996  155626.0      37932.0    5.0          Nicks  25.0   78735990.0   \n",
       "99997  155627.0      37932.0    6.0          Nicks  25.0   78735990.0   \n",
       "99998  155628.0      37932.0    7.0          Nicks  25.0   78735990.0   \n",
       "99999  155629.0      37932.0    8.0          Nicks  25.0   78735990.0   \n",
       "\n",
       "      Occupation  Annual_Income  Monthly_Inhand_Salary  Num_Bank_Accounts   \n",
       "0      Scientist       19114.12            1824.843333                3.0  \\\n",
       "1      Scientist       19114.12            1824.843333                3.0   \n",
       "2      Scientist       19114.12            1824.843333                3.0   \n",
       "3      Scientist       19114.12            1824.843333                3.0   \n",
       "4      Scientist       19114.12            1824.843333                3.0   \n",
       "...          ...            ...                    ...                ...   \n",
       "99995   Mechanic       39628.99            3359.415833                4.0   \n",
       "99996   Mechanic       39628.99            3359.415833                4.0   \n",
       "99997   Mechanic       39628.99            3359.415833                4.0   \n",
       "99998   Mechanic       39628.99            3359.415833                4.0   \n",
       "99999   Mechanic       39628.99            3359.415833                4.0   \n",
       "\n",
       "       ...  Credit_Mix  Outstanding_Debt  Credit_Utilization_Ratio   \n",
       "0      ...        Good            809.98                 26.822620  \\\n",
       "1      ...        Good            809.98                 31.944960   \n",
       "2      ...        Good            809.98                 28.609352   \n",
       "3      ...        Good            809.98                 31.377862   \n",
       "4      ...        Good            809.98                 24.797347   \n",
       "...    ...         ...               ...                       ...   \n",
       "99995  ...        Good            502.38                 34.663572   \n",
       "99996  ...        Good            502.38                 40.565631   \n",
       "99997  ...        Good            502.38                 41.255522   \n",
       "99998  ...        Good            502.38                 33.638208   \n",
       "99999  ...        Good            502.38                 34.192463   \n",
       "\n",
       "      Credit_History_Age  Payment_of_Min_Amount  Total_EMI_per_month   \n",
       "0                  265.0                     No            49.574949  \\\n",
       "1                  266.0                     No            49.574949   \n",
       "2                  267.0                     No            49.574949   \n",
       "3                  268.0                     No            49.574949   \n",
       "4                  269.0                     No            49.574949   \n",
       "...                  ...                    ...                  ...   \n",
       "99995              378.0                     No            35.104023   \n",
       "99996              379.0                     No            35.104023   \n",
       "99997              380.0                     No            35.104023   \n",
       "99998              381.0                     No            35.104023   \n",
       "99999              382.0                     No            35.104023   \n",
       "\n",
       "       Amount_invested_monthly                 Payment_Behaviour   \n",
       "0                    21.465380   High_spent_Small_value_payments  \\\n",
       "1                    21.465380    Low_spent_Large_value_payments   \n",
       "2                    21.465380   Low_spent_Medium_value_payments   \n",
       "3                    21.465380    Low_spent_Small_value_payments   \n",
       "4                    21.465380  High_spent_Medium_value_payments   \n",
       "...                        ...                               ...   \n",
       "99995                24.028477   High_spent_Large_value_payments   \n",
       "99996                24.028477  High_spent_Medium_value_payments   \n",
       "99997                24.028477   High_spent_Large_value_payments   \n",
       "99998                24.028477    Low_spent_Large_value_payments   \n",
       "99999                24.028477  High_spent_Medium_value_payments   \n",
       "\n",
       "      Monthly_Balance  Credit_Score  \n",
       "0          312.494089          Good  \n",
       "1          284.629162          Good  \n",
       "2          331.209863          Good  \n",
       "3          223.451310          Good  \n",
       "4          341.489231          Good  \n",
       "...               ...           ...  \n",
       "99995      479.866228          Poor  \n",
       "99996      496.651610          Poor  \n",
       "99997      516.809083          Poor  \n",
       "99998      319.164979      Standard  \n",
       "99999      393.673696          Poor  \n",
       "\n",
       "[100000 rows x 28 columns]"
      ]
     },
     "execution_count": 2,
     "metadata": {},
     "output_type": "execute_result"
    }
   ],
   "source": [
    "%%time\n",
    "import dask.dataframe as dd\n",
    "data = dd.read_csv(\"train.csv\",dtype={'MachineHoursCurrentMeter': 'float64'},assume_missing=True)\n",
    "data.compute()"
   ]
  },
  {
   "cell_type": "code",
   "execution_count": null,
   "id": "e0ab95fa",
   "metadata": {},
   "outputs": [],
   "source": []
  },
  {
   "cell_type": "code",
   "execution_count": null,
   "id": "15541f1c",
   "metadata": {},
   "outputs": [],
   "source": []
  },
  {
   "cell_type": "code",
   "execution_count": null,
   "id": "aa33c870",
   "metadata": {},
   "outputs": [],
   "source": []
  },
  {
   "cell_type": "code",
   "execution_count": null,
   "id": "cf2ae72d",
   "metadata": {},
   "outputs": [],
   "source": []
  }
 ],
 "metadata": {
  "kernelspec": {
   "display_name": "Python 3 (ipykernel)",
   "language": "python",
   "name": "python3"
  },
  "language_info": {
   "codemirror_mode": {
    "name": "ipython",
    "version": 3
   },
   "file_extension": ".py",
   "mimetype": "text/x-python",
   "name": "python",
   "nbconvert_exporter": "python",
   "pygments_lexer": "ipython3",
   "version": "3.11.3"
  }
 },
 "nbformat": 4,
 "nbformat_minor": 5
}
