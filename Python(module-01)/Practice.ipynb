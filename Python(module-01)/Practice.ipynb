{
 "cells": [
  {
   "cell_type": "code",
   "execution_count": null,
   "id": "953770e4",
   "metadata": {
    "ExecuteTime": {
     "start_time": "2023-04-28T10:21:51.503Z"
    }
   },
   "outputs": [],
   "source": [
    "beautiful_number=input()\n",
    "print(6)\n",
    "print(beautiful_number)"
   ]
  },
  {
   "cell_type": "code",
   "execution_count": null,
   "id": "2c29f63d",
   "metadata": {
    "ExecuteTime": {
     "start_time": "2023-04-28T10:34:07.201Z"
    }
   },
   "outputs": [],
   "source": [
    "beautiful_number=input('tell me the beautiful number')"
   ]
  },
  {
   "cell_type": "code",
   "execution_count": null,
   "id": "bbadb9ae",
   "metadata": {
    "ExecuteTime": {
     "start_time": "2023-04-28T10:34:09.163Z"
    }
   },
   "outputs": [],
   "source": [
    "6\n",
    "print(beautiful_number)"
   ]
  },
  {
   "cell_type": "code",
   "execution_count": null,
   "id": "c2ec309a",
   "metadata": {
    "ExecuteTime": {
     "start_time": "2023-04-28T10:35:20.289Z"
    }
   },
   "outputs": [],
   "source": [
    "print('hello')"
   ]
  },
  {
   "cell_type": "code",
   "execution_count": null,
   "id": "6df30930",
   "metadata": {},
   "outputs": [],
   "source": []
  }
 ],
 "metadata": {
  "kernelspec": {
   "display_name": "Python 3 (ipykernel)",
   "language": "python",
   "name": "python3"
  },
  "language_info": {
   "codemirror_mode": {
    "name": "ipython",
    "version": 3
   },
   "file_extension": ".py",
   "mimetype": "text/x-python",
   "name": "python",
   "nbconvert_exporter": "python",
   "pygments_lexer": "ipython3",
   "version": "3.9.12"
  },
  "varInspector": {
   "cols": {
    "lenName": 16,
    "lenType": 16,
    "lenVar": 40
   },
   "kernels_config": {
    "python": {
     "delete_cmd_postfix": "",
     "delete_cmd_prefix": "del ",
     "library": "var_list.py",
     "varRefreshCmd": "print(var_dic_list())"
    },
    "r": {
     "delete_cmd_postfix": ") ",
     "delete_cmd_prefix": "rm(",
     "library": "var_list.r",
     "varRefreshCmd": "cat(var_dic_list()) "
    }
   },
   "types_to_exclude": [
    "module",
    "function",
    "builtin_function_or_method",
    "instance",
    "_Feature"
   ],
   "window_display": false
  }
 },
 "nbformat": 4,
 "nbformat_minor": 5
}
