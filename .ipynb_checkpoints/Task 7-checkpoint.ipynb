{
 "cells": [
  {
   "cell_type": "markdown",
   "id": "33460d4a",
   "metadata": {},
   "source": [
    "# Top Python Libraries to Automate Exploratory Data Analysis in 2021"
   ]
  },
  {
   "cell_type": "code",
   "execution_count": 4,
   "id": "71b0a6ed",
   "metadata": {
    "ExecuteTime": {
     "end_time": "2023-06-17T05:21:30.073115Z",
     "start_time": "2023-06-17T05:21:18.353412Z"
    }
   },
   "outputs": [],
   "source": [
    "import dtale\n",
    "import pandas as pd\n",
    "df = pd.read_csv(\"HR_Data.csv\")\n",
    "d = dtale.show(df)\n",
    "d.open_browser()"
   ]
  },
  {
   "cell_type": "code",
   "execution_count": null,
   "id": "354b5f9d",
   "metadata": {},
   "outputs": [],
   "source": []
  },
  {
   "cell_type": "markdown",
   "id": "1921bab9",
   "metadata": {},
   "source": [
    "# Pandas Profiling"
   ]
  },
  {
   "cell_type": "code",
   "execution_count": 5,
   "id": "2b284bb8",
   "metadata": {
    "ExecuteTime": {
     "end_time": "2023-06-17T05:23:43.046505Z",
     "start_time": "2023-06-17T05:23:22.128564Z"
    }
   },
   "outputs": [
    {
     "name": "stdout",
     "output_type": "stream",
     "text": [
      "Collecting pandas-profiling\n",
      "  Downloading pandas_profiling-3.2.0-py2.py3-none-any.whl (262 kB)\n",
      "                                              0.0/262.6 kB ? eta -:--:--\n",
      "     -------------------------              174.1/262.6 kB 5.1 MB/s eta 0:00:01\n",
      "     -------------------------------------- 262.6/262.6 kB 5.4 MB/s eta 0:00:00\n",
      "Collecting joblib~=1.1.0 (from pandas-profiling)\n",
      "  Downloading joblib-1.1.1-py2.py3-none-any.whl (309 kB)\n",
      "                                              0.0/309.8 kB ? eta -:--:--\n",
      "     -------------------------------------- 309.8/309.8 kB 6.4 MB/s eta 0:00:00\n",
      "Requirement already satisfied: scipy>=1.4.1 in c:\\users\\acer\\appdata\\local\\programs\\python\\python311\\lib\\site-packages (from pandas-profiling) (1.9.3)\n",
      "Requirement already satisfied: pandas!=1.0.0,!=1.0.1,!=1.0.2,!=1.1.0,>=0.25.3 in c:\\users\\acer\\appdata\\local\\programs\\python\\python311\\lib\\site-packages (from pandas-profiling) (2.0.1)\n",
      "Requirement already satisfied: matplotlib>=3.2.0 in c:\\users\\acer\\appdata\\local\\programs\\python\\python311\\lib\\site-packages (from pandas-profiling) (3.6.3)\n",
      "Collecting pydantic>=1.8.1 (from pandas-profiling)\n",
      "  Downloading pydantic-1.10.9-cp311-cp311-win_amd64.whl (2.1 MB)\n",
      "                                              0.0/2.1 MB ? eta -:--:--\n",
      "     -------                                  0.4/2.1 MB 8.3 MB/s eta 0:00:01\n",
      "     ------------                             0.6/2.1 MB 6.8 MB/s eta 0:00:01\n",
      "     ------------------                       1.0/2.1 MB 7.6 MB/s eta 0:00:01\n",
      "     -------------------------                1.4/2.1 MB 7.8 MB/s eta 0:00:01\n",
      "     ----------------------------------       1.8/2.1 MB 8.4 MB/s eta 0:00:01\n",
      "     ---------------------------------------  2.1/2.1 MB 8.9 MB/s eta 0:00:01\n",
      "     ---------------------------------------- 2.1/2.1 MB 7.9 MB/s eta 0:00:00\n",
      "Requirement already satisfied: PyYAML>=5.0.0 in c:\\users\\acer\\appdata\\local\\programs\\python\\python311\\lib\\site-packages (from pandas-profiling) (6.0)\n",
      "Requirement already satisfied: jinja2>=2.11.1 in c:\\users\\acer\\appdata\\local\\programs\\python\\python311\\lib\\site-packages (from pandas-profiling) (3.1.2)\n",
      "Requirement already satisfied: markupsafe~=2.1.1 in c:\\users\\acer\\appdata\\local\\programs\\python\\python311\\lib\\site-packages (from pandas-profiling) (2.1.2)\n",
      "Collecting visions[type_image_path]==0.7.4 (from pandas-profiling)\n",
      "  Downloading visions-0.7.4-py3-none-any.whl (102 kB)\n",
      "                                              0.0/102.4 kB ? eta -:--:--\n",
      "     ---------------------------------------- 102.4/102.4 kB ? eta 0:00:00\n",
      "Requirement already satisfied: numpy>=1.16.0 in c:\\users\\acer\\appdata\\local\\programs\\python\\python311\\lib\\site-packages (from pandas-profiling) (1.24.3)\n",
      "Collecting htmlmin>=0.1.12 (from pandas-profiling)\n",
      "  Downloading htmlmin-0.1.12.tar.gz (19 kB)\n",
      "  Preparing metadata (setup.py): started\n",
      "  Preparing metadata (setup.py): finished with status 'done'\n",
      "Requirement already satisfied: missingno>=0.4.2 in c:\\users\\acer\\appdata\\local\\programs\\python\\python311\\lib\\site-packages (from pandas-profiling) (0.4.2)\n",
      "Collecting phik>=0.11.1 (from pandas-profiling)\n",
      "  Downloading phik-0.12.3-cp311-cp311-win_amd64.whl (663 kB)\n",
      "                                              0.0/663.4 kB ? eta -:--:--\n",
      "     ----------------------                399.4/663.4 kB 12.6 MB/s eta 0:00:01\n",
      "     -------------------------------------  655.4/663.4 kB 6.9 MB/s eta 0:00:01\n",
      "     -------------------------------------- 663.4/663.4 kB 6.9 MB/s eta 0:00:00\n",
      "Collecting tangled-up-in-unicode==0.2.0 (from pandas-profiling)\n",
      "  Downloading tangled_up_in_unicode-0.2.0-py3-none-any.whl (4.7 MB)\n",
      "                                              0.0/4.7 MB ? eta -:--:--\n",
      "     ---                                      0.5/4.7 MB 9.4 MB/s eta 0:00:01\n",
      "     --------                                 1.0/4.7 MB 13.3 MB/s eta 0:00:01\n",
      "     -------------                            1.6/4.7 MB 11.5 MB/s eta 0:00:01\n",
      "     ------------------                       2.2/4.7 MB 11.8 MB/s eta 0:00:01\n",
      "     --------------------------               3.1/4.7 MB 13.1 MB/s eta 0:00:01\n",
      "     --------------------------------         3.8/4.7 MB 13.6 MB/s eta 0:00:01\n",
      "     -------------------------------------    4.5/4.7 MB 14.3 MB/s eta 0:00:01\n",
      "     ---------------------------------------- 4.7/4.7 MB 13.7 MB/s eta 0:00:00\n",
      "Requirement already satisfied: requests>=2.24.0 in c:\\users\\acer\\appdata\\local\\programs\\python\\python311\\lib\\site-packages (from pandas-profiling) (2.28.2)\n",
      "Requirement already satisfied: tqdm>=4.48.2 in c:\\users\\acer\\appdata\\local\\programs\\python\\python311\\lib\\site-packages (from pandas-profiling) (4.65.0)\n",
      "Requirement already satisfied: seaborn>=0.10.1 in c:\\users\\acer\\appdata\\local\\programs\\python\\python311\\lib\\site-packages (from pandas-profiling) (0.12.2)\n",
      "Collecting multimethod>=1.4 (from pandas-profiling)\n",
      "  Downloading multimethod-1.9.1-py3-none-any.whl (10 kB)\n",
      "Requirement already satisfied: attrs>=19.3.0 in c:\\users\\acer\\appdata\\local\\programs\\python\\python311\\lib\\site-packages (from visions[type_image_path]==0.7.4->pandas-profiling) (23.1.0)\n",
      "Requirement already satisfied: networkx>=2.4 in c:\\users\\acer\\appdata\\local\\programs\\python\\python311\\lib\\site-packages (from visions[type_image_path]==0.7.4->pandas-profiling) (3.1)\n",
      "Collecting imagehash (from visions[type_image_path]==0.7.4->pandas-profiling)\n",
      "  Downloading ImageHash-4.3.1-py2.py3-none-any.whl (296 kB)\n",
      "                                              0.0/296.5 kB ? eta -:--:--\n",
      "     -------------------------------------- 296.5/296.5 kB 9.2 MB/s eta 0:00:00\n",
      "Requirement already satisfied: Pillow in c:\\users\\acer\\appdata\\local\\programs\\python\\python311\\lib\\site-packages (from visions[type_image_path]==0.7.4->pandas-profiling) (9.5.0)\n",
      "Requirement already satisfied: contourpy>=1.0.1 in c:\\users\\acer\\appdata\\local\\programs\\python\\python311\\lib\\site-packages (from matplotlib>=3.2.0->pandas-profiling) (1.0.7)\n",
      "Requirement already satisfied: cycler>=0.10 in c:\\users\\acer\\appdata\\local\\programs\\python\\python311\\lib\\site-packages (from matplotlib>=3.2.0->pandas-profiling) (0.11.0)\n",
      "Requirement already satisfied: fonttools>=4.22.0 in c:\\users\\acer\\appdata\\local\\programs\\python\\python311\\lib\\site-packages (from matplotlib>=3.2.0->pandas-profiling) (4.39.3)\n",
      "Requirement already satisfied: kiwisolver>=1.0.1 in c:\\users\\acer\\appdata\\local\\programs\\python\\python311\\lib\\site-packages (from matplotlib>=3.2.0->pandas-profiling) (1.4.4)\n",
      "Requirement already satisfied: packaging>=20.0 in c:\\users\\acer\\appdata\\local\\programs\\python\\python311\\lib\\site-packages (from matplotlib>=3.2.0->pandas-profiling) (23.1)\n",
      "Requirement already satisfied: pyparsing>=2.2.1 in c:\\users\\acer\\appdata\\local\\programs\\python\\python311\\lib\\site-packages (from matplotlib>=3.2.0->pandas-profiling) (3.0.9)\n",
      "Requirement already satisfied: python-dateutil>=2.7 in c:\\users\\acer\\appdata\\local\\programs\\python\\python311\\lib\\site-packages (from matplotlib>=3.2.0->pandas-profiling) (2.8.2)\n",
      "Requirement already satisfied: pytz>=2020.1 in c:\\users\\acer\\appdata\\local\\programs\\python\\python311\\lib\\site-packages (from pandas!=1.0.0,!=1.0.1,!=1.0.2,!=1.1.0,>=0.25.3->pandas-profiling) (2023.3)\n",
      "Requirement already satisfied: tzdata>=2022.1 in c:\\users\\acer\\appdata\\local\\programs\\python\\python311\\lib\\site-packages (from pandas!=1.0.0,!=1.0.1,!=1.0.2,!=1.1.0,>=0.25.3->pandas-profiling) (2023.3)\n",
      "Requirement already satisfied: typing-extensions>=4.2.0 in c:\\users\\acer\\appdata\\local\\programs\\python\\python311\\lib\\site-packages (from pydantic>=1.8.1->pandas-profiling) (4.5.0)\n",
      "Requirement already satisfied: charset-normalizer<4,>=2 in c:\\users\\acer\\appdata\\local\\programs\\python\\python311\\lib\\site-packages (from requests>=2.24.0->pandas-profiling) (3.1.0)\n",
      "Requirement already satisfied: idna<4,>=2.5 in c:\\users\\acer\\appdata\\local\\programs\\python\\python311\\lib\\site-packages (from requests>=2.24.0->pandas-profiling) (3.4)\n",
      "Requirement already satisfied: urllib3<1.27,>=1.21.1 in c:\\users\\acer\\appdata\\local\\programs\\python\\python311\\lib\\site-packages (from requests>=2.24.0->pandas-profiling) (1.26.15)\n",
      "Requirement already satisfied: certifi>=2017.4.17 in c:\\users\\acer\\appdata\\local\\programs\\python\\python311\\lib\\site-packages (from requests>=2.24.0->pandas-profiling) (2022.12.7)\n",
      "Requirement already satisfied: colorama in c:\\users\\acer\\appdata\\local\\programs\\python\\python311\\lib\\site-packages (from tqdm>=4.48.2->pandas-profiling) (0.4.6)\n",
      "Requirement already satisfied: six>=1.5 in c:\\users\\acer\\appdata\\local\\programs\\python\\python311\\lib\\site-packages (from python-dateutil>=2.7->matplotlib>=3.2.0->pandas-profiling) (1.16.0)\n",
      "Collecting PyWavelets (from imagehash->visions[type_image_path]==0.7.4->pandas-profiling)\n",
      "  Downloading PyWavelets-1.4.1-cp311-cp311-win_amd64.whl (4.2 MB)\n",
      "                                              0.0/4.2 MB ? eta -:--:--\n",
      "     -------                                  0.8/4.2 MB 24.8 MB/s eta 0:00:01\n",
      "     -----------------                        1.8/4.2 MB 18.9 MB/s eta 0:00:01\n",
      "     ------------------------                 2.6/4.2 MB 20.5 MB/s eta 0:00:01\n",
      "     --------------------------------         3.4/4.2 MB 19.8 MB/s eta 0:00:01\n",
      "     ---------------------------------------  4.2/4.2 MB 20.4 MB/s eta 0:00:01\n",
      "     ---------------------------------------- 4.2/4.2 MB 19.0 MB/s eta 0:00:00\n",
      "Building wheels for collected packages: htmlmin\n",
      "  Building wheel for htmlmin (setup.py): started\n",
      "  Building wheel for htmlmin (setup.py): finished with status 'done'\n",
      "  Created wheel for htmlmin: filename=htmlmin-0.1.12-py3-none-any.whl size=27094 sha256=bdf6ec792c77234581703ecc0b5b2db8ff929ba159eaabb8b6e07b3f4ae1342e\n",
      "  Stored in directory: c:\\users\\acer\\appdata\\local\\pip\\cache\\wheels\\8d\\55\\1a\\19cd535375ed1ede0c996405ebffe34b196d78e2d9545723a2\n",
      "Successfully built htmlmin\n",
      "Installing collected packages: htmlmin, tangled-up-in-unicode, PyWavelets, pydantic, multimethod, joblib, imagehash, visions, phik, pandas-profiling\n",
      "  Attempting uninstall: joblib\n",
      "    Found existing installation: joblib 1.2.0\n",
      "    Uninstalling joblib-1.2.0:\n",
      "      Successfully uninstalled joblib-1.2.0\n",
      "Successfully installed PyWavelets-1.4.1 htmlmin-0.1.12 imagehash-4.3.1 joblib-1.1.1 multimethod-1.9.1 pandas-profiling-3.2.0 phik-0.12.3 pydantic-1.10.9 tangled-up-in-unicode-0.2.0 visions-0.7.4\n",
      "Note: you may need to restart the kernel to use updated packages.\n"
     ]
    }
   ],
   "source": [
    "pip install pandas-profiling"
   ]
  },
  {
   "cell_type": "code",
   "execution_count": 6,
   "id": "d13a9b93",
   "metadata": {
    "ExecuteTime": {
     "end_time": "2023-06-17T05:24:09.971192Z",
     "start_time": "2023-06-17T05:24:09.966450Z"
    }
   },
   "outputs": [],
   "source": [
    "#Exploratory Data Analysis Using Pandas Profiling"
   ]
  },
  {
   "cell_type": "code",
   "execution_count": 9,
   "id": "3612ffd4",
   "metadata": {
    "ExecuteTime": {
     "end_time": "2023-06-17T05:24:49.650099Z",
     "start_time": "2023-06-17T05:24:49.644420Z"
    }
   },
   "outputs": [
    {
     "ename": "SyntaxError",
     "evalue": "invalid syntax (3494953742.py, line 3)",
     "output_type": "error",
     "traceback": [
      "\u001b[1;36m  Cell \u001b[1;32mIn[9], line 3\u001b[1;36m\u001b[0m\n\u001b[1;33m    import pandas-profiling\u001b[0m\n\u001b[1;37m                 ^\u001b[0m\n\u001b[1;31mSyntaxError\u001b[0m\u001b[1;31m:\u001b[0m invalid syntax\n"
     ]
    }
   ],
   "source": [
    "#importing required packages\n",
    "import pandas as pd\n",
    "import pandas-profiling\n",
    "import numpy as np\n",
    "\n",
    "#importing the data\n",
    "df = pd.read_csv('sample.csv')\n",
    "\n",
    "#descriptive statistics\n",
    "pandas_profiling.ProfileReport(df)"
   ]
  },
  {
   "cell_type": "code",
   "execution_count": null,
   "id": "1516bb99",
   "metadata": {},
   "outputs": [],
   "source": []
  },
  {
   "cell_type": "code",
   "execution_count": null,
   "id": "7ceb312d",
   "metadata": {},
   "outputs": [],
   "source": []
  },
  {
   "cell_type": "code",
   "execution_count": null,
   "id": "017ed363",
   "metadata": {},
   "outputs": [],
   "source": []
  },
  {
   "cell_type": "code",
   "execution_count": null,
   "id": "c2eed3f0",
   "metadata": {},
   "outputs": [],
   "source": []
  },
  {
   "cell_type": "code",
   "execution_count": null,
   "id": "46421384",
   "metadata": {},
   "outputs": [],
   "source": []
  },
  {
   "cell_type": "code",
   "execution_count": null,
   "id": "ab6351d8",
   "metadata": {},
   "outputs": [],
   "source": []
  },
  {
   "cell_type": "code",
   "execution_count": null,
   "id": "bd306666",
   "metadata": {},
   "outputs": [],
   "source": [
    "\n"
   ]
  }
 ],
 "metadata": {
  "kernelspec": {
   "display_name": "Python 3 (ipykernel)",
   "language": "python",
   "name": "python3"
  },
  "language_info": {
   "codemirror_mode": {
    "name": "ipython",
    "version": 3
   },
   "file_extension": ".py",
   "mimetype": "text/x-python",
   "name": "python",
   "nbconvert_exporter": "python",
   "pygments_lexer": "ipython3",
   "version": "3.11.3"
  }
 },
 "nbformat": 4,
 "nbformat_minor": 5
}
