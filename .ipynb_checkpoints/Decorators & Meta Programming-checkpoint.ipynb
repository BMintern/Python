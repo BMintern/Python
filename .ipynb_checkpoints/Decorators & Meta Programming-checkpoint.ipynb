{
 "cells": [
  {
   "cell_type": "code",
   "execution_count": null,
   "id": "31a78ba3",
   "metadata": {},
   "outputs": [],
   "source": []
  },
  {
   "cell_type": "markdown",
   "id": "fd9f7cae",
   "metadata": {},
   "source": [
    "# Decorators"
   ]
  },
  {
   "cell_type": "code",
   "execution_count": null,
   "id": "ab904e70",
   "metadata": {},
   "outputs": [],
   "source": [
    "# We use Decorators when we want to make changes in the behaviour of the function without modifying the function ."
   ]
  },
  {
   "cell_type": "code",
   "execution_count": 2,
   "id": "e6446772",
   "metadata": {},
   "outputs": [],
   "source": [
    "from datetime import datetime\n",
    "\n",
    "\n",
    "def log_datetime(func):\n",
    "    '''Log the date and time of a function'''\n",
    "\n",
    "    def wrapper():\n",
    "        print(f'Function: {func.__name__}\\nRun on: {datetime.today().strftime(\"%Y-%m-%d %H:%M:%S\")}')\n",
    "        print(f'{\"-\"*30}')\n",
    "        func()\n",
    "    return wrapper"
   ]
  },
  {
   "cell_type": "code",
   "execution_count": 3,
   "id": "da1d47b0",
   "metadata": {},
   "outputs": [],
   "source": [
    "@log_datetime\n",
    "def daily_backup():\n",
    "\n",
    "    print('Daily backup job has finished.')  "
   ]
  },
  {
   "cell_type": "code",
   "execution_count": 4,
   "id": "8ada4f23",
   "metadata": {},
   "outputs": [
    {
     "name": "stdout",
     "output_type": "stream",
     "text": [
      "Function: daily_backup\n",
      "Run on: 2023-06-21 23:30:15\n",
      "------------------------------\n",
      "Daily backup job has finished.\n"
     ]
    }
   ],
   "source": [
    "daily_backup()"
   ]
  },
  {
   "cell_type": "code",
   "execution_count": 5,
   "id": "ff79b048",
   "metadata": {},
   "outputs": [
    {
     "name": "stdout",
     "output_type": "stream",
     "text": [
      "hi\n",
      "I am a student\n",
      "Calling another function\n"
     ]
    }
   ],
   "source": [
    "# function can be passed as a parameter to another function\n",
    "def foo(a):\n",
    "    print (\"hi\")\n",
    "    a()\n",
    "    print (\"Calling another function\")   \n",
    "def f():\n",
    "    print (\"I am a student\")\n",
    "foo(f)"
   ]
  },
  {
   "cell_type": "markdown",
   "id": "ef38aa5c",
   "metadata": {},
   "source": [
    "# Meta-classes"
   ]
  },
  {
   "cell_type": "code",
   "execution_count": 9,
   "id": "32651654",
   "metadata": {},
   "outputs": [
    {
     "name": "stdout",
     "output_type": "stream",
     "text": [
      "Creating class: MyClass\n"
     ]
    }
   ],
   "source": [
    "class MyMeta(type):\n",
    "    def __new__(mcls, name, bases, attrs):\n",
    "        print(f\"Creating class: {name}\")\n",
    "        return super().__new__(mcls, name, bases, attrs)\n",
    "\n",
    "class MyClass(metaclass=MyMeta):\n",
    "    pass"
   ]
  },
  {
   "cell_type": "code",
   "execution_count": 10,
   "id": "d2fa6634",
   "metadata": {},
   "outputs": [
    {
     "name": "stdout",
     "output_type": "stream",
     "text": [
      "Calc.add is called with parameter (2, 3)\n",
      "5\n",
      "Calc.sub is called with parameter (2, 3)\n",
      "-1\n",
      "Calc.mul is called with parameter (2, 3)\n",
      "6\n"
     ]
    }
   ],
   "source": [
    "def debug_function(func):\n",
    "\n",
    "    def wrapper(*args, **kwargs):\n",
    "        print(\"{0} is called with parameter {1}\".format(func.__qualname__, args[1:]))\n",
    "        return func(*args, **kwargs)\n",
    "    \n",
    "    return wrapper\n",
    "\n",
    "\n",
    "def debug_all_methods(cls):\n",
    "\n",
    "    for key, val in vars(cls).items():\n",
    "        if callable(val):\n",
    "            setattr(cls, key, debug_function(val))\n",
    "    return cls\n",
    "\n",
    "\n",
    "class MetaClassDebug(type):\n",
    "\n",
    "    def __new__(cls, clsname, bases, clsdict):\n",
    "        obj = super().__new__(cls, clsname, bases, clsdict)\n",
    "        obj = debug_all_methods(obj)\n",
    "        return obj\n",
    "\n",
    "\n",
    "class Calc(metaclass=MetaClassDebug):\n",
    "    def add(self, x, y):\n",
    "        return x + y\n",
    "\n",
    "    def sub(self, x, y):\n",
    "        return x - y\n",
    "\n",
    "    def mul(self, x, y):\n",
    "        return x * y\n",
    "\n",
    "\n",
    "calc = Calc()\n",
    "print(calc.add(2, 3))\n",
    "print(calc.sub(2, 3))\n",
    "print(calc.mul(2, 3))"
   ]
  },
  {
   "cell_type": "code",
   "execution_count": null,
   "id": "2c5086ea",
   "metadata": {},
   "outputs": [],
   "source": []
  }
 ],
 "metadata": {
  "kernelspec": {
   "display_name": "Python 3 (ipykernel)",
   "language": "python",
   "name": "python3"
  },
  "language_info": {
   "codemirror_mode": {
    "name": "ipython",
    "version": 3
   },
   "file_extension": ".py",
   "mimetype": "text/x-python",
   "name": "python",
   "nbconvert_exporter": "python",
   "pygments_lexer": "ipython3",
   "version": "3.11.3"
  }
 },
 "nbformat": 4,
 "nbformat_minor": 5
}
