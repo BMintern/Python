{
 "cells": [
  {
   "cell_type": "markdown",
   "id": "a861d1f4",
   "metadata": {},
   "source": [
    "## Four Functions of Pandas to Level up  Pandas Skills"
   ]
  },
  {
   "cell_type": "code",
   "execution_count": 1,
   "id": "2c87537a",
   "metadata": {},
   "outputs": [],
   "source": [
    "import pandas as pd"
   ]
  },
  {
   "cell_type": "code",
   "execution_count": 2,
   "id": "7b4ccdab",
   "metadata": {},
   "outputs": [
    {
     "data": {
      "text/plain": [
       "Index(['name', 'EmpID', 'EmpStatusID', 'DeptID', 'PerfScoreID', 'Salary',\n",
       "       'Termd', 'PositionID', 'Position', 'Hiring location', 'Zip', 'DOB',\n",
       "       'Sex', 'MaritalDesc', 'Citizenship', 'DateofJoining',\n",
       "       'DateofTermination', 'TermReason', 'EmploymentStatus', 'Training hours',\n",
       "       'Trainings', 'Department', 'ManagerName', 'Recruitment Source',\n",
       "       'PerformanceScore', 'EngagementSurvey', 'Zip.1',\n",
       "       'LastPerformanceReview_Date', 'DaysLateLast30', 'Absences', 'EmpType',\n",
       "       'OTHours'],\n",
       "      dtype='object')"
      ]
     },
     "execution_count": 2,
     "metadata": {},
     "output_type": "execute_result"
    }
   ],
   "source": [
    "import pandas as pd\n",
    "data = pd.read_csv(\"demofile.csv\")\n",
    "\n",
    "data.columns"
   ]
  },
  {
   "cell_type": "markdown",
   "id": "a075b79e",
   "metadata": {},
   "source": [
    "## Assign"
   ]
  },
  {
   "cell_type": "markdown",
   "id": "ea4d3fa7",
   "metadata": {},
   "source": [
    "This method allows you to add columns to a DataFrame."
   ]
  },
  {
   "cell_type": "code",
   "execution_count": 5,
   "id": "eae26b49",
   "metadata": {},
   "outputs": [
    {
     "name": "stderr",
     "output_type": "stream",
     "text": [
      "C:\\Users\\IT Tech\\AppData\\Local\\Temp\\ipykernel_8068\\1253748516.py:2: FutureWarning: ['name', 'Position', 'Hiring location', 'DOB', 'Sex', 'MaritalDesc', 'Citizenship', 'DateofJoining', 'DateofTermination', 'TermReason', 'EmploymentStatus', 'Trainings', 'Department', 'ManagerName', 'Recruitment Source', 'PerformanceScore', 'LastPerformanceReview_Date', 'EmpType'] did not aggregate successfully. If any error is raised this will raise in a future version of pandas. Drop these columns/ops to avoid this warning.\n",
      "  data.groupby(\"DeptID\")\n"
     ]
    }
   ],
   "source": [
    "grouped = (\n",
    "    data.groupby(\"DeptID\")\n",
    "    .agg([\"mean\"])\n",
    "    .assign(\n",
    "        fancy_column=lambda df: df[\"PositionID\"][\"mean\"]\n",
    "        / df[\"PositionID\"][\"mean\"].mean(),\n",
    "        useless_column=\"I am useless\"\n",
    "    )\n",
    ")"
   ]
  },
  {
   "cell_type": "markdown",
   "id": "de7ad671",
   "metadata": {},
   "source": [
    "we can create multiple columns with a single assign call. Therefore, we just have to pass multiple keyword arguments; one for each column to be created."
   ]
  },
  {
   "cell_type": "markdown",
   "id": "41837711",
   "metadata": {},
   "source": [
    "## Map"
   ]
  },
  {
   "cell_type": "markdown",
   "id": "ebd3def0",
   "metadata": {},
   "source": [
    "Another handy function that can be invoked on Pandas Series objects is the map function. With map you can substitute every value in a Series with another value. "
   ]
  },
  {
   "cell_type": "code",
   "execution_count": 9,
   "id": "e38b83c9",
   "metadata": {},
   "outputs": [],
   "source": [
    "import pandas as pd\n",
    "data = pd.read_csv(\"demofile.csv\"\n",
    ").assign(\n",
    "    to_big_to_small=lambda df: (df.PositionID > 3).map({True: \"Too Big\", False: \"Perfect\"}),\n",
    "    inverted_name=lambda df: df.Position.map(lambda name: name[::-1]),\n",
    ")"
   ]
  },
  {
   "cell_type": "markdown",
   "id": "c9f6a10a",
   "metadata": {},
   "source": [
    "## Query"
   ]
  },
  {
   "cell_type": "markdown",
   "id": "1ae6c9fc",
   "metadata": {},
   "source": [
    "After looking into functions to manipulate data containers, let's have a look at how we can extract data from DataFrames. One useful function to extract rows is the query function."
   ]
  },
  {
   "cell_type": "code",
   "execution_count": 12,
   "id": "63ae5d43",
   "metadata": {},
   "outputs": [],
   "source": [
    "import pandas as pd\n",
    "data = pd.read_csv(\"demofile.csv\")\n",
    "length_th = 0.5\n",
    "filtered_data = (data\n",
    "    .assign(**{\"PW Squared\": data[\"PositionID\"] ** 2})\n",
    "    .query(\"`PW Squared` > 0.4 and PositionID > @length_th and DeptID != 'setosa'\")\n",
    ")"
   ]
  },
  {
   "cell_type": "markdown",
   "id": "140a49b8",
   "metadata": {},
   "source": [
    "In the above code we have selected a subset of all rows using a logical filter expression that we have passed to query . The filter expression is a string that can contain various logical comparisons like >,<,>=,<=,!=,==,and more to compare columns of your DataFrame. The queryfunction then evaluates that expression and returns all the rows where the expression is evaluated to True."
   ]
  },
  {
   "cell_type": "markdown",
   "id": "dbbee5cb",
   "metadata": {},
   "source": [
    "## Explode"
   ]
  },
  {
   "cell_type": "markdown",
   "id": "64273646",
   "metadata": {},
   "source": [
    " The explodefunction is useful when entries of a column are list-like. Concretely, it enables you to create a new row per entry of these lists. When doing this, all other entries of a row will be replicated, also the index. You invoke it by passing the name of the column that contains the list-like objects."
   ]
  },
  {
   "cell_type": "markdown",
   "id": "5c936c90",
   "metadata": {},
   "source": [
    "explode doesn’t change the data type of the column it is applied on"
   ]
  },
  {
   "cell_type": "code",
   "execution_count": 13,
   "id": "676fde45",
   "metadata": {},
   "outputs": [],
   "source": [
    "import pandas as pd\n",
    "n_rows = 3\n",
    "result = pd.DataFrame(\n",
    "    {\"a\": [list(range(1 + i ** 2)) for i in range(n_rows)], \"b\": list(range(n_rows))}\n",
    ").explode(\"a\").astype({'a':int})"
   ]
  }
 ],
 "metadata": {
  "kernelspec": {
   "display_name": "Python 3 (ipykernel)",
   "language": "python",
   "name": "python3"
  },
  "language_info": {
   "codemirror_mode": {
    "name": "ipython",
    "version": 3
   },
   "file_extension": ".py",
   "mimetype": "text/x-python",
   "name": "python",
   "nbconvert_exporter": "python",
   "pygments_lexer": "ipython3",
   "version": "3.9.13"
  }
 },
 "nbformat": 4,
 "nbformat_minor": 5
}
