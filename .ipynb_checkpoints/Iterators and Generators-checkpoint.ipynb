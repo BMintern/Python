{
 "cells": [
  {
   "cell_type": "markdown",
   "id": "eea918ef",
   "metadata": {},
   "source": [
    "# Iterators and Generators"
   ]
  },
  {
   "cell_type": "markdown",
   "id": "f799fd69",
   "metadata": {},
   "source": [
    "Iterators are objects that can be iterated (looped) upon. They represent a data stream, and they implement the iterator protocol, which consists of the methods iter() and next(). on the other hand generators are a type of iterator that allows you to declare a function that behaves like an iterator. They use the yield statement to return data and are a more memory-efficient way of working with large data sets."
   ]
  },
  {
   "cell_type": "markdown",
   "id": "e44ecf13",
   "metadata": {},
   "source": [
    "### Iterators"
   ]
  },
  {
   "cell_type": "code",
   "execution_count": 1,
   "id": "e94b6bd7",
   "metadata": {},
   "outputs": [
    {
     "name": "stdout",
     "output_type": "stream",
     "text": [
      "1\n",
      "2\n",
      "3\n",
      "4\n"
     ]
    }
   ],
   "source": [
    "lst=[1,2,3,4]\n",
    "for i in lst:\n",
    "    print(i)"
   ]
  },
  {
   "cell_type": "markdown",
   "id": "b6807a73",
   "metadata": {},
   "source": [
    "here lst is iterable"
   ]
  },
  {
   "cell_type": "markdown",
   "id": "5f0ef031",
   "metadata": {},
   "source": [
    "Iterators consists of two methods as The iter() method returns the iterator object itself, and the next() method returns the following item from the iterator."
   ]
  },
  {
   "cell_type": "code",
   "execution_count": 3,
   "id": "af306174",
   "metadata": {},
   "outputs": [
    {
     "data": {
      "text/plain": [
       "<list_iterator at 0x1d4e4221130>"
      ]
     },
     "execution_count": 3,
     "metadata": {},
     "output_type": "execute_result"
    }
   ],
   "source": [
    "iter(lst)"
   ]
  },
  {
   "cell_type": "code",
   "execution_count": 4,
   "id": "fd34400d",
   "metadata": {},
   "outputs": [],
   "source": [
    "iterable=iter(lst)"
   ]
  },
  {
   "cell_type": "markdown",
   "id": "b9d9bc58",
   "metadata": {},
   "source": [
    "now here iterable is iterator so we can iterate through iterator"
   ]
  },
  {
   "cell_type": "code",
   "execution_count": 6,
   "id": "85f952b8",
   "metadata": {},
   "outputs": [
    {
     "name": "stdout",
     "output_type": "stream",
     "text": [
      "1\n",
      "2\n",
      "3\n",
      "4\n"
     ]
    }
   ],
   "source": [
    "for i in iterable:\n",
    "    print(i)"
   ]
  },
  {
   "cell_type": "code",
   "execution_count": 7,
   "id": "e413bbc6",
   "metadata": {},
   "outputs": [],
   "source": [
    "iterable=iter(lst)"
   ]
  },
  {
   "cell_type": "code",
   "execution_count": 9,
   "id": "ea388293",
   "metadata": {},
   "outputs": [
    {
     "data": {
      "text/plain": [
       "2"
      ]
     },
     "execution_count": 9,
     "metadata": {},
     "output_type": "execute_result"
    }
   ],
   "source": [
    "next(iterable)"
   ]
  },
  {
   "cell_type": "code",
   "execution_count": 13,
   "id": "5d8486b6",
   "metadata": {},
   "outputs": [
    {
     "name": "stdout",
     "output_type": "stream",
     "text": [
      "Iteration completed\n"
     ]
    }
   ],
   "source": [
    "try:\n",
    "    print(next(iterable))\n",
    "except StopIteration:\n",
    "    print(\"Iteration completed\")"
   ]
  },
  {
   "cell_type": "code",
   "execution_count": 14,
   "id": "86cea453",
   "metadata": {},
   "outputs": [],
   "source": [
    "class MyIterator:\n",
    "    def __init__(self, start, end):\n",
    "        self.start = start\n",
    "        self.end = end\n",
    "        self.current = start\n",
    "\n",
    "    def __iter__(self):\n",
    "        return self\n",
    "\n",
    "    def __next__(self):\n",
    "        if self.current > self.end:\n",
    "            raise StopIteration\n",
    "        else:\n",
    "            self.current += 1\n",
    "            return self.current - 1"
   ]
  },
  {
   "cell_type": "code",
   "execution_count": 15,
   "id": "52b52efe",
   "metadata": {},
   "outputs": [
    {
     "name": "stdout",
     "output_type": "stream",
     "text": [
      "1\n",
      "2\n",
      "3\n",
      "4\n",
      "5\n"
     ]
    }
   ],
   "source": [
    "for i in MyIterator(1,5):\n",
    "    print(i)"
   ]
  },
  {
   "cell_type": "markdown",
   "id": "aeb56387",
   "metadata": {},
   "source": [
    "### Generators"
   ]
  },
  {
   "cell_type": "code",
   "execution_count": 21,
   "id": "267e9227",
   "metadata": {},
   "outputs": [],
   "source": [
    "def square(n):\n",
    "    for i in range(n):\n",
    "        yield i**2"
   ]
  },
  {
   "cell_type": "code",
   "execution_count": 22,
   "id": "8e7d613f",
   "metadata": {},
   "outputs": [
    {
     "data": {
      "text/plain": [
       "<generator object square at 0x000001D4E42652E0>"
      ]
     },
     "execution_count": 22,
     "metadata": {},
     "output_type": "execute_result"
    }
   ],
   "source": [
    "square(3)"
   ]
  },
  {
   "cell_type": "code",
   "execution_count": 23,
   "id": "7954de8f",
   "metadata": {},
   "outputs": [
    {
     "name": "stdout",
     "output_type": "stream",
     "text": [
      "0\n",
      "1\n",
      "4\n"
     ]
    }
   ],
   "source": [
    "for i in square(3):\n",
    "    print(i)"
   ]
  },
  {
   "cell_type": "markdown",
   "id": "f1ad4ac8",
   "metadata": {},
   "source": [
    "A generator function is defined like a regular function, but instead of using the return statement, it uses the yield. When the generator function is called, it returns a generator object but does not execute the function body immediately. The function body is executed only when its next() method is called."
   ]
  },
  {
   "cell_type": "code",
   "execution_count": 24,
   "id": "36c4b186",
   "metadata": {},
   "outputs": [],
   "source": [
    "def my_gen(start, end):\n",
    "    current = start\n",
    "    while current < end:\n",
    "        yield current\n",
    "        current += 1"
   ]
  },
  {
   "cell_type": "code",
   "execution_count": 25,
   "id": "05ff38a8",
   "metadata": {},
   "outputs": [
    {
     "name": "stdout",
     "output_type": "stream",
     "text": [
      "1\n",
      "2\n",
      "3\n",
      "4\n"
     ]
    }
   ],
   "source": [
    "for i in my_gen(1,5):\n",
    "    print(i)"
   ]
  },
  {
   "cell_type": "markdown",
   "id": "14b233ac",
   "metadata": {},
   "source": [
    "To print fibonacci series with generators"
   ]
  },
  {
   "cell_type": "code",
   "execution_count": 26,
   "id": "8a57aa38",
   "metadata": {},
   "outputs": [],
   "source": [
    "def fibonacci(n):\n",
    "    a, b = 0, 1\n",
    "    for i in range(n):\n",
    "        yield a\n",
    "        a, b = b, a + b"
   ]
  },
  {
   "cell_type": "code",
   "execution_count": 27,
   "id": "24f0908b",
   "metadata": {},
   "outputs": [
    {
     "name": "stdout",
     "output_type": "stream",
     "text": [
      "0\n",
      "1\n",
      "1\n",
      "2\n",
      "3\n"
     ]
    }
   ],
   "source": [
    "for i in fibonacci(5):\n",
    "    print(i)"
   ]
  },
  {
   "cell_type": "markdown",
   "id": "3ca695d6",
   "metadata": {},
   "source": [
    "## Combining Iterators and Generators"
   ]
  },
  {
   "cell_type": "markdown",
   "id": "91f066c4",
   "metadata": {},
   "source": [
    "Iterators and generators in Python can be combined in various ways to achieve specific functionality in your programs. Complex data processing pipelines become easy to understand and maintain by chaining iterators and generators."
   ]
  },
  {
   "cell_type": "code",
   "execution_count": 28,
   "id": "aa897a7b",
   "metadata": {},
   "outputs": [
    {
     "name": "stdout",
     "output_type": "stream",
     "text": [
      "1\n",
      "2\n",
      "3\n",
      "4\n",
      "5\n",
      "6\n",
      "7\n",
      "8\n",
      "9\n"
     ]
    }
   ],
   "source": [
    "from itertools import chain\n",
    "\n",
    "list1 = [1, 2, 3]\n",
    "list2 = [4, 5, 6]\n",
    "list3 = [7, 8, 9]\n",
    "for i in chain(list1, list2, list3):\n",
    "    print(i)"
   ]
  },
  {
   "cell_type": "markdown",
   "id": "c65294f5",
   "metadata": {},
   "source": [
    "Pipeline Iterators is a technique where you chain multiple iterators together, each performing a specific operation on the data and passing the result to the next iterator. This can be done using generator expressions, list comprehension, or functional tools like map() and filter()"
   ]
  },
  {
   "cell_type": "code",
   "execution_count": 29,
   "id": "519aea04",
   "metadata": {},
   "outputs": [],
   "source": [
    "squared_numbers = (x**2 for x in range(10))\n",
    "even_squared_numbers = (x for x in squared_numbers if x%2==0)"
   ]
  },
  {
   "cell_type": "code",
   "execution_count": 30,
   "id": "d529cd3b",
   "metadata": {},
   "outputs": [
    {
     "name": "stdout",
     "output_type": "stream",
     "text": [
      "0\n",
      "4\n",
      "16\n",
      "36\n",
      "64\n"
     ]
    }
   ],
   "source": [
    "for i in even_squared_numbers:\n",
    "    print(i)"
   ]
  },
  {
   "cell_type": "code",
   "execution_count": null,
   "id": "90e69f3d",
   "metadata": {},
   "outputs": [],
   "source": []
  }
 ],
 "metadata": {
  "kernelspec": {
   "display_name": "Python 3 (ipykernel)",
   "language": "python",
   "name": "python3"
  },
  "language_info": {
   "codemirror_mode": {
    "name": "ipython",
    "version": 3
   },
   "file_extension": ".py",
   "mimetype": "text/x-python",
   "name": "python",
   "nbconvert_exporter": "python",
   "pygments_lexer": "ipython3",
   "version": "3.9.13"
  }
 },
 "nbformat": 4,
 "nbformat_minor": 5
}
