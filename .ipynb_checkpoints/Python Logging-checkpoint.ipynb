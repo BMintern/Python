{
 "cells": [
  {
   "cell_type": "code",
   "execution_count": 2,
   "id": "7b4b0689",
   "metadata": {},
   "outputs": [
    {
     "name": "stdout",
     "output_type": "stream",
     "text": [
      "Account owner: John Doe\n",
      "Account balance: $1000\n",
      "Account owner: Jane Smith\n",
      "Account balance: $500\n"
     ]
    }
   ],
   "source": [
    "import logging\n",
    "\n",
    "# Create and configure logger\n",
    "logging.basicConfig(filename=\"newfile.log\",\n",
    "                    format='%(asctime)s %(message)s',\n",
    "                    filemode='w')\n",
    "\n",
    "# Creating an object\n",
    "logger = logging.getLogger()\n",
    "\n",
    "# Setting the threshold of logger to DEBUG\n",
    "logger.setLevel(logging.DEBUG)\n",
    " \n",
    "# Test messages\n",
    "logger.debug(\"Harmless debug Message\")\n",
    "logger.info(\"Just an information\")\n",
    "logger.warning(\"Its a Warning\")\n",
    "logger.error(\"Did you try to divide by zero\")\n",
    "logger.critical(\"Internet is down\")\n",
    "\n",
    "\n",
    "class Bank_Account:\n",
    "\n",
    "    def __init__(self, owner, balance):\n",
    "        self.owner = owner\n",
    "        self.balance = balance\n",
    "\n",
    "    def __str__(self):\n",
    "        return f\"Account owner: {self.owner}\\nAccount balance: ${self.balance}\"\n",
    "\n",
    "    def deposit(self, dep_amount):\n",
    "        self.balance += dep_amount\n",
    "        print(\"Amount Deposited\")\n",
    "\n",
    "    def withdraw(self, withdraw_amount):\n",
    "        if self.balance >= withdraw_amount:\n",
    "            self.balance -= withdraw_amount\n",
    "            print(\"Withdrawal Accepted\")\n",
    "        else:\n",
    "            print(\"Funds Unavailable!\")\n",
    "\n",
    "\n",
    "# Create an empty list\n",
    "account_list = []\n",
    "\n",
    "# Create instances of Bank_Account and append them to the list\n",
    "account1 = Bank_Account(\"John Doe\", 1000)\n",
    "account_list.append(account1)\n",
    "\n",
    "account2 = Bank_Account(\"Jane Smith\", 500)\n",
    "account_list.append(account2)\n",
    "\n",
    "# Print the list\n",
    "for account in account_list:\n",
    "    print(account)\n"
   ]
  },
  {
   "cell_type": "code",
   "execution_count": null,
   "id": "f6fbe26d",
   "metadata": {},
   "outputs": [],
   "source": []
  }
 ],
 "metadata": {
  "kernelspec": {
   "display_name": "Python 3 (ipykernel)",
   "language": "python",
   "name": "python3"
  },
  "language_info": {
   "codemirror_mode": {
    "name": "ipython",
    "version": 3
   },
   "file_extension": ".py",
   "mimetype": "text/x-python",
   "name": "python",
   "nbconvert_exporter": "python",
   "pygments_lexer": "ipython3",
   "version": "3.11.3"
  }
 },
 "nbformat": 4,
 "nbformat_minor": 5
}
