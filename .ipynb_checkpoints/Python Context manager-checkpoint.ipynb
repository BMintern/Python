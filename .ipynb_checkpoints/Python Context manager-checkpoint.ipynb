{
 "cells": [
  {
   "cell_type": "markdown",
   "id": "f44562cb",
   "metadata": {},
   "source": [
    "# Creating a Context Manager"
   ]
  },
  {
   "cell_type": "code",
   "execution_count": 1,
   "id": "3fef46d5",
   "metadata": {},
   "outputs": [
    {
     "name": "stdout",
     "output_type": "stream",
     "text": [
      "init method called\n",
      "enter method called\n",
      "with statement block\n",
      "exit method called\n"
     ]
    }
   ],
   "source": [
    "# Python program creating a\n",
    "# context manager\n",
    "\n",
    "class ContextManager():\n",
    "    def __init__(self):\n",
    "        print('init method called')\n",
    "    def __enter__(self):\n",
    "        print('enter method called')\n",
    "        return self\n",
    "    \n",
    "    def __exit__(self, exc_type, exc_value, exc_traceback):\n",
    "        print('exit method called')\n",
    "\n",
    "with ContextManager() as manager:\n",
    "    print('with statement block')\n"
   ]
  },
  {
   "cell_type": "code",
   "execution_count": 2,
   "id": "3b82276e",
   "metadata": {},
   "outputs": [
    {
     "name": "stdout",
     "output_type": "stream",
     "text": [
      "True\n"
     ]
    }
   ],
   "source": [
    "# Python program showing\n",
    "# file management using\n",
    "# context manager\n",
    "\n",
    "class FileManager():\n",
    "    def __init__(self, filename, mode):\n",
    "        self.filename = filename\n",
    "        self.mode = mode\n",
    "        self.file = None\n",
    "\n",
    "    def __enter__(self):\n",
    "        self.file = open(self.filename, self.mode)\n",
    "        return self.file\n",
    "\n",
    "    def __exit__(self, exc_type, exc_value, exc_traceback):\n",
    "        self.file.close()\n",
    "\n",
    "# loading a file\n",
    "with FileManager('test.txt', 'w') as f:\n",
    "    f.write('Test')\n",
    "\n",
    "print(f.closed)\n"
   ]
  },
  {
   "cell_type": "markdown",
   "id": "d5fb37ad",
   "metadata": {},
   "source": [
    "# Context Manager Using @contextmanager Decorator"
   ]
  },
  {
   "cell_type": "code",
   "execution_count": 2,
   "id": "06ed2396",
   "metadata": {},
   "outputs": [
    {
     "name": "stdout",
     "output_type": "stream",
     "text": [
      "A decorated line: Pooventhiran\n"
     ]
    }
   ],
   "source": [
    "# Python program to demonstrate\n",
    "# decorators\n",
    "\n",
    "def msg_decorator(func):\n",
    "    \n",
    "    # Inner function\n",
    "    def msg_wrapper(msg):\n",
    "        print(\"A decorated line:\", func(msg))\n",
    "    \n",
    "    return msg_wrapper\n",
    "\n",
    "# Using the decorator\n",
    "@msg_decorator\n",
    "def print_name(name):\n",
    "    return name\n",
    "\n",
    "print_name(\"Pooventhiran\")\n"
   ]
  },
  {
   "cell_type": "code",
   "execution_count": null,
   "id": "75e5acba",
   "metadata": {},
   "outputs": [],
   "source": []
  }
 ],
 "metadata": {
  "kernelspec": {
   "display_name": "Python 3 (ipykernel)",
   "language": "python",
   "name": "python3"
  },
  "language_info": {
   "codemirror_mode": {
    "name": "ipython",
    "version": 3
   },
   "file_extension": ".py",
   "mimetype": "text/x-python",
   "name": "python",
   "nbconvert_exporter": "python",
   "pygments_lexer": "ipython3",
   "version": "3.11.3"
  }
 },
 "nbformat": 4,
 "nbformat_minor": 5
}
