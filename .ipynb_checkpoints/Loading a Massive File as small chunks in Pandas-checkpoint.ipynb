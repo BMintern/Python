{
 "cells": [
  {
   "cell_type": "markdown",
   "id": "3b1428eb",
   "metadata": {},
   "source": [
    "## Loading a Massive File as small chunks in Pandas"
   ]
  },
  {
   "cell_type": "code",
   "execution_count": 1,
   "id": "c95a49d9",
   "metadata": {},
   "outputs": [
    {
     "data": {
      "text/plain": [
       "Index(['url', 'address', 'name', 'online_order', 'book_table', 'rate', 'votes',\n",
       "       'phone', 'location', 'rest_type', 'dish_liked', 'cuisines',\n",
       "       'approx_cost(for two people)', 'reviews_list', 'menu_item',\n",
       "       'listed_in(type)', 'listed_in(city)'],\n",
       "      dtype='object')"
      ]
     },
     "execution_count": 1,
     "metadata": {},
     "output_type": "execute_result"
    }
   ],
   "source": [
    "\n",
    "import pandas as pd\n",
    "from pprint import pprint\n",
    "  \n",
    "df = pd.read_csv('zomato.csv')\n",
    "  \n",
    "df.columns"
   ]
  },
  {
   "cell_type": "code",
   "execution_count": 2,
   "id": "7024f5bf",
   "metadata": {},
   "outputs": [
    {
     "name": "stdout",
     "output_type": "stream",
     "text": [
      "<class 'pandas.core.frame.DataFrame'>\n",
      "RangeIndex: 51717 entries, 0 to 51716\n",
      "Data columns (total 17 columns):\n",
      " #   Column                       Non-Null Count  Dtype \n",
      "---  ------                       --------------  ----- \n",
      " 0   url                          51717 non-null  object\n",
      " 1   address                      51717 non-null  object\n",
      " 2   name                         51717 non-null  object\n",
      " 3   online_order                 51717 non-null  object\n",
      " 4   book_table                   51717 non-null  object\n",
      " 5   rate                         43942 non-null  object\n",
      " 6   votes                        51717 non-null  int64 \n",
      " 7   phone                        50509 non-null  object\n",
      " 8   location                     51696 non-null  object\n",
      " 9   rest_type                    51490 non-null  object\n",
      " 10  dish_liked                   23639 non-null  object\n",
      " 11  cuisines                     51672 non-null  object\n",
      " 12  approx_cost(for two people)  51371 non-null  object\n",
      " 13  reviews_list                 51717 non-null  object\n",
      " 14  menu_item                    51717 non-null  object\n",
      " 15  listed_in(type)              51717 non-null  object\n",
      " 16  listed_in(city)              51717 non-null  object\n",
      "dtypes: int64(1), object(16)\n",
      "memory usage: 6.7+ MB\n"
     ]
    }
   ],
   "source": [
    "df.info()"
   ]
  },
  {
   "cell_type": "code",
   "execution_count": 5,
   "id": "2df38521",
   "metadata": {},
   "outputs": [
    {
     "name": "stdout",
     "output_type": "stream",
     "text": [
      "<pandas.io.parsers.readers.TextFileReader object at 0x00000183D9B63BB0>\n"
     ]
    }
   ],
   "source": [
    "df = pd.read_csv(\"zomato.csv\", chunksize=10000)\n",
    "print(df)"
   ]
  },
  {
   "cell_type": "code",
   "execution_count": 6,
   "id": "2ca88281",
   "metadata": {},
   "outputs": [
    {
     "name": "stdout",
     "output_type": "stream",
     "text": [
      "(10000, 17)\n",
      "(10000, 17)\n",
      "(10000, 17)\n",
      "(10000, 17)\n",
      "(10000, 17)\n",
      "(1717, 17)\n"
     ]
    }
   ],
   "source": [
    "for data in df:\n",
    "    pprint(data.shape)"
   ]
  },
  {
   "cell_type": "code",
   "execution_count": 7,
   "id": "778d51cb",
   "metadata": {},
   "outputs": [
    {
     "name": "stdout",
     "output_type": "stream",
     "text": [
      "                                                 url  \\\n",
      "0  https://www.zomato.com/bangalore/jalsa-banasha...   \n",
      "1  https://www.zomato.com/bangalore/spice-elephan...   \n",
      "2  https://www.zomato.com/SanchurroBangalore?cont...   \n",
      "3  https://www.zomato.com/bangalore/addhuri-udupi...   \n",
      "4  https://www.zomato.com/bangalore/grand-village...   \n",
      "5  https://www.zomato.com/bangalore/timepass-dinn...   \n",
      "6  https://www.zomato.com/bangalore/rosewood-inte...   \n",
      "7  https://www.zomato.com/bangalore/onesta-banash...   \n",
      "8  https://www.zomato.com/bangalore/penthouse-caf...   \n",
      "9  https://www.zomato.com/bangalore/smacznego-ban...   \n",
      "\n",
      "                                             address  \\\n",
      "0  942, 21st Main Road, 2nd Stage, Banashankari, ...   \n",
      "1  2nd Floor, 80 Feet Road, Near Big Bazaar, 6th ...   \n",
      "2  1112, Next to KIMS Medical College, 17th Cross...   \n",
      "3  1st Floor, Annakuteera, 3rd Stage, Banashankar...   \n",
      "4  10, 3rd Floor, Lakshmi Associates, Gandhi Baza...   \n",
      "5  37, 5-1, 4th Floor, Bosco Court, Gandhi Bazaar...   \n",
      "6  19/1, New Timberyard Layout, Beside Satellite ...   \n",
      "7  2469, 3rd Floor, 24th Cross, Opposite BDA Comp...   \n",
      "8  1, 30th Main Road, 3rd Stage, Banashankari, Ba...   \n",
      "9  2470, 21 Main Road, 25th Cross, Banashankari, ...   \n",
      "\n",
      "                                              name online_order book_table  \\\n",
      "0                                            Jalsa          Yes        Yes   \n",
      "1                                   Spice Elephant          Yes         No   \n",
      "2                                  San Churro Cafe          Yes         No   \n",
      "3                            Addhuri Udupi Bhojana           No         No   \n",
      "4                                    Grand Village           No         No   \n",
      "5                                  Timepass Dinner          Yes         No   \n",
      "6  Rosewood International Hotel - Bar & Restaurant           No         No   \n",
      "7                                           Onesta          Yes        Yes   \n",
      "8                                   Penthouse Cafe          Yes         No   \n",
      "9                                        Smacznego          Yes         No   \n",
      "\n",
      "    rate  votes                             phone      location  \\\n",
      "0  4.1/5    775    080 42297555\\r\\n+91 9743772233  Banashankari   \n",
      "1  4.1/5    787                      080 41714161  Banashankari   \n",
      "2  3.8/5    918                    +91 9663487993  Banashankari   \n",
      "3  3.7/5     88                    +91 9620009302  Banashankari   \n",
      "4  3.8/5    166  +91 8026612447\\r\\n+91 9901210005  Basavanagudi   \n",
      "5  3.8/5    286  +91 9980040002\\r\\n+91 9980063005  Basavanagudi   \n",
      "6  3.6/5      8    +91 9731716688\\r\\n080 26740366   Mysore Road   \n",
      "7  4.6/5   2556      080 48653961\\r\\n080 48655715  Banashankari   \n",
      "8  4.0/5    324  +91 8884135549\\r\\n+91 9449449316  Banashankari   \n",
      "9  4.2/5    504  +91 9945230807\\r\\n+91 9743804471  Banashankari   \n",
      "\n",
      "             rest_type                                         dish_liked  \\\n",
      "0        Casual Dining  Pasta, Lunch Buffet, Masala Papad, Paneer Laja...   \n",
      "1        Casual Dining  Momos, Lunch Buffet, Chocolate Nirvana, Thai G...   \n",
      "2  Cafe, Casual Dining  Churros, Cannelloni, Minestrone Soup, Hot Choc...   \n",
      "3          Quick Bites                                        Masala Dosa   \n",
      "4        Casual Dining                                Panipuri, Gol Gappe   \n",
      "5        Casual Dining  Onion Rings, Pasta, Kadhai Paneer, Salads, Sal...   \n",
      "6        Casual Dining                                                NaN   \n",
      "7  Casual Dining, Cafe  Farmhouse Pizza, Chocolate Banana, Virgin Moji...   \n",
      "8                 Cafe  Pizza, Mocktails, Coffee, Nachos, Salad, Pasta...   \n",
      "9                 Cafe  Waffles, Pasta, Coleslaw Sandwich, Choco Waffl...   \n",
      "\n",
      "                                      cuisines  approx_cost(for two people)  \\\n",
      "0               North Indian, Mughlai, Chinese                          800   \n",
      "1                  Chinese, North Indian, Thai                          800   \n",
      "2                       Cafe, Mexican, Italian                          800   \n",
      "3                   South Indian, North Indian                          300   \n",
      "4                     North Indian, Rajasthani                          600   \n",
      "5                                 North Indian                          600   \n",
      "6  North Indian, South Indian, Andhra, Chinese                          800   \n",
      "7                         Pizza, Cafe, Italian                          600   \n",
      "8                   Cafe, Italian, Continental                          700   \n",
      "9     Cafe, Mexican, Italian, Momos, Beverages                          550   \n",
      "\n",
      "                                        reviews_list menu_item  \\\n",
      "0  [('Rated 4.0', 'RATED\\n  A beautiful place to ...        []   \n",
      "1  [('Rated 4.0', 'RATED\\n  Had been here for din...        []   \n",
      "2  [('Rated 3.0', \"RATED\\n  Ambience is not that ...        []   \n",
      "3  [('Rated 4.0', \"RATED\\n  Great food and proper...        []   \n",
      "4  [('Rated 4.0', 'RATED\\n  Very good restaurant ...        []   \n",
      "5  [('Rated 3.0', 'RATED\\n  Food 3/5\\nAmbience 3/...        []   \n",
      "6  [('Rated 5.0', 'RATED\\n  Awesome food ??Great ...        []   \n",
      "7  [('Rated 5.0', 'RATED\\n  I personally really l...        []   \n",
      "8  [('Rated 3.0', \"RATED\\n  I had been to this pl...        []   \n",
      "9  [('Rated 4.0', \"RATED\\n  Easy to locate\\nVFM 3...        []   \n",
      "\n",
      "  listed_in(type) listed_in(city)  \n",
      "0          Buffet    Banashankari  \n",
      "1          Buffet    Banashankari  \n",
      "2          Buffet    Banashankari  \n",
      "3          Buffet    Banashankari  \n",
      "4          Buffet    Banashankari  \n",
      "5          Buffet    Banashankari  \n",
      "6          Buffet    Banashankari  \n",
      "7           Cafes    Banashankari  \n",
      "8           Cafes    Banashankari  \n",
      "9           Cafes    Banashankari  \n"
     ]
    }
   ],
   "source": [
    "df = pd.read_csv(\"zomato.csv\", chunksize=10)\n",
    "  \n",
    "for data in df:\n",
    "    pprint(data)\n",
    "    break"
   ]
  },
  {
   "cell_type": "markdown",
   "id": "25062854",
   "metadata": {},
   "source": [
    "## Load the same CSV file 10X times faster and with 10X less memory"
   ]
  },
  {
   "cell_type": "markdown",
   "id": "788154d1",
   "metadata": {},
   "source": [
    "### 1. use cols:"
   ]
  },
  {
   "cell_type": "markdown",
   "id": "cc8b135b",
   "metadata": {},
   "source": [
    "Rather than loading data and removing unnecessary columns that aren’t useful when processing your data. load only the useful columns.\n",
    "\n"
   ]
  },
  {
   "cell_type": "code",
   "execution_count": 38,
   "id": "f3114c4a",
   "metadata": {},
   "outputs": [],
   "source": [
    "import pandas as pd\n",
    "import warnings\n",
    "warnings.filterwarnings(\"ignore\")"
   ]
  },
  {
   "cell_type": "code",
   "execution_count": 39,
   "id": "6ab72b7c",
   "metadata": {},
   "outputs": [],
   "source": [
    "df = pd.read_csv(\"zomato.csv\")"
   ]
  },
  {
   "cell_type": "code",
   "execution_count": 40,
   "id": "5bf4f39e",
   "metadata": {},
   "outputs": [
    {
     "name": "stdout",
     "output_type": "stream",
     "text": [
      "<class 'pandas.core.frame.DataFrame'>\n",
      "RangeIndex: 51717 entries, 0 to 51716\n",
      "Columns: 17 entries, url to listed_in(city)\n",
      "dtypes: int64(1), object(16)\n",
      "memory usage: 572.2 MB\n"
     ]
    }
   ],
   "source": [
    "df.info(verbose=False, memory_usage=\"deep\")"
   ]
  },
  {
   "cell_type": "code",
   "execution_count": 41,
   "id": "912ad695",
   "metadata": {},
   "outputs": [
    {
     "data": {
      "text/plain": [
       "17"
      ]
     },
     "execution_count": 41,
     "metadata": {},
     "output_type": "execute_result"
    }
   ],
   "source": [
    "len(df.columns)"
   ]
  },
  {
   "cell_type": "code",
   "execution_count": 42,
   "id": "89c2beb2",
   "metadata": {},
   "outputs": [
    {
     "data": {
      "text/plain": [
       "10"
      ]
     },
     "execution_count": 42,
     "metadata": {},
     "output_type": "execute_result"
    }
   ],
   "source": [
    "req_cols =['address', 'name', 'online_order', 'book_table', 'rate', 'votes',\n",
    "       'phone', 'location', 'rest_type', 'dish_liked']\n",
    "len(req_cols)"
   ]
  },
  {
   "cell_type": "code",
   "execution_count": 43,
   "id": "90149db7",
   "metadata": {},
   "outputs": [],
   "source": [
    "df = pd.read_csv(\"zomato.csv\", usecols=req_cols)"
   ]
  },
  {
   "cell_type": "code",
   "execution_count": 44,
   "id": "59c59cd3",
   "metadata": {},
   "outputs": [
    {
     "name": "stdout",
     "output_type": "stream",
     "text": [
      "<class 'pandas.core.frame.DataFrame'>\n",
      "RangeIndex: 51717 entries, 0 to 51716\n",
      "Columns: 10 entries, address to dish_liked\n",
      "dtypes: int64(1), object(9)\n",
      "memory usage: 32.9 MB\n"
     ]
    }
   ],
   "source": [
    "df.info(verbose=False, memory_usage=\"deep\")"
   ]
  },
  {
   "cell_type": "markdown",
   "id": "9a36f18d",
   "metadata": {},
   "source": [
    "### 2. Using correct dtypes for numerical data:"
   ]
  },
  {
   "cell_type": "code",
   "execution_count": 45,
   "id": "1efa152f",
   "metadata": {},
   "outputs": [
    {
     "data": {
      "text/plain": [
       "413736"
      ]
     },
     "execution_count": 45,
     "metadata": {},
     "output_type": "execute_result"
    }
   ],
   "source": [
    "df['votes'].memory_usage(index=False, deep= True)"
   ]
  },
  {
   "cell_type": "code",
   "execution_count": 46,
   "id": "765e2633",
   "metadata": {},
   "outputs": [
    {
     "data": {
      "text/plain": [
       "0"
      ]
     },
     "execution_count": 46,
     "metadata": {},
     "output_type": "execute_result"
    }
   ],
   "source": [
    "df['votes'].min()"
   ]
  },
  {
   "cell_type": "code",
   "execution_count": 47,
   "id": "ac25cdf4",
   "metadata": {},
   "outputs": [
    {
     "data": {
      "text/plain": [
       "16832"
      ]
     },
     "execution_count": 47,
     "metadata": {},
     "output_type": "execute_result"
    }
   ],
   "source": [
    "df['votes'].max()"
   ]
  },
  {
   "cell_type": "code",
   "execution_count": 48,
   "id": "de6f3c04",
   "metadata": {},
   "outputs": [],
   "source": [
    "df = pd.read_csv(\"zomato.csv\", dtype={\"votes\": \"int16\"})"
   ]
  },
  {
   "cell_type": "code",
   "execution_count": 49,
   "id": "a7c792ad",
   "metadata": {},
   "outputs": [
    {
     "data": {
      "text/plain": [
       "103434"
      ]
     },
     "execution_count": 49,
     "metadata": {},
     "output_type": "execute_result"
    }
   ],
   "source": [
    "df['votes'].memory_usage(index=False, deep=True)"
   ]
  },
  {
   "cell_type": "code",
   "execution_count": 50,
   "id": "e6e48816",
   "metadata": {},
   "outputs": [
    {
     "data": {
      "text/plain": [
       "75.0"
      ]
     },
     "execution_count": 50,
     "metadata": {},
     "output_type": "execute_result"
    }
   ],
   "source": [
    "(3209000 - 802250)/3209000*100"
   ]
  },
  {
   "cell_type": "markdown",
   "id": "1067bebb",
   "metadata": {},
   "source": [
    "### 3.Using correct dtypes for categorical columns:"
   ]
  },
  {
   "cell_type": "markdown",
   "id": "2df71229",
   "metadata": {},
   "source": [
    "In Dataset, I have a column online_order which is by default parsed as a string, but it contains only a fixed number of values that remain unchanged for any dataset."
   ]
  },
  {
   "cell_type": "code",
   "execution_count": 51,
   "id": "7c2283bc",
   "metadata": {},
   "outputs": [
    {
     "data": {
      "text/plain": [
       "Yes    30444\n",
       "No     21273\n",
       "Name: online_order, dtype: int64"
      ]
     },
     "execution_count": 51,
     "metadata": {},
     "output_type": "execute_result"
    }
   ],
   "source": [
    "df['online_order'].value_counts()"
   ]
  },
  {
   "cell_type": "code",
   "execution_count": 52,
   "id": "a551a24d",
   "metadata": {},
   "outputs": [],
   "source": [
    "df = pd.read_csv(\"zomato.csv\", dtype={\"online_order\": \"category\"})"
   ]
  },
  {
   "cell_type": "markdown",
   "id": "4b966405",
   "metadata": {},
   "source": [
    "### 4. nrows, skip rows"
   ]
  },
  {
   "cell_type": "markdown",
   "id": "440c91e6",
   "metadata": {},
   "source": [
    " Even before loading all the data into your RAM, it is always a good practice to test your functions and workflows using a small dataset and pandas have made it easier to choose precisely the number of rows (you can even skip the rows that you do not need.)\n",
    "\n",
    "In most of the cases for testing purpose, you don’t need to load all the data when a sample can do just fine."
   ]
  },
  {
   "cell_type": "code",
   "execution_count": 53,
   "id": "7b2e1c98",
   "metadata": {},
   "outputs": [
    {
     "data": {
      "text/plain": [
       "51717"
      ]
     },
     "execution_count": 53,
     "metadata": {},
     "output_type": "execute_result"
    }
   ],
   "source": [
    "len(df)"
   ]
  },
  {
   "cell_type": "code",
   "execution_count": 54,
   "id": "e176bca6",
   "metadata": {},
   "outputs": [],
   "source": [
    "df = pd.read_csv('zomato.csv', skiprows=[0,2,5])"
   ]
  },
  {
   "cell_type": "code",
   "execution_count": 55,
   "id": "5be24ed5",
   "metadata": {},
   "outputs": [
    {
     "data": {
      "text/plain": [
       "51714"
      ]
     },
     "execution_count": 55,
     "metadata": {},
     "output_type": "execute_result"
    }
   ],
   "source": [
    "len(df)"
   ]
  },
  {
   "cell_type": "markdown",
   "id": "ed8026f0",
   "metadata": {},
   "source": [
    "### 5. Loading Data in Chunks:"
   ]
  },
  {
   "cell_type": "markdown",
   "id": "258ec4ad",
   "metadata": {},
   "source": [
    "loading data in chunks is actually slower than reading whole data directly as you need to concat the chunks again but we can load files with more than 10’s of GB’s easily."
   ]
  },
  {
   "cell_type": "code",
   "execution_count": 56,
   "id": "db043119",
   "metadata": {},
   "outputs": [
    {
     "data": {
      "text/plain": [
       "51714"
      ]
     },
     "execution_count": 56,
     "metadata": {},
     "output_type": "execute_result"
    }
   ],
   "source": [
    "len(df)"
   ]
  },
  {
   "cell_type": "code",
   "execution_count": 57,
   "id": "f94fd227",
   "metadata": {},
   "outputs": [],
   "source": [
    "df = pd.read_csv(\"zomato.csv\", chunksize=1000)"
   ]
  },
  {
   "cell_type": "code",
   "execution_count": 58,
   "id": "94dcbd81",
   "metadata": {},
   "outputs": [
    {
     "name": "stdout",
     "output_type": "stream",
     "text": [
      "51717\n"
     ]
    }
   ],
   "source": [
    "total_len = 0\n",
    "for chunk in df:\n",
    "    # Do some preprocessing to reduce the memory size of each chunk\n",
    "    total_len += len(chunk)\n",
    "print(total_len)\n"
   ]
  },
  {
   "cell_type": "code",
   "execution_count": 59,
   "id": "4bd977f9",
   "metadata": {},
   "outputs": [],
   "source": [
    "tp = pd.read_csv('zomato.csv', iterator=True, chunksize=1000)  # gives TextFileReader\n",
    "df = pd.concat(tp, ignore_index=True)"
   ]
  },
  {
   "cell_type": "code",
   "execution_count": 60,
   "id": "84c05a6e",
   "metadata": {},
   "outputs": [
    {
     "data": {
      "text/plain": [
       "51717"
      ]
     },
     "execution_count": 60,
     "metadata": {},
     "output_type": "execute_result"
    }
   ],
   "source": [
    "len(df)"
   ]
  },
  {
   "cell_type": "markdown",
   "id": "c8844e06",
   "metadata": {},
   "source": [
    "### 6. Multiprocessing using pandas:"
   ]
  },
  {
   "cell_type": "markdown",
   "id": "d21fb610",
   "metadata": {},
   "source": [
    "As pandas don’t have njobs variable to make use of multiprocessing power. we can utilize multiprocessinglibrary to handle chunk size operations asynchronously on multi-threads which can reduce the run time by half."
   ]
  },
  {
   "cell_type": "code",
   "execution_count": 61,
   "id": "4f349951",
   "metadata": {},
   "outputs": [
    {
     "name": "stdout",
     "output_type": "stream",
     "text": [
      "51717\n",
      "CPU times: total: 8.06 s\n",
      "Wall time: 8.06 s\n"
     ]
    }
   ],
   "source": [
    "%%time\n",
    "df = pd.read_csv(\"zomato.csv\", chunksize=1000)\n",
    "total_length = 0\n",
    "for chunk in df:\n",
    "    total_length += len(chunk)\n",
    "print(total_length)"
   ]
  },
  {
   "cell_type": "code",
   "execution_count": 64,
   "id": "78b1003d",
   "metadata": {},
   "outputs": [],
   "source": []
  },
  {
   "cell_type": "markdown",
   "id": "17793665",
   "metadata": {},
   "source": [
    "### 7. Dask Instead of Pandas:\n"
   ]
  },
  {
   "cell_type": "code",
   "execution_count": 70,
   "id": "7a6cbf52",
   "metadata": {},
   "outputs": [
    {
     "data": {
      "text/plain": [
       "<bound method DaskMethodsMixin.compute of Dask DataFrame Structure:\n",
       "                  url address    name online_order book_table    rate    votes   phone location rest_type dish_liked cuisines approx_cost(for two people) reviews_list menu_item listed_in(type) listed_in(city)\n",
       "npartitions=8                                                                                                                                                                                                   \n",
       "               object  object  object       object     object  object  float64  object   object    object     object   object                     float64       object    object          object          object\n",
       "                  ...     ...     ...          ...        ...     ...      ...     ...      ...       ...        ...      ...                         ...          ...       ...             ...             ...\n",
       "...               ...     ...     ...          ...        ...     ...      ...     ...      ...       ...        ...      ...                         ...          ...       ...             ...             ...\n",
       "                  ...     ...     ...          ...        ...     ...      ...     ...      ...       ...        ...      ...                         ...          ...       ...             ...             ...\n",
       "                  ...     ...     ...          ...        ...     ...      ...     ...      ...       ...        ...      ...                         ...          ...       ...             ...             ...\n",
       "Dask Name: read-csv, 1 graph layer>"
      ]
     },
     "execution_count": 70,
     "metadata": {},
     "output_type": "execute_result"
    }
   ],
   "source": [
    "import dask.dataframe as dd\n",
    "data = dd.read_csv(\"zomato.csv\",dtype={'approx_cost(for two people)': 'float64'},assume_missing=True)\n",
    "data.compute"
   ]
  },
  {
   "cell_type": "code",
   "execution_count": 68,
   "id": "31b4cc2d",
   "metadata": {},
   "outputs": [
    {
     "name": "stdout",
     "output_type": "stream",
     "text": [
      "Collecting dask\n",
      "  Downloading dask-2023.6.0-py3-none-any.whl (1.2 MB)\n",
      "     ---------------------------------------- 1.2/1.2 MB 521.0 kB/s eta 0:00:00\n",
      "Collecting toolz>=0.10.0\n",
      "  Downloading toolz-0.12.0-py3-none-any.whl (55 kB)\n",
      "     -------------------------------------- 55.8/55.8 kB 723.7 kB/s eta 0:00:00\n",
      "Requirement already satisfied: packaging>=20.0 in c:\\users\\it tech\\anaconda3\\envs\\py38\\lib\\site-packages (from dask) (22.0)\n",
      "Collecting importlib-metadata>=4.13.0\n",
      "  Downloading importlib_metadata-6.6.0-py3-none-any.whl (22 kB)\n",
      "Collecting fsspec>=2021.09.0\n",
      "  Downloading fsspec-2023.6.0-py3-none-any.whl (163 kB)\n",
      "     ------------------------------------ 163.8/163.8 kB 490.7 kB/s eta 0:00:00\n",
      "Requirement already satisfied: pyyaml>=5.3.1 in c:\\users\\it tech\\anaconda3\\envs\\py38\\lib\\site-packages (from dask) (6.0)\n",
      "Requirement already satisfied: click>=8.0 in c:\\users\\it tech\\anaconda3\\envs\\py38\\lib\\site-packages (from dask) (8.1.3)\n",
      "Collecting partd>=1.2.0\n",
      "  Downloading partd-1.4.0-py3-none-any.whl (18 kB)\n",
      "Collecting cloudpickle>=1.5.0\n",
      "  Downloading cloudpickle-2.2.1-py3-none-any.whl (25 kB)\n",
      "Requirement already satisfied: colorama in c:\\users\\it tech\\anaconda3\\envs\\py38\\lib\\site-packages (from click>=8.0->dask) (0.4.6)\n",
      "Collecting zipp>=0.5\n",
      "  Downloading zipp-3.15.0-py3-none-any.whl (6.8 kB)\n",
      "Collecting locket\n",
      "  Downloading locket-1.0.0-py2.py3-none-any.whl (4.4 kB)\n",
      "Installing collected packages: zipp, toolz, locket, fsspec, cloudpickle, partd, importlib-metadata, dask\n",
      "Successfully installed cloudpickle-2.2.1 dask-2023.6.0 fsspec-2023.6.0 importlib-metadata-6.6.0 locket-1.0.0 partd-1.4.0 toolz-0.12.0 zipp-3.15.0\n",
      "Note: you may need to restart the kernel to use updated packages.\n"
     ]
    }
   ],
   "source": [
    "pip install dask"
   ]
  },
  {
   "cell_type": "code",
   "execution_count": null,
   "id": "19d57862",
   "metadata": {},
   "outputs": [],
   "source": []
  }
 ],
 "metadata": {
  "kernelspec": {
   "display_name": "Python 3 (ipykernel)",
   "language": "python",
   "name": "python3"
  },
  "language_info": {
   "codemirror_mode": {
    "name": "ipython",
    "version": 3
   },
   "file_extension": ".py",
   "mimetype": "text/x-python",
   "name": "python",
   "nbconvert_exporter": "python",
   "pygments_lexer": "ipython3",
   "version": "3.9.13"
  }
 },
 "nbformat": 4,
 "nbformat_minor": 5
}
