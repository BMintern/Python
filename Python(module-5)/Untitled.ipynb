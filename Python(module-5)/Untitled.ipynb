{
 "cells": [
  {
   "cell_type": "code",
   "execution_count": null,
   "id": "f7da8f71",
   "metadata": {},
   "outputs": [],
   "source": [
    "# https://www.geeksforgeeks.org/__init__-in-python/"
   ]
  },
  {
   "cell_type": "code",
   "execution_count": 17,
   "id": "33718808",
   "metadata": {},
   "outputs": [
    {
     "name": "stdout",
     "output_type": "stream",
     "text": [
      "0\n",
      "0\n"
     ]
    },
    {
     "data": {
      "text/plain": [
       "<bound method bank.add_to_database of <__main__.bank object at 0x0000020FC4A74BE0>>"
      ]
     },
     "execution_count": 17,
     "metadata": {},
     "output_type": "execute_result"
    }
   ],
   "source": [
    "# global lst=[]\n",
    "class bank:\n",
    "    account_Number=0\n",
    "    name=\"A\"\n",
    "    balance=0\n",
    "    def __init__(self,acc_num, nam, bal):\n",
    "        account_Number=acc_num\n",
    "        name=nam\n",
    "        balance=bal\n",
    "        print(self.balance)\n",
    "#         lst=lst.append(acc_num)\n",
    "#         print(self.lst)\n",
    "#         self.add_to_database(acc_num)\n",
    "    \n",
    "    def add_to_database(self):\n",
    "        self.lst=lst.append(self.acc_num)\n",
    "        print(self.lst)\n",
    "#         self.add_to_database(acc_num)\n",
    "        \n",
    "    \n",
    "\n",
    "    \n",
    "    def display(self,account_number):\n",
    "            print(self.account_Number)\n",
    "            print(self.name)\n",
    "#          else:\n",
    "#             print(\"Invalid account\")\n",
    "#             if account_number in lst:\n",
    "        \n",
    "       \n",
    "\n",
    "#     def deposit(self,account_number, amnt):\n",
    "#         self.balance=self.balance+amnt\n",
    "#         return self.balance\n",
    "    \n",
    "#     def withdraw(self,account_number, amnt):\n",
    "#         if self.balance<=0:\n",
    "#             print(\"Insufficient Balance\")\n",
    "#             return\n",
    "#         else:\n",
    "#              self.balance=self.balance-amnt\n",
    "#              return self.balance\n",
    "        \n",
    "obj1=bank(14234, \"Sujit\",0)\n",
    "obj1.add_to_database\n",
    "obj2=bank(14235, \"Apporva\",0)\n",
    "obj2.add_to_database\n",
    "# obj3=bank(14236, \"Apporva\",0)\n",
    "# obj1.display(14324)\n",
    "# final_deposit=obj1.deposit(14324,100)\n",
    "# final_withdrwal=obj1.withdraw(14324,100)\n",
    "# print(final_balance)\n",
    "# print(final_withdrwal)\n",
    "# obj2.display(14235)"
   ]
  },
  {
   "cell_type": "code",
   "execution_count": 62,
   "id": "ea21b8cb",
   "metadata": {},
   "outputs": [
    {
     "name": "stdout",
     "output_type": "stream",
     "text": [
      "300\n"
     ]
    }
   ],
   "source": [
    "final_balance=obj1.deposit(14324,100)\n",
    "print(final_balance)"
   ]
  },
  {
   "cell_type": "code",
   "execution_count": 66,
   "id": "e80f8d6f",
   "metadata": {},
   "outputs": [
    {
     "name": "stdout",
     "output_type": "stream",
     "text": [
      "Insufficient Balance\n",
      "None\n"
     ]
    }
   ],
   "source": [
    "final_withdrwal=obj1.withdraw(14324,100)\n",
    "print(final_withdrwal)"
   ]
  },
  {
   "cell_type": "code",
   "execution_count": 3,
   "id": "7ab4805d",
   "metadata": {},
   "outputs": [],
   "source": [
    "# pip install jupyter"
   ]
  },
  {
   "cell_type": "code",
   "execution_count": 2,
   "id": "3e3719de",
   "metadata": {},
   "outputs": [
    {
     "name": "stdout",
     "output_type": "stream",
     "text": [
      "Collecting playsound\n",
      "  Downloading playsound-1.3.0.tar.gz (7.7 kB)\n",
      "  Preparing metadata (setup.py): started\n",
      "  Preparing metadata (setup.py): finished with status 'done'\n",
      "Building wheels for collected packages: playsound\n",
      "  Building wheel for playsound (setup.py): started\n",
      "  Building wheel for playsound (setup.py): finished with status 'done'\n",
      "  Created wheel for playsound: filename=playsound-1.3.0-py3-none-any.whl size=7046 sha256=48880fd65665e442ea907e062e7d52bfb5ea92cec6e3c2622d4ed4a3f35e8d91\n",
      "  Stored in directory: c:\\users\\sujitthakur\\appdata\\local\\pip\\cache\\wheels\\24\\f9\\b3\\2ed63b5d2a91bbf7da060acdc294c1335db338ec81f0c76e1b\n",
      "Successfully built playsound\n",
      "Installing collected packages: playsound\n",
      "Successfully installed playsound-1.3.0\n",
      "Note: you may need to restart the kernel to use updated packages.\n"
     ]
    }
   ],
   "source": [
    "# pip install playsound"
   ]
  },
  {
   "cell_type": "code",
   "execution_count": null,
   "id": "633cc13d",
   "metadata": {},
   "outputs": [],
   "source": [
    "# C:\\Projects.play.mp3"
   ]
  },
  {
   "cell_type": "code",
   "execution_count": 10,
   "id": "8a8e982b",
   "metadata": {},
   "outputs": [
    {
     "name": "stderr",
     "output_type": "stream",
     "text": [
      "\n",
      "    Error 305 for command:\n",
      "        open \"projects\\play.mp3\"\n",
      "    Cannot specify extra characters after a string enclosed in quotation marks.\n",
      "\n",
      "    Error 305 for command:\n",
      "        close \"projects\\play.mp3\"\n",
      "    Cannot specify extra characters after a string enclosed in quotation marks.\n",
      "Failed to close the file: \"projects\\play.mp3\"\n"
     ]
    },
    {
     "ename": "PlaysoundException",
     "evalue": "\n    Error 305 for command:\n        open \"projects\\play.mp3\"\n    Cannot specify extra characters after a string enclosed in quotation marks.",
     "output_type": "error",
     "traceback": [
      "\u001b[1;31m---------------------------------------------------------------------------\u001b[0m",
      "\u001b[1;31mPlaysoundException\u001b[0m                        Traceback (most recent call last)",
      "Cell \u001b[1;32mIn[10], line 4\u001b[0m\n\u001b[0;32m      1\u001b[0m \u001b[38;5;28;01mfrom\u001b[39;00m \u001b[38;5;21;01mplaysound\u001b[39;00m \u001b[38;5;28;01mimport\u001b[39;00m playsound\n\u001b[0;32m      2\u001b[0m \u001b[38;5;66;03m# playsound('C:/Users/VikramBhadoria/Documents/Archrock Power BI/play.mp3')\u001b[39;00m\n\u001b[1;32m----> 4\u001b[0m \u001b[43mplaysound\u001b[49m\u001b[43m(\u001b[49m\u001b[38;5;124;43m'\u001b[39;49m\u001b[38;5;124;43mprojects\u001b[39;49m\u001b[38;5;130;43;01m\\\\\u001b[39;49;00m\u001b[38;5;124;43mplay.mp3\u001b[39;49m\u001b[38;5;124;43m'\u001b[39;49m\u001b[43m)\u001b[49m\n\u001b[0;32m      5\u001b[0m \u001b[38;5;28mprint\u001b[39m(\u001b[38;5;124m'\u001b[39m\u001b[38;5;124mplaying sound using  playsound\u001b[39m\u001b[38;5;124m'\u001b[39m)\n",
      "File \u001b[1;32m~\\anaconda3\\lib\\site-packages\\playsound.py:72\u001b[0m, in \u001b[0;36m_playsoundWin\u001b[1;34m(sound, block)\u001b[0m\n\u001b[0;32m     70\u001b[0m \u001b[38;5;28;01mtry\u001b[39;00m:\n\u001b[0;32m     71\u001b[0m     logger\u001b[38;5;241m.\u001b[39mdebug(\u001b[38;5;124m'\u001b[39m\u001b[38;5;124mStarting\u001b[39m\u001b[38;5;124m'\u001b[39m)\n\u001b[1;32m---> 72\u001b[0m     \u001b[43mwinCommand\u001b[49m\u001b[43m(\u001b[49m\u001b[38;5;124;43mu\u001b[39;49m\u001b[38;5;124;43m'\u001b[39;49m\u001b[38;5;124;43mopen \u001b[39;49m\u001b[38;5;132;43;01m{}\u001b[39;49;00m\u001b[38;5;124;43m'\u001b[39;49m\u001b[38;5;241;43m.\u001b[39;49m\u001b[43mformat\u001b[49m\u001b[43m(\u001b[49m\u001b[43msound\u001b[49m\u001b[43m)\u001b[49m\u001b[43m)\u001b[49m\n\u001b[0;32m     73\u001b[0m     winCommand(\u001b[38;5;124mu\u001b[39m\u001b[38;5;124m'\u001b[39m\u001b[38;5;124mplay \u001b[39m\u001b[38;5;132;01m{}\u001b[39;00m\u001b[38;5;132;01m{}\u001b[39;00m\u001b[38;5;124m'\u001b[39m\u001b[38;5;241m.\u001b[39mformat(sound, \u001b[38;5;124m'\u001b[39m\u001b[38;5;124m wait\u001b[39m\u001b[38;5;124m'\u001b[39m \u001b[38;5;28;01mif\u001b[39;00m block \u001b[38;5;28;01melse\u001b[39;00m \u001b[38;5;124m'\u001b[39m\u001b[38;5;124m'\u001b[39m))\n\u001b[0;32m     74\u001b[0m     logger\u001b[38;5;241m.\u001b[39mdebug(\u001b[38;5;124m'\u001b[39m\u001b[38;5;124mReturning\u001b[39m\u001b[38;5;124m'\u001b[39m)\n",
      "File \u001b[1;32m~\\anaconda3\\lib\\site-packages\\playsound.py:64\u001b[0m, in \u001b[0;36m_playsoundWin.<locals>.winCommand\u001b[1;34m(*command)\u001b[0m\n\u001b[0;32m     60\u001b[0m     exceptionMessage \u001b[38;5;241m=\u001b[39m (\u001b[38;5;124m'\u001b[39m\u001b[38;5;130;01m\\n\u001b[39;00m\u001b[38;5;124m    Error \u001b[39m\u001b[38;5;124m'\u001b[39m \u001b[38;5;241m+\u001b[39m \u001b[38;5;28mstr\u001b[39m(errorCode) \u001b[38;5;241m+\u001b[39m \u001b[38;5;124m'\u001b[39m\u001b[38;5;124m for command:\u001b[39m\u001b[38;5;124m'\u001b[39m\n\u001b[0;32m     61\u001b[0m                         \u001b[38;5;124m'\u001b[39m\u001b[38;5;130;01m\\n\u001b[39;00m\u001b[38;5;124m        \u001b[39m\u001b[38;5;124m'\u001b[39m \u001b[38;5;241m+\u001b[39m command\u001b[38;5;241m.\u001b[39mdecode(\u001b[38;5;124m'\u001b[39m\u001b[38;5;124mutf-16\u001b[39m\u001b[38;5;124m'\u001b[39m) \u001b[38;5;241m+\u001b[39m\n\u001b[0;32m     62\u001b[0m                         \u001b[38;5;124m'\u001b[39m\u001b[38;5;130;01m\\n\u001b[39;00m\u001b[38;5;124m    \u001b[39m\u001b[38;5;124m'\u001b[39m \u001b[38;5;241m+\u001b[39m errorBuffer\u001b[38;5;241m.\u001b[39mraw\u001b[38;5;241m.\u001b[39mdecode(\u001b[38;5;124m'\u001b[39m\u001b[38;5;124mutf-16\u001b[39m\u001b[38;5;124m'\u001b[39m)\u001b[38;5;241m.\u001b[39mrstrip(\u001b[38;5;124m'\u001b[39m\u001b[38;5;130;01m\\0\u001b[39;00m\u001b[38;5;124m'\u001b[39m))\n\u001b[0;32m     63\u001b[0m     logger\u001b[38;5;241m.\u001b[39merror(exceptionMessage)\n\u001b[1;32m---> 64\u001b[0m     \u001b[38;5;28;01mraise\u001b[39;00m PlaysoundException(exceptionMessage)\n\u001b[0;32m     65\u001b[0m \u001b[38;5;28;01mreturn\u001b[39;00m buf\u001b[38;5;241m.\u001b[39mvalue\n",
      "\u001b[1;31mPlaysoundException\u001b[0m: \n    Error 305 for command:\n        open \"projects\\play.mp3\"\n    Cannot specify extra characters after a string enclosed in quotation marks."
     ]
    }
   ],
   "source": [
    "from playsound import playsound\n",
    "# playsound('C:/Users/VikramBhadoria/Documents/Archrock Power BI/play.mp3')\n",
    "\n",
    "playsound('projects/play.mp3')\n",
    "print('playing sound using  playsound')"
   ]
  },
  {
   "cell_type": "code",
   "execution_count": 23,
   "id": "fdea7eab",
   "metadata": {},
   "outputs": [],
   "source": [
    "l=[1,2,34,4]\n",
    "l2=[3,5,[2,7,[5,9]]]\n",
    "l.extend(l2)"
   ]
  },
  {
   "cell_type": "code",
   "execution_count": 22,
   "id": "56902e34",
   "metadata": {},
   "outputs": [
    {
     "name": "stdout",
     "output_type": "stream",
     "text": [
      "[1, 2, 34, 4, 3, 5, [2, 7, [5, 9]]]\n"
     ]
    }
   ],
   "source": [
    "print(l)"
   ]
  },
  {
   "cell_type": "code",
   "execution_count": null,
   "id": "71711fb5",
   "metadata": {},
   "outputs": [],
   "source": [
    "# To check if the same account number exists or not !\n",
    "# To add a list of accounts opened in the bank."
   ]
  },
  {
   "cell_type": "code",
   "execution_count": 60,
   "id": "0ebeaf43",
   "metadata": {},
   "outputs": [
    {
     "name": "stdout",
     "output_type": "stream",
     "text": [
      "200\n",
      "None\n"
     ]
    }
   ],
   "source": [
    "class bank:\n",
    "     balance=0\n",
    "     lst=[]\n",
    "     def __init__(self,acc_num, nam, bal):\n",
    "        self.account_Number=acc_num\n",
    "        self.name=nam\n",
    "        self.balance=bal\n",
    "#         self.lst=[]\n",
    "#         self.lst=self.lst.append(acc_num)\n",
    "        print(self.balance)\n",
    "#         print(self.lst)\n",
    "     def add_data(self):\n",
    "        self.lst=self.lst.append(self.account_Number)\n",
    "        return self.lst\n",
    "\n",
    "# obj=bank(12345,'Sujit', 200)\n",
    "obj1=bank(12345,'Sujit', 200)\n",
    "print(obj1.add_data())"
   ]
  },
  {
   "cell_type": "code",
   "execution_count": 84,
   "id": "7bd5db1d",
   "metadata": {},
   "outputs": [
    {
     "name": "stdout",
     "output_type": "stream",
     "text": [
      "Akash exists\n",
      "'Akash' exists\n",
      "Akash 2\n",
      "\n"
     ]
    }
   ],
   "source": [
    "class geeks:\n",
    "    def __init__(self, name, roll):\n",
    "        self.name = name\n",
    "        self.roll = roll\n",
    " \n",
    "# creating list\n",
    "list = []\n",
    "# appending instances to list\n",
    "list.append(geeks('Akash', 2))\n",
    "list.append(geeks('Deependra', 40))\n",
    "list.append(geeks('Reaper', 44))\n",
    "list.append(geeks('veer', 67))\n",
    " \n",
    "# Accessing object value using a for loop\n",
    "# for obj in list:\n",
    "#     print(obj.name, obj.roll, sep=' ')\n",
    "    \n",
    "    \n",
    "for obj in list:\n",
    "    if obj.name=='Akash':\n",
    "        print(\"{} exists\".format(obj.name))\n",
    "        print(f\"'{obj.name}' exists\")\n",
    "        print(obj.name, obj.roll, sep=' ')\n",
    " \n",
    "print(\"\")\n",
    "# Accessing individual elements\n",
    "# print(list[0].name)\n",
    "# print(list[1].name)\n",
    "# print(list[2].name)\n",
    "# print(list[3].name)\n",
    "\n",
    "# for i in list:\n",
    "#     print(i)"
   ]
  },
  {
   "cell_type": "code",
   "execution_count": 80,
   "id": "926381b8",
   "metadata": {},
   "outputs": [
    {
     "ename": "SyntaxError",
     "evalue": "invalid syntax (1377658441.py, line 2)",
     "output_type": "error",
     "traceback": [
      "\u001b[1;36m  Cell \u001b[1;32mIn[80], line 2\u001b[1;36m\u001b[0m\n\u001b[1;33m    f\"Your answer is \"{answer}\"\"\u001b[0m\n\u001b[1;37m                      ^\u001b[0m\n\u001b[1;31mSyntaxError\u001b[0m\u001b[1;31m:\u001b[0m invalid syntax\n"
     ]
    }
   ],
   "source": [
    "\n",
    "answer = 456\n",
    "f\"Your answer is \"{answer}\"\""
   ]
  },
  {
   "cell_type": "code",
   "execution_count": 136,
   "id": "cfda3d65",
   "metadata": {},
   "outputs": [
    {
     "name": "stdout",
     "output_type": "stream",
     "text": [
      "Invalid Entry\n",
      "Akash,12345\n",
      "Kushi1,12346\n",
      "sujit1,12347\n"
     ]
    }
   ],
   "source": [
    "class geeks1:\n",
    "    def __init__(self, name, roll):\n",
    "        self.name = name\n",
    "        self.roll = roll\n",
    " \n",
    "# creating list\n",
    "list = []\n",
    "# print(list)\n",
    "\n",
    "# def create_data(nam, rolll):\n",
    "#     for obj in list:\n",
    "#         if (obj.name==nam):\n",
    "#             print(\"already present\")\n",
    "#         else:\n",
    "#             list.append(geeks1(nam, rolll))\n",
    "            \n",
    "def create_data(nam, rolll,flag=0):\n",
    "#     print(list)\n",
    "#     list.append(geeks1(nam, rolll))\n",
    "    for obj in list:\n",
    "        if(obj.name==nam):\n",
    "            flag=1\n",
    "#             print('Invalid name')\n",
    "#             break\n",
    "    if flag==0:\n",
    "        list.append(geeks1(nam, rolll))\n",
    "    else:\n",
    "        print(\"Invalid Entry\")\n",
    "            \n",
    "        \n",
    "    \n",
    "            \n",
    "# appending instances to list\n",
    "# Accessing object value using a for loop\n",
    "def display_data():\n",
    "    for obj in list:\n",
    "        print(obj.name, obj.roll, sep=',')\n",
    "\n",
    "    \n",
    "    \n",
    "# for obj in list:\n",
    "#     if obj.name=='Akash':\n",
    "#         print(\"{} exists\".format(obj.name))\n",
    "#         print(f\"'{obj.name}' exists\")\n",
    "#         print(obj.name, obj.roll, sep=' ')\n",
    " \n",
    "# print(\"\")\n",
    "\n",
    "\n",
    "create_data('Akash',12345)\n",
    "create_data('Kushi1',12346)\n",
    "create_data('sujit1',12347)\n",
    "create_data('sujit1',12347)\n",
    "display_data()\n",
    "# Accessing individual elements\n",
    "# print(list[0].name)\n",
    "# print(list[1].name)\n",
    "# print(list[2].name)\n",
    "# print(list[3].name)\n",
    "\n",
    "# for i in list:\n",
    "#     print(i)"
   ]
  },
  {
   "cell_type": "code",
   "execution_count": 204,
   "id": "d4878300",
   "metadata": {},
   "outputs": [
    {
     "name": "stdout",
     "output_type": "stream",
     "text": [
      "Invalid Entry\n",
      "Invalid Entry\n",
      "Akash,12345\n",
      "Kushi1,12346\n",
      "sujit1,12347\n",
      "Abhinah,12347\n",
      "subhashish,12347\n",
      "Total number of Accounts are:5 in this Bank\n"
     ]
    }
   ],
   "source": [
    "class geeks2:\n",
    "    def __init__(self, name, roll):\n",
    "        self.name = name\n",
    "        self.roll = roll\n",
    " \n",
    "# creating list\n",
    "lst = []\n",
    "cnt=0\n",
    "\n",
    "def create_data_1(nam, rolll,flag=0):\n",
    "#     print(list)\n",
    "#     list.append(geeks1(nam, rolll))\n",
    "    global cnt\n",
    "    for obj in lst:\n",
    "        if(obj.name==nam):\n",
    "            flag=1\n",
    "            break\n",
    "#             print('Invalid name')\n",
    "#             break\n",
    "    if flag==0:\n",
    "        lst.append(geeks2(nam, rolll))\n",
    "    else:\n",
    "        print(\"Invalid Entry\")\n",
    "\n",
    "def display_lst():\n",
    "    global cnt\n",
    "    for obj in lst:\n",
    "        print(obj.name, obj.roll, sep=\",\")\n",
    "        cnt=cnt+1\n",
    "    print(f'Total number of Accounts are:{cnt} in this Bank')\n",
    "        \n",
    "create_data_1('Akash',12345)\n",
    "create_data_1('Kushi1',12346)\n",
    "create_data_1('sujit1',12347)\n",
    "create_data_1('sujit1',12347)\n",
    "create_data_1('Abhinah',12347)\n",
    "create_data_1('subhashish',12347)\n",
    "create_data_1('Kushi1',12347)\n",
    "display_lst()\n"
   ]
  },
  {
   "cell_type": "code",
   "execution_count": 188,
   "id": "0afaf6bc",
   "metadata": {},
   "outputs": [
    {
     "name": "stdout",
     "output_type": "stream",
     "text": [
      "65 90 97 122\n"
     ]
    }
   ],
   "source": [
    "# ch='A'\n",
    "chr(96)\n",
    "print(ord('A'),ord('Z'), ord('a'), ord('z'))"
   ]
  },
  {
   "cell_type": "code",
   "execution_count": 166,
   "id": "2660b805",
   "metadata": {},
   "outputs": [
    {
     "name": "stdout",
     "output_type": "stream",
     "text": [
      "Capital Latter W\n"
     ]
    }
   ],
   "source": [
    "ch='W'\n",
    "if (ord(ch)>=65 & ord(ch)<=97):\n",
    "    \n",
    "    print(f\"Capital Latter {ch}\")"
   ]
  },
  {
   "cell_type": "code",
   "execution_count": 201,
   "id": "35fed8f0",
   "metadata": {},
   "outputs": [
    {
     "name": "stdout",
     "output_type": "stream",
     "text": [
      "N is capital\n",
      "i is small\n",
      "t is small\n",
      "e is small\n",
      "S is capital\n",
      "h is small\n",
      "  is Special Characters\n",
      "& is Special Characters\n",
      "* is Special Characters\n",
      "^ is Special Characters\n",
      "  is Special Characters\n",
      "  is Special Characters\n",
      "B is capital\n",
      "a is small\n",
      "R is capital\n",
      "I is capital\n"
     ]
    }
   ],
   "source": [
    "str=\"NiteSh &*^  BaRI\"\n",
    "for i in str:\n",
    "#     print(ord(i))\n",
    "    if(ord(i)>=65 and ord(i)<=90):\n",
    "        print(f\"{i} is capital\")\n",
    "    elif(ord(i)>=97 and ord(i)<=122):\n",
    "        print(f\"{i} is small\")\n",
    "    else:\n",
    "        print(f\"{i} is Special Characters\")\n",
    "#         print(\"{k} is Special Characters\".format(k=i))"
   ]
  },
  {
   "cell_type": "code",
   "execution_count": 205,
   "id": "481969a1",
   "metadata": {},
   "outputs": [
    {
     "name": "stdout",
     "output_type": "stream",
     "text": [
      "1\n"
     ]
    }
   ],
   "source": [
    "x = 5\n",
    "\n",
    "x &= 3\n",
    "\n",
    "print(x)"
   ]
  },
  {
   "cell_type": "code",
   "execution_count": null,
   "id": "7647552b",
   "metadata": {},
   "outputs": [],
   "source": []
  }
 ],
 "metadata": {
  "kernelspec": {
   "display_name": "Python 3 (ipykernel)",
   "language": "python",
   "name": "python3"
  },
  "language_info": {
   "codemirror_mode": {
    "name": "ipython",
    "version": 3
   },
   "file_extension": ".py",
   "mimetype": "text/x-python",
   "name": "python",
   "nbconvert_exporter": "python",
   "pygments_lexer": "ipython3",
   "version": "3.9.12"
  },
  "varInspector": {
   "cols": {
    "lenName": 16,
    "lenType": 16,
    "lenVar": 40
   },
   "kernels_config": {
    "python": {
     "delete_cmd_postfix": "",
     "delete_cmd_prefix": "del ",
     "library": "var_list.py",
     "varRefreshCmd": "print(var_dic_list())"
    },
    "r": {
     "delete_cmd_postfix": ") ",
     "delete_cmd_prefix": "rm(",
     "library": "var_list.r",
     "varRefreshCmd": "cat(var_dic_list()) "
    }
   },
   "types_to_exclude": [
    "module",
    "function",
    "builtin_function_or_method",
    "instance",
    "_Feature"
   ],
   "window_display": false
  }
 },
 "nbformat": 4,
 "nbformat_minor": 5
}
