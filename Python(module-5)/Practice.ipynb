{
 "cells": [
  {
   "cell_type": "code",
   "execution_count": 4,
   "id": "26b8ff1e",
   "metadata": {
    "ExecuteTime": {
     "end_time": "2023-05-17T11:44:56.024048Z",
     "start_time": "2023-05-17T11:44:56.007063Z"
    }
   },
   "outputs": [],
   "source": [
    "#Perform division using function\n",
    "def div(a,b):\n",
    "    print(a/b)\n",
    "\n",
    "def smart_div(func):\n",
    "    def inner(a,b):\n",
    "        if a<b:\n",
    "            a,b=b,a\n",
    "        return func(a,b)\n",
    "    return inner\n",
    "div=smart_div(div)"
   ]
  },
  {
   "cell_type": "code",
   "execution_count": 5,
   "id": "bbaff760",
   "metadata": {
    "ExecuteTime": {
     "end_time": "2023-05-17T11:45:18.246022Z",
     "start_time": "2023-05-17T11:45:17.537863Z"
    }
   },
   "outputs": [
    {
     "ename": "TypeError",
     "evalue": "div() missing 1 required positional argument: 'b'",
     "output_type": "error",
     "traceback": [
      "\u001b[1;31m---------------------------------------------------------------------------\u001b[0m",
      "\u001b[1;31mTypeError\u001b[0m                                 Traceback (most recent call last)",
      "Input \u001b[1;32mIn [5]\u001b[0m, in \u001b[0;36m<cell line: 1>\u001b[1;34m()\u001b[0m\n\u001b[1;32m----> 1\u001b[0m \u001b[43mdiv\u001b[49m\u001b[43m(\u001b[49m\u001b[38;5;241;43m4\u001b[39;49m\u001b[38;5;241;43m/\u001b[39;49m\u001b[38;5;241;43m2\u001b[39;49m\u001b[43m)\u001b[49m\n",
      "\u001b[1;31mTypeError\u001b[0m: div() missing 1 required positional argument: 'b'"
     ]
    }
   ],
   "source": [
    "div(4/2)"
   ]
  },
  {
   "cell_type": "code",
   "execution_count": null,
   "id": "78e2172a",
   "metadata": {},
   "outputs": [],
   "source": []
  }
 ],
 "metadata": {
  "kernelspec": {
   "display_name": "Python 3 (ipykernel)",
   "language": "python",
   "name": "python3"
  },
  "language_info": {
   "codemirror_mode": {
    "name": "ipython",
    "version": 3
   },
   "file_extension": ".py",
   "mimetype": "text/x-python",
   "name": "python",
   "nbconvert_exporter": "python",
   "pygments_lexer": "ipython3",
   "version": "3.9.12"
  },
  "varInspector": {
   "cols": {
    "lenName": 16,
    "lenType": 16,
    "lenVar": 40
   },
   "kernels_config": {
    "python": {
     "delete_cmd_postfix": "",
     "delete_cmd_prefix": "del ",
     "library": "var_list.py",
     "varRefreshCmd": "print(var_dic_list())"
    },
    "r": {
     "delete_cmd_postfix": ") ",
     "delete_cmd_prefix": "rm(",
     "library": "var_list.r",
     "varRefreshCmd": "cat(var_dic_list()) "
    }
   },
   "types_to_exclude": [
    "module",
    "function",
    "builtin_function_or_method",
    "instance",
    "_Feature"
   ],
   "window_display": false
  }
 },
 "nbformat": 4,
 "nbformat_minor": 5
}
