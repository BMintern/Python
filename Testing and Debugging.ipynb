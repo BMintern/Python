{
 "cells": [
  {
   "cell_type": "markdown",
   "id": "47b23b4c",
   "metadata": {},
   "source": [
    "# Testing and Debugging"
   ]
  },
  {
   "cell_type": "markdown",
   "id": "65324e66",
   "metadata": {},
   "source": [
    "Debugging and testing are important aspects of the software development process. In Python, there are several tools and techniques that can be used to debug and test code."
   ]
  },
  {
   "cell_type": "markdown",
   "id": "2cea66f7",
   "metadata": {},
   "source": [
    "### Debugging\n",
    "Debugging is the process of identifying and fixing errors or bugs in your code."
   ]
  },
  {
   "cell_type": "markdown",
   "id": "37cb0b8a",
   "metadata": {},
   "source": [
    "### print\n",
    "One of the most common ways to debug Python code is using the print() function. By adding print statements to our code, we can output the values of variables at different points in the program, which can help us identify where the error is occurring"
   ]
  },
  {
   "cell_type": "markdown",
   "id": "73e21f46",
   "metadata": {},
   "source": [
    "### pdb library\n",
    "The built-in pdb library in Python is a command-line debugging tool that provides a set of commands for stepping through your code, inspecting variables, and controlling the execution of your program.\n",
    "\n",
    "One of the most useful commands provided by pdb is the set_trace() function. This function can be used to set a breakpoint in your code, which will pause the execution of the program and allow you to inspect the state of the program at that point."
   ]
  },
  {
   "cell_type": "code",
   "execution_count": 1,
   "id": "d3bf8d3a",
   "metadata": {},
   "outputs": [
    {
     "name": "stdout",
     "output_type": "stream",
     "text": [
      "> \u001b[1;32mc:\\users\\ittech~1\\appdata\\local\\temp\\ipykernel_24428\\364999022.py\u001b[0m(8)\u001b[0;36mmy_function\u001b[1;34m()\u001b[0m\n",
      "\n",
      "ipdb> c\n",
      "3\n"
     ]
    }
   ],
   "source": [
    "import pdb\n",
    "\n",
    "def my_function():\n",
    "    a = 1\n",
    "    b = 2\n",
    "    c = a + b\n",
    "    pdb.set_trace()\n",
    "    print(c)\n",
    "\n",
    "my_function()"
   ]
  },
  {
   "cell_type": "markdown",
   "id": "ccde53d4",
   "metadata": {},
   "source": [
    "Some of the most commonly used pdb commands are:\n",
    "\n",
    "__n or next__: Execute the next line of code and move to the next line.\n",
    "\n",
    "__s or step__: Step into a function call.\n",
    "\n",
    "__c or continue__: Continue execution until a breakpoint is hit or the program exits.\n",
    "\n",
    "__l or list__: List the source code for the current file.\n",
    "\n",
    "__w or where__: Print the stack trace and line number of the current line.\n",
    "\n",
    "__p or print__: Print the value of an expression.\n",
    "\n",
    "__h or help__: Show a list of available commands."
   ]
  },
  {
   "cell_type": "markdown",
   "id": "9e8b0b8f",
   "metadata": {},
   "source": [
    "## Testing\n",
    "Testing is the process of evaluating a system or its component(s) with the intent to find whether it satisfies the specified requirements or not. In Python, there are several popular testing frameworks such as unittest, pytest, doctest, etc."
   ]
  },
  {
   "cell_type": "markdown",
   "id": "9043394e",
   "metadata": {},
   "source": [
    "### unittest\n",
    "The unittestis a testing framework included in the Python standard library. It provides a solid set of tools for writing and running automated tests, including the ability to create test cases and test suites, as well as the ability to assert that certain conditions are met."
   ]
  },
  {
   "cell_type": "markdown",
   "id": "a275fbee",
   "metadata": {},
   "source": [
    "To use unittest, one need to create a test class that inherits from unittest.TestCase, and then define test methods within that class. Test methods should start with the word test, and you can use the various assert methods provided by the TestCase class to check the results of your code."
   ]
  },
  {
   "cell_type": "code",
   "execution_count": null,
   "id": "e4fdb634",
   "metadata": {},
   "outputs": [],
   "source": [
    "import unittest\n",
    "\n",
    "def add(a, b):\n",
    "    return a + b\n",
    "\n",
    "class TestAdd(unittest.TestCase):\n",
    "    def test_add_integers(self):\n",
    "        result = add(1, 2)\n",
    "        self.assertEqual(result, 3)\n",
    "\n",
    "    def test_add_floats(self):\n",
    "        result = add(0.1, 0.2)\n",
    "        self.assertAlmostEqual(result, 0.3)\n",
    "\n",
    "    def test_add_strings(self):\n",
    "        result = add('hello', 'world')\n",
    "        self.assertEqual(result, 'helloworld')\n",
    "\n",
    "if __name__ == '__main__':\n",
    "    unittest.main()\n",
    "\n"
   ]
  },
  {
   "cell_type": "code",
   "execution_count": 2,
   "id": "3d013970",
   "metadata": {},
   "outputs": [
    {
     "name": "stderr",
     "output_type": "stream",
     "text": [
      "...\n",
      "----------------------------------------------------------------------\n",
      "Ran 3 tests in 0.005s\n",
      "\n",
      "OK\n"
     ]
    }
   ],
   "source": [
    "%run test_add.py\n"
   ]
  },
  {
   "cell_type": "markdown",
   "id": "5b1366bf",
   "metadata": {},
   "source": [
    "Additionally, unittest also provides a way to group test methods together in a TestSuite and run them together. This can be done by creating an instance of unittest.TestSuite and adding test cases to it."
   ]
  },
  {
   "cell_type": "code",
   "execution_count": 4,
   "id": "ca4146e7",
   "metadata": {},
   "outputs": [
    {
     "name": "stderr",
     "output_type": "stream",
     "text": [
      "...\n",
      "----------------------------------------------------------------------\n",
      "Ran 3 tests in 0.005s\n",
      "\n",
      "OK\n"
     ]
    }
   ],
   "source": [
    "import unittest\n",
    "\n",
    "def suite():\n",
    "    suite = unittest.TestSuite()\n",
    "    suite.addTest(TestAdd(\"test_add_integers\"))\n",
    "    suite.addTest(TestAdd(\"test_add_floats\"))\n",
    "    suite.addTest(TestAdd(\"test_add_strings\"))\n",
    "    return suite\n",
    "\n",
    "if __name__ == '__main__':\n",
    "    runner = unittest.TextTestRunner()\n",
    "    runner.run(suite())"
   ]
  },
  {
   "cell_type": "markdown",
   "id": "f50d6063",
   "metadata": {},
   "source": [
    "### Pytest"
   ]
  },
  {
   "cell_type": "markdown",
   "id": "1e52cf57",
   "metadata": {},
   "source": [
    "pytest is a powerful, feature-rich testing framework for Python. It is designed to make it easy to write and run repeatable tests for your code. One of the key features of pytest is its simple and easy-to-use syntax, which makes it easy to write and understand tests."
   ]
  },
  {
   "cell_type": "code",
   "execution_count": 5,
   "id": "0d9e5adb",
   "metadata": {},
   "outputs": [
    {
     "name": "stdout",
     "output_type": "stream",
     "text": [
      "Requirement already satisfied: pytest in c:\\users\\it tech\\anaconda3\\lib\\site-packages (7.1.2)\n",
      "Requirement already satisfied: attrs>=19.2.0 in c:\\users\\it tech\\anaconda3\\lib\\site-packages (from pytest) (21.4.0)\n",
      "Requirement already satisfied: iniconfig in c:\\users\\it tech\\anaconda3\\lib\\site-packages (from pytest) (1.1.1)\n",
      "Requirement already satisfied: packaging in c:\\users\\it tech\\anaconda3\\lib\\site-packages (from pytest) (21.3)\n",
      "Requirement already satisfied: pluggy<2.0,>=0.12 in c:\\users\\it tech\\anaconda3\\lib\\site-packages (from pytest) (1.0.0)\n",
      "Requirement already satisfied: py>=1.8.2 in c:\\users\\it tech\\anaconda3\\lib\\site-packages (from pytest) (1.11.0)\n",
      "Requirement already satisfied: tomli>=1.0.0 in c:\\users\\it tech\\anaconda3\\lib\\site-packages (from pytest) (2.0.1)\n",
      "Requirement already satisfied: atomicwrites>=1.0 in c:\\users\\it tech\\anaconda3\\lib\\site-packages (from pytest) (1.4.0)\n",
      "Requirement already satisfied: colorama in c:\\users\\it tech\\anaconda3\\lib\\site-packages (from pytest) (0.4.5)\n",
      "Requirement already satisfied: pyparsing!=3.0.5,>=2.0.2 in c:\\users\\it tech\\anaconda3\\lib\\site-packages (from packaging->pytest) (3.0.9)\n",
      "Note: you may need to restart the kernel to use updated packages.\n"
     ]
    }
   ],
   "source": [
    "pip install pytest"
   ]
  },
  {
   "cell_type": "markdown",
   "id": "7d73be2b",
   "metadata": {},
   "source": [
    " One of the most important things to understand about pytest is that it uses a convention-over-configuration approach. This means that, by default, pytest will look for test files in your project that match certain patterns and run the test functions defined in those files."
   ]
  },
  {
   "cell_type": "code",
   "execution_count": 6,
   "id": "f69f758e",
   "metadata": {},
   "outputs": [
    {
     "ename": "NameError",
     "evalue": "name 'pytest' is not defined",
     "output_type": "error",
     "traceback": [
      "\u001b[1;31m---------------------------------------------------------------------------\u001b[0m",
      "\u001b[1;31mNameError\u001b[0m                                 Traceback (most recent call last)",
      "\u001b[1;32mC:\\Users\\ITTECH~1\\AppData\\Local\\Temp/ipykernel_24428/4172623846.py\u001b[0m in \u001b[0;36m<module>\u001b[1;34m\u001b[0m\n\u001b[0;32m      2\u001b[0m     \u001b[1;32massert\u001b[0m \u001b[0madd\u001b[0m\u001b[1;33m(\u001b[0m\u001b[1;36m1\u001b[0m\u001b[1;33m,\u001b[0m \u001b[1;36m2\u001b[0m\u001b[1;33m)\u001b[0m \u001b[1;33m==\u001b[0m \u001b[1;36m3\u001b[0m\u001b[1;33m\u001b[0m\u001b[1;33m\u001b[0m\u001b[0m\n\u001b[0;32m      3\u001b[0m \u001b[1;33m\u001b[0m\u001b[0m\n\u001b[1;32m----> 4\u001b[1;33m \u001b[0mpytest\u001b[0m\u001b[1;33m\u001b[0m\u001b[1;33m\u001b[0m\u001b[0m\n\u001b[0m",
      "\u001b[1;31mNameError\u001b[0m: name 'pytest' is not defined"
     ]
    }
   ],
   "source": [
    "def test_add():\n",
    "    assert add(1, 2) == 3\n",
    "    \n",
    "pytest"
   ]
  },
  {
   "cell_type": "code",
   "execution_count": null,
   "id": "67bd98f4",
   "metadata": {},
   "outputs": [],
   "source": []
  }
 ],
 "metadata": {
  "kernelspec": {
   "display_name": "Python 3 (ipykernel)",
   "language": "python",
   "name": "python3"
  },
  "language_info": {
   "codemirror_mode": {
    "name": "ipython",
    "version": 3
   },
   "file_extension": ".py",
   "mimetype": "text/x-python",
   "name": "python",
   "nbconvert_exporter": "python",
   "pygments_lexer": "ipython3",
   "version": "3.9.13"
  }
 },
 "nbformat": 4,
 "nbformat_minor": 5
}
