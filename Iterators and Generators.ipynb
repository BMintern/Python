{
 "cells": [
  {
   "cell_type": "markdown",
   "id": "14fc4873",
   "metadata": {},
   "source": [
    "# Iterators and Generators"
   ]
  },
  {
   "cell_type": "markdown",
   "id": "777644b7",
   "metadata": {},
   "source": [
    "Iterators are objects that can be iterated (looped) upon. They represent a data stream, and they implement the iterator protocol, which consists of the methods iter() and next(). on the other hand generators are a type of iterator that allows you to declare a function that behaves like an iterator. They use the yield statement to return data and are a more memory-efficient way of working with large data sets."
   ]
  },
  {
   "cell_type": "markdown",
   "id": "1430a20b",
   "metadata": {},
   "source": [
    "### Iterators"
   ]
  },
  {
   "cell_type": "code",
   "execution_count": 1,
   "id": "d4bf79ea",
   "metadata": {},
   "outputs": [
    {
     "name": "stdout",
     "output_type": "stream",
     "text": [
      "1\n",
      "2\n",
      "3\n",
      "4\n"
     ]
    }
   ],
   "source": [
    "lst=[1,2,3,4]\n",
    "for i in lst:\n",
    "    print(i)"
   ]
  },
  {
   "cell_type": "markdown",
   "id": "6fca4f35",
   "metadata": {},
   "source": [
    "here lst is iterable"
   ]
  },
  {
   "cell_type": "markdown",
   "id": "23d5c74c",
   "metadata": {},
   "source": [
    "Iterators consists of two methods as The iter() method returns the iterator object itself, and the next() method returns the following item from the iterator."
   ]
  },
  {
   "cell_type": "code",
   "execution_count": 3,
   "id": "46e8d9b5",
   "metadata": {},
   "outputs": [
    {
     "data": {
      "text/plain": [
       "<list_iterator at 0x1d4e4221130>"
      ]
     },
     "execution_count": 3,
     "metadata": {},
     "output_type": "execute_result"
    }
   ],
   "source": [
    "iter(lst)"
   ]
  },
  {
   "cell_type": "code",
   "execution_count": 4,
   "id": "dbe78ef5",
   "metadata": {},
   "outputs": [],
   "source": [
    "iterable=iter(lst)"
   ]
  },
  {
   "cell_type": "markdown",
   "id": "ceaf305d",
   "metadata": {},
   "source": [
    "now here iterable is iterator so we can iterate through iterator"
   ]
  },
  {
   "cell_type": "code",
   "execution_count": 6,
   "id": "fed6ea50",
   "metadata": {},
   "outputs": [
    {
     "name": "stdout",
     "output_type": "stream",
     "text": [
      "1\n",
      "2\n",
      "3\n",
      "4\n"
     ]
    }
   ],
   "source": [
    "for i in iterable:\n",
    "    print(i)"
   ]
  },
  {
   "cell_type": "code",
   "execution_count": 41,
   "id": "b79bdd8c",
   "metadata": {},
   "outputs": [],
   "source": [
    "iterator=iter(lst)"
   ]
  },
  {
   "cell_type": "code",
   "execution_count": 42,
   "id": "c32dca4a",
   "metadata": {},
   "outputs": [
    {
     "data": {
      "text/plain": [
       "1"
      ]
     },
     "execution_count": 42,
     "metadata": {},
     "output_type": "execute_result"
    }
   ],
   "source": [
    "next(iterator)"
   ]
  },
  {
   "cell_type": "code",
   "execution_count": 43,
   "id": "38ac333e",
   "metadata": {},
   "outputs": [
    {
     "name": "stdout",
     "output_type": "stream",
     "text": [
      "2\n"
     ]
    }
   ],
   "source": [
    "try:\n",
    "    print(next(iterator))\n",
    "except StopIteration:\n",
    "    print(\"Iteration completed\")"
   ]
  },
  {
   "cell_type": "code",
   "execution_count": null,
   "id": "ed89fbf4",
   "metadata": {},
   "outputs": [],
   "source": [
    "iterator=iter(lst)"
   ]
  },
  {
   "cell_type": "code",
   "execution_count": 39,
   "id": "e34bfcd1",
   "metadata": {},
   "outputs": [
    {
     "name": "stdout",
     "output_type": "stream",
     "text": [
      "1\n",
      "2\n",
      "3\n",
      "4\n"
     ]
    }
   ],
   "source": [
    "print(next(iterator))\n",
    "print(next(iterator))\n",
    "print(next(iterator))\n",
    "print(next(iterator))"
   ]
  },
  {
   "cell_type": "code",
   "execution_count": 14,
   "id": "dad3c370",
   "metadata": {},
   "outputs": [],
   "source": [
    "class MyIterator:\n",
    "    def __init__(self, start, end):\n",
    "        self.start = start\n",
    "        self.end = end\n",
    "        self.current = start\n",
    "\n",
    "    def __iter__(self):\n",
    "        return self\n",
    "\n",
    "    def __next__(self):\n",
    "        if self.current > self.end:\n",
    "            raise StopIteration\n",
    "        else:\n",
    "            self.current += 1\n",
    "            return self.current - 1"
   ]
  },
  {
   "cell_type": "code",
   "execution_count": 15,
   "id": "7af38a71",
   "metadata": {},
   "outputs": [
    {
     "name": "stdout",
     "output_type": "stream",
     "text": [
      "1\n",
      "2\n",
      "3\n",
      "4\n",
      "5\n"
     ]
    }
   ],
   "source": [
    "for i in MyIterator(1,5):\n",
    "    print(i)"
   ]
  },
  {
   "cell_type": "markdown",
   "id": "7b9f92fb",
   "metadata": {},
   "source": [
    "### The lazy nature of iterators"
   ]
  },
  {
   "cell_type": "markdown",
   "id": "5b6419a3",
   "metadata": {},
   "source": [
    "It is possible to define multiple iterators based on the same iterable object. Each iterator will maintain its own state of progress. Thus, by defining multiple iterator instances of an iterable object, it is possible to iterate to the end of one instance while the other instance remains at the beginning."
   ]
  },
  {
   "cell_type": "code",
   "execution_count": 44,
   "id": "3818c8d4",
   "metadata": {},
   "outputs": [
    {
     "name": "stdout",
     "output_type": "stream",
     "text": [
      "A: 1\n",
      "A: 2\n",
      "A: 3\n",
      "A: 4\n",
      "B: 1\n"
     ]
    }
   ],
   "source": [
    "list_instance = [1, 2, 3, 4]\n",
    "iterator_a = iter(list_instance)\n",
    "iterator_b = iter(list_instance)\n",
    "print(f\"A: {next(iterator_a)}\")\n",
    "print(f\"A: {next(iterator_a)}\")\n",
    "print(f\"A: {next(iterator_a)}\")\n",
    "print(f\"A: {next(iterator_a)}\")\n",
    "print(f\"B: {next(iterator_b)}\")"
   ]
  },
  {
   "cell_type": "markdown",
   "id": "0358bfe6",
   "metadata": {},
   "source": [
    "Thus, we can say iterators have a lazy nature: when an iterator is created, the elements are not yielded until they are requested. In other words, the elements of our list instance would only be returned once we explicitly ask them to be with next(iter(list_instance))"
   ]
  },
  {
   "cell_type": "markdown",
   "id": "52026b03",
   "metadata": {},
   "source": [
    "### Generators"
   ]
  },
  {
   "cell_type": "code",
   "execution_count": 46,
   "id": "1b7797bb",
   "metadata": {},
   "outputs": [
    {
     "name": "stdout",
     "output_type": "stream",
     "text": [
      "[1, 2, 4, 5, 10, 20]\n"
     ]
    }
   ],
   "source": [
    "def factors(n):\n",
    "    factor_list = []\n",
    "    for val in range(1, n+1):\n",
    "        if n % val == 0:\n",
    "            factor_list.append(val)\n",
    "    return factor_list\n",
    "\n",
    "print(factors(20))"
   ]
  },
  {
   "cell_type": "code",
   "execution_count": 47,
   "id": "580b8f20",
   "metadata": {},
   "outputs": [
    {
     "name": "stdout",
     "output_type": "stream",
     "text": [
      "<generator object factors at 0x000001D4E430CE40>\n"
     ]
    }
   ],
   "source": [
    "def factors(n):\n",
    "    for val in range(1, n+1):\n",
    "        if n % val == 0:\n",
    "            yield val\n",
    "print(factors(20))"
   ]
  },
  {
   "cell_type": "code",
   "execution_count": 48,
   "id": "5f4d107f",
   "metadata": {},
   "outputs": [
    {
     "name": "stdout",
     "output_type": "stream",
     "text": [
      "1\n"
     ]
    }
   ],
   "source": [
    "def factors(n):\n",
    "    for val in range(1, n+1):\n",
    "        if n % val == 0:\n",
    "            yield val\n",
    "factors_of_20 = factors(20)\n",
    "print(next(factors_of_20))"
   ]
  },
  {
   "cell_type": "markdown",
   "id": "504d9ca4",
   "metadata": {},
   "source": [
    "# Exploring Python’s yield Keyword\n",
    "The yield keyword controls the flow of a generator function. Instead of exiting the function as seen when return is used, the yield keyword returns the function but remembers the state of its local variables.\n",
    "\n",
    "The generator returned from the yield call can be assigned to a variable and iterated upon with the next() keyword – this will execute the function up to the first yield keyword it encounters."
   ]
  },
  {
   "cell_type": "code",
   "execution_count": 49,
   "id": "b774364f",
   "metadata": {},
   "outputs": [
    {
     "name": "stdout",
     "output_type": "stream",
     "text": [
      "This is the first statment\n",
      "This is the second statement\n",
      "This is the third statement\n",
      "This is the last statement. Don't call next again!\n"
     ]
    },
    {
     "ename": "StopIteration",
     "evalue": "",
     "output_type": "error",
     "traceback": [
      "\u001b[1;31m---------------------------------------------------------------------------\u001b[0m",
      "\u001b[1;31mStopIteration\u001b[0m                             Traceback (most recent call last)",
      "\u001b[1;32mC:\\Users\\ITTECH~1\\AppData\\Local\\Temp/ipykernel_7448/2502994036.py\u001b[0m in \u001b[0;36m<module>\u001b[1;34m\u001b[0m\n\u001b[0;32m      9\u001b[0m \u001b[0mprint\u001b[0m\u001b[1;33m(\u001b[0m\u001b[0mnext\u001b[0m\u001b[1;33m(\u001b[0m\u001b[0mexample\u001b[0m\u001b[1;33m)\u001b[0m\u001b[1;33m)\u001b[0m\u001b[1;33m\u001b[0m\u001b[1;33m\u001b[0m\u001b[0m\n\u001b[0;32m     10\u001b[0m \u001b[0mprint\u001b[0m\u001b[1;33m(\u001b[0m\u001b[0mnext\u001b[0m\u001b[1;33m(\u001b[0m\u001b[0mexample\u001b[0m\u001b[1;33m)\u001b[0m\u001b[1;33m)\u001b[0m\u001b[1;33m\u001b[0m\u001b[1;33m\u001b[0m\u001b[0m\n\u001b[1;32m---> 11\u001b[1;33m \u001b[0mprint\u001b[0m\u001b[1;33m(\u001b[0m\u001b[0mnext\u001b[0m\u001b[1;33m(\u001b[0m\u001b[0mexample\u001b[0m\u001b[1;33m)\u001b[0m\u001b[1;33m)\u001b[0m\u001b[1;33m\u001b[0m\u001b[1;33m\u001b[0m\u001b[0m\n\u001b[0m",
      "\u001b[1;31mStopIteration\u001b[0m: "
     ]
    }
   ],
   "source": [
    "def yield_multiple_statments():\n",
    "    yield \"This is the first statment\"\n",
    "    yield \"This is the second statement\"  \n",
    "    yield \"This is the third statement\"\n",
    "    yield \"This is the last statement. Don't call next again!\"\n",
    "example = yield_multiple_statments()\n",
    "print(next(example))\n",
    "print(next(example))\n",
    "print(next(example))\n",
    "print(next(example))\n",
    "print(next(example))"
   ]
  },
  {
   "cell_type": "code",
   "execution_count": 21,
   "id": "7eb910dc",
   "metadata": {},
   "outputs": [],
   "source": [
    "def square(n):\n",
    "    for i in range(n):\n",
    "        yield i**2"
   ]
  },
  {
   "cell_type": "code",
   "execution_count": 22,
   "id": "579e5ec6",
   "metadata": {},
   "outputs": [
    {
     "data": {
      "text/plain": [
       "<generator object square at 0x000001D4E42652E0>"
      ]
     },
     "execution_count": 22,
     "metadata": {},
     "output_type": "execute_result"
    }
   ],
   "source": [
    "square(3)"
   ]
  },
  {
   "cell_type": "code",
   "execution_count": 23,
   "id": "3b2eaeca",
   "metadata": {},
   "outputs": [
    {
     "name": "stdout",
     "output_type": "stream",
     "text": [
      "0\n",
      "1\n",
      "4\n"
     ]
    }
   ],
   "source": [
    "for i in square(3):\n",
    "    print(i)"
   ]
  },
  {
   "cell_type": "markdown",
   "id": "93763185",
   "metadata": {},
   "source": [
    "A generator function is defined like a regular function, but instead of using the return statement, it uses the yield. When the generator function is called, it returns a generator object but does not execute the function body immediately. The function body is executed only when its next() method is called."
   ]
  },
  {
   "cell_type": "code",
   "execution_count": 24,
   "id": "c1a479a5",
   "metadata": {},
   "outputs": [],
   "source": [
    "def my_gen(start, end):\n",
    "    current = start\n",
    "    while current < end:\n",
    "        yield current\n",
    "        current += 1"
   ]
  },
  {
   "cell_type": "code",
   "execution_count": 25,
   "id": "9e2a86ac",
   "metadata": {},
   "outputs": [
    {
     "name": "stdout",
     "output_type": "stream",
     "text": [
      "1\n",
      "2\n",
      "3\n",
      "4\n"
     ]
    }
   ],
   "source": [
    "for i in my_gen(1,5):\n",
    "    print(i)"
   ]
  },
  {
   "cell_type": "markdown",
   "id": "1977fb99",
   "metadata": {},
   "source": [
    "To print fibonacci series with generators"
   ]
  },
  {
   "cell_type": "code",
   "execution_count": 26,
   "id": "79dd6191",
   "metadata": {},
   "outputs": [],
   "source": [
    "def fibonacci(n):\n",
    "    a, b = 0, 1\n",
    "    for i in range(n):\n",
    "        yield a\n",
    "        a, b = b, a + b"
   ]
  },
  {
   "cell_type": "code",
   "execution_count": 27,
   "id": "1f8103dd",
   "metadata": {},
   "outputs": [
    {
     "name": "stdout",
     "output_type": "stream",
     "text": [
      "0\n",
      "1\n",
      "1\n",
      "2\n",
      "3\n"
     ]
    }
   ],
   "source": [
    "for i in fibonacci(5):\n",
    "    print(i)"
   ]
  },
  {
   "cell_type": "markdown",
   "id": "45b47c6f",
   "metadata": {},
   "source": [
    "## Combining Iterators and Generators"
   ]
  },
  {
   "cell_type": "markdown",
   "id": "b59e2372",
   "metadata": {},
   "source": [
    "Iterators and generators in Python can be combined in various ways to achieve specific functionality in your programs. Complex data processing pipelines become easy to understand and maintain by chaining iterators and generators."
   ]
  },
  {
   "cell_type": "code",
   "execution_count": 28,
   "id": "512ac626",
   "metadata": {},
   "outputs": [
    {
     "name": "stdout",
     "output_type": "stream",
     "text": [
      "1\n",
      "2\n",
      "3\n",
      "4\n",
      "5\n",
      "6\n",
      "7\n",
      "8\n",
      "9\n"
     ]
    }
   ],
   "source": [
    "from itertools import chain\n",
    "\n",
    "list1 = [1, 2, 3]\n",
    "list2 = [4, 5, 6]\n",
    "list3 = [7, 8, 9]\n",
    "for i in chain(list1, list2, list3):\n",
    "    print(i)"
   ]
  },
  {
   "cell_type": "markdown",
   "id": "47ba4858",
   "metadata": {},
   "source": [
    "Pipeline Iterators is a technique where you chain multiple iterators together, each performing a specific operation on the data and passing the result to the next iterator. This can be done using generator expressions, list comprehension, or functional tools like map() and filter()"
   ]
  },
  {
   "cell_type": "code",
   "execution_count": 29,
   "id": "b185046c",
   "metadata": {},
   "outputs": [],
   "source": [
    "squared_numbers = (x**2 for x in range(10))\n",
    "even_squared_numbers = (x for x in squared_numbers if x%2==0)"
   ]
  },
  {
   "cell_type": "code",
   "execution_count": 30,
   "id": "11305ed8",
   "metadata": {},
   "outputs": [
    {
     "name": "stdout",
     "output_type": "stream",
     "text": [
      "0\n",
      "4\n",
      "16\n",
      "36\n",
      "64\n"
     ]
    }
   ],
   "source": [
    "for i in even_squared_numbers:\n",
    "    print(i)"
   ]
  },
  {
   "cell_type": "code",
   "execution_count": null,
   "id": "6fc3319f",
   "metadata": {},
   "outputs": [],
   "source": []
  }
 ],
 "metadata": {
  "kernelspec": {
   "display_name": "Python 3 (ipykernel)",
   "language": "python",
   "name": "python3"
  },
  "language_info": {
   "codemirror_mode": {
    "name": "ipython",
    "version": 3
   },
   "file_extension": ".py",
   "mimetype": "text/x-python",
   "name": "python",
   "nbconvert_exporter": "python",
   "pygments_lexer": "ipython3",
   "version": "3.9.13"
  }
 },
 "nbformat": 4,
 "nbformat_minor": 5
}
