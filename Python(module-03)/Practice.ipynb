{
 "cells": [
  {
   "cell_type": "code",
   "execution_count": null,
   "id": "8f557ec2",
   "metadata": {},
   "outputs": [],
   "source": [
    "#Usoing map() function"
   ]
  },
  {
   "cell_type": "code",
   "execution_count": 4,
   "id": "5667fe6d",
   "metadata": {
    "ExecuteTime": {
     "end_time": "2023-05-05T11:47:38.034890Z",
     "start_time": "2023-05-05T11:47:38.020525Z"
    }
   },
   "outputs": [
    {
     "data": {
      "text/plain": [
       "[1, 4, 9, 16, 25]"
      ]
     },
     "execution_count": 4,
     "metadata": {},
     "output_type": "execute_result"
    }
   ],
   "source": [
    "def square(num):\n",
    "    return num**2\n",
    "nums=[1,2,3,4,5]\n",
    "map(square,nums)\n",
    "list(map(square,nums))"
   ]
  },
  {
   "cell_type": "code",
   "execution_count": null,
   "id": "43ca379a",
   "metadata": {},
   "outputs": [],
   "source": [
    "#Functions can also more complex"
   ]
  },
  {
   "cell_type": "code",
   "execution_count": 6,
   "id": "483fbb6b",
   "metadata": {
    "ExecuteTime": {
     "end_time": "2023-05-05T11:56:37.847279Z",
     "start_time": "2023-05-05T11:56:37.823532Z"
    }
   },
   "outputs": [
    {
     "data": {
      "text/plain": [
       "['even', 'even', 'C', 'B']"
      ]
     },
     "execution_count": 6,
     "metadata": {},
     "output_type": "execute_result"
    }
   ],
   "source": [
    "def splicer(mystring):\n",
    "    if len(mystring)%2==0:\n",
    "        return 'even'\n",
    "    else:\n",
    "        return mystring[0]\n",
    "mynames=['Hema','Rakesh','Charles','Bhumi']\n",
    "list(map(splicer,mynames))"
   ]
  },
  {
   "cell_type": "code",
   "execution_count": null,
   "id": "4a6687f9",
   "metadata": {},
   "outputs": [],
   "source": []
  }
 ],
 "metadata": {
  "kernelspec": {
   "display_name": "Python 3 (ipykernel)",
   "language": "python",
   "name": "python3"
  },
  "language_info": {
   "codemirror_mode": {
    "name": "ipython",
    "version": 3
   },
   "file_extension": ".py",
   "mimetype": "text/x-python",
   "name": "python",
   "nbconvert_exporter": "python",
   "pygments_lexer": "ipython3",
   "version": "3.9.12"
  },
  "varInspector": {
   "cols": {
    "lenName": 16,
    "lenType": 16,
    "lenVar": 40
   },
   "kernels_config": {
    "python": {
     "delete_cmd_postfix": "",
     "delete_cmd_prefix": "del ",
     "library": "var_list.py",
     "varRefreshCmd": "print(var_dic_list())"
    },
    "r": {
     "delete_cmd_postfix": ") ",
     "delete_cmd_prefix": "rm(",
     "library": "var_list.r",
     "varRefreshCmd": "cat(var_dic_list()) "
    }
   },
   "types_to_exclude": [
    "module",
    "function",
    "builtin_function_or_method",
    "instance",
    "_Feature"
   ],
   "window_display": false
  }
 },
 "nbformat": 4,
 "nbformat_minor": 5
}
