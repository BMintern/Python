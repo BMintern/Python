{
 "cells": [
  {
   "cell_type": "code",
   "execution_count": 1,
   "id": "a35121c4",
   "metadata": {
    "ExecuteTime": {
     "end_time": "2023-06-16T07:04:38.893868Z",
     "start_time": "2023-06-16T07:04:37.303683Z"
    }
   },
   "outputs": [
    {
     "data": {
      "text/plain": [
       "Index(['id', 'name', 'city', 'rating', 'rating_count', 'cost', 'cuisine',\n",
       "       'lic_no', 'link', 'address', 'menu'],\n",
       "      dtype='object')"
      ]
     },
     "execution_count": 1,
     "metadata": {},
     "output_type": "execute_result"
    }
   ],
   "source": [
    "import pandas as pd\n",
    "from pprint import pprint\n",
    "\n",
    "df = pd.read_csv('swiggy.csv')\n",
    "\n",
    "df.columns\n"
   ]
  },
  {
   "cell_type": "code",
   "execution_count": 2,
   "id": "e6c26543",
   "metadata": {
    "ExecuteTime": {
     "end_time": "2023-06-16T07:04:38.953252Z",
     "start_time": "2023-06-16T07:04:38.897849Z"
    }
   },
   "outputs": [
    {
     "name": "stdout",
     "output_type": "stream",
     "text": [
      "<class 'pandas.core.frame.DataFrame'>\n",
      "RangeIndex: 148541 entries, 0 to 148540\n",
      "Data columns (total 11 columns):\n",
      " #   Column        Non-Null Count   Dtype \n",
      "---  ------        --------------   ----- \n",
      " 0   id            148541 non-null  int64 \n",
      " 1   name          148455 non-null  object\n",
      " 2   city          148541 non-null  object\n",
      " 3   rating        148455 non-null  object\n",
      " 4   rating_count  148455 non-null  object\n",
      " 5   cost          148410 non-null  object\n",
      " 6   cuisine       148442 non-null  object\n",
      " 7   lic_no        148312 non-null  object\n",
      " 8   link          148541 non-null  object\n",
      " 9   address       148455 non-null  object\n",
      " 10  menu          148541 non-null  object\n",
      "dtypes: int64(1), object(10)\n",
      "memory usage: 12.5+ MB\n"
     ]
    }
   ],
   "source": [
    "df.info()"
   ]
  },
  {
   "cell_type": "code",
   "execution_count": 3,
   "id": "f7c22413",
   "metadata": {
    "ExecuteTime": {
     "end_time": "2023-06-16T07:04:38.986254Z",
     "start_time": "2023-06-16T07:04:38.955732Z"
    }
   },
   "outputs": [
    {
     "name": "stdout",
     "output_type": "stream",
     "text": [
      "<pandas.io.parsers.readers.TextFileReader object at 0x000001EB4E80FAD0>\n"
     ]
    }
   ],
   "source": [
    "df = pd.read_csv(\"swiggy.csv\", chunksize=10000)\n",
    "print(df)"
   ]
  },
  {
   "cell_type": "code",
   "execution_count": 4,
   "id": "4f57aeef",
   "metadata": {
    "ExecuteTime": {
     "end_time": "2023-06-16T07:05:50.015663Z",
     "start_time": "2023-06-16T07:05:49.317883Z"
    }
   },
   "outputs": [
    {
     "name": "stdout",
     "output_type": "stream",
     "text": [
      "(10000, 11)\n",
      "(10000, 11)\n",
      "(10000, 11)\n",
      "(10000, 11)\n",
      "(10000, 11)\n",
      "(10000, 11)\n",
      "(10000, 11)\n",
      "(10000, 11)\n",
      "(10000, 11)\n",
      "(10000, 11)\n",
      "(10000, 11)\n",
      "(10000, 11)\n",
      "(10000, 11)\n",
      "(10000, 11)\n",
      "(8541, 11)\n"
     ]
    }
   ],
   "source": [
    "for data in df:\n",
    "    pprint(data.shape)"
   ]
  },
  {
   "cell_type": "code",
   "execution_count": 6,
   "id": "9128ccfd",
   "metadata": {
    "ExecuteTime": {
     "end_time": "2023-06-16T07:07:54.775672Z",
     "start_time": "2023-06-16T07:07:54.702248Z"
    }
   },
   "outputs": [
    {
     "name": "stdout",
     "output_type": "stream",
     "text": [
      "          id                                       name   \n",
      "0     567335                             AB FOODS POINT  \\\n",
      "1     531342                          Janta Sweet House   \n",
      "2     158203                          theka coffee desi   \n",
      "3     187912                                  Singh Hut   \n",
      "4     543530                              GRILL MASTERS   \n",
      "...      ...                                        ...   \n",
      "9995  341840                            BaHa Superfoods   \n",
      "9996  371970              Artinci - Indulge Guilt Free!   \n",
      "9997   41099                                  Nagarjuna   \n",
      "9998  369411  Gourmet Ice Cream Cakes by Baskin Robbins   \n",
      "9999  433627                           Paris Waffle Co.   \n",
      "\n",
      "                       city rating     rating_count   cost   \n",
      "0                    Abohar     --  Too Few Ratings  ₹ 200  \\\n",
      "1                    Abohar    4.4      50+ ratings  ₹ 200   \n",
      "2                    Abohar    3.8     100+ ratings  ₹ 100   \n",
      "3                    Abohar    3.7      20+ ratings  ₹ 250   \n",
      "4                    Abohar     --  Too Few Ratings  ₹ 250   \n",
      "...                     ...    ...              ...    ...   \n",
      "9995  Koramangala,Bangalore    4.1      20+ ratings  ₹ 200   \n",
      "9996  Koramangala,Bangalore    4.1      50+ ratings  ₹ 200   \n",
      "9997  Koramangala,Bangalore    4.4      1K+ ratings  ₹ 600   \n",
      "9998  Koramangala,Bangalore    4.7      20+ ratings  ₹ 250   \n",
      "9999  Koramangala,Bangalore    2.8      20+ ratings  ₹ 300   \n",
      "\n",
      "                         cuisine          lic_no   \n",
      "0               Beverages,Pizzas  22122652000138  \\\n",
      "1                  Sweets,Bakery  12117201000112   \n",
      "2                      Beverages  22121652000190   \n",
      "3               Fast Food,Indian  22119652000167   \n",
      "4     Italian-American,Fast Food  12122201000053   \n",
      "...                          ...             ...   \n",
      "9995         Healthy Food,Juices  11218334001447   \n",
      "9996      Ice Cream,Healthy Food  22421550000233   \n",
      "9997         Andhra,South Indian  11217334001482   \n",
      "9998          Desserts,Ice Cream  11221334001794   \n",
      "9999             Desserts,Snacks  11219334001956   \n",
      "\n",
      "                                                   link   \n",
      "0     https://www.swiggy.com/restaurants/ab-foods-po...  \\\n",
      "1     https://www.swiggy.com/restaurants/janta-sweet...   \n",
      "2     https://www.swiggy.com/restaurants/theka-coffe...   \n",
      "3     https://www.swiggy.com/restaurants/singh-hut-n...   \n",
      "4     https://www.swiggy.com/restaurants/grill-maste...   \n",
      "...                                                 ...   \n",
      "9995  https://www.swiggy.com/restaurants/baha-superf...   \n",
      "9996  https://www.swiggy.com/restaurants/artinci-ind...   \n",
      "9997  https://www.swiggy.com/restaurants/nagarjuna-k...   \n",
      "9998  https://www.swiggy.com/restaurants/gourmet-ice...   \n",
      "9999  https://www.swiggy.com/restaurants/paris-waffl...   \n",
      "\n",
      "                                                address              menu  \n",
      "0     AB FOODS POINT, NEAR RISHI NARANG DENTAL CLINI...  Menu/567335.json  \n",
      "1     Janta Sweet House, Bazar No.9, Circullar Road,...  Menu/531342.json  \n",
      "2            theka coffee desi, sahtiya sadan road city  Menu/158203.json  \n",
      "3       Singh Hut, CIRCULAR ROAD NEAR NEHRU PARK ABOHAR  Menu/187912.json  \n",
      "4     GRILL MASTERS, ADA Heights, Abohar - Hanumanga...  Menu/543530.json  \n",
      "...                                                 ...               ...  \n",
      "9995  BaHa Superfoods, No 86, 1st floor, Sajapur Roa...  Menu/341840.json  \n",
      "9996  Artinci - Indulge Guilt Free!, NO-2, IST MAIN ...  Menu/371970.json  \n",
      "9997  Nagarjuna, #138, 1 St cross, 5th Block, KHB Co...   Menu/41099.json  \n",
      "9998  Gourmet Ice Cream Cakes by Baskin Robbins, # 8...  Menu/369411.json  \n",
      "9999  Paris Waffle Co., NO.897/E, FIRST FLOOR, YAMAH...  Menu/433627.json  \n",
      "\n",
      "[10000 rows x 11 columns]\n"
     ]
    }
   ],
   "source": [
    "df = pd.read_csv(\"swiggy.csv\", chunksize=10000)\n",
    "\n",
    "for data in df:\n",
    "    pprint(data)\n",
    "    break\n"
   ]
  },
  {
   "cell_type": "raw",
   "id": "69b905d3",
   "metadata": {},
   "source": [
    "In the above example, each element/chunk returned has a size of 10000.  Here, we had 148541. Hence, the number of chunks is 148541/10000 ~ 14 chunks, and the remaining 8541 examples form the 15th chunk.\n",
    "\n",
    "The number of columns for each chunk is 8. Hence, chunking doesn’t affect the columns. Now that we understand how to use chunksize and obtain the data lets have a last visualization of the data, for visibility purposes, the chunk size is assigned to 10."
   ]
  }
 ],
 "metadata": {
  "kernelspec": {
   "display_name": "Python 3 (ipykernel)",
   "language": "python",
   "name": "python3"
  },
  "language_info": {
   "codemirror_mode": {
    "name": "ipython",
    "version": 3
   },
   "file_extension": ".py",
   "mimetype": "text/x-python",
   "name": "python",
   "nbconvert_exporter": "python",
   "pygments_lexer": "ipython3",
   "version": "3.11.3"
  }
 },
 "nbformat": 4,
 "nbformat_minor": 5
}
