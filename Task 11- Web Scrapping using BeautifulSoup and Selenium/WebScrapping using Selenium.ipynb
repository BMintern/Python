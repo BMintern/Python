{
 "cells": [
  {
   "cell_type": "code",
   "execution_count": null,
   "id": "6cb9b3e9",
   "metadata": {},
   "outputs": [],
   "source": [
    "#pip install selenium"
   ]
  },
  {
   "cell_type": "code",
   "execution_count": 9,
   "id": "d51630fd",
   "metadata": {},
   "outputs": [],
   "source": [
    "#pip install webdriver-manager"
   ]
  },
  {
   "cell_type": "code",
   "execution_count": 1,
   "id": "84db8192",
   "metadata": {},
   "outputs": [
    {
     "name": "stdout",
     "output_type": "stream",
     "text": [
      "Title: Example Domain\n",
      "Link: https://www.iana.org/domains/example\n"
     ]
    },
    {
     "name": "stderr",
     "output_type": "stream",
     "text": [
      "The version of chrome cannot be detected. Trying with latest driver version\n"
     ]
    },
    {
     "ename": "AttributeError",
     "evalue": "'WebDriver' object has no attribute 'find_element_by_xpath'",
     "output_type": "error",
     "traceback": [
      "\u001b[1;31m---------------------------------------------------------------------------\u001b[0m",
      "\u001b[1;31mAttributeError\u001b[0m                            Traceback (most recent call last)",
      "\u001b[1;32m~\\AppData\\Local\\Temp\\ipykernel_15308\\3590498325.py\u001b[0m in \u001b[0;36m<module>\u001b[1;34m\u001b[0m\n\u001b[0;32m     26\u001b[0m \u001b[1;33m\u001b[0m\u001b[0m\n\u001b[0;32m     27\u001b[0m \u001b[1;31m# Find elements using different methods provided by Selenium\u001b[0m\u001b[1;33m\u001b[0m\u001b[1;33m\u001b[0m\u001b[0m\n\u001b[1;32m---> 28\u001b[1;33m \u001b[0melement\u001b[0m \u001b[1;33m=\u001b[0m \u001b[0mdriver\u001b[0m\u001b[1;33m.\u001b[0m\u001b[0mfind_element_by_xpath\u001b[0m\u001b[1;33m(\u001b[0m\u001b[1;34m'//div[@class=\"example\"]'\u001b[0m\u001b[1;33m)\u001b[0m\u001b[1;33m\u001b[0m\u001b[1;33m\u001b[0m\u001b[0m\n\u001b[0m",
      "\u001b[1;31mAttributeError\u001b[0m: 'WebDriver' object has no attribute 'find_element_by_xpath'"
     ]
    }
   ],
   "source": [
    "import requests\n",
    "from bs4 import BeautifulSoup\n",
    "from selenium import webdriver\n",
    "\n",
    "# Send an HTTP GET request to the website\n",
    "url = 'https://example.com'\n",
    "response = requests.get(url)\n",
    "\n",
    "# Create a Beautiful Soup object with the response content\n",
    "soup = BeautifulSoup(response.content, 'html.parser')\n",
    "\n",
    "# Find elements in the HTML using various methods\n",
    "title = soup.title.text\n",
    "print(\"Title:\", title)\n",
    "\n",
    "# Extract data from specific elements\n",
    "links = soup.find_all('a')\n",
    "for link in links:\n",
    "    print(\"Link:\", link['href'])\n",
    "\n",
    "# Initialize the browser driver\n",
    "driver = webdriver.Chrome('/path/to/chromedriver')\n",
    "  # Replace with the appropriate driver for your browser\n",
    "\n",
    "# Use the browser to navigate to the desired webpage\n",
    "driver.get(url)\n",
    "\n",
    "# Find elements using different methods provided by Selenium\n",
    "element = driver.find_element_by_xpath('//div[@class=\"example\"]')"
   ]
  },
  {
   "cell_type": "code",
   "execution_count": null,
   "id": "cd7a6247",
   "metadata": {},
   "outputs": [],
   "source": []
  },
  {
   "cell_type": "code",
   "execution_count": 9,
   "id": "cb1ca79c",
   "metadata": {},
   "outputs": [
    {
     "name": "stderr",
     "output_type": "stream",
     "text": [
      "The version of chrome cannot be detected. Trying with latest driver version\n"
     ]
    },
    {
     "name": "stdout",
     "output_type": "stream",
     "text": [
      "71,50,00,000\n",
      "Unable to extract number of results\n",
      "near\n"
     ]
    }
   ],
   "source": [
    "from selenium import webdriver\n",
    "from selenium.webdriver.common.by import By\n",
    "from selenium.webdriver.support.ui import WebDriverWait\n",
    "from selenium.webdriver.support import expected_conditions as EC\n",
    "\n",
    "try:\n",
    "    driver = webdriver.Chrome()  # Replace with the appropriate driver for your browser\n",
    "    wait = WebDriverWait(driver, 10)  # Maximum wait time for element visibility\n",
    "\n",
    "    driver.get(\"https://www.bing.com\")  # Replace with the URL of the web page you're scraping\n",
    "\n",
    "    search_box = wait.until(EC.presence_of_element_located((By.NAME, \"q\")))\n",
    "    search_box.clear()\n",
    "    search_box.send_keys(\"New Zealand\")  # Enter your name in the search box\n",
    "    search_box.submit()  # Submit the search\n",
    "\n",
    "    results = wait.until(EC.visibility_of_all_elements_located((By.XPATH, \"//*[@id='b_tween']/span\")))\n",
    "    for result in results:\n",
    "        text = result.text.split()\n",
    "        if len(text) >= 2:\n",
    "            number_of_results = text[1]  # Extract the number of results\n",
    "            print(number_of_results)\n",
    "\n",
    "            # Save it to a file\n",
    "            with open(\"results.txt\", \"w\") as f:\n",
    "                f.write(number_of_results)\n",
    "        else:\n",
    "            print(\"Unable to extract number of results\")\n",
    "\n",
    "except Exception as e:\n",
    "    print(f\"An error occurred: {e}\")\n",
    "\n",
    "finally:\n",
    "    driver.quit()\n"
   ]
  },
  {
   "cell_type": "markdown",
   "id": "0064fbe9",
   "metadata": {},
   "source": [
    "## Explanation:\n",
    "\n",
    "1. Import the necessary modules and classes from the Selenium library for web scraping.\n",
    "2. Start a try-except block to catch any exceptions that may occur during the execution of the code.\n",
    "3. Create a new instance of the Chrome WebDriver and set a maximum wait time of 10 seconds for elements to become visible on the web page.\n",
    "4. Open the specified URL in the web browser.\n",
    "5. Wait for the search box element with the name attribute \"q\" to become visible on the web page. Once visible, clear its input and enter \"John Doe\" (or your name) into the search box.\n",
    "6. Submit the search by pressing the Enter key or clicking the search button.\n",
    "7. Wait for all elements matching the specified XPath expression (span elements with the parent ID \"b_tween\") to become visible on the web page.\n",
    "8. Iterate over the results and extract the text from each result. Split the text into a list of words.\n",
    "9. Check if the list has at least two elements. If it does, assume the second element contains the number of results and print it.\n",
    "10. Save the number of results to a file named \"results.txt\".\n",
    "11. If the list has fewer than two elements, print a message indicating that the number of results couldn't be extracted.\n",
    "12. If an exception occurs during the execution of the code, print an error message along with the exception details.\n",
    "13. Close the web driver to release the associated browser and system resources."
   ]
  },
  {
   "cell_type": "code",
   "execution_count": 5,
   "id": "4217184e",
   "metadata": {},
   "outputs": [],
   "source": [
    "from selenium import webdriver\n",
    "\n",
    "from selenium.webdriver.chrome.service import Service\n",
    "\n",
    "from webdriver_manager.chrome import ChromeDriverManager\n",
    "\n",
    "from selenium.webdriver.common.keys import Keys\n",
    "\n",
    "from selenium.webdriver.common.by import By\n",
    "\n",
    "\n",
    "\n",
    "driver = webdriver.Chrome(service=Service(ChromeDriverManager().install()))\n",
    "\n",
    "\n",
    "\n",
    "driver.get(\"https://www.google.com/\")\n",
    "\n",
    "search = driver.find_element(by=By.NAME,value=\"q\")\n",
    "\n",
    "search.send_keys(\"Wellington,New Zealand Wallpaper\")\n",
    "\n",
    "search.send_keys(Keys.ENTER)\n",
    "driver.maximize_window()"
   ]
  },
  {
   "cell_type": "code",
   "execution_count": null,
   "id": "dbdba207",
   "metadata": {},
   "outputs": [],
   "source": [
    "driver.save_screenshot('article.png')"
   ]
  }
 ],
 "metadata": {
  "kernelspec": {
   "display_name": "Python 3 (ipykernel)",
   "language": "python",
   "name": "python3"
  },
  "language_info": {
   "codemirror_mode": {
    "name": "ipython",
    "version": 3
   },
   "file_extension": ".py",
   "mimetype": "text/x-python",
   "name": "python",
   "nbconvert_exporter": "python",
   "pygments_lexer": "ipython3",
   "version": "3.10.9"
  }
 },
 "nbformat": 4,
 "nbformat_minor": 5
}
