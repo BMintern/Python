{
 "cells": [
  {
   "cell_type": "code",
   "execution_count": null,
   "id": "618affd4",
   "metadata": {},
   "outputs": [],
   "source": [
    "#pip install selenium"
   ]
  },
  {
   "cell_type": "code",
   "execution_count": 9,
   "id": "33ead197",
   "metadata": {},
   "outputs": [],
   "source": [
    "#pip install webdriver-manager"
   ]
  },
  {
   "cell_type": "code",
   "execution_count": 42,
   "id": "84db8192",
   "metadata": {},
   "outputs": [
    {
     "name": "stdout",
     "output_type": "stream",
     "text": [
      "Title: Example Domain\n",
      "Link: https://www.iana.org/domains/example\n"
     ]
    },
    {
     "name": "stderr",
     "output_type": "stream",
     "text": [
      "The version of chrome cannot be detected. Trying with latest driver version\n"
     ]
    },
    {
     "ename": "AttributeError",
     "evalue": "'WebDriver' object has no attribute 'find_element_by_xpath'",
     "output_type": "error",
     "traceback": [
      "\u001b[1;31m---------------------------------------------------------------------------\u001b[0m",
      "\u001b[1;31mAttributeError\u001b[0m                            Traceback (most recent call last)",
      "\u001b[1;32m~\\AppData\\Local\\Temp\\ipykernel_21136\\3590498325.py\u001b[0m in \u001b[0;36m<module>\u001b[1;34m\u001b[0m\n\u001b[0;32m     26\u001b[0m \u001b[1;33m\u001b[0m\u001b[0m\n\u001b[0;32m     27\u001b[0m \u001b[1;31m# Find elements using different methods provided by Selenium\u001b[0m\u001b[1;33m\u001b[0m\u001b[1;33m\u001b[0m\u001b[0m\n\u001b[1;32m---> 28\u001b[1;33m \u001b[0melement\u001b[0m \u001b[1;33m=\u001b[0m \u001b[0mdriver\u001b[0m\u001b[1;33m.\u001b[0m\u001b[0mfind_element_by_xpath\u001b[0m\u001b[1;33m(\u001b[0m\u001b[1;34m'//div[@class=\"example\"]'\u001b[0m\u001b[1;33m)\u001b[0m\u001b[1;33m\u001b[0m\u001b[1;33m\u001b[0m\u001b[0m\n\u001b[0m",
      "\u001b[1;31mAttributeError\u001b[0m: 'WebDriver' object has no attribute 'find_element_by_xpath'"
     ]
    }
   ],
   "source": [
    "import requests\n",
    "from bs4 import BeautifulSoup\n",
    "from selenium import webdriver\n",
    "\n",
    "# Send an HTTP GET request to the website\n",
    "url = 'https://example.com'\n",
    "response = requests.get(url)\n",
    "\n",
    "# Create a Beautiful Soup object with the response content\n",
    "soup = BeautifulSoup(response.content, 'html.parser')\n",
    "\n",
    "# Find elements in the HTML using various methods\n",
    "title = soup.title.text\n",
    "print(\"Title:\", title)\n",
    "\n",
    "# Extract data from specific elements\n",
    "links = soup.find_all('a')\n",
    "for link in links:\n",
    "    print(\"Link:\", link['href'])\n",
    "\n",
    "# Initialize the browser driver\n",
    "driver = webdriver.Chrome()  # Replace with the appropriate driver for your browser\n",
    "\n",
    "# Use the browser to navigate to the desired webpage\n",
    "driver.get(url)\n",
    "\n",
    "# Find elements using different methods provided by Selenium\n",
    "element = driver.find_element_by_xpath('//div[@class=\"example\"]')"
   ]
  },
  {
   "cell_type": "code",
   "execution_count": null,
   "id": "9b6a86a4",
   "metadata": {},
   "outputs": [],
   "source": []
  },
  {
   "cell_type": "code",
   "execution_count": 44,
   "id": "db33008e",
   "metadata": {},
   "outputs": [],
   "source": [
    "from selenium import webdriver\n",
    "from selenium.webdriver.common.keys import Keys\n",
    "from selenium.webdriver.common.by import By"
   ]
  },
  {
   "cell_type": "code",
   "execution_count": 46,
   "id": "6aff7434",
   "metadata": {},
   "outputs": [
    {
     "name": "stderr",
     "output_type": "stream",
     "text": [
      "The version of chrome cannot be detected. Trying with latest driver version\n"
     ]
    }
   ],
   "source": [
    "driver = webdriver.Chrome()"
   ]
  },
  {
   "cell_type": "code",
   "execution_count": 38,
   "id": "2557155a",
   "metadata": {},
   "outputs": [],
   "source": [
    "driver.get(\"https://www.bing.com\")"
   ]
  },
  {
   "cell_type": "code",
   "execution_count": 39,
   "id": "922f5e57",
   "metadata": {},
   "outputs": [],
   "source": [
    "results = driver.find_elements(By.XPATH, \"//*[@id='b_tween']/span\")"
   ]
  },
  {
   "cell_type": "code",
   "execution_count": 48,
   "id": "8680e50f",
   "metadata": {},
   "outputs": [
    {
     "name": "stderr",
     "output_type": "stream",
     "text": [
      "The version of chrome cannot be detected. Trying with latest driver version\n"
     ]
    },
    {
     "name": "stdout",
     "output_type": "stream",
     "text": [
      "8,48,00,000\n",
      "An error occurred: list index out of range\n"
     ]
    }
   ],
   "source": [
    "from selenium import webdriver\n",
    "from selenium.webdriver.common.by import By\n",
    "from selenium.webdriver.support.ui import WebDriverWait\n",
    "from selenium.webdriver.support import expected_conditions as EC\n",
    "\n",
    "try:\n",
    "    driver = webdriver.Chrome()  # Replace with the appropriate driver for your browser\n",
    "    wait = WebDriverWait(driver, 10)  # Maximum wait time for element visibility\n",
    "\n",
    "    driver.get(\"https://www.bing.com\")  # Replace with the URL of the web page you're scraping\n",
    "\n",
    "    search_box = wait.until(EC.presence_of_element_located((By.NAME, \"q\")))\n",
    "    search_box.clear()\n",
    "    search_box.send_keys(\"John Doe\")  # Enter your name in the search box\n",
    "    search_box.submit()  # Submit the search\n",
    "\n",
    "    results = wait.until(EC.presence_of_all_elements_located((By.XPATH, \"//*[@id='b_tween']/span\")))\n",
    "    for result in results:\n",
    "        text = result.text.split()[1]  # Extract the number of results\n",
    "        print(text)\n",
    "\n",
    "    # Save it to a file\n",
    "    with open(\"results.txt\", \"w\") as f:\n",
    "        f.write(text)\n",
    "\n",
    "except Exception as e:\n",
    "    print(f\"An error occurred: {e}\")\n",
    "\n",
    "finally:\n",
    "    driver.quit()"
   ]
  },
  {
   "cell_type": "code",
   "execution_count": null,
   "id": "f92e98f1",
   "metadata": {},
   "outputs": [],
   "source": []
  }
 ],
 "metadata": {
  "kernelspec": {
   "display_name": "Python 3 (ipykernel)",
   "language": "python",
   "name": "python3"
  },
  "language_info": {
   "codemirror_mode": {
    "name": "ipython",
    "version": 3
   },
   "file_extension": ".py",
   "mimetype": "text/x-python",
   "name": "python",
   "nbconvert_exporter": "python",
   "pygments_lexer": "ipython3",
   "version": "3.10.9"
  }
 },
 "nbformat": 4,
 "nbformat_minor": 5
}
