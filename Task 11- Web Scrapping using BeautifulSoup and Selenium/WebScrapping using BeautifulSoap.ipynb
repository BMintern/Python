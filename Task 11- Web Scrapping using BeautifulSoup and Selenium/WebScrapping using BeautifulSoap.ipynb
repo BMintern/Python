{
 "cells": [
  {
   "cell_type": "markdown",
   "id": "1e16fa1a",
   "metadata": {},
   "source": [
    "## Web Scraping:\n",
    "It is the process of extracting data from websites by automating the retrieval and parsing of HTML (Hypertext Markup Language) code. It involves accessing web pages, retrieving the underlying HTML content, and then extracting specific information or data points from the HTML.\n",
    "\n",
    "Web scraping allows you to gather data from websites at scale, rather than manually copying and pasting information from individual web pages. By automating the process, you can extract data from multiple pages or even entire websites in a structured and efficient manner."
   ]
  },
  {
   "cell_type": "markdown",
   "id": "b9c9e93b",
   "metadata": {},
   "source": [
    "## Beautiful Soup\n",
    "Beautiful Soup is a Python web scraping library that allows us to parse and scrape HTML and XML pages. You can search, navigate, and modify data using a parser. It’s versatile and saves a lot of time. In this article we will learn how to scrape data using Beautiful Soup."
   ]
  },
  {
   "cell_type": "code",
   "execution_count": null,
   "id": "c4e153a8",
   "metadata": {},
   "outputs": [],
   "source": []
  },
  {
   "cell_type": "code",
   "execution_count": 2,
   "id": "d4bf80ad",
   "metadata": {},
   "outputs": [],
   "source": [
    "#importing required Libraries\n",
    "import pandas as pd   #to create dataframe\n",
    "import requests       #to send the request to the URL\n",
    "from bs4 import BeautifulSoup #to get the content in the form of HTML\n",
    "import numpy as np  # to count the values (in our case)\n",
    "\n",
    "#assigning the URL with variable name url\n",
    "url = 'https://www.imdb.com/search/title/?count=100&groups=top_1000&sort=user_rating'\n",
    "#request allow you to send HTTP request\n",
    "response = requests.get(url)\n",
    "soup = BeautifulSoup(response.content, 'html.parser')\n",
    "\n",
    "#creating an empty list, so that we can append the values\n",
    "movie_name = []\n",
    "year = []\n",
    "time = []\n",
    "rating = []\n",
    "metascore = []\n",
    "votes = []\n",
    "gross = []"
   ]
  },
  {
   "cell_type": "code",
   "execution_count": 3,
   "id": "fd6ce11b",
   "metadata": {},
   "outputs": [],
   "source": [
    "#storing the meaningfull required data in the variable\n",
    "movie_data = soup.findAll('div', attrs= {'class': 'lister-item mode-advanced'})\n",
    "\n",
    "#calling one by one using for loop\n",
    "for store in movie_data:\n",
    "    name = store.h3.a.text\n",
    "    movie_name.append(name)\n",
    "\n",
    "    year_of_release = store.h3.find('span', class_ = 'lister-item-year text-muted unbold').text.replace('(', '').replace(')', '')\n",
    "    year.append(year_of_release)\n",
    "\n",
    "    runtime = store.p.find('span', class_ = 'runtime').text.replace(' min', '')\n",
    "    time.append(runtime)\n",
    "\n",
    "    rate = store.find('div', class_ = 'inline-block ratings-imdb-rating').text.replace('\\n', '')\n",
    "    rating.append(rate)\n",
    "\n",
    "    meta  = store.find('span', class_ = 'metascore').text.replace(' ', '') if store.find('span', class_ = 'metascore') else '^^^^^^'\n",
    "    metascore.append(meta)\n",
    "    #since, gross and votes have same attributes, that's why we had created a common variable and then used indexing\n",
    "    value = store.find_all('span', attrs = {'name': 'nv'})\n",
    "\n",
    "    vote = value[0].text\n",
    "    votes.append(vote)\n",
    "\n",
    "    grosses = value[1].text if len(value) >1 else '*****'\n",
    "    gross.append(grosses)"
   ]
  },
  {
   "cell_type": "code",
   "execution_count": 4,
   "id": "9b02efbb",
   "metadata": {},
   "outputs": [],
   "source": [
    "#creating a dataframe using pandas library\n",
    "movie_DF = pd.DataFrame({'Name of movie': movie_name, 'Year of release': year, 'Watchtime': time, 'Movie Rating': rating, 'Metascore': metascore, 'Votes': votes, 'Gross collection': gross})\n",
    "movie_DF\n",
    "\n",
    "\n",
    "#Saving data in Excel file:\n",
    "movie_DF.to_excel(\"Top_100_IMDB_Movies.xlsx\")"
   ]
  },
  {
   "cell_type": "code",
   "execution_count": 5,
   "id": "3f700920",
   "metadata": {},
   "outputs": [
    {
     "data": {
      "text/html": [
       "<div>\n",
       "<style scoped>\n",
       "    .dataframe tbody tr th:only-of-type {\n",
       "        vertical-align: middle;\n",
       "    }\n",
       "\n",
       "    .dataframe tbody tr th {\n",
       "        vertical-align: top;\n",
       "    }\n",
       "\n",
       "    .dataframe thead th {\n",
       "        text-align: right;\n",
       "    }\n",
       "</style>\n",
       "<table border=\"1\" class=\"dataframe\">\n",
       "  <thead>\n",
       "    <tr style=\"text-align: right;\">\n",
       "      <th></th>\n",
       "      <th>Name of movie</th>\n",
       "      <th>Year of release</th>\n",
       "      <th>Watchtime</th>\n",
       "      <th>Movie Rating</th>\n",
       "      <th>Metascore</th>\n",
       "      <th>Votes</th>\n",
       "      <th>Gross collection</th>\n",
       "    </tr>\n",
       "  </thead>\n",
       "  <tbody>\n",
       "    <tr>\n",
       "      <th>0</th>\n",
       "      <td>The Shawshank Redemption</td>\n",
       "      <td>1994</td>\n",
       "      <td>142</td>\n",
       "      <td>9.3</td>\n",
       "      <td>82</td>\n",
       "      <td>2,757,535</td>\n",
       "      <td>$28.34M</td>\n",
       "    </tr>\n",
       "    <tr>\n",
       "      <th>1</th>\n",
       "      <td>The Godfather</td>\n",
       "      <td>1972</td>\n",
       "      <td>175</td>\n",
       "      <td>9.2</td>\n",
       "      <td>100</td>\n",
       "      <td>1,918,798</td>\n",
       "      <td>$134.97M</td>\n",
       "    </tr>\n",
       "    <tr>\n",
       "      <th>2</th>\n",
       "      <td>The Dark Knight</td>\n",
       "      <td>2008</td>\n",
       "      <td>152</td>\n",
       "      <td>9.0</td>\n",
       "      <td>84</td>\n",
       "      <td>2,730,498</td>\n",
       "      <td>$534.86M</td>\n",
       "    </tr>\n",
       "    <tr>\n",
       "      <th>3</th>\n",
       "      <td>Schindler's List</td>\n",
       "      <td>1993</td>\n",
       "      <td>195</td>\n",
       "      <td>9.0</td>\n",
       "      <td>95</td>\n",
       "      <td>1,389,748</td>\n",
       "      <td>$96.90M</td>\n",
       "    </tr>\n",
       "    <tr>\n",
       "      <th>4</th>\n",
       "      <td>12 Angry Men</td>\n",
       "      <td>1957</td>\n",
       "      <td>96</td>\n",
       "      <td>9.0</td>\n",
       "      <td>97</td>\n",
       "      <td>816,966</td>\n",
       "      <td>$4.36M</td>\n",
       "    </tr>\n",
       "  </tbody>\n",
       "</table>\n",
       "</div>"
      ],
      "text/plain": [
       "              Name of movie Year of release Watchtime Movie Rating Metascore  \\\n",
       "0  The Shawshank Redemption            1994       142          9.3        82   \n",
       "1             The Godfather            1972       175          9.2       100   \n",
       "2           The Dark Knight            2008       152          9.0        84   \n",
       "3          Schindler's List            1993       195          9.0        95   \n",
       "4              12 Angry Men            1957        96          9.0        97   \n",
       "\n",
       "       Votes Gross collection  \n",
       "0  2,757,535          $28.34M  \n",
       "1  1,918,798         $134.97M  \n",
       "2  2,730,498         $534.86M  \n",
       "3  1,389,748          $96.90M  \n",
       "4    816,966           $4.36M  "
      ]
     },
     "execution_count": 5,
     "metadata": {},
     "output_type": "execute_result"
    }
   ],
   "source": [
    "movie_DF.head()"
   ]
  },
  {
   "cell_type": "code",
   "execution_count": 7,
   "id": "cdb8cac0",
   "metadata": {},
   "outputs": [
    {
     "data": {
      "text/html": [
       "<div>\n",
       "<style scoped>\n",
       "    .dataframe tbody tr th:only-of-type {\n",
       "        vertical-align: middle;\n",
       "    }\n",
       "\n",
       "    .dataframe tbody tr th {\n",
       "        vertical-align: top;\n",
       "    }\n",
       "\n",
       "    .dataframe thead th {\n",
       "        text-align: right;\n",
       "    }\n",
       "</style>\n",
       "<table border=\"1\" class=\"dataframe\">\n",
       "  <thead>\n",
       "    <tr style=\"text-align: right;\">\n",
       "      <th></th>\n",
       "      <th>Name of movie</th>\n",
       "      <th>Year of release</th>\n",
       "      <th>Watchtime</th>\n",
       "      <th>Movie Rating</th>\n",
       "      <th>Metascore</th>\n",
       "      <th>Votes</th>\n",
       "      <th>Gross collection</th>\n",
       "    </tr>\n",
       "  </thead>\n",
       "  <tbody>\n",
       "    <tr>\n",
       "      <th>58</th>\n",
       "      <td>96</td>\n",
       "      <td>II 2018</td>\n",
       "      <td>158</td>\n",
       "      <td>8.5</td>\n",
       "      <td>^^^^^^</td>\n",
       "      <td>33,343</td>\n",
       "      <td>*****</td>\n",
       "    </tr>\n",
       "  </tbody>\n",
       "</table>\n",
       "</div>"
      ],
      "text/plain": [
       "   Name of movie Year of release Watchtime Movie Rating Metascore   Votes  \\\n",
       "58            96         II 2018       158          8.5    ^^^^^^  33,343   \n",
       "\n",
       "   Gross collection  \n",
       "58            *****  "
      ]
     },
     "execution_count": 7,
     "metadata": {},
     "output_type": "execute_result"
    }
   ],
   "source": [
    "latest = movie_DF[\"Year of release\"].max()\n",
    "\n",
    "movie_DF.loc[movie_DF[\"Year of release\"]==latest,[\"Name of movie\",\"Year of release\",\"Watchtime\",\"Movie Rating\",\"Metascore\",\"Votes\",\"Gross collection\"]]"
   ]
  },
  {
   "cell_type": "code",
   "execution_count": null,
   "id": "0ce1bf26",
   "metadata": {},
   "outputs": [],
   "source": []
  },
  {
   "cell_type": "markdown",
   "id": "77b1fb98",
   "metadata": {},
   "source": [
    "### Example 2"
   ]
  },
  {
   "cell_type": "code",
   "execution_count": 17,
   "id": "3869218b",
   "metadata": {},
   "outputs": [],
   "source": [
    "import requests\n",
    "#the website URL\n",
    "url_link = \"https://en.wikipedia.org/wiki/List_of_states_and_territories_of_the_United_States\"\n",
    "result = requests.get(url_link).text\n",
    "#print(result)"
   ]
  },
  {
   "cell_type": "code",
   "execution_count": 18,
   "id": "89dbf67e",
   "metadata": {},
   "outputs": [],
   "source": [
    "from bs4 import BeautifulSoup\n",
    "#import requests library\n",
    "import requests\n",
    "#the website URL\n",
    "url_link = \"https://en.wikipedia.org/wiki/List_of_states_and_territories_of_the_United_States\"\n",
    "result = requests.get(url_link).text\n",
    "doc = BeautifulSoup(result, \"html.parser\")\n",
    "\n",
    "#print(doc.prettify())"
   ]
  },
  {
   "cell_type": "code",
   "execution_count": 19,
   "id": "ae30caa6",
   "metadata": {},
   "outputs": [],
   "source": [
    "res = doc.find(id = \"content\")\n",
    "#print(res)"
   ]
  },
  {
   "cell_type": "markdown",
   "id": "dc6da65d",
   "metadata": {},
   "source": [
    "#### FIND ELEMENTS BY CLASS NAME:"
   ]
  },
  {
   "cell_type": "code",
   "execution_count": 14,
   "id": "e9c624b3",
   "metadata": {},
   "outputs": [
    {
     "name": "stdout",
     "output_type": "stream",
     "text": [
      "<h1 class=\"firstHeading mw-first-heading\" id=\"firstHeading\"><span class=\"mw-page-title-main\">List of states and territories of the United States</span></h1>\n"
     ]
    }
   ],
   "source": [
    "heading = res.find(class_ = \"firstHeading\")\n",
    "print(heading)"
   ]
  },
  {
   "cell_type": "markdown",
   "id": "6096ec69",
   "metadata": {},
   "source": [
    "#### EXTRACTING TEXT FROM HTML ELEMENTS"
   ]
  },
  {
   "cell_type": "code",
   "execution_count": 15,
   "id": "3551ec44",
   "metadata": {},
   "outputs": [
    {
     "name": "stdout",
     "output_type": "stream",
     "text": [
      "List of states and territories of the United States\n"
     ]
    }
   ],
   "source": [
    "print(heading.text)"
   ]
  },
  {
   "cell_type": "code",
   "execution_count": 34,
   "id": "3223353f",
   "metadata": {},
   "outputs": [],
   "source": [
    "url_link=\"https://en.wikipedia.org/wiki/List_of_states_and_territories_of_the_United_States\"\n",
    "\n",
    "result=requests.get(url_link).text\n",
    "\n",
    "doc=BeautifulSoup(result, \"html.parser\")"
   ]
  },
  {
   "cell_type": "code",
   "execution_count": 35,
   "id": "b3be23f9",
   "metadata": {},
   "outputs": [],
   "source": [
    "my_table=doc.find(\"table\", class_=\"wikitable sortable plainrowheaders\")"
   ]
  },
  {
   "cell_type": "code",
   "execution_count": 40,
   "id": "f5e9838d",
   "metadata": {},
   "outputs": [
    {
     "name": "stdout",
     "output_type": "stream",
     "text": [
      "['Wyoming']\n"
     ]
    }
   ],
   "source": [
    "th_tags = my_table.find_all('th')\n",
    "names = []\n",
    "for elem in th_tags:\n",
    "    a_links = elem.find_all(\"a\")\n",
    "#getting the text inside the < a > tag\n",
    "for i in a_links:\n",
    "    names.append(i.string)\n",
    "print(names)"
   ]
  },
  {
   "cell_type": "code",
   "execution_count": 49,
   "id": "d44e9453",
   "metadata": {},
   "outputs": [
    {
     "name": "stdout",
     "output_type": "stream",
     "text": [
      "[]\n",
      "[]\n"
     ]
    }
   ],
   "source": []
  },
  {
   "cell_type": "code",
   "execution_count": 28,
   "id": "7210dccb",
   "metadata": {},
   "outputs": [
    {
     "name": "stdout",
     "output_type": "stream",
     "text": [
      "['5,024,279', '7', '733,391', '1', '7,151,502', '9', '3,011,524', '4', '39,538,223', '52', '5,773,714', '8', '3,605,944', '5', '989,948', '1', '21,538,187', '28', '10,711,908', '14', '1,455,271', '2', '1,839,106', '2', '12,812,508', '17', '6,785,528', '9', '3,190,369', '4', '2,937,880', '4', '4,505,836', '6', '4,657,757', '6', '1,362,359', '2', '6,177,224', '8', '7,029,917', '9', '10,077,331', '13', '5,706,494', '8', '2,961,279', '4', '6,154,913', '8', '1,084,225', '2', '1,961,504', '3', '3,104,614', '4', '1,377,529', '2', '9,288,994', '12', '2,117,522', '3', '20,201,249', '26', '10,439,388', '14', '779,094', '1', '11,799,448', '15', '3,959,353', '5', '4,237,256', '6', '13,002,700', '17', '1,097,379', '2', '5,118,425', '7', '886,667', '1', '6,910,840', '9', '29,145,505', '38', '3,271,616', '4', '643,077', '1', '8,631,393', '11', '7,705,281', '10', '1,793,716', '2', '5,893,718', '8', '576,851', '1']\n"
     ]
    }
   ],
   "source": [
    "divs = my_table.find_all(\"div\")\n",
    "pop = []\n",
    "for i in divs:\n",
    "    pop.append(i.string)\n",
    "print(pop)"
   ]
  },
  {
   "cell_type": "code",
   "execution_count": 44,
   "id": "2c2bff68",
   "metadata": {},
   "outputs": [
    {
     "name": "stdout",
     "output_type": "stream",
     "text": [
      "['5,024,279', '733,391', '7,151,502', '3,011,524', '39,538,223', '5,773,714', '3,605,944', '989,948', '21,538,187', '10,711,908', '1,455,271', '1,839,106', '12,812,508', '6,785,528', '3,190,369', '2,937,880', '4,505,836', '4,657,757', '1,362,359', '6,177,224', '7,029,917', '10,077,331', '5,706,494', '2,961,279', '6,154,913', '1,084,225', '1,961,504', '3,104,614', '1,377,529', '9,288,994', '2,117,522', '20,201,249', '10,439,388', '779,094', '11,799,448', '3,959,353', '4,237,256', '13,002,700', '1,097,379', '5,118,425', '886,667', '6,910,840', '29,145,505', '3,271,616', '643,077', '8,631,393', '7,705,281', '1,793,716', '5,893,718', '576,851']\n"
     ]
    }
   ],
   "source": [
    "pop_final = []\n",
    "for i in pop:\n",
    "    if len(i) > 3:\n",
    "        pop_final.append(i)\n",
    "print(pop_final)"
   ]
  },
  {
   "cell_type": "code",
   "execution_count": 45,
   "id": "2e58206f",
   "metadata": {},
   "outputs": [
    {
     "name": "stdout",
     "output_type": "stream",
     "text": [
      "    state  population\n",
      "0     NaN   5,024,279\n",
      "1     NaN     733,391\n",
      "2     NaN   7,151,502\n",
      "3     NaN   3,011,524\n",
      "4     NaN  39,538,223\n",
      "5     NaN   5,773,714\n",
      "6     NaN   3,605,944\n",
      "7     NaN     989,948\n",
      "8     NaN  21,538,187\n",
      "9     NaN  10,711,908\n",
      "10    NaN   1,455,271\n",
      "11    NaN   1,839,106\n",
      "12    NaN  12,812,508\n",
      "13    NaN   6,785,528\n",
      "14    NaN   3,190,369\n",
      "15    NaN   2,937,880\n",
      "16    NaN   4,505,836\n",
      "17    NaN   4,657,757\n",
      "18    NaN   1,362,359\n",
      "19    NaN   6,177,224\n",
      "20    NaN   7,029,917\n",
      "21    NaN  10,077,331\n",
      "22    NaN   5,706,494\n",
      "23    NaN   2,961,279\n",
      "24    NaN   6,154,913\n",
      "25    NaN   1,084,225\n",
      "26    NaN   1,961,504\n",
      "27    NaN   3,104,614\n",
      "28    NaN   1,377,529\n",
      "29    NaN   9,288,994\n",
      "30    NaN   2,117,522\n",
      "31    NaN  20,201,249\n",
      "32    NaN  10,439,388\n",
      "33    NaN     779,094\n",
      "34    NaN  11,799,448\n",
      "35    NaN   3,959,353\n",
      "36    NaN   4,237,256\n",
      "37    NaN  13,002,700\n",
      "38    NaN   1,097,379\n",
      "39    NaN   5,118,425\n",
      "40    NaN     886,667\n",
      "41    NaN   6,910,840\n",
      "42    NaN  29,145,505\n",
      "43    NaN   3,271,616\n",
      "44    NaN     643,077\n",
      "45    NaN   8,631,393\n",
      "46    NaN   7,705,281\n",
      "47    NaN   1,793,716\n",
      "48    NaN   5,893,718\n",
      "49    NaN     576,851\n"
     ]
    }
   ],
   "source": [
    "import pandas as pd\n",
    "\n",
    "df = pd.DataFrame()\n",
    "\n",
    "df['state'] = states\n",
    "df['population'] = pop_final\n",
    "\n",
    "print(df)"
   ]
  },
  {
   "cell_type": "code",
   "execution_count": null,
   "id": "e1ecdfef",
   "metadata": {},
   "outputs": [],
   "source": []
  }
 ],
 "metadata": {
  "kernelspec": {
   "display_name": "Python 3 (ipykernel)",
   "language": "python",
   "name": "python3"
  },
  "language_info": {
   "codemirror_mode": {
    "name": "ipython",
    "version": 3
   },
   "file_extension": ".py",
   "mimetype": "text/x-python",
   "name": "python",
   "nbconvert_exporter": "python",
   "pygments_lexer": "ipython3",
   "version": "3.10.9"
  }
 },
 "nbformat": 4,
 "nbformat_minor": 5
}
