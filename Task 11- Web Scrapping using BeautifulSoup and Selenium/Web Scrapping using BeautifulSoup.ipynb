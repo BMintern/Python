{
 "cells": [
  {
   "cell_type": "code",
   "execution_count": 1,
   "id": "07484dbc",
   "metadata": {},
   "outputs": [
    {
     "name": "stdout",
     "output_type": "stream",
     "text": [
      "Instagram\n"
     ]
    }
   ],
   "source": [
    "import requests\n",
    "from bs4 import BeautifulSoup\n",
    "\n",
    "# Step 1: Send a GET request to the website and retrieve the HTML content\n",
    "url = 'https://www.instagram.com'  # Replace with the URL of the website you want to scrape\n",
    "response = requests.get(url)\n",
    "\n",
    "# Step 2: Create a BeautifulSoup object\n",
    "soup = BeautifulSoup(response.content, 'html.parser')\n",
    "\n",
    "# Step 3: Find elements on the page\n",
    "title = soup.find('title')\n",
    "paragraphs = soup.find_all(class_='paragraph')\n",
    "image = soup.select_one('img.thumbnail')\n",
    "links = soup.select('a.link')\n",
    "\n",
    "# Step 4: Extract information from the found elements\n",
    "print(title.text)  # Example 1: Extract the text of an element\n",
    "if image:\n",
    "    print(image['src'])  # Example 2: Extract the source URL of an image"
   ]
  },
  {
   "cell_type": "markdown",
   "id": "ac927d70",
   "metadata": {},
   "source": [
    "Explantion:\n",
    "\n",
    "Web scraping process using the requests library and BeautifulSoup library in Python. Here's an explanation of each step:\n",
    "\n",
    "Sending a GET request:\n",
    "\n",
    "The code sends a GET request to the specified URL (https://www.instagram.com in this case) using requests.get(url) and stores the response in the response variable.\n",
    "Creating a BeautifulSoup object:\n",
    "\n",
    "The code creates a BeautifulSoup object named soup by passing the HTML content of the response (response.content) and the parser type ('html.parser') to the BeautifulSoup constructor.\n",
    "Finding elements on the page:\n",
    "\n",
    "soup.find('title') finds the first <title> element in the HTML and stores it in the title variable.\n",
    "soup.find_all(class_='paragraph') finds all elements with the CSS class paragraph and returns them as a list, which is stored in the paragraphs variable.\n",
    "soup.select_one('img.thumbnail') selects the first <img> element with the CSS class thumbnail and returns it. The result is stored in the image variable.\n",
    "soup.select('a.link') selects all <a> elements with the CSS class link and returns them as a list, which is stored in the links variable.\n",
    "Extracting information from the found elements:\n",
    "\n",
    "title.text extracts the text content of the title element.\n",
    "image['src'] extracts the value of the src attribute of the image element. Note that image is an element, and to access its attributes, we use square brackets (['src'] in this case)."
   ]
  },
  {
   "cell_type": "markdown",
   "id": "13f998e3",
   "metadata": {},
   "source": []
  }
 ],
 "metadata": {
  "kernelspec": {
   "display_name": "Python 3 (ipykernel)",
   "language": "python",
   "name": "python3"
  },
  "language_info": {
   "codemirror_mode": {
    "name": "ipython",
    "version": 3
   },
   "file_extension": ".py",
   "mimetype": "text/x-python",
   "name": "python",
   "nbconvert_exporter": "python",
   "pygments_lexer": "ipython3",
   "version": "3.10.9"
  }
 },
 "nbformat": 4,
 "nbformat_minor": 5
}
