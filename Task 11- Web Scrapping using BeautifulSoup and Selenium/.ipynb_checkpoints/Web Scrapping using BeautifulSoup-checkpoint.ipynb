{
 "cells": [
  {
   "cell_type": "code",
   "execution_count": null,
   "id": "317037df",
   "metadata": {},
   "outputs": [],
   "source": []
  },
  {
   "cell_type": "code",
   "execution_count": null,
   "id": "07484dbc",
   "metadata": {},
   "outputs": [],
   "source": [
    "import requests\n",
    "from bs4 import BeautifulSoup\n",
    "\n",
    "# Step 1: Send a GET request to the website and retrieve the HTML content\n",
    "url = 'https://example.com'  # Replace with the URL of the website you want to scrape\n",
    "response = requests.get(url)\n",
    "\n",
    "# Step 2: Create a BeautifulSoup object\n",
    "soup = BeautifulSoup(response.content, 'html.parser')\n",
    "\n",
    "# Step 3: Find elements on the page\n",
    "title = soup.find('h1')\n",
    "paragraphs = soup.find_all(class_='paragraph')\n",
    "image = soup.select_one('img.thumbnail')\n",
    "links = soup.select('a.link')\n",
    "\n",
    "# Step 4: Extract information from the found elements\n",
    "print(title.text)  # Example 1: Extract the text of an element\n",
    "print(image['src'])  # Example 2: Extract the source URL of an image"
   ]
  }
 ],
 "metadata": {
  "kernelspec": {
   "display_name": "Python 3 (ipykernel)",
   "language": "python",
   "name": "python3"
  },
  "language_info": {
   "codemirror_mode": {
    "name": "ipython",
    "version": 3
   },
   "file_extension": ".py",
   "mimetype": "text/x-python",
   "name": "python",
   "nbconvert_exporter": "python",
   "pygments_lexer": "ipython3",
   "version": "3.10.9"
  }
 },
 "nbformat": 4,
 "nbformat_minor": 5
}
