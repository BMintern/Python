{
 "cells": [
  {
   "cell_type": "code",
   "execution_count": 1,
   "id": "f7fc4195",
   "metadata": {},
   "outputs": [
    {
     "data": {
      "text/plain": [
       "Index(['Age', 'Gender', 'Education Level', 'Job Title', 'Years of Experience',\n",
       "       'Salary'],\n",
       "      dtype='object')"
      ]
     },
     "execution_count": 1,
     "metadata": {},
     "output_type": "execute_result"
    }
   ],
   "source": [
    "import pandas as pd\n",
    "from pprint import pprint\n",
    "\n",
    "df = pd.read_csv('C:\\\\Users\\\\User\\\\Desktop\\\\Data\\\\Salary_Data.csv')\n",
    "df.columns\n",
    "\n"
   ]
  },
  {
   "cell_type": "code",
   "execution_count": 2,
   "id": "09bf7ffa",
   "metadata": {},
   "outputs": [
    {
     "name": "stdout",
     "output_type": "stream",
     "text": [
      "<class 'pandas.core.frame.DataFrame'>\n",
      "RangeIndex: 6704 entries, 0 to 6703\n",
      "Data columns (total 6 columns):\n",
      " #   Column               Non-Null Count  Dtype  \n",
      "---  ------               --------------  -----  \n",
      " 0   Age                  6702 non-null   float64\n",
      " 1   Gender               6702 non-null   object \n",
      " 2   Education Level      6701 non-null   object \n",
      " 3   Job Title            6702 non-null   object \n",
      " 4   Years of Experience  6701 non-null   float64\n",
      " 5   Salary               6699 non-null   float64\n",
      "dtypes: float64(3), object(3)\n",
      "memory usage: 314.4+ KB\n"
     ]
    }
   ],
   "source": [
    "df.info()"
   ]
  },
  {
   "cell_type": "code",
   "execution_count": 3,
   "id": "6fa1d0bc",
   "metadata": {},
   "outputs": [
    {
     "name": "stdout",
     "output_type": "stream",
     "text": [
      "<pandas.io.parsers.readers.TextFileReader object at 0x000001C9C02D5F50>\n"
     ]
    }
   ],
   "source": [
    "df=pd.read_csv(\"C:\\\\Users\\\\User\\\\Desktop\\\\Data\\\\Salary_Data.csv\", chunksize=10000)\n",
    "print(df)"
   ]
  },
  {
   "cell_type": "code",
   "execution_count": 4,
   "id": "ac0a7a0a",
   "metadata": {},
   "outputs": [
    {
     "name": "stdout",
     "output_type": "stream",
     "text": [
      "(6704, 6)\n"
     ]
    }
   ],
   "source": [
    "for data in df:\n",
    "    print(data.shape)"
   ]
  },
  {
   "cell_type": "code",
   "execution_count": 5,
   "id": "78f0eeed",
   "metadata": {},
   "outputs": [
    {
     "name": "stdout",
     "output_type": "stream",
     "text": [
      "   Age  Gender Education Level              Job Title  Years of Experience  \\\n",
      "0   32    Male      Bachelor's      Software Engineer                    5   \n",
      "1   28  Female        Master's           Data Analyst                    3   \n",
      "2   45    Male             PhD         Senior Manager                   15   \n",
      "3   36  Female      Bachelor's        Sales Associate                    7   \n",
      "4   52    Male        Master's               Director                   20   \n",
      "5   29    Male      Bachelor's      Marketing Analyst                    2   \n",
      "6   42  Female        Master's        Product Manager                   12   \n",
      "7   31    Male      Bachelor's          Sales Manager                    4   \n",
      "8   26  Female      Bachelor's  Marketing Coordinator                    1   \n",
      "9   38    Male             PhD       Senior Scientist                   10   \n",
      "\n",
      "   Salary  \n",
      "0   90000  \n",
      "1   65000  \n",
      "2  150000  \n",
      "3   60000  \n",
      "4  200000  \n",
      "5   55000  \n",
      "6  120000  \n",
      "7   80000  \n",
      "8   45000  \n",
      "9  110000  \n"
     ]
    }
   ],
   "source": [
    "df=pd.read_csv(\"C:\\\\Users\\\\User\\\\Desktop\\\\Data\\\\Salary_Data.csv\", chunksize=10)\n",
    "for data in df:\n",
    "    pprint(data)\n",
    "    break"
   ]
  },
  {
   "cell_type": "code",
   "execution_count": null,
   "id": "f6d499f3",
   "metadata": {},
   "outputs": [],
   "source": []
  }
 ],
 "metadata": {
  "kernelspec": {
   "display_name": "Python 3 (ipykernel)",
   "language": "python",
   "name": "python3"
  },
  "language_info": {
   "codemirror_mode": {
    "name": "ipython",
    "version": 3
   },
   "file_extension": ".py",
   "mimetype": "text/x-python",
   "name": "python",
   "nbconvert_exporter": "python",
   "pygments_lexer": "ipython3",
   "version": "3.11.3"
  }
 },
 "nbformat": 4,
 "nbformat_minor": 5
}
