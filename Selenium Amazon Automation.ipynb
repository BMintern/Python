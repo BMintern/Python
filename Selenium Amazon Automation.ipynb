{
 "cells": [
  {
   "cell_type": "code",
   "execution_count": 1,
   "id": "7bc4adb4",
   "metadata": {},
   "outputs": [],
   "source": [
    "from selenium import webdriver\n",
    "from time import sleep"
   ]
  },
  {
   "cell_type": "code",
   "execution_count": 2,
   "id": "ff9951f6",
   "metadata": {},
   "outputs": [],
   "source": [
    "path = 'C://chromedriver.exe'"
   ]
  },
  {
   "cell_type": "code",
   "execution_count": 3,
   "id": "b1005489",
   "metadata": {},
   "outputs": [],
   "source": [
    "from selenium import webdriver\n"
   ]
  },
  {
   "cell_type": "code",
   "execution_count": 4,
   "id": "d62232d2",
   "metadata": {},
   "outputs": [
    {
     "name": "stdout",
     "output_type": "stream",
     "text": [
      "Requirement already satisfied: selenium in c:\\users\\anike\\appdata\\local\\programs\\python\\python310\\lib\\site-packages (4.10.0)\n",
      "Requirement already satisfied: urllib3[socks]<3,>=1.26 in c:\\users\\anike\\appdata\\local\\programs\\python\\python310\\lib\\site-packages (from selenium) (2.0.3)\n",
      "Requirement already satisfied: trio~=0.17 in c:\\users\\anike\\appdata\\local\\programs\\python\\python310\\lib\\site-packages (from selenium) (0.22.0)\n",
      "Requirement already satisfied: trio-websocket~=0.9 in c:\\users\\anike\\appdata\\local\\programs\\python\\python310\\lib\\site-packages (from selenium) (0.10.3)\n",
      "Requirement already satisfied: certifi>=2021.10.8 in c:\\users\\anike\\appdata\\local\\programs\\python\\python310\\lib\\site-packages (from selenium) (2023.5.7)\n",
      "Requirement already satisfied: attrs>=19.2.0 in c:\\users\\anike\\appdata\\local\\programs\\python\\python310\\lib\\site-packages (from trio~=0.17->selenium) (22.2.0)\n",
      "Requirement already satisfied: sortedcontainers in c:\\users\\anike\\appdata\\local\\programs\\python\\python310\\lib\\site-packages (from trio~=0.17->selenium) (2.4.0)\n",
      "Requirement already satisfied: async-generator>=1.9 in c:\\users\\anike\\appdata\\local\\programs\\python\\python310\\lib\\site-packages (from trio~=0.17->selenium) (1.10)\n",
      "Requirement already satisfied: idna in c:\\users\\anike\\appdata\\local\\programs\\python\\python310\\lib\\site-packages (from trio~=0.17->selenium) (3.4)\n",
      "Requirement already satisfied: outcome in c:\\users\\anike\\appdata\\local\\programs\\python\\python310\\lib\\site-packages (from trio~=0.17->selenium) (1.2.0)\n",
      "Requirement already satisfied: sniffio in c:\\users\\anike\\appdata\\local\\programs\\python\\python310\\lib\\site-packages (from trio~=0.17->selenium) (1.3.0)\n",
      "Requirement already satisfied: cffi>=1.14 in c:\\users\\anike\\appdata\\local\\programs\\python\\python310\\lib\\site-packages (from trio~=0.17->selenium) (1.15.1)\n",
      "Requirement already satisfied: exceptiongroup>=1.0.0rc9 in c:\\users\\anike\\appdata\\local\\programs\\python\\python310\\lib\\site-packages (from trio~=0.17->selenium) (1.1.1)\n",
      "Requirement already satisfied: wsproto>=0.14 in c:\\users\\anike\\appdata\\local\\programs\\python\\python310\\lib\\site-packages (from trio-websocket~=0.9->selenium) (1.2.0)\n",
      "Requirement already satisfied: pysocks!=1.5.7,<2.0,>=1.5.6 in c:\\users\\anike\\appdata\\local\\programs\\python\\python310\\lib\\site-packages (from urllib3[socks]<3,>=1.26->selenium) (1.7.1)\n",
      "Requirement already satisfied: pycparser in c:\\users\\anike\\appdata\\local\\programs\\python\\python310\\lib\\site-packages (from cffi>=1.14->trio~=0.17->selenium) (2.21)\n",
      "Requirement already satisfied: h11<1,>=0.9.0 in c:\\users\\anike\\appdata\\local\\programs\\python\\python310\\lib\\site-packages (from wsproto>=0.14->trio-websocket~=0.9->selenium) (0.14.0)\n",
      "Note: you may need to restart the kernel to use updated packages.\n"
     ]
    },
    {
     "name": "stderr",
     "output_type": "stream",
     "text": [
      "WARNING: Ignoring invalid distribution -atplotlib (c:\\users\\anike\\appdata\\local\\programs\\python\\python310\\lib\\site-packages)\n",
      "WARNING: Ignoring invalid distribution -atplotlib (c:\\users\\anike\\appdata\\local\\programs\\python\\python310\\lib\\site-packages)\n"
     ]
    }
   ],
   "source": [
    "pip install --upgrade selenium\n"
   ]
  },
  {
   "cell_type": "code",
   "execution_count": 5,
   "id": "5ffac560",
   "metadata": {},
   "outputs": [
    {
     "name": "stdout",
     "output_type": "stream",
     "text": [
      "Scraping page 1\n",
      "Scraping page 2\n",
      "Scraping page 3\n",
      "Scraping page 4\n",
      "Scraping page 5\n",
      "Scraping page 6\n",
      "Scraping page 7\n",
      "Scraping page 8\n",
      "Scraping page 9\n",
      "Scraping page 10\n",
      "['Samsung Galaxy M04 Light Green, 4GB RAM, 64GB Storage | Upto 8GB RAM with RAM Plus | MediaTek Helio P35 Octa-core Processor | 5000 mAh Battery | 13MP Dual Camera', 'Lava Blaze 2 (6GB RAM, 128GB Storage) - Glass Blue | 18W Fast Charging | 6.5 inch 90Hz Punch Hole Display | Side Fingerprint Sensor | Upto 11GB Expandable RAM | 5000 mAh Battery', 'Samsung Galaxy M04 Dark Blue, 4GB RAM, 128GB Storage | Upto 8GB RAM with RAM Plus | MediaTek Helio P35 Octa-core Processor | 5000 mAh Battery | 13MP Dual Camera', 'Redmi A2 (Aqua Blue, 2GB RAM, 32GB Storage) | Powerful Octa Core G36 Processor | Upto 7GB RAM | Large 16.5 cm HD+ Display with Massive 5000mAh Battery | 2 Years Warranty [Limited time Offer]', 'Redmi 11 Prime (Playful Green, 4GB RAM, 64GB Storage) | Prime Design | High Performance Helio G99 | 50 MP AI Triple Cam | 5000 mAh | 22.5W', 'Nokia C12 Android 12 (Go Edition) Smartphone, All-Day Battery, 4GB RAM (2GB RAM + 2GB Virtual RAM) + 64GB Capacity | Light Mint', 'Nokia C12 Android 12 (Go Edition) Smartphone, All-Day Battery, 4GB RAM (2GB RAM + 2GB Virtual RAM) + 64GB Capacity | Charcoal', 'Redmi New 3 (Light Blue, 2GB RAM, 32GB Storage)', 'realme narzo 50i (Carbon Black, 2GB RAM+32GB Storage) Octa Core Processor | 6.5\" inch Large Display', 'Nokia C12 Android 12 (Go Edition) Smartphone, All-Day Battery, 4GB RAM (2GB RAM + 2GB Virtual RAM) + 64GB Capacity | Dark Cyan', 'Lava Yuva 2 Pro (Glass Lavender, 4GB RAM, 64GB Storage)| 2.3 Ghz Octa Core Helio G37| 13 MP AI Triple Camera |Fingerprint Sensor| 5000 mAh Battery| Upto 7GB Expandable RAM', 'Tecno Phantom V Fold 5G White (12GB RAM,256GB Storage) | The First Full Size Fold | LTPO AMOLED Display | 4nm D9000+ Fast Processor', 'Redmi A2 (Aqua Blue, 4GB RAM, 64GB Storage) | Powerful Octa Core G36 Processor | Upto 7GB RAM | Large 16.5 cm HD+ Display with Massive 5000mAh Battery | 2 Years Warranty [Limited time Offer]', 'Redmi A2 (Sea Green, 2GB RAM, 32GB Storage) | Powerful Octa Core G36 Processor | Upto 7GB RAM | Large 16.5 cm HD+ Display with Massive 5000mAh Battery | 2 Years Warranty [Limited time Offer]', 'Nokia C22 | 3-Day Battery Life | 6GB RAM (4GB RAM + 2GB Virtual RAM) | 13 MP Dual Rear AI Camera with Night & Portrait Mode | IP52 | Sand', 'realme narzo 50i (Carbon Black, 4GB RAM+64GB Storage) Octa Core Processor | 6.5\" inch Large Display', 'Nokia C32 with 50MP Dual Rear AI Camera | Toughened Glass Back | 4GB RAM, 128GB Storage | Upto 7GB RAM with RAM Extension | 5000 mAh Battery | 1 Year Replacement Warranty | Android 13 | Charcoal', 'realme narzo 50i (Mint Green, 2GB RAM+32GB Storage) Octa Core Processor | 6.5\" inch Large Display', 'Nokia C22 | 3-Day Battery Life | 6GB RAM (4GB RAM + 2GB Virtual RAM) | 13 MP Dual Rear AI Camera with Night & Portrait Mode | IP52 | Purple', 'Redmi A2 (Sea Green, 4GB RAM, 64GB Storage) | Powerful Octa Core G36 Processor | Upto 7GB RAM | Large 16.5 cm HD+ Display with Massive 5000mAh Battery | 2 Years Warranty [Limited time Offer]', 'Samsung Galaxy M14 5G (ICY Silver, 4GB, 128GB Storage) | 50MP Triple Cam | 6000 mAh Battery | 5nm Octa-Core Processor | Android 13 | Without Charger', 'Redmi A2 (Aqua Blue, 2GB RAM, 32GB Storage) | Powerful Octa Core G36 Processor | Upto 7GB RAM | Large 16.5 cm HD+ Display with Massive 5000mAh Battery | 2 Years Warranty [Limited time Offer]', 'Samsung Galaxy M14 5G (Smoky Teal, 6GB, 128GB Storage) | 50MP Triple Cam | 6000 mAh Battery | 5nm Octa-Core Processor | 12GB RAM with RAM Plus | Android 13 | Without Charger', 'Lava Blaze 2 (6GB RAM, 128GB Storage) - Glass Orange | 18W Fast Charging | 6.5 inch 90Hz Punch Hole Display | Side Fingerprint Sensor | Upto 11GB Expandable RAM | 5000 mAh Battery', 'Redmi 10A (Slate Grey, 4GB RAM, 64GB Storage) | 2 Ghz Octa Core Helio G25 | 5000 mAh Battery | Finger Print Sensor | Upto 5GB RAM with RAM Booster', 'Redmi A2 (Classic Black, 4GB RAM, 64GB Storage) | Powerful Octa Core G36 Processor | Upto 7GB RAM | Large 16.5 cm HD+ Display with Massive 5000mAh Battery | 2 Years Warranty [Limited time Offer]', 'Samsung Galaxy M04 Light Green, 4GB RAM, 64GB Storage | Upto 8GB RAM with RAM Plus | MediaTek Helio P35 Octa-core Processor | 5000 mAh Battery | 13MP Dual Camera', 'Itel S23 (8GB RAM + 128GB ROM, Up to 16GB RAM with Memory Fusion | 50MP AI Dual Rear Camera | 5000mAh Battery with Type-C Charging | 90 Hz Display) - Starry Black', 'Tecno Spark 9 (Infinity Black, 4GB RAM,64GB Storage) | 7GB Expandable RAM | Helio G37 Gaming Processor', 'Oppo A17k (Navy Blue, 3GB RAM, 64GB Storage) with No Cost EMI/Additional Exchange Offers', 'Tecno Spark 8T (Atlantic Blue, 4GB RAM,64GB Storage)| 50MP AI Camera | 7GB Expandable RAM', 'Redmi 11 Prime (Peppy Purple, 4GB RAM 64GB ROM) | Prime Design | High Performance Helio G99 | 50 MP AI Triple Cam | 5000 mAh | 22.5W', 'Tecno Phantom V Fold 5G Black (12GB RAM,256GB Storage) | The First Full Size Fold | LTPO AMOLED Display | 4nm D9000+ Fast Processor', 'OPPO F23 5G (Bold Gold, 8GB RAM, 256GB Storage) | 5000 mAh Battery with 67W SUPERVOOC Charger | 64MP Rear Triple AI Camera with Microlens | 6.72\" FHD+ 120Hz Display | with Offers', 'Tecno Spark 8 Pro (Interstellar Black, 4GB RAM,64GB Storage) | 48MP Triple Camera | 33W Fast Charger', 'Samsung Galaxy M04 Light Green, 4GB RAM, 128GB Storage | Upto 8GB RAM with RAM Plus | MediaTek Helio P35 Octa-core Processor | 5000 mAh Battery | 13MP Dual Camera', 'Oppo A17k (Blue, 3GB RAM, 64GB Storage) with No Cost EMI/Additional Exchange Offers', 'Tecno Spark 10C (Meta Blue,8GB RAM,128GB Storage)|16GB Expandable RAM |90Hz Refresh Rate 6.56\" HD+Dot Display|16MP AI Dual Rear Camera', 'Vivo Y02t (Sunset Gold, 4GB RAM, 64GB Storage) with No Cost EMI/Additional Exchange Offers', 'Redmi 12C (Royal Blue, 4GB RAM, 64GB Storage) | High Performance Mediatek Helio G85 | Big 17cm(6.71) HD+ Display with 5000mAh(typ) Battery', 'realme narzo 50i Prime (Dark Blue 4GB RAM+64GB Storage) Octa-core Processor | 5000 mAh Battery', 'Samsung Galaxy M04 Dark Blue, 4GB RAM, 64GB Storage | Upto 8GB RAM with RAM Plus | MediaTek Helio P35 Octa-core Processor | 5000 mAh Battery | 13MP Dual Camera', 'Lava Yuva 2 Pro (Glass Green, 4GB RAM, 64GB Storage)| 2.3 Ghz Octa Core Helio G37| 13 MP AI Triple Camera |Fingerprint Sensor| 5000 mAh Battery| Upto 7GB Expandable RAM', 'Redmi 12C (Mint Green, 4GB RAM, 64GB Storage) | High Performance Mediatek Helio G85 | Big 17cm(6.71) HD+ Display with 5000mAh(typ) Battery', 'Samsung Galaxy M14 5G (ICY Silver, 6GB, 128GB Storage) | 50MP Triple Cam | 6000 mAh Battery | 5nm Octa-Core Processor | 12GB RAM with RAM Plus | Android 13 | Without Charger', 'Itel P40 (6000mAh Battery with Fast Charging | 2GB RAM + 64GB ROM, Up to 4GB RAM with Memory Fusion | Octa-core Processor | 13MP AI Dual Rear Camera) - Force Black', 'Redmi A1 (Light Green, 2GB RAM 32GB ROM) | Segment Best AI Dual Cam | 5000mAh Battery | Leather Texture Design | Android 12', 'realme narzo 50i Prime (Dark Blue 3 GB RAM +32 GB Storage) Octa-core Processor | 5000 mAh Battery', 'Redmi A2+ (Sea Green, 4GB RAM, 64GB Storage) | Upto 7GB RAM | Octa Core Processor | Fingerprint Scanner | 2 Years Warranty [Limited time Offer]', 'realme narzo 50i Prime (Mint Green 4GB RAM+64GB Storage) Octa-core Processor |5000 mAh Battery', 'Redmi 11 Prime (Flashy Black, 4GB RAM, 64GB Storage) | Prime Design | High Performance Helio G99 | 50 MP AI Triple Cam | 5000 mAh | 22.5W', 'Itel S23 (8GB RAM + 128GB ROM, Up to 16GB RAM with Memory Fusion | 50MP AI Dual Rear Camera | 5000mAh Battery with Type-C Charging | 90 Hz Display) - Mystery White', 'Redmi A1 (Black, 2GB RAM, 32GB Storage) | Segment Best AI Dual Cam | 5000mAh Battery | Leather Texture Design | Android 12', 'Lava Yuva 2 Pro (Glass Green, 4GB RAM, 64GB Storage)| 2.3 Ghz Octa Core Helio G37| 13 MP AI Triple Camera |Fingerprint Sensor| 5000 mAh Battery| Upto 7GB Expandable RAM', 'Redmi 12C (Royal Blue, 4GB RAM, 64GB Storage) | High Performance Mediatek Helio G85 | Big 17cm(6.71) HD+ Display with 5000mAh(typ) Battery', 'Redmi 12C (Matte Black, 4GB RAM, 64GB Storage) | High Performance Mediatek Helio G85 | Big 17cm(6.71) HD+ Display with 5000mAh(typ) Battery', 'Redmi A2 (Classic Black, 2GB RAM, 64GB Storage)', 'POCO C55 (Power Black, 128 GB) (6 GB RAM)', 'Lava Blaze 2 (6GB RAM, 128GB Storage) - Glass Blue | 18W Fast Charging | 6.5 inch 90Hz Punch Hole Display | Side Fingerprint Sensor | Upto 11GB Expandable RAM | 5000 mAh Battery', 'Vivo Y02t (Cosmic Grey, 4GB RAM, 64GB Storage) with No Cost EMI/Additional Exchange Offers', 'Redmi A2 (Classic Black, 2GB RAM, 32GB Storage) | Powerful Octa Core G36 Processor | Upto 7GB RAM | Large 16.5 cm HD+ Display with Massive 5000mAh Battery | 2 Years Warranty [Limited time Offer]', 'Lava Blaze 2 (6GB RAM, 128GB Storage) - Glass Orange | 18W Fast Charging | 6.5 inch 90Hz Punch Hole Display | Side Fingerprint Sensor | Upto 11GB Expandable RAM | 5000 mAh Battery', 'Redmi 12C (Lavender Purple, 4GB RAM, 64GB Storage) | High Performance Mediatek Helio G85 | Big 17cm(6.71) HD+ Display with 5000mAh(typ) Battery', 'Nokia C32 with 50MP Dual Rear AI Camera | Toughened Glass Back | 4GB RAM, 128GB Storage | Upto 7GB RAM with RAM Extension | 5000 mAh Battery | 1 Year Replacement Warranty | Android 13 | Mint', 'Redmi 12C (Lavender Purple, 4GB RAM, 64GB Storage) | High Performance Mediatek Helio G85 | Big 17cm(6.71) HD+ Display with 5000mAh(typ) Battery', 'Itel P40 (6000mAh Battery with Fast Charging | 2GB RAM + 64GB ROM, Up to 4GB RAM with Memory Fusion | Octa-core Processor | 13MP AI Dual Rear Camera) - Luxurious Gold', 'Nokia C32 with 50MP Dual Rear AI Camera | Toughened Glass Back | 4GB RAM, 128GB Storage | Upto 7GB RAM with RAM Extension | 5000 mAh Battery | 1 Year Replacement Warranty | Android 13 | Pink', 'Lava Yuva 2 Pro (Glass Lavender, 4GB RAM, 64GB Storage)| 2.3 Ghz Octa Core Helio G37| 13 MP AI Triple Camera |Fingerprint Sensor| 5000 mAh Battery| Upto 7GB Expandable RAM', 'Infinix Smart 7 HD (Green Apple, 64 GB) (2 GB RAM)', 'Redmi 12C (Royal Blue, 4GB RAM, 128GB Storage)', 'Redmi A2 (Sea Green, 2GB RAM, 64GB Storage)', 'Lava Blaze 2 (6 GB RAM, UFS 2.2 128GB Storage) - Glass Black|18W Fast Charger|Side Fingerprint Sensor| 5000 mAh Battery| 6.5 inch(16.5cm) HD+ Punch Hole Display| Upto 11GB Expandable RAM', 'Nokia C12 Pro Android Smartphone, Dual SIM, All Day Battery Life, 4GB RAM, 2GB RAM + 2GB Virtual RAM, Android 12 Go Edition | Mint', 'Tecno POP 7 Pro (Endless Black, 2GB RAM,64GB Storage) | Type C Port | 12MP Dual Camera | Up to 4GB RAM with Memory Fusion', 'Tecno POP 7 Pro (Uyuni Blue, 2GB RAM,64GB Storage) | Type C Port | 12MP Dual Camera | Up to 4GB RAM with Memory Fusion', 'POCO C55 (Forest Green, 128 GB) (6 GB RAM)', 'Nokia C12 Pro Android Smartphone, Dual SIM, All Day Battery Life, 6GB RAM, 4GB RAM + 2GB Virtual RAM, Android 12 Go Edition | Mint', 'Redmi 12C (Lavender Purple, 4GB RAM, 128GB Storage)', 'realme narzo 50A (Oxygen Green , 4GB RAM + 128 GB Storage) Helio G85 Processor | 6000 mAh Battery', 'Anik MOTOROLA4g E22s (Eco Black, 4GB RAM, 64GB Storage)', 'Tecno POP 7 Pro (Uyuni Blue, 3GB RAM,64GB Storage) | Type C Port | 12MP Dual Camera | Up to 6GB RAM with Memory Fusion', 'Nokia C01 Plus 4G, 5.45” HD+ Screen, Selfie Camera with Front Flash | 32GB Storage (Grey)', 'Itel P40 (6000mAh Battery with Fast Charging | 2GB RAM + 64GB ROM, Up to 4GB RAM with Memory Fusion | Octa-core Processor | 13MP AI Dual Rear Camera) - Dreamy Blue', 'Redmi A2+ (Aqua Blue, 4GB RAM, 64GB Storage) | Upto 7GB RAM | Octa Core Processor | Fingerprint Scanner | 2 Years Warranty [Limited time Offer]', 'Vivo Y02 (Orchid Blue, 3GB RAM, 32GB Storage) with No Cost EMI/Additional Exchange Offers', 'Itel P40 (6000mAh Battery with Fast Charging | 2GB RAM + 64GB ROM, Up to 4GB RAM with Memory Fusion | Octa-core Processor | 13MP AI Dual Rear Camera) - Luxurious Gold', '(Renewed) Lava Blaze 2 (6GB RAM, 128GB Storage) - Glass Blue | 18W Fast Charging | 6.5 inch 90Hz Pun', 'Tecno Spark 10C (Meta Green,8GB RAM,128GB Storage)|16GB Expandable RAM |90Hz Refresh Rate 6.56\" HD+Dot Display|16MP AI Dual Rear Camera', 'Tecno POP 7 Pro (Endless Black, 3GB RAM,64GB Storage) | Type C Port | 12MP Dual Camera | Up to 6GB RAM with Memory Fusion', 'Itel P40 (6000mAh Battery with Fast Charging | 2GB RAM + 64GB ROM, Up to 4GB RAM with Memory Fusion | Octa-core Processor | 13MP AI Dual Rear Camera) - Dreamy Blue', 'POCO C50 (Royal Blue, 32 GB)  (2 GB RAM)', 'Nokia C32 with 50MP Dual Rear AI Camera | Toughened Glass Back | 4GB RAM, 64GB Storage | Upto 7GB RAM with RAM Extension | 5000 mAh Battery | 1 Year Replacement Warranty | Android 13 | Pink', 'Nokia C12 Pro Android Smartphone, Dual SIM, All Day Battery Life, 6GB RAM, 4GB RAM + 2GB Virtual RAM, Android 12 Go Edition | Charcoal', 'Redmi 12C (Mint Green, 4GB RAM, 64GB Storage) | High Performance Mediatek Helio G85 | Big 17cm(6.71) HD+ Display with 5000mAh(typ) Battery', 'Redmi 12C (Mint Green, 4GB RAM, 128GB Storage)', 'Samsung Galaxy A04e (Light Blue, 3GB, 64GB Storage) | 13 MP Rear Camera | Face Unlock | Upto 7GB RAM with RAM Plus | MediaTek Helio P35 | 5000 mAh Battery', 'IKALL Z1 4G Smartphone with 5.5 Inch IPS Display Dual SIM, 3GB RAM + 32GB Storage (Sky Blue)', 'Redmi A2+ (Classic Black, 4GB RAM, 64GB Storage) | Upto 7GB RAM | Octa Core Processor | Fingerprint Scanner | 2 Years Warranty [Limited time Offer]', 'Itel P40 (6000mAh Battery with Fast Charging | 2GB RAM + 64GB ROM, Up to 4GB RAM with Memory Fusion | Octa-core Processor | 13MP AI Dual Rear Camera) - Force Black', 'Redmi 9A Sport (Coral Green, 2GB RAM, 32GB Storage) | 2GHz Octa-core Helio G25 Processor | 5000 mAh Battery', 'Vivo Y02 (Cosmic Grey, 3GB RAM, 32GB Storage) with No Cost EMI/Additional Exchange Offers', 'Nokia C22 | 3-Day Battery Life | 4GB RAM (2GB RAM + 2GB Virtual RAM) | 13 MP Dual Rear AI Camera with Night & Portrait Mode | IP52 | Charcoal', 'Samsung Galaxy A04e (Copper, 3GB, 64GB Storage) | 13 MP Rear Camera| Face Unlock | Upto 7GB RAM with RAM Plus | MediaTek Helio P35 | 5000 mAh Battery', 'LYF C 459 Blue Mobile Phone', '(Renewed) Redmi 12C (Matte Black, 6GB RAM, 128GB Storage) | High Performance Mediatek Helio G85 | Big 17cm(6.71) HD+ Display with 5000mAh(typ) Battery', 'realme narzo 50i Prime (Mint Green 3GB RAM+32GB Storage) Octa-core Processor | 5000 mAh Battery', 'Nokia C32 with 50MP Dual Rear AI Camera | Toughened Glass Back | 4GB RAM, 64GB Storage | Upto 7GB RAM with RAM Extension | 5000 mAh Battery | 1 Year Replacement Warranty | Android 13 | Mint', 'Micromax in 2B (Black, 4GB RAM, 64GB Storage)', 'Nokia C22 | 3-Day Battery Life | 4GB RAM (2GB RAM + 2GB Virtual RAM) | 13 MP Dual Rear AI Camera with Night & Portrait Mode | IP52 | Sand', 'Nokia C32 with 50MP Dual Rear AI Camera | Toughened Glass Back | 4GB RAM, 64GB Storage | Upto 7GB RAM with RAM Extension | 5000 mAh Battery | 1 Year Replacement Warranty | Android 13 | Charcoal', 'Motorola e32s (Slate Gray, 4GB RAM 64GB Storage)', 'Nokia 2660 Flip 4G Volte keypad Phone with Dual SIM, Dual Screen, inbuilt MP3 Player & Wireless FM Radio | Black', 'Poco C51 (Power Black, 64 GB) (4 GB RAM)', 'Nokia C22 | 3-Day Battery Life | 4GB RAM (2GB RAM + 2GB Virtual RAM) | 13 MP Dual Rear AI Camera with Night & Portrait Mode | IP52 | Purple', 'Redmi A2 (Aqua Blue, 2GB RAM, 64GB Storage)', 'POCO C50 (Country Green, 32 GB)  (2 GB RAM)', 'Nokia G11 Android 12 Smartphone, Dual SIM, 3-Day Battery Life, 4GB RAM + 64GB Storage, 50MP Dual AI Camera | Charcoal Grey', '(Renewed) Samsung Metro Duos GT-C3322 (Titanium Silver)', 'IKALL Z1 4G Smartphone with 5.5 Inch IPS Display Dual SIM, 3GB RAM + 32GB Storage Grey (Grey)', 'Lava X2 (2GB RAM, 32GB Storage) - Striped Blue| Long Lasting 5000 mAh Battery| High Performance Octa Core Processor| Big 6.5 inch(16.5cm) Display HD+IPS Notch Display', 'IKALL Z10 4G Smartphone with 6.53 Inch HD+ Display (4GB RAM, 64GB Stoarge) (Grey)', 'Micromax in 2B (Blue, 4GB RAM, 64GB Storage)', 'Nokia C12 Pro Android Smartphone, Dual SIM, All Day Battery Life, 4GB RAM, 2GB RAM + 2GB Virtual RAM, Android 12 Go Edition | Charcoal', '(Renewed) OnePlus 5T (Midnight Black, 6GB RAM, 64GB Storage)', 'IKALL Z15 4G Smartphone with 6.82 Inch HD+ Display (4GB RAM, 64GB Storage) (Sky Blue)', 'Nokia C31, 6.74” HD+ Display, 13+2+2 MP Rear & 5MP Front Google Camera, 3-Day Battery Life, Android 12 | Mint, 4+64GB', 'Redmi 12C (Matte Black, 4GB RAM, 64GB Storage) | High Performance Mediatek Helio G85 | Big 17cm(6.71) HD+ Display with 5000mAh(typ) Battery', 'IKALL Z3 4G Smartphone with 6.26 Inch HD Display (Android 10.0) (Dual SIM, 4GB RAM) (Aquamarine)', 'Nokia C31, 6.74” HD+ Display, 13+2+2 MP Rear & 5MP Front Google Camera, 3-Day Battery Life, Android 12 | Cyan, 3+32GB', 'Micromax X512 Anniversary Edition 1750 mAh, Torch Blink on Call, Auto Call Recording Phone (Blue)', 'Micromax in 2C (Brown, 32 GB)  (3 GB RAM)', 'Nokia C01 Plus 4G, 5.45” HD+ Screen, Selfie Camera with Front Flash | 32GB Storage (Blue)', 'Lava Z3 Striped Cyan(3GB RAM, 32GB Storage)', 'Infinix Smart 7 (64 GB) (4 GB RAM) (Azure Blue)', 'Lava Blaze NXT(Glass Green, 4GB RAM, 64GB Storage)| 2.3 Ghz Octa Core MTK Helio G37| 13 MP AI Triple Camera |Fingerprint Sensor| 5000 mAh Battery| Upto 7GB Expandable RAM', '(Renewed) OnePlus 5 (Slate Grey, 6GB RAM, 64GB)', 'Itel P40 (6000mAh Battery with Fast Charging | 4GB RAM + 64GB ROM, Up to 7GB RAM with Memory Fusion | Octa-core Processor | 13MP AI Dual Rear Camera) - Dreamy Blue', 'Motorola E32 (4GB, 64GB) (Eco Black)', 'realme C33 (Sandy Gold), 3GB RAM, 32GB Storage', 'IKALL K401 Smartphone (4GB, 64GB) (4G Volte, Android 10) (Dark Blue)', 'IKALL K470 Smartphone (6.26\" HD+ Display, 4GB, 64GB) (Sky Blue)', 'Nokia C12 Pro Android Smartphone, Dual SIM, All Day Battery Life, 4GB RAM, 2GB RAM + 2GB Virtual RAM, Android 12 Go Edition | Cyan', 'Tecno Spark 9T (Atlantic Blue, 4GB RAM,64GB Storage) | 50MP SuperNight Triple Camera | 18W Flash Charger', '(Renewed) Realme Narzo 50i Prime (Dark Blue,3GB RAM, 32GB Storage)', 'SHIVANSH Micromax Bolt Q346 1GB RAM 8GB ROM 4.5 INCH Display 3G Smartphone', 'IKALL K570 Smartphone (6.53 Inch HD+ Display, 4GB, 64GB) (4G Volte) (Jude Green)', 'Tecno Spark 9 (Sky Mirror, 4GB RAM,64GB Storage) | 7GB Expandable RAM | Helio G37 Gaming Processor', 'Poco C51 (Royal Blue, 64 GB) (4 GB RAM)', 'Nokia C12 Pro Android Smartphone, Dual SIM, All Day Battery Life, 5GB RAM, 3GB RAM + 2GB Virtual RAM, Android 12 Go Edition | Charcoal', 'SHIVANSH LYF LS 5030 1GB RAM 8GB ROM 5 INCH Single SIM Smartphone for JIO', 'IKALL Z19 Pro Ultra Smartphone (6.5\" HD Display, 6GB Ram, 128GB Storage) (T606 Octa Core 1.6 Ghz Processor, Type C Interface for Fast Charging) (Blue)', 'Infinix HOT 30i (Diamond White, 64 GB) (4 GB RAM)', '(Renewed) OnePlus 5 (Slate Gray 6GB RAM + 64GB)', '(Renewed) Samsung Galaxy M21 (Midnight Blue, 4GB RAM, 64GB Storage)', 'IKALL Z19 Pro 4G Smartphone | 6.5 Inch HD+ Display | 4GB RAM + 64GB Storage | Multi-Touch Capacitive Touch Screen | Expandable Memory 128GB | 1.6 Ghz Quad Core (Champagne)', 'Nokia C01 Plus 4G, 5.45” HD+ Screen, Selfie Camera with Front Flash (Blue)', 'Micromax in 2C (Silver, 32 GB)  (3 GB RAM)', 'IKALL Z19 Pro-S 4G Smartphone 6.5\" HD+ Display | 4GB RAM + 64GB Storage | T606 Octa Core 1.6 Ghz Processor | Type-C USB Interface for Fast Charging (Champagne)', 'Infinix HOT 30i (Mirror Black, 8GB RAM 128GB Storage)', 'Lava Blaze NXT(Glass Blue, 4GB RAM, 64GB Storage)| 2.3 Ghz Octa Core Helio G37| 13 MP AI Triple Camera |Fingerprint Sensor| 5000 mAh Battery| Upto 7GB Expandable RAM', 'Infinix HOT 30i | 5000 mAh Battery | 50MP AI Camera | 90Hz Refresh Rate | Fingerprint Sensor | Dual Sim (Glacier Blue, 8GB RAM 128GB Storage)', 'Tecno Spark 9T (Turquoise Cyan, 4GB RAM,64GB Storage) | 50MP SuperNight Triple Camera | 18W Flash Charger', 'MOTOROLA e32s (Misty Silver, 4GB RAM 64GB Storage)', 'IKALL Z17 Smartphone (6.53 HD+ Display, 4GB, 64GB) (1.6 Ghz Octa Core Processor) (Blue)', 'Lava Blaze Pro (Glass Blue, 4GB RAM, 64GB Storage)| 50 MP AI Triple Camera| 2.3 Ghz Octa Core MTK Helio G37 |Side Fingerprint Sensor| Upto 7GB Expandable RAM', 'Redmi 2GB RAM, 16GB Storage Mi 6A, Black', 'Lava Z3 Striped Blue (3GB RAM, 32GB Storage)', '(Renewed) Infinix Note 10 Smart Phone(Purple, 4 GB RAM, 64GB Storage)', 'IKALL Z18 Smartphone (6.5 HD Display, 6GB Ram, 128GB Storage) (Champagne)', 'IKALL Z12 4G Smartphone with 4GB RAM, 64 Internal Memory (6.53 Inch HD+ Display) (Jude Green)', 'POCO C55 (Cool Blue, 128 GB) (6 GB RAM)', '(Renewed) Nokia G21 Android Smartphone, Dual SIM, 3-Day Battery Life, 6GB RAM + 128GB Storage, 50MP', 'Jio Phone Next 32GB, 2 GB RAM, Blue Smartphone', 'IKALL K5 Smartphone (2GB, 16GB) (Blue)', '(Renewed) Micromax in Note 1 (Green, 4GB RAM. 128GB Storage)', 'LYF Earth 2 4G LTE Smart Phone (Gold)', 'Itel P40 (6000mAh Battery with Fast Charging | 3GB RAM + 32GB ROM, Up to 6GB RAM with Memory Fusion | Octa-core Processor | 13MP AI Dual Rear Camera) - Luxurious Gold', 'IKALL Z14 Smartphone (6.8\" HD+ Display, 4GB RAM, 64GB Storage) (Grey)', 'realme C30s (Stripe Blue, 4GB RAM, 64GB Storage)']\n"
     ]
    }
   ],
   "source": [
    "import time\n",
    "from selenium import webdriver\n",
    "from selenium.webdriver.chrome.service import Service\n",
    "from selenium.webdriver.common.by import By\n",
    "\n",
    "service = Service(executable_path='./chromedriver.exe')\n",
    "options = webdriver.ChromeOptions()\n",
    "driver = webdriver.Chrome(service=service, options=options)\n",
    "\n",
    "driver.get('https://www.amazon.in')\n",
    "\n",
    "input_search = driver.find_element(By.ID, 'twotabsearchtextbox')\n",
    "search_button = driver.find_element(By.XPATH, \"(//input[@type='submit'])\")\n",
    "input_search.send_keys(\"Smartphones under 10000\")\n",
    "time.sleep(1)\n",
    "search_button.click()\n",
    "\n",
    "products = []\n",
    "\n",
    "for i in range(10):\n",
    "    print('Scraping page', i+1)\n",
    "    product_elements = driver.find_elements(By.XPATH, \"//div[@class='sg-col-inner']//span[@class='a-size-medium a-color-base a-text-normal']\")\n",
    "    for element in product_elements:\n",
    "        products.append(element.text)\n",
    "    \n",
    "    next_button = driver.find_element(By.XPATH, \"//a[contains(@class, 's-pagination-next')]\")\n",
    "    if not next_button.is_enabled():\n",
    "        break\n",
    "    \n",
    "    next_button.click()\n",
    "    time.sleep(20)\n",
    "\n",
    "print(products)\n"
   ]
  },
  {
   "cell_type": "code",
   "execution_count": 6,
   "id": "72c3f0e1",
   "metadata": {},
   "outputs": [
    {
     "data": {
      "text/plain": [
       "['Samsung Galaxy M04 Light Green, 4GB RAM, 64GB Storage | Upto 8GB RAM with RAM Plus | MediaTek Helio P35 Octa-core Processor | 5000 mAh Battery | 13MP Dual Camera',\n",
       " 'Lava Blaze 2 (6GB RAM, 128GB Storage) - Glass Blue | 18W Fast Charging | 6.5 inch 90Hz Punch Hole Display | Side Fingerprint Sensor | Upto 11GB Expandable RAM | 5000 mAh Battery',\n",
       " 'Samsung Galaxy M04 Dark Blue, 4GB RAM, 128GB Storage | Upto 8GB RAM with RAM Plus | MediaTek Helio P35 Octa-core Processor | 5000 mAh Battery | 13MP Dual Camera',\n",
       " 'Redmi A2 (Aqua Blue, 2GB RAM, 32GB Storage) | Powerful Octa Core G36 Processor | Upto 7GB RAM | Large 16.5 cm HD+ Display with Massive 5000mAh Battery | 2 Years Warranty [Limited time Offer]',\n",
       " 'Redmi 11 Prime (Playful Green, 4GB RAM, 64GB Storage) | Prime Design | High Performance Helio G99 | 50 MP AI Triple Cam | 5000 mAh | 22.5W']"
      ]
     },
     "execution_count": 6,
     "metadata": {},
     "output_type": "execute_result"
    }
   ],
   "source": [
    "products[:5]"
   ]
  },
  {
   "cell_type": "code",
   "execution_count": null,
   "id": "834d8740",
   "metadata": {},
   "outputs": [],
   "source": []
  }
 ],
 "metadata": {
  "kernelspec": {
   "display_name": "Python 3 (ipykernel)",
   "language": "python",
   "name": "python3"
  },
  "language_info": {
   "codemirror_mode": {
    "name": "ipython",
    "version": 3
   },
   "file_extension": ".py",
   "mimetype": "text/x-python",
   "name": "python",
   "nbconvert_exporter": "python",
   "pygments_lexer": "ipython3",
   "version": "3.10.5"
  }
 },
 "nbformat": 4,
 "nbformat_minor": 5
}
