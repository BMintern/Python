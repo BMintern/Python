{
 "cells": [
  {
   "cell_type": "raw",
   "id": "ce357809",
   "metadata": {},
   "source": [
    "---\n",
    "title: Exploring London Weather Data\n",
    "description: How to use mercury to create a web app\n",
    "show-code: False\n",
    "params:\n",
    "    year:\n",
    "      input: slider\n",
    "      label: Select year\n",
    "      value: 1952\n",
    "      min: 1952\n",
    "      max: 2018\n",
    "---"
   ]
  },
  {
   "cell_type": "code",
   "execution_count": 16,
   "id": "d22678f8",
   "metadata": {},
   "outputs": [
    {
     "name": "stdout",
     "output_type": "stream",
     "text": [
      "Requirement already satisfied: mljar-mercury in c:\\users\\it tech\\appdata\\roaming\\python\\python39\\site-packages (1.1.6)\n",
      "Requirement already satisfied: ipython==7.30.1 in c:\\users\\it tech\\appdata\\roaming\\python\\python39\\site-packages (from mljar-mercury) (7.30.1)\n",
      "Requirement already satisfied: django-drf-filepond==0.4.1 in c:\\users\\it tech\\appdata\\roaming\\python\\python39\\site-packages (from mljar-mercury) (0.4.1)\n",
      "Requirement already satisfied: django==3.2.5 in c:\\users\\it tech\\appdata\\roaming\\python\\python39\\site-packages (from mljar-mercury) (3.2.5)\n",
      "Requirement already satisfied: pyyaml==6.0 in c:\\users\\it tech\\anaconda3\\lib\\site-packages (from mljar-mercury) (6.0)\n",
      "Requirement already satisfied: markdown==3.3.6 in c:\\users\\it tech\\appdata\\roaming\\python\\python39\\site-packages (from mljar-mercury) (3.3.6)\n",
      "Requirement already satisfied: django-cors-headers==3.10.1 in c:\\users\\it tech\\appdata\\roaming\\python\\python39\\site-packages (from mljar-mercury) (3.10.1)\n",
      "Requirement already satisfied: gevent==21.12.0 in c:\\users\\it tech\\appdata\\roaming\\python\\python39\\site-packages (from mljar-mercury) (21.12.0)\n",
      "Requirement already satisfied: ipykernel==6.6.0 in c:\\users\\it tech\\appdata\\roaming\\python\\python39\\site-packages (from mljar-mercury) (6.6.0)\n",
      "Requirement already satisfied: croniter==1.3.5 in c:\\users\\it tech\\appdata\\roaming\\python\\python39\\site-packages (from mljar-mercury) (1.3.5)\n",
      "Requirement already satisfied: python-dotenv==0.19.2 in c:\\users\\it tech\\anaconda3\\lib\\site-packages (from mljar-mercury) (0.19.2)\n",
      "Requirement already satisfied: django-filter==21.1 in c:\\users\\it tech\\appdata\\roaming\\python\\python39\\site-packages (from mljar-mercury) (21.1)\n",
      "Requirement already satisfied: nbconvert>=6.5.0 in c:\\users\\it tech\\appdata\\roaming\\python\\python39\\site-packages (from mljar-mercury) (7.5.0)\n",
      "Requirement already satisfied: sqlalchemy==1.4.27 in c:\\users\\it tech\\anaconda3\\lib\\site-packages (from mljar-mercury) (1.4.27)\n",
      "Requirement already satisfied: pyppeteer==1.0.2 in c:\\users\\it tech\\appdata\\roaming\\python\\python39\\site-packages (from mljar-mercury) (1.0.2)\n",
      "Requirement already satisfied: djangorestframework==3.12.4 in c:\\users\\it tech\\appdata\\roaming\\python\\python39\\site-packages (from mljar-mercury) (3.12.4)\n",
      "Requirement already satisfied: whitenoise==5.3.0 in c:\\users\\it tech\\anaconda3\\lib\\site-packages (from mljar-mercury) (5.3.0)\n",
      "Requirement already satisfied: ipython-genutils in c:\\users\\it tech\\anaconda3\\lib\\site-packages (from mljar-mercury) (0.2.0)\n",
      "Requirement already satisfied: psutil==5.8.0 in c:\\users\\it tech\\anaconda3\\lib\\site-packages (from mljar-mercury) (5.8.0)\n",
      "Requirement already satisfied: celery==5.1.2 in c:\\users\\it tech\\appdata\\roaming\\python\\python39\\site-packages (from mljar-mercury) (5.1.2)\n",
      "Requirement already satisfied: click-didyoumean>=0.0.3 in c:\\users\\it tech\\appdata\\roaming\\python\\python39\\site-packages (from celery==5.1.2->mljar-mercury) (0.3.0)\n",
      "Requirement already satisfied: click-repl>=0.1.6 in c:\\users\\it tech\\appdata\\roaming\\python\\python39\\site-packages (from celery==5.1.2->mljar-mercury) (0.2.0)\n",
      "Requirement already satisfied: vine<6.0,>=5.0.0 in c:\\users\\it tech\\anaconda3\\lib\\site-packages (from celery==5.1.2->mljar-mercury) (5.0.0)\n",
      "Requirement already satisfied: click<8.0,>=7.0 in c:\\users\\it tech\\appdata\\roaming\\python\\python39\\site-packages (from celery==5.1.2->mljar-mercury) (7.1.2)\n",
      "Requirement already satisfied: click-plugins>=1.1.1 in c:\\users\\it tech\\appdata\\roaming\\python\\python39\\site-packages (from celery==5.1.2->mljar-mercury) (1.1.1)\n",
      "Requirement already satisfied: billiard<4.0,>=3.6.4.0 in c:\\users\\it tech\\anaconda3\\lib\\site-packages (from celery==5.1.2->mljar-mercury) (3.6.4.0)\n",
      "Requirement already satisfied: kombu<6.0,>=5.1.0 in c:\\users\\it tech\\appdata\\roaming\\python\\python39\\site-packages (from celery==5.1.2->mljar-mercury) (5.3.0)\n",
      "Requirement already satisfied: setuptools in c:\\users\\it tech\\anaconda3\\lib\\site-packages (from celery==5.1.2->mljar-mercury) (63.4.1)\n",
      "Requirement already satisfied: pytz>dev in c:\\users\\it tech\\anaconda3\\lib\\site-packages (from celery==5.1.2->mljar-mercury) (2022.1)\n",
      "Requirement already satisfied: python-dateutil in c:\\users\\it tech\\anaconda3\\lib\\site-packages (from croniter==1.3.5->mljar-mercury) (2.8.2)\n",
      "Requirement already satisfied: asgiref<4,>=3.3.2 in c:\\users\\it tech\\appdata\\roaming\\python\\python39\\site-packages (from django==3.2.5->mljar-mercury) (3.7.2)\n",
      "Requirement already satisfied: sqlparse>=0.2.2 in c:\\users\\it tech\\anaconda3\\lib\\site-packages (from django==3.2.5->mljar-mercury) (0.4.4)\n",
      "Requirement already satisfied: shortuuid>=0.5.0 in c:\\users\\it tech\\anaconda3\\lib\\site-packages (from django-drf-filepond==0.4.1->mljar-mercury) (1.0.11)\n",
      "Requirement already satisfied: requests>=2.20.1 in c:\\users\\it tech\\anaconda3\\lib\\site-packages (from django-drf-filepond==0.4.1->mljar-mercury) (2.28.1)\n",
      "Requirement already satisfied: six>=1.14.0 in c:\\users\\it tech\\anaconda3\\lib\\site-packages (from django-drf-filepond==0.4.1->mljar-mercury) (1.16.0)\n",
      "Requirement already satisfied: django-storages>=1.9.1 in c:\\users\\it tech\\appdata\\roaming\\python\\python39\\site-packages (from django-drf-filepond==0.4.1->mljar-mercury) (1.13.2)\n",
      "Requirement already satisfied: zope.interface in c:\\users\\it tech\\anaconda3\\lib\\site-packages (from gevent==21.12.0->mljar-mercury) (5.4.0)\n",
      "Requirement already satisfied: zope.event in c:\\users\\it tech\\anaconda3\\lib\\site-packages (from gevent==21.12.0->mljar-mercury) (4.6)\n",
      "Requirement already satisfied: cffi>=1.12.2 in c:\\users\\it tech\\anaconda3\\lib\\site-packages (from gevent==21.12.0->mljar-mercury) (1.15.1)\n",
      "Requirement already satisfied: greenlet<2.0,>=1.1.0 in c:\\users\\it tech\\anaconda3\\lib\\site-packages (from gevent==21.12.0->mljar-mercury) (1.1.1)\n",
      "Requirement already satisfied: traitlets<6.0,>=5.1.0 in c:\\users\\it tech\\anaconda3\\lib\\site-packages (from ipykernel==6.6.0->mljar-mercury) (5.1.1)\n",
      "Requirement already satisfied: tornado<7.0,>=4.2 in c:\\users\\it tech\\anaconda3\\lib\\site-packages (from ipykernel==6.6.0->mljar-mercury) (6.1)\n",
      "Requirement already satisfied: matplotlib-inline<0.2.0,>=0.1.0 in c:\\users\\it tech\\anaconda3\\lib\\site-packages (from ipykernel==6.6.0->mljar-mercury) (0.1.6)\n",
      "Requirement already satisfied: debugpy<2.0,>=1.0.0 in c:\\users\\it tech\\anaconda3\\lib\\site-packages (from ipykernel==6.6.0->mljar-mercury) (1.5.1)\n",
      "Requirement already satisfied: jupyter-client<8.0 in c:\\users\\it tech\\anaconda3\\lib\\site-packages (from ipykernel==6.6.0->mljar-mercury) (7.3.4)\n",
      "Requirement already satisfied: pickleshare in c:\\users\\it tech\\anaconda3\\lib\\site-packages (from ipython==7.30.1->mljar-mercury) (0.7.5)\n",
      "Requirement already satisfied: pygments in c:\\users\\it tech\\anaconda3\\lib\\site-packages (from ipython==7.30.1->mljar-mercury) (2.11.2)\n",
      "Requirement already satisfied: decorator in c:\\users\\it tech\\anaconda3\\lib\\site-packages (from ipython==7.30.1->mljar-mercury) (5.1.1)\n",
      "Requirement already satisfied: backcall in c:\\users\\it tech\\anaconda3\\lib\\site-packages (from ipython==7.30.1->mljar-mercury) (0.2.0)\n",
      "Requirement already satisfied: jedi>=0.16 in c:\\users\\it tech\\anaconda3\\lib\\site-packages (from ipython==7.30.1->mljar-mercury) (0.18.1)\n",
      "Requirement already satisfied: prompt-toolkit!=3.0.0,!=3.0.1,<3.1.0,>=2.0.0 in c:\\users\\it tech\\anaconda3\\lib\\site-packages (from ipython==7.30.1->mljar-mercury) (3.0.20)\n",
      "Requirement already satisfied: colorama in c:\\users\\it tech\\anaconda3\\lib\\site-packages (from ipython==7.30.1->mljar-mercury) (0.4.5)\n",
      "Requirement already satisfied: importlib-metadata>=4.4 in c:\\users\\it tech\\anaconda3\\lib\\site-packages (from markdown==3.3.6->mljar-mercury) (4.11.3)\n",
      "Requirement already satisfied: urllib3<2.0.0,>=1.25.8 in c:\\users\\it tech\\anaconda3\\lib\\site-packages (from pyppeteer==1.0.2->mljar-mercury) (1.26.11)\n",
      "Requirement already satisfied: websockets<11.0,>=10.0 in c:\\users\\it tech\\anaconda3\\lib\\site-packages (from pyppeteer==1.0.2->mljar-mercury) (10.4)\n",
      "Requirement already satisfied: certifi>=2021 in c:\\users\\it tech\\anaconda3\\lib\\site-packages (from pyppeteer==1.0.2->mljar-mercury) (2022.9.14)\n",
      "Requirement already satisfied: appdirs<2.0.0,>=1.4.3 in c:\\users\\it tech\\anaconda3\\lib\\site-packages (from pyppeteer==1.0.2->mljar-mercury) (1.4.4)\n",
      "Requirement already satisfied: pyee<9.0.0,>=8.1.0 in c:\\users\\it tech\\anaconda3\\lib\\site-packages (from pyppeteer==1.0.2->mljar-mercury) (8.2.2)\n",
      "Requirement already satisfied: tqdm<5.0.0,>=4.42.1 in c:\\users\\it tech\\anaconda3\\lib\\site-packages (from pyppeteer==1.0.2->mljar-mercury) (4.64.1)\n",
      "Requirement already satisfied: defusedxml in c:\\users\\it tech\\anaconda3\\lib\\site-packages (from nbconvert>=6.5.0->mljar-mercury) (0.7.1)\n",
      "Requirement already satisfied: nbclient>=0.5.0 in c:\\users\\it tech\\anaconda3\\lib\\site-packages (from nbconvert>=6.5.0->mljar-mercury) (0.5.13)\n",
      "Requirement already satisfied: markupsafe>=2.0 in c:\\users\\it tech\\anaconda3\\lib\\site-packages (from nbconvert>=6.5.0->mljar-mercury) (2.0.1)\n",
      "Requirement already satisfied: beautifulsoup4 in c:\\users\\it tech\\anaconda3\\lib\\site-packages (from nbconvert>=6.5.0->mljar-mercury) (4.11.1)\n",
      "Requirement already satisfied: tinycss2 in c:\\users\\it tech\\anaconda3\\lib\\site-packages (from nbconvert>=6.5.0->mljar-mercury) (1.2.1)\n",
      "Requirement already satisfied: packaging in c:\\users\\it tech\\anaconda3\\lib\\site-packages (from nbconvert>=6.5.0->mljar-mercury) (21.3)\n",
      "Requirement already satisfied: nbformat>=5.7 in c:\\users\\it tech\\appdata\\roaming\\python\\python39\\site-packages (from nbconvert>=6.5.0->mljar-mercury) (5.9.0)\n",
      "Requirement already satisfied: jinja2>=3.0 in c:\\users\\it tech\\appdata\\roaming\\python\\python39\\site-packages (from nbconvert>=6.5.0->mljar-mercury) (3.1.2)\n",
      "Requirement already satisfied: mistune<3,>=2.0.3 in c:\\users\\it tech\\anaconda3\\lib\\site-packages (from nbconvert>=6.5.0->mljar-mercury) (2.0.5)\n",
      "Requirement already satisfied: pandocfilters>=1.4.1 in c:\\users\\it tech\\anaconda3\\lib\\site-packages (from nbconvert>=6.5.0->mljar-mercury) (1.5.0)\n",
      "Requirement already satisfied: jupyter-core>=4.7 in c:\\users\\it tech\\anaconda3\\lib\\site-packages (from nbconvert>=6.5.0->mljar-mercury) (4.11.1)\n",
      "Requirement already satisfied: jupyterlab-pygments in c:\\users\\it tech\\anaconda3\\lib\\site-packages (from nbconvert>=6.5.0->mljar-mercury) (0.1.2)\n",
      "Requirement already satisfied: bleach!=5.0.0 in c:\\users\\it tech\\anaconda3\\lib\\site-packages (from nbconvert>=6.5.0->mljar-mercury) (4.1.0)\n",
      "Requirement already satisfied: typing-extensions>=4 in c:\\users\\it tech\\anaconda3\\lib\\site-packages (from asgiref<4,>=3.3.2->django==3.2.5->mljar-mercury) (4.3.0)\n",
      "Requirement already satisfied: webencodings in c:\\users\\it tech\\anaconda3\\lib\\site-packages (from bleach!=5.0.0->nbconvert>=6.5.0->mljar-mercury) (0.5.1)\n",
      "Requirement already satisfied: pycparser in c:\\users\\it tech\\anaconda3\\lib\\site-packages (from cffi>=1.12.2->gevent==21.12.0->mljar-mercury) (2.21)\n",
      "Requirement already satisfied: zipp>=0.5 in c:\\users\\it tech\\anaconda3\\lib\\site-packages (from importlib-metadata>=4.4->markdown==3.3.6->mljar-mercury) (3.8.0)\n",
      "Requirement already satisfied: parso<0.9.0,>=0.8.0 in c:\\users\\it tech\\anaconda3\\lib\\site-packages (from jedi>=0.16->ipython==7.30.1->mljar-mercury) (0.8.3)\n",
      "Requirement already satisfied: entrypoints in c:\\users\\it tech\\anaconda3\\lib\\site-packages (from jupyter-client<8.0->ipykernel==6.6.0->mljar-mercury) (0.4)\n",
      "Requirement already satisfied: nest-asyncio>=1.5.4 in c:\\users\\it tech\\anaconda3\\lib\\site-packages (from jupyter-client<8.0->ipykernel==6.6.0->mljar-mercury) (1.5.5)\n",
      "Requirement already satisfied: pyzmq>=23.0 in c:\\users\\it tech\\anaconda3\\lib\\site-packages (from jupyter-client<8.0->ipykernel==6.6.0->mljar-mercury) (23.2.0)\n",
      "Requirement already satisfied: pywin32>=1.0 in c:\\users\\it tech\\anaconda3\\lib\\site-packages (from jupyter-core>=4.7->nbconvert>=6.5.0->mljar-mercury) (302)\n",
      "Requirement already satisfied: amqp<6.0.0,>=5.1.1 in c:\\users\\it tech\\appdata\\roaming\\python\\python39\\site-packages (from kombu<6.0,>=5.1.0->celery==5.1.2->mljar-mercury) (5.1.1)\n",
      "Requirement already satisfied: jsonschema>=2.6 in c:\\users\\it tech\\anaconda3\\lib\\site-packages (from nbformat>=5.7->nbconvert>=6.5.0->mljar-mercury) (4.16.0)\n",
      "Requirement already satisfied: fastjsonschema in c:\\users\\it tech\\anaconda3\\lib\\site-packages (from nbformat>=5.7->nbconvert>=6.5.0->mljar-mercury) (2.16.2)\n",
      "Requirement already satisfied: wcwidth in c:\\users\\it tech\\anaconda3\\lib\\site-packages (from prompt-toolkit!=3.0.0,!=3.0.1,<3.1.0,>=2.0.0->ipython==7.30.1->mljar-mercury) (0.2.5)\n",
      "Requirement already satisfied: idna<4,>=2.5 in c:\\users\\it tech\\anaconda3\\lib\\site-packages (from requests>=2.20.1->django-drf-filepond==0.4.1->mljar-mercury) (3.3)\n",
      "Requirement already satisfied: charset-normalizer<3,>=2 in c:\\users\\it tech\\anaconda3\\lib\\site-packages (from requests>=2.20.1->django-drf-filepond==0.4.1->mljar-mercury) (2.0.4)\n",
      "Requirement already satisfied: soupsieve>1.2 in c:\\users\\it tech\\anaconda3\\lib\\site-packages (from beautifulsoup4->nbconvert>=6.5.0->mljar-mercury) (2.3.1)\n",
      "Requirement already satisfied: pyparsing!=3.0.5,>=2.0.2 in c:\\users\\it tech\\anaconda3\\lib\\site-packages (from packaging->nbconvert>=6.5.0->mljar-mercury) (3.0.9)\n",
      "Requirement already satisfied: attrs>=17.4.0 in c:\\users\\it tech\\anaconda3\\lib\\site-packages (from jsonschema>=2.6->nbformat>=5.7->nbconvert>=6.5.0->mljar-mercury) (21.4.0)\n",
      "Requirement already satisfied: pyrsistent!=0.17.0,!=0.17.1,!=0.17.2,>=0.14.0 in c:\\users\\it tech\\anaconda3\\lib\\site-packages (from jsonschema>=2.6->nbformat>=5.7->nbconvert>=6.5.0->mljar-mercury) (0.18.0)\n",
      "Note: you may need to restart the kernel to use updated packages.\n"
     ]
    }
   ],
   "source": [
    "pip install mljar-mercury"
   ]
  },
  {
   "cell_type": "code",
   "execution_count": 1,
   "id": "dfaf1cf6",
   "metadata": {},
   "outputs": [
    {
     "ename": "SyntaxError",
     "evalue": "invalid syntax (Temp/ipykernel_9252/4065731860.py, line 1)",
     "output_type": "error",
     "traceback": [
      "\u001b[1;36m  File \u001b[1;32m\"C:\\Users\\ITTECH~1\\AppData\\Local\\Temp/ipykernel_9252/4065731860.py\"\u001b[1;36m, line \u001b[1;32m1\u001b[0m\n\u001b[1;33m    mercury run\u001b[0m\n\u001b[1;37m            ^\u001b[0m\n\u001b[1;31mSyntaxError\u001b[0m\u001b[1;31m:\u001b[0m invalid syntax\n"
     ]
    }
   ],
   "source": [
    "mercury run"
   ]
  },
  {
   "cell_type": "code",
   "execution_count": null,
   "id": "f526d28d",
   "metadata": {},
   "outputs": [],
   "source": []
  }
 ],
 "metadata": {
  "kernelspec": {
   "display_name": "Python 3 (ipykernel)",
   "language": "python",
   "name": "python3"
  },
  "language_info": {
   "codemirror_mode": {
    "name": "ipython",
    "version": 3
   },
   "file_extension": ".py",
   "mimetype": "text/x-python",
   "name": "python",
   "nbconvert_exporter": "python",
   "pygments_lexer": "ipython3",
   "version": "3.9.13"
  }
 },
 "nbformat": 4,
 "nbformat_minor": 5
}
