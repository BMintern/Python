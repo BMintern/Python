{
 "cells": [
  {
   "cell_type": "markdown",
   "id": "1548aa3a",
   "metadata": {},
   "source": [
    "# Functional programming\n"
   ]
  },
  {
   "cell_type": "markdown",
   "id": "446e1d9d",
   "metadata": {},
   "source": [
    "### First-class functions"
   ]
  },
  {
   "cell_type": "markdown",
   "id": "81132cc8",
   "metadata": {},
   "source": [
    "In some languages, functions are merely defined or called. However, languages that enable functional programming support functions as first-class citizens. In such languages, functions are ordinary values, which means functions can be stored in variables and passed to or returned from other functions, just as other values like integers and strings can be. "
   ]
  },
  {
   "cell_type": "code",
   "execution_count": 1,
   "id": "943105ac",
   "metadata": {},
   "outputs": [
    {
     "name": "stdout",
     "output_type": "stream",
     "text": [
      "42\n",
      "[0, 2, 4, 6, 8]\n",
      "15\n"
     ]
    }
   ],
   "source": [
    "from typing import Callable\n",
    "\n",
    "def double(n: int) -> int:\n",
    "    return 2 * n\n",
    "\n",
    "def is_even(n: int) -> bool:\n",
    "    return n % 2 == 0\n",
    "\n",
    "def make_adder(n: int) -> Callable[int, int]:\n",
    "\n",
    "    def adder(m: int) -> int:\n",
    "        return n + m\n",
    "\n",
    "    return adder\n",
    "\n",
    "if __name__ == \"__main__\":\n",
    "    # 1. Functions can be assigned to variables\n",
    "    times2 = double\n",
    "    print(times2(21)) # 42\n",
    "\n",
    "    # 2. Functions can be passed to other functions arguments\n",
    "    evens_under10 = list(filter(is_even, range(10)))\n",
    "    print(evens_under10) # [0, 2, 4, 6, 8]\n",
    "\n",
    "    # 3. Functions can be returned from functions\n",
    "    add10 = make_adder(10)\n",
    "    print(add10(5)) # 15"
   ]
  },
  {
   "cell_type": "markdown",
   "id": "5430115e",
   "metadata": {},
   "source": [
    "The presence of first-class functions in a language is foundational to its ability to enable functional programming"
   ]
  },
  {
   "cell_type": "markdown",
   "id": "174e28dd",
   "metadata": {},
   "source": [
    "### Higher-order functions"
   ]
  },
  {
   "cell_type": "markdown",
   "id": "ca3c137d",
   "metadata": {},
   "source": [
    "A higher-order function is a function that takes at least one function as an argument, returns a function as its output, or does both. In the code above, the __filter__ and __make_adder__ functions are examples of higher-order functions. In addition to filter, Python has other frequently-used built-in higher-order functions such as map and sorted."
   ]
  },
  {
   "cell_type": "markdown",
   "id": "eb32cc87",
   "metadata": {},
   "source": [
    "### Anonymous functions"
   ]
  },
  {
   "cell_type": "markdown",
   "id": "d4d73fc6",
   "metadata": {},
   "source": [
    "An anonymous function is a function without a name. In Python, they are created using the lambda keyword. Python only allows anonymous function to include a single expression, which befits another name for an anonymous function — function expression."
   ]
  },
  {
   "cell_type": "code",
   "execution_count": 2,
   "id": "7738d301",
   "metadata": {},
   "outputs": [
    {
     "name": "stdout",
     "output_type": "stream",
     "text": [
      "['Marie', 'Katherine', 'Ada']\n",
      "[Person(name='Ada Lovelace', age=36)]\n",
      "[Person(name='Ada Lovelace', age=36), Person(name='Katherine Johnson', age=101), Person(name='Marie Curie', age=66)]\n",
      "[Person(name='Ada Lovelace', age=36), Person(name='Marie Curie', age=66), Person(name='Katherine Johnson', age=101)]\n"
     ]
    }
   ],
   "source": [
    "from collections import namedtuple\n",
    "\n",
    "Person = namedtuple(\"Person\", [\"name\", \"age\"])\n",
    "\n",
    "if __name__ == \"__main__\":\n",
    "    people = [\n",
    "        Person(\"Marie Curie\", 66),\n",
    "        Person(\"Katherine Johnson\", 101),\n",
    "        Person(\"Ada Lovelace\", 36),\n",
    "    ]\n",
    "\n",
    "    first_names = list(map(lambda p: p.name.split(\" \")[0], people))\n",
    "    print(first_names)  # [\"Marie\", \"Katherine\", \"Ada\"]\n",
    "\n",
    "    # Filter the list to only people with name starting with 'A' and print it\n",
    "    people_with_names_starting_with_a = list(filter(lambda p: p.name.startswith(\"A\"), people))\n",
    "    print(people_with_names_starting_with_a)\n",
    "\n",
    "    # Sort the list by name and print it\n",
    "    print(sorted(people, key=lambda p: p.name))\n",
    "\n",
    "    # Sort the list by age and print it\n",
    "    print(sorted(people, key=lambda p: p.age))"
   ]
  },
  {
   "cell_type": "markdown",
   "id": "b0d238fc",
   "metadata": {},
   "source": [
    "### Pure vs impure functions"
   ]
  },
  {
   "cell_type": "markdown",
   "id": "ec7dd4ea",
   "metadata": {},
   "source": [
    "functions that do not have any side-effects (e.g. I/O operations and global state modification) are called pure functions while those that produce side-effects are called impure functions."
   ]
  },
  {
   "cell_type": "code",
   "execution_count": 3,
   "id": "ca2bd298",
   "metadata": {},
   "outputs": [],
   "source": [
    "def strip_pure(sentence: str) -> str:\n",
    "    return sentence.strip()\n",
    "\n",
    "\n",
    "strip_impure_call_count = 0\n",
    "\n",
    "\n",
    "def strip_impure(sentence: str) -> str:\n",
    "    global strip_impure_call_count\n",
    "\n",
    "    stripped_sentence = sentence.strip()\n",
    "\n",
    "    # Side effect 1: modify global state\n",
    "    strip_impure_call_count += 1\n",
    "    # Side effect 2: output to stdout\n",
    "    print(f\"Called strip_impure {strip_call_count} times\")\n",
    "\n",
    "    return stripped_sentence"
   ]
  },
  {
   "cell_type": "markdown",
   "id": "1bd209d0",
   "metadata": {},
   "source": [
    "### Predicate functions"
   ]
  },
  {
   "cell_type": "markdown",
   "id": "a2d5ce16",
   "metadata": {},
   "source": [
    "Predicate functions map their arguments to a true or false value. They have been use multiple times in this post so far. The named is_even function and the lambda p: p.name.startswith(\"A\") anonymous function shown in the Higher-order functions and Anonymous functions sections, respectively, are examples of predicate functions."
   ]
  },
  {
   "cell_type": "code",
   "execution_count": null,
   "id": "5bdf5271",
   "metadata": {},
   "outputs": [],
   "source": []
  }
 ],
 "metadata": {
  "kernelspec": {
   "display_name": "Python 3 (ipykernel)",
   "language": "python",
   "name": "python3"
  },
  "language_info": {
   "codemirror_mode": {
    "name": "ipython",
    "version": 3
   },
   "file_extension": ".py",
   "mimetype": "text/x-python",
   "name": "python",
   "nbconvert_exporter": "python",
   "pygments_lexer": "ipython3",
   "version": "3.9.13"
  }
 },
 "nbformat": 4,
 "nbformat_minor": 5
}
