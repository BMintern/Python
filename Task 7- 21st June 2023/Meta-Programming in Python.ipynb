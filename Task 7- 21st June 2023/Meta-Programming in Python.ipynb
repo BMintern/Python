{
 "cells": [
  {
   "cell_type": "markdown",
   "id": "61ef054e",
   "metadata": {},
   "source": [
    "# 1. Decorators: Enhancing Functions"
   ]
  },
  {
   "cell_type": "markdown",
   "id": "9545611f",
   "metadata": {},
   "source": [
    "### Uppercase Decorator"
   ]
  },
  {
   "cell_type": "code",
   "execution_count": 6,
   "id": "441250e2",
   "metadata": {},
   "outputs": [
    {
     "name": "stdout",
     "output_type": "stream",
     "text": [
      "HELLO\n"
     ]
    }
   ],
   "source": [
    "def uppercase(func):\n",
    "    def wrapper():\n",
    "        result = func()\n",
    "        return result.upper()\n",
    "    return wrapper\n",
    "\n",
    "@uppercase\n",
    "def greet():\n",
    "    return \"hello\"\n",
    "\n",
    "print(greet())  # Output: HELLO"
   ]
  },
  {
   "cell_type": "markdown",
   "id": "4c1e907f",
   "metadata": {},
   "source": [
    "In this example, the uppercase decorator takes a function and returns a wrapper function that converts the result of the decorated function to uppercase. By applying the `@uppercase` decorator to the greet function, we enhance its functionality by ensuring that the returned greeting is always in uppercase."
   ]
  },
  {
   "cell_type": "markdown",
   "id": "b78f7b78",
   "metadata": {},
   "source": [
    "### Time Decorator"
   ]
  },
  {
   "cell_type": "code",
   "execution_count": 7,
   "id": "a090c2ec",
   "metadata": {},
   "outputs": [
    {
     "name": "stdout",
     "output_type": "stream",
     "text": [
      "Execution time: 0.041694 seconds\n"
     ]
    }
   ],
   "source": [
    "import time\n",
    "\n",
    "def timer(func):\n",
    "    def wrapper():\n",
    "        start_time = time.time()\n",
    "        result = func()\n",
    "        end_time = time.time()\n",
    "        print(f\"Execution time: {end_time - start_time:.6f} seconds\")\n",
    "        return result\n",
    "    return wrapper\n",
    "\n",
    "@timer\n",
    "def count():\n",
    "    for i in range(1, 1000000):\n",
    "        pass\n",
    "\n",
    "count()  # Output: Execution time: 0.043832 seconds"
   ]
  },
  {
   "cell_type": "markdown",
   "id": "7b4004bd",
   "metadata": {},
   "source": [
    "In this example, the timer decorator measures the execution time of the decorated function and prints it. By applying the `@timer` decorator to the count function, we can easily track the execution time of any function."
   ]
  },
  {
   "cell_type": "markdown",
   "id": "923dec8a",
   "metadata": {},
   "source": [
    "# 2. Meta classes: Shaping the Essence of Classes:\n",
    "Meta-classes take Python’s object-oriented capabilities to a whole new level. A meta-class in Python is a class that defines the behavior of other classes, just like how a regular class defines the behavior of objects. It is essentially a class that creates and controls other classes. a meta-class is a class whose instances are classes. And guess what! Not all object-oriented programming languages support meta-classes."
   ]
  },
  {
   "cell_type": "code",
   "execution_count": 8,
   "id": "d5e64139",
   "metadata": {},
   "outputs": [
    {
     "name": "stdout",
     "output_type": "stream",
     "text": [
      "Creating class: MyClass\n"
     ]
    }
   ],
   "source": [
    "class MyMeta(type):\n",
    "    def __new__(mcls, name, bases, attrs):\n",
    "        print(f\"Creating class: {name}\")\n",
    "        return super().__new__(mcls, name, bases, attrs)\n",
    "\n",
    "class MyClass(metaclass=MyMeta):\n",
    "    pass\n",
    "\n",
    "# Output: Creating class: MyClass"
   ]
  },
  {
   "cell_type": "markdown",
   "id": "407e8b9c",
   "metadata": {},
   "source": [
    "# 3. Code Generation: Crafting Code That Writes Code:\n",
    "Code generation is the pinnacle of meta-programming. It allows us to write programs that write other programs, automating repetitive tasks and generating boilerplate code. Code generation typically involves two primary components: templates and data input. Templates serve as blueprints or skeletons for generating code, defining the structure and syntax. Data input provides the necessary information that the code generator uses to populate the templates and produce the desired code. This input data can be in various forms, such as configuration files, databases, or user inputs."
   ]
  },
  {
   "cell_type": "code",
   "execution_count": 9,
   "id": "b9888bcb",
   "metadata": {},
   "outputs": [
    {
     "name": "stdout",
     "output_type": "stream",
     "text": [
      "15\n"
     ]
    }
   ],
   "source": [
    "function_name = \"add\"\n",
    "a = 5\n",
    "b = 10\n",
    "\n",
    "code = f\"\"\"\n",
    "def {function_name}(a, b):\n",
    "    return a + b\n",
    "\n",
    "result = {function_name}({a}, {b})\n",
    "print(result)\n",
    "\"\"\"\n",
    "\n",
    "exec(code)  # Output: 15"
   ]
  },
  {
   "cell_type": "markdown",
   "id": "ebc89e8b",
   "metadata": {},
   "source": [
    "In this example, we dynamically generate a Python function using string interpolation. The `code` string contains the code for defining the `add` function, calling it with the provided values of `a` and `b`, and printing the result. By executing the `code` using the `exec` function, we generate and run the code dynamically."
   ]
  },
  {
   "cell_type": "code",
   "execution_count": null,
   "id": "e04434ee",
   "metadata": {},
   "outputs": [],
   "source": []
  }
 ],
 "metadata": {
  "kernelspec": {
   "display_name": "Python 3 (ipykernel)",
   "language": "python",
   "name": "python3"
  },
  "language_info": {
   "codemirror_mode": {
    "name": "ipython",
    "version": 3
   },
   "file_extension": ".py",
   "mimetype": "text/x-python",
   "name": "python",
   "nbconvert_exporter": "python",
   "pygments_lexer": "ipython3",
   "version": "3.10.9"
  }
 },
 "nbformat": 4,
 "nbformat_minor": 5
}
