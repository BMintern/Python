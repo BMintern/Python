{
 "cells": [
  {
   "cell_type": "markdown",
   "id": "bd624949",
   "metadata": {},
   "source": [
    "# Selenium web scraping:\n",
    "It refers to using the Selenium browser automation tool with Python to extract data from websites. Selenium allows developers to programmatically control a web browser programmatically, meaning they can interact with websites as if they were human users."
   ]
  },
  {
   "cell_type": "code",
   "execution_count": 1,
   "id": "6cb9b3e9",
   "metadata": {},
   "outputs": [],
   "source": [
    "#pip install selenium"
   ]
  },
  {
   "cell_type": "code",
   "execution_count": 2,
   "id": "d51630fd",
   "metadata": {},
   "outputs": [],
   "source": [
    "#pip install webdriver-manager"
   ]
  },
  {
   "cell_type": "code",
   "execution_count": 3,
   "id": "4217184e",
   "metadata": {},
   "outputs": [],
   "source": [
    "from selenium import webdriver\n",
    "\n",
    "from selenium.webdriver.chrome.service import Service\n",
    "\n",
    "from webdriver_manager.chrome import ChromeDriverManager\n",
    "\n",
    "from selenium.webdriver.common.keys import Keys\n",
    "\n",
    "from selenium.webdriver.common.by import By\n",
    "\n",
    "driver = webdriver.Chrome(service=Service(ChromeDriverManager().install()))\n",
    "\n",
    "\n",
    "driver.get(\"https://www.google.com/\")\n",
    "\n",
    "search = driver.find_element(by=By.NAME,value=\"q\")\n",
    "\n",
    "search.send_keys(\"Wellington,New Zealand Wallpaper\")\n",
    "\n",
    "search.send_keys(Keys.RETURN)\n",
    "driver.maximize_window()"
   ]
  },
  {
   "cell_type": "code",
   "execution_count": 8,
   "id": "84c18525",
   "metadata": {},
   "outputs": [
    {
     "data": {
      "text/plain": [
       "True"
      ]
     },
     "execution_count": 8,
     "metadata": {},
     "output_type": "execute_result"
    }
   ],
   "source": [
    "driver.save_screenshot('wellington.png')"
   ]
  },
  {
   "cell_type": "markdown",
   "id": "0b885738",
   "metadata": {},
   "source": [
    "## Example 2"
   ]
  },
  {
   "cell_type": "code",
   "execution_count": 16,
   "id": "8243d66f",
   "metadata": {},
   "outputs": [
    {
     "name": "stdout",
     "output_type": "stream",
     "text": [
      "Name: Pranay Khade\n",
      "Headline: Pursuing Master's in CS\n"
     ]
    }
   ],
   "source": [
    "from selenium import webdriver\n",
    "from selenium.webdriver.chrome.service import Service\n",
    "from selenium.webdriver.common.by import By\n",
    "from selenium.webdriver.common.keys import Keys\n",
    "from webdriver_manager.chrome import ChromeDriverManager\n",
    "from selenium.webdriver.support.ui import WebDriverWait\n",
    "from selenium.webdriver.support import expected_conditions as EC\n",
    "import time\n",
    "\n",
    "# Initialize the WebDriver\n",
    "driver = webdriver.Chrome(service=Service(ChromeDriverManager().install()))\n",
    "\n",
    "# Open LinkedIn and log in\n",
    "driver.get('https://www.linkedin.com')\n",
    "time.sleep(2)  # Wait for the page to load\n",
    "\n",
    "driver.maximize_window()\n",
    "username = WebDriverWait(driver, 10).until(EC.element_to_be_clickable((By.ID, 'session_key')))\n",
    "username.send_keys('khadepranay727@gmail.com')          # enter mail id\n",
    "\n",
    "password = driver.find_element(By.ID, 'session_password')\n",
    "password.send_keys('password')                    # enter password\n",
    "\n",
    "password.send_keys(Keys.RETURN)  # Submit the login form\n",
    "\n",
    "time.sleep(14)  # Wait for the page to load after logging in\n",
    "\n",
    "# Navigate to the desired page (profile, for example)\n",
    "profile_url = 'https://www.linkedin.com/in/pranay-khade25'\n",
    "driver.get(profile_url)\n",
    "time.sleep(2)  # Wait for the profile page to load\n",
    "\n",
    "# Extract data from the profile\n",
    "name_element = driver.find_element(By.CLASS_NAME, 'text-heading-xlarge')\n",
    "name = name_element.text\n",
    "\n",
    "headline_element = driver.find_element(By.CLASS_NAME, 'text-body-medium')\n",
    "headline = headline_element.text\n",
    "\n",
    "print('Name:', name)\n",
    "print('Headline:', headline)\n",
    "\n",
    "# Clean up\n",
    "driver.quit()"
   ]
  },
  {
   "cell_type": "markdown",
   "id": "12411144",
   "metadata": {},
   "source": [
    "## Example 3"
   ]
  },
  {
   "cell_type": "code",
   "execution_count": null,
   "id": "4d0c1a2b",
   "metadata": {},
   "outputs": [],
   "source": [
    "from selenium import webdriver\n",
    "import time\n",
    " \n",
    "\n",
    "# Initialize the WebDriver\n",
    "driver = webdriver.Chrome()\n",
    "\n",
    " \n",
    "# Open the desired webpage\n",
    "driver.get(\"https://www.neuralnine.com/\")\n",
    "\n",
    "# Find and click the first link containing \"Books\" in the innerHTML\n",
    "links = driver.find_elements(\"xpath\", \"//a[@href]\")\n",
    "for link in links:\n",
    "    if \"Books\" in link.get_attribute(\"innerHTML\"):\n",
    "        link.click()\n",
    "        break\n",
    "\n",
    "book_links = driver.find_elements(\"xpath\",\"//div[contains(@class,'elementor-column-wrap')][.//h2[text()[contains(., '7 IN 1')]]][count(.//a)=2]//a\")\n",
    "\n",
    "for book_link in book_links:\n",
    "    print(book_link.get_attribute(\"innerHTML\")) \n",
    "\n",
    "book_links[0].click()\n",
    "\n",
    "driver.switch_to.window(driver.window_handles[1])\n",
    "\n",
    "time.sleep(3)\n",
    "\n",
    "buttons = driver.find_elements(\"xpath\",\"//a[.//span[text()[contains(.,'Taschenbuch')]]]//span[text()[contains(.,'€')]]\")\n",
    "\n",
    "for button in buttons:\n",
    "    print(button.get_attribute(\"innerHTML\"))"
   ]
  },
  {
   "cell_type": "code",
   "execution_count": null,
   "id": "9960e605",
   "metadata": {},
   "outputs": [],
   "source": []
  }
 ],
 "metadata": {
  "kernelspec": {
   "display_name": "Python 3 (ipykernel)",
   "language": "python",
   "name": "python3"
  },
  "language_info": {
   "codemirror_mode": {
    "name": "ipython",
    "version": 3
   },
   "file_extension": ".py",
   "mimetype": "text/x-python",
   "name": "python",
   "nbconvert_exporter": "python",
   "pygments_lexer": "ipython3",
   "version": "3.10.9"
  }
 },
 "nbformat": 4,
 "nbformat_minor": 5
}
