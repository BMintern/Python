{
 "cells": [
  {
   "cell_type": "markdown",
   "id": "bd624949",
   "metadata": {},
   "source": [
    "# Selenium web scraping:\n",
    "It refers to using the Selenium browser automation tool with Python to extract data from websites. Selenium allows developers to programmatically control a web browser programmatically, meaning they can interact with websites as if they were human users."
   ]
  },
  {
   "cell_type": "code",
   "execution_count": null,
   "id": "6cb9b3e9",
   "metadata": {},
   "outputs": [],
   "source": [
    "#pip install selenium"
   ]
  },
  {
   "cell_type": "code",
   "execution_count": 9,
   "id": "d51630fd",
   "metadata": {},
   "outputs": [],
   "source": [
    "#pip install webdriver-manager"
   ]
  },
  {
   "cell_type": "code",
   "execution_count": 2,
   "id": "4217184e",
   "metadata": {},
   "outputs": [],
   "source": [
    "from selenium import webdriver\n",
    "\n",
    "from selenium.webdriver.chrome.service import Service\n",
    "\n",
    "from webdriver_manager.chrome import ChromeDriverManager\n",
    "\n",
    "from selenium.webdriver.common.keys import Keys\n",
    "\n",
    "from selenium.webdriver.common.by import By\n",
    "\n",
    "\n",
    "driver = webdriver.Chrome(service=Service(ChromeDriverManager().install()))\n",
    "\n",
    "\n",
    "driver.get(\"https://www.google.com/\")\n",
    "\n",
    "search = driver.find_element(by=By.NAME,value=\"q\")\n",
    "\n",
    "search.send_keys(\"Wellington,New Zealand Wallpaper\")\n",
    "\n",
    "search.send_keys(Keys.ENTER)\n",
    "driver.maximize_window()"
   ]
  },
  {
   "cell_type": "code",
   "execution_count": 8,
   "id": "84c18525",
   "metadata": {},
   "outputs": [
    {
     "data": {
      "text/plain": [
       "True"
      ]
     },
     "execution_count": 8,
     "metadata": {},
     "output_type": "execute_result"
    }
   ],
   "source": [
    "driver.save_screenshot('wellington.png')"
   ]
  },
  {
   "cell_type": "markdown",
   "id": "0b885738",
   "metadata": {},
   "source": [
    "## Example 2"
   ]
  },
  {
   "cell_type": "code",
   "execution_count": null,
   "id": "8243d66f",
   "metadata": {},
   "outputs": [],
   "source": [
    "from selenium import webdriver\n",
    "from selenium.webdriver.chrome.service import Service\n",
    "from selenium.webdriver.common.by import By\n",
    "from selenium.webdriver.common.keys import Keys\n",
    "from webdriver_manager.chrome import ChromeDriverManager\n",
    "from selenium.webdriver.support.ui import WebDriverWait\n",
    "from selenium.webdriver.support import expected_conditions as EC\n",
    "import time\n",
    "\n",
    "# Initialize the WebDriver\n",
    "driver = webdriver.Chrome(service=Service(ChromeDriverManager().install()))\n",
    "\n",
    "# Open LinkedIn and log in\n",
    "driver.get('https://www.linkedin.com')\n",
    "time.sleep(2)  # Wait for the page to load\n",
    "driver.maximize_window()\n",
    "username = WebDriverWait(driver, 10).until(EC.element_to_be_clickable((By.ID, 'session_key')))\n",
    "username.send_keys('email')     \n",
    "\n",
    "password = driver.find_element(By.ID, 'session_password')\n",
    "password.send_keys('password') \n",
    "\n",
    "password.send_keys(Keys.RETURN)  # Submit the login form\n",
    "time.sleep(14)  # Wait for the page to load after logging in\n",
    "\n",
    "from selenium import webdriver\n",
    "from selenium.webdriver.chrome.service import Service\n",
    "from selenium.webdriver.common.by import By\n",
    "from selenium.webdriver.common.keys import Keys\n",
    "from webdriver_manager.chrome import ChromeDriverManager\n",
    "from selenium.webdriver.support.ui import WebDriverWait\n",
    "from selenium.webdriver.support import expected_conditions as EC\n",
    "import time\n",
    "\n",
    "# Initialize the WebDriver\n",
    "driver = webdriver.Chrome(service=Service(ChromeDriverManager().install()))\n",
    "\n",
    "# Open LinkedIn and log in\n",
    "driver.get('https://www.linkedin.com')\n",
    "time.sleep(2)  # Wait for the page to load\n",
    "\n",
    "username = WebDriverWait(driver, 10).until(EC.element_to_be_clickable((By.ID, 'session_key')))\n",
    "username.send_keys('khadepranay727@gmail.com')          # enter mail id\n",
    "\n",
    "password = driver.find_element(By.ID, 'session_password')\n",
    "password.send_keys('password')                    # enter password\n",
    "\n",
    "password.send_keys(Keys.RETURN)  # Submit the login form\n",
    "\n",
    "time.sleep(14)  # Wait for the page to load after logging in\n",
    "\n",
    "# Navigate to the desired page (profile, for example)\n",
    "profile_url = 'https://www.linkedin.com/in/pranay-khade25'\n",
    "driver.get(profile_url)\n",
    "time.sleep(2)  # Wait for the profile page to load\n",
    "\n",
    "# Extract data from the profile\n",
    "name_element = driver.find_element(By.CLASS_NAME, 'text-heading-xlarge')\n",
    "name = name_element.text\n",
    "\n",
    "headline_element = driver.find_element(By.CLASS_NAME, 'text-body-medium')\n",
    "headline = headline_element.text\n",
    "\n",
    "print('Name:', name)\n",
    "print('Headline:', headline)\n",
    "\n",
    "# Clean up\n",
    "driver.quit()"
   ]
  },
  {
   "cell_type": "markdown",
   "id": "e825a829",
   "metadata": {},
   "source": [
    "## Example 3"
   ]
  },
  {
   "cell_type": "code",
   "execution_count": 4,
   "id": "ce2e9874",
   "metadata": {},
   "outputs": [
    {
     "name": "stderr",
     "output_type": "stream",
     "text": [
      "The version of chrome cannot be detected. Trying with latest driver version\n"
     ]
    },
    {
     "name": "stdout",
     "output_type": "stream",
     "text": [
      "\n",
      "\t\t\t\t\t\t\t<img width=\"1600\" height=\"2560\" src=\"https://www.neuralnine.com/wp-content/uploads/2020/10/10.png\" class=\"elementor-animation-grow attachment-full size-full\" alt=\"\" decoding=\"async\" loading=\"lazy\" srcset=\"https://www.neuralnine.com/wp-content/uploads/2020/10/10.png 1600w, https://www.neuralnine.com/wp-content/uploads/2020/10/10-188x300.png 188w, https://www.neuralnine.com/wp-content/uploads/2020/10/10-640x1024.png 640w, https://www.neuralnine.com/wp-content/uploads/2020/10/10-768x1229.png 768w, https://www.neuralnine.com/wp-content/uploads/2020/10/10-960x1536.png 960w, https://www.neuralnine.com/wp-content/uploads/2020/10/10-1280x2048.png 1280w\" sizes=\"(max-width: 1600px) 100vw, 1600px\">\t\t\t\t\t\t\t\t\n",
      "\n",
      "\t\t\t\t\t\t<span class=\"elementor-button-content-wrapper\">\n",
      "\t\t\t\t\t\t<span class=\"elementor-button-icon elementor-align-icon-left\">\n",
      "\t\t\t\t<i aria-hidden=\"true\" class=\"fas fa-shopping-cart\"></i>\t\t\t</span>\n",
      "\t\t\t\t\t\t<span class=\"elementor-button-text\">VIEW ON AMAZON</span>\n",
      "\t\t</span>\n",
      "\t\t\t\t\t\n"
     ]
    },
    {
     "ename": "NameError",
     "evalue": "name 'time' is not defined",
     "output_type": "error",
     "traceback": [
      "\u001b[1;31m---------------------------------------------------------------------------\u001b[0m",
      "\u001b[1;31mNameError\u001b[0m                                 Traceback (most recent call last)",
      "\u001b[1;32m~\\AppData\\Local\\Temp\\ipykernel_10464\\2348621234.py\u001b[0m in \u001b[0;36m<module>\u001b[1;34m\u001b[0m\n\u001b[0;32m     36\u001b[0m \u001b[1;33m\u001b[0m\u001b[0m\n\u001b[0;32m     37\u001b[0m \u001b[1;33m\u001b[0m\u001b[0m\n\u001b[1;32m---> 38\u001b[1;33m \u001b[0mtime\u001b[0m\u001b[1;33m.\u001b[0m\u001b[0msleep\u001b[0m\u001b[1;33m(\u001b[0m\u001b[1;36m3\u001b[0m\u001b[1;33m)\u001b[0m\u001b[1;33m\u001b[0m\u001b[1;33m\u001b[0m\u001b[0m\n\u001b[0m\u001b[0;32m     39\u001b[0m \u001b[1;33m\u001b[0m\u001b[0m\n\u001b[0;32m     40\u001b[0m \u001b[1;33m\u001b[0m\u001b[0m\n",
      "\u001b[1;31mNameError\u001b[0m: name 'time' is not defined"
     ]
    }
   ],
   "source": [
    "from selenium import webdriver\n",
    "\n",
    " \n",
    "\n",
    "# Initialize the WebDriver\n",
    "driver = webdriver.Chrome()\n",
    "\n",
    " \n",
    "\n",
    "# Open the desired webpage\n",
    "driver.get(\"https://www.neuralnine.com/\")\n",
    "\n",
    " \n",
    "\n",
    "# Find and click the first link containing \"Books\" in the innerHTML\n",
    "links = driver.find_elements(\"xpath\", \"//a[@href]\")\n",
    "for link in links:\n",
    "    if \"Books\" in link.get_attribute(\"innerHTML\"):\n",
    "        link.click()\n",
    "        break\n",
    "\n",
    "book_links = driver.find_elements(\"xpath\",\"//div[contains(@class,'elementor-column-wrap')][.//h2[text()[contains(., '7 IN 1')]]][count(.//a)=2]//a\")\n",
    "\n",
    " \n",
    "\n",
    "for book_link in book_links:\n",
    "    print(book_link.get_attribute(\"innerHTML\")) \n",
    "\n",
    "book_links[0].click()\n",
    "\n",
    "driver.switch_to.window(driver.window_handles[1])\n",
    "\n",
    "time.sleep(3)\n",
    "\n",
    "buttons = driver.find_elements(\"xpath\",\"//a[.//span[text()[contains(.,'Taschenbuch')]]]//span[text()[contains(.,'€')]]\")\n",
    "\n",
    "for button in buttons:\n",
    "    print(button.get_attribute(\"innerHTML\"))"
   ]
  },
  {
   "cell_type": "code",
   "execution_count": null,
   "id": "777368a3",
   "metadata": {},
   "outputs": [],
   "source": []
  }
 ],
 "metadata": {
  "kernelspec": {
   "display_name": "Python 3 (ipykernel)",
   "language": "python",
   "name": "python3"
  },
  "language_info": {
   "codemirror_mode": {
    "name": "ipython",
    "version": 3
   },
   "file_extension": ".py",
   "mimetype": "text/x-python",
   "name": "python",
   "nbconvert_exporter": "python",
   "pygments_lexer": "ipython3",
   "version": "3.10.9"
  }
 },
 "nbformat": 4,
 "nbformat_minor": 5
}
