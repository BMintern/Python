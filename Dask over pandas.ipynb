{
 "cells": [
  {
   "cell_type": "code",
   "execution_count": 30,
   "id": "444416e0",
   "metadata": {},
   "outputs": [],
   "source": [
    "import numpy as np\n",
    "import pandas as pd\n",
    "from datetime import datetime"
   ]
  },
  {
   "cell_type": "code",
   "execution_count": 31,
   "id": "3f85a7bd",
   "metadata": {},
   "outputs": [],
   "source": [
    "import dask\n",
    "import dask.dataframe as dd\n"
   ]
  },
  {
   "cell_type": "code",
   "execution_count": 32,
   "id": "cadbf383",
   "metadata": {},
   "outputs": [
    {
     "name": "stdout",
     "output_type": "stream",
     "text": [
      "Time elapsed (hh:mm:ss.ms) 0:00:00\n"
     ]
    }
   ],
   "source": [
    "# code to measure the time taken to do an operation\n",
    "start_time = datetime.now() \n",
    "# insert the code here\n",
    "time_elapsed = datetime.now() - start_time \n",
    "print('Time elapsed (hh:mm:ss.ms) {}'.format(time_elapsed))\n"
   ]
  },
  {
   "cell_type": "code",
   "execution_count": 33,
   "id": "3b91f559",
   "metadata": {},
   "outputs": [],
   "source": [
    "file=pd.read_csv('D:\\Bizmetric\\Azure training\\Datasets\\car_sales_data.csv')\n"
   ]
  },
  {
   "cell_type": "code",
   "execution_count": 34,
   "id": "e09b5dcc",
   "metadata": {},
   "outputs": [
    {
     "name": "stdout",
     "output_type": "stream",
     "text": [
      "File size in bytes is 234140321\n"
     ]
    }
   ],
   "source": [
    "import os\n",
    "file = os.path.getsize(\"D:\\Bizmetric\\Azure training\\Datasets\\car_sales_data.csv\")\n",
    "print ('File size in bytes is {}'.format(file))"
   ]
  },
  {
   "cell_type": "markdown",
   "id": "38ab9dd8",
   "metadata": {},
   "source": [
    "## Dask over Pandas"
   ]
  },
  {
   "cell_type": "code",
   "execution_count": 35,
   "id": "5bee3a7c",
   "metadata": {},
   "outputs": [
    {
     "name": "stdout",
     "output_type": "stream",
     "text": [
      "Time elapsed (hh:mm:ss.ms) 0:00:04.255980\n"
     ]
    }
   ],
   "source": [
    "# Reading a file with pandas, size over 2 GB\n",
    "start_time = datetime.now() \n",
    "pandasfile = pd.read_csv('D:\\Bizmetric\\Azure training\\Datasets\\car_sales_data.csv')\n",
    "time_elapsed = datetime.now() - start_time \n",
    "print('Time elapsed (hh:mm:ss.ms) {}'.format(time_elapsed))\n"
   ]
  },
  {
   "cell_type": "code",
   "execution_count": 36,
   "id": "0ea51d58",
   "metadata": {},
   "outputs": [
    {
     "name": "stdout",
     "output_type": "stream",
     "text": [
      "Time elapsed (hh:mm:ss.ms) 0:00:00.012873\n"
     ]
    }
   ],
   "source": [
    "# Reading a file with dask, size over 2 GB\n",
    "start_time = datetime.now() \n",
    "daskFile = dd.read_csv('D:\\Bizmetric\\Azure training\\Datasets\\car_sales_data.csv')\n",
    "time_elapsed = datetime.now() - start_time \n",
    "print('Time elapsed (hh:mm:ss.ms) {}'.format(time_elapsed))"
   ]
  },
  {
   "cell_type": "markdown",
   "id": "21ba0a1b",
   "metadata": {},
   "source": [
    "# Appending two files — Pandas & Dask:"
   ]
  },
  {
   "cell_type": "code",
   "execution_count": 37,
   "id": "bfa427b5",
   "metadata": {},
   "outputs": [
    {
     "name": "stdout",
     "output_type": "stream",
     "text": [
      "Time elapsed (hh:mm:ss.ms) 0:00:00.115371\n"
     ]
    }
   ],
   "source": [
    "# Reading a file with pandas, size over 2 GB\n",
    "start_time = datetime.now() \n",
    "pandasfile = pd.read_csv('D:\\Bizmetric\\Azure training\\Datasets\\penguins.csv')\n",
    "time_elapsed = datetime.now() - start_time \n",
    "print('Time elapsed (hh:mm:ss.ms) {}'.format(time_elapsed))"
   ]
  },
  {
   "cell_type": "code",
   "execution_count": 38,
   "id": "81830b66",
   "metadata": {},
   "outputs": [
    {
     "name": "stdout",
     "output_type": "stream",
     "text": [
      "Time elapsed (hh:mm:ss.ms) 0:00:00.005983\n"
     ]
    }
   ],
   "source": [
    "# Reading a file with dask, size over 2 GB\n",
    "start_time = datetime.now() \n",
    "daskFile = dd.read_csv('D:\\Bizmetric\\Azure training\\Datasets\\penguins.csv')\n",
    "time_elapsed = datetime.now() - start_time \n",
    "print('Time elapsed (hh:mm:ss.ms) {}'.format(time_elapsed))"
   ]
  },
  {
   "cell_type": "code",
   "execution_count": 39,
   "id": "ea81c945",
   "metadata": {},
   "outputs": [
    {
     "name": "stdout",
     "output_type": "stream",
     "text": [
      "Time elapsed (hh:mm:ss.ms) 0:00:00.002991\n"
     ]
    }
   ],
   "source": [
    "# let's read another file for appending pandas dataframe\n",
    "start_time = datetime.now() \n",
    "pandasAppend= pd.read_csv('D:\\Bizmetric\\Azure training\\Datasets\\penguins.csv')\n",
    "time_elapsed = datetime.now() - start_time \n",
    "print('Time elapsed (hh:mm:ss.ms) {}'.format(time_elapsed))\n"
   ]
  },
  {
   "cell_type": "code",
   "execution_count": 40,
   "id": "b39e6533",
   "metadata": {},
   "outputs": [
    {
     "name": "stderr",
     "output_type": "stream",
     "text": [
      "C:\\Users\\anike\\AppData\\Local\\Temp\\ipykernel_7352\\761804479.py:3: FutureWarning: The frame.append method is deprecated and will be removed from pandas in a future version. Use pandas.concat instead.\n",
      "  finalFile= pandasfile.append(pandasAppend)\n"
     ]
    },
    {
     "data": {
      "text/html": [
       "<div>\n",
       "<style scoped>\n",
       "    .dataframe tbody tr th:only-of-type {\n",
       "        vertical-align: middle;\n",
       "    }\n",
       "\n",
       "    .dataframe tbody tr th {\n",
       "        vertical-align: top;\n",
       "    }\n",
       "\n",
       "    .dataframe thead th {\n",
       "        text-align: right;\n",
       "    }\n",
       "</style>\n",
       "<table border=\"1\" class=\"dataframe\">\n",
       "  <thead>\n",
       "    <tr style=\"text-align: right;\">\n",
       "      <th></th>\n",
       "      <th>Island</th>\n",
       "      <th>CulmenLength</th>\n",
       "      <th>CulmenDepth</th>\n",
       "      <th>FlipperLength</th>\n",
       "      <th>BodyMass</th>\n",
       "      <th>Species</th>\n",
       "    </tr>\n",
       "  </thead>\n",
       "  <tbody>\n",
       "    <tr>\n",
       "      <th>0</th>\n",
       "      <td>Torgersen</td>\n",
       "      <td>39.1</td>\n",
       "      <td>18.7</td>\n",
       "      <td>181.0</td>\n",
       "      <td>3750.0</td>\n",
       "      <td>0</td>\n",
       "    </tr>\n",
       "    <tr>\n",
       "      <th>1</th>\n",
       "      <td>Torgersen</td>\n",
       "      <td>39.5</td>\n",
       "      <td>17.4</td>\n",
       "      <td>186.0</td>\n",
       "      <td>3800.0</td>\n",
       "      <td>0</td>\n",
       "    </tr>\n",
       "    <tr>\n",
       "      <th>2</th>\n",
       "      <td>Torgersen</td>\n",
       "      <td>40.3</td>\n",
       "      <td>18.0</td>\n",
       "      <td>195.0</td>\n",
       "      <td>3250.0</td>\n",
       "      <td>0</td>\n",
       "    </tr>\n",
       "    <tr>\n",
       "      <th>3</th>\n",
       "      <td>Torgersen</td>\n",
       "      <td>0.0</td>\n",
       "      <td>0.0</td>\n",
       "      <td>0.0</td>\n",
       "      <td>0.0</td>\n",
       "      <td>0</td>\n",
       "    </tr>\n",
       "    <tr>\n",
       "      <th>4</th>\n",
       "      <td>Torgersen</td>\n",
       "      <td>36.7</td>\n",
       "      <td>19.3</td>\n",
       "      <td>193.0</td>\n",
       "      <td>3450.0</td>\n",
       "      <td>0</td>\n",
       "    </tr>\n",
       "    <tr>\n",
       "      <th>...</th>\n",
       "      <td>...</td>\n",
       "      <td>...</td>\n",
       "      <td>...</td>\n",
       "      <td>...</td>\n",
       "      <td>...</td>\n",
       "      <td>...</td>\n",
       "    </tr>\n",
       "    <tr>\n",
       "      <th>339</th>\n",
       "      <td>Dream</td>\n",
       "      <td>55.8</td>\n",
       "      <td>19.8</td>\n",
       "      <td>207.0</td>\n",
       "      <td>4000.0</td>\n",
       "      <td>2</td>\n",
       "    </tr>\n",
       "    <tr>\n",
       "      <th>340</th>\n",
       "      <td>Dream</td>\n",
       "      <td>43.5</td>\n",
       "      <td>18.1</td>\n",
       "      <td>202.0</td>\n",
       "      <td>3400.0</td>\n",
       "      <td>2</td>\n",
       "    </tr>\n",
       "    <tr>\n",
       "      <th>341</th>\n",
       "      <td>Dream</td>\n",
       "      <td>49.6</td>\n",
       "      <td>18.2</td>\n",
       "      <td>193.0</td>\n",
       "      <td>3775.0</td>\n",
       "      <td>2</td>\n",
       "    </tr>\n",
       "    <tr>\n",
       "      <th>342</th>\n",
       "      <td>Dream</td>\n",
       "      <td>50.8</td>\n",
       "      <td>19.0</td>\n",
       "      <td>210.0</td>\n",
       "      <td>4100.0</td>\n",
       "      <td>2</td>\n",
       "    </tr>\n",
       "    <tr>\n",
       "      <th>343</th>\n",
       "      <td>Dream</td>\n",
       "      <td>50.2</td>\n",
       "      <td>18.7</td>\n",
       "      <td>198.0</td>\n",
       "      <td>3775.0</td>\n",
       "      <td>2</td>\n",
       "    </tr>\n",
       "  </tbody>\n",
       "</table>\n",
       "<p>688 rows × 6 columns</p>\n",
       "</div>"
      ],
      "text/plain": [
       "        Island  CulmenLength  CulmenDepth  FlipperLength  BodyMass  Species\n",
       "0    Torgersen          39.1         18.7          181.0    3750.0        0\n",
       "1    Torgersen          39.5         17.4          186.0    3800.0        0\n",
       "2    Torgersen          40.3         18.0          195.0    3250.0        0\n",
       "3    Torgersen           0.0          0.0            0.0       0.0        0\n",
       "4    Torgersen          36.7         19.3          193.0    3450.0        0\n",
       "..         ...           ...          ...            ...       ...      ...\n",
       "339      Dream          55.8         19.8          207.0    4000.0        2\n",
       "340      Dream          43.5         18.1          202.0    3400.0        2\n",
       "341      Dream          49.6         18.2          193.0    3775.0        2\n",
       "342      Dream          50.8         19.0          210.0    4100.0        2\n",
       "343      Dream          50.2         18.7          198.0    3775.0        2\n",
       "\n",
       "[688 rows x 6 columns]"
      ]
     },
     "execution_count": 40,
     "metadata": {},
     "output_type": "execute_result"
    }
   ],
   "source": [
    "# Appending pandas dataframes\n",
    "start_time = datetime.now() \n",
    "finalFile= pandasfile.append(pandasAppend)\n",
    "time_elapsed = datetime.now() - start_time \n",
    "# print('Time elapsed (hh:mm:ss.ms) {}'.format(time_elapsed))\n",
    "finalFile"
   ]
  },
  {
   "cell_type": "code",
   "execution_count": 41,
   "id": "667fedf6",
   "metadata": {},
   "outputs": [
    {
     "name": "stdout",
     "output_type": "stream",
     "text": [
      "Time elapsed (hh:mm:ss.ms) 0:00:00.004988\n"
     ]
    }
   ],
   "source": [
    "# let's read another file for appending dask dataframe\n",
    "start_time = datetime.now() \n",
    "daskAppend = dd.read_csv('D:\\Bizmetric\\Azure training\\Datasets\\penguins.csv')\n",
    "time_elapsed = datetime.now() - start_time \n",
    "print('Time elapsed (hh:mm:ss.ms) {}'.format(time_elapsed))"
   ]
  },
  {
   "cell_type": "code",
   "execution_count": 42,
   "id": "4d5e7e67",
   "metadata": {},
   "outputs": [
    {
     "name": "stdout",
     "output_type": "stream",
     "text": [
      "Time elapsed (hh:mm:ss.ms) 0:00:00.038936\n"
     ]
    },
    {
     "name": "stderr",
     "output_type": "stream",
     "text": [
      "C:\\Users\\anike\\AppData\\Local\\Programs\\Python\\Python310\\lib\\site-packages\\dask\\dataframe\\core.py:3488: FutureWarning: The frame.append method is deprecated and will be removed fromdask in a future version. Use dask.dataframe.concat instead.\n",
      "  warnings.warn(\n"
     ]
    }
   ],
   "source": [
    "# Appending dask dataframes\n",
    "start_time = datetime.now() \n",
    "daskFinalFile= daskFile.append(daskAppend)\n",
    "time_elapsed = datetime.now() - start_time \n",
    "print('Time elapsed (hh:mm:ss.ms) {}'.format(time_elapsed))"
   ]
  },
  {
   "cell_type": "markdown",
   "id": "35aa07c7",
   "metadata": {},
   "source": [
    "## Grouping the data — Pandas & Dask:"
   ]
  },
  {
   "cell_type": "code",
   "execution_count": 43,
   "id": "a5816bea",
   "metadata": {},
   "outputs": [
    {
     "name": "stdout",
     "output_type": "stream",
     "text": [
      "Time elapsed (hh:mm:ss.ms) 0:00:00\n"
     ]
    }
   ],
   "source": [
    "# Grouping with pandas\n",
    "start_time = datetime.now() \n",
    "finalFile.groupby('Island')\n",
    "time_elapsed = datetime.now() - start_time \n",
    "print('Time elapsed (hh:mm:ss.ms) {}'.format(time_elapsed))"
   ]
  },
  {
   "cell_type": "code",
   "execution_count": 44,
   "id": "0c8c5504",
   "metadata": {},
   "outputs": [
    {
     "name": "stdout",
     "output_type": "stream",
     "text": [
      "Time elapsed (hh:mm:ss.ms) 0:00:00.000998\n"
     ]
    },
    {
     "data": {
      "text/plain": [
       "Index(['Island', 'CulmenLength', 'CulmenDepth', 'FlipperLength', 'BodyMass',\n",
       "       'Species'],\n",
       "      dtype='object')"
      ]
     },
     "execution_count": 44,
     "metadata": {},
     "output_type": "execute_result"
    }
   ],
   "source": [
    "# Grouping with dask\n",
    "\n",
    "start_time = datetime.now() \n",
    "daskFinalFile.groupby('Island')\n",
    "time_elapsed = datetime.now()- start_time \n",
    "print('Time elapsed (hh:mm:ss.ms) {}'.format(time_elapsed))\n",
    "daskFinalFile.columns"
   ]
  },
  {
   "cell_type": "markdown",
   "id": "882aa5cf",
   "metadata": {},
   "source": [
    "## Merging the datasets with pandas"
   ]
  },
  {
   "cell_type": "code",
   "execution_count": 45,
   "id": "1b61575b",
   "metadata": {},
   "outputs": [
    {
     "name": "stdout",
     "output_type": "stream",
     "text": [
      "Time elapsed (hh:mm:ss.ms) 0:00:00.246001\n"
     ]
    }
   ],
   "source": [
    "# Merging the datasets with pandas\n",
    "start_time = datetime.now() \n",
    "mergedPandas= pd.merge(pandasfile, pandasAppend, on=\"Island\")\n",
    "time_elapsed = datetime.now() - start_time \n",
    "print('Time elapsed (hh:mm:ss.ms) {}'.format(time_elapsed))"
   ]
  },
  {
   "cell_type": "code",
   "execution_count": 46,
   "id": "e130e83e",
   "metadata": {},
   "outputs": [
    {
     "name": "stdout",
     "output_type": "stream",
     "text": [
      "Time elapsed (hh:mm:ss.ms) 0:00:00.518241\n"
     ]
    }
   ],
   "source": [
    "# Merging the datasets with dask\n",
    "start_time = datetime.now() \n",
    "mergedDask= dd.merge(daskFile, daskAppend, on=\"Island\")\n",
    "time_elapsed = datetime.now() - start_time \n",
    "print('Time elapsed (hh:mm:ss.ms) {}'.format(time_elapsed))"
   ]
  },
  {
   "cell_type": "code",
   "execution_count": 47,
   "id": "cca570b4",
   "metadata": {},
   "outputs": [
    {
     "name": "stdout",
     "output_type": "stream",
     "text": [
      "Time elapsed (hh:mm:ss.ms) 0:00:00.000999\n"
     ]
    }
   ],
   "source": [
    "# Sorting the data using pandas\n",
    "start_time = datetime.now() \n",
    "sortedPandas=finalFile.sort_values(by='Island')\n",
    "time_elapsed = datetime.now() - start_time \n",
    "print('Time elapsed (hh:mm:ss.ms) {}'.format(time_elapsed))"
   ]
  },
  {
   "cell_type": "code",
   "execution_count": 48,
   "id": "5be4c600",
   "metadata": {},
   "outputs": [
    {
     "name": "stdout",
     "output_type": "stream",
     "text": [
      "Time elapsed (hh:mm:ss.ms) 0:00:00.016926\n"
     ]
    }
   ],
   "source": [
    "# Getting not NA values using pandas\n",
    "start_time = datetime.now() \n",
    "notnaPandas=finalFile.notna()\n",
    "time_elapsed = datetime.now() - start_time \n",
    "print('Time elapsed (hh:mm:ss.ms) {}'.format(time_elapsed))"
   ]
  },
  {
   "cell_type": "code",
   "execution_count": 49,
   "id": "fb508588",
   "metadata": {},
   "outputs": [
    {
     "name": "stdout",
     "output_type": "stream",
     "text": [
      "Time elapsed (hh:mm:ss.ms) 0:00:00.008975\n"
     ]
    }
   ],
   "source": [
    "# Getting unique values using pandas\n",
    "start_time = datetime.now() \n",
    "uniquePandas=pd.unique(pandasfile['Island'])\n",
    "time_elapsed = datetime.now() - start_time \n",
    "print('Time elapsed (hh:mm:ss.ms) {}'.format(time_elapsed))"
   ]
  },
  {
   "cell_type": "code",
   "execution_count": 50,
   "id": "c1410eff",
   "metadata": {},
   "outputs": [
    {
     "name": "stdout",
     "output_type": "stream",
     "text": [
      "Time elapsed (hh:mm:ss.ms) 0:00:00.003994\n"
     ]
    }
   ],
   "source": [
    "# Getting not NA values using dask\n",
    "start_time = datetime.now() \n",
    "notnaDask=daskFinalFile.notnull()\n",
    "time_elapsed = datetime.now() - start_time \n",
    "print('Time elapsed (hh:mm:ss.ms) {}'.format(time_elapsed))"
   ]
  },
  {
   "cell_type": "code",
   "execution_count": 51,
   "id": "54ba28a4",
   "metadata": {},
   "outputs": [
    {
     "name": "stdout",
     "output_type": "stream",
     "text": [
      "Time elapsed (hh:mm:ss.ms): 0:00:01.421899\n"
     ]
    }
   ],
   "source": [
    "# Getting unique values using dask\n",
    "start_time = datetime.now()\n",
    "notnaDask = daskFinalFile['Island'].drop_duplicates()\n",
    "time_elapsed = datetime.now() - start_time\n",
    "print('Time elapsed (hh:mm:ss.ms): {}'.format(time_elapsed))\n"
   ]
  },
  {
   "cell_type": "code",
   "execution_count": 72,
   "id": "c46fdff0",
   "metadata": {},
   "outputs": [],
   "source": [
    "# saving a file using pandas\n",
    "# start_time = datetime.now() \n",
    "#uniquePandas.to_csv('FinalFileNEW.csv',index=False)\n",
    "# time_elapsed = datetime.now() - start_time \n",
    "# print('Time elapsed (hh:mm:ss.ms) {}'.format(time_elapsed))"
   ]
  },
  {
   "cell_type": "code",
   "execution_count": 52,
   "id": "38e838a3",
   "metadata": {},
   "outputs": [
    {
     "name": "stdout",
     "output_type": "stream",
     "text": [
      "Time elapsed (hh:mm:ss.ms) 0:00:01.951180\n"
     ]
    }
   ],
   "source": [
    "# saving a file using pandas\n",
    "start_time = datetime.now() \n",
    "finalFile.to_csv(\"finalFileCSV.csv\",index=False)\n",
    "time_elapsed = datetime.now() - start_time \n",
    "print('Time elapsed (hh:mm:ss.ms) {}'.format(time_elapsed))\n"
   ]
  },
  {
   "cell_type": "code",
   "execution_count": 53,
   "id": "5cc8e7c1",
   "metadata": {},
   "outputs": [
    {
     "name": "stdout",
     "output_type": "stream",
     "text": [
      "Time elapsed (hh:mm:ss.ms) 0:00:00.013965\n"
     ]
    }
   ],
   "source": [
    "# saving a file using dask\n",
    "start_time = datetime.now() \n",
    "daskFinalFile.to_csv('DaskFinalFile.csv')\n",
    "time_elapsed = datetime.now() - start_time \n",
    "print('Time elapsed (hh:mm:ss.ms) {}'.format(time_elapsed))"
   ]
  },
  {
   "cell_type": "code",
   "execution_count": null,
   "id": "d65f1989",
   "metadata": {},
   "outputs": [],
   "source": []
  }
 ],
 "metadata": {
  "kernelspec": {
   "display_name": "Python 3 (ipykernel)",
   "language": "python",
   "name": "python3"
  },
  "language_info": {
   "codemirror_mode": {
    "name": "ipython",
    "version": 3
   },
   "file_extension": ".py",
   "mimetype": "text/x-python",
   "name": "python",
   "nbconvert_exporter": "python",
   "pygments_lexer": "ipython3",
   "version": "3.10.5"
  }
 },
 "nbformat": 4,
 "nbformat_minor": 5
}
