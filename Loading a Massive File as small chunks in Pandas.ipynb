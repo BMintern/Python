{
 "cells": [
  {
   "cell_type": "markdown",
   "id": "62a5ec46",
   "metadata": {},
   "source": [
    "# Loading a Massive File as small chunks in Pandas"
   ]
  },
  {
   "cell_type": "code",
   "execution_count": 6,
   "id": "58a4d054",
   "metadata": {},
   "outputs": [
    {
     "data": {
      "text/plain": [
       "Index(['Age', 'Gender', 'Education Level', 'Job Title', 'Years of Experience',\n",
       "       'Salary'],\n",
       "      dtype='object')"
      ]
     },
     "execution_count": 6,
     "metadata": {},
     "output_type": "execute_result"
    }
   ],
   "source": [
    "import pandas as pd\n",
    "from pprint import pprint\n",
    "  \n",
    "df = pd.read_csv('C:/Users/anike/Downloads/Dataframe.csv')\n",
    "\n",
    "  \n",
    "df.columns"
   ]
  },
  {
   "cell_type": "code",
   "execution_count": 7,
   "id": "a568ddc9",
   "metadata": {},
   "outputs": [
    {
     "name": "stdout",
     "output_type": "stream",
     "text": [
      "<class 'pandas.core.frame.DataFrame'>\n",
      "RangeIndex: 99 entries, 0 to 98\n",
      "Data columns (total 6 columns):\n",
      " #   Column               Non-Null Count  Dtype  \n",
      "---  ------               --------------  -----  \n",
      " 0   Age                  99 non-null     int64  \n",
      " 1   Gender               99 non-null     object \n",
      " 2   Education Level      99 non-null     object \n",
      " 3   Job Title            98 non-null     object \n",
      " 4   Years of Experience  98 non-null     float64\n",
      " 5   Salary               99 non-null     int64  \n",
      "dtypes: float64(1), int64(2), object(3)\n",
      "memory usage: 4.8+ KB\n"
     ]
    }
   ],
   "source": [
    "df.info()"
   ]
  },
  {
   "cell_type": "code",
   "execution_count": 8,
   "id": "4c046292",
   "metadata": {},
   "outputs": [
    {
     "name": "stdout",
     "output_type": "stream",
     "text": [
      "<pandas.io.parsers.readers.TextFileReader object at 0x0000022FA5059FF0>\n"
     ]
    }
   ],
   "source": [
    "df = pd.read_csv(\"C:/Users/anike/Downloads/Dataframe.csv\", chunksize=10000)\n",
    "print(df)"
   ]
  },
  {
   "cell_type": "code",
   "execution_count": 9,
   "id": "68b30d2e",
   "metadata": {},
   "outputs": [
    {
     "name": "stdout",
     "output_type": "stream",
     "text": [
      "(99, 6)\n"
     ]
    }
   ],
   "source": [
    "for data in df:\n",
    "    pprint(data.shape)"
   ]
  },
  {
   "cell_type": "code",
   "execution_count": 5,
   "id": "5240f84d",
   "metadata": {},
   "outputs": [
    {
     "name": "stdout",
     "output_type": "stream",
     "text": [
      "   Age  Gender Education Level              Job Title  Years of Experience  \\\n",
      "0   32    Male      Bachelor's      Software Engineer                  5.0   \n",
      "1   28  Female        Master's           Data Analyst                  3.0   \n",
      "2   45    Male             PhD         Senior Manager                  NaN   \n",
      "3   36  Female      Bachelor's        Sales Associate                  7.0   \n",
      "4   52    Male        Master's               Director                 20.0   \n",
      "5   29    Male      Bachelor's      Marketing Analyst                  2.0   \n",
      "6   42  Female        Master's        Product Manager                 12.0   \n",
      "7   31    Male      Bachelor's          Sales Manager                  4.0   \n",
      "8   26  Female      Bachelor's  Marketing Coordinator                  1.0   \n",
      "9   38    Male             PhD       Senior Scientist                 10.0   \n",
      "\n",
      "   Salary  \n",
      "0   90000  \n",
      "1   65000  \n",
      "2  150000  \n",
      "3   60000  \n",
      "4  200000  \n",
      "5   55000  \n",
      "6  120000  \n",
      "7   80000  \n",
      "8   45000  \n",
      "9  110000  \n"
     ]
    }
   ],
   "source": [
    "df = pd.read_csv(\"C:/Users/anike/Downloads/Dataframe.csv\", chunksize=10)\n",
    "  \n",
    "for data in df:\n",
    "    pprint(data)\n",
    "    break"
   ]
  },
  {
   "cell_type": "code",
   "execution_count": null,
   "id": "bd0cb87f",
   "metadata": {},
   "outputs": [],
   "source": []
  }
 ],
 "metadata": {
  "kernelspec": {
   "display_name": "Python 3 (ipykernel)",
   "language": "python",
   "name": "python3"
  },
  "language_info": {
   "codemirror_mode": {
    "name": "ipython",
    "version": 3
   },
   "file_extension": ".py",
   "mimetype": "text/x-python",
   "name": "python",
   "nbconvert_exporter": "python",
   "pygments_lexer": "ipython3",
   "version": "3.10.5"
  }
 },
 "nbformat": 4,
 "nbformat_minor": 5
}
