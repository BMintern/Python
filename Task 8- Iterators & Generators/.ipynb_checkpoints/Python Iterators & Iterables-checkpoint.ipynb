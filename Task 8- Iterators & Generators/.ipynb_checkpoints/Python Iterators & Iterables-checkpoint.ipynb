{
 "cells": [
  {
   "cell_type": "markdown",
   "id": "445c4202",
   "metadata": {},
   "source": [
    "# Iterators:\n",
    " In Python, an iterator is an object that allows you to iterate over collections of data, such as lists, tuples, dictionaries, and sets.\n",
    " Python iterators implement the iterator design pattern, which allows you to traverse a container and access its elements."
   ]
  },
  {
   "cell_type": "markdown",
   "id": "86daaf84",
   "metadata": {},
   "source": [
    "# Iterables:\n",
    "Iterables are objects capable of returning their members one at a time – they can be iterated over. Popular built-in Python data structures such as lists, tuples, and sets qualify as iterables. Other data structures like strings and dictionaries are also considered iterables: a string can produce iteration of its characters, and the keys of a dictionary can be iterated upon."
   ]
  },
  {
   "cell_type": "markdown",
   "id": "a62c26ef",
   "metadata": {},
   "source": [
    "### Exploring Python iterables with examples"
   ]
  },
  {
   "cell_type": "code",
   "execution_count": 4,
   "id": "7beb851c",
   "metadata": {},
   "outputs": [
    {
     "name": "stdout",
     "output_type": "stream",
     "text": [
      "<list_iterator object at 0x000002072703FF70>\n"
     ]
    }
   ],
   "source": [
    "list_instance = [1, 2, 3, 4]\n",
    "print(iter(list_instance))"
   ]
  },
  {
   "cell_type": "markdown",
   "id": "f73fc350",
   "metadata": {},
   "source": [
    "#### Explantion:\n",
    "\n",
    "• This code creates a list called list_instance with four elements.\n",
    "\n",
    "• Then, the iter() function is called on list_instance, which returns an iterator object that can be used to iterate over the elements of the list.\n",
    "\n",
    "• Finally, the print() function is used to display the iterator object, which is represented as in the output.\n",
    "\n",
    "• This output shows that the iterator object has been successfully created and is ready to be used to iterate over the elements of the list."
   ]
  },
  {
   "cell_type": "markdown",
   "id": "43717ca7",
   "metadata": {},
   "source": [
    "#### Note: \n",
    "Although the list by itself is not an iterator, calling the iter() function converts it to an iterator and returns the iterator object."
   ]
  },
  {
   "cell_type": "markdown",
   "id": "5dcef6c8",
   "metadata": {},
   "source": [
    "#### not all all iterables are iterators:\n",
    "To demonstrate that not all iterables are iterators, we will instantiate the same list object and attempt to call the next() function, which is used to return the next item in an iterator. "
   ]
  },
  {
   "cell_type": "code",
   "execution_count": 6,
   "id": "6d83fc5c",
   "metadata": {},
   "outputs": [
    {
     "ename": "TypeError",
     "evalue": "'list' object is not an iterator",
     "output_type": "error",
     "traceback": [
      "\u001b[1;31m---------------------------------------------------------------------------\u001b[0m",
      "\u001b[1;31mTypeError\u001b[0m                                 Traceback (most recent call last)",
      "\u001b[1;32m~\\AppData\\Local\\Temp\\ipykernel_23508\\1387160529.py\u001b[0m in \u001b[0;36m<module>\u001b[1;34m\u001b[0m\n\u001b[0;32m      1\u001b[0m \u001b[0mlist_instance\u001b[0m \u001b[1;33m=\u001b[0m \u001b[1;33m[\u001b[0m\u001b[1;36m1\u001b[0m\u001b[1;33m,\u001b[0m \u001b[1;36m2\u001b[0m\u001b[1;33m,\u001b[0m \u001b[1;36m3\u001b[0m\u001b[1;33m,\u001b[0m \u001b[1;36m4\u001b[0m\u001b[1;33m]\u001b[0m\u001b[1;33m\u001b[0m\u001b[1;33m\u001b[0m\u001b[0m\n\u001b[1;32m----> 2\u001b[1;33m \u001b[0mprint\u001b[0m\u001b[1;33m(\u001b[0m\u001b[0mnext\u001b[0m\u001b[1;33m(\u001b[0m\u001b[0mlist_instance\u001b[0m\u001b[1;33m)\u001b[0m\u001b[1;33m)\u001b[0m\u001b[1;33m\u001b[0m\u001b[1;33m\u001b[0m\u001b[0m\n\u001b[0m",
      "\u001b[1;31mTypeError\u001b[0m: 'list' object is not an iterator"
     ]
    }
   ],
   "source": [
    "list_instance = [1, 2, 3, 4]\n",
    "print(next(list_instance))"
   ]
  },
  {
   "cell_type": "markdown",
   "id": "caa4d1c1",
   "metadata": {},
   "source": [
    "#### Explantion:\n",
    "This code creates a list called list_instance with four elements.\n",
    "• Then, it tries to use the next() function on the list, which raises a TypeError because lists are not iterators.\n",
    "• To iterate over a list, you need to first convert it to an iterator using the iter() function."
   ]
  },
  {
   "cell_type": "markdown",
   "id": "3d15892f",
   "metadata": {},
   "source": [
    "In the code above, you can see that attempting to call the next() function on the list raised a TypeError – learn more about Exception and Error Handling in Python. This behavior occurred for the simple fact that a list object is an iterable and not an iterator. "
   ]
  },
  {
   "cell_type": "markdown",
   "id": "ffa8a7c9",
   "metadata": {},
   "source": [
    "# Exploring Python iterators with examples:\n",
    "Thus, if the goal is to iterate on a list, then an iterator object must first be produced. Only then can we manage the iteration through the values of the list."
   ]
  },
  {
   "cell_type": "code",
   "execution_count": 7,
   "id": "aa34401a",
   "metadata": {},
   "outputs": [
    {
     "name": "stdout",
     "output_type": "stream",
     "text": [
      "1\n",
      "2\n",
      "3\n",
      "4\n"
     ]
    }
   ],
   "source": [
    "# instantiate a list object\n",
    "list_instance = [1, 2, 3, 4]\n",
    "\n",
    "# convert the list to an iterator\n",
    "iterator = iter(list_instance)\n",
    "\n",
    "# return items one at a time\n",
    "print(next(iterator))\n",
    "print(next(iterator))\n",
    "print(next(iterator))\n",
    "print(next(iterator))"
   ]
  },
  {
   "cell_type": "markdown",
   "id": "feff0c74",
   "metadata": {},
   "source": [
    "#### Explantion:\n",
    "• This code creates a list object called list_instance with four elements.\n",
    "\n",
    "• Then, it converts the list to an iterator using the iter() function and assigns it to the variable iterator.\n",
    "\n",
    "• The next() function is used to retrieve the next item in the iterator.\n",
    "\n",
    "• The first next() call returns the first item in the iterator, which is the first element of the original list (1).\n",
    "\n",
    "• The second next() call returns the second item in the iterator, which is the second element of the original list (2).\n",
    "\n",
    "• This process continues until all items in the iterator have been returned.\n",
    "\n",
    "• Finally, the print() function is used to display each item returned by the next() function.\n",
    "\n",
    "• The output shows each element of the original list printed on a separate line."
   ]
  },
  {
   "cell_type": "markdown",
   "id": "efc88252",
   "metadata": {},
   "source": [
    "Python automatically produces an iterator object whenever you attempt to loop through an iterable object. "
   ]
  },
  {
   "cell_type": "code",
   "execution_count": 9,
   "id": "9c235e4a",
   "metadata": {},
   "outputs": [
    {
     "name": "stdout",
     "output_type": "stream",
     "text": [
      "1\n",
      "2\n",
      "3\n",
      "4\n"
     ]
    }
   ],
   "source": [
    "# instantiate a list object\n",
    "list_instance = [1, 2, 3, 4]\n",
    "\n",
    "# loop through the list\n",
    "for iterator in list_instance:\n",
    "    print(iterator)"
   ]
  },
  {
   "cell_type": "markdown",
   "id": "f2eb9cf9",
   "metadata": {},
   "source": [
    "#### Explantion:\n",
    "• This code creates a list object called list_instance with four elements: 1, 2, 3, and 4.\n",
    "\n",
    "• Then, it uses a for loop to iterate through each element in the list and print it out.\n",
    "\n",
    "• The loop variable iterator takes on the value of each element in the list in turn, and the print() function is called with iterator as its argument to display the value of the current element.\n",
    "\n",
    "• The output of this code is the numbers 1 through 4 printed on separate lines."
   ]
  },
  {
   "cell_type": "markdown",
   "id": "363fee41",
   "metadata": {},
   "source": [
    "#### Note:\n",
    "When the StopIteration exception is caught, then the loop ends.\n",
    "\n",
    "The values obtained from an iterator can only be retrieved from left to right. Python does not have a previous() function to enable developers to move backward through an iterator. "
   ]
  },
  {
   "cell_type": "markdown",
   "id": "8d123c33",
   "metadata": {},
   "source": [
    "## The lazy nature of iterators"
   ]
  },
  {
   "cell_type": "markdown",
   "id": "684ba99f",
   "metadata": {},
   "source": [
    "It is possible to define multiple iterators based on the same iterable object. Each iterator will maintain its own state of progress. Thus, by defining multiple iterator instances of an iterable object, it is possible to iterate to the end of one instance while the other instance remains at the beginning."
   ]
  },
  {
   "cell_type": "code",
   "execution_count": 10,
   "id": "d8a60b76",
   "metadata": {},
   "outputs": [
    {
     "name": "stdout",
     "output_type": "stream",
     "text": [
      "A: 1\n",
      "A: 2\n",
      "A: 3\n",
      "A: 4\n",
      "B: 1\n"
     ]
    }
   ],
   "source": [
    "list_instance = [1, 2, 3, 4]\n",
    "iterator_a = iter(list_instance)\n",
    "iterator_b = iter(list_instance)\n",
    "print(f\"A: {next(iterator_a)}\")\n",
    "print(f\"A: {next(iterator_a)}\")\n",
    "print(f\"A: {next(iterator_a)}\")\n",
    "print(f\"A: {next(iterator_a)}\")\n",
    "print(f\"B: {next(iterator_b)}\")"
   ]
  },
  {
   "cell_type": "markdown",
   "id": "185f7f57",
   "metadata": {},
   "source": [
    "#### Explaination:\n",
    "• This code creates a list called list_instance with four elements.\n",
    "\n",
    "• Then, it creates two iterators, iterator_a and iterator_b, both pointing to the beginning of the list.\n",
    "\n",
    "• The next() function is used to retrieve the next element from the iterator.\n",
    "\n",
    "• In this case, next(iterator_a) is called four times, printing the first four elements of the list.\n",
    "\n",
    "• After that, next(iterator_b) is called once, printing the first element of the list again.\n",
    "\n",
    "• This happens because iterator_a has already iterated through the entire list, so when iterator_b is called, it starts from the beginning of the list again.\n",
    "\n",
    "• The output of the code is:``A: 1A: 2A: 3A: 4B: 1``"
   ]
  },
  {
   "cell_type": "code",
   "execution_count": null,
   "id": "6abb9f0f",
   "metadata": {},
   "outputs": [],
   "source": []
  },
  {
   "cell_type": "markdown",
   "id": "0602b141",
   "metadata": {},
   "source": [
    "Notice iterator_b prints the first element of the series.\n",
    "\n",
    "Thus, we can say iterators have a lazy nature: when an iterator is created, the elements are not yielded until they are requested. In other words, the elements of our list instance would only be returned once we explicitly ask them to be with next(iter(list_instance)). \n",
    "\n",
    "However, all of the values from an iterator may be extracted at once by calling a built-in iterable data structure container (i.e., list(), set(), tuple()) on the iterator object to force the iterator to generate all its elements at once."
   ]
  },
  {
   "cell_type": "code",
   "execution_count": 11,
   "id": "67d645e4",
   "metadata": {},
   "outputs": [
    {
     "name": "stdout",
     "output_type": "stream",
     "text": [
      "[1, 2, 3, 4]\n"
     ]
    }
   ],
   "source": [
    "# instantiate iterable\n",
    "list_instance = [1, 2, 3, 4]\n",
    "\n",
    "# produce an iterator from an iterable\n",
    "iterator = iter(list_instance)\n",
    "print(list(iterator))"
   ]
  },
  {
   "cell_type": "code",
   "execution_count": null,
   "id": "88d6cfd4",
   "metadata": {},
   "outputs": [],
   "source": []
  }
 ],
 "metadata": {
  "kernelspec": {
   "display_name": "Python 3 (ipykernel)",
   "language": "python",
   "name": "python3"
  },
  "language_info": {
   "codemirror_mode": {
    "name": "ipython",
    "version": 3
   },
   "file_extension": ".py",
   "mimetype": "text/x-python",
   "name": "python",
   "nbconvert_exporter": "python",
   "pygments_lexer": "ipython3",
   "version": "3.10.9"
  }
 },
 "nbformat": 4,
 "nbformat_minor": 5
}
