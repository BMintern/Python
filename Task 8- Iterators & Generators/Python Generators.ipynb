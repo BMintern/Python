{
 "cells": [
  {
   "cell_type": "markdown",
   "id": "919f0bd2",
   "metadata": {},
   "source": [
    "# Generators:\n",
    "In Python, a generator is a function that returns an iterator that produces a sequence of values when iterated over. Generators are useful when we want to produce a large sequence of values, but we don't want to store all of them in memory at once."
   ]
  },
  {
   "cell_type": "code",
   "execution_count": 1,
   "id": "3b5d1745",
   "metadata": {},
   "outputs": [
    {
     "name": "stdout",
     "output_type": "stream",
     "text": [
      "[1, 2, 4, 5, 10, 20]\n"
     ]
    }
   ],
   "source": [
    "def factors(n):\n",
    "    factor_list = []\n",
    "    for val in range(1, n+1):\n",
    "        if n % val == 0:\n",
    "            factor_list.append(val)\n",
    "    return factor_list\n",
    "\n",
    "print(factors(20))"
   ]
  },
  {
   "cell_type": "markdown",
   "id": "4cadf992",
   "metadata": {},
   "source": [
    "#### Explaination:\n",
    "• This code defines a function called factors that takes an integer n as input.\n",
    "\n",
    "• The function creates an empty list called factor_list.\n",
    "\n",
    "• It then loops through all the values from 1 to n (inclusive) using the range function.\n",
    "\n",
    "• For each value, it checks if n is divisible by that value using the modulo operator (%).\n",
    "\n",
    "• If n is divisible by the value, it appends the value to the factor_list.\n",
    "\n",
    "• Finally, the function returns the factor_list.\n",
    "\n",
    "• The code then calls the factors function with an input of 20 and prints the result, which is a list of all the factors of 20: [1, 2, 4, 5, 10, 20]."
   ]
  },
  {
   "cell_type": "markdown",
   "id": "ac4fd8ea",
   "metadata": {},
   "source": [
    "The code above returns the entire list of factors. However, notice the difference when a generator is used instead of a traditional Python function:"
   ]
  },
  {
   "cell_type": "code",
   "execution_count": 2,
   "id": "ba089f30",
   "metadata": {},
   "outputs": [
    {
     "name": "stdout",
     "output_type": "stream",
     "text": [
      "<generator object factors at 0x000001CD3BB65150>\n"
     ]
    }
   ],
   "source": [
    "def factors(n):\n",
    "    for val in range(1, n+1):\n",
    "        if n % val == 0:\n",
    "            yield val\n",
    "print(factors(20))\n"
   ]
  },
  {
   "cell_type": "markdown",
   "id": "278371e9",
   "metadata": {},
   "source": [
    "#### Explaination:\n",
    "• This code defines a function called factors that takes an integer n as input.\n",
    "\n",
    "• The function then uses a for loop to iterate over a range of numbers from 1 to n+1.\n",
    "\n",
    "• For each number in the range, the function checks if n is divisible by that number using the modulo operator (%).\n",
    "\n",
    "• If n is divisible by the number, the function uses the yield keyword to return the number as a generator object.\n",
    "\n",
    "• The print statement then calls the factors function with an argument of 20 and prints the resulting generator object.\n",
    "\n",
    "• The output of the print statement is the memory location of the generator object, indicated by the hexadecimal number."
   ]
  },
  {
   "cell_type": "markdown",
   "id": "35460d3f",
   "metadata": {},
   "source": [
    "Since we used the yield keyword instead of return, the function is not exited after the run. In essence, we told Python to create a generator object instead of a traditional function, which enables the state of the generator object to be tracked. \n",
    "\n",
    "Consequently, it is possible to call the next() function on the lazy iterator to show the elements of the series one at a time. "
   ]
  },
  {
   "cell_type": "code",
   "execution_count": 5,
   "id": "eca2cec6",
   "metadata": {},
   "outputs": [
    {
     "name": "stdout",
     "output_type": "stream",
     "text": [
      "1\n"
     ]
    }
   ],
   "source": [
    "def factors(n):\n",
    "    for val in range(1, n+1):\n",
    "        if n % val == 0:\n",
    "            yield val\n",
    "\n",
    "factors_of_20 = factors(20)\n",
    "print(next(factors_of_20))"
   ]
  },
  {
   "cell_type": "markdown",
   "id": "0105cfb1",
   "metadata": {},
   "source": [
    "Another way to create a generator is with a generator comprehension. Generator expressions adopt a similar syntax to that of a list comprehension, except it uses rounded brackets instead of squared."
   ]
  },
  {
   "cell_type": "code",
   "execution_count": 6,
   "id": "68e44ef8",
   "metadata": {},
   "outputs": [
    {
     "name": "stdout",
     "output_type": "stream",
     "text": [
      "<generator object <genexpr> at 0x000001CD3BCBD770>\n"
     ]
    }
   ],
   "source": [
    "print((val for val in range(1, 20+1) if n % val == 0))"
   ]
  },
  {
   "cell_type": "markdown",
   "id": "6c299709",
   "metadata": {},
   "source": [
    "## Exploring Python’s yield Keyword"
   ]
  },
  {
   "cell_type": "markdown",
   "id": "ab661ede",
   "metadata": {},
   "source": [
    "The yield keyword controls the flow of a generator function. Instead of exiting the function as seen when return is used, the yield keyword returns the function but remembers the state of its local variables.\n",
    "\n",
    "The generator returned from the yield call can be assigned to a variable and iterated upon with the next() keyword – this will execute the function up to the first yield keyword it encounters. Once the yield keyword is hit, the execution of the function is suspended. When this occurs, the function's state is saved. Thus, it is possible for us to resume the function execution at our own will. \n",
    "\n",
    "The function will continue from the call to yield. For example: "
   ]
  },
  {
   "cell_type": "code",
   "execution_count": 8,
   "id": "94edccb6",
   "metadata": {},
   "outputs": [
    {
     "name": "stdout",
     "output_type": "stream",
     "text": [
      "This is the first statment\n",
      "This is the second statement\n",
      "This is the third statement\n",
      "This is the last statement. Don't call next again!\n"
     ]
    },
    {
     "ename": "StopIteration",
     "evalue": "",
     "output_type": "error",
     "traceback": [
      "\u001b[1;31m---------------------------------------------------------------------------\u001b[0m",
      "\u001b[1;31mStopIteration\u001b[0m                             Traceback (most recent call last)",
      "\u001b[1;32m~\\AppData\\Local\\Temp\\ipykernel_7584\\3562404853.py\u001b[0m in \u001b[0;36m<module>\u001b[1;34m\u001b[0m\n\u001b[0;32m      9\u001b[0m \u001b[0mprint\u001b[0m\u001b[1;33m(\u001b[0m\u001b[0mnext\u001b[0m\u001b[1;33m(\u001b[0m\u001b[0mexample\u001b[0m\u001b[1;33m)\u001b[0m\u001b[1;33m)\u001b[0m\u001b[1;33m\u001b[0m\u001b[1;33m\u001b[0m\u001b[0m\n\u001b[0;32m     10\u001b[0m \u001b[0mprint\u001b[0m\u001b[1;33m(\u001b[0m\u001b[0mnext\u001b[0m\u001b[1;33m(\u001b[0m\u001b[0mexample\u001b[0m\u001b[1;33m)\u001b[0m\u001b[1;33m)\u001b[0m\u001b[1;33m\u001b[0m\u001b[1;33m\u001b[0m\u001b[0m\n\u001b[1;32m---> 11\u001b[1;33m \u001b[0mprint\u001b[0m\u001b[1;33m(\u001b[0m\u001b[0mnext\u001b[0m\u001b[1;33m(\u001b[0m\u001b[0mexample\u001b[0m\u001b[1;33m)\u001b[0m\u001b[1;33m)\u001b[0m\u001b[1;33m\u001b[0m\u001b[1;33m\u001b[0m\u001b[0m\n\u001b[0m",
      "\u001b[1;31mStopIteration\u001b[0m: "
     ]
    }
   ],
   "source": [
    "def yield_multiple_statments():\n",
    "    yield \"This is the first statment\"\n",
    "    yield \"This is the second statement\"\n",
    "    yield \"This is the third statement\"\n",
    "    yield \"This is the last statement. Don't call next again!\"\n",
    "example = yield_multiple_statments()\n",
    "print(next(example))\n",
    "print(next(example))\n",
    "print(next(example))\n",
    "print(next(example))\n",
    "print(next(example))"
   ]
  },
  {
   "cell_type": "markdown",
   "id": "3c41424d",
   "metadata": {},
   "source": [
    "#### Explaination:\n",
    "• This code defines a generator function called yield_multiple_statements() that yields four different strings when called.\n",
    "\n",
    "• The yield keyword is used to return a value from the function without actually stopping the function's execution.\n",
    "\n",
    "• When the function is called and assigned to the variable example, it creates a generator object.\n",
    "\n",
    "• The next() function is then used to retrieve the next value from the generator object each time it is called.\n",
    "• The first print() statement retrieves the first value from the generator object, which is \"This is the first statement\".\n",
    "• The next three print() statements retrieve the next three values in the same way.\n",
    "• However, when next() is called for the fifth time, there are no more values to yield from the generator object, so a StopIteration error is raised."
   ]
  },
  {
   "cell_type": "markdown",
   "id": "c12fd8c6",
   "metadata": {},
   "source": [
    "In the code above, our generator has four yield calls, but we attempt to call next on it five times, which raised a StopIteration exception. This behavior occurred because our generator is not an infinite series, so calling it more times than expected exhausted the generator."
   ]
  },
  {
   "cell_type": "markdown",
   "id": "bfebfd67",
   "metadata": {},
   "source": [
    "# Wrap-Up \n"
   ]
  },
  {
   "cell_type": "markdown",
   "id": "ec1c9891",
   "metadata": {},
   "source": [
    "To recap, iterators are objects that can be iterated on, and generators are special functions that leverage lazy evaluation. Implementing your own iterator means you must create an __iter__() and __next__() method, whereas a generator can be implemented using the yield keyword in a Python function or comprehension. \n",
    "\n",
    "You may prefer to use a custom iterator over a generator when you require an object with complex state-maintaining behavior or if you wish to expose other methods beyond __next__(), __iter__(), and __init__(). On the other hand, a generator may be preferable when dealing with large sets of data since they do not store their contents in memory or when it is not necessary to implement an iterator. "
   ]
  },
  {
   "cell_type": "code",
   "execution_count": null,
   "id": "304e45f7",
   "metadata": {},
   "outputs": [],
   "source": []
  }
 ],
 "metadata": {
  "kernelspec": {
   "display_name": "Python 3 (ipykernel)",
   "language": "python",
   "name": "python3"
  },
  "language_info": {
   "codemirror_mode": {
    "name": "ipython",
    "version": 3
   },
   "file_extension": ".py",
   "mimetype": "text/x-python",
   "name": "python",
   "nbconvert_exporter": "python",
   "pygments_lexer": "ipython3",
   "version": "3.10.9"
  }
 },
 "nbformat": 4,
 "nbformat_minor": 5
}
