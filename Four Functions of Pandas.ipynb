{
 "cells": [
  {
   "cell_type": "code",
   "execution_count": 1,
   "id": "2c87537a",
   "metadata": {},
   "outputs": [],
   "source": [
    "import pandas as pd"
   ]
  },
  {
   "cell_type": "code",
   "execution_count": 2,
   "id": "7b4ccdab",
   "metadata": {},
   "outputs": [
    {
     "data": {
      "text/plain": [
       "Index(['name', 'EmpID', 'EmpStatusID', 'DeptID', 'PerfScoreID', 'Salary',\n",
       "       'Termd', 'PositionID', 'Position', 'Hiring location', 'Zip', 'DOB',\n",
       "       'Sex', 'MaritalDesc', 'Citizenship', 'DateofJoining',\n",
       "       'DateofTermination', 'TermReason', 'EmploymentStatus', 'Training hours',\n",
       "       'Trainings', 'Department', 'ManagerName', 'Recruitment Source',\n",
       "       'PerformanceScore', 'EngagementSurvey', 'Zip.1',\n",
       "       'LastPerformanceReview_Date', 'DaysLateLast30', 'Absences', 'EmpType',\n",
       "       'OTHours'],\n",
       "      dtype='object')"
      ]
     },
     "execution_count": 2,
     "metadata": {},
     "output_type": "execute_result"
    }
   ],
   "source": [
    "import pandas as pd\n",
    "data = pd.read_csv(\"demofile.csv\")\n",
    "\n",
    "data.columns"
   ]
  },
  {
   "cell_type": "code",
   "execution_count": 5,
   "id": "eae26b49",
   "metadata": {},
   "outputs": [
    {
     "name": "stderr",
     "output_type": "stream",
     "text": [
      "C:\\Users\\IT Tech\\AppData\\Local\\Temp\\ipykernel_8068\\1253748516.py:2: FutureWarning: ['name', 'Position', 'Hiring location', 'DOB', 'Sex', 'MaritalDesc', 'Citizenship', 'DateofJoining', 'DateofTermination', 'TermReason', 'EmploymentStatus', 'Trainings', 'Department', 'ManagerName', 'Recruitment Source', 'PerformanceScore', 'LastPerformanceReview_Date', 'EmpType'] did not aggregate successfully. If any error is raised this will raise in a future version of pandas. Drop these columns/ops to avoid this warning.\n",
      "  data.groupby(\"DeptID\")\n"
     ]
    }
   ],
   "source": [
    "grouped = (\n",
    "    data.groupby(\"DeptID\")\n",
    "    .agg([\"mean\"])\n",
    "    .assign(\n",
    "        fancy_column=lambda df: df[\"PositionID\"][\"mean\"]\n",
    "        / df[\"PositionID\"][\"mean\"].mean(),\n",
    "        useless_column=\"I am useless\"\n",
    "    )\n",
    ")"
   ]
  },
  {
   "cell_type": "code",
   "execution_count": 9,
   "id": "e38b83c9",
   "metadata": {},
   "outputs": [],
   "source": [
    "import pandas as pd\n",
    "data = pd.read_csv(\"demofile.csv\"\n",
    ").assign(\n",
    "    to_big_to_small=lambda df: (df.PositionID > 3).map({True: \"Too Big\", False: \"Perfect\"}),\n",
    "    inverted_name=lambda df: df.Position.map(lambda name: name[::-1]),\n",
    ")"
   ]
  },
  {
   "cell_type": "code",
   "execution_count": 12,
   "id": "63ae5d43",
   "metadata": {},
   "outputs": [],
   "source": [
    "import pandas as pd\n",
    "data = pd.read_csv(\"demofile.csv\")\n",
    "length_th = 0.5\n",
    "filtered_data = (data\n",
    "    .assign(**{\"PW Squared\": data[\"PositionID\"] ** 2})\n",
    "    .query(\"`PW Squared` > 0.4 and PositionID > @length_th and DeptID != 'setosa'\")\n",
    ")"
   ]
  },
  {
   "cell_type": "code",
   "execution_count": 13,
   "id": "676fde45",
   "metadata": {},
   "outputs": [],
   "source": [
    "import pandas as pd\n",
    "n_rows = 3\n",
    "result = pd.DataFrame(\n",
    "    {\"a\": [list(range(1 + i ** 2)) for i in range(n_rows)], \"b\": list(range(n_rows))}\n",
    ").explode(\"a\").astype({'a':int})"
   ]
  },
  {
   "cell_type": "code",
   "execution_count": null,
   "id": "69eca44a",
   "metadata": {},
   "outputs": [],
   "source": []
  }
 ],
 "metadata": {
  "kernelspec": {
   "display_name": "Python 3 (ipykernel)",
   "language": "python",
   "name": "python3"
  },
  "language_info": {
   "codemirror_mode": {
    "name": "ipython",
    "version": 3
   },
   "file_extension": ".py",
   "mimetype": "text/x-python",
   "name": "python",
   "nbconvert_exporter": "python",
   "pygments_lexer": "ipython3",
   "version": "3.9.16"
  }
 },
 "nbformat": 4,
 "nbformat_minor": 5
}
