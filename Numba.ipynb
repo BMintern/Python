{
 "cells": [
  {
   "cell_type": "raw",
   "id": "d7cce3e4",
   "metadata": {},
   "source": [
    "Numba is a just-in-time compiler for Python that works best on code that uses NumPy arrays and functions, and loops. The most common way to use Numba is through its collection of decorators that can be applied to your functions to instruct Numba.ipynb\n",
    "to compile them. When a call is made to a Numba decorated function it is compiled to machine code \"just-in-time\" for\n",
    "execution and all or part of your code can subsequently run at native machine code speed!"
   ]
  },
  {
   "cell_type": "code",
   "execution_count": 1,
   "id": "75e98e56",
   "metadata": {
    "ExecuteTime": {
     "end_time": "2023-06-26T04:41:11.612623Z",
     "start_time": "2023-06-26T04:41:11.601804Z"
    }
   },
   "outputs": [],
   "source": [
    "#!pip install numba"
   ]
  },
  {
   "cell_type": "code",
   "execution_count": 2,
   "id": "7ebd0b7c",
   "metadata": {
    "ExecuteTime": {
     "end_time": "2023-06-26T04:41:14.662903Z",
     "start_time": "2023-06-26T04:41:14.652725Z"
    }
   },
   "outputs": [],
   "source": [
    "import os\n",
    "os.environ[\"NUMBAPRO_CUDA_DRIVER\"] = \"/usr/lib64-nvidia/libcuda.so\"\n",
    "os.environ[\"NUMBAPRO_NVVM\"] = \"/usr/local/cuda-8.0/nvvm/lib64/libnvvm.so\"\n",
    "os.environ[\"NUMBAPRO_LIBDEVICE\"] = \"/usr/local/cuda-8.0/nvvm/libdevice/\"\n",
    "#os.environ[\"LD_LIBRARY_PATH\"] = \"/usr/local/cuda/lib64\""
   ]
  },
  {
   "cell_type": "code",
   "execution_count": 3,
   "id": "4627d655",
   "metadata": {
    "ExecuteTime": {
     "end_time": "2023-06-26T04:41:16.181676Z",
     "start_time": "2023-06-26T04:41:15.411765Z"
    }
   },
   "outputs": [],
   "source": [
    "import os\n",
    "import numpy as np # Numba supports many functions from numpy (https://numba.pydata.org/numba-doc/dev/reference/numpysupported.html)\n",
    "from numba import jit, njit, vectorize, cuda\n",
    "import math # Numba supports many functions from math (http://numba.pydata.org/numba-doc/0.17.0/reference/pysupported.html)\n",
    "\n",
    "import matplotlib.pyplot as plt"
   ]
  },
  {
   "cell_type": "code",
   "execution_count": 4,
   "id": "9794fb2a",
   "metadata": {
    "ExecuteTime": {
     "end_time": "2023-06-26T04:41:17.110787Z",
     "start_time": "2023-06-26T04:41:17.095764Z"
    }
   },
   "outputs": [],
   "source": [
    "a = np.ones((1, 100), dtype=np.float64)\n",
    "b = np.ones((100, 1), dtype=np.float64)"
   ]
  },
  {
   "cell_type": "code",
   "execution_count": 5,
   "id": "2e12cda7",
   "metadata": {
    "ExecuteTime": {
     "end_time": "2023-06-26T04:41:18.177916Z",
     "start_time": "2023-06-26T04:41:18.166419Z"
    }
   },
   "outputs": [],
   "source": [
    "#\n",
    "# Simple Python function\n",
    "#\n",
    "def func(a, b):\n",
    "    for i in range(100000):\n",
    "            constant = math.pow((a@b)[0][0], 1./2)/math.exp((a@b)[0][0]/1000)\n",
    "            a = np.array([[constant]*100], dtype=np.float64)\n",
    "            #print(a)\n",
    "    return a\n",
    "  "
   ]
  },
  {
   "cell_type": "code",
   "execution_count": 6,
   "id": "6a181eaf",
   "metadata": {
    "ExecuteTime": {
     "end_time": "2023-06-26T04:41:25.603520Z",
     "start_time": "2023-06-26T04:41:19.126415Z"
    }
   },
   "outputs": [
    {
     "name": "stdout",
     "output_type": "stream",
     "text": [
      "800 ms ± 23.5 ms per loop (mean ± std. dev. of 7 runs, 1 loop each)\n"
     ]
    }
   ],
   "source": [
    "%timeit res = func(a, b)"
   ]
  },
  {
   "cell_type": "raw",
   "id": "9b4450cf",
   "metadata": {},
   "source": [
    "jit decorator to compile Python functions or entire modules to machine code, which can significantly improve performance. The jit decorator stands for \"just-in-time\" compilation and is one of the primary features of Numba."
   ]
  },
  {
   "cell_type": "code",
   "execution_count": 7,
   "id": "ae9cda15",
   "metadata": {
    "ExecuteTime": {
     "end_time": "2023-06-26T04:41:25.623712Z",
     "start_time": "2023-06-26T04:41:25.603780Z"
    }
   },
   "outputs": [],
   "source": [
    "#\n",
    "# Numba with nopython = True\n",
    "#\n",
    "\n",
    "@njit      # or @jit(nopython=True)\n",
    "def njit_func(a, b):\n",
    "    for i in range(100000):\n",
    "        constant = math.pow((a@b)[0][0], 1./2)/math.exp((a@b)[0][0]/1000)\n",
    "        a = np.array([[constant]*100], dtype=np.float64)\n",
    "    return a"
   ]
  },
  {
   "cell_type": "code",
   "execution_count": 8,
   "id": "64cad849",
   "metadata": {
    "ExecuteTime": {
     "end_time": "2023-06-26T04:41:28.906893Z",
     "start_time": "2023-06-26T04:41:26.759382Z"
    }
   },
   "outputs": [
    {
     "name": "stdout",
     "output_type": "stream",
     "text": [
      "107 ms ± 2.48 ms per loop (mean ± std. dev. of 7 runs, 1 loop each)\n"
     ]
    }
   ],
   "source": [
    "%timeit res = njit_func(a, b)"
   ]
  },
  {
   "cell_type": "code",
   "execution_count": 9,
   "id": "58021113",
   "metadata": {
    "ExecuteTime": {
     "end_time": "2023-06-26T04:41:28.914768Z",
     "start_time": "2023-06-26T04:41:28.908732Z"
    }
   },
   "outputs": [],
   "source": [
    "# # #\n",
    "# # # Basic Numba compiler with type information provided\n",
    "# # #\n",
    "\n",
    "# @jit #('float64(float64, float64)')\n",
    "# # def jit_func(a, b):\n",
    "#     for i in range(100000):\n",
    "#         constant = math.pow((a@b)[0][0], 1./2)/math.exp((a@b)[0][0]/1000)\n",
    "#         a = np.array([[constant]*100], dtype=np.float64)\n",
    "#     return a"
   ]
  },
  {
   "cell_type": "code",
   "execution_count": 10,
   "id": "31a45844",
   "metadata": {
    "ExecuteTime": {
     "end_time": "2023-06-26T04:41:29.544284Z",
     "start_time": "2023-06-26T04:41:29.534949Z"
    }
   },
   "outputs": [],
   "source": [
    "@jit(nopython=True)\n",
    "def jit_func(a, b):\n",
    "    for i in range(100000):\n",
    "        constant = math.pow((a@b)[0][0], 1./2)/math.exp((a@b)[0][0]/1000)\n",
    "        a = np.array([[constant]*100], dtype=np.float64)\n",
    "    return a"
   ]
  },
  {
   "cell_type": "code",
   "execution_count": 11,
   "id": "e1212435",
   "metadata": {
    "ExecuteTime": {
     "end_time": "2023-06-26T04:41:31.777308Z",
     "start_time": "2023-06-26T04:41:30.414190Z"
    }
   },
   "outputs": [
    {
     "name": "stdout",
     "output_type": "stream",
     "text": [
      "113 ms ± 9.13 ms per loop (mean ± std. dev. of 7 runs, 1 loop each)\n"
     ]
    }
   ],
   "source": [
    "%timeit res = jit_func(a, b)"
   ]
  },
  {
   "cell_type": "code",
   "execution_count": 12,
   "id": "4549954e",
   "metadata": {
    "ExecuteTime": {
     "end_time": "2023-06-26T04:41:35.640498Z",
     "start_time": "2023-06-26T04:41:35.380309Z"
    }
   },
   "outputs": [
    {
     "name": "stderr",
     "output_type": "stream",
     "text": [
      "C:\\Users\\Acer\\AppData\\Local\\Temp\\ipykernel_7124\\1945444198.py:3: UserWarning: FixedFormatter should only be used together with FixedLocator\n",
      "  ax.set_xticklabels([\"pyFunc\", \"Jit\", \"Njit\"])\n"
     ]
    },
    {
     "data": {
      "text/plain": [
       "Text(0.5, 0, 'Method')"
      ]
     },
     "execution_count": 12,
     "metadata": {},
     "output_type": "execute_result"
    },
    {
     "data": {
      "image/png": "[encoded data removed]",
      "text/plain": [
       "<Figure size 640x480 with 1 Axes>"
      ]
     },
     "metadata": {},
     "output_type": "display_data"
    }
   ],
   "source": [
    "fig, ax = plt.subplots(1, 1)\n",
    "ax.plot([\"a\", \"b\", \"c\"], [821, 447, 440], \"-o\") # Results without caching\n",
    "ax.set_xticklabels([\"pyFunc\", \"Jit\", \"Njit\"])\n",
    "fig.suptitle(\"Basic Numba Functionalities\", fontsize=17)\n",
    "ax.set_ylabel(\"Time (ms)\")\n",
    "ax.set_xlabel(\"Method\")"
   ]
  },
  {
   "cell_type": "code",
   "execution_count": null,
   "id": "081afaf3",
   "metadata": {},
   "outputs": [],
   "source": []
  },
  {
   "cell_type": "code",
   "execution_count": 13,
   "id": "5de563b0",
   "metadata": {
    "ExecuteTime": {
     "end_time": "2023-06-26T04:41:45.731763Z",
     "start_time": "2023-06-26T04:41:45.718374Z"
    }
   },
   "outputs": [],
   "source": [
    "#\n",
    "# Making Ufuncs with Numba.\n",
    "#\n",
    "\n",
    "@vectorize\n",
    "def vec_func(a, b):\n",
    "  # Now we can pass arrays too, and operate\n",
    "  # inside like they are scalars:\n",
    "    for i in range(100000):\n",
    "        a = math.pow(a*b, 1./2)/math.exp(a*b/1000)\n",
    "    return a\n",
    "# This is similar to functions before, for comparison. But..."
   ]
  },
  {
   "cell_type": "code",
   "execution_count": null,
   "id": "293db3cb",
   "metadata": {
    "ExecuteTime": {
     "start_time": "2023-06-26T04:41:00.587Z"
    }
   },
   "outputs": [],
   "source": [
    "%timeit res = vec_func(a, b)"
   ]
  },
  {
   "cell_type": "code",
   "execution_count": 14,
   "id": "533347b2",
   "metadata": {
    "ExecuteTime": {
     "end_time": "2023-06-26T04:41:48.179257Z",
     "start_time": "2023-06-26T04:41:48.163210Z"
    }
   },
   "outputs": [
    {
     "data": {
      "text/plain": [
       "(1, 100)"
      ]
     },
     "execution_count": 14,
     "metadata": {},
     "output_type": "execute_result"
    }
   ],
   "source": [
    "#\n",
    "# This is slow because previously we were doing some\n",
    "# operations on 1,00,000 scalars obtained by multiplying\n",
    "# (a@b), but now we are multiplying individual elements \n",
    "# of a and b for 1,00,000 times. Also numba is taking care\n",
    "# of broadcasting too. So, in this case we are applying this\n",
    "# loop for 100 times.\n",
    "#\n",
    "a.shape # Previously it was (1, 100)"
   ]
  },
  {
   "cell_type": "code",
   "execution_count": 15,
   "id": "8b72c5f6",
   "metadata": {
    "ExecuteTime": {
     "end_time": "2023-06-26T04:41:49.407435Z",
     "start_time": "2023-06-26T04:41:49.214928Z"
    }
   },
   "outputs": [],
   "source": [
    "@vectorize(['float64(float64, float64)'], target='parallel')\n",
    "def vecParallel_func(a, b):\n",
    "    for i in range(100000):\n",
    "        a = math.pow(a*b, 1./2)/math.exp(a*b/1000)\n",
    "    return a"
   ]
  },
  {
   "cell_type": "code",
   "execution_count": null,
   "id": "6cb06292",
   "metadata": {
    "ExecuteTime": {
     "end_time": "2023-06-26T04:36:57.533480Z",
     "start_time": "2023-06-26T04:35:45.334899Z"
    }
   },
   "outputs": [],
   "source": [
    "%timeit res = vecParallel_func(a, b)"
   ]
  },
  {
   "cell_type": "code",
   "execution_count": 16,
   "id": "251851af",
   "metadata": {
    "ExecuteTime": {
     "end_time": "2023-06-26T04:41:53.046941Z",
     "start_time": "2023-06-26T04:41:52.526790Z"
    },
    "scrolled": true
   },
   "outputs": [
    {
     "ename": "CudaSupportError",
     "evalue": "Error at driver init: \n\nCUDA driver library cannot be found.\nIf you are sure that a CUDA driver is installed,\ntry setting environment variable NUMBA_CUDA_DRIVER\nwith the file path of the CUDA driver shared library.\n:",
     "output_type": "error",
     "traceback": [
      "\u001b[1;31m---------------------------------------------------------------------------\u001b[0m",
      "\u001b[1;31mCudaSupportError\u001b[0m                          Traceback (most recent call last)",
      "Cell \u001b[1;32mIn[16], line 1\u001b[0m\n\u001b[1;32m----> 1\u001b[0m \u001b[38;5;129;43m@vectorize\u001b[39;49m\u001b[43m(\u001b[49m\u001b[43m[\u001b[49m\u001b[38;5;124;43m'\u001b[39;49m\u001b[38;5;124;43mfloat64(float64, float64)\u001b[39;49m\u001b[38;5;124;43m'\u001b[39;49m\u001b[43m]\u001b[49m\u001b[43m,\u001b[49m\u001b[43m \u001b[49m\u001b[43mtarget\u001b[49m\u001b[38;5;241;43m=\u001b[39;49m\u001b[38;5;124;43m'\u001b[39;49m\u001b[38;5;124;43mcuda\u001b[39;49m\u001b[38;5;124;43m'\u001b[39;49m\u001b[43m)\u001b[49m\n\u001b[0;32m      2\u001b[0m \u001b[38;5;28;43;01mdef\u001b[39;49;00m\u001b[43m \u001b[49m\u001b[38;5;21;43mvecCuda_func\u001b[39;49m\u001b[43m(\u001b[49m\u001b[43ma\u001b[49m\u001b[43m,\u001b[49m\u001b[43m \u001b[49m\u001b[43mb\u001b[49m\u001b[43m)\u001b[49m\u001b[43m:\u001b[49m\n\u001b[0;32m      3\u001b[0m \u001b[43m    \u001b[49m\u001b[38;5;28;43;01mfor\u001b[39;49;00m\u001b[43m \u001b[49m\u001b[43mi\u001b[49m\u001b[43m \u001b[49m\u001b[38;5;129;43;01min\u001b[39;49;00m\u001b[43m \u001b[49m\u001b[38;5;28;43mrange\u001b[39;49m\u001b[43m(\u001b[49m\u001b[38;5;241;43m100000\u001b[39;49m\u001b[43m)\u001b[49m\u001b[43m:\u001b[49m\n\u001b[0;32m      4\u001b[0m \u001b[43m        \u001b[49m\u001b[43ma\u001b[49m\u001b[43m \u001b[49m\u001b[38;5;241;43m=\u001b[39;49m\u001b[43m \u001b[49m\u001b[43mmath\u001b[49m\u001b[38;5;241;43m.\u001b[39;49m\u001b[43mpow\u001b[49m\u001b[43m(\u001b[49m\u001b[43ma\u001b[49m\u001b[38;5;241;43m*\u001b[39;49m\u001b[43mb\u001b[49m\u001b[43m,\u001b[49m\u001b[43m \u001b[49m\u001b[38;5;241;43m1.\u001b[39;49m\u001b[38;5;241;43m/\u001b[39;49m\u001b[38;5;241;43m2\u001b[39;49m\u001b[43m)\u001b[49m\u001b[38;5;241;43m/\u001b[39;49m\u001b[43mmath\u001b[49m\u001b[38;5;241;43m.\u001b[39;49m\u001b[43mexp\u001b[49m\u001b[43m(\u001b[49m\u001b[43ma\u001b[49m\u001b[38;5;241;43m*\u001b[39;49m\u001b[43mb\u001b[49m\u001b[38;5;241;43m/\u001b[39;49m\u001b[38;5;241;43m1000\u001b[39;49m\u001b[43m)\u001b[49m\n",
      "File \u001b[1;32m~\\AppData\\Local\\Programs\\Python\\Python311\\Lib\\site-packages\\numba\\np\\ufunc\\decorators.py:131\u001b[0m, in \u001b[0;36mvectorize.<locals>.wrap\u001b[1;34m(func)\u001b[0m\n\u001b[0;32m    129\u001b[0m vec \u001b[38;5;241m=\u001b[39m Vectorize(func, \u001b[38;5;241m*\u001b[39m\u001b[38;5;241m*\u001b[39mkws)\n\u001b[0;32m    130\u001b[0m \u001b[38;5;28;01mfor\u001b[39;00m sig \u001b[38;5;129;01min\u001b[39;00m ftylist:\n\u001b[1;32m--> 131\u001b[0m     \u001b[43mvec\u001b[49m\u001b[38;5;241;43m.\u001b[39;49m\u001b[43madd\u001b[49m\u001b[43m(\u001b[49m\u001b[43msig\u001b[49m\u001b[43m)\u001b[49m\n\u001b[0;32m    132\u001b[0m \u001b[38;5;28;01mif\u001b[39;00m \u001b[38;5;28mlen\u001b[39m(ftylist) \u001b[38;5;241m>\u001b[39m \u001b[38;5;241m0\u001b[39m:\n\u001b[0;32m    133\u001b[0m     vec\u001b[38;5;241m.\u001b[39mdisable_compile()\n",
      "File \u001b[1;32m~\\AppData\\Local\\Programs\\Python\\Python311\\Lib\\site-packages\\numba\\np\\ufunc\\deviceufunc.py:388\u001b[0m, in \u001b[0;36mDeviceVectorize.add\u001b[1;34m(self, sig)\u001b[0m\n\u001b[0;32m    385\u001b[0m funcname \u001b[38;5;241m=\u001b[39m \u001b[38;5;28mself\u001b[39m\u001b[38;5;241m.\u001b[39mpyfunc\u001b[38;5;241m.\u001b[39m\u001b[38;5;18m__name__\u001b[39m\n\u001b[0;32m    386\u001b[0m kernelsource \u001b[38;5;241m=\u001b[39m \u001b[38;5;28mself\u001b[39m\u001b[38;5;241m.\u001b[39m_get_kernel_source(\u001b[38;5;28mself\u001b[39m\u001b[38;5;241m.\u001b[39m_kernel_template,\n\u001b[0;32m    387\u001b[0m                                        devfnsig, funcname)\n\u001b[1;32m--> 388\u001b[0m corefn, return_type \u001b[38;5;241m=\u001b[39m \u001b[38;5;28;43mself\u001b[39;49m\u001b[38;5;241;43m.\u001b[39;49m\u001b[43m_compile_core\u001b[49m\u001b[43m(\u001b[49m\u001b[43mdevfnsig\u001b[49m\u001b[43m)\u001b[49m\n\u001b[0;32m    389\u001b[0m glbl \u001b[38;5;241m=\u001b[39m \u001b[38;5;28mself\u001b[39m\u001b[38;5;241m.\u001b[39m_get_globals(corefn)\n\u001b[0;32m    390\u001b[0m sig \u001b[38;5;241m=\u001b[39m signature(types\u001b[38;5;241m.\u001b[39mvoid, \u001b[38;5;241m*\u001b[39m([a[:] \u001b[38;5;28;01mfor\u001b[39;00m a \u001b[38;5;129;01min\u001b[39;00m args] \u001b[38;5;241m+\u001b[39m [return_type[:]]))\n",
      "File \u001b[1;32m~\\AppData\\Local\\Programs\\Python\\Python311\\Lib\\site-packages\\numba\\cuda\\vectorizers.py:202\u001b[0m, in \u001b[0;36mCUDAVectorize._compile_core\u001b[1;34m(self, sig)\u001b[0m\n\u001b[0;32m    201\u001b[0m \u001b[38;5;28;01mdef\u001b[39;00m \u001b[38;5;21m_compile_core\u001b[39m(\u001b[38;5;28mself\u001b[39m, sig):\n\u001b[1;32m--> 202\u001b[0m     cudevfn \u001b[38;5;241m=\u001b[39m \u001b[43mcuda\u001b[49m\u001b[38;5;241;43m.\u001b[39;49m\u001b[43mjit\u001b[49m\u001b[43m(\u001b[49m\u001b[43msig\u001b[49m\u001b[43m,\u001b[49m\u001b[43m \u001b[49m\u001b[43mdevice\u001b[49m\u001b[38;5;241;43m=\u001b[39;49m\u001b[38;5;28;43;01mTrue\u001b[39;49;00m\u001b[43m,\u001b[49m\u001b[43m \u001b[49m\u001b[43minline\u001b[49m\u001b[38;5;241;43m=\u001b[39;49m\u001b[38;5;28;43;01mTrue\u001b[39;49;00m\u001b[43m)\u001b[49m\u001b[43m(\u001b[49m\u001b[38;5;28;43mself\u001b[39;49m\u001b[38;5;241;43m.\u001b[39;49m\u001b[43mpyfunc\u001b[49m\u001b[43m)\u001b[49m\n\u001b[0;32m    203\u001b[0m     \u001b[38;5;28;01mreturn\u001b[39;00m cudevfn, cudevfn\u001b[38;5;241m.\u001b[39moverloads[sig\u001b[38;5;241m.\u001b[39margs]\u001b[38;5;241m.\u001b[39msignature\u001b[38;5;241m.\u001b[39mreturn_type\n",
      "File \u001b[1;32m~\\AppData\\Local\\Programs\\Python\\Python311\\Lib\\site-packages\\numba\\cuda\\decorators.py:131\u001b[0m, in \u001b[0;36mjit.<locals>._jit\u001b[1;34m(func)\u001b[0m\n\u001b[0;32m    129\u001b[0m     \u001b[38;5;28;01mfrom\u001b[39;00m \u001b[38;5;21;01mnumba\u001b[39;00m\u001b[38;5;21;01m.\u001b[39;00m\u001b[38;5;21;01mcore\u001b[39;00m \u001b[38;5;28;01mimport\u001b[39;00m typeinfer\n\u001b[0;32m    130\u001b[0m     \u001b[38;5;28;01mwith\u001b[39;00m typeinfer\u001b[38;5;241m.\u001b[39mregister_dispatcher(disp):\n\u001b[1;32m--> 131\u001b[0m         \u001b[43mdisp\u001b[49m\u001b[38;5;241;43m.\u001b[39;49m\u001b[43mcompile_device\u001b[49m\u001b[43m(\u001b[49m\u001b[43margtypes\u001b[49m\u001b[43m,\u001b[49m\u001b[43m \u001b[49m\u001b[43mrestype\u001b[49m\u001b[43m)\u001b[49m\n\u001b[0;32m    132\u001b[0m \u001b[38;5;28;01melse\u001b[39;00m:\n\u001b[0;32m    133\u001b[0m     disp\u001b[38;5;241m.\u001b[39mcompile(argtypes)\n",
      "File \u001b[1;32m~\\AppData\\Local\\Programs\\Python\\Python311\\Lib\\site-packages\\numba\\cuda\\dispatcher.py:877\u001b[0m, in \u001b[0;36mCUDADispatcher.compile_device\u001b[1;34m(self, args, return_type)\u001b[0m\n\u001b[0;32m    870\u001b[0m fastmath \u001b[38;5;241m=\u001b[39m \u001b[38;5;28mself\u001b[39m\u001b[38;5;241m.\u001b[39mtargetoptions\u001b[38;5;241m.\u001b[39mget(\u001b[38;5;124m'\u001b[39m\u001b[38;5;124mfastmath\u001b[39m\u001b[38;5;124m'\u001b[39m)\n\u001b[0;32m    872\u001b[0m nvvm_options \u001b[38;5;241m=\u001b[39m {\n\u001b[0;32m    873\u001b[0m     \u001b[38;5;124m'\u001b[39m\u001b[38;5;124mopt\u001b[39m\u001b[38;5;124m'\u001b[39m: \u001b[38;5;241m3\u001b[39m \u001b[38;5;28;01mif\u001b[39;00m \u001b[38;5;28mself\u001b[39m\u001b[38;5;241m.\u001b[39mtargetoptions\u001b[38;5;241m.\u001b[39mget(\u001b[38;5;124m'\u001b[39m\u001b[38;5;124mopt\u001b[39m\u001b[38;5;124m'\u001b[39m) \u001b[38;5;28;01melse\u001b[39;00m \u001b[38;5;241m0\u001b[39m,\n\u001b[0;32m    874\u001b[0m     \u001b[38;5;124m'\u001b[39m\u001b[38;5;124mfastmath\u001b[39m\u001b[38;5;124m'\u001b[39m: fastmath\n\u001b[0;32m    875\u001b[0m }\n\u001b[1;32m--> 877\u001b[0m cc \u001b[38;5;241m=\u001b[39m \u001b[43mget_current_device\u001b[49m\u001b[43m(\u001b[49m\u001b[43m)\u001b[49m\u001b[38;5;241m.\u001b[39mcompute_capability\n\u001b[0;32m    878\u001b[0m cres \u001b[38;5;241m=\u001b[39m compile_cuda(\u001b[38;5;28mself\u001b[39m\u001b[38;5;241m.\u001b[39mpy_func, return_type, args,\n\u001b[0;32m    879\u001b[0m                     debug\u001b[38;5;241m=\u001b[39mdebug,\n\u001b[0;32m    880\u001b[0m                     lineinfo\u001b[38;5;241m=\u001b[39mlineinfo,\n\u001b[1;32m   (...)\u001b[0m\n\u001b[0;32m    883\u001b[0m                     nvvm_options\u001b[38;5;241m=\u001b[39mnvvm_options,\n\u001b[0;32m    884\u001b[0m                     cc\u001b[38;5;241m=\u001b[39mcc)\n\u001b[0;32m    885\u001b[0m \u001b[38;5;28mself\u001b[39m\u001b[38;5;241m.\u001b[39moverloads[args] \u001b[38;5;241m=\u001b[39m cres\n",
      "File \u001b[1;32m~\\AppData\\Local\\Programs\\Python\\Python311\\Lib\\site-packages\\numba\\cuda\\api.py:443\u001b[0m, in \u001b[0;36mget_current_device\u001b[1;34m()\u001b[0m\n\u001b[0;32m    441\u001b[0m \u001b[38;5;28;01mdef\u001b[39;00m \u001b[38;5;21mget_current_device\u001b[39m():\n\u001b[0;32m    442\u001b[0m     \u001b[38;5;124m\"\u001b[39m\u001b[38;5;124mGet current device associated with the current thread\u001b[39m\u001b[38;5;124m\"\u001b[39m\n\u001b[1;32m--> 443\u001b[0m     \u001b[38;5;28;01mreturn\u001b[39;00m \u001b[43mcurrent_context\u001b[49m\u001b[43m(\u001b[49m\u001b[43m)\u001b[49m\u001b[38;5;241m.\u001b[39mdevice\n",
      "File \u001b[1;32m~\\AppData\\Local\\Programs\\Python\\Python311\\Lib\\site-packages\\numba\\cuda\\cudadrv\\devices.py:220\u001b[0m, in \u001b[0;36mget_context\u001b[1;34m(devnum)\u001b[0m\n\u001b[0;32m    216\u001b[0m \u001b[38;5;28;01mdef\u001b[39;00m \u001b[38;5;21mget_context\u001b[39m(devnum\u001b[38;5;241m=\u001b[39m\u001b[38;5;28;01mNone\u001b[39;00m):\n\u001b[0;32m    217\u001b[0m \u001b[38;5;250m    \u001b[39m\u001b[38;5;124;03m\"\"\"Get the current device or use a device by device number, and\u001b[39;00m\n\u001b[0;32m    218\u001b[0m \u001b[38;5;124;03m    return the CUDA context.\u001b[39;00m\n\u001b[0;32m    219\u001b[0m \u001b[38;5;124;03m    \"\"\"\u001b[39;00m\n\u001b[1;32m--> 220\u001b[0m     \u001b[38;5;28;01mreturn\u001b[39;00m \u001b[43m_runtime\u001b[49m\u001b[38;5;241;43m.\u001b[39;49m\u001b[43mget_or_create_context\u001b[49m\u001b[43m(\u001b[49m\u001b[43mdevnum\u001b[49m\u001b[43m)\u001b[49m\n",
      "File \u001b[1;32m~\\AppData\\Local\\Programs\\Python\\Python311\\Lib\\site-packages\\numba\\cuda\\cudadrv\\devices.py:138\u001b[0m, in \u001b[0;36m_Runtime.get_or_create_context\u001b[1;34m(self, devnum)\u001b[0m\n\u001b[0;32m    136\u001b[0m attached_ctx \u001b[38;5;241m=\u001b[39m \u001b[38;5;28mself\u001b[39m\u001b[38;5;241m.\u001b[39m_get_attached_context()\n\u001b[0;32m    137\u001b[0m \u001b[38;5;28;01mif\u001b[39;00m attached_ctx \u001b[38;5;129;01mis\u001b[39;00m \u001b[38;5;28;01mNone\u001b[39;00m:\n\u001b[1;32m--> 138\u001b[0m     \u001b[38;5;28;01mreturn\u001b[39;00m \u001b[38;5;28;43mself\u001b[39;49m\u001b[38;5;241;43m.\u001b[39;49m\u001b[43m_get_or_create_context_uncached\u001b[49m\u001b[43m(\u001b[49m\u001b[43mdevnum\u001b[49m\u001b[43m)\u001b[49m\n\u001b[0;32m    139\u001b[0m \u001b[38;5;28;01melse\u001b[39;00m:\n\u001b[0;32m    140\u001b[0m     \u001b[38;5;28;01mreturn\u001b[39;00m attached_ctx\n",
      "File \u001b[1;32m~\\AppData\\Local\\Programs\\Python\\Python311\\Lib\\site-packages\\numba\\cuda\\cudadrv\\devices.py:153\u001b[0m, in \u001b[0;36m_Runtime._get_or_create_context_uncached\u001b[1;34m(self, devnum)\u001b[0m\n\u001b[0;32m    147\u001b[0m \u001b[38;5;250m\u001b[39m\u001b[38;5;124;03m\"\"\"See also ``get_or_create_context(devnum)``.\u001b[39;00m\n\u001b[0;32m    148\u001b[0m \u001b[38;5;124;03mThis version does not read the cache.\u001b[39;00m\n\u001b[0;32m    149\u001b[0m \u001b[38;5;124;03m\"\"\"\u001b[39;00m\n\u001b[0;32m    150\u001b[0m \u001b[38;5;28;01mwith\u001b[39;00m \u001b[38;5;28mself\u001b[39m\u001b[38;5;241m.\u001b[39m_lock:\n\u001b[0;32m    151\u001b[0m     \u001b[38;5;66;03m# Try to get the active context in the CUDA stack or\u001b[39;00m\n\u001b[0;32m    152\u001b[0m     \u001b[38;5;66;03m# activate GPU-0 with the primary context\u001b[39;00m\n\u001b[1;32m--> 153\u001b[0m \u001b[43m    \u001b[49m\u001b[38;5;28;43;01mwith\u001b[39;49;00m\u001b[43m \u001b[49m\u001b[43mdriver\u001b[49m\u001b[38;5;241;43m.\u001b[39;49m\u001b[43mget_active_context\u001b[49m\u001b[43m(\u001b[49m\u001b[43m)\u001b[49m\u001b[43m \u001b[49m\u001b[38;5;28;43;01mas\u001b[39;49;00m\u001b[43m \u001b[49m\u001b[43mac\u001b[49m\u001b[43m:\u001b[49m\n\u001b[0;32m    154\u001b[0m \u001b[43m        \u001b[49m\u001b[38;5;28;43;01mif\u001b[39;49;00m\u001b[43m \u001b[49m\u001b[38;5;129;43;01mnot\u001b[39;49;00m\u001b[43m \u001b[49m\u001b[43mac\u001b[49m\u001b[43m:\u001b[49m\n\u001b[0;32m    155\u001b[0m \u001b[43m            \u001b[49m\u001b[38;5;28;43;01mreturn\u001b[39;49;00m\u001b[43m \u001b[49m\u001b[38;5;28;43mself\u001b[39;49m\u001b[38;5;241;43m.\u001b[39;49m\u001b[43m_activate_context_for\u001b[49m\u001b[43m(\u001b[49m\u001b[38;5;241;43m0\u001b[39;49m\u001b[43m)\u001b[49m\n",
      "File \u001b[1;32m~\\AppData\\Local\\Programs\\Python\\Python311\\Lib\\site-packages\\numba\\cuda\\cudadrv\\driver.py:508\u001b[0m, in \u001b[0;36m_ActiveContext.__enter__\u001b[1;34m(self)\u001b[0m\n\u001b[0;32m    506\u001b[0m \u001b[38;5;28;01melse\u001b[39;00m:\n\u001b[0;32m    507\u001b[0m     hctx \u001b[38;5;241m=\u001b[39m drvapi\u001b[38;5;241m.\u001b[39mcu_context(\u001b[38;5;241m0\u001b[39m)\n\u001b[1;32m--> 508\u001b[0m     \u001b[43mdriver\u001b[49m\u001b[38;5;241;43m.\u001b[39;49m\u001b[43mcuCtxGetCurrent\u001b[49m(byref(hctx))\n\u001b[0;32m    509\u001b[0m     hctx \u001b[38;5;241m=\u001b[39m hctx \u001b[38;5;28;01mif\u001b[39;00m hctx\u001b[38;5;241m.\u001b[39mvalue \u001b[38;5;28;01melse\u001b[39;00m \u001b[38;5;28;01mNone\u001b[39;00m\n\u001b[0;32m    511\u001b[0m \u001b[38;5;28;01mif\u001b[39;00m hctx \u001b[38;5;129;01mis\u001b[39;00m \u001b[38;5;28;01mNone\u001b[39;00m:\n",
      "File \u001b[1;32m~\\AppData\\Local\\Programs\\Python\\Python311\\Lib\\site-packages\\numba\\cuda\\cudadrv\\driver.py:308\u001b[0m, in \u001b[0;36mDriver.__getattr__\u001b[1;34m(self, fname)\u001b[0m\n\u001b[0;32m    305\u001b[0m \u001b[38;5;28mself\u001b[39m\u001b[38;5;241m.\u001b[39mensure_initialized()\n\u001b[0;32m    307\u001b[0m \u001b[38;5;28;01mif\u001b[39;00m \u001b[38;5;28mself\u001b[39m\u001b[38;5;241m.\u001b[39minitialization_error \u001b[38;5;129;01mis\u001b[39;00m \u001b[38;5;129;01mnot\u001b[39;00m \u001b[38;5;28;01mNone\u001b[39;00m:\n\u001b[1;32m--> 308\u001b[0m     \u001b[38;5;28;01mraise\u001b[39;00m CudaSupportError(\u001b[38;5;124m\"\u001b[39m\u001b[38;5;124mError at driver init: \u001b[39m\u001b[38;5;130;01m\\n\u001b[39;00m\u001b[38;5;132;01m%s\u001b[39;00m\u001b[38;5;124m:\u001b[39m\u001b[38;5;124m\"\u001b[39m \u001b[38;5;241m%\u001b[39m\n\u001b[0;32m    309\u001b[0m                            \u001b[38;5;28mself\u001b[39m\u001b[38;5;241m.\u001b[39minitialization_error)\n\u001b[0;32m    311\u001b[0m \u001b[38;5;28;01mif\u001b[39;00m USE_NV_BINDING:\n\u001b[0;32m    312\u001b[0m     \u001b[38;5;28;01mreturn\u001b[39;00m \u001b[38;5;28mself\u001b[39m\u001b[38;5;241m.\u001b[39m_cuda_python_wrap_fn(fname)\n",
      "\u001b[1;31mCudaSupportError\u001b[0m: Error at driver init: \n\nCUDA driver library cannot be found.\nIf you are sure that a CUDA driver is installed,\ntry setting environment variable NUMBA_CUDA_DRIVER\nwith the file path of the CUDA driver shared library.\n:"
     ]
    }
   ],
   "source": [
    "@vectorize(['float64(float64, float64)'], target='cuda')\n",
    "def vecCuda_func(a, b):\n",
    "    for i in range(100000):\n",
    "        a = math.pow(a*b, 1./2)/math.exp(a*b/1000)\n",
    "    return a"
   ]
  },
  {
   "cell_type": "code",
   "execution_count": null,
   "id": "a68aaffc",
   "metadata": {
    "ExecuteTime": {
     "end_time": "2023-06-21T12:10:07.700559Z",
     "start_time": "2023-06-21T12:10:07.700559Z"
    }
   },
   "outputs": [],
   "source": [
    "%timeit res = vecCuda_func(a, b)"
   ]
  },
  {
   "cell_type": "code",
   "execution_count": null,
   "id": "07fb5a30",
   "metadata": {},
   "outputs": [],
   "source": []
  },
  {
   "cell_type": "code",
   "execution_count": 17,
   "id": "eeec282a",
   "metadata": {
    "ExecuteTime": {
     "end_time": "2023-06-26T04:41:58.515369Z",
     "start_time": "2023-06-26T04:41:58.318351Z"
    }
   },
   "outputs": [
    {
     "name": "stdout",
     "output_type": "stream",
     "text": [
      "[ 2  4  6  8 10]\n"
     ]
    }
   ],
   "source": [
    "@vectorize\n",
    "def my_function(x):\n",
    "    # Define your scalar function here\n",
    "    return x * 2\n",
    "\n",
    "# Create an input array\n",
    "arr = np.array([1, 2, 3, 4, 5])\n",
    "\n",
    "# Call the vectorized function on the array\n",
    "result = my_function(arr)\n",
    "\n",
    "print(result)  # Prints [2 4 6 8 10]"
   ]
  },
  {
   "cell_type": "code",
   "execution_count": null,
   "id": "4a1b649a",
   "metadata": {},
   "outputs": [],
   "source": []
  },
  {
   "cell_type": "code",
   "execution_count": 18,
   "id": "161322ab",
   "metadata": {
    "ExecuteTime": {
     "end_time": "2023-06-26T04:42:01.597462Z",
     "start_time": "2023-06-26T04:42:01.214250Z"
    }
   },
   "outputs": [
    {
     "name": "stdout",
     "output_type": "stream",
     "text": [
      "Elapsed (with compilation)= 0.36919713020324707\n",
      "Elapsed (after compilation) = 0.0\n"
     ]
    }
   ],
   "source": [
    "from numba import jit\n",
    "import numpy as np\n",
    "import time\n",
    "\n",
    "x = np.arange(100).reshape(10,10)\n",
    "\n",
    "@jit(nopython=True)\n",
    "def go_fast(a): #Function is compiled and runs in machine code\n",
    "    trace = 0.0\n",
    "    for i in range (a.shape[0]):\n",
    "        trace += np.tanh(a[i,i])\n",
    "    return a + trace\n",
    "\n",
    "start = time.time()\n",
    "go_fast(x)\n",
    "end = time.time()\n",
    "print(\"Elapsed (with compilation)= %s\" % (end - start))\n",
    "\n",
    "# now the function is compiled, re-time it executing from cahe\n",
    "start = time.time()\n",
    "go_fast(x)\n",
    "end = time.time()\n",
    "print(\"Elapsed (after compilation) = %s\" % (end -start))"
   ]
  },
  {
   "cell_type": "code",
   "execution_count": 19,
   "id": "e818856c",
   "metadata": {
    "ExecuteTime": {
     "end_time": "2023-06-26T04:42:02.434294Z",
     "start_time": "2023-06-26T04:42:02.238874Z"
    }
   },
   "outputs": [
    {
     "name": "stderr",
     "output_type": "stream",
     "text": [
      "C:\\Users\\Acer\\AppData\\Local\\Temp\\ipykernel_7124\\988719126.py:3: UserWarning: FixedFormatter should only be used together with FixedLocator\n",
      "  ax.set_xticklabels([\"Vectorize\", \"Vectorize Parallel\"])#\"Vectorize Cuda\"#]\n"
     ]
    },
    {
     "data": {
      "text/plain": [
       "Text(0.5, 0, 'Method')"
      ]
     },
     "execution_count": 19,
     "metadata": {},
     "output_type": "execute_result"
    },
    {
     "data": {
      "image/png": "[encoded data removed]",
      "text/plain": [
       "<Figure size 640x480 with 1 Axes>"
      ]
     },
     "metadata": {},
     "output_type": "display_data"
    }
   ],
   "source": [
    "fig, ax = plt.subplots(1, 1)\n",
    "ax.plot([\"a\", \"b\", \"c\"], [35.8, 19.2, 0.568], \"-o\")\n",
    "ax.set_xticklabels([\"Vectorize\", \"Vectorize Parallel\"])#\"Vectorize Cuda\"#]\n",
    "fig.suptitle(\"@vectorize wrapper\", fontsize=17)\n",
    "ax.set_ylabel(\"Time (sec)\")\n",
    "ax.set_xlabel(\"Method\")"
   ]
  },
  {
   "cell_type": "code",
   "execution_count": null,
   "id": "51aa0468",
   "metadata": {},
   "outputs": [],
   "source": []
  },
  {
   "cell_type": "markdown",
   "id": "b50ed895",
   "metadata": {},
   "source": [
    "### Running your functions on GPU"
   ]
  },
  {
   "cell_type": "code",
   "execution_count": 21,
   "id": "11b79d60",
   "metadata": {
    "ExecuteTime": {
     "end_time": "2023-06-26T04:45:29.477760Z",
     "start_time": "2023-06-26T04:45:29.464760Z"
    }
   },
   "outputs": [],
   "source": [
    "# AS system not support cuda, I not able to proceed with this part"
   ]
  },
  {
   "cell_type": "code",
   "execution_count": null,
   "id": "55a5af58",
   "metadata": {},
   "outputs": [],
   "source": []
  },
  {
   "cell_type": "code",
   "execution_count": null,
   "id": "f35f14d9",
   "metadata": {},
   "outputs": [],
   "source": []
  },
  {
   "cell_type": "code",
   "execution_count": null,
   "id": "843d8866",
   "metadata": {},
   "outputs": [],
   "source": []
  },
  {
   "cell_type": "code",
   "execution_count": null,
   "id": "00b61ed6",
   "metadata": {},
   "outputs": [],
   "source": []
  }
 ],
 "metadata": {
  "kernelspec": {
   "display_name": "Python 3 (ipykernel)",
   "language": "python",
   "name": "python3"
  },
  "language_info": {
   "codemirror_mode": {
    "name": "ipython",
    "version": 3
   },
   "file_extension": ".py",
   "mimetype": "text/x-python",
   "name": "python",
   "nbconvert_exporter": "python",
   "pygments_lexer": "ipython3",
   "version": "3.11.3"
  }
 },
 "nbformat": 4,
 "nbformat_minor": 5
}
