{
 "cells": [
  {
   "cell_type": "markdown",
   "id": "0b23ed3d",
   "metadata": {},
   "source": [
    "# Numba"
   ]
  },
  {
   "cell_type": "markdown",
   "id": "b186e025",
   "metadata": {},
   "source": [
    "Numba is a just-in-time compiler for Python that works best on code that uses Numpy arrays and functions , and loops. The most common way to use Numba is collection of decorators that can be applied to your functions to instruct Numba to compile them. when a call is made to a Numba decorated function it is compiled functio it is compiled to machine code \"Just-in time \" for execution and all or part of your code can subsequently run at native machine code speed!"
   ]
  },
  {
   "cell_type": "code",
   "execution_count": 1,
   "id": "88aa921d",
   "metadata": {},
   "outputs": [
    {
     "name": "stdout",
     "output_type": "stream",
     "text": [
      "Requirement already satisfied: numba in c:\\users\\it tech\\anaconda3\\lib\\site-packages (0.55.1)\n",
      "Requirement already satisfied: llvmlite<0.39,>=0.38.0rc1 in c:\\users\\it tech\\anaconda3\\lib\\site-packages (from numba) (0.38.0)\n",
      "Requirement already satisfied: numpy<1.22,>=1.18 in c:\\users\\it tech\\anaconda3\\lib\\site-packages (from numba) (1.21.5)\n",
      "Requirement already satisfied: setuptools in c:\\users\\it tech\\anaconda3\\lib\\site-packages (from numba) (63.4.1)\n",
      "Note: you may need to restart the kernel to use updated packages.\n"
     ]
    }
   ],
   "source": [
    "pip install numba"
   ]
  },
  {
   "cell_type": "code",
   "execution_count": 23,
   "id": "8aa3739c",
   "metadata": {},
   "outputs": [],
   "source": [
    "import random\n",
    "import math\n",
    "import time\n",
    "import numpy as np"
   ]
  },
  {
   "cell_type": "code",
   "execution_count": 28,
   "id": "de20e7ad",
   "metadata": {},
   "outputs": [
    {
     "name": "stdout",
     "output_type": "stream",
     "text": [
      "17.86430072784424\n"
     ]
    }
   ],
   "source": [
    "def some_function(n):\n",
    "    z=0\n",
    "    for i in range(n):\n",
    "        x=np.random.rand()\n",
    "        y=np.random.rand()\n",
    "        z=math.sqrt(x**2 +y**2)\n",
    "    return z\n",
    "\n",
    "start= time.time()\n",
    "some_function(10000000)\n",
    "end = time.time()\n",
    "\n",
    "print(end-start)"
   ]
  },
  {
   "cell_type": "markdown",
   "id": "17d7d1fb",
   "metadata": {},
   "source": [
    "This is simple python code where time to execute code is more"
   ]
  },
  {
   "cell_type": "code",
   "execution_count": 29,
   "id": "44095d12",
   "metadata": {},
   "outputs": [
    {
     "name": "stdout",
     "output_type": "stream",
     "text": [
      "1.0342795848846436\n"
     ]
    }
   ],
   "source": [
    "@jit(nopython= True)\n",
    "def some_function(n):\n",
    "    z=0\n",
    "    for i in range(n):\n",
    "        x=np.random.rand()\n",
    "        y=np.random.rand()\n",
    "        z=math.sqrt(x**2 +y**2)\n",
    "    return z\n",
    "\n",
    "start= time.time()\n",
    "some_function(10000000)\n",
    "end = time.time()\n",
    "\n",
    "print(end-start)"
   ]
  },
  {
   "cell_type": "markdown",
   "id": "44d64b51",
   "metadata": {},
   "source": [
    "This is code with tag of @jit and by this the time to execute code is less than simple code"
   ]
  },
  {
   "cell_type": "code",
   "execution_count": 30,
   "id": "86efe762",
   "metadata": {},
   "outputs": [
    {
     "name": "stdout",
     "output_type": "stream",
     "text": [
      "0.36777567863464355\n"
     ]
    }
   ],
   "source": [
    "@jit\n",
    "def some_function(n):\n",
    "    z=0\n",
    "    for i in range(n):\n",
    "        x=np.random.rand()\n",
    "        y=np.random.rand()\n",
    "        z=math.sqrt(x**2 +y**2)\n",
    "    return z\n",
    "\n",
    "start= time.time()\n",
    "some_function(10000000)\n",
    "end = time.time()\n",
    "\n",
    "print(end-start)"
   ]
  },
  {
   "cell_type": "code",
   "execution_count": null,
   "id": "7ba6d4eb",
   "metadata": {},
   "outputs": [],
   "source": []
  }
 ],
 "metadata": {
  "kernelspec": {
   "display_name": "Python 3 (ipykernel)",
   "language": "python",
   "name": "python3"
  },
  "language_info": {
   "codemirror_mode": {
    "name": "ipython",
    "version": 3
   },
   "file_extension": ".py",
   "mimetype": "text/x-python",
   "name": "python",
   "nbconvert_exporter": "python",
   "pygments_lexer": "ipython3",
   "version": "3.9.13"
  }
 },
 "nbformat": 4,
 "nbformat_minor": 5
}
