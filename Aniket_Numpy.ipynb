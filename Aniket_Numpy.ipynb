{
  "cells": [
    {
      "cell_type": "markdown",
      "metadata": {
        "id": "QrNJZWdAuOLL"
      },
      "source": [
        "# NumPy\n",
        "\n",
        "NumPy (or Numpy) is a Linear Algebra Library for Python, the reason it is so important for Data Science with Python is that almost all of the libraries in the PyData Ecosystem rely on NumPy as one of their main building blocks."
      ]
    },
    {
      "cell_type": "code",
      "execution_count": 4,
      "metadata": {
        "id": "QUsRIOLHuOZi"
      },
      "outputs": [],
      "source": [
        "import numpy as np"
      ]
    },
    {
      "cell_type": "code",
      "execution_count": 5,
      "metadata": {
        "id": "e0RyoLx_uSoL"
      },
      "outputs": [],
      "source": [
        "my_list = [1,2,3]\n",
        "one_darray = np.array(my_list)"
      ]
    },
    {
      "cell_type": "code",
      "execution_count": 6,
      "metadata": {
        "colab": {
          "base_uri": "https://localhost:8080/"
        },
        "id": "mzaA-sxTuUqb",
        "outputId": "df6b5a17-c9a2-43de-d3c2-2df6930ad54d"
      },
      "outputs": [
        {
          "output_type": "stream",
          "name": "stdout",
          "text": [
            "[1 2 3]\n"
          ]
        }
      ],
      "source": [
        "print(one_darray)"
      ]
    },
    {
      "cell_type": "code",
      "execution_count": 7,
      "metadata": {
        "colab": {
          "base_uri": "https://localhost:8080/"
        },
        "id": "AA1TtmaQ2tST",
        "outputId": "a3f08df8-0740-475c-c9b7-884930933b55"
      },
      "outputs": [
        {
          "output_type": "execute_result",
          "data": {
            "text/plain": [
              "numpy.ndarray"
            ]
          },
          "metadata": {},
          "execution_count": 7
        }
      ],
      "source": [
        "type(one_darray)"
      ]
    },
    {
      "cell_type": "code",
      "execution_count": 8,
      "metadata": {
        "colab": {
          "base_uri": "https://localhost:8080/"
        },
        "id": "OdI3GKPqNO5Y",
        "outputId": "51da59c7-e2d1-4a39-9ed2-3e8264bf4b25"
      },
      "outputs": [
        {
          "output_type": "execute_result",
          "data": {
            "text/plain": [
              "array([1, 2, 3])"
            ]
          },
          "metadata": {},
          "execution_count": 8
        }
      ],
      "source": [
        "one_darray"
      ]
    },
    {
      "cell_type": "code",
      "execution_count": 9,
      "metadata": {
        "colab": {
          "base_uri": "https://localhost:8080/"
        },
        "id": "MucpGKbkuW3G",
        "outputId": "cb9c888a-d84b-496b-8634-979f62e20369"
      },
      "outputs": [
        {
          "output_type": "stream",
          "name": "stdout",
          "text": [
            "int64\n"
          ]
        }
      ],
      "source": [
        "print(one_darray.dtype)"
      ]
    },
    {
      "cell_type": "code",
      "execution_count": 10,
      "metadata": {
        "colab": {
          "base_uri": "https://localhost:8080/"
        },
        "id": "qLbuF8YhuYE1",
        "outputId": "3f153316-2455-47fd-ade7-8e0c776175ad"
      },
      "outputs": [
        {
          "output_type": "stream",
          "name": "stdout",
          "text": [
            "(3,)\n"
          ]
        }
      ],
      "source": [
        "print(one_darray.shape)"
      ]
    },
    {
      "cell_type": "code",
      "execution_count": 11,
      "metadata": {
        "colab": {
          "base_uri": "https://localhost:8080/"
        },
        "id": "cJoONrBmuYTe",
        "outputId": "37e4d718-44de-44d8-a571-30070ea98ff6"
      },
      "outputs": [
        {
          "output_type": "stream",
          "name": "stdout",
          "text": [
            "[[1 2]\n",
            " [4 5]\n",
            " [7 8]]\n",
            "int64 \n",
            "\n",
            "(3, 2)\n"
          ]
        }
      ],
      "source": [
        "my_matrix = [[1,2],[4,5],[7,8]]\n",
        "two_darray = np.array(my_matrix)\n",
        "print(two_darray)\n",
        "\n",
        "\n",
        "print(two_darray.dtype,\"\\n\")\n",
        "print(two_darray.shape)"
      ]
    },
    {
      "cell_type": "code",
      "source": [
        "a=np.array([1,2,3,4,5])\n",
        "a"
      ],
      "metadata": {
        "colab": {
          "base_uri": "https://localhost:8080/"
        },
        "id": "_Sn-39TY9ATC",
        "outputId": "6bc3a4d3-bb10-4280-9a1f-68b4b8d584e0"
      },
      "execution_count": 12,
      "outputs": [
        {
          "output_type": "execute_result",
          "data": {
            "text/plain": [
              "array([1, 2, 3, 4, 5])"
            ]
          },
          "metadata": {},
          "execution_count": 12
        }
      ]
    },
    {
      "cell_type": "markdown",
      "source": [
        "This is one dimension array and we Can aslso specify the type of data in the dtype argument:"
      ],
      "metadata": {
        "id": "Iq32_HhO85TR"
      }
    },
    {
      "cell_type": "code",
      "source": [
        "a=np.array([1.4,2,3,4.8,5.1],dtype=float)\n",
        "a"
      ],
      "metadata": {
        "colab": {
          "base_uri": "https://localhost:8080/"
        },
        "id": "PJgfhBGo80kk",
        "outputId": "174270b0-8b55-4b23-84df-0e40a271da26"
      },
      "execution_count": 13,
      "outputs": [
        {
          "output_type": "execute_result",
          "data": {
            "text/plain": [
              "array([1.4, 2. , 3. , 4.8, 5.1])"
            ]
          },
          "metadata": {},
          "execution_count": 13
        }
      ]
    },
    {
      "cell_type": "markdown",
      "source": [
        "There are two more methods to create an array as arrange() which arrange values by steps and linspace which divides the range in given parts in equal ratio"
      ],
      "metadata": {
        "id": "4zMUJTti9Eyt"
      }
    },
    {
      "cell_type": "code",
      "source": [
        "np.arange(0,10,2) # this is one dimensional range array and parameters are( start, stop, step)"
      ],
      "metadata": {
        "colab": {
          "base_uri": "https://localhost:8080/"
        },
        "id": "wJ4J4X7T9HTF",
        "outputId": "6e8d4650-889b-4a37-bdcc-61482e3ac604"
      },
      "execution_count": 14,
      "outputs": [
        {
          "output_type": "execute_result",
          "data": {
            "text/plain": [
              "array([0, 2, 4, 6, 8])"
            ]
          },
          "metadata": {},
          "execution_count": 14
        }
      ]
    },
    {
      "cell_type": "code",
      "source": [
        "np.linspace(0,10,5) #It will  divide into parts (start, stop, parts)"
      ],
      "metadata": {
        "colab": {
          "base_uri": "https://localhost:8080/"
        },
        "id": "49V8J7KW9Jsh",
        "outputId": "7525a82d-669c-4e5a-e43c-0b2cb6f07318"
      },
      "execution_count": 15,
      "outputs": [
        {
          "output_type": "execute_result",
          "data": {
            "text/plain": [
              "array([ 0. ,  2.5,  5. ,  7.5, 10. ])"
            ]
          },
          "metadata": {},
          "execution_count": 15
        }
      ]
    },
    {
      "cell_type": "markdown",
      "source": [
        "**Multidimensional NumPy Arrays**"
      ],
      "metadata": {
        "id": "16GD-7tI9Ugl"
      }
    },
    {
      "cell_type": "code",
      "source": [
        "np.array([[1,2,3,4],[5,6,7,8]]) #2D array"
      ],
      "metadata": {
        "colab": {
          "base_uri": "https://localhost:8080/"
        },
        "id": "iklpLJSv9SM5",
        "outputId": "f525ab32-1511-4d09-eb54-8b018b7aa093"
      },
      "execution_count": 16,
      "outputs": [
        {
          "output_type": "execute_result",
          "data": {
            "text/plain": [
              "array([[1, 2, 3, 4],\n",
              "       [5, 6, 7, 8]])"
            ]
          },
          "metadata": {},
          "execution_count": 16
        }
      ]
    },
    {
      "cell_type": "code",
      "source": [
        "p=np.array([[1,2,3,4],[5,6,7,8]],dtype=float)\n",
        "p"
      ],
      "metadata": {
        "colab": {
          "base_uri": "https://localhost:8080/"
        },
        "id": "UY_gTpvE9ipY",
        "outputId": "ec350bcf-ef1c-41ea-a657-1e049ce0147e"
      },
      "execution_count": 17,
      "outputs": [
        {
          "output_type": "execute_result",
          "data": {
            "text/plain": [
              "array([[1., 2., 3., 4.],\n",
              "       [5., 6., 7., 8.]])"
            ]
          },
          "metadata": {},
          "execution_count": 17
        }
      ]
    },
    {
      "cell_type": "markdown",
      "metadata": {
        "id": "AqovzluIudiH"
      },
      "source": [
        "## Built-in Methods\n",
        "\n",
        "There are lots of built-in ways to generate Arrays"
      ]
    },
    {
      "cell_type": "markdown",
      "metadata": {
        "id": "8NqXV_koufU7"
      },
      "source": [
        "### arange\n",
        "\n",
        "Return evenly spaced values within a given interval."
      ]
    },
    {
      "cell_type": "code",
      "execution_count": 18,
      "metadata": {
        "colab": {
          "base_uri": "https://localhost:8080/"
        },
        "id": "-WypWTPauaI1",
        "outputId": "f3dbfc56-e29b-4c0c-f748-ba8ac682c5bd"
      },
      "outputs": [
        {
          "output_type": "execute_result",
          "data": {
            "text/plain": [
              "array([0, 1, 2, 3, 4, 5, 6, 7, 8, 9])"
            ]
          },
          "metadata": {},
          "execution_count": 18
        }
      ],
      "source": [
        "np.arange(10)"
      ]
    },
    {
      "cell_type": "code",
      "execution_count": 19,
      "metadata": {
        "colab": {
          "base_uri": "https://localhost:8080/"
        },
        "id": "wr4mJhz4uhBY",
        "outputId": "c03ef9ec-af55-497b-c226-08de9d8e3792"
      },
      "outputs": [
        {
          "output_type": "execute_result",
          "data": {
            "text/plain": [
              "array([1, 2, 3, 4, 5, 6, 7, 8, 9])"
            ]
          },
          "metadata": {},
          "execution_count": 19
        }
      ],
      "source": [
        "np.arange(1,10)"
      ]
    },
    {
      "cell_type": "code",
      "execution_count": 20,
      "metadata": {
        "colab": {
          "base_uri": "https://localhost:8080/"
        },
        "id": "lEq-oS2nuhnx",
        "outputId": "c36aff55-84b9-4213-935e-58824a7f0ec4"
      },
      "outputs": [
        {
          "output_type": "execute_result",
          "data": {
            "text/plain": [
              "array([ 0,  2,  4,  6,  8, 10])"
            ]
          },
          "metadata": {},
          "execution_count": 20
        }
      ],
      "source": [
        "np.arange(0,11,2)"
      ]
    },
    {
      "cell_type": "markdown",
      "metadata": {
        "id": "PAEn4fHEulOF"
      },
      "source": [
        "### zeros and ones\n",
        "\n",
        "Generate arrays of zeros or ones"
      ]
    },
    {
      "cell_type": "code",
      "execution_count": 21,
      "metadata": {
        "colab": {
          "base_uri": "https://localhost:8080/"
        },
        "id": "mvhZTbmpujMS",
        "outputId": "0975f0ff-db44-4000-ae11-62fa14ec25fc"
      },
      "outputs": [
        {
          "output_type": "execute_result",
          "data": {
            "text/plain": [
              "array([0., 0., 0., 0., 0., 0., 0., 0., 0., 0., 0., 0., 0., 0., 0., 0., 0.,\n",
              "       0., 0., 0., 0., 0., 0., 0., 0., 0., 0., 0., 0., 0., 0., 0., 0., 0.,\n",
              "       0., 0., 0., 0., 0., 0., 0., 0., 0., 0., 0., 0., 0., 0., 0., 0., 0.,\n",
              "       0., 0., 0., 0., 0., 0., 0., 0., 0., 0., 0., 0., 0., 0., 0., 0., 0.,\n",
              "       0., 0., 0., 0., 0., 0., 0., 0., 0., 0., 0., 0., 0., 0., 0., 0., 0.,\n",
              "       0., 0., 0., 0., 0., 0., 0., 0., 0., 0., 0., 0., 0., 0., 0.])"
            ]
          },
          "metadata": {},
          "execution_count": 21
        }
      ],
      "source": [
        "np.zeros(100)"
      ]
    },
    {
      "cell_type": "code",
      "execution_count": 22,
      "metadata": {
        "colab": {
          "base_uri": "https://localhost:8080/"
        },
        "id": "jLZ7uyAUumOv",
        "outputId": "4856109f-8d87-4572-9d07-1fda615830e1"
      },
      "outputs": [
        {
          "output_type": "execute_result",
          "data": {
            "text/plain": [
              "array([[0., 0., 0., 0., 0.],\n",
              "       [0., 0., 0., 0., 0.],\n",
              "       [0., 0., 0., 0., 0.],\n",
              "       [0., 0., 0., 0., 0.],\n",
              "       [0., 0., 0., 0., 0.]])"
            ]
          },
          "metadata": {},
          "execution_count": 22
        }
      ],
      "source": [
        "np.zeros((5,5))"
      ]
    },
    {
      "cell_type": "code",
      "execution_count": 23,
      "metadata": {
        "colab": {
          "base_uri": "https://localhost:8080/"
        },
        "id": "22b2wc8VunP4",
        "outputId": "804acc95-98c2-4320-db76-c4a02013cb95"
      },
      "outputs": [
        {
          "output_type": "execute_result",
          "data": {
            "text/plain": [
              "array([[0., 0., 0., 0., 0.],\n",
              "       [0., 0., 0., 0., 0.],\n",
              "       [0., 0., 0., 0., 0.]])"
            ]
          },
          "metadata": {},
          "execution_count": 23
        }
      ],
      "source": [
        "np.zeros((3,5))"
      ]
    },
    {
      "cell_type": "code",
      "execution_count": 24,
      "metadata": {
        "colab": {
          "base_uri": "https://localhost:8080/"
        },
        "id": "OOUNUR5auoRY",
        "outputId": "0fbed8d1-d16d-47e3-cff5-1cb8ed856d37"
      },
      "outputs": [
        {
          "output_type": "execute_result",
          "data": {
            "text/plain": [
              "array([1., 1., 1.])"
            ]
          },
          "metadata": {},
          "execution_count": 24
        }
      ],
      "source": [
        "np.ones(3)"
      ]
    },
    {
      "cell_type": "code",
      "execution_count": 25,
      "metadata": {
        "colab": {
          "base_uri": "https://localhost:8080/"
        },
        "id": "D5hSiq-euppP",
        "outputId": "578e6ac3-e87d-46fb-a63e-6c2118a6fb19"
      },
      "outputs": [
        {
          "output_type": "execute_result",
          "data": {
            "text/plain": [
              "array([[1., 1., 1., 1.],\n",
              "       [1., 1., 1., 1.],\n",
              "       [1., 1., 1., 1.]])"
            ]
          },
          "metadata": {},
          "execution_count": 25
        }
      ],
      "source": [
        "np.ones((3,4))"
      ]
    },
    {
      "cell_type": "markdown",
      "source": [
        "**Array Manipulation**\n",
        "\n",
        "**Adding or Removing Elements**"
      ],
      "metadata": {
        "id": "pxML8FFJjD3O"
      }
    },
    {
      "cell_type": "code",
      "source": [
        "a"
      ],
      "metadata": {
        "colab": {
          "base_uri": "https://localhost:8080/"
        },
        "id": "0NEhfqRcjwqu",
        "outputId": "a4689679-c763-4066-8860-24de2cc498c9"
      },
      "execution_count": 84,
      "outputs": [
        {
          "output_type": "execute_result",
          "data": {
            "text/plain": [
              "array([1, 2, 3])"
            ]
          },
          "metadata": {},
          "execution_count": 84
        }
      ]
    },
    {
      "cell_type": "code",
      "source": [
        "np.append(a,2)"
      ],
      "metadata": {
        "colab": {
          "base_uri": "https://localhost:8080/"
        },
        "id": "_-Q2HqoZjTyu",
        "outputId": "50f22010-5d95-416e-aa44-1b636846036f"
      },
      "execution_count": 83,
      "outputs": [
        {
          "output_type": "execute_result",
          "data": {
            "text/plain": [
              "array([1, 2, 3, 2])"
            ]
          },
          "metadata": {},
          "execution_count": 83
        }
      ]
    },
    {
      "cell_type": "markdown",
      "metadata": {
        "id": "AmvaLpKwusq0"
      },
      "source": [
        "## Random"
      ]
    },
    {
      "cell_type": "markdown",
      "metadata": {
        "id": "NVQvVB9guuS8"
      },
      "source": [
        "### randint\n",
        "Return random integers from `low` (inclusive) to `high` (exclusive)."
      ]
    },
    {
      "cell_type": "code",
      "execution_count": 26,
      "metadata": {
        "colab": {
          "base_uri": "https://localhost:8080/"
        },
        "id": "dzrSnFmGuqkw",
        "outputId": "15cc95ee-a86f-4602-8ac8-89828474faa2"
      },
      "outputs": [
        {
          "output_type": "execute_result",
          "data": {
            "text/plain": [
              "12"
            ]
          },
          "metadata": {},
          "execution_count": 26
        }
      ],
      "source": [
        "np.random.randint(1,100)"
      ]
    },
    {
      "cell_type": "code",
      "execution_count": 27,
      "metadata": {
        "colab": {
          "base_uri": "https://localhost:8080/"
        },
        "id": "TerKtUp4v_B0",
        "outputId": "91ed8179-162e-44b0-c536-2673558022e6"
      },
      "outputs": [
        {
          "output_type": "execute_result",
          "data": {
            "text/plain": [
              "array([38, 23,  9, 78,  1, 48, 55, 31, 75, 91])"
            ]
          },
          "metadata": {},
          "execution_count": 27
        }
      ],
      "source": [
        "y=np.random.randint(1,100,10)\n",
        "y"
      ]
    },
    {
      "cell_type": "code",
      "execution_count": 28,
      "metadata": {
        "colab": {
          "base_uri": "https://localhost:8080/"
        },
        "id": "aW2PuGuVwCZB",
        "outputId": "99ca7a90-5adf-4d58-920c-a9dcc8531c93"
      },
      "outputs": [
        {
          "output_type": "stream",
          "name": "stdout",
          "text": [
            "[10 33 65 52 73 15 81 12 31]\n"
          ]
        }
      ],
      "source": [
        "x = np.random.randint(2,100,9)\n",
        "print(x)"
      ]
    },
    {
      "cell_type": "markdown",
      "source": [
        "The np.random.random() function in NumPy generates random values from a uniform distribution over the interval [0, 1). This means that the values it produces will always be in the range [0, 1), where 0 is inclusive and 1 is exclusive. In other words, the random values will be greater than or equal to 0, but strictly less than 1"
      ],
      "metadata": {
        "id": "l8XwWrHHkFYS"
      }
    },
    {
      "cell_type": "code",
      "source": [
        "np.random.random((4,3))"
      ],
      "metadata": {
        "colab": {
          "base_uri": "https://localhost:8080/"
        },
        "id": "A77VunTAkA-9",
        "outputId": "ff9e02a6-836f-4bc6-e0a8-eeca24bf2bf7"
      },
      "execution_count": 85,
      "outputs": [
        {
          "output_type": "execute_result",
          "data": {
            "text/plain": [
              "array([[0.58894595, 0.88791981, 0.9349247 ],\n",
              "       [0.12349965, 0.34393971, 0.68957092],\n",
              "       [0.79624854, 0.2980964 , 0.70722161],\n",
              "       [0.8364095 , 0.64289876, 0.87411705]])"
            ]
          },
          "metadata": {},
          "execution_count": 85
        }
      ]
    },
    {
      "cell_type": "code",
      "source": [
        "np.random.random((3,3))  #Creates random array"
      ],
      "metadata": {
        "colab": {
          "base_uri": "https://localhost:8080/"
        },
        "id": "BsiLRg34kJyR",
        "outputId": "87ed939a-e2b8-413c-d2e0-eb55c81eb724"
      },
      "execution_count": 86,
      "outputs": [
        {
          "output_type": "execute_result",
          "data": {
            "text/plain": [
              "array([[0.89557352, 0.31290146, 0.67724827],\n",
              "       [0.07231153, 0.13427752, 0.32537533],\n",
              "       [0.42840086, 0.79602134, 0.39154749]])"
            ]
          },
          "metadata": {},
          "execution_count": 86
        }
      ]
    },
    {
      "cell_type": "code",
      "source": [
        "a = np.empty((2,2),dtype=int)    #Creates an empty array\n",
        "a"
      ],
      "metadata": {
        "colab": {
          "base_uri": "https://localhost:8080/"
        },
        "id": "UbtcAbVgkNev",
        "outputId": "d4c84877-75ac-4459-b35e-1cab5d70b3bd"
      },
      "execution_count": 87,
      "outputs": [
        {
          "output_type": "execute_result",
          "data": {
            "text/plain": [
              "array([[0, 1],\n",
              "       [2, 3]])"
            ]
          },
          "metadata": {},
          "execution_count": 87
        }
      ]
    },
    {
      "cell_type": "code",
      "source": [
        "np.eye((6),dtype = int)       #diagonal matrix"
      ],
      "metadata": {
        "colab": {
          "base_uri": "https://localhost:8080/"
        },
        "id": "lg67V6L-kNU3",
        "outputId": "1aa7f45f-2e5d-4d5f-f289-09eeebb0dfd7"
      },
      "execution_count": 88,
      "outputs": [
        {
          "output_type": "execute_result",
          "data": {
            "text/plain": [
              "array([[1, 0, 0, 0, 0, 0],\n",
              "       [0, 1, 0, 0, 0, 0],\n",
              "       [0, 0, 1, 0, 0, 0],\n",
              "       [0, 0, 0, 1, 0, 0],\n",
              "       [0, 0, 0, 0, 1, 0],\n",
              "       [0, 0, 0, 0, 0, 1]])"
            ]
          },
          "metadata": {},
          "execution_count": 88
        }
      ]
    },
    {
      "cell_type": "code",
      "source": [
        "np.eye(6,k=2)"
      ],
      "metadata": {
        "colab": {
          "base_uri": "https://localhost:8080/"
        },
        "id": "acFQlCEDkNLS",
        "outputId": "f4b45d4b-b7cb-48e1-ef6a-758b3aa9d308"
      },
      "execution_count": 89,
      "outputs": [
        {
          "output_type": "execute_result",
          "data": {
            "text/plain": [
              "array([[0., 0., 1., 0., 0., 0.],\n",
              "       [0., 0., 0., 1., 0., 0.],\n",
              "       [0., 0., 0., 0., 1., 0.],\n",
              "       [0., 0., 0., 0., 0., 1.],\n",
              "       [0., 0., 0., 0., 0., 0.],\n",
              "       [0., 0., 0., 0., 0., 0.]])"
            ]
          },
          "metadata": {},
          "execution_count": 89
        }
      ]
    },
    {
      "cell_type": "code",
      "source": [
        "np.eye(6,k=-2)"
      ],
      "metadata": {
        "colab": {
          "base_uri": "https://localhost:8080/"
        },
        "id": "EGh_BqhGkM99",
        "outputId": "4a925539-939d-4bc0-82fc-060edff53bd6"
      },
      "execution_count": 90,
      "outputs": [
        {
          "output_type": "execute_result",
          "data": {
            "text/plain": [
              "array([[0., 0., 0., 0., 0., 0.],\n",
              "       [0., 0., 0., 0., 0., 0.],\n",
              "       [1., 0., 0., 0., 0., 0.],\n",
              "       [0., 1., 0., 0., 0., 0.],\n",
              "       [0., 0., 1., 0., 0., 0.],\n",
              "       [0., 0., 0., 1., 0., 0.]])"
            ]
          },
          "metadata": {},
          "execution_count": 90
        }
      ]
    },
    {
      "cell_type": "markdown",
      "source": [
        "Properties"
      ],
      "metadata": {
        "id": "8H_jPZR1kcoX"
      }
    },
    {
      "cell_type": "code",
      "source": [
        "a= np.array ([[1,2,3,4],[5,6,7,8]])\n",
        "a"
      ],
      "metadata": {
        "colab": {
          "base_uri": "https://localhost:8080/"
        },
        "id": "Xfv1BUBtkeJn",
        "outputId": "2d0f2238-c33d-43ec-93ed-c315cd8e831a"
      },
      "execution_count": 91,
      "outputs": [
        {
          "output_type": "execute_result",
          "data": {
            "text/plain": [
              "array([[1, 2, 3, 4],\n",
              "       [5, 6, 7, 8]])"
            ]
          },
          "metadata": {},
          "execution_count": 91
        }
      ]
    },
    {
      "cell_type": "code",
      "source": [
        "a.shape"
      ],
      "metadata": {
        "colab": {
          "base_uri": "https://localhost:8080/"
        },
        "id": "39lnBTmrkhKU",
        "outputId": "77cb7cc2-f722-4607-9da6-dac954603091"
      },
      "execution_count": 92,
      "outputs": [
        {
          "output_type": "execute_result",
          "data": {
            "text/plain": [
              "(2, 4)"
            ]
          },
          "metadata": {},
          "execution_count": 92
        }
      ]
    },
    {
      "cell_type": "code",
      "source": [
        "len(a)"
      ],
      "metadata": {
        "colab": {
          "base_uri": "https://localhost:8080/"
        },
        "id": "VfoF7gGgkhED",
        "outputId": "0376e328-dff1-4a39-9ffa-c7ce19024474"
      },
      "execution_count": 93,
      "outputs": [
        {
          "output_type": "execute_result",
          "data": {
            "text/plain": [
              "2"
            ]
          },
          "metadata": {},
          "execution_count": 93
        }
      ]
    },
    {
      "cell_type": "code",
      "source": [
        "a.ndim"
      ],
      "metadata": {
        "colab": {
          "base_uri": "https://localhost:8080/"
        },
        "id": "pPrv1aQkkg8d",
        "outputId": "0f0cec28-d667-4486-d09f-0f6d10159073"
      },
      "execution_count": 94,
      "outputs": [
        {
          "output_type": "execute_result",
          "data": {
            "text/plain": [
              "2"
            ]
          },
          "metadata": {},
          "execution_count": 94
        }
      ]
    },
    {
      "cell_type": "code",
      "source": [
        "a.dtype"
      ],
      "metadata": {
        "colab": {
          "base_uri": "https://localhost:8080/"
        },
        "id": "mJvgeFslkmfx",
        "outputId": "1dfc2fea-f626-43e2-eaa9-bc43159bd350"
      },
      "execution_count": 95,
      "outputs": [
        {
          "output_type": "execute_result",
          "data": {
            "text/plain": [
              "dtype('int64')"
            ]
          },
          "metadata": {},
          "execution_count": 95
        }
      ]
    },
    {
      "cell_type": "code",
      "source": [
        "a.astype(type)"
      ],
      "metadata": {
        "colab": {
          "base_uri": "https://localhost:8080/"
        },
        "id": "uQu_pd3nkmXl",
        "outputId": "94753a49-702b-4795-c00b-c4d0a83bcd87"
      },
      "execution_count": 96,
      "outputs": [
        {
          "output_type": "execute_result",
          "data": {
            "text/plain": [
              "array([[1, 2, 3, 4],\n",
              "       [5, 6, 7, 8]], dtype=object)"
            ]
          },
          "metadata": {},
          "execution_count": 96
        }
      ]
    },
    {
      "cell_type": "code",
      "source": [
        "type(a)"
      ],
      "metadata": {
        "colab": {
          "base_uri": "https://localhost:8080/"
        },
        "id": "F26cX89fkmPv",
        "outputId": "6aab2004-cc7a-46aa-8717-4c132665479d"
      },
      "execution_count": 97,
      "outputs": [
        {
          "output_type": "execute_result",
          "data": {
            "text/plain": [
              "numpy.ndarray"
            ]
          },
          "metadata": {},
          "execution_count": 97
        }
      ]
    },
    {
      "cell_type": "code",
      "source": [],
      "metadata": {
        "id": "UDkJxaYwkuoO"
      },
      "execution_count": 98,
      "outputs": []
    },
    {
      "cell_type": "markdown",
      "metadata": {
        "id": "7u6D48ArwFXl"
      },
      "source": [
        "## Reshape\n",
        "Returns an array containing the same data with a new shape."
      ]
    },
    {
      "cell_type": "code",
      "execution_count": 29,
      "metadata": {
        "colab": {
          "base_uri": "https://localhost:8080/"
        },
        "id": "OhQ3tAD_wDzs",
        "outputId": "ec5f505a-87fb-421a-809b-7f78bb90a439"
      },
      "outputs": [
        {
          "output_type": "execute_result",
          "data": {
            "text/plain": [
              "array([[10, 33, 65],\n",
              "       [52, 73, 15],\n",
              "       [81, 12, 31]])"
            ]
          },
          "metadata": {},
          "execution_count": 29
        }
      ],
      "source": [
        "x.reshape(3,3)"
      ]
    },
    {
      "cell_type": "code",
      "execution_count": 30,
      "metadata": {
        "colab": {
          "base_uri": "https://localhost:8080/"
        },
        "id": "fo5As9WtIjvI",
        "outputId": "d902c463-6b0e-45ac-a2df-8e835349bcbd"
      },
      "outputs": [
        {
          "output_type": "execute_result",
          "data": {
            "text/plain": [
              "array([[38, 23,  9, 78,  1],\n",
              "       [48, 55, 31, 75, 91]])"
            ]
          },
          "metadata": {},
          "execution_count": 30
        }
      ],
      "source": [
        "y.reshape(2,5)"
      ]
    },
    {
      "cell_type": "code",
      "source": [],
      "metadata": {
        "id": "rzGeKL3UlFIJ"
      },
      "execution_count": 98,
      "outputs": []
    },
    {
      "cell_type": "markdown",
      "metadata": {
        "id": "617dd069"
      },
      "source": [
        "## Array Manipulation\n",
        "\n",
        "#### Adding or Removing Elements"
      ]
    },
    {
      "cell_type": "code",
      "execution_count": 99,
      "metadata": {
        "colab": {
          "base_uri": "https://localhost:8080/"
        },
        "id": "7a2dcdac",
        "outputId": "3494c687-9e67-4ed6-8f32-0e9ef878af04"
      },
      "outputs": [
        {
          "output_type": "execute_result",
          "data": {
            "text/plain": [
              "array([1, 2, 3, 4, 5, 6, 7, 8, 2])"
            ]
          },
          "metadata": {},
          "execution_count": 99
        }
      ],
      "source": [
        "np.append(a,2)"
      ]
    },
    {
      "cell_type": "code",
      "execution_count": 100,
      "metadata": {
        "colab": {
          "base_uri": "https://localhost:8080/"
        },
        "id": "6221702a",
        "outputId": "8ce8ad4c-5419-4b69-b7d5-9d59d21448b2"
      },
      "outputs": [
        {
          "output_type": "execute_result",
          "data": {
            "text/plain": [
              "array([1, 2, 3, 4, 6, 4, 5, 8, 7, 8, 9, 2, 6, 9, 0, 9])"
            ]
          },
          "metadata": {},
          "execution_count": 100
        }
      ],
      "source": [
        "a=np.array([[1,2,3,4],[6,4,5,8]])\n",
        "b=np.array([[7,8,9,2],[6,9,0,9]])\n",
        "np.append(a,b)"
      ]
    },
    {
      "cell_type": "code",
      "execution_count": 101,
      "metadata": {
        "id": "91a5fd30",
        "outputId": "e0cd273a-459b-4074-ae99-25c8e0a619ef",
        "colab": {
          "base_uri": "https://localhost:8080/"
        }
      },
      "outputs": [
        {
          "output_type": "execute_result",
          "data": {
            "text/plain": [
              "array([[1, 2, 3, 4],\n",
              "       [3, 3, 3, 3],\n",
              "       [6, 4, 5, 8]])"
            ]
          },
          "metadata": {},
          "execution_count": 101
        }
      ],
      "source": [
        "np.insert(a, 1, 3, 0)   #Insert items into array at axis 0 or 1"
      ]
    },
    {
      "cell_type": "code",
      "execution_count": 102,
      "metadata": {
        "id": "06c7b01b",
        "outputId": "6792e2c8-9588-4ad3-e723-ab2e224a40cc",
        "colab": {
          "base_uri": "https://localhost:8080/"
        }
      },
      "outputs": [
        {
          "output_type": "execute_result",
          "data": {
            "text/plain": [
              "array([[1, 3, 2, 3, 4],\n",
              "       [6, 3, 4, 5, 8]])"
            ]
          },
          "metadata": {},
          "execution_count": 102
        }
      ],
      "source": [
        "np.insert(a, 1, 3, 1)"
      ]
    },
    {
      "cell_type": "code",
      "execution_count": 103,
      "metadata": {
        "id": "4d023721",
        "outputId": "96cabd11-c508-4944-f359-aad6c7d0fe4c",
        "colab": {
          "base_uri": "https://localhost:8080/"
        }
      },
      "outputs": [
        {
          "output_type": "execute_result",
          "data": {
            "text/plain": [
              "array([[1, 2, 3],\n",
              "       [4, 6, 4]])"
            ]
          },
          "metadata": {},
          "execution_count": 103
        }
      ],
      "source": [
        "np.resize(a,(2,3))"
      ]
    },
    {
      "cell_type": "code",
      "execution_count": 104,
      "metadata": {
        "id": "503b1c5f",
        "outputId": "f385022d-d20a-412d-de1f-c404e7012422",
        "colab": {
          "base_uri": "https://localhost:8080/"
        }
      },
      "outputs": [
        {
          "output_type": "execute_result",
          "data": {
            "text/plain": [
              "array([[1, 2, 3, 4]])"
            ]
          },
          "metadata": {},
          "execution_count": 104
        }
      ],
      "source": [
        "np.delete(a,1,0)"
      ]
    },
    {
      "cell_type": "markdown",
      "metadata": {
        "id": "6eaa1c0b"
      },
      "source": [
        "### Reshaping NumPy Arrays"
      ]
    },
    {
      "cell_type": "code",
      "execution_count": 105,
      "metadata": {
        "id": "b9800030",
        "outputId": "e655ab7b-09ad-4d32-b6a3-fd156e9c6cfa",
        "colab": {
          "base_uri": "https://localhost:8080/"
        }
      },
      "outputs": [
        {
          "output_type": "execute_result",
          "data": {
            "text/plain": [
              "array([[ 3,  6,  9],\n",
              "       [12, 23, 55]])"
            ]
          },
          "metadata": {},
          "execution_count": 105
        }
      ],
      "source": [
        "a = np.array([3,6,9,12,23,55])\n",
        "\n",
        "np.reshape(a,(2,3))# reshaped the ndarray from a 1-D to a 2-D ndarray."
      ]
    },
    {
      "cell_type": "code",
      "execution_count": 106,
      "metadata": {
        "id": "ffc6e1b9",
        "outputId": "ccd6fc58-aa96-4a86-ef0b-b60358e6cc09",
        "colab": {
          "base_uri": "https://localhost:8080/"
        }
      },
      "outputs": [
        {
          "output_type": "stream",
          "name": "stdout",
          "text": [
            "Three rows : \n",
            " [[ 3  6]\n",
            " [ 9 12]\n",
            " [18 24]]\n"
          ]
        }
      ],
      "source": [
        "a = np.array([3,6,9,12,18,24])\n",
        "print('Three rows :','\\n',np.reshape(a,(3,2)))"
      ]
    },
    {
      "cell_type": "code",
      "execution_count": 106,
      "metadata": {
        "id": "1b78fd62"
      },
      "outputs": [],
      "source": []
    },
    {
      "cell_type": "markdown",
      "metadata": {
        "id": "ef9d61e6"
      },
      "source": [
        "### Combining Arrays"
      ]
    },
    {
      "cell_type": "code",
      "execution_count": 107,
      "metadata": {
        "id": "41638012",
        "outputId": "fc433fc0-5230-4e35-9eb8-edd498de45fd",
        "colab": {
          "base_uri": "https://localhost:8080/"
        }
      },
      "outputs": [
        {
          "output_type": "execute_result",
          "data": {
            "text/plain": [
              "array([[ 1,  2,  3, 11, 12, 13],\n",
              "       [10, 20, 30, 60, 40, 20]])"
            ]
          },
          "metadata": {},
          "execution_count": 107
        }
      ],
      "source": [
        "x=np.array([[1,2,3],[10,20,30]])\n",
        "y=np.array([[11,12,13],[60,40,20]])\n",
        "np.concatenate((x,y),axis=1)\n"
      ]
    },
    {
      "cell_type": "code",
      "execution_count": 108,
      "metadata": {
        "id": "1e6d84f5",
        "outputId": "a8a543b8-ea72-4c5d-b5a5-8f1c8c442d10",
        "colab": {
          "base_uri": "https://localhost:8080/"
        }
      },
      "outputs": [
        {
          "output_type": "execute_result",
          "data": {
            "text/plain": [
              "array([[ 1,  2,  3],\n",
              "       [10, 20, 30],\n",
              "       [11, 12, 13],\n",
              "       [60, 40, 20]])"
            ]
          },
          "metadata": {},
          "execution_count": 108
        }
      ],
      "source": [
        "np.vstack((x,y))"
      ]
    },
    {
      "cell_type": "markdown",
      "metadata": {
        "id": "38046198"
      },
      "source": [
        "### Splitting of Arrays\n"
      ]
    },
    {
      "cell_type": "code",
      "execution_count": 109,
      "metadata": {
        "id": "b92144d1",
        "outputId": "d3ef80d3-2a71-49ec-e1ae-9074cbb60cc2",
        "colab": {
          "base_uri": "https://localhost:8080/"
        }
      },
      "outputs": [
        {
          "output_type": "execute_result",
          "data": {
            "text/plain": [
              "[array([[1, 2, 3]]),\n",
              " array([[10, 20, 30]]),\n",
              " array([], shape=(0, 3), dtype=int64)]"
            ]
          },
          "metadata": {},
          "execution_count": 109
        }
      ],
      "source": [
        "np.array_split(x, 3)"
      ]
    },
    {
      "cell_type": "code",
      "execution_count": 110,
      "metadata": {
        "id": "2e1e06d6",
        "outputId": "dfffaa3b-3c79-4f42-9b81-30cc1435fd27",
        "colab": {
          "base_uri": "https://localhost:8080/"
        }
      },
      "outputs": [
        {
          "output_type": "execute_result",
          "data": {
            "text/plain": [
              "[array([3, 6, 9]), array([12, 18, 24])]"
            ]
          },
          "metadata": {},
          "execution_count": 110
        }
      ],
      "source": [
        "np.hsplit(a, 2)"
      ]
    },
    {
      "cell_type": "code",
      "execution_count": 111,
      "metadata": {
        "id": "1ccd0746"
      },
      "outputs": [],
      "source": [
        "p= a.flatten()"
      ]
    },
    {
      "cell_type": "code",
      "execution_count": 112,
      "metadata": {
        "id": "7b2c0e01",
        "outputId": "a695f3f2-792f-4a89-8dd9-975c6b553a11",
        "colab": {
          "base_uri": "https://localhost:8080/"
        }
      },
      "outputs": [
        {
          "output_type": "execute_result",
          "data": {
            "text/plain": [
              "array([ 3,  6,  9, 12, 18, 24])"
            ]
          },
          "metadata": {},
          "execution_count": 112
        }
      ],
      "source": [
        "p"
      ]
    },
    {
      "cell_type": "code",
      "execution_count": 113,
      "metadata": {
        "id": "f8ba21c1",
        "outputId": "14c90f9b-fc55-4459-f2df-2ac0a7b4421e",
        "colab": {
          "base_uri": "https://localhost:8080/"
        }
      },
      "outputs": [
        {
          "output_type": "execute_result",
          "data": {
            "text/plain": [
              "array([ 3,  6,  9, 12, 18, 24])"
            ]
          },
          "metadata": {},
          "execution_count": 113
        }
      ],
      "source": [
        "x = np.transpose(p)\n",
        "x.T"
      ]
    },
    {
      "cell_type": "code",
      "execution_count": 114,
      "metadata": {
        "id": "a293bf4e",
        "outputId": "703b39cf-0589-43b8-c8c0-676b0447a2f1",
        "colab": {
          "base_uri": "https://localhost:8080/"
        }
      },
      "outputs": [
        {
          "output_type": "execute_result",
          "data": {
            "text/plain": [
              "array([[ 1. , -1. ],\n",
              "       [-0.5,  1. ]])"
            ]
          },
          "metadata": {},
          "execution_count": 114
        }
      ],
      "source": [
        "new=np.array([[2,2],[1,2]])\n",
        "\n",
        "inverse = np.linalg.inv(new)\n",
        "inverse"
      ]
    },
    {
      "cell_type": "markdown",
      "metadata": {
        "id": "a839f75a"
      },
      "source": [
        "### Array Operations"
      ]
    },
    {
      "cell_type": "code",
      "execution_count": 115,
      "metadata": {
        "id": "a7c68320",
        "outputId": "03edc9b7-4c10-4541-8ec7-bdff5aeb1012",
        "colab": {
          "base_uri": "https://localhost:8080/"
        }
      },
      "outputs": [
        {
          "output_type": "execute_result",
          "data": {
            "text/plain": [
              "array([[12, 14, 16],\n",
              "       [70, 60, 50]])"
            ]
          },
          "metadata": {},
          "execution_count": 115
        }
      ],
      "source": [
        "x=np.array([[1,2,3],[10,20,30]])\n",
        "y=np.array([[11,12,13],[60,40,20]])\n",
        "\n",
        "z=x+y\n",
        "z"
      ]
    },
    {
      "cell_type": "code",
      "execution_count": 116,
      "metadata": {
        "id": "f9889a30",
        "outputId": "4ef92e04-5967-4b3b-a753-8bf28f47fcc6",
        "colab": {
          "base_uri": "https://localhost:8080/"
        }
      },
      "outputs": [
        {
          "output_type": "execute_result",
          "data": {
            "text/plain": [
              "array([[12, 14, 16],\n",
              "       [70, 60, 50]])"
            ]
          },
          "metadata": {},
          "execution_count": 116
        }
      ],
      "source": [
        "np.add(x,y)"
      ]
    },
    {
      "cell_type": "code",
      "execution_count": 117,
      "metadata": {
        "id": "a7d4b18c",
        "outputId": "44989de0-d253-44dc-b0a8-1a2e7ec84b92",
        "colab": {
          "base_uri": "https://localhost:8080/"
        }
      },
      "outputs": [
        {
          "output_type": "execute_result",
          "data": {
            "text/plain": [
              "array([[-10, -10, -10],\n",
              "       [-50, -20,  10]])"
            ]
          },
          "metadata": {},
          "execution_count": 117
        }
      ],
      "source": [
        "np.subtract(x,y)"
      ]
    },
    {
      "cell_type": "code",
      "execution_count": 118,
      "metadata": {
        "id": "9db0411a",
        "outputId": "e8131e33-f97b-4191-824a-c71fdb236abd",
        "colab": {
          "base_uri": "https://localhost:8080/"
        }
      },
      "outputs": [
        {
          "output_type": "execute_result",
          "data": {
            "text/plain": [
              "array([[0.09090909, 0.16666667, 0.23076923],\n",
              "       [0.16666667, 0.5       , 1.5       ]])"
            ]
          },
          "metadata": {},
          "execution_count": 118
        }
      ],
      "source": [
        "np.divide(x,y)\n",
        "#x/y"
      ]
    },
    {
      "cell_type": "code",
      "execution_count": 119,
      "metadata": {
        "id": "82e8eac6",
        "outputId": "cdc05324-a09f-457f-90c0-b1a37084d3e8",
        "colab": {
          "base_uri": "https://localhost:8080/"
        }
      },
      "outputs": [
        {
          "output_type": "execute_result",
          "data": {
            "text/plain": [
              "array([[ 11,  24,  39],\n",
              "       [600, 800, 600]])"
            ]
          },
          "metadata": {},
          "execution_count": 119
        }
      ],
      "source": [
        "np.multiply(x,y)\n",
        "#x * y"
      ]
    },
    {
      "cell_type": "code",
      "execution_count": 120,
      "metadata": {
        "id": "2b810739",
        "outputId": "418196d3-1412-4cea-c663-14c421db27d6",
        "colab": {
          "base_uri": "https://localhost:8080/"
        }
      },
      "outputs": [
        {
          "output_type": "execute_result",
          "data": {
            "text/plain": [
              "array([[1.        , 1.41421356, 1.73205081],\n",
              "       [3.16227766, 4.47213595, 5.47722558]])"
            ]
          },
          "metadata": {},
          "execution_count": 120
        }
      ],
      "source": [
        "np.sqrt(x)"
      ]
    },
    {
      "cell_type": "code",
      "execution_count": 121,
      "metadata": {
        "id": "ca9408a2",
        "outputId": "fe518417-2776-46d1-a760-dd52ff32cb2f",
        "colab": {
          "base_uri": "https://localhost:8080/"
        }
      },
      "outputs": [
        {
          "output_type": "execute_result",
          "data": {
            "text/plain": [
              "array([[ 0.84147098,  0.90929743,  0.14112001],\n",
              "       [-0.54402111,  0.91294525, -0.98803162]])"
            ]
          },
          "metadata": {},
          "execution_count": 121
        }
      ],
      "source": [
        "np.sin(x)"
      ]
    },
    {
      "cell_type": "code",
      "execution_count": 122,
      "metadata": {
        "id": "160d6de0",
        "outputId": "b8877c40-92dd-4af3-d8c8-6499b21cd0b7",
        "colab": {
          "base_uri": "https://localhost:8080/"
        }
      },
      "outputs": [
        {
          "output_type": "execute_result",
          "data": {
            "text/plain": [
              "array([[ 0.54030231, -0.41614684, -0.9899925 ],\n",
              "       [-0.83907153,  0.40808206,  0.15425145]])"
            ]
          },
          "metadata": {},
          "execution_count": 122
        }
      ],
      "source": [
        "np.cos(x)"
      ]
    },
    {
      "cell_type": "code",
      "execution_count": 123,
      "metadata": {
        "id": "6701a9ff",
        "outputId": "2964182d-b67e-4857-cdbb-ad338cecec25",
        "colab": {
          "base_uri": "https://localhost:8080/"
        }
      },
      "outputs": [
        {
          "output_type": "execute_result",
          "data": {
            "text/plain": [
              "array([[0.        , 0.69314718, 1.09861229],\n",
              "       [2.30258509, 2.99573227, 3.40119738]])"
            ]
          },
          "metadata": {},
          "execution_count": 123
        }
      ],
      "source": [
        "np.log(x)"
      ]
    },
    {
      "cell_type": "code",
      "execution_count": 124,
      "metadata": {
        "id": "a3ac13c2",
        "outputId": "ae61bda2-4597-4e3b-c4fc-a5c21cf5d960",
        "colab": {
          "base_uri": "https://localhost:8080/"
        }
      },
      "outputs": [
        {
          "output_type": "execute_result",
          "data": {
            "text/plain": [
              "array([[ 131,   92],\n",
              "       [1310,  920]])"
            ]
          },
          "metadata": {},
          "execution_count": 124
        }
      ],
      "source": [
        "x1=np.array([[1,2],[10,20]])\n",
        "y1=np.array([[11,12],[60,40]])\n",
        "\n",
        "\n",
        "np.dot(x1,y1)"
      ]
    },
    {
      "cell_type": "code",
      "execution_count": 125,
      "metadata": {
        "id": "79bb1232",
        "outputId": "6ac1a48c-ba51-44a9-a189-82880c95df85",
        "colab": {
          "base_uri": "https://localhost:8080/"
        }
      },
      "outputs": [
        {
          "output_type": "execute_result",
          "data": {
            "text/plain": [
              "array([-2.,  2.])"
            ]
          },
          "metadata": {},
          "execution_count": 125
        }
      ],
      "source": [
        "np.roots([1,0,-4])"
      ]
    },
    {
      "cell_type": "markdown",
      "metadata": {
        "id": "169e2c02"
      },
      "source": [
        "### Basic Statistics"
      ]
    },
    {
      "cell_type": "code",
      "execution_count": 126,
      "metadata": {
        "id": "ee034f9d",
        "outputId": "0184cd28-ca2a-4467-cfaf-2ae80d67d1b5",
        "colab": {
          "base_uri": "https://localhost:8080/"
        }
      },
      "outputs": [
        {
          "output_type": "execute_result",
          "data": {
            "text/plain": [
              "11.0"
            ]
          },
          "metadata": {},
          "execution_count": 126
        }
      ],
      "source": [
        "np.mean(x)"
      ]
    },
    {
      "cell_type": "code",
      "execution_count": 127,
      "metadata": {
        "id": "60f0dd7d",
        "outputId": "74ed2060-6236-4cc5-c32c-b2001ce78884",
        "colab": {
          "base_uri": "https://localhost:8080/"
        }
      },
      "outputs": [
        {
          "output_type": "execute_result",
          "data": {
            "text/plain": [
              "6.5"
            ]
          },
          "metadata": {},
          "execution_count": 127
        }
      ],
      "source": [
        "np.median(x)"
      ]
    },
    {
      "cell_type": "code",
      "execution_count": 128,
      "metadata": {
        "id": "6af2b664",
        "outputId": "b07b2f74-45b3-40a7-8c59-64fe453aaf06",
        "colab": {
          "base_uri": "https://localhost:8080/"
        }
      },
      "outputs": [
        {
          "output_type": "execute_result",
          "data": {
            "text/plain": [
              "10.708252269472673"
            ]
          },
          "metadata": {},
          "execution_count": 128
        }
      ],
      "source": [
        "np.std(x)"
      ]
    },
    {
      "cell_type": "code",
      "source": [],
      "metadata": {
        "id": "mF3UTnpRl12s"
      },
      "execution_count": null,
      "outputs": []
    },
    {
      "cell_type": "markdown",
      "metadata": {
        "id": "0a6cfb0d"
      },
      "source": [
        "## Indexing and Slicing of NumPy array"
      ]
    },
    {
      "cell_type": "code",
      "execution_count": 136,
      "metadata": {
        "id": "9ba95bf9",
        "outputId": "f0d4694d-467b-4a1f-f2f6-33304a454dd0",
        "colab": {
          "base_uri": "https://localhost:8080/"
        }
      },
      "outputs": [
        {
          "output_type": "stream",
          "name": "stdout",
          "text": [
            "[2 4]\n"
          ]
        }
      ],
      "source": [
        "a = np.array([1,2,3,4,5,6])\n",
        "print(a[1:5:2])     #(start, end, step)"
      ]
    },
    {
      "cell_type": "code",
      "execution_count": 137,
      "metadata": {
        "id": "fe0df80e",
        "outputId": "c9f93fc9-b649-427d-c401-9451a2ae4c49",
        "colab": {
          "base_uri": "https://localhost:8080/"
        }
      },
      "outputs": [
        {
          "output_type": "stream",
          "name": "stdout",
          "text": [
            "[1 3 5]\n",
            "[2 4 6]\n",
            "[2 3 4 5 6]\n"
          ]
        }
      ],
      "source": [
        "print(a[:6:2])\n",
        "print(a[1::2])\n",
        "print(a[1:6:])"
      ]
    },
    {
      "cell_type": "code",
      "execution_count": 138,
      "metadata": {
        "id": "e03cb258",
        "outputId": "a1611be0-6a62-476d-a482-57a55cdeafa7",
        "colab": {
          "base_uri": "https://localhost:8080/"
        }
      },
      "outputs": [
        {
          "output_type": "stream",
          "name": "stdout",
          "text": [
            "1\n",
            "6\n",
            "4\n"
          ]
        }
      ],
      "source": [
        "a = np.array([[1,2,3],[4,5,6]])\n",
        "print(a[0,0])\n",
        "print(a[1,2])\n",
        "print(a[1,0])"
      ]
    },
    {
      "cell_type": "markdown",
      "metadata": {
        "id": "3d9e5303"
      },
      "source": [
        "### slicing"
      ]
    },
    {
      "cell_type": "code",
      "execution_count": 139,
      "metadata": {
        "id": "e02d898e",
        "outputId": "5b556cf7-8dad-463e-a608-4be820d4cd78",
        "colab": {
          "base_uri": "https://localhost:8080/"
        }
      },
      "outputs": [
        {
          "output_type": "stream",
          "name": "stdout",
          "text": [
            "[[1 2 3]\n",
            " [4 5 6]\n",
            " [7 8 9]] \n",
            "\n",
            "[[5 6]\n",
            " [8 9]]\n"
          ]
        }
      ],
      "source": [
        "a = np.array([[1,2,3],[4,5,6],[7,8,9]])\n",
        "# print first row values\n",
        "print(a ,'\\n')\n",
        "\n",
        "print(a[1:3,1:3])  # it prints value of 2nd and 3rd places from the 2nd and 3rd matrix which is at 1 and 2 places in indexing"
      ]
    },
    {
      "cell_type": "code",
      "execution_count": 140,
      "metadata": {
        "id": "8009f66d",
        "outputId": "dd4a03e4-ac65-4649-a91f-f56b8a6fd993",
        "colab": {
          "base_uri": "https://localhost:8080/"
        }
      },
      "outputs": [
        {
          "output_type": "stream",
          "name": "stdout",
          "text": [
            "[[2 3]\n",
            " [5 6]\n",
            " [8 9]]\n"
          ]
        }
      ],
      "source": [
        "print(a[:,1:])"
      ]
    },
    {
      "cell_type": "code",
      "execution_count": 141,
      "metadata": {
        "id": "aa98a3b4",
        "outputId": "f0b20bca-569d-4ad5-efb3-ebf731b7218e",
        "colab": {
          "base_uri": "https://localhost:8080/"
        }
      },
      "outputs": [
        {
          "output_type": "stream",
          "name": "stdout",
          "text": [
            "[[2 3]]\n"
          ]
        }
      ],
      "source": [
        "print(a[0:1,1:3])"
      ]
    },
    {
      "cell_type": "code",
      "execution_count": 142,
      "metadata": {
        "id": "be6b077a",
        "outputId": "31d8dc30-6631-44f3-c748-105fe6644a67",
        "colab": {
          "base_uri": "https://localhost:8080/"
        }
      },
      "outputs": [
        {
          "output_type": "stream",
          "name": "stdout",
          "text": [
            "[[ 1  2  3  4  5]\n",
            " [ 6  7  8  9 10]] \n",
            "\n",
            "[2 7] \n",
            "\n",
            "8\n"
          ]
        }
      ],
      "source": [
        "a = np.array([[1,2,3,4,5],[6,7,8,9,10]])\n",
        "print(a,'\\n')\n",
        "\n",
        "print(a[:,-4], '\\n')\n",
        "\n",
        "print(a[1,-3])"
      ]
    },
    {
      "cell_type": "markdown",
      "metadata": {
        "id": "afa9a125"
      },
      "source": [
        "### Negative Slicing"
      ]
    },
    {
      "cell_type": "code",
      "execution_count": 143,
      "metadata": {
        "id": "e3d500a6",
        "outputId": "818126cb-d6db-44fb-c12a-f3096870e989",
        "colab": {
          "base_uri": "https://localhost:8080/"
        }
      },
      "outputs": [
        {
          "output_type": "stream",
          "name": "stdout",
          "text": [
            "Original array : \n",
            " [[ 1  2  3  4  5]\n",
            " [ 6  7  8  9 10]]\n",
            "Reversed array : \n",
            " [[10  9  8  7  6]\n",
            " [ 5  4  3  2  1]]\n"
          ]
        }
      ],
      "source": [
        "a = np.array([[1,2,3,4,5],[6,7,8,9,10]])\n",
        "print('Original array :','\\n',a)\n",
        "print('Reversed array :','\\n',a[::-1,::-1])"
      ]
    },
    {
      "cell_type": "code",
      "execution_count": 144,
      "metadata": {
        "id": "d3cfa4c2",
        "outputId": "624e7546-a7e8-4546-ccbd-7aac8ad1e80d",
        "colab": {
          "base_uri": "https://localhost:8080/"
        }
      },
      "outputs": [
        {
          "output_type": "stream",
          "name": "stdout",
          "text": [
            "Original array : \n",
            " [[ 1  2  3  4  5]\n",
            " [ 6  7  8  9 10]]\n",
            "Slicing : \n",
            " [[ 1  3  5]\n",
            " [ 6  8 10]]\n"
          ]
        }
      ],
      "source": [
        "a = np.array([[1,2,3,4,5],[6,7,8,9,10]])\n",
        "print('Original array :','\\n',a)\n",
        "print('Slicing :','\\n',a[::,::2])"
      ]
    },
    {
      "cell_type": "code",
      "execution_count": 145,
      "metadata": {
        "id": "25e57de4",
        "outputId": "3187988f-69f4-4e19-bc0c-4d8ec3fa05ab",
        "colab": {
          "base_uri": "https://localhost:8080/"
        }
      },
      "outputs": [
        {
          "output_type": "stream",
          "name": "stdout",
          "text": [
            "Reversed array vertically : \n",
            " [[ 5  4  3  2  1]\n",
            " [10  9  8  7  6]]\n",
            "Reversed array horizontally : \n",
            " [[ 6  7  8  9 10]\n",
            " [ 1  2  3  4  5]]\n"
          ]
        }
      ],
      "source": [
        "print('Reversed array vertically :','\\n',np.flip(a,axis=1))\n",
        "print('Reversed array horizontally :','\\n',np.flip(a,axis=0))"
      ]
    },
    {
      "cell_type": "markdown",
      "metadata": {
        "id": "9024c1e9"
      },
      "source": [
        "### Stacking and Concatenating"
      ]
    },
    {
      "cell_type": "code",
      "execution_count": 146,
      "metadata": {
        "id": "8d620fb6",
        "outputId": "9928bbf3-5a58-420f-ffbe-c59bd95a18f5",
        "colab": {
          "base_uri": "https://localhost:8080/"
        }
      },
      "outputs": [
        {
          "output_type": "stream",
          "name": "stdout",
          "text": [
            "Array 1 : \n",
            " [0 1 2 3 4]\n",
            "Array 2 : \n",
            " [5 6 7 8 9]\n",
            "Vertical stacking : \n",
            " [[0 1 2 3 4]\n",
            " [5 6 7 8 9]]\n",
            "Horizontal stacking : \n",
            " [0 1 2 3 4 5 6 7 8 9]\n"
          ]
        }
      ],
      "source": [
        "a = np.arange(0,5)\n",
        "b = np.arange(5,10)\n",
        "print('Array 1 :','\\n',a)\n",
        "print('Array 2 :','\\n',b)\n",
        "print('Vertical stacking :','\\n',np.vstack((a,b)))\n",
        "print('Horizontal stacking :','\\n',np.hstack((a,b)))"
      ]
    },
    {
      "cell_type": "markdown",
      "metadata": {
        "id": "ed261946"
      },
      "source": [
        "### Copying Arrays"
      ]
    },
    {
      "cell_type": "markdown",
      "metadata": {
        "id": "79d193e1"
      },
      "source": [
        "There are 3 types of copying arrays"
      ]
    },
    {
      "cell_type": "markdown",
      "metadata": {
        "id": "647d83fe"
      },
      "source": [
        "1. Aliasing"
      ]
    },
    {
      "cell_type": "code",
      "execution_count": 147,
      "metadata": {
        "id": "6f0c4d1c",
        "outputId": "71a842a4-0d01-478e-c33e-beb86696e0e5",
        "colab": {
          "base_uri": "https://localhost:8080/"
        }
      },
      "outputs": [
        {
          "output_type": "stream",
          "name": "stdout",
          "text": [
            "[2 4 6 8]\n",
            "[2 4 6 8]\n",
            "140398232775984\n",
            "140398232775984\n"
          ]
        }
      ],
      "source": [
        "arr1= np.array([2,4,6,8])\n",
        "arr2=arr1\n",
        "print(arr1)\n",
        "print(arr2)\n",
        "print(id(arr1))\n",
        "print(id(arr2)) # in this type of copying array we copied one array to other but both arrays are same there is no difference in both arrays"
      ]
    },
    {
      "cell_type": "markdown",
      "metadata": {
        "id": "e5bee79e"
      },
      "source": [
        "2. Shallow Copy"
      ]
    },
    {
      "cell_type": "code",
      "execution_count": 151,
      "metadata": {
        "id": "e5523995",
        "outputId": "f6167cd9-9b3f-4991-cdf5-25ce161798e2",
        "colab": {
          "base_uri": "https://localhost:8080/"
        }
      },
      "outputs": [
        {
          "output_type": "stream",
          "name": "stdout",
          "text": [
            "[2 4 6 8]\n",
            "[2 4 6 8]\n",
            "140398232779152\n",
            "140398232778384\n"
          ]
        }
      ],
      "source": [
        "arr1= np.array([2,4,6,8])\n",
        "arr2=arr1.view()\n",
        "print(arr1)\n",
        "print(arr2)\n",
        "print(id(arr1))\n",
        "print(id(arr2))\n",
        "# in shallow copy we copy the element but both arrays are still dependent on each other that is if we update original one then there is change in copied array"
      ]
    },
    {
      "cell_type": "code",
      "execution_count": 152,
      "metadata": {
        "id": "36f63c9b"
      },
      "outputs": [],
      "source": [
        "arr1[1]=7"
      ]
    },
    {
      "cell_type": "code",
      "execution_count": 153,
      "metadata": {
        "id": "bd2e0828",
        "outputId": "cf7d744c-afeb-4f6f-c50b-f21ab0fcdbe8",
        "colab": {
          "base_uri": "https://localhost:8080/"
        }
      },
      "outputs": [
        {
          "output_type": "stream",
          "name": "stdout",
          "text": [
            "[2 7 6 8]\n"
          ]
        }
      ],
      "source": [
        "print(arr1)"
      ]
    },
    {
      "cell_type": "code",
      "execution_count": 154,
      "metadata": {
        "id": "61997eb5",
        "outputId": "7cae393f-90fe-4c78-a8b5-07394b42f10d",
        "colab": {
          "base_uri": "https://localhost:8080/"
        }
      },
      "outputs": [
        {
          "output_type": "stream",
          "name": "stdout",
          "text": [
            "[2 7 6 8]\n"
          ]
        }
      ],
      "source": [
        "print(arr2)"
      ]
    },
    {
      "cell_type": "code",
      "execution_count": 155,
      "metadata": {
        "id": "01cf3f2e"
      },
      "outputs": [],
      "source": [
        "arr2[0]=9"
      ]
    },
    {
      "cell_type": "code",
      "execution_count": 156,
      "metadata": {
        "id": "d5a70ad3",
        "outputId": "42980994-011a-4061-c313-d4ce250cd093",
        "colab": {
          "base_uri": "https://localhost:8080/"
        }
      },
      "outputs": [
        {
          "output_type": "stream",
          "name": "stdout",
          "text": [
            "[9 7 6 8]\n"
          ]
        }
      ],
      "source": [
        "print(arr2)"
      ]
    },
    {
      "cell_type": "code",
      "execution_count": 157,
      "metadata": {
        "id": "07a33fa9",
        "outputId": "9eb9d7d4-f9d0-422e-f3c2-ec65af592d14",
        "colab": {
          "base_uri": "https://localhost:8080/"
        }
      },
      "outputs": [
        {
          "output_type": "stream",
          "name": "stdout",
          "text": [
            "[9 7 6 8]\n"
          ]
        }
      ],
      "source": [
        "print(arr1)"
      ]
    },
    {
      "cell_type": "markdown",
      "metadata": {
        "id": "ae2c042a"
      },
      "source": [
        "3. Deep Copy"
      ]
    },
    {
      "cell_type": "code",
      "execution_count": 158,
      "metadata": {
        "id": "93b5f49d",
        "outputId": "3de98c0a-f975-4d9e-f360-f51722442f34",
        "colab": {
          "base_uri": "https://localhost:8080/"
        }
      },
      "outputs": [
        {
          "output_type": "stream",
          "name": "stdout",
          "text": [
            "[11 12 13 14 15]\n",
            "[11 12 13 14 15]\n",
            "140398232780496\n",
            "140398232895536\n"
          ]
        }
      ],
      "source": [
        "arr1= np.array([11,12,13,14,15])\n",
        "arr2=arr1.copy()\n",
        "print(arr1)\n",
        "print(arr2)\n",
        "print(id(arr1))\n",
        "print(id(arr2))\n",
        "# in deep copy there are completely two different arrays form by copying one array ."
      ]
    },
    {
      "cell_type": "code",
      "execution_count": 159,
      "metadata": {
        "id": "419fe962"
      },
      "outputs": [],
      "source": [
        "arr1[0]=10"
      ]
    },
    {
      "cell_type": "code",
      "execution_count": 160,
      "metadata": {
        "id": "489811df",
        "outputId": "986cc6ad-a7bb-4396-da38-1aea9029a944",
        "colab": {
          "base_uri": "https://localhost:8080/"
        }
      },
      "outputs": [
        {
          "output_type": "stream",
          "name": "stdout",
          "text": [
            "[10 12 13 14 15]\n"
          ]
        }
      ],
      "source": [
        "print(arr1)"
      ]
    },
    {
      "cell_type": "code",
      "execution_count": 161,
      "metadata": {
        "id": "bd434a9d",
        "outputId": "e756af2e-db79-4d73-a8a3-1c658b39622e",
        "colab": {
          "base_uri": "https://localhost:8080/"
        }
      },
      "outputs": [
        {
          "output_type": "stream",
          "name": "stdout",
          "text": [
            "[11 12 13 14 15]\n"
          ]
        }
      ],
      "source": [
        "print(arr2)"
      ]
    },
    {
      "cell_type": "markdown",
      "metadata": {
        "id": "82b53d2c"
      },
      "source": [
        "#### Searching in Array"
      ]
    },
    {
      "cell_type": "code",
      "execution_count": 162,
      "metadata": {
        "id": "2a1d9fa7",
        "outputId": "91eb7784-3e6b-4dc3-e86d-8f3b2071c0e0",
        "colab": {
          "base_uri": "https://localhost:8080/"
        }
      },
      "outputs": [
        {
          "output_type": "stream",
          "name": "stdout",
          "text": [
            "(array([3, 5, 6]),)\n"
          ]
        }
      ],
      "source": [
        "# Searching using where\n",
        "\n",
        "a1 = np.array([1, 2, 3, 4, 5, 4, 4])\n",
        "\n",
        "x = np.where(a1 == 4)\n",
        "\n",
        "print(x)"
      ]
    },
    {
      "cell_type": "markdown",
      "metadata": {
        "id": "093448bf"
      },
      "source": [
        "#### Filtering in Arrays"
      ]
    },
    {
      "cell_type": "code",
      "execution_count": 163,
      "metadata": {
        "id": "92426cdf",
        "outputId": "fca58948-7e7c-44dd-c9ee-d76ace0bb714",
        "colab": {
          "base_uri": "https://localhost:8080/"
        }
      },
      "outputs": [
        {
          "output_type": "stream",
          "name": "stdout",
          "text": [
            "[False  True False  True False  True False]\n",
            "[2 4 6]\n"
          ]
        }
      ],
      "source": [
        "# filter\n",
        "arr = np.array([1, 2, 3, 4, 5, 6, 7])\n",
        "\n",
        "filter_arr = arr % 2 == 0\n",
        "\n",
        "newarr = arr[filter_arr]\n",
        "\n",
        "print(filter_arr)\n",
        "print(newarr)"
      ]
    },
    {
      "cell_type": "markdown",
      "metadata": {
        "id": "0a104101"
      },
      "source": [
        "### Iterating over Array"
      ]
    },
    {
      "cell_type": "code",
      "execution_count": 164,
      "metadata": {
        "id": "d6fb536b",
        "outputId": "a69ac188-6ddd-4782-bb4a-d4d3fc4c37b7",
        "colab": {
          "base_uri": "https://localhost:8080/"
        }
      },
      "outputs": [
        {
          "output_type": "stream",
          "name": "stdout",
          "text": [
            "1\n",
            "2\n",
            "3\n"
          ]
        }
      ],
      "source": [
        "a1 = np.array([1, 2, 3])\n",
        "\n",
        "for i in a1:\n",
        "    print(i)"
      ]
    },
    {
      "cell_type": "code",
      "execution_count": 167,
      "metadata": {
        "id": "3bb4e574",
        "outputId": "14fd5fcd-834e-47d8-cad2-e65962dd9f75",
        "colab": {
          "base_uri": "https://localhost:8080/"
        }
      },
      "outputs": [
        {
          "output_type": "stream",
          "name": "stdout",
          "text": [
            "1\n",
            "2\n",
            "3\n",
            "4\n",
            "5\n",
            "6\n"
          ]
        }
      ],
      "source": [
        "a2 = np.array([[1, 2, 3], [4, 5, 6]])\n",
        "\n",
        "for i in a2:\n",
        "  for j in i:\n",
        "    print(j)"
      ]
    },
    {
      "cell_type": "code",
      "execution_count": 168,
      "metadata": {
        "id": "3d9a3100",
        "outputId": "01decdcc-8eb5-4016-8e57-c0369608a1a8",
        "colab": {
          "base_uri": "https://localhost:8080/"
        }
      },
      "outputs": [
        {
          "output_type": "stream",
          "name": "stdout",
          "text": [
            "[[1 2 3]\n",
            " [4 5 6]]\n",
            "[[ 7  8  9]\n",
            " [10 11 12]]\n"
          ]
        }
      ],
      "source": [
        "a3 = np.array([[[1, 2, 3], [4, 5, 6]], [[7, 8, 9], [10, 11, 12]]])\n",
        "\n",
        "for i in a3:\n",
        "    print(i)"
      ]
    },
    {
      "cell_type": "code",
      "execution_count": 168,
      "metadata": {
        "id": "9536d2f5"
      },
      "outputs": [],
      "source": []
    },
    {
      "cell_type": "markdown",
      "metadata": {
        "id": "7vQISP97wRXT"
      },
      "source": [
        "# NumPy Indexing and Selection\n",
        "\n",
        "In this lecture we will discuss how to select elements or groups of elements from an array."
      ]
    },
    {
      "cell_type": "code",
      "execution_count": 169,
      "metadata": {
        "id": "KqXCDwLtwGoc"
      },
      "outputs": [],
      "source": [
        "#Creating sample array\n",
        "arr = np.arange(1,11)"
      ]
    },
    {
      "cell_type": "code",
      "execution_count": 170,
      "metadata": {
        "colab": {
          "base_uri": "https://localhost:8080/"
        },
        "id": "SCQYaMFPwS0l",
        "outputId": "44d81fdd-4328-46d9-e1a8-0e7d97570f7a"
      },
      "outputs": [
        {
          "output_type": "execute_result",
          "data": {
            "text/plain": [
              "array([ 1,  2,  3,  4,  5,  6,  7,  8,  9, 10])"
            ]
          },
          "metadata": {},
          "execution_count": 170
        }
      ],
      "source": [
        "#Show\n",
        "arr"
      ]
    },
    {
      "cell_type": "code",
      "execution_count": 171,
      "metadata": {
        "colab": {
          "base_uri": "https://localhost:8080/"
        },
        "id": "625folcyJd2X",
        "outputId": "066472e0-5751-4e21-c1a9-81f6e7a67ccd"
      },
      "outputs": [
        {
          "output_type": "execute_result",
          "data": {
            "text/plain": [
              "9"
            ]
          },
          "metadata": {},
          "execution_count": 171
        }
      ],
      "source": [
        "arr[8]"
      ]
    },
    {
      "cell_type": "markdown",
      "metadata": {
        "id": "m-YYec45wVz9"
      },
      "source": [
        "## Bracket Indexing and Selection\n",
        "The simplest way to pick one or some elements of an array looks very similar to python lists:"
      ]
    },
    {
      "cell_type": "code",
      "execution_count": 172,
      "metadata": {
        "colab": {
          "base_uri": "https://localhost:8080/"
        },
        "id": "OZ2iq8RvwUNr",
        "outputId": "fc8722d4-47b8-4d31-e059-63a8c7575ea5"
      },
      "outputs": [
        {
          "output_type": "execute_result",
          "data": {
            "text/plain": [
              "9"
            ]
          },
          "metadata": {},
          "execution_count": 172
        }
      ],
      "source": [
        "#Get a value at an index\n",
        "arr[8]"
      ]
    },
    {
      "cell_type": "code",
      "execution_count": 173,
      "metadata": {
        "colab": {
          "base_uri": "https://localhost:8080/"
        },
        "id": "W8shBnE4w_tB",
        "outputId": "3e751800-ca86-43b7-e08d-d87009a8a849"
      },
      "outputs": [
        {
          "output_type": "execute_result",
          "data": {
            "text/plain": [
              "array([1, 2, 3, 4, 5])"
            ]
          },
          "metadata": {},
          "execution_count": 173
        }
      ],
      "source": [
        "#Get values in a range\n",
        "arr[0:5]"
      ]
    },
    {
      "cell_type": "markdown",
      "metadata": {
        "id": "Tcrn9uQsxCa5"
      },
      "source": [
        "## Broadcasting\n",
        "\n",
        "Numpy arrays differ from a normal Python list because of their ability to broadcast:"
      ]
    },
    {
      "cell_type": "code",
      "execution_count": 174,
      "metadata": {
        "id": "LppYRyc-xAyz"
      },
      "outputs": [],
      "source": [
        "#Setting a value with index range (Broadcasting)\n",
        "arr[0:5]=100"
      ]
    },
    {
      "cell_type": "code",
      "execution_count": 175,
      "metadata": {
        "colab": {
          "base_uri": "https://localhost:8080/"
        },
        "id": "vp1JKkXWxD1X",
        "outputId": "1df22bc7-e741-49b4-c3c7-145bdf9b8b4e"
      },
      "outputs": [
        {
          "output_type": "execute_result",
          "data": {
            "text/plain": [
              "array([100, 100, 100, 100, 100,   6,   7,   8,   9,  10])"
            ]
          },
          "metadata": {},
          "execution_count": 175
        }
      ],
      "source": [
        "#Show\n",
        "arr"
      ]
    },
    {
      "cell_type": "code",
      "execution_count": 176,
      "metadata": {
        "id": "ec87SYeexFF8",
        "colab": {
          "base_uri": "https://localhost:8080/"
        },
        "outputId": "31c68701-76b9-4333-cb59-221c53d51814"
      },
      "outputs": [
        {
          "output_type": "execute_result",
          "data": {
            "text/plain": [
              "array([ 1,  2,  3,  4,  5,  6,  7,  8,  9, 10])"
            ]
          },
          "metadata": {},
          "execution_count": 176
        }
      ],
      "source": [
        "#Setting a value with index range (Broadcasting)\n",
        "array2 = np.arange(1,11)\n",
        "array2"
      ]
    },
    {
      "cell_type": "code",
      "execution_count": 177,
      "metadata": {
        "colab": {
          "base_uri": "https://localhost:8080/"
        },
        "id": "coPH3C0cxGQO",
        "outputId": "557df4bf-b939-47e0-a991-138a8e46da75"
      },
      "outputs": [
        {
          "output_type": "execute_result",
          "data": {
            "text/plain": [
              "array([100, 100, 100, 100, 100,   6,   7,   8,   9,  10])"
            ]
          },
          "metadata": {},
          "execution_count": 177
        }
      ],
      "source": [
        "array2[0:5]=100\n",
        "array2"
      ]
    },
    {
      "cell_type": "code",
      "source": [
        "a = np.array([[1, 2, 3],\n",
        "              [4, 5, 6]])\n",
        "\n",
        "b = np.array([10, 20, 30])\n",
        "\n",
        "# Add arrays 'a' and 'b'\n",
        "result = a + b\n",
        "\n",
        "print(result)\n"
      ],
      "metadata": {
        "colab": {
          "base_uri": "https://localhost:8080/"
        },
        "id": "aKY-tqM_--H4",
        "outputId": "30ad6862-cbd8-41fe-9c3e-90fb4ac095c7"
      },
      "execution_count": 178,
      "outputs": [
        {
          "output_type": "stream",
          "name": "stdout",
          "text": [
            "[[11 22 33]\n",
            " [14 25 36]]\n"
          ]
        }
      ]
    },
    {
      "cell_type": "markdown",
      "metadata": {
        "id": "O-vAei8vxNLK"
      },
      "source": [
        "## Indexing a 2D array (matrices)\n",
        "\n",
        "The general format is **arr_2d[row][col]** or **arr_2d[row,col]**. I recommend usually using the comma notation for clarity."
      ]
    },
    {
      "cell_type": "code",
      "execution_count": 179,
      "metadata": {
        "colab": {
          "base_uri": "https://localhost:8080/"
        },
        "id": "416icq7dxH8d",
        "outputId": "dfb324f3-f0d6-40a2-adda-43ca7c6e7e0c"
      },
      "outputs": [
        {
          "output_type": "execute_result",
          "data": {
            "text/plain": [
              "array([[ 5, 10, 15],\n",
              "       [20, 25, 30],\n",
              "       [35, 40, 45]])"
            ]
          },
          "metadata": {},
          "execution_count": 179
        }
      ],
      "source": [
        "arr_2d = np.array(([5,10,15],[20,25,30],[35,40,45]))\n",
        "\n",
        "#Show\n",
        "arr_2d"
      ]
    },
    {
      "cell_type": "code",
      "execution_count": 180,
      "metadata": {
        "colab": {
          "base_uri": "https://localhost:8080/"
        },
        "id": "eFdQOAcQxOwA",
        "outputId": "4f2e861e-3dd1-4ffa-850a-18da202247cb"
      },
      "outputs": [
        {
          "output_type": "execute_result",
          "data": {
            "text/plain": [
              "array([20, 25, 30])"
            ]
          },
          "metadata": {},
          "execution_count": 180
        }
      ],
      "source": [
        "#Indexing row\n",
        "arr_2d[1]"
      ]
    },
    {
      "cell_type": "code",
      "execution_count": 181,
      "metadata": {
        "colab": {
          "base_uri": "https://localhost:8080/"
        },
        "id": "RhZ-gbDixQnV",
        "outputId": "6ae97190-62d2-4b54-f2d2-aaae2d5d298e"
      },
      "outputs": [
        {
          "output_type": "execute_result",
          "data": {
            "text/plain": [
              "array([[10, 15],\n",
              "       [25, 30]])"
            ]
          },
          "metadata": {},
          "execution_count": 181
        }
      ],
      "source": [
        "# 2D array slicing\n",
        "\n",
        "#Shape (2,2) from top right corner\n",
        "arr_2d[0:2,1:]"
      ]
    },
    {
      "cell_type": "markdown",
      "metadata": {
        "id": "W8AytulqxTZr"
      },
      "source": [
        "### Fancy Indexing\n",
        "\n",
        "Fancy indexing allows you to select entire rows or columns out of order,to show this, let's quickly build out a numpy array:"
      ]
    },
    {
      "cell_type": "code",
      "execution_count": 182,
      "metadata": {
        "id": "yo9xM6gzxRhe"
      },
      "outputs": [],
      "source": [
        "arr2d = np.ones((10,10))"
      ]
    },
    {
      "cell_type": "code",
      "execution_count": 183,
      "metadata": {
        "colab": {
          "base_uri": "https://localhost:8080/"
        },
        "id": "bMijM33TxVVN",
        "outputId": "45fb4a40-c2ab-4f4f-ad82-b4f6a6b71007"
      },
      "outputs": [
        {
          "output_type": "execute_result",
          "data": {
            "text/plain": [
              "array([[1., 1., 1., 1., 1., 1., 1., 1., 1., 1.],\n",
              "       [1., 1., 1., 1., 1., 1., 1., 1., 1., 1.],\n",
              "       [1., 1., 1., 1., 1., 1., 1., 1., 1., 1.],\n",
              "       [1., 1., 1., 1., 1., 1., 1., 1., 1., 1.],\n",
              "       [1., 1., 1., 1., 1., 1., 1., 1., 1., 1.],\n",
              "       [1., 1., 1., 1., 1., 1., 1., 1., 1., 1.],\n",
              "       [1., 1., 1., 1., 1., 1., 1., 1., 1., 1.],\n",
              "       [1., 1., 1., 1., 1., 1., 1., 1., 1., 1.],\n",
              "       [1., 1., 1., 1., 1., 1., 1., 1., 1., 1.],\n",
              "       [1., 1., 1., 1., 1., 1., 1., 1., 1., 1.]])"
            ]
          },
          "metadata": {},
          "execution_count": 183
        }
      ],
      "source": [
        "arr2d"
      ]
    },
    {
      "cell_type": "code",
      "execution_count": 184,
      "metadata": {
        "colab": {
          "base_uri": "https://localhost:8080/"
        },
        "id": "WQWJuBimxWJN",
        "outputId": "db1a862f-103f-48f8-b513-5f4f9fd2c1e3"
      },
      "outputs": [
        {
          "output_type": "execute_result",
          "data": {
            "text/plain": [
              "array([[0., 0., 0., 0., 0., 0., 0., 0., 0., 0.],\n",
              "       [1., 1., 1., 1., 1., 1., 1., 1., 1., 1.],\n",
              "       [2., 2., 2., 2., 2., 2., 2., 2., 2., 2.],\n",
              "       [3., 3., 3., 3., 3., 3., 3., 3., 3., 3.],\n",
              "       [4., 4., 4., 4., 4., 4., 4., 4., 4., 4.],\n",
              "       [5., 5., 5., 5., 5., 5., 5., 5., 5., 5.],\n",
              "       [6., 6., 6., 6., 6., 6., 6., 6., 6., 6.],\n",
              "       [7., 7., 7., 7., 7., 7., 7., 7., 7., 7.],\n",
              "       [8., 8., 8., 8., 8., 8., 8., 8., 8., 8.],\n",
              "       [9., 9., 9., 9., 9., 9., 9., 9., 9., 9.]])"
            ]
          },
          "metadata": {},
          "execution_count": 184
        }
      ],
      "source": [
        "#Set up array\n",
        "\n",
        "for i in range(10):\n",
        "    arr2d[i]= i\n",
        "\n",
        "arr2d"
      ]
    },
    {
      "cell_type": "markdown",
      "metadata": {
        "id": "e9iGaONDxfMH"
      },
      "source": [
        "## Selection\n",
        "\n",
        "Let's briefly go over how to use brackets for selection based off of comparison operators."
      ]
    },
    {
      "cell_type": "code",
      "execution_count": 185,
      "metadata": {
        "colab": {
          "base_uri": "https://localhost:8080/"
        },
        "id": "5Xn4zpHdxfYE",
        "outputId": "e3ad5765-ecd6-47f1-d8f0-9487ffc401ef"
      },
      "outputs": [
        {
          "output_type": "execute_result",
          "data": {
            "text/plain": [
              "array([ 1,  2,  3,  4,  5,  6,  7,  8,  9, 10])"
            ]
          },
          "metadata": {},
          "execution_count": 185
        }
      ],
      "source": [
        "import numpy as np\n",
        "arr = np.arange(1,11)\n",
        "arr"
      ]
    },
    {
      "cell_type": "code",
      "execution_count": 186,
      "metadata": {
        "colab": {
          "base_uri": "https://localhost:8080/"
        },
        "id": "I2Oi6QkWxgO-",
        "outputId": "445ca5f7-ec72-46bb-80cd-4ab9472caef7"
      },
      "outputs": [
        {
          "output_type": "execute_result",
          "data": {
            "text/plain": [
              "array([False, False, False, False,  True,  True,  True,  True,  True,\n",
              "        True])"
            ]
          },
          "metadata": {},
          "execution_count": 186
        }
      ],
      "source": [
        "arr > 4"
      ]
    },
    {
      "cell_type": "code",
      "execution_count": 187,
      "metadata": {
        "colab": {
          "base_uri": "https://localhost:8080/"
        },
        "id": "w8_LjiamxhIR",
        "outputId": "1a51ca64-a4a9-468d-a771-47d4ad1487ff"
      },
      "outputs": [
        {
          "output_type": "execute_result",
          "data": {
            "text/plain": [
              "array([ 5,  6,  7,  8,  9, 10])"
            ]
          },
          "metadata": {},
          "execution_count": 187
        }
      ],
      "source": [
        "arr[arr > 4]"
      ]
    },
    {
      "cell_type": "markdown",
      "metadata": {
        "id": "XtOEkk-rxpdK"
      },
      "source": [
        "# NumPy Operations"
      ]
    },
    {
      "cell_type": "markdown",
      "metadata": {
        "id": "BQwh0euVxrZL"
      },
      "source": [
        "## Arithmetic\n",
        "\n",
        "You can easily perform array with array arithmetic, or scalar with array arithmetic. Let's see some examples:"
      ]
    },
    {
      "cell_type": "code",
      "execution_count": 188,
      "metadata": {
        "colab": {
          "base_uri": "https://localhost:8080/"
        },
        "id": "BK4H6EbTxiI1",
        "outputId": "d489cc41-b63f-46a1-f3df-09d3b2690e31"
      },
      "outputs": [
        {
          "output_type": "stream",
          "name": "stdout",
          "text": [
            "[0 1 2 3 4 5 6 7 8 9]\n"
          ]
        }
      ],
      "source": [
        "arr = np.arange(0,10)\n",
        "print(arr)"
      ]
    },
    {
      "cell_type": "code",
      "execution_count": 188,
      "metadata": {
        "id": "3DAq_nFvxuBU"
      },
      "outputs": [],
      "source": [
        ""
      ]
    },
    {
      "cell_type": "code",
      "execution_count": 189,
      "metadata": {
        "colab": {
          "base_uri": "https://localhost:8080/"
        },
        "id": "4iszcz_cxvnv",
        "outputId": "dec1f8ef-7175-4029-a6ad-3e70ceccc79a"
      },
      "outputs": [
        {
          "output_type": "execute_result",
          "data": {
            "text/plain": [
              "array([ 0,  1,  4,  9, 16, 25, 36, 49, 64, 81])"
            ]
          },
          "metadata": {},
          "execution_count": 189
        }
      ],
      "source": [
        "arr * arr"
      ]
    },
    {
      "cell_type": "code",
      "execution_count": 190,
      "metadata": {
        "colab": {
          "base_uri": "https://localhost:8080/"
        },
        "id": "_Q_6shQwxxMa",
        "outputId": "b5c876e6-51fe-4ef6-f008-2905f61d2202"
      },
      "outputs": [
        {
          "output_type": "execute_result",
          "data": {
            "text/plain": [
              "array([0, 0, 0, 0, 0, 0, 0, 0, 0, 0])"
            ]
          },
          "metadata": {},
          "execution_count": 190
        }
      ],
      "source": [
        "arr - arr"
      ]
    },
    {
      "cell_type": "code",
      "execution_count": 191,
      "metadata": {
        "colab": {
          "base_uri": "https://localhost:8080/"
        },
        "id": "INwlHaoBxyaY",
        "outputId": "f7452934-bdc5-4f24-8d84-8c6fdbb6f211"
      },
      "outputs": [
        {
          "output_type": "stream",
          "name": "stderr",
          "text": [
            "<ipython-input-191-2f119c028196>:3: RuntimeWarning: invalid value encountered in true_divide\n",
            "  arr/arr\n"
          ]
        },
        {
          "output_type": "execute_result",
          "data": {
            "text/plain": [
              "array([nan,  1.,  1.,  1.,  1.,  1.,  1.,  1.,  1.,  1.])"
            ]
          },
          "metadata": {},
          "execution_count": 191
        }
      ],
      "source": [
        "# Warning on division by zero, but not an error!\n",
        "# Just replaced with nan\n",
        "arr/arr"
      ]
    },
    {
      "cell_type": "code",
      "execution_count": 192,
      "metadata": {
        "colab": {
          "base_uri": "https://localhost:8080/"
        },
        "id": "agWH0lo7x0SM",
        "outputId": "e483e509-1590-4c3b-cfb3-e9a60ca88671"
      },
      "outputs": [
        {
          "output_type": "execute_result",
          "data": {
            "text/plain": [
              "array([  0,   1,   8,  27,  64, 125, 216, 343, 512, 729])"
            ]
          },
          "metadata": {},
          "execution_count": 192
        }
      ],
      "source": [
        "arr**3"
      ]
    },
    {
      "cell_type": "code",
      "execution_count": 193,
      "metadata": {
        "id": "kJtWJz9xnxpv",
        "colab": {
          "base_uri": "https://localhost:8080/"
        },
        "outputId": "398f1504-4c93-48c9-dff7-b41ee4006350"
      },
      "outputs": [
        {
          "output_type": "stream",
          "name": "stdout",
          "text": [
            "Original array:\n",
            "[1 2 3 4 5 6 7 8 9]\n",
            "\n",
            "Reshaped array:\n",
            "[[1 2 3]\n",
            " [4 5 6]\n",
            " [7 8 9]]\n"
          ]
        }
      ],
      "source": [
        "import numpy as np\n",
        "\n",
        "# Create a 1D array with numbers from 1 to 9\n",
        "arr = np.array([1, 2, 3, 4, 5, 6, 7, 8, 9])\n",
        "\n",
        "# Reshape the array to a 3x3 matrix\n",
        "reshaped_arr = arr.reshape(3, 3)\n",
        "\n",
        "print(\"Original array:\")\n",
        "print(arr)\n",
        "print()\n",
        "\n",
        "print(\"Reshaped array:\")\n",
        "print(reshaped_arr)\n"
      ]
    },
    {
      "cell_type": "code",
      "source": [
        "import numpy as np\n",
        "\n",
        "# Create a 1D array with numbers from 1 to 9\n",
        "arr = np.array([1, 2, 3, 4, 5, 6, 7, 8])\n",
        "\n",
        "# Reshape the array to a 3x3 matrix\n",
        "reshaped_arr = arr.reshape(4, 2)\n",
        "\n",
        "print(\"Original array:\")\n",
        "print(arr)\n",
        "print()\n",
        "\n",
        "print(\"Reshaped array:\")\n",
        "print(reshaped_arr)\n"
      ],
      "metadata": {
        "colab": {
          "base_uri": "https://localhost:8080/"
        },
        "id": "KmAYH6tZomdf",
        "outputId": "889ab5e4-9778-4e67-8905-fb3d88983c67"
      },
      "execution_count": 194,
      "outputs": [
        {
          "output_type": "stream",
          "name": "stdout",
          "text": [
            "Original array:\n",
            "[1 2 3 4 5 6 7 8]\n",
            "\n",
            "Reshaped array:\n",
            "[[1 2]\n",
            " [3 4]\n",
            " [5 6]\n",
            " [7 8]]\n"
          ]
        }
      ]
    },
    {
      "cell_type": "markdown",
      "source": [
        "# **Details on Datatypes**\n",
        "\n",
        "\n",
        "**Datatypes in Python**\n",
        "\n",
        "strings - used to represent text data, the text is given under quote marks. e.g. \"ABCD\"\n",
        "\n",
        "integer - used to represent integer numbers. e.g. -1, -2, -3\n",
        "\n",
        "float - used to represent real numbers. e.g. 1.2, 42.42\n",
        "\n",
        "boolean - used to represent True or False.\n",
        "\n",
        "complex - used to represent complex numbers. e.g. 1.0 + 2.0j, 1.5 + 2.5j\n",
        "\n",
        "\n",
        "**Datatypes in Numpy**\n",
        "\n",
        "\n",
        "Below is a list of all data types in NumPy and the characters used to represent them.\n",
        "\n",
        "i - integer\n",
        "\n",
        "b - boolean\n",
        "\n",
        "u - unsigned integer\n",
        "\n",
        "f - float\n",
        "\n",
        "c - complex float\n",
        "\n",
        "m - timedelta\n",
        "\n",
        "M - datetime\n",
        "\n",
        "O - object\n",
        "\n",
        "S - string\n",
        "\n",
        "U - unicode string"
      ],
      "metadata": {
        "id": "CeP6NfBRftPO"
      }
    },
    {
      "cell_type": "code",
      "source": [
        "arr = np.array([1, 2, 3, 4])\n",
        "\n",
        "print(arr.dtype)"
      ],
      "metadata": {
        "id": "n-gXb2HsouqG",
        "colab": {
          "base_uri": "https://localhost:8080/"
        },
        "outputId": "e8a11795-f999-4dfa-ec0e-ab315fbf42a9"
      },
      "execution_count": 195,
      "outputs": [
        {
          "output_type": "stream",
          "name": "stdout",
          "text": [
            "int64\n"
          ]
        }
      ]
    },
    {
      "cell_type": "code",
      "source": [
        "arr = np.array(['apple', 'banana', 'cherry'])\n",
        "\n",
        "print(arr.dtype)"
      ],
      "metadata": {
        "colab": {
          "base_uri": "https://localhost:8080/"
        },
        "id": "FIViOyC3gVnv",
        "outputId": "62224daa-8e3a-4068-986d-a66c6481ee2e"
      },
      "execution_count": 196,
      "outputs": [
        {
          "output_type": "stream",
          "name": "stdout",
          "text": [
            "<U6\n"
          ]
        }
      ]
    },
    {
      "cell_type": "code",
      "source": [
        "# Create an array with data type string:\n",
        "\n",
        "arr = np.array([1, 2, 3, 4], dtype='S')\n",
        "\n",
        "print(arr)\n",
        "print(arr.dtype)"
      ],
      "metadata": {
        "colab": {
          "base_uri": "https://localhost:8080/"
        },
        "id": "39uAjuQYgX0C",
        "outputId": "5f8185e7-5968-4449-f5cd-2ff024707512"
      },
      "execution_count": 197,
      "outputs": [
        {
          "output_type": "stream",
          "name": "stdout",
          "text": [
            "[b'1' b'2' b'3' b'4']\n",
            "|S1\n"
          ]
        }
      ]
    },
    {
      "cell_type": "code",
      "source": [
        "# For i, u, f, S and U we can define size as well.\n",
        "arr = np.array([1, 2, 3, 4], dtype='i4')\n",
        "\n",
        "print(arr)\n",
        "print(arr.dtype)"
      ],
      "metadata": {
        "colab": {
          "base_uri": "https://localhost:8080/"
        },
        "id": "k8VE2nHRgaHd",
        "outputId": "3d66c6e8-ff80-4fc1-8f32-6c009d87eade"
      },
      "execution_count": 198,
      "outputs": [
        {
          "output_type": "stream",
          "name": "stdout",
          "text": [
            "[1 2 3 4]\n",
            "int32\n"
          ]
        }
      ]
    },
    {
      "cell_type": "code",
      "source": [
        "arr = np.array([1.0 + 2.0j, 1.5 + 2.5j])\n",
        "print(arr.dtype)"
      ],
      "metadata": {
        "colab": {
          "base_uri": "https://localhost:8080/"
        },
        "id": "aDSELlo5gcrW",
        "outputId": "953eb401-b71b-4eea-9e34-7b358d33177b"
      },
      "execution_count": 199,
      "outputs": [
        {
          "output_type": "stream",
          "name": "stdout",
          "text": [
            "complex128\n"
          ]
        }
      ]
    },
    {
      "cell_type": "code",
      "source": [
        "arr = np.array([-1, 2, 3], dtype='u2')\n",
        "print(arr)"
      ],
      "metadata": {
        "colab": {
          "base_uri": "https://localhost:8080/"
        },
        "id": "tj7EnoUpgemL",
        "outputId": "00812a75-fb07-4a33-9514-54a0a4bf2d62"
      },
      "execution_count": 200,
      "outputs": [
        {
          "output_type": "stream",
          "name": "stdout",
          "text": [
            "[65535     2     3]\n"
          ]
        }
      ]
    },
    {
      "cell_type": "code",
      "source": [
        "# error if conversion not possible\n",
        "\n",
        "arr = np.array(['a', '2', '3'], dtype='i')"
      ],
      "metadata": {
        "colab": {
          "base_uri": "https://localhost:8080/",
          "height": 200
        },
        "id": "v5k_VT-Fggjf",
        "outputId": "9a5de6da-c7c0-49c6-f3c0-926f672a88bc"
      },
      "execution_count": 201,
      "outputs": [
        {
          "output_type": "error",
          "ename": "ValueError",
          "evalue": "ignored",
          "traceback": [
            "\u001b[0;31m---------------------------------------------------------------------------\u001b[0m",
            "\u001b[0;31mValueError\u001b[0m                                Traceback (most recent call last)",
            "\u001b[0;32m<ipython-input-201-6c6691a5f2d3>\u001b[0m in \u001b[0;36m<cell line: 3>\u001b[0;34m()\u001b[0m\n\u001b[1;32m      1\u001b[0m \u001b[0;31m# error if conversion not possible\u001b[0m\u001b[0;34m\u001b[0m\u001b[0;34m\u001b[0m\u001b[0m\n\u001b[1;32m      2\u001b[0m \u001b[0;34m\u001b[0m\u001b[0m\n\u001b[0;32m----> 3\u001b[0;31m \u001b[0marr\u001b[0m \u001b[0;34m=\u001b[0m \u001b[0mnp\u001b[0m\u001b[0;34m.\u001b[0m\u001b[0marray\u001b[0m\u001b[0;34m(\u001b[0m\u001b[0;34m[\u001b[0m\u001b[0;34m'a'\u001b[0m\u001b[0;34m,\u001b[0m \u001b[0;34m'2'\u001b[0m\u001b[0;34m,\u001b[0m \u001b[0;34m'3'\u001b[0m\u001b[0;34m]\u001b[0m\u001b[0;34m,\u001b[0m \u001b[0mdtype\u001b[0m\u001b[0;34m=\u001b[0m\u001b[0;34m'i'\u001b[0m\u001b[0;34m)\u001b[0m\u001b[0;34m\u001b[0m\u001b[0;34m\u001b[0m\u001b[0m\n\u001b[0m",
            "\u001b[0;31mValueError\u001b[0m: invalid literal for int() with base 10: 'a'"
          ]
        }
      ]
    },
    {
      "cell_type": "code",
      "source": [
        "# type conversion\n",
        "arr = np.array([1.1, 2.1, 3.1])\n",
        "\n",
        "newarr = arr.astype('i')\n",
        "\n",
        "print(newarr)\n",
        "print(newarr.dtype)"
      ],
      "metadata": {
        "colab": {
          "base_uri": "https://localhost:8080/"
        },
        "id": "-GpJSHS6gi7h",
        "outputId": "86179ca8-6f0f-43ad-9bc3-4b7a04ef1f25"
      },
      "execution_count": 202,
      "outputs": [
        {
          "output_type": "stream",
          "name": "stdout",
          "text": [
            "[1 2 3]\n",
            "int32\n"
          ]
        }
      ]
    },
    {
      "cell_type": "markdown",
      "source": [
        "**NumPy Array Copy vs View**"
      ],
      "metadata": {
        "id": "fuGdE1ppgqvd"
      }
    },
    {
      "cell_type": "code",
      "source": [
        "arr = np.array([1, 2, 3, 4, 5])\n",
        "x = arr.copy()\n",
        "arr[0] = 42\n",
        "\n",
        "print(arr)\n",
        "print(x)"
      ],
      "metadata": {
        "colab": {
          "base_uri": "https://localhost:8080/"
        },
        "id": "r0oAlc5lgm6D",
        "outputId": "5e7eb048-0e89-40dd-e565-dd075684b2e9"
      },
      "execution_count": 203,
      "outputs": [
        {
          "output_type": "stream",
          "name": "stdout",
          "text": [
            "[42  2  3  4  5]\n",
            "[1 2 3 4 5]\n"
          ]
        }
      ]
    },
    {
      "cell_type": "code",
      "source": [
        "arr = np.array([1, 2, 3, 4, 5])\n",
        "x = arr.view()\n",
        "arr[0] = 42\n",
        "\n",
        "print(arr)\n",
        "print(x)"
      ],
      "metadata": {
        "colab": {
          "base_uri": "https://localhost:8080/"
        },
        "id": "1C_1O31XgqNH",
        "outputId": "ddd75aed-555a-4f7d-c18c-e00bd3c3b8ec"
      },
      "execution_count": 204,
      "outputs": [
        {
          "output_type": "stream",
          "name": "stdout",
          "text": [
            "[42  2  3  4  5]\n",
            "[42  2  3  4  5]\n"
          ]
        }
      ]
    },
    {
      "cell_type": "code",
      "source": [
        "arr = np.array([1, 2, 3, 4, 5])\n",
        "x = arr.view()\n",
        "x[0] = 31\n",
        "\n",
        "print(arr)\n",
        "print(x)"
      ],
      "metadata": {
        "colab": {
          "base_uri": "https://localhost:8080/"
        },
        "id": "BiqDoYwlgy5l",
        "outputId": "7f13e293-745e-4d11-dffe-0be1ab021d9a"
      },
      "execution_count": 205,
      "outputs": [
        {
          "output_type": "stream",
          "name": "stdout",
          "text": [
            "[31  2  3  4  5]\n",
            "[31  2  3  4  5]\n"
          ]
        }
      ]
    },
    {
      "cell_type": "markdown",
      "source": [
        "**Joining NumPy Arrays**"
      ],
      "metadata": {
        "id": "rHc58VD1g8RY"
      }
    },
    {
      "cell_type": "code",
      "source": [
        "# 1D join\n",
        "arr1 = np.array([1, 2, 3])\n",
        "\n",
        "arr2 = np.array([4, 5, 6])\n",
        "\n",
        "arr = np.concatenate((arr1, arr2))\n",
        "\n",
        "print(arr)"
      ],
      "metadata": {
        "colab": {
          "base_uri": "https://localhost:8080/"
        },
        "id": "qoYXgaRNg1Oq",
        "outputId": "d4b3cddf-cd9c-44d3-9e03-59ce7d3eed8d"
      },
      "execution_count": 206,
      "outputs": [
        {
          "output_type": "stream",
          "name": "stdout",
          "text": [
            "[1 2 3 4 5 6]\n"
          ]
        }
      ]
    },
    {
      "cell_type": "code",
      "source": [
        "#2d Join\n",
        "arr1 = np.array([[1, 2], [3, 4]])\n",
        "\n",
        "arr2 = np.array([[5, 6], [7, 8]])\n",
        "\n",
        "arr = np.concatenate((arr1, arr2), axis=0)\n",
        "\n",
        "print(arr)\n",
        "\n"
      ],
      "metadata": {
        "colab": {
          "base_uri": "https://localhost:8080/"
        },
        "id": "XzRaDW5YhBxJ",
        "outputId": "82272055-6652-4fce-89a7-49cb26908dc7"
      },
      "execution_count": 207,
      "outputs": [
        {
          "output_type": "stream",
          "name": "stdout",
          "text": [
            "[[1 2]\n",
            " [3 4]\n",
            " [5 6]\n",
            " [7 8]]\n"
          ]
        }
      ]
    },
    {
      "cell_type": "code",
      "source": [
        "a= {1,2,3,4,5}\n",
        "print(a)\n",
        "type(a)\n"
      ],
      "metadata": {
        "colab": {
          "base_uri": "https://localhost:8080/"
        },
        "id": "L23WEaA1hVlf",
        "outputId": "455c4dec-6cf8-4579-8dae-5125e46436c2"
      },
      "execution_count": 208,
      "outputs": [
        {
          "output_type": "stream",
          "name": "stdout",
          "text": [
            "{1, 2, 3, 4, 5}\n"
          ]
        },
        {
          "output_type": "execute_result",
          "data": {
            "text/plain": [
              "set"
            ]
          },
          "metadata": {},
          "execution_count": 208
        }
      ]
    },
    {
      "cell_type": "code",
      "source": [
        "# stack\n",
        "a = np.array([1, 2, 3])\n",
        "b = np.array([4, 5, 6])\n",
        "\n",
        "# Stack arrays 'a' and 'b' along a new axis\n",
        "result = np.stack((a, b))\n",
        "\n",
        "print(result)\n"
      ],
      "metadata": {
        "colab": {
          "base_uri": "https://localhost:8080/"
        },
        "id": "xoV-SooAhZbY",
        "outputId": "54791586-9d1c-463e-e56d-7d609ad24a51"
      },
      "execution_count": 209,
      "outputs": [
        {
          "output_type": "stream",
          "name": "stdout",
          "text": [
            "[[1 2 3]\n",
            " [4 5 6]]\n"
          ]
        }
      ]
    },
    {
      "cell_type": "code",
      "source": [
        "# hstack\n",
        "a = np.array([1, 2, 3])\n",
        "b = np.array([4, 5, 6])\n",
        "\n",
        "# Horizontally stack arrays 'a' and 'b'\n",
        "result = np.hstack((a, b))\n",
        "\n",
        "print(result)\n"
      ],
      "metadata": {
        "colab": {
          "base_uri": "https://localhost:8080/"
        },
        "id": "fVxL6K7ThtKf",
        "outputId": "1b0d2286-c524-4383-f35e-44e263a4a2e4"
      },
      "execution_count": 210,
      "outputs": [
        {
          "output_type": "stream",
          "name": "stdout",
          "text": [
            "[1 2 3 4 5 6]\n"
          ]
        }
      ]
    },
    {
      "cell_type": "code",
      "source": [
        "#vstack\n",
        "a = np.array([1, 2, 3])\n",
        "b = np.array([4, 5, 6])\n",
        "\n",
        "# Vertically stack arrays 'a' and 'b'\n",
        "result = np.vstack((a, b))\n",
        "\n",
        "print(result)\n"
      ],
      "metadata": {
        "colab": {
          "base_uri": "https://localhost:8080/"
        },
        "id": "KWwsn7tvh6PE",
        "outputId": "24dabed5-a847-472a-9900-2edb1ff7c5db"
      },
      "execution_count": 211,
      "outputs": [
        {
          "output_type": "stream",
          "name": "stdout",
          "text": [
            "[[1 2 3]\n",
            " [4 5 6]]\n"
          ]
        }
      ]
    },
    {
      "cell_type": "code",
      "source": [
        "#dstack\n",
        "\n",
        "a = np.array([1, 2, 3])\n",
        "b = np.array([4, 5, 6])\n",
        "\n",
        "# Depth-wise stack arrays 'a' and 'b'\n",
        "result = np.dstack((a, b))\n",
        "\n",
        "print(result)\n"
      ],
      "metadata": {
        "colab": {
          "base_uri": "https://localhost:8080/"
        },
        "id": "GrymTaALh_Il",
        "outputId": "3b117163-8b4d-4636-b0db-c605446e1130"
      },
      "execution_count": 212,
      "outputs": [
        {
          "output_type": "stream",
          "name": "stdout",
          "text": [
            "[[[1 4]\n",
            "  [2 5]\n",
            "  [3 6]]]\n"
          ]
        }
      ]
    },
    {
      "cell_type": "markdown",
      "source": [
        "**Split , Search, Sort, Filter**"
      ],
      "metadata": {
        "id": "G4ZVLcsFiKM3"
      }
    },
    {
      "cell_type": "code",
      "source": [
        "# Split\n",
        "\n",
        "arr = np.array([1, 2, 3, 4, 5, 6])\n",
        "\n",
        "newarr = np.array_split(arr, 3)\n",
        "\n",
        "print(newarr)"
      ],
      "metadata": {
        "colab": {
          "base_uri": "https://localhost:8080/"
        },
        "id": "kKTenpkCiEZH",
        "outputId": "9423eaec-a08a-49cd-d9bf-da776283dfbb"
      },
      "execution_count": 213,
      "outputs": [
        {
          "output_type": "stream",
          "name": "stdout",
          "text": [
            "[array([1, 2]), array([3, 4]), array([5, 6])]\n"
          ]
        }
      ]
    },
    {
      "cell_type": "code",
      "source": [
        "# Searching using where\n",
        "\n",
        "arr = np.array([1, 2, 3, 4, 5, 4, 4])\n",
        "\n",
        "x = np.where(arr == 4)\n",
        "\n",
        "print(x)"
      ],
      "metadata": {
        "colab": {
          "base_uri": "https://localhost:8080/"
        },
        "id": "UKw1d2guiN90",
        "outputId": "cf7b0f6d-8373-4f5c-9950-dbefe729cc3b"
      },
      "execution_count": 214,
      "outputs": [
        {
          "output_type": "stream",
          "name": "stdout",
          "text": [
            "(array([3, 5, 6]),)\n"
          ]
        }
      ]
    },
    {
      "cell_type": "code",
      "source": [
        "# Sorting\n",
        "arr = np.array([3, 2, 0, 1])\n",
        "\n",
        "print(np.sort(arr))"
      ],
      "metadata": {
        "colab": {
          "base_uri": "https://localhost:8080/"
        },
        "id": "zWJMLujOiQIz",
        "outputId": "29c2ceef-6fa6-464b-a009-78e156ac0b1d"
      },
      "execution_count": 215,
      "outputs": [
        {
          "output_type": "stream",
          "name": "stdout",
          "text": [
            "[0 1 2 3]\n"
          ]
        }
      ]
    },
    {
      "cell_type": "code",
      "source": [
        "# filter\n",
        "arr = np.array([1, 2, 3, 4, 5, 6, 7])\n",
        "\n",
        "filter_arr = arr % 2 == 0\n",
        "\n",
        "newarr = arr[filter_arr]\n",
        "\n",
        "print(filter_arr)\n",
        "print(newarr)"
      ],
      "metadata": {
        "colab": {
          "base_uri": "https://localhost:8080/"
        },
        "id": "iEMy0RXviSUb",
        "outputId": "c8dee5cd-d649-4e96-f8d6-a99226cc8c8f"
      },
      "execution_count": 216,
      "outputs": [
        {
          "output_type": "stream",
          "name": "stdout",
          "text": [
            "[False  True False  True False  True False]\n",
            "[2 4 6]\n"
          ]
        }
      ]
    },
    {
      "cell_type": "code",
      "source": [],
      "metadata": {
        "id": "LmoKMwrYic9s"
      },
      "execution_count": 216,
      "outputs": []
    }
  ],
  "metadata": {
    "colab": {
      "provenance": []
    },
    "kernelspec": {
      "display_name": "Python 3",
      "language": "python",
      "name": "python3"
    },
    "language_info": {
      "codemirror_mode": {
        "name": "ipython",
        "version": 3
      },
      "file_extension": ".py",
      "mimetype": "text/x-python",
      "name": "python",
      "nbconvert_exporter": "python",
      "pygments_lexer": "ipython3",
      "version": "3.8.8"
    }
  },
  "nbformat": 4,
  "nbformat_minor": 0
}