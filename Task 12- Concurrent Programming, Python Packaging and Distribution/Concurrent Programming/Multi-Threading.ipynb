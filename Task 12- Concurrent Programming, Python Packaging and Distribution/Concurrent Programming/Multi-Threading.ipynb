{
 "cells": [
  {
   "cell_type": "markdown",
   "id": "537a1a39",
   "metadata": {},
   "source": [
    "## 1. Multi-Threading:\n",
    "Multi-threading is a technique used in programming to achieve concurrent execution of multiple threads within a single process. In Python, you can utilize multi-threading to perform multiple tasks simultaneously and improve the overall performance of your program.\n",
    "\n",
    "Python provides a built-in module called threading for multi-threading."
   ]
  },
  {
   "cell_type": "markdown",
   "id": "36ec5688",
   "metadata": {},
   "source": [
    "A thread is an entity within a process that can be scheduled for execution. Also, it is the smallest unit of processing that can be performed in an OS (Operating System). In simple words, a thread is a sequence of such instructions within a program that can be executed independently of other code. For simplicity, you can assume that a thread is simply a subset of a process! A thread contains all this information in a Thread Control Block (TCB):\n",
    "\n",
    "#### Thread Identifier: Unique id (TID) is assigned to every new thread\n",
    "\n",
    "#### Stack pointer: Points to the thread’s stack in the process. The stack contains the local variables under the thread’s scope.\n",
    "\n",
    "#### Program counter: a register that stores the address of the instruction currently being executed by a thread.\n",
    "\n",
    "##### Thread state: can be running, ready, waiting, starting, or done.\n",
    "\n",
    "##### Thread’s register set: registers assigned to thread for computations.\n",
    "\n",
    "##### Parent process Pointer: A pointer to the Process control block (PCB) of the process that the thread lives on."
   ]
  },
  {
   "cell_type": "markdown",
   "id": "7c8dc40f",
   "metadata": {},
   "source": [
    "Multiple threads can exist within one process where:\n",
    "\n",
    "Each thread contains its own register set and local variables (stored in the stack).\n",
    "\n",
    "All threads of a process share global variables (stored in heap) and the program code."
   ]
  },
  {
   "cell_type": "code",
   "execution_count": 42,
   "id": "e48a515e",
   "metadata": {},
   "outputs": [
    {
     "name": "stdout",
     "output_type": "stream",
     "text": [
      "Square: 400\n",
      "Cube: 1000\n",
      "Thread 1 execution time: 2.0042378902435303 seconds\n",
      "Thread 2 execution time: 2.0042378902435303 seconds\n",
      "Done!\n"
     ]
    }
   ],
   "source": [
    "import threading\n",
    "import time\n",
    "\n",
    "def print_cube(num):\n",
    "    # function to print cube of given num\n",
    "    print(\"Cube: {}\".format(num * num * num))\n",
    "    time.sleep(2)  # Simulate some time-consuming task\n",
    "\n",
    "\n",
    "def print_square(num):\n",
    "    # function to print square of given num\n",
    "    print(\"Square: {}\".format(num * num))\n",
    "    time.sleep(1)  # Simulate some time-consuming task\n",
    "\n",
    "\n",
    "if __name__ == \"__main__\":\n",
    "    # creating threads\n",
    "    t1 = threading.Thread(target=print_square, args=(20,))  # args is value passed to function\n",
    "    t2 = threading.Thread(target=print_cube, args=(10,))\n",
    "\n",
    "    # starting thread 1\n",
    "    start_time = time.time()\n",
    "    t1.start()\n",
    "\n",
    "    # starting thread 2\n",
    "    t2.start()\n",
    "\n",
    "    # wait until both threads are completely executed\n",
    "    t1.join()\n",
    "    t2.join()\n",
    "\n",
    "    # calculate and print the time taken by each thread\n",
    "    t1_time = time.time() - start_time\n",
    "    print(\"Thread 1 execution time:\", t1_time, \"seconds\")\n",
    "\n",
    "    t2_time = time.time() - start_time\n",
    "    print(\"Thread 2 execution time:\", t2_time, \"seconds\")\n",
    "    \n",
    "\n",
    "    # both threads completely executed\n",
    "print(\"Done!\")\n"
   ]
  },
  {
   "cell_type": "markdown",
   "id": "4c208554",
   "metadata": {},
   "source": [
    "#### In this example,\n",
    "we use os.getpid() function to get the ID of the current process. We use threading.main_thread() function to get the main thread object."
   ]
  },
  {
   "cell_type": "code",
   "execution_count": 46,
   "id": "c325e6c4",
   "metadata": {},
   "outputs": [
    {
     "name": "stdout",
     "output_type": "stream",
     "text": [
      "ID of process running main program: 13896\n",
      "Main thread name: MainThread\n",
      "Task 1 assigned to thread: t1\n",
      "ID of process running task 1: 13896\n",
      "Task 2 assigned to thread: t2\n",
      "ID of process running task 2: 13896\n"
     ]
    }
   ],
   "source": [
    "# Python program to illustrate the concept\n",
    "# of threading\n",
    "import threading\n",
    "import os\n",
    "import time\n",
    "\n",
    "\n",
    "def task1():\n",
    "\tprint(\"Task 1 assigned to thread: {}\".format(threading.current_thread().name))\n",
    "\tprint(\"ID of process running task 1: {}\".format(os.getpid()))\n",
    "\n",
    "def task2():\n",
    "\tprint(\"Task 2 assigned to thread: {}\".format(threading.current_thread().name))\n",
    "\tprint(\"ID of process running task 2: {}\".format(os.getpid()))\n",
    "\n",
    "if __name__ == \"__main__\":\n",
    "\n",
    "\t# print ID of current process\n",
    "\tprint(\"ID of process running main program: {}\".format(os.getpid()))\n",
    "\n",
    "\t# print name of main thread\n",
    "\tprint(\"Main thread name: {}\".format(threading.current_thread().name))\n",
    "\n",
    "\t# creating threads\n",
    "\tt1 = threading.Thread(target=task1, name='t1')\n",
    "\tt2 = threading.Thread(target=task2, name='t2')\n",
    "\n",
    "\t# starting threads\n",
    "\tt1.start()\n",
    "\tt2.start()\n",
    "\n",
    "\t# wait until all threads finish\n",
    "\tt1.join()\n",
    "\tt2.join()\n"
   ]
  },
  {
   "cell_type": "markdown",
   "id": "eed137e7",
   "metadata": {},
   "source": [
    "## Python ThreadPool"
   ]
  },
  {
   "cell_type": "code",
   "execution_count": 47,
   "id": "76154609",
   "metadata": {},
   "outputs": [
    {
     "name": "stdout",
     "output_type": "stream",
     "text": [
      "Worker thread running\n",
      "Worker thread running\n",
      "Main thread continuing to run\n"
     ]
    }
   ],
   "source": [
    "import concurrent.futures\n",
    "\n",
    "def worker():\n",
    "\tprint(\"Worker thread running\")\n",
    "\n",
    "# create a thread pool with 2 threads\n",
    "pool = concurrent.futures.ThreadPoolExecutor(max_workers=2)\n",
    "\n",
    "# submit tasks to the pool\n",
    "pool.submit(worker)\n",
    "pool.submit(worker)\n",
    "\n",
    "# wait for all tasks to complete\n",
    "pool.shutdown(wait=True)\n",
    "\n",
    "print(\"Main thread continuing to run\")\n"
   ]
  },
  {
   "cell_type": "markdown",
   "id": "6d53bd8d",
   "metadata": {},
   "source": [
    "we define a function worker that will run in a thread. We create a ThreadPoolExecutor with a maximum of 2 worker threads. We then submit two tasks to the pool using the submit method. The pool manages the execution of the tasks in its worker threads. We use the shutdown method to wait for all tasks to complete before the main thread continues."
   ]
  },
  {
   "cell_type": "markdown",
   "id": "4746181f",
   "metadata": {},
   "source": [
    "## Thread synchronization:"
   ]
  },
  {
   "cell_type": "markdown",
   "id": "3e166534",
   "metadata": {},
   "source": [
    "#### concept of race condition"
   ]
  },
  {
   "cell_type": "code",
   "execution_count": 51,
   "id": "afbd5722",
   "metadata": {},
   "outputs": [
    {
     "name": "stdout",
     "output_type": "stream",
     "text": [
      "Iteration 0: x = 200000\n",
      "Iteration 1: x = 200000\n",
      "Iteration 2: x = 200000\n",
      "Iteration 3: x = 200000\n",
      "Iteration 4: x = 200000\n",
      "Iteration 5: x = 200000\n",
      "Iteration 6: x = 200000\n",
      "Iteration 7: x = 200000\n",
      "Iteration 8: x = 200000\n",
      "Iteration 9: x = 200000\n"
     ]
    }
   ],
   "source": [
    "import threading\n",
    "\n",
    "# global variable x\n",
    "x = 0\n",
    "\n",
    "def increment():\n",
    "\t\"\"\"\n",
    "\tfunction to increment global variable x\n",
    "\t\"\"\"\n",
    "\tglobal x\n",
    "\tx += 1\n",
    "\n",
    "def thread_task():\n",
    "\t\"\"\"\n",
    "\ttask for thread\n",
    "\tcalls increment function 100000 times.\n",
    "\t\"\"\"\n",
    "\tfor _ in range(100000):\n",
    "\t\tincrement()\n",
    "\n",
    "def main_task():\n",
    "\tglobal x\n",
    "\t# setting global variable x as 0\n",
    "\tx = 0\n",
    "\n",
    "\t# creating threads\n",
    "\tt1 = threading.Thread(target=thread_task)\n",
    "\tt2 = threading.Thread(target=thread_task)\n",
    "\n",
    "\t# start threads\n",
    "\tt1.start()\n",
    "\tt2.start()\n",
    "\n",
    "\t# wait until threads finish their job\n",
    "\tt1.join()\n",
    "\tt2.join()\n",
    "\n",
    "if __name__ == \"__main__\":\n",
    "\tfor i in range(10):\n",
    "\t\tmain_task()\n",
    "\t\tprint(\"Iteration {0}: x = {1}\".format(i,x))\n"
   ]
  },
  {
   "cell_type": "markdown",
   "id": "4ca2a1a4",
   "metadata": {},
   "source": [
    "#### In above program:\n",
    "\n",
    "Two threads t1 and t2 are created in main_task function and global variable x is set to 0.\n",
    "\n",
    "Each thread has a target function thread_task in which increment function is called 100000 times.\n",
    "\n",
    "increment function will increment the global variable x by 1 in each call.\n",
    "\n",
    "The expected final value of x is 200000 but what we get in 10 iterations of main_task function is some different values.\n",
    "\n",
    "\n",
    "This happens due to concurrent access of threads to the shared variable x. This unpredictability in value of x is nothing but race condition."
   ]
  },
  {
   "cell_type": "markdown",
   "id": "d4a79fef",
   "metadata": {},
   "source": [
    "## Using Locks:\n",
    "threading module provides a Lock class to deal with the race conditions."
   ]
  },
  {
   "cell_type": "code",
   "execution_count": null,
   "id": "b4c4ace5",
   "metadata": {},
   "outputs": [],
   "source": []
  },
  {
   "cell_type": "code",
   "execution_count": 50,
   "id": "cb050b68",
   "metadata": {},
   "outputs": [
    {
     "name": "stdout",
     "output_type": "stream",
     "text": [
      "Iteration 0: x = 200000\n",
      "Iteration 1: x = 200000\n",
      "Iteration 2: x = 200000\n",
      "Iteration 3: x = 200000\n",
      "Iteration 4: x = 200000\n",
      "Iteration 5: x = 200000\n",
      "Iteration 6: x = 200000\n",
      "Iteration 7: x = 200000\n",
      "Iteration 8: x = 200000\n",
      "Iteration 9: x = 200000\n"
     ]
    }
   ],
   "source": [
    "import threading\n",
    "\n",
    "# global variable x\n",
    "x = 0\n",
    "\n",
    "def increment():\n",
    "\t\"\"\"\n",
    "\tfunction to increment global variable x\n",
    "\t\"\"\"\n",
    "\tglobal x\n",
    "\tx += 1\n",
    "\n",
    "def thread_task(lock):\n",
    "\t\"\"\"\n",
    "\ttask for thread\n",
    "\tcalls increment function 100000 times.\n",
    "\t\"\"\"\n",
    "\tfor _ in range(100000):\n",
    "\t\tlock.acquire()\n",
    "\t\tincrement()\n",
    "\t\tlock.release()\n",
    "\n",
    "def main_task():\n",
    "\tglobal x\n",
    "\t# setting global variable x as 0\n",
    "\tx = 0\n",
    "\n",
    "\t# creating a lock\n",
    "\tlock = threading.Lock()\n",
    "\n",
    "\t# creating threads\n",
    "\tt1 = threading.Thread(target=thread_task, args=(lock,))\n",
    "\tt2 = threading.Thread(target=thread_task, args=(lock,))\n",
    "\n",
    "\t# start threads\n",
    "\tt1.start()\n",
    "\tt2.start()\n",
    "\n",
    "\t# wait until threads finish their job\n",
    "\tt1.join()\n",
    "\tt2.join()\n",
    "\n",
    "if __name__ == \"__main__\":\n",
    "\tfor i in range(10):\n",
    "\t\tmain_task()\n",
    "\t\tprint(\"Iteration {0}: x = {1}\".format(i,x))\n"
   ]
  },
  {
   "cell_type": "code",
   "execution_count": null,
   "id": "edfdc509",
   "metadata": {},
   "outputs": [],
   "source": []
  }
 ],
 "metadata": {
  "kernelspec": {
   "display_name": "Python 3 (ipykernel)",
   "language": "python",
   "name": "python3"
  },
  "language_info": {
   "codemirror_mode": {
    "name": "ipython",
    "version": 3
   },
   "file_extension": ".py",
   "mimetype": "text/x-python",
   "name": "python",
   "nbconvert_exporter": "python",
   "pygments_lexer": "ipython3",
   "version": "3.10.9"
  }
 },
 "nbformat": 4,
 "nbformat_minor": 5
}
