{
 "cells": [
  {
   "cell_type": "markdown",
   "id": "cc26082b",
   "metadata": {},
   "source": [
    "Process"
   ]
  },
  {
   "cell_type": "code",
   "execution_count": 3,
   "id": "2c6af01c",
   "metadata": {},
   "outputs": [
    {
     "name": "stdout",
     "output_type": "stream",
     "text": [
      "Done\n"
     ]
    }
   ],
   "source": [
    "import multiprocessing\n",
    "import time\n",
    "\n",
    "\n",
    "class Process(multiprocessing.Process):\n",
    "\tdef __init__(self, id):\n",
    "\t\tsuper(Process, self).__init__()\n",
    "\t\tself.id = id\n",
    "\t\t\t\t\n",
    "\tdef run(self):\n",
    "\t\ttime.sleep(1)\n",
    "\t\tprint(\"I'm the process with id: {}\".format(self.id))\n",
    "\n",
    "if __name__ == '__main__':\n",
    "\tp = Process(0)\n",
    "\tp.start()\n",
    "\tp.join()\n",
    "\tp = Process(1)\n",
    "\tp.start()\n",
    "\tp.join()"
   ]
  },
  {
   "cell_type": "markdown",
   "id": "c831a562",
   "metadata": {},
   "source": [
    "### Pool class\n",
    "\n",
    "Pool class can be used for parallel execution of a function for different input data."
   ]
  },
  {
   "cell_type": "code",
   "execution_count": null,
   "id": "87b9b860",
   "metadata": {},
   "outputs": [],
   "source": [
    "import multiprocessing\n",
    "import time\n",
    "\n",
    "\n",
    "def square(x):\n",
    "\treturn x * x\n",
    "\n",
    "if __name__ == '__main__':\n",
    "\tpool = multiprocessing.Pool()\n",
    "\tpool = multiprocessing.Pool(processes=4)\n",
    "\tinputs = [0,1,2,3,4]\n",
    "\toutputs = pool.map(square, inputs)\n",
    "\tprint(\"Input: {}\".format(inputs))\n",
    "\tprint(\"Output: {}\".format(outputs))"
   ]
  },
  {
   "cell_type": "code",
   "execution_count": null,
   "id": "10220b1f",
   "metadata": {},
   "outputs": [],
   "source": []
  }
 ],
 "metadata": {
  "kernelspec": {
   "display_name": "Python 3 (ipykernel)",
   "language": "python",
   "name": "python3"
  },
  "language_info": {
   "codemirror_mode": {
    "name": "ipython",
    "version": 3
   },
   "file_extension": ".py",
   "mimetype": "text/x-python",
   "name": "python",
   "nbconvert_exporter": "python",
   "pygments_lexer": "ipython3",
   "version": "3.10.9"
  }
 },
 "nbformat": 4,
 "nbformat_minor": 5
}
