{
 "cells": [
  {
   "cell_type": "markdown",
   "id": "537a1a39",
   "metadata": {},
   "source": [
    "## 1. Multi-Threading:\n",
    "Multi-threading is a technique used in programming to achieve concurrent execution of multiple threads within a single process. In Python, you can utilize multi-threading to perform multiple tasks simultaneously and improve the overall performance of your program.\n",
    "\n",
    "Python provides a built-in module called threading for multi-threading."
   ]
  },
  {
   "cell_type": "markdown",
   "id": "36ec5688",
   "metadata": {},
   "source": [
    "A thread is an entity within a process that can be scheduled for execution. Also, it is the smallest unit of processing that can be performed in an OS (Operating System). In simple words, a thread is a sequence of such instructions within a program that can be executed independently of other code. For simplicity, you can assume that a thread is simply a subset of a process! A thread contains all this information in a Thread Control Block (TCB):\n",
    "\n",
    "#### Thread Identifier: Unique id (TID) is assigned to every new thread\n",
    "\n",
    "#### Stack pointer: Points to the thread’s stack in the process. The stack contains the local variables under the thread’s scope.\n",
    "\n",
    "#### Program counter: a register that stores the address of the instruction currently being executed by a thread.\n",
    "\n",
    "##### Thread state: can be running, ready, waiting, starting, or done.\n",
    "\n",
    "##### Thread’s register set: registers assigned to thread for computations.\n",
    "\n",
    "##### Parent process Pointer: A pointer to the Process control block (PCB) of the process that the thread lives on."
   ]
  },
  {
   "cell_type": "markdown",
   "id": "7c8dc40f",
   "metadata": {},
   "source": [
    "Multiple threads can exist within one process where:\n",
    "\n",
    "Each thread contains its own register set and local variables (stored in the stack).\n",
    "\n",
    "All threads of a process share global variables (stored in heap) and the program code."
   ]
  },
  {
   "cell_type": "code",
   "execution_count": 19,
   "id": "e48a515e",
   "metadata": {},
   "outputs": [
    {
     "name": "stdout",
     "output_type": "stream",
     "text": [
      "Square: 100\n",
      "Cube: 1000\n",
      "Thread 1 execution time: 2.013122081756592 seconds\n",
      "Thread 2 execution time: 2.013122081756592 seconds\n",
      "Done!\n"
     ]
    }
   ],
   "source": [
    "import threading\n",
    "import time\n",
    "\n",
    "def print_cube(num):\n",
    "    # function to print cube of given num\n",
    "    print(\"Cube: {}\".format(num * num * num))\n",
    "    time.sleep(2)  # Simulate some time-consuming task\n",
    "\n",
    "\n",
    "def print_square(num):\n",
    "    # function to print square of given num\n",
    "    print(\"Square: {}\".format(num * num))\n",
    "    time.sleep(1)  # Simulate some time-consuming task\n",
    "\n",
    "\n",
    "if __name__ == \"__main__\":\n",
    "    # creating threads\n",
    "    t1 = threading.Thread(target=print_square, args=(10,))\n",
    "    t2 = threading.Thread(target=print_cube, args=(10,))\n",
    "\n",
    "    # starting thread 1\n",
    "    start_time = time.time()\n",
    "    t1.start()\n",
    "\n",
    "    # starting thread 2\n",
    "    t2.start()\n",
    "\n",
    "    # wait until both threads are completely executed\n",
    "    t1.join()\n",
    "    t2.join()\n",
    "\n",
    "    # calculate and print the time taken by each thread\n",
    "    t1_time = time.time() - start_time\n",
    "    print(\"Thread 1 execution time:\", t1_time, \"seconds\")\n",
    "\n",
    "    t2_time = time.time() - start_time\n",
    "    print(\"Thread 2 execution time:\", t2_time, \"seconds\")\n",
    "\n",
    "    # both threads completely executed\n",
    "print(\"Done!\")\n"
   ]
  },
  {
   "cell_type": "code",
   "execution_count": 3,
   "id": "d563185d",
   "metadata": {},
   "outputs": [
    {
     "name": "stdout",
     "output_type": "stream",
     "text": [
      "Square: 100\n",
      "Cube: 1000\n",
      "Thread 1 execution time: 2.0125763416290283 seconds\n",
      "Thread 2 execution time: 2.0125763416290283 seconds\n",
      "Total execution time: 2.0125763416290283 seconds\n",
      "Done!\n"
     ]
    }
   ],
   "source": [
    "import threading\n",
    "import time\n",
    "\n",
    "def print_cube(num):\n",
    "    # function to print cube of given num\n",
    "    print(\"Cube: {}\".format(num * num * num))\n",
    "    time.sleep(2)  # Simulate some time-consuming task\n",
    "\n",
    "\n",
    "def print_square(num):\n",
    "    # function to print square of given num\n",
    "    print(\"Square: {}\".format(num * num))\n",
    "    time.sleep(1)  # Simulate some time-consuming task\n",
    "\n",
    "\n",
    "if __name__ == \"__main__\":\n",
    "    # creating threads\n",
    "    t1 = threading.Thread(target=print_square, args=(10,))\n",
    "    t2 = threading.Thread(target=print_cube, args=(10,))\n",
    "\n",
    "    # starting time\n",
    "    start_time = time.time()\n",
    "\n",
    "    # starting threads\n",
    "    t1.start()\n",
    "    t2.start()\n",
    "\n",
    "    # wait until both threads are completely executed\n",
    "    t1.join()\n",
    "    t2.join()\n",
    "\n",
    "    # total time taken\n",
    "    total_time = time.time() - start_time\n",
    "    print(\"Total execution time:\", total_time, \"seconds\")\n",
    "\n",
    "    # both threads completely executed\n",
    "print(\"Done!\")\n"
   ]
  },
  {
   "cell_type": "markdown",
   "id": "e37add51",
   "metadata": {},
   "source": [
    "#### In this example,\n",
    "we use os.getpid() function to get the ID of the current process. We use threading.main_thread() function to get the main thread object."
   ]
  },
  {
   "cell_type": "code",
   "execution_count": 10,
   "id": "c325e6c4",
   "metadata": {},
   "outputs": [
    {
     "ename": "IndentationError",
     "evalue": "unindent does not match any outer indentation level (<tokenize>, line 26)",
     "output_type": "error",
     "traceback": [
      "\u001b[1;36m  File \u001b[1;32m\"<tokenize>\"\u001b[1;36m, line \u001b[1;32m26\u001b[0m\n\u001b[1;33m    start_time = time.time()\u001b[0m\n\u001b[1;37m    ^\u001b[0m\n\u001b[1;31mIndentationError\u001b[0m\u001b[1;31m:\u001b[0m unindent does not match any outer indentation level\n"
     ]
    }
   ],
   "source": [
    "# Python program to illustrate the concept\n",
    "# of threading\n",
    "import threading\n",
    "import os\n",
    "\n",
    "def task1():\n",
    "\tprint(\"Task 1 assigned to thread: {}\".format(threading.current_thread().name))\n",
    "\tprint(\"ID of process running task 1: {}\".format(os.getpid()))\n",
    "\n",
    "def task2():\n",
    "\tprint(\"Task 2 assigned to thread: {}\".format(threading.current_thread().name))\n",
    "\tprint(\"ID of process running task 2: {}\".format(os.getpid()))\n",
    "\n",
    "if __name__ == \"__main__\":\n",
    "\n",
    "\t# print ID of current process\n",
    "\tprint(\"ID of process running main program: {}\".format(os.getpid()))\n",
    "\n",
    "\t# print name of main thread\n",
    "\tprint(\"Main thread name: {}\".format(threading.current_thread().name))\n",
    "\n",
    "\t# creating threads\n",
    "\tt1 = threading.Thread(target=task1, name='t1')\n",
    "\tt2 = threading.Thread(target=task2, name='t2')\n",
    "\n",
    "\t# starting threads\n",
    "\tt1.start()\n",
    "\tt2.start()\n",
    "\n",
    "\t# wait until all threads finish\n",
    "\tt1.join()\n",
    "\tt2.join()\n"
   ]
  },
  {
   "cell_type": "code",
   "execution_count": null,
   "id": "6e68e466",
   "metadata": {},
   "outputs": [],
   "source": []
  }
 ],
 "metadata": {
  "kernelspec": {
   "display_name": "Python 3 (ipykernel)",
   "language": "python",
   "name": "python3"
  },
  "language_info": {
   "codemirror_mode": {
    "name": "ipython",
    "version": 3
   },
   "file_extension": ".py",
   "mimetype": "text/x-python",
   "name": "python",
   "nbconvert_exporter": "python",
   "pygments_lexer": "ipython3",
   "version": "3.10.9"
  }
 },
 "nbformat": 4,
 "nbformat_minor": 5
}
