{
 "cells": [
  {
   "cell_type": "markdown",
   "id": "cfcde03a",
   "metadata": {},
   "source": [
    "## Exploratory Data Analysis (EDA):\n",
    "EDA process that can be broken down into the following steps:\n",
    "\n",
    "Know Your Data\n",
    "\n",
    "Data Manipulation and Feature Engineering\n",
    "\n",
    "Univariate Analysis\n",
    "\n",
    "Multivariate Analysis"
   ]
  },
  {
   "cell_type": "markdown",
   "id": "37eadae2",
   "metadata": {},
   "source": [
    "### 1. Know Your Data"
   ]
  },
  {
   "cell_type": "code",
   "execution_count": 1,
   "id": "de8f9eb7",
   "metadata": {},
   "outputs": [],
   "source": [
    "import pandas as pd\n",
    "import seaborn as sns\n",
    "import matplotlib.pyplot as plt\n",
    "import numpy as np\n",
    "from pandas.api.types import is_string_dtype, is_numeric_dtype"
   ]
  },
  {
   "cell_type": "code",
   "execution_count": 2,
   "id": "cd0a6ee0",
   "metadata": {},
   "outputs": [
    {
     "data": {
      "text/plain": [
       "'C:\\\\Users\\\\Pranay\\\\Azure Training-Biz\\\\Task 4- 13th June 2023'"
      ]
     },
     "execution_count": 2,
     "metadata": {},
     "output_type": "execute_result"
    }
   ],
   "source": [
    "pwd()"
   ]
  },
  {
   "cell_type": "code",
   "execution_count": 3,
   "id": "90118dfd",
   "metadata": {},
   "outputs": [
    {
     "data": {
      "text/html": [
       "<div>\n",
       "<style scoped>\n",
       "    .dataframe tbody tr th:only-of-type {\n",
       "        vertical-align: middle;\n",
       "    }\n",
       "\n",
       "    .dataframe tbody tr th {\n",
       "        vertical-align: top;\n",
       "    }\n",
       "\n",
       "    .dataframe thead th {\n",
       "        text-align: right;\n",
       "    }\n",
       "</style>\n",
       "<table border=\"1\" class=\"dataframe\">\n",
       "  <thead>\n",
       "    <tr style=\"text-align: right;\">\n",
       "      <th></th>\n",
       "      <th>title</th>\n",
       "      <th>score</th>\n",
       "      <th>id</th>\n",
       "      <th>url</th>\n",
       "      <th>comms_num</th>\n",
       "      <th>created</th>\n",
       "      <th>body</th>\n",
       "      <th>timestamp</th>\n",
       "    </tr>\n",
       "  </thead>\n",
       "  <tbody>\n",
       "    <tr>\n",
       "      <th>0</th>\n",
       "      <td>It's not about the money, it's about sending a...</td>\n",
       "      <td>55</td>\n",
       "      <td>l6ulcx</td>\n",
       "      <td>https://v.redd.it/6j75regs72e61</td>\n",
       "      <td>6</td>\n",
       "      <td>1.611863e+09</td>\n",
       "      <td>NaN</td>\n",
       "      <td>2021-01-28 21:37:41</td>\n",
       "    </tr>\n",
       "    <tr>\n",
       "      <th>1</th>\n",
       "      <td>Math Professor Scott Steiner says the numbers ...</td>\n",
       "      <td>110</td>\n",
       "      <td>l6uibd</td>\n",
       "      <td>https://v.redd.it/ah50lyny62e61</td>\n",
       "      <td>23</td>\n",
       "      <td>1.611862e+09</td>\n",
       "      <td>NaN</td>\n",
       "      <td>2021-01-28 21:32:10</td>\n",
       "    </tr>\n",
       "    <tr>\n",
       "      <th>2</th>\n",
       "      <td>Exit the system</td>\n",
       "      <td>0</td>\n",
       "      <td>l6uhhn</td>\n",
       "      <td>https://www.reddit.com/r/wallstreetbets/commen...</td>\n",
       "      <td>47</td>\n",
       "      <td>1.611862e+09</td>\n",
       "      <td>The CEO of NASDAQ pushed to halt trading “to g...</td>\n",
       "      <td>2021-01-28 21:30:35</td>\n",
       "    </tr>\n",
       "    <tr>\n",
       "      <th>3</th>\n",
       "      <td>NEW SEC FILING FOR GME! CAN SOMEONE LESS RETAR...</td>\n",
       "      <td>29</td>\n",
       "      <td>l6ugk6</td>\n",
       "      <td>https://sec.report/Document/0001193125-21-019848/</td>\n",
       "      <td>74</td>\n",
       "      <td>1.611862e+09</td>\n",
       "      <td>NaN</td>\n",
       "      <td>2021-01-28 21:28:57</td>\n",
       "    </tr>\n",
       "    <tr>\n",
       "      <th>4</th>\n",
       "      <td>Not to distract from GME, just thought our AMC...</td>\n",
       "      <td>71</td>\n",
       "      <td>l6ufgy</td>\n",
       "      <td>https://i.redd.it/4h2sukb662e61.jpg</td>\n",
       "      <td>156</td>\n",
       "      <td>1.611862e+09</td>\n",
       "      <td>NaN</td>\n",
       "      <td>2021-01-28 21:26:56</td>\n",
       "    </tr>\n",
       "    <tr>\n",
       "      <th>5</th>\n",
       "      <td>WE BREAKING THROUGH</td>\n",
       "      <td>405</td>\n",
       "      <td>l6uf7d</td>\n",
       "      <td>https://i.redd.it/2wef8tc062e61.png</td>\n",
       "      <td>84</td>\n",
       "      <td>1.611862e+09</td>\n",
       "      <td>NaN</td>\n",
       "      <td>2021-01-28 21:26:30</td>\n",
       "    </tr>\n",
       "    <tr>\n",
       "      <th>6</th>\n",
       "      <td>SHORT STOCK DOESN'T HAVE AN EXPIRATION DATE</td>\n",
       "      <td>317</td>\n",
       "      <td>l6uf6d</td>\n",
       "      <td>https://www.reddit.com/r/wallstreetbets/commen...</td>\n",
       "      <td>53</td>\n",
       "      <td>1.611862e+09</td>\n",
       "      <td>Hedgefund whales are spreading disinfo saying ...</td>\n",
       "      <td>2021-01-28 21:26:27</td>\n",
       "    </tr>\n",
       "    <tr>\n",
       "      <th>7</th>\n",
       "      <td>THIS IS THE MOMENT</td>\n",
       "      <td>405</td>\n",
       "      <td>l6ub9l</td>\n",
       "      <td>https://www.reddit.com/r/wallstreetbets/commen...</td>\n",
       "      <td>178</td>\n",
       "      <td>1.611862e+09</td>\n",
       "      <td>Life isn't fair. My mother always told me that...</td>\n",
       "      <td>2021-01-28 21:19:31</td>\n",
       "    </tr>\n",
       "    <tr>\n",
       "      <th>8</th>\n",
       "      <td>Currently Holding AMC and NOK - Is it retarded...</td>\n",
       "      <td>200</td>\n",
       "      <td>l6ub4i</td>\n",
       "      <td>https://i.redd.it/6k2z7ouo42e61.png</td>\n",
       "      <td>161</td>\n",
       "      <td>1.611862e+09</td>\n",
       "      <td>NaN</td>\n",
       "      <td>2021-01-28 21:19:16</td>\n",
       "    </tr>\n",
       "    <tr>\n",
       "      <th>9</th>\n",
       "      <td>I have nothing to say but BRUH I am speechless...</td>\n",
       "      <td>291</td>\n",
       "      <td>l6uas9</td>\n",
       "      <td>https://i.redd.it/bfzzw2yo42e61.jpg</td>\n",
       "      <td>27</td>\n",
       "      <td>1.611862e+09</td>\n",
       "      <td>NaN</td>\n",
       "      <td>2021-01-28 21:18:37</td>\n",
       "    </tr>\n",
       "  </tbody>\n",
       "</table>\n",
       "</div>"
      ],
      "text/plain": [
       "                                               title  score      id  \\\n",
       "0  It's not about the money, it's about sending a...     55  l6ulcx   \n",
       "1  Math Professor Scott Steiner says the numbers ...    110  l6uibd   \n",
       "2                                    Exit the system      0  l6uhhn   \n",
       "3  NEW SEC FILING FOR GME! CAN SOMEONE LESS RETAR...     29  l6ugk6   \n",
       "4  Not to distract from GME, just thought our AMC...     71  l6ufgy   \n",
       "5                                WE BREAKING THROUGH    405  l6uf7d   \n",
       "6        SHORT STOCK DOESN'T HAVE AN EXPIRATION DATE    317  l6uf6d   \n",
       "7                                 THIS IS THE MOMENT    405  l6ub9l   \n",
       "8  Currently Holding AMC and NOK - Is it retarded...    200  l6ub4i   \n",
       "9  I have nothing to say but BRUH I am speechless...    291  l6uas9   \n",
       "\n",
       "                                                 url  comms_num       created  \\\n",
       "0                    https://v.redd.it/6j75regs72e61          6  1.611863e+09   \n",
       "1                    https://v.redd.it/ah50lyny62e61         23  1.611862e+09   \n",
       "2  https://www.reddit.com/r/wallstreetbets/commen...         47  1.611862e+09   \n",
       "3  https://sec.report/Document/0001193125-21-019848/         74  1.611862e+09   \n",
       "4                https://i.redd.it/4h2sukb662e61.jpg        156  1.611862e+09   \n",
       "5                https://i.redd.it/2wef8tc062e61.png         84  1.611862e+09   \n",
       "6  https://www.reddit.com/r/wallstreetbets/commen...         53  1.611862e+09   \n",
       "7  https://www.reddit.com/r/wallstreetbets/commen...        178  1.611862e+09   \n",
       "8                https://i.redd.it/6k2z7ouo42e61.png        161  1.611862e+09   \n",
       "9                https://i.redd.it/bfzzw2yo42e61.jpg         27  1.611862e+09   \n",
       "\n",
       "                                                body            timestamp  \n",
       "0                                                NaN  2021-01-28 21:37:41  \n",
       "1                                                NaN  2021-01-28 21:32:10  \n",
       "2  The CEO of NASDAQ pushed to halt trading “to g...  2021-01-28 21:30:35  \n",
       "3                                                NaN  2021-01-28 21:28:57  \n",
       "4                                                NaN  2021-01-28 21:26:56  \n",
       "5                                                NaN  2021-01-28 21:26:30  \n",
       "6  Hedgefund whales are spreading disinfo saying ...  2021-01-28 21:26:27  \n",
       "7  Life isn't fair. My mother always told me that...  2021-01-28 21:19:31  \n",
       "8                                                NaN  2021-01-28 21:19:16  \n",
       "9                                                NaN  2021-01-28 21:18:37  "
      ]
     },
     "execution_count": 3,
     "metadata": {},
     "output_type": "execute_result"
    }
   ],
   "source": [
    "df = pd.read_csv('reddit_wsb.csv')\n",
    "df.head(10)"
   ]
  },
  {
   "cell_type": "code",
   "execution_count": 4,
   "id": "750d48ae",
   "metadata": {},
   "outputs": [
    {
     "data": {
      "text/html": [
       "<div>\n",
       "<style scoped>\n",
       "    .dataframe tbody tr th:only-of-type {\n",
       "        vertical-align: middle;\n",
       "    }\n",
       "\n",
       "    .dataframe tbody tr th {\n",
       "        vertical-align: top;\n",
       "    }\n",
       "\n",
       "    .dataframe thead th {\n",
       "        text-align: right;\n",
       "    }\n",
       "</style>\n",
       "<table border=\"1\" class=\"dataframe\">\n",
       "  <thead>\n",
       "    <tr style=\"text-align: right;\">\n",
       "      <th></th>\n",
       "      <th>Rank</th>\n",
       "      <th>Restaurant</th>\n",
       "      <th>Sales</th>\n",
       "      <th>Average Check</th>\n",
       "      <th>City</th>\n",
       "      <th>State</th>\n",
       "      <th>Meals Served</th>\n",
       "    </tr>\n",
       "  </thead>\n",
       "  <tbody>\n",
       "    <tr>\n",
       "      <th>0</th>\n",
       "      <td>1</td>\n",
       "      <td>Carmine's (Times Square)</td>\n",
       "      <td>39080335.0</td>\n",
       "      <td>40</td>\n",
       "      <td>New York</td>\n",
       "      <td>N.Y.</td>\n",
       "      <td>469803.0</td>\n",
       "    </tr>\n",
       "    <tr>\n",
       "      <th>1</th>\n",
       "      <td>2</td>\n",
       "      <td>The Boathouse Orlando</td>\n",
       "      <td>35218364.0</td>\n",
       "      <td>43</td>\n",
       "      <td>Orlando</td>\n",
       "      <td>Fla.</td>\n",
       "      <td>820819.0</td>\n",
       "    </tr>\n",
       "    <tr>\n",
       "      <th>2</th>\n",
       "      <td>3</td>\n",
       "      <td>Old Ebbitt Grill</td>\n",
       "      <td>29104017.0</td>\n",
       "      <td>33</td>\n",
       "      <td>Washington</td>\n",
       "      <td>D.C.</td>\n",
       "      <td>892830.0</td>\n",
       "    </tr>\n",
       "    <tr>\n",
       "      <th>3</th>\n",
       "      <td>4</td>\n",
       "      <td>LAVO Italian Restaurant &amp; Nightclub</td>\n",
       "      <td>26916180.0</td>\n",
       "      <td>90</td>\n",
       "      <td>New York</td>\n",
       "      <td>N.Y.</td>\n",
       "      <td>198500.0</td>\n",
       "    </tr>\n",
       "    <tr>\n",
       "      <th>4</th>\n",
       "      <td>5</td>\n",
       "      <td>Bryant Park Grill &amp; Cafe</td>\n",
       "      <td>26900000.0</td>\n",
       "      <td>62</td>\n",
       "      <td>New York</td>\n",
       "      <td>N.Y.</td>\n",
       "      <td>403000.0</td>\n",
       "    </tr>\n",
       "    <tr>\n",
       "      <th>5</th>\n",
       "      <td>6</td>\n",
       "      <td>Gibsons Bar &amp; Steakhouse</td>\n",
       "      <td>25409952.0</td>\n",
       "      <td>80</td>\n",
       "      <td>Chicago</td>\n",
       "      <td>Ill.</td>\n",
       "      <td>348567.0</td>\n",
       "    </tr>\n",
       "    <tr>\n",
       "      <th>6</th>\n",
       "      <td>7</td>\n",
       "      <td>Top of the World at the STRAT</td>\n",
       "      <td>25233543.0</td>\n",
       "      <td>103</td>\n",
       "      <td>Las Vegas</td>\n",
       "      <td>Nev.</td>\n",
       "      <td>246054.0</td>\n",
       "    </tr>\n",
       "    <tr>\n",
       "      <th>7</th>\n",
       "      <td>8</td>\n",
       "      <td>Maple &amp; Ash</td>\n",
       "      <td>24837595.0</td>\n",
       "      <td>99</td>\n",
       "      <td>Chicago</td>\n",
       "      <td>Ill.</td>\n",
       "      <td>210832.0</td>\n",
       "    </tr>\n",
       "    <tr>\n",
       "      <th>8</th>\n",
       "      <td>9</td>\n",
       "      <td>Balthazar</td>\n",
       "      <td>24547800.0</td>\n",
       "      <td>87</td>\n",
       "      <td>New York</td>\n",
       "      <td>N.Y.</td>\n",
       "      <td>519000.0</td>\n",
       "    </tr>\n",
       "    <tr>\n",
       "      <th>9</th>\n",
       "      <td>10</td>\n",
       "      <td>Smith &amp; Wollensky</td>\n",
       "      <td>24501000.0</td>\n",
       "      <td>107</td>\n",
       "      <td>New York</td>\n",
       "      <td>N.Y.</td>\n",
       "      <td>257364.0</td>\n",
       "    </tr>\n",
       "  </tbody>\n",
       "</table>\n",
       "</div>"
      ],
      "text/plain": [
       "   Rank                           Restaurant       Sales  Average Check  \\\n",
       "0     1             Carmine's (Times Square)  39080335.0             40   \n",
       "1     2                The Boathouse Orlando  35218364.0             43   \n",
       "2     3                     Old Ebbitt Grill  29104017.0             33   \n",
       "3     4  LAVO Italian Restaurant & Nightclub  26916180.0             90   \n",
       "4     5             Bryant Park Grill & Cafe  26900000.0             62   \n",
       "5     6             Gibsons Bar & Steakhouse  25409952.0             80   \n",
       "6     7       Top of the World at the STRAT   25233543.0            103   \n",
       "7     8                          Maple & Ash  24837595.0             99   \n",
       "8     9                            Balthazar  24547800.0             87   \n",
       "9    10                    Smith & Wollensky  24501000.0            107   \n",
       "\n",
       "         City State  Meals Served  \n",
       "0    New York  N.Y.      469803.0  \n",
       "1    Orlando   Fla.      820819.0  \n",
       "2  Washington  D.C.      892830.0  \n",
       "3    New York  N.Y.      198500.0  \n",
       "4    New York  N.Y.      403000.0  \n",
       "5     Chicago  Ill.      348567.0  \n",
       "6   Las Vegas  Nev.      246054.0  \n",
       "7     Chicago  Ill.      210832.0  \n",
       "8    New York  N.Y.      519000.0  \n",
       "9    New York  N.Y.      257364.0  "
      ]
     },
     "execution_count": 4,
     "metadata": {},
     "output_type": "execute_result"
    }
   ],
   "source": [
    "df1 = pd.read_csv('Independence100.csv')\n",
    "df1.head(10)"
   ]
  },
  {
   "cell_type": "markdown",
   "id": "027b5a53",
   "metadata": {},
   "source": [
    "### df.info()\n",
    "function gives the number of missing values for each column. "
   ]
  },
  {
   "cell_type": "code",
   "execution_count": 5,
   "id": "79df20ea",
   "metadata": {},
   "outputs": [
    {
     "name": "stdout",
     "output_type": "stream",
     "text": [
      "<class 'pandas.core.frame.DataFrame'>\n",
      "RangeIndex: 53187 entries, 0 to 53186\n",
      "Data columns (total 8 columns):\n",
      " #   Column     Non-Null Count  Dtype  \n",
      "---  ------     --------------  -----  \n",
      " 0   title      53187 non-null  object \n",
      " 1   score      53187 non-null  int64  \n",
      " 2   id         53187 non-null  object \n",
      " 3   url        53187 non-null  object \n",
      " 4   comms_num  53187 non-null  int64  \n",
      " 5   created    53187 non-null  float64\n",
      " 6   body       24738 non-null  object \n",
      " 7   timestamp  53187 non-null  object \n",
      "dtypes: float64(1), int64(2), object(5)\n",
      "memory usage: 3.2+ MB\n"
     ]
    }
   ],
   "source": [
    "df.info()"
   ]
  },
  {
   "cell_type": "markdown",
   "id": "7bf655bd",
   "metadata": {},
   "source": [
    "### describe():\n",
    "This function provides basic statistics of each column. By passing the parameter “include = ‘all’”,\n",
    "\n",
    "it outputs the value count, unique count, the top-frequency value of the categorical variables and count, mean, standard deviation, min, max, and percentile of numeric variables"
   ]
  },
  {
   "cell_type": "code",
   "execution_count": 6,
   "id": "73e3c9fd",
   "metadata": {},
   "outputs": [
    {
     "data": {
      "text/html": [
       "<div>\n",
       "<style scoped>\n",
       "    .dataframe tbody tr th:only-of-type {\n",
       "        vertical-align: middle;\n",
       "    }\n",
       "\n",
       "    .dataframe tbody tr th {\n",
       "        vertical-align: top;\n",
       "    }\n",
       "\n",
       "    .dataframe thead th {\n",
       "        text-align: right;\n",
       "    }\n",
       "</style>\n",
       "<table border=\"1\" class=\"dataframe\">\n",
       "  <thead>\n",
       "    <tr style=\"text-align: right;\">\n",
       "      <th></th>\n",
       "      <th>title</th>\n",
       "      <th>score</th>\n",
       "      <th>id</th>\n",
       "      <th>url</th>\n",
       "      <th>comms_num</th>\n",
       "      <th>created</th>\n",
       "      <th>body</th>\n",
       "      <th>timestamp</th>\n",
       "    </tr>\n",
       "  </thead>\n",
       "  <tbody>\n",
       "    <tr>\n",
       "      <th>count</th>\n",
       "      <td>53187</td>\n",
       "      <td>53187.000000</td>\n",
       "      <td>53187</td>\n",
       "      <td>53187</td>\n",
       "      <td>53187.000000</td>\n",
       "      <td>5.318700e+04</td>\n",
       "      <td>24738</td>\n",
       "      <td>53187</td>\n",
       "    </tr>\n",
       "    <tr>\n",
       "      <th>unique</th>\n",
       "      <td>52049</td>\n",
       "      <td>NaN</td>\n",
       "      <td>53187</td>\n",
       "      <td>53172</td>\n",
       "      <td>NaN</td>\n",
       "      <td>NaN</td>\n",
       "      <td>24147</td>\n",
       "      <td>43460</td>\n",
       "    </tr>\n",
       "    <tr>\n",
       "      <th>top</th>\n",
       "      <td>AMC</td>\n",
       "      <td>NaN</td>\n",
       "      <td>l6ulcx</td>\n",
       "      <td>https://magic.freetrade.io/join/jamie/13edb513</td>\n",
       "      <td>NaN</td>\n",
       "      <td>NaN</td>\n",
       "      <td>Your daily trading discussion thread. Please k...</td>\n",
       "      <td>2021-01-29 01:03:59</td>\n",
       "    </tr>\n",
       "    <tr>\n",
       "      <th>freq</th>\n",
       "      <td>40</td>\n",
       "      <td>NaN</td>\n",
       "      <td>1</td>\n",
       "      <td>11</td>\n",
       "      <td>NaN</td>\n",
       "      <td>NaN</td>\n",
       "      <td>74</td>\n",
       "      <td>14</td>\n",
       "    </tr>\n",
       "    <tr>\n",
       "      <th>mean</th>\n",
       "      <td>NaN</td>\n",
       "      <td>1382.461053</td>\n",
       "      <td>NaN</td>\n",
       "      <td>NaN</td>\n",
       "      <td>263.260252</td>\n",
       "      <td>1.614582e+09</td>\n",
       "      <td>NaN</td>\n",
       "      <td>NaN</td>\n",
       "    </tr>\n",
       "    <tr>\n",
       "      <th>std</th>\n",
       "      <td>NaN</td>\n",
       "      <td>7999.271074</td>\n",
       "      <td>NaN</td>\n",
       "      <td>NaN</td>\n",
       "      <td>2532.665113</td>\n",
       "      <td>4.173566e+06</td>\n",
       "      <td>NaN</td>\n",
       "      <td>NaN</td>\n",
       "    </tr>\n",
       "    <tr>\n",
       "      <th>min</th>\n",
       "      <td>NaN</td>\n",
       "      <td>0.000000</td>\n",
       "      <td>NaN</td>\n",
       "      <td>NaN</td>\n",
       "      <td>0.000000</td>\n",
       "      <td>1.601340e+09</td>\n",
       "      <td>NaN</td>\n",
       "      <td>NaN</td>\n",
       "    </tr>\n",
       "    <tr>\n",
       "      <th>25%</th>\n",
       "      <td>NaN</td>\n",
       "      <td>2.000000</td>\n",
       "      <td>NaN</td>\n",
       "      <td>NaN</td>\n",
       "      <td>3.000000</td>\n",
       "      <td>1.611882e+09</td>\n",
       "      <td>NaN</td>\n",
       "      <td>NaN</td>\n",
       "    </tr>\n",
       "    <tr>\n",
       "      <th>50%</th>\n",
       "      <td>NaN</td>\n",
       "      <td>37.000000</td>\n",
       "      <td>NaN</td>\n",
       "      <td>NaN</td>\n",
       "      <td>17.000000</td>\n",
       "      <td>1.612488e+09</td>\n",
       "      <td>NaN</td>\n",
       "      <td>NaN</td>\n",
       "    </tr>\n",
       "    <tr>\n",
       "      <th>75%</th>\n",
       "      <td>NaN</td>\n",
       "      <td>207.000000</td>\n",
       "      <td>NaN</td>\n",
       "      <td>NaN</td>\n",
       "      <td>60.000000</td>\n",
       "      <td>1.615347e+09</td>\n",
       "      <td>NaN</td>\n",
       "      <td>NaN</td>\n",
       "    </tr>\n",
       "    <tr>\n",
       "      <th>max</th>\n",
       "      <td>NaN</td>\n",
       "      <td>348241.000000</td>\n",
       "      <td>NaN</td>\n",
       "      <td>NaN</td>\n",
       "      <td>93268.000000</td>\n",
       "      <td>1.629095e+09</td>\n",
       "      <td>NaN</td>\n",
       "      <td>NaN</td>\n",
       "    </tr>\n",
       "  </tbody>\n",
       "</table>\n",
       "</div>"
      ],
      "text/plain": [
       "        title          score      id  \\\n",
       "count   53187   53187.000000   53187   \n",
       "unique  52049            NaN   53187   \n",
       "top       AMC            NaN  l6ulcx   \n",
       "freq       40            NaN       1   \n",
       "mean      NaN    1382.461053     NaN   \n",
       "std       NaN    7999.271074     NaN   \n",
       "min       NaN       0.000000     NaN   \n",
       "25%       NaN       2.000000     NaN   \n",
       "50%       NaN      37.000000     NaN   \n",
       "75%       NaN     207.000000     NaN   \n",
       "max       NaN  348241.000000     NaN   \n",
       "\n",
       "                                                   url     comms_num  \\\n",
       "count                                            53187  53187.000000   \n",
       "unique                                           53172           NaN   \n",
       "top     https://magic.freetrade.io/join/jamie/13edb513           NaN   \n",
       "freq                                                11           NaN   \n",
       "mean                                               NaN    263.260252   \n",
       "std                                                NaN   2532.665113   \n",
       "min                                                NaN      0.000000   \n",
       "25%                                                NaN      3.000000   \n",
       "50%                                                NaN     17.000000   \n",
       "75%                                                NaN     60.000000   \n",
       "max                                                NaN  93268.000000   \n",
       "\n",
       "             created                                               body  \\\n",
       "count   5.318700e+04                                              24738   \n",
       "unique           NaN                                              24147   \n",
       "top              NaN  Your daily trading discussion thread. Please k...   \n",
       "freq             NaN                                                 74   \n",
       "mean    1.614582e+09                                                NaN   \n",
       "std     4.173566e+06                                                NaN   \n",
       "min     1.601340e+09                                                NaN   \n",
       "25%     1.611882e+09                                                NaN   \n",
       "50%     1.612488e+09                                                NaN   \n",
       "75%     1.615347e+09                                                NaN   \n",
       "max     1.629095e+09                                                NaN   \n",
       "\n",
       "                  timestamp  \n",
       "count                 53187  \n",
       "unique                43460  \n",
       "top     2021-01-29 01:03:59  \n",
       "freq                     14  \n",
       "mean                    NaN  \n",
       "std                     NaN  \n",
       "min                     NaN  \n",
       "25%                     NaN  \n",
       "50%                     NaN  \n",
       "75%                     NaN  \n",
       "max                     NaN  "
      ]
     },
     "execution_count": 6,
     "metadata": {},
     "output_type": "execute_result"
    }
   ],
   "source": [
    "df.describe(include='all')"
   ]
  },
  {
   "cell_type": "markdown",
   "id": "15d99388",
   "metadata": {},
   "source": [
    "### Missing Values:\n",
    "function gives the number of missing values for each column. "
   ]
  },
  {
   "cell_type": "code",
   "execution_count": 7,
   "id": "9f637a83",
   "metadata": {},
   "outputs": [
    {
     "data": {
      "text/plain": [
       "title            0\n",
       "score            0\n",
       "id               0\n",
       "url              0\n",
       "comms_num        0\n",
       "created          0\n",
       "body         28449\n",
       "timestamp        0\n",
       "dtype: int64"
      ]
     },
     "execution_count": 7,
     "metadata": {},
     "output_type": "execute_result"
    }
   ],
   "source": [
    "df.isnull().sum()"
   ]
  },
  {
   "cell_type": "code",
   "execution_count": 8,
   "id": "58dbc231",
   "metadata": {},
   "outputs": [
    {
     "name": "stdout",
     "output_type": "stream",
     "text": [
      "           count  percentage\n",
      "title          0        0.00\n",
      "score          0        0.00\n",
      "id             0        0.00\n",
      "url            0        0.00\n",
      "comms_num      0        0.00\n",
      "created        0        0.00\n",
      "body       28449       53.49\n",
      "timestamp      0        0.00\n"
     ]
    }
   ],
   "source": [
    "missing_count=df.isnull().sum()\n",
    "value_count=df.isnull().count()\n",
    "missing_percentage=round(missing_count/value_count *100,2)\n",
    "missing_df=pd.DataFrame({'count':missing_count,'percentage':missing_percentage})\n",
    "print(missing_df)"
   ]
  },
  {
   "cell_type": "code",
   "execution_count": 9,
   "id": "f50deed3",
   "metadata": {},
   "outputs": [
    {
     "data": {
      "image/png": "[encoded data removed]",
      "text/plain": [
       "<Figure size 432x288 with 1 Axes>"
      ]
     },
     "metadata": {
      "needs_background": "light"
     },
     "output_type": "display_data"
    }
   ],
   "source": [
    "barchart=missing_df.plot.bar(y='percentage')\n",
    "\n",
    "for index,percentage in enumerate(missing_percentage):\n",
    "    barchart.text(index,percentage,str(percentage)+'%')"
   ]
  },
  {
   "cell_type": "markdown",
   "id": "1fc91fec",
   "metadata": {},
   "source": [
    "## 2. Feature Engineering"
   ]
  },
  {
   "cell_type": "code",
   "execution_count": 10,
   "id": "02ebea0f",
   "metadata": {},
   "outputs": [],
   "source": [
    "#1. title → title_length;\n",
    "\n",
    "df['title_length'] = df['title'].apply(len)"
   ]
  },
  {
   "cell_type": "code",
   "execution_count": 11,
   "id": "0a1547c6",
   "metadata": {},
   "outputs": [],
   "source": [
    "#2. body → with_body\n",
    "\n",
    "df['with_body'] = np.where(df['body'].isnull(), 'Yes', 'No')"
   ]
  },
  {
   "cell_type": "code",
   "execution_count": 12,
   "id": "7fa42fee",
   "metadata": {},
   "outputs": [],
   "source": [
    "#3. timestamp→ month\n",
    "\n",
    "df['month'] = pd.to_datetime(df['timestamp']).dt.month.apply(str)"
   ]
  },
  {
   "cell_type": "code",
   "execution_count": 13,
   "id": "190bba75",
   "metadata": {},
   "outputs": [],
   "source": [
    "df = df.drop(['id', 'url', 'timestamp', 'title', 'body'], axis=1)"
   ]
  },
  {
   "cell_type": "code",
   "execution_count": 14,
   "id": "6883d98e",
   "metadata": {},
   "outputs": [
    {
     "ename": "KeyError",
     "evalue": "\"['Restaurant', 'City'] not found in axis\"",
     "output_type": "error",
     "traceback": [
      "\u001b[1;31m---------------------------------------------------------------------------\u001b[0m",
      "\u001b[1;31mKeyError\u001b[0m                                  Traceback (most recent call last)",
      "\u001b[1;32m~\\AppData\\Local\\Temp/ipykernel_2988/1095893063.py\u001b[0m in \u001b[0;36m<module>\u001b[1;34m\u001b[0m\n\u001b[1;32m----> 1\u001b[1;33m \u001b[0mdf1\u001b[0m \u001b[1;33m=\u001b[0m \u001b[0mdf1\u001b[0m\u001b[1;33m.\u001b[0m\u001b[0mdrop\u001b[0m\u001b[1;33m(\u001b[0m\u001b[1;33m[\u001b[0m\u001b[1;34m'Restaurant'\u001b[0m\u001b[1;33m,\u001b[0m \u001b[1;34m'City'\u001b[0m\u001b[1;33m]\u001b[0m\u001b[1;33m)\u001b[0m\u001b[1;33m\u001b[0m\u001b[1;33m\u001b[0m\u001b[0m\n\u001b[0m",
      "\u001b[1;32m~\\anaconda3\\lib\\site-packages\\pandas\\core\\frame.py\u001b[0m in \u001b[0;36mdrop\u001b[1;34m(self, labels, axis, index, columns, level, inplace, errors)\u001b[0m\n\u001b[0;32m   5256\u001b[0m                 \u001b[0mweight\u001b[0m  \u001b[1;36m1.0\u001b[0m     \u001b[1;36m0.8\u001b[0m\u001b[1;33m\u001b[0m\u001b[1;33m\u001b[0m\u001b[0m\n\u001b[0;32m   5257\u001b[0m         \"\"\"\n\u001b[1;32m-> 5258\u001b[1;33m         return super().drop(\n\u001b[0m\u001b[0;32m   5259\u001b[0m             \u001b[0mlabels\u001b[0m\u001b[1;33m=\u001b[0m\u001b[0mlabels\u001b[0m\u001b[1;33m,\u001b[0m\u001b[1;33m\u001b[0m\u001b[1;33m\u001b[0m\u001b[0m\n\u001b[0;32m   5260\u001b[0m             \u001b[0maxis\u001b[0m\u001b[1;33m=\u001b[0m\u001b[0maxis\u001b[0m\u001b[1;33m,\u001b[0m\u001b[1;33m\u001b[0m\u001b[1;33m\u001b[0m\u001b[0m\n",
      "\u001b[1;32m~\\anaconda3\\lib\\site-packages\\pandas\\core\\generic.py\u001b[0m in \u001b[0;36mdrop\u001b[1;34m(self, labels, axis, index, columns, level, inplace, errors)\u001b[0m\n\u001b[0;32m   4547\u001b[0m         \u001b[1;32mfor\u001b[0m \u001b[0maxis\u001b[0m\u001b[1;33m,\u001b[0m \u001b[0mlabels\u001b[0m \u001b[1;32min\u001b[0m \u001b[0maxes\u001b[0m\u001b[1;33m.\u001b[0m\u001b[0mitems\u001b[0m\u001b[1;33m(\u001b[0m\u001b[1;33m)\u001b[0m\u001b[1;33m:\u001b[0m\u001b[1;33m\u001b[0m\u001b[1;33m\u001b[0m\u001b[0m\n\u001b[0;32m   4548\u001b[0m             \u001b[1;32mif\u001b[0m \u001b[0mlabels\u001b[0m \u001b[1;32mis\u001b[0m \u001b[1;32mnot\u001b[0m \u001b[1;32mNone\u001b[0m\u001b[1;33m:\u001b[0m\u001b[1;33m\u001b[0m\u001b[1;33m\u001b[0m\u001b[0m\n\u001b[1;32m-> 4549\u001b[1;33m                 \u001b[0mobj\u001b[0m \u001b[1;33m=\u001b[0m \u001b[0mobj\u001b[0m\u001b[1;33m.\u001b[0m\u001b[0m_drop_axis\u001b[0m\u001b[1;33m(\u001b[0m\u001b[0mlabels\u001b[0m\u001b[1;33m,\u001b[0m \u001b[0maxis\u001b[0m\u001b[1;33m,\u001b[0m \u001b[0mlevel\u001b[0m\u001b[1;33m=\u001b[0m\u001b[0mlevel\u001b[0m\u001b[1;33m,\u001b[0m \u001b[0merrors\u001b[0m\u001b[1;33m=\u001b[0m\u001b[0merrors\u001b[0m\u001b[1;33m)\u001b[0m\u001b[1;33m\u001b[0m\u001b[1;33m\u001b[0m\u001b[0m\n\u001b[0m\u001b[0;32m   4550\u001b[0m \u001b[1;33m\u001b[0m\u001b[0m\n\u001b[0;32m   4551\u001b[0m         \u001b[1;32mif\u001b[0m \u001b[0minplace\u001b[0m\u001b[1;33m:\u001b[0m\u001b[1;33m\u001b[0m\u001b[1;33m\u001b[0m\u001b[0m\n",
      "\u001b[1;32m~\\anaconda3\\lib\\site-packages\\pandas\\core\\generic.py\u001b[0m in \u001b[0;36m_drop_axis\u001b[1;34m(self, labels, axis, level, errors, only_slice)\u001b[0m\n\u001b[0;32m   4589\u001b[0m                 \u001b[0mnew_axis\u001b[0m \u001b[1;33m=\u001b[0m \u001b[0maxis\u001b[0m\u001b[1;33m.\u001b[0m\u001b[0mdrop\u001b[0m\u001b[1;33m(\u001b[0m\u001b[0mlabels\u001b[0m\u001b[1;33m,\u001b[0m \u001b[0mlevel\u001b[0m\u001b[1;33m=\u001b[0m\u001b[0mlevel\u001b[0m\u001b[1;33m,\u001b[0m \u001b[0merrors\u001b[0m\u001b[1;33m=\u001b[0m\u001b[0merrors\u001b[0m\u001b[1;33m)\u001b[0m\u001b[1;33m\u001b[0m\u001b[1;33m\u001b[0m\u001b[0m\n\u001b[0;32m   4590\u001b[0m             \u001b[1;32melse\u001b[0m\u001b[1;33m:\u001b[0m\u001b[1;33m\u001b[0m\u001b[1;33m\u001b[0m\u001b[0m\n\u001b[1;32m-> 4591\u001b[1;33m                 \u001b[0mnew_axis\u001b[0m \u001b[1;33m=\u001b[0m \u001b[0maxis\u001b[0m\u001b[1;33m.\u001b[0m\u001b[0mdrop\u001b[0m\u001b[1;33m(\u001b[0m\u001b[0mlabels\u001b[0m\u001b[1;33m,\u001b[0m \u001b[0merrors\u001b[0m\u001b[1;33m=\u001b[0m\u001b[0merrors\u001b[0m\u001b[1;33m)\u001b[0m\u001b[1;33m\u001b[0m\u001b[1;33m\u001b[0m\u001b[0m\n\u001b[0m\u001b[0;32m   4592\u001b[0m             \u001b[0mindexer\u001b[0m \u001b[1;33m=\u001b[0m \u001b[0maxis\u001b[0m\u001b[1;33m.\u001b[0m\u001b[0mget_indexer\u001b[0m\u001b[1;33m(\u001b[0m\u001b[0mnew_axis\u001b[0m\u001b[1;33m)\u001b[0m\u001b[1;33m\u001b[0m\u001b[1;33m\u001b[0m\u001b[0m\n\u001b[0;32m   4593\u001b[0m \u001b[1;33m\u001b[0m\u001b[0m\n",
      "\u001b[1;32m~\\anaconda3\\lib\\site-packages\\pandas\\core\\indexes\\base.py\u001b[0m in \u001b[0;36mdrop\u001b[1;34m(self, labels, errors)\u001b[0m\n\u001b[0;32m   6694\u001b[0m         \u001b[1;32mif\u001b[0m \u001b[0mmask\u001b[0m\u001b[1;33m.\u001b[0m\u001b[0many\u001b[0m\u001b[1;33m(\u001b[0m\u001b[1;33m)\u001b[0m\u001b[1;33m:\u001b[0m\u001b[1;33m\u001b[0m\u001b[1;33m\u001b[0m\u001b[0m\n\u001b[0;32m   6695\u001b[0m             \u001b[1;32mif\u001b[0m \u001b[0merrors\u001b[0m \u001b[1;33m!=\u001b[0m \u001b[1;34m\"ignore\"\u001b[0m\u001b[1;33m:\u001b[0m\u001b[1;33m\u001b[0m\u001b[1;33m\u001b[0m\u001b[0m\n\u001b[1;32m-> 6696\u001b[1;33m                 \u001b[1;32mraise\u001b[0m \u001b[0mKeyError\u001b[0m\u001b[1;33m(\u001b[0m\u001b[1;34mf\"{list(labels[mask])} not found in axis\"\u001b[0m\u001b[1;33m)\u001b[0m\u001b[1;33m\u001b[0m\u001b[1;33m\u001b[0m\u001b[0m\n\u001b[0m\u001b[0;32m   6697\u001b[0m             \u001b[0mindexer\u001b[0m \u001b[1;33m=\u001b[0m \u001b[0mindexer\u001b[0m\u001b[1;33m[\u001b[0m\u001b[1;33m~\u001b[0m\u001b[0mmask\u001b[0m\u001b[1;33m]\u001b[0m\u001b[1;33m\u001b[0m\u001b[1;33m\u001b[0m\u001b[0m\n\u001b[0;32m   6698\u001b[0m         \u001b[1;32mreturn\u001b[0m \u001b[0mself\u001b[0m\u001b[1;33m.\u001b[0m\u001b[0mdelete\u001b[0m\u001b[1;33m(\u001b[0m\u001b[0mindexer\u001b[0m\u001b[1;33m)\u001b[0m\u001b[1;33m\u001b[0m\u001b[1;33m\u001b[0m\u001b[0m\n",
      "\u001b[1;31mKeyError\u001b[0m: \"['Restaurant', 'City'] not found in axis\""
     ]
    }
   ],
   "source": [
    "df1 = df1.drop(['Restaurant', 'City'])"
   ]
  },
  {
   "cell_type": "code",
   "execution_count": null,
   "id": "a4a191fc",
   "metadata": {},
   "outputs": [],
   "source": []
  },
  {
   "cell_type": "code",
   "execution_count": 15,
   "id": "9bd50a59",
   "metadata": {},
   "outputs": [
    {
     "name": "stdout",
     "output_type": "stream",
     "text": [
      "['score', 'comms_num', 'created', 'title_length']\n",
      "['with_body', 'month']\n"
     ]
    }
   ],
   "source": [
    "#populate the list of numeric attributes and categorical attributes\n",
    "num_list=[]\n",
    "cat_list=[]\n",
    "for column in df:\n",
    "    if is_numeric_dtype(df[column]):\n",
    "        num_list.append(column)\n",
    "    elif is_string_dtype(df[column]):\n",
    "        cat_list.append(column)\n",
    "        \n",
    "print(num_list)\n",
    "print(cat_list)"
   ]
  },
  {
   "cell_type": "code",
   "execution_count": 16,
   "id": "6c3f921c",
   "metadata": {},
   "outputs": [
    {
     "name": "stdout",
     "output_type": "stream",
     "text": [
      "['Rank', 'Sales', 'Average Check', 'Meals Served']\n",
      "['Restaurant', 'City', 'State']\n"
     ]
    }
   ],
   "source": [
    "#populate the list of numeric attributes and categorical attributes\n",
    "num_list=[]\n",
    "cat_list=[]\n",
    "for column in df1:\n",
    "    if is_numeric_dtype(df1[column]):\n",
    "        num_list.append(column)\n",
    "    elif is_string_dtype(df1[column]):\n",
    "        cat_list.append(column)\n",
    "        \n",
    "print(num_list)\n",
    "print(cat_list)"
   ]
  },
  {
   "cell_type": "markdown",
   "id": "afbbf5d2",
   "metadata": {},
   "source": [
    "After finalizing the numerical and categorical variables lists, the univariate and multivariate analysis can be automated."
   ]
  },
  {
   "cell_type": "markdown",
   "id": "0ba7df3c",
   "metadata": {},
   "source": [
    "## 3. Univariate Analysis:\n",
    "The describe() function mentioned in the first section has already provided a univariate analysis in a non-graphical way. In this section, we will be generating more insights by visualizing the data and spot the hidden patterns through graphical analysis."
   ]
  },
  {
   "cell_type": "code",
   "execution_count": null,
   "id": "da21d642",
   "metadata": {},
   "outputs": [],
   "source": [
    "for column in df:\n",
    "    plt.figure(column)\n",
    "    plt.title(column)\n",
    "    if is_numeric_dtype(df[column]):\n",
    "        df[column].plot(kind='hist')\n",
    "    elif is_string_dtype(df[column]):\n",
    "        df[column].value_counts()[:10].plot(kind='bar')"
   ]
  },
  {
   "cell_type": "code",
   "execution_count": null,
   "id": "cadaf2c8",
   "metadata": {},
   "outputs": [],
   "source": [
    "for column in df1:\n",
    "    plt.figure(column)\n",
    "    plt.title(column)\n",
    "    if is_numeric_dtype(df1[column]):\n",
    "        df1[column].plot(kind='hist')\n",
    "    elif is_string_dtype(df1[column]):\n",
    "        df1[column].value_counts()[:10].plot(kind='bar')"
   ]
  },
  {
   "cell_type": "markdown",
   "id": "f83a42ac",
   "metadata": {},
   "source": [
    "## 4. Multivariate Analysis"
   ]
  },
  {
   "cell_type": "markdown",
   "id": "793e778f",
   "metadata": {},
   "source": [
    "Multivariate analysis is categorized into these three conditions to address various combinations of numerical variables and categorical variables.\n",
    "\n",
    "1. Numerical vs. Numerical → heat map or pairplot\n",
    "2. Categorical vs. Categorical → countplot with hue\n",
    "3. Categorical vs. Numerical → boxplot or pairplot with hue"
   ]
  },
  {
   "cell_type": "markdown",
   "id": "44796f1e",
   "metadata": {},
   "source": [
    "### 1. Numerical vs. Numerical → heat map or pairplot"
   ]
  },
  {
   "cell_type": "code",
   "execution_count": null,
   "id": "9ee82bca",
   "metadata": {},
   "outputs": [],
   "source": [
    "correlation=df.corr()\n",
    "sns.heatmap(correlation, cmap='GnBu', annot=True)"
   ]
  },
  {
   "cell_type": "code",
   "execution_count": null,
   "id": "a85a8f90",
   "metadata": {},
   "outputs": [],
   "source": [
    "correlation=df1.corr()\n",
    "sns.heatmap(correlation, cmap='GnBu', annot=True)"
   ]
  },
  {
   "cell_type": "code",
   "execution_count": null,
   "id": "e7522e3b",
   "metadata": {},
   "outputs": [],
   "source": [
    "#pairplot\n",
    "sns.pairplot(df,height=2.5)"
   ]
  },
  {
   "cell_type": "markdown",
   "id": "50a8db3b",
   "metadata": {},
   "source": [
    "Pair plot or scatterplot is a good complementary to the correlation matrix, especially when nonlinear relationships (e.g. exponential, inverse relationship) might exist. For example, the inverse relationship between “Rank” and “Sales” observed in the restaurant dataset may be mistaken as strong linear relationship if we simply look at number “- 0.92” the correlation matrix."
   ]
  },
  {
   "cell_type": "markdown",
   "id": "a00d233e",
   "metadata": {},
   "source": [
    "### 2. Categorical vs. Categorical → countplot with hue"
   ]
  },
  {
   "cell_type": "code",
   "execution_count": null,
   "id": "963a679c",
   "metadata": {},
   "outputs": [],
   "source": [
    "for i in range(0,len(cat_list)):\n",
    "    primary_cat=cat_list[i]\n",
    "    for j in range(0,len(cat_list)):\n",
    "        secondary_cat=cat_list[j]\n",
    "        if secondary_cat!=primary_cat:\n",
    "            plt.figure(figsize=(15,15))\n",
    "            chart=sns.countplot(\n",
    "                data=df1,\n",
    "                x=primary_cat,\n",
    "                hue=secondary_cat,\n",
    "                palette='GnBu',\n",
    "                order=df[primary_cat].value_counts().iloc[:10].index\n",
    "            )#show only top 10"
   ]
  },
  {
   "cell_type": "markdown",
   "id": "c865bbb7",
   "metadata": {},
   "source": [
    "### 3. Categorical vs. Numerical → boxplot or pairplot with hue"
   ]
  },
  {
   "cell_type": "markdown",
   "id": "90f8736b",
   "metadata": {},
   "source": [
    "Box plot is usually used when we need to compare how numerical data varies across groups."
   ]
  },
  {
   "cell_type": "code",
   "execution_count": null,
   "id": "29575f22",
   "metadata": {},
   "outputs": [],
   "source": [
    "for i in range(0,len(cat_list)):\n",
    "    cat=cat_list[i]\n",
    "    for i in range(0,len(num_list)):\n",
    "        num=num_list[j]\n",
    "        plt.figure(figsize=(15,15))\n",
    "        sns.boxplot(x=cat,y=num,data=df1)"
   ]
  },
  {
   "cell_type": "code",
   "execution_count": null,
   "id": "f15009eb",
   "metadata": {},
   "outputs": [],
   "source": [
    "for i in range(0,len(cat_list)):\n",
    "    hue_cat=cat_list[i]\n",
    "    sns.pairplot(df1,hue=hue_cat)"
   ]
  },
  {
   "cell_type": "code",
   "execution_count": null,
   "id": "4dd45519",
   "metadata": {},
   "outputs": [],
   "source": []
  }
 ],
 "metadata": {
  "kernelspec": {
   "display_name": "Python 3 (ipykernel)",
   "language": "python",
   "name": "python3"
  },
  "language_info": {
   "codemirror_mode": {
    "name": "ipython",
    "version": 3
   },
   "file_extension": ".py",
   "mimetype": "text/x-python",
   "name": "python",
   "nbconvert_exporter": "python",
   "pygments_lexer": "ipython3",
   "version": "3.10.9"
  }
 },
 "nbformat": 4,
 "nbformat_minor": 5
}
