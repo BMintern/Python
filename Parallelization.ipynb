{
 "cells": [
  {
   "cell_type": "code",
   "execution_count": null,
   "id": "137c07d5",
   "metadata": {
    "ExecuteTime": {
     "end_time": "2023-06-21T06:07:00.902850Z",
     "start_time": "2023-06-21T06:07:00.902850Z"
    }
   },
   "outputs": [],
   "source": [
    "#pip install torch"
   ]
  },
  {
   "cell_type": "code",
   "execution_count": null,
   "id": "093101a9",
   "metadata": {
    "ExecuteTime": {
     "end_time": "2023-06-21T06:07:00.903863Z",
     "start_time": "2023-06-21T06:07:00.903863Z"
    }
   },
   "outputs": [],
   "source": [
    "import multiprocessing as mp\n",
    "p = mp.Process(target= ##target-function,\n",
    "               args=   ##args-to-func)\n",
    "# This call will make only one process, which will process\n",
    "# target-function with given arguments in background."
   ]
  },
  {
   "cell_type": "code",
   "execution_count": null,
   "id": "fe075108",
   "metadata": {
    "ExecuteTime": {
     "end_time": "2023-06-21T06:07:00.904873Z",
     "start_time": "2023-06-21T06:07:00.904873Z"
    }
   },
   "outputs": [],
   "source": [
    "import multiprocessing as mp\n",
    "\n",
    "def target_function(arg1, arg2):\n",
    "    # Perform some computations or actions\n",
    "    pass\n",
    "\n",
    "# Define the actual values for the arguments\n",
    "arg1_value = 10\n",
    "arg2_value = \"Hello, World!\"\n",
    "\n",
    "# Create a Process with target function and arguments\n",
    "p = mp.Process(target=target_function, args=(arg1_value, arg2_value))\n",
    "p"
   ]
  },
  {
   "cell_type": "code",
   "execution_count": null,
   "id": "6693b249",
   "metadata": {
    "ExecuteTime": {
     "end_time": "2023-06-21T06:07:00.905882Z",
     "start_time": "2023-06-21T06:07:00.905882Z"
    }
   },
   "outputs": [],
   "source": [
    "# Start the process\n",
    "p.start()"
   ]
  },
  {
   "cell_type": "code",
   "execution_count": null,
   "id": "ea11acd8",
   "metadata": {
    "ExecuteTime": {
     "end_time": "2023-06-21T06:07:00.906892Z",
     "start_time": "2023-06-21T06:07:00.906892Z"
    }
   },
   "outputs": [],
   "source": [
    "# Wait for the process to finish (optional)\n",
    "p.join()"
   ]
  },
  {
   "cell_type": "code",
   "execution_count": null,
   "id": "8f4dff58",
   "metadata": {
    "ExecuteTime": {
     "end_time": "2023-06-21T06:07:00.907903Z",
     "start_time": "2023-06-21T06:07:00.907903Z"
    }
   },
   "outputs": [],
   "source": [
    "processes =[mp.Process(target=func, args=(a, b)) for (a, b) in list]\n",
    "for p in processes: p.start()\n",
    "for p in processes: p.join()"
   ]
  },
  {
   "cell_type": "code",
   "execution_count": null,
   "id": "7b9f9b1a",
   "metadata": {
    "ExecuteTime": {
     "end_time": "2023-06-21T06:07:00.909479Z",
     "start_time": "2023-06-21T06:07:00.909479Z"
    }
   },
   "outputs": [],
   "source": [
    "import multiprocessing as mp\n",
    "\n",
    "def func(a, b):\n",
    "    # Perform some computations or actions\n",
    "    pass\n",
    "\n",
    "# Define a list of tuples containing the arguments\n",
    "arguments_list = [(1, 2), (3, 4), (5, 6)]\n",
    "\n",
    "# Create a list of processes with target function and arguments\n",
    "processes = [mp.Process(target=func, args=(a, b)) for (a, b) in arguments_list]\n",
    "\n",
    "# Start the processes\n",
    "for p in processes:\n",
    "    p.start()\n",
    "\n",
    "# Wait for the processes to finish\n",
    "for p in processes:\n",
    "    p.join()\n"
   ]
  },
  {
   "cell_type": "code",
   "execution_count": null,
   "id": "05895eb5",
   "metadata": {
    "ExecuteTime": {
     "end_time": "2023-06-21T06:07:00.910481Z",
     "start_time": "2023-06-21T06:07:00.910481Z"
    }
   },
   "outputs": [],
   "source": [
    "pool = mp.Pool(processes=2)"
   ]
  },
  {
   "cell_type": "code",
   "execution_count": null,
   "id": "d60c87c7",
   "metadata": {
    "ExecuteTime": {
     "end_time": "2023-06-21T06:07:00.911681Z",
     "start_time": "2023-06-21T06:07:00.911681Z"
    }
   },
   "outputs": [],
   "source": [
    "pool"
   ]
  },
  {
   "cell_type": "code",
   "execution_count": null,
   "id": "6399a7b6",
   "metadata": {
    "ExecuteTime": {
     "end_time": "2023-06-21T06:07:00.911681Z",
     "start_time": "2023-06-21T06:07:00.911681Z"
    }
   },
   "outputs": [],
   "source": [
    "results = [pool.apply(func, (x)) for x in X]"
   ]
  },
  {
   "cell_type": "code",
   "execution_count": null,
   "id": "6a307226",
   "metadata": {
    "ExecuteTime": {
     "start_time": "2023-06-21T06:07:04.982Z"
    }
   },
   "outputs": [],
   "source": [
    "import multiprocessing\n",
    "\n",
    "# Define the function 'func' that will be applied to each element of 'X'\n",
    "def func(x):\n",
    "    # Your function logic here\n",
    "    result = x * 2  # Example calculation, modify according to your needs\n",
    "    return result\n",
    "\n",
    "# Define the iterable 'X'\n",
    "X = [1, 2, 3, 4, 5]\n",
    "\n",
    "# Create a multiprocessing pool\n",
    "pool = multiprocessing.Pool()\n",
    "\n",
    "# Apply 'func' to each element of 'X' using the pool\n",
    "results = [pool.apply(func, (x,)) for x in X]\n",
    "\n",
    "# Print the results\n",
    "print(results)\n"
   ]
  },
  {
   "cell_type": "code",
   "execution_count": null,
   "id": "05be38fe",
   "metadata": {
    "ExecuteTime": {
     "end_time": "2023-06-21T06:07:00.916117Z",
     "start_time": "2023-06-21T06:07:00.916117Z"
    }
   },
   "outputs": [],
   "source": [
    "results = pool.map(func, (arg))"
   ]
  },
  {
   "cell_type": "code",
   "execution_count": null,
   "id": "4dea10b5",
   "metadata": {
    "ExecuteTime": {
     "end_time": "2023-06-21T06:07:57.444430Z",
     "start_time": "2023-06-21T06:07:57.425807Z"
    },
    "scrolled": true
   },
   "outputs": [],
   "source": [
    "# How can we use it with Data Frame?\n",
    "# A: You can use some parallelizable function\n",
    "df.shape\n",
    "# (100, 100)\n",
    "dfs = [df.iloc[i*25:i*25+25, 0] for i in range(4)]\n",
    "with Pool(4) as p:\n",
    "    res = p.map(np.exp, dfs)\n",
    "for i in range(4): df.iloc[i*25:i*25+25, 0] = res[i]\n",
    "# It can come in handy for preprocessing of data."
   ]
  },
  {
   "cell_type": "code",
   "execution_count": null,
   "id": "776b1ac4",
   "metadata": {
    "ExecuteTime": {
     "end_time": "2023-06-21T06:10:42.457628Z",
     "start_time": "2023-06-21T06:10:41.590429Z"
    }
   },
   "outputs": [],
   "source": [
    "import pandas as pd\n",
    "import numpy as np\n",
    "from multiprocessing import Pool\n",
    "\n",
    "# Read the CSV file and create a DataFrame\n",
    "df = pd.read_csv(\"Car Dekho.csv\")  # Replace \"Car Dekho.csv\" with your file path\n",
    "\n",
    "# Check the shape of the DataFrame\n",
    "print(df.shape)  # (100, 100)\n",
    "\n",
    "# Divide the DataFrame into smaller chunks\n",
    "dfs = [df.iloc[i*25:i*25+25, 0] for i in range(4)]\n",
    "\n",
    "# Apply a parallelizable function to each chunk using multiprocessing\n",
    "with Pool(4) as p:\n",
    "    res = p.map(np.exp, dfs)\n",
    "\n",
    "# Update the original DataFrame with the results\n",
    "for i in range(4):\n",
    "    df.iloc[i*25:i*25+25, 0] = res[i]\n",
    "\n",
    "# Perform any further processing on the modified DataFrame\n",
    "# ...\n",
    "\n",
    "# Print the updated DataFrame\n",
    "print(df)\n"
   ]
  },
  {
   "cell_type": "code",
   "execution_count": null,
   "id": "2dbbe9eb",
   "metadata": {
    "ExecuteTime": {
     "end_time": "2023-06-21T06:13:21.023195Z",
     "start_time": "2023-06-21T06:13:20.156888Z"
    }
   },
   "outputs": [],
   "source": [
    "import pandas as pd\n",
    "import numpy as np\n",
    "from multiprocessing import Pool\n",
    "\n",
    "# Read the CSV file and create a DataFrame\n",
    "df = pd.read_csv(\"Car Dekho.csv\")  # Replace \"Car Dekho.csv\" with your file path\n",
    "\n",
    "# Check the shape of the DataFrame\n",
    "print(df.shape)  # (100, 100)\n",
    "\n",
    "# Convert the column to numeric if needed\n",
    "df['seller_type'] = pd.to_numeric(df['seller_type'], errors='coerce')  # Replace 'seller_type' with the correct column name\n",
    "\n",
    "# Divide the DataFrame into smaller chunks\n",
    "dfs = [df.iloc[i*25:i*25+25, 0] for i in range(4)]\n",
    "\n",
    "# Apply a parallelizable function to each chunk using multiprocessing\n",
    "with Pool(4) as p:\n",
    "    res = p.map(np.exp, dfs)\n",
    "\n",
    "# Update the original DataFrame with the results\n",
    "for i in range(4):\n",
    "    df.iloc[i*25:i*25+25, 0] = res[i]\n",
    "\n",
    "# Perform any further processing on the modified DataFrame\n",
    "# ...\n",
    "\n",
    "# Print the updated DataFrame\n",
    "print(df)\n"
   ]
  },
  {
   "cell_type": "markdown",
   "id": "7695c8ec",
   "metadata": {},
   "source": [
    "# 3. Threading "
   ]
  },
  {
   "cell_type": "code",
   "execution_count": null,
   "id": "d5f7cedd",
   "metadata": {
    "ExecuteTime": {
     "end_time": "2023-06-21T06:14:12.596049Z",
     "start_time": "2023-06-21T06:14:12.560577Z"
    }
   },
   "outputs": [],
   "source": [
    "from threading import Thread as t\n",
    "import queue\n",
    "q = queue.Queue()  # For putting and getting results of thread\n",
    "func_ = lambda q, args: q.put(func(args))\n",
    "threads = [t(target=func_, args=(q, args)) for args in args_array]\n",
    "for t in threads: t.start()\n",
    "for t in threads: t.join()\n",
    "res = []\n",
    "for t in threads: res.append(q.get()) \n",
    "# These results won't necessarily be in order"
   ]
  },
  {
   "cell_type": "code",
   "execution_count": null,
   "id": "df2496b2",
   "metadata": {
    "ExecuteTime": {
     "end_time": "2023-06-21T06:15:07.205235Z",
     "start_time": "2023-06-21T06:15:07.178316Z"
    }
   },
   "outputs": [],
   "source": [
    "from threading import Thread as t\n",
    "import queue\n",
    "\n",
    "q = queue.Queue()  # For putting and getting results of thread\n",
    "func_ = lambda q, args: q.put(func(args))\n",
    "\n",
    "# Define and populate args_array with arguments\n",
    "args_array = [(arg1, arg2), (arg3, arg4), (arg5, arg6)]\n",
    "\n",
    "threads = [t(target=func_, args=(q, args)) for args in args_array]\n",
    "for thread in threads:\n",
    "    thread.start()\n",
    "\n",
    "for thread in threads:\n",
    "    thread.join()\n",
    "\n",
    "res = []\n",
    "for thread in threads:\n",
    "    res.append(q.get())\n",
    "\n",
    "# These results won't necessarily be in order\n"
   ]
  },
  {
   "cell_type": "code",
   "execution_count": null,
   "id": "2a87825b",
   "metadata": {
    "ExecuteTime": {
     "start_time": "2023-06-21T06:43:48.895Z"
    }
   },
   "outputs": [
    {
     "name": "stderr",
     "output_type": "stream",
     "text": [
      "Exception in thread Thread-5 (<lambda>):\n",
      "Traceback (most recent call last):\n",
      "  File \"C:\\Users\\Acer\\AppData\\Local\\Programs\\Python\\Python311\\Lib\\threading.py\", line 1038, in _bootstrap_inner\n",
      "Exception in thread Thread-6 (<lambda>):\n",
      "Traceback (most recent call last):\n",
      "  File \"C:\\Users\\Acer\\AppData\\Local\\Programs\\Python\\Python311\\Lib\\threading.py\", line 1038, in _bootstrap_inner\n",
      "Exception in thread Thread-7 (<lambda>):\n",
      "Traceback (most recent call last):\n",
      "  File \"C:\\Users\\Acer\\AppData\\Local\\Programs\\Python\\Python311\\Lib\\threading.py\", line 1038, in _bootstrap_inner\n",
      "    self.run()\n",
      "  File \"C:\\Users\\Acer\\AppData\\Local\\Programs\\Python\\Python311\\Lib\\threading.py\", line 975, in run\n",
      "    self.run()\n",
      "  File \"C:\\Users\\Acer\\AppData\\Local\\Programs\\Python\\Python311\\Lib\\threading.py\", line 975, in run\n",
      "    self._target(*self._args, **self._kwargs)\n",
      "  File \"C:\\Users\\Acer\\AppData\\Local\\Temp\\ipykernel_10816\\1244236639.py\", line 5, in <lambda>\n",
      "    self.run()\n",
      "  File \"C:\\Users\\Acer\\AppData\\Local\\Programs\\Python\\Python311\\Lib\\threading.py\", line 975, in run\n",
      "    self._target(*self._args, **self._kwargs)\n",
      "  File \"C:\\Users\\Acer\\AppData\\Local\\Temp\\ipykernel_10816\\1244236639.py\", line 5, in <lambda>\n",
      "    self._target(*self._args, **self._kwargs)\n",
      "  File \"C:\\Users\\Acer\\AppData\\Local\\Temp\\ipykernel_10816\\1244236639.py\", line 5, in <lambda>\n",
      "TypeError: <lambda>() missing 1 required positional argument: 'args'\n",
      "TypeError: <lambda>() missing 1 required positional argument: 'args'\n",
      "TypeError: <lambda>() missing 1 required positional argument: 'args'\n"
     ]
    }
   ],
   "source": [
    "from threading import Thread as t\n",
    "import queue\n",
    "\n",
    "q = queue.Queue()  # For putting and getting results of thread\n",
    "func = lambda q, args: q.put(func(args))\n",
    "\n",
    "# Define and populate args_array with arguments\n",
    "args_array = [ (1, 2),(3, 4),(5, 6)]\n",
    "\n",
    "threads = [t(target=func, args=(q, args)) for args in args_array]\n",
    "for thread in threads:\n",
    "    thread.start()\n",
    "\n",
    "for thread in threads:\n",
    "    thread.join()\n",
    "\n",
    "res = []\n",
    "for thread in threads:\n",
    "    res.append(q.get())\n",
    "\n",
    "# These results won't necessarily be in order\n"
   ]
  },
  {
   "cell_type": "code",
   "execution_count": null,
   "id": "752a5702",
   "metadata": {},
   "outputs": [],
   "source": []
  }
 ],
 "metadata": {
  "kernelspec": {
   "display_name": "Python 3 (ipykernel)",
   "language": "python",
   "name": "python3"
  },
  "language_info": {
   "codemirror_mode": {
    "name": "ipython",
    "version": 3
   },
   "file_extension": ".py",
   "mimetype": "text/x-python",
   "name": "python",
   "nbconvert_exporter": "python",
   "pygments_lexer": "ipython3",
   "version": "3.11.3"
  }
 },
 "nbformat": 4,
 "nbformat_minor": 5
}
