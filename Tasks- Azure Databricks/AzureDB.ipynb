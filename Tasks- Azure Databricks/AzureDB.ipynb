{
 "cells": [
  {
   "cell_type": "markdown",
   "metadata": {
    "application/vnd.databricks.v1+cell": {
     "cellMetadata": {
      "byteLimit": 2048000,
      "rowLimit": 10000
     },
     "inputWidgets": {},
     "nuid": "3090f97c-a61f-429b-80a7-758b3dab7dd6",
     "showTitle": false,
     "title": ""
    }
   },
   "source": [
    "##File System Command"
   ]
  },
  {
   "cell_type": "code",
   "execution_count": 0,
   "metadata": {
    "application/vnd.databricks.v1+cell": {
     "cellMetadata": {
      "byteLimit": 2048000,
      "rowLimit": 10000
     },
     "inputWidgets": {},
     "nuid": "6f66569a-a1f8-4d14-a962-d0047572393a",
     "showTitle": false,
     "title": ""
    }
   },
   "outputs": [
    {
     "output_type": "display_data",
     "data": {
      "text/html": [
       "<style scoped>\n",
       "  .table-result-container {\n",
       "    max-height: 300px;\n",
       "    overflow: auto;\n",
       "  }\n",
       "  table, th, td {\n",
       "    border: 1px solid black;\n",
       "    border-collapse: collapse;\n",
       "  }\n",
       "  th, td {\n",
       "    padding: 5px;\n",
       "  }\n",
       "  th {\n",
       "    text-align: left;\n",
       "  }\n",
       "</style><div class='table-result-container'><table class='table-result'><thead style='background-color: white'><tr><th>path</th><th>name</th><th>size</th><th>modificationTime</th></tr></thead><tbody><tr><td>dbfs:/FileStore/</td><td>FileStore/</td><td>0</td><td>0</td></tr><tr><td>dbfs:/databricks-datasets/</td><td>databricks-datasets/</td><td>0</td><td>0</td></tr><tr><td>dbfs:/databricks-results/</td><td>databricks-results/</td><td>0</td><td>0</td></tr><tr><td>dbfs:/foobar/</td><td>foobar/</td><td>0</td><td>0</td></tr><tr><td>dbfs:/scenarios/</td><td>scenarios/</td><td>0</td><td>0</td></tr><tr><td>dbfs:/udb/</td><td>udb/</td><td>0</td><td>0</td></tr><tr><td>dbfs:/user/</td><td>user/</td><td>0</td><td>0</td></tr></tbody></table></div>"
      ]
     },
     "metadata": {
      "application/vnd.databricks.v1+output": {
       "addedWidgets": {},
       "aggData": [],
       "aggError": "",
       "aggOverflow": false,
       "aggSchema": [],
       "aggSeriesLimitReached": false,
       "aggType": "",
       "arguments": {},
       "columnCustomDisplayInfos": {},
       "data": [
        [
         "dbfs:/FileStore/",
         "FileStore/",
         0,
         0
        ],
        [
         "dbfs:/databricks-datasets/",
         "databricks-datasets/",
         0,
         0
        ],
        [
         "dbfs:/databricks-results/",
         "databricks-results/",
         0,
         0
        ],
        [
         "dbfs:/foobar/",
         "foobar/",
         0,
         0
        ],
        [
         "dbfs:/scenarios/",
         "scenarios/",
         0,
         0
        ],
        [
         "dbfs:/udb/",
         "udb/",
         0,
         0
        ],
        [
         "dbfs:/user/",
         "user/",
         0,
         0
        ]
       ],
       "datasetInfos": [],
       "dbfsResultPath": null,
       "isJsonSchema": true,
       "metadata": {
        "isDbfsCommandResult": false
       },
       "overflow": false,
       "plotOptions": {
        "customPlotOptions": {},
        "displayType": "table",
        "pivotAggregation": null,
        "pivotColumns": null,
        "xColumns": null,
        "yColumns": null
       },
       "removedWidgets": [],
       "schema": [
        {
         "metadata": "{}",
         "name": "path",
         "type": "\"string\""
        },
        {
         "metadata": "{}",
         "name": "name",
         "type": "\"string\""
        },
        {
         "metadata": "{}",
         "name": "size",
         "type": "\"long\""
        },
        {
         "metadata": "{}",
         "name": "modificationTime",
         "type": "\"long\""
        }
       ],
       "type": "table"
      }
     },
     "output_type": "display_data"
    }
   ],
   "source": [
    "%fs\n",
    "ls "
   ]
  },
  {
   "cell_type": "code",
   "execution_count": 0,
   "metadata": {
    "application/vnd.databricks.v1+cell": {
     "cellMetadata": {
      "byteLimit": 2048000,
      "rowLimit": 10000
     },
     "inputWidgets": {},
     "nuid": "ead76832-7e24-4998-8c6e-e90f1230801f",
     "showTitle": false,
     "title": ""
    }
   },
   "outputs": [
    {
     "output_type": "display_data",
     "data": {
      "text/html": [
       "<style scoped>\n",
       "  .table-result-container {\n",
       "    max-height: 300px;\n",
       "    overflow: auto;\n",
       "  }\n",
       "  table, th, td {\n",
       "    border: 1px solid black;\n",
       "    border-collapse: collapse;\n",
       "  }\n",
       "  th, td {\n",
       "    padding: 5px;\n",
       "  }\n",
       "  th {\n",
       "    text-align: left;\n",
       "  }\n",
       "</style><div class='table-result-container'><table class='table-result'><thead style='background-color: white'><tr><th>path</th><th>name</th><th>size</th><th>modificationTime</th></tr></thead><tbody><tr><td>dbfs:/FileStore/tables/SalesData.csv</td><td>SalesData.csv</td><td>617</td><td>1689689602000</td></tr><tr><td>dbfs:/FileStore/tables/employees.csv</td><td>employees.csv</td><td>61</td><td>1689692632000</td></tr></tbody></table></div>"
      ]
     },
     "metadata": {
      "application/vnd.databricks.v1+output": {
       "addedWidgets": {},
       "aggData": [],
       "aggError": "",
       "aggOverflow": false,
       "aggSchema": [],
       "aggSeriesLimitReached": false,
       "aggType": "",
       "arguments": {},
       "columnCustomDisplayInfos": {},
       "data": [
        [
         "dbfs:/FileStore/tables/SalesData.csv",
         "SalesData.csv",
         617,
         1689689602000
        ],
        [
         "dbfs:/FileStore/tables/employees.csv",
         "employees.csv",
         61,
         1689692632000
        ]
       ],
       "datasetInfos": [],
       "dbfsResultPath": null,
       "isJsonSchema": true,
       "metadata": {
        "isDbfsCommandResult": false
       },
       "overflow": false,
       "plotOptions": {
        "customPlotOptions": {},
        "displayType": "table",
        "pivotAggregation": null,
        "pivotColumns": null,
        "xColumns": null,
        "yColumns": null
       },
       "removedWidgets": [],
       "schema": [
        {
         "metadata": "{}",
         "name": "path",
         "type": "\"string\""
        },
        {
         "metadata": "{}",
         "name": "name",
         "type": "\"string\""
        },
        {
         "metadata": "{}",
         "name": "size",
         "type": "\"long\""
        },
        {
         "metadata": "{}",
         "name": "modificationTime",
         "type": "\"long\""
        }
       ],
       "type": "table"
      }
     },
     "output_type": "display_data"
    }
   ],
   "source": [
    "%fs\n",
    "ls dbfs:/FileStore/tables\n"
   ]
  },
  {
   "cell_type": "code",
   "execution_count": 0,
   "metadata": {
    "application/vnd.databricks.v1+cell": {
     "cellMetadata": {
      "byteLimit": 2048000,
      "rowLimit": 10000
     },
     "inputWidgets": {},
     "nuid": "5c4072f1-60e4-4eda-a6c5-b1f01fa3acb7",
     "showTitle": false,
     "title": ""
    }
   },
   "outputs": [
    {
     "output_type": "display_data",
     "data": {
      "text/html": [
       "<style scoped>\n",
       "  .ansiout {\n",
       "    display: block;\n",
       "    unicode-bidi: embed;\n",
       "    white-space: pre-wrap;\n",
       "    word-wrap: break-word;\n",
       "    word-break: break-all;\n",
       "    font-family: \"Source Code Pro\", \"Menlo\", monospace;;\n",
       "    font-size: 13px;\n",
       "    color: #555;\n",
       "    margin-left: 4px;\n",
       "    line-height: 19px;\n",
       "  }\n",
       "</style>\n",
       "<div class=\"ansiout\">res4: Boolean = true\n",
       "</div>"
      ]
     },
     "metadata": {
      "application/vnd.databricks.v1+output": {
       "addedWidgets": {},
       "arguments": {},
       "data": "<div class=\"ansiout\">res4: Boolean = true\n</div>",
       "datasetInfos": [],
       "metadata": {
        "isDbfsCommandResult": false
       },
       "removedWidgets": [],
       "type": "html"
      }
     },
     "output_type": "display_data"
    }
   ],
   "source": [
    "%fs \n",
    "rm -r dbfs:/FileStore/tables/ScreenerData.csv"
   ]
  },
  {
   "cell_type": "markdown",
   "metadata": {
    "application/vnd.databricks.v1+cell": {
     "cellMetadata": {
      "byteLimit": 2048000,
      "rowLimit": 10000
     },
     "inputWidgets": {},
     "nuid": "a99de601-b886-45a9-9d73-7fc584731981",
     "showTitle": false,
     "title": ""
    }
   },
   "source": [
    "#Read CSV File"
   ]
  },
  {
   "cell_type": "code",
   "execution_count": 0,
   "metadata": {
    "application/vnd.databricks.v1+cell": {
     "cellMetadata": {
      "byteLimit": 2048000,
      "rowLimit": 10000
     },
     "inputWidgets": {},
     "nuid": "700c5b1c-261b-4026-a4e9-dcc182c382cf",
     "showTitle": false,
     "title": ""
    }
   },
   "outputs": [
    {
     "output_type": "display_data",
     "data": {
      "text/html": [
       "<style scoped>\n",
       "  .table-result-container {\n",
       "    max-height: 300px;\n",
       "    overflow: auto;\n",
       "  }\n",
       "  table, th, td {\n",
       "    border: 1px solid black;\n",
       "    border-collapse: collapse;\n",
       "  }\n",
       "  th, td {\n",
       "    padding: 5px;\n",
       "  }\n",
       "  th {\n",
       "    text-align: left;\n",
       "  }\n",
       "</style><div class='table-result-container'><table class='table-result'><thead style='background-color: white'><tr><th>Emp</th><th>Dept</th><th>Bonus</th><th>TotalSalary</th><th>ImportDate</th></tr></thead><tbody><tr><td>Rahul</td><td>Sales</td><td>1000.0</td><td>11000.0</td><td>null</td></tr><tr><td>Bob</td><td>Finance</td><td>1200.0</td><td>13200.0</td><td>null</td></tr><tr><td>Arun</td><td>Reporting</td><td>1800.0</td><td>19800.0</td><td>null</td></tr><tr><td>Rahul</td><td>Sales</td><td>1000.0</td><td>11000.0</td><td>2023-07-21T10:53:18.853+0000</td></tr><tr><td>Bob</td><td>Finance</td><td>1200.0</td><td>13200.0</td><td>2023-07-21T10:53:18.853+0000</td></tr><tr><td>Arun</td><td>Reporting</td><td>1800.0</td><td>19800.0</td><td>2023-07-21T10:53:18.853+0000</td></tr><tr><td>Rahul</td><td>Sales</td><td>1000.0</td><td>11000.0</td><td>2023-07-25T16:27:49.061+0000</td></tr><tr><td>Bob</td><td>Finance</td><td>1200.0</td><td>13200.0</td><td>2023-07-25T16:27:49.061+0000</td></tr><tr><td>Arun</td><td>Reporting</td><td>1800.0</td><td>19800.0</td><td>2023-07-25T16:27:49.061+0000</td></tr><tr><td>Rahul</td><td>Sales</td><td>1000.0</td><td>11000.0</td><td>2023-07-21T10:52:56.844+0000</td></tr><tr><td>Bob</td><td>Finance</td><td>1200.0</td><td>13200.0</td><td>2023-07-21T10:52:56.844+0000</td></tr><tr><td>Arun</td><td>Reporting</td><td>1800.0</td><td>19800.0</td><td>2023-07-21T10:52:56.844+0000</td></tr><tr><td>Rahul</td><td>Sales</td><td>1000.0</td><td>11000.0</td><td>2023-07-21T10:51:16.123+0000</td></tr><tr><td>Bob</td><td>Finance</td><td>1200.0</td><td>13200.0</td><td>2023-07-21T10:51:16.123+0000</td></tr><tr><td>Arun</td><td>Reporting</td><td>1800.0</td><td>19800.0</td><td>2023-07-21T10:51:16.123+0000</td></tr><tr><td>Rahul</td><td>Sales</td><td>1000.0</td><td>11000.0</td><td>2023-07-21T10:51:55.323+0000</td></tr><tr><td>Bob</td><td>Finance</td><td>1200.0</td><td>13200.0</td><td>2023-07-21T10:51:55.323+0000</td></tr><tr><td>Arun</td><td>Reporting</td><td>1800.0</td><td>19800.0</td><td>2023-07-21T10:51:55.323+0000</td></tr><tr><td>Rahul</td><td>Sales</td><td>1000.0</td><td>11000.0</td><td>2023-07-21T11:01:28.846+0000</td></tr><tr><td>Bob</td><td>Finance</td><td>1200.0</td><td>13200.0</td><td>2023-07-21T11:01:28.846+0000</td></tr><tr><td>Arun</td><td>Reporting</td><td>1800.0</td><td>19800.0</td><td>2023-07-21T11:01:28.846+0000</td></tr></tbody></table></div>"
      ]
     },
     "metadata": {
      "application/vnd.databricks.v1+output": {
       "addedWidgets": {},
       "aggData": [],
       "aggError": "",
       "aggOverflow": false,
       "aggSchema": [],
       "aggSeriesLimitReached": false,
       "aggType": "",
       "arguments": {},
       "columnCustomDisplayInfos": {},
       "data": [
        [
         "Rahul",
         "Sales",
         1000.0,
         11000.0,
         null
        ],
        [
         "Bob",
         "Finance",
         1200.0,
         13200.0,
         null
        ],
        [
         "Arun",
         "Reporting",
         1800.0,
         19800.0,
         null
        ],
        [
         "Rahul",
         "Sales",
         1000.0,
         11000.0,
         "2023-07-21T10:53:18.853+0000"
        ],
        [
         "Bob",
         "Finance",
         1200.0,
         13200.0,
         "2023-07-21T10:53:18.853+0000"
        ],
        [
         "Arun",
         "Reporting",
         1800.0,
         19800.0,
         "2023-07-21T10:53:18.853+0000"
        ],
        [
         "Rahul",
         "Sales",
         1000.0,
         11000.0,
         "2023-07-25T16:27:49.061+0000"
        ],
        [
         "Bob",
         "Finance",
         1200.0,
         13200.0,
         "2023-07-25T16:27:49.061+0000"
        ],
        [
         "Arun",
         "Reporting",
         1800.0,
         19800.0,
         "2023-07-25T16:27:49.061+0000"
        ],
        [
         "Rahul",
         "Sales",
         1000.0,
         11000.0,
         "2023-07-21T10:52:56.844+0000"
        ],
        [
         "Bob",
         "Finance",
         1200.0,
         13200.0,
         "2023-07-21T10:52:56.844+0000"
        ],
        [
         "Arun",
         "Reporting",
         1800.0,
         19800.0,
         "2023-07-21T10:52:56.844+0000"
        ],
        [
         "Rahul",
         "Sales",
         1000.0,
         11000.0,
         "2023-07-21T10:51:16.123+0000"
        ],
        [
         "Bob",
         "Finance",
         1200.0,
         13200.0,
         "2023-07-21T10:51:16.123+0000"
        ],
        [
         "Arun",
         "Reporting",
         1800.0,
         19800.0,
         "2023-07-21T10:51:16.123+0000"
        ],
        [
         "Rahul",
         "Sales",
         1000.0,
         11000.0,
         "2023-07-21T10:51:55.323+0000"
        ],
        [
         "Bob",
         "Finance",
         1200.0,
         13200.0,
         "2023-07-21T10:51:55.323+0000"
        ],
        [
         "Arun",
         "Reporting",
         1800.0,
         19800.0,
         "2023-07-21T10:51:55.323+0000"
        ],
        [
         "Rahul",
         "Sales",
         1000.0,
         11000.0,
         "2023-07-21T11:01:28.846+0000"
        ],
        [
         "Bob",
         "Finance",
         1200.0,
         13200.0,
         "2023-07-21T11:01:28.846+0000"
        ],
        [
         "Arun",
         "Reporting",
         1800.0,
         19800.0,
         "2023-07-21T11:01:28.846+0000"
        ]
       ],
       "datasetInfos": [],
       "dbfsResultPath": null,
       "isJsonSchema": true,
       "metadata": {},
       "overflow": false,
       "plotOptions": {
        "customPlotOptions": {},
        "displayType": "table",
        "pivotAggregation": null,
        "pivotColumns": null,
        "xColumns": null,
        "yColumns": null
       },
       "removedWidgets": [],
       "schema": [
        {
         "metadata": "{}",
         "name": "Emp",
         "type": "\"string\""
        },
        {
         "metadata": "{}",
         "name": "Dept",
         "type": "\"string\""
        },
        {
         "metadata": "{}",
         "name": "Bonus",
         "type": "\"double\""
        },
        {
         "metadata": "{}",
         "name": "TotalSalary",
         "type": "\"double\""
        },
        {
         "metadata": "{}",
         "name": "ImportDate",
         "type": "\"timestamp\""
        }
       ],
       "type": "table"
      }
     },
     "output_type": "display_data"
    }
   ],
   "source": [
    "#Read flat file, define schema,filter out employee earning less than 20k, add column bonus 10% for each employee and calculate\n",
    "# add new column the total salary after bonus, remove column salary, save the final df as parquet\n",
    "\n",
    "from pyspark.sql.functions import col, lit, current_timestamp\n",
    "from pyspark.sql.types import StructType,StructField, StringType,DoubleType\n",
    "\n",
    "paySchema = StructType([ \\\n",
    "    StructField(\"Emp\",StringType(),True), \\\n",
    "    StructField(\"Dept\",StringType(),True), \\\n",
    "    StructField(\"Salary\",DoubleType(),True) \\\n",
    "  ])\n",
    "\n",
    "parquet_pay_path = \"/FileStore/LakeHouse/EmpPay/\"\n",
    "\n",
    "empPayData = spark.read.csv(path=\"/FileStore/tables/EmpPay.csv\", sep=\"|\", header=True, schema=paySchema)\n",
    "\n",
    "empPayData =empPayData.filter(\"Salary<20000\")\n",
    "empPayData=empPayData.withColumn(\"Bonus\",col(\"Salary\")*10/100)\n",
    "empPayData =empPayData.withColumn(\"TotalSalary\", col(\"Bonus\") + col(\"Salary\"))\n",
    "empPayData =empPayData.drop(\"Salary\")\n",
    "empPayData= empPayData.withColumn(\"ingestionDate\", current_timestamp())\n",
    "empPayData= empPayData.withColumnRenamed(\"ingestionDate\", \"ImportDate\")\n",
    "#display(empPayData)\n",
    "\n",
    "empPayData.write.mode(\"append\").parquet(parquet_pay_path)\n",
    "empParquetDF= spark.read.parquet(parquet_pay_path)\n",
    "display(empParquetDF)\n",
    "\n"
   ]
  },
  {
   "cell_type": "code",
   "execution_count": 0,
   "metadata": {
    "application/vnd.databricks.v1+cell": {
     "cellMetadata": {
      "byteLimit": 2048000,
      "rowLimit": 10000
     },
     "inputWidgets": {},
     "nuid": "53816ad5-6e1d-471d-bd10-6b62525eb58b",
     "showTitle": false,
     "title": ""
    }
   },
   "outputs": [
    {
     "output_type": "display_data",
     "data": {
      "text/html": [
       "<style scoped>\n",
       "  .table-result-container {\n",
       "    max-height: 300px;\n",
       "    overflow: auto;\n",
       "  }\n",
       "  table, th, td {\n",
       "    border: 1px solid black;\n",
       "    border-collapse: collapse;\n",
       "  }\n",
       "  th, td {\n",
       "    padding: 5px;\n",
       "  }\n",
       "  th {\n",
       "    text-align: left;\n",
       "  }\n",
       "</style><div class='table-result-container'><table class='table-result'><thead style='background-color: white'><tr><th>path</th><th>name</th><th>size</th><th>modificationTime</th></tr></thead><tbody><tr><td>dbfs:/FileStore/LakeHouse/EmpPay/_SUCCESS</td><td>_SUCCESS</td><td>0</td><td>1689936678000</td></tr><tr><td>dbfs:/FileStore/LakeHouse/EmpPay/_committed_1910535123153937502</td><td>_committed_1910535123153937502</td><td>221</td><td>1689936170000</td></tr><tr><td>dbfs:/FileStore/LakeHouse/EmpPay/_committed_4121409593000796777</td><td>_committed_4121409593000796777</td><td>221</td><td>1689936047000</td></tr><tr><td>dbfs:/FileStore/LakeHouse/EmpPay/_committed_4253268636208939365</td><td>_committed_4253268636208939365</td><td>232</td><td>1689935618000</td></tr><tr><td>dbfs:/FileStore/LakeHouse/EmpPay/_committed_4307898832227351326</td><td>_committed_4307898832227351326</td><td>123</td><td>1689935232000</td></tr><tr><td>dbfs:/FileStore/LakeHouse/EmpPay/_committed_6167242486210209442</td><td>_committed_6167242486210209442</td><td>221</td><td>1689935634000</td></tr><tr><td>dbfs:/FileStore/LakeHouse/EmpPay/_committed_7037928025282726053</td><td>_committed_7037928025282726053</td><td>221</td><td>1689936678000</td></tr><tr><td>dbfs:/FileStore/LakeHouse/EmpPay/_started_1910535123153937502</td><td>_started_1910535123153937502</td><td>0</td><td>1689936170000</td></tr><tr><td>dbfs:/FileStore/LakeHouse/EmpPay/_started_4121409593000796777</td><td>_started_4121409593000796777</td><td>0</td><td>1689936046000</td></tr><tr><td>dbfs:/FileStore/LakeHouse/EmpPay/_started_4253268636208939365</td><td>_started_4253268636208939365</td><td>0</td><td>1689935617000</td></tr><tr><td>dbfs:/FileStore/LakeHouse/EmpPay/_started_4307898832227351326</td><td>_started_4307898832227351326</td><td>0</td><td>1689935231000</td></tr><tr><td>dbfs:/FileStore/LakeHouse/EmpPay/_started_6167242486210209442</td><td>_started_6167242486210209442</td><td>0</td><td>1689935634000</td></tr><tr><td>dbfs:/FileStore/LakeHouse/EmpPay/_started_7037928025282726053</td><td>_started_7037928025282726053</td><td>0</td><td>1689936678000</td></tr><tr><td>dbfs:/FileStore/LakeHouse/EmpPay/part-00000-tid-7037928025282726053-988db255-6bfe-4db2-96c2-990b098fdf8a-83-1-c000.snappy.parquet</td><td>part-00000-tid-7037928025282726053-988db255-6bfe-4db2-96c2-990b098fdf8a-83-1-c000.snappy.parquet</td><td>1686</td><td>1689936678000</td></tr></tbody></table></div>"
      ]
     },
     "metadata": {
      "application/vnd.databricks.v1+output": {
       "addedWidgets": {},
       "aggData": [],
       "aggError": "",
       "aggOverflow": false,
       "aggSchema": [],
       "aggSeriesLimitReached": false,
       "aggType": "",
       "arguments": {},
       "columnCustomDisplayInfos": {},
       "data": [
        [
         "dbfs:/FileStore/LakeHouse/EmpPay/_SUCCESS",
         "_SUCCESS",
         0,
         1689936678000
        ],
        [
         "dbfs:/FileStore/LakeHouse/EmpPay/_committed_1910535123153937502",
         "_committed_1910535123153937502",
         221,
         1689936170000
        ],
        [
         "dbfs:/FileStore/LakeHouse/EmpPay/_committed_4121409593000796777",
         "_committed_4121409593000796777",
         221,
         1689936047000
        ],
        [
         "dbfs:/FileStore/LakeHouse/EmpPay/_committed_4253268636208939365",
         "_committed_4253268636208939365",
         232,
         1689935618000
        ],
        [
         "dbfs:/FileStore/LakeHouse/EmpPay/_committed_4307898832227351326",
         "_committed_4307898832227351326",
         123,
         1689935232000
        ],
        [
         "dbfs:/FileStore/LakeHouse/EmpPay/_committed_6167242486210209442",
         "_committed_6167242486210209442",
         221,
         1689935634000
        ],
        [
         "dbfs:/FileStore/LakeHouse/EmpPay/_committed_7037928025282726053",
         "_committed_7037928025282726053",
         221,
         1689936678000
        ],
        [
         "dbfs:/FileStore/LakeHouse/EmpPay/_started_1910535123153937502",
         "_started_1910535123153937502",
         0,
         1689936170000
        ],
        [
         "dbfs:/FileStore/LakeHouse/EmpPay/_started_4121409593000796777",
         "_started_4121409593000796777",
         0,
         1689936046000
        ],
        [
         "dbfs:/FileStore/LakeHouse/EmpPay/_started_4253268636208939365",
         "_started_4253268636208939365",
         0,
         1689935617000
        ],
        [
         "dbfs:/FileStore/LakeHouse/EmpPay/_started_4307898832227351326",
         "_started_4307898832227351326",
         0,
         1689935231000
        ],
        [
         "dbfs:/FileStore/LakeHouse/EmpPay/_started_6167242486210209442",
         "_started_6167242486210209442",
         0,
         1689935634000
        ],
        [
         "dbfs:/FileStore/LakeHouse/EmpPay/_started_7037928025282726053",
         "_started_7037928025282726053",
         0,
         1689936678000
        ],
        [
         "dbfs:/FileStore/LakeHouse/EmpPay/part-00000-tid-7037928025282726053-988db255-6bfe-4db2-96c2-990b098fdf8a-83-1-c000.snappy.parquet",
         "part-00000-tid-7037928025282726053-988db255-6bfe-4db2-96c2-990b098fdf8a-83-1-c000.snappy.parquet",
         1686,
         1689936678000
        ]
       ],
       "datasetInfos": [],
       "dbfsResultPath": null,
       "isJsonSchema": true,
       "metadata": {
        "isDbfsCommandResult": false
       },
       "overflow": false,
       "plotOptions": {
        "customPlotOptions": {},
        "displayType": "table",
        "pivotAggregation": null,
        "pivotColumns": null,
        "xColumns": null,
        "yColumns": null
       },
       "removedWidgets": [],
       "schema": [
        {
         "metadata": "{}",
         "name": "path",
         "type": "\"string\""
        },
        {
         "metadata": "{}",
         "name": "name",
         "type": "\"string\""
        },
        {
         "metadata": "{}",
         "name": "size",
         "type": "\"long\""
        },
        {
         "metadata": "{}",
         "name": "modificationTime",
         "type": "\"long\""
        }
       ],
       "type": "table"
      }
     },
     "output_type": "display_data"
    }
   ],
   "source": [
    "%fs\n",
    "ls dbfs:/FileStore/LakeHouse/EmpPay"
   ]
  },
  {
   "cell_type": "code",
   "execution_count": 0,
   "metadata": {
    "application/vnd.databricks.v1+cell": {
     "cellMetadata": {
      "byteLimit": 2048000,
      "rowLimit": 10000
     },
     "inputWidgets": {},
     "nuid": "c4309c3a-1448-467d-9f5a-45298e8e1230",
     "showTitle": false,
     "title": ""
    }
   },
   "outputs": [],
   "source": [
    "#Define custom Schema\n",
    "from pyspark.sql.types import StructType,StructField, StringType, IntegerType, DateType,DoubleType\n",
    "\n",
    "dataSchema = StructType([ \\\n",
    "    StructField(\"date\",StringType(),True), \\\n",
    "    StructField(\"SalesPerson\",StringType(),True), \\\n",
    "    StructField(\"SalesID\",IntegerType(),True), \\\n",
    "    StructField(\"ProductID\", IntegerType(), True), \\\n",
    "    StructField(\"Product\", StringType(), True), \\\n",
    "    StructField(\"Sales\", DoubleType(), True) \\\n",
    "  ])\n"
   ]
  },
  {
   "cell_type": "code",
   "execution_count": 0,
   "metadata": {
    "application/vnd.databricks.v1+cell": {
     "cellMetadata": {
      "byteLimit": 2048000,
      "rowLimit": 10000
     },
     "inputWidgets": {},
     "nuid": "fb1a5ab2-dc43-4260-8256-9f65b7776c58",
     "showTitle": false,
     "title": ""
    }
   },
   "outputs": [
    {
     "output_type": "display_data",
     "data": {
      "text/html": [
       "<style scoped>\n",
       "  .table-result-container {\n",
       "    max-height: 300px;\n",
       "    overflow: auto;\n",
       "  }\n",
       "  table, th, td {\n",
       "    border: 1px solid black;\n",
       "    border-collapse: collapse;\n",
       "  }\n",
       "  th, td {\n",
       "    padding: 5px;\n",
       "  }\n",
       "  th {\n",
       "    text-align: left;\n",
       "  }\n",
       "</style><div class='table-result-container'><table class='table-result'><thead style='background-color: white'><tr><th>date</th><th>SalesPerson</th><th>SalesID</th><th>ProductID</th><th>Product</th><th>Sales</th></tr></thead><tbody><tr><td>05/01/2023</td><td>Amber</td><td>3</td><td>2</td><td>Mortgage</td><td>17429.0</td></tr><tr><td>24/02/2023</td><td>Chantal</td><td>4</td><td>2</td><td>Mortgage</td><td>11978.0</td></tr><tr><td>17/05/2023</td><td>Natalia</td><td>9</td><td>4</td><td>Health insurance</td><td>24055.0</td></tr><tr><td>02/05/2023</td><td>Eric</td><td>10</td><td>3</td><td>Car insurance</td><td>5935.0</td></tr><tr><td>24/03/2023</td><td>Jeroen</td><td>5</td><td>2</td><td>Mortgage</td><td>25902.0</td></tr><tr><td>02/03/2023</td><td>Eric</td><td>10</td><td>3</td><td>Car insurance</td><td>1235.0</td></tr><tr><td>16/03/2023</td><td>Amber</td><td>3</td><td>2</td><td>Mortgage</td><td>2452.0</td></tr><tr><td>05/02/2023</td><td>Amber</td><td>3</td><td>2</td><td>Mortgage</td><td>11129.0</td></tr><tr><td>12/03/2023</td><td>Taylor</td><td>14</td><td>2</td><td>Mortgage</td><td>14028.0</td></tr><tr><td>22/03/2023</td><td>Sarah</td><td>4</td><td>3</td><td> Car insurance</td><td>23263.0</td></tr><tr><td>08/03/2023</td><td>Tara</td><td>8</td><td>3</td><td> Car insurance</td><td>29577.0</td></tr><tr><td>12/02/2023</td><td>Taylor</td><td>14</td><td>2</td><td>Mortgage</td><td>19078.0</td></tr><tr><td>22/05/2023</td><td>Sarah</td><td>4</td><td>3</td><td> Car insurance</td><td>23012.0</td></tr><tr><td>08/05/2023</td><td>Tara</td><td>8</td><td>3</td><td> Car insurance</td><td>21507.0</td></tr></tbody></table></div>"
      ]
     },
     "metadata": {
      "application/vnd.databricks.v1+output": {
       "addedWidgets": {},
       "aggData": [],
       "aggError": "",
       "aggOverflow": false,
       "aggSchema": [],
       "aggSeriesLimitReached": false,
       "aggType": "",
       "arguments": {},
       "columnCustomDisplayInfos": {},
       "data": [
        [
         "05/01/2023",
         "Amber",
         3,
         2,
         "Mortgage",
         17429.0
        ],
        [
         "24/02/2023",
         "Chantal",
         4,
         2,
         "Mortgage",
         11978.0
        ],
        [
         "17/05/2023",
         "Natalia",
         9,
         4,
         "Health insurance",
         24055.0
        ],
        [
         "02/05/2023",
         "Eric",
         10,
         3,
         "Car insurance",
         5935.0
        ],
        [
         "24/03/2023",
         "Jeroen",
         5,
         2,
         "Mortgage",
         25902.0
        ],
        [
         "02/03/2023",
         "Eric",
         10,
         3,
         "Car insurance",
         1235.0
        ],
        [
         "16/03/2023",
         "Amber",
         3,
         2,
         "Mortgage",
         2452.0
        ],
        [
         "05/02/2023",
         "Amber",
         3,
         2,
         "Mortgage",
         11129.0
        ],
        [
         "12/03/2023",
         "Taylor",
         14,
         2,
         "Mortgage",
         14028.0
        ],
        [
         "22/03/2023",
         "Sarah",
         4,
         3,
         " Car insurance",
         23263.0
        ],
        [
         "08/03/2023",
         "Tara",
         8,
         3,
         " Car insurance",
         29577.0
        ],
        [
         "12/02/2023",
         "Taylor",
         14,
         2,
         "Mortgage",
         19078.0
        ],
        [
         "22/05/2023",
         "Sarah",
         4,
         3,
         " Car insurance",
         23012.0
        ],
        [
         "08/05/2023",
         "Tara",
         8,
         3,
         " Car insurance",
         21507.0
        ]
       ],
       "datasetInfos": [],
       "dbfsResultPath": null,
       "isJsonSchema": true,
       "metadata": {},
       "overflow": false,
       "plotOptions": {
        "customPlotOptions": {},
        "displayType": "table",
        "pivotAggregation": null,
        "pivotColumns": null,
        "xColumns": null,
        "yColumns": null
       },
       "removedWidgets": [],
       "schema": [
        {
         "metadata": "{}",
         "name": "date",
         "type": "\"string\""
        },
        {
         "metadata": "{}",
         "name": "SalesPerson",
         "type": "\"string\""
        },
        {
         "metadata": "{}",
         "name": "SalesID",
         "type": "\"integer\""
        },
        {
         "metadata": "{}",
         "name": "ProductID",
         "type": "\"integer\""
        },
        {
         "metadata": "{}",
         "name": "Product",
         "type": "\"string\""
        },
        {
         "metadata": "{}",
         "name": "Sales",
         "type": "\"double\""
        }
       ],
       "type": "table"
      }
     },
     "output_type": "display_data"
    }
   ],
   "source": [
    "#salesDF = spark.read.csv(\"/FileStore/tables/SalesData.csv\")\n",
    "\n",
    "#salesDF = spark.read.csv(\"/FileStore/tables/SalesData.csv\", header=True)\n",
    "\n",
    "#salesDF = spark.read.csv(\"/FileStore/tables/SalesData.csv\", header=True, inferSchema=True)\n",
    "\n",
    "salesDF = spark.read.csv(\"/FileStore/tables/SalesData.csv\", header=True, schema=dataSchema)\n",
    "\n",
    "display(salesDF)\n",
    "\n"
   ]
  },
  {
   "cell_type": "markdown",
   "metadata": {
    "application/vnd.databricks.v1+cell": {
     "cellMetadata": {},
     "inputWidgets": {},
     "nuid": "f7f34c20-66d9-4575-a0a1-378b8a8800cf",
     "showTitle": false,
     "title": ""
    }
   },
   "source": [
    "#### Transformation"
   ]
  },
  {
   "cell_type": "code",
   "execution_count": 0,
   "metadata": {
    "application/vnd.databricks.v1+cell": {
     "cellMetadata": {
      "byteLimit": 2048000,
      "rowLimit": 10000
     },
     "inputWidgets": {},
     "nuid": "9e9be233-be2b-4c87-84eb-0cb98259d33d",
     "showTitle": false,
     "title": ""
    }
   },
   "outputs": [
    {
     "output_type": "display_data",
     "data": {
      "text/html": [
       "<style scoped>\n",
       "  .table-result-container {\n",
       "    max-height: 300px;\n",
       "    overflow: auto;\n",
       "  }\n",
       "  table, th, td {\n",
       "    border: 1px solid black;\n",
       "    border-collapse: collapse;\n",
       "  }\n",
       "  th, td {\n",
       "    padding: 5px;\n",
       "  }\n",
       "  th {\n",
       "    text-align: left;\n",
       "  }\n",
       "</style><div class='table-result-container'><table class='table-result'><thead style='background-color: white'><tr><th>date</th><th>SalesPerson</th><th>SalesID</th><th>ProductID</th><th>Product</th><th>Sales</th><th>ingestionDate</th></tr></thead><tbody><tr><td>05/01/2023</td><td>Amber</td><td>3</td><td>2</td><td>Mortgage</td><td>17429</td><td>2023-07-25T16:25:51.028+0000</td></tr><tr><td>24/02/2023</td><td>Chantal</td><td>4</td><td>2</td><td>Mortgage</td><td>11978</td><td>2023-07-25T16:25:51.028+0000</td></tr><tr><td>17/05/2023</td><td>Natalia</td><td>9</td><td>4</td><td>Health insurance</td><td>24055</td><td>2023-07-25T16:25:51.028+0000</td></tr><tr><td>02/05/2023</td><td>Eric</td><td>10</td><td>3</td><td>Car insurance</td><td>5935</td><td>2023-07-25T16:25:51.028+0000</td></tr><tr><td>24/03/2023</td><td>Jeroen</td><td>5</td><td>2</td><td>Mortgage</td><td>25902</td><td>2023-07-25T16:25:51.028+0000</td></tr><tr><td>02/03/2023</td><td>Eric</td><td>10</td><td>3</td><td>Car insurance</td><td>1235</td><td>2023-07-25T16:25:51.028+0000</td></tr><tr><td>16/03/2023</td><td>Amber</td><td>3</td><td>2</td><td>Mortgage</td><td>2452</td><td>2023-07-25T16:25:51.028+0000</td></tr><tr><td>05/02/2023</td><td>Amber</td><td>3</td><td>2</td><td>Mortgage</td><td>11129</td><td>2023-07-25T16:25:51.028+0000</td></tr><tr><td>12/03/2023</td><td>Taylor</td><td>14</td><td>2</td><td>Mortgage</td><td>14028</td><td>2023-07-25T16:25:51.028+0000</td></tr><tr><td>22/03/2023</td><td>Sarah</td><td>4</td><td>3</td><td> Car insurance</td><td>23263</td><td>2023-07-25T16:25:51.028+0000</td></tr><tr><td>08/03/2023</td><td>Tara</td><td>8</td><td>3</td><td> Car insurance</td><td>29577</td><td>2023-07-25T16:25:51.028+0000</td></tr><tr><td>12/02/2023</td><td>Taylor</td><td>14</td><td>2</td><td>Mortgage</td><td>19078</td><td>2023-07-25T16:25:51.028+0000</td></tr><tr><td>22/05/2023</td><td>Sarah</td><td>4</td><td>3</td><td> Car insurance</td><td>23012</td><td>2023-07-25T16:25:51.028+0000</td></tr><tr><td>08/05/2023</td><td>Tara</td><td>8</td><td>3</td><td> Car insurance</td><td>21507</td><td>2023-07-25T16:25:51.028+0000</td></tr></tbody></table></div>"
      ]
     },
     "metadata": {
      "application/vnd.databricks.v1+output": {
       "addedWidgets": {},
       "aggData": [],
       "aggError": "",
       "aggOverflow": false,
       "aggSchema": [],
       "aggSeriesLimitReached": false,
       "aggType": "",
       "arguments": {},
       "columnCustomDisplayInfos": {},
       "data": [
        [
         "05/01/2023",
         "Amber",
         3,
         2,
         "Mortgage",
         17429,
         "2023-07-25T16:25:51.028+0000"
        ],
        [
         "24/02/2023",
         "Chantal",
         4,
         2,
         "Mortgage",
         11978,
         "2023-07-25T16:25:51.028+0000"
        ],
        [
         "17/05/2023",
         "Natalia",
         9,
         4,
         "Health insurance",
         24055,
         "2023-07-25T16:25:51.028+0000"
        ],
        [
         "02/05/2023",
         "Eric",
         10,
         3,
         "Car insurance",
         5935,
         "2023-07-25T16:25:51.028+0000"
        ],
        [
         "24/03/2023",
         "Jeroen",
         5,
         2,
         "Mortgage",
         25902,
         "2023-07-25T16:25:51.028+0000"
        ],
        [
         "02/03/2023",
         "Eric",
         10,
         3,
         "Car insurance",
         1235,
         "2023-07-25T16:25:51.028+0000"
        ],
        [
         "16/03/2023",
         "Amber",
         3,
         2,
         "Mortgage",
         2452,
         "2023-07-25T16:25:51.028+0000"
        ],
        [
         "05/02/2023",
         "Amber",
         3,
         2,
         "Mortgage",
         11129,
         "2023-07-25T16:25:51.028+0000"
        ],
        [
         "12/03/2023",
         "Taylor",
         14,
         2,
         "Mortgage",
         14028,
         "2023-07-25T16:25:51.028+0000"
        ],
        [
         "22/03/2023",
         "Sarah",
         4,
         3,
         " Car insurance",
         23263,
         "2023-07-25T16:25:51.028+0000"
        ],
        [
         "08/03/2023",
         "Tara",
         8,
         3,
         " Car insurance",
         29577,
         "2023-07-25T16:25:51.028+0000"
        ],
        [
         "12/02/2023",
         "Taylor",
         14,
         2,
         "Mortgage",
         19078,
         "2023-07-25T16:25:51.028+0000"
        ],
        [
         "22/05/2023",
         "Sarah",
         4,
         3,
         " Car insurance",
         23012,
         "2023-07-25T16:25:51.028+0000"
        ],
        [
         "08/05/2023",
         "Tara",
         8,
         3,
         " Car insurance",
         21507,
         "2023-07-25T16:25:51.028+0000"
        ]
       ],
       "datasetInfos": [],
       "dbfsResultPath": null,
       "isJsonSchema": true,
       "metadata": {},
       "overflow": false,
       "plotOptions": {
        "customPlotOptions": {},
        "displayType": "table",
        "pivotAggregation": null,
        "pivotColumns": null,
        "xColumns": null,
        "yColumns": null
       },
       "removedWidgets": [],
       "schema": [
        {
         "metadata": "{}",
         "name": "date",
         "type": "\"string\""
        },
        {
         "metadata": "{}",
         "name": "SalesPerson",
         "type": "\"string\""
        },
        {
         "metadata": "{}",
         "name": "SalesID",
         "type": "\"integer\""
        },
        {
         "metadata": "{}",
         "name": "ProductID",
         "type": "\"integer\""
        },
        {
         "metadata": "{}",
         "name": "Product",
         "type": "\"string\""
        },
        {
         "metadata": "{}",
         "name": "Sales",
         "type": "\"integer\""
        },
        {
         "metadata": "{}",
         "name": "ingestionDate",
         "type": "\"timestamp\""
        }
       ],
       "type": "table"
      }
     },
     "output_type": "display_data"
    }
   ],
   "source": [
    "from pyspark.sql.functions import col,lit, current_timestamp\n",
    "\n",
    "salesDF = salesDF.withColumn(\"Sales\", col(\"Sales\").cast(\"integer\"))\n",
    "salesDF = salesDF.withColumn(\"ingestionDate\", current_timestamp())\n",
    "display(salesDF)"
   ]
  },
  {
   "cell_type": "markdown",
   "metadata": {
    "application/vnd.databricks.v1+cell": {
     "cellMetadata": {
      "byteLimit": 2048000,
      "rowLimit": 10000
     },
     "inputWidgets": {},
     "nuid": "169e2b08-d3cb-4b3a-ad09-fe3f6d57e00e",
     "showTitle": false,
     "title": ""
    }
   },
   "source": [
    "#Write DataFrame to Parquet Format"
   ]
  },
  {
   "cell_type": "code",
   "execution_count": 0,
   "metadata": {
    "application/vnd.databricks.v1+cell": {
     "cellMetadata": {
      "byteLimit": 2048000,
      "rowLimit": 10000
     },
     "inputWidgets": {},
     "nuid": "88a80458-f791-47cc-9c25-3f94328497e6",
     "showTitle": false,
     "title": ""
    }
   },
   "outputs": [
    {
     "output_type": "display_data",
     "data": {
      "text/plain": [
       "\u001B[0;31m---------------------------------------------------------------------------\u001B[0m\n",
       "\u001B[0;31mNameError\u001B[0m                                 Traceback (most recent call last)\n",
       "File \u001B[0;32m<command-3773630394137448>:3\u001B[0m\n",
       "\u001B[1;32m      1\u001B[0m parquet_path \u001B[38;5;241m=\u001B[39m \u001B[38;5;124m\"\u001B[39m\u001B[38;5;124m/FileStore/LakeHouse/Sales\u001B[39m\u001B[38;5;124m\"\u001B[39m\n",
       "\u001B[1;32m      2\u001B[0m \u001B[38;5;66;03m#salesDF.write.mode(\"append\").parquet(parquet_path)\u001B[39;00m\n",
       "\u001B[0;32m----> 3\u001B[0m salesDF\u001B[38;5;241m.\u001B[39mwrite\u001B[38;5;241m.\u001B[39mmode(\u001B[38;5;124m\"\u001B[39m\u001B[38;5;124moverwrite\u001B[39m\u001B[38;5;124m\"\u001B[39m)\u001B[38;5;241m.\u001B[39mparquet(parquet_path)\n",
       "\n",
       "\u001B[0;31mNameError\u001B[0m: name 'salesDF' is not defined"
      ]
     },
     "metadata": {
      "application/vnd.databricks.v1+output": {
       "arguments": {},
       "data": "\u001B[0;31m---------------------------------------------------------------------------\u001B[0m\n\u001B[0;31mNameError\u001B[0m                                 Traceback (most recent call last)\nFile \u001B[0;32m<command-3773630394137448>:3\u001B[0m\n\u001B[1;32m      1\u001B[0m parquet_path \u001B[38;5;241m=\u001B[39m \u001B[38;5;124m\"\u001B[39m\u001B[38;5;124m/FileStore/LakeHouse/Sales\u001B[39m\u001B[38;5;124m\"\u001B[39m\n\u001B[1;32m      2\u001B[0m \u001B[38;5;66;03m#salesDF.write.mode(\"append\").parquet(parquet_path)\u001B[39;00m\n\u001B[0;32m----> 3\u001B[0m salesDF\u001B[38;5;241m.\u001B[39mwrite\u001B[38;5;241m.\u001B[39mmode(\u001B[38;5;124m\"\u001B[39m\u001B[38;5;124moverwrite\u001B[39m\u001B[38;5;124m\"\u001B[39m)\u001B[38;5;241m.\u001B[39mparquet(parquet_path)\n\n\u001B[0;31mNameError\u001B[0m: name 'salesDF' is not defined",
       "errorSummary": "<span class='ansi-red-fg'>NameError</span>: name 'salesDF' is not defined",
       "errorTraceType": "ansi",
       "metadata": {},
       "type": "ipynbError"
      }
     },
     "output_type": "display_data"
    }
   ],
   "source": [
    "%python\n",
    "parquet_path = \"/FileStore/LakeHouse/Sales\"\n",
    "#salesDF.write.mode(\"append\").parquet(parquet_path)\n",
    "salesDF.write.mode(\"overwrite\").parquet(parquet_path)"
   ]
  },
  {
   "cell_type": "code",
   "execution_count": 0,
   "metadata": {
    "application/vnd.databricks.v1+cell": {
     "cellMetadata": {
      "byteLimit": 2048000,
      "rowLimit": 10000
     },
     "inputWidgets": {},
     "nuid": "f7ed61d4-7283-48e7-b792-ecd905054477",
     "showTitle": false,
     "title": ""
    }
   },
   "outputs": [
    {
     "output_type": "display_data",
     "data": {
      "text/html": [
       "<style scoped>\n",
       "  .table-result-container {\n",
       "    max-height: 300px;\n",
       "    overflow: auto;\n",
       "  }\n",
       "  table, th, td {\n",
       "    border: 1px solid black;\n",
       "    border-collapse: collapse;\n",
       "  }\n",
       "  th, td {\n",
       "    padding: 5px;\n",
       "  }\n",
       "  th {\n",
       "    text-align: left;\n",
       "  }\n",
       "</style><div class='table-result-container'><table class='table-result'><thead style='background-color: white'><tr><th>path</th><th>name</th><th>size</th><th>modificationTime</th></tr></thead><tbody><tr><td>dbfs:/FileStore/LakeHouse/Sales/_committed_2274677832709507115</td><td>_committed_2274677832709507115</td><td>222</td><td>1689839201000</td></tr><tr><td>dbfs:/FileStore/LakeHouse/Sales/_committed_2341592772876137263</td><td>_committed_2341592772876137263</td><td>222</td><td>1689689648000</td></tr><tr><td>dbfs:/FileStore/LakeHouse/Sales/_committed_6303353588364184694</td><td>_committed_6303353588364184694</td><td>223</td><td>1689690274000</td></tr><tr><td>dbfs:/FileStore/LakeHouse/Sales/_committed_6595619218373784889</td><td>_committed_6595619218373784889</td><td>123</td><td>1689839257000</td></tr><tr><td>dbfs:/FileStore/LakeHouse/Sales/_committed_7477800962496022049</td><td>_committed_7477800962496022049</td><td>331</td><td>1689680332000</td></tr><tr><td>dbfs:/FileStore/LakeHouse/Sales/_started_2274677832709507115</td><td>_started_2274677832709507115</td><td>0</td><td>1689839199000</td></tr><tr><td>dbfs:/FileStore/LakeHouse/Sales/_started_369032418936463276</td><td>_started_369032418936463276</td><td>0</td><td>1689688518000</td></tr><tr><td>dbfs:/FileStore/LakeHouse/Sales/_started_6595619218373784889</td><td>_started_6595619218373784889</td><td>0</td><td>1689839257000</td></tr><tr><td>dbfs:/FileStore/LakeHouse/Sales/part-00000-tid-2274677832709507115-04af446d-be47-459d-959f-c6d077f039d5-13-1-c000.snappy.parquet</td><td>part-00000-tid-2274677832709507115-04af446d-be47-459d-959f-c6d077f039d5-13-1-c000.snappy.parquet</td><td>2316</td><td>1689839201000</td></tr><tr><td>dbfs:/FileStore/LakeHouse/Sales/part-00000-tid-6595619218373784889-46707170-7ede-4f96-b8c9-6430f82d3cbe-16-1-c000.snappy.parquet</td><td>part-00000-tid-6595619218373784889-46707170-7ede-4f96-b8c9-6430f82d3cbe-16-1-c000.snappy.parquet</td><td>2316</td><td>1689839257000</td></tr></tbody></table></div>"
      ]
     },
     "metadata": {
      "application/vnd.databricks.v1+output": {
       "addedWidgets": {},
       "aggData": [],
       "aggError": "",
       "aggOverflow": false,
       "aggSchema": [],
       "aggSeriesLimitReached": false,
       "aggType": "",
       "arguments": {},
       "columnCustomDisplayInfos": {},
       "data": [
        [
         "dbfs:/FileStore/LakeHouse/Sales/_committed_2274677832709507115",
         "_committed_2274677832709507115",
         222,
         1689839201000
        ],
        [
         "dbfs:/FileStore/LakeHouse/Sales/_committed_2341592772876137263",
         "_committed_2341592772876137263",
         222,
         1689689648000
        ],
        [
         "dbfs:/FileStore/LakeHouse/Sales/_committed_6303353588364184694",
         "_committed_6303353588364184694",
         223,
         1689690274000
        ],
        [
         "dbfs:/FileStore/LakeHouse/Sales/_committed_6595619218373784889",
         "_committed_6595619218373784889",
         123,
         1689839257000
        ],
        [
         "dbfs:/FileStore/LakeHouse/Sales/_committed_7477800962496022049",
         "_committed_7477800962496022049",
         331,
         1689680332000
        ],
        [
         "dbfs:/FileStore/LakeHouse/Sales/_started_2274677832709507115",
         "_started_2274677832709507115",
         0,
         1689839199000
        ],
        [
         "dbfs:/FileStore/LakeHouse/Sales/_started_369032418936463276",
         "_started_369032418936463276",
         0,
         1689688518000
        ],
        [
         "dbfs:/FileStore/LakeHouse/Sales/_started_6595619218373784889",
         "_started_6595619218373784889",
         0,
         1689839257000
        ],
        [
         "dbfs:/FileStore/LakeHouse/Sales/part-00000-tid-2274677832709507115-04af446d-be47-459d-959f-c6d077f039d5-13-1-c000.snappy.parquet",
         "part-00000-tid-2274677832709507115-04af446d-be47-459d-959f-c6d077f039d5-13-1-c000.snappy.parquet",
         2316,
         1689839201000
        ],
        [
         "dbfs:/FileStore/LakeHouse/Sales/part-00000-tid-6595619218373784889-46707170-7ede-4f96-b8c9-6430f82d3cbe-16-1-c000.snappy.parquet",
         "part-00000-tid-6595619218373784889-46707170-7ede-4f96-b8c9-6430f82d3cbe-16-1-c000.snappy.parquet",
         2316,
         1689839257000
        ]
       ],
       "datasetInfos": [],
       "dbfsResultPath": null,
       "isJsonSchema": true,
       "metadata": {
        "isDbfsCommandResult": false
       },
       "overflow": false,
       "plotOptions": {
        "customPlotOptions": {},
        "displayType": "table",
        "pivotAggregation": null,
        "pivotColumns": null,
        "xColumns": null,
        "yColumns": null
       },
       "removedWidgets": [],
       "schema": [
        {
         "metadata": "{}",
         "name": "path",
         "type": "\"string\""
        },
        {
         "metadata": "{}",
         "name": "name",
         "type": "\"string\""
        },
        {
         "metadata": "{}",
         "name": "size",
         "type": "\"long\""
        },
        {
         "metadata": "{}",
         "name": "modificationTime",
         "type": "\"long\""
        }
       ],
       "type": "table"
      }
     },
     "output_type": "display_data"
    }
   ],
   "source": [
    "%fs\n",
    "ls dbfs:/FileStore/LakeHouse/Sales"
   ]
  },
  {
   "cell_type": "markdown",
   "metadata": {
    "application/vnd.databricks.v1+cell": {
     "cellMetadata": {
      "byteLimit": 2048000,
      "rowLimit": 10000
     },
     "inputWidgets": {},
     "nuid": "261170c5-45d4-4497-a290-3352c06bddb6",
     "showTitle": false,
     "title": ""
    }
   },
   "source": [
    "# Read parquet File"
   ]
  },
  {
   "cell_type": "code",
   "execution_count": 0,
   "metadata": {
    "application/vnd.databricks.v1+cell": {
     "cellMetadata": {
      "byteLimit": 2048000,
      "rowLimit": 10000
     },
     "inputWidgets": {},
     "nuid": "7df347d1-bc8b-4029-ac94-80251312594e",
     "showTitle": false,
     "title": ""
    }
   },
   "outputs": [
    {
     "output_type": "display_data",
     "data": {
      "text/plain": [
       "\u001B[0;31m---------------------------------------------------------------------------\u001B[0m\n",
       "\u001B[0;31mAnalysisException\u001B[0m                         Traceback (most recent call last)\n",
       "File \u001B[0;32m<command-3313888537580529>:1\u001B[0m\n",
       "\u001B[0;32m----> 1\u001B[0m parquetDF\u001B[38;5;241m=\u001B[39m spark\u001B[38;5;241m.\u001B[39mread\u001B[38;5;241m.\u001B[39mparquet(parquet_path)\n",
       "\u001B[1;32m      2\u001B[0m display(parquetDF)\n",
       "\n",
       "File \u001B[0;32m/databricks/spark/python/pyspark/instrumentation_utils.py:48\u001B[0m, in \u001B[0;36m_wrap_function.<locals>.wrapper\u001B[0;34m(*args, **kwargs)\u001B[0m\n",
       "\u001B[1;32m     46\u001B[0m start \u001B[38;5;241m=\u001B[39m time\u001B[38;5;241m.\u001B[39mperf_counter()\n",
       "\u001B[1;32m     47\u001B[0m \u001B[38;5;28;01mtry\u001B[39;00m:\n",
       "\u001B[0;32m---> 48\u001B[0m     res \u001B[38;5;241m=\u001B[39m \u001B[43mfunc\u001B[49m\u001B[43m(\u001B[49m\u001B[38;5;241;43m*\u001B[39;49m\u001B[43margs\u001B[49m\u001B[43m,\u001B[49m\u001B[43m \u001B[49m\u001B[38;5;241;43m*\u001B[39;49m\u001B[38;5;241;43m*\u001B[39;49m\u001B[43mkwargs\u001B[49m\u001B[43m)\u001B[49m\n",
       "\u001B[1;32m     49\u001B[0m     logger\u001B[38;5;241m.\u001B[39mlog_success(\n",
       "\u001B[1;32m     50\u001B[0m         module_name, class_name, function_name, time\u001B[38;5;241m.\u001B[39mperf_counter() \u001B[38;5;241m-\u001B[39m start, signature\n",
       "\u001B[1;32m     51\u001B[0m     )\n",
       "\u001B[1;32m     52\u001B[0m     \u001B[38;5;28;01mreturn\u001B[39;00m res\n",
       "\n",
       "File \u001B[0;32m/databricks/spark/python/pyspark/sql/readwriter.py:533\u001B[0m, in \u001B[0;36mDataFrameReader.parquet\u001B[0;34m(self, *paths, **options)\u001B[0m\n",
       "\u001B[1;32m    522\u001B[0m int96RebaseMode \u001B[38;5;241m=\u001B[39m options\u001B[38;5;241m.\u001B[39mget(\u001B[38;5;124m\"\u001B[39m\u001B[38;5;124mint96RebaseMode\u001B[39m\u001B[38;5;124m\"\u001B[39m, \u001B[38;5;28;01mNone\u001B[39;00m)\n",
       "\u001B[1;32m    523\u001B[0m \u001B[38;5;28mself\u001B[39m\u001B[38;5;241m.\u001B[39m_set_opts(\n",
       "\u001B[1;32m    524\u001B[0m     mergeSchema\u001B[38;5;241m=\u001B[39mmergeSchema,\n",
       "\u001B[1;32m    525\u001B[0m     pathGlobFilter\u001B[38;5;241m=\u001B[39mpathGlobFilter,\n",
       "\u001B[0;32m   (...)\u001B[0m\n",
       "\u001B[1;32m    530\u001B[0m     int96RebaseMode\u001B[38;5;241m=\u001B[39mint96RebaseMode,\n",
       "\u001B[1;32m    531\u001B[0m )\n",
       "\u001B[0;32m--> 533\u001B[0m \u001B[38;5;28;01mreturn\u001B[39;00m \u001B[38;5;28mself\u001B[39m\u001B[38;5;241m.\u001B[39m_df(\u001B[38;5;28;43mself\u001B[39;49m\u001B[38;5;241;43m.\u001B[39;49m\u001B[43m_jreader\u001B[49m\u001B[38;5;241;43m.\u001B[39;49m\u001B[43mparquet\u001B[49m\u001B[43m(\u001B[49m\u001B[43m_to_seq\u001B[49m\u001B[43m(\u001B[49m\u001B[38;5;28;43mself\u001B[39;49m\u001B[38;5;241;43m.\u001B[39;49m\u001B[43m_spark\u001B[49m\u001B[38;5;241;43m.\u001B[39;49m\u001B[43m_sc\u001B[49m\u001B[43m,\u001B[49m\u001B[43m \u001B[49m\u001B[43mpaths\u001B[49m\u001B[43m)\u001B[49m\u001B[43m)\u001B[49m)\n",
       "\n",
       "File \u001B[0;32m/databricks/spark/python/lib/py4j-0.10.9.5-src.zip/py4j/java_gateway.py:1321\u001B[0m, in \u001B[0;36mJavaMember.__call__\u001B[0;34m(self, *args)\u001B[0m\n",
       "\u001B[1;32m   1315\u001B[0m command \u001B[38;5;241m=\u001B[39m proto\u001B[38;5;241m.\u001B[39mCALL_COMMAND_NAME \u001B[38;5;241m+\u001B[39m\\\n",
       "\u001B[1;32m   1316\u001B[0m     \u001B[38;5;28mself\u001B[39m\u001B[38;5;241m.\u001B[39mcommand_header \u001B[38;5;241m+\u001B[39m\\\n",
       "\u001B[1;32m   1317\u001B[0m     args_command \u001B[38;5;241m+\u001B[39m\\\n",
       "\u001B[1;32m   1318\u001B[0m     proto\u001B[38;5;241m.\u001B[39mEND_COMMAND_PART\n",
       "\u001B[1;32m   1320\u001B[0m answer \u001B[38;5;241m=\u001B[39m \u001B[38;5;28mself\u001B[39m\u001B[38;5;241m.\u001B[39mgateway_client\u001B[38;5;241m.\u001B[39msend_command(command)\n",
       "\u001B[0;32m-> 1321\u001B[0m return_value \u001B[38;5;241m=\u001B[39m \u001B[43mget_return_value\u001B[49m\u001B[43m(\u001B[49m\n",
       "\u001B[1;32m   1322\u001B[0m \u001B[43m    \u001B[49m\u001B[43manswer\u001B[49m\u001B[43m,\u001B[49m\u001B[43m \u001B[49m\u001B[38;5;28;43mself\u001B[39;49m\u001B[38;5;241;43m.\u001B[39;49m\u001B[43mgateway_client\u001B[49m\u001B[43m,\u001B[49m\u001B[43m \u001B[49m\u001B[38;5;28;43mself\u001B[39;49m\u001B[38;5;241;43m.\u001B[39;49m\u001B[43mtarget_id\u001B[49m\u001B[43m,\u001B[49m\u001B[43m \u001B[49m\u001B[38;5;28;43mself\u001B[39;49m\u001B[38;5;241;43m.\u001B[39;49m\u001B[43mname\u001B[49m\u001B[43m)\u001B[49m\n",
       "\u001B[1;32m   1324\u001B[0m \u001B[38;5;28;01mfor\u001B[39;00m temp_arg \u001B[38;5;129;01min\u001B[39;00m temp_args:\n",
       "\u001B[1;32m   1325\u001B[0m     temp_arg\u001B[38;5;241m.\u001B[39m_detach()\n",
       "\n",
       "File \u001B[0;32m/databricks/spark/python/pyspark/errors/exceptions.py:234\u001B[0m, in \u001B[0;36mcapture_sql_exception.<locals>.deco\u001B[0;34m(*a, **kw)\u001B[0m\n",
       "\u001B[1;32m    230\u001B[0m converted \u001B[38;5;241m=\u001B[39m convert_exception(e\u001B[38;5;241m.\u001B[39mjava_exception)\n",
       "\u001B[1;32m    231\u001B[0m \u001B[38;5;28;01mif\u001B[39;00m \u001B[38;5;129;01mnot\u001B[39;00m \u001B[38;5;28misinstance\u001B[39m(converted, UnknownException):\n",
       "\u001B[1;32m    232\u001B[0m     \u001B[38;5;66;03m# Hide where the exception came from that shows a non-Pythonic\u001B[39;00m\n",
       "\u001B[1;32m    233\u001B[0m     \u001B[38;5;66;03m# JVM exception message.\u001B[39;00m\n",
       "\u001B[0;32m--> 234\u001B[0m     \u001B[38;5;28;01mraise\u001B[39;00m converted \u001B[38;5;28;01mfrom\u001B[39;00m \u001B[38;5;28mNone\u001B[39m\n",
       "\u001B[1;32m    235\u001B[0m \u001B[38;5;28;01melse\u001B[39;00m:\n",
       "\u001B[1;32m    236\u001B[0m     \u001B[38;5;28;01mraise\u001B[39;00m\n",
       "\n",
       "\u001B[0;31mAnalysisException\u001B[0m: [PATH_NOT_FOUND] Path does not exist: dbfs:/FileStore/LakeHouse/Sales."
      ]
     },
     "metadata": {
      "application/vnd.databricks.v1+output": {
       "arguments": {},
       "data": "\u001B[0;31m---------------------------------------------------------------------------\u001B[0m\n\u001B[0;31mAnalysisException\u001B[0m                         Traceback (most recent call last)\nFile \u001B[0;32m<command-3313888537580529>:1\u001B[0m\n\u001B[0;32m----> 1\u001B[0m parquetDF\u001B[38;5;241m=\u001B[39m spark\u001B[38;5;241m.\u001B[39mread\u001B[38;5;241m.\u001B[39mparquet(parquet_path)\n\u001B[1;32m      2\u001B[0m display(parquetDF)\n\nFile \u001B[0;32m/databricks/spark/python/pyspark/instrumentation_utils.py:48\u001B[0m, in \u001B[0;36m_wrap_function.<locals>.wrapper\u001B[0;34m(*args, **kwargs)\u001B[0m\n\u001B[1;32m     46\u001B[0m start \u001B[38;5;241m=\u001B[39m time\u001B[38;5;241m.\u001B[39mperf_counter()\n\u001B[1;32m     47\u001B[0m \u001B[38;5;28;01mtry\u001B[39;00m:\n\u001B[0;32m---> 48\u001B[0m     res \u001B[38;5;241m=\u001B[39m \u001B[43mfunc\u001B[49m\u001B[43m(\u001B[49m\u001B[38;5;241;43m*\u001B[39;49m\u001B[43margs\u001B[49m\u001B[43m,\u001B[49m\u001B[43m \u001B[49m\u001B[38;5;241;43m*\u001B[39;49m\u001B[38;5;241;43m*\u001B[39;49m\u001B[43mkwargs\u001B[49m\u001B[43m)\u001B[49m\n\u001B[1;32m     49\u001B[0m     logger\u001B[38;5;241m.\u001B[39mlog_success(\n\u001B[1;32m     50\u001B[0m         module_name, class_name, function_name, time\u001B[38;5;241m.\u001B[39mperf_counter() \u001B[38;5;241m-\u001B[39m start, signature\n\u001B[1;32m     51\u001B[0m     )\n\u001B[1;32m     52\u001B[0m     \u001B[38;5;28;01mreturn\u001B[39;00m res\n\nFile \u001B[0;32m/databricks/spark/python/pyspark/sql/readwriter.py:533\u001B[0m, in \u001B[0;36mDataFrameReader.parquet\u001B[0;34m(self, *paths, **options)\u001B[0m\n\u001B[1;32m    522\u001B[0m int96RebaseMode \u001B[38;5;241m=\u001B[39m options\u001B[38;5;241m.\u001B[39mget(\u001B[38;5;124m\"\u001B[39m\u001B[38;5;124mint96RebaseMode\u001B[39m\u001B[38;5;124m\"\u001B[39m, \u001B[38;5;28;01mNone\u001B[39;00m)\n\u001B[1;32m    523\u001B[0m \u001B[38;5;28mself\u001B[39m\u001B[38;5;241m.\u001B[39m_set_opts(\n\u001B[1;32m    524\u001B[0m     mergeSchema\u001B[38;5;241m=\u001B[39mmergeSchema,\n\u001B[1;32m    525\u001B[0m     pathGlobFilter\u001B[38;5;241m=\u001B[39mpathGlobFilter,\n\u001B[0;32m   (...)\u001B[0m\n\u001B[1;32m    530\u001B[0m     int96RebaseMode\u001B[38;5;241m=\u001B[39mint96RebaseMode,\n\u001B[1;32m    531\u001B[0m )\n\u001B[0;32m--> 533\u001B[0m \u001B[38;5;28;01mreturn\u001B[39;00m \u001B[38;5;28mself\u001B[39m\u001B[38;5;241m.\u001B[39m_df(\u001B[38;5;28;43mself\u001B[39;49m\u001B[38;5;241;43m.\u001B[39;49m\u001B[43m_jreader\u001B[49m\u001B[38;5;241;43m.\u001B[39;49m\u001B[43mparquet\u001B[49m\u001B[43m(\u001B[49m\u001B[43m_to_seq\u001B[49m\u001B[43m(\u001B[49m\u001B[38;5;28;43mself\u001B[39;49m\u001B[38;5;241;43m.\u001B[39;49m\u001B[43m_spark\u001B[49m\u001B[38;5;241;43m.\u001B[39;49m\u001B[43m_sc\u001B[49m\u001B[43m,\u001B[49m\u001B[43m \u001B[49m\u001B[43mpaths\u001B[49m\u001B[43m)\u001B[49m\u001B[43m)\u001B[49m)\n\nFile \u001B[0;32m/databricks/spark/python/lib/py4j-0.10.9.5-src.zip/py4j/java_gateway.py:1321\u001B[0m, in \u001B[0;36mJavaMember.__call__\u001B[0;34m(self, *args)\u001B[0m\n\u001B[1;32m   1315\u001B[0m command \u001B[38;5;241m=\u001B[39m proto\u001B[38;5;241m.\u001B[39mCALL_COMMAND_NAME \u001B[38;5;241m+\u001B[39m\\\n\u001B[1;32m   1316\u001B[0m     \u001B[38;5;28mself\u001B[39m\u001B[38;5;241m.\u001B[39mcommand_header \u001B[38;5;241m+\u001B[39m\\\n\u001B[1;32m   1317\u001B[0m     args_command \u001B[38;5;241m+\u001B[39m\\\n\u001B[1;32m   1318\u001B[0m     proto\u001B[38;5;241m.\u001B[39mEND_COMMAND_PART\n\u001B[1;32m   1320\u001B[0m answer \u001B[38;5;241m=\u001B[39m \u001B[38;5;28mself\u001B[39m\u001B[38;5;241m.\u001B[39mgateway_client\u001B[38;5;241m.\u001B[39msend_command(command)\n\u001B[0;32m-> 1321\u001B[0m return_value \u001B[38;5;241m=\u001B[39m \u001B[43mget_return_value\u001B[49m\u001B[43m(\u001B[49m\n\u001B[1;32m   1322\u001B[0m \u001B[43m    \u001B[49m\u001B[43manswer\u001B[49m\u001B[43m,\u001B[49m\u001B[43m \u001B[49m\u001B[38;5;28;43mself\u001B[39;49m\u001B[38;5;241;43m.\u001B[39;49m\u001B[43mgateway_client\u001B[49m\u001B[43m,\u001B[49m\u001B[43m \u001B[49m\u001B[38;5;28;43mself\u001B[39;49m\u001B[38;5;241;43m.\u001B[39;49m\u001B[43mtarget_id\u001B[49m\u001B[43m,\u001B[49m\u001B[43m \u001B[49m\u001B[38;5;28;43mself\u001B[39;49m\u001B[38;5;241;43m.\u001B[39;49m\u001B[43mname\u001B[49m\u001B[43m)\u001B[49m\n\u001B[1;32m   1324\u001B[0m \u001B[38;5;28;01mfor\u001B[39;00m temp_arg \u001B[38;5;129;01min\u001B[39;00m temp_args:\n\u001B[1;32m   1325\u001B[0m     temp_arg\u001B[38;5;241m.\u001B[39m_detach()\n\nFile \u001B[0;32m/databricks/spark/python/pyspark/errors/exceptions.py:234\u001B[0m, in \u001B[0;36mcapture_sql_exception.<locals>.deco\u001B[0;34m(*a, **kw)\u001B[0m\n\u001B[1;32m    230\u001B[0m converted \u001B[38;5;241m=\u001B[39m convert_exception(e\u001B[38;5;241m.\u001B[39mjava_exception)\n\u001B[1;32m    231\u001B[0m \u001B[38;5;28;01mif\u001B[39;00m \u001B[38;5;129;01mnot\u001B[39;00m \u001B[38;5;28misinstance\u001B[39m(converted, UnknownException):\n\u001B[1;32m    232\u001B[0m     \u001B[38;5;66;03m# Hide where the exception came from that shows a non-Pythonic\u001B[39;00m\n\u001B[1;32m    233\u001B[0m     \u001B[38;5;66;03m# JVM exception message.\u001B[39;00m\n\u001B[0;32m--> 234\u001B[0m     \u001B[38;5;28;01mraise\u001B[39;00m converted \u001B[38;5;28;01mfrom\u001B[39;00m \u001B[38;5;28mNone\u001B[39m\n\u001B[1;32m    235\u001B[0m \u001B[38;5;28;01melse\u001B[39;00m:\n\u001B[1;32m    236\u001B[0m     \u001B[38;5;28;01mraise\u001B[39;00m\n\n\u001B[0;31mAnalysisException\u001B[0m: [PATH_NOT_FOUND] Path does not exist: dbfs:/FileStore/LakeHouse/Sales.",
       "errorSummary": "<span class='ansi-red-fg'>AnalysisException</span>: [PATH_NOT_FOUND] Path does not exist: dbfs:/FileStore/LakeHouse/Sales.",
       "errorTraceType": "ansi",
       "metadata": {},
       "type": "ipynbError"
      }
     },
     "output_type": "display_data"
    }
   ],
   "source": [
    "parquetDF= spark.read.parquet(parquet_path)\n",
    "display(parquetDF)"
   ]
  },
  {
   "cell_type": "markdown",
   "metadata": {
    "application/vnd.databricks.v1+cell": {
     "cellMetadata": {},
     "inputWidgets": {},
     "nuid": "add4206a-e832-4b5c-9f55-df5150072ad8",
     "showTitle": false,
     "title": ""
    }
   },
   "source": [
    "####Narrow Transformation"
   ]
  },
  {
   "cell_type": "code",
   "execution_count": 0,
   "metadata": {
    "application/vnd.databricks.v1+cell": {
     "cellMetadata": {
      "byteLimit": 2048000,
      "rowLimit": 10000
     },
     "inputWidgets": {},
     "nuid": "d36116ac-9f2f-486d-a35c-327acc275c75",
     "showTitle": false,
     "title": ""
    }
   },
   "outputs": [
    {
     "output_type": "display_data",
     "data": {
      "text/html": [
       "<style scoped>\n",
       "  .table-result-container {\n",
       "    max-height: 300px;\n",
       "    overflow: auto;\n",
       "  }\n",
       "  table, th, td {\n",
       "    border: 1px solid black;\n",
       "    border-collapse: collapse;\n",
       "  }\n",
       "  th, td {\n",
       "    padding: 5px;\n",
       "  }\n",
       "  th {\n",
       "    text-align: left;\n",
       "  }\n",
       "</style><div class='table-result-container'><table class='table-result'><thead style='background-color: white'><tr><th>date</th><th>SalesPerson</th><th>SalesID</th><th>ProductID</th><th>Product</th><th>Sales</th><th>ingestionDate</th></tr></thead><tbody><tr><td>05/01/2023</td><td>Amber</td><td>3</td><td>2</td><td>Mortgage</td><td>17429</td><td>2023-07-21T07:15:23.307+0000</td></tr><tr><td>24/02/2023</td><td>Chantal</td><td>4</td><td>2</td><td>Mortgage</td><td>11978</td><td>2023-07-21T07:15:23.307+0000</td></tr><tr><td>24/03/2023</td><td>Jeroen</td><td>5</td><td>2</td><td>Mortgage</td><td>25902</td><td>2023-07-21T07:15:23.307+0000</td></tr><tr><td>16/03/2023</td><td>Amber</td><td>3</td><td>2</td><td>Mortgage</td><td>2452</td><td>2023-07-21T07:15:23.307+0000</td></tr><tr><td>05/02/2023</td><td>Amber</td><td>3</td><td>2</td><td>Mortgage</td><td>11129</td><td>2023-07-21T07:15:23.307+0000</td></tr><tr><td>12/03/2023</td><td>Taylor</td><td>14</td><td>2</td><td>Mortgage</td><td>14028</td><td>2023-07-21T07:15:23.307+0000</td></tr><tr><td>12/02/2023</td><td>Taylor</td><td>14</td><td>2</td><td>Mortgage</td><td>19078</td><td>2023-07-21T07:15:23.307+0000</td></tr></tbody></table></div>"
      ]
     },
     "metadata": {
      "application/vnd.databricks.v1+output": {
       "addedWidgets": {},
       "aggData": [],
       "aggError": "",
       "aggOverflow": false,
       "aggSchema": [],
       "aggSeriesLimitReached": false,
       "aggType": "",
       "arguments": {},
       "columnCustomDisplayInfos": {},
       "data": [
        [
         "05/01/2023",
         "Amber",
         3,
         2,
         "Mortgage",
         17429,
         "2023-07-21T07:15:23.307+0000"
        ],
        [
         "24/02/2023",
         "Chantal",
         4,
         2,
         "Mortgage",
         11978,
         "2023-07-21T07:15:23.307+0000"
        ],
        [
         "24/03/2023",
         "Jeroen",
         5,
         2,
         "Mortgage",
         25902,
         "2023-07-21T07:15:23.307+0000"
        ],
        [
         "16/03/2023",
         "Amber",
         3,
         2,
         "Mortgage",
         2452,
         "2023-07-21T07:15:23.307+0000"
        ],
        [
         "05/02/2023",
         "Amber",
         3,
         2,
         "Mortgage",
         11129,
         "2023-07-21T07:15:23.307+0000"
        ],
        [
         "12/03/2023",
         "Taylor",
         14,
         2,
         "Mortgage",
         14028,
         "2023-07-21T07:15:23.307+0000"
        ],
        [
         "12/02/2023",
         "Taylor",
         14,
         2,
         "Mortgage",
         19078,
         "2023-07-21T07:15:23.307+0000"
        ]
       ],
       "datasetInfos": [],
       "dbfsResultPath": null,
       "isJsonSchema": true,
       "metadata": {},
       "overflow": false,
       "plotOptions": {
        "customPlotOptions": {},
        "displayType": "table",
        "pivotAggregation": null,
        "pivotColumns": null,
        "xColumns": null,
        "yColumns": null
       },
       "removedWidgets": [],
       "schema": [
        {
         "metadata": "{}",
         "name": "date",
         "type": "\"string\""
        },
        {
         "metadata": "{}",
         "name": "SalesPerson",
         "type": "\"string\""
        },
        {
         "metadata": "{}",
         "name": "SalesID",
         "type": "\"integer\""
        },
        {
         "metadata": "{}",
         "name": "ProductID",
         "type": "\"integer\""
        },
        {
         "metadata": "{}",
         "name": "Product",
         "type": "\"string\""
        },
        {
         "metadata": "{}",
         "name": "Sales",
         "type": "\"integer\""
        },
        {
         "metadata": "{}",
         "name": "ingestionDate",
         "type": "\"timestamp\""
        }
       ],
       "type": "table"
      }
     },
     "output_type": "display_data"
    }
   ],
   "source": [
    "from pyspark.sql.functions import filter,col\n",
    "\n",
    "#saleFilterDF = salesDF.filter(\"Product ='Mortgage'\")\n",
    "\n",
    "#saleFilterDF = salesDF.filter(col('Product')=='Mortgage')\n",
    "\n",
    "#saleFilterDF = salesDF.where(\"Product ='Mortgage'\")\n",
    "\n",
    "#saleFilterDF = salesDF.where(col('Product')=='Mortgage')\n",
    "\n",
    "display(saleFilterDF)"
   ]
  },
  {
   "cell_type": "markdown",
   "metadata": {
    "application/vnd.databricks.v1+cell": {
     "cellMetadata": {},
     "inputWidgets": {},
     "nuid": "6ad5d98c-73a2-434b-b552-ac7c44835687",
     "showTitle": false,
     "title": ""
    }
   },
   "source": [
    "#### Wide Transformation"
   ]
  },
  {
   "cell_type": "code",
   "execution_count": 0,
   "metadata": {
    "application/vnd.databricks.v1+cell": {
     "cellMetadata": {
      "byteLimit": 2048000,
      "rowLimit": 10000
     },
     "inputWidgets": {},
     "nuid": "683639cf-e629-4b93-84fd-328fd8792a4d",
     "showTitle": false,
     "title": ""
    }
   },
   "outputs": [
    {
     "output_type": "stream",
     "name": "stdout",
     "output_type": "stream",
     "text": [
      "Unexpected exception formatting exception. Falling back to standard exception\n"
     ]
    },
    {
     "output_type": "stream",
     "name": "stderr",
     "output_type": "stream",
     "text": [
      "Traceback (most recent call last):\n  File \"/databricks/python/lib/python3.9/site-packages/IPython/core/interactiveshell.py\", line 3378, in run_code\n    exec(code_obj, self.user_global_ns, self.user_ns)\n  File \"<command-1050553210641014>\", line 13, in <module>\n    display(salesGroupDF.min('Sales').max(\"Sales\").select(\"Product\", col(\"min(Sales)\").alias(\"min_sales\")))\n  File \"/databricks/spark/python/pyspark/instrumentation_utils.py\", line 48, in wrapper\n    res = func(*args, **kwargs)\n  File \"/databricks/spark/python/pyspark/sql/dataframe.py\", line 2964, in __getattr__\n    raise AttributeError(\nAttributeError: 'DataFrame' object has no attribute 'max'\n\nDuring handling of the above exception, another exception occurred:\n\nTraceback (most recent call last):\n  File \"/databricks/python/lib/python3.9/site-packages/IPython/core/interactiveshell.py\", line 1997, in showtraceback\n    stb = self.InteractiveTB.structured_traceback(\n  File \"/databricks/python/lib/python3.9/site-packages/IPython/core/ultratb.py\", line 1112, in structured_traceback\n    return FormattedTB.structured_traceback(\n  File \"/databricks/python/lib/python3.9/site-packages/IPython/core/ultratb.py\", line 1006, in structured_traceback\n    return VerboseTB.structured_traceback(\n  File \"/databricks/python/lib/python3.9/site-packages/IPython/core/ultratb.py\", line 859, in structured_traceback\n    formatted_exception = self.format_exception_as_a_whole(etype, evalue, etb, number_of_lines_of_context,\n  File \"/databricks/python/lib/python3.9/site-packages/IPython/core/ultratb.py\", line 812, in format_exception_as_a_whole\n    frames.append(self.format_record(r))\n  File \"/databricks/python/lib/python3.9/site-packages/IPython/core/ultratb.py\", line 730, in format_record\n    result += ''.join(_format_traceback_lines(frame_info.lines, Colors, self.has_colors, lvals))\n  File \"/databricks/python/lib/python3.9/site-packages/stack_data/utils.py\", line 145, in cached_property_wrapper\n    value = obj.__dict__[self.func.__name__] = self.func(obj)\n  File \"/databricks/python/lib/python3.9/site-packages/stack_data/core.py\", line 698, in lines\n    pieces = self.included_pieces\n  File \"/databricks/python/lib/python3.9/site-packages/stack_data/utils.py\", line 145, in cached_property_wrapper\n    value = obj.__dict__[self.func.__name__] = self.func(obj)\n  File \"/databricks/python/lib/python3.9/site-packages/stack_data/core.py\", line 649, in included_pieces\n    pos = scope_pieces.index(self.executing_piece)\n  File \"/databricks/python/lib/python3.9/site-packages/stack_data/utils.py\", line 145, in cached_property_wrapper\n    value = obj.__dict__[self.func.__name__] = self.func(obj)\n  File \"/databricks/python/lib/python3.9/site-packages/stack_data/core.py\", line 628, in executing_piece\n    return only(\n  File \"/databricks/python/lib/python3.9/site-packages/executing/executing.py\", line 164, in only\n    raise NotOneValueFound('Expected one value, found 0')\nexecuting.executing.NotOneValueFound: Expected one value, found 0\n"
     ]
    },
    {
     "output_type": "display_data",
     "data": {
      "text/plain": [
       ""
      ]
     },
     "metadata": {
      "application/vnd.databricks.v1+output": {
       "arguments": {},
       "data": "",
       "errorSummary": "<span class='ansi-red-fg'>AttributeError</span>: 'DataFrame' object has no attribute 'max'",
       "errorTraceType": "ansi",
       "metadata": {},
       "type": "ipynbError"
      }
     },
     "output_type": "display_data"
    }
   ],
   "source": [
    "from pyspark.sql.functions import col,min,max\n",
    "\n",
    "salesGroupDF = salesDF.groupBy(col(\"Product\"))\n",
    "\n",
    "#display(salesGroupDF.count())\n",
    "\n",
    "#display(salesGroupDF.min('Sales').alias(\"MinSales\"))\n",
    "\n",
    "\n",
    "#display(salesGroupDF.min('Sales').withColumnRenamed(\"min(Sales)\", \"Sales\"))\n",
    "\n",
    "#display(salesGroupDF.min('Sales').select(\"Product\", col(\"min(Sales)\").alias(\"min_sales\")))\n"
   ]
  },
  {
   "cell_type": "code",
   "execution_count": 0,
   "metadata": {
    "application/vnd.databricks.v1+cell": {
     "cellMetadata": {
      "byteLimit": 2048000,
      "rowLimit": 10000
     },
     "inputWidgets": {},
     "nuid": "8a2b08d6-24c1-4d59-b439-19fb8ba735a5",
     "showTitle": false,
     "title": ""
    }
   },
   "outputs": [
    {
     "output_type": "stream",
     "name": "stdout",
     "output_type": "stream",
     "text": [
      "+----------------+---------+------------------+---------+-------+\n|Product         |sum_sales|avg_sales         |min_sales|max_max|\n+----------------+---------+------------------+---------+-------+\n|Car insurance   |7170     |3585.0            |1235     |5935   |\n|Mortgage        |101996   |14570.857142857143|2452     |25902  |\n|Health insurance|24055    |24055.0           |24055    |24055  |\n| Car insurance  |97359    |24339.75          |21507    |29577  |\n+----------------+---------+------------------+---------+-------+\n\n"
     ]
    }
   ],
   "source": [
    "from pyspark.sql.functions import sum,avg,max,min\n",
    "salesDF.groupBy(\"Product\") \\\n",
    "    .agg(sum(\"Sales\").alias(\"sum_sales\"), \\\n",
    "         avg(\"Sales\").alias(\"avg_sales\"), \\\n",
    "         min(\"Sales\").alias(\"min_sales\"), \\\n",
    "         max(\"Sales\").alias(\"max_max\") \\\n",
    "     ) \\\n",
    "    .show(truncate=False)"
   ]
  },
  {
   "cell_type": "code",
   "execution_count": 0,
   "metadata": {
    "application/vnd.databricks.v1+cell": {
     "cellMetadata": {
      "byteLimit": 2048000,
      "rowLimit": 10000
     },
     "inputWidgets": {},
     "nuid": "9650d1a8-6354-4215-a7a7-85e5484afc7d",
     "showTitle": false,
     "title": ""
    }
   },
   "outputs": [
    {
     "output_type": "stream",
     "name": "stdout",
     "output_type": "stream",
     "text": [
      "+----------------+---------+\n|         Product|sum_Sales|\n+----------------+---------+\n|   Car insurance|     7170|\n|        Mortgage|   101996|\n|Health insurance|    24055|\n|   Car insurance|    97359|\n+----------------+---------+\n\n"
     ]
    }
   ],
   "source": [
    "salesDF.createOrReplaceTempView(\"SaleTempView\")\n",
    "\n",
    "spark.sql(\"select Product, sum(Sales) as sum_Sales from SaleTempView group by Product\").show()"
   ]
  },
  {
   "cell_type": "markdown",
   "metadata": {
    "application/vnd.databricks.v1+cell": {
     "cellMetadata": {},
     "inputWidgets": {},
     "nuid": "407f3808-51ba-4c2b-ab6a-a640fcbf028b",
     "showTitle": false,
     "title": ""
    }
   },
   "source": [
    "#### Window Function"
   ]
  },
  {
   "cell_type": "code",
   "execution_count": 0,
   "metadata": {
    "application/vnd.databricks.v1+cell": {
     "cellMetadata": {
      "byteLimit": 2048000,
      "rowLimit": 10000
     },
     "inputWidgets": {},
     "nuid": "717bbbbd-98e3-4c21-9a6a-035d6c64587c",
     "showTitle": false,
     "title": ""
    }
   },
   "outputs": [
    {
     "output_type": "stream",
     "name": "stdout",
     "output_type": "stream",
     "text": [
      "+----------+-----------+-------+---------+----------------+-----+-----------------------+----------+\n|date      |SalesPerson|SalesID|ProductID|Product         |Sales|ingestionDate          |row_number|\n+----------+-----------+-------+---------+----------------+-----+-----------------------+----------+\n|08/05/2023|Tara       |8      |3        | Car insurance  |21507|2023-07-21 07:34:33.787|1         |\n|22/05/2023|Sarah      |4      |3        | Car insurance  |23012|2023-07-21 07:34:33.787|2         |\n|22/03/2023|Sarah      |4      |3        | Car insurance  |23263|2023-07-21 07:34:33.787|3         |\n|08/03/2023|Tara       |8      |3        | Car insurance  |29577|2023-07-21 07:34:33.787|4         |\n|02/03/2023|Eric       |10     |3        |Car insurance   |1235 |2023-07-21 07:34:33.787|1         |\n|02/05/2023|Eric       |10     |3        |Car insurance   |5935 |2023-07-21 07:34:33.787|2         |\n|17/05/2023|Natalia    |9      |4        |Health insurance|24055|2023-07-21 07:34:33.787|1         |\n|16/03/2023|Amber      |3      |2        |Mortgage        |2452 |2023-07-21 07:34:33.787|1         |\n|05/02/2023|Amber      |3      |2        |Mortgage        |11129|2023-07-21 07:34:33.787|2         |\n|24/02/2023|Chantal    |4      |2        |Mortgage        |11978|2023-07-21 07:34:33.787|3         |\n|12/03/2023|Taylor     |14     |2        |Mortgage        |14028|2023-07-21 07:34:33.787|4         |\n|05/01/2023|Amber      |3      |2        |Mortgage        |17429|2023-07-21 07:34:33.787|5         |\n|12/02/2023|Taylor     |14     |2        |Mortgage        |19078|2023-07-21 07:34:33.787|6         |\n|24/03/2023|Jeroen     |5      |2        |Mortgage        |25902|2023-07-21 07:34:33.787|7         |\n+----------+-----------+-------+---------+----------------+-----+-----------------------+----------+\n\n"
     ]
    }
   ],
   "source": [
    "from pyspark.sql.window import Window\n",
    "from pyspark.sql.functions import row_number\n",
    "\n",
    "windowSpec  = Window.partitionBy(\"Product\").orderBy(\"Sales\")\n",
    "\n",
    "salesDF.withColumn(\"row_number\",row_number().over(windowSpec)).show(truncate=False)"
   ]
  },
  {
   "cell_type": "code",
   "execution_count": 0,
   "metadata": {
    "application/vnd.databricks.v1+cell": {
     "cellMetadata": {
      "byteLimit": 2048000,
      "rowLimit": 10000
     },
     "inputWidgets": {},
     "nuid": "34cd380c-8f94-4900-8fbe-20dbebd4c124",
     "showTitle": false,
     "title": ""
    }
   },
   "outputs": [
    {
     "output_type": "stream",
     "name": "stdout",
     "output_type": "stream",
     "text": [
      "+----------+-----------+-------+---------+----------------+-----+--------------------+----+\n|      date|SalesPerson|SalesID|ProductID|         Product|Sales|       ingestionDate|rank|\n+----------+-----------+-------+---------+----------------+-----+--------------------+----+\n|08/05/2023|       Tara|      8|        3|   Car insurance|21507|2023-07-21 06:54:...|   1|\n|22/05/2023|      Sarah|      4|        3|   Car insurance|23012|2023-07-21 06:54:...|   2|\n|22/03/2023|      Sarah|      4|        3|   Car insurance|23263|2023-07-21 06:54:...|   3|\n|08/03/2023|       Tara|      8|        3|   Car insurance|29577|2023-07-21 06:54:...|   4|\n|02/03/2023|       Eric|     10|        3|   Car insurance| 1235|2023-07-21 06:54:...|   1|\n|02/05/2023|       Eric|     10|        3|   Car insurance| 5935|2023-07-21 06:54:...|   2|\n|17/05/2023|    Natalia|      9|        4|Health insurance|24055|2023-07-21 06:54:...|   1|\n|16/03/2023|      Amber|      3|        2|        Mortgage| 2452|2023-07-21 06:54:...|   1|\n|05/02/2023|      Amber|      3|        2|        Mortgage|11129|2023-07-21 06:54:...|   2|\n|24/02/2023|    Chantal|      4|        2|        Mortgage|11978|2023-07-21 06:54:...|   3|\n|12/03/2023|     Taylor|     14|        2|        Mortgage|14028|2023-07-21 06:54:...|   4|\n|05/01/2023|      Amber|      3|        2|        Mortgage|17429|2023-07-21 06:54:...|   5|\n|12/02/2023|     Taylor|     14|        2|        Mortgage|19078|2023-07-21 06:54:...|   6|\n|24/03/2023|     Jeroen|      5|        2|        Mortgage|25902|2023-07-21 06:54:...|   7|\n+----------+-----------+-------+---------+----------------+-----+--------------------+----+\n\n"
     ]
    }
   ],
   "source": [
    "from pyspark.sql.functions import rank\n",
    "salesDF.withColumn(\"rank\",rank().over(windowSpec)).show()"
   ]
  },
  {
   "cell_type": "markdown",
   "metadata": {
    "application/vnd.databricks.v1+cell": {
     "cellMetadata": {},
     "inputWidgets": {},
     "nuid": "891af376-33e7-494e-8194-35f2b56b20e8",
     "showTitle": false,
     "title": ""
    }
   },
   "source": [
    "#### JOIN"
   ]
  },
  {
   "cell_type": "markdown",
   "metadata": {
    "application/vnd.databricks.v1+cell": {
     "cellMetadata": {
      "byteLimit": 2048000,
      "rowLimit": 10000
     },
     "inputWidgets": {},
     "nuid": "191c95dd-31cd-40d0-be89-fec759e8818b",
     "showTitle": false,
     "title": ""
    }
   },
   "source": [
    "### Write dataframe to managed Table###"
   ]
  },
  {
   "cell_type": "code",
   "execution_count": 0,
   "metadata": {
    "application/vnd.databricks.v1+cell": {
     "cellMetadata": {
      "byteLimit": 2048000,
      "rowLimit": 10000
     },
     "inputWidgets": {},
     "nuid": "b55b2a4a-36fa-4365-8ee2-3d9adc80bfa6",
     "showTitle": false,
     "title": ""
    }
   },
   "outputs": [
    {
     "output_type": "display_data",
     "data": {
      "text/html": [
       "<style scoped>\n",
       "  .table-result-container {\n",
       "    max-height: 300px;\n",
       "    overflow: auto;\n",
       "  }\n",
       "  table, th, td {\n",
       "    border: 1px solid black;\n",
       "    border-collapse: collapse;\n",
       "  }\n",
       "  th, td {\n",
       "    padding: 5px;\n",
       "  }\n",
       "  th {\n",
       "    text-align: left;\n",
       "  }\n",
       "</style><div class='table-result-container'><table class='table-result'><thead style='background-color: white'><tr><th>path</th><th>name</th><th>size</th><th>modificationTime</th></tr></thead><tbody><tr><td>dbfs:/user/hive/warehouse/salesmanage222/</td><td>salesmanage222/</td><td>0</td><td>0</td></tr></tbody></table></div>"
      ]
     },
     "metadata": {
      "application/vnd.databricks.v1+output": {
       "addedWidgets": {},
       "aggData": [],
       "aggError": "",
       "aggOverflow": false,
       "aggSchema": [],
       "aggSeriesLimitReached": false,
       "aggType": "",
       "arguments": {},
       "columnCustomDisplayInfos": {},
       "data": [
        [
         "dbfs:/user/hive/warehouse/salesmanage222/",
         "salesmanage222/",
         0,
         0
        ]
       ],
       "datasetInfos": [],
       "dbfsResultPath": null,
       "isJsonSchema": true,
       "metadata": {
        "isDbfsCommandResult": false
       },
       "overflow": false,
       "plotOptions": {
        "customPlotOptions": {},
        "displayType": "table",
        "pivotAggregation": null,
        "pivotColumns": null,
        "xColumns": null,
        "yColumns": null
       },
       "removedWidgets": [],
       "schema": [
        {
         "metadata": "{}",
         "name": "path",
         "type": "\"string\""
        },
        {
         "metadata": "{}",
         "name": "name",
         "type": "\"string\""
        },
        {
         "metadata": "{}",
         "name": "size",
         "type": "\"long\""
        },
        {
         "metadata": "{}",
         "name": "modificationTime",
         "type": "\"long\""
        }
       ],
       "type": "table"
      }
     },
     "output_type": "display_data"
    }
   ],
   "source": [
    "%fs\n",
    "ls dbfs:/user/hive/warehouse/"
   ]
  },
  {
   "cell_type": "markdown",
   "metadata": {
    "application/vnd.databricks.v1+cell": {
     "cellMetadata": {},
     "inputWidgets": {},
     "nuid": "8743d7e2-bb35-4fce-9c1c-ae893a810f5e",
     "showTitle": false,
     "title": ""
    }
   },
   "source": [
    "##### delete folder"
   ]
  },
  {
   "cell_type": "code",
   "execution_count": 0,
   "metadata": {
    "application/vnd.databricks.v1+cell": {
     "cellMetadata": {
      "byteLimit": 2048000,
      "rowLimit": 10000
     },
     "inputWidgets": {},
     "nuid": "6ddef65c-3dcc-4aa9-a0df-5b56aa18ae09",
     "showTitle": false,
     "title": ""
    }
   },
   "outputs": [
    {
     "output_type": "display_data",
     "data": {
      "text/html": [
       "<style scoped>\n",
       "  .ansiout {\n",
       "    display: block;\n",
       "    unicode-bidi: embed;\n",
       "    white-space: pre-wrap;\n",
       "    word-wrap: break-word;\n",
       "    word-break: break-all;\n",
       "    font-family: \"Source Code Pro\", \"Menlo\", monospace;;\n",
       "    font-size: 13px;\n",
       "    color: #555;\n",
       "    margin-left: 4px;\n",
       "    line-height: 19px;\n",
       "  }\n",
       "</style>\n",
       "<div class=\"ansiout\">res39: Boolean = true\n",
       "</div>"
      ]
     },
     "metadata": {
      "application/vnd.databricks.v1+output": {
       "addedWidgets": {},
       "arguments": {},
       "data": "<div class=\"ansiout\">res39: Boolean = true\n</div>",
       "datasetInfos": [],
       "metadata": {
        "isDbfsCommandResult": false
       },
       "removedWidgets": [],
       "type": "html"
      }
     },
     "output_type": "display_data"
    }
   ],
   "source": [
    "\n",
    "%fs \n",
    "rm -r dbfs:/user/hive/warehouse/"
   ]
  },
  {
   "cell_type": "code",
   "execution_count": 0,
   "metadata": {
    "application/vnd.databricks.v1+cell": {
     "cellMetadata": {},
     "inputWidgets": {},
     "nuid": "8511fb70-cc5b-430d-befe-2010c2563647",
     "showTitle": false,
     "title": ""
    }
   },
   "outputs": [],
   "source": []
  },
  {
   "cell_type": "code",
   "execution_count": 0,
   "metadata": {
    "application/vnd.databricks.v1+cell": {
     "cellMetadata": {
      "byteLimit": 2048000,
      "rowLimit": 10000
     },
     "inputWidgets": {},
     "nuid": "eca942d4-b27f-4a4c-ac48-af57f7544b9c",
     "showTitle": false,
     "title": ""
    }
   },
   "outputs": [],
   "source": [
    "parquetDF.write\\\n",
    ".format(\"parquet\")\\\n",
    ".mode(\"overwrite\")\\\n",
    ".option(\"overwriteSchema\", \"true\")\\\n",
    ".option(\"mergeSchema\", \"true\")\\\n",
    ".saveAsTable(\"SalesManage\")"
   ]
  },
  {
   "cell_type": "code",
   "execution_count": 0,
   "metadata": {
    "application/vnd.databricks.v1+cell": {
     "cellMetadata": {
      "byteLimit": 2048000,
      "rowLimit": 10000
     },
     "inputWidgets": {},
     "nuid": "011c03fa-92ef-462f-b080-6f3108969216",
     "showTitle": false,
     "title": ""
    }
   },
   "outputs": [
    {
     "output_type": "display_data",
     "data": {
      "text/html": [
       "<style scoped>\n",
       "  .table-result-container {\n",
       "    max-height: 300px;\n",
       "    overflow: auto;\n",
       "  }\n",
       "  table, th, td {\n",
       "    border: 1px solid black;\n",
       "    border-collapse: collapse;\n",
       "  }\n",
       "  th, td {\n",
       "    padding: 5px;\n",
       "  }\n",
       "  th {\n",
       "    text-align: left;\n",
       "  }\n",
       "</style><div class='table-result-container'><table class='table-result'><thead style='background-color: white'><tr><th>Date</th><th> SalesPerson</th><th>SalesID</th><th> ProductID</th><th>Product</th><th>Sales</th><th>ingestionDate</th></tr></thead><tbody><tr><td>05/01/2023</td><td>Amber</td><td>3</td><td>2</td><td>Mortgage</td><td>17429</td><td>2023-07-18T14:24:32.348+0000</td></tr><tr><td>24/02/2023</td><td>Chantal</td><td>4</td><td>2</td><td>Mortgage</td><td>11978</td><td>2023-07-18T14:24:32.348+0000</td></tr><tr><td>17/05/2023</td><td>Natalia</td><td>9</td><td>4</td><td>Health insurance</td><td>24055</td><td>2023-07-18T14:24:32.348+0000</td></tr><tr><td>02/05/2023</td><td>Eric</td><td>10</td><td>3</td><td>Car insurance</td><td>5935</td><td>2023-07-18T14:24:32.348+0000</td></tr><tr><td>24/03/2023</td><td>Jeroen</td><td>5</td><td>2</td><td>Mortgage</td><td>25902</td><td>2023-07-18T14:24:32.348+0000</td></tr><tr><td>02/03/2023</td><td>Eric</td><td>10</td><td>3</td><td>Car insurance</td><td>1235</td><td>2023-07-18T14:24:32.348+0000</td></tr><tr><td>16/03/2023</td><td>Amber</td><td>3</td><td>2</td><td>Mortgage</td><td>2452</td><td>2023-07-18T14:24:32.348+0000</td></tr><tr><td>05/02/2023</td><td>Amber</td><td>3</td><td>2</td><td>Mortgage</td><td>11129</td><td>2023-07-18T14:24:32.348+0000</td></tr><tr><td>12/03/2023</td><td>Taylor</td><td>14</td><td>2</td><td>Mortgage</td><td>14028</td><td>2023-07-18T14:24:32.348+0000</td></tr><tr><td>22/03/2023</td><td>Sarah</td><td>4</td><td>3</td><td> Car insurance</td><td>23263</td><td>2023-07-18T14:24:32.348+0000</td></tr><tr><td>08/03/2023</td><td>Tara</td><td>8</td><td>3</td><td> Car insurance</td><td>29577</td><td>2023-07-18T14:24:32.348+0000</td></tr><tr><td>12/02/2023</td><td>Taylor</td><td>14</td><td>2</td><td>Mortgage</td><td>19078</td><td>2023-07-18T14:24:32.348+0000</td></tr><tr><td>22/05/2023</td><td>Sarah</td><td>4</td><td>3</td><td> Car insurance</td><td>23012</td><td>2023-07-18T14:24:32.348+0000</td></tr><tr><td>08/05/2023</td><td>Tara</td><td>8</td><td>3</td><td> Car insurance</td><td>21507</td><td>2023-07-18T14:24:32.348+0000</td></tr></tbody></table></div>"
      ]
     },
     "metadata": {
      "application/vnd.databricks.v1+output": {
       "addedWidgets": {},
       "aggData": [],
       "aggError": "",
       "aggOverflow": false,
       "aggSchema": [],
       "aggSeriesLimitReached": false,
       "aggType": "",
       "arguments": {},
       "columnCustomDisplayInfos": {},
       "data": [
        [
         "05/01/2023",
         "Amber",
         "3",
         "2",
         "Mortgage",
         17429,
         "2023-07-18T14:24:32.348+0000"
        ],
        [
         "24/02/2023",
         "Chantal",
         "4",
         "2",
         "Mortgage",
         11978,
         "2023-07-18T14:24:32.348+0000"
        ],
        [
         "17/05/2023",
         "Natalia",
         "9",
         "4",
         "Health insurance",
         24055,
         "2023-07-18T14:24:32.348+0000"
        ],
        [
         "02/05/2023",
         "Eric",
         "10",
         "3",
         "Car insurance",
         5935,
         "2023-07-18T14:24:32.348+0000"
        ],
        [
         "24/03/2023",
         "Jeroen",
         "5",
         "2",
         "Mortgage",
         25902,
         "2023-07-18T14:24:32.348+0000"
        ],
        [
         "02/03/2023",
         "Eric",
         "10",
         "3",
         "Car insurance",
         1235,
         "2023-07-18T14:24:32.348+0000"
        ],
        [
         "16/03/2023",
         "Amber",
         "3",
         "2",
         "Mortgage",
         2452,
         "2023-07-18T14:24:32.348+0000"
        ],
        [
         "05/02/2023",
         "Amber",
         "3",
         "2",
         "Mortgage",
         11129,
         "2023-07-18T14:24:32.348+0000"
        ],
        [
         "12/03/2023",
         "Taylor",
         "14",
         "2",
         "Mortgage",
         14028,
         "2023-07-18T14:24:32.348+0000"
        ],
        [
         "22/03/2023",
         "Sarah",
         "4",
         "3",
         " Car insurance",
         23263,
         "2023-07-18T14:24:32.348+0000"
        ],
        [
         "08/03/2023",
         "Tara",
         "8",
         "3",
         " Car insurance",
         29577,
         "2023-07-18T14:24:32.348+0000"
        ],
        [
         "12/02/2023",
         "Taylor",
         "14",
         "2",
         "Mortgage",
         19078,
         "2023-07-18T14:24:32.348+0000"
        ],
        [
         "22/05/2023",
         "Sarah",
         "4",
         "3",
         " Car insurance",
         23012,
         "2023-07-18T14:24:32.348+0000"
        ],
        [
         "08/05/2023",
         "Tara",
         "8",
         "3",
         " Car insurance",
         21507,
         "2023-07-18T14:24:32.348+0000"
        ]
       ],
       "datasetInfos": [],
       "dbfsResultPath": null,
       "isJsonSchema": true,
       "metadata": {},
       "overflow": false,
       "plotOptions": {
        "customPlotOptions": {},
        "displayType": "table",
        "pivotAggregation": null,
        "pivotColumns": null,
        "xColumns": null,
        "yColumns": null
       },
       "removedWidgets": [],
       "schema": [
        {
         "metadata": "{}",
         "name": "Date",
         "type": "\"string\""
        },
        {
         "metadata": "{}",
         "name": " SalesPerson",
         "type": "\"string\""
        },
        {
         "metadata": "{}",
         "name": "SalesID",
         "type": "\"string\""
        },
        {
         "metadata": "{}",
         "name": " ProductID",
         "type": "\"string\""
        },
        {
         "metadata": "{}",
         "name": "Product",
         "type": "\"string\""
        },
        {
         "metadata": "{}",
         "name": "Sales",
         "type": "\"integer\""
        },
        {
         "metadata": "{}",
         "name": "ingestionDate",
         "type": "\"timestamp\""
        }
       ],
       "type": "table"
      }
     },
     "output_type": "display_data"
    }
   ],
   "source": [
    "saleTable = spark.table(\"SalesManage\")\n",
    "display(saleTable)"
   ]
  },
  {
   "cell_type": "code",
   "execution_count": 0,
   "metadata": {
    "application/vnd.databricks.v1+cell": {
     "cellMetadata": {
      "byteLimit": 2048000,
      "implicitDf": true,
      "rowLimit": 10000
     },
     "inputWidgets": {},
     "nuid": "5ffb7ed5-a889-4fe8-8171-9a62bada6978",
     "showTitle": false,
     "title": ""
    }
   },
   "outputs": [
    {
     "output_type": "display_data",
     "data": {
      "text/html": [
       "<style scoped>\n",
       "  .table-result-container {\n",
       "    max-height: 300px;\n",
       "    overflow: auto;\n",
       "  }\n",
       "  table, th, td {\n",
       "    border: 1px solid black;\n",
       "    border-collapse: collapse;\n",
       "  }\n",
       "  th, td {\n",
       "    padding: 5px;\n",
       "  }\n",
       "  th {\n",
       "    text-align: left;\n",
       "  }\n",
       "</style><div class='table-result-container'><table class='table-result'><thead style='background-color: white'><tr><th>Date</th><th> SalesPerson</th><th>SalesID</th><th> ProductID</th><th>Product</th><th>Sales</th><th>ingestionDate</th></tr></thead><tbody><tr><td>05/01/2023</td><td>Amber</td><td>3</td><td>2</td><td>Mortgage</td><td>17429</td><td>2023-07-18T14:24:32.348+0000</td></tr><tr><td>24/02/2023</td><td>Chantal</td><td>4</td><td>2</td><td>Mortgage</td><td>11978</td><td>2023-07-18T14:24:32.348+0000</td></tr><tr><td>17/05/2023</td><td>Natalia</td><td>9</td><td>4</td><td>Health insurance</td><td>24055</td><td>2023-07-18T14:24:32.348+0000</td></tr><tr><td>02/05/2023</td><td>Eric</td><td>10</td><td>3</td><td>Car insurance</td><td>5935</td><td>2023-07-18T14:24:32.348+0000</td></tr><tr><td>24/03/2023</td><td>Jeroen</td><td>5</td><td>2</td><td>Mortgage</td><td>25902</td><td>2023-07-18T14:24:32.348+0000</td></tr><tr><td>02/03/2023</td><td>Eric</td><td>10</td><td>3</td><td>Car insurance</td><td>1235</td><td>2023-07-18T14:24:32.348+0000</td></tr><tr><td>16/03/2023</td><td>Amber</td><td>3</td><td>2</td><td>Mortgage</td><td>2452</td><td>2023-07-18T14:24:32.348+0000</td></tr><tr><td>05/02/2023</td><td>Amber</td><td>3</td><td>2</td><td>Mortgage</td><td>11129</td><td>2023-07-18T14:24:32.348+0000</td></tr><tr><td>12/03/2023</td><td>Taylor</td><td>14</td><td>2</td><td>Mortgage</td><td>14028</td><td>2023-07-18T14:24:32.348+0000</td></tr><tr><td>22/03/2023</td><td>Sarah</td><td>4</td><td>3</td><td> Car insurance</td><td>23263</td><td>2023-07-18T14:24:32.348+0000</td></tr><tr><td>08/03/2023</td><td>Tara</td><td>8</td><td>3</td><td> Car insurance</td><td>29577</td><td>2023-07-18T14:24:32.348+0000</td></tr><tr><td>12/02/2023</td><td>Taylor</td><td>14</td><td>2</td><td>Mortgage</td><td>19078</td><td>2023-07-18T14:24:32.348+0000</td></tr><tr><td>22/05/2023</td><td>Sarah</td><td>4</td><td>3</td><td> Car insurance</td><td>23012</td><td>2023-07-18T14:24:32.348+0000</td></tr><tr><td>08/05/2023</td><td>Tara</td><td>8</td><td>3</td><td> Car insurance</td><td>21507</td><td>2023-07-18T14:24:32.348+0000</td></tr></tbody></table></div>"
      ]
     },
     "metadata": {
      "application/vnd.databricks.v1+output": {
       "addedWidgets": {},
       "aggData": [],
       "aggError": "",
       "aggOverflow": false,
       "aggSchema": [],
       "aggSeriesLimitReached": false,
       "aggType": "",
       "arguments": {},
       "columnCustomDisplayInfos": {},
       "data": [
        [
         "05/01/2023",
         "Amber",
         "3",
         "2",
         "Mortgage",
         17429,
         "2023-07-18T14:24:32.348+0000"
        ],
        [
         "24/02/2023",
         "Chantal",
         "4",
         "2",
         "Mortgage",
         11978,
         "2023-07-18T14:24:32.348+0000"
        ],
        [
         "17/05/2023",
         "Natalia",
         "9",
         "4",
         "Health insurance",
         24055,
         "2023-07-18T14:24:32.348+0000"
        ],
        [
         "02/05/2023",
         "Eric",
         "10",
         "3",
         "Car insurance",
         5935,
         "2023-07-18T14:24:32.348+0000"
        ],
        [
         "24/03/2023",
         "Jeroen",
         "5",
         "2",
         "Mortgage",
         25902,
         "2023-07-18T14:24:32.348+0000"
        ],
        [
         "02/03/2023",
         "Eric",
         "10",
         "3",
         "Car insurance",
         1235,
         "2023-07-18T14:24:32.348+0000"
        ],
        [
         "16/03/2023",
         "Amber",
         "3",
         "2",
         "Mortgage",
         2452,
         "2023-07-18T14:24:32.348+0000"
        ],
        [
         "05/02/2023",
         "Amber",
         "3",
         "2",
         "Mortgage",
         11129,
         "2023-07-18T14:24:32.348+0000"
        ],
        [
         "12/03/2023",
         "Taylor",
         "14",
         "2",
         "Mortgage",
         14028,
         "2023-07-18T14:24:32.348+0000"
        ],
        [
         "22/03/2023",
         "Sarah",
         "4",
         "3",
         " Car insurance",
         23263,
         "2023-07-18T14:24:32.348+0000"
        ],
        [
         "08/03/2023",
         "Tara",
         "8",
         "3",
         " Car insurance",
         29577,
         "2023-07-18T14:24:32.348+0000"
        ],
        [
         "12/02/2023",
         "Taylor",
         "14",
         "2",
         "Mortgage",
         19078,
         "2023-07-18T14:24:32.348+0000"
        ],
        [
         "22/05/2023",
         "Sarah",
         "4",
         "3",
         " Car insurance",
         23012,
         "2023-07-18T14:24:32.348+0000"
        ],
        [
         "08/05/2023",
         "Tara",
         "8",
         "3",
         " Car insurance",
         21507,
         "2023-07-18T14:24:32.348+0000"
        ]
       ],
       "datasetInfos": [],
       "dbfsResultPath": null,
       "isJsonSchema": true,
       "metadata": {},
       "overflow": false,
       "plotOptions": {
        "customPlotOptions": {},
        "displayType": "table",
        "pivotAggregation": null,
        "pivotColumns": null,
        "xColumns": null,
        "yColumns": null
       },
       "removedWidgets": [],
       "schema": [
        {
         "metadata": "{}",
         "name": "Date",
         "type": "\"string\""
        },
        {
         "metadata": "{}",
         "name": " SalesPerson",
         "type": "\"string\""
        },
        {
         "metadata": "{}",
         "name": "SalesID",
         "type": "\"string\""
        },
        {
         "metadata": "{}",
         "name": " ProductID",
         "type": "\"string\""
        },
        {
         "metadata": "{}",
         "name": "Product",
         "type": "\"string\""
        },
        {
         "metadata": "{}",
         "name": "Sales",
         "type": "\"integer\""
        },
        {
         "metadata": "{}",
         "name": "ingestionDate",
         "type": "\"timestamp\""
        }
       ],
       "type": "table"
      }
     },
     "output_type": "display_data"
    }
   ],
   "source": [
    "%sql\n",
    "select * from default.SalesManage"
   ]
  },
  {
   "cell_type": "code",
   "execution_count": 0,
   "metadata": {
    "application/vnd.databricks.v1+cell": {
     "cellMetadata": {
      "byteLimit": 2048000,
      "implicitDf": true,
      "rowLimit": 10000
     },
     "inputWidgets": {},
     "nuid": "abdd86ab-9a22-4c47-a4cd-11fc86932b91",
     "showTitle": false,
     "title": ""
    }
   },
   "outputs": [
    {
     "output_type": "display_data",
     "data": {
      "text/html": [
       "<style scoped>\n",
       "  .table-result-container {\n",
       "    max-height: 300px;\n",
       "    overflow: auto;\n",
       "  }\n",
       "  table, th, td {\n",
       "    border: 1px solid black;\n",
       "    border-collapse: collapse;\n",
       "  }\n",
       "  th, td {\n",
       "    padding: 5px;\n",
       "  }\n",
       "  th {\n",
       "    text-align: left;\n",
       "  }\n",
       "</style><div class='table-result-container'><table class='table-result'><thead style='background-color: white'><tr><th>col_name</th><th>data_type</th><th>comment</th></tr></thead><tbody><tr><td>Date</td><td>string</td><td>null</td></tr><tr><td> SalesPerson</td><td>string</td><td>null</td></tr><tr><td>SalesID</td><td>string</td><td>null</td></tr><tr><td> ProductID</td><td>string</td><td>null</td></tr><tr><td>Product</td><td>string</td><td>null</td></tr><tr><td>Sales</td><td>int</td><td>null</td></tr><tr><td>ingestionDate</td><td>timestamp</td><td>null</td></tr><tr><td></td><td></td><td></td></tr><tr><td># Detailed Table Information</td><td></td><td></td></tr><tr><td>Catalog</td><td>spark_catalog</td><td></td></tr><tr><td>Database</td><td>default</td><td></td></tr><tr><td>Table</td><td>salesmanage</td><td></td></tr><tr><td>Owner</td><td>root</td><td></td></tr><tr><td>Created Time</td><td>Tue Jul 18 14:42:26 UTC 2023</td><td></td></tr><tr><td>Last Access</td><td>UNKNOWN</td><td></td></tr><tr><td>Created By</td><td>Spark 3.3.2</td><td></td></tr><tr><td>Type</td><td>MANAGED</td><td></td></tr><tr><td>Provider</td><td>parquet</td><td></td></tr><tr><td>Statistics</td><td>2675 bytes</td><td></td></tr><tr><td>Location</td><td>dbfs:/user/hive/warehouse/salesmanage</td><td></td></tr><tr><td>Serde Library</td><td>org.apache.hadoop.hive.serde2.lazy.LazySimpleSerDe</td><td></td></tr><tr><td>InputFormat</td><td>org.apache.hadoop.mapred.SequenceFileInputFormat</td><td></td></tr><tr><td>OutputFormat</td><td>org.apache.hadoop.hive.ql.io.HiveSequenceFileOutputFormat</td><td></td></tr><tr><td>Storage Properties</td><td>[overwriteSchema=true, mergeSchema=true]</td><td></td></tr></tbody></table></div>"
      ]
     },
     "metadata": {
      "application/vnd.databricks.v1+output": {
       "addedWidgets": {},
       "aggData": [],
       "aggError": "",
       "aggOverflow": false,
       "aggSchema": [],
       "aggSeriesLimitReached": false,
       "aggType": "",
       "arguments": {},
       "columnCustomDisplayInfos": {},
       "data": [
        [
         "Date",
         "string",
         null
        ],
        [
         " SalesPerson",
         "string",
         null
        ],
        [
         "SalesID",
         "string",
         null
        ],
        [
         " ProductID",
         "string",
         null
        ],
        [
         "Product",
         "string",
         null
        ],
        [
         "Sales",
         "int",
         null
        ],
        [
         "ingestionDate",
         "timestamp",
         null
        ],
        [
         "",
         "",
         ""
        ],
        [
         "# Detailed Table Information",
         "",
         ""
        ],
        [
         "Catalog",
         "spark_catalog",
         ""
        ],
        [
         "Database",
         "default",
         ""
        ],
        [
         "Table",
         "salesmanage",
         ""
        ],
        [
         "Owner",
         "root",
         ""
        ],
        [
         "Created Time",
         "Tue Jul 18 14:42:26 UTC 2023",
         ""
        ],
        [
         "Last Access",
         "UNKNOWN",
         ""
        ],
        [
         "Created By",
         "Spark 3.3.2",
         ""
        ],
        [
         "Type",
         "MANAGED",
         ""
        ],
        [
         "Provider",
         "parquet",
         ""
        ],
        [
         "Statistics",
         "2675 bytes",
         ""
        ],
        [
         "Location",
         "dbfs:/user/hive/warehouse/salesmanage",
         ""
        ],
        [
         "Serde Library",
         "org.apache.hadoop.hive.serde2.lazy.LazySimpleSerDe",
         ""
        ],
        [
         "InputFormat",
         "org.apache.hadoop.mapred.SequenceFileInputFormat",
         ""
        ],
        [
         "OutputFormat",
         "org.apache.hadoop.hive.ql.io.HiveSequenceFileOutputFormat",
         ""
        ],
        [
         "Storage Properties",
         "[overwriteSchema=true, mergeSchema=true]",
         ""
        ]
       ],
       "datasetInfos": [],
       "dbfsResultPath": null,
       "isJsonSchema": true,
       "metadata": {},
       "overflow": false,
       "plotOptions": {
        "customPlotOptions": {},
        "displayType": "table",
        "pivotAggregation": null,
        "pivotColumns": null,
        "xColumns": null,
        "yColumns": null
       },
       "removedWidgets": [],
       "schema": [
        {
         "metadata": "{\"comment\":\"name of the column\"}",
         "name": "col_name",
         "type": "\"string\""
        },
        {
         "metadata": "{\"comment\":\"data type of the column\"}",
         "name": "data_type",
         "type": "\"string\""
        },
        {
         "metadata": "{\"comment\":\"comment of the column\"}",
         "name": "comment",
         "type": "\"string\""
        }
       ],
       "type": "table"
      }
     },
     "output_type": "display_data"
    }
   ],
   "source": [
    "%sql\n",
    "describe extended default.SalesManage"
   ]
  },
  {
   "cell_type": "markdown",
   "metadata": {
    "application/vnd.databricks.v1+cell": {
     "cellMetadata": {
      "byteLimit": 2048000,
      "rowLimit": 10000
     },
     "inputWidgets": {},
     "nuid": "387e4aa2-34b0-44f6-86b1-20f66bdcdd55",
     "showTitle": false,
     "title": ""
    }
   },
   "source": [
    "#Write Data Frame to External Table"
   ]
  },
  {
   "cell_type": "code",
   "execution_count": 0,
   "metadata": {
    "application/vnd.databricks.v1+cell": {
     "cellMetadata": {
      "byteLimit": 2048000,
      "rowLimit": 10000
     },
     "inputWidgets": {},
     "nuid": "06a952dd-fd8d-4a92-a8df-198387ec315b",
     "showTitle": false,
     "title": ""
    }
   },
   "outputs": [],
   "source": [
    "external_table_path = \"/FileStore/tables/employees.csv\"\n",
    "\n",
    "dbutils.widgets.text(\"external_table_path\", external_table_path)"
   ]
  },
  {
   "cell_type": "code",
   "execution_count": 0,
   "metadata": {
    "application/vnd.databricks.v1+cell": {
     "cellMetadata": {
      "byteLimit": 2048000,
      "rowLimit": 10000
     },
     "inputWidgets": {},
     "nuid": "85650881-10ec-47b4-b78c-9cc40c8823a5",
     "showTitle": false,
     "title": ""
    }
   },
   "outputs": [
    {
     "output_type": "display_data",
     "data": {
      "text/html": [
       "<style scoped>\n",
       "  .table-result-container {\n",
       "    max-height: 300px;\n",
       "    overflow: auto;\n",
       "  }\n",
       "  table, th, td {\n",
       "    border: 1px solid black;\n",
       "    border-collapse: collapse;\n",
       "  }\n",
       "  th, td {\n",
       "    padding: 5px;\n",
       "  }\n",
       "  th {\n",
       "    text-align: left;\n",
       "  }\n",
       "</style><div class='table-result-container'><table class='table-result'><thead style='background-color: white'><tr><th>name</th><th>department</th><th>ingestionDate</th></tr></thead><tbody><tr><td>alex</td><td> HR</td><td>2023-07-18T14:53:48.552+0000</td></tr><tr><td>robin</td><td>IT</td><td>2023-07-18T14:53:48.552+0000</td></tr><tr><td>james</td><td>HR</td><td>2023-07-18T14:53:48.552+0000</td></tr><tr><td>mark</td><td> SALES</td><td>2023-07-18T14:53:48.552+0000</td></tr><tr><td>thh</td><td> HR</td><td>2023-07-18T14:53:48.552+0000</td></tr></tbody></table></div>"
      ]
     },
     "metadata": {
      "application/vnd.databricks.v1+output": {
       "addedWidgets": {},
       "aggData": [],
       "aggError": "",
       "aggOverflow": false,
       "aggSchema": [],
       "aggSeriesLimitReached": false,
       "aggType": "",
       "arguments": {},
       "columnCustomDisplayInfos": {},
       "data": [
        [
         "alex",
         " HR",
         "2023-07-18T14:53:48.552+0000"
        ],
        [
         "robin",
         "IT",
         "2023-07-18T14:53:48.552+0000"
        ],
        [
         "james",
         "HR",
         "2023-07-18T14:53:48.552+0000"
        ],
        [
         "mark",
         " SALES",
         "2023-07-18T14:53:48.552+0000"
        ],
        [
         "thh",
         " HR",
         "2023-07-18T14:53:48.552+0000"
        ]
       ],
       "datasetInfos": [],
       "dbfsResultPath": null,
       "isJsonSchema": true,
       "metadata": {},
       "overflow": false,
       "plotOptions": {
        "customPlotOptions": {},
        "displayType": "table",
        "pivotAggregation": null,
        "pivotColumns": null,
        "xColumns": null,
        "yColumns": null
       },
       "removedWidgets": [],
       "schema": [
        {
         "metadata": "{}",
         "name": "name",
         "type": "\"string\""
        },
        {
         "metadata": "{}",
         "name": "department",
         "type": "\"string\""
        },
        {
         "metadata": "{}",
         "name": "ingestionDate",
         "type": "\"timestamp\""
        }
       ],
       "type": "table"
      }
     },
     "output_type": "display_data"
    }
   ],
   "source": [
    "from pyspark.sql.functions import col,lit, current_timestamp\n",
    "\n",
    "empDF = spark.read.csv(external_table_path, header=True)\n",
    "empDF = empDF.withColumn(\"ingestionDate\", current_timestamp())\n",
    "display(empDF)"
   ]
  },
  {
   "cell_type": "code",
   "execution_count": 0,
   "metadata": {
    "application/vnd.databricks.v1+cell": {
     "cellMetadata": {
      "byteLimit": 2048000,
      "implicitDf": true,
      "rowLimit": 10000
     },
     "inputWidgets": {},
     "nuid": "3136f39e-ded8-4f34-8395-5e2f20576bf4",
     "showTitle": false,
     "title": ""
    }
   },
   "outputs": [
    {
     "output_type": "display_data",
     "data": {
      "text/html": [
       "<style scoped>\n",
       "  .table-result-container {\n",
       "    max-height: 300px;\n",
       "    overflow: auto;\n",
       "  }\n",
       "  table, th, td {\n",
       "    border: 1px solid black;\n",
       "    border-collapse: collapse;\n",
       "  }\n",
       "  th, td {\n",
       "    padding: 5px;\n",
       "  }\n",
       "  th {\n",
       "    text-align: left;\n",
       "  }\n",
       "</style><div class='table-result-container'><table class='table-result'><thead style='background-color: white'><tr></tr></thead><tbody></tbody></table></div>"
      ]
     },
     "metadata": {
      "application/vnd.databricks.v1+output": {
       "addedWidgets": {},
       "aggData": [],
       "aggError": "",
       "aggOverflow": false,
       "aggSchema": [],
       "aggSeriesLimitReached": false,
       "aggType": "",
       "arguments": {},
       "columnCustomDisplayInfos": {},
       "data": [],
       "datasetInfos": [],
       "dbfsResultPath": null,
       "isJsonSchema": true,
       "metadata": {},
       "overflow": false,
       "plotOptions": {
        "customPlotOptions": {},
        "displayType": "table",
        "pivotAggregation": null,
        "pivotColumns": null,
        "xColumns": null,
        "yColumns": null
       },
       "removedWidgets": [],
       "schema": [],
       "type": "table"
      }
     },
     "output_type": "display_data"
    }
   ],
   "source": [
    "%sql\n",
    "CREATE TABLE employeeExt USING CSV LOCATION \"${external_table_path}\""
   ]
  },
  {
   "cell_type": "code",
   "execution_count": 0,
   "metadata": {
    "application/vnd.databricks.v1+cell": {
     "cellMetadata": {
      "byteLimit": 2048000,
      "implicitDf": true,
      "rowLimit": 10000
     },
     "inputWidgets": {},
     "nuid": "0ed39ccb-2809-4536-818b-253d787ed7e9",
     "showTitle": false,
     "title": ""
    }
   },
   "outputs": [
    {
     "output_type": "display_data",
     "data": {
      "text/html": [
       "<style scoped>\n",
       "  .table-result-container {\n",
       "    max-height: 300px;\n",
       "    overflow: auto;\n",
       "  }\n",
       "  table, th, td {\n",
       "    border: 1px solid black;\n",
       "    border-collapse: collapse;\n",
       "  }\n",
       "  th, td {\n",
       "    padding: 5px;\n",
       "  }\n",
       "  th {\n",
       "    text-align: left;\n",
       "  }\n",
       "</style><div class='table-result-container'><table class='table-result'><thead style='background-color: white'><tr><th>col_name</th><th>data_type</th><th>comment</th></tr></thead><tbody><tr><td>_c0</td><td>string</td><td>null</td></tr><tr><td>_c1</td><td>string</td><td>null</td></tr><tr><td></td><td></td><td></td></tr><tr><td># Detailed Table Information</td><td></td><td></td></tr><tr><td>Catalog</td><td>spark_catalog</td><td></td></tr><tr><td>Database</td><td>default</td><td></td></tr><tr><td>Table</td><td>employeeext</td><td></td></tr><tr><td>Owner</td><td>root</td><td></td></tr><tr><td>Created Time</td><td>Tue Jul 18 14:43:37 UTC 2023</td><td></td></tr><tr><td>Last Access</td><td>UNKNOWN</td><td></td></tr><tr><td>Created By</td><td>Spark 3.3.2</td><td></td></tr><tr><td>Type</td><td>EXTERNAL</td><td></td></tr><tr><td>Provider</td><td>CSV</td><td></td></tr><tr><td>Location</td><td>dbfs:/FileStore/tables/employees.csv</td><td></td></tr><tr><td>Serde Library</td><td>org.apache.hadoop.hive.serde2.lazy.LazySimpleSerDe</td><td></td></tr><tr><td>InputFormat</td><td>org.apache.hadoop.mapred.SequenceFileInputFormat</td><td></td></tr><tr><td>OutputFormat</td><td>org.apache.hadoop.hive.ql.io.HiveSequenceFileOutputFormat</td><td></td></tr></tbody></table></div>"
      ]
     },
     "metadata": {
      "application/vnd.databricks.v1+output": {
       "addedWidgets": {},
       "aggData": [],
       "aggError": "",
       "aggOverflow": false,
       "aggSchema": [],
       "aggSeriesLimitReached": false,
       "aggType": "",
       "arguments": {},
       "columnCustomDisplayInfos": {},
       "data": [
        [
         "_c0",
         "string",
         null
        ],
        [
         "_c1",
         "string",
         null
        ],
        [
         "",
         "",
         ""
        ],
        [
         "# Detailed Table Information",
         "",
         ""
        ],
        [
         "Catalog",
         "spark_catalog",
         ""
        ],
        [
         "Database",
         "default",
         ""
        ],
        [
         "Table",
         "employeeext",
         ""
        ],
        [
         "Owner",
         "root",
         ""
        ],
        [
         "Created Time",
         "Tue Jul 18 14:43:37 UTC 2023",
         ""
        ],
        [
         "Last Access",
         "UNKNOWN",
         ""
        ],
        [
         "Created By",
         "Spark 3.3.2",
         ""
        ],
        [
         "Type",
         "EXTERNAL",
         ""
        ],
        [
         "Provider",
         "CSV",
         ""
        ],
        [
         "Location",
         "dbfs:/FileStore/tables/employees.csv",
         ""
        ],
        [
         "Serde Library",
         "org.apache.hadoop.hive.serde2.lazy.LazySimpleSerDe",
         ""
        ],
        [
         "InputFormat",
         "org.apache.hadoop.mapred.SequenceFileInputFormat",
         ""
        ],
        [
         "OutputFormat",
         "org.apache.hadoop.hive.ql.io.HiveSequenceFileOutputFormat",
         ""
        ]
       ],
       "datasetInfos": [],
       "dbfsResultPath": null,
       "isJsonSchema": true,
       "metadata": {},
       "overflow": false,
       "plotOptions": {
        "customPlotOptions": {},
        "displayType": "table",
        "pivotAggregation": null,
        "pivotColumns": null,
        "xColumns": null,
        "yColumns": null
       },
       "removedWidgets": [],
       "schema": [
        {
         "metadata": "{\"comment\":\"name of the column\"}",
         "name": "col_name",
         "type": "\"string\""
        },
        {
         "metadata": "{\"comment\":\"data type of the column\"}",
         "name": "data_type",
         "type": "\"string\""
        },
        {
         "metadata": "{\"comment\":\"comment of the column\"}",
         "name": "comment",
         "type": "\"string\""
        }
       ],
       "type": "table"
      }
     },
     "output_type": "display_data"
    }
   ],
   "source": [
    "%sql\n",
    "describe extended default.employeeExt"
   ]
  },
  {
   "cell_type": "code",
   "execution_count": 0,
   "metadata": {
    "application/vnd.databricks.v1+cell": {
     "cellMetadata": {},
     "inputWidgets": {},
     "nuid": "d51ae204-ca76-453d-a703-dee29b22e272",
     "showTitle": false,
     "title": ""
    }
   },
   "outputs": [],
   "source": [
    "%sql\n",
    "refresh dbfs:/FileStore/tables/"
   ]
  },
  {
   "cell_type": "code",
   "execution_count": 0,
   "metadata": {
    "application/vnd.databricks.v1+cell": {
     "cellMetadata": {
      "byteLimit": 2048000,
      "implicitDf": true,
      "rowLimit": 10000
     },
     "inputWidgets": {},
     "nuid": "bfcdf38e-125d-4cc3-8d1c-8069ae697230",
     "showTitle": false,
     "title": ""
    }
   },
   "outputs": [
    {
     "output_type": "display_data",
     "data": {
      "text/html": [
       "<style scoped>\n",
       "  .table-result-container {\n",
       "    max-height: 300px;\n",
       "    overflow: auto;\n",
       "  }\n",
       "  table, th, td {\n",
       "    border: 1px solid black;\n",
       "    border-collapse: collapse;\n",
       "  }\n",
       "  th, td {\n",
       "    padding: 5px;\n",
       "  }\n",
       "  th {\n",
       "    text-align: left;\n",
       "  }\n",
       "</style><div class='table-result-container'><table class='table-result'><thead style='background-color: white'><tr><th>_c0</th><th>_c1</th></tr></thead><tbody><tr><td>name</td><td>department</td></tr><tr><td>alex</td><td> HR</td></tr><tr><td>robin</td><td>IT</td></tr></tbody></table></div>"
      ]
     },
     "metadata": {
      "application/vnd.databricks.v1+output": {
       "addedWidgets": {},
       "aggData": [],
       "aggError": "",
       "aggOverflow": false,
       "aggSchema": [],
       "aggSeriesLimitReached": false,
       "aggType": "",
       "arguments": {},
       "columnCustomDisplayInfos": {},
       "data": [
        [
         "name",
         "department"
        ],
        [
         "alex",
         " HR"
        ],
        [
         "robin",
         "IT"
        ]
       ],
       "datasetInfos": [],
       "dbfsResultPath": null,
       "isJsonSchema": true,
       "metadata": {},
       "overflow": false,
       "plotOptions": {
        "customPlotOptions": {},
        "displayType": "table",
        "pivotAggregation": null,
        "pivotColumns": null,
        "xColumns": null,
        "yColumns": null
       },
       "removedWidgets": [],
       "schema": [
        {
         "metadata": "{}",
         "name": "_c0",
         "type": "\"string\""
        },
        {
         "metadata": "{}",
         "name": "_c1",
         "type": "\"string\""
        }
       ],
       "type": "table"
      }
     },
     "output_type": "display_data"
    }
   ],
   "source": [
    "%sql\n",
    "select * from employeeExt"
   ]
  },
  {
   "cell_type": "code",
   "execution_count": 0,
   "metadata": {
    "application/vnd.databricks.v1+cell": {
     "cellMetadata": {
      "byteLimit": 2048000,
      "implicitDf": true,
      "rowLimit": 10000
     },
     "inputWidgets": {},
     "nuid": "72242ee1-2caa-4690-9032-56ddfbfd67fa",
     "showTitle": false,
     "title": ""
    }
   },
   "outputs": [
    {
     "output_type": "display_data",
     "data": {
      "text/html": [
       "<style scoped>\n",
       "  .table-result-container {\n",
       "    max-height: 300px;\n",
       "    overflow: auto;\n",
       "  }\n",
       "  table, th, td {\n",
       "    border: 1px solid black;\n",
       "    border-collapse: collapse;\n",
       "  }\n",
       "  th, td {\n",
       "    padding: 5px;\n",
       "  }\n",
       "  th {\n",
       "    text-align: left;\n",
       "  }\n",
       "</style><div class='table-result-container'><table class='table-result'><thead style='background-color: white'><tr></tr></thead><tbody></tbody></table></div>"
      ]
     },
     "metadata": {
      "application/vnd.databricks.v1+output": {
       "addedWidgets": {},
       "aggData": [],
       "aggError": "",
       "aggOverflow": false,
       "aggSchema": [],
       "aggSeriesLimitReached": false,
       "aggType": "",
       "arguments": {},
       "columnCustomDisplayInfos": {},
       "data": [],
       "datasetInfos": [],
       "dbfsResultPath": null,
       "isJsonSchema": true,
       "metadata": {},
       "overflow": false,
       "plotOptions": {
        "customPlotOptions": {},
        "displayType": "table",
        "pivotAggregation": null,
        "pivotColumns": null,
        "xColumns": null,
        "yColumns": null
       },
       "removedWidgets": [],
       "schema": [],
       "type": "table"
      }
     },
     "output_type": "display_data"
    }
   ],
   "source": [
    "%sql\n",
    "CREATE TABLE employeeExt2\n",
    "USING csv\n",
    "OPTIONS (\n",
    "  path \"${external_table_path}\",\n",
    "  header 'true',\n",
    "  inferSchema 'true'\n",
    ")"
   ]
  },
  {
   "cell_type": "code",
   "execution_count": 0,
   "metadata": {
    "application/vnd.databricks.v1+cell": {
     "cellMetadata": {
      "byteLimit": 2048000,
      "implicitDf": true,
      "rowLimit": 10000
     },
     "inputWidgets": {},
     "nuid": "582a05a4-7a34-4271-a53a-ccf37d7151c9",
     "showTitle": false,
     "title": ""
    }
   },
   "outputs": [
    {
     "output_type": "display_data",
     "data": {
      "text/html": [
       "<style scoped>\n",
       "  .table-result-container {\n",
       "    max-height: 300px;\n",
       "    overflow: auto;\n",
       "  }\n",
       "  table, th, td {\n",
       "    border: 1px solid black;\n",
       "    border-collapse: collapse;\n",
       "  }\n",
       "  th, td {\n",
       "    padding: 5px;\n",
       "  }\n",
       "  th {\n",
       "    text-align: left;\n",
       "  }\n",
       "</style><div class='table-result-container'><table class='table-result'><thead style='background-color: white'><tr><th>name</th><th>department</th></tr></thead><tbody><tr><td>alex</td><td> HR</td></tr><tr><td>robin</td><td>IT</td></tr></tbody></table></div>"
      ]
     },
     "metadata": {
      "application/vnd.databricks.v1+output": {
       "addedWidgets": {},
       "aggData": [],
       "aggError": "",
       "aggOverflow": false,
       "aggSchema": [],
       "aggSeriesLimitReached": false,
       "aggType": "",
       "arguments": {},
       "columnCustomDisplayInfos": {},
       "data": [
        [
         "alex",
         " HR"
        ],
        [
         "robin",
         "IT"
        ]
       ],
       "datasetInfos": [],
       "dbfsResultPath": null,
       "isJsonSchema": true,
       "metadata": {},
       "overflow": false,
       "plotOptions": {
        "customPlotOptions": {},
        "displayType": "table",
        "pivotAggregation": null,
        "pivotColumns": null,
        "xColumns": null,
        "yColumns": null
       },
       "removedWidgets": [],
       "schema": [
        {
         "metadata": "{}",
         "name": "name",
         "type": "\"string\""
        },
        {
         "metadata": "{}",
         "name": "department",
         "type": "\"string\""
        }
       ],
       "type": "table"
      }
     },
     "output_type": "display_data"
    }
   ],
   "source": [
    "%sql\n",
    "select * from default.employeeExt2"
   ]
  },
  {
   "cell_type": "markdown",
   "metadata": {
    "application/vnd.databricks.v1+cell": {
     "cellMetadata": {
      "byteLimit": 2048000,
      "rowLimit": 10000
     },
     "inputWidgets": {},
     "nuid": "b275592e-c029-4c7b-a30c-763395c21d39",
     "showTitle": false,
     "title": ""
    }
   },
   "source": [
    "##Create Schema or Database"
   ]
  },
  {
   "cell_type": "code",
   "execution_count": 0,
   "metadata": {
    "application/vnd.databricks.v1+cell": {
     "cellMetadata": {
      "byteLimit": 2048000,
      "implicitDf": true,
      "rowLimit": 10000
     },
     "inputWidgets": {},
     "nuid": "97263af6-a6d9-4314-83d3-e98e23bad396",
     "showTitle": false,
     "title": ""
    }
   },
   "outputs": [
    {
     "output_type": "display_data",
     "data": {
      "text/html": [
       "<style scoped>\n",
       "  .table-result-container {\n",
       "    max-height: 300px;\n",
       "    overflow: auto;\n",
       "  }\n",
       "  table, th, td {\n",
       "    border: 1px solid black;\n",
       "    border-collapse: collapse;\n",
       "  }\n",
       "  th, td {\n",
       "    padding: 5px;\n",
       "  }\n",
       "  th {\n",
       "    text-align: left;\n",
       "  }\n",
       "</style><div class='table-result-container'><table class='table-result'><thead style='background-color: white'><tr></tr></thead><tbody></tbody></table></div>"
      ]
     },
     "metadata": {
      "application/vnd.databricks.v1+output": {
       "addedWidgets": {},
       "aggData": [],
       "aggError": "",
       "aggOverflow": false,
       "aggSchema": [],
       "aggSeriesLimitReached": false,
       "aggType": "",
       "arguments": {},
       "columnCustomDisplayInfos": {},
       "data": [],
       "datasetInfos": [],
       "dbfsResultPath": null,
       "isJsonSchema": true,
       "metadata": {},
       "overflow": false,
       "plotOptions": {
        "customPlotOptions": {},
        "displayType": "table",
        "pivotAggregation": null,
        "pivotColumns": null,
        "xColumns": null,
        "yColumns": null
       },
       "removedWidgets": [],
       "schema": [],
       "type": "table"
      }
     },
     "output_type": "display_data"
    }
   ],
   "source": [
    "%sql\n",
    "CREATE DATABASE test"
   ]
  },
  {
   "cell_type": "code",
   "execution_count": 0,
   "metadata": {
    "application/vnd.databricks.v1+cell": {
     "cellMetadata": {
      "byteLimit": 2048000,
      "implicitDf": true,
      "rowLimit": 10000
     },
     "inputWidgets": {},
     "nuid": "29f6dfbf-605e-4114-97f8-edaa53e934e6",
     "showTitle": false,
     "title": ""
    }
   },
   "outputs": [
    {
     "output_type": "display_data",
     "data": {
      "text/html": [
       "<style scoped>\n",
       "  .table-result-container {\n",
       "    max-height: 300px;\n",
       "    overflow: auto;\n",
       "  }\n",
       "  table, th, td {\n",
       "    border: 1px solid black;\n",
       "    border-collapse: collapse;\n",
       "  }\n",
       "  th, td {\n",
       "    padding: 5px;\n",
       "  }\n",
       "  th {\n",
       "    text-align: left;\n",
       "  }\n",
       "</style><div class='table-result-container'><table class='table-result'><thead style='background-color: white'><tr></tr></thead><tbody></tbody></table></div>"
      ]
     },
     "metadata": {
      "application/vnd.databricks.v1+output": {
       "addedWidgets": {},
       "aggData": [],
       "aggError": "",
       "aggOverflow": false,
       "aggSchema": [],
       "aggSeriesLimitReached": false,
       "aggType": "",
       "arguments": {},
       "columnCustomDisplayInfos": {},
       "data": [],
       "datasetInfos": [],
       "dbfsResultPath": null,
       "isJsonSchema": true,
       "metadata": {},
       "overflow": false,
       "plotOptions": {
        "customPlotOptions": {},
        "displayType": "table",
        "pivotAggregation": null,
        "pivotColumns": null,
        "xColumns": null,
        "yColumns": null
       },
       "removedWidgets": [],
       "schema": [],
       "type": "table"
      }
     },
     "output_type": "display_data"
    }
   ],
   "source": [
    "%sql\n",
    "CREATE TABLE test.employeeExt\n",
    "USING csv\n",
    "OPTIONS (\n",
    "  path \"${external_table_path}\",\n",
    "  header 'true',\n",
    "  inferSchema 'true'\n",
    ")"
   ]
  },
  {
   "cell_type": "code",
   "execution_count": 0,
   "metadata": {
    "application/vnd.databricks.v1+cell": {
     "cellMetadata": {
      "byteLimit": 2048000,
      "implicitDf": true,
      "rowLimit": 10000
     },
     "inputWidgets": {},
     "nuid": "68d7d668-607a-4326-8968-d1f545d8a7b9",
     "showTitle": false,
     "title": ""
    }
   },
   "outputs": [
    {
     "output_type": "display_data",
     "data": {
      "text/html": [
       "<style scoped>\n",
       "  .table-result-container {\n",
       "    max-height: 300px;\n",
       "    overflow: auto;\n",
       "  }\n",
       "  table, th, td {\n",
       "    border: 1px solid black;\n",
       "    border-collapse: collapse;\n",
       "  }\n",
       "  th, td {\n",
       "    padding: 5px;\n",
       "  }\n",
       "  th {\n",
       "    text-align: left;\n",
       "  }\n",
       "</style><div class='table-result-container'><table class='table-result'><thead style='background-color: white'><tr><th>name</th><th>department</th></tr></thead><tbody><tr><td>alex</td><td> HR</td></tr><tr><td>robin</td><td>IT</td></tr></tbody></table></div>"
      ]
     },
     "metadata": {
      "application/vnd.databricks.v1+output": {
       "addedWidgets": {},
       "aggData": [],
       "aggError": "",
       "aggOverflow": false,
       "aggSchema": [],
       "aggSeriesLimitReached": false,
       "aggType": "",
       "arguments": {},
       "columnCustomDisplayInfos": {},
       "data": [
        [
         "alex",
         " HR"
        ],
        [
         "robin",
         "IT"
        ]
       ],
       "datasetInfos": [],
       "dbfsResultPath": null,
       "isJsonSchema": true,
       "metadata": {},
       "overflow": false,
       "plotOptions": {
        "customPlotOptions": {},
        "displayType": "table",
        "pivotAggregation": null,
        "pivotColumns": null,
        "xColumns": null,
        "yColumns": null
       },
       "removedWidgets": [],
       "schema": [
        {
         "metadata": "{}",
         "name": "name",
         "type": "\"string\""
        },
        {
         "metadata": "{}",
         "name": "department",
         "type": "\"string\""
        }
       ],
       "type": "table"
      }
     },
     "output_type": "display_data"
    }
   ],
   "source": [
    "%sql\n",
    "select * from test.employeeExt"
   ]
  },
  {
   "cell_type": "code",
   "execution_count": 0,
   "metadata": {
    "application/vnd.databricks.v1+cell": {
     "cellMetadata": {
      "byteLimit": 2048000,
      "implicitDf": true,
      "rowLimit": 10000
     },
     "inputWidgets": {},
     "nuid": "2203795d-7225-4c6e-a6dd-c8c2bd2ed331",
     "showTitle": false,
     "title": ""
    }
   },
   "outputs": [
    {
     "output_type": "display_data",
     "data": {
      "text/html": [
       "<style scoped>\n",
       "  .table-result-container {\n",
       "    max-height: 300px;\n",
       "    overflow: auto;\n",
       "  }\n",
       "  table, th, td {\n",
       "    border: 1px solid black;\n",
       "    border-collapse: collapse;\n",
       "  }\n",
       "  th, td {\n",
       "    padding: 5px;\n",
       "  }\n",
       "  th {\n",
       "    text-align: left;\n",
       "  }\n",
       "</style><div class='table-result-container'><table class='table-result'><thead style='background-color: white'><tr><th>col_name</th><th>data_type</th><th>comment</th></tr></thead><tbody><tr><td>name</td><td>string</td><td>null</td></tr><tr><td>department</td><td>string</td><td>null</td></tr><tr><td></td><td></td><td></td></tr><tr><td># Detailed Table Information</td><td></td><td></td></tr><tr><td>Catalog</td><td>spark_catalog</td><td></td></tr><tr><td>Database</td><td>test</td><td></td></tr><tr><td>Table</td><td>employeeext</td><td></td></tr><tr><td>Owner</td><td>root</td><td></td></tr><tr><td>Created Time</td><td>Tue Jul 18 14:44:38 UTC 2023</td><td></td></tr><tr><td>Last Access</td><td>UNKNOWN</td><td></td></tr><tr><td>Created By</td><td>Spark 3.3.2</td><td></td></tr><tr><td>Type</td><td>EXTERNAL</td><td></td></tr><tr><td>Provider</td><td>csv</td><td></td></tr><tr><td>Location</td><td>dbfs:/FileStore/tables/employees.csv</td><td></td></tr><tr><td>Serde Library</td><td>org.apache.hadoop.hive.serde2.lazy.LazySimpleSerDe</td><td></td></tr><tr><td>InputFormat</td><td>org.apache.hadoop.mapred.SequenceFileInputFormat</td><td></td></tr><tr><td>OutputFormat</td><td>org.apache.hadoop.hive.ql.io.HiveSequenceFileOutputFormat</td><td></td></tr><tr><td>Storage Properties</td><td>[header=true, inferSchema=true]</td><td></td></tr></tbody></table></div>"
      ]
     },
     "metadata": {
      "application/vnd.databricks.v1+output": {
       "addedWidgets": {},
       "aggData": [],
       "aggError": "",
       "aggOverflow": false,
       "aggSchema": [],
       "aggSeriesLimitReached": false,
       "aggType": "",
       "arguments": {},
       "columnCustomDisplayInfos": {},
       "data": [
        [
         "name",
         "string",
         null
        ],
        [
         "department",
         "string",
         null
        ],
        [
         "",
         "",
         ""
        ],
        [
         "# Detailed Table Information",
         "",
         ""
        ],
        [
         "Catalog",
         "spark_catalog",
         ""
        ],
        [
         "Database",
         "test",
         ""
        ],
        [
         "Table",
         "employeeext",
         ""
        ],
        [
         "Owner",
         "root",
         ""
        ],
        [
         "Created Time",
         "Tue Jul 18 14:44:38 UTC 2023",
         ""
        ],
        [
         "Last Access",
         "UNKNOWN",
         ""
        ],
        [
         "Created By",
         "Spark 3.3.2",
         ""
        ],
        [
         "Type",
         "EXTERNAL",
         ""
        ],
        [
         "Provider",
         "csv",
         ""
        ],
        [
         "Location",
         "dbfs:/FileStore/tables/employees.csv",
         ""
        ],
        [
         "Serde Library",
         "org.apache.hadoop.hive.serde2.lazy.LazySimpleSerDe",
         ""
        ],
        [
         "InputFormat",
         "org.apache.hadoop.mapred.SequenceFileInputFormat",
         ""
        ],
        [
         "OutputFormat",
         "org.apache.hadoop.hive.ql.io.HiveSequenceFileOutputFormat",
         ""
        ],
        [
         "Storage Properties",
         "[header=true, inferSchema=true]",
         ""
        ]
       ],
       "datasetInfos": [],
       "dbfsResultPath": null,
       "isJsonSchema": true,
       "metadata": {},
       "overflow": false,
       "plotOptions": {
        "customPlotOptions": {},
        "displayType": "table",
        "pivotAggregation": null,
        "pivotColumns": null,
        "xColumns": null,
        "yColumns": null
       },
       "removedWidgets": [],
       "schema": [
        {
         "metadata": "{\"comment\":\"name of the column\"}",
         "name": "col_name",
         "type": "\"string\""
        },
        {
         "metadata": "{\"comment\":\"data type of the column\"}",
         "name": "data_type",
         "type": "\"string\""
        },
        {
         "metadata": "{\"comment\":\"comment of the column\"}",
         "name": "comment",
         "type": "\"string\""
        }
       ],
       "type": "table"
      }
     },
     "output_type": "display_data"
    }
   ],
   "source": [
    "%sql\n",
    "describe extended test.employeeExt"
   ]
  },
  {
   "cell_type": "markdown",
   "metadata": {
    "application/vnd.databricks.v1+cell": {
     "cellMetadata": {},
     "inputWidgets": {},
     "nuid": "da5c8927-d97c-4c76-af74-54495718a906",
     "showTitle": false,
     "title": ""
    }
   },
   "source": [
    "####Create Temp view to use data between python and sql command"
   ]
  },
  {
   "cell_type": "code",
   "execution_count": 0,
   "metadata": {
    "application/vnd.databricks.v1+cell": {
     "cellMetadata": {
      "byteLimit": 2048000,
      "rowLimit": 10000
     },
     "inputWidgets": {},
     "nuid": "6537d167-a9c6-4160-a94a-1d875da0ae66",
     "showTitle": false,
     "title": ""
    }
   },
   "outputs": [],
   "source": [
    "# Create a view or table\n",
    "empDF.createOrReplaceTempView(\"tempEmp\")"
   ]
  },
  {
   "cell_type": "code",
   "execution_count": 0,
   "metadata": {
    "application/vnd.databricks.v1+cell": {
     "cellMetadata": {
      "byteLimit": 2048000,
      "implicitDf": true,
      "rowLimit": 10000
     },
     "inputWidgets": {},
     "nuid": "08646b51-7826-4e5c-9db7-9e0d12450308",
     "showTitle": false,
     "title": ""
    }
   },
   "outputs": [
    {
     "output_type": "display_data",
     "data": {
      "text/html": [
       "<style scoped>\n",
       "  .table-result-container {\n",
       "    max-height: 300px;\n",
       "    overflow: auto;\n",
       "  }\n",
       "  table, th, td {\n",
       "    border: 1px solid black;\n",
       "    border-collapse: collapse;\n",
       "  }\n",
       "  th, td {\n",
       "    padding: 5px;\n",
       "  }\n",
       "  th {\n",
       "    text-align: left;\n",
       "  }\n",
       "</style><div class='table-result-container'><table class='table-result'><thead style='background-color: white'><tr><th>name</th><th>department</th><th>ingestionDate</th></tr></thead><tbody><tr><td>alex</td><td> HR</td><td>2023-07-18T15:02:30.866+0000</td></tr><tr><td>robin</td><td>IT</td><td>2023-07-18T15:02:30.866+0000</td></tr></tbody></table></div>"
      ]
     },
     "metadata": {
      "application/vnd.databricks.v1+output": {
       "addedWidgets": {},
       "aggData": [],
       "aggError": "",
       "aggOverflow": false,
       "aggSchema": [],
       "aggSeriesLimitReached": false,
       "aggType": "",
       "arguments": {},
       "columnCustomDisplayInfos": {},
       "data": [
        [
         "alex",
         " HR",
         "2023-07-18T15:02:30.866+0000"
        ],
        [
         "robin",
         "IT",
         "2023-07-18T15:02:30.866+0000"
        ]
       ],
       "datasetInfos": [],
       "dbfsResultPath": null,
       "isJsonSchema": true,
       "metadata": {},
       "overflow": false,
       "plotOptions": {
        "customPlotOptions": {},
        "displayType": "table",
        "pivotAggregation": null,
        "pivotColumns": null,
        "xColumns": null,
        "yColumns": null
       },
       "removedWidgets": [],
       "schema": [
        {
         "metadata": "{}",
         "name": "name",
         "type": "\"string\""
        },
        {
         "metadata": "{}",
         "name": "department",
         "type": "\"string\""
        },
        {
         "metadata": "{}",
         "name": "ingestionDate",
         "type": "\"timestamp\""
        }
       ],
       "type": "table"
      }
     },
     "output_type": "display_data"
    }
   ],
   "source": [
    "%sql\n",
    "select * from tempEmp\n"
   ]
  },
  {
   "cell_type": "code",
   "execution_count": 0,
   "metadata": {
    "application/vnd.databricks.v1+cell": {
     "cellMetadata": {
      "byteLimit": 2048000,
      "implicitDf": true,
      "rowLimit": 10000
     },
     "inputWidgets": {},
     "nuid": "7e9a76a5-a13c-423b-975e-d145710e3503",
     "showTitle": false,
     "title": ""
    }
   },
   "outputs": [
    {
     "output_type": "display_data",
     "data": {
      "text/html": [
       "<style scoped>\n",
       "  .table-result-container {\n",
       "    max-height: 300px;\n",
       "    overflow: auto;\n",
       "  }\n",
       "  table, th, td {\n",
       "    border: 1px solid black;\n",
       "    border-collapse: collapse;\n",
       "  }\n",
       "  th, td {\n",
       "    padding: 5px;\n",
       "  }\n",
       "  th {\n",
       "    text-align: left;\n",
       "  }\n",
       "</style><div class='table-result-container'><table class='table-result'><thead style='background-color: white'><tr></tr></thead><tbody></tbody></table></div>"
      ]
     },
     "metadata": {
      "application/vnd.databricks.v1+output": {
       "addedWidgets": {},
       "aggData": [],
       "aggError": "",
       "aggOverflow": false,
       "aggSchema": [],
       "aggSeriesLimitReached": false,
       "aggType": "",
       "arguments": {},
       "columnCustomDisplayInfos": {},
       "data": [],
       "datasetInfos": [],
       "dbfsResultPath": null,
       "isJsonSchema": true,
       "metadata": {},
       "overflow": false,
       "plotOptions": {
        "customPlotOptions": {},
        "displayType": "table",
        "pivotAggregation": null,
        "pivotColumns": null,
        "xColumns": null,
        "yColumns": null
       },
       "removedWidgets": [],
       "schema": [],
       "type": "table"
      }
     },
     "output_type": "display_data"
    }
   ],
   "source": [
    "%sql\n",
    "\n",
    "CREATE VIEW getempVW AS\n",
    "select * from test.employeeExt\n"
   ]
  },
  {
   "cell_type": "code",
   "execution_count": 0,
   "metadata": {
    "application/vnd.databricks.v1+cell": {
     "cellMetadata": {
      "byteLimit": 2048000,
      "implicitDf": true,
      "rowLimit": 10000
     },
     "inputWidgets": {},
     "nuid": "9cea93fc-bb85-49fb-ab80-776ab00d7bee",
     "showTitle": false,
     "title": ""
    }
   },
   "outputs": [
    {
     "output_type": "display_data",
     "data": {
      "text/html": [
       "<style scoped>\n",
       "  .table-result-container {\n",
       "    max-height: 300px;\n",
       "    overflow: auto;\n",
       "  }\n",
       "  table, th, td {\n",
       "    border: 1px solid black;\n",
       "    border-collapse: collapse;\n",
       "  }\n",
       "  th, td {\n",
       "    padding: 5px;\n",
       "  }\n",
       "  th {\n",
       "    text-align: left;\n",
       "  }\n",
       "</style><div class='table-result-container'><table class='table-result'><thead style='background-color: white'><tr></tr></thead><tbody></tbody></table></div>"
      ]
     },
     "metadata": {
      "application/vnd.databricks.v1+output": {
       "addedWidgets": {},
       "aggData": [],
       "aggError": "",
       "aggOverflow": false,
       "aggSchema": [],
       "aggSeriesLimitReached": false,
       "aggType": "",
       "arguments": {},
       "columnCustomDisplayInfos": {},
       "data": [],
       "datasetInfos": [],
       "dbfsResultPath": null,
       "isJsonSchema": true,
       "metadata": {},
       "overflow": false,
       "plotOptions": {
        "customPlotOptions": {},
        "displayType": "table",
        "pivotAggregation": null,
        "pivotColumns": null,
        "xColumns": null,
        "yColumns": null
       },
       "removedWidgets": [],
       "schema": [],
       "type": "table"
      }
     },
     "output_type": "display_data"
    }
   ],
   "source": [
    "%sql\n",
    "REFRESH TABLE test.employeeExt;"
   ]
  },
  {
   "cell_type": "code",
   "execution_count": 0,
   "metadata": {
    "application/vnd.databricks.v1+cell": {
     "cellMetadata": {
      "byteLimit": 2048000,
      "implicitDf": true,
      "rowLimit": 10000
     },
     "inputWidgets": {},
     "nuid": "6350b793-4216-4860-8992-34cf1ed41436",
     "showTitle": false,
     "title": ""
    }
   },
   "outputs": [
    {
     "output_type": "display_data",
     "data": {
      "text/html": [
       "<style scoped>\n",
       "  .table-result-container {\n",
       "    max-height: 300px;\n",
       "    overflow: auto;\n",
       "  }\n",
       "  table, th, td {\n",
       "    border: 1px solid black;\n",
       "    border-collapse: collapse;\n",
       "  }\n",
       "  th, td {\n",
       "    padding: 5px;\n",
       "  }\n",
       "  th {\n",
       "    text-align: left;\n",
       "  }\n",
       "</style><div class='table-result-container'><table class='table-result'><thead style='background-color: white'><tr><th>name</th><th>department</th></tr></thead><tbody><tr><td>alex</td><td> HR</td></tr><tr><td>robin</td><td>IT</td></tr><tr><td>james</td><td>HR</td></tr><tr><td>mark</td><td> SALES</td></tr></tbody></table></div>"
      ]
     },
     "metadata": {
      "application/vnd.databricks.v1+output": {
       "addedWidgets": {},
       "aggData": [],
       "aggError": "",
       "aggOverflow": false,
       "aggSchema": [],
       "aggSeriesLimitReached": false,
       "aggType": "",
       "arguments": {},
       "columnCustomDisplayInfos": {},
       "data": [
        [
         "alex",
         " HR"
        ],
        [
         "robin",
         "IT"
        ],
        [
         "james",
         "HR"
        ],
        [
         "mark",
         " SALES"
        ]
       ],
       "datasetInfos": [],
       "dbfsResultPath": null,
       "isJsonSchema": true,
       "metadata": {},
       "overflow": false,
       "plotOptions": {
        "customPlotOptions": {},
        "displayType": "table",
        "pivotAggregation": null,
        "pivotColumns": null,
        "xColumns": null,
        "yColumns": null
       },
       "removedWidgets": [],
       "schema": [
        {
         "metadata": "{}",
         "name": "name",
         "type": "\"string\""
        },
        {
         "metadata": "{}",
         "name": "department",
         "type": "\"string\""
        }
       ],
       "type": "table"
      }
     },
     "output_type": "display_data"
    }
   ],
   "source": [
    "%sql\n",
    "select * from getempVW"
   ]
  },
  {
   "cell_type": "markdown",
   "metadata": {
    "application/vnd.databricks.v1+cell": {
     "cellMetadata": {},
     "inputWidgets": {},
     "nuid": "610ac57d-5a5d-41eb-9326-492ae0cbaac1",
     "showTitle": false,
     "title": ""
    }
   },
   "source": [
    "####Get List Of Table from Specify Database"
   ]
  },
  {
   "cell_type": "code",
   "execution_count": 0,
   "metadata": {
    "application/vnd.databricks.v1+cell": {
     "cellMetadata": {
      "byteLimit": 2048000,
      "rowLimit": 10000
     },
     "inputWidgets": {},
     "nuid": "56ed8082-2f76-4a7e-9b89-d3af31ff1afb",
     "showTitle": false,
     "title": ""
    }
   },
   "outputs": [
    {
     "output_type": "stream",
     "name": "stdout",
     "output_type": "stream",
     "text": [
      "employee11\nemployeeext\nemployeeext2\nemployees1_managedtable\ntable1\n"
     ]
    }
   ],
   "source": [
    "table_list = [t for t in spark.catalog.listTables(\"default\") if t.tableType=='EXTERNAL' or t.tableType=='MANAGED']\n",
    "for t in table_list:\n",
    "    print(t.name)"
   ]
  },
  {
   "cell_type": "markdown",
   "metadata": {
    "application/vnd.databricks.v1+cell": {
     "cellMetadata": {},
     "inputWidgets": {},
     "nuid": "8b03fc05-d1bb-45c6-9c88-76177c177eaf",
     "showTitle": false,
     "title": ""
    }
   },
   "source": [
    "##### DROP TABLE"
   ]
  },
  {
   "cell_type": "code",
   "execution_count": 0,
   "metadata": {
    "application/vnd.databricks.v1+cell": {
     "cellMetadata": {
      "byteLimit": 2048000,
      "implicitDf": true,
      "rowLimit": 10000
     },
     "inputWidgets": {},
     "nuid": "00db7d51-512f-4409-a7b8-8269e7b7bcdd",
     "showTitle": false,
     "title": ""
    }
   },
   "outputs": [
    {
     "output_type": "display_data",
     "data": {
      "text/html": [
       "<style scoped>\n",
       "  .table-result-container {\n",
       "    max-height: 300px;\n",
       "    overflow: auto;\n",
       "  }\n",
       "  table, th, td {\n",
       "    border: 1px solid black;\n",
       "    border-collapse: collapse;\n",
       "  }\n",
       "  th, td {\n",
       "    padding: 5px;\n",
       "  }\n",
       "  th {\n",
       "    text-align: left;\n",
       "  }\n",
       "</style><div class='table-result-container'><table class='table-result'><thead style='background-color: white'><tr></tr></thead><tbody></tbody></table></div>"
      ]
     },
     "metadata": {
      "application/vnd.databricks.v1+output": {
       "addedWidgets": {},
       "aggData": [],
       "aggError": "",
       "aggOverflow": false,
       "aggSchema": [],
       "aggSeriesLimitReached": false,
       "aggType": "",
       "arguments": {},
       "columnCustomDisplayInfos": {},
       "data": [],
       "datasetInfos": [],
       "dbfsResultPath": null,
       "isJsonSchema": true,
       "metadata": {},
       "overflow": false,
       "plotOptions": {
        "customPlotOptions": {},
        "displayType": "table",
        "pivotAggregation": null,
        "pivotColumns": null,
        "xColumns": null,
        "yColumns": null
       },
       "removedWidgets": [],
       "schema": [],
       "type": "table"
      }
     },
     "output_type": "display_data"
    }
   ],
   "source": [
    "%sql\n",
    "DROP TABLE default.table1\n"
   ]
  },
  {
   "cell_type": "code",
   "execution_count": 0,
   "metadata": {
    "application/vnd.databricks.v1+cell": {
     "cellMetadata": {
      "byteLimit": 2048000,
      "rowLimit": 10000
     },
     "inputWidgets": {},
     "nuid": "8fcc4d04-b996-48ba-8355-65a7858bdb1c",
     "showTitle": false,
     "title": ""
    }
   },
   "outputs": [],
   "source": [
    "table_list = [t for t in spark.catalog.listTables(\"default\") if t.tableType=='EXTERNAL' or t.tableType=='MANAGED']\n",
    "for t in table_list:\n",
    "    print(t.name)"
   ]
  },
  {
   "cell_type": "markdown",
   "metadata": {
    "application/vnd.databricks.v1+cell": {
     "cellMetadata": {},
     "inputWidgets": {},
     "nuid": "ffac010d-589b-48c0-b375-4a8b52b79939",
     "showTitle": false,
     "title": ""
    }
   },
   "source": [
    "####DROP DATABASE"
   ]
  },
  {
   "cell_type": "code",
   "execution_count": 0,
   "metadata": {
    "application/vnd.databricks.v1+cell": {
     "cellMetadata": {
      "byteLimit": 2048000,
      "implicitDf": true,
      "rowLimit": 10000
     },
     "inputWidgets": {},
     "nuid": "5e3715ed-0a86-4cbd-8ff5-eb98db2b89d9",
     "showTitle": false,
     "title": ""
    }
   },
   "outputs": [
    {
     "output_type": "display_data",
     "data": {
      "text/html": [
       "<style scoped>\n",
       "  .table-result-container {\n",
       "    max-height: 300px;\n",
       "    overflow: auto;\n",
       "  }\n",
       "  table, th, td {\n",
       "    border: 1px solid black;\n",
       "    border-collapse: collapse;\n",
       "  }\n",
       "  th, td {\n",
       "    padding: 5px;\n",
       "  }\n",
       "  th {\n",
       "    text-align: left;\n",
       "  }\n",
       "</style><div class='table-result-container'><table class='table-result'><thead style='background-color: white'><tr></tr></thead><tbody></tbody></table></div>"
      ]
     },
     "metadata": {
      "application/vnd.databricks.v1+output": {
       "addedWidgets": {},
       "aggData": [],
       "aggError": "",
       "aggOverflow": false,
       "aggSchema": [],
       "aggSeriesLimitReached": false,
       "aggType": "",
       "arguments": {},
       "columnCustomDisplayInfos": {},
       "data": [],
       "datasetInfos": [],
       "dbfsResultPath": null,
       "isJsonSchema": true,
       "metadata": {},
       "overflow": false,
       "plotOptions": {
        "customPlotOptions": {},
        "displayType": "table",
        "pivotAggregation": null,
        "pivotColumns": null,
        "xColumns": null,
        "yColumns": null
       },
       "removedWidgets": [],
       "schema": [],
       "type": "table"
      }
     },
     "output_type": "display_data"
    }
   ],
   "source": [
    "%sql\n",
    "DROP DATABASE test cascade"
   ]
  }
 ],
 "metadata": {
  "application/vnd.databricks.v1+notebook": {
   "dashboards": [],
   "language": "python",
   "notebookMetadata": {
    "mostRecentlyExecutedCommandWithImplicitDF": {
     "commandId": 3773630394137449,
     "dataframes": [
      "_sqldf"
     ]
    },
    "pythonIndentUnit": 4
   },
   "notebookName": "AzureDB",
   "widgets": {
    "external_table_path": {
     "currentValue": "/FileStore/tables/employees.csv",
     "nuid": "5ee42b4e-1c5d-48ec-be16-c37120120226",
     "widgetInfo": {
      "widgetType": "text",
      "defaultValue": "/FileStore/tables/employees.csv",
      "label": null,
      "name": "external_table_path",
      "options": {
       "widgetType": "text",
       "validationRegex": null
      }
     }
    }
   }
  }
 },
 "nbformat": 4,
 "nbformat_minor": 0
}
