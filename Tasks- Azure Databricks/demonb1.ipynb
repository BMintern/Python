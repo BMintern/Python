{
 "cells": [
  {
   "cell_type": "code",
   "execution_count": 0,
   "metadata": {
    "application/vnd.databricks.v1+cell": {
     "cellMetadata": {
      "byteLimit": 2048000,
      "rowLimit": 10000
     },
     "inputWidgets": {},
     "nuid": "d00a31ef-1653-451a-819d-2ac2a19a2bc8",
     "showTitle": false,
     "title": ""
    }
   },
   "outputs": [],
   "source": [
    "dbutils.widgets.combobox(name=\"ParamCB\",defaultValue='apple', choices=['apple','banana','orange'], label='Fruits Combobox')\n",
    "dbutils.widgets.dropdown(name=\"ParamDD\",defaultValue='apple', choices=['apple','banana','orange'], label='Fruits Dropdown')\n",
    "dbutils.widgets.multiselect(name=\"ParamMS\",defaultValue='apple', choices=['apple','banana','orange'], label='Fruits MultiSelect')\n",
    "dbutils.widgets.text(name=\"ParamText\",defaultValue='apple', label='Fruits Text')\n"
   ]
  },
  {
   "cell_type": "code",
   "execution_count": 0,
   "metadata": {
    "application/vnd.databricks.v1+cell": {
     "cellMetadata": {
      "byteLimit": 2048000,
      "rowLimit": 10000
     },
     "inputWidgets": {},
     "nuid": "9de8a133-3bfb-4181-8d4a-eeb46ba0bd0a",
     "showTitle": false,
     "title": ""
    }
   },
   "outputs": [],
   "source": []
  },
  {
   "cell_type": "code",
   "execution_count": 0,
   "metadata": {
    "application/vnd.databricks.v1+cell": {
     "cellMetadata": {},
     "inputWidgets": {},
     "nuid": "3a1d5257-bdb8-48f6-88f4-8fed6b5bc617",
     "showTitle": false,
     "title": ""
    }
   },
   "outputs": [],
   "source": []
  }
 ],
 "metadata": {
  "application/vnd.databricks.v1+notebook": {
   "dashboards": [],
   "language": "python",
   "notebookMetadata": {
    "pythonIndentUnit": 4
   },
   "notebookName": "demonb1",
   "widgets": {
    "ParamCB": {
     "currentValue": "apple",
     "nuid": "07c2c63e-5369-4ba1-90ac-581f4fd01941",
     "widgetInfo": {
      "widgetType": "combobox",
      "defaultValue": "apple",
      "label": "Fruits Combobox",
      "name": "ParamCB",
      "options": {
       "widgetType": "dropdown",
       "choices": [
        "apple",
        "banana",
        "orange"
       ]
      }
     }
    },
    "ParamDD": {
     "currentValue": "apple",
     "nuid": "6b504302-ef97-4cc8-9dca-98a0959305a3",
     "widgetInfo": {
      "widgetType": "dropdown",
      "defaultValue": "apple",
      "label": "Fruits Dropdown",
      "name": "ParamDD",
      "options": {
       "widgetType": "dropdown",
       "choices": [
        "apple",
        "banana",
        "orange"
       ]
      }
     }
    },
    "ParamMS": {
     "currentValue": "apple",
     "nuid": "91220d0d-e295-4b8e-9601-c8a7cbb7a929",
     "widgetInfo": {
      "widgetType": "multiselect",
      "defaultValue": "apple",
      "label": "Fruits MultiSelect",
      "name": "ParamMS",
      "options": {
       "widgetType": "dropdown",
       "choices": [
        "apple",
        "banana",
        "orange"
       ]
      }
     }
    },
    "ParamText": {
     "currentValue": "apple",
     "nuid": "ff7dec07-7622-47cd-9426-0ca8e56d4605",
     "widgetInfo": {
      "widgetType": "text",
      "defaultValue": "apple",
      "label": "Fruits Text",
      "name": "ParamText",
      "options": {
       "widgetType": "text",
       "validationRegex": null
      }
     }
    }
   }
  }
 },
 "nbformat": 4,
 "nbformat_minor": 0
}
