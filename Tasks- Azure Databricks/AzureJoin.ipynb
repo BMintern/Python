{
 "cells": [
  {
   "cell_type": "code",
   "execution_count": 0,
   "metadata": {
    "application/vnd.databricks.v1+cell": {
     "cellMetadata": {
      "byteLimit": 2048000,
      "rowLimit": 10000
     },
     "inputWidgets": {},
     "nuid": "acf32218-5d93-48de-b5af-d33fe9a52a9b",
     "showTitle": false,
     "title": ""
    }
   },
   "outputs": [
    {
     "output_type": "display_data",
     "data": {
      "text/html": [
       "<style scoped>\n",
       "  .table-result-container {\n",
       "    max-height: 300px;\n",
       "    overflow: auto;\n",
       "  }\n",
       "  table, th, td {\n",
       "    border: 1px solid black;\n",
       "    border-collapse: collapse;\n",
       "  }\n",
       "  th, td {\n",
       "    padding: 5px;\n",
       "  }\n",
       "  th {\n",
       "    text-align: left;\n",
       "  }\n",
       "</style><div class='table-result-container'><table class='table-result'><thead style='background-color: white'><tr><th>path</th><th>name</th><th>size</th><th>modificationTime</th></tr></thead><tbody><tr><td>dbfs:/FileStore/tables/DepartmentRel.csv</td><td>DepartmentRel.csv</td><td>62</td><td>1690344550000</td></tr><tr><td>dbfs:/FileStore/tables/EmpPay.csv</td><td>EmpPay.csv</td><td>97</td><td>1689932930000</td></tr><tr><td>dbfs:/FileStore/tables/EmployeeRel.csv</td><td>EmployeeRel.csv</td><td>118</td><td>1690304274000</td></tr><tr><td>dbfs:/FileStore/tables/FlightData.csv</td><td>FlightData.csv</td><td>536</td><td>1690345771000</td></tr><tr><td>dbfs:/FileStore/tables/SalesData.csv</td><td>SalesData.csv</td><td>617</td><td>1689689602000</td></tr><tr><td>dbfs:/FileStore/tables/employees.csv</td><td>employees.csv</td><td>61</td><td>1689692632000</td></tr></tbody></table></div>"
      ]
     },
     "metadata": {
      "application/vnd.databricks.v1+output": {
       "addedWidgets": {},
       "aggData": [],
       "aggError": "",
       "aggOverflow": false,
       "aggSchema": [],
       "aggSeriesLimitReached": false,
       "aggType": "",
       "arguments": {},
       "columnCustomDisplayInfos": {},
       "data": [
        [
         "dbfs:/FileStore/tables/DepartmentRel.csv",
         "DepartmentRel.csv",
         62,
         1690344550000
        ],
        [
         "dbfs:/FileStore/tables/EmpPay.csv",
         "EmpPay.csv",
         97,
         1689932930000
        ],
        [
         "dbfs:/FileStore/tables/EmployeeRel.csv",
         "EmployeeRel.csv",
         118,
         1690304274000
        ],
        [
         "dbfs:/FileStore/tables/FlightData.csv",
         "FlightData.csv",
         536,
         1690345771000
        ],
        [
         "dbfs:/FileStore/tables/SalesData.csv",
         "SalesData.csv",
         617,
         1689689602000
        ],
        [
         "dbfs:/FileStore/tables/employees.csv",
         "employees.csv",
         61,
         1689692632000
        ]
       ],
       "datasetInfos": [],
       "dbfsResultPath": null,
       "isJsonSchema": true,
       "metadata": {
        "isDbfsCommandResult": false
       },
       "overflow": false,
       "plotOptions": {
        "customPlotOptions": {},
        "displayType": "table",
        "pivotAggregation": null,
        "pivotColumns": null,
        "xColumns": null,
        "yColumns": null
       },
       "removedWidgets": [],
       "schema": [
        {
         "metadata": "{}",
         "name": "path",
         "type": "\"string\""
        },
        {
         "metadata": "{}",
         "name": "name",
         "type": "\"string\""
        },
        {
         "metadata": "{}",
         "name": "size",
         "type": "\"long\""
        },
        {
         "metadata": "{}",
         "name": "modificationTime",
         "type": "\"long\""
        }
       ],
       "type": "table"
      }
     },
     "output_type": "display_data"
    }
   ],
   "source": [
    "%fs\n",
    "ls dbfs:/FileStore/tables"
   ]
  },
  {
   "cell_type": "code",
   "execution_count": 0,
   "metadata": {
    "application/vnd.databricks.v1+cell": {
     "cellMetadata": {
      "byteLimit": 2048000,
      "rowLimit": 10000
     },
     "inputWidgets": {},
     "nuid": "6d00a2d9-299b-41b9-8b53-37312e1af183",
     "showTitle": false,
     "title": ""
    }
   },
   "outputs": [
    {
     "output_type": "display_data",
     "data": {
      "text/html": [
       "<style scoped>\n",
       "  .ansiout {\n",
       "    display: block;\n",
       "    unicode-bidi: embed;\n",
       "    white-space: pre-wrap;\n",
       "    word-wrap: break-word;\n",
       "    word-break: break-all;\n",
       "    font-family: \"Source Code Pro\", \"Menlo\", monospace;;\n",
       "    font-size: 13px;\n",
       "    color: #555;\n",
       "    margin-left: 4px;\n",
       "    line-height: 19px;\n",
       "  }\n",
       "</style>\n",
       "<div class=\"ansiout\">res4: Boolean = false\n",
       "</div>"
      ]
     },
     "metadata": {
      "application/vnd.databricks.v1+output": {
       "addedWidgets": {},
       "arguments": {},
       "data": "<div class=\"ansiout\">res4: Boolean = false\n</div>",
       "datasetInfos": [],
       "metadata": {
        "isDbfsCommandResult": false
       },
       "removedWidgets": [],
       "type": "html"
      }
     },
     "output_type": "display_data"
    }
   ],
   "source": [
    "%fs\n",
    "rm -r dbfs:/FileStore/tables/DepartmentRelwwwwwww.csv"
   ]
  },
  {
   "cell_type": "code",
   "execution_count": 0,
   "metadata": {
    "application/vnd.databricks.v1+cell": {
     "cellMetadata": {
      "byteLimit": 2048000,
      "rowLimit": 10000
     },
     "inputWidgets": {},
     "nuid": "a113a05c-8fb6-49a0-8c4f-45441067a802",
     "showTitle": false,
     "title": ""
    }
   },
   "outputs": [
    {
     "output_type": "display_data",
     "data": {
      "text/html": [
       "<style scoped>\n",
       "  .table-result-container {\n",
       "    max-height: 300px;\n",
       "    overflow: auto;\n",
       "  }\n",
       "  table, th, td {\n",
       "    border: 1px solid black;\n",
       "    border-collapse: collapse;\n",
       "  }\n",
       "  th, td {\n",
       "    padding: 5px;\n",
       "  }\n",
       "  th {\n",
       "    text-align: left;\n",
       "  }\n",
       "</style><div class='table-result-container'><table class='table-result'><thead style='background-color: white'><tr><th>EmpId</th><th>Emp</th><th>DeptId</th><th>Salary</th></tr></thead><tbody><tr><td>1</td><td>Rahul</td><td>1</td><td>10000.0</td></tr><tr><td>2</td><td>Bob</td><td>2</td><td>12000.0</td></tr><tr><td>3</td><td>Jack</td><td>null</td><td>20000.0</td></tr><tr><td>4</td><td>Arun</td><td>6</td><td>18000.0</td></tr><tr><td>5</td><td>Robin</td><td>2</td><td>40000.0</td></tr><tr><td>6</td><td>Mark</td><td>3</td><td>3000.0</td></tr></tbody></table></div>"
      ]
     },
     "metadata": {
      "application/vnd.databricks.v1+output": {
       "addedWidgets": {},
       "aggData": [],
       "aggError": "",
       "aggOverflow": false,
       "aggSchema": [],
       "aggSeriesLimitReached": false,
       "aggType": "",
       "arguments": {},
       "columnCustomDisplayInfos": {},
       "data": [
        [
         1,
         "Rahul",
         1,
         10000.0
        ],
        [
         2,
         "Bob",
         2,
         12000.0
        ],
        [
         3,
         "Jack",
         null,
         20000.0
        ],
        [
         4,
         "Arun",
         6,
         18000.0
        ],
        [
         5,
         "Robin",
         2,
         40000.0
        ],
        [
         6,
         "Mark",
         3,
         3000.0
        ]
       ],
       "datasetInfos": [],
       "dbfsResultPath": null,
       "isJsonSchema": true,
       "metadata": {},
       "overflow": false,
       "plotOptions": {
        "customPlotOptions": {},
        "displayType": "table",
        "pivotAggregation": null,
        "pivotColumns": null,
        "xColumns": null,
        "yColumns": null
       },
       "removedWidgets": [],
       "schema": [
        {
         "metadata": "{}",
         "name": "EmpId",
         "type": "\"integer\""
        },
        {
         "metadata": "{}",
         "name": "Emp",
         "type": "\"string\""
        },
        {
         "metadata": "{}",
         "name": "DeptId",
         "type": "\"integer\""
        },
        {
         "metadata": "{}",
         "name": "Salary",
         "type": "\"double\""
        }
       ],
       "type": "table"
      }
     },
     "output_type": "display_data"
    }
   ],
   "source": [
    "from pyspark.sql.functions import col, lit, current_timestamp\n",
    "from pyspark.sql.types import StructType,StructField, StringType,IntegerType,DoubleType\n",
    "\n",
    "empSchema = StructType([ \n",
    "    StructField(\"EmpId\",IntegerType(),True), \\\n",
    "    StructField(\"Emp\",StringType(),True), \\\n",
    "    StructField(\"DeptId\",IntegerType(),True), \\\n",
    "    StructField(\"Salary\",DoubleType(),True) \\\n",
    "  ])\n",
    "\n",
    "empTable = spark.read.csv(path=\"/FileStore/tables/EmployeeRel.csv\", sep=\"|\", header=True, schema=empSchema)\n",
    "display(empTable)"
   ]
  },
  {
   "cell_type": "code",
   "execution_count": 0,
   "metadata": {
    "application/vnd.databricks.v1+cell": {
     "cellMetadata": {
      "byteLimit": 2048000,
      "rowLimit": 10000
     },
     "inputWidgets": {},
     "nuid": "884576da-fab5-47a7-ba46-ca3db35e813d",
     "showTitle": false,
     "title": ""
    }
   },
   "outputs": [
    {
     "output_type": "display_data",
     "data": {
      "text/html": [
       "<style scoped>\n",
       "  .table-result-container {\n",
       "    max-height: 300px;\n",
       "    overflow: auto;\n",
       "  }\n",
       "  table, th, td {\n",
       "    border: 1px solid black;\n",
       "    border-collapse: collapse;\n",
       "  }\n",
       "  th, td {\n",
       "    padding: 5px;\n",
       "  }\n",
       "  th {\n",
       "    text-align: left;\n",
       "  }\n",
       "</style><div class='table-result-container'><table class='table-result'><thead style='background-color: white'><tr><th>DeptId</th><th>Dept</th></tr></thead><tbody><tr><td>1</td><td>Sales</td></tr><tr><td>2</td><td>Finance</td></tr><tr><td>3</td><td>Marketing</td></tr><tr><td>null</td><td>HR</td></tr><tr><td>5</td><td>Reporting</td></tr></tbody></table></div>"
      ]
     },
     "metadata": {
      "application/vnd.databricks.v1+output": {
       "addedWidgets": {},
       "aggData": [],
       "aggError": "",
       "aggOverflow": false,
       "aggSchema": [],
       "aggSeriesLimitReached": false,
       "aggType": "",
       "arguments": {},
       "columnCustomDisplayInfos": {},
       "data": [
        [
         1,
         "Sales"
        ],
        [
         2,
         "Finance"
        ],
        [
         3,
         "Marketing"
        ],
        [
         null,
         "HR"
        ],
        [
         5,
         "Reporting"
        ]
       ],
       "datasetInfos": [],
       "dbfsResultPath": null,
       "isJsonSchema": true,
       "metadata": {},
       "overflow": false,
       "plotOptions": {
        "customPlotOptions": {},
        "displayType": "table",
        "pivotAggregation": null,
        "pivotColumns": null,
        "xColumns": null,
        "yColumns": null
       },
       "removedWidgets": [],
       "schema": [
        {
         "metadata": "{}",
         "name": "DeptId",
         "type": "\"integer\""
        },
        {
         "metadata": "{}",
         "name": "Dept",
         "type": "\"string\""
        }
       ],
       "type": "table"
      }
     },
     "output_type": "display_data"
    }
   ],
   "source": [
    "from pyspark.sql.functions import col, lit, current_timestamp\n",
    "from pyspark.sql.types import StructType,StructField, StringType,IntegerType,DoubleType\n",
    "\n",
    "deptSchema = StructType([ \n",
    "    StructField(\"DeptId\",IntegerType(),True), \\\n",
    "    StructField(\"Dept\",StringType(),True) \\\n",
    "  ])\n",
    "\n",
    "deptTable = spark.read.csv(path=\"/FileStore/tables/DepartmentRel.csv\", sep=\"|\", header=True, schema=deptSchema)\n",
    "display(deptTable)"
   ]
  },
  {
   "cell_type": "markdown",
   "metadata": {
    "application/vnd.databricks.v1+cell": {
     "cellMetadata": {},
     "inputWidgets": {},
     "nuid": "09f85c5b-86b6-4aa2-b989-a8e587263fdc",
     "showTitle": false,
     "title": ""
    }
   },
   "source": [
    "#### INNER JOIN"
   ]
  },
  {
   "cell_type": "code",
   "execution_count": 0,
   "metadata": {
    "application/vnd.databricks.v1+cell": {
     "cellMetadata": {
      "byteLimit": 2048000,
      "rowLimit": 10000
     },
     "inputWidgets": {},
     "nuid": "b421d71a-72e6-4eb2-a2bb-352faa6b7bf9",
     "showTitle": false,
     "title": ""
    }
   },
   "outputs": [
    {
     "output_type": "display_data",
     "data": {
      "text/html": [
       "<style scoped>\n",
       "  .table-result-container {\n",
       "    max-height: 300px;\n",
       "    overflow: auto;\n",
       "  }\n",
       "  table, th, td {\n",
       "    border: 1px solid black;\n",
       "    border-collapse: collapse;\n",
       "  }\n",
       "  th, td {\n",
       "    padding: 5px;\n",
       "  }\n",
       "  th {\n",
       "    text-align: left;\n",
       "  }\n",
       "</style><div class='table-result-container'><table class='table-result'><thead style='background-color: white'><tr><th>EmpId</th><th>Emp</th><th>DeptId</th><th>Salary</th><th>DeptId</th><th>Dept</th></tr></thead><tbody><tr><td>1</td><td>Rahul</td><td>1</td><td>10000.0</td><td>1</td><td>Sales</td></tr><tr><td>2</td><td>Bob</td><td>2</td><td>12000.0</td><td>2</td><td>Finance</td></tr><tr><td>5</td><td>Robin</td><td>2</td><td>40000.0</td><td>2</td><td>Finance</td></tr><tr><td>6</td><td>Mark</td><td>3</td><td>3000.0</td><td>3</td><td>Marketing</td></tr></tbody></table></div>"
      ]
     },
     "metadata": {
      "application/vnd.databricks.v1+output": {
       "addedWidgets": {},
       "aggData": [],
       "aggError": "",
       "aggOverflow": false,
       "aggSchema": [],
       "aggSeriesLimitReached": false,
       "aggType": "",
       "arguments": {},
       "columnCustomDisplayInfos": {},
       "data": [
        [
         1,
         "Rahul",
         1,
         10000.0,
         1,
         "Sales"
        ],
        [
         2,
         "Bob",
         2,
         12000.0,
         2,
         "Finance"
        ],
        [
         5,
         "Robin",
         2,
         40000.0,
         2,
         "Finance"
        ],
        [
         6,
         "Mark",
         3,
         3000.0,
         3,
         "Marketing"
        ]
       ],
       "datasetInfos": [],
       "dbfsResultPath": null,
       "isJsonSchema": true,
       "metadata": {},
       "overflow": false,
       "plotOptions": {
        "customPlotOptions": {},
        "displayType": "table",
        "pivotAggregation": null,
        "pivotColumns": null,
        "xColumns": null,
        "yColumns": null
       },
       "removedWidgets": [],
       "schema": [
        {
         "metadata": "{}",
         "name": "EmpId",
         "type": "\"integer\""
        },
        {
         "metadata": "{}",
         "name": "Emp",
         "type": "\"string\""
        },
        {
         "metadata": "{}",
         "name": "DeptId",
         "type": "\"integer\""
        },
        {
         "metadata": "{}",
         "name": "Salary",
         "type": "\"double\""
        },
        {
         "metadata": "{}",
         "name": "DeptId",
         "type": "\"integer\""
        },
        {
         "metadata": "{}",
         "name": "Dept",
         "type": "\"string\""
        }
       ],
       "type": "table"
      }
     },
     "output_type": "display_data"
    }
   ],
   "source": [
    "innerDF = empTable.join(deptTable , empTable.DeptId==deptTable.DeptId,\"inner\")\n",
    "display(innerDF)"
   ]
  },
  {
   "cell_type": "code",
   "execution_count": 0,
   "metadata": {
    "application/vnd.databricks.v1+cell": {
     "cellMetadata": {
      "byteLimit": 2048000,
      "rowLimit": 10000
     },
     "inputWidgets": {},
     "nuid": "d7adc4ba-0917-4799-ac68-a1a80895dd6d",
     "showTitle": false,
     "title": ""
    }
   },
   "outputs": [
    {
     "output_type": "display_data",
     "data": {
      "text/html": [
       "<style scoped>\n",
       "  .table-result-container {\n",
       "    max-height: 300px;\n",
       "    overflow: auto;\n",
       "  }\n",
       "  table, th, td {\n",
       "    border: 1px solid black;\n",
       "    border-collapse: collapse;\n",
       "  }\n",
       "  th, td {\n",
       "    padding: 5px;\n",
       "  }\n",
       "  th {\n",
       "    text-align: left;\n",
       "  }\n",
       "</style><div class='table-result-container'><table class='table-result'><thead style='background-color: white'><tr><th>DeptId</th><th>EmpId</th><th>Emp</th><th>Salary</th><th>Dept</th></tr></thead><tbody><tr><td>1</td><td>1</td><td>Rahul</td><td>10000.0</td><td>Sales</td></tr><tr><td>2</td><td>2</td><td>Bob</td><td>12000.0</td><td>Finance</td></tr><tr><td>2</td><td>5</td><td>Robin</td><td>40000.0</td><td>Finance</td></tr><tr><td>3</td><td>6</td><td>Mark</td><td>3000.0</td><td>Marketing</td></tr></tbody></table></div>"
      ]
     },
     "metadata": {
      "application/vnd.databricks.v1+output": {
       "addedWidgets": {},
       "aggData": [],
       "aggError": "",
       "aggOverflow": false,
       "aggSchema": [],
       "aggSeriesLimitReached": false,
       "aggType": "",
       "arguments": {},
       "columnCustomDisplayInfos": {},
       "data": [
        [
         1,
         1,
         "Rahul",
         10000.0,
         "Sales"
        ],
        [
         2,
         2,
         "Bob",
         12000.0,
         "Finance"
        ],
        [
         2,
         5,
         "Robin",
         40000.0,
         "Finance"
        ],
        [
         3,
         6,
         "Mark",
         3000.0,
         "Marketing"
        ]
       ],
       "datasetInfos": [],
       "dbfsResultPath": null,
       "isJsonSchema": true,
       "metadata": {},
       "overflow": false,
       "plotOptions": {
        "customPlotOptions": {},
        "displayType": "table",
        "pivotAggregation": null,
        "pivotColumns": null,
        "xColumns": null,
        "yColumns": null
       },
       "removedWidgets": [],
       "schema": [
        {
         "metadata": "{}",
         "name": "DeptId",
         "type": "\"integer\""
        },
        {
         "metadata": "{}",
         "name": "EmpId",
         "type": "\"integer\""
        },
        {
         "metadata": "{}",
         "name": "Emp",
         "type": "\"string\""
        },
        {
         "metadata": "{}",
         "name": "Salary",
         "type": "\"double\""
        },
        {
         "metadata": "{}",
         "name": "Dept",
         "type": "\"string\""
        }
       ],
       "type": "table"
      }
     },
     "output_type": "display_data"
    }
   ],
   "source": [
    "innerDF = empTable.join(deptTable , \"DeptId\",\"inner\")\n",
    "display(innerDF)"
   ]
  },
  {
   "cell_type": "markdown",
   "metadata": {
    "application/vnd.databricks.v1+cell": {
     "cellMetadata": {},
     "inputWidgets": {},
     "nuid": "5adffb0a-409a-4391-8027-da2b28ef0c19",
     "showTitle": false,
     "title": ""
    }
   },
   "source": [
    "#### LEFT JOIN"
   ]
  },
  {
   "cell_type": "code",
   "execution_count": 0,
   "metadata": {
    "application/vnd.databricks.v1+cell": {
     "cellMetadata": {
      "byteLimit": 2048000,
      "rowLimit": 10000
     },
     "inputWidgets": {},
     "nuid": "c8a199bf-0f01-4777-9fc3-0f01b32e2232",
     "showTitle": false,
     "title": ""
    }
   },
   "outputs": [
    {
     "output_type": "display_data",
     "data": {
      "text/html": [
       "<style scoped>\n",
       "  .table-result-container {\n",
       "    max-height: 300px;\n",
       "    overflow: auto;\n",
       "  }\n",
       "  table, th, td {\n",
       "    border: 1px solid black;\n",
       "    border-collapse: collapse;\n",
       "  }\n",
       "  th, td {\n",
       "    padding: 5px;\n",
       "  }\n",
       "  th {\n",
       "    text-align: left;\n",
       "  }\n",
       "</style><div class='table-result-container'><table class='table-result'><thead style='background-color: white'><tr><th>EmpId</th><th>Emp</th><th>DeptId</th><th>Salary</th><th>DeptId</th><th>Dept</th></tr></thead><tbody><tr><td>1</td><td>Rahul</td><td>1</td><td>10000.0</td><td>1</td><td>Sales</td></tr><tr><td>2</td><td>Bob</td><td>2</td><td>12000.0</td><td>2</td><td>Finance</td></tr><tr><td>3</td><td>Jack</td><td>null</td><td>20000.0</td><td>null</td><td>null</td></tr><tr><td>4</td><td>Arun</td><td>6</td><td>18000.0</td><td>null</td><td>null</td></tr><tr><td>5</td><td>Robin</td><td>2</td><td>40000.0</td><td>2</td><td>Finance</td></tr><tr><td>6</td><td>Mark</td><td>3</td><td>3000.0</td><td>3</td><td>Marketing</td></tr></tbody></table></div>"
      ]
     },
     "metadata": {
      "application/vnd.databricks.v1+output": {
       "addedWidgets": {},
       "aggData": [],
       "aggError": "",
       "aggOverflow": false,
       "aggSchema": [],
       "aggSeriesLimitReached": false,
       "aggType": "",
       "arguments": {},
       "columnCustomDisplayInfos": {},
       "data": [
        [
         1,
         "Rahul",
         1,
         10000.0,
         1,
         "Sales"
        ],
        [
         2,
         "Bob",
         2,
         12000.0,
         2,
         "Finance"
        ],
        [
         3,
         "Jack",
         null,
         20000.0,
         null,
         null
        ],
        [
         4,
         "Arun",
         6,
         18000.0,
         null,
         null
        ],
        [
         5,
         "Robin",
         2,
         40000.0,
         2,
         "Finance"
        ],
        [
         6,
         "Mark",
         3,
         3000.0,
         3,
         "Marketing"
        ]
       ],
       "datasetInfos": [],
       "dbfsResultPath": null,
       "isJsonSchema": true,
       "metadata": {},
       "overflow": false,
       "plotOptions": {
        "customPlotOptions": {},
        "displayType": "table",
        "pivotAggregation": null,
        "pivotColumns": null,
        "xColumns": null,
        "yColumns": null
       },
       "removedWidgets": [],
       "schema": [
        {
         "metadata": "{}",
         "name": "EmpId",
         "type": "\"integer\""
        },
        {
         "metadata": "{}",
         "name": "Emp",
         "type": "\"string\""
        },
        {
         "metadata": "{}",
         "name": "DeptId",
         "type": "\"integer\""
        },
        {
         "metadata": "{}",
         "name": "Salary",
         "type": "\"double\""
        },
        {
         "metadata": "{}",
         "name": "DeptId",
         "type": "\"integer\""
        },
        {
         "metadata": "{}",
         "name": "Dept",
         "type": "\"string\""
        }
       ],
       "type": "table"
      }
     },
     "output_type": "display_data"
    },
    {
     "output_type": "display_data",
     "data": {
      "text/html": [
       "<style scoped>\n",
       "  .table-result-container {\n",
       "    max-height: 300px;\n",
       "    overflow: auto;\n",
       "  }\n",
       "  table, th, td {\n",
       "    border: 1px solid black;\n",
       "    border-collapse: collapse;\n",
       "  }\n",
       "  th, td {\n",
       "    padding: 5px;\n",
       "  }\n",
       "  th {\n",
       "    text-align: left;\n",
       "  }\n",
       "</style><div class='table-result-container'><table class='table-result'><thead style='background-color: white'><tr><th>DeptId</th><th>EmpId</th><th>Emp</th><th>Salary</th><th>Dept</th></tr></thead><tbody><tr><td>1</td><td>1</td><td>Rahul</td><td>10000.0</td><td>Sales</td></tr><tr><td>2</td><td>2</td><td>Bob</td><td>12000.0</td><td>Finance</td></tr><tr><td>null</td><td>3</td><td>Jack</td><td>20000.0</td><td>null</td></tr><tr><td>6</td><td>4</td><td>Arun</td><td>18000.0</td><td>null</td></tr><tr><td>2</td><td>5</td><td>Robin</td><td>40000.0</td><td>Finance</td></tr><tr><td>3</td><td>6</td><td>Mark</td><td>3000.0</td><td>Marketing</td></tr></tbody></table></div>"
      ]
     },
     "metadata": {
      "application/vnd.databricks.v1+output": {
       "addedWidgets": {},
       "aggData": [],
       "aggError": "",
       "aggOverflow": false,
       "aggSchema": [],
       "aggSeriesLimitReached": false,
       "aggType": "",
       "arguments": {},
       "columnCustomDisplayInfos": {},
       "data": [
        [
         1,
         1,
         "Rahul",
         10000.0,
         "Sales"
        ],
        [
         2,
         2,
         "Bob",
         12000.0,
         "Finance"
        ],
        [
         null,
         3,
         "Jack",
         20000.0,
         null
        ],
        [
         6,
         4,
         "Arun",
         18000.0,
         null
        ],
        [
         2,
         5,
         "Robin",
         40000.0,
         "Finance"
        ],
        [
         3,
         6,
         "Mark",
         3000.0,
         "Marketing"
        ]
       ],
       "datasetInfos": [],
       "dbfsResultPath": null,
       "isJsonSchema": true,
       "metadata": {},
       "overflow": false,
       "plotOptions": {
        "customPlotOptions": {},
        "displayType": "table",
        "pivotAggregation": null,
        "pivotColumns": null,
        "xColumns": null,
        "yColumns": null
       },
       "removedWidgets": [],
       "schema": [
        {
         "metadata": "{}",
         "name": "DeptId",
         "type": "\"integer\""
        },
        {
         "metadata": "{}",
         "name": "EmpId",
         "type": "\"integer\""
        },
        {
         "metadata": "{}",
         "name": "Emp",
         "type": "\"string\""
        },
        {
         "metadata": "{}",
         "name": "Salary",
         "type": "\"double\""
        },
        {
         "metadata": "{}",
         "name": "Dept",
         "type": "\"string\""
        }
       ],
       "type": "table"
      }
     },
     "output_type": "display_data"
    }
   ],
   "source": [
    "leftDF = empTable.join(deptTable , empTable.DeptId==deptTable.DeptId,\"left\")\n",
    "display(leftDF)\n",
    "\n",
    "left_outerDF = empTable.join(deptTable , \"DeptId\",\"left_outer\")\n",
    "display(left_outerDF)\n"
   ]
  },
  {
   "cell_type": "markdown",
   "metadata": {
    "application/vnd.databricks.v1+cell": {
     "cellMetadata": {},
     "inputWidgets": {},
     "nuid": "16b77b95-f280-42cc-840f-0ed0a29dc5b2",
     "showTitle": false,
     "title": ""
    }
   },
   "source": [
    "#### RIGHT JOIN"
   ]
  },
  {
   "cell_type": "code",
   "execution_count": 0,
   "metadata": {
    "application/vnd.databricks.v1+cell": {
     "cellMetadata": {
      "byteLimit": 2048000,
      "rowLimit": 10000
     },
     "inputWidgets": {},
     "nuid": "8eafaff9-5e9b-4193-9e0f-a0e761e36416",
     "showTitle": false,
     "title": ""
    }
   },
   "outputs": [
    {
     "output_type": "display_data",
     "data": {
      "text/html": [
       "<style scoped>\n",
       "  .table-result-container {\n",
       "    max-height: 300px;\n",
       "    overflow: auto;\n",
       "  }\n",
       "  table, th, td {\n",
       "    border: 1px solid black;\n",
       "    border-collapse: collapse;\n",
       "  }\n",
       "  th, td {\n",
       "    padding: 5px;\n",
       "  }\n",
       "  th {\n",
       "    text-align: left;\n",
       "  }\n",
       "</style><div class='table-result-container'><table class='table-result'><thead style='background-color: white'><tr><th>EmpId</th><th>Emp</th><th>DeptId</th><th>Salary</th><th>DeptId</th><th>Dept</th></tr></thead><tbody><tr><td>1</td><td>Rahul</td><td>1</td><td>10000.0</td><td>1</td><td>Sales</td></tr><tr><td>5</td><td>Robin</td><td>2</td><td>40000.0</td><td>2</td><td>Finance</td></tr><tr><td>2</td><td>Bob</td><td>2</td><td>12000.0</td><td>2</td><td>Finance</td></tr><tr><td>6</td><td>Mark</td><td>3</td><td>3000.0</td><td>3</td><td>Marketing</td></tr><tr><td>null</td><td>null</td><td>null</td><td>null</td><td>null</td><td>HR</td></tr><tr><td>null</td><td>null</td><td>null</td><td>null</td><td>5</td><td>Reporting</td></tr></tbody></table></div>"
      ]
     },
     "metadata": {
      "application/vnd.databricks.v1+output": {
       "addedWidgets": {},
       "aggData": [],
       "aggError": "",
       "aggOverflow": false,
       "aggSchema": [],
       "aggSeriesLimitReached": false,
       "aggType": "",
       "arguments": {},
       "columnCustomDisplayInfos": {},
       "data": [
        [
         1,
         "Rahul",
         1,
         10000.0,
         1,
         "Sales"
        ],
        [
         5,
         "Robin",
         2,
         40000.0,
         2,
         "Finance"
        ],
        [
         2,
         "Bob",
         2,
         12000.0,
         2,
         "Finance"
        ],
        [
         6,
         "Mark",
         3,
         3000.0,
         3,
         "Marketing"
        ],
        [
         null,
         null,
         null,
         null,
         null,
         "HR"
        ],
        [
         null,
         null,
         null,
         null,
         5,
         "Reporting"
        ]
       ],
       "datasetInfos": [],
       "dbfsResultPath": null,
       "isJsonSchema": true,
       "metadata": {},
       "overflow": false,
       "plotOptions": {
        "customPlotOptions": {},
        "displayType": "table",
        "pivotAggregation": null,
        "pivotColumns": null,
        "xColumns": null,
        "yColumns": null
       },
       "removedWidgets": [],
       "schema": [
        {
         "metadata": "{}",
         "name": "EmpId",
         "type": "\"integer\""
        },
        {
         "metadata": "{}",
         "name": "Emp",
         "type": "\"string\""
        },
        {
         "metadata": "{}",
         "name": "DeptId",
         "type": "\"integer\""
        },
        {
         "metadata": "{}",
         "name": "Salary",
         "type": "\"double\""
        },
        {
         "metadata": "{}",
         "name": "DeptId",
         "type": "\"integer\""
        },
        {
         "metadata": "{}",
         "name": "Dept",
         "type": "\"string\""
        }
       ],
       "type": "table"
      }
     },
     "output_type": "display_data"
    },
    {
     "output_type": "display_data",
     "data": {
      "text/html": [
       "<style scoped>\n",
       "  .table-result-container {\n",
       "    max-height: 300px;\n",
       "    overflow: auto;\n",
       "  }\n",
       "  table, th, td {\n",
       "    border: 1px solid black;\n",
       "    border-collapse: collapse;\n",
       "  }\n",
       "  th, td {\n",
       "    padding: 5px;\n",
       "  }\n",
       "  th {\n",
       "    text-align: left;\n",
       "  }\n",
       "</style><div class='table-result-container'><table class='table-result'><thead style='background-color: white'><tr><th>DeptId</th><th>EmpId</th><th>Emp</th><th>Salary</th><th>Dept</th></tr></thead><tbody><tr><td>1</td><td>1</td><td>Rahul</td><td>10000.0</td><td>Sales</td></tr><tr><td>2</td><td>5</td><td>Robin</td><td>40000.0</td><td>Finance</td></tr><tr><td>2</td><td>2</td><td>Bob</td><td>12000.0</td><td>Finance</td></tr><tr><td>3</td><td>6</td><td>Mark</td><td>3000.0</td><td>Marketing</td></tr><tr><td>null</td><td>null</td><td>null</td><td>null</td><td>HR</td></tr><tr><td>5</td><td>null</td><td>null</td><td>null</td><td>Reporting</td></tr></tbody></table></div>"
      ]
     },
     "metadata": {
      "application/vnd.databricks.v1+output": {
       "addedWidgets": {},
       "aggData": [],
       "aggError": "",
       "aggOverflow": false,
       "aggSchema": [],
       "aggSeriesLimitReached": false,
       "aggType": "",
       "arguments": {},
       "columnCustomDisplayInfos": {},
       "data": [
        [
         1,
         1,
         "Rahul",
         10000.0,
         "Sales"
        ],
        [
         2,
         5,
         "Robin",
         40000.0,
         "Finance"
        ],
        [
         2,
         2,
         "Bob",
         12000.0,
         "Finance"
        ],
        [
         3,
         6,
         "Mark",
         3000.0,
         "Marketing"
        ],
        [
         null,
         null,
         null,
         null,
         "HR"
        ],
        [
         5,
         null,
         null,
         null,
         "Reporting"
        ]
       ],
       "datasetInfos": [],
       "dbfsResultPath": null,
       "isJsonSchema": true,
       "metadata": {},
       "overflow": false,
       "plotOptions": {
        "customPlotOptions": {},
        "displayType": "table",
        "pivotAggregation": null,
        "pivotColumns": null,
        "xColumns": null,
        "yColumns": null
       },
       "removedWidgets": [],
       "schema": [
        {
         "metadata": "{}",
         "name": "DeptId",
         "type": "\"integer\""
        },
        {
         "metadata": "{}",
         "name": "EmpId",
         "type": "\"integer\""
        },
        {
         "metadata": "{}",
         "name": "Emp",
         "type": "\"string\""
        },
        {
         "metadata": "{}",
         "name": "Salary",
         "type": "\"double\""
        },
        {
         "metadata": "{}",
         "name": "Dept",
         "type": "\"string\""
        }
       ],
       "type": "table"
      }
     },
     "output_type": "display_data"
    }
   ],
   "source": [
    "rightDF = empTable.join(deptTable , empTable.DeptId==deptTable.DeptId,\"right\")\n",
    "display(rightDF)\n",
    "\n",
    "\n",
    "right_outerDF = empTable.join(deptTable , \"DeptId\",\"right_outer\")\n",
    "display(right_outerDF)\n"
   ]
  },
  {
   "cell_type": "markdown",
   "metadata": {
    "application/vnd.databricks.v1+cell": {
     "cellMetadata": {},
     "inputWidgets": {},
     "nuid": "53725204-a119-4890-98c4-8f4652bd2847",
     "showTitle": false,
     "title": ""
    }
   },
   "source": [
    "#### OUTER JOIN"
   ]
  },
  {
   "cell_type": "code",
   "execution_count": 0,
   "metadata": {
    "application/vnd.databricks.v1+cell": {
     "cellMetadata": {
      "byteLimit": 2048000,
      "rowLimit": 10000
     },
     "inputWidgets": {},
     "nuid": "442d40c5-7216-451c-9957-2a6044f3252a",
     "showTitle": false,
     "title": ""
    }
   },
   "outputs": [
    {
     "output_type": "display_data",
     "data": {
      "text/html": [
       "<style scoped>\n",
       "  .table-result-container {\n",
       "    max-height: 300px;\n",
       "    overflow: auto;\n",
       "  }\n",
       "  table, th, td {\n",
       "    border: 1px solid black;\n",
       "    border-collapse: collapse;\n",
       "  }\n",
       "  th, td {\n",
       "    padding: 5px;\n",
       "  }\n",
       "  th {\n",
       "    text-align: left;\n",
       "  }\n",
       "</style><div class='table-result-container'><table class='table-result'><thead style='background-color: white'><tr><th>EmpId</th><th>Emp</th><th>DeptId</th><th>Salary</th><th>DeptId</th><th>Dept</th></tr></thead><tbody><tr><td>3</td><td>Jack</td><td>null</td><td>20000.0</td><td>null</td><td>null</td></tr><tr><td>null</td><td>null</td><td>null</td><td>null</td><td>null</td><td>HR</td></tr><tr><td>1</td><td>Rahul</td><td>1</td><td>10000.0</td><td>1</td><td>Sales</td></tr><tr><td>2</td><td>Bob</td><td>2</td><td>12000.0</td><td>2</td><td>Finance</td></tr><tr><td>5</td><td>Robin</td><td>2</td><td>40000.0</td><td>2</td><td>Finance</td></tr><tr><td>6</td><td>Mark</td><td>3</td><td>3000.0</td><td>3</td><td>Marketing</td></tr><tr><td>null</td><td>null</td><td>null</td><td>null</td><td>5</td><td>Reporting</td></tr><tr><td>4</td><td>Arun</td><td>6</td><td>18000.0</td><td>null</td><td>null</td></tr></tbody></table></div>"
      ]
     },
     "metadata": {
      "application/vnd.databricks.v1+output": {
       "addedWidgets": {},
       "aggData": [],
       "aggError": "",
       "aggOverflow": false,
       "aggSchema": [],
       "aggSeriesLimitReached": false,
       "aggType": "",
       "arguments": {},
       "columnCustomDisplayInfos": {},
       "data": [
        [
         3,
         "Jack",
         null,
         20000.0,
         null,
         null
        ],
        [
         null,
         null,
         null,
         null,
         null,
         "HR"
        ],
        [
         1,
         "Rahul",
         1,
         10000.0,
         1,
         "Sales"
        ],
        [
         2,
         "Bob",
         2,
         12000.0,
         2,
         "Finance"
        ],
        [
         5,
         "Robin",
         2,
         40000.0,
         2,
         "Finance"
        ],
        [
         6,
         "Mark",
         3,
         3000.0,
         3,
         "Marketing"
        ],
        [
         null,
         null,
         null,
         null,
         5,
         "Reporting"
        ],
        [
         4,
         "Arun",
         6,
         18000.0,
         null,
         null
        ]
       ],
       "datasetInfos": [],
       "dbfsResultPath": null,
       "isJsonSchema": true,
       "metadata": {},
       "overflow": false,
       "plotOptions": {
        "customPlotOptions": {},
        "displayType": "table",
        "pivotAggregation": null,
        "pivotColumns": null,
        "xColumns": null,
        "yColumns": null
       },
       "removedWidgets": [],
       "schema": [
        {
         "metadata": "{}",
         "name": "EmpId",
         "type": "\"integer\""
        },
        {
         "metadata": "{}",
         "name": "Emp",
         "type": "\"string\""
        },
        {
         "metadata": "{}",
         "name": "DeptId",
         "type": "\"integer\""
        },
        {
         "metadata": "{}",
         "name": "Salary",
         "type": "\"double\""
        },
        {
         "metadata": "{}",
         "name": "DeptId",
         "type": "\"integer\""
        },
        {
         "metadata": "{}",
         "name": "Dept",
         "type": "\"string\""
        }
       ],
       "type": "table"
      }
     },
     "output_type": "display_data"
    },
    {
     "output_type": "display_data",
     "data": {
      "text/html": [
       "<style scoped>\n",
       "  .table-result-container {\n",
       "    max-height: 300px;\n",
       "    overflow: auto;\n",
       "  }\n",
       "  table, th, td {\n",
       "    border: 1px solid black;\n",
       "    border-collapse: collapse;\n",
       "  }\n",
       "  th, td {\n",
       "    padding: 5px;\n",
       "  }\n",
       "  th {\n",
       "    text-align: left;\n",
       "  }\n",
       "</style><div class='table-result-container'><table class='table-result'><thead style='background-color: white'><tr><th>DeptId</th><th>EmpId</th><th>Emp</th><th>Salary</th><th>Dept</th></tr></thead><tbody><tr><td>null</td><td>3</td><td>Jack</td><td>20000.0</td><td>null</td></tr><tr><td>null</td><td>null</td><td>null</td><td>null</td><td>HR</td></tr><tr><td>1</td><td>1</td><td>Rahul</td><td>10000.0</td><td>Sales</td></tr><tr><td>2</td><td>2</td><td>Bob</td><td>12000.0</td><td>Finance</td></tr><tr><td>2</td><td>5</td><td>Robin</td><td>40000.0</td><td>Finance</td></tr><tr><td>3</td><td>6</td><td>Mark</td><td>3000.0</td><td>Marketing</td></tr><tr><td>5</td><td>null</td><td>null</td><td>null</td><td>Reporting</td></tr><tr><td>6</td><td>4</td><td>Arun</td><td>18000.0</td><td>null</td></tr></tbody></table></div>"
      ]
     },
     "metadata": {
      "application/vnd.databricks.v1+output": {
       "addedWidgets": {},
       "aggData": [],
       "aggError": "",
       "aggOverflow": false,
       "aggSchema": [],
       "aggSeriesLimitReached": false,
       "aggType": "",
       "arguments": {},
       "columnCustomDisplayInfos": {},
       "data": [
        [
         null,
         3,
         "Jack",
         20000.0,
         null
        ],
        [
         null,
         null,
         null,
         null,
         "HR"
        ],
        [
         1,
         1,
         "Rahul",
         10000.0,
         "Sales"
        ],
        [
         2,
         2,
         "Bob",
         12000.0,
         "Finance"
        ],
        [
         2,
         5,
         "Robin",
         40000.0,
         "Finance"
        ],
        [
         3,
         6,
         "Mark",
         3000.0,
         "Marketing"
        ],
        [
         5,
         null,
         null,
         null,
         "Reporting"
        ],
        [
         6,
         4,
         "Arun",
         18000.0,
         null
        ]
       ],
       "datasetInfos": [],
       "dbfsResultPath": null,
       "isJsonSchema": true,
       "metadata": {},
       "overflow": false,
       "plotOptions": {
        "customPlotOptions": {},
        "displayType": "table",
        "pivotAggregation": null,
        "pivotColumns": null,
        "xColumns": null,
        "yColumns": null
       },
       "removedWidgets": [],
       "schema": [
        {
         "metadata": "{}",
         "name": "DeptId",
         "type": "\"integer\""
        },
        {
         "metadata": "{}",
         "name": "EmpId",
         "type": "\"integer\""
        },
        {
         "metadata": "{}",
         "name": "Emp",
         "type": "\"string\""
        },
        {
         "metadata": "{}",
         "name": "Salary",
         "type": "\"double\""
        },
        {
         "metadata": "{}",
         "name": "Dept",
         "type": "\"string\""
        }
       ],
       "type": "table"
      }
     },
     "output_type": "display_data"
    },
    {
     "output_type": "display_data",
     "data": {
      "text/html": [
       "<style scoped>\n",
       "  .table-result-container {\n",
       "    max-height: 300px;\n",
       "    overflow: auto;\n",
       "  }\n",
       "  table, th, td {\n",
       "    border: 1px solid black;\n",
       "    border-collapse: collapse;\n",
       "  }\n",
       "  th, td {\n",
       "    padding: 5px;\n",
       "  }\n",
       "  th {\n",
       "    text-align: left;\n",
       "  }\n",
       "</style><div class='table-result-container'><table class='table-result'><thead style='background-color: white'><tr><th>DeptId</th><th>EmpId</th><th>Emp</th><th>Salary</th><th>Dept</th></tr></thead><tbody><tr><td>null</td><td>3</td><td>Jack</td><td>20000.0</td><td>null</td></tr><tr><td>null</td><td>null</td><td>null</td><td>null</td><td>HR</td></tr><tr><td>1</td><td>1</td><td>Rahul</td><td>10000.0</td><td>Sales</td></tr><tr><td>2</td><td>2</td><td>Bob</td><td>12000.0</td><td>Finance</td></tr><tr><td>2</td><td>5</td><td>Robin</td><td>40000.0</td><td>Finance</td></tr><tr><td>3</td><td>6</td><td>Mark</td><td>3000.0</td><td>Marketing</td></tr><tr><td>5</td><td>null</td><td>null</td><td>null</td><td>Reporting</td></tr><tr><td>6</td><td>4</td><td>Arun</td><td>18000.0</td><td>null</td></tr></tbody></table></div>"
      ]
     },
     "metadata": {
      "application/vnd.databricks.v1+output": {
       "addedWidgets": {},
       "aggData": [],
       "aggError": "",
       "aggOverflow": false,
       "aggSchema": [],
       "aggSeriesLimitReached": false,
       "aggType": "",
       "arguments": {},
       "columnCustomDisplayInfos": {},
       "data": [
        [
         null,
         3,
         "Jack",
         20000.0,
         null
        ],
        [
         null,
         null,
         null,
         null,
         "HR"
        ],
        [
         1,
         1,
         "Rahul",
         10000.0,
         "Sales"
        ],
        [
         2,
         2,
         "Bob",
         12000.0,
         "Finance"
        ],
        [
         2,
         5,
         "Robin",
         40000.0,
         "Finance"
        ],
        [
         3,
         6,
         "Mark",
         3000.0,
         "Marketing"
        ],
        [
         5,
         null,
         null,
         null,
         "Reporting"
        ],
        [
         6,
         4,
         "Arun",
         18000.0,
         null
        ]
       ],
       "datasetInfos": [],
       "dbfsResultPath": null,
       "isJsonSchema": true,
       "metadata": {},
       "overflow": false,
       "plotOptions": {
        "customPlotOptions": {},
        "displayType": "table",
        "pivotAggregation": null,
        "pivotColumns": null,
        "xColumns": null,
        "yColumns": null
       },
       "removedWidgets": [],
       "schema": [
        {
         "metadata": "{}",
         "name": "DeptId",
         "type": "\"integer\""
        },
        {
         "metadata": "{}",
         "name": "EmpId",
         "type": "\"integer\""
        },
        {
         "metadata": "{}",
         "name": "Emp",
         "type": "\"string\""
        },
        {
         "metadata": "{}",
         "name": "Salary",
         "type": "\"double\""
        },
        {
         "metadata": "{}",
         "name": "Dept",
         "type": "\"string\""
        }
       ],
       "type": "table"
      }
     },
     "output_type": "display_data"
    }
   ],
   "source": [
    "outerDF = empTable.join(deptTable , empTable.DeptId==deptTable.DeptId,\"outer\")\n",
    "display(outerDF)\n",
    "\n",
    "fullouterDF = empTable.join(deptTable , \"DeptId\",\"full\")\n",
    "display(fullouterDF)\n",
    "\n",
    "full_outerDF = empTable.join(deptTable , \"DeptId\",\"full_outer\")\n",
    "display(full_outerDF)"
   ]
  },
  {
   "cell_type": "markdown",
   "metadata": {
    "application/vnd.databricks.v1+cell": {
     "cellMetadata": {},
     "inputWidgets": {},
     "nuid": "04dbc6ad-9250-4ac8-b27f-47e13b1a97fc",
     "showTitle": false,
     "title": ""
    }
   },
   "source": [
    "####LEFT ANTI JOIN"
   ]
  },
  {
   "cell_type": "code",
   "execution_count": 0,
   "metadata": {
    "application/vnd.databricks.v1+cell": {
     "cellMetadata": {
      "byteLimit": 2048000,
      "rowLimit": 10000
     },
     "inputWidgets": {},
     "nuid": "02dce799-c2a5-418b-9877-21917a9005b1",
     "showTitle": false,
     "title": ""
    }
   },
   "outputs": [
    {
     "output_type": "display_data",
     "data": {
      "text/html": [
       "<style scoped>\n",
       "  .table-result-container {\n",
       "    max-height: 300px;\n",
       "    overflow: auto;\n",
       "  }\n",
       "  table, th, td {\n",
       "    border: 1px solid black;\n",
       "    border-collapse: collapse;\n",
       "  }\n",
       "  th, td {\n",
       "    padding: 5px;\n",
       "  }\n",
       "  th {\n",
       "    text-align: left;\n",
       "  }\n",
       "</style><div class='table-result-container'><table class='table-result'><thead style='background-color: white'><tr><th>EmpId</th><th>Emp</th><th>DeptId</th><th>Salary</th></tr></thead><tbody><tr><td>3</td><td>Jack</td><td>null</td><td>20000.0</td></tr><tr><td>4</td><td>Arun</td><td>6</td><td>18000.0</td></tr></tbody></table></div>"
      ]
     },
     "metadata": {
      "application/vnd.databricks.v1+output": {
       "addedWidgets": {},
       "aggData": [],
       "aggError": "",
       "aggOverflow": false,
       "aggSchema": [],
       "aggSeriesLimitReached": false,
       "aggType": "",
       "arguments": {},
       "columnCustomDisplayInfos": {},
       "data": [
        [
         3,
         "Jack",
         null,
         20000.0
        ],
        [
         4,
         "Arun",
         6,
         18000.0
        ]
       ],
       "datasetInfos": [],
       "dbfsResultPath": null,
       "isJsonSchema": true,
       "metadata": {},
       "overflow": false,
       "plotOptions": {
        "customPlotOptions": {},
        "displayType": "table",
        "pivotAggregation": null,
        "pivotColumns": null,
        "xColumns": null,
        "yColumns": null
       },
       "removedWidgets": [],
       "schema": [
        {
         "metadata": "{}",
         "name": "EmpId",
         "type": "\"integer\""
        },
        {
         "metadata": "{}",
         "name": "Emp",
         "type": "\"string\""
        },
        {
         "metadata": "{}",
         "name": "DeptId",
         "type": "\"integer\""
        },
        {
         "metadata": "{}",
         "name": "Salary",
         "type": "\"double\""
        }
       ],
       "type": "table"
      }
     },
     "output_type": "display_data"
    }
   ],
   "source": [
    "leftantiDF = empTable.join(deptTable , empTable.DeptId==deptTable.DeptId,\"leftanti\")\n",
    "display(leftantiDF)"
   ]
  },
  {
   "cell_type": "markdown",
   "metadata": {
    "application/vnd.databricks.v1+cell": {
     "cellMetadata": {},
     "inputWidgets": {},
     "nuid": "fad2ebb5-287a-4819-b490-9a22131b355a",
     "showTitle": false,
     "title": ""
    }
   },
   "source": [
    "#####LEFT SEMI JOIN  OR SEMI JOIN"
   ]
  },
  {
   "cell_type": "code",
   "execution_count": 0,
   "metadata": {
    "application/vnd.databricks.v1+cell": {
     "cellMetadata": {
      "byteLimit": 2048000,
      "rowLimit": 10000
     },
     "inputWidgets": {},
     "nuid": "b6f1cb7d-9aef-4399-b621-5bd0ab09fb35",
     "showTitle": false,
     "title": ""
    }
   },
   "outputs": [
    {
     "output_type": "display_data",
     "data": {
      "text/html": [
       "<style scoped>\n",
       "  .table-result-container {\n",
       "    max-height: 300px;\n",
       "    overflow: auto;\n",
       "  }\n",
       "  table, th, td {\n",
       "    border: 1px solid black;\n",
       "    border-collapse: collapse;\n",
       "  }\n",
       "  th, td {\n",
       "    padding: 5px;\n",
       "  }\n",
       "  th {\n",
       "    text-align: left;\n",
       "  }\n",
       "</style><div class='table-result-container'><table class='table-result'><thead style='background-color: white'><tr><th>EmpId</th><th>Emp</th><th>DeptId</th><th>Salary</th></tr></thead><tbody><tr><td>1</td><td>Rahul</td><td>1</td><td>10000.0</td></tr><tr><td>2</td><td>Bob</td><td>2</td><td>12000.0</td></tr><tr><td>5</td><td>Robin</td><td>2</td><td>40000.0</td></tr><tr><td>6</td><td>Mark</td><td>3</td><td>3000.0</td></tr></tbody></table></div>"
      ]
     },
     "metadata": {
      "application/vnd.databricks.v1+output": {
       "addedWidgets": {},
       "aggData": [],
       "aggError": "",
       "aggOverflow": false,
       "aggSchema": [],
       "aggSeriesLimitReached": false,
       "aggType": "",
       "arguments": {},
       "columnCustomDisplayInfos": {},
       "data": [
        [
         1,
         "Rahul",
         1,
         10000.0
        ],
        [
         2,
         "Bob",
         2,
         12000.0
        ],
        [
         5,
         "Robin",
         2,
         40000.0
        ],
        [
         6,
         "Mark",
         3,
         3000.0
        ]
       ],
       "datasetInfos": [],
       "dbfsResultPath": null,
       "isJsonSchema": true,
       "metadata": {},
       "overflow": false,
       "plotOptions": {
        "customPlotOptions": {},
        "displayType": "table",
        "pivotAggregation": null,
        "pivotColumns": null,
        "xColumns": null,
        "yColumns": null
       },
       "removedWidgets": [],
       "schema": [
        {
         "metadata": "{}",
         "name": "EmpId",
         "type": "\"integer\""
        },
        {
         "metadata": "{}",
         "name": "Emp",
         "type": "\"string\""
        },
        {
         "metadata": "{}",
         "name": "DeptId",
         "type": "\"integer\""
        },
        {
         "metadata": "{}",
         "name": "Salary",
         "type": "\"double\""
        }
       ],
       "type": "table"
      }
     },
     "output_type": "display_data"
    },
    {
     "output_type": "display_data",
     "data": {
      "text/html": [
       "<style scoped>\n",
       "  .table-result-container {\n",
       "    max-height: 300px;\n",
       "    overflow: auto;\n",
       "  }\n",
       "  table, th, td {\n",
       "    border: 1px solid black;\n",
       "    border-collapse: collapse;\n",
       "  }\n",
       "  th, td {\n",
       "    padding: 5px;\n",
       "  }\n",
       "  th {\n",
       "    text-align: left;\n",
       "  }\n",
       "</style><div class='table-result-container'><table class='table-result'><thead style='background-color: white'><tr><th>EmpId</th><th>Emp</th><th>DeptId</th><th>Salary</th></tr></thead><tbody><tr><td>1</td><td>Rahul</td><td>1</td><td>10000.0</td></tr><tr><td>2</td><td>Bob</td><td>2</td><td>12000.0</td></tr><tr><td>5</td><td>Robin</td><td>2</td><td>40000.0</td></tr><tr><td>6</td><td>Mark</td><td>3</td><td>3000.0</td></tr></tbody></table></div>"
      ]
     },
     "metadata": {
      "application/vnd.databricks.v1+output": {
       "addedWidgets": {},
       "aggData": [],
       "aggError": "",
       "aggOverflow": false,
       "aggSchema": [],
       "aggSeriesLimitReached": false,
       "aggType": "",
       "arguments": {},
       "columnCustomDisplayInfos": {},
       "data": [
        [
         1,
         "Rahul",
         1,
         10000.0
        ],
        [
         2,
         "Bob",
         2,
         12000.0
        ],
        [
         5,
         "Robin",
         2,
         40000.0
        ],
        [
         6,
         "Mark",
         3,
         3000.0
        ]
       ],
       "datasetInfos": [],
       "dbfsResultPath": null,
       "isJsonSchema": true,
       "metadata": {},
       "overflow": false,
       "plotOptions": {
        "customPlotOptions": {},
        "displayType": "table",
        "pivotAggregation": null,
        "pivotColumns": null,
        "xColumns": null,
        "yColumns": null
       },
       "removedWidgets": [],
       "schema": [
        {
         "metadata": "{}",
         "name": "EmpId",
         "type": "\"integer\""
        },
        {
         "metadata": "{}",
         "name": "Emp",
         "type": "\"string\""
        },
        {
         "metadata": "{}",
         "name": "DeptId",
         "type": "\"integer\""
        },
        {
         "metadata": "{}",
         "name": "Salary",
         "type": "\"double\""
        }
       ],
       "type": "table"
      }
     },
     "output_type": "display_data"
    }
   ],
   "source": [
    "leftsemiDF = empTable.join(deptTable , empTable.DeptId==deptTable.DeptId,\"leftsemi\")\n",
    "display(leftsemiDF)\n",
    "\n",
    "semiDF = empTable.join(deptTable , empTable.DeptId==deptTable.DeptId,\"semi\")\n",
    "display(semiDF)\n"
   ]
  },
  {
   "cell_type": "markdown",
   "metadata": {
    "application/vnd.databricks.v1+cell": {
     "cellMetadata": {},
     "inputWidgets": {},
     "nuid": "35902849-e153-4771-b683-5c18f6c01251",
     "showTitle": false,
     "title": ""
    }
   },
   "source": [
    "#### SQL Expression"
   ]
  },
  {
   "cell_type": "code",
   "execution_count": 0,
   "metadata": {
    "application/vnd.databricks.v1+cell": {
     "cellMetadata": {
      "byteLimit": 2048000,
      "rowLimit": 10000
     },
     "inputWidgets": {},
     "nuid": "087a7c4d-72a5-4c0c-8e75-f344e1bb2a9e",
     "showTitle": false,
     "title": ""
    }
   },
   "outputs": [],
   "source": [
    "empTable.createOrReplaceTempView(\"empTempVW\")\n",
    "deptTable.createOrReplaceTempView(\"deptTempVW\")\n"
   ]
  },
  {
   "cell_type": "code",
   "execution_count": 0,
   "metadata": {
    "application/vnd.databricks.v1+cell": {
     "cellMetadata": {
      "byteLimit": 2048000,
      "rowLimit": 10000
     },
     "inputWidgets": {},
     "nuid": "91634c32-a040-4113-bf6e-9c2c17431a51",
     "showTitle": false,
     "title": ""
    }
   },
   "outputs": [
    {
     "output_type": "stream",
     "name": "stdout",
     "output_type": "stream",
     "text": [
      "+-----+-----+------+-------+------+---------+\n|EmpId|Emp  |DeptId|Salary |DeptId|Dept     |\n+-----+-----+------+-------+------+---------+\n|1    |Rahul|1     |10000.0|1     |Sales    |\n|2    |Bob  |2     |12000.0|2     |Finance  |\n|5    |Robin|2     |40000.0|2     |Finance  |\n|6    |Mark |3     |3000.0 |3     |Marketing|\n+-----+-----+------+-------+------+---------+\n\n+-----+-----+------+-------+------+---------+\n|EmpId|Emp  |DeptId|Salary |DeptId|Dept     |\n+-----+-----+------+-------+------+---------+\n|1    |Rahul|1     |10000.0|1     |Sales    |\n|2    |Bob  |2     |12000.0|2     |Finance  |\n|5    |Robin|2     |40000.0|2     |Finance  |\n|6    |Mark |3     |3000.0 |3     |Marketing|\n+-----+-----+------+-------+------+---------+\n\n"
     ]
    }
   ],
   "source": [
    "\n",
    "joinDF = spark.sql(\"select * from empTempVW e, deptTempVW d where e.DeptId == d.DeptId\") \\\n",
    ".show(truncate=False)\n",
    "\n",
    "joinDF2 = spark.sql(\"select * from empTempVW e INNER JOIN deptTempVW d ON e.DeptId == d.DeptId\") \\\n",
    ".show(truncate=False)"
   ]
  }
 ],
 "metadata": {
  "application/vnd.databricks.v1+notebook": {
   "dashboards": [],
   "language": "python",
   "notebookMetadata": {
    "mostRecentlyExecutedCommandWithImplicitDF": {
     "commandId": 1568195193604718,
     "dataframes": [
      "_sqldf"
     ]
    },
    "pythonIndentUnit": 4
   },
   "notebookName": "AzureJoin",
   "widgets": {}
  }
 },
 "nbformat": 4,
 "nbformat_minor": 0
}
