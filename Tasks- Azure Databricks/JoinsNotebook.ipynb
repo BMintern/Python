{
 "cells": [
  {
   "cell_type": "code",
   "execution_count": 0,
   "metadata": {
    "application/vnd.databricks.v1+cell": {
     "cellMetadata": {
      "byteLimit": 2048000,
      "rowLimit": 10000
     },
     "inputWidgets": {},
     "nuid": "9771321a-8d77-4856-a63a-108de117cf6f",
     "showTitle": false,
     "title": ""
    }
   },
   "outputs": [
    {
     "output_type": "stream",
     "name": "stdout",
     "output_type": "stream",
     "text": [
      "+---+------+------+----+\n| id|  Name|Salary|Dept|\n+---+------+------+----+\n|  1|Pranay|700000|   1|\n|  2| Ayush|600000|   3|\n|  3|Rutuja|500000|   4|\n+---+------+------+----+\n\n+---+--------+\n| id|    name|\n+---+--------+\n|  1|DE-Azure|\n|  2|      DS|\n|  3|  DE-AWS|\n+---+--------+\n\n"
     ]
    }
   ],
   "source": [
    "data1=[(1,'Pranay',700000,1),(2,'Ayush',600000,3),(3,'Rutuja',500000,4)]\n",
    "cols1=['id','Name','Salary','Dept']\n",
    "\n",
    "data2=[(1,'DE-Azure'),(2,'DS'),(3,'DE-AWS')]\n",
    "cols2=['id','name']\n",
    "\n",
    "empDF=spark.createDataFrame(data1,cols1)\n",
    "DeptDF=spark.createDataFrame(data2,cols2)\n",
    "\n",
    "empDF.show()\n",
    "DeptDF.show()"
   ]
  },
  {
   "cell_type": "code",
   "execution_count": 0,
   "metadata": {
    "application/vnd.databricks.v1+cell": {
     "cellMetadata": {
      "byteLimit": 2048000,
      "rowLimit": 10000
     },
     "inputWidgets": {},
     "nuid": "be96245d-8852-41f6-8744-e005f2bb13ac",
     "showTitle": false,
     "title": ""
    }
   },
   "outputs": [
    {
     "output_type": "stream",
     "name": "stdout",
     "output_type": "stream",
     "text": [
      "+---+------+------+----+---+--------+\n| id|  Name|Salary|Dept| id|    name|\n+---+------+------+----+---+--------+\n|  1|Pranay|700000|   1|  1|DE-Azure|\n|  2| Ayush|600000|   3|  3|  DE-AWS|\n+---+------+------+----+---+--------+\n\n"
     ]
    }
   ],
   "source": [
    "#inner join\n",
    "\n",
    "empDF.join(DeptDF, empDF.Dept==DeptDF.id,'inner').show()"
   ]
  },
  {
   "cell_type": "code",
   "execution_count": 0,
   "metadata": {
    "application/vnd.databricks.v1+cell": {
     "cellMetadata": {
      "byteLimit": 2048000,
      "rowLimit": 10000
     },
     "inputWidgets": {},
     "nuid": "48f1a9a6-e1b4-456f-87d1-5a256402f137",
     "showTitle": false,
     "title": ""
    }
   },
   "outputs": [
    {
     "output_type": "stream",
     "name": "stdout",
     "output_type": "stream",
     "text": [
      "+---+------+------+----+----+--------+\n| id|  Name|Salary|Dept|  id|    name|\n+---+------+------+----+----+--------+\n|  1|Pranay|700000|   1|   1|DE-Azure|\n|  2| Ayush|600000|   3|   3|  DE-AWS|\n|  3|Rutuja|500000|   4|null|    null|\n+---+------+------+----+----+--------+\n\n"
     ]
    }
   ],
   "source": [
    "#left join\n",
    "empDF.join(DeptDF, empDF.Dept==DeptDF.id,'left').show()"
   ]
  },
  {
   "cell_type": "code",
   "execution_count": 0,
   "metadata": {
    "application/vnd.databricks.v1+cell": {
     "cellMetadata": {
      "byteLimit": 2048000,
      "rowLimit": 10000
     },
     "inputWidgets": {},
     "nuid": "5ff165f0-5efb-4ad5-be49-4cd992d81c0d",
     "showTitle": false,
     "title": ""
    }
   },
   "outputs": [
    {
     "output_type": "stream",
     "name": "stdout",
     "output_type": "stream",
     "text": [
      "+----+------+------+----+---+--------+\n|  id|  Name|Salary|Dept| id|    name|\n+----+------+------+----+---+--------+\n|   1|Pranay|700000|   1|  1|DE-Azure|\n|null|  null|  null|null|  2|      DS|\n|   2| Ayush|600000|   3|  3|  DE-AWS|\n+----+------+------+----+---+--------+\n\n"
     ]
    }
   ],
   "source": [
    "#right join\n",
    "empDF.join(DeptDF, empDF.Dept==DeptDF.id,'right').show()"
   ]
  },
  {
   "cell_type": "code",
   "execution_count": 0,
   "metadata": {
    "application/vnd.databricks.v1+cell": {
     "cellMetadata": {
      "byteLimit": 2048000,
      "rowLimit": 10000
     },
     "inputWidgets": {},
     "nuid": "109c1ad0-6ae8-47d5-a45a-6f60fbf2127f",
     "showTitle": false,
     "title": ""
    }
   },
   "outputs": [
    {
     "output_type": "stream",
     "name": "stdout",
     "output_type": "stream",
     "text": [
      "+----+------+------+----+----+--------+\n|  id|  Name|Salary|Dept|  id|    name|\n+----+------+------+----+----+--------+\n|   1|Pranay|700000|   1|   1|DE-Azure|\n|null|  null|  null|null|   2|      DS|\n|   2| Ayush|600000|   3|   3|  DE-AWS|\n|   3|Rutuja|500000|   4|null|    null|\n+----+------+------+----+----+--------+\n\n"
     ]
    }
   ],
   "source": [
    "#full outer join\n",
    "empDF.join(DeptDF, empDF.Dept==DeptDF.id,'fullouter').show()"
   ]
  },
  {
   "cell_type": "code",
   "execution_count": 0,
   "metadata": {
    "application/vnd.databricks.v1+cell": {
     "cellMetadata": {
      "byteLimit": 2048000,
      "rowLimit": 10000
     },
     "inputWidgets": {},
     "nuid": "681777d7-e7c4-4828-868a-1a297f6c2aa3",
     "showTitle": false,
     "title": ""
    }
   },
   "outputs": [
    {
     "output_type": "stream",
     "name": "stdout",
     "output_type": "stream",
     "text": [
      "+---+------+------+----+\n| id|  Name|Salary|Dept|\n+---+------+------+----+\n|  1|Pranay|700000|   1|\n|  2| Ayush|600000|   3|\n+---+------+------+----+\n\n"
     ]
    }
   ],
   "source": [
    "#left semi join - It gives the matching record but shows ONLY which have matching values in left table\n",
    "empDF.join(DeptDF, empDF.Dept==DeptDF.id,'leftsemi').show()"
   ]
  },
  {
   "cell_type": "code",
   "execution_count": 0,
   "metadata": {
    "application/vnd.databricks.v1+cell": {
     "cellMetadata": {
      "byteLimit": 2048000,
      "rowLimit": 10000
     },
     "inputWidgets": {},
     "nuid": "e9c3a7e1-f9b8-43d0-8348-aa272da5fd86",
     "showTitle": false,
     "title": ""
    }
   },
   "outputs": [
    {
     "output_type": "stream",
     "name": "stdout",
     "output_type": "stream",
     "text": [
      "+---+------+------+----+\n| id|  Name|Salary|Dept|\n+---+------+------+----+\n|  3|Rutuja|500000|   4|\n+---+------+------+----+\n\n"
     ]
    }
   ],
   "source": [
    "#left anti join-  It gives the record but shows ONLY which does not have matching values in left table\n",
    "empDF.join(DeptDF, empDF.Dept==DeptDF.id,'leftanti').show()"
   ]
  },
  {
   "cell_type": "code",
   "execution_count": 0,
   "metadata": {
    "application/vnd.databricks.v1+cell": {
     "cellMetadata": {
      "byteLimit": 2048000,
      "rowLimit": 10000
     },
     "inputWidgets": {},
     "nuid": "46ff8593-75ad-49f6-9d46-5b72959823e3",
     "showTitle": false,
     "title": ""
    }
   },
   "outputs": [
    {
     "output_type": "stream",
     "name": "stdout",
     "output_type": "stream",
     "text": [
      "+---+------+------+----+\n| id|  Name|Salary|Dept|\n+---+------+------+----+\n|  3|Rutuja|500000|   4|\n+---+------+------+----+\n\n"
     ]
    }
   ],
   "source": [
    "#anti join- same as left anti\n",
    "empDF.join(DeptDF, empDF.Dept==DeptDF.id,'anti').show()  #same as left anti"
   ]
  },
  {
   "cell_type": "code",
   "execution_count": 0,
   "metadata": {
    "application/vnd.databricks.v1+cell": {
     "cellMetadata": {
      "byteLimit": 2048000,
      "rowLimit": 10000
     },
     "inputWidgets": {},
     "nuid": "c027d19c-7706-4df4-8b01-43b3334fff09",
     "showTitle": false,
     "title": ""
    }
   },
   "outputs": [
    {
     "output_type": "stream",
     "name": "stdout",
     "output_type": "stream",
     "text": [
      "+---+------+------+----+---+--------+\n| id|  Name|Salary|Dept| id|    name|\n+---+------+------+----+---+--------+\n|  1|Pranay|700000|   1|  1|DE-Azure|\n|  2| Ayush|600000|   3|  3|  DE-AWS|\n+---+------+------+----+---+--------+\n\n"
     ]
    }
   ],
   "source": [
    "empDF.join(DeptDF, empDF.Dept==DeptDF.id,'cross').show()"
   ]
  },
  {
   "cell_type": "code",
   "execution_count": 0,
   "metadata": {
    "application/vnd.databricks.v1+cell": {
     "cellMetadata": {
      "byteLimit": 2048000,
      "rowLimit": 10000
     },
     "inputWidgets": {},
     "nuid": "8a714a4a-1db6-48fa-92de-4f09ef31e9ea",
     "showTitle": false,
     "title": ""
    }
   },
   "outputs": [
    {
     "output_type": "stream",
     "name": "stdout",
     "output_type": "stream",
     "text": [
      "+---+------+---------+\n| id|  Name|managerid|\n+---+------+---------+\n|  1|Pranay|        0|\n|  2| Ayush|        1|\n|  3|Rutuja|        2|\n+---+------+---------+\n\n+---+------+---------+----+------+---------+\n| id|  Name|managerid|  id|  Name|managerid|\n+---+------+---------+----+------+---------+\n|  1|Pranay|        0|null|  null|     null|\n|  2| Ayush|        1|   1|Pranay|        0|\n|  3|Rutuja|        2|   2| Ayush|        1|\n+---+------+---------+----+------+---------+\n\n+-------+-------+\n|empName|mgrName|\n+-------+-------+\n| Pranay|   null|\n|  Ayush| Pranay|\n| Rutuja|  Ayush|\n+-------+-------+\n\n"
     ]
    }
   ],
   "source": [
    "#self Join\n",
    "data=[(1,'Pranay',0),(2,'Ayush',1),(3,'Rutuja',2)]\n",
    "cols1=['id','Name','managerid']\n",
    "\n",
    "df=spark.createDataFrame(data,cols1)\n",
    "df.show()\n",
    "\n",
    "from pyspark.sql.functions import col\n",
    "df.alias('empData').join(df.alias('mgrData'),\\\n",
    "    col('empData.managerid')==col('mgrData.id')\\\n",
    "        ,'left').show()\n",
    "\n",
    "\n",
    "\n",
    "df.alias('empData').join(df.alias('mgrData'),\\\n",
    "    col('empData.managerid')==col('mgrData.id')\\\n",
    "        ,'left')\\\n",
    ".select(col('empData.name').alias('empName'),col('mgrData.name').alias('mgrName')).show()"
   ]
  },
  {
   "cell_type": "code",
   "execution_count": 0,
   "metadata": {
    "application/vnd.databricks.v1+cell": {
     "cellMetadata": {},
     "inputWidgets": {},
     "nuid": "c449950c-faa7-40e9-b79a-ea2d4852b51c",
     "showTitle": false,
     "title": ""
    }
   },
   "outputs": [],
   "source": []
  }
 ],
 "metadata": {
  "application/vnd.databricks.v1+notebook": {
   "dashboards": [],
   "language": "python",
   "notebookMetadata": {
    "pythonIndentUnit": 4
   },
   "notebookName": "JoinsNotebook",
   "widgets": {}
  }
 },
 "nbformat": 4,
 "nbformat_minor": 0
}
