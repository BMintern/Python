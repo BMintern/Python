{
 "cells": [
  {
   "cell_type": "code",
   "execution_count": 0,
   "metadata": {
    "application/vnd.databricks.v1+cell": {
     "cellMetadata": {
      "byteLimit": 2048000,
      "rowLimit": 10000
     },
     "inputWidgets": {},
     "nuid": "8f9b152a-867c-4c8b-ae30-faa34951db48",
     "showTitle": false,
     "title": ""
    }
   },
   "outputs": [],
   "source": [
    "dbutils.widgets.combobox(name=\"fruitsCB\",defaultValue='apple', choices=['apple','banana','orange'], label='Fruits Combobox')"
   ]
  },
  {
   "cell_type": "code",
   "execution_count": 0,
   "metadata": {
    "application/vnd.databricks.v1+cell": {
     "cellMetadata": {
      "byteLimit": 2048000,
      "rowLimit": 10000
     },
     "inputWidgets": {},
     "nuid": "b12deb00-66c3-43de-9efa-95a894269c20",
     "showTitle": false,
     "title": ""
    }
   },
   "outputs": [],
   "source": [
    "dbutils.widgets.dropdown(name=\"fruitsDD\",defaultValue='apple', choices=['apple','banana','orange'], label='Fruits Dropdown')"
   ]
  },
  {
   "cell_type": "code",
   "execution_count": 0,
   "metadata": {
    "application/vnd.databricks.v1+cell": {
     "cellMetadata": {
      "byteLimit": 2048000,
      "rowLimit": 10000
     },
     "inputWidgets": {},
     "nuid": "456f2e33-2410-4d49-b8d7-4f297fd78001",
     "showTitle": false,
     "title": ""
    }
   },
   "outputs": [],
   "source": [
    "dbutils.widgets.multiselect(name=\"fruitsMS\",defaultValue='apple', choices=['apple','banana','orange'], label='Fruits MultiSelect')"
   ]
  },
  {
   "cell_type": "code",
   "execution_count": 0,
   "metadata": {
    "application/vnd.databricks.v1+cell": {
     "cellMetadata": {
      "byteLimit": 2048000,
      "rowLimit": 10000
     },
     "inputWidgets": {},
     "nuid": "1caf2298-b015-4f32-9663-6301b3221ec9",
     "showTitle": false,
     "title": ""
    }
   },
   "outputs": [],
   "source": [
    "dbutils.widgets.text(name=\"fruitsText\",defaultValue='apple', label='Fruits Text')"
   ]
  },
  {
   "cell_type": "code",
   "execution_count": 0,
   "metadata": {
    "application/vnd.databricks.v1+cell": {
     "cellMetadata": {
      "byteLimit": 2048000,
      "rowLimit": 10000
     },
     "inputWidgets": {},
     "nuid": "06a0ce98-cdf2-4c14-a4ea-e6299a35e908",
     "showTitle": false,
     "title": ""
    }
   },
   "outputs": [
    {
     "output_type": "stream",
     "name": "stdout",
     "output_type": "stream",
     "text": [
      "Out[13]: 'apple'"
     ]
    }
   ],
   "source": [
    "dbutils.widgets.getArgument('fruitsText')"
   ]
  },
  {
   "cell_type": "code",
   "execution_count": 0,
   "metadata": {
    "application/vnd.databricks.v1+cell": {
     "cellMetadata": {
      "byteLimit": 2048000,
      "rowLimit": 10000
     },
     "inputWidgets": {},
     "nuid": "7c9da055-0dbb-4e3e-b579-bac33d585fac",
     "showTitle": false,
     "title": ""
    }
   },
   "outputs": [
    {
     "output_type": "stream",
     "name": "stdout",
     "output_type": "stream",
     "text": [
      "Deprecation warning: Use dbutils.widgets.text() or dbutils.widgets.dropdown() to create a widget and dbutils.widgets.get() to get its bound value.\nOut[15]: 'error: This Widget not available'"
     ]
    }
   ],
   "source": [
    "dbutils.widgets.getArgument('fruitsText1', 'error: This Widget not available')"
   ]
  },
  {
   "cell_type": "code",
   "execution_count": 0,
   "metadata": {
    "application/vnd.databricks.v1+cell": {
     "cellMetadata": {},
     "inputWidgets": {},
     "nuid": "42e738f4-54b6-4a0b-9996-f710dc6853cd",
     "showTitle": false,
     "title": ""
    }
   },
   "outputs": [],
   "source": [
    "dbutils.widgets.remove('fruitsText2')\n",
    "dbutils.widgets.removeAll()"
   ]
  }
 ],
 "metadata": {
  "application/vnd.databricks.v1+notebook": {
   "dashboards": [],
   "language": "python",
   "notebookMetadata": {
    "pythonIndentUnit": 4
   },
   "notebookName": "Widgets Notebook",
   "widgets": {
    "fruitsCB": {
     "currentValue": "apple",
     "nuid": "11ed8f65-8088-4be4-ad65-53967b947750",
     "widgetInfo": {
      "widgetType": "combobox",
      "defaultValue": "apple",
      "label": "Fruits Combobox",
      "name": "fruitsCB",
      "options": {
       "widgetType": "dropdown",
       "choices": [
        "apple",
        "banana",
        "orange"
       ]
      }
     }
    },
    "fruitsDD": {
     "currentValue": "orange",
     "nuid": "ae959499-a0e0-40eb-8761-70d7ba002f9f",
     "widgetInfo": {
      "widgetType": "dropdown",
      "defaultValue": "apple",
      "label": "Fruits Dropdown",
      "name": "fruitsDD",
      "options": {
       "widgetType": "dropdown",
       "choices": [
        "apple",
        "banana",
        "orange"
       ]
      }
     }
    },
    "fruitsMS": {
     "currentValue": "apple,banana,orange",
     "nuid": "5a11676c-de52-4668-8fdc-34f193d9fc9b",
     "widgetInfo": {
      "widgetType": "multiselect",
      "defaultValue": "apple",
      "label": "Fruits MultiSelect",
      "name": "fruitsMS",
      "options": {
       "widgetType": "dropdown",
       "choices": [
        "apple",
        "banana",
        "orange"
       ]
      }
     }
    },
    "fruitsText": {
     "currentValue": "apple",
     "nuid": "7d9b640f-20bd-4353-8e0d-cc7a14dcfda1",
     "widgetInfo": {
      "widgetType": "text",
      "defaultValue": "apple",
      "label": "Fruits Text",
      "name": "fruitsText",
      "options": {
       "widgetType": "text",
       "validationRegex": null
      }
     }
    },
    "fruitsText1": {
     "currentValue": "error: This Widget not available",
     "nuid": "9d923b89-ae59-4298-947f-ad8051847f83",
     "widgetInfo": {
      "widgetType": "text",
      "defaultValue": "error: This Widget not available",
      "label": null,
      "name": "fruitsText1",
      "options": {
       "widgetType": "text",
       "validationRegex": null
      }
     }
    },
    "fruitscb": {
     "currentValue": "apple",
     "nuid": "51c38a84-1ea2-4756-b395-1a2b7f21d06a",
     "widgetInfo": {
      "widgetType": "combobox",
      "defaultValue": "Apple",
      "label": "Fruits Combobox",
      "name": "fruitscb",
      "options": {
       "widgetType": "dropdown",
       "choices": [
        "apple",
        "banana",
        "orange"
       ]
      }
     }
    }
   }
  }
 },
 "nbformat": 4,
 "nbformat_minor": 0
}
