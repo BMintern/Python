{
 "cells": [
  {
   "cell_type": "markdown",
   "id": "facc6554",
   "metadata": {},
   "source": [
    "## Collections Module"
   ]
  },
  {
   "cell_type": "markdown",
   "id": "1c75e2f3",
   "metadata": {},
   "source": [
    "The collections module is a built-in module that implements specialized container data types providing alternatives to Python’s general purpose built-in containers."
   ]
  },
  {
   "cell_type": "raw",
   "id": "f2a35e99",
   "metadata": {
    "ExecuteTime": {
     "end_time": "2023-06-26T16:40:20.449311Z",
     "start_time": "2023-06-26T16:40:20.436017Z"
    }
   },
   "source": [
    "Counters\n",
    "OrderedDict\n",
    "DefaultDict\n",
    "ChainMap\n",
    "NamedTuple\n",
    "DeQue\n",
    "UserDict\n",
    "UserList\n",
    "UserString"
   ]
  },
  {
   "cell_type": "raw",
   "id": "d4a8b02f",
   "metadata": {},
   "source": []
  },
  {
   "cell_type": "markdown",
   "id": "541ee689",
   "metadata": {
    "ExecuteTime": {
     "end_time": "2023-06-26T16:43:12.519653Z",
     "start_time": "2023-06-26T16:43:12.510756Z"
    }
   },
   "source": [
    "### Counters"
   ]
  },
  {
   "cell_type": "raw",
   "id": "78cdd714",
   "metadata": {},
   "source": [
    "A counter is a sub-class of the dictionary. It is used to keep the count of the elements in an iterable in the form of an unordered dictionary where the key represents the element in the iterable and value represents the count of that element in the iterable."
   ]
  },
  {
   "cell_type": "code",
   "execution_count": 1,
   "id": "0c788177",
   "metadata": {
    "ExecuteTime": {
     "end_time": "2023-06-27T05:32:55.674302Z",
     "start_time": "2023-06-27T05:32:55.666813Z"
    }
   },
   "outputs": [
    {
     "name": "stdout",
     "output_type": "stream",
     "text": [
      "Counter({1: 4, 3: 4, 4: 2, 2: 1})\n"
     ]
    }
   ],
   "source": [
    "from collections import Counter\n",
    "a = [1,1,1,1,2,3,3,4,3,3,4]\n",
    "c = Counter(a)\n",
    "print(c)"
   ]
  },
  {
   "cell_type": "code",
   "execution_count": 2,
   "id": "c1224736",
   "metadata": {
    "ExecuteTime": {
     "end_time": "2023-06-27T05:32:55.857985Z",
     "start_time": "2023-06-27T05:32:55.849746Z"
    }
   },
   "outputs": [
    {
     "name": "stdout",
     "output_type": "stream",
     "text": [
      "Counter({1: 3, 2: 2, 3: 2, 4: 1, 5: 1})\n",
      "[(1, 3), (2, 2)]\n",
      "Counter({1: 4, 2: 3, 3: 3, 4: 2, 5: 2})\n",
      "Counter({1: 3, 2: 2, 3: 2, 4: 1, 5: 1})\n"
     ]
    }
   ],
   "source": [
    "from collections import Counter\n",
    "\n",
    "my_list = [1, 2, 3, 1, 2, 1, 3, 4, 5]\n",
    "my_counter = Counter(my_list)\n",
    "\n",
    "print(my_counter) \n",
    "\n",
    "print(my_counter.most_common(2))  # Returns a list of the n most common elements and their counts, in descending order.\n",
    "\n",
    "my_counter.update([1, 2, 3, 4, 5]) #Increases the count of elements in the counter by the count of elements in the given iterable.\n",
    "print(my_counter) \n",
    "\n",
    "my_counter.subtract([1,2,3,4,5])#Decreases the count of elements in the counter by the count of elements in the given iterable.\n",
    "print(my_counter) \n"
   ]
  },
  {
   "cell_type": "code",
   "execution_count": 3,
   "id": "a8ae3003",
   "metadata": {
    "ExecuteTime": {
     "end_time": "2023-06-27T05:32:56.042304Z",
     "start_time": "2023-06-27T05:32:56.031116Z"
    }
   },
   "outputs": [
    {
     "data": {
      "text/plain": [
       "Counter({'How': 1,\n",
       "         'many': 1,\n",
       "         'times': 2,\n",
       "         'does': 1,\n",
       "         'each': 3,\n",
       "         'word': 3,\n",
       "         'show': 1,\n",
       "         'up': 1,\n",
       "         'in': 1,\n",
       "         'this': 1,\n",
       "         'sentence': 1})"
      ]
     },
     "execution_count": 3,
     "metadata": {},
     "output_type": "execute_result"
    }
   ],
   "source": [
    "#COUNTER with word in sentence\n",
    "s = 'How many times does each word show up in this sentence word times each each word'\n",
    "\n",
    "words = s.split() \n",
    "# //['How','many', 'times', 'does',....]\n",
    "\n",
    "Counter(words)"
   ]
  },
  {
   "cell_type": "code",
   "execution_count": null,
   "id": "b292005a",
   "metadata": {},
   "outputs": [],
   "source": []
  },
  {
   "cell_type": "code",
   "execution_count": null,
   "id": "561d6212",
   "metadata": {},
   "outputs": [],
   "source": []
  },
  {
   "cell_type": "markdown",
   "id": "5f8a0d45",
   "metadata": {},
   "source": [
    "### OrderedDict"
   ]
  },
  {
   "cell_type": "raw",
   "id": "18e63881",
   "metadata": {
    "ExecuteTime": {
     "end_time": "2023-06-26T16:53:09.865358Z",
     "start_time": "2023-06-26T16:53:09.852047Z"
    }
   },
   "source": [
    "An OrderedDict is also a sub-class of dictionary but unlike dictionary, it remembers the order in which the keys were inserted. "
   ]
  },
  {
   "cell_type": "code",
   "execution_count": 4,
   "id": "e9298b33",
   "metadata": {
    "ExecuteTime": {
     "end_time": "2023-06-27T05:32:57.004718Z",
     "start_time": "2023-06-27T05:32:56.997743Z"
    }
   },
   "outputs": [
    {
     "name": "stdout",
     "output_type": "stream",
     "text": [
      "OrderedDict([(1, 'e'), (2, 'd'), (3, 'u'), (4, 'r'), (5, 'e'), (6, 'k'), (7, 'a')])\n"
     ]
    }
   ],
   "source": [
    "from collections import OrderedDict\n",
    "od = OrderedDict()\n",
    "od[1] = 'e'\n",
    "od[2] = 'd'\n",
    "od[3] = 'u'\n",
    "od[4] = 'r'\n",
    "od[5] = 'e'\n",
    "od[6] = 'k'\n",
    "od[7] = 'a'\n",
    "print(od)"
   ]
  },
  {
   "cell_type": "code",
   "execution_count": 5,
   "id": "30900b77",
   "metadata": {
    "ExecuteTime": {
     "end_time": "2023-06-27T05:32:57.198505Z",
     "start_time": "2023-06-27T05:32:57.184923Z"
    }
   },
   "outputs": [
    {
     "name": "stdout",
     "output_type": "stream",
     "text": [
      "a 1\n",
      "b 2\n",
      "c 3\n"
     ]
    }
   ],
   "source": [
    "from collections import OrderedDict\n",
    "\n",
    "my_ordered_dict = OrderedDict()\n",
    "\n",
    "my_ordered_dict['a'] = 1\n",
    "my_ordered_dict['b'] = 2\n",
    "my_ordered_dict['c'] = 3\n",
    "\n",
    "for key, value in my_ordered_dict.items():\n",
    "    print(key, value)"
   ]
  },
  {
   "cell_type": "code",
   "execution_count": 6,
   "id": "7e4ea039",
   "metadata": {
    "ExecuteTime": {
     "end_time": "2023-06-27T05:32:57.378656Z",
     "start_time": "2023-06-27T05:32:57.364110Z"
    }
   },
   "outputs": [
    {
     "name": "stdout",
     "output_type": "stream",
     "text": [
      "This is a Dict:\n",
      "\n",
      "a 1\n",
      "b 2\n",
      "c 3\n",
      "d 4\n",
      "\n",
      "This is an Ordered Dict:\n",
      "\n",
      "a 1\n",
      "b 2\n",
      "c 3\n",
      "d 4\n"
     ]
    }
   ],
   "source": [
    "from collections import OrderedDict \n",
    "    \n",
    "print(\"This is a Dict:\\n\") \n",
    "d = {} \n",
    "d['a'] = 1\n",
    "d['b'] = 2\n",
    "d['c'] = 3\n",
    "d['d'] = 4\n",
    "    \n",
    "for key, value in d.items(): \n",
    "    print(key, value) \n",
    "    \n",
    "print(\"\\nThis is an Ordered Dict:\\n\") \n",
    "od = OrderedDict() \n",
    "od['a'] = 1\n",
    "od['b'] = 2\n",
    "od['c'] = 3\n",
    "od['d'] = 4\n",
    "    \n",
    "for key, value in od.items(): \n",
    "    print(key, value)"
   ]
  },
  {
   "cell_type": "code",
   "execution_count": 7,
   "id": "76625545",
   "metadata": {
    "ExecuteTime": {
     "end_time": "2023-06-27T05:32:57.557683Z",
     "start_time": "2023-06-27T05:32:57.548005Z"
    }
   },
   "outputs": [],
   "source": [
    "#While deleting and re-inserting the same key will push the key to the last to maintain the order of insertion of the key."
   ]
  },
  {
   "cell_type": "code",
   "execution_count": null,
   "id": "eeed7e44",
   "metadata": {},
   "outputs": [],
   "source": []
  },
  {
   "cell_type": "markdown",
   "id": "a80dc0d5",
   "metadata": {},
   "source": [
    "### DefaultDict"
   ]
  },
  {
   "cell_type": "raw",
   "id": "43a803c2",
   "metadata": {},
   "source": [
    "A DefaultDict is also a sub-class to dictionary. It is used to provide some default values for the key that does not exist and never raises a KeyError."
   ]
  },
  {
   "cell_type": "code",
   "execution_count": 8,
   "id": "8f5c95b0",
   "metadata": {
    "ExecuteTime": {
     "end_time": "2023-06-27T05:32:58.372983Z",
     "start_time": "2023-06-27T05:32:58.369589Z"
    }
   },
   "outputs": [],
   "source": [
    "from collections import defaultdict"
   ]
  },
  {
   "cell_type": "code",
   "execution_count": 9,
   "id": "79d91b67",
   "metadata": {
    "ExecuteTime": {
     "end_time": "2023-06-27T05:32:58.582679Z",
     "start_time": "2023-06-27T05:32:58.567023Z"
    }
   },
   "outputs": [
    {
     "name": "stdout",
     "output_type": "stream",
     "text": [
      "defaultdict(<class 'int'>, {1: 2, 2: 3, 3: 1, 4: 2})\n"
     ]
    }
   ],
   "source": [
    "d = defaultdict(int) \n",
    "     \n",
    "L = [1, 2, 3, 4, 2, 4, 1, 2] \n",
    "     \n",
    "# Iterate through the list \n",
    "# for keeping the count \n",
    "for i in L: \n",
    "         \n",
    "    # The default value is 0 \n",
    "    # so there is no need to  \n",
    "    # enter the key first \n",
    "    d[i] += 1\n",
    "         \n",
    "print(d)"
   ]
  },
  {
   "cell_type": "code",
   "execution_count": 10,
   "id": "1629bdf3",
   "metadata": {
    "ExecuteTime": {
     "end_time": "2023-06-27T05:32:58.796753Z",
     "start_time": "2023-06-27T05:32:58.780904Z"
    }
   },
   "outputs": [
    {
     "name": "stdout",
     "output_type": "stream",
     "text": [
      "1\n",
      "2\n",
      "0\n"
     ]
    }
   ],
   "source": [
    "# Create a defaultdict with int as the default factory\n",
    "my_dict = defaultdict(int)\n",
    "\n",
    "my_dict['a'] = 1\n",
    "my_dict['b'] = 2\n",
    "\n",
    "print(my_dict['a'])  \n",
    "print(my_dict['b'])  \n",
    "print(my_dict['c']) # c=0 (as default value for int)"
   ]
  },
  {
   "cell_type": "code",
   "execution_count": 11,
   "id": "d53307cc",
   "metadata": {
    "ExecuteTime": {
     "end_time": "2023-06-27T05:32:58.995275Z",
     "start_time": "2023-06-27T05:32:58.981511Z"
    }
   },
   "outputs": [
    {
     "name": "stdout",
     "output_type": "stream",
     "text": [
      "Dictionary with values as list:\n",
      "defaultdict(<class 'list'>, {0: [0], 1: [1], 2: [2], 3: [3], 4: [4]})\n"
     ]
    }
   ],
   "source": [
    "\n",
    "d = defaultdict(list) \n",
    "    \n",
    "for i in range(5): \n",
    "    d[i].append(i) \n",
    "        \n",
    "print(\"Dictionary with values as list:\") \n",
    "print(d)"
   ]
  },
  {
   "cell_type": "code",
   "execution_count": 12,
   "id": "1b3d627b",
   "metadata": {
    "ExecuteTime": {
     "end_time": "2023-06-27T05:32:59.199053Z",
     "start_time": "2023-06-27T05:32:59.181565Z"
    }
   },
   "outputs": [
    {
     "name": "stdout",
     "output_type": "stream",
     "text": [
      "John\n",
      "25\n",
      "N/A\n"
     ]
    }
   ],
   "source": [
    "from collections import defaultdict\n",
    "\n",
    "# Create a defaultdict with a default value of 'N/A'\n",
    "my_dict = defaultdict(lambda: 'N/A')\n",
    "\n",
    "my_dict['name'] = 'John'\n",
    "my_dict['age'] = 25\n",
    "\n",
    "print(my_dict['name'])  \n",
    "print(my_dict['age'])  \n",
    "print(my_dict['city'])  # Output: 'N/A' (default value)"
   ]
  },
  {
   "cell_type": "code",
   "execution_count": null,
   "id": "cba716d3",
   "metadata": {},
   "outputs": [],
   "source": []
  },
  {
   "cell_type": "markdown",
   "id": "eb3b4cb0",
   "metadata": {},
   "source": [
    "### ChainMap"
   ]
  },
  {
   "cell_type": "raw",
   "id": "1d333c68",
   "metadata": {
    "ExecuteTime": {
     "end_time": "2023-06-26T17:15:32.774174Z",
     "start_time": "2023-06-26T17:15:32.760894Z"
    }
   },
   "source": [
    "A ChainMap encapsulates many dictionaries into a single unit and returns a list of dictionaries."
   ]
  },
  {
   "cell_type": "code",
   "execution_count": 24,
   "id": "d8bd173d",
   "metadata": {
    "ExecuteTime": {
     "end_time": "2023-06-27T06:03:14.746909Z",
     "start_time": "2023-06-27T06:03:14.739114Z"
    }
   },
   "outputs": [
    {
     "data": {
      "text/plain": [
       "ChainMap({'a': 1, 'b': 2}, {'c': 3, 'd': 4}, {'e': 5, 'f': 6})"
      ]
     },
     "execution_count": 24,
     "metadata": {},
     "output_type": "execute_result"
    }
   ],
   "source": [
    "from collections import ChainMap \n",
    "     \n",
    "     \n",
    "d1 = {'a': 1, 'b': 2}\n",
    "d2 = {'c': 3, 'd': 4}\n",
    "d3 = {'e': 5, 'f': 6}\n",
    "  \n",
    "# Defining the chainmap \n",
    "c = ChainMap(d1, d2, d3) \n",
    "c"
   ]
  },
  {
   "cell_type": "code",
   "execution_count": null,
   "id": "fad18c28",
   "metadata": {},
   "outputs": [],
   "source": []
  },
  {
   "cell_type": "code",
   "execution_count": 14,
   "id": "cfbc02e3",
   "metadata": {
    "ExecuteTime": {
     "end_time": "2023-06-27T05:33:00.426026Z",
     "start_time": "2023-06-27T05:33:00.418475Z"
    }
   },
   "outputs": [
    {
     "name": "stdout",
     "output_type": "stream",
     "text": [
      "ChainMap({'a': 1, 'b': 2}, {'c': 3, 'd': 4}, {'e': 5, 'f': 6})\n",
      "1\n",
      "ValuesView(ChainMap({'a': 1, 'b': 2}, {'c': 3, 'd': 4}, {'e': 5, 'f': 6}))\n",
      "KeysView(ChainMap({'a': 1, 'b': 2}, {'c': 3, 'd': 4}, {'e': 5, 'f': 6}))\n"
     ]
    }
   ],
   "source": [
    "# Accessing Keys and Values from ChainMap\n",
    "\n",
    "from collections import ChainMap \n",
    "     \n",
    "     \n",
    "d1 = {'a': 1, 'b': 2}\n",
    "d2 = {'c': 3, 'd': 4}\n",
    "d3 = {'e': 5, 'f': 6}\n",
    "  \n",
    "# Defining the chainmap \n",
    "c = ChainMap(d1, d2, d3) \n",
    "\n",
    "print(c)\n",
    "\n",
    "# Accessing Values using key name\n",
    "print(c['a'])\n",
    "  \n",
    "# Accessing values using values() method\n",
    "print(c.values())\n",
    "  \n",
    "# Accessing keys using keys()\n",
    "# method\n",
    "print(c.keys())"
   ]
  },
  {
   "cell_type": "code",
   "execution_count": null,
   "id": "dd41c877",
   "metadata": {},
   "outputs": [],
   "source": []
  },
  {
   "cell_type": "code",
   "execution_count": 15,
   "id": "c9dae076",
   "metadata": {
    "ExecuteTime": {
     "end_time": "2023-06-27T05:33:01.542726Z",
     "start_time": "2023-06-27T05:33:01.532804Z"
    }
   },
   "outputs": [
    {
     "name": "stdout",
     "output_type": "stream",
     "text": [
      "All the ChainMap contents are : \n",
      "ChainMap({'a': 1, 'b': 2}, {'b': 3, 'c': 4})\n",
      "Displaying new ChainMap : \n",
      "ChainMap({'f': 5}, {'a': 1, 'b': 2}, {'b': 3, 'c': 4})\n"
     ]
    }
   ],
   "source": [
    "# Adding new dictionary\n",
    "\n",
    "import collections \n",
    "    \n",
    "# initializing dictionaries \n",
    "dic1 = { 'a' : 1, 'b' : 2 } \n",
    "dic2 = { 'b' : 3, 'c' : 4 } \n",
    "dic3 = { 'f' : 5 } \n",
    "    \n",
    "# initializing ChainMap \n",
    "chain = collections.ChainMap(dic1, dic2) \n",
    "    \n",
    "# printing chainMap \n",
    "print (\"All the ChainMap contents are : \") \n",
    "print (chain) \n",
    "    \n",
    "# using new_child() to add new dictionary \n",
    "chain1 = chain.new_child(dic3) \n",
    "    \n",
    "# printing chainMap\n",
    "print (\"Displaying new ChainMap : \") \n",
    "print (chain1)"
   ]
  },
  {
   "cell_type": "code",
   "execution_count": null,
   "id": "99967003",
   "metadata": {},
   "outputs": [],
   "source": []
  },
  {
   "cell_type": "markdown",
   "id": "578bc0dc",
   "metadata": {},
   "source": [
    "### NamedTuple"
   ]
  },
  {
   "cell_type": "raw",
   "id": "487a6a01",
   "metadata": {},
   "source": [
    "It returns a tuple with a named entry, which means there will be a name assigned to each value in the tuple. "
   ]
  },
  {
   "cell_type": "code",
   "execution_count": 28,
   "id": "f6fc704c",
   "metadata": {
    "ExecuteTime": {
     "end_time": "2023-06-27T06:08:09.003247Z",
     "start_time": "2023-06-27T06:08:08.992424Z"
    }
   },
   "outputs": [
    {
     "name": "stdout",
     "output_type": "stream",
     "text": [
      "Student(name='Nandini', age='19', DOB='2541997')\n",
      "The Student age using index is : 19\n",
      "The Student name using keyname is : Nandini\n",
      "Student(name='sarvesh', age='23', DOB='2245997')\n"
     ]
    }
   ],
   "source": [
    "from collections import namedtuple\n",
    "    \n",
    "# Declaring namedtuple() \n",
    "Student = namedtuple('Student',['name','age','DOB']) \n",
    "    \n",
    "# Adding values \n",
    "S = Student('Nandini','19','2541997') \n",
    "print(S )  \n",
    "# Access using index \n",
    "print (\"The Student age using index is : \",end =\"\") \n",
    "print (S[1]) \n",
    "    \n",
    "# Access using name  \n",
    "print (\"The Student name using keyname is : \",end =\"\") \n",
    "print (S.name)\n"
   ]
  },
  {
   "cell_type": "code",
   "execution_count": 17,
   "id": "916b8b3c",
   "metadata": {
    "ExecuteTime": {
     "end_time": "2023-06-27T05:33:09.361417Z",
     "start_time": "2023-06-27T05:33:09.355828Z"
    }
   },
   "outputs": [
    {
     "name": "stdout",
     "output_type": "stream",
     "text": [
      "The namedtuple instance using iterable is  : \n",
      "Student(name='Manjeet', age='19', DOB='411997')\n",
      "The OrderedDict instance using namedtuple is  : \n",
      "{'name': 'Nandini', 'age': '19', 'DOB': '2541997'}\n"
     ]
    }
   ],
   "source": [
    "from collections import namedtuple\n",
    "    \n",
    "# Declaring namedtuple() \n",
    "Student = namedtuple('Student',['name','age','DOB']) \n",
    "    \n",
    "# Adding values \n",
    "S = Student('Nandini','19','2541997') \n",
    "    \n",
    "# initializing iterable  \n",
    "li = ['Manjeet', '19', '411997' ] \n",
    "    \n",
    "# initializing dict \n",
    "di = { 'name' : \"Nikhil\", 'age' : 19 , 'DOB' : '1391997' } \n",
    "    \n",
    "# using _make() to return namedtuple() \n",
    "print (\"The namedtuple instance using iterable is  : \") \n",
    "print (Student._make(li)) \n",
    "    \n",
    "# using _asdict() to return an OrderedDict() \n",
    "print (\"The OrderedDict instance using namedtuple is  : \") \n",
    "print (S._asdict())"
   ]
  },
  {
   "cell_type": "code",
   "execution_count": null,
   "id": "c45edf3c",
   "metadata": {},
   "outputs": [],
   "source": []
  },
  {
   "cell_type": "markdown",
   "id": "a965a51a",
   "metadata": {},
   "source": [
    "## Deque"
   ]
  },
  {
   "cell_type": "raw",
   "id": "6c5764b3",
   "metadata": {},
   "source": [
    "deque pronounced as ‘deck’ is an optimized list to perform insertion and deletion easily."
   ]
  },
  {
   "cell_type": "code",
   "execution_count": 18,
   "id": "90f34ed6",
   "metadata": {
    "ExecuteTime": {
     "end_time": "2023-06-27T05:33:12.434541Z",
     "start_time": "2023-06-27T05:33:12.430551Z"
    }
   },
   "outputs": [
    {
     "name": "stdout",
     "output_type": "stream",
     "text": [
      "deque(['name', 'age', 'DOB'])\n"
     ]
    }
   ],
   "source": [
    "from collections import deque\n",
    "    \n",
    "# Declaring deque\n",
    "queue = deque(['name','age','DOB']) \n",
    "    \n",
    "print(queue)"
   ]
  },
  {
   "cell_type": "code",
   "execution_count": 19,
   "id": "57eb91f6",
   "metadata": {
    "ExecuteTime": {
     "end_time": "2023-06-27T05:33:13.962323Z",
     "start_time": "2023-06-27T05:33:13.957340Z"
    }
   },
   "outputs": [
    {
     "name": "stdout",
     "output_type": "stream",
     "text": [
      "The deque after appending at right is : \n",
      "deque([1, 2, 3, 4])\n",
      "The deque after appending at left is : \n",
      "deque([6, 1, 2, 3, 4])\n"
     ]
    }
   ],
   "source": [
    "#Adding elements\n",
    "\n",
    "from collections import deque \n",
    "    \n",
    "de = deque([1,2,3]) \n",
    "    \n",
    "de.append(4) \n",
    "    \n",
    "print (\"The deque after appending at right is : \") \n",
    "print (de) \n",
    "    \n",
    "de.appendleft(6) \n",
    " \n",
    "print (\"The deque after appending at left is : \") \n",
    "print (de)"
   ]
  },
  {
   "cell_type": "code",
   "execution_count": 20,
   "id": "6c69df37",
   "metadata": {
    "ExecuteTime": {
     "end_time": "2023-06-27T05:33:14.908136Z",
     "start_time": "2023-06-27T05:33:14.903327Z"
    }
   },
   "outputs": [
    {
     "name": "stdout",
     "output_type": "stream",
     "text": [
      "The deque after deleting from right is : \n",
      "deque([6, 1, 2, 3])\n",
      "The deque after deleting from left is : \n",
      "deque([1, 2, 3])\n"
     ]
    }
   ],
   "source": [
    "# Removing elements\n",
    "from collections import deque\n",
    "  \n",
    "de = deque([6, 1, 2, 3, 4])\n",
    "de.pop() \n",
    "print (\"The deque after deleting from right is : \") \n",
    "print (de) \n",
    "    \n",
    "\n",
    "de.popleft()    \n",
    "print (\"The deque after deleting from left is : \") \n",
    "print (de)"
   ]
  },
  {
   "cell_type": "code",
   "execution_count": null,
   "id": "baefa436",
   "metadata": {},
   "outputs": [],
   "source": []
  },
  {
   "cell_type": "markdown",
   "id": "a7c9a4af",
   "metadata": {},
   "source": [
    "### UserDict"
   ]
  },
  {
   "cell_type": "raw",
   "id": "88235fea",
   "metadata": {},
   "source": [
    "UserDict is a dictionary-like container that acts as a wrapper around the dictionary objects. This container is used when someone wants to create their own dictionary with some modified or new functionality. "
   ]
  },
  {
   "cell_type": "code",
   "execution_count": 23,
   "id": "1f9ad258",
   "metadata": {
    "ExecuteTime": {
     "end_time": "2023-06-27T05:57:07.281342Z",
     "start_time": "2023-06-27T05:57:07.273977Z"
    }
   },
   "outputs": [
    {
     "name": "stdout",
     "output_type": "stream",
     "text": [
      "{'a': 1, 'b': 2, 'c': 3}\n",
      "{}\n"
     ]
    }
   ],
   "source": [
    "# Python program to demonstrate\n",
    "# userdict\n",
    " \n",
    "from collections import UserDict\n",
    " \n",
    " \n",
    "d = {'a':1,\n",
    "    'b': 2,\n",
    "    'c': 3}\n",
    " \n",
    "# Creating an UserDict\n",
    "userD = UserDict(d)\n",
    "print(userD.data)\n",
    " \n",
    " # Creating an empty UserDict\n",
    "userD = UserDict()\n",
    "print(userD.data)"
   ]
  },
  {
   "cell_type": "code",
   "execution_count": 31,
   "id": "6ca1bbbc",
   "metadata": {
    "ExecuteTime": {
     "end_time": "2023-06-27T07:04:13.817418Z",
     "start_time": "2023-06-27T07:04:13.770843Z"
    }
   },
   "outputs": [
    {
     "ename": "RuntimeError",
     "evalue": "Deletion not allowed",
     "output_type": "error",
     "traceback": [
      "\u001b[1;31m---------------------------------------------------------------------------\u001b[0m",
      "\u001b[1;31mRuntimeError\u001b[0m                              Traceback (most recent call last)",
      "Cell \u001b[1;32mIn[31], line 28\u001b[0m\n\u001b[0;32m     23\u001b[0m \u001b[38;5;66;03m# Driver's code \u001b[39;00m\n\u001b[0;32m     24\u001b[0m d \u001b[38;5;241m=\u001b[39m MyDict({\u001b[38;5;124m'\u001b[39m\u001b[38;5;124ma\u001b[39m\u001b[38;5;124m'\u001b[39m:\u001b[38;5;241m1\u001b[39m, \n\u001b[0;32m     25\u001b[0m     \u001b[38;5;124m'\u001b[39m\u001b[38;5;124mb\u001b[39m\u001b[38;5;124m'\u001b[39m: \u001b[38;5;241m2\u001b[39m, \n\u001b[0;32m     26\u001b[0m     \u001b[38;5;124m'\u001b[39m\u001b[38;5;124mc\u001b[39m\u001b[38;5;124m'\u001b[39m: \u001b[38;5;241m3\u001b[39m})\n\u001b[1;32m---> 28\u001b[0m \u001b[43md\u001b[49m\u001b[38;5;241;43m.\u001b[39;49m\u001b[43mpop\u001b[49m\u001b[43m(\u001b[49m\u001b[38;5;241;43m1\u001b[39;49m\u001b[43m)\u001b[49m\n",
      "Cell \u001b[1;32mIn[31], line 16\u001b[0m, in \u001b[0;36mMyDict.pop\u001b[1;34m(self, s)\u001b[0m\n\u001b[0;32m     15\u001b[0m \u001b[38;5;28;01mdef\u001b[39;00m \u001b[38;5;21mpop\u001b[39m(\u001b[38;5;28mself\u001b[39m, s \u001b[38;5;241m=\u001b[39m \u001b[38;5;28;01mNone\u001b[39;00m): \n\u001b[1;32m---> 16\u001b[0m     \u001b[38;5;28;01mraise\u001b[39;00m \u001b[38;5;167;01mRuntimeError\u001b[39;00m(\u001b[38;5;124m\"\u001b[39m\u001b[38;5;124mDeletion not allowed\u001b[39m\u001b[38;5;124m\"\u001b[39m)\n",
      "\u001b[1;31mRuntimeError\u001b[0m: Deletion not allowed"
     ]
    }
   ],
   "source": [
    "from collections import UserDict \n",
    "     \n",
    "    \n",
    "# Creating a Dictionary where \n",
    "# deletion is not allowed \n",
    "class MyDict(UserDict): \n",
    "        \n",
    "    # Function to stop deletion \n",
    "    # from dictionary \n",
    "    def __del__(self): \n",
    "        raise RuntimeError(\"Deletion not allowed\") \n",
    "            \n",
    "    # Function to stop pop from  \n",
    "    # dictionary \n",
    "    def pop(self, s = None): \n",
    "        raise RuntimeError(\"Deletion not allowed\") \n",
    "            \n",
    "    # Function to stop popitem  \n",
    "    # from Dictionary \n",
    "    def popitem(self, s = None): \n",
    "        raise RuntimeError(\"Deletion not allowed\") \n",
    "        \n",
    "# Driver's code \n",
    "d = MyDict({'a':1, \n",
    "    'b': 2, \n",
    "    'c': 3})\n",
    "    \n",
    "d.pop(1)"
   ]
  },
  {
   "cell_type": "markdown",
   "id": "230d5c19",
   "metadata": {},
   "source": [
    "### UserList"
   ]
  },
  {
   "cell_type": "raw",
   "id": "d2c6c4f4",
   "metadata": {},
   "source": [
    "UserList is a list like container that acts as a wrapper around the list objects. This is useful when someone wants to create their own list with some modified or additional functionality."
   ]
  },
  {
   "cell_type": "code",
   "execution_count": 29,
   "id": "7c127b94",
   "metadata": {
    "ExecuteTime": {
     "end_time": "2023-06-27T06:59:09.339982Z",
     "start_time": "2023-06-27T06:59:09.330772Z"
    }
   },
   "outputs": [
    {
     "name": "stdout",
     "output_type": "stream",
     "text": [
      "[1, 2, 3, 4]\n",
      "[]\n"
     ]
    }
   ],
   "source": [
    "\n",
    "from collections import UserList\n",
    "\n",
    "\n",
    "L = [1, 2, 3, 4]\n",
    "\n",
    "# Creating a userlist\n",
    "userL = UserList(L)\n",
    "print(userL.data)\n",
    "\n",
    "\n",
    "# Creating empty userlist\n",
    "userL = UserList()\n",
    "print(userL.data)\n"
   ]
  },
  {
   "cell_type": "code",
   "execution_count": 32,
   "id": "bde86366",
   "metadata": {
    "ExecuteTime": {
     "end_time": "2023-06-27T07:05:10.552426Z",
     "start_time": "2023-06-27T07:05:10.517142Z"
    }
   },
   "outputs": [
    {
     "name": "stdout",
     "output_type": "stream",
     "text": [
      "Original List\n",
      "After Insertion\n",
      "[1, 2, 3, 4, 5]\n"
     ]
    },
    {
     "ename": "RuntimeError",
     "evalue": "Deletion not allowed",
     "output_type": "error",
     "traceback": [
      "\u001b[1;31m---------------------------------------------------------------------------\u001b[0m",
      "\u001b[1;31mRuntimeError\u001b[0m                              Traceback (most recent call last)",
      "Cell \u001b[1;32mIn[32], line 29\u001b[0m\n\u001b[0;32m     26\u001b[0m \u001b[38;5;28mprint\u001b[39m(L) \n\u001b[0;32m     28\u001b[0m \u001b[38;5;66;03m# Deleting From List \u001b[39;00m\n\u001b[1;32m---> 29\u001b[0m \u001b[43mL\u001b[49m\u001b[38;5;241;43m.\u001b[39;49m\u001b[43mremove\u001b[49m\u001b[43m(\u001b[49m\u001b[43m)\u001b[49m\n",
      "Cell \u001b[1;32mIn[32], line 11\u001b[0m, in \u001b[0;36mMyList.remove\u001b[1;34m(self, s)\u001b[0m\n\u001b[0;32m     10\u001b[0m \u001b[38;5;28;01mdef\u001b[39;00m \u001b[38;5;21mremove\u001b[39m(\u001b[38;5;28mself\u001b[39m, s \u001b[38;5;241m=\u001b[39m \u001b[38;5;28;01mNone\u001b[39;00m): \n\u001b[1;32m---> 11\u001b[0m     \u001b[38;5;28;01mraise\u001b[39;00m \u001b[38;5;167;01mRuntimeError\u001b[39;00m(\u001b[38;5;124m\"\u001b[39m\u001b[38;5;124mDeletion not allowed\u001b[39m\u001b[38;5;124m\"\u001b[39m)\n",
      "\u001b[1;31mRuntimeError\u001b[0m: Deletion not allowed"
     ]
    }
   ],
   "source": [
    "from collections import UserList \n",
    "     \n",
    "    \n",
    "# Creating a List where \n",
    "# deletion is not allowed \n",
    "class MyList(UserList): \n",
    "        \n",
    "    # Function to stop deletion \n",
    "    # from List \n",
    "    def remove(self, s = None): \n",
    "        raise RuntimeError(\"Deletion not allowed\") \n",
    "            \n",
    "    # Function to stop pop from  \n",
    "    # List \n",
    "    def pop(self, s = None): \n",
    "        raise RuntimeError(\"Deletion not allowed\") \n",
    "        \n",
    "# Driver's code \n",
    "L = MyList([1, 2, 3, 4]) \n",
    "    \n",
    "print(\"Original List\") \n",
    "    \n",
    "# Inserting to List\" \n",
    "L.append(5) \n",
    "print(\"After Insertion\") \n",
    "print(L) \n",
    "    \n",
    "# Deleting From List \n",
    "L.remove()"
   ]
  },
  {
   "cell_type": "code",
   "execution_count": null,
   "id": "e49b8a51",
   "metadata": {},
   "outputs": [],
   "source": []
  },
  {
   "cell_type": "markdown",
   "id": "f4a91e56",
   "metadata": {},
   "source": [
    "### UserString"
   ]
  },
  {
   "cell_type": "raw",
   "id": "337cb8fc",
   "metadata": {},
   "source": [
    "UserString is a string like container and just like UserDict and UserList it acts as a wrapper around string objects. It is used when someone wants to create their own strings with some modified or additional functionality. "
   ]
  },
  {
   "cell_type": "code",
   "execution_count": 30,
   "id": "bd20d17d",
   "metadata": {
    "ExecuteTime": {
     "end_time": "2023-06-27T07:01:18.753602Z",
     "start_time": "2023-06-27T07:01:18.744533Z"
    }
   },
   "outputs": [
    {
     "name": "stdout",
     "output_type": "stream",
     "text": [
      "Original String: Geeks\n",
      "String After Appending: Geekss\n",
      "String after Removing: Gkss\n"
     ]
    }
   ],
   "source": [
    "from collections import UserString \n",
    "     \n",
    "    \n",
    "# Creating a Mutable String \n",
    "class Mystring(UserString): \n",
    "        \n",
    "    # Function to append to \n",
    "    # string \n",
    "    def append(self, s): \n",
    "        self.data += s \n",
    "            \n",
    "    # Function to remove from  \n",
    "    # string \n",
    "    def remove(self, s): \n",
    "        self.data = self.data.replace(s, \"\") \n",
    "        \n",
    "# Driver's code \n",
    "s1 = Mystring(\"Geeks\") \n",
    "print(\"Original String:\", s1.data) \n",
    "    \n",
    "# Appending to string \n",
    "s1.append(\"s\") \n",
    "print(\"String After Appending:\", s1.data) \n",
    "    \n",
    "# Removing from string \n",
    "s1.remove(\"e\") \n",
    "print(\"String after Removing:\", s1.data)"
   ]
  },
  {
   "cell_type": "code",
   "execution_count": 33,
   "id": "1a1b6710",
   "metadata": {
    "ExecuteTime": {
     "end_time": "2023-06-27T07:05:36.852966Z",
     "start_time": "2023-06-27T07:05:36.842845Z"
    }
   },
   "outputs": [
    {
     "name": "stdout",
     "output_type": "stream",
     "text": [
      "Original String: Geeks\n",
      "String After Appending: Geekss\n",
      "String after Removing: Gkss\n"
     ]
    }
   ],
   "source": [
    "# Python program to demonstrate \n",
    "# userstring \n",
    "     \n",
    "    \n",
    "from collections import UserString \n",
    "     \n",
    "    \n",
    "# Creating a Mutable String \n",
    "class Mystring(UserString): \n",
    "        \n",
    "    # Function to append to \n",
    "    # string \n",
    "    def append(self, s): \n",
    "        self.data += s \n",
    "            \n",
    "    # Function to remove from  \n",
    "    # string \n",
    "    def remove(self, s): \n",
    "        self.data = self.data.replace(s, \"\") \n",
    "        \n",
    "# Driver's code \n",
    "s1 = Mystring(\"Geeks\") \n",
    "print(\"Original String:\", s1.data) \n",
    "    \n",
    "# Appending to string \n",
    "s1.append(\"s\") \n",
    "print(\"String After Appending:\", s1.data) \n",
    "    \n",
    "# Removing from string \n",
    "s1.remove(\"e\") \n",
    "print(\"String after Removing:\", s1.data)"
   ]
  },
  {
   "cell_type": "code",
   "execution_count": null,
   "id": "cf8aa88a",
   "metadata": {},
   "outputs": [],
   "source": []
  }
 ],
 "metadata": {
  "kernelspec": {
   "display_name": "Python 3 (ipykernel)",
   "language": "python",
   "name": "python3"
  },
  "language_info": {
   "codemirror_mode": {
    "name": "ipython",
    "version": 3
   },
   "file_extension": ".py",
   "mimetype": "text/x-python",
   "name": "python",
   "nbconvert_exporter": "python",
   "pygments_lexer": "ipython3",
   "version": "3.11.3"
  }
 },
 "nbformat": 4,
 "nbformat_minor": 5
}
