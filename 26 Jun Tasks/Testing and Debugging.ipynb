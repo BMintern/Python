{
 "cells": [
  {
   "cell_type": "markdown",
   "id": "8e47ead6",
   "metadata": {},
   "source": [
    "# Debugging"
   ]
  },
  {
   "cell_type": "code",
   "execution_count": null,
   "id": "2ef64cdc",
   "metadata": {},
   "outputs": [],
   "source": [
    "# Debugging is the process of identifying and fixing errors or bugs in your code."
   ]
  },
  {
   "cell_type": "markdown",
   "id": "045cb913",
   "metadata": {},
   "source": [
    "### print--"
   ]
  },
  {
   "cell_type": "raw",
   "id": "3c87bcd8",
   "metadata": {},
   "source": [
    "One of the most common ways to debug Python code is using the print() function. By adding print statements to your code, you can output the values of variables at different points in the program, which can help you identify where the error is occurring. However, this method can become tedious and time-consuming for larger and more complex programs."
   ]
  },
  {
   "cell_type": "code",
   "execution_count": null,
   "id": "81e7e587",
   "metadata": {},
   "outputs": [],
   "source": []
  },
  {
   "cell_type": "markdown",
   "id": "8f8aab83",
   "metadata": {},
   "source": [
    "### pdb library --"
   ]
  },
  {
   "cell_type": "raw",
   "id": "e7758e1d",
   "metadata": {},
   "source": [
    "The built-in pdb library in Python is a command-line debugging tool that provides a set of commands for stepping through your code, inspecting variables, and controlling the execution of your program."
   ]
  },
  {
   "cell_type": "code",
   "execution_count": null,
   "id": "d0eac6ca",
   "metadata": {},
   "outputs": [],
   "source": []
  },
  {
   "cell_type": "markdown",
   "id": "23a5c779",
   "metadata": {},
   "source": [
    "### set_trace() --"
   ]
  },
  {
   "cell_type": "raw",
   "id": "a9cbe4b5",
   "metadata": {},
   "source": [
    "This function can be used to set a breakpoint in your code, which will pause the execution of the program and allow you to inspect the state of the program at that point."
   ]
  },
  {
   "cell_type": "code",
   "execution_count": null,
   "id": "48c79245",
   "metadata": {},
   "outputs": [],
   "source": []
  },
  {
   "cell_type": "raw",
   "id": "fe0283db",
   "metadata": {},
   "source": [
    "n or next: Execute the next line of code and move to the next line.\n",
    "s or step: Step into a function call.\n",
    "c or continue: Continue execution until a breakpoint is hit or the program exits.\n",
    "l or list: List the source code for the current file.\n",
    "w or where: Print the stack trace and line number of the current line.\n",
    "p or print: Print the value of an expression.\n",
    "h or help: Show a list of available commands."
   ]
  },
  {
   "cell_type": "code",
   "execution_count": 2,
   "id": "e7c823da",
   "metadata": {
    "ExecuteTime": {
     "end_time": "2023-06-27T07:12:45.453166Z",
     "start_time": "2023-06-27T07:12:38.944356Z"
    }
   },
   "outputs": [
    {
     "name": "stdout",
     "output_type": "stream",
     "text": [
      "> \u001b[1;32mc:\\users\\acer\\appdata\\local\\temp\\ipykernel_14288\\364999022.py\u001b[0m(8)\u001b[0;36mmy_function\u001b[1;34m()\u001b[0m\n",
      "\n",
      "ipdb> n\n",
      "3\n",
      "--Return--\n",
      "None\n",
      "> \u001b[1;32mc:\\users\\acer\\appdata\\local\\temp\\ipykernel_14288\\364999022.py\u001b[0m(8)\u001b[0;36mmy_function\u001b[1;34m()\u001b[0m\n",
      "\n",
      "ipdb> c\n"
     ]
    }
   ],
   "source": [
    "# n or next: Execute the next line of code and move to the next line.\n",
    "\n",
    "import pdb\n",
    "\n",
    "def my_function():\n",
    "    a = 1\n",
    "    b = 2\n",
    "    c = a + b\n",
    "    pdb.set_trace()\n",
    "    print(c)\n",
    "\n",
    "my_function()"
   ]
  },
  {
   "cell_type": "code",
   "execution_count": 3,
   "id": "60c5792c",
   "metadata": {
    "ExecuteTime": {
     "end_time": "2023-06-27T07:14:00.580466Z",
     "start_time": "2023-06-27T07:13:56.341011Z"
    }
   },
   "outputs": [
    {
     "name": "stdout",
     "output_type": "stream",
     "text": [
      "> \u001b[1;32mc:\\users\\acer\\appdata\\local\\temp\\ipykernel_14288\\2211218762.py\u001b[0m(9)\u001b[0;36mmy_function\u001b[1;34m()\u001b[0m\n",
      "\n",
      "ipdb> s\n",
      "--Call--\n",
      "> \u001b[1;32mc:\\users\\acer\\appdata\\local\\programs\\python\\python311\\lib\\site-packages\\ipykernel\\iostream.py\u001b[0m(535)\u001b[0;36mwrite\u001b[1;34m()\u001b[0m\n",
      "\u001b[1;32m    533 \u001b[1;33m            )\n",
      "\u001b[0m\u001b[1;32m    534 \u001b[1;33m\u001b[1;33m\u001b[0m\u001b[0m\n",
      "\u001b[0m\u001b[1;32m--> 535 \u001b[1;33m    \u001b[1;32mdef\u001b[0m \u001b[0mwrite\u001b[0m\u001b[1;33m(\u001b[0m\u001b[0mself\u001b[0m\u001b[1;33m,\u001b[0m \u001b[0mstring\u001b[0m\u001b[1;33m:\u001b[0m \u001b[0mstr\u001b[0m\u001b[1;33m)\u001b[0m \u001b[1;33m->\u001b[0m \u001b[0mOptional\u001b[0m\u001b[1;33m[\u001b[0m\u001b[0mint\u001b[0m\u001b[1;33m]\u001b[0m\u001b[1;33m:\u001b[0m  \u001b[1;31m# type:ignore[override]\u001b[0m\u001b[1;33m\u001b[0m\u001b[1;33m\u001b[0m\u001b[0m\n",
      "\u001b[0m\u001b[1;32m    536 \u001b[1;33m        \"\"\"Write to current stream after encoding if necessary\n",
      "\u001b[0m\u001b[1;32m    537 \u001b[1;33m\u001b[1;33m\u001b[0m\u001b[0m\n",
      "\u001b[0m\n",
      "ipdb> c\n",
      "3\n"
     ]
    }
   ],
   "source": [
    "#s or step: Step into a function call.\n",
    "import pdb\n",
    "\n",
    "def my_function():\n",
    "    a = 1\n",
    "    b = 2\n",
    "    c = a + b\n",
    "    pdb.set_trace()\n",
    "    print(c)\n",
    "\n",
    "my_function()"
   ]
  },
  {
   "cell_type": "code",
   "execution_count": 4,
   "id": "53b0b89e",
   "metadata": {
    "ExecuteTime": {
     "end_time": "2023-06-27T07:14:37.999183Z",
     "start_time": "2023-06-27T07:14:34.096628Z"
    }
   },
   "outputs": [
    {
     "name": "stdout",
     "output_type": "stream",
     "text": [
      "> \u001b[1;32mc:\\users\\acer\\appdata\\local\\temp\\ipykernel_14288\\412282295.py\u001b[0m(10)\u001b[0;36mmy_function\u001b[1;34m()\u001b[0m\n",
      "\n",
      "ipdb> l\n",
      "\u001b[0;32m      5 \u001b[0m\u001b[1;32mdef\u001b[0m \u001b[0mmy_function\u001b[0m\u001b[1;33m(\u001b[0m\u001b[1;33m)\u001b[0m\u001b[1;33m:\u001b[0m\u001b[1;33m\u001b[0m\u001b[1;33m\u001b[0m\u001b[0m\n",
      "\u001b[0;32m      6 \u001b[0m    \u001b[0ma\u001b[0m \u001b[1;33m=\u001b[0m \u001b[1;36m1\u001b[0m\u001b[1;33m\u001b[0m\u001b[1;33m\u001b[0m\u001b[0m\n",
      "\u001b[0;32m      7 \u001b[0m    \u001b[0mb\u001b[0m \u001b[1;33m=\u001b[0m \u001b[1;36m2\u001b[0m\u001b[1;33m\u001b[0m\u001b[1;33m\u001b[0m\u001b[0m\n",
      "\u001b[0;32m      8 \u001b[0m    \u001b[0mc\u001b[0m \u001b[1;33m=\u001b[0m \u001b[0ma\u001b[0m \u001b[1;33m+\u001b[0m \u001b[0mb\u001b[0m\u001b[1;33m\u001b[0m\u001b[1;33m\u001b[0m\u001b[0m\n",
      "\u001b[0;32m      9 \u001b[0m    \u001b[0mpdb\u001b[0m\u001b[1;33m.\u001b[0m\u001b[0mset_trace\u001b[0m\u001b[1;33m(\u001b[0m\u001b[1;33m)\u001b[0m\u001b[1;33m\u001b[0m\u001b[1;33m\u001b[0m\u001b[0m\n",
      "\u001b[1;32m---> 10 \u001b[1;33m    \u001b[0mprint\u001b[0m\u001b[1;33m(\u001b[0m\u001b[0mc\u001b[0m\u001b[1;33m)\u001b[0m\u001b[1;33m\u001b[0m\u001b[1;33m\u001b[0m\u001b[0m\n",
      "\u001b[0m\u001b[0;32m     11 \u001b[0m\u001b[1;33m\u001b[0m\u001b[0m\n",
      "\u001b[0;32m     12 \u001b[0m\u001b[0mmy_function\u001b[0m\u001b[1;33m(\u001b[0m\u001b[1;33m)\u001b[0m\u001b[1;33m\u001b[0m\u001b[1;33m\u001b[0m\u001b[0m\n",
      "\n",
      "ipdb> c\n",
      "3\n"
     ]
    }
   ],
   "source": [
    "#l or list: List the source code for the current file.\n",
    "\n",
    "import pdb\n",
    "\n",
    "def my_function():\n",
    "    a = 1\n",
    "    b = 2\n",
    "    c = a + b\n",
    "    pdb.set_trace()\n",
    "    print(c)\n",
    "\n",
    "my_function()"
   ]
  },
  {
   "cell_type": "code",
   "execution_count": 5,
   "id": "0d91135c",
   "metadata": {
    "ExecuteTime": {
     "end_time": "2023-06-27T07:15:21.950570Z",
     "start_time": "2023-06-27T07:15:18.193712Z"
    }
   },
   "outputs": [
    {
     "name": "stdout",
     "output_type": "stream",
     "text": [
      "> \u001b[1;32mc:\\users\\acer\\appdata\\local\\temp\\ipykernel_14288\\3521921714.py\u001b[0m(10)\u001b[0;36mmy_function\u001b[1;34m()\u001b[0m\n",
      "\n",
      "ipdb> w\n",
      "\u001b[1;31m    [... skipping 21 hidden frame(s)]\u001b[0m\n",
      "\n",
      "  \u001b[1;32mc:\\users\\acer\\appdata\\local\\temp\\ipykernel_14288\\3521921714.py\u001b[0m(12)\u001b[0;36m<module>\u001b[1;34m()\u001b[0m\n",
      "\n",
      "> \u001b[1;32mc:\\users\\acer\\appdata\\local\\temp\\ipykernel_14288\\3521921714.py\u001b[0m(10)\u001b[0;36mmy_function\u001b[1;34m()\u001b[0m\n",
      "\n",
      "ipdb> c\n",
      "3\n"
     ]
    }
   ],
   "source": [
    "#w or where: Print the stack trace and line number of the current line.\n",
    "\n",
    "import pdb\n",
    "\n",
    "def my_function():\n",
    "    a = 1\n",
    "    b = 2\n",
    "    c = a + b\n",
    "    pdb.set_trace()\n",
    "    print(c)\n",
    "\n",
    "my_function()"
   ]
  },
  {
   "cell_type": "code",
   "execution_count": 6,
   "id": "4f712cf8",
   "metadata": {
    "ExecuteTime": {
     "end_time": "2023-06-27T07:16:08.026134Z",
     "start_time": "2023-06-27T07:16:03.535908Z"
    }
   },
   "outputs": [
    {
     "name": "stdout",
     "output_type": "stream",
     "text": [
      "> \u001b[1;32mc:\\users\\acer\\appdata\\local\\temp\\ipykernel_14288\\2923002129.py\u001b[0m(10)\u001b[0;36mmy_function\u001b[1;34m()\u001b[0m\n",
      "\n",
      "ipdb> p\n",
      "*** SyntaxError: invalid syntax\n",
      "ipdb> c\n",
      "3\n"
     ]
    }
   ],
   "source": [
    "#p or print: Print the value of an expression.\n",
    "\n",
    "import pdb\n",
    "\n",
    "def my_function():\n",
    "    a = 1\n",
    "    b = 2\n",
    "    c = a + b\n",
    "    pdb.set_trace()\n",
    "    print(c)\n",
    "\n",
    "my_function()"
   ]
  },
  {
   "cell_type": "code",
   "execution_count": 7,
   "id": "f7296609",
   "metadata": {
    "ExecuteTime": {
     "end_time": "2023-06-27T07:16:45.081534Z",
     "start_time": "2023-06-27T07:16:37.754772Z"
    }
   },
   "outputs": [
    {
     "name": "stdout",
     "output_type": "stream",
     "text": [
      "> \u001b[1;32mc:\\users\\acer\\appdata\\local\\temp\\ipykernel_14288\\2749422967.py\u001b[0m(9)\u001b[0;36mmy_function\u001b[1;34m()\u001b[0m\n",
      "\n",
      "ipdb> h\n",
      "\n",
      "Documented commands (type help <topic>):\n",
      "========================================\n",
      "EOF    commands   enable    ll        pp       s                until \n",
      "a      condition  exit      longlist  psource  skip_hidden      up    \n",
      "alias  cont       h         n         q        skip_predicates  w     \n",
      "args   context    help      next      quit     source           whatis\n",
      "b      continue   ignore    p         r        step             where \n",
      "break  d          interact  pdef      restart  tbreak         \n",
      "bt     debug      j         pdoc      return   u              \n",
      "c      disable    jump      pfile     retval   unalias        \n",
      "cl     display    l         pinfo     run      undisplay      \n",
      "clear  down       list      pinfo2    rv       unt            \n",
      "\n",
      "Miscellaneous help topics:\n",
      "==========================\n",
      "exec  pdb\n",
      "\n",
      "ipdb> c\n",
      "3\n"
     ]
    }
   ],
   "source": [
    "#h or help: Show a list of available commands.\n",
    "import pdb\n",
    "\n",
    "def my_function():\n",
    "    a = 1\n",
    "    b = 2\n",
    "    c = a + b\n",
    "    pdb.set_trace()\n",
    "    print(c)\n",
    "\n",
    "my_function()\n"
   ]
  },
  {
   "cell_type": "code",
   "execution_count": null,
   "id": "cb34a646",
   "metadata": {},
   "outputs": [],
   "source": []
  },
  {
   "cell_type": "code",
   "execution_count": null,
   "id": "ddf56d4e",
   "metadata": {},
   "outputs": [],
   "source": []
  },
  {
   "cell_type": "markdown",
   "id": "95a382cb",
   "metadata": {},
   "source": [
    "# Testing"
   ]
  },
  {
   "cell_type": "raw",
   "id": "36515352",
   "metadata": {},
   "source": [
    "Testing is the process of evaluating a system or its component(s) with the intent to find whether it satisfies the specified requirements or not. In Python, there are several popular testing frameworks such as unittest, pytest, doctest, etc."
   ]
  },
  {
   "cell_type": "code",
   "execution_count": null,
   "id": "b3dc32a0",
   "metadata": {},
   "outputs": [],
   "source": []
  },
  {
   "cell_type": "markdown",
   "id": "ff756362",
   "metadata": {},
   "source": [
    "### unittest"
   ]
  },
  {
   "cell_type": "code",
   "execution_count": null,
   "id": "b8681e71",
   "metadata": {},
   "outputs": [],
   "source": []
  },
  {
   "cell_type": "code",
   "execution_count": null,
   "id": "17d03273",
   "metadata": {},
   "outputs": [],
   "source": []
  },
  {
   "cell_type": "code",
   "execution_count": 3,
   "id": "687bb4dc",
   "metadata": {
    "ExecuteTime": {
     "end_time": "2023-06-26T11:38:32.961029Z",
     "start_time": "2023-06-26T11:38:32.940822Z"
    }
   },
   "outputs": [],
   "source": [
    "import unittest\n",
    "\n",
    "class TestAdd(unittest.TestCase):\n",
    "    def test_add_integers(self):\n",
    "        result = add(1, 2)\n",
    "        self.assertEqual(result, 3)\n",
    "\n",
    "    def test_add_floats(self):\n",
    "        result = add(0.1, 0.2)\n",
    "        self.assertAlmostEqual(result, 0.3)\n",
    "\n",
    "    def test_add_strings(self):\n",
    "        result = add('hello', 'world')\n",
    "        self.assertEqual(result, 'helloworld')"
   ]
  },
  {
   "cell_type": "code",
   "execution_count": 4,
   "id": "27b306af",
   "metadata": {
    "ExecuteTime": {
     "end_time": "2023-06-26T11:39:03.283232Z",
     "start_time": "2023-06-26T11:39:03.274372Z"
    }
   },
   "outputs": [
    {
     "data": {
      "text/plain": [
       "unittest.case.TestCase"
      ]
     },
     "execution_count": 4,
     "metadata": {},
     "output_type": "execute_result"
    }
   ],
   "source": [
    "unittest.TestCase"
   ]
  },
  {
   "cell_type": "code",
   "execution_count": 5,
   "id": "a47a5f6a",
   "metadata": {
    "ExecuteTime": {
     "end_time": "2023-06-26T11:39:19.516517Z",
     "start_time": "2023-06-26T11:39:19.489432Z"
    }
   },
   "outputs": [
    {
     "name": "stderr",
     "output_type": "stream",
     "text": [
      "E\n",
      "======================================================================\n",
      "ERROR: C:\\Users\\Acer\\AppData\\Roaming\\jupyter\\runtime\\kernel-ad9a56b6-d9e6-4a58-8103-e7105c11980b (unittest.loader._FailedTest.C:\\Users\\Acer\\AppData\\Roaming\\jupyter\\runtime\\kernel-ad9a56b6-d9e6-4a58-8103-e7105c11980b)\n",
      "----------------------------------------------------------------------\n",
      "AttributeError: module '__main__' has no attribute 'C:\\Users\\Acer\\AppData\\Roaming\\jupyter\\runtime\\kernel-ad9a56b6-d9e6-4a58-8103-e7105c11980b'\n",
      "\n",
      "----------------------------------------------------------------------\n",
      "Ran 1 test in 0.002s\n",
      "\n",
      "FAILED (errors=1)\n"
     ]
    },
    {
     "ename": "SystemExit",
     "evalue": "True",
     "output_type": "error",
     "traceback": [
      "An exception has occurred, use %tb to see the full traceback.\n",
      "\u001b[1;31mSystemExit\u001b[0m\u001b[1;31m:\u001b[0m True\n"
     ]
    },
    {
     "name": "stderr",
     "output_type": "stream",
     "text": [
      "C:\\Users\\Acer\\AppData\\Local\\Programs\\Python\\Python311\\Lib\\site-packages\\IPython\\core\\interactiveshell.py:3513: UserWarning: To exit: use 'exit', 'quit', or Ctrl-D.\n",
      "  warn(\"To exit: use 'exit', 'quit', or Ctrl-D.\", stacklevel=1)\n"
     ]
    }
   ],
   "source": [
    "unittest.main()"
   ]
  },
  {
   "cell_type": "code",
   "execution_count": 7,
   "id": "f0123834",
   "metadata": {
    "ExecuteTime": {
     "end_time": "2023-06-26T11:40:12.901207Z",
     "start_time": "2023-06-26T11:40:12.885066Z"
    }
   },
   "outputs": [
    {
     "name": "stderr",
     "output_type": "stream",
     "text": [
      "E\n",
      "======================================================================\n",
      "ERROR: C:\\Users\\Acer\\AppData\\Roaming\\jupyter\\runtime\\kernel-ad9a56b6-d9e6-4a58-8103-e7105c11980b (unittest.loader._FailedTest.C:\\Users\\Acer\\AppData\\Roaming\\jupyter\\runtime\\kernel-ad9a56b6-d9e6-4a58-8103-e7105c11980b)\n",
      "----------------------------------------------------------------------\n",
      "AttributeError: module '__main__' has no attribute 'C:\\Users\\Acer\\AppData\\Roaming\\jupyter\\runtime\\kernel-ad9a56b6-d9e6-4a58-8103-e7105c11980b'\n",
      "\n",
      "----------------------------------------------------------------------\n",
      "Ran 1 test in 0.002s\n",
      "\n",
      "FAILED (errors=1)\n"
     ]
    },
    {
     "ename": "SystemExit",
     "evalue": "True",
     "output_type": "error",
     "traceback": [
      "An exception has occurred, use %tb to see the full traceback.\n",
      "\u001b[1;31mSystemExit\u001b[0m\u001b[1;31m:\u001b[0m True\n"
     ]
    },
    {
     "name": "stderr",
     "output_type": "stream",
     "text": [
      "C:\\Users\\Acer\\AppData\\Local\\Programs\\Python\\Python311\\Lib\\site-packages\\IPython\\core\\interactiveshell.py:3513: UserWarning: To exit: use 'exit', 'quit', or Ctrl-D.\n",
      "  warn(\"To exit: use 'exit', 'quit', or Ctrl-D.\", stacklevel=1)\n"
     ]
    }
   ],
   "source": [
    "if __name__ == '__main__':\n",
    "    unittest.main() "
   ]
  },
  {
   "cell_type": "code",
   "execution_count": 8,
   "id": "7fe7bc72",
   "metadata": {
    "ExecuteTime": {
     "end_time": "2023-06-26T11:40:31.427332Z",
     "start_time": "2023-06-26T11:40:31.403825Z"
    }
   },
   "outputs": [
    {
     "ename": "NameError",
     "evalue": "name 'assertEqual' is not defined",
     "output_type": "error",
     "traceback": [
      "\u001b[1;31m---------------------------------------------------------------------------\u001b[0m",
      "\u001b[1;31mNameError\u001b[0m                                 Traceback (most recent call last)",
      "Cell \u001b[1;32mIn[8], line 1\u001b[0m\n\u001b[1;32m----> 1\u001b[0m \u001b[43massertEqual\u001b[49m(a, b)\n",
      "\u001b[1;31mNameError\u001b[0m: name 'assertEqual' is not defined"
     ]
    }
   ],
   "source": [
    "assertEqual(a, b)"
   ]
  },
  {
   "cell_type": "code",
   "execution_count": null,
   "id": "c90069c0",
   "metadata": {},
   "outputs": [],
   "source": []
  },
  {
   "cell_type": "code",
   "execution_count": null,
   "id": "125665d4",
   "metadata": {},
   "outputs": [],
   "source": []
  },
  {
   "cell_type": "code",
   "execution_count": null,
   "id": "4ade9d33",
   "metadata": {},
   "outputs": [],
   "source": []
  },
  {
   "cell_type": "code",
   "execution_count": null,
   "id": "dc17b078",
   "metadata": {},
   "outputs": [],
   "source": []
  },
  {
   "cell_type": "code",
   "execution_count": null,
   "id": "8b45dae4",
   "metadata": {},
   "outputs": [],
   "source": []
  },
  {
   "cell_type": "code",
   "execution_count": null,
   "id": "476ec317",
   "metadata": {},
   "outputs": [],
   "source": []
  }
 ],
 "metadata": {
  "kernelspec": {
   "display_name": "Python 3 (ipykernel)",
   "language": "python",
   "name": "python3"
  },
  "language_info": {
   "codemirror_mode": {
    "name": "ipython",
    "version": 3
   },
   "file_extension": ".py",
   "mimetype": "text/x-python",
   "name": "python",
   "nbconvert_exporter": "python",
   "pygments_lexer": "ipython3",
   "version": "3.11.3"
  }
 },
 "nbformat": 4,
 "nbformat_minor": 5
}
