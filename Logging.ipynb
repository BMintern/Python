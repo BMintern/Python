{
 "cells": [
  {
   "cell_type": "markdown",
   "id": "0da306fc",
   "metadata": {},
   "source": [
    "# Logging in Python"
   ]
  },
  {
   "cell_type": "code",
   "execution_count": null,
   "id": "94437a69",
   "metadata": {},
   "outputs": [],
   "source": []
  },
  {
   "cell_type": "markdown",
   "id": "50ccca9d",
   "metadata": {},
   "source": [
    "The logging module in Python is a ready-to-use and powerful module that is designed to meet the needs of beginners as well as enterprise teams. It is used by most of the third-party Python libraries, so you can integrate your log messages with the ones from those libraries to produce a homogeneous log for your application."
   ]
  },
  {
   "cell_type": "code",
   "execution_count": 2,
   "id": "80a8860c",
   "metadata": {},
   "outputs": [],
   "source": [
    "import logging"
   ]
  },
  {
   "cell_type": "markdown",
   "id": "15ca7b39",
   "metadata": {},
   "source": [
    "With the logging module imported, you can use something called a “logger” to log messages that you want to see. By default, there are 5 standard levels indicating the severity of events. Each has a corresponding method that can be used to log events at that level of severity. The defined levels, in order of increasing severity, are the following:\n",
    "\n",
    "DEBUG                                                                                                                          \n",
    "INFO                                                                                                                           \n",
    "WARNING                                                                                                                        \n",
    "ERROR                                                                                                                          \n",
    "CRITICAL"
   ]
  },
  {
   "cell_type": "code",
   "execution_count": 3,
   "id": "4a6421e5",
   "metadata": {},
   "outputs": [
    {
     "name": "stderr",
     "output_type": "stream",
     "text": [
      "WARNING:root:This is a warning message\n",
      "ERROR:root:This is an error message\n",
      "CRITICAL:root:This is a critical message\n"
     ]
    }
   ],
   "source": [
    "logging.debug('This is a debug message')\n",
    "logging.info('This is an info message')\n",
    "logging.warning('This is a warning message')\n",
    "logging.error('This is an error message')\n",
    "logging.critical('This is a critical message')"
   ]
  },
  {
   "cell_type": "markdown",
   "id": "3412f8db",
   "metadata": {},
   "source": [
    "### Basic Configurations\n",
    "the basicConfig(**kwargs) method used to configure the logging system"
   ]
  },
  {
   "cell_type": "markdown",
   "id": "bc01ea4e",
   "metadata": {},
   "source": [
    "Some of the commonly used parameters for basicConfig() are the following:\n",
    "\n",
    "__level__: The root logger will be set to the specified severity level.                                                             \n",
    "__filename__: This specifies the file.                                                                                               \n",
    "__filemode__: If filename is given, the file is opened in this mode. The default is a, which means append.                           \n",
    "__format__: This is the format of the log message."
   ]
  },
  {
   "cell_type": "markdown",
   "id": "3706c53a",
   "metadata": {},
   "source": [
    "By using the level parameter, you can set what level of log messages you want to record. This can be done by passing one of the constants available in the class, and this would enable all logging calls at or above that level to be logged. Here’s an example:"
   ]
  },
  {
   "cell_type": "code",
   "execution_count": 5,
   "id": "8ea7563e",
   "metadata": {},
   "outputs": [],
   "source": [
    "logging.basicConfig(level=logging.DEBUG)\n",
    "logging.debug('This will get logged')"
   ]
  },
  {
   "cell_type": "markdown",
   "id": "53e4672f",
   "metadata": {},
   "source": [
    "Similarly, for logging to a file rather than the console, filename and filemode can be used, and you can decide the format of the message using format"
   ]
  },
  {
   "cell_type": "code",
   "execution_count": 6,
   "id": "faf7ee88",
   "metadata": {},
   "outputs": [
    {
     "name": "stderr",
     "output_type": "stream",
     "text": [
      "WARNING:root:This will get logged to a file\n"
     ]
    }
   ],
   "source": [
    "logging.basicConfig(filename='app.log', filemode='w', format='%(name)s - %(levelname)s - %(message)s')\n",
    "logging.warning('This will get logged to a file')"
   ]
  },
  {
   "cell_type": "markdown",
   "id": "d2138e9e",
   "metadata": {},
   "source": [
    "### Formatting the Output"
   ]
  },
  {
   "cell_type": "markdown",
   "id": "0afb8873",
   "metadata": {},
   "source": [
    "While you can pass any variable that can be represented as a string from your program as a message to your logs, there are some basic elements that are already a part of the LogRecord and can be easily added to the output format"
   ]
  },
  {
   "cell_type": "code",
   "execution_count": 7,
   "id": "04a7c64a",
   "metadata": {},
   "outputs": [
    {
     "name": "stderr",
     "output_type": "stream",
     "text": [
      "WARNING:root:This is a Warning\n"
     ]
    }
   ],
   "source": [
    "logging.basicConfig(format='%(process)d-%(levelname)s-%(message)s')\n",
    "logging.warning('This is a Warning')"
   ]
  },
  {
   "cell_type": "markdown",
   "id": "04cc1910",
   "metadata": {},
   "source": [
    "by adding date "
   ]
  },
  {
   "cell_type": "code",
   "execution_count": 8,
   "id": "2924e01e",
   "metadata": {},
   "outputs": [],
   "source": [
    "logging.basicConfig(format='%(asctime)s - %(message)s', level=logging.INFO)\n",
    "logging.info('Admin logged in')"
   ]
  },
  {
   "cell_type": "markdown",
   "id": "85bd17c9",
   "metadata": {},
   "source": [
    "%(asctime)s adds the time of creation of the LogRecord. The format can be changed using the datefmt attribute, which uses the same formatting language as the formatting functions in the datetime module, such as time.strftime():\n",
    "\n"
   ]
  },
  {
   "cell_type": "code",
   "execution_count": 9,
   "id": "14579d5e",
   "metadata": {},
   "outputs": [
    {
     "name": "stderr",
     "output_type": "stream",
     "text": [
      "WARNING:root:Admin logged out\n"
     ]
    }
   ],
   "source": [
    "logging.basicConfig(format='%(asctime)s - %(message)s', datefmt='%d-%b-%y %H:%M:%S')\n",
    "logging.warning('Admin logged out')"
   ]
  },
  {
   "cell_type": "markdown",
   "id": "027ee16f",
   "metadata": {},
   "source": [
    "## Logging Variable Data"
   ]
  },
  {
   "cell_type": "markdown",
   "id": "09e1dc19",
   "metadata": {},
   "source": [
    "In most cases, you would want to include dynamic information from your application in the logs. You have seen that the logging methods take a string as an argument, and it might seem natural to format a string with variable data in a separate line and pass it to the log method. But this can actually be done directly by using a format string for the message and appending the variable data as arguments."
   ]
  },
  {
   "cell_type": "code",
   "execution_count": 10,
   "id": "c165da0e",
   "metadata": {},
   "outputs": [
    {
     "name": "stderr",
     "output_type": "stream",
     "text": [
      "ERROR:root:Vaibhavi raised an error\n"
     ]
    }
   ],
   "source": [
    "name = 'Vaibhavi'\n",
    "\n",
    "logging.error('%s raised an error', name)"
   ]
  },
  {
   "cell_type": "markdown",
   "id": "35c9870e",
   "metadata": {},
   "source": [
    "The arguments passed to the method would be included as variable data in the message.\n",
    "\n",
    "While we can use any formatting style, the f-strings introduced in Python 3.6 are an awesome way to format strings as they can help keep the formatting short and easy to read:\n",
    "\n"
   ]
  },
  {
   "cell_type": "code",
   "execution_count": 11,
   "id": "7671f804",
   "metadata": {},
   "outputs": [
    {
     "name": "stderr",
     "output_type": "stream",
     "text": [
      "ERROR:root:Vaibhavi raised an error\n"
     ]
    }
   ],
   "source": [
    "name = 'Vaibhavi'\n",
    "\n",
    "logging.error(f'{name} raised an error')"
   ]
  },
  {
   "cell_type": "markdown",
   "id": "ad1ec19e",
   "metadata": {},
   "source": [
    "## Capturing Stack Traces"
   ]
  },
  {
   "cell_type": "markdown",
   "id": "aa8d4f24",
   "metadata": {},
   "source": [
    "The logging module also allows you to capture the full stack traces in an application. Exception information can be captured if the exc_info parameter is passed as True, and the logging functions are called like this:"
   ]
  },
  {
   "cell_type": "code",
   "execution_count": 12,
   "id": "927deaa2",
   "metadata": {},
   "outputs": [
    {
     "name": "stderr",
     "output_type": "stream",
     "text": [
      "ERROR:root:Exception occurred\n",
      "Traceback (most recent call last):\n",
      "  File \"C:\\Users\\ITTECH~1\\AppData\\Local\\Temp/ipykernel_22808/1418777249.py\", line 5, in <module>\n",
      "    c = a / b\n",
      "ZeroDivisionError: division by zero\n"
     ]
    }
   ],
   "source": [
    "a = 5\n",
    "b = 0\n",
    "\n",
    "try:\n",
    "    c = a / b\n",
    "except Exception as e:\n",
    "    logging.error(\"Exception occurred\", exc_info=True)"
   ]
  },
  {
   "cell_type": "code",
   "execution_count": 13,
   "id": "25c1b981",
   "metadata": {},
   "outputs": [
    {
     "name": "stderr",
     "output_type": "stream",
     "text": [
      "ERROR:root:Exception occurred\n",
      "Traceback (most recent call last):\n",
      "  File \"C:\\Users\\ITTECH~1\\AppData\\Local\\Temp/ipykernel_22808/3070171158.py\", line 4, in <module>\n",
      "    c = a / b\n",
      "ZeroDivisionError: division by zero\n"
     ]
    }
   ],
   "source": [
    "a = 5\n",
    "b = 0\n",
    "try:\n",
    "    c = a / b\n",
    "except Exception as e:\n",
    "    logging.exception(\"Exception occurred\")"
   ]
  },
  {
   "cell_type": "code",
   "execution_count": 1,
   "id": "8be12f28",
   "metadata": {},
   "outputs": [
    {
     "ename": "RuntimeError",
     "evalue": "asyncio.run() cannot be called from a running event loop",
     "output_type": "error",
     "traceback": [
      "\u001b[1;31m---------------------------------------------------------------------------\u001b[0m",
      "\u001b[1;31mRuntimeError\u001b[0m                              Traceback (most recent call last)",
      "\u001b[1;32mC:\\Users\\ITTECH~1\\AppData\\Local\\Temp/ipykernel_10892/11171426.py\u001b[0m in \u001b[0;36m<module>\u001b[1;34m\u001b[0m\n\u001b[0;32m     18\u001b[0m     \u001b[1;32mawait\u001b[0m \u001b[0masyncio\u001b[0m\u001b[1;33m.\u001b[0m\u001b[0msleep\u001b[0m\u001b[1;33m(\u001b[0m\u001b[1;36m1\u001b[0m\u001b[1;33m)\u001b[0m\u001b[1;33m\u001b[0m\u001b[1;33m\u001b[0m\u001b[0m\n\u001b[0;32m     19\u001b[0m     \u001b[0mprint\u001b[0m\u001b[1;33m(\u001b[0m\u001b[1;34m\"three\"\u001b[0m\u001b[1;33m)\u001b[0m\u001b[1;33m\u001b[0m\u001b[1;33m\u001b[0m\u001b[0m\n\u001b[1;32m---> 20\u001b[1;33m \u001b[0masyncio\u001b[0m\u001b[1;33m.\u001b[0m\u001b[0mrun\u001b[0m\u001b[1;33m(\u001b[0m\u001b[0mfn\u001b[0m\u001b[1;33m(\u001b[0m\u001b[1;33m)\u001b[0m\u001b[1;33m)\u001b[0m\u001b[1;33m\u001b[0m\u001b[1;33m\u001b[0m\u001b[0m\n\u001b[0m",
      "\u001b[1;32m~\\anaconda3\\lib\\asyncio\\runners.py\u001b[0m in \u001b[0;36mrun\u001b[1;34m(main, debug)\u001b[0m\n\u001b[0;32m     31\u001b[0m     \"\"\"\n\u001b[0;32m     32\u001b[0m     \u001b[1;32mif\u001b[0m \u001b[0mevents\u001b[0m\u001b[1;33m.\u001b[0m\u001b[0m_get_running_loop\u001b[0m\u001b[1;33m(\u001b[0m\u001b[1;33m)\u001b[0m \u001b[1;32mis\u001b[0m \u001b[1;32mnot\u001b[0m \u001b[1;32mNone\u001b[0m\u001b[1;33m:\u001b[0m\u001b[1;33m\u001b[0m\u001b[1;33m\u001b[0m\u001b[0m\n\u001b[1;32m---> 33\u001b[1;33m         raise RuntimeError(\n\u001b[0m\u001b[0;32m     34\u001b[0m             \"asyncio.run() cannot be called from a running event loop\")\n\u001b[0;32m     35\u001b[0m \u001b[1;33m\u001b[0m\u001b[0m\n",
      "\u001b[1;31mRuntimeError\u001b[0m: asyncio.run() cannot be called from a running event loop"
     ]
    }
   ],
   "source": [
    "import asyncio\n",
    "\n",
    " \n",
    "\n",
    "async def fn():\n",
    "\n",
    "    print(\"one\")\n",
    "    await asyncio.sleep(1)\n",
    "    await fn2()\n",
    "    print('four')\n",
    "    await asyncio.sleep(1)\n",
    "    print('five')\n",
    "    await asyncio.sleep(1)\n",
    "\n",
    "async def fn2():\n",
    "    await asyncio.sleep(1)\n",
    "    print(\"two\")\n",
    "    await asyncio.sleep(1)\n",
    "    print(\"three\")\n",
    "asyncio.run(fn())"
   ]
  },
  {
   "cell_type": "code",
   "execution_count": 2,
   "id": "773396d1",
   "metadata": {},
   "outputs": [
    {
     "ename": "RuntimeError",
     "evalue": "asyncio.run() cannot be called from a running event loop",
     "output_type": "error",
     "traceback": [
      "\u001b[1;31m---------------------------------------------------------------------------\u001b[0m",
      "\u001b[1;31mRuntimeError\u001b[0m                              Traceback (most recent call last)",
      "\u001b[1;32mC:\\Users\\ITTECH~1\\AppData\\Local\\Temp/ipykernel_18920/949787980.py\u001b[0m in \u001b[0;36m<module>\u001b[1;34m\u001b[0m\n\u001b[0;32m      9\u001b[0m     \u001b[1;32mawait\u001b[0m \u001b[0masyncio\u001b[0m\u001b[1;33m.\u001b[0m\u001b[0msleep\u001b[0m\u001b[1;33m(\u001b[0m\u001b[1;36m1\u001b[0m\u001b[1;33m)\u001b[0m\u001b[1;33m\u001b[0m\u001b[1;33m\u001b[0m\u001b[0m\n\u001b[0;32m     10\u001b[0m \u001b[1;33m\u001b[0m\u001b[0m\n\u001b[1;32m---> 11\u001b[1;33m \u001b[0masyncio\u001b[0m\u001b[1;33m.\u001b[0m\u001b[0mrun\u001b[0m\u001b[1;33m(\u001b[0m\u001b[0mmain\u001b[0m\u001b[1;33m(\u001b[0m\u001b[1;33m)\u001b[0m\u001b[1;33m)\u001b[0m\u001b[1;33m\u001b[0m\u001b[1;33m\u001b[0m\u001b[0m\n\u001b[0m",
      "\u001b[1;32m~\\anaconda3\\lib\\asyncio\\runners.py\u001b[0m in \u001b[0;36mrun\u001b[1;34m(main, debug)\u001b[0m\n\u001b[0;32m     31\u001b[0m     \"\"\"\n\u001b[0;32m     32\u001b[0m     \u001b[1;32mif\u001b[0m \u001b[0mevents\u001b[0m\u001b[1;33m.\u001b[0m\u001b[0m_get_running_loop\u001b[0m\u001b[1;33m(\u001b[0m\u001b[1;33m)\u001b[0m \u001b[1;32mis\u001b[0m \u001b[1;32mnot\u001b[0m \u001b[1;32mNone\u001b[0m\u001b[1;33m:\u001b[0m\u001b[1;33m\u001b[0m\u001b[1;33m\u001b[0m\u001b[0m\n\u001b[1;32m---> 33\u001b[1;33m         raise RuntimeError(\n\u001b[0m\u001b[0;32m     34\u001b[0m             \"asyncio.run() cannot be called from a running event loop\")\n\u001b[0;32m     35\u001b[0m \u001b[1;33m\u001b[0m\u001b[0m\n",
      "\u001b[1;31mRuntimeError\u001b[0m: asyncio.run() cannot be called from a running event loop"
     ]
    }
   ],
   "source": [
    "import asyncio\n",
    "async def main():\n",
    "    print('vaibhavi')\n",
    "    t1= asyncio.create_task(AP('text'))\n",
    "    print('finished')\n",
    "\n",
    "async def AP(text):\n",
    "    print(text)\n",
    "    await asyncio.sleep(1)\n",
    "\n",
    "asyncio.run(main())"
   ]
  },
  {
   "cell_type": "code",
   "execution_count": null,
   "id": "a6240066",
   "metadata": {},
   "outputs": [],
   "source": []
  }
 ],
 "metadata": {
  "kernelspec": {
   "display_name": "Python 3 (ipykernel)",
   "language": "python",
   "name": "python3"
  },
  "language_info": {
   "codemirror_mode": {
    "name": "ipython",
    "version": 3
   },
   "file_extension": ".py",
   "mimetype": "text/x-python",
   "name": "python",
   "nbconvert_exporter": "python",
   "pygments_lexer": "ipython3",
   "version": "3.9.13"
  }
 },
 "nbformat": 4,
 "nbformat_minor": 5
}
