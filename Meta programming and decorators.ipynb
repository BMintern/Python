{
 "cells": [
  {
   "cell_type": "markdown",
   "id": "ab6fa82d",
   "metadata": {},
   "source": [
    "## Meta-programming in Python: Decorators, Meta classes, & Code Generation"
   ]
  },
  {
   "cell_type": "raw",
   "id": "1509a413",
   "metadata": {
    "ExecuteTime": {
     "end_time": "2023-06-21T09:29:30.791208Z",
     "start_time": "2023-06-21T09:29:30.783326Z"
    }
   },
   "source": [
    "Decorators are a powerful feature in Python that allow us to modify the behavior of functions or classes dynamically.\n",
    "In simple words, a decorator allows a user to add new functionality to an existing object without modifying itself."
   ]
  },
  {
   "cell_type": "code",
   "execution_count": 16,
   "id": "74d8023f",
   "metadata": {
    "ExecuteTime": {
     "end_time": "2023-06-21T15:51:20.770427Z",
     "start_time": "2023-06-21T15:51:20.758181Z"
    }
   },
   "outputs": [
    {
     "name": "stdout",
     "output_type": "stream",
     "text": [
      "hello world\n",
      "hello world\n",
      "hello world\n"
     ]
    }
   ],
   "source": [
    "# function can be stored in a variable\n",
    "def somefn():\n",
    "    print(\"hello world\")\n",
    "somefn()    \n",
    "f=somefn()\n",
    "f\n",
    "f=somefn\n",
    "f()"
   ]
  },
  {
   "cell_type": "code",
   "execution_count": 17,
   "id": "0f8d292d",
   "metadata": {
    "ExecuteTime": {
     "end_time": "2023-06-21T15:51:30.401004Z",
     "start_time": "2023-06-21T15:51:30.390189Z"
    }
   },
   "outputs": [
    {
     "name": "stdout",
     "output_type": "stream",
     "text": [
      "hi\n",
      "I am a student\n",
      "Calling another function\n"
     ]
    }
   ],
   "source": [
    "# function can be passed as a parameter to another function\n",
    "def foo(a):\n",
    "    print (\"hi\")\n",
    "    a()\n",
    "    print (\"Calling another function\")   \n",
    "def f():\n",
    "    print (\"I am a student\")\n",
    "foo(f)"
   ]
  },
  {
   "cell_type": "code",
   "execution_count": 18,
   "id": "7251ba5e",
   "metadata": {
    "ExecuteTime": {
     "end_time": "2023-06-21T15:51:50.397786Z",
     "start_time": "2023-06-21T15:51:50.381755Z"
    }
   },
   "outputs": [
    {
     "name": "stdout",
     "output_type": "stream",
     "text": [
      "cash withdraw\n"
     ]
    }
   ],
   "source": [
    "def withdrawcash():\n",
    "    print('cash withdraw')\n",
    "withdrawcash()"
   ]
  },
  {
   "cell_type": "code",
   "execution_count": 19,
   "id": "3ce2211c",
   "metadata": {
    "ExecuteTime": {
     "end_time": "2023-06-21T15:52:00.577634Z",
     "start_time": "2023-06-21T15:52:00.560031Z"
    }
   },
   "outputs": [
    {
     "name": "stdout",
     "output_type": "stream",
     "text": [
      "enter pin\n",
      "cash withdraw\n",
      "print reciept\n"
     ]
    }
   ],
   "source": [
    "def ATM(func):\n",
    "    def insidefn():\n",
    "        print('enter pin')\n",
    "        func()\n",
    "        print('print reciept')\n",
    "    return insidefn\n",
    "\n",
    "#ATM(withdrawcash)\n",
    "withdraw = ATM(withdrawcash)\n",
    "withdraw()"
   ]
  },
  {
   "cell_type": "code",
   "execution_count": 20,
   "id": "745858c5",
   "metadata": {
    "ExecuteTime": {
     "end_time": "2023-06-21T15:52:12.450738Z",
     "start_time": "2023-06-21T15:52:12.437636Z"
    }
   },
   "outputs": [
    {
     "name": "stdout",
     "output_type": "stream",
     "text": [
      "enter pin\n",
      "cash withdraw\n",
      "print reciept\n"
     ]
    }
   ],
   "source": [
    "def ATM(func):\n",
    "    def insidefn():\n",
    "        print('enter pin')\n",
    "        func()\n",
    "        print('print reciept')\n",
    "    return insidefn\n",
    "\n",
    "@ATM\n",
    "def withdrawcash():\n",
    "    print('cash withdraw')\n",
    "withdrawcash()"
   ]
  },
  {
   "cell_type": "code",
   "execution_count": 21,
   "id": "da4fb9c6",
   "metadata": {
    "ExecuteTime": {
     "end_time": "2023-06-21T15:52:25.697000Z",
     "start_time": "2023-06-21T15:52:25.690411Z"
    }
   },
   "outputs": [],
   "source": [
    "# Decorators wrap a function, modifying its behavior."
   ]
  },
  {
   "cell_type": "code",
   "execution_count": 22,
   "id": "5ceb1018",
   "metadata": {
    "ExecuteTime": {
     "end_time": "2023-06-21T15:52:51.178746Z",
     "start_time": "2023-06-21T15:52:51.166958Z"
    }
   },
   "outputs": [],
   "source": [
    "#Decorator changes the functionality of the function with out changing original function."
   ]
  },
  {
   "cell_type": "code",
   "execution_count": null,
   "id": "2da120d2",
   "metadata": {},
   "outputs": [],
   "source": []
  },
  {
   "cell_type": "markdown",
   "id": "c92309b3",
   "metadata": {},
   "source": [
    "### 1. Decorators: Enhancing Functions with Magical Powers"
   ]
  },
  {
   "cell_type": "code",
   "execution_count": 7,
   "id": "93330ff8",
   "metadata": {
    "ExecuteTime": {
     "end_time": "2023-06-21T09:33:08.945958Z",
     "start_time": "2023-06-21T09:33:08.938665Z"
    }
   },
   "outputs": [],
   "source": [
    "#EXAMPLE 1: Uppercase Decorator"
   ]
  },
  {
   "cell_type": "code",
   "execution_count": 2,
   "id": "5ee5f3fe",
   "metadata": {
    "ExecuteTime": {
     "end_time": "2023-06-21T15:39:19.777166Z",
     "start_time": "2023-06-21T15:39:19.758881Z"
    }
   },
   "outputs": [
    {
     "name": "stdout",
     "output_type": "stream",
     "text": [
      "HELLO\n"
     ]
    }
   ],
   "source": [
    "\n",
    "def uppercase(func):\n",
    "    def wrapper():\n",
    "        result = func()\n",
    "        return result.upper()\n",
    "    return wrapper\n",
    "\n",
    "@uppercase\n",
    "def greet():\n",
    "    return \"hello\"\n",
    "\n",
    "print(greet())  # Output: HELLO\n",
    "\n",
    "# uppercase decorator takes a function and returns a wrapper function that converts the result of the decorated function to uppercase"
   ]
  },
  {
   "cell_type": "code",
   "execution_count": 3,
   "id": "21ba9741",
   "metadata": {
    "ExecuteTime": {
     "end_time": "2023-06-21T15:39:22.324487Z",
     "start_time": "2023-06-21T15:39:22.318263Z"
    }
   },
   "outputs": [],
   "source": [
    "#EXAMPLE 2: Timer Decorator"
   ]
  },
  {
   "cell_type": "code",
   "execution_count": 4,
   "id": "66abb8a0",
   "metadata": {
    "ExecuteTime": {
     "end_time": "2023-06-21T15:39:23.309398Z",
     "start_time": "2023-06-21T15:39:23.237919Z"
    }
   },
   "outputs": [
    {
     "name": "stdout",
     "output_type": "stream",
     "text": [
      "Execution time: 0.062897 seconds\n"
     ]
    }
   ],
   "source": [
    "import time\n",
    "\n",
    "def timer(func):\n",
    "    def wrapper():\n",
    "        start_time = time.time()\n",
    "        result = func()\n",
    "        end_time = time.time()\n",
    "        print(f\"Execution time: {end_time - start_time:.6f} seconds\")\n",
    "        return result\n",
    "    return wrapper\n",
    "\n",
    "@timer\n",
    "def count():\n",
    "    for i in range(1, 1000000):\n",
    "        pass\n",
    "\n",
    "count()\n",
    "\n",
    "#timer decorator measures the execution time of the decorated function and prints it"
   ]
  },
  {
   "cell_type": "code",
   "execution_count": null,
   "id": "cf2be591",
   "metadata": {},
   "outputs": [],
   "source": [
    "# Passing Parameterized Functions to Decorators"
   ]
  },
  {
   "cell_type": "code",
   "execution_count": 24,
   "id": "afbcca31",
   "metadata": {
    "ExecuteTime": {
     "end_time": "2023-06-21T15:55:37.938803Z",
     "start_time": "2023-06-21T15:55:31.999759Z"
    }
   },
   "outputs": [
    {
     "name": "stdout",
     "output_type": "stream",
     "text": [
      "Enter your name: Sarvesh\n",
      "Hi\n",
      "Sarvesh\n",
      "Bizmetric Intern\n"
     ]
    }
   ],
   "source": [
    "def intro(func):\n",
    "    def wrapper(*args, **kwargs):\n",
    "        print('Hi')\n",
    "        func(*args, **kwargs)\n",
    "        print('Bizmetric Intern')\n",
    "    return wrapper\n",
    "\n",
    "@intro\n",
    "def name(name):\n",
    "    print(name)\n",
    "\n",
    "v = input(\"Enter your name: \")\n",
    "name(v)\n"
   ]
  },
  {
   "cell_type": "code",
   "execution_count": 27,
   "id": "13448310",
   "metadata": {
    "ExecuteTime": {
     "end_time": "2023-06-21T15:56:55.149994Z",
     "start_time": "2023-06-21T15:56:55.132189Z"
    }
   },
   "outputs": [
    {
     "name": "stdout",
     "output_type": "stream",
     "text": [
      "####\n",
      "****\n",
      "I am a normal function\n",
      "****\n",
      "####\n"
     ]
    }
   ],
   "source": [
    "## Python Chaining Decorators\n",
    "def decorator_star(func):\n",
    "    def inner():\n",
    "        print(\"****\")\n",
    "        func()\n",
    "        print(\"****\")\n",
    "    return inner  # returning inner function\n",
    "def decorator_hash(func):\n",
    "    def inner():\n",
    "        print(\"####\")\n",
    "        func()\n",
    "        print(\"####\")\n",
    "    return inner  # returning inner function\n",
    "@decorator_hash\n",
    "@decorator_star\n",
    "def normal():\n",
    "    print(\"I am a normal function\")\n",
    "normal()"
   ]
  },
  {
   "cell_type": "code",
   "execution_count": null,
   "id": "4d9cfe13",
   "metadata": {},
   "outputs": [],
   "source": []
  },
  {
   "cell_type": "code",
   "execution_count": 23,
   "id": "c74e78b8",
   "metadata": {
    "ExecuteTime": {
     "end_time": "2023-06-21T11:52:43.231900Z",
     "start_time": "2023-06-21T11:52:43.223279Z"
    },
    "scrolled": true
   },
   "outputs": [],
   "source": [
    "def my_decorator(func):\n",
    "    def wrapper_function(*args):\n",
    "        print(\"{0} is called with parameter {1}\".format(func.__name__, args))\n",
    "        return func(*args)\n",
    "    return wrapper_function\n",
    "\n",
    "@my_decorator\n",
    "def add(x, y):\n",
    "    return x + y\n",
    "    \n",
    "@my_decorator\n",
    "def sub(x, y):\n",
    "    return x - y\n",
    "\n",
    "@my_decorator    \n",
    "def mul(x, y):\n",
    "    return x * y \n",
    "#@my_decorator\n"
   ]
  },
  {
   "cell_type": "code",
   "execution_count": 21,
   "id": "a8364232",
   "metadata": {
    "ExecuteTime": {
     "end_time": "2023-06-21T11:51:59.266083Z",
     "start_time": "2023-06-21T11:51:59.254986Z"
    }
   },
   "outputs": [
    {
     "name": "stdout",
     "output_type": "stream",
     "text": [
      "add is called with parameter (2, 3)\n"
     ]
    },
    {
     "data": {
      "text/plain": [
       "5"
      ]
     },
     "execution_count": 21,
     "metadata": {},
     "output_type": "execute_result"
    }
   ],
   "source": [
    "add(2,3)"
   ]
  },
  {
   "cell_type": "code",
   "execution_count": 16,
   "id": "ebf1009c",
   "metadata": {
    "ExecuteTime": {
     "end_time": "2023-06-21T11:51:25.603822Z",
     "start_time": "2023-06-21T11:51:25.596704Z"
    }
   },
   "outputs": [
    {
     "name": "stdout",
     "output_type": "stream",
     "text": [
      "sub is called with parameter (8, 9)\n"
     ]
    },
    {
     "data": {
      "text/plain": [
       "-1"
      ]
     },
     "execution_count": 16,
     "metadata": {},
     "output_type": "execute_result"
    }
   ],
   "source": [
    "sub(8,9)"
   ]
  },
  {
   "cell_type": "code",
   "execution_count": null,
   "id": "13b93fe3",
   "metadata": {},
   "outputs": [],
   "source": []
  },
  {
   "cell_type": "markdown",
   "id": "9f5e13c8",
   "metadata": {},
   "source": [
    "### 2. Meta classes: Shaping the Essence of Classes"
   ]
  },
  {
   "cell_type": "code",
   "execution_count": 45,
   "id": "698d0f77",
   "metadata": {
    "ExecuteTime": {
     "end_time": "2023-06-21T16:17:34.317211Z",
     "start_time": "2023-06-21T16:17:34.310177Z"
    }
   },
   "outputs": [],
   "source": [
    "# meta-class defines the behavior of an ordinary class and its instance."
   ]
  },
  {
   "cell_type": "markdown",
   "id": "42edf18c",
   "metadata": {},
   "source": [
    "A meta-class can add or subtract a method or field to an ordinary class. Python has one special class, the type class, which is by default a meta-class. All custom type classes must inherit from the type class."
   ]
  },
  {
   "cell_type": "code",
   "execution_count": 39,
   "id": "f1eb5e91",
   "metadata": {
    "ExecuteTime": {
     "end_time": "2023-06-21T16:14:25.495262Z",
     "start_time": "2023-06-21T16:14:25.485552Z"
    }
   },
   "outputs": [],
   "source": [
    "class Calc():\n",
    "    def add(self, x, y):\n",
    "        return x + y\n",
    "    \n",
    "    def sub(self, x, y):\n",
    "        return x - y\n",
    "    \n",
    "    def mul(self, x, y):\n",
    "        return x * y"
   ]
  },
  {
   "cell_type": "code",
   "execution_count": 44,
   "id": "b3b72f8f",
   "metadata": {
    "ExecuteTime": {
     "end_time": "2023-06-21T16:16:46.671441Z",
     "start_time": "2023-06-21T16:16:46.656248Z"
    }
   },
   "outputs": [],
   "source": [
    "def debug_function(func):\n",
    "\n",
    "    def wrapper(*args, **kwargs):\n",
    "        print(\"{0} is called with parameter {1}\".format(func.__qualname__, args[1:]))\n",
    "        return func(*args, **kwargs)\n",
    "    \n",
    "    return wrapper\n",
    "\n",
    "\n",
    "def debug_all_methods(cls):\n",
    "    for key, val in vars(cls).items():\n",
    "        if callable(val):\n",
    "            setattr(cls, key, debug_function(val))\n",
    "    return cls\n",
    "\n",
    "\n",
    "class MetaClassDebug(type):\n",
    "\n",
    "    def __new__(cls, clsname, bases, clsdict):\n",
    "        obj = super().__new__(cls, clsname, bases, clsdict)\n",
    "        obj = debug_all_methods(obj)\n",
    "        return obj\n",
    "\n",
    "\n",
    "class Calc(metaclass=MetaClassDebug):\n",
    "    def add(self, x, y):\n",
    "        return x + y\n",
    "    def sub(self, x, y):\n",
    "        return x - y\n",
    "    def mul(self, x, y):\n",
    "        return x * y\n",
    "#Calc is inherited from MetaClassDebug, hence every method has been decorated by debug_function from debug_all_methods."
   ]
  },
  {
   "cell_type": "code",
   "execution_count": 41,
   "id": "abe9fac9",
   "metadata": {
    "ExecuteTime": {
     "end_time": "2023-06-21T16:14:28.999960Z",
     "start_time": "2023-06-21T16:14:28.989970Z"
    }
   },
   "outputs": [
    {
     "name": "stdout",
     "output_type": "stream",
     "text": [
      "Calc.add is called with parameter (2, 3)\n",
      "5\n",
      "Calc.sub is called with parameter (2, 3)\n",
      "-1\n",
      "Calc.mul is called with parameter (2, 3)\n",
      "6\n"
     ]
    }
   ],
   "source": [
    "calc = Calc()\n",
    "print(calc.add(2, 3))\n",
    "print(calc.sub(2, 3))\n",
    "print(calc.mul(2, 3))"
   ]
  },
  {
   "cell_type": "code",
   "execution_count": 43,
   "id": "631428ae",
   "metadata": {
    "ExecuteTime": {
     "end_time": "2023-06-21T16:15:51.200525Z",
     "start_time": "2023-06-21T16:15:51.190271Z"
    }
   },
   "outputs": [
    {
     "name": "stdout",
     "output_type": "stream",
     "text": [
      "Creating class: MyClass\n"
     ]
    }
   ],
   "source": [
    "class MyMeta(type):\n",
    "    def __new__(mcls, name, bases, attrs):\n",
    "        print(f\"Creating class: {name}\")\n",
    "        return super().__new__(mcls, name, bases, attrs)\n",
    "\n",
    "class MyClass(metaclass=MyMeta):\n",
    "    pass\n",
    "#we define a metaclass `MyMeta` that is responsible for creating classes. \n",
    "#By overriding the `__new__` method, we can intercept the creation of classes and perform additional actions"
   ]
  },
  {
   "cell_type": "code",
   "execution_count": null,
   "id": "aa877cfe",
   "metadata": {},
   "outputs": [],
   "source": []
  },
  {
   "cell_type": "markdown",
   "id": "51f6bb0f",
   "metadata": {},
   "source": [
    "### 3. Code Generation: Crafting Code That Writes Code"
   ]
  },
  {
   "cell_type": "code",
   "execution_count": 30,
   "id": "63193754",
   "metadata": {
    "ExecuteTime": {
     "end_time": "2023-06-21T16:07:34.283048Z",
     "start_time": "2023-06-21T16:07:34.266590Z"
    }
   },
   "outputs": [
    {
     "name": "stdout",
     "output_type": "stream",
     "text": [
      "15\n"
     ]
    }
   ],
   "source": [
    "function_name = \"add\"\n",
    "a = 5\n",
    "b = 10\n",
    "\n",
    "code = f\"\"\"\n",
    "def {function_name}(a, b):\n",
    "    return a + b\n",
    "\n",
    "result = {function_name}({a}, {b})\n",
    "print(result)\n",
    "\"\"\"\n",
    "\n",
    "exec(code) \n"
   ]
  },
  {
   "cell_type": "raw",
   "id": "156f5c88",
   "metadata": {},
   "source": [
    "we dynamically generate a Python function using string interpolation. The `code` string contains the code for defining the `add` function, calling it with the provided values of `a` and `b`, and printing the result. By executing the `code` using the `exec` function, we generate and run the code dynamically."
   ]
  },
  {
   "cell_type": "code",
   "execution_count": null,
   "id": "2908cd14",
   "metadata": {},
   "outputs": [],
   "source": []
  }
 ],
 "metadata": {
  "kernelspec": {
   "display_name": "Python 3 (ipykernel)",
   "language": "python",
   "name": "python3"
  },
  "language_info": {
   "codemirror_mode": {
    "name": "ipython",
    "version": 3
   },
   "file_extension": ".py",
   "mimetype": "text/x-python",
   "name": "python",
   "nbconvert_exporter": "python",
   "pygments_lexer": "ipython3",
   "version": "3.11.3"
  }
 },
 "nbformat": 4,
 "nbformat_minor": 5
}
