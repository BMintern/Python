{
 "cells": [
  {
   "cell_type": "code",
   "execution_count": 1,
   "id": "66e9afc5",
   "metadata": {
    "ExecuteTime": {
     "end_time": "2023-06-21T04:54:03.200611Z",
     "start_time": "2023-06-21T04:54:03.196098Z"
    }
   },
   "outputs": [],
   "source": [
    "def add(x, y):\n",
    "    return x + y    \n",
    "\n",
    "def sub(x, y):\n",
    "    return x - y\n",
    "    \n",
    "def mul(x, y):\n",
    "    return x * y"
   ]
  },
  {
   "cell_type": "code",
   "execution_count": 2,
   "id": "4af1f2ed",
   "metadata": {
    "ExecuteTime": {
     "end_time": "2023-06-21T04:54:45.552646Z",
     "start_time": "2023-06-21T04:54:45.545787Z"
    }
   },
   "outputs": [
    {
     "name": "stdout",
     "output_type": "stream",
     "text": [
      "add is called with parameter 5,3\n",
      "8\n",
      "sub is called with parameter 5,3\n",
      "2\n",
      "mul is called with parameter 5,3\n",
      "15\n"
     ]
    }
   ],
   "source": [
    "def add(x, y):\n",
    "    print(\"add is called with parameter {0},{1}\".format(x,y))\n",
    "    return x + y    \n",
    "\n",
    "def sub(x, y):\n",
    "    print(\"sub is called with parameter {0},{1}\".format(x,y))\n",
    "    return x - y\n",
    "    \n",
    "def mul(x, y):\n",
    "    print(\"mul is called with parameter {0},{1}\".format(x,y))\n",
    "    return x * y    \n",
    "\n",
    "print(add(5,3))\n",
    "print(sub(5,3))\n",
    "print(mul(5,3))"
   ]
  },
  {
   "cell_type": "code",
   "execution_count": 6,
   "id": "bb1d7af0",
   "metadata": {
    "ExecuteTime": {
     "end_time": "2023-06-21T04:59:48.483787Z",
     "start_time": "2023-06-21T04:59:48.477535Z"
    }
   },
   "outputs": [],
   "source": [
    "def my_decorator(func):\n",
    "    def wrapper_function(*args):\n",
    "        print(\"{0} is called with parameter {1}\".format(func.__name__, args))\n",
    "        return func(*args)\n",
    "    return wrapper_function\n",
    "\n",
    "@my_decorator\n",
    "def add(x, y):\n",
    "    return x + y\n",
    "    \n",
    "@my_decorator\n",
    "def sub(x, y):\n",
    "    return x - y\n",
    "\n",
    "@my_decorator    \n",
    "def mul(x, y):\n",
    "    return x * y \n"
   ]
  },
  {
   "cell_type": "code",
   "execution_count": null,
   "id": "b5616416",
   "metadata": {},
   "outputs": [],
   "source": []
  }
 ],
 "metadata": {
  "kernelspec": {
   "display_name": "Python 3 (ipykernel)",
   "language": "python",
   "name": "python3"
  },
  "language_info": {
   "codemirror_mode": {
    "name": "ipython",
    "version": 3
   },
   "file_extension": ".py",
   "mimetype": "text/x-python",
   "name": "python",
   "nbconvert_exporter": "python",
   "pygments_lexer": "ipython3",
   "version": "3.11.3"
  }
 },
 "nbformat": 4,
 "nbformat_minor": 5
}
