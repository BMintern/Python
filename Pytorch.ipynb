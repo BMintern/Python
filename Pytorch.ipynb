{
 "cells": [
  {
   "cell_type": "code",
   "execution_count": 3,
   "id": "91679d45",
   "metadata": {},
   "outputs": [
    {
     "name": "stdout",
     "output_type": "stream",
     "text": [
      "Requirement already satisfied: torch in c:\\users\\it tech\\anaconda3\\lib\\site-packages (2.0.1)\n",
      "Requirement already satisfied: typing-extensions in c:\\users\\it tech\\anaconda3\\lib\\site-packages (from torch) (4.3.0)\n",
      "Requirement already satisfied: filelock in c:\\users\\it tech\\anaconda3\\lib\\site-packages (from torch) (3.6.0)\n",
      "Requirement already satisfied: networkx in c:\\users\\it tech\\anaconda3\\lib\\site-packages (from torch) (2.8.4)\n",
      "Requirement already satisfied: sympy in c:\\users\\it tech\\anaconda3\\lib\\site-packages (from torch) (1.10.1)\n",
      "Requirement already satisfied: jinja2 in c:\\users\\it tech\\appdata\\roaming\\python\\python39\\site-packages (from torch) (3.1.2)\n",
      "Requirement already satisfied: MarkupSafe>=2.0 in c:\\users\\it tech\\anaconda3\\lib\\site-packages (from jinja2->torch) (2.0.1)\n",
      "Requirement already satisfied: mpmath>=0.19 in c:\\users\\it tech\\anaconda3\\lib\\site-packages (from sympy->torch) (1.2.1)\n",
      "Note: you may need to restart the kernel to use updated packages.\n"
     ]
    }
   ],
   "source": [
    "pip install torch"
   ]
  },
  {
   "cell_type": "code",
   "execution_count": 1,
   "id": "8a3e7557",
   "metadata": {},
   "outputs": [
    {
     "data": {
      "text/plain": [
       "False"
      ]
     },
     "execution_count": 1,
     "metadata": {},
     "output_type": "execute_result"
    }
   ],
   "source": [
    "import torch\n",
    "torch.cuda.is_available()"
   ]
  },
  {
   "cell_type": "code",
   "execution_count": 2,
   "id": "42b7adb4",
   "metadata": {},
   "outputs": [],
   "source": [
    "import torch.cuda"
   ]
  },
  {
   "cell_type": "code",
   "execution_count": 3,
   "id": "9861d443",
   "metadata": {},
   "outputs": [
    {
     "data": {
      "text/plain": [
       "False"
      ]
     },
     "execution_count": 3,
     "metadata": {},
     "output_type": "execute_result"
    }
   ],
   "source": [
    "import torch\n",
    "torch.cuda.is_available()"
   ]
  },
  {
   "cell_type": "code",
   "execution_count": 2,
   "id": "d82d3146",
   "metadata": {},
   "outputs": [
    {
     "name": "stdout",
     "output_type": "stream",
     "text": [
      "Collecting pycuda\n",
      "  Using cached pycuda-2022.2.2.tar.gz (1.7 MB)\n",
      "  Installing build dependencies: started\n",
      "  Installing build dependencies: finished with status 'done'\n",
      "  Getting requirements to build wheel: started\n",
      "  Getting requirements to build wheel: finished with status 'done'\n",
      "  Preparing metadata (pyproject.toml): started\n",
      "  Preparing metadata (pyproject.toml): finished with status 'done'\n",
      "Requirement already satisfied: appdirs>=1.4.0 in c:\\users\\it tech\\anaconda3\\lib\\site-packages (from pycuda) (1.4.4)\n",
      "Collecting mako\n",
      "  Using cached Mako-1.2.4-py3-none-any.whl (78 kB)\n",
      "Collecting pytools>=2011.2\n",
      "  Using cached pytools-2023.1-py2.py3-none-any.whl (70 kB)\n",
      "Requirement already satisfied: typing-extensions>=4.0 in c:\\users\\it tech\\anaconda3\\lib\\site-packages (from pytools>=2011.2->pycuda) (4.3.0)\n",
      "Requirement already satisfied: platformdirs>=2.2.0 in c:\\users\\it tech\\anaconda3\\lib\\site-packages (from pytools>=2011.2->pycuda) (2.5.2)\n",
      "Note: you may need to restart the kernel to use updated packages.Requirement already satisfied: MarkupSafe>=0.9.2 in c:\\users\\it tech\\anaconda3\\lib\\site-packages (from mako->pycuda) (2.0.1)\n",
      "Building wheels for collected packages: pycuda\n",
      "  Building wheel for pycuda (pyproject.toml): started\n",
      "  Building wheel for pycuda (pyproject.toml): finished with status 'error'\n",
      "Failed to build pycuda\n",
      "\n"
     ]
    },
    {
     "name": "stderr",
     "output_type": "stream",
     "text": [
      "  error: subprocess-exited-with-error\n",
      "  \n",
      "  Building wheel for pycuda (pyproject.toml) did not run successfully.\n",
      "  exit code: 1\n",
      "  \n",
      "  [137 lines of output]\n",
      "  ***************************************************************\n",
      "  *** WARNING: nvcc not in path.\n",
      "  *** May need to set CUDA_INC_DIR for installation to succeed.\n",
      "  ***************************************************************\n",
      "  *************************************************************\n",
      "  *** I have detected that you have not run configure.py.\n",
      "  *************************************************************\n",
      "  *** Additionally, no global config files were found.\n",
      "  *** I will go ahead with the default configuration.\n",
      "  *** In all likelihood, this will not work out.\n",
      "  ***\n",
      "  *** See README_SETUP.txt for more information.\n",
      "  ***\n",
      "  *** If the build does fail, just re-run configure.py with the\n",
      "  *** correct arguments, and then retry. Good luck!\n",
      "  *************************************************************\n",
      "  *** HIT Ctrl-C NOW IF THIS IS NOT WHAT YOU WANT\n",
      "  *************************************************************\n",
      "  Continuing in 10 seconds...\n",
      "  Continuing in 9 seconds...\n",
      "  Continuing in 8 seconds...\n",
      "  Continuing in 7 seconds...\n",
      "  Continuing in 6 seconds...\n",
      "  Continuing in 5 seconds...\n",
      "  Continuing in 4 seconds...\n",
      "  Continuing in 3 seconds...\n",
      "  Continuing in 2 seconds...\n",
      "  Continuing in 1 seconds...\n",
      "  C:\\Users\\IT Tech\\AppData\\Local\\Temp\\pip-build-env-fw65iu0_\\overlay\\Lib\\site-packages\\setuptools\\_distutils\\dist.py:265: UserWarning: Unknown distribution option: 'test_requires'\n",
      "    warnings.warn(msg)\n",
      "  \n",
      "  running bdist_wheel\n",
      "  running build\n",
      "  running build_py\n",
      "  creating build\n",
      "  creating build\\lib.win-amd64-cpython-39\n",
      "  creating build\\lib.win-amd64-cpython-39\\pycuda\n",
      "  copying pycuda\\autoinit.py -> build\\lib.win-amd64-cpython-39\\pycuda\n",
      "  copying pycuda\\autoprimaryctx.py -> build\\lib.win-amd64-cpython-39\\pycuda\n",
      "  copying pycuda\\characterize.py -> build\\lib.win-amd64-cpython-39\\pycuda\n",
      "  copying pycuda\\compiler.py -> build\\lib.win-amd64-cpython-39\\pycuda\n",
      "  copying pycuda\\cumath.py -> build\\lib.win-amd64-cpython-39\\pycuda\n",
      "  copying pycuda\\curandom.py -> build\\lib.win-amd64-cpython-39\\pycuda\n",
      "  copying pycuda\\debug.py -> build\\lib.win-amd64-cpython-39\\pycuda\n",
      "  copying pycuda\\driver.py -> build\\lib.win-amd64-cpython-39\\pycuda\n",
      "  copying pycuda\\elementwise.py -> build\\lib.win-amd64-cpython-39\\pycuda\n",
      "  copying pycuda\\gpuarray.py -> build\\lib.win-amd64-cpython-39\\pycuda\n",
      "  copying pycuda\\reduction.py -> build\\lib.win-amd64-cpython-39\\pycuda\n",
      "  copying pycuda\\scan.py -> build\\lib.win-amd64-cpython-39\\pycuda\n",
      "  copying pycuda\\tools.py -> build\\lib.win-amd64-cpython-39\\pycuda\n",
      "  copying pycuda\\_cluda.py -> build\\lib.win-amd64-cpython-39\\pycuda\n",
      "  copying pycuda\\_mymako.py -> build\\lib.win-amd64-cpython-39\\pycuda\n",
      "  copying pycuda\\__init__.py -> build\\lib.win-amd64-cpython-39\\pycuda\n",
      "  creating build\\lib.win-amd64-cpython-39\\pycuda\\gl\n",
      "  copying pycuda\\gl\\autoinit.py -> build\\lib.win-amd64-cpython-39\\pycuda\\gl\n",
      "  copying pycuda\\gl\\__init__.py -> build\\lib.win-amd64-cpython-39\\pycuda\\gl\n",
      "  creating build\\lib.win-amd64-cpython-39\\pycuda\\sparse\n",
      "  copying pycuda\\sparse\\cg.py -> build\\lib.win-amd64-cpython-39\\pycuda\\sparse\n",
      "  copying pycuda\\sparse\\coordinate.py -> build\\lib.win-amd64-cpython-39\\pycuda\\sparse\n",
      "  copying pycuda\\sparse\\inner.py -> build\\lib.win-amd64-cpython-39\\pycuda\\sparse\n",
      "  copying pycuda\\sparse\\operator.py -> build\\lib.win-amd64-cpython-39\\pycuda\\sparse\n",
      "  copying pycuda\\sparse\\packeted.py -> build\\lib.win-amd64-cpython-39\\pycuda\\sparse\n",
      "  copying pycuda\\sparse\\pkt_build.py -> build\\lib.win-amd64-cpython-39\\pycuda\\sparse\n",
      "  copying pycuda\\sparse\\__init__.py -> build\\lib.win-amd64-cpython-39\\pycuda\\sparse\n",
      "  creating build\\lib.win-amd64-cpython-39\\pycuda\\compyte\n",
      "  copying pycuda\\compyte\\array.py -> build\\lib.win-amd64-cpython-39\\pycuda\\compyte\n",
      "  copying pycuda\\compyte\\dtypes.py -> build\\lib.win-amd64-cpython-39\\pycuda\\compyte\n",
      "  copying pycuda\\compyte\\__init__.py -> build\\lib.win-amd64-cpython-39\\pycuda\\compyte\n",
      "  running egg_info\n",
      "  writing pycuda.egg-info\\PKG-INFO\n",
      "  writing dependency_links to pycuda.egg-info\\dependency_links.txt\n",
      "  writing requirements to pycuda.egg-info\\requires.txt\n",
      "  writing top-level names to pycuda.egg-info\\top_level.txt\n",
      "  reading manifest file 'pycuda.egg-info\\SOURCES.txt'\n",
      "  reading manifest template 'MANIFEST.in'\n",
      "  warning: no files found matching 'doc\\source\\*.rst'\n",
      "  warning: no files found matching 'doc\\source\\conf.py'\n",
      "  warning: no files found matching 'doc\\source\\_static\\*.css'\n",
      "  warning: no files found matching 'doc\\source\\_templates\\*.html'\n",
      "  warning: no files found matching '*.cpp' under directory 'bpl-subset\\bpl_subset\\boost'\n",
      "  warning: no files found matching '*.html' under directory 'bpl-subset\\bpl_subset\\boost'\n",
      "  warning: no files found matching '*.inl' under directory 'bpl-subset\\bpl_subset\\boost'\n",
      "  warning: no files found matching '*.txt' under directory 'bpl-subset\\bpl_subset\\boost'\n",
      "  warning: no files found matching '*.h' under directory 'bpl-subset\\bpl_subset\\libs'\n",
      "  warning: no files found matching '*.ipp' under directory 'bpl-subset\\bpl_subset\\libs'\n",
      "  warning: no files found matching '*.pl' under directory 'bpl-subset\\bpl_subset\\libs'\n",
      "  adding license file 'LICENSE'\n",
      "  writing manifest file 'pycuda.egg-info\\SOURCES.txt'\n",
      "  C:\\Users\\IT Tech\\AppData\\Local\\Temp\\pip-build-env-fw65iu0_\\overlay\\Lib\\site-packages\\setuptools\\command\\build_py.py:201: _Warning: Package 'pycuda.cuda' is absent from the `packages` configuration.\n",
      "  !!\n",
      "  \n",
      "          ********************************************************************************\n",
      "          ############################\n",
      "          # Package would be ignored #\n",
      "          ############################\n",
      "          Python recognizes 'pycuda.cuda' as an importable package[^1],\n",
      "          but it is absent from setuptools' `packages` configuration.\n",
      "  \n",
      "          This leads to an ambiguous overall configuration. If you want to distribute this\n",
      "          package, please make sure that 'pycuda.cuda' is explicitly added\n",
      "          to the `packages` configuration field.\n",
      "  \n",
      "          Alternatively, you can also rely on setuptools' discovery methods\n",
      "          (for example by using `find_namespace_packages(...)`/`find_namespace:`\n",
      "          instead of `find_packages(...)`/`find:`).\n",
      "  \n",
      "          You can read more about \"package discovery\" on setuptools documentation page:\n",
      "  \n",
      "          - https://setuptools.pypa.io/en/latest/userguide/package_discovery.html\n",
      "  \n",
      "          If you don't want 'pycuda.cuda' to be distributed and are\n",
      "          already explicitly excluding 'pycuda.cuda' via\n",
      "          `find_namespace_packages(...)/find_namespace` or `find_packages(...)/find`,\n",
      "          you can try to use `exclude_package_data`, or `include-package-data=False` in\n",
      "          combination with a more fine grained `package-data` configuration.\n",
      "  \n",
      "          You can read more about \"package data files\" on setuptools documentation page:\n",
      "  \n",
      "          - https://setuptools.pypa.io/en/latest/userguide/datafiles.html\n",
      "  \n",
      "  \n",
      "          [^1]: For Python, any directory (with suitable naming) can be imported,\n",
      "                even if it does not contain any `.py` files.\n",
      "                On the other hand, currently there is no concept of package data\n",
      "                directory, all directories are treated like packages.\n",
      "          ********************************************************************************\n",
      "  \n",
      "  !!\n",
      "    check.warn(importable)\n",
      "  creating build\\lib.win-amd64-cpython-39\\pycuda\\cuda\n",
      "  copying pycuda\\cuda\\pycuda-complex-impl.hpp -> build\\lib.win-amd64-cpython-39\\pycuda\\cuda\n",
      "  copying pycuda\\cuda\\pycuda-complex.hpp -> build\\lib.win-amd64-cpython-39\\pycuda\\cuda\n",
      "  copying pycuda\\cuda\\pycuda-helpers.hpp -> build\\lib.win-amd64-cpython-39\\pycuda\\cuda\n",
      "  copying pycuda\\sparse\\pkt_build_cython.pyx -> build\\lib.win-amd64-cpython-39\\pycuda\\sparse\n",
      "  running build_ext\n",
      "  building '_driver' extension\n",
      "  error: Microsoft Visual C++ 14.0 or greater is required. Get it with \"Microsoft C++ Build Tools\": https://visualstudio.microsoft.com/visual-cpp-build-tools/\n",
      "  [end of output]\n",
      "  \n",
      "  note: This error originates from a subprocess, and is likely not a problem with pip.\n",
      "  ERROR: Failed building wheel for pycuda\n",
      "ERROR: Could not build wheels for pycuda, which is required to install pyproject.toml-based projects\n"
     ]
    }
   ],
   "source": [
    "pip install pycuda"
   ]
  },
  {
   "cell_type": "code",
   "execution_count": null,
   "id": "b707b95d",
   "metadata": {},
   "outputs": [],
   "source": [
    "def uppercase(func):\n",
    "    def wrapper():\n",
    "        result = func()\n",
    "        return result.upper()\n",
    "    return wrapper\n",
    "\n",
    "@uppercase\n",
    "def greet():\n",
    "    return \"hello\"\n",
    "\n",
    "print(greet()) "
   ]
  },
  {
   "cell_type": "code",
   "execution_count": null,
   "id": "cd09ed52",
   "metadata": {},
   "outputs": [],
   "source": []
  }
 ],
 "metadata": {
  "kernelspec": {
   "display_name": "Python 3 (ipykernel)",
   "language": "python",
   "name": "python3"
  },
  "language_info": {
   "codemirror_mode": {
    "name": "ipython",
    "version": 3
   },
   "file_extension": ".py",
   "mimetype": "text/x-python",
   "name": "python",
   "nbconvert_exporter": "python",
   "pygments_lexer": "ipython3",
   "version": "3.9.13"
  }
 },
 "nbformat": 4,
 "nbformat_minor": 5
}
