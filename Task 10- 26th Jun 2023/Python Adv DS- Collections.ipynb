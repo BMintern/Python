{
 "cells": [
  {
   "cell_type": "markdown",
   "id": "c28ca670",
   "metadata": {},
   "source": [
    "# Collections\n",
    "Collections in python are basically container data types, namely lists, sets, tuples, dictionary. They have different characteristics based on the declaration and usage.\n",
    "\n",
    "A list is declared in square brackets, it is mutable, stores duplicate values and elements can be accessed using indexes.\n",
    "\n",
    "A tuple is ordered and immutable in nature, although duplicate entries can be there inside a tuple.\n",
    "\n",
    "A set is unordered and declared in square brackets. It is not indexed and does not have duplicate entries as well.\n",
    "\n",
    "A dictionary has key-value pairs and is mutable in nature. We use square brackets to declare a dictionary."
   ]
  },
  {
   "cell_type": "markdown",
   "id": "07f94d64",
   "metadata": {},
   "source": [
    "## Counters\n",
    "A counter is a sub-class of the dictionary. It is used to keep the count of the elements in an iterable in the form of an unordered dictionary where the key represents the element in the iterable and value represents the count of that element in the iterable."
   ]
  },
  {
   "cell_type": "code",
   "execution_count": 14,
   "id": "02150d3f",
   "metadata": {},
   "outputs": [
    {
     "name": "stdout",
     "output_type": "stream",
     "text": [
      "Counter({'B': 5, 'A': 3, 'C': 2})\n",
      "Counter({'B': 5, 'A': 3, 'C': 2})\n",
      "Counter({'B': 5, 'A': 3, 'C': 2})\n"
     ]
    }
   ],
   "source": [
    "# A Python program to show different\n",
    "# ways to create Counter\n",
    "from collections import Counter\n",
    "\t\n",
    "# With sequence of items\n",
    "print(Counter(['B','B','A','B','C','A','B',\n",
    "\t\t\t'B','A','C']))\n",
    "\t\n",
    "# with dictionary\n",
    "print(Counter({'A':3, 'B':5, 'C':2}))\n",
    "\t\n",
    "# with keyword arguments\n",
    "print(Counter(A=3, B=5, C=2))\n"
   ]
  },
  {
   "cell_type": "markdown",
   "id": "a54419e3",
   "metadata": {},
   "source": [
    "## namedtuple( )\n",
    "It returns a tuple with a named entry, which means there will be a name assigned to each value in the tuple. It overcomes the problem of accessing the elements using the index values. With namedtuple( ) it becomes easier to access these values since you do not have to remember the index values to get specific elements.\n",
    "\n",
    "Syntax:\n",
    "\n",
    "class collections.Counter([iterable-or-mapping])"
   ]
  },
  {
   "cell_type": "code",
   "execution_count": 1,
   "id": "18c1d6e7",
   "metadata": {},
   "outputs": [],
   "source": [
    "from collections import namedtuple"
   ]
  },
  {
   "cell_type": "code",
   "execution_count": 2,
   "id": "e232341f",
   "metadata": {},
   "outputs": [
    {
     "name": "stdout",
     "output_type": "stream",
     "text": [
      "courses(name='data science', tech='python')\n"
     ]
    }
   ],
   "source": [
    "a = namedtuple('courses' , 'name , tech')\n",
    "s = a('data science' , 'python')\n",
    "print(s)\n",
    " \n",
    "#the output will be courses(name='python' , tech='python')"
   ]
  },
  {
   "cell_type": "code",
   "execution_count": 3,
   "id": "0a840f9a",
   "metadata": {},
   "outputs": [
    {
     "data": {
      "text/plain": [
       "courses(name='data science', tech='python')"
      ]
     },
     "execution_count": 3,
     "metadata": {},
     "output_type": "execute_result"
    }
   ],
   "source": [
    "s._make(['data science' , 'python'])\n",
    "#the output will be same as before."
   ]
  },
  {
   "cell_type": "markdown",
   "id": "9c3b3958",
   "metadata": {},
   "source": [
    "## deque\n",
    "deque pronounced as ‘deck’ is an optimized list to perform insertion and deletion easily."
   ]
  },
  {
   "cell_type": "code",
   "execution_count": 4,
   "id": "974787c4",
   "metadata": {},
   "outputs": [
    {
     "name": "stdout",
     "output_type": "stream",
     "text": [
      "deque(['d', 'u', 'r', 'e', 'k'])\n"
     ]
    }
   ],
   "source": [
    "#creating a deque\n",
    "from collections import deque\n",
    " \n",
    "a = ['d' , 'u' , 'r' , 'e' , 'k']\n",
    "a1 = deque(a)\n",
    "print(a1)\n",
    "#the output will be deque([ 'd' , 'u' , 'r' , 'e' , 'k' ])"
   ]
  },
  {
   "cell_type": "code",
   "execution_count": 5,
   "id": "09ce24db",
   "metadata": {},
   "outputs": [
    {
     "name": "stdout",
     "output_type": "stream",
     "text": [
      "deque(['d', 'u', 'r', 'e', 'k', 'a'])\n",
      "deque(['e', 'd', 'u', 'r', 'e', 'k', 'a'])\n"
     ]
    }
   ],
   "source": [
    "a1.append('a')\n",
    "print(a1)\n",
    "# the output will be deque([ 'd' , 'u' , 'r' , 'e' , 'k' , 'a' ])\n",
    "a1.appendleft('e')\n",
    "print(a1)\n",
    "# the output will be deque(['e' , 'd' , 'u' , 'r' , 'e' , 'k' , 'a' ])"
   ]
  },
  {
   "cell_type": "code",
   "execution_count": 6,
   "id": "c502569f",
   "metadata": {},
   "outputs": [
    {
     "name": "stdout",
     "output_type": "stream",
     "text": [
      "deque(['e', 'd', 'u', 'r', 'e', 'k'])\n",
      "deque(['d', 'u', 'r', 'e', 'k'])\n"
     ]
    }
   ],
   "source": [
    "a1.pop()\n",
    "print(a1)\n",
    "#the output will be deque([ 'e' , 'd' , 'u' , 'r' , 'e' , 'k' ])\n",
    "a1.popleft()\n",
    "print(a1)\n",
    "#the output will be deque([ 'd' , 'u' , 'r' , 'e' , 'k' ])"
   ]
  },
  {
   "cell_type": "markdown",
   "id": "1c18c26d",
   "metadata": {},
   "source": [
    "## OrderedDict\n",
    "An OrderedDict is also a sub-class of dictionary but unlike dictionary, it remembers the order in which the keys were inserted. "
   ]
  },
  {
   "cell_type": "code",
   "execution_count": 7,
   "id": "065d11ef",
   "metadata": {},
   "outputs": [
    {
     "name": "stdout",
     "output_type": "stream",
     "text": [
      "This is a Dict:\n",
      "\n",
      "a 1\n",
      "b 2\n",
      "c 3\n",
      "d 4\n",
      "\n",
      "This is an Ordered Dict:\n",
      "\n",
      "a 1\n",
      "b 2\n",
      "c 3\n",
      "d 4\n"
     ]
    }
   ],
   "source": [
    "# A Python program to demonstrate working\n",
    "# of OrderedDict\n",
    "\n",
    "from collections import OrderedDict\n",
    "\t\n",
    "print(\"This is a Dict:\\n\")\n",
    "d = {}\n",
    "d['a'] = 1\n",
    "d['b'] = 2\n",
    "d['c'] = 3\n",
    "d['d'] = 4\n",
    "\t\n",
    "for key, value in d.items():\n",
    "\tprint(key, value)\n",
    "\t\n",
    "print(\"\\nThis is an Ordered Dict:\\n\")\n",
    "od = OrderedDict()\n",
    "od['a'] = 1\n",
    "od['b'] = 2\n",
    "od['c'] = 3\n",
    "od['d'] = 4\n",
    "\t\n",
    "for key, value in od.items():\n",
    "\tprint(key, value)\n"
   ]
  },
  {
   "cell_type": "markdown",
   "id": "156edb2f",
   "metadata": {},
   "source": [
    "## DefaultDict\n",
    "A DefaultDict is also a sub-class to dictionary. It is used to provide some default values for the key that does not exist and never raises a KeyError.\n",
    "\n",
    "Syntax:\n",
    "\n",
    "class collections.defaultdict(default_factory)\n",
    "default_factory is a function that provides the default value for the dictionary created. If this parameter is absent then the KeyError is raised.\n",
    "\n",
    "Initializing DefaultDict Objects\n",
    "DefaultDict objects can be initialized using DefaultDict() method by passing the data type as an argument."
   ]
  },
  {
   "cell_type": "code",
   "execution_count": 8,
   "id": "35903fed",
   "metadata": {},
   "outputs": [
    {
     "name": "stdout",
     "output_type": "stream",
     "text": [
      "defaultdict(<class 'int'>, {1: 2, 2: 3, 3: 1, 4: 2})\n"
     ]
    }
   ],
   "source": [
    "# Python program to demonstrate\n",
    "# defaultdict\n",
    "\t\n",
    "\t\n",
    "from collections import defaultdict\n",
    "\t\n",
    "\t\n",
    "# Defining the dict\n",
    "d = defaultdict(int)\n",
    "\t\n",
    "L = [1, 2, 3, 4, 2, 4, 1, 2]\n",
    "\t\n",
    "# Iterate through the list\n",
    "# for keeping the count\n",
    "for i in L:\n",
    "\t\t\n",
    "\t# The default value is 0\n",
    "\t# so there is no need to\n",
    "\t# enter the key first\n",
    "\td[i] += 1\n",
    "\t\t\n",
    "print(d)\n"
   ]
  },
  {
   "cell_type": "markdown",
   "id": "2701d059",
   "metadata": {},
   "source": [
    "## ChainMap\n",
    "A ChainMap encapsulates many dictionaries into a single unit and returns a list of dictionaries."
   ]
  },
  {
   "cell_type": "code",
   "execution_count": 9,
   "id": "82a9aba9",
   "metadata": {},
   "outputs": [
    {
     "name": "stdout",
     "output_type": "stream",
     "text": [
      "ChainMap({'a': 1, 'b': 2}, {'c': 3, 'd': 4}, {'e': 5, 'f': 6})\n"
     ]
    }
   ],
   "source": [
    "# Python program to demonstrate\n",
    "# ChainMap\n",
    "\t\n",
    "\t\n",
    "from collections import ChainMap\n",
    "\t\n",
    "\t\n",
    "d1 = {'a': 1, 'b': 2}\n",
    "d2 = {'c': 3, 'd': 4}\n",
    "d3 = {'e': 5, 'f': 6}\n",
    "\n",
    "# Defining the chainmap\n",
    "c = ChainMap(d1, d2, d3)\n",
    "\t\n",
    "print(c)\n"
   ]
  },
  {
   "cell_type": "markdown",
   "id": "648aae82",
   "metadata": {},
   "source": [
    "## Accessing Keys and Values from ChainMap\n",
    "Values from ChainMap can be accessed using the key name. They can also be accessed by using the keys() and values() method."
   ]
  },
  {
   "cell_type": "code",
   "execution_count": 10,
   "id": "aa2e2c54",
   "metadata": {},
   "outputs": [
    {
     "name": "stdout",
     "output_type": "stream",
     "text": [
      "1\n",
      "ValuesView(ChainMap({'a': 1, 'b': 2}, {'c': 3, 'd': 4}, {'e': 5, 'f': 6}))\n",
      "KeysView(ChainMap({'a': 1, 'b': 2}, {'c': 3, 'd': 4}, {'e': 5, 'f': 6}))\n"
     ]
    }
   ],
   "source": [
    "# Python program to demonstrate\n",
    "# ChainMap\n",
    "\t\n",
    "\t\n",
    "from collections import ChainMap\n",
    "\t\n",
    "\t\n",
    "d1 = {'a': 1, 'b': 2}\n",
    "d2 = {'c': 3, 'd': 4}\n",
    "d3 = {'e': 5, 'f': 6}\n",
    "\n",
    "# Defining the chainmap\n",
    "c = ChainMap(d1, d2, d3)\n",
    "\t\n",
    "# Accessing Values using key name\n",
    "print(c['a'])\n",
    "\n",
    "# Accessing values using values()\n",
    "# method\n",
    "print(c.values())\n",
    "\n",
    "# Accessing keys using keys()\n",
    "# method\n",
    "print(c.keys())\n"
   ]
  },
  {
   "cell_type": "markdown",
   "id": "5cb159cc",
   "metadata": {},
   "source": [
    "## UserDict\n",
    "UserDict is a dictionary-like container that acts as a wrapper around the dictionary objects. This container is used when someone wants to create their own dictionary with some modified or new functionality. \n",
    "\n",
    "Syntax:\n",
    "\n",
    "class collections.UserDict([initialdata])"
   ]
  },
  {
   "cell_type": "code",
   "execution_count": 11,
   "id": "ceace7bc",
   "metadata": {},
   "outputs": [
    {
     "ename": "RuntimeError",
     "evalue": "Deletion not allowed",
     "output_type": "error",
     "traceback": [
      "\u001b[1;31m---------------------------------------------------------------------------\u001b[0m",
      "\u001b[1;31mRuntimeError\u001b[0m                              Traceback (most recent call last)",
      "\u001b[1;32m~\\AppData\\Local\\Temp\\ipykernel_17700\\2719706646.py\u001b[0m in \u001b[0;36m<module>\u001b[1;34m\u001b[0m\n\u001b[0;32m     30\u001b[0m \t'c': 3})\n\u001b[0;32m     31\u001b[0m \u001b[1;33m\u001b[0m\u001b[0m\n\u001b[1;32m---> 32\u001b[1;33m \u001b[0md\u001b[0m\u001b[1;33m.\u001b[0m\u001b[0mpop\u001b[0m\u001b[1;33m(\u001b[0m\u001b[1;36m1\u001b[0m\u001b[1;33m)\u001b[0m\u001b[1;33m\u001b[0m\u001b[1;33m\u001b[0m\u001b[0m\n\u001b[0m",
      "\u001b[1;32m~\\AppData\\Local\\Temp\\ipykernel_17700\\2719706646.py\u001b[0m in \u001b[0;36mpop\u001b[1;34m(self, s)\u001b[0m\n\u001b[0;32m     18\u001b[0m         \u001b[1;31m# dictionary\u001b[0m\u001b[1;33m\u001b[0m\u001b[1;33m\u001b[0m\u001b[0m\n\u001b[0;32m     19\u001b[0m         \u001b[1;32mdef\u001b[0m \u001b[0mpop\u001b[0m\u001b[1;33m(\u001b[0m\u001b[0mself\u001b[0m\u001b[1;33m,\u001b[0m \u001b[0ms\u001b[0m \u001b[1;33m=\u001b[0m \u001b[1;32mNone\u001b[0m\u001b[1;33m)\u001b[0m\u001b[1;33m:\u001b[0m\u001b[1;33m\u001b[0m\u001b[1;33m\u001b[0m\u001b[0m\n\u001b[1;32m---> 20\u001b[1;33m                 \u001b[1;32mraise\u001b[0m \u001b[0mRuntimeError\u001b[0m\u001b[1;33m(\u001b[0m\u001b[1;34m\"Deletion not allowed\"\u001b[0m\u001b[1;33m)\u001b[0m\u001b[1;33m\u001b[0m\u001b[1;33m\u001b[0m\u001b[0m\n\u001b[0m\u001b[0;32m     21\u001b[0m \u001b[1;33m\u001b[0m\u001b[0m\n\u001b[0;32m     22\u001b[0m         \u001b[1;31m# Function to stop popitem\u001b[0m\u001b[1;33m\u001b[0m\u001b[1;33m\u001b[0m\u001b[0m\n",
      "\u001b[1;31mRuntimeError\u001b[0m: Deletion not allowed"
     ]
    }
   ],
   "source": [
    "# Python program to demonstrate\n",
    "# userdict\n",
    "\t\n",
    "\t\n",
    "from collections import UserDict\n",
    "\t\n",
    "\t\n",
    "# Creating a Dictionary where\n",
    "# deletion is not allowed\n",
    "class MyDict(UserDict):\n",
    "\t\t\n",
    "\t# Function to stop deletion\n",
    "\t# from dictionary\n",
    "\tdef __del__(self):\n",
    "\t\traise RuntimeError(\"Deletion not allowed\")\n",
    "\t\t\t\n",
    "\t# Function to stop pop from\n",
    "\t# dictionary\n",
    "\tdef pop(self, s = None):\n",
    "\t\traise RuntimeError(\"Deletion not allowed\")\n",
    "\t\t\t\n",
    "\t# Function to stop popitem\n",
    "\t# from Dictionary\n",
    "\tdef popitem(self, s = None):\n",
    "\t\traise RuntimeError(\"Deletion not allowed\")\n",
    "\t\t\n",
    "# Driver's code\n",
    "d = MyDict({'a':1,\n",
    "\t'b': 2,\n",
    "\t'c': 3})\n",
    "\t\n",
    "d.pop(1)\n"
   ]
  },
  {
   "cell_type": "markdown",
   "id": "c36ad46a",
   "metadata": {},
   "source": [
    "## UserList\n",
    "UserList is a list like container that acts as a wrapper around the list objects. This is useful when someone wants to create their own list with some modified or additional functionality.\n",
    "\n",
    "Syntax:\n",
    "\n",
    "class collections.UserList([list])"
   ]
  },
  {
   "cell_type": "code",
   "execution_count": 12,
   "id": "8ccdc8ee",
   "metadata": {},
   "outputs": [
    {
     "name": "stdout",
     "output_type": "stream",
     "text": [
      "Original List\n",
      "After Insertion\n",
      "[1, 2, 3, 4, 5]\n"
     ]
    },
    {
     "ename": "RuntimeError",
     "evalue": "Deletion not allowed",
     "output_type": "error",
     "traceback": [
      "\u001b[1;31m---------------------------------------------------------------------------\u001b[0m",
      "\u001b[1;31mRuntimeError\u001b[0m                              Traceback (most recent call last)",
      "\u001b[1;32m~\\AppData\\Local\\Temp\\ipykernel_17700\\1339180024.py\u001b[0m in \u001b[0;36m<module>\u001b[1;34m\u001b[0m\n\u001b[0;32m     31\u001b[0m \u001b[1;33m\u001b[0m\u001b[0m\n\u001b[0;32m     32\u001b[0m \u001b[1;31m# Deleting From List\u001b[0m\u001b[1;33m\u001b[0m\u001b[1;33m\u001b[0m\u001b[0m\n\u001b[1;32m---> 33\u001b[1;33m \u001b[0mL\u001b[0m\u001b[1;33m.\u001b[0m\u001b[0mremove\u001b[0m\u001b[1;33m(\u001b[0m\u001b[1;33m)\u001b[0m\u001b[1;33m\u001b[0m\u001b[1;33m\u001b[0m\u001b[0m\n\u001b[0m",
      "\u001b[1;32m~\\AppData\\Local\\Temp\\ipykernel_17700\\1339180024.py\u001b[0m in \u001b[0;36mremove\u001b[1;34m(self, s)\u001b[0m\n\u001b[0;32m     13\u001b[0m         \u001b[1;31m# from List\u001b[0m\u001b[1;33m\u001b[0m\u001b[1;33m\u001b[0m\u001b[0m\n\u001b[0;32m     14\u001b[0m         \u001b[1;32mdef\u001b[0m \u001b[0mremove\u001b[0m\u001b[1;33m(\u001b[0m\u001b[0mself\u001b[0m\u001b[1;33m,\u001b[0m \u001b[0ms\u001b[0m \u001b[1;33m=\u001b[0m \u001b[1;32mNone\u001b[0m\u001b[1;33m)\u001b[0m\u001b[1;33m:\u001b[0m\u001b[1;33m\u001b[0m\u001b[1;33m\u001b[0m\u001b[0m\n\u001b[1;32m---> 15\u001b[1;33m                 \u001b[1;32mraise\u001b[0m \u001b[0mRuntimeError\u001b[0m\u001b[1;33m(\u001b[0m\u001b[1;34m\"Deletion not allowed\"\u001b[0m\u001b[1;33m)\u001b[0m\u001b[1;33m\u001b[0m\u001b[1;33m\u001b[0m\u001b[0m\n\u001b[0m\u001b[0;32m     16\u001b[0m \u001b[1;33m\u001b[0m\u001b[0m\n\u001b[0;32m     17\u001b[0m         \u001b[1;31m# Function to stop pop from\u001b[0m\u001b[1;33m\u001b[0m\u001b[1;33m\u001b[0m\u001b[0m\n",
      "\u001b[1;31mRuntimeError\u001b[0m: Deletion not allowed"
     ]
    }
   ],
   "source": [
    "# Python program to demonstrate\n",
    "# userlist\n",
    "\t\n",
    "\t\n",
    "from collections import UserList\n",
    "\t\n",
    "\t\n",
    "# Creating a List where\n",
    "# deletion is not allowed\n",
    "class MyList(UserList):\n",
    "\t\t\n",
    "\t# Function to stop deletion\n",
    "\t# from List\n",
    "\tdef remove(self, s = None):\n",
    "\t\traise RuntimeError(\"Deletion not allowed\")\n",
    "\t\t\t\n",
    "\t# Function to stop pop from\n",
    "\t# List\n",
    "\tdef pop(self, s = None):\n",
    "\t\traise RuntimeError(\"Deletion not allowed\")\n",
    "\t\t\n",
    "# Driver's code\n",
    "L = MyList([1, 2, 3, 4])\n",
    "\t\n",
    "print(\"Original List\")\n",
    "\t\n",
    "# Inserting to List\"\n",
    "L.append(5)\n",
    "print(\"After Insertion\")\n",
    "print(L)\n",
    "\t\n",
    "# Deleting From List\n",
    "L.remove()\n"
   ]
  },
  {
   "cell_type": "code",
   "execution_count": null,
   "id": "8fe1d603",
   "metadata": {},
   "outputs": [],
   "source": [
    "UserString\n",
    "UserString is a string like container and just like UserDict and UserList it acts as a wrapper around string objects. It is used when someone wants to create their own strings with some modified or additional functionality. \n",
    "\n",
    "Syntax:\n",
    "\n",
    "class collections.UserString(seq)"
   ]
  },
  {
   "cell_type": "code",
   "execution_count": 13,
   "id": "b9022e6c",
   "metadata": {},
   "outputs": [
    {
     "name": "stdout",
     "output_type": "stream",
     "text": [
      "Original String: Geeks\n",
      "String After Appending: Geekss\n",
      "String after Removing: Gkss\n"
     ]
    }
   ],
   "source": [
    "# Python program to demonstrate\n",
    "# userstring\n",
    "\t\n",
    "\t\n",
    "from collections import UserString\n",
    "\t\n",
    "\t\n",
    "# Creating a Mutable String\n",
    "class Mystring(UserString):\n",
    "\t\t\n",
    "\t# Function to append to\n",
    "\t# string\n",
    "\tdef append(self, s):\n",
    "\t\tself.data += s\n",
    "\t\t\t\n",
    "\t# Function to remove from\n",
    "\t# string\n",
    "\tdef remove(self, s):\n",
    "\t\tself.data = self.data.replace(s, \"\")\n",
    "\t\t\n",
    "# Driver's code\n",
    "s1 = Mystring(\"Geeks\")\n",
    "print(\"Original String:\", s1.data)\n",
    "\t\n",
    "# Appending to string\n",
    "s1.append(\"s\")\n",
    "print(\"String After Appending:\", s1.data)\n",
    "\t\n",
    "# Removing from string\n",
    "s1.remove(\"e\")\n",
    "print(\"String after Removing:\", s1.data)\n"
   ]
  },
  {
   "cell_type": "code",
   "execution_count": null,
   "id": "df5f1b76",
   "metadata": {},
   "outputs": [],
   "source": []
  }
 ],
 "metadata": {
  "kernelspec": {
   "display_name": "Python 3 (ipykernel)",
   "language": "python",
   "name": "python3"
  },
  "language_info": {
   "codemirror_mode": {
    "name": "ipython",
    "version": 3
   },
   "file_extension": ".py",
   "mimetype": "text/x-python",
   "name": "python",
   "nbconvert_exporter": "python",
   "pygments_lexer": "ipython3",
   "version": "3.10.9"
  }
 },
 "nbformat": 4,
 "nbformat_minor": 5
}
