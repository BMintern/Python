{
 "cells": [
  {
   "cell_type": "markdown",
   "id": "460afff4",
   "metadata": {},
   "source": [
    "# Debugging\n",
    "Debugging is the process of identifying and fixing errors or bugs in your code."
   ]
  },
  {
   "cell_type": "markdown",
   "id": "26068767",
   "metadata": {},
   "source": [
    "## pdb library\n",
    "The built-in pdb library in Python is a command-line debugging tool that provides a set of commands for stepping through your code, inspecting variables, and controlling the execution of your program.\n",
    "\n",
    "One of the most useful commands provided by pdb is the set_trace() function. This function can be used to set a breakpoint in your code, which will pause the execution of the program and allow you to inspect the state of the program at that point."
   ]
  },
  {
   "cell_type": "code",
   "execution_count": 1,
   "id": "f8d83048",
   "metadata": {},
   "outputs": [
    {
     "name": "stdout",
     "output_type": "stream",
     "text": [
      "> \u001b[1;32mc:\\users\\pranay\\appdata\\local\\temp\\ipykernel_11948\\364999022.py\u001b[0m(8)\u001b[0;36mmy_function\u001b[1;34m()\u001b[0m\n",
      "\n",
      "ipdb> wd\n",
      "*** NameError: name 'wd' is not defined\n",
      "ipdb> a\n",
      "ipdb> b\n",
      "ipdb> c\n",
      "3\n"
     ]
    }
   ],
   "source": [
    "import pdb\n",
    "\n",
    "def my_function():\n",
    "    a = 1\n",
    "    b = 2\n",
    "    c = a + b\n",
    "    pdb.set_trace()\n",
    "    print(c)\n",
    "\n",
    "my_function()"
   ]
  },
  {
   "cell_type": "markdown",
   "id": "d8bf4bb1",
   "metadata": {},
   "source": [
    "# Testing\n",
    "Testing is the process of evaluating a system or its component(s) with the intent to find whether it satisfies the specified requirements or not. In Python, there are several popular testing frameworks such as unittest, pytest, doctest, etc."
   ]
  },
  {
   "cell_type": "markdown",
   "id": "6977bd86",
   "metadata": {},
   "source": [
    "## unittest\n",
    "The unittestis a testing framework included in the Python standard library. It provides a solid set of tools for writing and running automated tests, including the ability to create test cases and test suites, as well as the ability to assert that certain conditions are met.\n",
    "\n",
    "To use unittest, you’ll need to create a test class that inherits from unittest.TestCase, and then define test methods within that class. Test methods should start with the word test, and you can use the various assert methods provided by the TestCase class to check the results of your code."
   ]
  },
  {
   "cell_type": "code",
   "execution_count": 2,
   "id": "eeb2f71a",
   "metadata": {},
   "outputs": [],
   "source": [
    "def add(a, b):\n",
    "    return a + b"
   ]
  },
  {
   "cell_type": "code",
   "execution_count": 3,
   "id": "3cbf4ac6",
   "metadata": {},
   "outputs": [],
   "source": [
    "import unittest\n",
    "\n",
    "class TestAdd(unittest.TestCase):\n",
    "    def test_add_integers(self):\n",
    "        result = add(1, 2)\n",
    "        self.assertEqual(result, 3)\n",
    "\n",
    "    def test_add_floats(self):\n",
    "        result = add(0.1, 0.2)\n",
    "        self.assertAlmostEqual(result, 0.3)\n",
    "\n",
    "    def test_add_strings(self):\n",
    "        result = add('hello', 'world')\n",
    "        self.assertEqual(result, 'helloworld')"
   ]
  },
  {
   "cell_type": "markdown",
   "id": "14636cf0",
   "metadata": {},
   "source": [
    "In the above example, there are three test methods: test_add_integers, test_add_floats, and test_add_strings. Each method calls the add function with different inputs and then uses an assert method provided by unittest.TestCase to check the result.\n",
    "\n",
    "You can run the test case by calling unittest.main() in your script, or by running the script with the -m unittest command line option:"
   ]
  },
  {
   "cell_type": "code",
   "execution_count": 4,
   "id": "da88331c",
   "metadata": {},
   "outputs": [
    {
     "name": "stderr",
     "output_type": "stream",
     "text": [
      "E\n",
      "======================================================================\n",
      "ERROR: C:\\Users\\Pranay\\AppData\\Roaming\\jupyter\\runtime\\kernel-a0e689f3-d79b-4d7e-8ae4-4fd78431ba6f (unittest.loader._FailedTest)\n",
      "----------------------------------------------------------------------\n",
      "AttributeError: module '__main__' has no attribute 'C:\\Users\\Pranay\\AppData\\Roaming\\jupyter\\runtime\\kernel-a0e689f3-d79b-4d7e-8ae4-4fd78431ba6f'\n",
      "\n",
      "----------------------------------------------------------------------\n",
      "Ran 1 test in 0.003s\n",
      "\n",
      "FAILED (errors=1)\n"
     ]
    },
    {
     "ename": "SystemExit",
     "evalue": "True",
     "output_type": "error",
     "traceback": [
      "An exception has occurred, use %tb to see the full traceback.\n",
      "\u001b[1;31mSystemExit\u001b[0m\u001b[1;31m:\u001b[0m True\n"
     ]
    },
    {
     "name": "stderr",
     "output_type": "stream",
     "text": [
      "C:\\Users\\Pranay\\anaconda3\\lib\\site-packages\\IPython\\core\\interactiveshell.py:3465: UserWarning: To exit: use 'exit', 'quit', or Ctrl-D.\n",
      "  warn(\"To exit: use 'exit', 'quit', or Ctrl-D.\", stacklevel=1)\n"
     ]
    }
   ],
   "source": [
    "if __name__ == '__main__':\n",
    "    unittest.main()"
   ]
  },
  {
   "cell_type": "code",
   "execution_count": 5,
   "id": "58f0b27d",
   "metadata": {},
   "outputs": [
    {
     "name": "stderr",
     "output_type": "stream",
     "text": [
      "...\n",
      "----------------------------------------------------------------------\n",
      "Ran 3 tests in 0.010s\n",
      "\n",
      "OK\n"
     ]
    }
   ],
   "source": [
    "import unittest\n",
    "\n",
    "def suite():\n",
    "    suite = unittest.TestSuite()\n",
    "    suite.addTest(TestAdd(\"test_add_integers\"))\n",
    "    suite.addTest(TestAdd(\"test_add_floats\"))\n",
    "    suite.addTest(TestAdd(\"test_add_strings\"))\n",
    "    return suite\n",
    "\n",
    "if __name__ == '__main__':\n",
    "  runner = unittest.TextTestRunner()\n",
    "  runner.run(suite())"
   ]
  },
  {
   "cell_type": "markdown",
   "id": "93504308",
   "metadata": {},
   "source": [
    "In the above example, we’ve created a suite function that creates an instance of unittest.TestSuite and adds our test methods to it. The suite function is responsible for creating an instance of unittest.TestSuite and adding our test methods to it. "
   ]
  },
  {
   "cell_type": "markdown",
   "id": "c4dc02f2",
   "metadata": {},
   "source": [
    "## Pytest\n",
    "pytest is a powerful, feature-rich testing framework for Python. It is designed to make it easy to write and run repeatable tests for your code. One of the key features of pytest is its simple and easy-to-use syntax, which makes it easy to write and understand tests."
   ]
  },
  {
   "cell_type": "code",
   "execution_count": 7,
   "id": "7716cd39",
   "metadata": {},
   "outputs": [],
   "source": [
    "#pip install pytest"
   ]
  },
  {
   "cell_type": "code",
   "execution_count": 9,
   "id": "b642ea7f",
   "metadata": {},
   "outputs": [],
   "source": [
    "def test_add():\n",
    "    assert add(1, 2) == 3"
   ]
  },
  {
   "cell_type": "code",
   "execution_count": 10,
   "id": "4bc93c50",
   "metadata": {},
   "outputs": [
    {
     "ename": "NameError",
     "evalue": "name 'pytest' is not defined",
     "output_type": "error",
     "traceback": [
      "\u001b[1;31m---------------------------------------------------------------------------\u001b[0m",
      "\u001b[1;31mNameError\u001b[0m                                 Traceback (most recent call last)",
      "\u001b[1;32m~\\AppData\\Local\\Temp\\ipykernel_11948\\365994756.py\u001b[0m in \u001b[0;36m<module>\u001b[1;34m\u001b[0m\n\u001b[1;32m----> 1\u001b[1;33m \u001b[0mpytest\u001b[0m\u001b[1;33m\u001b[0m\u001b[1;33m\u001b[0m\u001b[0m\n\u001b[0m",
      "\u001b[1;31mNameError\u001b[0m: name 'pytest' is not defined"
     ]
    }
   ],
   "source": [
    "pytest"
   ]
  },
  {
   "cell_type": "markdown",
   "id": "e863f036",
   "metadata": {},
   "source": [
    "## doctest\n",
    "The doctest is a built-in testing framework in Python that allows you to include test cases directly in your documentation. It works by parsing the docstrings of your functions and classes, looking for code examples in the format of an interactive Python session, and then executing those examples to see if they produce the expected output."
   ]
  },
  {
   "cell_type": "code",
   "execution_count": 16,
   "id": "75ca4a3a",
   "metadata": {},
   "outputs": [],
   "source": [
    "def add(a, b):\n",
    "    \"\"\"\n",
    "    Add two numbers together.\n",
    "\n",
    "    Example:\n",
    "    >>> add(1, 2)\n",
    "    3\n",
    "    \"\"\"\n",
    "    return a + b"
   ]
  },
  {
   "cell_type": "code",
   "execution_count": 17,
   "id": "0b5aed5c",
   "metadata": {},
   "outputs": [
    {
     "ename": "SyntaxError",
     "evalue": "invalid syntax (2149982539.py, line 1)",
     "output_type": "error",
     "traceback": [
      "\u001b[1;36m  File \u001b[1;32m\"C:\\Users\\Pranay\\AppData\\Local\\Temp\\ipykernel_11948\\2149982539.py\"\u001b[1;36m, line \u001b[1;32m1\u001b[0m\n\u001b[1;33m    python -m doctest -v my_module.py\u001b[0m\n\u001b[1;37m              ^\u001b[0m\n\u001b[1;31mSyntaxError\u001b[0m\u001b[1;31m:\u001b[0m invalid syntax\n"
     ]
    }
   ],
   "source": [
    "#python -m doctest -v my_module.py"
   ]
  },
  {
   "cell_type": "code",
   "execution_count": null,
   "id": "24acab42",
   "metadata": {},
   "outputs": [],
   "source": []
  }
 ],
 "metadata": {
  "kernelspec": {
   "display_name": "Python 3 (ipykernel)",
   "language": "python",
   "name": "python3"
  },
  "language_info": {
   "codemirror_mode": {
    "name": "ipython",
    "version": 3
   },
   "file_extension": ".py",
   "mimetype": "text/x-python",
   "name": "python",
   "nbconvert_exporter": "python",
   "pygments_lexer": "ipython3",
   "version": "3.10.9"
  }
 },
 "nbformat": 4,
 "nbformat_minor": 5
}
