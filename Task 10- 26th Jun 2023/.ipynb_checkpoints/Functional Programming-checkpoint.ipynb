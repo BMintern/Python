{
 "cells": [
  {
   "cell_type": "markdown",
   "id": "ff329aa6",
   "metadata": {},
   "source": [
    "# Functional programming: \n",
    "It is a style of programming that centers the use of functions and immutable data types. These functions perform operations on data available to them as bound variables (also known as parameters), free variables (that exist outside the functions’ scope), and local variables (defined inside the function)."
   ]
  },
  {
   "cell_type": "markdown",
   "id": "906118d5",
   "metadata": {},
   "source": [
    "### First-class functions"
   ]
  },
  {
   "cell_type": "code",
   "execution_count": 2,
   "id": "ef07d854",
   "metadata": {},
   "outputs": [
    {
     "name": "stdout",
     "output_type": "stream",
     "text": [
      "42\n",
      "[0, 2, 4, 6, 8]\n",
      "15\n"
     ]
    }
   ],
   "source": [
    "from typing import Callable\n",
    "\n",
    "def double(n: int) -> int:\n",
    "    return 2 * n\n",
    "\n",
    "def is_even(n: int) -> bool:\n",
    "    return n % 2 == 0\n",
    "\n",
    "def make_adder(n: int) -> Callable[int, int]:\n",
    "\n",
    "    def adder(m: int) -> int:\n",
    "        return n + m\n",
    "\n",
    "    return adder\n",
    "\n",
    "if __name__ == \"__main__\":\n",
    "    # 1. Functions can be assigned to variables\n",
    "    times2 = double\n",
    "    print(times2(21))     # 42\n",
    "\n",
    "    # 2. Functions can be passed to other functions arguments\n",
    "    evens_under10 = list(filter(is_even, range(10)))\n",
    "    print(evens_under10) # [0, 2, 4, 6, 8]\n",
    "\n",
    "    # 3. Functions can be returned from functions\n",
    "    add10 = make_adder(10)\n",
    "    print(add10(5))       # 15"
   ]
  },
  {
   "cell_type": "markdown",
   "id": "7e46483f",
   "metadata": {},
   "source": [
    "### Higher-order functions\n",
    "A higher-order function is a function that takes at least one function as an argument, returns a function as its output, or does both. In the code snippet above, the filter and make_adder functions are examples of higher-order functions. In addition to filter, Python has other frequently-used built-in higher-order functions such as map and sorted."
   ]
  },
  {
   "cell_type": "code",
   "execution_count": 3,
   "id": "120eeeef",
   "metadata": {},
   "outputs": [
    {
     "name": "stdout",
     "output_type": "stream",
     "text": [
      "logging before...\n",
      "Hello John\n",
      "logging after...\n"
     ]
    }
   ],
   "source": [
    "def log_before(f):\n",
    "    def _wrapper(*args, **kwargs):\n",
    "        print(\"logging before...\")\n",
    "        f(*args, **kwargs)\n",
    "\n",
    "    return _wrapper\n",
    "\n",
    "\n",
    "def log_after(f):\n",
    "    def _wrapper(*args, **kwargs):\n",
    "        f(*args, **kwargs)\n",
    "        print(\"logging after...\")\n",
    "\n",
    "    return _wrapper\n",
    "\n",
    "\n",
    "@log_before\n",
    "@log_after\n",
    "def greet(name: str):\n",
    "    print(f\"Hello {name}\")\n",
    "\n",
    "\n",
    "# with the log_before and log_after decorators\n",
    "# the following is semantically equivalent to\n",
    "# `log_before(log_after(greet))(\"John\")`\n",
    "greet(\"John\")"
   ]
  },
  {
   "cell_type": "markdown",
   "id": "899fb964",
   "metadata": {},
   "source": [
    "### Anonymous functions\n",
    "An anonymous function is a function without a name. In Python, they are created using the lambda keyword. Python only allows anonymous function to include a single expression, which befits another name for an anonymous function — function expression.\n",
    "\n",
    "In Python, anonymous functions are often used in conjunction with high-order . The code snippet below shows anonymous functions being used with common built-in higher-order functions in Python."
   ]
  },
  {
   "cell_type": "code",
   "execution_count": 4,
   "id": "0a2bffc5",
   "metadata": {},
   "outputs": [
    {
     "name": "stdout",
     "output_type": "stream",
     "text": [
      "['Marie', 'Katherine', 'Ada']\n",
      "[Person(name='Ada Lovelace', age=36)]\n",
      "[Person(name='Ada Lovelace', age=36), Person(name='Katherine Johnson', age=101), Person(name='Marie Curie', age=66)]\n",
      "[Person(name='Ada Lovelace', age=36), Person(name='Marie Curie', age=66), Person(name='Katherine Johnson', age=101)]\n"
     ]
    }
   ],
   "source": [
    "from collections import namedtuple\n",
    "\n",
    "Person = namedtuple(\"Person\", [\"name\", \"age\"])\n",
    "\n",
    "if __name__ == \"__main__\":\n",
    "    people = [\n",
    "        Person(\"Marie Curie\", 66),\n",
    "        Person(\"Katherine Johnson\", 101),\n",
    "        Person(\"Ada Lovelace\", 36),\n",
    "    ]\n",
    "\n",
    "    first_names = list(map(lambda p: p.name.split(\" \")[0], people))\n",
    "    print(first_names)  # [\"Marie\", \"Katherine\", \"Ada\"]\n",
    "\n",
    "    # Filter the list to only people with name starting with 'A' and print it\n",
    "    people_with_names_starting_with_a = list(filter(lambda p: p.name.startswith(\"A\"), people))\n",
    "    print(people_with_names_starting_with_a)\n",
    "\n",
    "    # Sort the list by name and print it\n",
    "    print(sorted(people, key=lambda p: p.name))\n",
    "\n",
    "    # Sort the list by age and print it\n",
    "    print(sorted(people, key=lambda p: p.age))"
   ]
  },
  {
   "cell_type": "markdown",
   "id": "94db3a2f",
   "metadata": {},
   "source": [
    "### Pure vs impure functions\n",
    "As previously mentioned, functions that do not have any side-effects (e.g. I/O operations and global state modification) are called pure functions while those that produce side-effects are called impure functions."
   ]
  },
  {
   "cell_type": "code",
   "execution_count": 7,
   "id": "9bd28105",
   "metadata": {},
   "outputs": [],
   "source": [
    "def strip_pure(sentence: str) -> str:\n",
    "    return sentence.strip()\n",
    "\n",
    "\n",
    "strip_impure_call_count = 0\n",
    "\n",
    "\n",
    "def strip_impure(sentence: str) -> str:\n",
    "    global strip_impure_call_count\n",
    "\n",
    "    stripped_sentence = sentence.strip()\n",
    "\n",
    "    # Side effect 1: modify global state\n",
    "    strip_impure_call_count += 1\n",
    "    # Side effect 2: output to stdout\n",
    "    print(f\"Called strip_impure {strip_call_count} times\")\n",
    "\n",
    "    return stripped_sentence"
   ]
  },
  {
   "cell_type": "markdown",
   "id": "24d92291",
   "metadata": {},
   "source": [
    "## Predicate functions\n",
    "Predicate functions map their arguments to a true or false value. They have been use multiple times in this post so far. The named is_even function and the lambda p: p.name.startswith(\"A\") anonymous function shown in the Higher-order functions and Anonymous functions sections, respectively, are examples of predicate functions.\n",
    "\n",
    "## Immutable data types\n",
    "Python has many built-in immutable data types. Most of these are primitive-like data types such as strings, ints, floats, and bool. But there are also immutable collection, container, and sequence data types such as tuples and ranges."
   ]
  },
  {
   "cell_type": "code",
   "execution_count": null,
   "id": "01a55cd5",
   "metadata": {},
   "outputs": [],
   "source": []
  }
 ],
 "metadata": {
  "kernelspec": {
   "display_name": "Python 3 (ipykernel)",
   "language": "python",
   "name": "python3"
  },
  "language_info": {
   "codemirror_mode": {
    "name": "ipython",
    "version": 3
   },
   "file_extension": ".py",
   "mimetype": "text/x-python",
   "name": "python",
   "nbconvert_exporter": "python",
   "pygments_lexer": "ipython3",
   "version": "3.10.9"
  }
 },
 "nbformat": 4,
 "nbformat_minor": 5
}
