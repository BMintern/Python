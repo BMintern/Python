{
 "cells": [
  {
   "cell_type": "markdown",
   "id": "0b703978",
   "metadata": {},
   "source": [
    "# Asynchronous Programming\n",
    "There are 3 main building blocks of Python async programming:\n",
    "\n",
    "The main task is the event loop, which is responsible for managing the asynchronous tasks and distributing them for execution.\n",
    "\n",
    "Coroutines are functions that schedule the execution of the events.\n",
    "\n",
    "Futures are the result of the execution of the coroutine. This result may be an exception."
   ]
  },
  {
   "cell_type": "code",
   "execution_count": 1,
   "id": "241063c1",
   "metadata": {
    "ExecuteTime": {
     "end_time": "2023-06-26T08:55:05.338224Z",
     "start_time": "2023-06-26T08:55:05.325484Z"
    }
   },
   "outputs": [
    {
     "data": {
      "text/plain": [
       "<coroutine object main at 0x00000136B1C20F20>"
      ]
     },
     "execution_count": 1,
     "metadata": {},
     "output_type": "execute_result"
    }
   ],
   "source": [
    "import asyncio\n",
    "\n",
    "async def main():\n",
    "    print ('tim')\n",
    "    \n",
    "main()\n",
    "\n",
    "#asyncio.run(main())"
   ]
  },
  {
   "cell_type": "code",
   "execution_count": 2,
   "id": "d595e821",
   "metadata": {
    "ExecuteTime": {
     "end_time": "2023-06-26T09:32:24.866684Z",
     "start_time": "2023-06-26T09:32:24.854537Z"
    }
   },
   "outputs": [
    {
     "name": "stdout",
     "output_type": "stream",
     "text": [
      "1\n"
     ]
    }
   ],
   "source": [
    "async def main():\n",
    "    print(1)\n",
    "    \n",
    "await main()"
   ]
  },
  {
   "cell_type": "code",
   "execution_count": 18,
   "id": "c5059ceb",
   "metadata": {
    "ExecuteTime": {
     "end_time": "2023-06-26T09:33:55.570875Z",
     "start_time": "2023-06-26T09:33:50.524027Z"
    }
   },
   "outputs": [
    {
     "name": "stdout",
     "output_type": "stream",
     "text": [
      "one\n",
      "four\n",
      "two\n",
      "three\n",
      "five\n"
     ]
    }
   ],
   "source": [
    "import asyncio\n",
    "  \n",
    "async def fn():\n",
    "      \n",
    "    print(\"one\")\n",
    "    await asyncio.sleep(1)\n",
    "    #await fn2()                 \n",
    "    print('four')\n",
    "    await asyncio.sleep(1)\n",
    "    await fn2()\n",
    "    print('five')\n",
    "    await asyncio.sleep(1)\n",
    "\n",
    "async def fn2():\n",
    "    await asyncio.sleep(1)\n",
    "    print(\"two\")\n",
    "    await asyncio.sleep(1)\n",
    "    print(\"three\")\n",
    "    \n",
    "\n",
    "await fn()"
   ]
  },
  {
   "cell_type": "markdown",
   "id": "7c57cb0c",
   "metadata": {},
   "source": [
    "#### Jupyter (IPython ≥ 7.0)"
   ]
  },
  {
   "cell_type": "code",
   "execution_count": 19,
   "id": "f55efe30",
   "metadata": {
    "ExecuteTime": {
     "end_time": "2023-06-26T10:06:49.020753Z",
     "start_time": "2023-06-26T10:06:46.999787Z"
    }
   },
   "outputs": [
    {
     "name": "stdout",
     "output_type": "stream",
     "text": [
      "one\n",
      "four\n",
      "two\n",
      "five\n",
      "three\n"
     ]
    }
   ],
   "source": [
    "import asyncio\n",
    "async def fn():\n",
    "    task=asyncio.create_task(fn2())\n",
    "    print(\"one\")\n",
    "    #await asyncio.sleep(1)\n",
    "    #await fn2()\n",
    "    print('four')\n",
    "    await asyncio.sleep(1)\n",
    "    print('five')\n",
    "    await asyncio.sleep(1)\n",
    "\n",
    "async def fn2():\n",
    "    #await asyncio.sleep(1)\n",
    "    print(\"two\")\n",
    "    await asyncio.sleep(1)\n",
    "    print(\"three\")\n",
    "      \n",
    "await(fn())"
   ]
  },
  {
   "cell_type": "code",
   "execution_count": 5,
   "id": "7f719fee",
   "metadata": {
    "ExecuteTime": {
     "end_time": "2023-06-26T11:23:56.438973Z",
     "start_time": "2023-06-26T11:23:56.431965Z"
    }
   },
   "outputs": [
    {
     "name": "stdout",
     "output_type": "stream",
     "text": [
      "1\n"
     ]
    }
   ],
   "source": [
    "async def main():\n",
    "    print(1)\n",
    "    \n",
    "await main()"
   ]
  },
  {
   "cell_type": "markdown",
   "id": "04156d0e",
   "metadata": {},
   "source": [
    "#### Python ≥ 3.7 and IPython < 7.0"
   ]
  },
  {
   "cell_type": "code",
   "execution_count": 7,
   "id": "ebd67f94",
   "metadata": {
    "ExecuteTime": {
     "end_time": "2023-06-26T11:24:33.886662Z",
     "start_time": "2023-06-26T11:24:33.807088Z"
    }
   },
   "outputs": [
    {
     "name": "stdout",
     "output_type": "stream",
     "text": [
      "1\n"
     ]
    }
   ],
   "source": [
    "import asyncio\n",
    "\n",
    "async def main():\n",
    "    print(1)\n",
    "    \n",
    "await(main())"
   ]
  },
  {
   "cell_type": "code",
   "execution_count": null,
   "id": "e96b6357",
   "metadata": {},
   "outputs": [],
   "source": [
    "# As I have Python ≥ 3.7 and IPython > 7\n",
    "\n",
    "# So, I use await main() but not asyncio.run(main())"
   ]
  },
  {
   "cell_type": "code",
   "execution_count": 8,
   "id": "ddd0e806",
   "metadata": {
    "ExecuteTime": {
     "end_time": "2023-06-26T09:39:27.408787Z",
     "start_time": "2023-06-26T09:39:25.361500Z"
    }
   },
   "outputs": [
    {
     "name": "stdout",
     "output_type": "stream",
     "text": [
      "This is \n",
      "asynchronous programming\n",
      "and not multi-threading\n"
     ]
    }
   ],
   "source": [
    "import asyncio\n",
    "  \n",
    "async def fn():\n",
    "    print('This is ')\n",
    "    await asyncio.sleep(1)\n",
    "    print('asynchronous programming')\n",
    "    await asyncio.sleep(1)\n",
    "    print('and not multi-threading')\n",
    "  \n",
    "#asyncio.run(fn())\n",
    "await(fn())"
   ]
  },
  {
   "cell_type": "code",
   "execution_count": 9,
   "id": "16f9563f",
   "metadata": {
    "ExecuteTime": {
     "end_time": "2023-06-26T10:11:24.451247Z",
     "start_time": "2023-06-26T10:11:23.426798Z"
    }
   },
   "outputs": [
    {
     "name": "stdout",
     "output_type": "stream",
     "text": [
      "Hello world!\n",
      "Hello again!\n"
     ]
    }
   ],
   "source": [
    "import asyncio\n",
    "\n",
    "async def hello():\n",
    "    print('Hello world!')\n",
    "    await asyncio.sleep(1)\n",
    "    print('Hello again!')\n",
    "    \n",
    "await(hello())"
   ]
  },
  {
   "cell_type": "markdown",
   "id": "6e11f003",
   "metadata": {
    "ExecuteTime": {
     "end_time": "2023-06-26T10:16:09.622636Z",
     "start_time": "2023-06-26T10:16:09.618988Z"
    }
   },
   "source": [
    "# co-rountines:\n",
    "Any function defined as a async def is a coroutine like hello() above. Note that calling the hello() function is not the same as wrapping it inside asyncio.run() function.\n",
    "\n",
    "To run the coroutine, asyncio provides three main mechanisms:\n",
    "\n",
    "asyncio.run() function which is the main entry point to the async world that starts the event loop and runs the coroutine.\n",
    "\n",
    "await to await the result of the coroutine and passes the control to the event loop."
   ]
  },
  {
   "cell_type": "code",
   "execution_count": 4,
   "id": "a7b16607",
   "metadata": {},
   "outputs": [
    {
     "name": "stdout",
     "output_type": "stream",
     "text": [
      "Coroutine 1 started\n",
      "Coroutine 2 started\n",
      "Coroutine 1 finished\n",
      "Coroutine 2 finished\n"
     ]
    }
   ],
   "source": [
    "import asyncio\n",
    "\n",
    "async def coroutine1():\n",
    "    print(\"Coroutine 1 started\")\n",
    "    await asyncio.sleep(1)\n",
    "    print(\"Coroutine 1 finished\")\n",
    "\n",
    "async def coroutine2():\n",
    "    print(\"Coroutine 2 started\")\n",
    "    await asyncio.sleep(2)\n",
    "    print(\"Coroutine 2 finished\")\n",
    "\n",
    "async def main():\n",
    "    await asyncio.gather(coroutine1(), coroutine2())\n",
    "\n",
    "await(main())"
   ]
  },
  {
   "cell_type": "code",
   "execution_count": 29,
   "id": "362b6967",
   "metadata": {
    "ExecuteTime": {
     "end_time": "2023-06-26T10:25:11.944735Z",
     "start_time": "2023-06-26T10:25:08.913258Z"
    }
   },
   "outputs": [
    {
     "name": "stdout",
     "output_type": "stream",
     "text": [
      "Started: 06/26/23\n",
      "BeforeTask 1\n",
      "After Task 1\n",
      "BeforeTask 2\n",
      "After Task 2\n",
      "Finished: 06/26/23\n"
     ]
    }
   ],
   "source": [
    "import asyncio\n",
    "import time\n",
    "\n",
    "async def say_something(delay, words):\n",
    "    print(f\"Before{words}\")\n",
    "    await asyncio.sleep(delay)\n",
    "    print(f\"After {words}\")\n",
    "    \n",
    "async def main():\n",
    "    print(f\"Started: {time.strftime('%x')}\")\n",
    "    await say_something(1,\"Task 1\")\n",
    "    await say_something(2,\"Task 2\")\n",
    "    print(f\"Finished: {time.strftime('%x')}\")\n",
    "    \n",
    "await(main()) "
   ]
  },
  {
   "cell_type": "code",
   "execution_count": null,
   "id": "aed9990f",
   "metadata": {},
   "outputs": [],
   "source": []
  },
  {
   "cell_type": "markdown",
   "id": "c0c6ed35",
   "metadata": {},
   "source": [
    "### Running concurrent tasks with asyncio.gather()"
   ]
  },
  {
   "cell_type": "raw",
   "id": "b760f86c",
   "metadata": {},
   "source": [
    "Another way to run multiple coroutines concurrently is to use the asyncio.gather() function. This function takes coroutines as arguments and runs them concurrently"
   ]
  },
  {
   "cell_type": "code",
   "execution_count": 30,
   "id": "85e539da",
   "metadata": {
    "ExecuteTime": {
     "end_time": "2023-06-26T10:30:43.559873Z",
     "start_time": "2023-06-26T10:30:42.543616Z"
    }
   },
   "outputs": [
    {
     "name": "stdout",
     "output_type": "stream",
     "text": [
      "welcome\n",
      "welcome\n",
      "Goodbye\n",
      "Goodbye\n",
      "__main__) executed in 1.01 seconds.\n"
     ]
    }
   ],
   "source": [
    "import asyncio\n",
    "import time\n",
    "\n",
    "async def greetings():\n",
    "    print(\"welcome\")\n",
    "    await asyncio.sleep(1)\n",
    "    print(\"Goodbye\")\n",
    "    \n",
    "async def main():\n",
    "    start = time.time()\n",
    "    await asyncio.gather(greetings(),greetings())\n",
    "    elapsed = time.time() - start\n",
    "    print(f\"{__name__}) executed in {elapsed:0.2f} seconds.\")\n",
    "    \n",
    "await(main())\n",
    "        \n",
    "    "
   ]
  },
  {
   "cell_type": "code",
   "execution_count": null,
   "id": "2676cdce",
   "metadata": {},
   "outputs": [],
   "source": []
  },
  {
   "cell_type": "markdown",
   "id": "1d316000",
   "metadata": {},
   "source": [
    "### Awaitable objects:\n",
    "An object is called awaitable if it can be used with the await keyword. There are 3 main types of awaitable objects: coroutines, tasks, and futures."
   ]
  },
  {
   "cell_type": "code",
   "execution_count": 10,
   "id": "e99a6369",
   "metadata": {
    "ExecuteTime": {
     "end_time": "2023-06-26T11:19:42.047322Z",
     "start_time": "2023-06-26T11:19:40.020436Z"
    }
   },
   "outputs": [
    {
     "name": "stdout",
     "output_type": "stream",
     "text": [
      "Calculating multiplication...\n",
      "10 multiplied by 20 is 200\n",
      "Calculating sum...\n",
      "Sum of 10 and 20 is 30\n"
     ]
    }
   ],
   "source": [
    "import asyncio\n",
    "\n",
    "async def mult(first, second):\n",
    "    print(\"Calculating multiplication...\")\n",
    "    await asyncio.sleep(1)\n",
    "    mul = first * second\n",
    "    print(f\"{first} multiplied by {second} is {mul}\")\n",
    "    return mul\n",
    "\n",
    "async def add(first, second):\n",
    "    print(\"Calculating sum...\")\n",
    "    await asyncio.sleep(1)\n",
    "    sum = first + second\n",
    "    print(f\"Sum of {first} and {second} is {sum}\")\n",
    "    return sum\n",
    "\n",
    "async def main(first,second):\n",
    "    await mult(first,second)\n",
    "    await add(first,second)\n",
    "    \n",
    "await(main(10,20)) "
   ]
  },
  {
   "cell_type": "markdown",
   "id": "c677233f",
   "metadata": {},
   "source": [
    "#### In this code, the mult() and add() coroutine functions are awaited by the main() coroutine."
   ]
  },
  {
   "cell_type": "code",
   "execution_count": null,
   "id": "675cc554",
   "metadata": {},
   "outputs": [],
   "source": []
  },
  {
   "cell_type": "markdown",
   "id": "daf49ebc",
   "metadata": {},
   "source": [
    "### Tasks"
   ]
  },
  {
   "cell_type": "markdown",
   "id": "ad6a3861",
   "metadata": {},
   "source": [
    "#### To schedule a coroutine to run in the event loop, we use the asyncio.create_task() function."
   ]
  },
  {
   "cell_type": "code",
   "execution_count": 20,
   "id": "7795c5d7",
   "metadata": {
    "ExecuteTime": {
     "end_time": "2023-06-26T11:13:48.743648Z",
     "start_time": "2023-06-26T11:13:47.720387Z"
    }
   },
   "outputs": [
    {
     "name": "stdout",
     "output_type": "stream",
     "text": [
      "Calculating multiplication...\n",
      "Calculating sum...\n",
      "20 multiplied by 40 is 800\n",
      "Sum of 20 and 40 is 60\n"
     ]
    }
   ],
   "source": [
    "import asyncio\n",
    "\n",
    "async def mult(first, second):\n",
    "    print(\"Calculating multiplication...\")\n",
    "    await asyncio.sleep(1)\n",
    "    mul = first * second\n",
    "    print(f\"{first} multiplied by {second} is {mul}\")\n",
    "    return mul\n",
    "\n",
    "async def add(first, second):\n",
    "    print(\"Calculating sum...\")\n",
    "    await asyncio.sleep(1)\n",
    "    sum = first + second\n",
    "    print(f\"Sum of {first} and {second} is {sum}\")\n",
    "    return sum\n",
    "\n",
    "async def main(first,second):\n",
    "    mult_task = asyncio.create_task(mult(first,second))\n",
    "    add_task = asyncio.create_task(add(first,second))\n",
    "    await mult_task\n",
    "    await add_task\n",
    "    \n",
    "await(main(20,40))"
   ]
  },
  {
   "cell_type": "code",
   "execution_count": null,
   "id": "8816f351",
   "metadata": {},
   "outputs": [],
   "source": []
  },
  {
   "cell_type": "markdown",
   "id": "7375466d",
   "metadata": {},
   "source": [
    "### Futures:\n",
    "A Future is a low-level awaitable object that represents the result of an asynchronous computation. It is created by calling the asyncio.Future() function."
   ]
  },
  {
   "cell_type": "code",
   "execution_count": 11,
   "id": "e25744cd",
   "metadata": {
    "ExecuteTime": {
     "end_time": "2023-06-26T11:16:43.404413Z",
     "start_time": "2023-06-26T11:16:43.397514Z"
    }
   },
   "outputs": [
    {
     "name": "stdout",
     "output_type": "stream",
     "text": [
      "False\n",
      "False\n",
      "True\n",
      "True\n"
     ]
    }
   ],
   "source": [
    "from asyncio import Future\n",
    "\n",
    "future = Future()\n",
    "print(future.done())\n",
    "print(future.cancelled())\n",
    "future.cancel()\n",
    "print(future.done())\n",
    "print(future.cancelled())"
   ]
  },
  {
   "cell_type": "code",
   "execution_count": null,
   "id": "23056e9e",
   "metadata": {},
   "outputs": [],
   "source": []
  },
  {
   "cell_type": "markdown",
   "id": "4ab6cd44",
   "metadata": {},
   "source": [
    "### Timeouts"
   ]
  },
  {
   "cell_type": "code",
   "execution_count": 22,
   "id": "4e929c4a",
   "metadata": {
    "ExecuteTime": {
     "end_time": "2023-06-26T11:22:39.073496Z",
     "start_time": "2023-06-26T11:22:38.046221Z"
    }
   },
   "outputs": [
    {
     "name": "stdout",
     "output_type": "stream",
     "text": [
      "Completed.\n"
     ]
    }
   ],
   "source": [
    "import asyncio\n",
    "\n",
    "async def slow_opeartion():\n",
    "    await asyncio.sleep(5)\n",
    "    print(\"Completed.\")\n",
    "    \n",
    "async def main():\n",
    "    try:\n",
    "        await asyncio.wait_for(slow_opeartion(),timeout=10.0)\n",
    "    except asyncio.TimeoutError:\n",
    "        print(\"Timed out!\")\n",
    "        \n",
    "await(main())"
   ]
  },
  {
   "cell_type": "raw",
   "id": "266c94bc",
   "metadata": {},
   "source": [
    "The timeout here in the Future object is set to 1 second although the slow_operation() coroutine is taking 400 seconds to complete."
   ]
  },
  {
   "cell_type": "code",
   "execution_count": null,
   "id": "1efa0b37",
   "metadata": {},
   "outputs": [],
   "source": []
  }
 ],
 "metadata": {
  "kernelspec": {
   "display_name": "Python 3 (ipykernel)",
   "language": "python",
   "name": "python3"
  },
  "language_info": {
   "codemirror_mode": {
    "name": "ipython",
    "version": 3
   },
   "file_extension": ".py",
   "mimetype": "text/x-python",
   "name": "python",
   "nbconvert_exporter": "python",
   "pygments_lexer": "ipython3",
   "version": "3.10.9"
  }
 },
 "nbformat": 4,
 "nbformat_minor": 5
}
