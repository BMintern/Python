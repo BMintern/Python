{
 "cells": [
  {
   "cell_type": "markdown",
   "id": "9b35ecb1",
   "metadata": {},
   "source": [
    "# Meta-programming in Python: Decorators, Meta classes, & Code Generation"
   ]
  },
  {
   "cell_type": "markdown",
   "id": "ce2b91cb",
   "metadata": {},
   "source": [
    "Decorators are a powerful feature in Python that allow us to modify the behavior of functions or classes dynamically. In simple words a decorator allows a user to add new functionality to an existing object without modifying itself."
   ]
  },
  {
   "cell_type": "markdown",
   "id": "c8257632",
   "metadata": {},
   "source": [
    "### 1. Decorators: Enhancing Functions with Magical Powers"
   ]
  },
  {
   "cell_type": "markdown",
   "id": "1fc6142d",
   "metadata": {},
   "source": [
    "Example : Uppercase Decorator"
   ]
  },
  {
   "cell_type": "code",
   "execution_count": 3,
   "id": "6418cb9c",
   "metadata": {},
   "outputs": [
    {
     "name": "stdout",
     "output_type": "stream",
     "text": [
      "HELLO\n"
     ]
    }
   ],
   "source": [
    "def uppercase(func):\n",
    "    def wrapper():\n",
    "        result = func()\n",
    "        return result.upper()\n",
    "    return wrapper\n",
    "\n",
    "@uppercase\n",
    "def greet():\n",
    "    return \"hello\"\n",
    "\n",
    "print(greet())"
   ]
  },
  {
   "cell_type": "markdown",
   "id": "148e7997",
   "metadata": {},
   "source": [
    " Example : Timer Decorator"
   ]
  },
  {
   "cell_type": "code",
   "execution_count": 4,
   "id": "c1fbb9b9",
   "metadata": {},
   "outputs": [
    {
     "name": "stdout",
     "output_type": "stream",
     "text": [
      "Execution time: 0.026106 seconds\n"
     ]
    }
   ],
   "source": [
    "import time\n",
    "\n",
    "def timer(func):\n",
    "    def wrapper():\n",
    "        start_time = time.time()\n",
    "        result = func()\n",
    "        end_time = time.time()\n",
    "        print(f\"Execution time: {end_time - start_time:.6f} seconds\")\n",
    "        return result\n",
    "    return wrapper\n",
    "\n",
    "@timer\n",
    "def count():\n",
    "    for i in range(1, 1000000):\n",
    "        pass\n",
    "\n",
    "count()"
   ]
  },
  {
   "cell_type": "markdown",
   "id": "75a0296f",
   "metadata": {},
   "source": [
    "### 2. Meta classes: Shaping the Essence of Classes"
   ]
  },
  {
   "cell_type": "markdown",
   "id": "562bfa9f",
   "metadata": {},
   "source": [
    "A meta-class in Python is a class that defines the behavior of other classes, just like how a regular class defines the behavior of objects. It is essentially a class that creates and controls other classes. a meta-class is a class whose instances are classes."
   ]
  },
  {
   "cell_type": "code",
   "execution_count": 5,
   "id": "34f470af",
   "metadata": {},
   "outputs": [
    {
     "name": "stdout",
     "output_type": "stream",
     "text": [
      "Creating class: MyClass\n"
     ]
    }
   ],
   "source": [
    "class MyMeta(type):\n",
    "    def __new__(mcls, name, bases, attrs):\n",
    "        print(f\"Creating class: {name}\")\n",
    "        return super().__new__(mcls, name, bases, attrs)\n",
    "\n",
    "class MyClass(metaclass=MyMeta):\n",
    "    pass"
   ]
  },
  {
   "cell_type": "markdown",
   "id": "4f267ae2",
   "metadata": {},
   "source": [
    "### 3. Code Generation: Crafting Code That Writes Code"
   ]
  },
  {
   "cell_type": "markdown",
   "id": "30ef1ace",
   "metadata": {},
   "source": [
    "Code generation is the pinnacle of meta-programming. It allows us to write programs that write other programs, automating repetitive tasks and generating boilerplate code. Code generation typically involves two primary components: templates and data input. Templates serve as blueprints or skeletons for generating code, defining the structure and syntax."
   ]
  },
  {
   "cell_type": "code",
   "execution_count": 6,
   "id": "d270d890",
   "metadata": {},
   "outputs": [
    {
     "name": "stdout",
     "output_type": "stream",
     "text": [
      "15\n"
     ]
    }
   ],
   "source": [
    "function_name = \"add\"\n",
    "a = 5\n",
    "b = 10\n",
    "\n",
    "code = f\"\"\"\n",
    "def {function_name}(a, b):\n",
    "    return a + b\n",
    "\n",
    "result = {function_name}({a}, {b})\n",
    "print(result)\n",
    "\"\"\"\n",
    "\n",
    "exec(code) "
   ]
  },
  {
   "cell_type": "code",
   "execution_count": null,
   "id": "bd454af8",
   "metadata": {},
   "outputs": [],
   "source": []
  }
 ],
 "metadata": {
  "kernelspec": {
   "display_name": "Python 3 (ipykernel)",
   "language": "python",
   "name": "python3"
  },
  "language_info": {
   "codemirror_mode": {
    "name": "ipython",
    "version": 3
   },
   "file_extension": ".py",
   "mimetype": "text/x-python",
   "name": "python",
   "nbconvert_exporter": "python",
   "pygments_lexer": "ipython3",
   "version": "3.9.13"
  }
 },
 "nbformat": 4,
 "nbformat_minor": 5
}
