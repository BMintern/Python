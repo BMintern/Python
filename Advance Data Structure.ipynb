{
 "cells": [
  {
   "cell_type": "markdown",
   "id": "49ab7746",
   "metadata": {},
   "source": [
    "# Advanced Data Structures"
   ]
  },
  {
   "cell_type": "markdown",
   "id": "ab9756ec",
   "metadata": {},
   "source": [
    "Python programming language has four collection data types- list, tuple, sets, and dictionary. But python also comes with a built-in module known as collections which have specialized data structures which basically covers for the shortcomings of the four data types."
   ]
  },
  {
   "cell_type": "markdown",
   "id": "27fa841d",
   "metadata": {},
   "source": [
    "## Collections In Python"
   ]
  },
  {
   "cell_type": "markdown",
   "id": "a28fe70a",
   "metadata": {},
   "source": [
    "Collections in python are basically container data types, namely lists, sets, tuples, dictionary. They have different characteristics based on the declaration and usage."
   ]
  },
  {
   "cell_type": "markdown",
   "id": "3ebc6261",
   "metadata": {},
   "source": [
    "A __list__ is declared in square brackets, it is mutable, stores duplicate values and elements can be accessed using indexes.    \n",
    "A __tuple__ is ordered and immutable in nature, although duplicate entries can be there inside a tuple.                          \n",
    "A __set__ is unordered and declared in square brackets. It is not indexed and does not have duplicate entries as well.            \n",
    "A __dictionary__ has key-value pairs and is mutable in nature. We use square brackets to declare a dictionary."
   ]
  },
  {
   "cell_type": "markdown",
   "id": "f24174cf",
   "metadata": {},
   "source": [
    "## Specialized Collection Data Structures"
   ]
  },
  {
   "cell_type": "markdown",
   "id": "c6585d4b",
   "metadata": {},
   "source": [
    "### namedtuple( ) \n",
    "It returns a tuple with a named entry, which means there will be a name assigned to each value in the tuple. It overcomes the problem of accessing the elements using the index values. With namedtuple( ) it becomes easier to access these values since you do not have to remember the index values to get specific elements."
   ]
  },
  {
   "cell_type": "code",
   "execution_count": 1,
   "id": "03c84653",
   "metadata": {},
   "outputs": [],
   "source": [
    "from collections import namedtuple"
   ]
  },
  {
   "cell_type": "code",
   "execution_count": 2,
   "id": "bf5849af",
   "metadata": {},
   "outputs": [
    {
     "name": "stdout",
     "output_type": "stream",
     "text": [
      "courses(name='data science', tech='python')\n"
     ]
    }
   ],
   "source": [
    "a = namedtuple('courses' , 'name , tech')\n",
    "s = a('data science' , 'python')\n",
    "print(s)\n",
    " \n",
    "#the output will be courses(name='python' , tech='python')"
   ]
  },
  {
   "cell_type": "markdown",
   "id": "c68c2ee5",
   "metadata": {},
   "source": [
    "### deque\n",
    "deque is an optimized list to perform insertion and deletion easily."
   ]
  },
  {
   "cell_type": "code",
   "execution_count": 3,
   "id": "1900bd3e",
   "metadata": {},
   "outputs": [
    {
     "name": "stdout",
     "output_type": "stream",
     "text": [
      "deque(['d', 'u', 'r', 'e', 'k'])\n"
     ]
    }
   ],
   "source": [
    "#creating a deque\n",
    "from collections import deque\n",
    " \n",
    "a = ['d' , 'u' , 'r' , 'e' , 'k']\n",
    "a1 = deque(a)\n",
    "print(a1)\n",
    "#the output will be deque([ 'd' , 'u' , 'r' , 'e' , 'k' ])"
   ]
  },
  {
   "cell_type": "markdown",
   "id": "160cf7fd",
   "metadata": {},
   "source": [
    "inserting and removing items from deque."
   ]
  },
  {
   "cell_type": "code",
   "execution_count": 4,
   "id": "f55540ac",
   "metadata": {},
   "outputs": [
    {
     "name": "stdout",
     "output_type": "stream",
     "text": [
      "deque(['d', 'u', 'r', 'e', 'k', 'a'])\n",
      "deque(['e', 'd', 'u', 'r', 'e', 'k', 'a'])\n"
     ]
    }
   ],
   "source": [
    "a1.append('a')\n",
    "print(a1)\n",
    "a1.appendleft('e')\n",
    "print(a1)"
   ]
  },
  {
   "cell_type": "code",
   "execution_count": 6,
   "id": "caed5153",
   "metadata": {},
   "outputs": [
    {
     "name": "stdout",
     "output_type": "stream",
     "text": [
      "deque(['d', 'u', 'r', 'e'])\n",
      "deque(['u', 'r', 'e'])\n"
     ]
    }
   ],
   "source": [
    "a1.pop()\n",
    "print(a1)\n",
    "a1.popleft()\n",
    "print(a1)"
   ]
  },
  {
   "cell_type": "markdown",
   "id": "9719fcb5",
   "metadata": {},
   "source": [
    "### ChainMap\n",
    "It is a dictionary-like class which is able to make a single view of multiple mappings. It basically returns a list of several other dictionaries. Suppose you have two dictionaries with several key-value pairs, in this case, ChainMap will make a single list with both the dictionaries in it."
   ]
  },
  {
   "cell_type": "code",
   "execution_count": 8,
   "id": "745843f8",
   "metadata": {},
   "outputs": [
    {
     "name": "stdout",
     "output_type": "stream",
     "text": [
      "ChainMap({1: 'edureka', 2: 'python'}, {3: 'data science', 4: 'Machine learning'})\n"
     ]
    }
   ],
   "source": [
    "from collections import ChainMap\n",
    "a = { 1: 'edureka' , 2: 'python'}\n",
    "b = {3: 'data science' , 4: 'Machine learning'}\n",
    "c = ChainMap(a,b)\n",
    "print(c)"
   ]
  },
  {
   "cell_type": "code",
   "execution_count": 9,
   "id": "090068c4",
   "metadata": {},
   "outputs": [
    {
     "name": "stdout",
     "output_type": "stream",
     "text": [
      "ChainMap({5: 'AI', 6: 'neural networks'}, {1: 'edureka', 2: 'python'}, {3: 'data science', 4: 'Machine learning'})\n"
     ]
    }
   ],
   "source": [
    "a1 = { 5: 'AI' , 6: 'neural networks'}\n",
    "c1 = c.new_child(a1)\n",
    "print(c1)\n"
   ]
  },
  {
   "cell_type": "markdown",
   "id": "0a9f23b1",
   "metadata": {},
   "source": [
    "### Counter\n",
    "It is a dictionary subclass which is used to count hashable objects."
   ]
  },
  {
   "cell_type": "code",
   "execution_count": 12,
   "id": "3f3584ee",
   "metadata": {},
   "outputs": [
    {
     "name": "stdout",
     "output_type": "stream",
     "text": [
      "Counter({1: 4, 3: 4, 4: 2, 2: 1})\n"
     ]
    }
   ],
   "source": [
    "from collections import Counter\n",
    "a = [1,1,1,1,2,3,3,4,3,3,4]\n",
    "c = Counter(a)\n",
    "print(c)\n",
    "#the output will be Counter = ({1:4 , 2:1 , 3:4 , 4:2})"
   ]
  },
  {
   "cell_type": "markdown",
   "id": "49f036c8",
   "metadata": {},
   "source": [
    "### OrderedDict\n",
    "It is a dictionary subclass which remembers the order in which the entries were added. Basically, even if you change the value of the key, the position will not be changed because of the order in which it was inserted in the dictionary."
   ]
  },
  {
   "cell_type": "code",
   "execution_count": 13,
   "id": "eca7afd7",
   "metadata": {},
   "outputs": [
    {
     "name": "stdout",
     "output_type": "stream",
     "text": [
      "OrderedDict([(1, 'e'), (2, 'd'), (3, 'u'), (4, 'r'), (5, 'e'), (6, 'k'), (7, 'a')])\n"
     ]
    }
   ],
   "source": [
    "from collections import OrderedDict\n",
    "od = OrderedDict()\n",
    "od[1] = 'e'\n",
    "od[2] = 'd'\n",
    "od[3] = 'u'\n",
    "od[4] = 'r'\n",
    "od[5] = 'e'\n",
    "od[6] = 'k'\n",
    "od[7] = 'a'\n",
    "print(od)"
   ]
  },
  {
   "cell_type": "markdown",
   "id": "8bd316e9",
   "metadata": {},
   "source": [
    "### defaultdict\n",
    "It is a dictionary subclass which calls a factory function to supply missing values. In general, it does not throw any errors when a missing key value is called in a dictionary."
   ]
  },
  {
   "cell_type": "code",
   "execution_count": 14,
   "id": "7bd32022",
   "metadata": {},
   "outputs": [
    {
     "name": "stdout",
     "output_type": "stream",
     "text": [
      "0\n"
     ]
    }
   ],
   "source": [
    "from collections import defaultdict\n",
    "d = defaultdict(int)\n",
    "#we have to specify a type as well.\n",
    "d[1] = 'edureka'\n",
    "d[2] = 'python'\n",
    "print(d[3])\n",
    "#it will give the output as 0 instead of keyerror."
   ]
  },
  {
   "cell_type": "markdown",
   "id": "6ac4219f",
   "metadata": {},
   "source": [
    "### UserDict\n",
    "This class acts as a wrapper around dictionary objects. The need for this class came from the necessity to subclass directly from dict. It becomes easier to work with this class as the underlying dictionary becomes an attribute."
   ]
  },
  {
   "cell_type": "code",
   "execution_count": 15,
   "id": "aa2de178",
   "metadata": {},
   "outputs": [
    {
     "ename": "SyntaxError",
     "evalue": "invalid syntax (Temp/ipykernel_16004/1502623290.py, line 1)",
     "output_type": "error",
     "traceback": [
      "\u001b[1;36m  File \u001b[1;32m\"C:\\Users\\ITTECH~1\\AppData\\Local\\Temp/ipykernel_16004/1502623290.py\"\u001b[1;36m, line \u001b[1;32m1\u001b[0m\n\u001b[1;33m    class collections.UserDict([initialdata])\u001b[0m\n\u001b[1;37m                     ^\u001b[0m\n\u001b[1;31mSyntaxError\u001b[0m\u001b[1;31m:\u001b[0m invalid syntax\n"
     ]
    }
   ],
   "source": [
    "class collections.UserDict([initialdata])"
   ]
  },
  {
   "cell_type": "code",
   "execution_count": null,
   "id": "b2b186a6",
   "metadata": {},
   "outputs": [],
   "source": []
  }
 ],
 "metadata": {
  "kernelspec": {
   "display_name": "Python 3 (ipykernel)",
   "language": "python",
   "name": "python3"
  },
  "language_info": {
   "codemirror_mode": {
    "name": "ipython",
    "version": 3
   },
   "file_extension": ".py",
   "mimetype": "text/x-python",
   "name": "python",
   "nbconvert_exporter": "python",
   "pygments_lexer": "ipython3",
   "version": "3.9.13"
  }
 },
 "nbformat": 4,
 "nbformat_minor": 5
}
