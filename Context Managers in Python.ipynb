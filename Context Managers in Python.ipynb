{
 "cells": [
  {
   "cell_type": "markdown",
   "id": "20ae833b",
   "metadata": {},
   "source": [
    "## Context Managers in Python: Using the \"with\" statement"
   ]
  },
  {
   "cell_type": "markdown",
   "id": "b3ac85a2",
   "metadata": {},
   "source": [
    "Context managers are used to set up and tear down temporary contexts, establish and resolve custom settings, and acquire and release resources. The open() function for opening files is one of the most familiar examples of a context manager.\n",
    "\n",
    "Context managers sandwich code blocks between two distinct pieces of logic:\n",
    "\n",
    "The enter logic - this runs right before the nested code block executes\n",
    "The exit logic - this runs right after the nested code block is done.\n",
    "The most common way you'll work with context managers is by using the with statement."
   ]
  },
  {
   "cell_type": "markdown",
   "id": "e970fe58",
   "metadata": {},
   "source": [
    "### The with statement\n",
    "A with statement is the primary method used to call a context manager."
   ]
  },
  {
   "cell_type": "code",
   "execution_count": 10,
   "id": "7038f92f",
   "metadata": {},
   "outputs": [
    {
     "name": "stdout",
     "output_type": "stream",
     "text": [
      "1.  select EMP_ID ,count(EMP_ID)from Employe group by EMP_ID having count(EMP_ID)>1;\n",
      "\n",
      "\n",
      "\n",
      "2.  select * from Employee order by salary desc limit 2,1;\n",
      "\n",
      "\n",
      "\n",
      "3.  Inner join\n",
      "\n",
      "\n",
      "\n",
      "TableA    TableB\n",
      "\n",
      "------    -------\n",
      "\n",
      "1           1\n",
      "\n",
      "1           1\n",
      "\n",
      "2           2\n",
      "\n",
      "1           1\n",
      "\n",
      "1           1\n",
      "\n",
      "4           4\n",
      "\n",
      "NULL        NULL\n",
      "\n",
      "\n",
      "\n",
      "Left join\n",
      "\n",
      "\n",
      "\n",
      "TableA    TableB\n",
      "\n",
      "------    -------\n",
      "\n",
      "1           1\n",
      "\n",
      "1           1\n",
      "\n",
      "2           2\n",
      "\n",
      "1           1\n",
      "\n",
      "1           1\n",
      "\n",
      "4           4\n",
      "\n",
      "NULL        NULL\n",
      "\n",
      "3           NULL\n",
      "\n",
      "\n",
      "\n",
      "Full outer join\n",
      "\n",
      "TableA    TableB\n",
      "\n",
      "------    -------\n",
      "\n",
      "1           1\n",
      "\n",
      "1           1\n",
      "\n",
      "2           2\n",
      "\n",
      "1           1\n",
      "\n",
      "1           1\n",
      "\n",
      "4           4\n",
      "\n",
      "NULL        NULL\n",
      "\n",
      "3           NULL\n",
      "\n",
      "NULL        0\n",
      "\n",
      "\n",
      "\n",
      "\n",
      "\n",
      "4.\n",
      "\n",
      "\n",
      "\n",
      "5. \n",
      "\n",
      "select max(salary) from Employee where DEPT='HR';\n",
      "\n",
      "\n",
      "\n",
      "\n",
      "\n",
      "\n",
      "\n",
      "\n",
      "\n",
      "\n",
      "\n",
      "\n",
      "\n"
     ]
    }
   ],
   "source": [
    "with open('test1.txt', 'r') as f:\n",
    "    for line in f:\n",
    "        print(line)"
   ]
  },
  {
   "cell_type": "code",
   "execution_count": 11,
   "id": "e7dc8f6d",
   "metadata": {},
   "outputs": [
    {
     "name": "stdout",
     "output_type": "stream",
     "text": [
      "1.  select EMP_ID ,count(EMP_ID)from Employe group by EMP_ID having count(EMP_ID)>1;\n",
      "\n",
      "\n",
      "\n",
      "2.  select * from Employee order by salary desc limit 2,1;\n",
      "\n",
      "\n",
      "\n",
      "3.  Inner join\n",
      "\n",
      "\n",
      "\n",
      "TableA    TableB\n",
      "\n",
      "------    -------\n",
      "\n",
      "1           1\n",
      "\n",
      "1           1\n",
      "\n",
      "2           2\n",
      "\n",
      "1           1\n",
      "\n",
      "1           1\n",
      "\n",
      "4           4\n",
      "\n",
      "NULL        NULL\n",
      "\n",
      "\n",
      "\n",
      "Left join\n",
      "\n",
      "\n",
      "\n",
      "TableA    TableB\n",
      "\n",
      "------    -------\n",
      "\n",
      "1           1\n",
      "\n",
      "1           1\n",
      "\n",
      "2           2\n",
      "\n",
      "1           1\n",
      "\n",
      "1           1\n",
      "\n",
      "4           4\n",
      "\n",
      "NULL        NULL\n",
      "\n",
      "3           NULL\n",
      "\n",
      "\n",
      "\n",
      "Full outer join\n",
      "\n",
      "TableA    TableB\n",
      "\n",
      "------    -------\n",
      "\n",
      "1           1\n",
      "\n",
      "1           1\n",
      "\n",
      "2           2\n",
      "\n",
      "1           1\n",
      "\n",
      "1           1\n",
      "\n",
      "4           4\n",
      "\n",
      "NULL        NULL\n",
      "\n",
      "3           NULL\n",
      "\n",
      "NULL        0\n",
      "\n",
      "\n",
      "\n",
      "\n",
      "\n",
      "4.\n",
      "\n",
      "\n",
      "\n",
      "5. \n",
      "\n",
      "select max(salary) from Employee where DEPT='HR';\n",
      "\n",
      "\n",
      "\n",
      "\n",
      "\n",
      "\n",
      "\n",
      "\n",
      "\n",
      "\n",
      "\n",
      "\n",
      "\n"
     ]
    }
   ],
   "source": [
    "f = open('test1.txt', 'r')\n",
    "for line in f:\n",
    "    print(line)\n",
    "f.close()  # must remember to close f"
   ]
  },
  {
   "cell_type": "markdown",
   "id": "62add053",
   "metadata": {},
   "source": [
    "To exactly replicate opening a file using the with statement we would need even more code to make sure we close the file even in the event of an exception."
   ]
  },
  {
   "cell_type": "code",
   "execution_count": 12,
   "id": "453a6fc9",
   "metadata": {},
   "outputs": [
    {
     "name": "stdout",
     "output_type": "stream",
     "text": [
      "1.  select EMP_ID ,count(EMP_ID)from Employe group by EMP_ID having count(EMP_ID)>1;\n",
      "\n",
      "\n",
      "\n",
      "2.  select * from Employee order by salary desc limit 2,1;\n",
      "\n",
      "\n",
      "\n",
      "3.  Inner join\n",
      "\n",
      "\n",
      "\n",
      "TableA    TableB\n",
      "\n",
      "------    -------\n",
      "\n",
      "1           1\n",
      "\n",
      "1           1\n",
      "\n",
      "2           2\n",
      "\n",
      "1           1\n",
      "\n",
      "1           1\n",
      "\n",
      "4           4\n",
      "\n",
      "NULL        NULL\n",
      "\n",
      "\n",
      "\n",
      "Left join\n",
      "\n",
      "\n",
      "\n",
      "TableA    TableB\n",
      "\n",
      "------    -------\n",
      "\n",
      "1           1\n",
      "\n",
      "1           1\n",
      "\n",
      "2           2\n",
      "\n",
      "1           1\n",
      "\n",
      "1           1\n",
      "\n",
      "4           4\n",
      "\n",
      "NULL        NULL\n",
      "\n",
      "3           NULL\n",
      "\n",
      "\n",
      "\n",
      "Full outer join\n",
      "\n",
      "TableA    TableB\n",
      "\n",
      "------    -------\n",
      "\n",
      "1           1\n",
      "\n",
      "1           1\n",
      "\n",
      "2           2\n",
      "\n",
      "1           1\n",
      "\n",
      "1           1\n",
      "\n",
      "4           4\n",
      "\n",
      "NULL        NULL\n",
      "\n",
      "3           NULL\n",
      "\n",
      "NULL        0\n",
      "\n",
      "\n",
      "\n",
      "\n",
      "\n",
      "4.\n",
      "\n",
      "\n",
      "\n",
      "5. \n",
      "\n",
      "select max(salary) from Employee where DEPT='HR';\n",
      "\n",
      "\n",
      "\n",
      "\n",
      "\n",
      "\n",
      "\n",
      "\n",
      "\n",
      "\n",
      "\n",
      "\n",
      "\n"
     ]
    }
   ],
   "source": [
    "f = open('test1.txt', 'r')\n",
    "try:\n",
    "    for line in f:\n",
    "        print(line)\n",
    "finally:\n",
    "    f.close()  "
   ]
  },
  {
   "cell_type": "markdown",
   "id": "85403eee",
   "metadata": {},
   "source": [
    "### How To Implement a Context Manager"
   ]
  },
  {
   "cell_type": "markdown",
   "id": "746a567c",
   "metadata": {},
   "source": [
    "There are two ways to implement a context manager. The first one is defining a class with implementations for the __enter__ and __exit__ methods. The second one is by creating a generator and using the contextlib.contextmanager decorator."
   ]
  },
  {
   "cell_type": "markdown",
   "id": "ea7741e4",
   "metadata": {},
   "source": [
    "#### Defining a Class\n",
    "As we mentioned before, to be able to use a class as a context manager you need to implement __enter__ and __exit__."
   ]
  },
  {
   "cell_type": "code",
   "execution_count": 14,
   "id": "7ad4524c",
   "metadata": {},
   "outputs": [],
   "source": [
    "class ToyExample:\n",
    "    def __init__(self):\n",
    "        print('__init__')\n",
    "        \n",
    "    def __enter__(self):\n",
    "        print('__enter__')\n",
    "        return self\n",
    "    \n",
    "    def __exit__(self, exc_type,exc_val,exc_tb):\n",
    "        print(\n",
    "        '__exit__({},{},{})'.format(\n",
    "        exc_type,\n",
    "        exc_val,\n",
    "        exc_tb\n",
    "        ),\n",
    "        )\n",
    "        \n",
    "    def run(self):\n",
    "        print('run')"
   ]
  },
  {
   "cell_type": "code",
   "execution_count": 15,
   "id": "5395feed",
   "metadata": {},
   "outputs": [
    {
     "name": "stdout",
     "output_type": "stream",
     "text": [
      "__init__\n",
      "__enter__\n",
      "run\n",
      "__exit__(None,None,None)\n"
     ]
    }
   ],
   "source": [
    "with ToyExample() as toy:\n",
    "    toy.run()"
   ]
  },
  {
   "cell_type": "code",
   "execution_count": 16,
   "id": "1352af76",
   "metadata": {},
   "outputs": [
    {
     "name": "stdout",
     "output_type": "stream",
     "text": [
      "__init__\n",
      "__enter__\n",
      "__exit__(<class 'ValueError'>,something horrible has happened,<traceback object at 0x000001E160880FC0>)\n"
     ]
    },
    {
     "ename": "ValueError",
     "evalue": "something horrible has happened",
     "output_type": "error",
     "traceback": [
      "\u001b[1;31m---------------------------------------------------------------------------\u001b[0m",
      "\u001b[1;31mValueError\u001b[0m                                Traceback (most recent call last)",
      "\u001b[1;32mC:\\Users\\ITTECH~1\\AppData\\Local\\Temp/ipykernel_16968/433133898.py\u001b[0m in \u001b[0;36m<module>\u001b[1;34m\u001b[0m\n\u001b[0;32m      1\u001b[0m \u001b[1;32mwith\u001b[0m \u001b[0mToyExample\u001b[0m\u001b[1;33m(\u001b[0m\u001b[1;33m)\u001b[0m \u001b[1;32mas\u001b[0m \u001b[0mtoy\u001b[0m\u001b[1;33m:\u001b[0m\u001b[1;33m\u001b[0m\u001b[1;33m\u001b[0m\u001b[0m\n\u001b[1;32m----> 2\u001b[1;33m     \u001b[1;32mraise\u001b[0m \u001b[0mValueError\u001b[0m\u001b[1;33m(\u001b[0m\u001b[1;34m'something horrible has happened'\u001b[0m\u001b[1;33m)\u001b[0m\u001b[1;33m\u001b[0m\u001b[1;33m\u001b[0m\u001b[0m\n\u001b[0m\u001b[0;32m      3\u001b[0m     \u001b[0mtoy\u001b[0m\u001b[1;33m.\u001b[0m\u001b[0mrun\u001b[0m\u001b[1;33m(\u001b[0m\u001b[1;33m)\u001b[0m\u001b[1;33m\u001b[0m\u001b[1;33m\u001b[0m\u001b[0m\n\u001b[0;32m      4\u001b[0m \u001b[1;33m\u001b[0m\u001b[0m\n",
      "\u001b[1;31mValueError\u001b[0m: something horrible has happened"
     ]
    }
   ],
   "source": [
    "with ToyExample() as toy:\n",
    "    raise ValueError('something horrible has happened')\n",
    "    toy.run()\n",
    "    "
   ]
  },
  {
   "cell_type": "code",
   "execution_count": 21,
   "id": "249b6812",
   "metadata": {},
   "outputs": [],
   "source": [
    "def __exit__(self, exc_type,exc_val,exc_tb):\n",
    "        print(\n",
    "        '__exit__({},{},{})'.format(\n",
    "        exc_type,\n",
    "        exc_val,\n",
    "        exc_tb\n",
    "        ),\n",
    "    )\n",
    "        if exc_type is ValueError:\n",
    "            print('Ignore exception')\n",
    "            return True\n",
    "        elif exc_type is not None:\n",
    "            print('Do not ignore exception')\n",
    "            return False\n",
    "        "
   ]
  },
  {
   "cell_type": "code",
   "execution_count": 22,
   "id": "4d9c6fd0",
   "metadata": {},
   "outputs": [
    {
     "name": "stdout",
     "output_type": "stream",
     "text": [
      "__init__\n",
      "__enter__\n",
      "__exit__(<class 'ValueError'>,something horrible has happened,<traceback object at 0x000001E1609535C0>)\n"
     ]
    },
    {
     "ename": "ValueError",
     "evalue": "something horrible has happened",
     "output_type": "error",
     "traceback": [
      "\u001b[1;31m---------------------------------------------------------------------------\u001b[0m",
      "\u001b[1;31mValueError\u001b[0m                                Traceback (most recent call last)",
      "\u001b[1;32mC:\\Users\\ITTECH~1\\AppData\\Local\\Temp/ipykernel_16968/533289389.py\u001b[0m in \u001b[0;36m<module>\u001b[1;34m\u001b[0m\n\u001b[0;32m      1\u001b[0m \u001b[1;32mwith\u001b[0m \u001b[0mToyExample\u001b[0m\u001b[1;33m(\u001b[0m\u001b[1;33m)\u001b[0m \u001b[1;32mas\u001b[0m \u001b[0mtoy\u001b[0m\u001b[1;33m:\u001b[0m\u001b[1;33m\u001b[0m\u001b[1;33m\u001b[0m\u001b[0m\n\u001b[1;32m----> 2\u001b[1;33m     \u001b[1;32mraise\u001b[0m \u001b[0mValueError\u001b[0m\u001b[1;33m(\u001b[0m\u001b[1;34m'something horrible has happened'\u001b[0m\u001b[1;33m)\u001b[0m\u001b[1;33m\u001b[0m\u001b[1;33m\u001b[0m\u001b[0m\n\u001b[0m\u001b[0;32m      3\u001b[0m     \u001b[0mtoy\u001b[0m\u001b[1;33m.\u001b[0m\u001b[0mrun\u001b[0m\u001b[1;33m(\u001b[0m\u001b[1;33m)\u001b[0m\u001b[1;33m\u001b[0m\u001b[1;33m\u001b[0m\u001b[0m\n",
      "\u001b[1;31mValueError\u001b[0m: something horrible has happened"
     ]
    }
   ],
   "source": [
    "with ToyExample() as toy:\n",
    "    raise ValueError('something horrible has happened')\n",
    "    toy.run()"
   ]
  },
  {
   "cell_type": "markdown",
   "id": "1b38d6ac",
   "metadata": {},
   "source": [
    "#### using Generator"
   ]
  },
  {
   "cell_type": "code",
   "execution_count": 23,
   "id": "945fe340",
   "metadata": {},
   "outputs": [],
   "source": [
    "from contextlib import contextmanager\n",
    "\n",
    "class Someclass:\n",
    "    def run(self):\n",
    "        print('run')\n",
    "        \n",
    "@contextmanager\n",
    "def toy_example():\n",
    "    print('Starting')\n",
    "    try:\n",
    "        yield SomeClass()\n",
    "    except ValueError as e:\n",
    "        print(e)\n",
    "        print('Ignore Exception')\n",
    "    except Exception as e:\n",
    "        print(e)\n",
    "        print('Do not ignore exception')\n",
    "        raise\n",
    "    finally:\n",
    "        print('Exiting')"
   ]
  },
  {
   "cell_type": "code",
   "execution_count": 24,
   "id": "941db097",
   "metadata": {},
   "outputs": [
    {
     "name": "stdout",
     "output_type": "stream",
     "text": [
      "__init__\n",
      "__enter__\n",
      "run\n",
      "__exit__(None,None,None)\n"
     ]
    }
   ],
   "source": [
    "with ToyExample() as toy:\n",
    "    toy.run()"
   ]
  },
  {
   "cell_type": "code",
   "execution_count": 25,
   "id": "072b86cc",
   "metadata": {},
   "outputs": [
    {
     "name": "stdout",
     "output_type": "stream",
     "text": [
      "__init__\n",
      "__enter__\n",
      "__exit__(<class 'ValueError'>,something horrible has happened,<traceback object at 0x000001E1609621C0>)\n"
     ]
    },
    {
     "ename": "ValueError",
     "evalue": "something horrible has happened",
     "output_type": "error",
     "traceback": [
      "\u001b[1;31m---------------------------------------------------------------------------\u001b[0m",
      "\u001b[1;31mValueError\u001b[0m                                Traceback (most recent call last)",
      "\u001b[1;32mC:\\Users\\ITTECH~1\\AppData\\Local\\Temp/ipykernel_16968/533289389.py\u001b[0m in \u001b[0;36m<module>\u001b[1;34m\u001b[0m\n\u001b[0;32m      1\u001b[0m \u001b[1;32mwith\u001b[0m \u001b[0mToyExample\u001b[0m\u001b[1;33m(\u001b[0m\u001b[1;33m)\u001b[0m \u001b[1;32mas\u001b[0m \u001b[0mtoy\u001b[0m\u001b[1;33m:\u001b[0m\u001b[1;33m\u001b[0m\u001b[1;33m\u001b[0m\u001b[0m\n\u001b[1;32m----> 2\u001b[1;33m     \u001b[1;32mraise\u001b[0m \u001b[0mValueError\u001b[0m\u001b[1;33m(\u001b[0m\u001b[1;34m'something horrible has happened'\u001b[0m\u001b[1;33m)\u001b[0m\u001b[1;33m\u001b[0m\u001b[1;33m\u001b[0m\u001b[0m\n\u001b[0m\u001b[0;32m      3\u001b[0m     \u001b[0mtoy\u001b[0m\u001b[1;33m.\u001b[0m\u001b[0mrun\u001b[0m\u001b[1;33m(\u001b[0m\u001b[1;33m)\u001b[0m\u001b[1;33m\u001b[0m\u001b[1;33m\u001b[0m\u001b[0m\n",
      "\u001b[1;31mValueError\u001b[0m: something horrible has happened"
     ]
    }
   ],
   "source": [
    "with ToyExample() as toy:\n",
    "    raise ValueError('something horrible has happened')\n",
    "    toy.run()"
   ]
  },
  {
   "cell_type": "code",
   "execution_count": null,
   "id": "61bc338c",
   "metadata": {},
   "outputs": [],
   "source": []
  }
 ],
 "metadata": {
  "kernelspec": {
   "display_name": "Python 3 (ipykernel)",
   "language": "python",
   "name": "python3"
  },
  "language_info": {
   "codemirror_mode": {
    "name": "ipython",
    "version": 3
   },
   "file_extension": ".py",
   "mimetype": "text/x-python",
   "name": "python",
   "nbconvert_exporter": "python",
   "pygments_lexer": "ipython3",
   "version": "3.9.13"
  }
 },
 "nbformat": 4,
 "nbformat_minor": 5
}
