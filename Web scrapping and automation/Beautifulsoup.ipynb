{
 "cells": [
  {
   "cell_type": "code",
   "execution_count": 1,
   "id": "e31f4b40",
   "metadata": {
    "ExecuteTime": {
     "end_time": "2023-06-28T04:59:03.749978Z",
     "start_time": "2023-06-28T04:59:03.745900Z"
    }
   },
   "outputs": [],
   "source": [
    "from urllib.request import urlopen"
   ]
  },
  {
   "cell_type": "code",
   "execution_count": 2,
   "id": "efbc81e3",
   "metadata": {
    "ExecuteTime": {
     "end_time": "2023-06-28T05:00:03.449930Z",
     "start_time": "2023-06-28T05:00:03.445707Z"
    }
   },
   "outputs": [],
   "source": [
    "url = \"http://olympus.realpython.org/profiles/aphrodite\""
   ]
  },
  {
   "cell_type": "code",
   "execution_count": 3,
   "id": "8be8d2ee",
   "metadata": {
    "ExecuteTime": {
     "end_time": "2023-06-28T05:00:12.674221Z",
     "start_time": "2023-06-28T05:00:12.069742Z"
    }
   },
   "outputs": [],
   "source": [
    "page = urlopen(url)"
   ]
  },
  {
   "cell_type": "code",
   "execution_count": 4,
   "id": "143e513d",
   "metadata": {
    "ExecuteTime": {
     "end_time": "2023-06-28T05:00:18.931063Z",
     "start_time": "2023-06-28T05:00:18.910623Z"
    }
   },
   "outputs": [
    {
     "data": {
      "text/plain": [
       "<http.client.HTTPResponse at 0x2542dc36590>"
      ]
     },
     "execution_count": 4,
     "metadata": {},
     "output_type": "execute_result"
    }
   ],
   "source": [
    " page"
   ]
  },
  {
   "cell_type": "code",
   "execution_count": 5,
   "id": "15f1c1d3",
   "metadata": {
    "ExecuteTime": {
     "end_time": "2023-06-28T05:00:36.889001Z",
     "start_time": "2023-06-28T05:00:36.885039Z"
    }
   },
   "outputs": [],
   "source": [
    "html_bytes = page.read()\n",
    "html = html_bytes.decode(\"utf-8\")"
   ]
  },
  {
   "cell_type": "code",
   "execution_count": 6,
   "id": "dd1acf38",
   "metadata": {
    "ExecuteTime": {
     "end_time": "2023-06-28T05:00:45.224450Z",
     "start_time": "2023-06-28T05:00:45.219904Z"
    }
   },
   "outputs": [
    {
     "name": "stdout",
     "output_type": "stream",
     "text": [
      "<html>\n",
      "<head>\n",
      "<title>Profile: Aphrodite</title>\n",
      "</head>\n",
      "<body bgcolor=\"yellow\">\n",
      "<center>\n",
      "<br><br>\n",
      "<img src=\"/static/aphrodite.gif\" />\n",
      "<h2>Name: Aphrodite</h2>\n",
      "<br><br>\n",
      "Favorite animal: Dove\n",
      "<br><br>\n",
      "Favorite color: Red\n",
      "<br><br>\n",
      "Hometown: Mount Olympus\n",
      "</center>\n",
      "</body>\n",
      "</html>\n",
      "\n"
     ]
    }
   ],
   "source": [
    "print(html)"
   ]
  },
  {
   "cell_type": "code",
   "execution_count": 7,
   "id": "1fb0fe47",
   "metadata": {
    "ExecuteTime": {
     "end_time": "2023-06-28T05:01:24.989544Z",
     "start_time": "2023-06-28T05:01:24.982743Z"
    }
   },
   "outputs": [
    {
     "data": {
      "text/plain": [
       "14"
      ]
     },
     "execution_count": 7,
     "metadata": {},
     "output_type": "execute_result"
    }
   ],
   "source": [
    "title_index = html.find(\"<title>\")\n",
    "title_index"
   ]
  },
  {
   "cell_type": "code",
   "execution_count": 8,
   "id": "3c051407",
   "metadata": {
    "ExecuteTime": {
     "end_time": "2023-06-28T05:01:44.972268Z",
     "start_time": "2023-06-28T05:01:44.965711Z"
    }
   },
   "outputs": [
    {
     "data": {
      "text/plain": [
       "21"
      ]
     },
     "execution_count": 8,
     "metadata": {},
     "output_type": "execute_result"
    }
   ],
   "source": [
    "start_index = title_index + len(\"<title>\")\n",
    "start_index"
   ]
  },
  {
   "cell_type": "code",
   "execution_count": 9,
   "id": "272e2413",
   "metadata": {
    "ExecuteTime": {
     "end_time": "2023-06-28T05:01:59.853423Z",
     "start_time": "2023-06-28T05:01:59.844325Z"
    }
   },
   "outputs": [
    {
     "data": {
      "text/plain": [
       "39"
      ]
     },
     "execution_count": 9,
     "metadata": {},
     "output_type": "execute_result"
    }
   ],
   "source": [
    "end_index = html.find(\"</title>\")\n",
    "end_index"
   ]
  },
  {
   "cell_type": "code",
   "execution_count": 10,
   "id": "48535b2f",
   "metadata": {
    "ExecuteTime": {
     "end_time": "2023-06-28T05:02:14.002937Z",
     "start_time": "2023-06-28T05:02:13.996652Z"
    }
   },
   "outputs": [
    {
     "data": {
      "text/plain": [
       "'Profile: Aphrodite'"
      ]
     },
     "execution_count": 10,
     "metadata": {},
     "output_type": "execute_result"
    }
   ],
   "source": [
    "title = html[start_index:end_index]\n",
    "title"
   ]
  },
  {
   "cell_type": "code",
   "execution_count": 11,
   "id": "2e8ac875",
   "metadata": {
    "ExecuteTime": {
     "end_time": "2023-06-28T05:03:50.506087Z",
     "start_time": "2023-06-28T05:03:49.941971Z"
    }
   },
   "outputs": [
    {
     "data": {
      "text/plain": [
       "'\\n<head>\\n<title >Profile: Poseidon'"
      ]
     },
     "execution_count": 11,
     "metadata": {},
     "output_type": "execute_result"
    }
   ],
   "source": [
    "url = \"http://olympus.realpython.org/profiles/poseidon\"\n",
    "page = urlopen(url)\n",
    "html = page.read().decode(\"utf-8\")\n",
    "start_index = html.find(\"<title>\") + len(\"<title>\")\n",
    "end_index = html.find(\"</title>\")\n",
    "title = html[start_index:end_index]\n",
    "title"
   ]
  },
  {
   "cell_type": "code",
   "execution_count": 12,
   "id": "a280f7a1",
   "metadata": {
    "ExecuteTime": {
     "end_time": "2023-06-28T05:04:20.822507Z",
     "start_time": "2023-06-28T05:04:20.212881Z"
    }
   },
   "outputs": [
    {
     "name": "stdout",
     "output_type": "stream",
     "text": [
      "Profile: Dionysus\n"
     ]
    }
   ],
   "source": [
    "# regex_soup.py\n",
    "\n",
    "import re\n",
    "from urllib.request import urlopen\n",
    "\n",
    "url = \"http://olympus.realpython.org/profiles/dionysus\"\n",
    "page = urlopen(url)\n",
    "html = page.read().decode(\"utf-8\")\n",
    "\n",
    "pattern = \"<title.*?>.*?</title.*?>\"\n",
    "match_results = re.search(pattern, html, re.IGNORECASE)\n",
    "title = match_results.group()\n",
    "title = re.sub(\"<.*?>\", \"\", title) # Remove HTML tags\n",
    "\n",
    "print(title)"
   ]
  },
  {
   "cell_type": "code",
   "execution_count": 14,
   "id": "0da6e8f1",
   "metadata": {
    "ExecuteTime": {
     "end_time": "2023-06-28T05:04:52.619992Z",
     "start_time": "2023-06-28T05:04:52.615508Z"
    }
   },
   "outputs": [
    {
     "name": "stdout",
     "output_type": "stream",
     "text": [
      "\n",
      "\n",
      "Profile: Dionysus\n",
      "\n",
      "\n",
      "\n",
      "\n",
      "\n",
      "Name: Dionysus\n",
      "\n",
      "Hometown: Mount Olympus\n",
      "\n",
      "Favorite animal: Leopard \n",
      "\n",
      "Favorite Color: Wine\n",
      "\n",
      "\n",
      "\n",
      "\n"
     ]
    }
   ],
   "source": [
    "print(soup.get_text())"
   ]
  },
  {
   "cell_type": "code",
   "execution_count": null,
   "id": "5dc75da9",
   "metadata": {},
   "outputs": [],
   "source": []
  },
  {
   "cell_type": "code",
   "execution_count": null,
   "id": "1351a11e",
   "metadata": {},
   "outputs": [],
   "source": []
  },
  {
   "cell_type": "code",
   "execution_count": null,
   "id": "cd261491",
   "metadata": {},
   "outputs": [],
   "source": []
  },
  {
   "cell_type": "code",
   "execution_count": 110,
   "id": "af6d7fb8",
   "metadata": {
    "ExecuteTime": {
     "end_time": "2023-06-28T08:35:25.845081Z",
     "start_time": "2023-06-28T08:35:22.482930Z"
    }
   },
   "outputs": [],
   "source": [
    "from urllib.request import Request, urlopen\n",
    "\n",
    "url = \"https://towardsdatascience.com/introduction-to-asynchronous-programming-in-python-3cd190748cd5\"\n",
    "req = Request(url, headers={'User-Agent': 'Mozilla/5.0'})\n",
    "page = urlopen(req)"
   ]
  },
  {
   "cell_type": "code",
   "execution_count": 111,
   "id": "ddc2ea96",
   "metadata": {
    "ExecuteTime": {
     "end_time": "2023-06-28T08:35:29.278999Z",
     "start_time": "2023-06-28T08:35:26.834629Z"
    }
   },
   "outputs": [],
   "source": [
    "import requests\n",
    "from bs4 import BeautifulSoup\n",
    "\n",
    "url = \"https://towardsdatascience.com/introduction-to-asynchronous-programming-in-python-3cd190748cd5\"\n",
    "headers = {'User-Agent': 'Mozilla/5.0'}\n",
    "response = requests.get(url, headers=headers)\n",
    "html = response.text\n",
    "soup = BeautifulSoup(html, \"html.parser\")\n"
   ]
  },
  {
   "cell_type": "code",
   "execution_count": 112,
   "id": "a336b99a",
   "metadata": {
    "ExecuteTime": {
     "end_time": "2023-06-28T08:35:43.516180Z",
     "start_time": "2023-06-28T08:35:43.499689Z"
    }
   },
   "outputs": [
    {
     "name": "stdout",
     "output_type": "stream",
     "text": [
      "Introduction to Asynchronous Programming in Python | by David Farrugia | Towards Data ScienceOpen in appSign upSign InWriteSign upSign InMember-only storyASYNCHRONOUS | PROGRAMMING | PYTHONIntroduction to Asynchronous Programming in PythonA guide to writing more responsive and performant programsDavid Farrugia·FollowPublished inTowards Data Science·6 min read·Nov 1, 2021--2ListenSharePhoto by Max Duzij on UnsplashIn a synchronous environment, a program execution follows a set of operations sequentially. The execution flow will start processing a step and wait for it to return a result before proceeding to the next one. With asynchronous programming, we can use the lag time required by the operation to process and return a result to continue processing other tasks.We have previously discussed the concept of concurrency and its usage in Python. Check it out here, if you like.Introduction to Concurrency in PythonA guide to speeding up Python codetowardsdatascience.comIn this post, we will further discuss the topic of Asynchronous Programming and introduce the asyncio library in Python.Single-Threaded AsynchronySingle-Threaded Asynchrony is a programming model which only uses a single thread to achieve concurrency by interleaving the execution of several tasks. In this programming model, the single thread executed the different tasks sequentially.To process simultaneously, we would require to initialise an array of threads or processes. Let us assume an array of 2 tasks — [T1, T2]. While executing T1, the main thread can temporarily pause the execution of T1 in the thread and start processing T2 before returning to T1 to complete.The best use case for Single-Threaded Asynchrony is the execution of I/O bound tasks due to their typically high idle times. We trigger an I/O task and during its idle time, the thread can start the execution of another task.To manage the execution flow we normally use an event loop. The event loop is responsible for maintaining an event queue, gathering items for the said queue, and handling them. We will show practical examples of this below.Cooperative Multi-TaskingAny task running in the event loop must be suspended when the event loop encounters either an I/O task or other long-running operations.In Python, these tasks automatically suspend themselves and allow other operations to run by yielding control to the event loop. On completion of the I/O operation, the task is resumed back to its original state (before it was paused) by the event loop.We can achieve this behavior through a coroutine object. In Python, we can do this using the async keyword before the function definition. Execution of this coroutine results in a coroutine object.async def this_is_a_coroutine_func():     # .....The Coroutine FunctionThe coroutine function is an asynchronous function that is able to give up control to its caller without it losing its original state. A coroutine function must be awaited using the await keyword. It can wait on events, return the respective result on completion, or raise an exception.When Python encounters an await, it will pause the execution of the coroutine at that point and passes control to the event loop. The event loop will pass back control to the coroutine when an event occurs such as a timeout event or a completion event.For the coroutine object to be executed, it needs to be wrapped in a Future object and passed to a running event loop.We can execute a coroutine in an event loop as follows:loop.run_until_complete(some_coroutine_task)Let us write our first asynchronous program.In the above program, we define our coroutine object say_hello() as a function that prints Hello, wait 1 second, and then prints World. Note that we are defining the coroutine using the async def keywords. Inside our coroutine, we are also calling another coroutine (asyncio.sleep); thus, we need to await this coroutine.We define the event loop and execute our coroutine in the event loop until it is completed. When the event loop starts execution, we will see the first print statement is displayed. As the execution hits the sleep step, the event loop pauses the execution and awaits its completion. During this time, the event loop can start processing another task.On completion of the asyncio.sleep operation, the event loop resumes the task to its original state and it proceeds by executing the last print statement.In summary:The event loop is initializedCoroutine submitted to the event loop as a Future objectThe Future object’s state is set to pendingThe event loop starts executionThe coroutine executed the first print and the async sleepThe coroutine status is changed to suspended and control is passed to the event loopAfter 1 second, the coroutine is resumedThe next print is executed and the coroutine completesControl is returned to the event loopFuture ObjectsA Future is an object that controls a function and returns its results on completion. The Future object enables us to use several control operations to manage coroutines. Some available functionality includes:cancel() — cancels a pending Futuredone() —returns True if the Future was completed or canceledresult() —returns the result of Futureexception() — returns any exception that happened during the execution of Futureadd_done_callback() — executes a callback function on Future completionTaskA task is a subclass of a Future that is used to manage the execution of a coroutine in an event loop.A coroutine must be wrapped in a Task before it can be executed in an event loop. We can achieve this using the asyncio.create_task().We can also wait for a task/set of tasks to complete using the asyncio.wait. This provides us with the functionality to wait for all passed coroutines to finish before proceeding.In the above program, we are creating a list of Tasks and then executing them in an event loop using the asyncio.wait function. At any point, we have access to all Tasks which have been completed and those which are still pending.The wait function also provides a timeout functionality. Using the timeout parameter we can specify how long we will wait for the coroutines to finish. If any coroutine has not been completed after the timeout has elapsed, the event loop will pause it and it will remain pending.We can access the pending Tasks and call the cancel() function to kill them. Moreover, we can also use the asyncio.wait_for() function which also waits for the coroutines with a timeout, but automatically cancels any pending tasks after the respective timeout has elapsed.Running in Multi-threadsThe same code structure can also be used to execute multiple coroutines with multi-threading.We create the blocking target function that performs our logic (in this case, we are squaring every number). We create a coroutine object that accepts an event loop and a ThreadPool which executes a number of coroutines using multi-threading.In this example, instead of asyncio.wait, we are using asyncio.gather. The gather function is more high-level and mainly focuses on grouping the results. The wait function does not give us the results directly, rather, we have to manually collect them using the .results() function.ConclusionAsynchronous programming can be intimidating at first, especially to new developers. Nonetheless, Python offers several libraries that facilitate how we build, interact, and integrate async operations in our programs. In this post, we introduced and discussed the basic concepts of asynchronous programming to get you started. There are more advanced concepts and functions around the async and await keywords in Python. I highly encourage you to continue reading up on this topic and practice with your own use-cases.Did you enjoy this post? If yes, perhaps you might want to consider becoming a member to support me and your other favorite writers.Join Medium with my referral link - David FarrugiaAs a Medium member, a portion of your membership fee goes to writers you read, and you get full access to every story…david-farrugia.medium.comWant to buy me a coffee?Pay David Farrugia using PayPal.MeIf you accept cookies, we’ll use them to improve and customize your experience and enable our partners to show you…paypal.meWant to Get in Touch?I would love to hear your thoughts on the topic, or anything AI really. Drop me an email at davidfarrugia53@gmail.com should you wish to get in touch.Linkedin — TwitterPythonProgrammingDevelopmentTechnologySoftware Development----2FollowWritten by David Farrugia805 Followers·Writer for Towards Data ScienceData Scientist | AI Enthusiast and Researcher | Talks about Python, AI, and Data. Get in touch — davidfarrugia53@gmail.comFollowMore from David Farrugia and Towards Data ScienceDavid FarrugiainTowards Data ScienceAutomated Feature Engineering in PythonA guide to augmenting your dataset with new and informative features using Upgini·5 min read·May 2--1Khuyen TraninTowards Data ScienceStop Hard Coding in a Data Science Project — Use Config Files InsteadAnd How to Efficiently Interact with Config Files in Python·6 min read·May 26--20Jacob Marks, Ph.D.inTowards Data ScienceHow I Turned My Company’s Docs into a Searchable Database with OpenAIAnd how you can do the same with your docs15 min read·Apr 25--48David FarrugiainTowards Data ScienceIntroducing Python’s Magic MethodsA hands-on guide to exploiting the power of dunder functions for better programming·7 min read·May 24--1See all from David FarrugiaSee all from Towards Data ScienceRecommended from MediumLove SharmainDev GeniusSystem Design Blueprint: The Ultimate GuideDeveloping a robust, scalable, and efficient system can be daunting. However, understanding the key concepts and components can make the…·9 min read·Apr 20--31Esteban ThilliezCommand Pattern in PythonDecouple objects that invoke operations from objects that perform those operations.·5 min read·Feb 16--ListsCoding & Development11 stories·15 savesGeneral Coding Knowledge20 stories·27 savesIt's never too late or early to start something10 stories·9 savesChatGPT20 stories·13 savesThomas RouchinBetter ProgrammingProfiling and Multiprocessing in PythonLeverage the Chrome Tracing tool to spot bottlenecks and the mpire Python library to significantly speed up your Python apps!·7 min read·Feb 6--Dominik PolzerinTowards Data ScienceAll You Need to Know to Build Your First LLM AppA step-by-step tutorial to document loaders, embeddings, vector stores and prompt templates·25 min read·6 days ago--6Xiaoxu GaoinTowards Data ScienceFrom Novice to Expert: How to Write a Configuration file in PythonTreat config file like your production code·9 min read·Dec 28, 2020--14Marcin KozakinTowards Data ScienceBuilding Generator Pipelines in PythonThis article proposes an elegant way to build generator pipelines·12 min read·Oct 19, 2022--3See more recommendationsHelpStatusWritersBlogCareersPrivacyTermsAboutText to speechTeams\n",
      "\n",
      "\n",
      "\n",
      "\n",
      "\n",
      "\n",
      "\n",
      "\n",
      "\n",
      "\n",
      "\n",
      "\n",
      "\n",
      "\n",
      "\n",
      "\n",
      "\n",
      "\n",
      "\n",
      "\n",
      "\n",
      "\n",
      "\n",
      "\n",
      "\n",
      "\n",
      "\n",
      "\n",
      "\n",
      "\n",
      "\n",
      "\n",
      "\n"
     ]
    }
   ],
   "source": [
    "print(soup.get_text())"
   ]
  },
  {
   "cell_type": "code",
   "execution_count": null,
   "id": "f7964af6",
   "metadata": {},
   "outputs": [],
   "source": []
  },
  {
   "cell_type": "code",
   "execution_count": null,
   "id": "faf16915",
   "metadata": {},
   "outputs": [],
   "source": []
  },
  {
   "cell_type": "code",
   "execution_count": null,
   "id": "6f821e68",
   "metadata": {},
   "outputs": [],
   "source": []
  },
  {
   "cell_type": "code",
   "execution_count": 113,
   "id": "89c5e907",
   "metadata": {
    "ExecuteTime": {
     "end_time": "2023-06-28T08:35:47.630849Z",
     "start_time": "2023-06-28T08:35:47.619241Z"
    }
   },
   "outputs": [],
   "source": [
    "#Importing libraries\n",
    "from bs4 import BeautifulSoup\n",
    "import urllib\n",
    "from urllib import request\n",
    "import urllib.request as ur     "
   ]
  },
  {
   "cell_type": "code",
   "execution_count": 114,
   "id": "756c5525",
   "metadata": {
    "ExecuteTime": {
     "end_time": "2023-06-28T08:36:16.686184Z",
     "start_time": "2023-06-28T08:35:50.883833Z"
    }
   },
   "outputs": [
    {
     "name": "stdout",
     "output_type": "stream",
     "text": [
      "Enter url :https://techoid.co/contact-us\n",
      " This is the website link that you entered https://techoid.co/contact-us\n",
      "Website Title is : Contact Us | Techoid\n",
      "CONTENT : Album Cover Design, Banner Ads, Book Design, Brochure Design, Building Information Modeling, Brand Style Design, Business & Stationary, Cartoon & Comics, Car wraps, Catalog Design, Game Design, Info Graphics Design, Interior Design, Invitation Design, Landscape Design, Logo Design, Menu Design, Packaging Design, Pattern Design, Photoshop Editing, Podcast Cover, Art Portraits, Postcard Design, Poster Design, Presentation Design, Social Media Design, Story boards, Tattoo Design, Trade Booth Design, Tshirts & Merchandise, Twitch Store, Vector Tracing, Flyer Design\n",
      "<h1 class=\"elementor-heading-title elementor-size-default\">Contact us</h1>\n",
      "['Contact us']\n",
      "<h1 class=\"elementor-heading-title elementor-size-default\">Techoid Now</h1>\n",
      "['Techoid Now']\n"
     ]
    }
   ],
   "source": [
    "# Getting input for webiste from user\n",
    "urlinput = input(\"Enter url :\")\n",
    "print(\" This is the website link that you entered\", urlinput)\n",
    "\n",
    "# For extracting specific tags from webpage\n",
    "def getTags(tag):\n",
    "  s = ur.urlopen(urlinput)\n",
    "  soup = BeautifulSoup(s.read())\n",
    "  return soup.findAll(tag)\n",
    "\n",
    "# For extracting specific title & meta description from webpage\n",
    "def titleandmetaTags():\n",
    "    s = ur.urlopen(urlinput)\n",
    "    soup = BeautifulSoup(s.read())\n",
    "    #----- Extracting Title from website ------#\n",
    "    title = soup.title.string\n",
    "    print ('Website Title is :', title)\n",
    "    #-----  Extracting Meta description from website ------#\n",
    "    meta_description = soup.find_all('meta')\n",
    "    for tag in meta_description:\n",
    "        if 'name' in tag.attrs.keys() and tag.attrs['name'].strip().lower() in ['description', 'keywords']:\n",
    "            #print ('NAME    :',tag.attrs['name'].lower())\n",
    "            print ('CONTENT :',tag.attrs['content'])\n",
    "\n",
    "#------------- Main ---------------#\n",
    "if __name__ == '__main__':\n",
    "  titleandmetaTags()\n",
    "  tags = getTags('h1')\n",
    "  for tag in tags:\n",
    "     print(tag) # display tags \n",
    "     print(tag.contents) # display contents of the tags\n",
    "        "
   ]
  },
  {
   "cell_type": "code",
   "execution_count": null,
   "id": "dc2986e4",
   "metadata": {},
   "outputs": [],
   "source": []
  },
  {
   "cell_type": "code",
   "execution_count": 23,
   "id": "b1eac538",
   "metadata": {
    "ExecuteTime": {
     "end_time": "2023-06-28T06:05:15.605939Z",
     "start_time": "2023-06-28T06:05:15.600025Z"
    }
   },
   "outputs": [],
   "source": [
    "# Importing libraries\n",
    "from bs4 import BeautifulSoup\n",
    "import urllib\n",
    "from urllib import request\n",
    "import urllib.request as ur"
   ]
  },
  {
   "cell_type": "code",
   "execution_count": 24,
   "id": "1c8efef1",
   "metadata": {
    "ExecuteTime": {
     "end_time": "2023-06-28T06:05:44.662449Z",
     "start_time": "2023-06-28T06:05:32.223205Z"
    }
   },
   "outputs": [
    {
     "name": "stdout",
     "output_type": "stream",
     "text": [
      "Enter url :https://techoid.co/contact-us\n",
      " This is the website link that you entered https://techoid.co/contact-us\n",
      "Website Title is : Python Lists\n",
      "CONTENT : HTML, Python, CSS, SQL, JavaScript, How to, PHP, Java, C, C++, C#, jQuery, Bootstrap, Colors, W3.CSS, XML, MySQL, Icons, NodeJS, React, Graphics, Angular, R, AI, Git, Data Science, Code Game, Tutorials, Programming, Web Development, Training, Learning, Quiz, Exercises, Courses, Lessons, References, Examples, Learn to code, Source code, Demos, Tips, Website\n",
      "CONTENT : Well organized and easy to understand Web building tutorials with lots of examples of how to use HTML, CSS, JavaScript, SQL, Python, PHP, Bootstrap, Java, XML and more.\n",
      "List of headings from headingtags function h1, h2, h3, h4, h5, h6 :\n",
      "h1 Contact us\n",
      "h3 Email\n",
      "h3 info@techoid.co\n",
      "h3 Call / Whatsapp\n",
      "h3 +92 311 0206987\n",
      "h3 Request a Meeting\n",
      "h3 Make an appointment\n",
      "h3 Visit\n",
      "h3 Office # C-2, 3rd floor, Osif Center, Main University Road,Block 13-A Gulshan-e-Iqbal,Karachi, Pakistan\n",
      "h2 Inquire about your project\n",
      "h1 Techoid Now\n",
      "h2 Connect with us\n",
      "h3 Follow us on social media to stay up to date on our events:\n",
      "h4 Subscribe to our newsletter\n",
      "h4 Services\n",
      "h4 Quick Links\n",
      "h4 Get in Touch\n",
      "h2 Thank You for Subscribing\n",
      "h2 Fill out the form to request a demo.\n",
      "h2 Request a 30-minute demo today and see our software in action. We'll get in touch with you ASAP. Please enter the form fields as accurately as possible.\n",
      " Here are the tags from getTags function: [<a href=\"https://techoid.co\" rel=\"home\" title=\"Techoid\">Techoid</a>]\n",
      " Here are the tags from getTags function: ['Interpret your project. Our skilled experts will examine the details and get back to you to determine the subsequent step.']\n",
      " Here are the tags from getTags function: ['Copyright © 2018-2023, All Rights Reserved']\n"
     ]
    }
   ],
   "source": [
    "# Getting input for webiste from user\n",
    "url_input = input(\"Enter url :\")\n",
    "print(\" This is the website link that you entered\", url_input)\n",
    "\n",
    "\n",
    "# For extracting specific tags from webpage\n",
    "def getTags(tag):\n",
    "  s = ur.urlopen(url_input)\n",
    "  soup = BeautifulSoup(s.read())\n",
    "  return soup.findAll(tag)\n",
    "\n",
    "# For extracting all h1-h6 heading tags from webpage\n",
    "def headingTags(headingtags):\n",
    "  h = ur.urlopen(url_input)\n",
    "  soup = BeautifulSoup(h.read())\n",
    "  print(\"List of headings from headingtags function h1, h2, h3, h4, h5, h6 :\")\n",
    "  for heading in soup.find_all([\"h1\", \"h2\", \"h3\", \"h4\", \"h5\", \"h6\"]):\n",
    "    print(heading.name + ' ' + heading.text.strip())\n",
    "\n",
    "# For extracting specific title & meta description from webpage\n",
    "def titleandmetaTags():\n",
    "    s = ur.urlopen(urlinput)\n",
    "    soup = BeautifulSoup(s.read())\n",
    "    #----- Extracting Title from website ------#\n",
    "    title = soup.title.string\n",
    "    print ('Website Title is :', title)\n",
    "    #-----  Extracting Meta description from website ------#\n",
    "    meta_description = soup.find_all('meta')\n",
    "    for tag in meta_description:\n",
    "        if 'name' in tag.attrs.keys() and tag.attrs['name'].strip().lower() in ['description', 'keywords']:\n",
    "            #print ('NAME    :',tag.attrs['name'].lower())\n",
    "            print ('CONTENT :',tag.attrs['content'])\n",
    "\n",
    "\n",
    "\n",
    "#------------- Main ---------------#\n",
    "if __name__ == '__main__':\n",
    "  titleandmetaTags()\n",
    "  tags = getTags('p')\n",
    "  headtags = headingTags('h1')\n",
    "  for tag in tags:\n",
    "     print(\" Here are the tags from getTags function:\", tag.contents)\n",
    "        \n"
   ]
  },
  {
   "cell_type": "code",
   "execution_count": null,
   "id": "3fa3bbc3",
   "metadata": {},
   "outputs": [],
   "source": []
  },
  {
   "cell_type": "code",
   "execution_count": 25,
   "id": "1df3a3b9",
   "metadata": {
    "ExecuteTime": {
     "end_time": "2023-06-28T06:06:57.396612Z",
     "start_time": "2023-06-28T06:06:28.552986Z"
    }
   },
   "outputs": [
    {
     "name": "stdout",
     "output_type": "stream",
     "text": [
      "Enter url :https://techoid.co/\n",
      "The website link that you entered is: https://techoid.co/\n",
      "\n",
      " The alt tag along with the text in the web page\n",
      "[<img alt=\"techoid.co\" data-lazy-src=\"https://techoid.co/wp-content/uploads/elementor/thumbs/techoid.co_-p1qnbeammunnhcxquhzsb110je32a8etpsdnmlsxjs.png\" src=\"data:image/svg+xml,%3Csvg%20xmlns='http://www.w3.org/2000/svg'%20viewBox='0%200%200%200'%3E%3C/svg%3E\" title=\"techoid.co\"/>, <img alt=\"techoid.co\" src=\"https://techoid.co/wp-content/uploads/elementor/thumbs/techoid.co_-p1qnbeammunnhcxquhzsb110je32a8etpsdnmlsxjs.png\" title=\"techoid.co\"/>, <img alt=\"techoid.co\" data-lazy-src=\"https://techoid.co/wp-content/uploads/elementor/thumbs/techoid.co_-p1qnbeammunnhcxquhzsb110je32a8etpsdnmlsxjs.png\" src=\"data:image/svg+xml,%3Csvg%20xmlns='http://www.w3.org/2000/svg'%20viewBox='0%200%200%200'%3E%3C/svg%3E\" title=\"techoid.co\"/>, <img alt=\"techoid.co\" src=\"https://techoid.co/wp-content/uploads/elementor/thumbs/techoid.co_-p1qnbeammunnhcxquhzsb110je32a8etpsdnmlsxjs.png\" title=\"techoid.co\"/>, <img alt=\"\" class=\"attachment-thumbnail size-thumbnail\" data-lazy-src=\"https://techoid.co/wp-content/uploads/2021/03/web.png\" height=\"150\" loading=\"lazy\" src=\"data:image/svg+xml,%3Csvg%20xmlns='http://www.w3.org/2000/svg'%20viewBox='0%200%20150%20150'%3E%3C/svg%3E\" width=\"150\"/>, <img alt=\"\" class=\"attachment-thumbnail size-thumbnail\" height=\"150\" loading=\"lazy\" src=\"https://techoid.co/wp-content/uploads/2021/03/web.png\" width=\"150\"/>, <img alt=\"\" class=\"attachment-thumbnail size-thumbnail\" data-lazy-src=\"https://techoid.co/wp-content/uploads/2021/03/mob.png\" height=\"150\" loading=\"lazy\" src=\"data:image/svg+xml,%3Csvg%20xmlns='http://www.w3.org/2000/svg'%20viewBox='0%200%20150%20150'%3E%3C/svg%3E\" width=\"150\"/>, <img alt=\"\" class=\"attachment-thumbnail size-thumbnail\" height=\"150\" loading=\"lazy\" src=\"https://techoid.co/wp-content/uploads/2021/03/mob.png\" width=\"150\"/>, <img alt=\"\" class=\"attachment-thumbnail size-thumbnail\" data-lazy-src=\"https://techoid.co/wp-content/uploads/2021/03/marketing.png\" height=\"150\" loading=\"lazy\" src=\"data:image/svg+xml,%3Csvg%20xmlns='http://www.w3.org/2000/svg'%20viewBox='0%200%20150%20150'%3E%3C/svg%3E\" width=\"150\"/>, <img alt=\"\" class=\"attachment-thumbnail size-thumbnail\" height=\"150\" loading=\"lazy\" src=\"https://techoid.co/wp-content/uploads/2021/03/marketing.png\" width=\"150\"/>, <img alt=\"\" class=\"attachment-thumbnail size-thumbnail\" data-lazy-src=\"https://techoid.co/wp-content/uploads/2021/03/iot.png\" height=\"150\" loading=\"lazy\" src=\"data:image/svg+xml,%3Csvg%20xmlns='http://www.w3.org/2000/svg'%20viewBox='0%200%20150%20150'%3E%3C/svg%3E\" width=\"150\"/>, <img alt=\"\" class=\"attachment-thumbnail size-thumbnail\" height=\"150\" loading=\"lazy\" src=\"https://techoid.co/wp-content/uploads/2021/03/iot.png\" width=\"150\"/>, <img alt=\"\" class=\"attachment-full size-full\" data-lazy-src=\"https://techoid.co/wp-content/uploads/2021/03/ai-new.png\" height=\"150\" loading=\"lazy\" src=\"data:image/svg+xml,%3Csvg%20xmlns='http://www.w3.org/2000/svg'%20viewBox='0%200%20150%20150'%3E%3C/svg%3E\" width=\"150\"/>, <img alt=\"\" class=\"attachment-full size-full\" height=\"150\" loading=\"lazy\" src=\"https://techoid.co/wp-content/uploads/2021/03/ai-new.png\" width=\"150\"/>, <img alt=\"\" class=\"attachment-full size-full\" data-lazy-src=\"https://techoid.co/wp-content/uploads/2021/02/graphics-01-01.png\" height=\"150\" loading=\"lazy\" src=\"data:image/svg+xml,%3Csvg%20xmlns='http://www.w3.org/2000/svg'%20viewBox='0%200%20150%20150'%3E%3C/svg%3E\" width=\"150\"/>, <img alt=\"\" class=\"attachment-full size-full\" height=\"150\" loading=\"lazy\" src=\"https://techoid.co/wp-content/uploads/2021/02/graphics-01-01.png\" width=\"150\"/>, <img alt=\"\" class=\"attachment-thumbnail size-thumbnail\" data-lazy-src=\"https://techoid.co/wp-content/uploads/2021/02/On_Time_and_Budget-01-01.png\" height=\"150\" loading=\"lazy\" src=\"data:image/svg+xml,%3Csvg%20xmlns='http://www.w3.org/2000/svg'%20viewBox='0%200%20150%20150'%3E%3C/svg%3E\" width=\"150\"/>, <img alt=\"\" class=\"attachment-thumbnail size-thumbnail\" height=\"150\" loading=\"lazy\" src=\"https://techoid.co/wp-content/uploads/2021/02/On_Time_and_Budget-01-01.png\" width=\"150\"/>, <img alt=\"\" class=\"attachment-thumbnail size-thumbnail\" data-lazy-src=\"https://techoid.co/wp-content/uploads/2021/02/Discovry_Phase-01-01.png\" height=\"150\" loading=\"lazy\" src=\"data:image/svg+xml,%3Csvg%20xmlns='http://www.w3.org/2000/svg'%20viewBox='0%200%20150%20150'%3E%3C/svg%3E\" width=\"150\"/>, <img alt=\"\" class=\"attachment-thumbnail size-thumbnail\" height=\"150\" loading=\"lazy\" src=\"https://techoid.co/wp-content/uploads/2021/02/Discovry_Phase-01-01.png\" width=\"150\"/>, <img alt=\"\" class=\"attachment-thumbnail size-thumbnail\" data-lazy-src=\"https://techoid.co/wp-content/uploads/2021/02/MVP_DEVLOPMENY-01-01.png\" height=\"150\" loading=\"lazy\" src=\"data:image/svg+xml,%3Csvg%20xmlns='http://www.w3.org/2000/svg'%20viewBox='0%200%20150%20150'%3E%3C/svg%3E\" width=\"150\"/>, <img alt=\"\" class=\"attachment-thumbnail size-thumbnail\" height=\"150\" loading=\"lazy\" src=\"https://techoid.co/wp-content/uploads/2021/02/MVP_DEVLOPMENY-01-01.png\" width=\"150\"/>, <img alt=\"\" class=\"attachment-thumbnail size-thumbnail\" data-lazy-src=\"https://techoid.co/wp-content/uploads/2021/02/Talorate_your_bussiness-01-01.png\" height=\"150\" loading=\"lazy\" src=\"data:image/svg+xml,%3Csvg%20xmlns='http://www.w3.org/2000/svg'%20viewBox='0%200%20150%20150'%3E%3C/svg%3E\" width=\"150\"/>, <img alt=\"\" class=\"attachment-thumbnail size-thumbnail\" height=\"150\" loading=\"lazy\" src=\"https://techoid.co/wp-content/uploads/2021/02/Talorate_your_bussiness-01-01.png\" width=\"150\"/>, <img alt=\"\" class=\"attachment-thumbnail size-thumbnail\" data-lazy-src=\"https://techoid.co/wp-content/uploads/2021/02/Dedicated_Support-01-01.png\" height=\"150\" loading=\"lazy\" src=\"data:image/svg+xml,%3Csvg%20xmlns='http://www.w3.org/2000/svg'%20viewBox='0%200%20150%20150'%3E%3C/svg%3E\" width=\"150\"/>, <img alt=\"\" class=\"attachment-thumbnail size-thumbnail\" height=\"150\" loading=\"lazy\" src=\"https://techoid.co/wp-content/uploads/2021/02/Dedicated_Support-01-01.png\" width=\"150\"/>, <img alt=\"\" class=\"attachment-thumbnail size-thumbnail\" data-lazy-src=\"https://techoid.co/wp-content/uploads/2021/02/IP_Protection-01-01.png\" height=\"150\" loading=\"lazy\" src=\"data:image/svg+xml,%3Csvg%20xmlns='http://www.w3.org/2000/svg'%20viewBox='0%200%20150%20150'%3E%3C/svg%3E\" width=\"150\"/>, <img alt=\"\" class=\"attachment-thumbnail size-thumbnail\" height=\"150\" loading=\"lazy\" src=\"https://techoid.co/wp-content/uploads/2021/02/IP_Protection-01-01.png\" width=\"150\"/>, <img alt=\"\" class=\"attachment-large size-large\" data-lazy-sizes=\"(max-width: 350px) 100vw, 350px\" data-lazy-src=\"https://techoid.co/wp-content/uploads/2022/05/ALC-Tech-IBN-Digitaloid-designrush-01.png\" data-lazy-srcset=\"https://techoid.co/wp-content/uploads/2022/05/ALC-Tech-IBN-Digitaloid-designrush-01.png 350w, https://techoid.co/wp-content/uploads/2022/05/ALC-Tech-IBN-Digitaloid-designrush-01-242x300.png 242w\" height=\"433\" loading=\"lazy\" src=\"data:image/svg+xml,%3Csvg%20xmlns='http://www.w3.org/2000/svg'%20viewBox='0%200%20350%20433'%3E%3C/svg%3E\" width=\"350\"/>, <img alt=\"\" class=\"attachment-large size-large\" height=\"433\" loading=\"lazy\" sizes=\"(max-width: 350px) 100vw, 350px\" src=\"https://techoid.co/wp-content/uploads/2022/05/ALC-Tech-IBN-Digitaloid-designrush-01.png\" srcset=\"https://techoid.co/wp-content/uploads/2022/05/ALC-Tech-IBN-Digitaloid-designrush-01.png 350w, https://techoid.co/wp-content/uploads/2022/05/ALC-Tech-IBN-Digitaloid-designrush-01-242x300.png 242w\" width=\"350\"/>, <img alt=\"Barcode\" data-lazy-src=\"https://techoid.co/wp-content/uploads/elementor/thumbs/Barcode-p27m3payc387yow8y36mamx7avkme407tc9nsxfla4.png\" src=\"data:image/svg+xml,%3Csvg%20xmlns='http://www.w3.org/2000/svg'%20viewBox='0%200%200%200'%3E%3C/svg%3E\" title=\"Barcode\"/>, <img alt=\"Barcode\" src=\"https://techoid.co/wp-content/uploads/elementor/thumbs/Barcode-p27m3payc387yow8y36mamx7avkme407tc9nsxfla4.png\" title=\"Barcode\"/>, <img alt=\"Leathersoutlet\" data-lazy-src=\"https://techoid.co/wp-content/uploads/elementor/thumbs/Leathersoutlet-p27lxerul0m48o1aov9j3q3450l5v20wm71n58rgxo.png\" src=\"data:image/svg+xml,%3Csvg%20xmlns='http://www.w3.org/2000/svg'%20viewBox='0%200%200%200'%3E%3C/svg%3E\" title=\"Leathersoutlet\"/>, <img alt=\"Leathersoutlet\" src=\"https://techoid.co/wp-content/uploads/elementor/thumbs/Leathersoutlet-p27lxerul0m48o1aov9j3q3450l5v20wm71n58rgxo.png\" title=\"Leathersoutlet\"/>, <img alt=\"techoid.uk\" data-lazy-src=\"https://techoid.co/wp-content/uploads/elementor/thumbs/techoid.uk_-p387cijydsqugtipphu7rnr71uf9g8cekkjo4c4dq4.png\" src=\"data:image/svg+xml,%3Csvg%20xmlns='http://www.w3.org/2000/svg'%20viewBox='0%200%200%200'%3E%3C/svg%3E\" title=\"techoid.uk\"/>, <img alt=\"techoid.uk\" src=\"https://techoid.co/wp-content/uploads/elementor/thumbs/techoid.uk_-p387cijydsqugtipphu7rnr71uf9g8cekkjo4c4dq4.png\" title=\"techoid.uk\"/>, <img alt=\"Barcode\" data-lazy-src=\"https://techoid.co/wp-content/uploads/elementor/thumbs/Barcode-p27m3payc387yow8y36mamx7avkme407tc9nsxfla4.png\" src=\"data:image/svg+xml,%3Csvg%20xmlns='http://www.w3.org/2000/svg'%20viewBox='0%200%200%200'%3E%3C/svg%3E\" title=\"Barcode\"/>, <img alt=\"Barcode\" src=\"https://techoid.co/wp-content/uploads/elementor/thumbs/Barcode-p27m3payc387yow8y36mamx7avkme407tc9nsxfla4.png\" title=\"Barcode\"/>, <img alt=\"Patty R. Schlosser\" data-lazy-src=\"https://techoid.co/wp-content/uploads/2021/02/pexels-photo-774909.jpeg\" src=\"data:image/svg+xml,%3Csvg%20xmlns='http://www.w3.org/2000/svg'%20viewBox='0%200%200%200'%3E%3C/svg%3E\"/>, <img alt=\"Patty R. Schlosser\" src=\"https://techoid.co/wp-content/uploads/2021/02/pexels-photo-774909.jpeg\"/>, <img alt=\"Debra D. Foreman\" data-lazy-src=\"https://techoid.co/wp-content/uploads/2021/01/team05-1.jpg\" src=\"data:image/svg+xml,%3Csvg%20xmlns='http://www.w3.org/2000/svg'%20viewBox='0%200%200%200'%3E%3C/svg%3E\"/>, <img alt=\"Debra D. Foreman\" src=\"https://techoid.co/wp-content/uploads/2021/01/team05-1.jpg\"/>, <img alt=\"Gary C. Tow\" data-lazy-src=\"https://techoid.co/wp-content/uploads/2021/01/team03-2.jpg\" src=\"data:image/svg+xml,%3Csvg%20xmlns='http://www.w3.org/2000/svg'%20viewBox='0%200%200%200'%3E%3C/svg%3E\"/>, <img alt=\"Gary C. Tow\" src=\"https://techoid.co/wp-content/uploads/2021/01/team03-2.jpg\"/>, <img alt=\"\" class=\"attachment-thumbnail size-thumbnail\" data-lazy-src=\"https://techoid.co/wp-content/uploads/2021/01/team05-1.jpg\" height=\"130\" loading=\"lazy\" src=\"data:image/svg+xml,%3Csvg%20xmlns='http://www.w3.org/2000/svg'%20viewBox='0%200%20130%20130'%3E%3C/svg%3E\" width=\"130\"/>, <img alt=\"\" class=\"attachment-thumbnail size-thumbnail\" height=\"130\" loading=\"lazy\" src=\"https://techoid.co/wp-content/uploads/2021/01/team05-1.jpg\" width=\"130\"/>, <img alt=\"\" class=\"attachment-thumbnail size-thumbnail\" data-lazy-src=\"https://techoid.co/wp-content/uploads/2021/02/pexels-photo-774909-150x150.jpeg\" height=\"150\" loading=\"lazy\" src=\"data:image/svg+xml,%3Csvg%20xmlns='http://www.w3.org/2000/svg'%20viewBox='0%200%20150%20150'%3E%3C/svg%3E\" width=\"150\"/>, <img alt=\"\" class=\"attachment-thumbnail size-thumbnail\" height=\"150\" loading=\"lazy\" src=\"https://techoid.co/wp-content/uploads/2021/02/pexels-photo-774909-150x150.jpeg\" width=\"150\"/>, <img alt=\"ibad\" data-lazy-src=\"https://techoid.co/wp-content/uploads/elementor/thumbs/ibad-p3m0tq838pktbcj0zc3xhsbqdpdry7spgkbqrfx384.jpg\" src=\"data:image/svg+xml,%3Csvg%20xmlns='http://www.w3.org/2000/svg'%20viewBox='0%200%200%200'%3E%3C/svg%3E\" title=\"ibad\"/>, <img alt=\"ibad\" src=\"https://techoid.co/wp-content/uploads/elementor/thumbs/ibad-p3m0tq838pktbcj0zc3xhsbqdpdry7spgkbqrfx384.jpg\" title=\"ibad\"/>, <img alt=\"Kamran Ansari\" data-lazy-src=\"https://techoid.co/wp-content/uploads/elementor/thumbs/Kamran-Ansari-p389nkkfriwv5i0l7vqwi5ling8pwz6t9a15xuxuac.jpg\" src=\"data:image/svg+xml,%3Csvg%20xmlns='http://www.w3.org/2000/svg'%20viewBox='0%200%200%200'%3E%3C/svg%3E\" title=\"Kamran Ansari\"/>, <img alt=\"Kamran Ansari\" src=\"https://techoid.co/wp-content/uploads/elementor/thumbs/Kamran-Ansari-p389nkkfriwv5i0l7vqwi5ling8pwz6t9a15xuxuac.jpg\" title=\"Kamran Ansari\"/>, <img alt=\"Case Study - Triplona\" data-lazy-src=\"https://techoid.co/wp-content/uploads/elementor/thumbs/Case-Study-Triplona-p24d5vl1acalqnwhdd95zyz4f59m7tagcn0093dsvw.png\" src=\"data:image/svg+xml,%3Csvg%20xmlns='http://www.w3.org/2000/svg'%20viewBox='0%200%200%200'%3E%3C/svg%3E\" title=\"Case Study – Triplona\"/>, <img alt=\"Case Study - Triplona\" src=\"https://techoid.co/wp-content/uploads/elementor/thumbs/Case-Study-Triplona-p24d5vl1acalqnwhdd95zyz4f59m7tagcn0093dsvw.png\" title=\"Case Study – Triplona\"/>, <img alt=\"Case Study - SheTravels1\" data-lazy-src=\"https://techoid.co/wp-content/uploads/elementor/thumbs/Case-Study-SheTravels1-p27p4k03se8mh0s4bn29jo1vu91us956g40xji1apo.png\" src=\"data:image/svg+xml,%3Csvg%20xmlns='http://www.w3.org/2000/svg'%20viewBox='0%200%200%200'%3E%3C/svg%3E\" title=\"Case Study – SheTravels1\"/>, <img alt=\"Case Study - SheTravels1\" src=\"https://techoid.co/wp-content/uploads/elementor/thumbs/Case-Study-SheTravels1-p27p4k03se8mh0s4bn29jo1vu91us956g40xji1apo.png\" title=\"Case Study – SheTravels1\"/>, <img alt=\"Case Study - Triplona\" data-lazy-src=\"https://techoid.co/wp-content/uploads/elementor/thumbs/Case-Study-Triplona-p24d5vl1acalqnwhdd95zyz4f59m7tagcn0093dsvw.png\" src=\"data:image/svg+xml,%3Csvg%20xmlns='http://www.w3.org/2000/svg'%20viewBox='0%200%200%200'%3E%3C/svg%3E\" title=\"Case Study – Triplona\"/>, <img alt=\"Case Study - Triplona\" src=\"https://techoid.co/wp-content/uploads/elementor/thumbs/Case-Study-Triplona-p24d5vl1acalqnwhdd95zyz4f59m7tagcn0093dsvw.png\" title=\"Case Study – Triplona\"/>]\n"
     ]
    }
   ],
   "source": [
    "import urllib.request as ur\n",
    "\n",
    "url_input = input(\"Enter url :\")\n",
    "print(\"The website link that you entered is:\", url_input)\n",
    "\n",
    "def alt_tag():\n",
    "  url =  ur.urlopen(url_input)\n",
    "  htmlSource = url.read()\n",
    "  url.close()\n",
    "  soup = BeautifulSoup(htmlSource)\n",
    "  print('\\n The alt tag along with the text in the web page')\n",
    "  print(soup.find_all('img',alt= True))\n",
    "  \n",
    "\n",
    "\n",
    "#------------- Main ---------------#\n",
    "if __name__ == '__main__':\n",
    "  alt_tag()\n"
   ]
  },
  {
   "cell_type": "code",
   "execution_count": 26,
   "id": "312bd13a",
   "metadata": {
    "ExecuteTime": {
     "end_time": "2023-06-28T06:07:12.313239Z",
     "start_time": "2023-06-28T06:07:12.302953Z"
    }
   },
   "outputs": [
    {
     "data": {
      "text/plain": [
       "[<img alt=\"\" class=\"l fa bx by bz cw\" height=\"32\" loading=\"lazy\" role=\"presentation\" src=\"https://miro.medium.com/v2/resize:fill:64:64/1*dmbNkD5D-u45r44go_cf0g.png\" width=\"32\"/>,\n",
       " <img alt=\"David Farrugia\" class=\"l fa bx dc dd cw\" height=\"44\" loading=\"lazy\" src=\"https://miro.medium.com/v2/resize:fill:88:88/1*GfHlZ_2XfWdKOE2iBCEOBg.png\" width=\"44\"/>,\n",
       " <img alt=\"Towards Data Science\" class=\"l fa bx bq jm cw\" height=\"24\" loading=\"lazy\" src=\"https://miro.medium.com/v2/resize:fill:48:48/1*CJe3891yB1A1mzMdqemkdg.jpeg\" width=\"24\"/>,\n",
       " <img alt=\"\" class=\"bg og oh c\" height=\"467\" loading=\"lazy\" role=\"presentation\" width=\"700\"/>,\n",
       " <img alt=\"David Farrugia\" class=\"l fa bx um un cw\" height=\"72\" loading=\"lazy\" src=\"https://miro.medium.com/v2/resize:fill:144:144/1*GfHlZ_2XfWdKOE2iBCEOBg.png\" width=\"72\"/>,\n",
       " <img alt=\"Towards Data Science\" class=\"l fa bx by bz cw\" height=\"32\" loading=\"lazy\" src=\"https://miro.medium.com/v2/resize:fill:64:64/1*CJe3891yB1A1mzMdqemkdg.jpeg\" width=\"32\"/>,\n",
       " <img alt=\"\" class=\"bg yk yl ym yn yo\" loading=\"lazy\" role=\"presentation\" src=\"https://miro.medium.com/v2/resize:fit:1358/0*5slucSxj8jVfMuQe\"/>,\n",
       " <img alt=\"David Farrugia\" class=\"l fa bx yu yv cw\" height=\"20\" loading=\"lazy\" src=\"https://miro.medium.com/v2/resize:fill:40:40/1*GfHlZ_2XfWdKOE2iBCEOBg.png\" width=\"20\"/>,\n",
       " <img alt=\"\" class=\"bg yk yl ym yn yo\" loading=\"lazy\" role=\"presentation\" src=\"https://miro.medium.com/v2/resize:fit:1358/1*ARD8irFbRaBKRNlrFcL6HA.png\"/>,\n",
       " <img alt=\"Khuyen Tran\" class=\"l fa bx yu yv cw\" height=\"20\" loading=\"lazy\" src=\"https://miro.medium.com/v2/resize:fill:40:40/2*tiQVZEZxHMPcnVmEmN7UtA.jpeg\" width=\"20\"/>,\n",
       " <img alt=\"\" class=\"bg yk yl ym yn yo\" loading=\"lazy\" role=\"presentation\" src=\"https://miro.medium.com/v2/resize:fit:1358/1*rsp22rKwFDjiwwCcUly56Q.jpeg\"/>,\n",
       " <img alt=\"Jacob Marks, Ph.D.\" class=\"l fa bx yu yv cw\" height=\"20\" loading=\"lazy\" src=\"https://miro.medium.com/v2/resize:fill:40:40/1*yeOWVwqab7MArjMlb2x4jw@2x.jpeg\" width=\"20\"/>,\n",
       " <img alt=\"\" class=\"bg yk yl ym yn yo\" loading=\"lazy\" role=\"presentation\" src=\"https://miro.medium.com/v2/resize:fit:1358/0*Q9YFu3oWaAv3Qt9k\"/>,\n",
       " <img alt=\"David Farrugia\" class=\"l fa bx yu yv cw\" height=\"20\" loading=\"lazy\" src=\"https://miro.medium.com/v2/resize:fill:40:40/1*GfHlZ_2XfWdKOE2iBCEOBg.png\" width=\"20\"/>,\n",
       " <img alt=\"\" class=\"bg yk yl ym yn yo\" loading=\"lazy\" role=\"presentation\" src=\"https://miro.medium.com/v2/resize:fit:1358/1*QSFihi7zXbR5X915MDmKyQ.png\"/>,\n",
       " <img alt=\"Love Sharma\" class=\"l fa bx yu yv cw\" height=\"20\" loading=\"lazy\" src=\"https://miro.medium.com/v2/resize:fill:40:40/1*gv7c1x--XZDXDOIuS2re6g.png\" width=\"20\"/>,\n",
       " <img alt=\"Command Pattern in Python\" class=\"bg yk yl ym yn yo\" loading=\"lazy\" src=\"https://miro.medium.com/v2/resize:fit:1358/0*MqP73utCsd2O9NXZ\"/>,\n",
       " <img alt=\"Esteban Thilliez\" class=\"l fa bx yu yv cw\" height=\"20\" loading=\"lazy\" src=\"https://miro.medium.com/v2/resize:fill:40:40/1*sPkU-dWfO_U6_Om7knbXtQ.jpeg\" width=\"20\"/>,\n",
       " <img alt=\"\" class=\"\" height=\"48\" loading=\"lazy\" role=\"presentation\" src=\"https://miro.medium.com/v2/resize:fill:96:96/0*gzCeWxDtGmD23QR5\" width=\"48\"/>,\n",
       " <img alt=\"\" class=\"\" height=\"48\" loading=\"lazy\" role=\"presentation\" src=\"https://miro.medium.com/v2/resize:fill:96:96/1*di4WDrnS1F6_p9GWnxvPmg.png\" width=\"48\"/>,\n",
       " <img alt=\"\" class=\"\" height=\"48\" loading=\"lazy\" role=\"presentation\" src=\"https://miro.medium.com/v2/resize:fill:96:96/1*PzJLbFrFtNkqPsxielO8zA.jpeg\" width=\"48\"/>,\n",
       " <img alt=\"\" class=\"\" height=\"48\" loading=\"lazy\" role=\"presentation\" src=\"https://miro.medium.com/v2/resize:fill:96:96/1*zPtGTCNOwu1p3kzn_sZFVQ.png\" width=\"48\"/>,\n",
       " <img alt=\"\" class=\"\" height=\"48\" loading=\"lazy\" role=\"presentation\" src=\"https://miro.medium.com/v2/resize:fill:96:96/0*kQIvhDkl0ixPpv4z\" width=\"48\"/>,\n",
       " <img alt=\"\" class=\"\" height=\"48\" loading=\"lazy\" role=\"presentation\" src=\"https://miro.medium.com/v2/resize:fill:96:96/1*ERYx0IB1pN-5ZX98cKAoUw.png\" width=\"48\"/>,\n",
       " <img alt=\"\" class=\"\" height=\"48\" loading=\"lazy\" role=\"presentation\" src=\"https://miro.medium.com/v2/resize:fill:96:96/1*HgMsrKW_YnY2dpL6rPCKVw.jpeg\" width=\"48\"/>,\n",
       " <img alt=\"\" class=\"\" height=\"48\" loading=\"lazy\" role=\"presentation\" src=\"https://miro.medium.com/v2/resize:fill:96:96/1*q9qjA6vjzVE5ptrK7XZt-g.jpeg\" width=\"48\"/>,\n",
       " <img alt=\"woman standing in front of projection of code on a screen\" class=\"\" height=\"48\" loading=\"lazy\" src=\"https://miro.medium.com/v2/resize:fill:96:96/1*oedi3IdGdfPMrBz2R7iCtw.jpeg\" width=\"48\"/>,\n",
       " <img alt=\"\" class=\"\" height=\"48\" loading=\"lazy\" role=\"presentation\" src=\"https://miro.medium.com/v2/resize:fill:96:96/0*V3E5F6rH0O512mT3\" width=\"48\"/>,\n",
       " <img alt=\"\" class=\"\" height=\"48\" loading=\"lazy\" role=\"presentation\" src=\"https://miro.medium.com/v2/resize:fill:96:96/1*NQmmb6tdLZdSXfYv4Oli4w.png\" width=\"48\"/>,\n",
       " <img alt=\"\" class=\"\" height=\"48\" loading=\"lazy\" role=\"presentation\" src=\"https://miro.medium.com/v2/resize:fill:96:96/0*dpM2Yzu6u56rBwf7\" width=\"48\"/>,\n",
       " <img alt=\"\" class=\"bg yk yl ym yn yo\" loading=\"lazy\" role=\"presentation\" src=\"https://miro.medium.com/v2/resize:fit:1358/0*XDeCvwb-hbhcQsgR\"/>,\n",
       " <img alt=\"Thomas Rouch\" class=\"l fa bx yu yv cw\" height=\"20\" loading=\"lazy\" src=\"https://miro.medium.com/v2/resize:fill:40:40/1*bzXmGPw5ErdKoJZ6gYLBsw.jpeg\" width=\"20\"/>,\n",
       " <img alt=\"\" class=\"bg yk yl ym yn yo\" loading=\"lazy\" role=\"presentation\" src=\"https://miro.medium.com/v2/resize:fit:1358/1*njagJOgiT-VTJjQ18bugcw.png\"/>,\n",
       " <img alt=\"Dominik Polzer\" class=\"l fa bx yu yv cw\" height=\"20\" loading=\"lazy\" src=\"https://miro.medium.com/v2/resize:fill:40:40/1*KqpicOFO7jh7FXGjoJ2Bcg.jpeg\" width=\"20\"/>,\n",
       " <img alt=\"\" class=\"bg yk yl ym yn yo\" loading=\"lazy\" role=\"presentation\" src=\"https://miro.medium.com/v2/resize:fit:1358/0*PRum2sU6bsI1dUfD\"/>,\n",
       " <img alt=\"Xiaoxu Gao\" class=\"l fa bx yu yv cw\" height=\"20\" loading=\"lazy\" src=\"https://miro.medium.com/v2/resize:fill:40:40/1*BaKfxOYGD67OfCjGKwv8lw.jpeg\" width=\"20\"/>,\n",
       " <img alt=\"\" class=\"bg yk yl ym yn yo\" loading=\"lazy\" role=\"presentation\" src=\"https://miro.medium.com/v2/resize:fit:1358/0*R1aKD55IvgJbohBh\"/>,\n",
       " <img alt=\"Marcin Kozak\" class=\"l fa bx yu yv cw\" height=\"20\" loading=\"lazy\" src=\"https://miro.medium.com/v2/resize:fill:40:40/1*ifXzItb1yOI3T_TQFHRnQA.jpeg\" width=\"20\"/>]"
      ]
     },
     "execution_count": 26,
     "metadata": {},
     "output_type": "execute_result"
    }
   ],
   "source": [
    "\n",
    "# For reviewing alt tags in seperate lines\n",
    "soup.find_all('img',alt= True)\n",
    "     "
   ]
  },
  {
   "cell_type": "code",
   "execution_count": null,
   "id": "d8df70a4",
   "metadata": {},
   "outputs": [],
   "source": []
  },
  {
   "cell_type": "code",
   "execution_count": 27,
   "id": "1951464b",
   "metadata": {
    "ExecuteTime": {
     "end_time": "2023-06-28T06:07:31.700078Z",
     "start_time": "2023-06-28T06:07:30.616889Z"
    }
   },
   "outputs": [
    {
     "name": "stderr",
     "output_type": "stream",
     "text": [
      "C:\\Users\\Acer\\AppData\\Local\\Temp\\ipykernel_11248\\879787562.py:11: DeprecationWarning: The 'text' argument to find()-type methods is deprecated. Use 'string' instead.\n",
      "  text_paragraph = (''.join(s.findAll(text=True))for s in soup.findAll('p'))\n",
      "C:\\Users\\Acer\\AppData\\Local\\Temp\\ipykernel_11248\\879787562.py:15: DeprecationWarning: The 'text' argument to find()-type methods is deprecated. Use 'string' instead.\n",
      "  text_div = (''.join(s.findAll(text=True))for s in soup.findAll('div'))\n"
     ]
    }
   ],
   "source": [
    "\n",
    "import requests\n",
    "from bs4 import BeautifulSoup\n",
    "from collections import Counter\n",
    "from string import punctuation\n",
    "\n",
    "# Getting content from web page\n",
    "r = requests.get(\"https://techoid.co/contact-us\")\n",
    "soup = BeautifulSoup(r.content)\n",
    "\n",
    "# For getting words within paragrphs\n",
    "text_paragraph = (''.join(s.findAll(text=True))for s in soup.findAll('p'))\n",
    "count_paragraph = Counter((x.rstrip(punctuation).lower() for y in text_paragraph for x in y.split()))\n",
    "\n",
    "# For getting words inside div tags\n",
    "text_div = (''.join(s.findAll(text=True))for s in soup.findAll('div'))\n",
    "count_div = Counter((x.rstrip(punctuation).lower() for y in text_div for x in y.split()))\n",
    "\n",
    "# Adding two counters for getting a list with words count (from most to less common)\n",
    "total = count_div + count_paragraph\n",
    "list_most_common_words = total.most_common() \n"
   ]
  },
  {
   "cell_type": "code",
   "execution_count": 30,
   "id": "4314ef18",
   "metadata": {
    "ExecuteTime": {
     "end_time": "2023-06-28T06:09:00.519061Z",
     "start_time": "2023-06-28T06:09:00.514154Z"
    }
   },
   "outputs": [
    {
     "data": {
      "text/plain": [
       "248"
      ]
     },
     "execution_count": 30,
     "metadata": {},
     "output_type": "execute_result"
    }
   ],
   "source": [
    "# Total words inside a webpage\n",
    "len(total)"
   ]
  },
  {
   "cell_type": "code",
   "execution_count": 31,
   "id": "9d6c6910",
   "metadata": {
    "ExecuteTime": {
     "end_time": "2023-06-28T06:09:00.986079Z",
     "start_time": "2023-06-28T06:09:00.970028Z"
    }
   },
   "outputs": [
    {
     "data": {
      "text/plain": [
       "[('', 194),\n",
       " ('management', 136),\n",
       " ('to', 93),\n",
       " ('development', 85),\n",
       " ('the', 84),\n",
       " ('message', 72),\n",
       " ('us', 70),\n",
       " ('name', 67),\n",
       " ('our', 62),\n",
       " ('email', 56),\n",
       " ('your', 52),\n",
       " ('app', 51),\n",
       " ('design', 51),\n",
       " ('based', 51),\n",
       " ('get', 50),\n",
       " ('company', 48),\n",
       " ('a', 45),\n",
       " ('in', 45),\n",
       " ('you', 42),\n",
       " ('send', 37),\n",
       " ('project', 36),\n",
       " ('subscribe', 36),\n",
       " ('services', 35),\n",
       " ('usservicesweb', 34),\n",
       " ('developmentmobile', 34),\n",
       " ('developmentcms', 34),\n",
       " ('developmentdigital', 34),\n",
       " ('marketinggraphics', 34),\n",
       " ('designingui/ux', 34),\n",
       " ('servicescontent', 34),\n",
       " ('writingartificial', 34),\n",
       " ('intelligenceiot', 34),\n",
       " ('solutionsdatabase', 34),\n",
       " ('developmentit', 34),\n",
       " ('outsourcingsoftwaresasset', 34),\n",
       " ('tracking', 34),\n",
       " ('softwareinventory', 34),\n",
       " ('systemproject', 34),\n",
       " ('systementerprise', 34),\n",
       " ('resource', 34),\n",
       " ('planning', 34),\n",
       " ('(erp)employee', 34),\n",
       " ('system', 34),\n",
       " ('(ems)hospital', 34),\n",
       " ('systemcareerscontact', 34),\n",
       " ('c-2', 34),\n",
       " ('3rd', 34),\n",
       " ('floor', 34),\n",
       " ('osif', 34),\n",
       " ('center', 34),\n",
       " ('main', 34),\n",
       " ('university', 34),\n",
       " ('13-a', 34),\n",
       " ('about', 34),\n",
       " ('and', 33),\n",
       " ('software', 31),\n",
       " ('touch', 31),\n",
       " ('form', 28),\n",
       " ('as', 28),\n",
       " ('with', 26),\n",
       " ('facebook-f', 26),\n",
       " ('twitter', 26),\n",
       " ('instagram', 26),\n",
       " ('youtube', 26),\n",
       " ('homeabout', 24),\n",
       " ('on', 24),\n",
       " ('request', 21),\n",
       " ('skilled', 19),\n",
       " ('experts', 19),\n",
       " ('will', 19),\n",
       " ('examine', 19),\n",
       " ('details', 19),\n",
       " ('back', 19),\n",
       " ('determine', 19),\n",
       " ('subsequent', 19),\n",
       " ('step', 19),\n",
       " ('full', 19),\n",
       " ('info@techoid.co', 19),\n",
       " ('office', 19),\n",
       " ('softwares', 18),\n",
       " ('an', 18),\n",
       " ('1-1516-5051-250250', 18),\n",
       " ('agencybrandpublisherinfluencerother', 18),\n",
       " ('afghanistanalbaniaalgeriaandorraangolaantigua', 18),\n",
       " ('depsargentinaarmeniaaustraliaaustriaazerbaijanbahamasbahrainbangladeshbarbadosbelarusbelgiumbelizebeninbhutanboliviabosnia',\n",
       "  18),\n",
       " ('herzegovinabotswanabrazilbruneibulgariaburkinaburundicambodiacamerooncanadacape',\n",
       "  18),\n",
       " ('verdecentral', 18),\n",
       " ('african', 18),\n",
       " ('repchadchilechinacolombiacomoroscongocongo', 18),\n",
       " ('{democratic', 18),\n",
       " ('rep}costa', 18),\n",
       " ('ricacroatiacubacyprusczech', 18),\n",
       " ('republicdenmarkdjiboutidominicadominican', 18),\n",
       " ('republiceast', 18),\n",
       " ('timorecuadoregyptel', 18),\n",
       " ('salvadorequatorial', 18),\n",
       " ('guineaeritreaestoniaethiopiafijifinlandfrancegabongambiageorgiagermanyghanagreecegrenadaguatemalaguineaguinea-bissauguyanahaitihondurashungaryicelandindiaindonesiairaniraqireland',\n",
       "  18),\n",
       " ('{republic}israelitalyivory', 18),\n",
       " ('coastjamaicajapanjordankazakhstankenyakiribatikorea', 18),\n",
       " ('northkorea', 18),\n",
       " ('southkosovokuwaitkyrgyzstanlaoslatvialebanonlesotholiberialibyaliechtensteinlithuanialuxembourgmacedoniamadagascarmalawimalaysiamaldivesmalimaltamarshall',\n",
       "  18),\n",
       " ('islandsmauritaniamauritiusmexicomicronesiamoldovamonacomongoliamontenegromoroccomozambiquemyanmar',\n",
       "  18),\n",
       " ('(burma)namibianaurunepalnetherlandsnew', 18),\n",
       " ('zealandnicaraguanigernigerianorwayomanpakistanpalaupanamapapua', 18),\n",
       " ('new', 18),\n",
       " ('guineaparaguayperuphilippinespolandportugalqatarromaniarussian', 18),\n",
       " ('federationrwandast', 18),\n",
       " ('kitts', 18),\n",
       " ('nevisst', 18),\n",
       " ('luciasaint', 18),\n",
       " ('vincent', 18),\n",
       " ('grenadinessamoasan', 18),\n",
       " ('marinosao', 18),\n",
       " ('tome', 18),\n",
       " ('principesaudi', 18),\n",
       " ('arabiasenegalserbiaseychellessierra', 18),\n",
       " ('leonesingaporeslovakiasloveniasolomon', 18),\n",
       " ('islandssomaliasouth', 18),\n",
       " ('africasouth', 18),\n",
       " ('sudanspainsri', 18),\n",
       " ('lankasudansurinameswazilandswedenswitzerlandsyriataiwantajikistantanzaniathailandtogotongatrinidad',\n",
       "  18),\n",
       " ('tobagotunisiaturkeyturkmenistantuvaluugandaukraineunited', 18),\n",
       " ('arab', 18),\n",
       " ('emiratesunited', 18),\n",
       " ('kingdomunited', 18),\n",
       " ('statesuruguayuzbekistanvanuatuvatican', 18),\n",
       " ('cityvenezuelaviet', 18),\n",
       " ('namyemenzambiazimbabwe', 18),\n",
       " ('contact', 17),\n",
       " ('311', 17),\n",
       " ('road,block', 17),\n",
       " ('gulshan-e-iqbal,karachi', 17),\n",
       " ('pakistan', 17),\n",
       " ('inquire', 17),\n",
       " ('newsletter', 17),\n",
       " ('web', 17),\n",
       " ('mobile', 17),\n",
       " ('digital', 17),\n",
       " ('marketing', 17),\n",
       " ('artificial', 17),\n",
       " ('intelligence', 17),\n",
       " ('iot', 17),\n",
       " ('soutions', 17),\n",
       " ('ui', 17),\n",
       " ('ux', 17),\n",
       " ('graphics', 17),\n",
       " ('designing', 17),\n",
       " ('content', 17),\n",
       " ('writing', 17),\n",
       " ('cms', 17),\n",
       " ('database', 17),\n",
       " ('it', 17),\n",
       " ('outsourcing', 17),\n",
       " ('quick', 17),\n",
       " ('links', 17),\n",
       " ('home', 17),\n",
       " ('careers', 17),\n",
       " ('+923110206987', 17),\n",
       " ('road', 17),\n",
       " ('block', 17),\n",
       " ('gulshan-e-iqbal', 17),\n",
       " ('karachi', 17),\n",
       " ('demo', 16),\n",
       " ('first', 16),\n",
       " ('last', 16),\n",
       " ('size', 16),\n",
       " ('describe', 16),\n",
       " ('yourself', 16),\n",
       " ('job', 16),\n",
       " ('title', 16),\n",
       " ('country', 16),\n",
       " ('phone', 16),\n",
       " ('number', 16),\n",
       " ('response', 16),\n",
       " ('has', 16),\n",
       " ('been', 16),\n",
       " ('sent', 16),\n",
       " ('error', 16),\n",
       " ('occured', 16),\n",
       " ('usinterpret', 15),\n",
       " ('whatsapp+92', 15),\n",
       " ('meetingmake', 15),\n",
       " ('submit', 15),\n",
       " ('successfully.an', 15),\n",
       " ('fill', 14),\n",
       " ('out', 14),\n",
       " ('30-minute', 14),\n",
       " ('today', 14),\n",
       " ('see', 14),\n",
       " ('action', 14),\n",
       " (\"we'll\", 14),\n",
       " ('asap', 14),\n",
       " ('please', 14),\n",
       " ('enter', 14),\n",
       " ('fields', 14),\n",
       " ('accurately', 14),\n",
       " ('possible', 14),\n",
       " ('techoid', 13),\n",
       " ('like', 13),\n",
       " ('share', 13),\n",
       " ('tweet', 13),\n",
       " ('linkedin-in', 13),\n",
       " ('linkedin', 13),\n",
       " ('copyright', 13),\n",
       " ('©', 13),\n",
       " ('2018-2023', 13),\n",
       " ('all', 13),\n",
       " ('rights', 13),\n",
       " ('reserved', 13),\n",
       " ('document.addeventlistener(\"domcontentloaded', 12),\n",
       " ('function(event', 12),\n",
       " (\"jquery('#calendly\", 12),\n",
       " (\"h3').click(function\", 12),\n",
       " ('calendly.initpopupwidget({url', 12),\n",
       " (\"'https://calendly.com/info-26094/lets-connect\", 12),\n",
       " ('return', 12),\n",
       " ('false', 12),\n",
       " ('emailinfo@techoid.cocall', 12),\n",
       " ('0206987request', 12),\n",
       " ('appointmentvisitoffice', 12),\n",
       " ('now', 12),\n",
       " ('connect', 12),\n",
       " ('social', 12),\n",
       " ('media', 12),\n",
       " ('stay', 12),\n",
       " ('up', 12),\n",
       " ('date', 12),\n",
       " ('events', 12),\n",
       " ('demo.request', 12),\n",
       " ('menuhomeabout', 10),\n",
       " ('thank', 9),\n",
       " ('for', 9),\n",
       " ('subscribing', 9),\n",
       " ('usfollow', 7),\n",
       " ('call', 5),\n",
       " ('0206987', 5),\n",
       " ('appointment', 5),\n",
       " ('follow', 5),\n",
       " ('interpret', 4),\n",
       " ('emailinfo@techoid.co', 3),\n",
       " ('visitoffice', 3),\n",
       " ('whatsapp', 2),\n",
       " ('+92', 2),\n",
       " ('meeting', 2),\n",
       " ('make', 2),\n",
       " ('visit', 2),\n",
       " ('menu', 1),\n",
       " ('successfully', 1)]"
      ]
     },
     "execution_count": 31,
     "metadata": {},
     "output_type": "execute_result"
    }
   ],
   "source": [
    "\n",
    "# List of common words\n",
    "list_most_common_words\n",
    "     "
   ]
  },
  {
   "cell_type": "code",
   "execution_count": 32,
   "id": "3c81f8b4",
   "metadata": {
    "ExecuteTime": {
     "end_time": "2023-06-28T06:09:23.954219Z",
     "start_time": "2023-06-28T06:09:11.391797Z"
    }
   },
   "outputs": [
    {
     "name": "stdout",
     "output_type": "stream",
     "text": [
      "Enter your url: https://techoid.co/\n",
      "Url: #content | Status Code: 200\n",
      "Url: https://techoid.co | Status Code: 200\n",
      "Url: https://techoid.co | Status Code: 200\n",
      "Url: https://techoid.co/ | Status Code: 200\n",
      "Url: https://techoid.co/about-us | Status Code: 200\n",
      "Url: https://techoid.co/services | Status Code: 200\n",
      "Url: https://techoid.co/web-development | Status Code: 200\n",
      "Url: https://techoid.co/mobile-app-development | Status Code: 200\n",
      "Url: https://techoid.co/cms-development | Status Code: 200\n",
      "Url: https://techoid.co/digital-marketing | Status Code: 200\n",
      "Url: https://techoid.co/graphics-designing | Status Code: 200\n",
      "Url: https://techoid.co/ui-ux | Status Code: 200\n",
      "Url: https://techoid.co/content-writing | Status Code: 200\n",
      "Url: https://techoid.co/ai | Status Code: 200\n",
      "Url: https://techoid.co/iot-based-solutions | Status Code: 200\n",
      "Url: https://techoid.co/database-development | Status Code: 200\n",
      "Url: https://techoid.co/it-outsourcing | Status Code: 200\n",
      "Url: https://techoid.co/software | Status Code: 200\n",
      "Url: https://techoid.co/asset-tracking | Status Code: 200\n",
      "Url: https://techoid.co/inventory-management-system | Status Code: 200\n",
      "Url: https://techoid.co/project-management-system | Status Code: 200\n",
      "Url: https://techoid.co/erp | Status Code: 200\n",
      "Url: https://techoid.co/employee-management-system | Status Code: 200\n",
      "Url: https://techoid.co/hospital-management-system | Status Code: 200\n",
      "Url: https://techoid.co/careers | Status Code: 200\n",
      "Url: https://techoid.co/contact-us | Status Code: 200\n",
      "Url: https://techoid.co/ | Status Code: 200\n",
      "Url: https://techoid.co/about-us | Status Code: 200\n",
      "Url: https://techoid.co/services | Status Code: 200\n",
      "Url: https://techoid.co/web-development | Status Code: 200\n",
      "Url: https://techoid.co/mobile-app-development | Status Code: 200\n",
      "Url: https://techoid.co/cms-development | Status Code: 200\n",
      "Url: https://techoid.co/digital-marketing | Status Code: 200\n",
      "Url: https://techoid.co/graphics-designing | Status Code: 200\n",
      "Url: https://techoid.co/ui-ux | Status Code: 200\n",
      "Url: https://techoid.co/content-writing | Status Code: 200\n",
      "Url: https://techoid.co/ai | Status Code: 200\n",
      "Url: https://techoid.co/iot-based-solutions | Status Code: 200\n",
      "Url: https://techoid.co/database-development | Status Code: 200\n",
      "Url: https://techoid.co/it-outsourcing | Status Code: 200\n",
      "Url: https://techoid.co/software | Status Code: 200\n",
      "Url: https://techoid.co/asset-tracking | Status Code: 200\n",
      "Url: https://techoid.co/inventory-management-system | Status Code: 200\n",
      "Url: https://techoid.co/project-management-system | Status Code: 200\n",
      "Url: https://techoid.co/erp | Status Code: 200\n",
      "Url: https://techoid.co/employee-management-system | Status Code: 200\n",
      "Url: https://techoid.co/hospital-management-system | Status Code: 200\n",
      "Url: https://techoid.co/careers | Status Code: 200\n",
      "Url: https://techoid.co/contact-us | Status Code: 200\n",
      "Url: https://techoid.co | Status Code: 200\n",
      "Url: https://techoid.co/ | Status Code: 200\n",
      "Url: https://techoid.co/about-us | Status Code: 200\n",
      "Url: https://techoid.co/services | Status Code: 200\n",
      "Url: https://techoid.co/web-development | Status Code: 200\n",
      "Url: https://techoid.co/mobile-app-development | Status Code: 200\n",
      "Url: https://techoid.co/cms-development | Status Code: 200\n",
      "Url: https://techoid.co/digital-marketing | Status Code: 200\n",
      "Url: https://techoid.co/graphics-designing | Status Code: 200\n",
      "Url: https://techoid.co/ui-ux | Status Code: 200\n",
      "Url: https://techoid.co/content-writing | Status Code: 200\n",
      "Url: https://techoid.co/ai | Status Code: 200\n",
      "Url: https://techoid.co/iot-based-solutions | Status Code: 200\n",
      "Url: https://techoid.co/database-development | Status Code: 200\n",
      "Url: https://techoid.co/it-outsourcing | Status Code: 200\n",
      "Url: https://techoid.co/software | Status Code: 200\n",
      "Url: https://techoid.co/asset-tracking | Status Code: 200\n",
      "Url: https://techoid.co/inventory-management-system | Status Code: 200\n",
      "Url: https://techoid.co/project-management-system | Status Code: 200\n",
      "Url: https://techoid.co/erp | Status Code: 200\n",
      "Url: https://techoid.co/employee-management-system | Status Code: 200\n",
      "Url: https://techoid.co/hospital-management-system | Status Code: 200\n",
      "Url: https://techoid.co/careers | Status Code: 200\n",
      "Url: https://techoid.co/contact-us | Status Code: 200\n",
      "Url: https://techoid.co/contact-us | Status Code: 200\n",
      "Url: https://techoid.co/web-development | Status Code: 200\n",
      "Url: https://techoid.co/mobile-app-development | Status Code: 200\n",
      "Url: https://techoid.co/digital-marketing | Status Code: 200\n",
      "Url: https://techoid.co/iot-based-solutions | Status Code: 200\n",
      "Url: https://techoid.co/ai | Status Code: 200\n",
      "Url: https://techoid.co/graphics-designing | Status Code: 200\n",
      "Url: https://techoid.co/services | Status Code: 200\n",
      "Url: https://www.designrush.com/agency/search-engine-optimization/local-seo | Status Code: 200\n",
      "Url: https://barcodes.pk/ | Status Code: 200\n",
      "Url: https://leathersoutlet.com/ | Status Code: 200\n",
      "Url: https://techoid.uk | Status Code: 200\n",
      "Url: https://barcodes.pk/ | Status Code: 200\n",
      "Url: https://techoid.co/services | Status Code: 200\n",
      "Url: https://techoid.co/asset-tracking | Status Code: 200\n",
      "Url: https://techoid.co/inventory-management-system | Status Code: 200\n",
      "Url: https://techoid.co/project-management-system | Status Code: 200\n",
      "Url: https://techoid.co/services/software-development | Status Code: 200\n",
      "Url: https://techoid.co/team/hafiz-ibad-jabbar | Status Code: 200\n",
      "Url: https://techoid.co/team/hafiz-ibad-jabbar | Status Code: 200\n",
      "Url: https://techoid.co/team/muhammad-kamran-ansari | Status Code: 200\n",
      "Url: https://techoid.co/team/muhammad-kamran-ansari | Status Code: 200\n",
      "Url: https://triplona.com/ | Status Code: 200\n",
      "Url: https://shetravelspk.com/ | Status Code: 200\n",
      "Url: https://triplona.com/ | Status Code: 200\n",
      "Url: https://techoid.co/case-studies | Status Code: 200\n",
      "Url: https://techoid.co/contact-us | Status Code: 200\n",
      "Url: https://techoid.co/web-development | Status Code: 200\n",
      "Url: https://techoid.co/mobile-app-development | Status Code: 200\n",
      "Url: https://techoid.co/digital-marketing | Status Code: 200\n",
      "Url: https://techoid.co/ai | Status Code: 200\n",
      "Url: https://techoid.co/iot-based-solutions | Status Code: 200\n",
      "Url: https://techoid.co/ui-ux | Status Code: 200\n",
      "Url: https://techoid.co/graphics-designing | Status Code: 200\n",
      "Url: https://techoid.co/content-writing | Status Code: 200\n",
      "Url: https://techoid.co/cms-development | Status Code: 200\n",
      "Url: https://techoid.co/database-development | Status Code: 200\n",
      "Url: https://techoid.co/it-outsourcing | Status Code: 200\n",
      "Url: https://techoid.co/software | Status Code: 200\n",
      "Url: / | Status Code: 200\n",
      "Url: https://techoid.co/about-us | Status Code: 200\n",
      "Url: https://techoid.co/services | Status Code: 200\n",
      "Url: https://techoid.co/software | Status Code: 200\n",
      "Url: /careers | Status Code: 200\n",
      "Url: mailto:info@techoid.co | Status Code: 200\n",
      "Url: https://wa.me/923110206987 | Status Code: 200\n",
      "Url: https://g.page/Techoid | Status Code: 200\n",
      "Url: https://www.facebook.com/Techoid.co | Status Code: 200\n",
      "Url: https://twitter.com/Techoidco | Status Code: 200\n",
      "Url: https://www.linkedin.com/company/techoid | Status Code: 200\n",
      "Url: https://www.instagram.com/techoidco/ | Status Code: 200\n",
      "Url: https://www.youtube.com/channel/UCR4AbK585_KDeVXnD_qv-fg/ | Status Code: 200\n"
     ]
    }
   ],
   "source": [
    "# Importing libraries\n",
    "from bs4 import BeautifulSoup, SoupStrainer\n",
    "import requests\n",
    "\n",
    "# Getting URL from user\n",
    "url = input(\"Enter your url: \")\n",
    "\n",
    "def broken_page():\n",
    "  # For making request to get the URL\n",
    "  user_req_page = requests.get(url)\n",
    "\n",
    "  # For getting the response code of given URL\n",
    "  response_code = str(user_req_page.status_code)\n",
    "\n",
    "  # For displaying the text of the URL in str\n",
    "  data =user_req_page.text\n",
    "\n",
    "  # For using BeautifulSoup to access the built-in methods\n",
    "  soup = BeautifulSoup(data)\n",
    "\n",
    "  # Iterate over all links on the given URL with the response code next to it i.e 404 for PAGE NOT FOUND, 200 if website is functional/available\n",
    "  for link in soup.find_all('a'):\n",
    "    print(f\"Url: {link.get('href')} \" + f\"| Status Code: {response_code}\")\n",
    "\n",
    "\n",
    "#----- NOTE ------#\n",
    "# --------- TO VERIFY PAGE NOT FOUND 404 ERROR, enter below web link as a input URL --------#\n",
    "#https://roine.github.com/p1\n",
    "\n",
    "#------------- Main ---------------#\n",
    "if __name__ == '__main__':\n",
    "  broken_page()"
   ]
  },
  {
   "cell_type": "code",
   "execution_count": null,
   "id": "56d29ff2",
   "metadata": {},
   "outputs": [],
   "source": []
  },
  {
   "cell_type": "code",
   "execution_count": null,
   "id": "baac0146",
   "metadata": {},
   "outputs": [],
   "source": []
  },
  {
   "cell_type": "code",
   "execution_count": null,
   "id": "8d9866e8",
   "metadata": {},
   "outputs": [],
   "source": []
  },
  {
   "cell_type": "code",
   "execution_count": null,
   "id": "f29c4eca",
   "metadata": {},
   "outputs": [],
   "source": []
  },
  {
   "cell_type": "code",
   "execution_count": null,
   "id": "5cad5b66",
   "metadata": {},
   "outputs": [],
   "source": []
  },
  {
   "cell_type": "code",
   "execution_count": null,
   "id": "de8dcaf2",
   "metadata": {},
   "outputs": [],
   "source": []
  },
  {
   "cell_type": "code",
   "execution_count": 34,
   "id": "41d4fab3",
   "metadata": {
    "ExecuteTime": {
     "end_time": "2023-06-28T06:14:59.699511Z",
     "start_time": "2023-06-28T06:14:59.695097Z"
    }
   },
   "outputs": [],
   "source": [
    "from bs4 import BeautifulSoup"
   ]
  },
  {
   "cell_type": "code",
   "execution_count": 35,
   "id": "03c31c4c",
   "metadata": {
    "ExecuteTime": {
     "end_time": "2023-06-28T06:15:06.312259Z",
     "start_time": "2023-06-28T06:15:06.308974Z"
    }
   },
   "outputs": [],
   "source": [
    "import requests"
   ]
  },
  {
   "cell_type": "code",
   "execution_count": 36,
   "id": "6b6dd1d6",
   "metadata": {
    "ExecuteTime": {
     "end_time": "2023-06-28T06:15:15.395177Z",
     "start_time": "2023-06-28T06:15:14.750804Z"
    }
   },
   "outputs": [
    {
     "name": "stdout",
     "output_type": "stream",
     "text": [
      "<Response [200]>\n"
     ]
    }
   ],
   "source": [
    "res=requests.get(\"http://quotes.toscrape.com/\")\n",
    "print(res)"
   ]
  },
  {
   "cell_type": "code",
   "execution_count": 38,
   "id": "058856e7",
   "metadata": {
    "ExecuteTime": {
     "end_time": "2023-06-28T06:15:25.131580Z",
     "start_time": "2023-06-28T06:15:25.128420Z"
    }
   },
   "outputs": [],
   "source": [
    "# # response object text will not give individual quotes as key elements. For that we have to use beautifulsoup.\n",
    "# print(res.text)"
   ]
  },
  {
   "cell_type": "code",
   "execution_count": 39,
   "id": "63a0da7a",
   "metadata": {
    "ExecuteTime": {
     "end_time": "2023-06-28T06:15:37.274374Z",
     "start_time": "2023-06-28T06:15:37.256808Z"
    }
   },
   "outputs": [],
   "source": [
    "soup=BeautifulSoup(res.text,'lxml')"
   ]
  },
  {
   "cell_type": "code",
   "execution_count": 40,
   "id": "c670e3a2",
   "metadata": {
    "ExecuteTime": {
     "end_time": "2023-06-28T06:15:45.259164Z",
     "start_time": "2023-06-28T06:15:45.255870Z"
    }
   },
   "outputs": [],
   "source": [
    "quote=soup.find('div',{'class' : 'quote'})"
   ]
  },
  {
   "cell_type": "code",
   "execution_count": 41,
   "id": "1f1fea11",
   "metadata": {
    "ExecuteTime": {
     "end_time": "2023-06-28T06:15:54.534946Z",
     "start_time": "2023-06-28T06:15:54.529825Z"
    }
   },
   "outputs": [
    {
     "name": "stdout",
     "output_type": "stream",
     "text": [
      "\n",
      "“The world as we have created it is a process of our thinking. It cannot be changed without changing our thinking.”\n",
      "by Albert Einstein\n",
      "(about)\n",
      "\n",
      "\n",
      "            Tags:\n",
      "            \n",
      "change\n",
      "deep-thoughts\n",
      "thinking\n",
      "world\n",
      "\n",
      "\n"
     ]
    }
   ],
   "source": [
    "print(quote.text)"
   ]
  },
  {
   "cell_type": "code",
   "execution_count": 44,
   "id": "88c0a3fa",
   "metadata": {
    "ExecuteTime": {
     "end_time": "2023-06-28T06:16:24.169062Z",
     "start_time": "2023-06-28T06:16:24.164726Z"
    }
   },
   "outputs": [],
   "source": [
    "quote=soup.find_all('span',{'class':'text'})\n",
    "#quote"
   ]
  },
  {
   "cell_type": "code",
   "execution_count": 45,
   "id": "ebf080db",
   "metadata": {
    "ExecuteTime": {
     "end_time": "2023-06-28T06:16:32.581622Z",
     "start_time": "2023-06-28T06:16:32.576645Z"
    }
   },
   "outputs": [
    {
     "name": "stdout",
     "output_type": "stream",
     "text": [
      "“The world as we have created it is a process of our thinking. It cannot be changed without changing our thinking.”\n",
      "“It is our choices, Harry, that show what we truly are, far more than our abilities.”\n",
      "“There are only two ways to live your life. One is as though nothing is a miracle. The other is as though everything is a miracle.”\n",
      "“The person, be it gentleman or lady, who has not pleasure in a good novel, must be intolerably stupid.”\n",
      "“Imperfection is beauty, madness is genius and it's better to be absolutely ridiculous than absolutely boring.”\n",
      "“Try not to become a man of success. Rather become a man of value.”\n",
      "“It is better to be hated for what you are than to be loved for what you are not.”\n",
      "“I have not failed. I've just found 10,000 ways that won't work.”\n",
      "“A woman is like a tea bag; you never know how strong it is until it's in hot water.”\n",
      "“A day without sunshine is like, you know, night.”\n"
     ]
    }
   ],
   "source": [
    "# to print all the required quotes\n",
    "for q in quote:\n",
    "    print(q.text)"
   ]
  },
  {
   "cell_type": "code",
   "execution_count": 46,
   "id": "109e3df0",
   "metadata": {
    "ExecuteTime": {
     "end_time": "2023-06-28T06:16:45.613627Z",
     "start_time": "2023-06-28T06:16:45.606884Z"
    }
   },
   "outputs": [
    {
     "name": "stdout",
     "output_type": "stream",
     "text": [
      "“The world as we have created it is a process of our thinking. It cannot be changed without changing our thinking.”\n",
      "--Albert Einstein\n",
      "“It is our choices, Harry, that show what we truly are, far more than our abilities.”\n",
      "--J.K. Rowling\n",
      "“There are only two ways to live your life. One is as though nothing is a miracle. The other is as though everything is a miracle.”\n",
      "--Albert Einstein\n",
      "“The person, be it gentleman or lady, who has not pleasure in a good novel, must be intolerably stupid.”\n",
      "--Jane Austen\n",
      "“Imperfection is beauty, madness is genius and it's better to be absolutely ridiculous than absolutely boring.”\n",
      "--Marilyn Monroe\n",
      "“Try not to become a man of success. Rather become a man of value.”\n",
      "--Albert Einstein\n",
      "“It is better to be hated for what you are than to be loved for what you are not.”\n",
      "--André Gide\n",
      "“I have not failed. I've just found 10,000 ways that won't work.”\n",
      "--Thomas A. Edison\n",
      "“A woman is like a tea bag; you never know how strong it is until it's in hot water.”\n",
      "--Eleanor Roosevelt\n",
      "“A day without sunshine is like, you know, night.”\n",
      "--Steve Martin\n"
     ]
    }
   ],
   "source": [
    "# to scrape author name as well\n",
    "quote= soup.find_all('div',{'class':'quote'})\n",
    "\n",
    "for q in quote:\n",
    "    msg=q.find('span',{'class':'text'})\n",
    "    \n",
    "    print(msg.text)\n",
    "    author=q.find('small')\n",
    "    print(\"--\"+author.text)"
   ]
  },
  {
   "cell_type": "code",
   "execution_count": null,
   "id": "cf866362",
   "metadata": {},
   "outputs": [],
   "source": []
  },
  {
   "cell_type": "code",
   "execution_count": 47,
   "id": "7e14a42b",
   "metadata": {
    "ExecuteTime": {
     "end_time": "2023-06-28T06:19:31.852831Z",
     "start_time": "2023-06-28T06:19:31.695761Z"
    }
   },
   "outputs": [],
   "source": [
    "# making response variable \n",
    "res= requests.get(\"https://www.shiksha.com/mba/ranking/top-mba-colleges-in-india/2-2-0-0-0\")"
   ]
  },
  {
   "cell_type": "code",
   "execution_count": 48,
   "id": "5166cfc9",
   "metadata": {
    "ExecuteTime": {
     "end_time": "2023-06-28T06:19:41.812052Z",
     "start_time": "2023-06-28T06:19:41.807522Z"
    }
   },
   "outputs": [
    {
     "name": "stdout",
     "output_type": "stream",
     "text": [
      "<Response [403]>\n"
     ]
    }
   ],
   "source": [
    "print(res)"
   ]
  },
  {
   "cell_type": "code",
   "execution_count": 50,
   "id": "1e0dcd53",
   "metadata": {
    "ExecuteTime": {
     "end_time": "2023-06-28T06:19:55.131598Z",
     "start_time": "2023-06-28T06:19:55.128928Z"
    }
   },
   "outputs": [],
   "source": [
    "# print(res.text)"
   ]
  },
  {
   "cell_type": "code",
   "execution_count": 61,
   "id": "68280e87",
   "metadata": {
    "ExecuteTime": {
     "end_time": "2023-06-28T06:23:33.279357Z",
     "start_time": "2023-06-28T06:23:33.186498Z"
    }
   },
   "outputs": [],
   "source": [
    "# Headers from web page\n",
    "\n",
    "headers = {\n",
    "\n",
    "   \"User-Agent\": \"Mozilla/5.0 (X11; Ubuntu; Linux x86_64; rv:65.0) Gecko/20100101 Firefox/65.0\"\n",
    "}\n",
    "r = requests.get(\"https://www.shiksha.com/mba/ranking/top-mba-colleges-in-india/2-2-0-0-0\", headers = headers)"
   ]
  },
  {
   "cell_type": "code",
   "execution_count": 62,
   "id": "5e98f300",
   "metadata": {
    "ExecuteTime": {
     "end_time": "2023-06-28T06:23:33.816462Z",
     "start_time": "2023-06-28T06:23:33.811945Z"
    }
   },
   "outputs": [],
   "source": [
    "# print(r.text)"
   ]
  },
  {
   "cell_type": "code",
   "execution_count": 63,
   "id": "26cdb863",
   "metadata": {
    "ExecuteTime": {
     "end_time": "2023-06-28T06:23:34.289941Z",
     "start_time": "2023-06-28T06:23:34.282250Z"
    }
   },
   "outputs": [],
   "source": [
    "soup=BeautifulSoup(r.content)\n",
    "# print(r.content)\n",
    "# print(soup)"
   ]
  },
  {
   "cell_type": "code",
   "execution_count": 68,
   "id": "282568c3",
   "metadata": {
    "ExecuteTime": {
     "end_time": "2023-06-28T06:23:58.998779Z",
     "start_time": "2023-06-28T06:23:58.993730Z"
    }
   },
   "outputs": [],
   "source": [
    "# Scratching ratings of colleges \n",
    "for section in soup.findAll('section', attrs={\"class\":'rank_tuplev1'}):\n",
    "    rating= section.find('span',attrs={'class':'rating-block rvw-lyr'})\n",
    "#     print(rating)\n",
    "#     print(rating.text)"
   ]
  },
  {
   "cell_type": "code",
   "execution_count": 69,
   "id": "f38dfff3",
   "metadata": {
    "ExecuteTime": {
     "end_time": "2023-06-28T06:24:10.653236Z",
     "start_time": "2023-06-28T06:24:10.635138Z"
    }
   },
   "outputs": [
    {
     "ename": "NameError",
     "evalue": "name 'section' is not defined",
     "output_type": "error",
     "traceback": [
      "\u001b[1;31m---------------------------------------------------------------------------\u001b[0m",
      "\u001b[1;31mNameError\u001b[0m                                 Traceback (most recent call last)",
      "Cell \u001b[1;32mIn[69], line 1\u001b[0m\n\u001b[1;32m----> 1\u001b[0m rating\u001b[38;5;241m=\u001b[39m \u001b[43msection\u001b[49m\u001b[38;5;241m.\u001b[39mfind(\u001b[38;5;124m'\u001b[39m\u001b[38;5;124mspan\u001b[39m\u001b[38;5;124m'\u001b[39m,attrs\u001b[38;5;241m=\u001b[39m{\u001b[38;5;124m'\u001b[39m\u001b[38;5;124mclass\u001b[39m\u001b[38;5;124m'\u001b[39m:\u001b[38;5;124m'\u001b[39m\u001b[38;5;124mrating-block rvw-lyr\u001b[39m\u001b[38;5;124m'\u001b[39m})\n",
      "\u001b[1;31mNameError\u001b[0m: name 'section' is not defined"
     ]
    }
   ],
   "source": [
    " rating= section.find('span',attrs={'class':'rating-block rvw-lyr'})"
   ]
  },
  {
   "cell_type": "code",
   "execution_count": null,
   "id": "90690b94",
   "metadata": {},
   "outputs": [],
   "source": []
  },
  {
   "cell_type": "code",
   "execution_count": null,
   "id": "1ad4f27c",
   "metadata": {},
   "outputs": [],
   "source": []
  },
  {
   "cell_type": "code",
   "execution_count": 70,
   "id": "5d5dca4e",
   "metadata": {
    "ExecuteTime": {
     "end_time": "2023-06-28T06:26:43.866958Z",
     "start_time": "2023-06-28T06:26:43.860161Z"
    }
   },
   "outputs": [],
   "source": [
    "from bs4 import BeautifulSoup\n",
    "import requests"
   ]
  },
  {
   "cell_type": "code",
   "execution_count": 71,
   "id": "0f392ff8",
   "metadata": {
    "ExecuteTime": {
     "end_time": "2023-06-28T06:26:52.651237Z",
     "start_time": "2023-06-28T06:26:52.512799Z"
    }
   },
   "outputs": [],
   "source": [
    "headers={\n",
    "    \"User-Agent\" : \"Mozilla/5.0 (X11; Ubuntu; Linux x86_64; rv:65.0) Gecko/20100101 Firefox/65.\"\n",
    "}\n",
    "\n",
    "r=requests.get(\"https://www.shiksha.com/mba/colleges/mba-colleges-india\",headers=headers)"
   ]
  },
  {
   "cell_type": "code",
   "execution_count": 80,
   "id": "bf01e242",
   "metadata": {
    "ExecuteTime": {
     "end_time": "2023-06-28T06:28:56.408834Z",
     "start_time": "2023-06-28T06:28:56.392832Z"
    }
   },
   "outputs": [
    {
     "name": "stdout",
     "output_type": "stream",
     "text": [
      "<HTML><HEAD>\n",
      "<TITLE>Access Denied</TITLE>\n",
      "</HEAD><BODY>\n",
      "<H1>Access Denied</H1>\n",
      " \n",
      "You don't have permission to access \"http&#58;&#47;&#47;www&#46;shiksha&#46;com&#47;mba&#47;colleges&#47;mba&#45;colleges&#45;india\" on this server.<P>\n",
      "Reference&#32;&#35;18&#46;25f9da17&#46;1687933613&#46;1d8202ce\n",
      "</BODY>\n",
      "</HTML>\n",
      "\n"
     ]
    }
   ],
   "source": [
    "# # Printing some response text\n",
    "print(r.text[:500])"
   ]
  },
  {
   "cell_type": "code",
   "execution_count": 74,
   "id": "dac099fc",
   "metadata": {
    "ExecuteTime": {
     "end_time": "2023-06-28T06:27:28.454203Z",
     "start_time": "2023-06-28T06:27:28.440829Z"
    }
   },
   "outputs": [],
   "source": [
    "soup=BeautifulSoup(r.content)"
   ]
  },
  {
   "cell_type": "code",
   "execution_count": 78,
   "id": "d81e8434",
   "metadata": {
    "ExecuteTime": {
     "end_time": "2023-06-28T06:28:30.063718Z",
     "start_time": "2023-06-28T06:28:30.041381Z"
    }
   },
   "outputs": [],
   "source": [
    "count=0\n",
    "College_name=[]\n",
    "location=[]\n",
    "ratings=[]\n",
    "other_details=[]\n",
    "for section in soup.findAll('section', attrs={\"class\":'ctp_container'}):\n",
    "    college= section.findAll('div',attrs={'class':\"ctpSrp-tuple\"})\n",
    "    \n",
    "#     rating= find('span',attrs={'class':'rating-block rvw-lyr'})\n",
    "    \n",
    "#     print(college.text)\n",
    "    for c in college:\n",
    "        count= count+1\n",
    "        name=c.find('p', attrs={\"class\":\"ctpIns-tl\"})\n",
    "        College_name.append(name.text)\n",
    "        print(name.text)\n",
    "        loc=c.find('p', attrs={\"class\":\"ctp-cty\"})\n",
    "        print(loc.text)\n",
    "        location.append(loc.text)\n",
    "        \n",
    "        rating=c.find('span', attrs={\"class\":\"rating-block rvw-lyr\"})\n",
    "        ratings.append(rating.text)\n",
    "        print(rating.text)\n",
    "        d=c.find('div', attrs={\"class\":\"ctp-detail\"})\n",
    "        other_details.append(d.text)\n",
    "        print(d.text)\n",
    "#         div=c.find('div',attrs={\"class\": \"ctpSrp-Lft\"})\n",
    "#         s=div.find('img')\n",
    "#         print(s.attrs['src'])\n",
    "        "
   ]
  },
  {
   "cell_type": "code",
   "execution_count": null,
   "id": "f6476c0f",
   "metadata": {},
   "outputs": [],
   "source": []
  },
  {
   "cell_type": "code",
   "execution_count": null,
   "id": "b6f1a9bf",
   "metadata": {},
   "outputs": [],
   "source": []
  },
  {
   "cell_type": "code",
   "execution_count": 95,
   "id": "13d98f5b",
   "metadata": {
    "ExecuteTime": {
     "end_time": "2023-06-28T07:09:18.484750Z",
     "start_time": "2023-06-28T07:09:18.474666Z"
    }
   },
   "outputs": [],
   "source": [
    "import requests"
   ]
  },
  {
   "cell_type": "code",
   "execution_count": 100,
   "id": "366b58d7",
   "metadata": {
    "ExecuteTime": {
     "end_time": "2023-06-28T07:10:51.223469Z",
     "start_time": "2023-06-28T07:10:51.211463Z"
    }
   },
   "outputs": [],
   "source": [
    "# url = \"https://codewithharry.com\"\n",
    "# r = requests.get(url)\t\t# r variable has all the HTML code\n",
    "# htmlContent = r.content\t# r returns response so if we want the code we write r.content\n",
    "# print(htmlContent)\t\t# printing the code"
   ]
  },
  {
   "cell_type": "code",
   "execution_count": 99,
   "id": "d7434220",
   "metadata": {
    "ExecuteTime": {
     "end_time": "2023-06-28T07:10:42.783630Z",
     "start_time": "2023-06-28T07:10:42.772802Z"
    }
   },
   "outputs": [],
   "source": [
    "# htmlTexr = r.text\n",
    "# print(htmlTexr)"
   ]
  },
  {
   "cell_type": "code",
   "execution_count": 101,
   "id": "15f1c2d3",
   "metadata": {
    "ExecuteTime": {
     "end_time": "2023-06-28T07:11:04.535608Z",
     "start_time": "2023-06-28T07:11:03.883096Z"
    }
   },
   "outputs": [
    {
     "name": "stdout",
     "output_type": "stream",
     "text": [
      "<!DOCTYPE html>\n",
      "<html>\n",
      " <head>\n",
      "  <meta content=\"width=device-width\" name=\"viewport\"/>\n",
      "  <meta charset=\"utf-8\"/>\n",
      "  <link href=\"/img/favicon.ico\" rel=\"shortcut icon\" type=\"image/x-icon\"/>\n",
      "  <script async=\"\" crossorigin=\"anonymous\" src=\"https://pagead2.googlesyndication.com/pagead/js/adsbygoogle.js?client=ca-pub-9655830461045889\">\n",
      "  </script>\n",
      "  <title>\n",
      "   Learn to code online - CodeWithHarry\n",
      "  </title>\n",
      "  <meta content=\"Generated by create next app\" name=\"description\"/>\n",
      "  <link href=\"/img/favicon.ico\" rel=\"icon\"/>\n",
      "  <meta content=\"7\" name=\"next-head-count\"/>\n",
      "  <meta name=\"next-font-preconnect\"/>\n",
      "  <link as=\"style\" href=\"/_next/static/css/ced2f5f753e05303.css\" rel=\"preload\"/>\n",
      "  <link data-n-g=\"\" href=\"/_next/static/css/ced2f5f753e05303.css\" rel=\"stylesheet\"/>\n",
      "  <link as=\"style\" href=\"/_next/static/css/470c5e8db7cdc7e9.css\" rel=\"preload\"/>\n",
      "  <link data-n-p=\"\" href=\"/_next/static/css/470c5e8db7cdc7e9.css\" rel=\"stylesheet\"/>\n",
      "  <noscript data-n-css=\"\">\n",
      "  </noscript>\n",
      "  <script defer=\"\" nomodule=\"\" src=\"/_next/static/chunks/polyfills-5cd94c89d3acac5f.js\">\n",
      "  </script>\n",
      "  <script defer=\"\" src=\"/_next/static/chunks/webpack-beddf46cb441c0f2.js\">\n",
      "  </script>\n",
      "  <script defer=\"\" src=\"/_next/static/chunks/framework-a87821de553db91d.js\">\n",
      "  </script>\n",
      "  <script defer=\"\" src=\"/_next/static/chunks/main-49d106e7eacac86b.js\">\n",
      "  </script>\n",
      "  <script defer=\"\" src=\"/_next/static/chunks/pages/_app-a93afd1efa83860f.js\">\n",
      "  </script>\n",
      "  <script defer=\"\" src=\"/_next/static/chunks/10-5d256216d58885d9.js\">\n",
      "  </script>\n",
      "  <script defer=\"\" src=\"/_next/static/chunks/pages/index-2eb23443eb493791.js\">\n",
      "  </script>\n",
      "  <script defer=\"\" src=\"/_next/static/m_hyoqLdBgkk3xZsvW8xP/_buildManifest.js\">\n",
      "  </script>\n",
      "  <script defer=\"\" src=\"/_next/static/m_hyoqLdBgkk3xZsvW8xP/_ssgManifest.js\">\n",
      "  </script>\n",
      "  <script defer=\"\" src=\"/_next/static/m_hyoqLdBgkk3xZsvW8xP/_middlewareManifest.js\">\n",
      "  </script>\n",
      " </head>\n",
      " <body>\n",
      "  <div id=\"__next\">\n",
      "   <div class=\"\">\n",
      "    <div class=\"\" style=\"position:fixed;top:0;left:0;height:2px;background:transparent;z-index:99999999999;width:100%\">\n",
      "     <div class=\"\" style=\"height:100%;background:purple;transition:all 500ms ease;width:0%\">\n",
      "      <div style=\"box-shadow:0 0 10px purple, 0 0 10px purple;width:5%;opacity:1;position:absolute;height:100%;transition:all 500ms ease;transform:rotate(3deg) translate(0px, -4px);left:-10rem\">\n",
      "      </div>\n",
      "     </div>\n",
      "    </div>\n",
      "    <div class=\"w-full z-10 sticky bg-white top-0 border-b border-grey-light shadow-md dark:bg-gray-800 dark:border-black\" id=\"imgpreview2\">\n",
      "     <div class=\"w-full flex flex-wrap items-center lg:justify-between mt-0 py-4\">\n",
      "      <div class=\"px-0 lg:pl-4 flex items-center lg:mx-4 cursor-pointer text-purple-700 text-xl font-bold mx-3 dark:text-purple-300\">\n",
      "       <a href=\"/\">\n",
      "        CodeWithHarry\n",
      "       </a>\n",
      "      </div>\n",
      "      <div class=\"flex items-center md:hidden\">\n",
      "       <div class=\"text-purple-700 text-md font-semibold\">\n",
      "        Menu\n",
      "       </div>\n",
      "       <svg class=\"text-purple-700 mt-1\" fill=\"currentColor\" height=\"1em\" stroke=\"currentColor\" stroke-width=\"0\" viewbox=\"0 0 1024 1024\" width=\"1em\" xmlns=\"http://www.w3.org/2000/svg\">\n",
      "        <path d=\"M840.4 300H183.6c-19.7 0-30.7 20.8-18.5 35l328.4 380.8c9.4 10.9 27.5 10.9 37 0L858.9 335c12.2-14.2 1.2-35-18.5-35z\">\n",
      "        </path>\n",
      "       </svg>\n",
      "      </div>\n",
      "      <svg class=\"md:hidden text-purple-700 mt-1 ml-2 cursor-pointer dark:text-white\" fill=\"currentColor\" height=\"28\" stroke=\"currentColor\" stroke-width=\"0\" viewbox=\"0 0 16 16\" width=\"28\" xmlns=\"http://www.w3.org/2000/svg\">\n",
      "       <path d=\"M6 .278a.768.768 0 0 1 .08.858 7.208 7.208 0 0 0-.878 3.46c0 4.021 3.278 7.277 7.318 7.277.527 0 1.04-.055 1.533-.16a.787.787 0 0 1 .81.316.733.733 0 0 1-.031.893A8.349 8.349 0 0 1 8.344 16C3.734 16 0 12.286 0 7.71 0 4.266 2.114 1.312 5.124.06A.752.752 0 0 1 6 .278z\">\n",
      "       </path>\n",
      "       <path d=\"M10.794 3.148a.217.217 0 0 1 .412 0l.387 1.162c.173.518.579.924 1.097 1.097l1.162.387a.217.217 0 0 1 0 .412l-1.162.387a1.734 1.734 0 0 0-1.097 1.097l-.387 1.162a.217.217 0 0 1-.412 0l-.387-1.162A1.734 1.734 0 0 0 9.31 6.593l-1.162-.387a.217.217 0 0 1 0-.412l1.162-.387a1.734 1.734 0 0 0 1.097-1.097l.387-1.162zM13.863.099a.145.145 0 0 1 .274 0l.258.774c.115.346.386.617.732.732l.774.258a.145.145 0 0 1 0 .274l-.774.258a1.156 1.156 0 0 0-.732.732l-.258.774a.145.145 0 0 1-.274 0l-.258-.774a1.156 1.156 0 0 0-.732-.732l-.774-.258a.145.145 0 0 1 0-.274l.774-.258c.346-.115.617-.386.732-.732L13.863.1z\">\n",
      "       </path>\n",
      "      </svg>\n",
      "      <button class=\"md:hidden text-white bg-purple-700 hover:bg-purple-800 focus:ring-4 focus:ring-purple-300 font-medium rounded-lg text-sm px-3 py-2 text-center inline-flex items-center mx-1 absolute right-3 md:right-12\">\n",
      "       Login\n",
      "      </button>\n",
      "      <div class=\"w-full flex-grow lg:flex lg:flex-1 lg:content-center lg:justify-end lg:w-auto h-0 lg:h-auto overflow-hidden mt-2 lg:mt-0 z-20 transition-all\" id=\"nav-content\">\n",
      "       <ul class=\"flex items-center flex-col lg:flex-row\">\n",
      "        <div class=\"search-icon cursor-pointer px-6 hidden\" id=\"search-toggle\">\n",
      "         <svg class=\"fill-current pointer-events-none text-grey-darkest w-4 h-4 inline\" viewbox=\"0 0 20 20\" xmlns=\"http://www.w3.org/2000/svg\">\n",
      "          <path d=\"M12.9 14.32a8 8 0 1 1 1.41-1.41l5.35 5.33-1.42 1.42-5.33-5.34zM8 14A6 6 0 1 0 8 2a6 6 0 0 0 0 12z\">\n",
      "          </path>\n",
      "         </svg>\n",
      "        </div>\n",
      "        <li class=\"mx-2 my-2 text-black hover:border-b-2 hover:border-purple-700 dark:text-white\">\n",
      "         <a href=\"/\">\n",
      "          Home\n",
      "         </a>\n",
      "        </li>\n",
      "        <li class=\"mx-2 my-2 text-black hover:border-b-2 hover:border-purple-700 dark:text-white\">\n",
      "         <a href=\"/videos/\">\n",
      "          Courses\n",
      "         </a>\n",
      "        </li>\n",
      "        <li class=\"mx-2 my-2 text-black hover:border-b-2 hover:border-purple-700 dark:text-white\">\n",
      "         <a href=\"/tutorials/\">\n",
      "          Tutorial\n",
      "         </a>\n",
      "        </li>\n",
      "        <li class=\"mx-2 my-2 text-black hover:border-b-2 hover:border-purple-700 dark:text-white\">\n",
      "         <a href=\"/blog/\">\n",
      "          Blog\n",
      "         </a>\n",
      "        </li>\n",
      "        <li class=\"mx-2 my-2 text-black hover:border-b-2 hover:border-purple-700 dark:text-white\">\n",
      "         <a href=\"/notes/\">\n",
      "          Notes\n",
      "         </a>\n",
      "        </li>\n",
      "        <li class=\"mx-2 my-2 text-black hover:border-b-2 hover:border-purple-700 dark:text-white\">\n",
      "         <a href=\"/contact/\">\n",
      "          Contact\n",
      "         </a>\n",
      "        </li>\n",
      "        <li class=\"mx-2 my-2 text-black hover:border-b-2 hover:border-purple-700 dark:text-white\">\n",
      "         <a href=\"/my-gear/\">\n",
      "          My Gear\n",
      "         </a>\n",
      "        </li>\n",
      "        <li class=\"mx-2 my-2 text-black hover:border-b-2 hover:border-purple-700 dark:text-white\">\n",
      "         <a href=\"/work/\">\n",
      "          Work With Us\n",
      "         </a>\n",
      "        </li>\n",
      "        <li>\n",
      "         <svg class=\"hidden md:block text-purple-700 mt-1 ml-2 cursor-pointer dark:text-white\" fill=\"currentColor\" height=\"28\" stroke=\"currentColor\" stroke-width=\"0\" viewbox=\"0 0 16 16\" width=\"28\" xmlns=\"http://www.w3.org/2000/svg\">\n",
      "          <path d=\"M6 .278a.768.768 0 0 1 .08.858 7.208 7.208 0 0 0-.878 3.46c0 4.021 3.278 7.277 7.318 7.277.527 0 1.04-.055 1.533-.16a.787.787 0 0 1 .81.316.733.733 0 0 1-.031.893A8.349 8.349 0 0 1 8.344 16C3.734 16 0 12.286 0 7.71 0 4.266 2.114 1.312 5.124.06A.752.752 0 0 1 6 .278z\">\n",
      "          </path>\n",
      "          <path d=\"M10.794 3.148a.217.217 0 0 1 .412 0l.387 1.162c.173.518.579.924 1.097 1.097l1.162.387a.217.217 0 0 1 0 .412l-1.162.387a1.734 1.734 0 0 0-1.097 1.097l-.387 1.162a.217.217 0 0 1-.412 0l-.387-1.162A1.734 1.734 0 0 0 9.31 6.593l-1.162-.387a.217.217 0 0 1 0-.412l1.162-.387a1.734 1.734 0 0 0 1.097-1.097l.387-1.162zM13.863.099a.145.145 0 0 1 .274 0l.258.774c.115.346.386.617.732.732l.774.258a.145.145 0 0 1 0 .274l-.774.258a1.156 1.156 0 0 0-.732.732l-.258.774a.145.145 0 0 1-.274 0l-.258-.774a1.156 1.156 0 0 0-.732-.732l-.774-.258a.145.145 0 0 1 0-.274l.774-.258c.346-.115.617-.386.732-.732L13.863.1z\">\n",
      "          </path>\n",
      "         </svg>\n",
      "        </li>\n",
      "       </ul>\n",
      "       <div class=\"text-center my-2 pr-4 pl-2\">\n",
      "        <button class=\"text-white bg-purple-700 hover:bg-purple-800 focus:ring-4 focus:ring-purple-300 font-medium rounded-lg text-sm px-3 py-2 text-center inline-flex items-center mx-1 dark:bg-purple-500 dark:hover:bg-purple-800\">\n",
      "         Login\n",
      "        </button>\n",
      "        <button class=\"text-white bg-purple-700 hover:bg-purple-800 focus:ring-4 focus:ring-purple-300 font-medium rounded-lg text-sm px-3 py-2 text-center inline-flex items-center mx-1 dark:bg-purple-500 dark:hover:bg-purple-800\">\n",
      "         Signup\n",
      "        </button>\n",
      "       </div>\n",
      "      </div>\n",
      "     </div>\n",
      "     <hr class=\"dark:border-gray-500\"/>\n",
      "     <div class=\"max-h-[6vh] min-h-[40px] flex items-center ml-3 mr-3 md:ml-10 md:mr-10 my-1\">\n",
      "      <span>\n",
      "       <svg class=\"text-purple-700 text-xl cursor-pointer dark:text-purple-300\" fill=\"currentColor\" height=\"1em\" stroke=\"currentColor\" stroke-width=\"0\" viewbox=\"0 0 1024 1024\" width=\"1em\" xmlns=\"http://www.w3.org/2000/svg\">\n",
      "        <path d=\"M946.5 505L534.6 93.4a31.93 31.93 0 0 0-45.2 0L77.5 505c-12 12-18.8 28.3-18.8 45.3 0 35.3 28.7 64 64 64h43.4V908c0 17.7 14.3 32 32 32H448V716h112v224h265.9c17.7 0 32-14.3 32-32V614.3h43.4c17 0 33.3-6.7 45.3-18.8 24.9-25 24.9-65.5-.1-90.5z\">\n",
      "        </path>\n",
      "       </svg>\n",
      "      </span>\n",
      "      <ul class=\"space-x-7 m-auto text-purple-700 font-semibold hidden md:flex items-center\">\n",
      "       <li class=\"cursor-pointer hover:border-b-2 hover:border-purple-700 active:border-b-4 dark:text-purple-300\">\n",
      "        <a href=\"/tutorial/html-home/\">\n",
      "         HTML\n",
      "        </a>\n",
      "       </li>\n",
      "       <li class=\"cursor-pointer hover:border-b-2 hover:border-purple-700 active:border-b-4 dark:text-purple-300\">\n",
      "        <a href=\"/tutorial/css-home/\">\n",
      "         CSS\n",
      "        </a>\n",
      "       </li>\n",
      "       <li class=\"cursor-pointer hover:border-b-2 hover:border-purple-700 active:border-b-4 dark:text-purple-300\">\n",
      "        <a href=\"/tutorial/js/\">\n",
      "         JS\n",
      "        </a>\n",
      "       </li>\n",
      "       <li class=\"cursor-pointer hover:border-b-2 hover:border-purple-700 active:border-b-4 dark:text-purple-300\">\n",
      "        <a href=\"/tutorial/c/\">\n",
      "         C\n",
      "        </a>\n",
      "       </li>\n",
      "       <li class=\"cursor-pointer hover:border-b-2 hover:border-purple-700 active:border-b-4 dark:text-purple-300\">\n",
      "        <a href=\"/tutorial/cplusplus/\">\n",
      "         C++\n",
      "        </a>\n",
      "       </li>\n",
      "       <li class=\"cursor-pointer hover:border-b-2 hover:border-purple-700 active:border-b-4 dark:text-purple-300\">\n",
      "        <a href=\"/tutorial/java/\">\n",
      "         JAVA\n",
      "        </a>\n",
      "       </li>\n",
      "       <li class=\"cursor-pointer hover:border-b-2 hover:border-purple-700 active:border-b-4 dark:text-purple-300\">\n",
      "        <a href=\"/tutorial/python/\">\n",
      "         PYTHON\n",
      "        </a>\n",
      "       </li>\n",
      "       <li class=\"cursor-pointer hover:border-b-2 hover:border-purple-700 active:border-b-4 dark:text-purple-300\">\n",
      "        <a href=\"/tutorial/php/\">\n",
      "         PHP\n",
      "        </a>\n",
      "       </li>\n",
      "       <li class=\"cursor-pointer hover:border-b-2 hover:border-purple-700 active:border-b-4 dark:text-purple-300\">\n",
      "        <a href=\"/tutorial/react-home/\">\n",
      "         REACT JS\n",
      "        </a>\n",
      "       </li>\n",
      "      </ul>\n",
      "      <input class=\"hidden right-10 md:right-10 absolute w-48 md:w-60 h-8 bg-white rounded border-2 border-purple-500 focus:border-purple-700 focus:ring-2 focus:ring-indigo-200 text-base outline-none text-gray-700 py-1 px-3 leading-8 transition-colors duration-200 ease-in-out dark:bg-gray-500 dark:text-gray-200\" id=\"search\" placeholder=\"Search...\"/>\n",
      "      <svg class=\"text-purple-700 dark:text-purple-300 cursor-pointer text-2xl absolute right-3 md:right-12 }\" fill=\"currentColor\" height=\"1em\" stroke=\"currentColor\" stroke-width=\"0\" viewbox=\"0 0 1024 1024\" width=\"1em\" xmlns=\"http://www.w3.org/2000/svg\">\n",
      "       <path d=\"M909.6 854.5L649.9 594.8C690.2 542.7 712 479 712 412c0-80.2-31.3-155.4-87.9-212.1-56.6-56.7-132-87.9-212.1-87.9s-155.5 31.3-212.1 87.9C143.2 256.5 112 331.8 112 412c0 80.1 31.3 155.5 87.9 212.1C256.5 680.8 331.8 712 412 712c67 0 130.6-21.8 182.7-62l259.7 259.6a8.2 8.2 0 0 0 11.6 0l43.6-43.5a8.2 8.2 0 0 0 0-11.6zM570.4 570.4C528 612.7 471.8 636 412 636s-116-23.3-158.4-65.6C211.3 528 188 471.8 188 412s23.3-116.1 65.6-158.4C296 211.3 352.2 188 412 188s116.1 23.2 158.4 65.6S636 352.2 636 412s-23.3 116.1-65.6 158.4z\">\n",
      "       </path>\n",
      "      </svg>\n",
      "     </div>\n",
      "     <div class=\"bg-purple-100 text-center shadow-lg absolute w-full dark:bg-gray-600 hidden mt-1 md:hidden\">\n",
      "      <ul>\n",
      "       <li class=\"pt-4 text-purple-500 font-bold\">\n",
      "        <a href=\"/\">\n",
      "         Home\n",
      "        </a>\n",
      "       </li>\n",
      "       <li class=\"pt-4 text-purple-500 font-bold\">\n",
      "        <a href=\"/videos/\">\n",
      "         Courses\n",
      "        </a>\n",
      "       </li>\n",
      "       <li class=\"pt-4 text-purple-500 font-bold flex justify-center ml-3\">\n",
      "        Tutorial\n",
      "        <!-- -->\n",
      "        <svg class=\"mt-1\" fill=\"currentColor\" height=\"1em\" stroke=\"currentColor\" stroke-width=\"0\" viewbox=\"0 0 1024 1024\" width=\"1em\" xmlns=\"http://www.w3.org/2000/svg\">\n",
      "         <path d=\"M840.4 300H183.6c-19.7 0-30.7 20.8-18.5 35l328.4 380.8c9.4 10.9 27.5 10.9 37 0L858.9 335c12.2-14.2 1.2-35-18.5-35z\">\n",
      "         </path>\n",
      "        </svg>\n",
      "       </li>\n",
      "       <li class=\"my-2 text-purple-500 font-semibold text-sm bg-purple-200 dark:bg-gray-700 hidden\">\n",
      "        <ul>\n",
      "         <li class=\"cursor-pointer py-1 border-y-2 dark:border-gray-400\">\n",
      "          <a href=\"/tutorial/html-home/\">\n",
      "           HTML\n",
      "          </a>\n",
      "         </li>\n",
      "         <li class=\"cursor-pointer py-1 border-b-2 dark:border-gray-400\">\n",
      "          <a href=\"/tutorial/css-home/\">\n",
      "           CSS\n",
      "          </a>\n",
      "         </li>\n",
      "         <li class=\"cursor-pointer py-1 border-b-2 dark:border-gray-400\">\n",
      "          <a href=\"/tutorial/js/\">\n",
      "           JS\n",
      "          </a>\n",
      "         </li>\n",
      "         <li class=\"cursor-pointer py-1 border-b-2 dark:border-gray-400\">\n",
      "          <a href=\"/tutorial/c/\">\n",
      "           C\n",
      "          </a>\n",
      "         </li>\n",
      "         <li class=\"cursor-pointer py-1 border-b-2 dark:border-gray-400\">\n",
      "          <a href=\"/tutorial/cplusplus/\">\n",
      "           C++\n",
      "          </a>\n",
      "         </li>\n",
      "         <li class=\"cursor-pointer py-1 border-b-2 dark:border-gray-400\">\n",
      "          <a href=\"/tutorial/java/\">\n",
      "           JAVA\n",
      "          </a>\n",
      "         </li>\n",
      "         <li class=\"cursor-pointer py-1 border-b-2 dark:border-gray-400\">\n",
      "          <a href=\"/tutorial/python/\">\n",
      "           PYTHON\n",
      "          </a>\n",
      "         </li>\n",
      "         <li class=\"cursor-pointer py-1 border-b-2 dark:border-gray-400\">\n",
      "          <a href=\"/tutorial/php/\">\n",
      "           PHP\n",
      "          </a>\n",
      "         </li>\n",
      "         <li class=\"cursor-pointer py-1 border-b-2 dark:border-gray-400\">\n",
      "          <a href=\"/tutorial/react-home/\">\n",
      "           REACT JS\n",
      "          </a>\n",
      "         </li>\n",
      "        </ul>\n",
      "       </li>\n",
      "       <li class=\"pt-4 text-purple-500 font-bold\">\n",
      "        <a href=\"/blog/\">\n",
      "         Blog\n",
      "        </a>\n",
      "       </li>\n",
      "       <li class=\"pt-4 text-purple-500 font-bold\">\n",
      "        <a href=\"/notes/\">\n",
      "         Notes\n",
      "        </a>\n",
      "       </li>\n",
      "       <li class=\"pt-4 text-purple-500 font-bold\">\n",
      "        <a href=\"/contact/\">\n",
      "         Contact\n",
      "        </a>\n",
      "       </li>\n",
      "       <li class=\"pt-4 text-purple-500 font-bold\">\n",
      "        <a href=\"/my-gear/\">\n",
      "         My Gear\n",
      "        </a>\n",
      "       </li>\n",
      "       <li class=\"pt-4 pb-4 text-purple-500 font-bold\">\n",
      "        <a href=\"/work/\">\n",
      "         Work With Us\n",
      "        </a>\n",
      "       </li>\n",
      "      </ul>\n",
      "     </div>\n",
      "    </div>\n",
      "    <div class=\"dark:bg-gray-900\">\n",
      "     <div class=\"Toastify\">\n",
      "     </div>\n",
      "     <div class=\"flex bg-white h-96 container mx-auto dark:bg-gray-900\">\n",
      "      <div class=\"flex items-center text-center lg:text-left px-8 md:px-12 lg:w-1/2\">\n",
      "       <div>\n",
      "        <h2 class=\"text-3xl font-semibold text-gray-800 md:text-4xl dark:text-white\">\n",
      "         Welcome to\n",
      "         <!-- -->\n",
      "         <span class=\"text-purple-700 dark:text-purple-600\">\n",
      "         </span>\n",
      "        </h2>\n",
      "        <h4 class=\"text-xl font-semibold text-gray-800 md:text-2xl dark:text-white\">\n",
      "         Learn\n",
      "         <!-- -->\n",
      "         <span class=\"text-purple-700 dark:text-purple-600\">\n",
      "         </span>\n",
      "        </h4>\n",
      "        <p class=\"mt-2 text-sm text-gray-500 md:text-base dark:text-gray-400\">\n",
      "         Confused on which course to take? I have got you covered. Browse courses and find out the best course for you. Its free! Code With Harry is my attempt to teach basics and those coding techniques to people in short time which took me ages to learn.\n",
      "        </p>\n",
      "        <div class=\"flex justify-center lg:justify-start mt-6\">\n",
      "         <button class=\"px-3 py-2 lg:px-4 lg:py-3 bg-gray-900 text-gray-200 text-xs font-semibold rounded hover:text-white hover:bg-gray-800 dark:bg-gray-100 dark:text-gray-600 dark:hover:bg-gray-300\">\n",
      "          Free Courses\n",
      "         </button>\n",
      "         <button class=\"px-3 py-2 mx-4 lg:px-4 lg:py-3 bg-gray-300 text-gray-900 text-xs font-semibold rounded hover:bg-gray-400\">\n",
      "          Explore Blog\n",
      "         </button>\n",
      "        </div>\n",
      "       </div>\n",
      "      </div>\n",
      "      <div class=\"hidden lg:block lg:w-1/2\" style=\"clip-path:polygon(10% 0px, 100% 0%, 100% 100%, 0px 100%)\">\n",
      "       <div class=\"h-full object-cover\" style='background-image:url(\"https://images.unsplash.com/photo-1498050108023-c5249f4df085?ixlib=rb-1.2.1&amp;ixid=eyJhcHBfaWQiOjEyMDd9&amp;auto=format&amp;fit=crop&amp;w=1352&amp;q=80\")'>\n",
      "        <div class=\"h-full bg-black opacity-25\">\n",
      "        </div>\n",
      "       </div>\n",
      "      </div>\n",
      "     </div>\n",
      "     <div class=\"container mx-auto lg:my-2\">\n",
      "      <h2 class=\"text-3xl font-medium title-font text-gray-900 my-10 text-center dark:text-purple-600\">\n",
      "       Recommended Courses\n",
      "      </h2>\n",
      "      <div class=\"flex flex-wrap justify-center mx-6\">\n",
      "       <div class=\"p-4 md:w-1/3 flex justify-center\">\n",
      "        <div class=\"max-w-sm rounded-2xl overflow-hidden shadow-lg dark:bg-slate-800\">\n",
      "         <span style=\"box-sizing:border-box;display:inline-block;overflow:hidden;width:initial;height:initial;background:none;opacity:1;border:0;margin:0;padding:0;position:relative;max-width:100%\">\n",
      "          <span style=\"box-sizing:border-box;display:block;width:initial;height:initial;background:none;opacity:1;border:0;margin:0;padding:0;max-width:100%\">\n",
      "           <img alt=\"\" aria-hidden=\"true\" src=\"data:image/svg+xml,%3csvg%20xmlns=%27http://www.w3.org/2000/svg%27%20version=%271.1%27%20width=%27384%27%20height=%27216%27/%3e\" style=\"display:block;max-width:100%;width:initial;height:initial;background:none;opacity:1;border:0;margin:0;padding:0\"/>\n",
      "          </span>\n",
      "          <img alt=\"img\" class=\"lg:h-48 md:h-36 w-full object-cover object-center\" data-nimg=\"intrinsic\" decoding=\"async\" src=\"data:image/gif;base64,R0lGODlhAQABAIAAAAAAAP///yH5BAEAAAAALAAAAAABAAEAAAIBRAA7\" style=\"position:absolute;top:0;left:0;bottom:0;right:0;box-sizing:border-box;padding:0;border:none;margin:auto;display:block;width:0;height:0;min-width:100%;max-width:100%;min-height:100%;max-height:100%\"/>\n",
      "          <noscript>\n",
      "           <img alt=\"img\" class=\"lg:h-48 md:h-36 w-full object-cover object-center\" data-nimg=\"intrinsic\" decoding=\"async\" loading=\"lazy\" src=\"/_next/image/?url=https%3A%2F%2Fcwh-full-next-space.fra1.digitaloceanspaces.com%2Fvideoseries%2Fpython-100-days-of-code-1%2F7wnove7K-ZQ-HD.jpg&amp;w=828&amp;q=75\" srcset=\"/_next/image/?url=https%3A%2F%2Fcwh-full-next-space.fra1.digitaloceanspaces.com%2Fvideoseries%2Fpython-100-days-of-code-1%2F7wnove7K-ZQ-HD.jpg&amp;w=384&amp;q=75 1x, /_next/image/?url=https%3A%2F%2Fcwh-full-next-space.fra1.digitaloceanspaces.com%2Fvideoseries%2Fpython-100-days-of-code-1%2F7wnove7K-ZQ-HD.jpg&amp;w=828&amp;q=75 2x\" style=\"position:absolute;top:0;left:0;bottom:0;right:0;box-sizing:border-box;padding:0;border:none;margin:auto;display:block;width:0;height:0;min-width:100%;max-width:100%;min-height:100%;max-height:100%\"/>\n",
      "          </noscript>\n",
      "         </span>\n",
      "         <div class=\"px-6 md:my-11 lg:my-0 md:h-72 lg:h-64 lg:py-4 xl:h-52\">\n",
      "          <span class=\"tracking-widest text-xs title-font font-medium mb-1 dark:text-gray-400\">\n",
      "           FREE COURSE\n",
      "          </span>\n",
      "          <div class=\"title-font flex text-lg font-medium text-gray-900 mb-3 dark:text-white\">\n",
      "           Python Tutorials - 100 Days of Code\n",
      "          </div>\n",
      "          <p class=\"text-gray-700 text-base dark:text-gray-400\">\n",
      "           Python is one of the most demanded programming languages in the job market. Surprisingly, it is equally easy to learn and master Python. Let's commit our 100 days of code to python!\n",
      "          </p>\n",
      "         </div>\n",
      "         <div class=\"px-6 pt-4 pb-2\">\n",
      "          <span class=\"inline-block text-white bg-purple-700 rounded-full px-3 py-2 text-sm font-semibold mr-2 my-2 cursor-pointer hover:bg-purple-600\">\n",
      "           Start Watching\n",
      "          </span>\n",
      "         </div>\n",
      "        </div>\n",
      "       </div>\n",
      "       <div class=\"p-4 md:w-1/3 flex justify-center\">\n",
      "        <div class=\"max-w-sm rounded-2xl overflow-hidden shadow-lg dark:bg-slate-800\">\n",
      "         <span style=\"box-sizing:border-box;display:inline-block;overflow:hidden;width:initial;height:initial;background:none;opacity:1;border:0;margin:0;padding:0;position:relative;max-width:100%\">\n",
      "          <span style=\"box-sizing:border-box;display:block;width:initial;height:initial;background:none;opacity:1;border:0;margin:0;padding:0;max-width:100%\">\n",
      "           <img alt=\"\" aria-hidden=\"true\" src=\"data:image/svg+xml,%3csvg%20xmlns=%27http://www.w3.org/2000/svg%27%20version=%271.1%27%20width=%27384%27%20height=%27216%27/%3e\" style=\"display:block;max-width:100%;width:initial;height:initial;background:none;opacity:1;border:0;margin:0;padding:0\"/>\n",
      "          </span>\n",
      "          <img alt=\"img\" class=\"lg:h-48 md:h-36 w-full object-cover object-center\" data-nimg=\"intrinsic\" decoding=\"async\" src=\"data:image/gif;base64,R0lGODlhAQABAIAAAAAAAP///yH5BAEAAAAALAAAAAABAAEAAAIBRAA7\" style=\"position:absolute;top:0;left:0;bottom:0;right:0;box-sizing:border-box;padding:0;border:none;margin:auto;display:block;width:0;height:0;min-width:100%;max-width:100%;min-height:100%;max-height:100%\"/>\n",
      "          <noscript>\n",
      "           <img alt=\"img\" class=\"lg:h-48 md:h-36 w-full object-cover object-center\" data-nimg=\"intrinsic\" decoding=\"async\" loading=\"lazy\" src=\"/_next/image/?url=https%3A%2F%2Fcwh-full-next-space.fra1.digitaloceanspaces.com%2Fvideoseries%2Fultimate-js-tutorial-hindi-1%2FJS-Thumb.jpg&amp;w=828&amp;q=75\" srcset=\"/_next/image/?url=https%3A%2F%2Fcwh-full-next-space.fra1.digitaloceanspaces.com%2Fvideoseries%2Fultimate-js-tutorial-hindi-1%2FJS-Thumb.jpg&amp;w=384&amp;q=75 1x, /_next/image/?url=https%3A%2F%2Fcwh-full-next-space.fra1.digitaloceanspaces.com%2Fvideoseries%2Fultimate-js-tutorial-hindi-1%2FJS-Thumb.jpg&amp;w=828&amp;q=75 2x\" style=\"position:absolute;top:0;left:0;bottom:0;right:0;box-sizing:border-box;padding:0;border:none;margin:auto;display:block;width:0;height:0;min-width:100%;max-width:100%;min-height:100%;max-height:100%\"/>\n",
      "          </noscript>\n",
      "         </span>\n",
      "         <div class=\"px-6 md:my-11 lg:my-0 md:h-72 lg:h-64 lg:py-4 xl:h-52\">\n",
      "          <span class=\"tracking-widest text-xs title-font font-medium mb-1 dark:text-gray-400\">\n",
      "           FREE COURSE\n",
      "          </span>\n",
      "          <div class=\"title-font flex text-lg font-medium text-gray-900 mb-3 dark:text-white\">\n",
      "           Ultimate JavaScript Course\n",
      "          </div>\n",
      "          <p class=\"text-gray-700 text-base dark:text-gray-400\">\n",
      "           This latest JavaScript course comes with premium curriculum that covers everything from basics to advance. On top of that, you will get my handwritten notes of JS for completely free. What are you waiting for? Just Enroll Buddy\n",
      "          </p>\n",
      "         </div>\n",
      "         <div class=\"px-6 pt-4 pb-2\">\n",
      "          <span class=\"inline-block text-white bg-purple-700 rounded-full px-3 py-2 text-sm font-semibold mr-2 my-2 cursor-pointer hover:bg-purple-600\">\n",
      "           Start Watching\n",
      "          </span>\n",
      "         </div>\n",
      "        </div>\n",
      "       </div>\n",
      "       <div class=\"p-4 md:w-1/3 flex justify-center\">\n",
      "        <div class=\"max-w-sm rounded-2xl overflow-hidden shadow-lg dark:bg-slate-800\">\n",
      "         <span style=\"box-sizing:border-box;display:inline-block;overflow:hidden;width:initial;height:initial;background:none;opacity:1;border:0;margin:0;padding:0;position:relative;max-width:100%\">\n",
      "          <span style=\"box-sizing:border-box;display:block;width:initial;height:initial;background:none;opacity:1;border:0;margin:0;padding:0;max-width:100%\">\n",
      "           <img alt=\"\" aria-hidden=\"true\" src=\"data:image/svg+xml,%3csvg%20xmlns=%27http://www.w3.org/2000/svg%27%20version=%271.1%27%20width=%27384%27%20height=%27216%27/%3e\" style=\"display:block;max-width:100%;width:initial;height:initial;background:none;opacity:1;border:0;margin:0;padding:0\"/>\n",
      "          </span>\n",
      "          <img alt=\"img\" class=\"lg:h-48 md:h-36 w-full object-cover object-center\" data-nimg=\"intrinsic\" decoding=\"async\" src=\"data:image/gif;base64,R0lGODlhAQABAIAAAAAAAP///yH5BAEAAAAALAAAAAABAAEAAAIBRAA7\" style=\"position:absolute;top:0;left:0;bottom:0;right:0;box-sizing:border-box;padding:0;border:none;margin:auto;display:block;width:0;height:0;min-width:100%;max-width:100%;min-height:100%;max-height:100%\"/>\n",
      "          <noscript>\n",
      "           <img alt=\"img\" class=\"lg:h-48 md:h-36 w-full object-cover object-center\" data-nimg=\"intrinsic\" decoding=\"async\" loading=\"lazy\" src=\"/_next/image/?url=https%3A%2F%2Fcodewithharry.nyc3.cdn.digitaloceanspaces.com%2Fassets%2F090fefe24d23d47584f6ddc7eb5a241e.png&amp;w=828&amp;q=75\" srcset=\"/_next/image/?url=https%3A%2F%2Fcodewithharry.nyc3.cdn.digitaloceanspaces.com%2Fassets%2F090fefe24d23d47584f6ddc7eb5a241e.png&amp;w=384&amp;q=75 1x, /_next/image/?url=https%3A%2F%2Fcodewithharry.nyc3.cdn.digitaloceanspaces.com%2Fassets%2F090fefe24d23d47584f6ddc7eb5a241e.png&amp;w=828&amp;q=75 2x\" style=\"position:absolute;top:0;left:0;bottom:0;right:0;box-sizing:border-box;padding:0;border:none;margin:auto;display:block;width:0;height:0;min-width:100%;max-width:100%;min-height:100%;max-height:100%\"/>\n",
      "          </noscript>\n",
      "         </span>\n",
      "         <div class=\"px-6 md:my-11 lg:my-0 md:h-72 lg:h-64 lg:py-4 xl:h-52\">\n",
      "          <span class=\"tracking-widest text-xs title-font font-medium mb-1 dark:text-gray-400\">\n",
      "           FREE COURSE\n",
      "          </span>\n",
      "          <div class=\"title-font flex text-lg font-medium text-gray-900 mb-3 dark:text-white\">\n",
      "           React JS Tutorials For Beginners\n",
      "          </div>\n",
      "          <p class=\"text-gray-700 text-base dark:text-gray-400\">\n",
      "           React is a free and open-source front-end JavaScript library. This series will cover React from starting to the end. We will learn react from the ground up!\n",
      "          </p>\n",
      "         </div>\n",
      "         <div class=\"px-6 pt-4 pb-2\">\n",
      "          <span class=\"inline-block text-white bg-purple-700 rounded-full px-3 py-2 text-sm font-semibold mr-2 my-2 cursor-pointer hover:bg-purple-600\">\n",
      "           Start Watching\n",
      "          </span>\n",
      "         </div>\n",
      "        </div>\n",
      "       </div>\n",
      "      </div>\n",
      "     </div>\n",
      "     <div class=\"container mx-auto\">\n",
      "      <section class=\"text-gray-600 body-font\">\n",
      "       <div class=\"container px-5 py-12 mx-auto\">\n",
      "        <h2 class=\"text-3xl font-medium title-font text-gray-900 mb-12 text-center dark:text-purple-600\">\n",
      "         Testimonials\n",
      "        </h2>\n",
      "        <div class=\"flex flex-wrap -m-4\">\n",
      "         <div class=\"p-4 md:w-1/2 w-full\">\n",
      "          <div class=\"h-full bg-gray-100 p-8 rounded dark:bg-gray-700\">\n",
      "           <svg class=\"block w-5 h-5 text-gray-400 mb-4\" fill=\"currentColor\" viewbox=\"0 0 975.036 975.036\" xmlns=\"http://www.w3.org/2000/svg\">\n",
      "            <path d=\"M925.036 57.197h-304c-27.6 0-50 22.4-50 50v304c0 27.601 22.4 50 50 50h145.5c-1.9 79.601-20.4 143.3-55.4 191.2-27.6 37.8-69.399 69.1-125.3 93.8-25.7 11.3-36.8 41.7-24.8 67.101l36 76c11.6 24.399 40.3 35.1 65.1 24.399 66.2-28.6 122.101-64.8 167.7-108.8 55.601-53.7 93.7-114.3 114.3-181.9 20.601-67.6 30.9-159.8 30.9-276.8v-239c0-27.599-22.401-50-50-50zM106.036 913.497c65.4-28.5 121-64.699 166.9-108.6 56.1-53.7 94.4-114.1 115-181.2 20.6-67.1 30.899-159.6 30.899-277.5v-239c0-27.6-22.399-50-50-50h-304c-27.6 0-50 22.4-50 50v304c0 27.601 22.4 50 50 50h145.5c-1.9 79.601-20.4 143.3-55.4 191.2-27.6 37.8-69.4 69.1-125.3 93.8-25.7 11.3-36.8 41.7-24.8 67.101l35.9 75.8c11.601 24.399 40.501 35.2 65.301 24.399z\">\n",
      "            </path>\n",
      "           </svg>\n",
      "           <p class=\"leading-relaxed mb-6 dark:text-gray-300\">\n",
      "            I don't have words to thank this man, I'm really grateful to have this channel and website in my daily routine. If you're a mere beginner, then you can trust this guy and can put your time into his content. I can assure you that it'll be worth it.\n",
      "           </p>\n",
      "           <span class=\"inline-flex items-center\">\n",
      "            <span class=\"flex-grow flex flex-col pl-4\">\n",
      "             <span class=\"title-font font-medium text-gray-900 dark:text-white\">\n",
      "              Mohit Kumar\n",
      "             </span>\n",
      "             <span class=\"text-gray-500 text-sm dark:text-gray-400\">\n",
      "              Web Developer\n",
      "             </span>\n",
      "            </span>\n",
      "           </span>\n",
      "          </div>\n",
      "         </div>\n",
      "         <div class=\"p-4 md:w-1/2 w-full\">\n",
      "          <div class=\"h-full bg-gray-100 p-8 rounded dark:bg-gray-700\">\n",
      "           <svg class=\"block w-5 h-5 text-gray-400 mb-4\" fill=\"currentColor\" viewbox=\"0 0 975.036 975.036\" xmlns=\"http://www.w3.org/2000/svg\">\n",
      "            <path d=\"M925.036 57.197h-304c-27.6 0-50 22.4-50 50v304c0 27.601 22.4 50 50 50h145.5c-1.9 79.601-20.4 143.3-55.4 191.2-27.6 37.8-69.399 69.1-125.3 93.8-25.7 11.3-36.8 41.7-24.8 67.101l36 76c11.6 24.399 40.3 35.1 65.1 24.399 66.2-28.6 122.101-64.8 167.7-108.8 55.601-53.7 93.7-114.3 114.3-181.9 20.601-67.6 30.9-159.8 30.9-276.8v-239c0-27.599-22.401-50-50-50zM106.036 913.497c65.4-28.5 121-64.699 166.9-108.6 56.1-53.7 94.4-114.1 115-181.2 20.6-67.1 30.899-159.6 30.899-277.5v-239c0-27.6-22.399-50-50-50h-304c-27.6 0-50 22.4-50 50v304c0 27.601 22.4 50 50 50h145.5c-1.9 79.601-20.4 143.3-55.4 191.2-27.6 37.8-69.4 69.1-125.3 93.8-25.7 11.3-36.8 41.7-24.8 67.101l35.9 75.8c11.601 24.399 40.501 35.2 65.301 24.399z\">\n",
      "            </path>\n",
      "           </svg>\n",
      "           <p class=\"leading-relaxed mb-6 dark:text-gray-300\">\n",
      "            For everyone who wants to level up their #Coding and #Dev skills - seriously, this channel is for you! Both basic and advanced stacks are covered on this channel, and one can learn according to his skill levels. And the icing on the cake is, everything is available for free.\n",
      "           </p>\n",
      "           <span class=\"inline-flex items-center\">\n",
      "            <span class=\"flex-grow flex flex-col pl-4\">\n",
      "             <span class=\"title-font font-medium text-gray-900 dark:text-white\">\n",
      "              Rakesh Shetty\n",
      "             </span>\n",
      "             <span class=\"text-gray-500 text-sm dark:text-gray-400\">\n",
      "              Web Developer\n",
      "             </span>\n",
      "            </span>\n",
      "           </span>\n",
      "          </div>\n",
      "         </div>\n",
      "        </div>\n",
      "       </div>\n",
      "      </section>\n",
      "     </div>\n",
      "    </div>\n",
      "    <footer class=\"text-gray-600 bg-white body-font dark:bg-gray-800 dark:text-white\">\n",
      "     <div class=\"container mx-auto py-4 px-5 flex flex-wrap flex-col sm:flex-row\">\n",
      "      <div class=\"flex title-font font-medium items-center md:justify-start justify-center text-gray-900 dark:text-gray-200\">\n",
      "       <span style=\"box-sizing:border-box;display:inline-block;overflow:hidden;width:initial;height:initial;background:none;opacity:1;border:0;margin:0;padding:0;position:relative;max-width:100%\">\n",
      "        <span style=\"box-sizing:border-box;display:block;width:initial;height:initial;background:none;opacity:1;border:0;margin:0;padding:0;max-width:100%\">\n",
      "         <img alt=\"\" aria-hidden=\"true\" src=\"data:image/svg+xml,%3csvg%20xmlns=%27http://www.w3.org/2000/svg%27%20version=%271.1%27%20width=%2748%27%20height=%2748%27/%3e\" style=\"display:block;max-width:100%;width:initial;height:initial;background:none;opacity:1;border:0;margin:0;padding:0\"/>\n",
      "        </span>\n",
      "        <img alt=\"CodeWithHarry Logo\" class=\"rounded h-12\" data-nimg=\"intrinsic\" decoding=\"async\" name=\"logo\" src=\"data:image/gif;base64,R0lGODlhAQABAIAAAAAAAP///yH5BAEAAAAALAAAAAABAAEAAAIBRAA7\" style=\"position:absolute;top:0;left:0;bottom:0;right:0;box-sizing:border-box;padding:0;border:none;margin:auto;display:block;width:0;height:0;min-width:100%;max-width:100%;min-height:100%;max-height:100%\"/>\n",
      "        <noscript>\n",
      "         <img alt=\"CodeWithHarry Logo\" class=\"rounded h-12\" data-nimg=\"intrinsic\" decoding=\"async\" loading=\"lazy\" name=\"logo\" src=\"/_next/image/?url=%2Fimg%2Flogo-blue.png&amp;w=96&amp;q=75\" srcset=\"/_next/image/?url=%2Fimg%2Flogo-blue.png&amp;w=48&amp;q=75 1x, /_next/image/?url=%2Fimg%2Flogo-blue.png&amp;w=96&amp;q=75 2x\" style=\"position:absolute;top:0;left:0;bottom:0;right:0;box-sizing:border-box;padding:0;border:none;margin:auto;display:block;width:0;height:0;min-width:100%;max-width:100%;min-height:100%;max-height:100%\"/>\n",
      "        </noscript>\n",
      "       </span>\n",
      "       <div class=\"ml-3 text-xl\">\n",
      "        CodeWithHarry\n",
      "       </div>\n",
      "      </div>\n",
      "      <p class=\"text-sm text-gray-500 sm:ml-4 sm:pl-4 sm:border-l-2 sm:border-gray-200 sm:py-2 mt-4 md:mt-2 mb-2 md:mb-0 text-center dark:text-gray-400\">\n",
      "       Copyright © 2022 CodeWithHarry.com\n",
      "      </p>\n",
      "      <div class=\"inline-flex sm:ml-auto sm:mt-0 mt-2 justify-center sm:justify-start\" style=\"align-items:center\">\n",
      "       <a aria-label=\"facebook\" class=\"text-gray-500 dark:text-gray-300\" href=\"https://www.facebook.com/codewithharry\" rel=\"noreferrer\" target=\"_blank\">\n",
      "        <svg class=\"w-5 h-5\" fill=\"currentColor\" stroke-linecap=\"round\" stroke-linejoin=\"round\" stroke-width=\"2\" viewbox=\"0 0 24 24\">\n",
      "         <path d=\"M18 2h-3a5 5 0 00-5 5v3H7v4h3v8h4v-8h3l1-4h-4V7a1 1 0 011-1h3z\">\n",
      "         </path>\n",
      "        </svg>\n",
      "       </a>\n",
      "       <a aria-label=\"twitter\" class=\"ml-3 text-gray-500 dark:text-gray-300\" href=\"https://www.twitter.com/codewithharry\" rel=\"noreferrer\" target=\"_blank\">\n",
      "        <svg class=\"w-5 h-5\" fill=\"currentColor\" stroke-linecap=\"round\" stroke-linejoin=\"round\" stroke-width=\"2\" viewbox=\"0 0 24 24\">\n",
      "         <path d=\"M23 3a10.9 10.9 0 01-3.14 1.53 4.48 4.48 0 00-7.86 3v1A10.66 10.66 0 013 4s-4 9 5 13a11.64 11.64 0 01-7 2c9 5 20 0 20-11.5a4.5 4.5 0 00-.08-.83A7.72 7.72 0 0023 3z\">\n",
      "         </path>\n",
      "        </svg>\n",
      "       </a>\n",
      "       <a aria-label=\"instagram\" class=\"ml-3 text-gray-500 dark:text-gray-300\" href=\"https://www.instagram.com/codewithharry\" rel=\"noreferrer\" target=\"_blank\">\n",
      "        <svg class=\"w-5 h-5\" fill=\"none\" stroke=\"currentColor\" stroke-linecap=\"round\" stroke-linejoin=\"round\" stroke-width=\"2\" viewbox=\"0 0 24 24\">\n",
      "         <rect height=\"20\" rx=\"5\" ry=\"5\" width=\"20\" x=\"2\" y=\"2\">\n",
      "         </rect>\n",
      "         <path d=\"M16 11.37A4 4 0 1112.63 8 4 4 0 0116 11.37zm1.5-4.87h.01\">\n",
      "         </path>\n",
      "        </svg>\n",
      "       </a>\n",
      "       <a aria-label=\"github\" class=\"ml-3 text-gray-500 dark:text-gray-300\" href=\"https://www.github.com/codewithharry\" rel=\"noreferrer\" target=\"_blank\">\n",
      "        <svg class=\"text-xl\" fill=\"currentColor\" height=\"1em\" stroke=\"currentColor\" stroke-width=\"0\" viewbox=\"0 0 1024 1024\" width=\"1em\" xmlns=\"http://www.w3.org/2000/svg\">\n",
      "         <path d=\"M511.6 76.3C264.3 76.2 64 276.4 64 523.5 64 718.9 189.3 885 363.8 946c23.5 5.9 19.9-10.8 19.9-22.2v-77.5c-135.7 15.9-141.2-73.9-150.3-88.9C215 726 171.5 718 184.5 703c30.9-15.9 62.4 4 98.9 57.9 26.4 39.1 77.9 32.5 104 26 5.7-23.5 17.9-44.5 34.7-60.8-140.6-25.2-199.2-111-199.2-213 0-49.5 16.3-95 48.3-131.7-20.4-60.5 1.9-112.3 4.9-120 58.1-5.2 118.5 41.6 123.2 45.3 33-8.9 70.7-13.6 112.9-13.6 42.4 0 80.2 4.9 113.5 13.9 11.3-8.6 67.3-48.8 121.3-43.9 2.9 7.7 24.7 58.3 5.5 118 32.4 36.8 48.9 82.7 48.9 132.3 0 102.2-59 188.1-200 212.9a127.5 127.5 0 0 1 38.1 91v112.5c.8 9 0 17.9 15 17.9 177.1-59.7 304.6-227 304.6-424.1 0-247.2-200.4-447.3-447.5-447.3z\">\n",
      "         </path>\n",
      "        </svg>\n",
      "       </a>\n",
      "      </div>\n",
      "     </div>\n",
      "    </footer>\n",
      "   </div>\n",
      "  </div>\n",
      "  <script id=\"__NEXT_DATA__\" type=\"application/json\">\n",
      "   {\"props\":{\"pageProps\":{},\"__N_SSP\":true},\"page\":\"/\",\"query\":{},\"buildId\":\"m_hyoqLdBgkk3xZsvW8xP\",\"isFallback\":false,\"gssp\":true,\"scriptLoader\":[]}\n",
      "  </script>\n",
      " </body>\n",
      "</html>\n",
      "\n"
     ]
    }
   ],
   "source": [
    "import requests\n",
    "from bs4 import BeautifulSoup\n",
    "url = \"https://codewithharry.com\"\n",
    "\n",
    "r = requests.get(url)\n",
    "soup = BeautifulSoup(r.content, 'html.parser')\n",
    "\n",
    "print(soup.prettify())\t# to print html in tree structure"
   ]
  },
  {
   "cell_type": "code",
   "execution_count": 102,
   "id": "ea8dc68a",
   "metadata": {
    "ExecuteTime": {
     "end_time": "2023-06-28T07:11:14.928396Z",
     "start_time": "2023-06-28T07:11:14.890820Z"
    }
   },
   "outputs": [],
   "source": [
    "soup = BeautifulSoup(htmlContent, 'html.parser')"
   ]
  },
  {
   "cell_type": "code",
   "execution_count": 103,
   "id": "9bb1b2c9",
   "metadata": {
    "ExecuteTime": {
     "end_time": "2023-06-28T07:11:32.396897Z",
     "start_time": "2023-06-28T07:11:29.315079Z"
    }
   },
   "outputs": [],
   "source": [
    "import requests\n",
    "from bs4 import BeautifulSoup\n",
    "url = \"https://www.codewithharry.com/videos/python-web-scraping-tutorial-in-hindi\"\n",
    "\n",
    "r = requests.get(url)\n",
    "soup = BeautifulSoup(r.content, 'html.parser')\n",
    "for i in soup.find_all(\"code\"):\n",
    "    print(i.text)\n",
    "    # We can also do it like this\n",
    "    # print(i.get_text())"
   ]
  },
  {
   "cell_type": "code",
   "execution_count": 104,
   "id": "5bd0f154",
   "metadata": {
    "ExecuteTime": {
     "end_time": "2023-06-28T07:12:17.054679Z",
     "start_time": "2023-06-28T07:12:17.043134Z"
    }
   },
   "outputs": [
    {
     "name": "stdout",
     "output_type": "stream",
     "text": [
      "<title>Web Scraping Tutorial using Python and BeautifulSoup | CodeWithHarry</title>\n"
     ]
    }
   ],
   "source": [
    "title = soup.title\n",
    "print(title)"
   ]
  },
  {
   "cell_type": "code",
   "execution_count": 105,
   "id": "99da3b6a",
   "metadata": {
    "ExecuteTime": {
     "end_time": "2023-06-28T07:12:32.752477Z",
     "start_time": "2023-06-28T07:12:32.741402Z"
    }
   },
   "outputs": [
    {
     "name": "stdout",
     "output_type": "stream",
     "text": [
      "<p class=\"text-sm text-gray-500 sm:ml-4 sm:pl-4 sm:border-l-2 sm:border-gray-200 sm:py-2 mt-4 md:mt-2 mb-2 md:mb-0 text-center dark:text-gray-400\">Copyright © 2022 CodeWithHarry.com</p>\n"
     ]
    }
   ],
   "source": [
    "print(soup.find('p')) "
   ]
  },
  {
   "cell_type": "code",
   "execution_count": null,
   "id": "762490e6",
   "metadata": {},
   "outputs": [],
   "source": []
  },
  {
   "cell_type": "code",
   "execution_count": 109,
   "id": "c2a86a10",
   "metadata": {
    "ExecuteTime": {
     "end_time": "2023-06-28T07:15:10.647162Z",
     "start_time": "2023-06-28T07:15:04.846547Z"
    }
   },
   "outputs": [
    {
     "data": {
      "text/html": [
       "<div>\n",
       "<style scoped>\n",
       "    .dataframe tbody tr th:only-of-type {\n",
       "        vertical-align: middle;\n",
       "    }\n",
       "\n",
       "    .dataframe tbody tr th {\n",
       "        vertical-align: top;\n",
       "    }\n",
       "\n",
       "    .dataframe thead th {\n",
       "        text-align: right;\n",
       "    }\n",
       "</style>\n",
       "<table border=\"1\" class=\"dataframe\">\n",
       "  <thead>\n",
       "    <tr style=\"text-align: right;\">\n",
       "      <th></th>\n",
       "      <th>Title</th>\n",
       "      <th>Star Rating</th>\n",
       "      <th>Price</th>\n",
       "    </tr>\n",
       "  </thead>\n",
       "  <tbody>\n",
       "    <tr>\n",
       "      <th>0</th>\n",
       "      <td>A Light in the Attic</td>\n",
       "      <td>Three</td>\n",
       "      <td>51.77</td>\n",
       "    </tr>\n",
       "    <tr>\n",
       "      <th>1</th>\n",
       "      <td>Tipping the Velvet</td>\n",
       "      <td>One</td>\n",
       "      <td>53.74</td>\n",
       "    </tr>\n",
       "    <tr>\n",
       "      <th>2</th>\n",
       "      <td>Soumission</td>\n",
       "      <td>One</td>\n",
       "      <td>50.10</td>\n",
       "    </tr>\n",
       "    <tr>\n",
       "      <th>3</th>\n",
       "      <td>Sharp Objects</td>\n",
       "      <td>Four</td>\n",
       "      <td>47.82</td>\n",
       "    </tr>\n",
       "    <tr>\n",
       "      <th>4</th>\n",
       "      <td>Sapiens: A Brief History of Humankind</td>\n",
       "      <td>Five</td>\n",
       "      <td>54.23</td>\n",
       "    </tr>\n",
       "    <tr>\n",
       "      <th>...</th>\n",
       "      <td>...</td>\n",
       "      <td>...</td>\n",
       "      <td>...</td>\n",
       "    </tr>\n",
       "    <tr>\n",
       "      <th>75</th>\n",
       "      <td>Security</td>\n",
       "      <td>Two</td>\n",
       "      <td>39.25</td>\n",
       "    </tr>\n",
       "    <tr>\n",
       "      <th>76</th>\n",
       "      <td>Saga, Volume 6 (Saga (Collected Editions) #6)</td>\n",
       "      <td>Three</td>\n",
       "      <td>25.02</td>\n",
       "    </tr>\n",
       "    <tr>\n",
       "      <th>77</th>\n",
       "      <td>Saga, Volume 5 (Saga (Collected Editions) #5)</td>\n",
       "      <td>Two</td>\n",
       "      <td>51.04</td>\n",
       "    </tr>\n",
       "    <tr>\n",
       "      <th>78</th>\n",
       "      <td>Reskilling America: Learning to Labor in the T...</td>\n",
       "      <td>Two</td>\n",
       "      <td>19.83</td>\n",
       "    </tr>\n",
       "    <tr>\n",
       "      <th>79</th>\n",
       "      <td>Rat Queens, Vol. 3: Demons (Rat Queens (Collec...</td>\n",
       "      <td>Three</td>\n",
       "      <td>50.40</td>\n",
       "    </tr>\n",
       "  </tbody>\n",
       "</table>\n",
       "<p>80 rows × 3 columns</p>\n",
       "</div>"
      ],
      "text/plain": [
       "                                                Title Star Rating  Price\n",
       "0                                A Light in the Attic       Three  51.77\n",
       "1                                  Tipping the Velvet         One  53.74\n",
       "2                                          Soumission         One  50.10\n",
       "3                                       Sharp Objects        Four  47.82\n",
       "4               Sapiens: A Brief History of Humankind        Five  54.23\n",
       "..                                                ...         ...    ...\n",
       "75                                           Security         Two  39.25\n",
       "76      Saga, Volume 6 (Saga (Collected Editions) #6)       Three  25.02\n",
       "77      Saga, Volume 5 (Saga (Collected Editions) #5)         Two  51.04\n",
       "78  Reskilling America: Learning to Labor in the T...         Two  19.83\n",
       "79  Rat Queens, Vol. 3: Demons (Rat Queens (Collec...       Three  50.40\n",
       "\n",
       "[80 rows x 3 columns]"
      ]
     },
     "execution_count": 109,
     "metadata": {},
     "output_type": "execute_result"
    }
   ],
   "source": [
    "\n",
    "import requests\n",
    "\n",
    "\n",
    "from bs4 import BeautifulSoup\n",
    "\n",
    "\n",
    "import pandas as pd\n",
    "\n",
    "books = []\n",
    "\n",
    "for i in range(1,5):\n",
    "  url = f\"https://books.toscrape.com/catalogue/page-{i}.html\"\n",
    "  response = requests.get(url)\n",
    "  response = response.content\n",
    "  soup = BeautifulSoup(response, 'html.parser')\n",
    "  ol = soup.find('ol')\n",
    "  articles = ol.find_all('article', class_='product_pod')\n",
    "  for article in articles:\n",
    "    image = article.find('img')\n",
    "    title = image.attrs['alt']\n",
    "    starTag = article.find('p')\n",
    "    star = starTag['class'][1]\n",
    "    price = article.find('p', class_='price_color').text\n",
    "    price = float(price[1:])\n",
    "    books.append([title, star, price])\n",
    "    \n",
    "\n",
    "df = pd.DataFrame(books, columns=['Title', 'Star Rating', 'Price'])\n",
    "df.to_csv('books.csv')\n",
    "df"
   ]
  },
  {
   "cell_type": "code",
   "execution_count": null,
   "id": "07282cfd",
   "metadata": {},
   "outputs": [],
   "source": []
  },
  {
   "cell_type": "code",
   "execution_count": null,
   "id": "7f2c8b2d",
   "metadata": {},
   "outputs": [],
   "source": []
  },
  {
   "cell_type": "code",
   "execution_count": 115,
   "id": "de4046d3",
   "metadata": {
    "ExecuteTime": {
     "end_time": "2023-06-28T08:38:03.002087Z",
     "start_time": "2023-06-28T08:38:02.994698Z"
    }
   },
   "outputs": [],
   "source": [
    "import requests"
   ]
  },
  {
   "cell_type": "code",
   "execution_count": 122,
   "id": "990983ca",
   "metadata": {
    "ExecuteTime": {
     "end_time": "2023-06-28T08:45:00.367078Z",
     "start_time": "2023-06-28T08:45:00.354291Z"
    }
   },
   "outputs": [],
   "source": [
    "from bs4 import BeautifulSoup"
   ]
  },
  {
   "cell_type": "code",
   "execution_count": 116,
   "id": "d508ee6e",
   "metadata": {
    "ExecuteTime": {
     "end_time": "2023-06-28T08:40:50.734815Z",
     "start_time": "2023-06-28T08:40:50.727160Z"
    }
   },
   "outputs": [],
   "source": [
    "url = \"https://books.toscrape.com/catalogue/page-2.html\""
   ]
  },
  {
   "cell_type": "code",
   "execution_count": 117,
   "id": "e182514c",
   "metadata": {
    "ExecuteTime": {
     "end_time": "2023-06-28T08:41:12.382495Z",
     "start_time": "2023-06-28T08:41:11.243294Z"
    }
   },
   "outputs": [],
   "source": [
    "response = requests.get(url)"
   ]
  },
  {
   "cell_type": "code",
   "execution_count": 119,
   "id": "96ee8d88",
   "metadata": {
    "ExecuteTime": {
     "end_time": "2023-06-28T08:42:23.215397Z",
     "start_time": "2023-06-28T08:42:23.204874Z"
    }
   },
   "outputs": [],
   "source": [
    "response = response.content"
   ]
  },
  {
   "cell_type": "code",
   "execution_count": 123,
   "id": "4f3397d6",
   "metadata": {
    "ExecuteTime": {
     "end_time": "2023-06-28T08:46:40.716528Z",
     "start_time": "2023-06-28T08:46:40.708074Z"
    }
   },
   "outputs": [],
   "source": [
    "# response"
   ]
  },
  {
   "cell_type": "code",
   "execution_count": 125,
   "id": "67802717",
   "metadata": {
    "ExecuteTime": {
     "end_time": "2023-06-28T08:49:56.896204Z",
     "start_time": "2023-06-28T08:49:56.857044Z"
    }
   },
   "outputs": [],
   "source": [
    "soup = BeautifulSoup(response,'html.parser')"
   ]
  },
  {
   "cell_type": "code",
   "execution_count": 127,
   "id": "5fcea138",
   "metadata": {
    "ExecuteTime": {
     "end_time": "2023-06-28T08:50:15.529851Z",
     "start_time": "2023-06-28T08:50:15.522272Z"
    }
   },
   "outputs": [],
   "source": [
    "# soup"
   ]
  },
  {
   "cell_type": "code",
   "execution_count": 128,
   "id": "990d70b3",
   "metadata": {
    "ExecuteTime": {
     "end_time": "2023-06-28T08:52:27.800669Z",
     "start_time": "2023-06-28T08:52:27.789364Z"
    }
   },
   "outputs": [],
   "source": [
    "ol = soup.find('ol')"
   ]
  },
  {
   "cell_type": "code",
   "execution_count": 130,
   "id": "5b2bbc23",
   "metadata": {
    "ExecuteTime": {
     "end_time": "2023-06-28T08:56:13.851273Z",
     "start_time": "2023-06-28T08:56:13.837931Z"
    }
   },
   "outputs": [],
   "source": [
    "articles = ol.find_all('article',class_ = 'product_pod')"
   ]
  },
  {
   "cell_type": "code",
   "execution_count": 132,
   "id": "c892acc2",
   "metadata": {
    "ExecuteTime": {
     "end_time": "2023-06-28T08:56:29.783376Z",
     "start_time": "2023-06-28T08:56:29.767799Z"
    }
   },
   "outputs": [],
   "source": [
    "# articles"
   ]
  },
  {
   "cell_type": "code",
   "execution_count": 137,
   "id": "90cd1098",
   "metadata": {
    "ExecuteTime": {
     "end_time": "2023-06-28T09:03:32.626059Z",
     "start_time": "2023-06-28T09:03:32.610828Z"
    }
   },
   "outputs": [],
   "source": [
    " for article in articles:\n",
    "    image = article.find('img')\n",
    "    title = image.attrs['alt']\n",
    "    starTag = article.find('p')\n",
    "    star = starTag['class'][1]\n",
    "    price = article.find('p', class_='price_color').text\n",
    "    price = float(price[1:])\n",
    "    books.append([title, star, price])\n"
   ]
  },
  {
   "cell_type": "code",
   "execution_count": 138,
   "id": "08ec1fb3",
   "metadata": {
    "ExecuteTime": {
     "end_time": "2023-06-28T09:07:12.744643Z",
     "start_time": "2023-06-28T09:07:12.698651Z"
    }
   },
   "outputs": [
    {
     "data": {
      "text/html": [
       "<div>\n",
       "<style scoped>\n",
       "    .dataframe tbody tr th:only-of-type {\n",
       "        vertical-align: middle;\n",
       "    }\n",
       "\n",
       "    .dataframe tbody tr th {\n",
       "        vertical-align: top;\n",
       "    }\n",
       "\n",
       "    .dataframe thead th {\n",
       "        text-align: right;\n",
       "    }\n",
       "</style>\n",
       "<table border=\"1\" class=\"dataframe\">\n",
       "  <thead>\n",
       "    <tr style=\"text-align: right;\">\n",
       "      <th></th>\n",
       "      <th>Title</th>\n",
       "      <th>Star Rating</th>\n",
       "      <th>Price</th>\n",
       "    </tr>\n",
       "  </thead>\n",
       "  <tbody>\n",
       "    <tr>\n",
       "      <th>0</th>\n",
       "      <td>A Light in the Attic</td>\n",
       "      <td>Three</td>\n",
       "      <td>51.77</td>\n",
       "    </tr>\n",
       "    <tr>\n",
       "      <th>1</th>\n",
       "      <td>Tipping the Velvet</td>\n",
       "      <td>One</td>\n",
       "      <td>53.74</td>\n",
       "    </tr>\n",
       "    <tr>\n",
       "      <th>2</th>\n",
       "      <td>Soumission</td>\n",
       "      <td>One</td>\n",
       "      <td>50.10</td>\n",
       "    </tr>\n",
       "    <tr>\n",
       "      <th>3</th>\n",
       "      <td>Sharp Objects</td>\n",
       "      <td>Four</td>\n",
       "      <td>47.82</td>\n",
       "    </tr>\n",
       "    <tr>\n",
       "      <th>4</th>\n",
       "      <td>Sapiens: A Brief History of Humankind</td>\n",
       "      <td>Five</td>\n",
       "      <td>54.23</td>\n",
       "    </tr>\n",
       "    <tr>\n",
       "      <th>...</th>\n",
       "      <td>...</td>\n",
       "      <td>...</td>\n",
       "      <td>...</td>\n",
       "    </tr>\n",
       "    <tr>\n",
       "      <th>95</th>\n",
       "      <td>Penny Maybe</td>\n",
       "      <td>Three</td>\n",
       "      <td>33.29</td>\n",
       "    </tr>\n",
       "    <tr>\n",
       "      <th>96</th>\n",
       "      <td>Maude (1883-1993):She Grew Up with the country</td>\n",
       "      <td>Two</td>\n",
       "      <td>18.02</td>\n",
       "    </tr>\n",
       "    <tr>\n",
       "      <th>97</th>\n",
       "      <td>In a Dark, Dark Wood</td>\n",
       "      <td>One</td>\n",
       "      <td>19.63</td>\n",
       "    </tr>\n",
       "    <tr>\n",
       "      <th>98</th>\n",
       "      <td>Behind Closed Doors</td>\n",
       "      <td>Four</td>\n",
       "      <td>52.22</td>\n",
       "    </tr>\n",
       "    <tr>\n",
       "      <th>99</th>\n",
       "      <td>You can't bury them all: Poems</td>\n",
       "      <td>Two</td>\n",
       "      <td>33.63</td>\n",
       "    </tr>\n",
       "  </tbody>\n",
       "</table>\n",
       "<p>100 rows × 3 columns</p>\n",
       "</div>"
      ],
      "text/plain": [
       "                                             Title Star Rating  Price\n",
       "0                             A Light in the Attic       Three  51.77\n",
       "1                               Tipping the Velvet         One  53.74\n",
       "2                                       Soumission         One  50.10\n",
       "3                                    Sharp Objects        Four  47.82\n",
       "4            Sapiens: A Brief History of Humankind        Five  54.23\n",
       "..                                             ...         ...    ...\n",
       "95                                     Penny Maybe       Three  33.29\n",
       "96  Maude (1883-1993):She Grew Up with the country         Two  18.02\n",
       "97                            In a Dark, Dark Wood         One  19.63\n",
       "98                             Behind Closed Doors        Four  52.22\n",
       "99                  You can't bury them all: Poems         Two  33.63\n",
       "\n",
       "[100 rows x 3 columns]"
      ]
     },
     "execution_count": 138,
     "metadata": {},
     "output_type": "execute_result"
    }
   ],
   "source": [
    "df = pd.DataFrame(books, columns=['Title', 'Star Rating', 'Price'])\n",
    "df.to_csv('books.csv')\n",
    "df"
   ]
  },
  {
   "cell_type": "code",
   "execution_count": null,
   "id": "7ad7d268",
   "metadata": {},
   "outputs": [],
   "source": []
  },
  {
   "cell_type": "code",
   "execution_count": null,
   "id": "b94d1a3d",
   "metadata": {},
   "outputs": [],
   "source": []
  }
 ],
 "metadata": {
  "kernelspec": {
   "display_name": "Python 3 (ipykernel)",
   "language": "python",
   "name": "python3"
  },
  "language_info": {
   "codemirror_mode": {
    "name": "ipython",
    "version": 3
   },
   "file_extension": ".py",
   "mimetype": "text/x-python",
   "name": "python",
   "nbconvert_exporter": "python",
   "pygments_lexer": "ipython3",
   "version": "3.11.3"
  }
 },
 "nbformat": 4,
 "nbformat_minor": 5
}
