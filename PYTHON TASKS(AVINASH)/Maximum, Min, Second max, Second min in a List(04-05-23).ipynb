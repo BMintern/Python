{
 "cells": [
  {
   "cell_type": "markdown",
   "id": "5f4e7294",
   "metadata": {},
   "source": [
    "i/p=[7,2,3,10,5,4]\n",
    "\n",
    "o/p=[1st max, 1st min, 2nd max, 2nd min, 3max, 3rd min.......]\n",
    "\n"
   ]
  },
  {
   "cell_type": "code",
   "execution_count": 5,
   "id": "aa7904f4",
   "metadata": {
    "ExecuteTime": {
     "end_time": "2023-05-05T09:23:11.993881Z",
     "start_time": "2023-05-05T09:23:11.978505Z"
    }
   },
   "outputs": [
    {
     "name": "stdout",
     "output_type": "stream",
     "text": [
      "max number 10\n",
      "min number 2\n",
      "second max number 7\n",
      "second min number 3\n",
      "third max number 5\n",
      "third min number 4\n"
     ]
    }
   ],
   "source": [
    "def min_max(list1):\n",
    "    length=len(list1)\n",
    "    list1.sort()\n",
    "    print(\"max number\",list1[length-1])\n",
    "    print(\"min number\",list1[0])\n",
    "    print(\"second max number\",list1[length-2])\n",
    "    print(\"second min number\",list1[1])\n",
    "    print(\"third max number\",list1[length-3])\n",
    "    print(\"third min number\",list1[2])\n",
    "pass\n",
    "min_max([7,2,3,10,5,4])"
   ]
  },
  {
   "cell_type": "code",
   "execution_count": 2,
   "id": "26c6d211",
   "metadata": {
    "ExecuteTime": {
     "end_time": "2023-05-05T09:22:44.881942Z",
     "start_time": "2023-05-05T09:22:44.870975Z"
    }
   },
   "outputs": [
    {
     "name": "stdout",
     "output_type": "stream",
     "text": [
      "max number 10\n",
      "min number 2\n",
      "second max number 7\n",
      "second min number 3\n",
      "third max number 5\n",
      "third min number 4\n"
     ]
    }
   ],
   "source": []
  },
  {
   "cell_type": "code",
   "execution_count": null,
   "id": "f0e2fb39",
   "metadata": {},
   "outputs": [],
   "source": []
  }
 ],
 "metadata": {
  "kernelspec": {
   "display_name": "Python 3 (ipykernel)",
   "language": "python",
   "name": "python3"
  },
  "language_info": {
   "codemirror_mode": {
    "name": "ipython",
    "version": 3
   },
   "file_extension": ".py",
   "mimetype": "text/x-python",
   "name": "python",
   "nbconvert_exporter": "python",
   "pygments_lexer": "ipython3",
   "version": "3.9.12"
  },
  "varInspector": {
   "cols": {
    "lenName": 16,
    "lenType": 16,
    "lenVar": 40
   },
   "kernels_config": {
    "python": {
     "delete_cmd_postfix": "",
     "delete_cmd_prefix": "del ",
     "library": "var_list.py",
     "varRefreshCmd": "print(var_dic_list())"
    },
    "r": {
     "delete_cmd_postfix": ") ",
     "delete_cmd_prefix": "rm(",
     "library": "var_list.r",
     "varRefreshCmd": "cat(var_dic_list()) "
    }
   },
   "types_to_exclude": [
    "module",
    "function",
    "builtin_function_or_method",
    "instance",
    "_Feature"
   ],
   "window_display": false
  }
 },
 "nbformat": 4,
 "nbformat_minor": 5
}
