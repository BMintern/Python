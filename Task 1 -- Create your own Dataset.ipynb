{
 "cells": [
  {
   "cell_type": "markdown",
   "id": "c6cc2453",
   "metadata": {},
   "source": [
    "# Create your own Dataset"
   ]
  },
  {
   "cell_type": "code",
   "execution_count": null,
   "id": "7bef3600",
   "metadata": {},
   "outputs": [],
   "source": []
  },
  {
   "cell_type": "markdown",
   "id": "00eac967",
   "metadata": {},
   "source": [
    "# Extract"
   ]
  },
  {
   "cell_type": "code",
   "execution_count": 2,
   "id": "e8575fb1",
   "metadata": {
    "ExecuteTime": {
     "end_time": "2023-06-16T09:43:37.918055Z",
     "start_time": "2023-06-16T09:43:36.861370Z"
    }
   },
   "outputs": [
    {
     "name": "stdout",
     "output_type": "stream",
     "text": [
      "200\n"
     ]
    }
   ],
   "source": [
    "from bs4 import BeautifulSoup\n",
    "import requests\n",
    "import pandas as pd\n",
    "import json\n",
    "import numpy as np\n",
    "\n",
    "# get html data first\n",
    "html_data = requests.get(\"https://en.wikipedia.org/wiki/World_Happiness_Report\")\n",
    "\n",
    "# check if status is 200 -> shows that its allowed to scrape the webpage\n",
    "print(html_data.status_code)\n"
   ]
  },
  {
   "cell_type": "code",
   "execution_count": 5,
   "id": "6ea01056",
   "metadata": {
    "ExecuteTime": {
     "end_time": "2023-06-16T09:44:39.718606Z",
     "start_time": "2023-06-16T09:44:38.925731Z"
    }
   },
   "outputs": [],
   "source": [
    "# parse html data now using BeautifulSoup\n",
    "soup = BeautifulSoup(html_data.text, \"html.parser\")\n",
    "\n",
    "# get all tables from wikipedia page\n",
    "tables = soup.find_all('table',{'class':\"wikitable\"})"
   ]
  },
  {
   "cell_type": "code",
   "execution_count": 7,
   "id": "69e31c49",
   "metadata": {
    "ExecuteTime": {
     "end_time": "2023-06-16T09:45:23.811928Z",
     "start_time": "2023-06-16T09:45:23.701385Z"
    }
   },
   "outputs": [
    {
     "data": {
      "text/html": [
       "<div>\n",
       "<style scoped>\n",
       "    .dataframe tbody tr th:only-of-type {\n",
       "        vertical-align: middle;\n",
       "    }\n",
       "\n",
       "    .dataframe tbody tr th {\n",
       "        vertical-align: top;\n",
       "    }\n",
       "\n",
       "    .dataframe thead th {\n",
       "        text-align: right;\n",
       "    }\n",
       "</style>\n",
       "<table border=\"1\" class=\"dataframe\">\n",
       "  <thead>\n",
       "    <tr style=\"text-align: right;\">\n",
       "      <th></th>\n",
       "      <th>Overall rank</th>\n",
       "      <th>Country or region</th>\n",
       "    </tr>\n",
       "  </thead>\n",
       "  <tbody>\n",
       "    <tr>\n",
       "      <th>0</th>\n",
       "      <td>1</td>\n",
       "      <td>Finland</td>\n",
       "    </tr>\n",
       "    <tr>\n",
       "      <th>1</th>\n",
       "      <td>2</td>\n",
       "      <td>Denmark</td>\n",
       "    </tr>\n",
       "    <tr>\n",
       "      <th>2</th>\n",
       "      <td>3</td>\n",
       "      <td>Iceland</td>\n",
       "    </tr>\n",
       "    <tr>\n",
       "      <th>3</th>\n",
       "      <td>4</td>\n",
       "      <td>Israel</td>\n",
       "    </tr>\n",
       "    <tr>\n",
       "      <th>4</th>\n",
       "      <td>5</td>\n",
       "      <td>Netherlands</td>\n",
       "    </tr>\n",
       "    <tr>\n",
       "      <th>...</th>\n",
       "      <td>...</td>\n",
       "      <td>...</td>\n",
       "    </tr>\n",
       "    <tr>\n",
       "      <th>132</th>\n",
       "      <td>133</td>\n",
       "      <td>Congo, Democratic Republic of</td>\n",
       "    </tr>\n",
       "    <tr>\n",
       "      <th>133</th>\n",
       "      <td>134</td>\n",
       "      <td>Zimbabwe</td>\n",
       "    </tr>\n",
       "    <tr>\n",
       "      <th>134</th>\n",
       "      <td>135</td>\n",
       "      <td>Sierra Leone</td>\n",
       "    </tr>\n",
       "    <tr>\n",
       "      <th>135</th>\n",
       "      <td>136</td>\n",
       "      <td>Lebanon</td>\n",
       "    </tr>\n",
       "    <tr>\n",
       "      <th>136</th>\n",
       "      <td>137</td>\n",
       "      <td>Afghanistan</td>\n",
       "    </tr>\n",
       "  </tbody>\n",
       "</table>\n",
       "<p>137 rows × 2 columns</p>\n",
       "</div>"
      ],
      "text/plain": [
       "     Overall rank              Country or region\n",
       "0               1                        Finland\n",
       "1               2                        Denmark\n",
       "2               3                        Iceland\n",
       "3               4                         Israel\n",
       "4               5                    Netherlands\n",
       "..            ...                            ...\n",
       "132           133  Congo, Democratic Republic of\n",
       "133           134                       Zimbabwe\n",
       "134           135                   Sierra Leone\n",
       "135           136                        Lebanon\n",
       "136           137                    Afghanistan\n",
       "\n",
       "[137 rows x 2 columns]"
      ]
     },
     "execution_count": 7,
     "metadata": {},
     "output_type": "execute_result"
    }
   ],
   "source": [
    "# store target table\n",
    "table = tables[0]\n",
    "# convert table html code to pandas df\n",
    "data = pd.read_html(str(table))\n",
    "df_happiness = pd.DataFrame(data[0]) \n",
    "df_happiness"
   ]
  },
  {
   "cell_type": "code",
   "execution_count": 9,
   "id": "ed648641",
   "metadata": {
    "ExecuteTime": {
     "end_time": "2023-06-16T09:46:14.596390Z",
     "start_time": "2023-06-16T09:46:13.615443Z"
    }
   },
   "outputs": [
    {
     "name": "stderr",
     "output_type": "stream",
     "text": [
      "  0%|                                                                                          | 0/137 [00:00<?, ?it/s]\n"
     ]
    },
    {
     "ename": "KeyError",
     "evalue": "'ok'",
     "output_type": "error",
     "traceback": [
      "\u001b[1;31m---------------------------------------------------------------------------\u001b[0m",
      "\u001b[1;31mKeyError\u001b[0m                                  Traceback (most recent call last)",
      "Cell \u001b[1;32mIn[9], line 30\u001b[0m\n\u001b[0;32m     28\u001b[0m \u001b[38;5;66;03m# add population to dataframe in case response is okay\u001b[39;00m\n\u001b[0;32m     29\u001b[0m response_dict \u001b[38;5;241m=\u001b[39m json\u001b[38;5;241m.\u001b[39mloads(response\u001b[38;5;241m.\u001b[39mtext)\n\u001b[1;32m---> 30\u001b[0m \u001b[38;5;28;01mif\u001b[39;00m \u001b[43mresponse_dict\u001b[49m\u001b[43m[\u001b[49m\u001b[38;5;124;43m\"\u001b[39;49m\u001b[38;5;124;43mok\u001b[39;49m\u001b[38;5;124;43m\"\u001b[39;49m\u001b[43m]\u001b[49m \u001b[38;5;241m==\u001b[39m \u001b[38;5;28;01mTrue\u001b[39;00m:\n\u001b[0;32m     31\u001b[0m     population \u001b[38;5;241m=\u001b[39m response_dict[\u001b[38;5;124m\"\u001b[39m\u001b[38;5;124mbody\u001b[39m\u001b[38;5;124m\"\u001b[39m][\u001b[38;5;124m\"\u001b[39m\u001b[38;5;124mpopulation\u001b[39m\u001b[38;5;124m\"\u001b[39m]\n\u001b[0;32m     32\u001b[0m     df_happiness\u001b[38;5;241m.\u001b[39mloc[df_happiness[\u001b[38;5;124m\"\u001b[39m\u001b[38;5;124mCountry or region\u001b[39m\u001b[38;5;124m\"\u001b[39m] \u001b[38;5;241m==\u001b[39m country, \u001b[38;5;124m\"\u001b[39m\u001b[38;5;124mPopulation\u001b[39m\u001b[38;5;124m\"\u001b[39m] \u001b[38;5;241m=\u001b[39m population\n",
      "\u001b[1;31mKeyError\u001b[0m: 'ok'"
     ]
    }
   ],
   "source": [
    "from tqdm import tqdm\n",
    "\n",
    "# rename some countries to later match the country names from RapidAPI\n",
    "df_happiness = df_happiness.apply(lambda x: x.replace(\"Congo (Kinshasa)\", \"DR Congo\"))\n",
    "df_happiness = df_happiness.apply(lambda x: x.replace(\"Congo (Brazzaville)\", \"Congo\"))\n",
    "df_happiness = df_happiness.apply(lambda x: x.replace(\"Ivory Coast\", \"Côte d'Ivoire\"))\n",
    "\n",
    "# create URL and headers for API call\n",
    "url = \"https://world-population.p.rapidapi.com/population\"\n",
    "\n",
    "# the headers can be found when logging in to your RapidAPI account and opening the link above\n",
    "headers = {\n",
    "    'x-rapidapi-host': \"world-population.p.rapidapi.com\",\n",
    "    'x-rapidapi-key': \"***************************\"\n",
    "}\n",
    "\n",
    "# add population column first by setting all values to NaN\n",
    "df_happiness[\"Population\"] = np.nan\n",
    "\n",
    "# loop over countries and get population\n",
    "for country in tqdm(df_happiness[\"Country or region\"].to_list()):\n",
    "    # create querystring for API call\n",
    "    querystring = {\"country_name\" : country}\n",
    "    \n",
    "    # create request and fetch response\n",
    "    response = requests.request(\"GET\", url, headers=headers, params=querystring)\n",
    "    \n",
    "    # add population to dataframe in case response is okay\n",
    "    response_dict = json.loads(response.text)\n",
    "    if response_dict[\"ok\"] == True:\n",
    "        population = response_dict[\"body\"][\"population\"]\n",
    "        df_happiness.loc[df_happiness[\"Country or region\"] == country, \"Population\"] = population"
   ]
  },
  {
   "cell_type": "code",
   "execution_count": 10,
   "id": "a03469ad",
   "metadata": {
    "ExecuteTime": {
     "end_time": "2023-06-16T09:46:48.074025Z",
     "start_time": "2023-06-16T09:46:47.761089Z"
    }
   },
   "outputs": [
    {
     "name": "stdout",
     "output_type": "stream",
     "text": [
      "200\n"
     ]
    },
    {
     "data": {
      "text/html": [
       "<div>\n",
       "<style scoped>\n",
       "    .dataframe tbody tr th:only-of-type {\n",
       "        vertical-align: middle;\n",
       "    }\n",
       "\n",
       "    .dataframe tbody tr th {\n",
       "        vertical-align: top;\n",
       "    }\n",
       "\n",
       "    .dataframe thead th {\n",
       "        text-align: right;\n",
       "    }\n",
       "</style>\n",
       "<table border=\"1\" class=\"dataframe\">\n",
       "  <thead>\n",
       "    <tr style=\"text-align: right;\">\n",
       "      <th></th>\n",
       "      <th>Country</th>\n",
       "      <th>Median age in years</th>\n",
       "      <th>Population under 20 years old</th>\n",
       "      <th>Life expectancy in years</th>\n",
       "    </tr>\n",
       "  </thead>\n",
       "  <tbody>\n",
       "    <tr>\n",
       "      <th>0</th>\n",
       "      <td>Japan</td>\n",
       "      <td>48.6</td>\n",
       "      <td>16.3 %</td>\n",
       "      <td>84.6</td>\n",
       "    </tr>\n",
       "    <tr>\n",
       "      <th>1</th>\n",
       "      <td>Germany</td>\n",
       "      <td>47.8</td>\n",
       "      <td>18.5 %</td>\n",
       "      <td>81.0</td>\n",
       "    </tr>\n",
       "    <tr>\n",
       "      <th>2</th>\n",
       "      <td>Italy</td>\n",
       "      <td>46.5</td>\n",
       "      <td>17.5 %</td>\n",
       "      <td>82.9</td>\n",
       "    </tr>\n",
       "    <tr>\n",
       "      <th>3</th>\n",
       "      <td>Hong Kong *</td>\n",
       "      <td>45.6</td>\n",
       "      <td>15.7 %</td>\n",
       "      <td>85.7</td>\n",
       "    </tr>\n",
       "    <tr>\n",
       "      <th>4</th>\n",
       "      <td>Greece</td>\n",
       "      <td>45.3</td>\n",
       "      <td>19.3 %</td>\n",
       "      <td>80.3</td>\n",
       "    </tr>\n",
       "    <tr>\n",
       "      <th>...</th>\n",
       "      <td>...</td>\n",
       "      <td>...</td>\n",
       "      <td>...</td>\n",
       "      <td>...</td>\n",
       "    </tr>\n",
       "    <tr>\n",
       "      <th>122</th>\n",
       "      <td>Chad</td>\n",
       "      <td>16.1</td>\n",
       "      <td>58.4 %</td>\n",
       "      <td>52.6</td>\n",
       "    </tr>\n",
       "    <tr>\n",
       "      <th>123</th>\n",
       "      <td>Mali</td>\n",
       "      <td>16.0</td>\n",
       "      <td>58.5 %</td>\n",
       "      <td>59.0</td>\n",
       "    </tr>\n",
       "    <tr>\n",
       "      <th>124</th>\n",
       "      <td>Angola</td>\n",
       "      <td>15.9</td>\n",
       "      <td>55.6 %</td>\n",
       "      <td>61.7</td>\n",
       "    </tr>\n",
       "    <tr>\n",
       "      <th>125</th>\n",
       "      <td>Uganda</td>\n",
       "      <td>15.7</td>\n",
       "      <td>57.1 %</td>\n",
       "      <td>62.7</td>\n",
       "    </tr>\n",
       "    <tr>\n",
       "      <th>126</th>\n",
       "      <td>Niger</td>\n",
       "      <td>14.8</td>\n",
       "      <td>59.7 %</td>\n",
       "      <td>61.6</td>\n",
       "    </tr>\n",
       "  </tbody>\n",
       "</table>\n",
       "<p>127 rows × 4 columns</p>\n",
       "</div>"
      ],
      "text/plain": [
       "         Country  Median age in years Population under 20 years old   \n",
       "0          Japan                 48.6                        16.3 %  \\\n",
       "1        Germany                 47.8                        18.5 %   \n",
       "2          Italy                 46.5                        17.5 %   \n",
       "3    Hong Kong *                 45.6                        15.7 %   \n",
       "4         Greece                 45.3                        19.3 %   \n",
       "..           ...                  ...                           ...   \n",
       "122         Chad                 16.1                        58.4 %   \n",
       "123         Mali                 16.0                        58.5 %   \n",
       "124       Angola                 15.9                        55.6 %   \n",
       "125       Uganda                 15.7                        57.1 %   \n",
       "126        Niger                 14.8                        59.7 %   \n",
       "\n",
       "     Life expectancy in years  \n",
       "0                        84.6  \n",
       "1                        81.0  \n",
       "2                        82.9  \n",
       "3                        85.7  \n",
       "4                        80.3  \n",
       "..                        ...  \n",
       "122                      52.6  \n",
       "123                      59.0  \n",
       "124                      61.7  \n",
       "125                      62.7  \n",
       "126                      61.6  \n",
       "\n",
       "[127 rows x 4 columns]"
      ]
     },
     "execution_count": 10,
     "metadata": {},
     "output_type": "execute_result"
    }
   ],
   "source": [
    "# get html data first\n",
    "html_data = requests.get(\"https://www.worlddata.info/average-age.php\")\n",
    "\n",
    "# check if status is 200 -> shows that its allowed to scrape the webpage\n",
    "print(html_data.status_code)\n",
    "\n",
    "# parse html data now using BeautifulSoup\n",
    "soup = BeautifulSoup(html_data.text, \"html.parser\")\n",
    "\n",
    "# get all tables from wikipedia page\n",
    "tables = soup.find_all('table',{'class':\"std100 hover\"})\n",
    "\n",
    "# store target table\n",
    "table = tables[0]\n",
    "\n",
    "# convert table html code to pandas df\n",
    "data = pd.read_html(str(table))\n",
    "df_average_age = pd.DataFrame(data[0])\n",
    "df_average_age"
   ]
  },
  {
   "cell_type": "code",
   "execution_count": 12,
   "id": "0cff012d",
   "metadata": {
    "ExecuteTime": {
     "end_time": "2023-06-16T09:47:25.184896Z",
     "start_time": "2023-06-16T09:47:25.125678Z"
    }
   },
   "outputs": [
    {
     "data": {
      "text/html": [
       "<div>\n",
       "<style scoped>\n",
       "    .dataframe tbody tr th:only-of-type {\n",
       "        vertical-align: middle;\n",
       "    }\n",
       "\n",
       "    .dataframe tbody tr th {\n",
       "        vertical-align: top;\n",
       "    }\n",
       "\n",
       "    .dataframe thead th {\n",
       "        text-align: right;\n",
       "    }\n",
       "</style>\n",
       "<table border=\"1\" class=\"dataframe\">\n",
       "  <thead>\n",
       "    <tr style=\"text-align: right;\">\n",
       "      <th></th>\n",
       "      <th>Country or region</th>\n",
       "      <th>Overall rank</th>\n",
       "      <th>Population</th>\n",
       "      <th>Median age in years</th>\n",
       "      <th>Population under 20 years old</th>\n",
       "      <th>Life expectancy in years</th>\n",
       "    </tr>\n",
       "  </thead>\n",
       "  <tbody>\n",
       "    <tr>\n",
       "      <th>0</th>\n",
       "      <td>Finland</td>\n",
       "      <td>1</td>\n",
       "      <td>NaN</td>\n",
       "      <td>42.8</td>\n",
       "      <td>20.9 %</td>\n",
       "      <td>82.0</td>\n",
       "    </tr>\n",
       "    <tr>\n",
       "      <th>1</th>\n",
       "      <td>Denmark</td>\n",
       "      <td>2</td>\n",
       "      <td>NaN</td>\n",
       "      <td>42.0</td>\n",
       "      <td>22.0 %</td>\n",
       "      <td>81.5</td>\n",
       "    </tr>\n",
       "    <tr>\n",
       "      <th>2</th>\n",
       "      <td>Iceland</td>\n",
       "      <td>3</td>\n",
       "      <td>NaN</td>\n",
       "      <td>NaN</td>\n",
       "      <td>NaN</td>\n",
       "      <td>NaN</td>\n",
       "    </tr>\n",
       "    <tr>\n",
       "      <th>3</th>\n",
       "      <td>Israel</td>\n",
       "      <td>4</td>\n",
       "      <td>NaN</td>\n",
       "      <td>30.4</td>\n",
       "      <td>36.0 %</td>\n",
       "      <td>82.6</td>\n",
       "    </tr>\n",
       "    <tr>\n",
       "      <th>4</th>\n",
       "      <td>Netherlands</td>\n",
       "      <td>5</td>\n",
       "      <td>NaN</td>\n",
       "      <td>42.8</td>\n",
       "      <td>21.3 %</td>\n",
       "      <td>81.5</td>\n",
       "    </tr>\n",
       "    <tr>\n",
       "      <th>...</th>\n",
       "      <td>...</td>\n",
       "      <td>...</td>\n",
       "      <td>...</td>\n",
       "      <td>...</td>\n",
       "      <td>...</td>\n",
       "      <td>...</td>\n",
       "    </tr>\n",
       "    <tr>\n",
       "      <th>132</th>\n",
       "      <td>Congo, Democratic Republic of</td>\n",
       "      <td>133</td>\n",
       "      <td>NaN</td>\n",
       "      <td>NaN</td>\n",
       "      <td>NaN</td>\n",
       "      <td>NaN</td>\n",
       "    </tr>\n",
       "    <tr>\n",
       "      <th>133</th>\n",
       "      <td>Zimbabwe</td>\n",
       "      <td>134</td>\n",
       "      <td>NaN</td>\n",
       "      <td>20.5</td>\n",
       "      <td>52.1 %</td>\n",
       "      <td>59.3</td>\n",
       "    </tr>\n",
       "    <tr>\n",
       "      <th>134</th>\n",
       "      <td>Sierra Leone</td>\n",
       "      <td>135</td>\n",
       "      <td>NaN</td>\n",
       "      <td>19.1</td>\n",
       "      <td>50.3 %</td>\n",
       "      <td>60.1</td>\n",
       "    </tr>\n",
       "    <tr>\n",
       "      <th>135</th>\n",
       "      <td>Lebanon</td>\n",
       "      <td>136</td>\n",
       "      <td>NaN</td>\n",
       "      <td>NaN</td>\n",
       "      <td>NaN</td>\n",
       "      <td>NaN</td>\n",
       "    </tr>\n",
       "    <tr>\n",
       "      <th>136</th>\n",
       "      <td>Afghanistan</td>\n",
       "      <td>137</td>\n",
       "      <td>NaN</td>\n",
       "      <td>19.5</td>\n",
       "      <td>55.1 %</td>\n",
       "      <td>62.1</td>\n",
       "    </tr>\n",
       "  </tbody>\n",
       "</table>\n",
       "<p>137 rows × 6 columns</p>\n",
       "</div>"
      ],
      "text/plain": [
       "                 Country or region  Overall rank  Population   \n",
       "0                          Finland             1         NaN  \\\n",
       "1                          Denmark             2         NaN   \n",
       "2                          Iceland             3         NaN   \n",
       "3                           Israel             4         NaN   \n",
       "4                      Netherlands             5         NaN   \n",
       "..                             ...           ...         ...   \n",
       "132  Congo, Democratic Republic of           133         NaN   \n",
       "133                       Zimbabwe           134         NaN   \n",
       "134                   Sierra Leone           135         NaN   \n",
       "135                        Lebanon           136         NaN   \n",
       "136                    Afghanistan           137         NaN   \n",
       "\n",
       "     Median age in years Population under 20 years old   \n",
       "0                   42.8                        20.9 %  \\\n",
       "1                   42.0                        22.0 %   \n",
       "2                    NaN                           NaN   \n",
       "3                   30.4                        36.0 %   \n",
       "4                   42.8                        21.3 %   \n",
       "..                   ...                           ...   \n",
       "132                  NaN                           NaN   \n",
       "133                 20.5                        52.1 %   \n",
       "134                 19.1                        50.3 %   \n",
       "135                  NaN                           NaN   \n",
       "136                 19.5                        55.1 %   \n",
       "\n",
       "     Life expectancy in years  \n",
       "0                        82.0  \n",
       "1                        81.5  \n",
       "2                         NaN  \n",
       "3                        82.6  \n",
       "4                        81.5  \n",
       "..                        ...  \n",
       "132                       NaN  \n",
       "133                      59.3  \n",
       "134                      60.1  \n",
       "135                       NaN  \n",
       "136                      62.1  \n",
       "\n",
       "[137 rows x 6 columns]"
      ]
     },
     "execution_count": 12,
     "metadata": {},
     "output_type": "execute_result"
    }
   ],
   "source": [
    "# let's use pandas join functionality for joining these tables together\n",
    "df_final = df_happiness.set_index(\"Country or region\").join(df_average_age.set_index(\"Country\")).reset_index()\n",
    "df_final"
   ]
  },
  {
   "cell_type": "markdown",
   "id": "7ea42135",
   "metadata": {},
   "source": [
    "# Transform"
   ]
  },
  {
   "cell_type": "code",
   "execution_count": 13,
   "id": "d3187d94",
   "metadata": {
    "ExecuteTime": {
     "end_time": "2023-06-16T09:48:12.163546Z",
     "start_time": "2023-06-16T09:48:11.333186Z"
    }
   },
   "outputs": [
    {
     "ename": "KeyError",
     "evalue": "'GDP per capita'",
     "output_type": "error",
     "traceback": [
      "\u001b[1;31m---------------------------------------------------------------------------\u001b[0m",
      "\u001b[1;31mKeyError\u001b[0m                                  Traceback (most recent call last)",
      "File \u001b[1;32m~\\AppData\\Local\\Programs\\Python\\Python311\\Lib\\site-packages\\pandas\\core\\indexes\\base.py:3652\u001b[0m, in \u001b[0;36mIndex.get_loc\u001b[1;34m(self, key)\u001b[0m\n\u001b[0;32m   3651\u001b[0m \u001b[38;5;28;01mtry\u001b[39;00m:\n\u001b[1;32m-> 3652\u001b[0m     \u001b[38;5;28;01mreturn\u001b[39;00m \u001b[38;5;28;43mself\u001b[39;49m\u001b[38;5;241;43m.\u001b[39;49m\u001b[43m_engine\u001b[49m\u001b[38;5;241;43m.\u001b[39;49m\u001b[43mget_loc\u001b[49m\u001b[43m(\u001b[49m\u001b[43mcasted_key\u001b[49m\u001b[43m)\u001b[49m\n\u001b[0;32m   3653\u001b[0m \u001b[38;5;28;01mexcept\u001b[39;00m \u001b[38;5;167;01mKeyError\u001b[39;00m \u001b[38;5;28;01mas\u001b[39;00m err:\n",
      "File \u001b[1;32m~\\AppData\\Local\\Programs\\Python\\Python311\\Lib\\site-packages\\pandas\\_libs\\index.pyx:147\u001b[0m, in \u001b[0;36mpandas._libs.index.IndexEngine.get_loc\u001b[1;34m()\u001b[0m\n",
      "File \u001b[1;32m~\\AppData\\Local\\Programs\\Python\\Python311\\Lib\\site-packages\\pandas\\_libs\\index.pyx:176\u001b[0m, in \u001b[0;36mpandas._libs.index.IndexEngine.get_loc\u001b[1;34m()\u001b[0m\n",
      "File \u001b[1;32mpandas\\_libs\\hashtable_class_helper.pxi:7080\u001b[0m, in \u001b[0;36mpandas._libs.hashtable.PyObjectHashTable.get_item\u001b[1;34m()\u001b[0m\n",
      "File \u001b[1;32mpandas\\_libs\\hashtable_class_helper.pxi:7088\u001b[0m, in \u001b[0;36mpandas._libs.hashtable.PyObjectHashTable.get_item\u001b[1;34m()\u001b[0m\n",
      "\u001b[1;31mKeyError\u001b[0m: 'GDP per capita'",
      "\nThe above exception was the direct cause of the following exception:\n",
      "\u001b[1;31mKeyError\u001b[0m                                  Traceback (most recent call last)",
      "Cell \u001b[1;32mIn[13], line 2\u001b[0m\n\u001b[0;32m      1\u001b[0m \u001b[38;5;66;03m# Compute GDP by using GDP per capita and the Population columns\u001b[39;00m\n\u001b[1;32m----> 2\u001b[0m df_final[\u001b[38;5;124m\"\u001b[39m\u001b[38;5;124mGDP\u001b[39m\u001b[38;5;124m\"\u001b[39m] \u001b[38;5;241m=\u001b[39m \u001b[43mdf_final\u001b[49m\u001b[43m[\u001b[49m\u001b[38;5;124;43m\"\u001b[39;49m\u001b[38;5;124;43mGDP per capita\u001b[39;49m\u001b[38;5;124;43m\"\u001b[39;49m\u001b[43m]\u001b[49m \u001b[38;5;241m*\u001b[39m df_final[\u001b[38;5;124m\"\u001b[39m\u001b[38;5;124mPopulation\u001b[39m\u001b[38;5;124m\"\u001b[39m]\n\u001b[0;32m      4\u001b[0m \u001b[38;5;66;03m# Remove % sign of Population under 20 years old column and convert it to be of type float\u001b[39;00m\n\u001b[0;32m      5\u001b[0m \u001b[38;5;28;01mdef\u001b[39;00m \u001b[38;5;21mtransform_col\u001b[39m(col_val):\n",
      "File \u001b[1;32m~\\AppData\\Local\\Programs\\Python\\Python311\\Lib\\site-packages\\pandas\\core\\frame.py:3761\u001b[0m, in \u001b[0;36mDataFrame.__getitem__\u001b[1;34m(self, key)\u001b[0m\n\u001b[0;32m   3759\u001b[0m \u001b[38;5;28;01mif\u001b[39;00m \u001b[38;5;28mself\u001b[39m\u001b[38;5;241m.\u001b[39mcolumns\u001b[38;5;241m.\u001b[39mnlevels \u001b[38;5;241m>\u001b[39m \u001b[38;5;241m1\u001b[39m:\n\u001b[0;32m   3760\u001b[0m     \u001b[38;5;28;01mreturn\u001b[39;00m \u001b[38;5;28mself\u001b[39m\u001b[38;5;241m.\u001b[39m_getitem_multilevel(key)\n\u001b[1;32m-> 3761\u001b[0m indexer \u001b[38;5;241m=\u001b[39m \u001b[38;5;28;43mself\u001b[39;49m\u001b[38;5;241;43m.\u001b[39;49m\u001b[43mcolumns\u001b[49m\u001b[38;5;241;43m.\u001b[39;49m\u001b[43mget_loc\u001b[49m\u001b[43m(\u001b[49m\u001b[43mkey\u001b[49m\u001b[43m)\u001b[49m\n\u001b[0;32m   3762\u001b[0m \u001b[38;5;28;01mif\u001b[39;00m is_integer(indexer):\n\u001b[0;32m   3763\u001b[0m     indexer \u001b[38;5;241m=\u001b[39m [indexer]\n",
      "File \u001b[1;32m~\\AppData\\Local\\Programs\\Python\\Python311\\Lib\\site-packages\\pandas\\core\\indexes\\base.py:3654\u001b[0m, in \u001b[0;36mIndex.get_loc\u001b[1;34m(self, key)\u001b[0m\n\u001b[0;32m   3652\u001b[0m     \u001b[38;5;28;01mreturn\u001b[39;00m \u001b[38;5;28mself\u001b[39m\u001b[38;5;241m.\u001b[39m_engine\u001b[38;5;241m.\u001b[39mget_loc(casted_key)\n\u001b[0;32m   3653\u001b[0m \u001b[38;5;28;01mexcept\u001b[39;00m \u001b[38;5;167;01mKeyError\u001b[39;00m \u001b[38;5;28;01mas\u001b[39;00m err:\n\u001b[1;32m-> 3654\u001b[0m     \u001b[38;5;28;01mraise\u001b[39;00m \u001b[38;5;167;01mKeyError\u001b[39;00m(key) \u001b[38;5;28;01mfrom\u001b[39;00m \u001b[38;5;21;01merr\u001b[39;00m\n\u001b[0;32m   3655\u001b[0m \u001b[38;5;28;01mexcept\u001b[39;00m \u001b[38;5;167;01mTypeError\u001b[39;00m:\n\u001b[0;32m   3656\u001b[0m     \u001b[38;5;66;03m# If we have a listlike key, _check_indexing_error will raise\u001b[39;00m\n\u001b[0;32m   3657\u001b[0m     \u001b[38;5;66;03m#  InvalidIndexError. Otherwise we fall through and re-raise\u001b[39;00m\n\u001b[0;32m   3658\u001b[0m     \u001b[38;5;66;03m#  the TypeError.\u001b[39;00m\n\u001b[0;32m   3659\u001b[0m     \u001b[38;5;28mself\u001b[39m\u001b[38;5;241m.\u001b[39m_check_indexing_error(key)\n",
      "\u001b[1;31mKeyError\u001b[0m: 'GDP per capita'"
     ]
    }
   ],
   "source": [
    "# Compute GDP by using GDP per capita and the Population columns\n",
    "df_final[\"GDP\"] = df_final[\"GDP per capita\"] * df_final[\"Population\"]\n",
    "\n",
    "# Remove % sign of Population under 20 years old column and convert it to be of type float\n",
    "def transform_col(col_val):\n",
    "    try: \n",
    "        return float(col_val.replace(\" %\", \"\"))\n",
    "    except: # value is NaN\n",
    "        return col_val\n",
    "\n",
    "df_final[\"Population under 20 years old in %\"] = df_final[\"Population under20 years old\"].apply(transform_col)\n",
    "df_final = df_final.drop(columns=[\"Population under20 years old\"])"
   ]
  },
  {
   "cell_type": "markdown",
   "id": "642c3747",
   "metadata": {},
   "source": [
    "# Load"
   ]
  },
  {
   "cell_type": "code",
   "execution_count": 14,
   "id": "5b21ac29",
   "metadata": {
    "ExecuteTime": {
     "end_time": "2023-06-16T09:48:55.042639Z",
     "start_time": "2023-06-16T09:48:54.976972Z"
    }
   },
   "outputs": [],
   "source": [
    "def load(dataset):\n",
    "    dataset.to_csv(\"final_dataset.csv\", index=False)\n",
    "\n",
    "load(df_final)"
   ]
  },
  {
   "cell_type": "code",
   "execution_count": null,
   "id": "3ce77f05",
   "metadata": {},
   "outputs": [],
   "source": []
  }
 ],
 "metadata": {
  "kernelspec": {
   "display_name": "Python 3 (ipykernel)",
   "language": "python",
   "name": "python3"
  },
  "language_info": {
   "codemirror_mode": {
    "name": "ipython",
    "version": 3
   },
   "file_extension": ".py",
   "mimetype": "text/x-python",
   "name": "python",
   "nbconvert_exporter": "python",
   "pygments_lexer": "ipython3",
   "version": "3.11.3"
  }
 },
 "nbformat": 4,
 "nbformat_minor": 5
}
