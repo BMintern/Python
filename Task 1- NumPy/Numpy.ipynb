{
 "cells": [
  {
   "cell_type": "markdown",
   "id": "c6f9394d",
   "metadata": {},
   "source": [
    "# Numpy - Excercise"
   ]
  },
  {
   "cell_type": "markdown",
   "id": "4142c8fe",
   "metadata": {},
   "source": [
    "What is Numpy?\n",
    "\n",
    "Numpy is python package. It is used for working with arrays.\n",
    "\n",
    "NumPy is short for \"Numerical Python\".\n",
    "\n",
    "NumPy was created in 2005 by Travis Oliphant"
   ]
  },
  {
   "cell_type": "markdown",
   "id": "7ca4b5ce",
   "metadata": {},
   "source": [
    "## Advantages of Numpy:\n"
   ]
  },
  {
   "cell_type": "markdown",
   "id": "e7562788",
   "metadata": {},
   "source": [
    "Advantages of using NumPy for data analysis.\n",
    "\n",
    "NumPy performs array-oriented computing.\n",
    "\n",
    "It efficiently implements the multidimensional arrays.\n",
    "It performs scientific computations.\n",
    "\n",
    "NumPy provides the in-built functions for linear algebra and random number generation."
   ]
  },
  {
   "cell_type": "markdown",
   "id": "f210f81e",
   "metadata": {},
   "source": [
    "### Importing the numpy library"
   ]
  },
  {
   "cell_type": "code",
   "execution_count": 1,
   "id": "7bc91980",
   "metadata": {},
   "outputs": [],
   "source": [
    "import numpy as np"
   ]
  },
  {
   "cell_type": "code",
   "execution_count": 2,
   "id": "10078f62",
   "metadata": {},
   "outputs": [
    {
     "name": "stdout",
     "output_type": "stream",
     "text": [
      "1.20.3\n"
     ]
    }
   ],
   "source": [
    "# NumPy version\n",
    "\n",
    "print(np.__version__)\n",
    "#print(np.show_config())"
   ]
  },
  {
   "cell_type": "markdown",
   "id": "6152864c",
   "metadata": {},
   "source": [
    "### Creating Arrays"
   ]
  },
  {
   "cell_type": "code",
   "execution_count": 3,
   "id": "854bed61",
   "metadata": {},
   "outputs": [
    {
     "name": "stdout",
     "output_type": "stream",
     "text": [
      "[1 2 3 4 5]\n",
      "<class 'numpy.ndarray'>\n"
     ]
    }
   ],
   "source": [
    "import numpy as np\n",
    "\n",
    "arr = np.array([1, 2, 3, 4, 5])\n",
    "\n",
    "print(arr)\n",
    "\n",
    "print(type(arr))"
   ]
  },
  {
   "cell_type": "code",
   "execution_count": 2,
   "id": "f0ede988",
   "metadata": {},
   "outputs": [
    {
     "name": "stdout",
     "output_type": "stream",
     "text": [
      "[1 2 3 4 5]\n"
     ]
    }
   ],
   "source": [
    "#Use a tuple to create a NumPy array:\n",
    "\n",
    "import numpy as np\n",
    "\n",
    "arrt = np.array((1, 2, 3, 4, 5))\n",
    "\n",
    "print(arrt)"
   ]
  },
  {
   "cell_type": "code",
   "execution_count": 3,
   "id": "816090b7",
   "metadata": {},
   "outputs": [
    {
     "name": "stdout",
     "output_type": "stream",
     "text": [
      "[1 3 5 7 9]\n"
     ]
    }
   ],
   "source": [
    "# Using Arange()\n",
    "\n",
    "arr11=np.arange(1,10,2)\n",
    "print(arr11)"
   ]
  },
  {
   "cell_type": "code",
   "execution_count": 6,
   "id": "78784da7",
   "metadata": {},
   "outputs": [
    {
     "data": {
      "text/plain": [
       "array([0, 0])"
      ]
     },
     "execution_count": 6,
     "metadata": {},
     "output_type": "execute_result"
    }
   ],
   "source": [
    "# Array with 0s:\n",
    "arr0=np.zeros(2,dtype='int')  # np.zeros[shape=2,dtype] here shape is no of zeros\n",
    "arr0 "
   ]
  },
  {
   "cell_type": "code",
   "execution_count": 7,
   "id": "b10f97c5",
   "metadata": {},
   "outputs": [
    {
     "data": {
      "text/plain": [
       "array([1, 1, 1])"
      ]
     },
     "execution_count": 7,
     "metadata": {},
     "output_type": "execute_result"
    }
   ],
   "source": [
    "# Arrays with 1s:\n",
    "arr1s=np.ones(3,int)\n",
    "arr1s"
   ]
  },
  {
   "cell_type": "code",
   "execution_count": 8,
   "id": "c5b5f8e0",
   "metadata": {},
   "outputs": [
    {
     "name": "stdout",
     "output_type": "stream",
     "text": [
      "[[1 0 0 0]\n",
      " [0 1 0 0]\n",
      " [0 0 1 0]\n",
      " [0 0 0 1]]\n"
     ]
    }
   ],
   "source": [
    "# numpy.eye\n",
    "#The eye tool returns a 2-D array with  1’s as the diagonal and  0’s elsewhere.\n",
    "arrA= np.eye(4, 4, k = 0, dtype='int') # k=0 means main diagonal, k=1 means diagonal above main and k=-1 below main diagonal\n",
    "print(arrA)"
   ]
  },
  {
   "cell_type": "markdown",
   "id": "1dcd56e5",
   "metadata": {},
   "source": [
    "### Dimensions in Arrays\n",
    "A dimension in arrays is one level of array depth (nested arrays).\n",
    "\n",
    "nested array: are arrays that have arrays as their elements."
   ]
  },
  {
   "cell_type": "markdown",
   "id": "9cabf093",
   "metadata": {},
   "source": [
    "### 0-D Arrays:\n",
    "\n",
    "0-D arrays, or Scalars, are the elements in an array. Each value in an array is a 0-D array."
   ]
  },
  {
   "cell_type": "code",
   "execution_count": 9,
   "id": "ebdbe2d7",
   "metadata": {},
   "outputs": [
    {
     "name": "stdout",
     "output_type": "stream",
     "text": [
      "14\n"
     ]
    }
   ],
   "source": [
    "arr1=np.array(14)\n",
    "print(arr1)"
   ]
  },
  {
   "cell_type": "markdown",
   "id": "aec5a1c9",
   "metadata": {},
   "source": [
    "### 1-D Arrays:\n",
    "An array that has 0-D arrays as its elements is called uni-dimensional or 1-D array."
   ]
  },
  {
   "cell_type": "code",
   "execution_count": 10,
   "id": "6238e76c",
   "metadata": {},
   "outputs": [
    {
     "name": "stdout",
     "output_type": "stream",
     "text": [
      "[1 2 3 4 5]\n"
     ]
    }
   ],
   "source": [
    "import numpy as np\n",
    "\n",
    "arr2 = np.array([1, 2, 3, 4, 5])\n",
    "\n",
    "print(arr2)"
   ]
  },
  {
   "cell_type": "markdown",
   "id": "321da2b0",
   "metadata": {},
   "source": [
    "### 2-D Arrays:\n",
    "An array that has 1-D arrays as its elements is called a 2-D array.\n",
    "\n",
    "These are often used to represent matrix or 2nd order tensors."
   ]
  },
  {
   "cell_type": "code",
   "execution_count": 11,
   "id": "c6ad60dd",
   "metadata": {},
   "outputs": [
    {
     "name": "stdout",
     "output_type": "stream",
     "text": [
      "[[1 2 3]\n",
      " [4 5 6]]\n"
     ]
    }
   ],
   "source": [
    "arr3=np.array([[1,2,3],[4,5,6]])\n",
    "print(arr3)"
   ]
  },
  {
   "cell_type": "markdown",
   "id": "588988ae",
   "metadata": {},
   "source": [
    "### 3-D arrays\n",
    "An array that has 2-D arrays (matrices) as its elements is called 3-D array.\n",
    "\n",
    "These are often used to represent a 3rd order tensor."
   ]
  },
  {
   "cell_type": "code",
   "execution_count": 12,
   "id": "ec8bf868",
   "metadata": {
    "scrolled": true
   },
   "outputs": [
    {
     "name": "stdout",
     "output_type": "stream",
     "text": [
      "[[[1 2 3]\n",
      "  [4 5 6]]\n",
      "\n",
      " [[1 2 3]\n",
      "  [4 5 6]]]\n"
     ]
    }
   ],
   "source": [
    "arr4=np.array([[[1, 2, 3], [4, 5, 6]], [[1, 2, 3], [4, 5, 6]]])\n",
    "print(arr4)"
   ]
  },
  {
   "cell_type": "markdown",
   "id": "3fde8fab",
   "metadata": {},
   "source": [
    "### Dimension of Arrays: \n",
    "NumPy Arrays provides the ndim attribute that returns an integer that tells us how many dimensions the array have."
   ]
  },
  {
   "cell_type": "code",
   "execution_count": 13,
   "id": "43f72a06",
   "metadata": {},
   "outputs": [
    {
     "name": "stdout",
     "output_type": "stream",
     "text": [
      "0\n"
     ]
    }
   ],
   "source": [
    "print(arr1.ndim)"
   ]
  },
  {
   "cell_type": "code",
   "execution_count": 14,
   "id": "32e90cf0",
   "metadata": {},
   "outputs": [
    {
     "name": "stdout",
     "output_type": "stream",
     "text": [
      "1\n"
     ]
    }
   ],
   "source": [
    "print(arr2.ndim)"
   ]
  },
  {
   "cell_type": "code",
   "execution_count": 15,
   "id": "eae6325d",
   "metadata": {},
   "outputs": [
    {
     "name": "stdout",
     "output_type": "stream",
     "text": [
      "2\n"
     ]
    }
   ],
   "source": [
    "print(arr3.ndim)"
   ]
  },
  {
   "cell_type": "code",
   "execution_count": 16,
   "id": "87b43bdb",
   "metadata": {},
   "outputs": [
    {
     "name": "stdout",
     "output_type": "stream",
     "text": [
      "3\n"
     ]
    }
   ],
   "source": [
    "print(arr4.ndim)"
   ]
  },
  {
   "cell_type": "markdown",
   "id": "8688a706",
   "metadata": {},
   "source": [
    "### Higher Dimensional Arrays:\n",
    "An array can have any number of dimensions.\n",
    "\n",
    "When the array is created, you can define the number of dimensions by using the ndmin argument."
   ]
  },
  {
   "cell_type": "code",
   "execution_count": 17,
   "id": "defdb763",
   "metadata": {},
   "outputs": [
    {
     "name": "stdout",
     "output_type": "stream",
     "text": [
      "[[[[[1 2 3 4]]]]]\n",
      "No of Dimensions: 5\n"
     ]
    }
   ],
   "source": [
    "import numpy as np\n",
    "arr5=np.array([1,2,3,4], ndmin=5)\n",
    "print(arr5)\n",
    "print(\"No of Dimensions:\", arr5.ndim)\n",
    "\n",
    "## Here, \"ndmin\" is used to assign number of dimensions as an argument."
   ]
  },
  {
   "cell_type": "markdown",
   "id": "5836a03f",
   "metadata": {},
   "source": [
    "## Array Indexing:\n",
    "Array indexing is the same as accessing an array element.\n",
    "\n",
    "You can access an array element by referring to its index number.\n",
    "\n",
    "The indexes in NumPy arrays start with 0, meaning that the first element has index 0, and the second has index 1 etc."
   ]
  },
  {
   "cell_type": "code",
   "execution_count": 4,
   "id": "03498fbe",
   "metadata": {},
   "outputs": [
    {
     "name": "stdout",
     "output_type": "stream",
     "text": [
      "4\n"
     ]
    }
   ],
   "source": [
    "arr6=np.array([1,2,3,4])\n",
    "print(arr6[3])            # Accessing the element at index 3"
   ]
  },
  {
   "cell_type": "code",
   "execution_count": 5,
   "id": "642faf1a",
   "metadata": {},
   "outputs": [
    {
     "name": "stdout",
     "output_type": "stream",
     "text": [
      "2 4\n",
      "6\n"
     ]
    }
   ],
   "source": [
    "print(arr6[1],arr6[3])   # Accessing the elements at index 1 and 3\n",
    "print(arr6[1]+arr6[3])   # And adding them"
   ]
  },
  {
   "cell_type": "code",
   "execution_count": 20,
   "id": "19baa51f",
   "metadata": {},
   "outputs": [
    {
     "name": "stdout",
     "output_type": "stream",
     "text": [
      "[[1 2 3]\n",
      " [4 5 6]]\n",
      "2nd element at 1st row is: 2\n"
     ]
    }
   ],
   "source": [
    "### Accessing 2_D Arrays\n",
    "arr3=np.array([[1,2,3],[4,5,6]])\n",
    "print(arr3)\n",
    "print(\"2nd element at 1st row is:\",arr3[0,1])"
   ]
  },
  {
   "cell_type": "code",
   "execution_count": 21,
   "id": "3b352823",
   "metadata": {},
   "outputs": [
    {
     "name": "stdout",
     "output_type": "stream",
     "text": [
      "5th element on 2nd row:  10\n"
     ]
    }
   ],
   "source": [
    "arr = np.array([[1,2,3,4,5], [6,7,8,9,10]])\n",
    "\n",
    "print('5th element on 2nd row: ', arr[1, 4])   "
   ]
  },
  {
   "cell_type": "code",
   "execution_count": 22,
   "id": "6bec05fb",
   "metadata": {},
   "outputs": [
    {
     "name": "stdout",
     "output_type": "stream",
     "text": [
      "[[[1 2 3]\n",
      "  [4 5 6]]\n",
      "\n",
      " [[1 2 3]\n",
      "  [4 5 6]]]\n",
      "The 3rd element in 2nd Array in 1st Array is 6\n"
     ]
    }
   ],
   "source": [
    "### Access 3-D Arrays\n",
    "print(arr4)\n",
    "print(\"The 3rd element in 2nd Array in 1st Array is\", arr4[0,1,2])"
   ]
  },
  {
   "cell_type": "markdown",
   "id": "a1c37154",
   "metadata": {},
   "source": [
    "### Negative Indexing:\n",
    "To access the element from end of a array."
   ]
  },
  {
   "cell_type": "code",
   "execution_count": 23,
   "id": "2a87ac4a",
   "metadata": {},
   "outputs": [
    {
     "name": "stdout",
     "output_type": "stream",
     "text": [
      "[[ 1  2  3  4  5]\n",
      " [ 6  7  8  9 10]]\n",
      "Element at index -1 is: [ 6  7  8  9 10]\n"
     ]
    }
   ],
   "source": [
    "print(arr)\n",
    "print(\"Element at index -1 is:\",arr[-1])"
   ]
  },
  {
   "cell_type": "code",
   "execution_count": 24,
   "id": "062ecf99",
   "metadata": {},
   "outputs": [
    {
     "name": "stdout",
     "output_type": "stream",
     "text": [
      "Element at index -2 is: [1 2 3 4 5]\n"
     ]
    }
   ],
   "source": [
    "print(\"Element at index -2 is:\", arr[-2])"
   ]
  },
  {
   "cell_type": "markdown",
   "id": "db7de3c3",
   "metadata": {},
   "source": [
    "### Array Slicing: \n",
    "Slicing in python means taking elements from one given index to another given index."
   ]
  },
  {
   "cell_type": "code",
   "execution_count": 25,
   "id": "d1a26a64",
   "metadata": {},
   "outputs": [
    {
     "name": "stdout",
     "output_type": "stream",
     "text": [
      "[1, 2, 3, 4, 5, 6, 7]\n"
     ]
    }
   ],
   "source": [
    "arr=[1,2,3,4,5,6,7]\n",
    "print(arr)"
   ]
  },
  {
   "cell_type": "code",
   "execution_count": 26,
   "id": "e0919225",
   "metadata": {},
   "outputs": [
    {
     "name": "stdout",
     "output_type": "stream",
     "text": [
      "[3, 4, 5, 6]\n"
     ]
    }
   ],
   "source": [
    "print(arr[2:6])   # Slicing elements from index 2 to 6"
   ]
  },
  {
   "cell_type": "code",
   "execution_count": 27,
   "id": "a1ce13e2",
   "metadata": {},
   "outputs": [
    {
     "name": "stdout",
     "output_type": "stream",
     "text": [
      "[5, 6, 7]\n"
     ]
    }
   ],
   "source": [
    "print(arr[4:])   # Slicing elements from index 4th to end"
   ]
  },
  {
   "cell_type": "code",
   "execution_count": 28,
   "id": "e992604a",
   "metadata": {},
   "outputs": [
    {
     "name": "stdout",
     "output_type": "stream",
     "text": [
      "[1, 2, 3, 4]\n"
     ]
    }
   ],
   "source": [
    "print(arr[:4])  # Slicing elements from start to index 4th (not included 4th index element)"
   ]
  },
  {
   "cell_type": "code",
   "execution_count": 29,
   "id": "62435839",
   "metadata": {},
   "outputs": [
    {
     "name": "stdout",
     "output_type": "stream",
     "text": [
      "[1, 2, 3, 4, 5, 6, 7]\n"
     ]
    }
   ],
   "source": [
    "print(arr[:])   # No Slicing"
   ]
  },
  {
   "cell_type": "markdown",
   "id": "9df1a0fb",
   "metadata": {},
   "source": [
    "### Negative Slicing"
   ]
  },
  {
   "cell_type": "code",
   "execution_count": 30,
   "id": "0b160fa8",
   "metadata": {},
   "outputs": [
    {
     "name": "stdout",
     "output_type": "stream",
     "text": [
      "[5, 6]\n"
     ]
    }
   ],
   "source": [
    "print(arr[-3:-1])  # Slicing from \"END\" from index 3 to 1"
   ]
  },
  {
   "cell_type": "code",
   "execution_count": 31,
   "id": "e649bf52",
   "metadata": {},
   "outputs": [
    {
     "name": "stdout",
     "output_type": "stream",
     "text": [
      "[1, 2, 3, 4]\n"
     ]
    }
   ],
   "source": [
    "print(arr[:-3])   #Slicing till index 3"
   ]
  },
  {
   "cell_type": "markdown",
   "id": "606b46fc",
   "metadata": {},
   "source": [
    "### Step Slicing:"
   ]
  },
  {
   "cell_type": "code",
   "execution_count": 32,
   "id": "11f78270",
   "metadata": {},
   "outputs": [
    {
     "name": "stdout",
     "output_type": "stream",
     "text": [
      "[2, 4, 6]\n"
     ]
    }
   ],
   "source": [
    "print(arr[1:6:2])  # Slicing from index 1 to 6 with gap of 2  \n",
    "                   #(arr[start: end: step value])"
   ]
  },
  {
   "cell_type": "code",
   "execution_count": 33,
   "id": "d733060d",
   "metadata": {},
   "outputs": [
    {
     "name": "stdout",
     "output_type": "stream",
     "text": [
      "[1, 3, 5, 7]\n"
     ]
    }
   ],
   "source": [
    "print(arr[::2])    # Slicing every other element from start to end."
   ]
  },
  {
   "cell_type": "markdown",
   "id": "0f346145",
   "metadata": {},
   "source": [
    "## Slicing 2-D Arrays:"
   ]
  },
  {
   "cell_type": "code",
   "execution_count": 34,
   "id": "d6543fe1",
   "metadata": {},
   "outputs": [
    {
     "name": "stdout",
     "output_type": "stream",
     "text": [
      "[[ 1  2  3  4  5]\n",
      " [ 6  7  8  9 10]]\n"
     ]
    }
   ],
   "source": [
    "arr3 = np.array([[1, 2, 3, 4, 5], [6, 7, 8, 9, 10]])\n",
    "\n",
    "print(arr3)"
   ]
  },
  {
   "cell_type": "code",
   "execution_count": 35,
   "id": "4efb165f",
   "metadata": {},
   "outputs": [
    {
     "name": "stdout",
     "output_type": "stream",
     "text": [
      "[7 8 9]\n"
     ]
    }
   ],
   "source": [
    "print(arr3[1,1:4])  # Slicing element from index 1 to 4(not included) from 2nd row i.e 2nd element in 2-D array  (row=element)"
   ]
  },
  {
   "cell_type": "code",
   "execution_count": 36,
   "id": "c4b0ab84",
   "metadata": {},
   "outputs": [
    {
     "name": "stdout",
     "output_type": "stream",
     "text": [
      "[4]\n"
     ]
    }
   ],
   "source": [
    "#From both elements, return index 2:\n",
    "print(arr3[0:1,3])  # Slicing element from both elements(rows) at index 3rd"
   ]
  },
  {
   "cell_type": "code",
   "execution_count": 37,
   "id": "dc07ce34",
   "metadata": {},
   "outputs": [
    {
     "name": "stdout",
     "output_type": "stream",
     "text": [
      "[[2 3 4]]\n"
     ]
    }
   ],
   "source": [
    "print(arr3[0:1,1:4])  # Slicing element from both elements(rows) from index 1 to 4 (not included)"
   ]
  },
  {
   "cell_type": "markdown",
   "id": "5319c067",
   "metadata": {},
   "source": [
    "## Operations on Arrays:"
   ]
  },
  {
   "cell_type": "code",
   "execution_count": 38,
   "id": "0e602d5c",
   "metadata": {},
   "outputs": [
    {
     "name": "stdout",
     "output_type": "stream",
     "text": [
      "First array:\n",
      "[[0 1]\n",
      " [2 3]]\n",
      "\n",
      "Second array:\n",
      "[12 12]\n",
      "\n",
      "Adding the two arrays:\n",
      "[[12 13]\n",
      " [14 15]]\n",
      "\n",
      "Subtracting the two arrays:\n",
      "[[-12 -11]\n",
      " [-10  -9]]\n",
      "\n",
      "Multiplying the two arrays:\n",
      "[[ 0 12]\n",
      " [24 36]]\n",
      "\n",
      "Dividing the two arrays:\n",
      "[[0.         0.08333333]\n",
      " [0.16666667 0.25      ]]\n"
     ]
    }
   ],
   "source": [
    "import numpy as np\n",
    "\n",
    "\n",
    "# Initializing the array\n",
    "arrOP1 = np.arange(4, dtype = 'int').reshape(2, 2)\n",
    "\n",
    "print('First array:')\n",
    "print(arrOP1)\n",
    "\n",
    "print('\\nSecond array:')\n",
    "arrOP2 = np.array([12, 12])\n",
    "print(arrOP2)\n",
    "\n",
    "print('\\nAdding the two arrays:')\n",
    "print(np.add(arrOP1, arrOP2))\n",
    "\n",
    "print('\\nSubtracting the two arrays:')\n",
    "print(np.subtract(arrOP1, arrOP2))\n",
    "\n",
    "print('\\nMultiplying the two arrays:')\n",
    "print(np.multiply(arrOP1, arrOP2))\n",
    "\n",
    "print('\\nDividing the two arrays:')\n",
    "print(np.divide(arrOP1, arrOP2))\n"
   ]
  },
  {
   "cell_type": "markdown",
   "id": "559f2dec",
   "metadata": {},
   "source": [
    "## DataTypes:"
   ]
  },
  {
   "cell_type": "code",
   "execution_count": 39,
   "id": "9331ae01",
   "metadata": {},
   "outputs": [
    {
     "name": "stdout",
     "output_type": "stream",
     "text": [
      "int32\n"
     ]
    }
   ],
   "source": [
    "#data type of an array containing numbers:\n",
    "arr3 = np.array([[1, 2, 3, 4, 5], [6, 7, 8, 9, 10]])\n",
    "print(arr3.dtype)"
   ]
  },
  {
   "cell_type": "code",
   "execution_count": 40,
   "id": "433d1145",
   "metadata": {},
   "outputs": [
    {
     "name": "stdout",
     "output_type": "stream",
     "text": [
      "<U6\n"
     ]
    }
   ],
   "source": [
    "#data type of an array containing strings:\n",
    "\n",
    "arrs = np.array(['apple', 'banana', 'cherry'])\n",
    "\n",
    "print(arrs.dtype)\n"
   ]
  },
  {
   "cell_type": "markdown",
   "id": "c5336ca7",
   "metadata": {},
   "source": [
    "### Creating Arrays With a Defined Data Type:"
   ]
  },
  {
   "cell_type": "code",
   "execution_count": 41,
   "id": "c5680dbf",
   "metadata": {},
   "outputs": [
    {
     "name": "stdout",
     "output_type": "stream",
     "text": [
      "[b'1' b'2' b'3' b'4']\n",
      "|S1\n"
     ]
    }
   ],
   "source": [
    "arr = np.array([1, 2, 3, 4], dtype='S')\n",
    "\n",
    "print(arr)\n",
    "print(arr.dtype)"
   ]
  },
  {
   "cell_type": "code",
   "execution_count": 42,
   "id": "4a996b76",
   "metadata": {},
   "outputs": [
    {
     "name": "stdout",
     "output_type": "stream",
     "text": [
      "[1 2 3 4]\n",
      "int32\n"
     ]
    }
   ],
   "source": [
    "arr = np.array([1, 2, 3, 4], dtype='i4')\n",
    "\n",
    "print(arr)\n",
    "print(arr.dtype)"
   ]
  },
  {
   "cell_type": "markdown",
   "id": "f5692b57",
   "metadata": {},
   "source": [
    "# Array Manipulation"
   ]
  },
  {
   "cell_type": "markdown",
   "id": "d8706c56",
   "metadata": {},
   "source": [
    "### Copy and View in Array: "
   ]
  },
  {
   "cell_type": "code",
   "execution_count": 43,
   "id": "d1253a3e",
   "metadata": {},
   "outputs": [
    {
     "name": "stdout",
     "output_type": "stream",
     "text": [
      "Original Array with updated element: [14  2  3  4  5  6  7]\n",
      "Copied array: [1 2 3 4 5 6 7]\n"
     ]
    }
   ],
   "source": [
    "# COPY Array\n",
    "arrC=np.array([1,2,3,4,5,6,7])\n",
    "x=arrC.copy()\n",
    "arrC[0]=14\n",
    "print(\"Original Array with updated element:\",arrC)\n",
    "print(\"Copied array:\",x)                          # In Copy, array is not affected by changes "
   ]
  },
  {
   "cell_type": "code",
   "execution_count": 44,
   "id": "2a24bcf0",
   "metadata": {},
   "outputs": [
    {
     "name": "stdout",
     "output_type": "stream",
     "text": [
      "Original Array with updated element: [14  2  3  4  5  6  7]\n",
      "Copied array: [14  2  3  4  5  6  7]\n"
     ]
    }
   ],
   "source": [
    "# VIEW Array\n",
    "\n",
    "arrV=np.array([1,2,3,4,5,6,7])\n",
    "x=arrV.view()\n",
    "arrV[0]=14\n",
    "print(\"Original Array with updated element:\",arrV)\n",
    "print(\"Copied array:\",x)                            #In view arrays are affected by changes"
   ]
  },
  {
   "cell_type": "markdown",
   "id": "938f5950",
   "metadata": {},
   "source": [
    "### Using np.empty_like() function\n",
    "This function returns a new array with the same shape and type as a given array."
   ]
  },
  {
   "cell_type": "code",
   "execution_count": 45,
   "id": "f1f1ab19",
   "metadata": {},
   "outputs": [
    {
     "name": "stdout",
     "output_type": "stream",
     "text": [
      "Original array:  [ 13  99 100  34  65  11  66  81 632  44]\n",
      "\n",
      "Copy of the given array:  [ 13  99 100  34  65  11  66  81 632  44]\n"
     ]
    }
   ],
   "source": [
    "ary = np.array([13, 99, 100, 34, 65, 11,66, 81, 632, 44])\n",
    "\n",
    "print(\"Original array: \",ary)\n",
    "\n",
    "copy = np.empty_like(ary)\n",
    "\n",
    "copy[:] = ary\n",
    "\n",
    "print(\"\\nCopy of the given array: \",copy)\n"
   ]
  },
  {
   "cell_type": "markdown",
   "id": "4d00257f",
   "metadata": {},
   "source": [
    "## Numpy Array Shape & Reshape"
   ]
  },
  {
   "cell_type": "markdown",
   "id": "1b0511b4",
   "metadata": {},
   "source": [
    "### shape()"
   ]
  },
  {
   "cell_type": "markdown",
   "id": "1e977fd6",
   "metadata": {},
   "source": [
    "Shape of an Array\n",
    "The shape of an array is the number of elements in each dimension.\n",
    "\n"
   ]
  },
  {
   "cell_type": "code",
   "execution_count": 46,
   "id": "9f692c2a",
   "metadata": {},
   "outputs": [
    {
     "name": "stdout",
     "output_type": "stream",
     "text": [
      "(2, 4)\n"
     ]
    }
   ],
   "source": [
    "arr = np.array([[1, 2, 3, 4], [5, 6, 7, 8]])\n",
    "\n",
    "print(arr.shape) "
   ]
  },
  {
   "cell_type": "code",
   "execution_count": 47,
   "id": "e1995a8b",
   "metadata": {},
   "outputs": [
    {
     "name": "stdout",
     "output_type": "stream",
     "text": [
      "[[[[[1 2 3 4]]]]]\n",
      "shape of array : (1, 1, 1, 1, 4)\n"
     ]
    }
   ],
   "source": [
    "arr = np.array([1, 2, 3, 4], ndmin=5)\n",
    "\n",
    "print(arr)\n",
    "print('shape of array :', arr.shape)"
   ]
  },
  {
   "cell_type": "code",
   "execution_count": 48,
   "id": "41443943",
   "metadata": {},
   "outputs": [],
   "source": [
    "# Integers at every index tells about the number of elements the corresponding dimension has.\n",
    "\n",
    "# In the example above at index-4 we have value 4, so we can say that 5th ( 4 + 1 th) dimension has 4 elements."
   ]
  },
  {
   "cell_type": "markdown",
   "id": "c98b4495",
   "metadata": {},
   "source": [
    "### Reshape\n",
    "Reshaping means changing the shape of an array.\n",
    "\n",
    "The shape of an array is the number of elements in each dimension.\n",
    "\n",
    "By reshaping we can add or remove dimensions or change number of elements in each dimension."
   ]
  },
  {
   "cell_type": "code",
   "execution_count": 49,
   "id": "9ef7e778",
   "metadata": {},
   "outputs": [
    {
     "name": "stdout",
     "output_type": "stream",
     "text": [
      "[[ 1  2  3  4]\n",
      " [ 5  6  7  8]\n",
      " [ 9 10 11 12]]\n"
     ]
    }
   ],
   "source": [
    "arr = np.array([1, 2, 3, 4, 5, 6, 7, 8, 9, 10, 11, 12])\n",
    "\n",
    "newarr = arr.reshape(3, 4)\n",
    "\n",
    "print(newarr)"
   ]
  },
  {
   "cell_type": "code",
   "execution_count": 50,
   "id": "79b245f6",
   "metadata": {},
   "outputs": [
    {
     "name": "stdout",
     "output_type": "stream",
     "text": [
      "[[[ 1  2]\n",
      "  [ 3  4]\n",
      "  [ 5  6]]\n",
      "\n",
      " [[ 7  8]\n",
      "  [ 9 10]\n",
      "  [11 12]]]\n"
     ]
    }
   ],
   "source": [
    "#The outermost dimension will have 2 arrays that contains 3 arrays, each with 2 elements:\n",
    "\n",
    "arr = np.array([1, 2, 3, 4, 5, 6, 7, 8, 9, 10, 11, 12])\n",
    "\n",
    "newarr = arr.reshape(2, 3, 2)     # 2 arrays contain 3 arrays and that 3 arrays contains 2 elements each\n",
    "\n",
    "print(newarr)"
   ]
  },
  {
   "cell_type": "markdown",
   "id": "ef5033cc",
   "metadata": {},
   "source": [
    "# Joining Array"
   ]
  },
  {
   "cell_type": "markdown",
   "id": "5295b833",
   "metadata": {},
   "source": [
    "### np.concatenate()"
   ]
  },
  {
   "cell_type": "code",
   "execution_count": 51,
   "id": "b30a0f7b",
   "metadata": {},
   "outputs": [
    {
     "name": "stdout",
     "output_type": "stream",
     "text": [
      "[1 2 3 4 5 6]\n"
     ]
    }
   ],
   "source": [
    "arr1 = np.array([1, 2, 3])\n",
    "\n",
    "arr2 = np.array([4, 5, 6])\n",
    "\n",
    "arr = np.concatenate((arr1, arr2))\n",
    "\n",
    "print(arr)"
   ]
  },
  {
   "cell_type": "code",
   "execution_count": 52,
   "id": "319e293a",
   "metadata": {},
   "outputs": [
    {
     "name": "stdout",
     "output_type": "stream",
     "text": [
      "[[1 2 5 6]\n",
      " [3 4 7 8]]\n"
     ]
    }
   ],
   "source": [
    "arr1 = np.array([[1, 2], [3, 4]])\n",
    "\n",
    "arr2 = np.array([[5, 6], [7, 8]])\n",
    "\n",
    "arr = np.concatenate((arr1, arr2), axis=1)\n",
    "\n",
    "print(arr)\n"
   ]
  },
  {
   "cell_type": "code",
   "execution_count": 53,
   "id": "8df8c09f",
   "metadata": {},
   "outputs": [
    {
     "name": "stdout",
     "output_type": "stream",
     "text": [
      "[[[1 2 3]\n",
      "  [4 5 6]\n",
      "  [1 2 3]\n",
      "  [4 5 6]]\n",
      "\n",
      " [[1 2 3]\n",
      "  [4 5 6]\n",
      "  [1 2 3]\n",
      "  [4 5 6]]]\n"
     ]
    }
   ],
   "source": [
    "arr1=np.array([[[1, 2, 3], [4, 5, 6]], [[1, 2, 3], [4, 5, 6]]])\n",
    "\n",
    "arr2=np.array([[[1, 2, 3], [4, 5, 6]], [[1, 2, 3], [4, 5, 6]]])\n",
    "\n",
    "arr = np.concatenate((arr1, arr2), axis=1)\n",
    "\n",
    "print(arr)\n"
   ]
  },
  {
   "cell_type": "markdown",
   "id": "a9519417",
   "metadata": {},
   "source": [
    "### Joining Arrays Using Stack Functions\n",
    "### stack():"
   ]
  },
  {
   "cell_type": "code",
   "execution_count": 54,
   "id": "45ec4327",
   "metadata": {},
   "outputs": [
    {
     "name": "stdout",
     "output_type": "stream",
     "text": [
      "[[1 4]\n",
      " [2 5]\n",
      " [3 6]]\n"
     ]
    }
   ],
   "source": [
    "arr1 = np.array([1, 2, 3])\n",
    "\n",
    "arr2 = np.array([4, 5, 6])\n",
    "\n",
    "arr = np.stack((arr1, arr2), axis=1)\n",
    "\n",
    "print(arr)"
   ]
  },
  {
   "cell_type": "markdown",
   "id": "43fa6fc5",
   "metadata": {},
   "source": [
    "### numpy.hstack() :\n",
    "numpy.hstack() function is used to stack the sequence of input arrays horizontally (i.e. column wise) to make a single array."
   ]
  },
  {
   "cell_type": "code",
   "execution_count": 55,
   "id": "d03febe8",
   "metadata": {},
   "outputs": [
    {
     "name": "stdout",
     "output_type": "stream",
     "text": [
      "1st Input array : \n",
      " [1 2 3]\n",
      "2nd Input array : \n",
      " [4 5 6]\n",
      "Output horizontally stacked array:\n",
      "  [1 2 3 4 5 6]\n"
     ]
    }
   ],
   "source": [
    "# hstack() function\n",
    "\n",
    "in_arr1 = np.array([ 1, 2, 3] )\n",
    "print (\"1st Input array : \\n\", in_arr1)\n",
    "\n",
    "in_arr2 = np.array([ 4, 5, 6] )\n",
    "print (\"2nd Input array : \\n\", in_arr2)\n",
    "\n",
    "# Stacking the two arrays horizontally\n",
    "out_arr = np.hstack((in_arr1, in_arr2))\n",
    "print (\"Output horizontally stacked array:\\n \", out_arr)\n"
   ]
  },
  {
   "cell_type": "markdown",
   "id": "38eac8ad",
   "metadata": {},
   "source": [
    "### numpy.vstack() function:\n",
    "numpy.vstack() function is used to stack the sequence of input arrays vertically (i.e. row wise) to make a single array."
   ]
  },
  {
   "cell_type": "code",
   "execution_count": 56,
   "id": "a6d0d0df",
   "metadata": {},
   "outputs": [
    {
     "name": "stdout",
     "output_type": "stream",
     "text": [
      "1st Input array : \n",
      " [1 2 3]\n",
      "2nd Input array : \n",
      " [4 5 6]\n",
      "Output vertically stacked array:\n",
      "  [[1 2 3]\n",
      " [4 5 6]]\n"
     ]
    }
   ],
   "source": [
    "# vstack() function\n",
    "\n",
    "# input array\n",
    "in_arr1 = np.array([ 1, 2, 3] )\n",
    "print (\"1st Input array : \\n\", in_arr1)\n",
    "\n",
    "in_arr2 = np.array([ 4, 5, 6] )\n",
    "print (\"2nd Input array : \\n\", in_arr2)\n",
    "\n",
    "# Stacking the two arrays vertically\n",
    "out_arr = np.vstack((in_arr1, in_arr2))\n",
    "print (\"Output vertically stacked array:\\n \", out_arr)\n"
   ]
  },
  {
   "cell_type": "markdown",
   "id": "f7b0d980",
   "metadata": {},
   "source": [
    "## numpy.dstack():\n",
    "To get the combined array in a stack index by index."
   ]
  },
  {
   "cell_type": "code",
   "execution_count": 57,
   "id": "26a62d19",
   "metadata": {},
   "outputs": [
    {
     "name": "stdout",
     "output_type": "stream",
     "text": [
      "[[[1 4]\n",
      "  [2 5]\n",
      "  [3 6]]]\n"
     ]
    }
   ],
   "source": [
    "gfg1 = np.array([1, 2, 3])\n",
    "gfg2 = np.array([4, 5, 6])\n",
    "\n",
    "# using numpy.dstack() method\n",
    "print(np.dstack((gfg1, gfg2)))\n"
   ]
  },
  {
   "cell_type": "markdown",
   "id": "3f50e4a5",
   "metadata": {},
   "source": [
    "## np.block()"
   ]
  },
  {
   "cell_type": "code",
   "execution_count": 58,
   "id": "f7a3ea0c",
   "metadata": {},
   "outputs": [
    {
     "name": "stdout",
     "output_type": "stream",
     "text": [
      "[[1 1 2 2 2]\n",
      " [1 1 2 2 2]\n",
      " [3 3 4 4 4]\n",
      " [3 3 4 4 4]\n",
      " [3 3 4 4 4]]\n"
     ]
    }
   ],
   "source": [
    "block_1 = np.array([[1, 1], [1, 1]])\n",
    "block_2 = np.array([[2, 2, 2], [2, 2, 2]])\n",
    "block_3 = np.array([[3, 3], [3, 3], [3, 3]])\n",
    "block_4 = np.array([[4, 4, 4], [4, 4, 4], [4, 4, 4]])\n",
    "\n",
    "block_new = np.block([\n",
    "    [block_1, block_2],\n",
    "    [block_3, block_4]\n",
    "])\n",
    "\n",
    "print(block_new)\n"
   ]
  },
  {
   "cell_type": "markdown",
   "id": "45b76966",
   "metadata": {},
   "source": [
    "## numpy.nditer()\n",
    "To combine 1-D and 2-D arrays and display their elements."
   ]
  },
  {
   "cell_type": "code",
   "execution_count": 59,
   "id": "ac3c69cc",
   "metadata": {},
   "outputs": [
    {
     "name": "stdout",
     "output_type": "stream",
     "text": [
      "One dimensional array:\n",
      "[0 1 2 3 4]\n",
      "\n",
      "Two dimensional array:\n",
      "[[0 1 2 3 4]\n",
      " [5 6 7 8 9]]\n",
      "0:0\n",
      "1:1\n",
      "2:2\n",
      "3:3\n",
      "4:4\n",
      "0:5\n",
      "1:6\n",
      "2:7\n",
      "3:8\n",
      "4:9\n"
     ]
    }
   ],
   "source": [
    "num_1d = np.arange(5)\n",
    "print(\"One dimensional array:\")\n",
    "print(num_1d)\n",
    "\n",
    "num_2d = np.arange(10).reshape(2,5)\n",
    "print(\"\\nTwo dimensional array:\")\n",
    "print(num_2d)\n",
    "\n",
    "# Combine 1-D and 2-D arrays and display\n",
    "# their elements using numpy.nditer()\n",
    "for a, b in np.nditer([num_1d, num_2d]):\n",
    "\tprint(\"%d:%d\" % (a, b),)\n"
   ]
  },
  {
   "cell_type": "markdown",
   "id": "48690630",
   "metadata": {},
   "source": [
    "# Array Split\n",
    "Array splitting can be vertical, horizontal, or depth-wise. We can use functions hsplit(), vsplit() and dsplit() respectively \n",
    "for the same .We can split arrays into arrays of the same shape by indicating the position after which the split should occur."
   ]
  },
  {
   "cell_type": "code",
   "execution_count": 60,
   "id": "70d45f60",
   "metadata": {},
   "outputs": [
    {
     "name": "stdout",
     "output_type": "stream",
     "text": [
      "[array([1, 2, 3]), array([4, 5, 6])]\n"
     ]
    }
   ],
   "source": [
    "arr = np.array([1, 2, 3, 4, 5, 6])\n",
    "\n",
    "newarr = np.array_split(arr, 2)    #here, arr is splited in 2 sub arrays\n",
    "\n",
    "print(newarr)"
   ]
  },
  {
   "cell_type": "code",
   "execution_count": 61,
   "id": "1408d098",
   "metadata": {},
   "outputs": [
    {
     "name": "stdout",
     "output_type": "stream",
     "text": [
      "[array([[1, 2],\n",
      "       [3, 4]]), array([[5, 6],\n",
      "       [7, 8]]), array([[ 9, 10],\n",
      "       [11, 12]])]\n"
     ]
    }
   ],
   "source": [
    "arr = np.array([[1, 2], [3, 4], [5, 6], [7, 8], [9, 10], [11, 12]])\n",
    "\n",
    "newarr = np.array_split(arr, 3)\n",
    "\n",
    "print(newarr)"
   ]
  },
  {
   "cell_type": "code",
   "execution_count": 62,
   "id": "28757fb8",
   "metadata": {},
   "outputs": [
    {
     "name": "stdout",
     "output_type": "stream",
     "text": [
      "[array([[1, 2, 3],\n",
      "       [4, 5, 6]]), array([[ 7,  8,  9],\n",
      "       [10, 11, 12]]), array([[13, 14, 15],\n",
      "       [16, 17, 18]])]\n"
     ]
    }
   ],
   "source": [
    "arr = np.array([[1, 2, 3], [4, 5, 6], [7, 8, 9], [10, 11, 12], [13, 14, 15], [16, 17, 18]])\n",
    "\n",
    "newarr = np.array_split(arr, 3)\n",
    "\n",
    "print(newarr)"
   ]
  },
  {
   "cell_type": "markdown",
   "id": "12bd597a",
   "metadata": {},
   "source": [
    "### hsplit():"
   ]
  },
  {
   "cell_type": "code",
   "execution_count": 63,
   "id": "e8b5951d",
   "metadata": {},
   "outputs": [
    {
     "name": "stdout",
     "output_type": "stream",
     "text": [
      "[array([[ 1],\n",
      "       [ 3],\n",
      "       [ 5],\n",
      "       [ 7],\n",
      "       [ 9],\n",
      "       [11]]), array([[ 2],\n",
      "       [ 4],\n",
      "       [ 6],\n",
      "       [ 8],\n",
      "       [10],\n",
      "       [12]])]\n"
     ]
    }
   ],
   "source": [
    "arr = np.array([[1, 2], [3, 4], [5, 6], [7, 8], [9, 10], [11, 12]])\n",
    "\n",
    "newarr = np.hsplit(arr, 2)\n",
    "\n",
    "print(newarr)"
   ]
  },
  {
   "cell_type": "markdown",
   "id": "4a049ea9",
   "metadata": {},
   "source": [
    "### vsplit():"
   ]
  },
  {
   "cell_type": "code",
   "execution_count": 64,
   "id": "b6db6cba",
   "metadata": {},
   "outputs": [
    {
     "name": "stdout",
     "output_type": "stream",
     "text": [
      "[array([[1, 2],\n",
      "       [3, 4],\n",
      "       [5, 6]]), array([[ 7,  8],\n",
      "       [ 9, 10],\n",
      "       [11, 12]])]\n",
      "\n",
      "\n",
      "[[1 2]\n",
      " [3 4]\n",
      " [5 6]]\n",
      "\n",
      "\n",
      "[[ 7  8]\n",
      " [ 9 10]\n",
      " [11 12]]\n"
     ]
    }
   ],
   "source": [
    "arr = np.array([[1, 2], [3, 4], [5, 6], [7, 8], [9, 10], [11, 12]])\n",
    "\n",
    "newarr = np.vsplit(arr, 2)\n",
    "\n",
    "print(newarr)\n",
    "print(\"\\n\")\n",
    "print(newarr[0])\n",
    "print(\"\\n\")\n",
    "print(newarr[1])\n"
   ]
  },
  {
   "cell_type": "markdown",
   "id": "49adb596",
   "metadata": {},
   "source": [
    "### numpy.dsplit()- Depth-wise splitting: \n",
    "It Split the array into multiple sub-arrays along the 3rd axis (depth).\n",
    "numpy.dsplit(ary, indices_or_sections)"
   ]
  },
  {
   "cell_type": "code",
   "execution_count": 65,
   "id": "bc32faa6",
   "metadata": {},
   "outputs": [
    {
     "name": "stdout",
     "output_type": "stream",
     "text": [
      "[array([[[ 0],\n",
      "        [ 3],\n",
      "        [ 6]],\n",
      "\n",
      "       [[ 9],\n",
      "        [12],\n",
      "        [15]],\n",
      "\n",
      "       [[18],\n",
      "        [21],\n",
      "        [24]]]), array([[[ 1],\n",
      "        [ 4],\n",
      "        [ 7]],\n",
      "\n",
      "       [[10],\n",
      "        [13],\n",
      "        [16]],\n",
      "\n",
      "       [[19],\n",
      "        [22],\n",
      "        [25]]]), array([[[ 2],\n",
      "        [ 5],\n",
      "        [ 8]],\n",
      "\n",
      "       [[11],\n",
      "        [14],\n",
      "        [17]],\n",
      "\n",
      "       [[20],\n",
      "        [23],\n",
      "        [26]]])]\n",
      "\n",
      "\n",
      "[[[ 0]\n",
      "  [ 3]\n",
      "  [ 6]]\n",
      "\n",
      " [[ 9]\n",
      "  [12]\n",
      "  [15]]\n",
      "\n",
      " [[18]\n",
      "  [21]\n",
      "  [24]]]\n",
      "\n",
      "\n",
      "[[[ 1]\n",
      "  [ 4]\n",
      "  [ 7]]\n",
      "\n",
      " [[10]\n",
      "  [13]\n",
      "  [16]]\n",
      "\n",
      " [[19]\n",
      "  [22]\n",
      "  [25]]]\n"
     ]
    }
   ],
   "source": [
    "arr = np.arange(27).reshape(3, 3, 3)\n",
    "\n",
    "newarr = np.dsplit(arr, 3)\n",
    "\n",
    "print(newarr)\n",
    "print(\"\\n\")\n",
    "print(newarr[0])\n",
    "print(\"\\n\")\n",
    "print(newarr[1])\n"
   ]
  },
  {
   "cell_type": "markdown",
   "id": "1037c3f1",
   "metadata": {},
   "source": [
    "# Searching Arrays\n",
    "You can search an array for a certain value, and return the indexes that get a match."
   ]
  },
  {
   "cell_type": "markdown",
   "id": "5e18d8ad",
   "metadata": {},
   "source": [
    "## where():\n",
    " It returns the indices of elements in an input array where the given condition is satisfied."
   ]
  },
  {
   "cell_type": "code",
   "execution_count": 66,
   "id": "9cdc4a21",
   "metadata": {},
   "outputs": [
    {
     "name": "stdout",
     "output_type": "stream",
     "text": [
      "(array([3, 5, 6], dtype=int64),)\n"
     ]
    }
   ],
   "source": [
    "arr = np.array([1, 2, 3, 4, 5, 4, 4])\n",
    "\n",
    "x = np.where(arr == 4)        # Return element position index where it is present \n",
    "                              # here element 4 is present at index 3,5,6\n",
    "\n",
    "\n",
    "print(x)"
   ]
  },
  {
   "cell_type": "markdown",
   "id": "b8184c13",
   "metadata": {},
   "source": [
    "## numpy.searchsorted():\n",
    "It performs a binary search in the array, and returns the index where the specified value would be inserted to maintain the search order."
   ]
  },
  {
   "cell_type": "code",
   "execution_count": 67,
   "id": "ab9dda2c",
   "metadata": {},
   "outputs": [
    {
     "name": "stdout",
     "output_type": "stream",
     "text": [
      "4\n"
     ]
    }
   ],
   "source": [
    "arr = np.array([6, 7, 8, 9])\n",
    "\n",
    "x = np.searchsorted(arr, 10)\n",
    "\n",
    "print(x)                     # Return index where the element should added to remain sorted array"
   ]
  },
  {
   "cell_type": "code",
   "execution_count": 68,
   "id": "be73c01a",
   "metadata": {},
   "outputs": [
    {
     "name": "stdout",
     "output_type": "stream",
     "text": [
      "2\n"
     ]
    }
   ],
   "source": [
    "arr = np.array([6, 7, 8, 9])\n",
    "\n",
    "x = np.searchsorted(arr, 7, side='right')\n",
    "\n",
    "print(x) "
   ]
  },
  {
   "cell_type": "code",
   "execution_count": 69,
   "id": "2647cb86",
   "metadata": {},
   "outputs": [
    {
     "name": "stdout",
     "output_type": "stream",
     "text": [
      "[1 2 3]\n"
     ]
    }
   ],
   "source": [
    "arr = np.array([1, 3, 5, 7])\n",
    "\n",
    "x = np.searchsorted(arr, [2, 4, 6])\n",
    "\n",
    "print(x)"
   ]
  },
  {
   "cell_type": "markdown",
   "id": "10384874",
   "metadata": {},
   "source": [
    "# Sorting Arrays:\n",
    "Sorting means putting elements in an ordered sequence.\n",
    "\n",
    "Ordered sequence is any sequence that has an order corresponding to elements, like numeric or alphabetical, ascending or descending.\n",
    "\n",
    "The NumPy ndarray object has a function called sort(), that will sort a specified array."
   ]
  },
  {
   "cell_type": "markdown",
   "id": "4abdc7fd",
   "metadata": {},
   "source": [
    "## sort()"
   ]
  },
  {
   "cell_type": "code",
   "execution_count": 70,
   "id": "6aa8dcf0",
   "metadata": {},
   "outputs": [
    {
     "name": "stdout",
     "output_type": "stream",
     "text": [
      "[0 1 2 3]\n"
     ]
    }
   ],
   "source": [
    "arr = np.array([3, 2, 0, 1])\n",
    "\n",
    "print(np.sort(arr))"
   ]
  },
  {
   "cell_type": "code",
   "execution_count": 71,
   "id": "dc95b03e",
   "metadata": {},
   "outputs": [
    {
     "name": "stdout",
     "output_type": "stream",
     "text": [
      "['apple' 'banana' 'cherry']\n"
     ]
    }
   ],
   "source": [
    "arr = np.array(['banana', 'cherry', 'apple'])\n",
    "\n",
    "print(np.sort(arr))"
   ]
  },
  {
   "cell_type": "code",
   "execution_count": 72,
   "id": "87c95537",
   "metadata": {},
   "outputs": [
    {
     "name": "stdout",
     "output_type": "stream",
     "text": [
      "[[2 3 4]\n",
      " [0 1 5]]\n"
     ]
    }
   ],
   "source": [
    "arr = np.array([[3, 2, 4], [5, 0, 1]])\n",
    "\n",
    "print(np.sort(arr))"
   ]
  },
  {
   "cell_type": "markdown",
   "id": "21d1d695",
   "metadata": {},
   "source": [
    "# Filtering Arrays\n",
    "Getting some elements out of an existing array and creating a new array out of them is called filtering.\n",
    "\n",
    "In NumPy, you filter an array using a boolean index list.\n",
    "\n",
    "A boolean index list is a list of booleans corresponding to indexes in the array.\n",
    "\n",
    "If the value at an index is True that element is contained in the filtered array, if the value at that index is False that element is excluded from the filtered array."
   ]
  },
  {
   "cell_type": "code",
   "execution_count": 73,
   "id": "91e0525a",
   "metadata": {},
   "outputs": [
    {
     "name": "stdout",
     "output_type": "stream",
     "text": [
      "[41 43]\n"
     ]
    }
   ],
   "source": [
    "arr = np.array([41, 42, 43, 44])\n",
    "\n",
    "x = [True, False, True, False]\n",
    "\n",
    "newarr = arr[x]\n",
    "\n",
    "print(newarr)"
   ]
  },
  {
   "cell_type": "code",
   "execution_count": 1,
   "id": "891ba672",
   "metadata": {},
   "outputs": [
    {
     "ename": "SyntaxError",
     "evalue": "invalid syntax (Temp/ipykernel_12656/242419622.py, line 11)",
     "output_type": "error",
     "traceback": [
      "\u001b[1;36m  File \u001b[1;32m\"C:\\Users\\Pranay\\AppData\\Local\\Temp/ipykernel_12656/242419622.py\"\u001b[1;36m, line \u001b[1;32m11\u001b[0m\n\u001b[1;33m    else:\u001b[0m\n\u001b[1;37m    ^\u001b[0m\n\u001b[1;31mSyntaxError\u001b[0m\u001b[1;31m:\u001b[0m invalid syntax\n"
     ]
    }
   ],
   "source": [
    "arr = np.array([41, 42, 43, 44])\n",
    "\n",
    "# Create an empty list\n",
    "filter_arr = []\n",
    "\n",
    "# go through each element in arr\n",
    "for element in arr:\n",
    "  # if the element is higher than 42, set the value to True, otherwise False:\n",
    "  if element > 42:\n",
    "    filter_arr.append(True)\n",
    "    else:\n",
    "        filter_arr.append(False)\n",
    "\n",
    "newarr = arr[filter_arr]\n",
    "\n",
    "print(filter_arr)\n",
    "print(newarr)"
   ]
  },
  {
   "cell_type": "markdown",
   "id": "c7ef06ef",
   "metadata": {},
   "source": [
    "### Creating Filter Directly From Array"
   ]
  },
  {
   "cell_type": "code",
   "execution_count": 75,
   "id": "4711b503",
   "metadata": {},
   "outputs": [
    {
     "name": "stdout",
     "output_type": "stream",
     "text": [
      "[False False  True  True]\n",
      "[43 44]\n"
     ]
    }
   ],
   "source": [
    "arr = np.array([41, 42, 43, 44])\n",
    "\n",
    "filter_arr = arr > 42\n",
    "\n",
    "newarr = arr[filter_arr]\n",
    "\n",
    "print(filter_arr)\n",
    "print(newarr)"
   ]
  },
  {
   "cell_type": "code",
   "execution_count": null,
   "id": "ebc356b1",
   "metadata": {},
   "outputs": [],
   "source": []
  }
 ],
 "metadata": {
  "kernelspec": {
   "display_name": "Python 3 (ipykernel)",
   "language": "python",
   "name": "python3"
  },
  "language_info": {
   "codemirror_mode": {
    "name": "ipython",
    "version": 3
   },
   "file_extension": ".py",
   "mimetype": "text/x-python",
   "name": "python",
   "nbconvert_exporter": "python",
   "pygments_lexer": "ipython3",
   "version": "3.10.9"
  }
 },
 "nbformat": 4,
 "nbformat_minor": 5
}
