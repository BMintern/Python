{
 "cells": [
  {
   "cell_type": "raw",
   "id": "268c5c6d",
   "metadata": {},
   "source": [
    "NumPy’s main object is the homogeneous multidimensional array. It is a table of elements (usually numbers), all of the same type, indexed by a tuple of non-negative integers. In NumPy, dimensions are called axes."
   ]
  },
  {
   "cell_type": "code",
   "execution_count": 2,
   "id": "680d51db",
   "metadata": {
    "ExecuteTime": {
     "end_time": "2023-06-15T06:53:23.635649Z",
     "start_time": "2023-06-15T06:53:23.423945Z"
    }
   },
   "outputs": [],
   "source": [
    "import numpy as np"
   ]
  },
  {
   "cell_type": "markdown",
   "id": "11a80f42",
   "metadata": {},
   "source": [
    "# Creating a numpy array"
   ]
  },
  {
   "cell_type": "code",
   "execution_count": 3,
   "id": "72a6314c",
   "metadata": {
    "ExecuteTime": {
     "end_time": "2023-06-15T06:53:25.527563Z",
     "start_time": "2023-06-15T06:53:25.520556Z"
    }
   },
   "outputs": [],
   "source": [
    "arr = np.array([2, 1, 5, 3, 7, 4, 6, 8])"
   ]
  },
  {
   "cell_type": "code",
   "execution_count": 4,
   "id": "c229c8b1",
   "metadata": {
    "ExecuteTime": {
     "end_time": "2023-06-15T06:53:26.438679Z",
     "start_time": "2023-06-15T06:53:26.418062Z"
    }
   },
   "outputs": [
    {
     "data": {
      "text/plain": [
       "array([2, 1, 5, 3, 7, 4, 6, 8])"
      ]
     },
     "execution_count": 4,
     "metadata": {},
     "output_type": "execute_result"
    }
   ],
   "source": [
    "arr"
   ]
  },
  {
   "cell_type": "code",
   "execution_count": 5,
   "id": "e1fbfd1d",
   "metadata": {
    "ExecuteTime": {
     "end_time": "2023-06-15T06:53:27.032544Z",
     "start_time": "2023-06-15T06:53:27.024102Z"
    }
   },
   "outputs": [],
   "source": [
    "a = np.array([[1, 2, 3, 4], [5, 6, 7, 8], [9, 10, 11, 12]])"
   ]
  },
  {
   "cell_type": "code",
   "execution_count": 6,
   "id": "1a5ab3c4",
   "metadata": {
    "ExecuteTime": {
     "end_time": "2023-06-15T06:53:27.534408Z",
     "start_time": "2023-06-15T06:53:27.520794Z"
    }
   },
   "outputs": [
    {
     "data": {
      "text/plain": [
       "array([[ 1,  2,  3,  4],\n",
       "       [ 5,  6,  7,  8],\n",
       "       [ 9, 10, 11, 12]])"
      ]
     },
     "execution_count": 6,
     "metadata": {},
     "output_type": "execute_result"
    }
   ],
   "source": [
    "a"
   ]
  },
  {
   "cell_type": "raw",
   "id": "9184a5d2",
   "metadata": {},
   "source": [
    "np.array(), np.zeros(), np.ones(), np.empty(), np.arange(), np.linspace(), dtype\n",
    "\n",
    "To create a NumPy array, you can use the function np.array()."
   ]
  },
  {
   "cell_type": "markdown",
   "id": "4bf3de73",
   "metadata": {},
   "source": [
    "# Array of zeros"
   ]
  },
  {
   "cell_type": "code",
   "execution_count": 7,
   "id": "62171932",
   "metadata": {
    "ExecuteTime": {
     "end_time": "2023-06-15T06:53:29.047402Z",
     "start_time": "2023-06-15T06:53:28.992116Z"
    }
   },
   "outputs": [
    {
     "data": {
      "text/plain": [
       "array([0., 0.])"
      ]
     },
     "execution_count": 7,
     "metadata": {},
     "output_type": "execute_result"
    }
   ],
   "source": [
    "np.zeros(2) #1D"
   ]
  },
  {
   "cell_type": "code",
   "execution_count": 8,
   "id": "b3e37313",
   "metadata": {
    "ExecuteTime": {
     "end_time": "2023-06-15T06:53:29.414544Z",
     "start_time": "2023-06-15T06:53:29.400126Z"
    }
   },
   "outputs": [
    {
     "data": {
      "text/plain": [
       "array([[0., 0., 0.],\n",
       "       [0., 0., 0.]])"
      ]
     },
     "execution_count": 8,
     "metadata": {},
     "output_type": "execute_result"
    }
   ],
   "source": [
    "np.zeros((2,3))  #2D"
   ]
  },
  {
   "cell_type": "code",
   "execution_count": 9,
   "id": "bb1fd180",
   "metadata": {
    "ExecuteTime": {
     "end_time": "2023-06-15T06:53:29.863104Z",
     "start_time": "2023-06-15T06:53:29.808312Z"
    }
   },
   "outputs": [
    {
     "data": {
      "text/plain": [
       "array([[1100., 1100., 1100., 1100.],\n",
       "       [1100., 1100., 1100., 1100.]])"
      ]
     },
     "execution_count": 9,
     "metadata": {},
     "output_type": "execute_result"
    }
   ],
   "source": [
    "np.zeros((2,4))+1100"
   ]
  },
  {
   "cell_type": "markdown",
   "id": "5138c507",
   "metadata": {},
   "source": [
    "# Array of ones"
   ]
  },
  {
   "cell_type": "code",
   "execution_count": 10,
   "id": "298f43c2",
   "metadata": {
    "ExecuteTime": {
     "end_time": "2023-06-15T06:53:30.612232Z",
     "start_time": "2023-06-15T06:53:30.600124Z"
    }
   },
   "outputs": [
    {
     "data": {
      "text/plain": [
       "array([1., 1.])"
      ]
     },
     "execution_count": 10,
     "metadata": {},
     "output_type": "execute_result"
    }
   ],
   "source": [
    "np.ones(2)"
   ]
  },
  {
   "cell_type": "code",
   "execution_count": 11,
   "id": "2535eae5",
   "metadata": {
    "ExecuteTime": {
     "end_time": "2023-06-15T06:53:31.040194Z",
     "start_time": "2023-06-15T06:53:31.023960Z"
    }
   },
   "outputs": [
    {
     "data": {
      "text/plain": [
       "array([[1, 1, 1, 1, 1, 1],\n",
       "       [1, 1, 1, 1, 1, 1],\n",
       "       [1, 1, 1, 1, 1, 1],\n",
       "       [1, 1, 1, 1, 1, 1],\n",
       "       [1, 1, 1, 1, 1, 1]])"
      ]
     },
     "execution_count": 11,
     "metadata": {},
     "output_type": "execute_result"
    }
   ],
   "source": [
    "np.ones((5,6),dtype=int)"
   ]
  },
  {
   "cell_type": "code",
   "execution_count": 12,
   "id": "0e804ca2",
   "metadata": {
    "ExecuteTime": {
     "end_time": "2023-06-15T06:53:31.373398Z",
     "start_time": "2023-06-15T06:53:31.359821Z"
    }
   },
   "outputs": [
    {
     "data": {
      "text/plain": [
       "array([[201., 201., 201.],\n",
       "       [201., 201., 201.]])"
      ]
     },
     "execution_count": 12,
     "metadata": {},
     "output_type": "execute_result"
    }
   ],
   "source": [
    "np.ones((2,3))+200"
   ]
  },
  {
   "cell_type": "markdown",
   "id": "6b6ec242",
   "metadata": {},
   "source": [
    "# Array of same number"
   ]
  },
  {
   "cell_type": "code",
   "execution_count": 13,
   "id": "6460b985",
   "metadata": {
    "ExecuteTime": {
     "end_time": "2023-06-15T06:53:32.093691Z",
     "start_time": "2023-06-15T06:53:32.079271Z"
    }
   },
   "outputs": [
    {
     "data": {
      "text/plain": [
       "array([2, 2, 2, 2, 2])"
      ]
     },
     "execution_count": 13,
     "metadata": {},
     "output_type": "execute_result"
    }
   ],
   "source": [
    "np.full(5,2)"
   ]
  },
  {
   "cell_type": "code",
   "execution_count": 14,
   "id": "684e184b",
   "metadata": {
    "ExecuteTime": {
     "end_time": "2023-06-15T06:53:32.318123Z",
     "start_time": "2023-06-15T06:53:32.302447Z"
    }
   },
   "outputs": [
    {
     "data": {
      "text/plain": [
       "array([[4, 4, 4],\n",
       "       [4, 4, 4]])"
      ]
     },
     "execution_count": 14,
     "metadata": {},
     "output_type": "execute_result"
    }
   ],
   "source": [
    "np.full((2,3),4)"
   ]
  },
  {
   "cell_type": "markdown",
   "id": "20f0f20f",
   "metadata": {},
   "source": [
    "# Array of random numbers"
   ]
  },
  {
   "cell_type": "code",
   "execution_count": 15,
   "id": "f1d285ea",
   "metadata": {
    "ExecuteTime": {
     "end_time": "2023-06-15T06:53:32.800528Z",
     "start_time": "2023-06-15T06:53:32.744987Z"
    }
   },
   "outputs": [
    {
     "data": {
      "text/plain": [
       "array([[0.42515075, 0.55261376, 0.51715887, 0.16191563],\n",
       "       [0.8820351 , 0.15759897, 0.9881014 , 0.82315078],\n",
       "       [0.09727294, 0.22935161, 0.74558908, 0.37204867]])"
      ]
     },
     "execution_count": 15,
     "metadata": {},
     "output_type": "execute_result"
    }
   ],
   "source": [
    "np.random.rand(3,4)"
   ]
  },
  {
   "cell_type": "code",
   "execution_count": 16,
   "id": "984ef6cb",
   "metadata": {
    "ExecuteTime": {
     "end_time": "2023-06-15T06:53:33.008256Z",
     "start_time": "2023-06-15T06:53:32.991953Z"
    }
   },
   "outputs": [
    {
     "data": {
      "text/plain": [
       "array([[0.13, 0.68, 0.51, 0.43],\n",
       "       [0.64, 0.51, 0.72, 0.7 ],\n",
       "       [0.02, 0.41, 0.52, 0.89]])"
      ]
     },
     "execution_count": 16,
     "metadata": {},
     "output_type": "execute_result"
    }
   ],
   "source": [
    "a=np.round(np.random.rand(3,4),decimals=2)\n",
    "a"
   ]
  },
  {
   "cell_type": "code",
   "execution_count": 17,
   "id": "f8c43427",
   "metadata": {
    "ExecuteTime": {
     "end_time": "2023-06-15T06:53:33.340418Z",
     "start_time": "2023-06-15T06:53:33.282813Z"
    }
   },
   "outputs": [
    {
     "data": {
      "text/plain": [
       "array([[ 1, 74, 13, 62, 31],\n",
       "       [30, 78, 44, 63, 22],\n",
       "       [30, 24, 64, 11, 51],\n",
       "       [47, 39,  9, 41, 30],\n",
       "       [74, 26, 67, 26, 19]])"
      ]
     },
     "execution_count": 17,
     "metadata": {},
     "output_type": "execute_result"
    }
   ],
   "source": [
    "np.random.randint(1,100,(5,5)) #randint (low, high, # of samples to be drawn in a tuple to form a matrix)"
   ]
  },
  {
   "cell_type": "markdown",
   "id": "5b3a91f8",
   "metadata": {},
   "source": [
    "# Evenly spaced array "
   ]
  },
  {
   "cell_type": "code",
   "execution_count": 35,
   "id": "b7c51291",
   "metadata": {
    "ExecuteTime": {
     "end_time": "2023-06-12T09:33:34.291179Z",
     "start_time": "2023-06-12T09:33:34.274734Z"
    }
   },
   "outputs": [
    {
     "data": {
      "text/plain": [
       "array([0, 1, 2, 3])"
      ]
     },
     "execution_count": 35,
     "metadata": {},
     "output_type": "execute_result"
    }
   ],
   "source": [
    "np.arange(4)"
   ]
  },
  {
   "cell_type": "code",
   "execution_count": 36,
   "id": "e510ff3e",
   "metadata": {
    "ExecuteTime": {
     "end_time": "2023-06-12T09:33:40.088154Z",
     "start_time": "2023-06-12T09:33:40.075123Z"
    }
   },
   "outputs": [
    {
     "data": {
      "text/plain": [
       "array([2, 4, 6, 8])"
      ]
     },
     "execution_count": 36,
     "metadata": {},
     "output_type": "execute_result"
    }
   ],
   "source": [
    "np.arange(2, 9, 2)"
   ]
  },
  {
   "cell_type": "code",
   "execution_count": 37,
   "id": "c0b19cd6",
   "metadata": {
    "ExecuteTime": {
     "end_time": "2023-06-12T09:33:59.042510Z",
     "start_time": "2023-06-12T09:33:59.026508Z"
    }
   },
   "outputs": [
    {
     "data": {
      "text/plain": [
       "array([0.5, 1. , 1.5, 2. , 2.5, 3. , 3.5, 4. , 4.5, 5. , 5.5, 6. , 6.5,\n",
       "       7. , 7.5, 8. , 8.5, 9. , 9.5])"
      ]
     },
     "execution_count": 37,
     "metadata": {},
     "output_type": "execute_result"
    }
   ],
   "source": [
    "np.arange(0.5,10.0,0.5)"
   ]
  },
  {
   "cell_type": "markdown",
   "id": "a7f5bc33",
   "metadata": {},
   "source": [
    "# Array with values that are spaced linearly in a specified interval"
   ]
  },
  {
   "cell_type": "code",
   "execution_count": 19,
   "id": "46c00a0f",
   "metadata": {
    "ExecuteTime": {
     "end_time": "2023-06-12T09:18:22.892782Z",
     "start_time": "2023-06-12T09:18:22.830805Z"
    }
   },
   "outputs": [
    {
     "data": {
      "text/plain": [
       "array([ 0. ,  2.5,  5. ,  7.5, 10. ])"
      ]
     },
     "execution_count": 19,
     "metadata": {},
     "output_type": "execute_result"
    }
   ],
   "source": [
    "np.linspace(0, 10, num=5)"
   ]
  },
  {
   "cell_type": "code",
   "execution_count": 18,
   "id": "fb980ff3",
   "metadata": {
    "ExecuteTime": {
     "end_time": "2023-06-15T06:56:21.461582Z",
     "start_time": "2023-06-15T06:56:21.445415Z"
    }
   },
   "outputs": [
    {
     "data": {
      "text/plain": [
       "array([  1.,   2.,   3.,   4.,   5.,   6.,   7.,   8.,   9.,  10.,  11.,\n",
       "        12.,  13.,  14.,  15.,  16.,  17.,  18.,  19.,  20.,  21.,  22.,\n",
       "        23.,  24.,  25.,  26.,  27.,  28.,  29.,  30.,  31.,  32.,  33.,\n",
       "        34.,  35.,  36.,  37.,  38.,  39.,  40.,  41.,  42.,  43.,  44.,\n",
       "        45.,  46.,  47.,  48.,  49.,  50.,  51.,  52.,  53.,  54.,  55.,\n",
       "        56.,  57.,  58.,  59.,  60.,  61.,  62.,  63.,  64.,  65.,  66.,\n",
       "        67.,  68.,  69.,  70.,  71.,  72.,  73.,  74.,  75.,  76.,  77.,\n",
       "        78.,  79.,  80.,  81.,  82.,  83.,  84.,  85.,  86.,  87.,  88.,\n",
       "        89.,  90.,  91.,  92.,  93.,  94.,  95.,  96.,  97.,  98.,  99.,\n",
       "       100.])"
      ]
     },
     "execution_count": 18,
     "metadata": {},
     "output_type": "execute_result"
    }
   ],
   "source": [
    "np.linspace(1,100,num=100)"
   ]
  },
  {
   "cell_type": "markdown",
   "id": "8acf85c2",
   "metadata": {},
   "source": [
    "## Adding, removing, and sorting elements"
   ]
  },
  {
   "cell_type": "code",
   "execution_count": 19,
   "id": "145cc22c",
   "metadata": {
    "ExecuteTime": {
     "end_time": "2023-06-15T06:57:20.615648Z",
     "start_time": "2023-06-15T06:57:20.607764Z"
    }
   },
   "outputs": [],
   "source": [
    "arr = np.array([2, 1, 5, 3, 7, 4, 6, 8])"
   ]
  },
  {
   "cell_type": "code",
   "execution_count": 20,
   "id": "055d2507",
   "metadata": {
    "ExecuteTime": {
     "end_time": "2023-06-15T06:57:33.989788Z",
     "start_time": "2023-06-15T06:57:33.938506Z"
    }
   },
   "outputs": [
    {
     "data": {
      "text/plain": [
       "array([1, 2, 3, 4, 5, 6, 7, 8])"
      ]
     },
     "execution_count": 20,
     "metadata": {},
     "output_type": "execute_result"
    }
   ],
   "source": [
    "np.sort(arr)"
   ]
  },
  {
   "cell_type": "code",
   "execution_count": 21,
   "id": "a6f49a9d",
   "metadata": {
    "ExecuteTime": {
     "end_time": "2023-06-15T06:57:51.210035Z",
     "start_time": "2023-06-15T06:57:51.200785Z"
    }
   },
   "outputs": [],
   "source": [
    "a = np.array([1, 2, 3, 4])\n",
    "b = np.array([5, 6, 7, 8])"
   ]
  },
  {
   "cell_type": "code",
   "execution_count": 22,
   "id": "fbdde9e3",
   "metadata": {
    "ExecuteTime": {
     "end_time": "2023-06-15T06:58:00.156577Z",
     "start_time": "2023-06-15T06:58:00.143782Z"
    }
   },
   "outputs": [
    {
     "data": {
      "text/plain": [
       "array([1, 2, 3, 4, 5, 6, 7, 8])"
      ]
     },
     "execution_count": 22,
     "metadata": {},
     "output_type": "execute_result"
    }
   ],
   "source": [
    "np.concatenate((a, b))"
   ]
  },
  {
   "cell_type": "code",
   "execution_count": 25,
   "id": "deeb4cbb",
   "metadata": {
    "ExecuteTime": {
     "end_time": "2023-06-15T06:59:02.649647Z",
     "start_time": "2023-06-15T06:59:02.637250Z"
    }
   },
   "outputs": [
    {
     "data": {
      "text/plain": [
       "array([1, 2, 3, 4, 5, 6, 7, 8])"
      ]
     },
     "execution_count": 25,
     "metadata": {},
     "output_type": "execute_result"
    }
   ],
   "source": [
    "np.concatenate((a, b), axis=0)"
   ]
  },
  {
   "cell_type": "code",
   "execution_count": 28,
   "id": "a2c18c95",
   "metadata": {
    "ExecuteTime": {
     "end_time": "2023-06-15T06:59:57.514789Z",
     "start_time": "2023-06-15T06:59:57.503691Z"
    }
   },
   "outputs": [],
   "source": [
    "x = np.array([[[0, 1, 2, 3],[4, 5, 6, 7]],\n",
    "\n",
    "                [[0, 1, 2, 3],[4, 5, 6, 7]],\n",
    "\n",
    "                [[0 ,1 ,2, 3],[4, 5, 6, 7]]])"
   ]
  },
  {
   "cell_type": "code",
   "execution_count": 29,
   "id": "02f8ef24",
   "metadata": {
    "ExecuteTime": {
     "end_time": "2023-06-15T07:00:00.566989Z",
     "start_time": "2023-06-15T07:00:00.555170Z"
    }
   },
   "outputs": [
    {
     "data": {
      "text/plain": [
       "3"
      ]
     },
     "execution_count": 29,
     "metadata": {},
     "output_type": "execute_result"
    }
   ],
   "source": [
    "x.ndim"
   ]
  },
  {
   "cell_type": "code",
   "execution_count": 31,
   "id": "26e69d22",
   "metadata": {
    "ExecuteTime": {
     "end_time": "2023-06-15T07:01:12.141432Z",
     "start_time": "2023-06-15T07:01:12.128866Z"
    }
   },
   "outputs": [
    {
     "data": {
      "text/plain": [
       "24"
      ]
     },
     "execution_count": 31,
     "metadata": {},
     "output_type": "execute_result"
    }
   ],
   "source": [
    "x.size"
   ]
  },
  {
   "cell_type": "code",
   "execution_count": 32,
   "id": "9286725a",
   "metadata": {
    "ExecuteTime": {
     "end_time": "2023-06-15T07:01:16.949059Z",
     "start_time": "2023-06-15T07:01:16.937688Z"
    }
   },
   "outputs": [
    {
     "data": {
      "text/plain": [
       "(3, 2, 4)"
      ]
     },
     "execution_count": 32,
     "metadata": {},
     "output_type": "execute_result"
    }
   ],
   "source": [
    "x.shape"
   ]
  },
  {
   "cell_type": "markdown",
   "id": "dd8c0080",
   "metadata": {},
   "source": [
    "## Reshaping of array"
   ]
  },
  {
   "cell_type": "code",
   "execution_count": 34,
   "id": "9233b600",
   "metadata": {
    "ExecuteTime": {
     "end_time": "2023-06-15T07:05:49.097509Z",
     "start_time": "2023-06-15T07:05:49.088309Z"
    }
   },
   "outputs": [],
   "source": [
    "a = np.array([1,2,3,4,5,6,7,8])"
   ]
  },
  {
   "cell_type": "code",
   "execution_count": 35,
   "id": "7ffe23fd",
   "metadata": {
    "ExecuteTime": {
     "end_time": "2023-06-15T07:06:11.983081Z",
     "start_time": "2023-06-15T07:06:11.975292Z"
    }
   },
   "outputs": [],
   "source": [
    "b = a.reshape(4,2)"
   ]
  },
  {
   "cell_type": "code",
   "execution_count": 36,
   "id": "b1d0ed87",
   "metadata": {
    "ExecuteTime": {
     "end_time": "2023-06-15T07:06:15.513542Z",
     "start_time": "2023-06-15T07:06:15.501870Z"
    }
   },
   "outputs": [
    {
     "data": {
      "text/plain": [
       "array([[1, 2],\n",
       "       [3, 4],\n",
       "       [5, 6],\n",
       "       [7, 8]])"
      ]
     },
     "execution_count": 36,
     "metadata": {},
     "output_type": "execute_result"
    }
   ],
   "source": [
    "b"
   ]
  },
  {
   "cell_type": "code",
   "execution_count": 40,
   "id": "fdbe155a",
   "metadata": {
    "ExecuteTime": {
     "end_time": "2023-06-15T07:07:18.117710Z",
     "start_time": "2023-06-15T07:07:18.105081Z"
    }
   },
   "outputs": [
    {
     "data": {
      "text/plain": [
       "array([[1, 2, 3, 4, 5, 6, 7, 8]])"
      ]
     },
     "execution_count": 40,
     "metadata": {},
     "output_type": "execute_result"
    }
   ],
   "source": [
    "np.reshape(a, newshape=(1, 8), order='C')"
   ]
  },
  {
   "cell_type": "markdown",
   "id": "3d6d6d46",
   "metadata": {},
   "source": [
    "## Add a new axis to an array"
   ]
  },
  {
   "cell_type": "code",
   "execution_count": 41,
   "id": "2587301f",
   "metadata": {
    "ExecuteTime": {
     "end_time": "2023-06-15T07:09:11.694399Z",
     "start_time": "2023-06-15T07:09:11.687145Z"
    }
   },
   "outputs": [],
   "source": [
    "b = np.array([1,3,5,7,2,4,6,8,9])"
   ]
  },
  {
   "cell_type": "code",
   "execution_count": 42,
   "id": "de3b438c",
   "metadata": {
    "ExecuteTime": {
     "end_time": "2023-06-15T07:09:57.319221Z",
     "start_time": "2023-06-15T07:09:57.311312Z"
    }
   },
   "outputs": [],
   "source": [
    "## Row-wise \n",
    "b1 = b[np.newaxis, :]"
   ]
  },
  {
   "cell_type": "code",
   "execution_count": 43,
   "id": "5c77beff",
   "metadata": {
    "ExecuteTime": {
     "end_time": "2023-06-15T07:10:01.677693Z",
     "start_time": "2023-06-15T07:10:01.664590Z"
    }
   },
   "outputs": [
    {
     "data": {
      "text/plain": [
       "array([[1, 3, 5, 7, 2, 4, 6, 8, 9]])"
      ]
     },
     "execution_count": 43,
     "metadata": {},
     "output_type": "execute_result"
    }
   ],
   "source": [
    "b1"
   ]
  },
  {
   "cell_type": "code",
   "execution_count": 48,
   "id": "41a95c45",
   "metadata": {
    "ExecuteTime": {
     "end_time": "2023-06-15T07:33:37.057526Z",
     "start_time": "2023-06-15T07:33:37.049456Z"
    }
   },
   "outputs": [],
   "source": [
    "b2 = np.expand_dims(b, axis=0)"
   ]
  },
  {
   "cell_type": "code",
   "execution_count": 49,
   "id": "f2d89bda",
   "metadata": {
    "ExecuteTime": {
     "end_time": "2023-06-15T07:33:37.763506Z",
     "start_time": "2023-06-15T07:33:37.753450Z"
    }
   },
   "outputs": [
    {
     "data": {
      "text/plain": [
       "array([[1, 3, 5, 7, 2, 4, 6, 8, 9]])"
      ]
     },
     "execution_count": 49,
     "metadata": {},
     "output_type": "execute_result"
    }
   ],
   "source": [
    "b2"
   ]
  },
  {
   "cell_type": "code",
   "execution_count": 47,
   "id": "5d3aaef4",
   "metadata": {
    "ExecuteTime": {
     "end_time": "2023-06-15T07:32:54.958958Z",
     "start_time": "2023-06-15T07:32:54.955346Z"
    }
   },
   "outputs": [],
   "source": [
    "##Column-wise\n",
    "b3 = a[:, np.newaxis]"
   ]
  },
  {
   "cell_type": "code",
   "execution_count": 45,
   "id": "9e8eea99",
   "metadata": {
    "ExecuteTime": {
     "end_time": "2023-06-15T07:12:28.553702Z",
     "start_time": "2023-06-15T07:12:28.542713Z"
    }
   },
   "outputs": [
    {
     "data": {
      "text/plain": [
       "array([[1],\n",
       "       [2],\n",
       "       [3],\n",
       "       [4],\n",
       "       [5],\n",
       "       [6],\n",
       "       [7],\n",
       "       [8]])"
      ]
     },
     "execution_count": 45,
     "metadata": {},
     "output_type": "execute_result"
    }
   ],
   "source": [
    "b3"
   ]
  },
  {
   "cell_type": "code",
   "execution_count": 50,
   "id": "5b32a50d",
   "metadata": {
    "ExecuteTime": {
     "end_time": "2023-06-15T07:34:21.280506Z",
     "start_time": "2023-06-15T07:34:21.273398Z"
    }
   },
   "outputs": [],
   "source": [
    "b4 = np.expand_dims(b, axis=1)"
   ]
  },
  {
   "cell_type": "code",
   "execution_count": 51,
   "id": "684f1f8e",
   "metadata": {
    "ExecuteTime": {
     "end_time": "2023-06-15T07:34:25.822735Z",
     "start_time": "2023-06-15T07:34:25.811411Z"
    }
   },
   "outputs": [
    {
     "data": {
      "text/plain": [
       "array([[1],\n",
       "       [3],\n",
       "       [5],\n",
       "       [7],\n",
       "       [2],\n",
       "       [4],\n",
       "       [6],\n",
       "       [8],\n",
       "       [9]])"
      ]
     },
     "execution_count": 51,
     "metadata": {},
     "output_type": "execute_result"
    }
   ],
   "source": [
    "b4"
   ]
  },
  {
   "cell_type": "markdown",
   "id": "8297f599",
   "metadata": {},
   "source": [
    "## Shallow copy and deep copy"
   ]
  },
  {
   "cell_type": "code",
   "execution_count": 52,
   "id": "875b55a7",
   "metadata": {
    "ExecuteTime": {
     "end_time": "2023-06-15T07:35:51.657708Z",
     "start_time": "2023-06-15T07:35:51.651699Z"
    }
   },
   "outputs": [],
   "source": [
    "## shallow copy"
   ]
  },
  {
   "cell_type": "code",
   "execution_count": 53,
   "id": "f148716c",
   "metadata": {
    "ExecuteTime": {
     "end_time": "2023-06-15T07:36:10.196410Z",
     "start_time": "2023-06-15T07:36:10.188265Z"
    }
   },
   "outputs": [],
   "source": [
    "a=[1,2,3,4]"
   ]
  },
  {
   "cell_type": "code",
   "execution_count": 54,
   "id": "20333c1f",
   "metadata": {
    "ExecuteTime": {
     "end_time": "2023-06-15T07:36:22.671297Z",
     "start_time": "2023-06-15T07:36:22.665899Z"
    }
   },
   "outputs": [],
   "source": [
    "c=a"
   ]
  },
  {
   "cell_type": "code",
   "execution_count": 55,
   "id": "fee90a49",
   "metadata": {
    "ExecuteTime": {
     "end_time": "2023-06-15T07:36:30.215140Z",
     "start_time": "2023-06-15T07:36:30.201743Z"
    }
   },
   "outputs": [
    {
     "data": {
      "text/plain": [
       "[1, 2, 3, 4]"
      ]
     },
     "execution_count": 55,
     "metadata": {},
     "output_type": "execute_result"
    }
   ],
   "source": [
    "c"
   ]
  },
  {
   "cell_type": "code",
   "execution_count": 56,
   "id": "7d50f90c",
   "metadata": {
    "ExecuteTime": {
     "end_time": "2023-06-15T07:36:37.346260Z",
     "start_time": "2023-06-15T07:36:37.338275Z"
    }
   },
   "outputs": [],
   "source": [
    "c[0]=100"
   ]
  },
  {
   "cell_type": "code",
   "execution_count": 57,
   "id": "6e901f03",
   "metadata": {
    "ExecuteTime": {
     "end_time": "2023-06-15T07:36:55.044331Z",
     "start_time": "2023-06-15T07:36:55.035419Z"
    }
   },
   "outputs": [
    {
     "data": {
      "text/plain": [
       "[100, 2, 3, 4]"
      ]
     },
     "execution_count": 57,
     "metadata": {},
     "output_type": "execute_result"
    }
   ],
   "source": [
    "a"
   ]
  },
  {
   "cell_type": "code",
   "execution_count": 58,
   "id": "92040461",
   "metadata": {
    "ExecuteTime": {
     "end_time": "2023-06-15T08:25:39.102354Z",
     "start_time": "2023-06-15T08:25:39.095688Z"
    }
   },
   "outputs": [],
   "source": [
    "## deep copy"
   ]
  },
  {
   "cell_type": "code",
   "execution_count": 59,
   "id": "5e96a7b2",
   "metadata": {
    "ExecuteTime": {
     "end_time": "2023-06-15T08:25:42.076448Z",
     "start_time": "2023-06-15T08:25:42.068899Z"
    }
   },
   "outputs": [],
   "source": [
    "b=np.copy(a) "
   ]
  },
  {
   "cell_type": "code",
   "execution_count": 60,
   "id": "1f203b62",
   "metadata": {
    "ExecuteTime": {
     "end_time": "2023-06-15T08:25:50.757584Z",
     "start_time": "2023-06-15T08:25:50.750603Z"
    }
   },
   "outputs": [
    {
     "data": {
      "text/plain": [
       "array([100,   2,   3,   4])"
      ]
     },
     "execution_count": 60,
     "metadata": {},
     "output_type": "execute_result"
    }
   ],
   "source": [
    "b"
   ]
  },
  {
   "cell_type": "code",
   "execution_count": 61,
   "id": "36566fb6",
   "metadata": {
    "ExecuteTime": {
     "end_time": "2023-06-15T08:26:09.588675Z",
     "start_time": "2023-06-15T08:26:09.580584Z"
    }
   },
   "outputs": [],
   "source": [
    "b[0]=400"
   ]
  },
  {
   "cell_type": "code",
   "execution_count": 62,
   "id": "6f9f083f",
   "metadata": {
    "ExecuteTime": {
     "end_time": "2023-06-15T08:26:14.863805Z",
     "start_time": "2023-06-15T08:26:14.850656Z"
    }
   },
   "outputs": [
    {
     "data": {
      "text/plain": [
       "array([400,   2,   3,   4])"
      ]
     },
     "execution_count": 62,
     "metadata": {},
     "output_type": "execute_result"
    }
   ],
   "source": [
    "b"
   ]
  },
  {
   "cell_type": "code",
   "execution_count": 63,
   "id": "1df63c4f",
   "metadata": {
    "ExecuteTime": {
     "end_time": "2023-06-15T08:26:17.174612Z",
     "start_time": "2023-06-15T08:26:17.163659Z"
    }
   },
   "outputs": [
    {
     "data": {
      "text/plain": [
       "[100, 2, 3, 4]"
      ]
     },
     "execution_count": 63,
     "metadata": {},
     "output_type": "execute_result"
    }
   ],
   "source": [
    "a"
   ]
  },
  {
   "cell_type": "markdown",
   "id": "49d9ef45",
   "metadata": {},
   "source": [
    "# Indexing and slicing"
   ]
  },
  {
   "cell_type": "code",
   "execution_count": 68,
   "id": "8209d4a3",
   "metadata": {
    "ExecuteTime": {
     "end_time": "2023-06-15T09:24:08.889808Z",
     "start_time": "2023-06-15T09:24:08.874355Z"
    }
   },
   "outputs": [],
   "source": [
    "data = np.array([1, 2, 3])"
   ]
  },
  {
   "cell_type": "code",
   "execution_count": 69,
   "id": "5ac382fc",
   "metadata": {
    "ExecuteTime": {
     "end_time": "2023-06-15T09:24:21.389218Z",
     "start_time": "2023-06-15T09:24:21.369201Z"
    }
   },
   "outputs": [
    {
     "data": {
      "text/plain": [
       "2"
      ]
     },
     "execution_count": 69,
     "metadata": {},
     "output_type": "execute_result"
    }
   ],
   "source": [
    "data[1]"
   ]
  },
  {
   "cell_type": "code",
   "execution_count": 70,
   "id": "ded11969",
   "metadata": {
    "ExecuteTime": {
     "end_time": "2023-06-15T09:24:33.570745Z",
     "start_time": "2023-06-15T09:24:33.556566Z"
    }
   },
   "outputs": [
    {
     "data": {
      "text/plain": [
       "array([1, 2])"
      ]
     },
     "execution_count": 70,
     "metadata": {},
     "output_type": "execute_result"
    }
   ],
   "source": [
    "data[0:2]"
   ]
  },
  {
   "cell_type": "code",
   "execution_count": 71,
   "id": "f29194f4",
   "metadata": {
    "ExecuteTime": {
     "end_time": "2023-06-15T09:25:03.357838Z",
     "start_time": "2023-06-15T09:25:03.351893Z"
    }
   },
   "outputs": [],
   "source": [
    "#[start:end:step-size]"
   ]
  },
  {
   "cell_type": "code",
   "execution_count": 66,
   "id": "f2ddf514",
   "metadata": {
    "ExecuteTime": {
     "end_time": "2023-06-15T09:22:17.494377Z",
     "start_time": "2023-06-15T09:22:17.466774Z"
    }
   },
   "outputs": [
    {
     "name": "stdout",
     "output_type": "stream",
     "text": [
      "[2 4]\n"
     ]
    }
   ],
   "source": [
    "a = np.array([1,2,3,4,5,6]) \n",
    "print(a[1:5:2])"
   ]
  },
  {
   "cell_type": "code",
   "execution_count": 67,
   "id": "26c51d6c",
   "metadata": {
    "ExecuteTime": {
     "end_time": "2023-06-15T09:22:30.675643Z",
     "start_time": "2023-06-15T09:22:30.659260Z"
    }
   },
   "outputs": [
    {
     "name": "stdout",
     "output_type": "stream",
     "text": [
      "[2 4 6]\n"
     ]
    }
   ],
   "source": [
    "a = np.array([1,2,3,4,5,6])\n",
    "print (a[1:6:2])"
   ]
  },
  {
   "cell_type": "code",
   "execution_count": 74,
   "id": "4e526e0f",
   "metadata": {
    "ExecuteTime": {
     "end_time": "2023-06-15T09:28:11.981718Z",
     "start_time": "2023-06-15T09:28:11.964186Z"
    }
   },
   "outputs": [
    {
     "name": "stdout",
     "output_type": "stream",
     "text": [
      "[1 3 5]\n",
      "[2 4 6]\n",
      "[2 3 4 5 6]\n"
     ]
    }
   ],
   "source": [
    "a = np.array([1,2,3,4,5,6])\n",
    "print(a[:6:2])# default start is 0\n",
    "print(a[1::2])#default end is len-1\n",
    "print(a[1:6:])# default step-size is 1"
   ]
  },
  {
   "cell_type": "code",
   "execution_count": 75,
   "id": "eefec775",
   "metadata": {
    "ExecuteTime": {
     "end_time": "2023-06-15T09:28:29.927754Z",
     "start_time": "2023-06-15T09:28:29.917476Z"
    }
   },
   "outputs": [
    {
     "name": "stdout",
     "output_type": "stream",
     "text": [
      "1\n",
      "6\n",
      "4\n"
     ]
    }
   ],
   "source": [
    "a = np.array([[1,2,3],[4,5,6]])\n",
    "print(a[0,0])\n",
    "print(a[1,2])\n",
    "print(a[1,0])"
   ]
  },
  {
   "cell_type": "markdown",
   "id": "d6ab5928",
   "metadata": {},
   "source": [
    "## Slicing 2-D NumPy arrays"
   ]
  },
  {
   "cell_type": "code",
   "execution_count": 76,
   "id": "09dd5c55",
   "metadata": {
    "ExecuteTime": {
     "end_time": "2023-06-15T09:29:25.017496Z",
     "start_time": "2023-06-15T09:29:25.002535Z"
    }
   },
   "outputs": [
    {
     "name": "stdout",
     "output_type": "stream",
     "text": [
      " 2DArray : \n",
      " [[1 2 3]\n",
      " [4 5 6]\n",
      " [7 8 9]]\n",
      "First row values : \n",
      " [[5 6]\n",
      " [8 9]]\n"
     ]
    }
   ],
   "source": [
    "a = np.array([[1,2,3],[4,5,6],[7,8,9]])\n",
    "# print first row values\n",
    "print(' 2DArray :','\\n',a)\n",
    "print('First row values :','\\n',a[1:3,1:3])"
   ]
  },
  {
   "cell_type": "code",
   "execution_count": 77,
   "id": "75e1e08b",
   "metadata": {
    "ExecuteTime": {
     "end_time": "2023-06-15T09:29:46.108061Z",
     "start_time": "2023-06-15T09:29:46.098804Z"
    }
   },
   "outputs": [
    {
     "name": "stdout",
     "output_type": "stream",
     "text": [
      " 2DArray : \n",
      " [[1 2 3]\n",
      " [4 5 6]\n",
      " [7 8 9]]\n",
      "Second column values : \n",
      " [[2 3]\n",
      " [5 6]\n",
      " [8 9]]\n"
     ]
    }
   ],
   "source": [
    "print(' 2DArray :','\\n',a)\n",
    "print('Second column values :','\\n',a[:,1:])"
   ]
  },
  {
   "cell_type": "code",
   "execution_count": 78,
   "id": "b08b40e8",
   "metadata": {
    "ExecuteTime": {
     "end_time": "2023-06-15T09:29:55.623157Z",
     "start_time": "2023-06-15T09:29:55.609335Z"
    }
   },
   "outputs": [
    {
     "name": "stdout",
     "output_type": "stream",
     "text": [
      " 2DArray : \n",
      " [[1 2 3]\n",
      " [4 5 6]\n",
      " [7 8 9]]\n",
      "Alternate values from first row: \n",
      " [[1 3]\n",
      " [4 6]\n",
      " [7 9]]\n"
     ]
    }
   ],
   "source": [
    "print(' 2DArray :','\\n',a)\n",
    "# with step-size for columns\n",
    "print('Alternate values from first row:','\\n',a[0:3,::2])"
   ]
  },
  {
   "cell_type": "code",
   "execution_count": 79,
   "id": "d1282bde",
   "metadata": {
    "ExecuteTime": {
     "end_time": "2023-06-15T09:30:05.381545Z",
     "start_time": "2023-06-15T09:30:05.373098Z"
    }
   },
   "outputs": [
    {
     "name": "stdout",
     "output_type": "stream",
     "text": [
      "Arbitrary values : \n",
      " [[2 3]]\n"
     ]
    }
   ],
   "source": [
    "print('Arbitrary values :','\\n',a[0:1,1:3])"
   ]
  },
  {
   "cell_type": "markdown",
   "id": "4d712b72",
   "metadata": {},
   "source": [
    "## Negative slicing of NumPy arrays"
   ]
  },
  {
   "cell_type": "code",
   "execution_count": 80,
   "id": "849240f3",
   "metadata": {
    "ExecuteTime": {
     "end_time": "2023-06-15T09:31:39.664033Z",
     "start_time": "2023-06-15T09:31:39.610833Z"
    }
   },
   "outputs": [
    {
     "name": "stdout",
     "output_type": "stream",
     "text": [
      "[[ 1  2  3  4  5]\n",
      " [ 6  7  8  9 10]]\n",
      "[2 7]\n",
      "8\n"
     ]
    }
   ],
   "source": [
    "a = np.array([[1,2,3,4,5],[6,7,8,9,10]])\n",
    "print(a)\n",
    "print(a[:,-4])\n",
    "print(a[1,-3])"
   ]
  },
  {
   "cell_type": "code",
   "execution_count": 81,
   "id": "6a4c4006",
   "metadata": {
    "ExecuteTime": {
     "end_time": "2023-06-15T09:31:47.712742Z",
     "start_time": "2023-06-15T09:31:47.697792Z"
    }
   },
   "outputs": [
    {
     "name": "stdout",
     "output_type": "stream",
     "text": [
      "Original array : \n",
      " [[ 1  2  3  4  5]\n",
      " [ 6  7  8  9 10]]\n",
      "Reversed array : \n",
      " [[10  9  8  7  6]\n",
      " [ 5  4  3  2  1]]\n"
     ]
    }
   ],
   "source": [
    "a = np.array([[1,2,3,4,5],[6,7,8,9,10]])\n",
    "print('Original array :','\\n',a)\n",
    "print('Reversed array :','\\n',a[::-1,::-1])"
   ]
  },
  {
   "cell_type": "markdown",
   "id": "b789ce42",
   "metadata": {},
   "source": [
    "## Transpose of a NumPy array"
   ]
  },
  {
   "cell_type": "markdown",
   "id": "11ac2f25",
   "metadata": {},
   "source": [
    "It takes the input array and swaps the rows with the column values, and the column values with the values of the rows:"
   ]
  },
  {
   "cell_type": "code",
   "execution_count": 82,
   "id": "9a5b5ce7",
   "metadata": {
    "ExecuteTime": {
     "end_time": "2023-06-15T09:41:08.944416Z",
     "start_time": "2023-06-15T09:41:08.937584Z"
    }
   },
   "outputs": [
    {
     "name": "stdout",
     "output_type": "stream",
     "text": [
      "Original \n",
      " Shape (2, 3) \n",
      " [[1 2 3]\n",
      " [4 5 6]]\n",
      "Expand along columns: \n",
      " Shape (3, 2) \n",
      " [[1 4]\n",
      " [2 5]\n",
      " [3 6]]\n"
     ]
    }
   ],
   "source": [
    "a = np.array([[1,2,3],[4,5,6]])\n",
    "b = np.transpose(a)\n",
    "print('Original','\\n','Shape',a.shape,'\\n',a)\n",
    "print('Expand along columns:','\\n','Shape',b.shape,'\\n',b)"
   ]
  },
  {
   "cell_type": "code",
   "execution_count": 83,
   "id": "977c6113",
   "metadata": {
    "ExecuteTime": {
     "end_time": "2023-06-15T09:42:25.158480Z",
     "start_time": "2023-06-15T09:42:25.152732Z"
    }
   },
   "outputs": [
    {
     "data": {
      "text/plain": [
       "array([[1, 4],\n",
       "       [2, 5],\n",
       "       [3, 6]])"
      ]
     },
     "execution_count": 83,
     "metadata": {},
     "output_type": "execute_result"
    }
   ],
   "source": [
    "a.T"
   ]
  },
  {
   "cell_type": "markdown",
   "id": "6f885568",
   "metadata": {},
   "source": [
    "# Stacking and Concatenating NumPy arrays\n",
    "\n",
    "Stacking ndarrays\n",
    "\n",
    "We can create a new array by combining existing arrays. This you can do in two ways:\n",
    "\n",
    "Either combine the arrays vertically (i.e. along the rows) using the vstack() method, thereby increasing the number of rows in the resulting array\n",
    "\n",
    "Or \n",
    "\n",
    "combine the arrays in a horizontal fashion (i.e. along the columns) using the hstack(), thereby increasing the number of columns in the resultant array"
   ]
  },
  {
   "cell_type": "code",
   "execution_count": 84,
   "id": "e63b8bcb",
   "metadata": {
    "ExecuteTime": {
     "end_time": "2023-06-15T09:43:54.147621Z",
     "start_time": "2023-06-15T09:43:54.141605Z"
    }
   },
   "outputs": [
    {
     "name": "stdout",
     "output_type": "stream",
     "text": [
      "Array 1 : \n",
      " [0 1 2 3 4]\n",
      "Array 2 : \n",
      " [5 6 7 8 9]\n",
      "Vertical stacking : \n",
      " [[0 1 2 3 4]\n",
      " [5 6 7 8 9]]\n",
      "Horizontal stacking : \n",
      " [0 1 2 3 4 5 6 7 8 9]\n"
     ]
    }
   ],
   "source": [
    "a = np.arange(0,5)\n",
    "b = np.arange(5,10)\n",
    "print('Array 1 :','\\n',a)\n",
    "print('Array 2 :','\\n',b)\n",
    "print('Vertical stacking :','\\n',np.vstack((a,b)))\n",
    "print('Horizontal stacking :','\\n',np.hstack((a,b)))"
   ]
  },
  {
   "cell_type": "code",
   "execution_count": 85,
   "id": "02d6074a",
   "metadata": {
    "ExecuteTime": {
     "end_time": "2023-06-15T09:44:06.054291Z",
     "start_time": "2023-06-15T09:44:06.049553Z"
    }
   },
   "outputs": [
    {
     "name": "stdout",
     "output_type": "stream",
     "text": [
      "Array 1 : \n",
      " [0 1 2 3]\n",
      "Array 2 : \n",
      " [5 6 7 8]\n",
      "Vertical stacking : \n",
      " [[0 1 2 3]\n",
      " [5 6 7 8]]\n",
      "Horizontal stacking : \n",
      " [0 1 2 3 5 6 7 8]\n"
     ]
    }
   ],
   "source": [
    "a = np.arange(0,4)\n",
    "b = np.arange(5,9)\n",
    "print('Array 1 :','\\n',a)\n",
    "print('Array 2 :','\\n',b)\n",
    "print('Vertical stacking :','\\n',np.vstack((a,b)))\n",
    "print('Horizontal stacking :','\\n',np.hstack((a,b)))"
   ]
  },
  {
   "cell_type": "markdown",
   "id": "32684e7d",
   "metadata": {},
   "source": [
    "# flip() method to reverse an ndarray"
   ]
  },
  {
   "cell_type": "code",
   "execution_count": 86,
   "id": "630dadcf",
   "metadata": {
    "ExecuteTime": {
     "end_time": "2023-06-15T09:45:06.799826Z",
     "start_time": "2023-06-15T09:45:06.793600Z"
    }
   },
   "outputs": [
    {
     "name": "stdout",
     "output_type": "stream",
     "text": [
      "Original array : \n",
      " [[ 1  2  3  4  5]\n",
      " [ 6  7  8  9 10]]\n",
      "Reversed array vertically : \n",
      " [[ 5  4  3  2  1]\n",
      " [10  9  8  7  6]]\n",
      "Reversed array horizontally : \n",
      " [[ 6  7  8  9 10]\n",
      " [ 1  2  3  4  5]]\n"
     ]
    }
   ],
   "source": [
    "a = np.array([[1,2,3,4,5],[6,7,8,9,10]])\n",
    "print('Original array :','\\n',a)\n",
    "print('Reversed array vertically :','\\n',np.flip(a,axis=1))\n",
    "print('Reversed array horizontally :','\\n',np.flip(a,axis=0))"
   ]
  },
  {
   "cell_type": "markdown",
   "id": "57c86892",
   "metadata": {},
   "source": [
    "## Broadcasting in NumPy arrays"
   ]
  },
  {
   "cell_type": "code",
   "execution_count": 87,
   "id": "4eccb54a",
   "metadata": {
    "ExecuteTime": {
     "end_time": "2023-06-15T09:47:13.232155Z",
     "start_time": "2023-06-15T09:47:13.225231Z"
    }
   },
   "outputs": [
    {
     "data": {
      "text/plain": [
       "array([1.6, 3.2])"
      ]
     },
     "execution_count": 87,
     "metadata": {},
     "output_type": "execute_result"
    }
   ],
   "source": [
    "data = np.array([1.0, 2.0])\n",
    "data * 1.6"
   ]
  },
  {
   "cell_type": "raw",
   "id": "9ee78285",
   "metadata": {},
   "source": [
    "NumPy understands that the multiplication should happen with each cell. That concept is called broadcasting"
   ]
  },
  {
   "cell_type": "code",
   "execution_count": 88,
   "id": "6ac1a716",
   "metadata": {
    "ExecuteTime": {
     "end_time": "2023-06-15T09:47:54.904677Z",
     "start_time": "2023-06-15T09:47:54.898666Z"
    }
   },
   "outputs": [
    {
     "name": "stdout",
     "output_type": "stream",
     "text": [
      "[10 12 14 16 18]\n",
      "[[2]\n",
      " [3]]\n",
      "Adding two different size arrays : \n",
      " [[12 14 16 18 20]\n",
      " [13 15 17 19 21]]\n",
      "Multiplying an ndarray and a number : [20 24 28 32 36]\n"
     ]
    }
   ],
   "source": [
    "a = np.arange(10,20,2)\n",
    "b = np.array([[2],[3]])\n",
    "print(a)\n",
    "print(b)\n",
    "print('Adding two different size arrays :','\\n',a+b)\n",
    "print('Multiplying an ndarray and a number :',a*2)"
   ]
  },
  {
   "cell_type": "markdown",
   "id": "44f628fa",
   "metadata": {},
   "source": [
    "## Maths with NumPy arrays"
   ]
  },
  {
   "cell_type": "code",
   "execution_count": 89,
   "id": "6ce00efa",
   "metadata": {
    "ExecuteTime": {
     "end_time": "2023-06-15T09:48:34.915512Z",
     "start_time": "2023-06-15T09:48:34.898142Z"
    }
   },
   "outputs": [
    {
     "name": "stdout",
     "output_type": "stream",
     "text": [
      "Subtract : [-4 -3 -2 -1  0  1]\n",
      "Multiply : [ 5 10 15 20 25 30]\n",
      "Divide : [0.2 0.4 0.6 0.8 1.  1.2]\n",
      "Power : [ 1  4  9 16 25 36]\n",
      "Remainder : [1 2 3 4 0 1]\n"
     ]
    }
   ],
   "source": [
    "a = np.array([1,2,3,4,5,6])\n",
    "print('Subtract :',a-5)\n",
    "print('Multiply :',a*5)\n",
    "print('Divide :',a/5)\n",
    "print('Power :',a**2)\n",
    "print('Remainder :',a%5)"
   ]
  },
  {
   "cell_type": "markdown",
   "id": "3d63d4c6",
   "metadata": {
    "ExecuteTime": {
     "end_time": "2023-06-15T09:49:13.045899Z",
     "start_time": "2023-06-15T09:49:13.039838Z"
    }
   },
   "source": [
    "## Flattening a NumPy array"
   ]
  },
  {
   "cell_type": "raw",
   "id": "596c646d",
   "metadata": {
    "ExecuteTime": {
     "end_time": "2023-06-15T09:49:46.819758Z",
     "start_time": "2023-06-15T09:49:46.803967Z"
    }
   },
   "source": [
    "Sometimes when you have a multidimensional array and want to collapse it to a single-dimensional array, you can either use\n",
    "\n",
    "1.the flatten() method or 2.the ravel() method:"
   ]
  },
  {
   "cell_type": "code",
   "execution_count": 93,
   "id": "86b32d69",
   "metadata": {
    "ExecuteTime": {
     "end_time": "2023-06-15T16:40:01.741648Z",
     "start_time": "2023-06-15T16:40:01.725776Z"
    }
   },
   "outputs": [
    {
     "name": "stdout",
     "output_type": "stream",
     "text": [
      "Original shape : (2, 2)\n",
      "Array : \n",
      " [[1. 1.]\n",
      " [1. 1.]]\n",
      "Shape after flatten : (4,)\n",
      "Array : \n",
      " [1. 1. 1. 1.]\n",
      "Shape after ravel : (4,)\n",
      "Array : \n",
      " [1. 1. 1. 1.]\n"
     ]
    }
   ],
   "source": [
    "a = np.ones((2,2))\n",
    "b = a.flatten()\n",
    "\n",
    "c = a.ravel()\n",
    "print('Original shape :', a.shape)\n",
    "print('Array :','\\n', a)\n",
    "print('Shape after flatten :',b.shape)\n",
    "print('Array :','\\n', b)\n",
    "print('Shape after ravel :',c.shape)\n",
    "print('Array :','\\n', c)"
   ]
  },
  {
   "cell_type": "markdown",
   "id": "f04fae87",
   "metadata": {},
   "source": [
    "## Saving and loading of numpy objects"
   ]
  },
  {
   "cell_type": "code",
   "execution_count": 94,
   "id": "5db49af3",
   "metadata": {
    "ExecuteTime": {
     "end_time": "2023-06-15T16:44:37.557391Z",
     "start_time": "2023-06-15T16:44:37.498685Z"
    }
   },
   "outputs": [],
   "source": [
    "a = np.array([1, 2, 3, 4, 5, 6])"
   ]
  },
  {
   "cell_type": "code",
   "execution_count": 95,
   "id": "2387793c",
   "metadata": {
    "ExecuteTime": {
     "end_time": "2023-06-15T16:44:46.870733Z",
     "start_time": "2023-06-15T16:44:46.803961Z"
    }
   },
   "outputs": [],
   "source": [
    "np.save('filename', a)"
   ]
  },
  {
   "cell_type": "code",
   "execution_count": 96,
   "id": "346053ee",
   "metadata": {
    "ExecuteTime": {
     "end_time": "2023-06-15T16:44:54.773771Z",
     "start_time": "2023-06-15T16:44:54.756231Z"
    }
   },
   "outputs": [],
   "source": [
    "b = np.load('filename.npy')\n"
   ]
  },
  {
   "cell_type": "code",
   "execution_count": 97,
   "id": "1289d6a6",
   "metadata": {
    "ExecuteTime": {
     "end_time": "2023-06-15T16:45:03.584564Z",
     "start_time": "2023-06-15T16:45:03.575747Z"
    }
   },
   "outputs": [
    {
     "name": "stdout",
     "output_type": "stream",
     "text": [
      "[1 2 3 4 5 6]\n"
     ]
    }
   ],
   "source": [
    "print(b)"
   ]
  },
  {
   "cell_type": "code",
   "execution_count": 98,
   "id": "b96b007a",
   "metadata": {
    "ExecuteTime": {
     "end_time": "2023-06-15T16:45:16.396991Z",
     "start_time": "2023-06-15T16:45:16.380049Z"
    }
   },
   "outputs": [],
   "source": [
    "csv_arr = np.array([1, 2, 3, 4, 5, 6, 7, 8])"
   ]
  },
  {
   "cell_type": "code",
   "execution_count": 99,
   "id": "32a15aac",
   "metadata": {
    "ExecuteTime": {
     "end_time": "2023-06-15T16:45:28.320505Z",
     "start_time": "2023-06-15T16:45:28.254560Z"
    }
   },
   "outputs": [],
   "source": [
    "np.savetxt('new_file.csv', csv_arr)"
   ]
  },
  {
   "cell_type": "code",
   "execution_count": 100,
   "id": "b64719a4",
   "metadata": {
    "ExecuteTime": {
     "end_time": "2023-06-15T16:45:37.374334Z",
     "start_time": "2023-06-15T16:45:37.309783Z"
    }
   },
   "outputs": [
    {
     "data": {
      "text/plain": [
       "array([1., 2., 3., 4., 5., 6., 7., 8.])"
      ]
     },
     "execution_count": 100,
     "metadata": {},
     "output_type": "execute_result"
    }
   ],
   "source": [
    "np.loadtxt('new_file.csv')"
   ]
  },
  {
   "cell_type": "markdown",
   "id": "5e85a214",
   "metadata": {},
   "source": [
    "## Plotting arrays with matplotlib"
   ]
  },
  {
   "cell_type": "code",
   "execution_count": 101,
   "id": "14f8fae1",
   "metadata": {
    "ExecuteTime": {
     "end_time": "2023-06-15T16:46:14.302074Z",
     "start_time": "2023-06-15T16:46:14.247860Z"
    }
   },
   "outputs": [],
   "source": [
    "a = np.array([2, 1, 5, 7, 4, 6, 8, 14, 10, 9, 18, 20, 22])"
   ]
  },
  {
   "cell_type": "code",
   "execution_count": 103,
   "id": "55cdfae7",
   "metadata": {
    "ExecuteTime": {
     "end_time": "2023-06-15T16:46:34.707550Z",
     "start_time": "2023-06-15T16:46:34.431897Z"
    }
   },
   "outputs": [
    {
     "data": {
      "text/plain": [
       "[<matplotlib.lines.Line2D at 0x20706bf4dd0>]"
      ]
     },
     "execution_count": 103,
     "metadata": {},
     "output_type": "execute_result"
    },
    {
     "data": {
      "image/png": "[encoded data removed]",
      "text/plain": [
       "<Figure size 640x480 with 1 Axes>"
      ]
     },
     "metadata": {},
     "output_type": "display_data"
    }
   ],
   "source": [
    "import matplotlib.pyplot as plt\n",
    "plt.plot(a)\n"
   ]
  },
  {
   "cell_type": "code",
   "execution_count": null,
   "id": "563181ac",
   "metadata": {},
   "outputs": [],
   "source": []
  }
 ],
 "metadata": {
  "kernelspec": {
   "display_name": "Python 3 (ipykernel)",
   "language": "python",
   "name": "python3"
  },
  "language_info": {
   "codemirror_mode": {
    "name": "ipython",
    "version": 3
   },
   "file_extension": ".py",
   "mimetype": "text/x-python",
   "name": "python",
   "nbconvert_exporter": "python",
   "pygments_lexer": "ipython3",
   "version": "3.11.3"
  }
 },
 "nbformat": 4,
 "nbformat_minor": 5
}
