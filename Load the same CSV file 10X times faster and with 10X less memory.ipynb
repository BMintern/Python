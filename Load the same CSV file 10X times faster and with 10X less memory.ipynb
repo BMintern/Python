{
 "cells": [
  {
   "cell_type": "markdown",
   "id": "25062854",
   "metadata": {},
   "source": [
    "## Load the same CSV file 10X times faster and with 10X less memory"
   ]
  },
  {
   "cell_type": "markdown",
   "id": "788154d1",
   "metadata": {},
   "source": [
    "### 1. use cols:"
   ]
  },
  {
   "cell_type": "markdown",
   "id": "cc8b135b",
   "metadata": {},
   "source": [
    "Rather than loading data and removing unnecessary columns that aren’t useful when processing your data. load only the useful columns.\n",
    "\n"
   ]
  },
  {
   "cell_type": "code",
   "execution_count": 30,
   "id": "f3114c4a",
   "metadata": {},
   "outputs": [],
   "source": [
    "import pandas as pd\n",
    "import warnings\n",
    "warnings.filterwarnings(\"ignore\")"
   ]
  },
  {
   "cell_type": "code",
   "execution_count": 31,
   "id": "6ab72b7c",
   "metadata": {},
   "outputs": [],
   "source": [
    "df = pd.read_csv(\"C:/Users/anike/Downloads/Dataframe.csv\")"
   ]
  },
  {
   "cell_type": "code",
   "execution_count": 32,
   "id": "5bf4f39e",
   "metadata": {},
   "outputs": [
    {
     "name": "stdout",
     "output_type": "stream",
     "text": [
      "<class 'pandas.core.frame.DataFrame'>\n",
      "RangeIndex: 99 entries, 0 to 98\n",
      "Columns: 6 entries, Age to Salary\n",
      "dtypes: float64(1), int64(2), object(3)\n",
      "memory usage: 21.9 KB\n"
     ]
    }
   ],
   "source": [
    "df.info(verbose=False, memory_usage=\"deep\")"
   ]
  },
  {
   "cell_type": "code",
   "execution_count": 33,
   "id": "912ad695",
   "metadata": {},
   "outputs": [
    {
     "data": {
      "text/plain": [
       "6"
      ]
     },
     "execution_count": 33,
     "metadata": {},
     "output_type": "execute_result"
    }
   ],
   "source": [
    "len(df.columns)"
   ]
  },
  {
   "cell_type": "code",
   "execution_count": 34,
   "id": "89c2beb2",
   "metadata": {},
   "outputs": [
    {
     "data": {
      "text/plain": [
       "6"
      ]
     },
     "execution_count": 34,
     "metadata": {},
     "output_type": "execute_result"
    }
   ],
   "source": [
    "req_cols =['Age', 'Gender', 'Education Level', 'Job Title', 'Years of Experience',\n",
    "       'Salary']\n",
    "len(req_cols)"
   ]
  },
  {
   "cell_type": "code",
   "execution_count": 35,
   "id": "90149db7",
   "metadata": {},
   "outputs": [],
   "source": [
    "df = pd.read_csv(\"C:/Users/anike/Downloads/Dataframe.csv\", usecols=req_cols)"
   ]
  },
  {
   "cell_type": "code",
   "execution_count": 36,
   "id": "59c59cd3",
   "metadata": {},
   "outputs": [
    {
     "name": "stdout",
     "output_type": "stream",
     "text": [
      "<class 'pandas.core.frame.DataFrame'>\n",
      "RangeIndex: 99 entries, 0 to 98\n",
      "Columns: 6 entries, Age to Salary\n",
      "dtypes: float64(1), int64(2), object(3)\n",
      "memory usage: 21.9 KB\n"
     ]
    }
   ],
   "source": [
    "df.info(verbose=False, memory_usage=\"deep\")"
   ]
  },
  {
   "cell_type": "markdown",
   "id": "9a36f18d",
   "metadata": {},
   "source": [
    "### 2. Using correct dtypes for numerical data:"
   ]
  },
  {
   "cell_type": "code",
   "execution_count": 37,
   "id": "1efa152f",
   "metadata": {},
   "outputs": [
    {
     "data": {
      "text/plain": [
       "792"
      ]
     },
     "execution_count": 37,
     "metadata": {},
     "output_type": "execute_result"
    }
   ],
   "source": [
    "df['Age'].memory_usage(index=False, deep= True)"
   ]
  },
  {
   "cell_type": "code",
   "execution_count": 38,
   "id": "765e2633",
   "metadata": {},
   "outputs": [
    {
     "data": {
      "text/plain": [
       "24"
      ]
     },
     "execution_count": 38,
     "metadata": {},
     "output_type": "execute_result"
    }
   ],
   "source": [
    "df['Age'].min()"
   ]
  },
  {
   "cell_type": "code",
   "execution_count": 39,
   "id": "ac25cdf4",
   "metadata": {},
   "outputs": [
    {
     "data": {
      "text/plain": [
       "52"
      ]
     },
     "execution_count": 39,
     "metadata": {},
     "output_type": "execute_result"
    }
   ],
   "source": [
    "df['Age'].max()"
   ]
  },
  {
   "cell_type": "code",
   "execution_count": 40,
   "id": "de6f3c04",
   "metadata": {},
   "outputs": [],
   "source": [
    "df = pd.read_csv(\"C:/Users/anike/Downloads/Dataframe.csv\", dtype={\"Age\": \"int16\"})"
   ]
  },
  {
   "cell_type": "code",
   "execution_count": 41,
   "id": "a7c792ad",
   "metadata": {},
   "outputs": [
    {
     "data": {
      "text/plain": [
       "198"
      ]
     },
     "execution_count": 41,
     "metadata": {},
     "output_type": "execute_result"
    }
   ],
   "source": [
    "df['Age'].memory_usage(index=False, deep=True)"
   ]
  },
  {
   "cell_type": "code",
   "execution_count": null,
   "id": "e6e48816",
   "metadata": {},
   "outputs": [],
   "source": []
  },
  {
   "cell_type": "markdown",
   "id": "1067bebb",
   "metadata": {},
   "source": [
    "### 3.Using correct dtypes for categorical columns:"
   ]
  },
  {
   "cell_type": "markdown",
   "id": "2df71229",
   "metadata": {},
   "source": [
    "In Dataset, I have a column Gender which is by default parsed as a string, but it contains only a fixed number of values that remain unchanged for any dataset.\n"
   ]
  },
  {
   "cell_type": "code",
   "execution_count": 42,
   "id": "7c2283bc",
   "metadata": {},
   "outputs": [
    {
     "data": {
      "text/plain": [
       "Male      54\n",
       "Female    45\n",
       "Name: Gender, dtype: int64"
      ]
     },
     "execution_count": 42,
     "metadata": {},
     "output_type": "execute_result"
    }
   ],
   "source": [
    "df['Gender'].value_counts()"
   ]
  },
  {
   "cell_type": "code",
   "execution_count": 43,
   "id": "a551a24d",
   "metadata": {},
   "outputs": [
    {
     "data": {
      "text/html": [
       "<div>\n",
       "<style scoped>\n",
       "    .dataframe tbody tr th:only-of-type {\n",
       "        vertical-align: middle;\n",
       "    }\n",
       "\n",
       "    .dataframe tbody tr th {\n",
       "        vertical-align: top;\n",
       "    }\n",
       "\n",
       "    .dataframe thead th {\n",
       "        text-align: right;\n",
       "    }\n",
       "</style>\n",
       "<table border=\"1\" class=\"dataframe\">\n",
       "  <thead>\n",
       "    <tr style=\"text-align: right;\">\n",
       "      <th></th>\n",
       "      <th>Age</th>\n",
       "      <th>Gender</th>\n",
       "      <th>Education Level</th>\n",
       "      <th>Job Title</th>\n",
       "      <th>Years of Experience</th>\n",
       "      <th>Salary</th>\n",
       "    </tr>\n",
       "  </thead>\n",
       "  <tbody>\n",
       "    <tr>\n",
       "      <th>0</th>\n",
       "      <td>32</td>\n",
       "      <td>Male</td>\n",
       "      <td>Bachelor's</td>\n",
       "      <td>Software Engineer</td>\n",
       "      <td>5.0</td>\n",
       "      <td>90000</td>\n",
       "    </tr>\n",
       "    <tr>\n",
       "      <th>1</th>\n",
       "      <td>28</td>\n",
       "      <td>Female</td>\n",
       "      <td>Master's</td>\n",
       "      <td>Data Analyst</td>\n",
       "      <td>3.0</td>\n",
       "      <td>65000</td>\n",
       "    </tr>\n",
       "    <tr>\n",
       "      <th>2</th>\n",
       "      <td>45</td>\n",
       "      <td>Male</td>\n",
       "      <td>PhD</td>\n",
       "      <td>Senior Manager</td>\n",
       "      <td>NaN</td>\n",
       "      <td>150000</td>\n",
       "    </tr>\n",
       "    <tr>\n",
       "      <th>3</th>\n",
       "      <td>36</td>\n",
       "      <td>Female</td>\n",
       "      <td>Bachelor's</td>\n",
       "      <td>Sales Associate</td>\n",
       "      <td>7.0</td>\n",
       "      <td>60000</td>\n",
       "    </tr>\n",
       "    <tr>\n",
       "      <th>4</th>\n",
       "      <td>52</td>\n",
       "      <td>Male</td>\n",
       "      <td>Master's</td>\n",
       "      <td>Director</td>\n",
       "      <td>20.0</td>\n",
       "      <td>200000</td>\n",
       "    </tr>\n",
       "    <tr>\n",
       "      <th>...</th>\n",
       "      <td>...</td>\n",
       "      <td>...</td>\n",
       "      <td>...</td>\n",
       "      <td>...</td>\n",
       "      <td>...</td>\n",
       "      <td>...</td>\n",
       "    </tr>\n",
       "    <tr>\n",
       "      <th>94</th>\n",
       "      <td>33</td>\n",
       "      <td>Male</td>\n",
       "      <td>Bachelor's</td>\n",
       "      <td>Business Analyst</td>\n",
       "      <td>7.0</td>\n",
       "      <td>75000</td>\n",
       "    </tr>\n",
       "    <tr>\n",
       "      <th>95</th>\n",
       "      <td>39</td>\n",
       "      <td>Female</td>\n",
       "      <td>Bachelor's</td>\n",
       "      <td>Training Specialist</td>\n",
       "      <td>12.0</td>\n",
       "      <td>65000</td>\n",
       "    </tr>\n",
       "    <tr>\n",
       "      <th>96</th>\n",
       "      <td>47</td>\n",
       "      <td>Male</td>\n",
       "      <td>PhD</td>\n",
       "      <td>Research Scientist</td>\n",
       "      <td>22.0</td>\n",
       "      <td>160000</td>\n",
       "    </tr>\n",
       "    <tr>\n",
       "      <th>97</th>\n",
       "      <td>26</td>\n",
       "      <td>Male</td>\n",
       "      <td>Bachelor's</td>\n",
       "      <td>Junior Software Developer</td>\n",
       "      <td>1.0</td>\n",
       "      <td>35000</td>\n",
       "    </tr>\n",
       "    <tr>\n",
       "      <th>98</th>\n",
       "      <td>38</td>\n",
       "      <td>Female</td>\n",
       "      <td>Master's</td>\n",
       "      <td>Public Relations Manager</td>\n",
       "      <td>10.0</td>\n",
       "      <td>90000</td>\n",
       "    </tr>\n",
       "  </tbody>\n",
       "</table>\n",
       "<p>99 rows × 6 columns</p>\n",
       "</div>"
      ],
      "text/plain": [
       "    Age  Gender Education Level                  Job Title  \\\n",
       "0    32    Male      Bachelor's          Software Engineer   \n",
       "1    28  Female        Master's               Data Analyst   \n",
       "2    45    Male             PhD             Senior Manager   \n",
       "3    36  Female      Bachelor's            Sales Associate   \n",
       "4    52    Male        Master's                   Director   \n",
       "..  ...     ...             ...                        ...   \n",
       "94   33    Male      Bachelor's           Business Analyst   \n",
       "95   39  Female      Bachelor's        Training Specialist   \n",
       "96   47    Male             PhD         Research Scientist   \n",
       "97   26    Male      Bachelor's  Junior Software Developer   \n",
       "98   38  Female        Master's   Public Relations Manager   \n",
       "\n",
       "    Years of Experience  Salary  \n",
       "0                   5.0   90000  \n",
       "1                   3.0   65000  \n",
       "2                   NaN  150000  \n",
       "3                   7.0   60000  \n",
       "4                  20.0  200000  \n",
       "..                  ...     ...  \n",
       "94                  7.0   75000  \n",
       "95                 12.0   65000  \n",
       "96                 22.0  160000  \n",
       "97                  1.0   35000  \n",
       "98                 10.0   90000  \n",
       "\n",
       "[99 rows x 6 columns]"
      ]
     },
     "execution_count": 43,
     "metadata": {},
     "output_type": "execute_result"
    }
   ],
   "source": [
    "df = pd.read_csv(\"C:/Users/anike/Downloads/Dataframe.csv\", dtype={\"Gender\": \"category\"})\n",
    "df"
   ]
  },
  {
   "cell_type": "markdown",
   "id": "4b966405",
   "metadata": {},
   "source": [
    "### 4. nrows, skip rows"
   ]
  },
  {
   "cell_type": "markdown",
   "id": "440c91e6",
   "metadata": {},
   "source": [
    " Even before loading all the data into your RAM, it is always a good practice to test your functions and workflows using a small dataset and pandas have made it easier to choose precisely the number of rows (you can even skip the rows that you do not need.)\n",
    "\n",
    "In most of the cases for testing purpose, you don’t need to load all the data when a sample can do just fine."
   ]
  },
  {
   "cell_type": "code",
   "execution_count": 44,
   "id": "7b2e1c98",
   "metadata": {},
   "outputs": [
    {
     "data": {
      "text/plain": [
       "99"
      ]
     },
     "execution_count": 44,
     "metadata": {},
     "output_type": "execute_result"
    }
   ],
   "source": [
    "len(df)"
   ]
  },
  {
   "cell_type": "code",
   "execution_count": 45,
   "id": "e176bca6",
   "metadata": {},
   "outputs": [],
   "source": [
    "df = pd.read_csv('C:/Users/anike/Downloads/Dataframe.csv', skiprows=[0,2,5])"
   ]
  },
  {
   "cell_type": "code",
   "execution_count": 46,
   "id": "5be24ed5",
   "metadata": {},
   "outputs": [
    {
     "data": {
      "text/plain": [
       "96"
      ]
     },
     "execution_count": 46,
     "metadata": {},
     "output_type": "execute_result"
    }
   ],
   "source": [
    "len(df)"
   ]
  },
  {
   "cell_type": "markdown",
   "id": "ed8026f0",
   "metadata": {},
   "source": [
    "### 5. Loading Data in Chunks:"
   ]
  },
  {
   "cell_type": "markdown",
   "id": "258ec4ad",
   "metadata": {},
   "source": [
    "loading data in chunks is actually slower than reading whole data directly as you need to concat the chunks again but we can load files with more than 10’s of GB’s easily."
   ]
  },
  {
   "cell_type": "code",
   "execution_count": 47,
   "id": "db043119",
   "metadata": {},
   "outputs": [
    {
     "data": {
      "text/plain": [
       "96"
      ]
     },
     "execution_count": 47,
     "metadata": {},
     "output_type": "execute_result"
    }
   ],
   "source": [
    "len(df)"
   ]
  },
  {
   "cell_type": "code",
   "execution_count": 48,
   "id": "f94fd227",
   "metadata": {},
   "outputs": [],
   "source": [
    "df = pd.read_csv(\"C:/Users/anike/Downloads/Dataframe.csv\", chunksize=1000)"
   ]
  },
  {
   "cell_type": "code",
   "execution_count": 49,
   "id": "94dcbd81",
   "metadata": {},
   "outputs": [
    {
     "name": "stdout",
     "output_type": "stream",
     "text": [
      "99\n"
     ]
    }
   ],
   "source": [
    "total_len = 0\n",
    "for chunk in df:\n",
    "    # Do some preprocessing to reduce the memory size of each chunk\n",
    "    total_len += len(chunk)\n",
    "print(total_len)\n"
   ]
  },
  {
   "cell_type": "code",
   "execution_count": 50,
   "id": "4bd977f9",
   "metadata": {},
   "outputs": [],
   "source": [
    "tp = pd.read_csv('C:/Users/anike/Downloads/Dataframe.csv', iterator=True, chunksize=1000)  # gives TextFileReader\n",
    "df = pd.concat(tp, ignore_index=True)"
   ]
  },
  {
   "cell_type": "code",
   "execution_count": 51,
   "id": "84c05a6e",
   "metadata": {},
   "outputs": [
    {
     "data": {
      "text/plain": [
       "99"
      ]
     },
     "execution_count": 51,
     "metadata": {},
     "output_type": "execute_result"
    }
   ],
   "source": [
    "len(df)"
   ]
  },
  {
   "cell_type": "markdown",
   "id": "c8844e06",
   "metadata": {},
   "source": [
    "### 6. Multiprocessing using pandas:"
   ]
  },
  {
   "cell_type": "markdown",
   "id": "d21fb610",
   "metadata": {},
   "source": [
    "As pandas don’t have njobs variable to make use of multiprocessing power. we can utilize multiprocessinglibrary to handle chunk size operations asynchronously on multi-threads which can reduce the run time by half."
   ]
  },
  {
   "cell_type": "code",
   "execution_count": 52,
   "id": "4f349951",
   "metadata": {},
   "outputs": [
    {
     "name": "stdout",
     "output_type": "stream",
     "text": [
      "99\n",
      "CPU times: total: 31.2 ms\n",
      "Wall time: 2.99 ms\n"
     ]
    }
   ],
   "source": [
    "%%time\n",
    "df = pd.read_csv(\"C:/Users/anike/Downloads/Dataframe.csv\", chunksize=1000)\n",
    "total_length = 0\n",
    "for chunk in df:\n",
    "    total_length += len(chunk)\n",
    "print(total_length)"
   ]
  },
  {
   "cell_type": "code",
   "execution_count": 53,
   "id": "78b1003d",
   "metadata": {},
   "outputs": [
    {
     "name": "stdout",
     "output_type": "stream",
     "text": [
      "Requirement already satisfied: dask in c:\\users\\anike\\appdata\\local\\programs\\python\\python310\\lib\\site-packages (2023.6.0)\n",
      "Requirement already satisfied: click>=8.0 in c:\\users\\anike\\appdata\\local\\programs\\python\\python310\\lib\\site-packages (from dask) (8.1.3)\n",
      "Requirement already satisfied: cloudpickle>=1.5.0 in c:\\users\\anike\\appdata\\local\\programs\\python\\python310\\lib\\site-packages (from dask) (2.2.1)\n",
      "Requirement already satisfied: fsspec>=2021.09.0 in c:\\users\\anike\\appdata\\local\\programs\\python\\python310\\lib\\site-packages (from dask) (2023.6.0)\n",
      "Requirement already satisfied: packaging>=20.0 in c:\\users\\anike\\appdata\\local\\programs\\python\\python310\\lib\\site-packages (from dask) (23.0)\n",
      "Requirement already satisfied: partd>=1.2.0 in c:\\users\\anike\\appdata\\local\\programs\\python\\python310\\lib\\site-packages (from dask) (1.4.0)\n",
      "Requirement already satisfied: pyyaml>=5.3.1 in c:\\users\\anike\\appdata\\local\\programs\\python\\python310\\lib\\site-packages (from dask) (6.0)\n",
      "Requirement already satisfied: toolz>=0.10.0 in c:\\users\\anike\\appdata\\local\\programs\\python\\python310\\lib\\site-packages (from dask) (0.12.0)\n",
      "Requirement already satisfied: importlib-metadata>=4.13.0 in c:\\users\\anike\\appdata\\local\\programs\\python\\python310\\lib\\site-packages (from dask) (6.6.0)\n",
      "Requirement already satisfied: colorama in c:\\users\\anike\\appdata\\local\\programs\\python\\python310\\lib\\site-packages (from click>=8.0->dask) (0.4.5)\n",
      "Requirement already satisfied: zipp>=0.5 in c:\\users\\anike\\appdata\\local\\programs\\python\\python310\\lib\\site-packages (from importlib-metadata>=4.13.0->dask) (3.15.0)\n",
      "Requirement already satisfied: locket in c:\\users\\anike\\appdata\\local\\programs\\python\\python310\\lib\\site-packages (from partd>=1.2.0->dask) (1.0.0)\n",
      "Note: you may need to restart the kernel to use updated packages.\n"
     ]
    }
   ],
   "source": [
    "pip install dask"
   ]
  },
  {
   "cell_type": "markdown",
   "id": "17793665",
   "metadata": {},
   "source": [
    "### 7. Dask Instead of Pandas:\n"
   ]
  },
  {
   "cell_type": "code",
   "execution_count": 54,
   "id": "7a6cbf52",
   "metadata": {},
   "outputs": [
    {
     "data": {
      "text/plain": [
       "<bound method DaskMethodsMixin.compute of Dask DataFrame Structure:\n",
       "                   Age  Gender Education Level Job Title Years of Experience   Salary\n",
       "npartitions=1                                                                        \n",
       "               float64  object          object    object             float64  float64\n",
       "                   ...     ...             ...       ...                 ...      ...\n",
       "Dask Name: read-csv, 1 graph layer>"
      ]
     },
     "execution_count": 54,
     "metadata": {},
     "output_type": "execute_result"
    }
   ],
   "source": [
    "import dask.dataframe as dd\n",
    "data = dd.read_csv(\"C:/Users/anike/Downloads/Dataframe.csv\",dtype={'Total_Salary': 'float64'},assume_missing=True)\n",
    "data.compute"
   ]
  },
  {
   "cell_type": "code",
   "execution_count": null,
   "id": "31b4cc2d",
   "metadata": {},
   "outputs": [],
   "source": []
  },
  {
   "cell_type": "code",
   "execution_count": null,
   "id": "19d57862",
   "metadata": {},
   "outputs": [],
   "source": []
  }
 ],
 "metadata": {
  "kernelspec": {
   "display_name": "Python 3 (ipykernel)",
   "language": "python",
   "name": "python3"
  },
  "language_info": {
   "codemirror_mode": {
    "name": "ipython",
    "version": 3
   },
   "file_extension": ".py",
   "mimetype": "text/x-python",
   "name": "python",
   "nbconvert_exporter": "python",
   "pygments_lexer": "ipython3",
   "version": "3.10.5"
  }
 },
 "nbformat": 4,
 "nbformat_minor": 5
}
