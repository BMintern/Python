{
 "cells": [
  {
   "cell_type": "markdown",
   "id": "b7377ee5",
   "metadata": {},
   "source": [
    "# Read csv using pandas"
   ]
  },
  {
   "cell_type": "code",
   "execution_count": 1,
   "id": "423427bc",
   "metadata": {},
   "outputs": [
    {
     "data": {
      "text/html": [
       "<div>\n",
       "<style scoped>\n",
       "    .dataframe tbody tr th:only-of-type {\n",
       "        vertical-align: middle;\n",
       "    }\n",
       "\n",
       "    .dataframe tbody tr th {\n",
       "        vertical-align: top;\n",
       "    }\n",
       "\n",
       "    .dataframe thead th {\n",
       "        text-align: right;\n",
       "    }\n",
       "</style>\n",
       "<table border=\"1\" class=\"dataframe\">\n",
       "  <thead>\n",
       "    <tr style=\"text-align: right;\">\n",
       "      <th></th>\n",
       "      <th>Island</th>\n",
       "      <th>CulmenLength</th>\n",
       "      <th>CulmenDepth</th>\n",
       "      <th>FlipperLength</th>\n",
       "      <th>BodyMass</th>\n",
       "      <th>Species</th>\n",
       "    </tr>\n",
       "  </thead>\n",
       "  <tbody>\n",
       "    <tr>\n",
       "      <th>0</th>\n",
       "      <td>Torgersen</td>\n",
       "      <td>39.1</td>\n",
       "      <td>18.7</td>\n",
       "      <td>181.0</td>\n",
       "      <td>3750.0</td>\n",
       "      <td>0</td>\n",
       "    </tr>\n",
       "    <tr>\n",
       "      <th>1</th>\n",
       "      <td>Torgersen</td>\n",
       "      <td>39.5</td>\n",
       "      <td>17.4</td>\n",
       "      <td>186.0</td>\n",
       "      <td>3800.0</td>\n",
       "      <td>0</td>\n",
       "    </tr>\n",
       "    <tr>\n",
       "      <th>2</th>\n",
       "      <td>Torgersen</td>\n",
       "      <td>40.3</td>\n",
       "      <td>18.0</td>\n",
       "      <td>195.0</td>\n",
       "      <td>3250.0</td>\n",
       "      <td>0</td>\n",
       "    </tr>\n",
       "    <tr>\n",
       "      <th>3</th>\n",
       "      <td>Torgersen</td>\n",
       "      <td>NaN</td>\n",
       "      <td>NaN</td>\n",
       "      <td>NaN</td>\n",
       "      <td>NaN</td>\n",
       "      <td>0</td>\n",
       "    </tr>\n",
       "    <tr>\n",
       "      <th>4</th>\n",
       "      <td>Torgersen</td>\n",
       "      <td>36.7</td>\n",
       "      <td>19.3</td>\n",
       "      <td>193.0</td>\n",
       "      <td>3450.0</td>\n",
       "      <td>0</td>\n",
       "    </tr>\n",
       "    <tr>\n",
       "      <th>...</th>\n",
       "      <td>...</td>\n",
       "      <td>...</td>\n",
       "      <td>...</td>\n",
       "      <td>...</td>\n",
       "      <td>...</td>\n",
       "      <td>...</td>\n",
       "    </tr>\n",
       "    <tr>\n",
       "      <th>339</th>\n",
       "      <td>Dream</td>\n",
       "      <td>55.8</td>\n",
       "      <td>19.8</td>\n",
       "      <td>207.0</td>\n",
       "      <td>4000.0</td>\n",
       "      <td>2</td>\n",
       "    </tr>\n",
       "    <tr>\n",
       "      <th>340</th>\n",
       "      <td>Dream</td>\n",
       "      <td>43.5</td>\n",
       "      <td>18.1</td>\n",
       "      <td>202.0</td>\n",
       "      <td>3400.0</td>\n",
       "      <td>2</td>\n",
       "    </tr>\n",
       "    <tr>\n",
       "      <th>341</th>\n",
       "      <td>Dream</td>\n",
       "      <td>49.6</td>\n",
       "      <td>18.2</td>\n",
       "      <td>193.0</td>\n",
       "      <td>3775.0</td>\n",
       "      <td>2</td>\n",
       "    </tr>\n",
       "    <tr>\n",
       "      <th>342</th>\n",
       "      <td>Dream</td>\n",
       "      <td>50.8</td>\n",
       "      <td>19.0</td>\n",
       "      <td>210.0</td>\n",
       "      <td>4100.0</td>\n",
       "      <td>2</td>\n",
       "    </tr>\n",
       "    <tr>\n",
       "      <th>343</th>\n",
       "      <td>Dream</td>\n",
       "      <td>50.2</td>\n",
       "      <td>18.7</td>\n",
       "      <td>198.0</td>\n",
       "      <td>3775.0</td>\n",
       "      <td>2</td>\n",
       "    </tr>\n",
       "  </tbody>\n",
       "</table>\n",
       "<p>344 rows × 6 columns</p>\n",
       "</div>"
      ],
      "text/plain": [
       "        Island  CulmenLength  CulmenDepth  FlipperLength  BodyMass  Species\n",
       "0    Torgersen          39.1         18.7          181.0    3750.0        0\n",
       "1    Torgersen          39.5         17.4          186.0    3800.0        0\n",
       "2    Torgersen          40.3         18.0          195.0    3250.0        0\n",
       "3    Torgersen           NaN          NaN            NaN       NaN        0\n",
       "4    Torgersen          36.7         19.3          193.0    3450.0        0\n",
       "..         ...           ...          ...            ...       ...      ...\n",
       "339      Dream          55.8         19.8          207.0    4000.0        2\n",
       "340      Dream          43.5         18.1          202.0    3400.0        2\n",
       "341      Dream          49.6         18.2          193.0    3775.0        2\n",
       "342      Dream          50.8         19.0          210.0    4100.0        2\n",
       "343      Dream          50.2         18.7          198.0    3775.0        2\n",
       "\n",
       "[344 rows x 6 columns]"
      ]
     },
     "execution_count": 1,
     "metadata": {},
     "output_type": "execute_result"
    }
   ],
   "source": [
    "# Import pandas\n",
    "import pandas as pd\n",
    "\n",
    "# reading csv file\n",
    "pd.read_csv(\"C:/Users/Pranay/Downloads/penguins.csv\")\n"
   ]
  },
  {
   "cell_type": "markdown",
   "id": "58a1b286",
   "metadata": {},
   "source": [
    "### Using sep in read_csv()"
   ]
  },
  {
   "cell_type": "code",
   "execution_count": 2,
   "id": "a5944896",
   "metadata": {},
   "outputs": [
    {
     "data": {
      "text/html": [
       "<div>\n",
       "<style scoped>\n",
       "    .dataframe tbody tr th:only-of-type {\n",
       "        vertical-align: middle;\n",
       "    }\n",
       "\n",
       "    .dataframe tbody tr th {\n",
       "        vertical-align: top;\n",
       "    }\n",
       "\n",
       "    .dataframe thead th {\n",
       "        text-align: right;\n",
       "    }\n",
       "</style>\n",
       "<table border=\"1\" class=\"dataframe\">\n",
       "  <thead>\n",
       "    <tr style=\"text-align: right;\">\n",
       "      <th></th>\n",
       "      <th>Island</th>\n",
       "      <th>CulmenLength</th>\n",
       "      <th>CulmenDepth</th>\n",
       "      <th>FlipperLength</th>\n",
       "      <th>BodyMass</th>\n",
       "      <th>Species</th>\n",
       "    </tr>\n",
       "  </thead>\n",
       "  <tbody>\n",
       "    <tr>\n",
       "      <th>0</th>\n",
       "      <td>Torgersen</td>\n",
       "      <td>39.1</td>\n",
       "      <td>18.7</td>\n",
       "      <td>181.0</td>\n",
       "      <td>3750.0</td>\n",
       "      <td>0</td>\n",
       "    </tr>\n",
       "    <tr>\n",
       "      <th>1</th>\n",
       "      <td>Torgersen</td>\n",
       "      <td>39.5</td>\n",
       "      <td>17.4</td>\n",
       "      <td>186.0</td>\n",
       "      <td>3800.0</td>\n",
       "      <td>0</td>\n",
       "    </tr>\n",
       "    <tr>\n",
       "      <th>2</th>\n",
       "      <td>Torgersen</td>\n",
       "      <td>40.3</td>\n",
       "      <td>18.0</td>\n",
       "      <td>195.0</td>\n",
       "      <td>3250.0</td>\n",
       "      <td>0</td>\n",
       "    </tr>\n",
       "    <tr>\n",
       "      <th>3</th>\n",
       "      <td>Torgersen</td>\n",
       "      <td>NaN</td>\n",
       "      <td>NaN</td>\n",
       "      <td>NaN</td>\n",
       "      <td>NaN</td>\n",
       "      <td>0</td>\n",
       "    </tr>\n",
       "    <tr>\n",
       "      <th>4</th>\n",
       "      <td>Torgersen</td>\n",
       "      <td>36.7</td>\n",
       "      <td>19.3</td>\n",
       "      <td>193.0</td>\n",
       "      <td>3450.0</td>\n",
       "      <td>0</td>\n",
       "    </tr>\n",
       "    <tr>\n",
       "      <th>...</th>\n",
       "      <td>...</td>\n",
       "      <td>...</td>\n",
       "      <td>...</td>\n",
       "      <td>...</td>\n",
       "      <td>...</td>\n",
       "      <td>...</td>\n",
       "    </tr>\n",
       "    <tr>\n",
       "      <th>339</th>\n",
       "      <td>Dream</td>\n",
       "      <td>55.8</td>\n",
       "      <td>19.8</td>\n",
       "      <td>207.0</td>\n",
       "      <td>4000.0</td>\n",
       "      <td>2</td>\n",
       "    </tr>\n",
       "    <tr>\n",
       "      <th>340</th>\n",
       "      <td>Dream</td>\n",
       "      <td>43.5</td>\n",
       "      <td>18.1</td>\n",
       "      <td>202.0</td>\n",
       "      <td>3400.0</td>\n",
       "      <td>2</td>\n",
       "    </tr>\n",
       "    <tr>\n",
       "      <th>341</th>\n",
       "      <td>Dream</td>\n",
       "      <td>49.6</td>\n",
       "      <td>18.2</td>\n",
       "      <td>193.0</td>\n",
       "      <td>3775.0</td>\n",
       "      <td>2</td>\n",
       "    </tr>\n",
       "    <tr>\n",
       "      <th>342</th>\n",
       "      <td>Dream</td>\n",
       "      <td>50.8</td>\n",
       "      <td>19.0</td>\n",
       "      <td>210.0</td>\n",
       "      <td>4100.0</td>\n",
       "      <td>2</td>\n",
       "    </tr>\n",
       "    <tr>\n",
       "      <th>343</th>\n",
       "      <td>Dream</td>\n",
       "      <td>50.2</td>\n",
       "      <td>18.7</td>\n",
       "      <td>198.0</td>\n",
       "      <td>3775.0</td>\n",
       "      <td>2</td>\n",
       "    </tr>\n",
       "  </tbody>\n",
       "</table>\n",
       "<p>344 rows × 6 columns</p>\n",
       "</div>"
      ],
      "text/plain": [
       "        Island  CulmenLength  CulmenDepth  FlipperLength  BodyMass  Species\n",
       "0    Torgersen          39.1         18.7          181.0    3750.0        0\n",
       "1    Torgersen          39.5         17.4          186.0    3800.0        0\n",
       "2    Torgersen          40.3         18.0          195.0    3250.0        0\n",
       "3    Torgersen           NaN          NaN            NaN       NaN        0\n",
       "4    Torgersen          36.7         19.3          193.0    3450.0        0\n",
       "..         ...           ...          ...            ...       ...      ...\n",
       "339      Dream          55.8         19.8          207.0    4000.0        2\n",
       "340      Dream          43.5         18.1          202.0    3400.0        2\n",
       "341      Dream          49.6         18.2          193.0    3775.0        2\n",
       "342      Dream          50.8         19.0          210.0    4100.0        2\n",
       "343      Dream          50.2         18.7          198.0    3775.0        2\n",
       "\n",
       "[344 rows x 6 columns]"
      ]
     },
     "execution_count": 2,
     "metadata": {},
     "output_type": "execute_result"
    }
   ],
   "source": [
    "df = pd.read_csv('C:/Users/Pranay/Downloads/penguins.csv',\n",
    "                 sep='[:, |_]',\n",
    "                 engine='python')\n",
    "  \n",
    "# Print the Dataframe\n",
    "df"
   ]
  },
  {
   "cell_type": "markdown",
   "id": "cee66688",
   "metadata": {},
   "source": [
    "## Creating DataFrame to Export Pandas DataFrame to CSV"
   ]
  },
  {
   "cell_type": "code",
   "execution_count": 9,
   "id": "2dcd6be1",
   "metadata": {},
   "outputs": [
    {
     "name": "stdout",
     "output_type": "stream",
     "text": [
      "     Name  Degree  Score\n",
      "0  Rutika     MBA     90\n",
      "1  Pranay     MCS     77\n",
      "2   Ayush  M.Tech     80\n",
      "3  Ritika     MCA     98\n"
     ]
    }
   ],
   "source": [
    "# list of name, degree, score\n",
    "nme = [\"Rutika\", \"Pranay\", \"Ayush\", \"Ritika\"]\n",
    "deg = [\"MBA\", \"MCS\", \"M.Tech\", \"MCA\"]\n",
    "scr = [90, 77, 80, 98]\n",
    "\n",
    "# dictionary of lists\n",
    "dict = {'Name': nme, 'Degree': deg, 'Score': scr}\n",
    "\t\n",
    "df = pd.DataFrame(dict)\n",
    "\n",
    "print(df)\n"
   ]
  },
  {
   "cell_type": "code",
   "execution_count": 10,
   "id": "f44fd2db",
   "metadata": {},
   "outputs": [],
   "source": [
    "# saving the dataframe\n",
    "df.to_csv('C:/Users/Pranay/Azure Training-Biz/StdMarks.csv')"
   ]
  },
  {
   "cell_type": "code",
   "execution_count": 7,
   "id": "73f889d8",
   "metadata": {},
   "outputs": [],
   "source": [
    "# saving the dataframe\n",
    "df.to_csv('C:/Users/Pranay/Azure Training-Biz/StdMarks.csv', header=False, index=False)\n"
   ]
  },
  {
   "cell_type": "markdown",
   "id": "01e4ffe7",
   "metadata": {},
   "source": [
    "# Loading Excel spreadsheet as pandas DataFrame"
   ]
  },
  {
   "cell_type": "code",
   "execution_count": 14,
   "id": "749518a0",
   "metadata": {},
   "outputs": [
    {
     "name": "stdout",
     "output_type": "stream",
     "text": [
      "['StdMarks']\n",
      "   Unnamed: 0    Name  Degree  Score\n",
      "0           0  Rutika     MBA     90\n",
      "1           1  Pranay     MCS     77\n",
      "2           2   Ayush  M.Tech     80\n",
      "3           3  Ritika     MCA     98\n"
     ]
    }
   ],
   "source": [
    "import pandas as pd\n",
    "\n",
    "# Import the excel file and call it xls_file\n",
    "excel_file = pd.ExcelFile('C:/Users/Pranay/Azure Training-Biz/StdMarks.xlsx')\n",
    "\n",
    "# View the excel_file's sheet names\n",
    "print(excel_file.sheet_names)\n",
    "\n",
    "# Load the excel_file's Sheet1 as a dataframe\n",
    "df = excel_file.parse('StdMarks')\n",
    "print(df)\n"
   ]
  },
  {
   "cell_type": "markdown",
   "id": "1859d76a",
   "metadata": {},
   "source": [
    "# Creating a dataframe using Excel files"
   ]
  },
  {
   "cell_type": "code",
   "execution_count": 16,
   "id": "a72cff11",
   "metadata": {},
   "outputs": [
    {
     "name": "stdout",
     "output_type": "stream",
     "text": [
      "   Unnamed: 0    Name  Degree  Score\n",
      "0           0  Rutika     MBA     90\n",
      "1           1  Pranay     MCS     77\n",
      "2           2   Ayush  M.Tech     80\n",
      "3           3  Ritika     MCA     98\n"
     ]
    }
   ],
   "source": [
    "# import pandas lib as pd\n",
    "import pandas as pd\n",
    "\n",
    "# read by default 1st sheet of an excel file\n",
    "dataframe1 = pd.read_excel('C:/Users/Pranay/Azure Training-Biz/StdMarks.xlsx')\n",
    "\n",
    "print(dataframe1)\n"
   ]
  },
  {
   "cell_type": "code",
   "execution_count": 17,
   "id": "e3633b0b",
   "metadata": {},
   "outputs": [
    {
     "name": "stdout",
     "output_type": "stream",
     "text": [
      "   Unnamed: 0    Name  Degree  Score\n",
      "0           0  Rutika     MBA     90\n",
      "1           1  Pranay     MCS     77\n",
      "2           2   Ayush  M.Tech     80\n",
      "3           3  Ritika     MCA     98\n"
     ]
    }
   ],
   "source": [
    "# import pandas lib as pd\n",
    "import pandas as pd\n",
    "\n",
    "# read 2nd sheet of an excel file\n",
    "dataframe2 = pd.read_excel('C:/Users/Pranay/Azure Training-Biz/StdMarks.xlsx', sheet_name ='StdMarks')\n",
    "\n",
    "print(dataframe2)\n"
   ]
  },
  {
   "cell_type": "code",
   "execution_count": 20,
   "id": "4ac4e229",
   "metadata": {},
   "outputs": [
    {
     "name": "stdout",
     "output_type": "stream",
     "text": [
      "     Name  Score\n",
      "0  Rutika     90\n",
      "1  Pranay     77\n",
      "2   Ayush     80\n",
      "3  Ritika     98\n"
     ]
    }
   ],
   "source": [
    "# import pandas lib as pd\n",
    "import pandas as pd\n",
    "\n",
    "require_cols = [1, 3]\n",
    "\n",
    "# only read specific columns from an excel file\n",
    "required_df = pd.read_excel('C:/Users/Pranay/Azure Training-Biz/StdMarks.xlsx', usecols = require_cols)\n",
    "\n",
    "print(required_df)\n"
   ]
  },
  {
   "cell_type": "code",
   "execution_count": 21,
   "id": "275144ea",
   "metadata": {},
   "outputs": [
    {
     "name": "stdout",
     "output_type": "stream",
     "text": [
      "   1  Pranay     MCS  77\n",
      "0  2   Ayush  M.Tech  80\n",
      "1  3  Ritika     MCA  98\n"
     ]
    }
   ],
   "source": [
    "# import pandas lib as pd\n",
    "import pandas as pd\n",
    "\n",
    "# read 2nd sheet of an excel file after\n",
    "# skipping starting two rows\n",
    "df = pd.read_excel('C:/Users/Pranay/Azure Training-Biz/StdMarks.xlsx', sheet_name = 'StdMarks', skiprows = 2)\n",
    "\n",
    "print(df)\n"
   ]
  },
  {
   "cell_type": "code",
   "execution_count": 23,
   "id": "8c001cd0",
   "metadata": {},
   "outputs": [
    {
     "name": "stdout",
     "output_type": "stream",
     "text": [
      "   1  Pranay     MCS  77\n",
      "0  2   Ayush  M.Tech  80\n",
      "1  3  Ritika     MCA  98\n"
     ]
    }
   ],
   "source": [
    "# import pandas lib as pd\n",
    "import pandas as pd\n",
    "\n",
    "# setting the 3rd row as header.\n",
    "df = pd.read_excel('C:/Users/Pranay/Azure Training-Biz/StdMarks.xlsx', sheet_name = 'StdMarks', header = 2)\n",
    "\n",
    "print(df)\n"
   ]
  },
  {
   "cell_type": "code",
   "execution_count": null,
   "id": "a78968bc",
   "metadata": {},
   "outputs": [],
   "source": []
  }
 ],
 "metadata": {
  "kernelspec": {
   "display_name": "Python 3 (ipykernel)",
   "language": "python",
   "name": "python3"
  },
  "language_info": {
   "codemirror_mode": {
    "name": "ipython",
    "version": 3
   },
   "file_extension": ".py",
   "mimetype": "text/x-python",
   "name": "python",
   "nbconvert_exporter": "python",
   "pygments_lexer": "ipython3",
   "version": "3.9.7"
  }
 },
 "nbformat": 4,
 "nbformat_minor": 5
}
