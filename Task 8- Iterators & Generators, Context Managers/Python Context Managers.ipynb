{
 "cells": [
  {
   "cell_type": "code",
   "execution_count": 3,
   "id": "8547fd0c",
   "metadata": {},
   "outputs": [],
   "source": [
    "with open('file.txt', 'r') as f:\n",
    "    contents = f.read()"
   ]
  },
  {
   "cell_type": "markdown",
   "id": "13f389eb",
   "metadata": {},
   "source": [
    "In this code snippet, the with statement creates a context where the file file.txt is opened. After the operations within the block are completed, the file is automatically closed, even if an error occurs. This is the beauty of context managers."
   ]
  },
  {
   "cell_type": "markdown",
   "id": "c5c0f811",
   "metadata": {},
   "source": [
    "## Managing Resources in Python"
   ]
  },
  {
   "cell_type": "code",
   "execution_count": null,
   "id": "a39f5da6",
   "metadata": {},
   "outputs": [],
   "source": [
    "#open() to write text to a file."
   ]
  },
  {
   "cell_type": "code",
   "execution_count": 4,
   "id": "2a92e666",
   "metadata": {},
   "outputs": [],
   "source": [
    "file = open(\"demo.txt\", \"w\")\n",
    "file.write(\"Possible, exception might occur!\")\n",
    "file.close()"
   ]
  },
  {
   "cell_type": "code",
   "execution_count": 1,
   "id": "7c3913fb",
   "metadata": {},
   "outputs": [],
   "source": [
    "class CustomLogger:\n",
    "    def __enter__(self):\n",
    "        self.log_file = open(\"log.txt\", \"w\")\n",
    "        return self\n",
    "\n",
    "    def write_log(self, log_message):\n",
    "        self.log_file.write(log_message + \"\\n\")\n",
    "\n",
    "    def __exit__(self, exc_type, exc_val, exc_tb):\n",
    "        if exc_type:\n",
    "            self.write_log(f\"An exception of type {exc_type} occurred.\")\n",
    "        self.log_file.close()"
   ]
  },
  {
   "cell_type": "markdown",
   "id": "28f0411d",
   "metadata": {},
   "source": [
    "In this example, the CustomLogger class is a context manager that opens a log file when entering the context and closes the file when exiting. You can write messages to the log file using the write_log method.\n",
    "\n",
    "If an exception occurs within the with block, it logs the exception type before closing the file."
   ]
  },
  {
   "cell_type": "markdown",
   "id": "8ba4ecc0",
   "metadata": {},
   "source": [
    "Here’s how you’d use this custom context manager:"
   ]
  },
  {
   "cell_type": "code",
   "execution_count": 2,
   "id": "c9dc9009",
   "metadata": {},
   "outputs": [],
   "source": [
    "with CustomLogger() as logger:\n",
    "    logger.write_log(\"This is a log message.\")\n",
    "    # any other code"
   ]
  },
  {
   "cell_type": "markdown",
   "id": "6768d8f0",
   "metadata": {},
   "source": [
    "In this code, the __enter__ method is called, opening the log file. The write_log method is used to write a message to the file. Finally, the __exit__ method is called when the with block is exited, closing the log file. If an exception had occurred within the with block, the exception type would have been logged before closing the file.\n",
    "\n",
    "This custom context manager ensures that the log file is always closed properly, even if an error occurs, and provides a simple, reusable way to manage logging operations."
   ]
  },
  {
   "cell_type": "markdown",
   "id": "abe26e26",
   "metadata": {},
   "source": [
    "## Custom timer context manager:"
   ]
  },
  {
   "cell_type": "code",
   "execution_count": 3,
   "id": "149fbcdf",
   "metadata": {},
   "outputs": [
    {
     "name": "stdout",
     "output_type": "stream",
     "text": [
      "Block took 0.028693437576293945 seconds to execute.\n"
     ]
    }
   ],
   "source": [
    "import time\n",
    "\n",
    "class Timer:\n",
    "    def __enter__(self):\n",
    "        self.start = time.time()\n",
    "        return self\n",
    "\n",
    "    def __exit__(self, exc_type, exc_val, exc_tb):\n",
    "        self.end = time.time()\n",
    "        print(f\"Block took {self.end - self.start} seconds to execute.\")\n",
    "\n",
    "# Usage:\n",
    "\n",
    "with Timer():\n",
    "    for i in range(1000000):\n",
    "        pass"
   ]
  },
  {
   "cell_type": "markdown",
   "id": "f0f35833",
   "metadata": {},
   "source": [
    "In this example, the Timer class is our custom context manager. When we enter the with block, the __enter__ method is called and it records the current time.\n",
    "\n",
    "When we exit the with block, the __exit__ method is called, it re-records the current time, and then prints the difference between the end and start times. This difference is how long it took to execute the block of code inside the with statement.\n",
    "\n",
    "Even if an exception occurs within the with block, the __exit__ method will still be called, ensuring we always get a timing for our code block. This is a simple example of how you can create a custom context manager to handle a common task clean and reusable way."
   ]
  },
  {
   "cell_type": "markdown",
   "id": "8c6e3eb3",
   "metadata": {},
   "source": [
    "## Temporary directory context manager:"
   ]
  },
  {
   "cell_type": "code",
   "execution_count": 4,
   "id": "2f686f15",
   "metadata": {},
   "outputs": [
    {
     "name": "stdout",
     "output_type": "stream",
     "text": [
      "Doing work in C:\\Users\\Pranay\\AppData\\Local\\Temp\\tmp31x8sjwg\n"
     ]
    }
   ],
   "source": [
    "import os\n",
    "import tempfile\n",
    "import shutil\n",
    "\n",
    "class TempDirectory:\n",
    "    def __enter__(self):\n",
    "        self.temp_dir = tempfile.mkdtemp()\n",
    "        return self.temp_dir  # This value will be assigned to the variable after 'as'\n",
    "\n",
    "    def __exit__(self, exc_type, exc_val, exc_tb):\n",
    "        shutil.rmtree(self.temp_dir)\n",
    "\n",
    "# Usage:\n",
    "\n",
    "with TempDirectory() as temp_dir:\n",
    "    # Inside this block, temp_dir is a path to a temporary directory\n",
    "    print(f\"Doing work in {temp_dir}\")\n",
    "    # You can create files and directories inside temp_dir, and they will be cleaned up automatically\n"
   ]
  },
  {
   "cell_type": "markdown",
   "id": "18bd22ab",
   "metadata": {},
   "source": [
    "In this example, TempDirectory is our custom context manager. When we enter the with block, the __enter__ method is called, creating a new temporary directory. The path to this directory is returned and assigned to the variable temp_dir.\n",
    "\n",
    "You can then use temp_dir within the with block to create files and directories for temporary use.\n",
    "\n",
    "When we exit the with block, the __exit__ method removes the temporary directory and all its contents, even if an error occurred.\n",
    "\n",
    "This is a valuable way to ensure that temporary files and directories are always cleaned up properly, preventing disk space leaks in your program."
   ]
  },
  {
   "cell_type": "markdown",
   "id": "1f1a08be",
   "metadata": {},
   "source": [
    "## The @contextlib.contextmanager Decorator"
   ]
  },
  {
   "cell_type": "code",
   "execution_count": 5,
   "id": "e2104aba",
   "metadata": {},
   "outputs": [
    {
     "name": "stdout",
     "output_type": "stream",
     "text": [
      "Block took 0.03494572639465332 seconds to execute.\n"
     ]
    }
   ],
   "source": [
    "import time\n",
    "import contextlib\n",
    "\n",
    "@contextlib.contextmanager\n",
    "def timer():\n",
    "    start = time.time()\n",
    "    yield\n",
    "    end = time.time()\n",
    "    print(f\"Block took {end - start} seconds to execute.\")\n",
    "\n",
    "# Usage:\n",
    "with timer():\n",
    "    for _ in range(1000000):\n",
    "        pass"
   ]
  },
  {
   "cell_type": "markdown",
   "id": "43bc6ade",
   "metadata": {},
   "source": [
    "Here’s the Custom timer context manager example implemented using @contextlib.contextmanager. In this example, the timer function is a context manager that records the start time, yields control back to the with block, and then, once the block is exited, records the end time and prints the elapsed time.\n",
    "\n",
    "This is functionally equivalent to the class-based Timer context manager we defined earlier but is achieved with less code and a simpler structure thanks to the @contextlib.contextmanager decorator."
   ]
  },
  {
   "cell_type": "markdown",
   "id": "49e7668a",
   "metadata": {},
   "source": [
    "### Advantages\n",
    "Simplicity: Using @contextlib.contextmanager allows you to create a context manager with less boilerplate code than defining a class with __enter__ and __exit__ methods.\n",
    "Readability: Since it uses a single function, the @contextlib.contextmanager approach can be more readable and intuitive, especially for Python developers familiar with decorators and generators.\n",
    "### Disadvantages\n",
    "State Management: For more complex context managers that need to maintain and manage their own state, using a class can be a more suitable choice. The @contextlib.contextmanager approach may not be as clean or intuitive for these scenarios.\n",
    "Error Handling: The __exit__ method in a class-based context manager can suppress exceptions by returning a truthy value. This is not directly possible in a context manager created using @contextlib.contextmanager. Instead, you'll need to catch and handle exceptions within the generator function.\n",
    "The @contextlib.contextmanager decorator is a powerful tool for creating simple and readable context managers. For more complex use cases, a class-based approach might be more suitable."
   ]
  },
  {
   "cell_type": "code",
   "execution_count": 6,
   "id": "ba9009b5",
   "metadata": {},
   "outputs": [],
   "source": [
    "with open('hello.txt', 'w') as hello_file, \\\n",
    "     open('world.txt', 'w') as world_file:\n",
    "    hello_file.write('Hello, ')\n",
    "    world_file.write('World!')"
   ]
  },
  {
   "cell_type": "code",
   "execution_count": null,
   "id": "9b7415e4",
   "metadata": {},
   "outputs": [],
   "source": []
  }
 ],
 "metadata": {
  "kernelspec": {
   "display_name": "Python 3 (ipykernel)",
   "language": "python",
   "name": "python3"
  },
  "language_info": {
   "codemirror_mode": {
    "name": "ipython",
    "version": 3
   },
   "file_extension": ".py",
   "mimetype": "text/x-python",
   "name": "python",
   "nbconvert_exporter": "python",
   "pygments_lexer": "ipython3",
   "version": "3.10.9"
  }
 },
 "nbformat": 4,
 "nbformat_minor": 5
}
