{
 "cells": [
  {
   "cell_type": "markdown",
   "id": "ee5b7583",
   "metadata": {},
   "source": [
    "# Docstrings:\n",
    "Python documentation strings (or docstrings) provide a convenient way of associating documentation with Python modules, functions, classes, and methods.\n",
    "\n",
    "It’s specified in source code that is used, like a comment, to document a specific segment of code. Unlike conventional source code comments, the docstring should describe what the function does, not how."
   ]
  },
  {
   "cell_type": "markdown",
   "id": "c847a12d",
   "metadata": {},
   "source": [
    "##### What should a docstring look like?\n",
    "\n",
    "The doc string line should begin with a capital letter and end with a period.\n",
    "\n",
    "The first line should be a short description.\n",
    "\n",
    "If there are more lines in the documentation string, the second line should be blank, visually separating the summary from the rest of the description.\n",
    "\n",
    "The following lines should be one or more paragraphs describing the object’s calling conventions, its side effects, etc."
   ]
  },
  {
   "cell_type": "markdown",
   "id": "25068ed7",
   "metadata": {},
   "source": [
    "## Accessing Docstrings: \n",
    "The docstrings can be accessed using the __doc__ method of the object or using the help function.\n",
    "The below examples demonstrates how to declare and access a docstring."
   ]
  },
  {
   "cell_type": "code",
   "execution_count": 2,
   "id": "1ef371c8",
   "metadata": {},
   "outputs": [
    {
     "name": "stdout",
     "output_type": "stream",
     "text": [
      "Using __doc__:\n",
      "Demonstrates triple double quotes\n",
      "\tdocstrings and does nothing really.\n",
      "Using help:\n",
      "Help on function my_function in module __main__:\n",
      "\n",
      "my_function()\n",
      "    Demonstrates triple double quotes\n",
      "    docstrings and does nothing really.\n",
      "\n"
     ]
    }
   ],
   "source": [
    "#Example 1: Using triple single quotes\n",
    "def my_function():\n",
    "\t'''Demonstrates triple double quotes\n",
    "\tdocstrings and does nothing really.'''\n",
    "\n",
    "\treturn None\n",
    "\n",
    "print(\"Using __doc__:\")\n",
    "print(my_function.__doc__)\n",
    "\n",
    "print(\"Using help:\")\n",
    "help(my_function)\n"
   ]
  },
  {
   "cell_type": "code",
   "execution_count": 3,
   "id": "030b0f2c",
   "metadata": {},
   "outputs": [
    {
     "name": "stdout",
     "output_type": "stream",
     "text": [
      "Using __doc__:\n",
      "Demonstrates triple double quotes\n",
      "\tdocstrings and does nothing really.\n",
      "Using help:\n",
      "Help on function my_function in module __main__:\n",
      "\n",
      "my_function()\n",
      "    Demonstrates triple double quotes\n",
      "    docstrings and does nothing really.\n",
      "\n"
     ]
    }
   ],
   "source": [
    "#Example 2: Using triple double quotes\n",
    "def my_function():\n",
    "\t\"\"\"Demonstrates triple double quotes\n",
    "\tdocstrings and does nothing really.\"\"\"\n",
    "\n",
    "\treturn None\n",
    "\n",
    "print(\"Using __doc__:\")\n",
    "print(my_function.__doc__)\n",
    "\n",
    "print(\"Using help:\")\n",
    "help(my_function)\n"
   ]
  },
  {
   "cell_type": "markdown",
   "id": "f6253ed5",
   "metadata": {},
   "source": [
    "## One-line Docstrings"
   ]
  },
  {
   "cell_type": "code",
   "execution_count": 4,
   "id": "ddb236da",
   "metadata": {},
   "outputs": [
    {
     "name": "stdout",
     "output_type": "stream",
     "text": [
      "Returns arg1 raised to power arg2.\n"
     ]
    }
   ],
   "source": [
    "def power(a, b):\n",
    "\t\"\"\"Returns arg1 raised to power arg2.\"\"\"\n",
    "\n",
    "\treturn a**b\n",
    "\n",
    "print(power.__doc__)"
   ]
  },
  {
   "cell_type": "markdown",
   "id": "aee7bb7a",
   "metadata": {},
   "source": [
    "## Multi-line Docstrings\n",
    "Multi-line docstrings consist of a summary line just like a one-line docstring, followed by a blank line, followed by a more elaborate description. The summary line may be on the same line as the opening quotes or on the next line."
   ]
  },
  {
   "cell_type": "code",
   "execution_count": 5,
   "id": "a6f26889",
   "metadata": {},
   "outputs": [
    {
     "name": "stdout",
     "output_type": "stream",
     "text": [
      "\n",
      "\tSummary line.\n",
      "\n",
      "\tExtended description of function.\n",
      "\n",
      "\tParameters:\n",
      "\targ1 (int): Description of arg1\n",
      "\n",
      "\tReturns:\n",
      "\tint: Description of return value\n",
      "\n",
      "\t\n"
     ]
    }
   ],
   "source": [
    "def my_function(arg1):\n",
    "\t\"\"\"\n",
    "\tSummary line.\n",
    "\n",
    "\tExtended description of function.\n",
    "\n",
    "\tParameters:\n",
    "\targ1 (int): Description of arg1\n",
    "\n",
    "\tReturns:\n",
    "\tint: Description of return value\n",
    "\n",
    "\t\"\"\"\n",
    "\n",
    "\treturn arg1\n",
    "\n",
    "print(my_function.__doc__)\n"
   ]
  },
  {
   "cell_type": "markdown",
   "id": "61dfae83",
   "metadata": {},
   "source": [
    "## Docstrings in Classes"
   ]
  },
  {
   "cell_type": "code",
   "execution_count": 6,
   "id": "0597b799",
   "metadata": {},
   "outputs": [
    {
     "name": "stdout",
     "output_type": "stream",
     "text": [
      "Help on class ComplexNumber in module __main__:\n",
      "\n",
      "class ComplexNumber(builtins.object)\n",
      " |  ComplexNumber(real, imag)\n",
      " |  \n",
      " |  This is a class for mathematical operations on complex numbers.\n",
      " |  \n",
      " |  Attributes:\n",
      " |          real (int): The real part of complex number.\n",
      " |          imag (int): The imaginary part of complex number.\n",
      " |  \n",
      " |  Methods defined here:\n",
      " |  \n",
      " |  __init__(self, real, imag)\n",
      " |      The constructor for ComplexNumber class.\n",
      " |      \n",
      " |      Parameters:\n",
      " |      real (int): The real part of complex number.\n",
      " |      imag (int): The imaginary part of complex number.\n",
      " |  \n",
      " |  add(self, num)\n",
      " |      The function to add two Complex Numbers.\n",
      " |      \n",
      " |      Parameters:\n",
      " |              num (ComplexNumber): The complex number to be added.\n",
      " |      \n",
      " |      Returns:\n",
      " |              ComplexNumber: A complex number which contains the sum.\n",
      " |  \n",
      " |  ----------------------------------------------------------------------\n",
      " |  Data descriptors defined here:\n",
      " |  \n",
      " |  __dict__\n",
      " |      dictionary for instance variables (if defined)\n",
      " |  \n",
      " |  __weakref__\n",
      " |      list of weak references to the object (if defined)\n",
      "\n",
      "Help on function add in module __main__:\n",
      "\n",
      "add(self, num)\n",
      "    The function to add two Complex Numbers.\n",
      "    \n",
      "    Parameters:\n",
      "            num (ComplexNumber): The complex number to be added.\n",
      "    \n",
      "    Returns:\n",
      "            ComplexNumber: A complex number which contains the sum.\n",
      "\n"
     ]
    }
   ],
   "source": [
    "class ComplexNumber:\n",
    "\t\"\"\"\n",
    "\tThis is a class for mathematical operations on complex numbers.\n",
    "\t\n",
    "\tAttributes:\n",
    "\t\treal (int): The real part of complex number.\n",
    "\t\timag (int): The imaginary part of complex number.\n",
    "\t\"\"\"\n",
    "\n",
    "\tdef __init__(self, real, imag):\n",
    "\t\t\"\"\"\n",
    "\t\tThe constructor for ComplexNumber class.\n",
    "\n",
    "\t\tParameters:\n",
    "\t\treal (int): The real part of complex number.\n",
    "\t\timag (int): The imaginary part of complex number.\n",
    "\t\t\"\"\"\n",
    "\n",
    "\tdef add(self, num):\n",
    "\t\t\"\"\"\n",
    "\t\tThe function to add two Complex Numbers.\n",
    "\n",
    "\t\tParameters:\n",
    "\t\t\tnum (ComplexNumber): The complex number to be added.\n",
    "\t\t\n",
    "\t\tReturns:\n",
    "\t\t\tComplexNumber: A complex number which contains the sum.\n",
    "\t\t\"\"\"\n",
    "\n",
    "\t\tre = self.real + num.real\n",
    "\t\tim = self.imag + num.imag\n",
    "\n",
    "\t\treturn ComplexNumber(re, im)\n",
    "\n",
    "help(ComplexNumber) # to access Class docstring\n",
    "help(ComplexNumber.add) # to access method's docstring\n"
   ]
  },
  {
   "cell_type": "code",
   "execution_count": null,
   "id": "6f332e1b",
   "metadata": {},
   "outputs": [],
   "source": []
  }
 ],
 "metadata": {
  "kernelspec": {
   "display_name": "Python 3 (ipykernel)",
   "language": "python",
   "name": "python3"
  },
  "language_info": {
   "codemirror_mode": {
    "name": "ipython",
    "version": 3
   },
   "file_extension": ".py",
   "mimetype": "text/x-python",
   "name": "python",
   "nbconvert_exporter": "python",
   "pygments_lexer": "ipython3",
   "version": "3.10.9"
  }
 },
 "nbformat": 4,
 "nbformat_minor": 5
}
