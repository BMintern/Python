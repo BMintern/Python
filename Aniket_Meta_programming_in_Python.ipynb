{
  "nbformat": 4,
  "nbformat_minor": 0,
  "metadata": {
    "colab": {
      "provenance": []
    },
    "kernelspec": {
      "name": "python3",
      "display_name": "Python 3"
    },
    "language_info": {
      "name": "python"
    }
  },
  "cells": [
    {
      "cell_type": "markdown",
      "source": [
        "Uppercase Decorator"
      ],
      "metadata": {
        "id": "_xcybvLu7_mY"
      }
    },
    {
      "cell_type": "code",
      "execution_count": 1,
      "metadata": {
        "colab": {
          "base_uri": "https://localhost:8080/"
        },
        "id": "7k9qGJ7q7vH2",
        "outputId": "60cd7e9b-7b19-41ad-d834-26e856fce1af"
      },
      "outputs": [
        {
          "output_type": "stream",
          "name": "stdout",
          "text": [
            "HELLO\n"
          ]
        }
      ],
      "source": [
        "def uppercase(func):\n",
        "    def wrapper():\n",
        "        result = func()\n",
        "        return result.upper()\n",
        "    return wrapper\n",
        "\n",
        "@uppercase\n",
        "def greet():\n",
        "    return \"hello\"\n",
        "\n",
        "print(greet())"
      ]
    },
    {
      "cell_type": "markdown",
      "source": [
        "Timer Decorator"
      ],
      "metadata": {
        "id": "lg81aGnV8Cqw"
      }
    },
    {
      "cell_type": "code",
      "source": [
        "import time\n",
        "\n",
        "def timer(func):\n",
        "    def wrapper():\n",
        "        start_time = time.time()\n",
        "        result = func()\n",
        "        end_time = time.time()\n",
        "        print(f\"Execution time: {end_time - start_time:.6f} seconds\")\n",
        "        return result\n",
        "    return wrapper\n",
        "\n",
        "@timer\n",
        "def count():\n",
        "    for i in range(1, 1000000):\n",
        "        pass\n",
        "\n",
        "count()"
      ],
      "metadata": {
        "colab": {
          "base_uri": "https://localhost:8080/"
        },
        "id": "UAeiT1Nb7w2Q",
        "outputId": "1f995371-4786-4cee-abde-9816865decaa"
      },
      "execution_count": 2,
      "outputs": [
        {
          "output_type": "stream",
          "name": "stdout",
          "text": [
            "Execution time: 0.108767 seconds\n"
          ]
        }
      ]
    },
    {
      "cell_type": "markdown",
      "source": [
        "Meta classes: Shaping the Essence of Classe"
      ],
      "metadata": {
        "id": "5OMIfVBt8IQf"
      }
    },
    {
      "cell_type": "code",
      "source": [
        "class MyMeta(type):\n",
        "    def __new__(mcls, name, bases, attrs):\n",
        "        print(f\"Creating class: {name}\")\n",
        "        return super().__new__(mcls, name, bases, attrs)\n",
        "\n",
        "class MyClass(metaclass=MyMeta):\n",
        "    pass"
      ],
      "metadata": {
        "colab": {
          "base_uri": "https://localhost:8080/"
        },
        "id": "g_hfAhwG71Kg",
        "outputId": "b56ba0f8-206d-401b-aafa-b77dcd0bac0f"
      },
      "execution_count": 3,
      "outputs": [
        {
          "output_type": "stream",
          "name": "stdout",
          "text": [
            "Creating class: MyClass\n"
          ]
        }
      ]
    },
    {
      "cell_type": "markdown",
      "source": [
        "Code Generation: Crafting Code That Writes Code"
      ],
      "metadata": {
        "id": "o3XOTb7S8LgH"
      }
    },
    {
      "cell_type": "code",
      "source": [
        "function_name = \"add\"\n",
        "a = 5\n",
        "b = 10\n",
        "\n",
        "code = f\"\"\"\n",
        "def {function_name}(a, b):\n",
        "    return a + b\n",
        "\n",
        "result = {function_name}({a}, {b})\n",
        "print(result)\n",
        "\"\"\"\n",
        "\n",
        "exec(code)"
      ],
      "metadata": {
        "colab": {
          "base_uri": "https://localhost:8080/"
        },
        "id": "h8iSf3Tc74bp",
        "outputId": "89fb9679-c576-4437-f307-4203029edf00"
      },
      "execution_count": 4,
      "outputs": [
        {
          "output_type": "stream",
          "name": "stdout",
          "text": [
            "15\n"
          ]
        }
      ]
    },
    {
      "cell_type": "code",
      "source": [],
      "metadata": {
        "id": "i2cqN-ZA77OB"
      },
      "execution_count": null,
      "outputs": []
    }
  ]
}